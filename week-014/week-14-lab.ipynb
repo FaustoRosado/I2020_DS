{
 "cells": [
  {
   "cell_type": "markdown",
   "metadata": {},
   "source": [
    "<div style=\"background: #000;\n",
    "            color: #FFF;\n",
    "            margin: 0px;\n",
    "                padding: 10px 0px 20px 0px;\n",
    "            text-align: center; \n",
    "                \">\n",
    "    <h1 style=\"padding: 2220px 210px -30px 0px;\">Week 14 Lab</h1>\n",
    "</div>"
   ]
  },
  {
   "cell_type": "code",
   "execution_count": 2,
   "metadata": {},
   "outputs": [],
   "source": [
    "# imports\n",
    "\n",
    "import numpy as np"
   ]
  },
  {
   "cell_type": "markdown",
   "metadata": {},
   "source": [
    "## Exercise 1\n",
    "\n",
    "Create the following numpy arrays:\n",
    "    \n",
    "a) An array using the following lists (make it interesting if you can)"
   ]
  },
  {
   "cell_type": "code",
   "execution_count": 4,
   "metadata": {},
   "outputs": [
    {
     "name": "stdout",
     "output_type": "stream",
     "text": [
      "[0 0 0 0 0]\n",
      "[1 2 3 4 5]\n"
     ]
    },
    {
     "data": {
      "text/plain": [
       "array([0, 0, 0, 0, 0, 1, 2, 3, 4, 5])"
      ]
     },
     "execution_count": 4,
     "metadata": {},
     "output_type": "execute_result"
    }
   ],
   "source": [
    "l = [0,0,0,0,0] \n",
    "m = [1,2,3,4,5]\n",
    "\n",
    "print(np.array(l))\n",
    "\n",
    "print(np.array(m))\n",
    "\n",
    "o = np.array(l)\n",
    "p = np.array(m)\n",
    "\n",
    "q = np.concatenate((l,m))\n",
    "q\n",
    "\n",
    "\n",
    "\n",
    "\n"
   ]
  },
  {
   "cell_type": "markdown",
   "metadata": {},
   "source": [
    "b) A 3 x 4 matrix of zeros: "
   ]
  },
  {
   "cell_type": "code",
   "execution_count": 5,
   "metadata": {},
   "outputs": [
    {
     "data": {
      "text/plain": [
       "array([[0., 0., 0., 0.],\n",
       "       [0., 0., 0., 0.],\n",
       "       [0., 0., 0., 0.]])"
      ]
     },
     "execution_count": 5,
     "metadata": {},
     "output_type": "execute_result"
    }
   ],
   "source": [
    "np.zeros((3,4))"
   ]
  },
  {
   "cell_type": "markdown",
   "metadata": {},
   "source": [
    "c) A 2 x 4 matrix of zeros and ones of the following format:\n",
    "\n",
    "[[0,0,1,1], [0,0,1,1]]\n",
    "\n",
    "(try without using python lists)"
   ]
  },
  {
   "cell_type": "code",
   "execution_count": 42,
   "metadata": {},
   "outputs": [
    {
     "name": "stdout",
     "output_type": "stream",
     "text": [
      "[[0. 0. 1. 1.]\n",
      " [0. 0. 1. 1.]]\n"
     ]
    }
   ],
   "source": [
    "x = np.zeros((2,4))\n",
    "x[:2, 2:] = 1\n",
    "x[1::2, 2:] = 1\n",
    "print(x)"
   ]
  },
  {
   "cell_type": "markdown",
   "metadata": {},
   "source": [
    "e) A 3 x 4 array from the following numpy array (do not change the already existing code):"
   ]
  },
  {
   "cell_type": "code",
   "execution_count": 7,
   "metadata": {},
   "outputs": [
    {
     "data": {
      "text/plain": [
       "array([[ 0,  1,  2,  3],\n",
       "       [ 4,  5,  6,  7],\n",
       "       [ 8,  9, 10, 11]])"
      ]
     },
     "execution_count": 7,
     "metadata": {},
     "output_type": "execute_result"
    }
   ],
   "source": [
    "r = np.arange(0,12).reshape(3,4)\n",
    "# enter your code below\n",
    "r"
   ]
  },
  {
   "cell_type": "markdown",
   "metadata": {},
   "source": [
    "f) A 1 x 13 array from the following array\n",
    "\n",
    "look into the `resize` method"
   ]
  },
  {
   "cell_type": "code",
   "execution_count": 48,
   "metadata": {},
   "outputs": [
    {
     "data": {
      "text/plain": [
       "array([[2.e+000, 2.e+000, 4.e-323, 0.e+000, 0.e+000, 0.e+000, 0.e+000,\n",
       "        0.e+000, 0.e+000, 0.e+000, 0.e+000, 0.e+000, 0.e+000]])"
      ]
     },
     "execution_count": 48,
     "metadata": {},
     "output_type": "execute_result"
    }
   ],
   "source": [
    "n = np.empty(shape=(2,6))\n",
    "### enter your code below\n",
    "n.resize(1,13)\n",
    "n\n",
    "\n"
   ]
  },
  {
   "cell_type": "markdown",
   "metadata": {},
   "source": [
    ") using the following array, create an array that consists of the same numbers but squared and in order from smallest to largest"
   ]
  },
  {
   "cell_type": "code",
   "execution_count": 52,
   "metadata": {},
   "outputs": [
    {
     "data": {
      "text/plain": [
       "array([  0,   1,   1,   4,   9,   9,   9,  16,  25,  25,  36,  36,  36,\n",
       "        36,  49,  64,  64,  81,  81, 100])"
      ]
     },
     "execution_count": 52,
     "metadata": {},
     "output_type": "execute_result"
    }
   ],
   "source": [
    "n = np.array([7, 6, 9, 5, 8, 9, 6, 10, 3, 4, 3, 3, 1, 2, 5, 8, 6, 1, 6, 0])\n",
    "### enter your code below\n",
    "z = np.sort(n)**2\n",
    "z\n",
    "\n"
   ]
  },
  {
   "cell_type": "markdown",
   "metadata": {},
   "source": [
    "## Exercise 2\n",
    "\n",
    "Produce  the array as asked\n",
    "\n",
    "a) Create a 3x3x3 array with the numbers from 1, 27. Then slice it to produce the 3x3 array in the middle."
   ]
  },
  {
   "cell_type": "code",
   "execution_count": 10,
   "metadata": {},
   "outputs": [
    {
     "data": {
      "text/plain": [
       "array([[10, 11, 12],\n",
       "       [13, 14, 15],\n",
       "       [16, 17, 18]])"
      ]
     },
     "execution_count": 10,
     "metadata": {},
     "output_type": "execute_result"
    }
   ],
   "source": [
    "a = np.arange(1,28)\n",
    "a.resize(3,3,3)\n",
    "a[1,:,:]\n"
   ]
  },
  {
   "cell_type": "markdown",
   "metadata": {},
   "source": [
    "b) Create a 3 x 3 array of random numbers. Then slice it to produce the numbers in the 2-index column."
   ]
  },
  {
   "cell_type": "code",
   "execution_count": 21,
   "metadata": {},
   "outputs": [
    {
     "name": "stdout",
     "output_type": "stream",
     "text": [
      "[[0.63696169 0.26978671 0.04097352]\n",
      " [0.01652764 0.81327024 0.91275558]\n",
      " [0.60663578 0.72949656 0.54362499]]\n"
     ]
    },
    {
     "data": {
      "text/plain": [
       "array([[0.60663578, 0.72949656, 0.54362499]])"
      ]
     },
     "execution_count": 21,
     "metadata": {},
     "output_type": "execute_result"
    }
   ],
   "source": [
    "rng = np.random.default_rng(0)\n",
    "### enter your code below \n",
    "x = rng.random((3,3))\n",
    "print(x)\n",
    "x[2::]\n"
   ]
  },
  {
   "cell_type": "markdown",
   "metadata": {},
   "source": [
    "c) Create a 3x3x3 array of zeros. Slice a 2x2 array from it and change the values to 1s. Then output the original 3x3x3 with `0`'s and `1`s"
   ]
  },
  {
   "cell_type": "code",
   "execution_count": 27,
   "metadata": {},
   "outputs": [
    {
     "name": "stdout",
     "output_type": "stream",
     "text": [
      "[[[0. 0. 0.]\n",
      "  [0. 0. 0.]\n",
      "  [0. 0. 0.]]\n",
      "\n",
      " [[1. 1. 0.]\n",
      "  [1. 1. 0.]\n",
      "  [0. 0. 0.]]\n",
      "\n",
      " [[0. 0. 0.]\n",
      "  [0. 0. 0.]\n",
      "  [0. 0. 0.]]]\n"
     ]
    }
   ],
   "source": [
    "g = np.zeros((3,3,3))\n",
    "g\n",
    "h =  g[1, :2, :2]\n",
    "h\n",
    "h[::] = 1\n",
    "h\n",
    "print(g)"
   ]
  },
  {
   "cell_type": "markdown",
   "metadata": {},
   "source": [
    "d) Create an array of all the numbers from 1, 27 (inclusive). Then produce a slice that outputs only the even numbers less than 14."
   ]
  },
  {
   "cell_type": "code",
   "execution_count": 37,
   "metadata": {},
   "outputs": [
    {
     "name": "stdout",
     "output_type": "stream",
     "text": [
      "[ 1  2  3  4  5  6  7  8  9 10 11 12 13 14 15 16 17 18 19 20 21 22 23 24\n",
      " 25 26 27]\n"
     ]
    },
    {
     "data": {
      "text/plain": [
       "array([ 2,  4,  6,  8, 10, 12])"
      ]
     },
     "execution_count": 37,
     "metadata": {},
     "output_type": "execute_result"
    }
   ],
   "source": [
    "j = np.arange(1,28)\n",
    "print(j)\n",
    "\n",
    "j[(j<=12) & (j%2 ==0)]\n"
   ]
  },
  {
   "cell_type": "markdown",
   "metadata": {},
   "source": [
    "## Exercise 3\n",
    "\n",
    "a) Create an array of all postive integers from 1 to 100.    \n",
    "b) Reshape it into a 10 x 10 matrix  \n",
    "c) Remove multiples (so numbers that aren't prime  \n",
    "d) Output the prime numbers.  \n",
    "\n",
    "a)"
   ]
  },
  {
   "cell_type": "code",
   "execution_count": 107,
   "metadata": {},
   "outputs": [
    {
     "data": {
      "text/plain": [
       "array([  1,   2,   3,   4,   5,   6,   7,   8,   9,  10,  11,  12,  13,\n",
       "        14,  15,  16,  17,  18,  19,  20,  21,  22,  23,  24,  25,  26,\n",
       "        27,  28,  29,  30,  31,  32,  33,  34,  35,  36,  37,  38,  39,\n",
       "        40,  41,  42,  43,  44,  45,  46,  47,  48,  49,  50,  51,  52,\n",
       "        53,  54,  55,  56,  57,  58,  59,  60,  61,  62,  63,  64,  65,\n",
       "        66,  67,  68,  69,  70,  71,  72,  73,  74,  75,  76,  77,  78,\n",
       "        79,  80,  81,  82,  83,  84,  85,  86,  87,  88,  89,  90,  91,\n",
       "        92,  93,  94,  95,  96,  97,  98,  99, 100])"
      ]
     },
     "execution_count": 107,
     "metadata": {},
     "output_type": "execute_result"
    }
   ],
   "source": [
    "t = np.arange(1,101)\n",
    "t"
   ]
  },
  {
   "cell_type": "markdown",
   "metadata": {},
   "source": [
    "\n",
    "\n",
    "b) reshape it into a 10 x 10 matrix"
   ]
  },
  {
   "cell_type": "code",
   "execution_count": 108,
   "metadata": {},
   "outputs": [
    {
     "data": {
      "text/plain": [
       "array([[  1,   2,   3,   4,   5,   6,   7,   8,   9,  10],\n",
       "       [ 11,  12,  13,  14,  15,  16,  17,  18,  19,  20],\n",
       "       [ 21,  22,  23,  24,  25,  26,  27,  28,  29,  30],\n",
       "       [ 31,  32,  33,  34,  35,  36,  37,  38,  39,  40],\n",
       "       [ 41,  42,  43,  44,  45,  46,  47,  48,  49,  50],\n",
       "       [ 51,  52,  53,  54,  55,  56,  57,  58,  59,  60],\n",
       "       [ 61,  62,  63,  64,  65,  66,  67,  68,  69,  70],\n",
       "       [ 71,  72,  73,  74,  75,  76,  77,  78,  79,  80],\n",
       "       [ 81,  82,  83,  84,  85,  86,  87,  88,  89,  90],\n",
       "       [ 91,  92,  93,  94,  95,  96,  97,  98,  99, 100]])"
      ]
     },
     "execution_count": 108,
     "metadata": {},
     "output_type": "execute_result"
    }
   ],
   "source": [
    "u = t.reshape(10,10)\n",
    "u"
   ]
  },
  {
   "cell_type": "markdown",
   "metadata": {},
   "source": [
    "c) starting with 2 (until you get to sqrt(100) or 10), replace multiples of that number with 0\n",
    "\n",
    " 1 2 3 4 5 6 7 8 9 0\n",
    " 1 2 3 0 5 0 7 0 0 0\n",
    " \n",
    " 2 4 6 8 \n",
    " 3 6 \n",
    " \n",
    " an array with 0 and prime numbers\n",
    " \n",
    " sqrt(100) - all of factors, loop from 2-10"
   ]
  },
  {
   "cell_type": "code",
   "execution_count": 109,
   "metadata": {},
   "outputs": [
    {
     "data": {
      "text/plain": [
       "array([[ 1,  2,  3,  0,  5,  0,  7,  0,  0,  0],\n",
       "       [11,  0, 13,  0,  0,  0, 17,  0, 19,  0],\n",
       "       [ 0,  0, 23,  0,  0,  0,  0,  0, 29,  0],\n",
       "       [31,  0,  0,  0,  0,  0, 37,  0,  0,  0],\n",
       "       [41,  0, 43,  0,  0,  0, 47,  0,  0,  0],\n",
       "       [ 0,  0, 53,  0,  0,  0,  0,  0, 59,  0],\n",
       "       [61,  0,  0,  0,  0,  0, 67,  0,  0,  0],\n",
       "       [71,  0, 73,  0,  0,  0,  0,  0, 79,  0],\n",
       "       [ 0,  0, 83,  0,  0,  0,  0,  0, 89,  0],\n",
       "       [ 0,  0,  0,  0,  0,  0, 97,  0,  0,  0]])"
      ]
     },
     "execution_count": 109,
     "metadata": {},
     "output_type": "execute_result"
    }
   ],
   "source": [
    "u[(u!=2) & (-u%2==0)]=0\n",
    "u[(u!=3) & (-u%3==0)]=0\n",
    "u[(u!=5) & (-u%5==0)]=0\n",
    "u[(u!=7) & (-u%7==0)]=0\n",
    "u"
   ]
  },
  {
   "cell_type": "markdown",
   "metadata": {},
   "source": [
    "d) Using a slice, output your prime sieve containing all of the prime numbers less than 100 (be sure to exclude 1 from your slice)\n",
    "\n",
    "output array from c \n",
    "\n",
    "hint: the length of such slice should be `25`"
   ]
  },
  {
   "cell_type": "code",
   "execution_count": 110,
   "metadata": {},
   "outputs": [],
   "source": [
    "#a[(a < 6) & (a % n == 0) ], loop for each, n could be "
   ]
  },
  {
   "cell_type": "code",
   "execution_count": 111,
   "metadata": {},
   "outputs": [],
   "source": [
    "# nmax = int(np.sqrt(len(t)))\n",
    "# for i in range(2, nmax):\n",
    "#     t[2*i::i]\n",
    "    \n"
   ]
  },
  {
   "cell_type": "code",
   "execution_count": 112,
   "metadata": {},
   "outputs": [
    {
     "name": "stdout",
     "output_type": "stream",
     "text": [
      "25\n"
     ]
    },
    {
     "data": {
      "text/plain": [
       "array([ 2,  3,  5,  7, 11, 13, 17, 19, 23, 29, 31, 37, 41, 43, 47, 53, 59,\n",
       "       61, 67, 71, 73, 79, 83, 89, 97])"
      ]
     },
     "execution_count": 112,
     "metadata": {},
     "output_type": "execute_result"
    }
   ],
   "source": [
    "p = np.unique(u)[2:]\n",
    "print(len(p))\n",
    "p\n"
   ]
  },
  {
   "cell_type": "code",
   "execution_count": null,
   "metadata": {},
   "outputs": [],
   "source": []
  }
 ],
 "metadata": {
  "kernelspec": {
   "display_name": "Python 3",
   "language": "python",
   "name": "python3"
  },
  "language_info": {
   "codemirror_mode": {
    "name": "ipython",
    "version": 3
   },
   "file_extension": ".py",
   "mimetype": "text/x-python",
   "name": "python",
   "nbconvert_exporter": "python",
   "pygments_lexer": "ipython3",
   "version": "3.8.7"
  }
 },
 "nbformat": 4,
 "nbformat_minor": 4
}
