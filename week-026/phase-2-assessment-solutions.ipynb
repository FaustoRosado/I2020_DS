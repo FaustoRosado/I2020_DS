{
 "cells": [
  {
   "cell_type": "markdown",
<<<<<<< HEAD
=======
   "id": "adopted-fantasy",
>>>>>>> 9bcb85082bee3521929bbc33123fdb6b165afb33
   "metadata": {},
   "source": [
    "<div style=\"background: #000;\n",
    "            color: #FFF;\n",
    "            margin: 0px;\n",
    "            padding: 10px 0px 20px 0px;\n",
    "            text-align: center; \n",
    "                \">\n",
    "    <h1>Phase 2 Practice Assessment</h1>\n",
    "</div>"
   ]
  },
  {
   "cell_type": "markdown",
<<<<<<< HEAD
=======
   "id": "religious-magic",
>>>>>>> 9bcb85082bee3521929bbc33123fdb6b165afb33
   "metadata": {},
   "source": [
    "**Fill this out**\n",
    "\n",
    "name:"
   ]
  },
  {
   "cell_type": "code",
<<<<<<< HEAD
   "execution_count": 2,
=======
   "execution_count": null,
   "id": "grave-palestinian",
>>>>>>> 9bcb85082bee3521929bbc33123fdb6b165afb33
   "metadata": {},
   "outputs": [],
   "source": [
    "import pandas as pd\n",
    "import numpy as np\n",
    "import matplotlib.pyplot as plt\n",
    "import seaborn as sns"
   ]
  },
  {
   "cell_type": "markdown",
<<<<<<< HEAD
=======
   "id": "distant-seminar",
>>>>>>> 9bcb85082bee3521929bbc33123fdb6b165afb33
   "metadata": {},
   "source": [
    "# Multiple Choice Questions \n",
    "\n",
    "**[5% each; 25% total]**\n",
    "\n",
    "**1. If we dot multiplied the matrices below in the exact format they're in, what would the dimensions be?**\n",
    "\n",
    "$$ \\begin{bmatrix}\n",
    "a_1 & a_2 & a_3 \\\\\n",
    "b_1 & b_2 & b_3 \\\\\n",
    "\\end{bmatrix} \\cdot \\begin{bmatrix}\n",
    "a_1 & a_2 \\\\\n",
    "b_1 & b_2 \\\\\n",
    "c_1 & c_2 \\\\\n",
    "\\end{bmatrix}  $$\n",
    "\n",
    "**a.** 2x2.  \n",
    "**b.** 3x3.   \n",
    "**c.** 1x1.  \n",
    "**d.** 2x3."
   ]
  },
  {
   "cell_type": "raw",
<<<<<<< HEAD
=======
   "id": "solved-array",
>>>>>>> 9bcb85082bee3521929bbc33123fdb6b165afb33
   "metadata": {},
   "source": [
    "a"
   ]
  },
  {
   "cell_type": "markdown",
<<<<<<< HEAD
=======
   "id": "exciting-bride",
>>>>>>> 9bcb85082bee3521929bbc33123fdb6b165afb33
   "metadata": {},
   "source": [
    "**2. What would we use to calculate the total number of ways we can arrange 6 students in a queue.**\n",
    "\n",
    "**a.** Factorial alone.  \n",
    "**b.** Permutation formula  \n",
    "**c.** Combination formula  \n",
    "**d.** Probability Mass Function    "
   ]
  },
  {
   "cell_type": "raw",
<<<<<<< HEAD
=======
   "id": "chicken-behavior",
>>>>>>> 9bcb85082bee3521929bbc33123fdb6b165afb33
   "metadata": {},
   "source": [
    "a - bad question"
   ]
  },
  {
   "cell_type": "markdown",
<<<<<<< HEAD
=======
   "id": "accurate-blast",
>>>>>>> 9bcb85082bee3521929bbc33123fdb6b165afb33
   "metadata": {},
   "source": [
    "**3. Say we had two events: A and B. If we knew that event B had occurred, what would we use to find out what the probability was that A will also occur?**\n",
    "\n",
    "**a.** $P(A \\cup B)$.  \n",
    "**b.** $P(B \\cap A)$.    \n",
    "**c.** $P(B) + P(A)$.   \n",
    "**d.** $P(A|B)$.  "
   ]
  },
  {
   "cell_type": "raw",
<<<<<<< HEAD
=======
   "id": "capital-chase",
>>>>>>> 9bcb85082bee3521929bbc33123fdb6b165afb33
   "metadata": {},
   "source": [
    "d"
   ]
  },
  {
   "cell_type": "markdown",
<<<<<<< HEAD
=======
   "id": "impaired-position",
>>>>>>> 9bcb85082bee3521929bbc33123fdb6b165afb33
   "metadata": {},
   "source": [
    "**4. Based on the following code, what is `Dumpy`?**\n",
    "\n",
    "```python\n",
    "from typing import List\n",
    "from our_personal_typing_library import Dumpy\n",
    "\n",
    "def func(s: List, d: Dumpy) -> float:\n",
    "    for i in s:\n",
    "        d.add(i)\n",
    "    mu = d.mean()\n",
    "    return mu\n",
    "    \n",
    "func([0,0,0,4,5]) #outputs 4.5\n",
    "```\n",
    "\n",
    "\n",
    "**a.** A list of 5 values.    \n",
    "**b.** A queue that holds two values.  \n",
    "**c.** A stack that holds up to five values.  \n",
    "**d.** A dictionary.  "
   ]
  },
  {
   "cell_type": "raw",
<<<<<<< HEAD
=======
   "id": "noted-suffering",
>>>>>>> 9bcb85082bee3521929bbc33123fdb6b165afb33
   "metadata": {},
   "source": [
    "b"
   ]
  },
  {
   "cell_type": "markdown",
<<<<<<< HEAD
=======
   "id": "dedicated-quality",
>>>>>>> 9bcb85082bee3521929bbc33123fdb6b165afb33
   "metadata": {},
   "source": [
    "**5. What's a (definite) consequence of underfitting?**\n",
    "\n",
    "**a.** Incorrect predictions   \n",
    "**b.** High bias  \n",
    "**c.** Getting fired    \n",
    "**d.** High variance  "
   ]
  },
  {
   "cell_type": "raw",
<<<<<<< HEAD
=======
   "id": "drawn-restriction",
>>>>>>> 9bcb85082bee3521929bbc33123fdb6b165afb33
   "metadata": {},
   "source": [
    "a or b\n",
    "\n",
    "bad question"
   ]
  },
  {
   "cell_type": "markdown",
<<<<<<< HEAD
=======
   "id": "italic-nudist",
>>>>>>> 9bcb85082bee3521929bbc33123fdb6b165afb33
   "metadata": {},
   "source": [
    "# Python \n",
    "\n",
    "**[5% each; 25% total]** \n",
    "\n",
    "\n",
    "**1. Implement a binary search algorithm in python. Use it to search through the given list for `10`.**"
   ]
  },
  {
   "cell_type": "code",
   "execution_count": null,
<<<<<<< HEAD
=======
   "id": "special-adapter",
>>>>>>> 9bcb85082bee3521929bbc33123fdb6b165afb33
   "metadata": {},
   "outputs": [],
   "source": [
    "given = [1, 2, 3, 4, 5, 6, 7, 10]\n",
    "\n",
    "sorted(given)"
   ]
  },
  {
   "cell_type": "code",
   "execution_count": null,
<<<<<<< HEAD
=======
   "id": "familiar-eagle",
>>>>>>> 9bcb85082bee3521929bbc33123fdb6b165afb33
   "metadata": {},
   "outputs": [],
   "source": [
    "# needed for typing; not for the exercise\n",
    "from typing import List\n",
    "\n",
    "def binary_search(l: List = given, s: int = 10) -> int:\n",
    "    low, high = 0, len(l)-1\n",
    "    while low <= high:\n",
    "        mid = high - ((high-low)//2)\n",
    "        if s < l[mid]:\n",
    "            high = mid - 1\n",
    "        elif s > l[mid]:\n",
    "            low = mid + 1\n",
    "        else:\n",
    "            return mid\n",
    "    else:\n",
    "        return -1\n",
    "\n",
    "# these test your solution\n",
    "try:\n",
    "    assert(binary_search() == 7)\n",
    "    assert(binary_search(s=2) == 1)\n",
    "    assert(binary_search(s=12) == -1)\n",
    "except AssertionError as e:\n",
    "    print(\"test failed\")"
   ]
  },
  {
   "cell_type": "markdown",
<<<<<<< HEAD
=======
   "id": "noted-compound",
>>>>>>> 9bcb85082bee3521929bbc33123fdb6b165afb33
   "metadata": {},
   "source": [
    "**2. Fix the following code so the function calls work.**"
   ]
  },
  {
   "cell_type": "code",
   "execution_count": null,
<<<<<<< HEAD
=======
   "id": "centered-market",
>>>>>>> 9bcb85082bee3521929bbc33123fdb6b165afb33
   "metadata": {},
   "outputs": [],
   "source": [
    "class BinaryTree:\n",
    "    def __init__(self, data):\n",
    "        self.left = None\n",
    "        self.right = None\n",
    "        self.data = data\n",
    "\n",
    "    def add(self, data):\n",
    "        # fix this function:\n",
    "        if data > self.data:\n",
    "            if self.right:\n",
    "                self.right.add(data)\n",
    "            else:\n",
    "                self.right = BinaryTree(data)\n",
    "        if data < self.data:\n",
    "            if self.left:\n",
    "                self.left.add(data)\n",
    "            else:\n",
    "                self.left = BinaryTree(data)\n",
    "        # end of section that needs fixing\n",
    "        \n",
    "    def print(self):\n",
    "        if self.left:\n",
    "            self.left.print()\n",
    "        print(self.data)\n",
    "        if self.right:\n",
    "            self.right.print()  \n",
    "            \n",
    "bt = BinaryTree(5)\n",
    "bt.add(7)\n",
    "bt.add(8)\n",
    "bt.add(3)\n",
    "bt.add(4)\n",
    "bt.print()\n",
    "# if your solution is correct,\n",
    "# you will see all the values [3,4,5,7,8] printed"
   ]
  },
  {
   "cell_type": "markdown",
<<<<<<< HEAD
=======
   "id": "boolean-extent",
>>>>>>> 9bcb85082bee3521929bbc33123fdb6b165afb33
   "metadata": {},
   "source": [
    "**3. Write a class that implements a queue. Use any method of your choosing. Your queue must have the following three methods: `push`, `pop`, `peek` (returns next value to be popped).**"
   ]
  },
  {
   "cell_type": "code",
<<<<<<< HEAD
   "execution_count": 1,
=======
   "execution_count": 3,
   "id": "obvious-course",
>>>>>>> 9bcb85082bee3521929bbc33123fdb6b165afb33
   "metadata": {},
   "outputs": [],
   "source": [
    "class Queue:\n",
    "    def __init__(self):\n",
    "        self.queue = []\n",
    "        \n",
    "    def push(self, val):\n",
    "        self.queue.append(val)\n",
    "    \n",
    "    def pop(self):\n",
    "        return self.queue.pop(0)\n",
    "    \n",
    "    def peek(self):\n",
    "        return self.queue[0]\n",
    "\n",
    "# use the following to test your code    \n",
    "try:\n",
    "    q = Queue()\n",
    "    q.push(3)\n",
    "    q.push(4)\n",
    "    q.push(5)\n",
    "    assert(q.pop() == 3)\n",
    "    assert(q.peek() == 4)\n",
    "except AssertionError:\n",
    "    print(\"test failed.\")"
   ]
  },
  {
   "cell_type": "markdown",
<<<<<<< HEAD
=======
   "id": "charming-motion",
>>>>>>> 9bcb85082bee3521929bbc33123fdb6b165afb33
   "metadata": {},
   "source": [
    "**4. Write a python function that calculates the expected value of the following dictionary containing outcomes (in dollars) and their probabilities.**\n",
    "\n",
    "Let $X$ by a random variable with $k$ number of finite outcomes $x_1, x_2,...,x_k$ occurring with probability $p_1, p_1,...,p_k$, respectively. The **expectation** of $X$ is defined as:\n",
    "$$ E[X] = \\sum_{i=1}^{k}{x_i p_i} = x_1p_1 + x_2p_2 + ... + x_kp_k$$"
   ]
  },
  {
   "cell_type": "code",
   "execution_count": null,
<<<<<<< HEAD
=======
   "id": "cooperative-council",
>>>>>>> 9bcb85082bee3521929bbc33123fdb6b165afb33
   "metadata": {},
   "outputs": [],
   "source": [
    "# this is a dictionary\n",
    "# with key - outcomes or x's\n",
    "# and v - probabilities or p's\n",
    "probabilities = {\n",
    "    20: 0.20,\n",
    "    10: 0.20,\n",
    "    5:  0.20,\n",
    "    -10: 0.20,\n",
    "    -20: 0.20,\n",
    "}\n",
    "\n",
    "def expected_value(d = probabilities):\n",
    "    summation = 0\n",
    "    for x,p in probabilities.items():\n",
    "        summation += x*p\n",
    "    return summation\n",
    "\n",
    "try:\n",
    "    assert(expected_value() == 1.0)\n",
    "except AssertionError:\n",
    "    print(\"test failed.\")"
   ]
  },
  {
   "cell_type": "markdown",
<<<<<<< HEAD
=======
   "id": "obvious-determination",
>>>>>>> 9bcb85082bee3521929bbc33123fdb6b165afb33
   "metadata": {},
   "source": [
    "**5. Create a dataclass called Point that contains:**\n",
    "* two attributes `x` and `y`\n",
    "* a method that overrides the addition operator so you can add two points together\n",
    "* a method called `distance` that calculates the distance between the two points using the distance formula we saw in class:\n",
    "\n",
    "$$ \\text{distance} = \\sqrt{(x_2-x_1)^{2} + (y_2-y_1)^{2} } $$\n"
   ]
  },
  {
   "cell_type": "code",
   "execution_count": null,
<<<<<<< HEAD
=======
   "id": "effective-sentence",
>>>>>>> 9bcb85082bee3521929bbc33123fdb6b165afb33
   "metadata": {},
   "outputs": [],
   "source": [
    "from typing import List\n",
    "from dataclasses import dataclass\n",
    "\n",
    "@dataclass\n",
    "class Point:\n",
    "    x: int\n",
    "    y: int\n",
    "        \n",
    "    def __add__(self, other):\n",
    "        return Point(self.x + other.x, self.y + other.y)\n",
    "    \n",
    "    def distance(self,other):\n",
    "        return ((other.x-self.x)**2 + (other.y - self.y)**2)**0.5   \n",
    "    \n",
    "try:\n",
    "    p_1 = Point(-4,-4)\n",
    "    p_2 = Point(3,4)\n",
    "    assert(p_1 + p_2 == Point(x=-1,y=0))\n",
    "    # this is basically calculating a \n",
    "    # 3-4-5 right triangle\n",
    "    p_1 = Point(0,0)\n",
    "    p_2 = Point(3,4)\n",
    "    assert(p_1.distance(p_2) == 5)\n",
    "    assert(p_2.distance(p_1) == 5)\n",
    "except AssertionError:\n",
    "    print(\"test failed.\")"
   ]
  },
  {
   "cell_type": "markdown",
<<<<<<< HEAD
=======
   "id": "comparative-indianapolis",
>>>>>>> 9bcb85082bee3521929bbc33123fdb6b165afb33
   "metadata": {},
   "source": [
    "# Machine Learning Questions \n",
    "\n",
    "**1. What is bias in a machine learning model? Why does increasing model complexity decrease bias? What concerns do we need to worry about when increasing model complexity to decrease bias?**"
   ]
  },
  {
   "cell_type": "code",
   "execution_count": null,
<<<<<<< HEAD
=======
   "id": "employed-bangkok",
>>>>>>> 9bcb85082bee3521929bbc33123fdb6b165afb33
   "metadata": {},
   "outputs": [],
   "source": []
  },
  {
   "cell_type": "markdown",
<<<<<<< HEAD
=======
   "id": "atmospheric-nursery",
>>>>>>> 9bcb85082bee3521929bbc33123fdb6b165afb33
   "metadata": {},
   "source": [
    "**2. What do we use a logistic regression for? What class of machine learning algorithms is logistic regression part of? Explain the main difference between this class of machine learning algorithm and alternatives.**"
   ]
  },
  {
   "cell_type": "code",
   "execution_count": null,
<<<<<<< HEAD
=======
   "id": "global-violation",
>>>>>>> 9bcb85082bee3521929bbc33123fdb6b165afb33
   "metadata": {},
   "outputs": [],
   "source": []
  },
  {
   "cell_type": "markdown",
<<<<<<< HEAD
=======
   "id": "virtual-intermediate",
>>>>>>> 9bcb85082bee3521929bbc33123fdb6b165afb33
   "metadata": {},
   "source": [
    "**3. What is underfitting? How does underfitting affect our machine learning models? What can we do to address underfitting?**"
   ]
  },
  {
   "cell_type": "code",
   "execution_count": null,
<<<<<<< HEAD
=======
   "id": "residential-detail",
>>>>>>> 9bcb85082bee3521929bbc33123fdb6b165afb33
   "metadata": {},
   "outputs": [],
   "source": []
  },
  {
   "cell_type": "markdown",
<<<<<<< HEAD
=======
   "id": "blocked-taste",
>>>>>>> 9bcb85082bee3521929bbc33123fdb6b165afb33
   "metadata": {},
   "source": [
    "# Numpy\n",
    "\n",
    "**This section is worth 12.5%**\n",
    "\n",
    "**1. Given the following numpy array. Calculate the variance.**\n",
    "\n",
    "$$\\text{var(x)}= \\frac{1}{N}\\sum_{i=1}^{N}(x_i - \\mu)^{2}$$"
   ]
  },
  {
   "cell_type": "code",
   "execution_count": null,
<<<<<<< HEAD
=======
   "id": "judicial-belle",
>>>>>>> 9bcb85082bee3521929bbc33123fdb6b165afb33
   "metadata": {},
   "outputs": [],
   "source": [
    "n = np.array([10, 12, 23, 23, 16, 23, 21, 16])\n",
    "n.var()"
   ]
  },
  {
   "cell_type": "markdown",
<<<<<<< HEAD
=======
   "id": "apparent-neighbor",
>>>>>>> 9bcb85082bee3521929bbc33123fdb6b165afb33
   "metadata": {},
   "source": [
    "**2. Create a 3x5 matrix containing the multiples of 5.**\n"
   ]
  },
  {
   "cell_type": "code",
<<<<<<< HEAD
   "execution_count": 4,
   "metadata": {},
   "outputs": [
    {
     "data": {
      "text/plain": [
       "array([[ 5, 10, 15, 20, 25],\n",
       "       [30, 35, 40, 45, 50],\n",
       "       [55, 60, 65, 70, 75]])"
      ]
     },
     "execution_count": 4,
     "metadata": {},
     "output_type": "execute_result"
    }
   ],
=======
   "execution_count": null,
   "id": "systematic-infection",
   "metadata": {},
   "outputs": [],
>>>>>>> 9bcb85082bee3521929bbc33123fdb6b165afb33
   "source": [
    "np.arange(1,16).reshape(3,5) * 5"
   ]
  },
  {
   "cell_type": "markdown",
<<<<<<< HEAD
=======
   "id": "characteristic-guitar",
>>>>>>> 9bcb85082bee3521929bbc33123fdb6b165afb33
   "metadata": {},
   "source": [
    "**3. Create an numpy array of 9 elements using arange and then use a single broadcast operation to make it an array of the integers from -4 to 4. Then use those values to generate the y-values of a parabola using the following formula:**\n",
    "\n",
    "$$ y = x^{2} + 4 $$"
   ]
  },
  {
   "cell_type": "code",
<<<<<<< HEAD
   "execution_count": 5,
   "metadata": {},
   "outputs": [
    {
     "data": {
      "text/plain": [
       "[<matplotlib.lines.Line2D at 0x123ba5040>]"
      ]
     },
     "execution_count": 5,
     "metadata": {},
     "output_type": "execute_result"
    },
    {
     "data": {
      "image/png": "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\n",
      "text/plain": [
       "<Figure size 432x288 with 1 Axes>"
      ]
     },
     "metadata": {
      "needs_background": "light"
     },
     "output_type": "display_data"
    }
   ],
=======
   "execution_count": null,
   "id": "separated-council",
   "metadata": {},
   "outputs": [],
>>>>>>> 9bcb85082bee3521929bbc33123fdb6b165afb33
   "source": [
    "x = np.arange(9) - 4\n",
    "y = x**2 + 4\n",
    "plt.plot(x,y)"
   ]
  },
  {
   "cell_type": "markdown",
<<<<<<< HEAD
=======
   "id": "controversial-likelihood",
>>>>>>> 9bcb85082bee3521929bbc33123fdb6b165afb33
   "metadata": {},
   "source": [
    "**4. Slice the following numpy array to get the even rows and odd columns (0 is even). Rows/columns are even/odd if the index is even/odd.**"
   ]
  },
  {
   "cell_type": "code",
<<<<<<< HEAD
   "execution_count": 6,
   "metadata": {},
   "outputs": [
    {
     "data": {
      "text/plain": [
       "array([[ 2,  4,  6],\n",
       "       [14, 16, 18]])"
      ]
     },
     "execution_count": 6,
     "metadata": {},
     "output_type": "execute_result"
    }
   ],
=======
   "execution_count": null,
   "id": "juvenile-bumper",
   "metadata": {},
   "outputs": [],
>>>>>>> 9bcb85082bee3521929bbc33123fdb6b165afb33
   "source": [
    "n = np.array([[1,2,3,4,5,6],[7,8,9,10,11,12],[13,14,15,16,17,18],[19,20,21,22,23,24]])\n",
    "n[::2, 1::2]"
   ]
  },
  {
   "cell_type": "markdown",
<<<<<<< HEAD
=======
   "id": "thermal-volunteer",
>>>>>>> 9bcb85082bee3521929bbc33123fdb6b165afb33
   "metadata": {},
   "source": [
    "**5. Create an array containing 101 values between 0 and 1. Then use a conditional slice to remove the value `0`. Once you have your array prepared, use it to calculate the y values for the following equation:**\n",
    "\n",
    "$$ y = 5x^{3} - 2x + 5 $$\n",
    "\n",
    "**When done with that, output the standard deviation of the y values.**"
   ]
  },
  {
   "cell_type": "code",
<<<<<<< HEAD
   "execution_count": 7,
   "metadata": {},
   "outputs": [
    {
     "data": {
      "text/plain": [
       "0.9381474319836408"
      ]
     },
     "execution_count": 7,
     "metadata": {},
     "output_type": "execute_result"
    }
   ],
=======
   "execution_count": null,
   "id": "wired-commercial",
   "metadata": {},
   "outputs": [],
>>>>>>> 9bcb85082bee3521929bbc33123fdb6b165afb33
   "source": [
    "n = np.linspace(0,1,101)\n",
    "n = n[n != 0] \n",
    "y = 5*n**3 - 2*n + 5\n",
    "y.std()"
   ]
  },
  {
   "cell_type": "markdown",
<<<<<<< HEAD
=======
   "id": "ultimate-desktop",
>>>>>>> 9bcb85082bee3521929bbc33123fdb6b165afb33
   "metadata": {},
   "source": [
    "# Pandas \n",
    "\n",
    "**This section is worth 12.5%**\n",
    "\n",
    "The questions for this section use the dataframe below:"
   ]
  },
  {
   "cell_type": "code",
   "execution_count": null,
<<<<<<< HEAD
=======
   "id": "reliable-amber",
>>>>>>> 9bcb85082bee3521929bbc33123fdb6b165afb33
   "metadata": {},
   "outputs": [],
   "source": [
    "df = pd.DataFrame([\n",
    "['united states', \"north america\", 124481412, 38, 0.25, 0.13 ],\n",
    "['mainland china', \"asia\", 74956000],\n",
    "['india' , \"asia\", 45065998, 3.3, 0.028, 0.006],\n",
    "['united kingdom', \"europe\", 29859742, 45, 0.42, 0.034 ],\n",
    "['brazil', \"south america\",13562176, 6.5, 0.049, 0.016],\n",
    "['israel', \"asia\", 9739025, 110, 0.58, 0.51 ],\n",
    "['chile', \"south america\", 8470866, 45, 0.30, 0.15],\n",
    "['mexico', \"north america\",5612291, 4.4, 0.039, 0.006],\n",
    "['bangladesh', \"asia\", 4760747, 3, 0.03],\n",
    "['canada', \"north america\",3954285, 11, 0.09, 0.017],\n",
    "['argentina', 'south america', 3119828, 7, 0.057, 0.014],\n",
    "['colombia', 'south america', 1182098, 2.4, 0.023, 0.001],\n",
    "['switzerland', \"europe\",1176875, 14, 0.087, 0.051],\n",
    "['dominican republic', \"north america\", 675000, 5.8, 0.064],\n",
    "['peru', 'south america', 623800,  2, 0.014, 0.006],\n",
    "['ghana', 'africa', 420000, 1.4, 0.014],\n",
    "['bulgaria', \"europe\", 368905, 5.3, 0.042, 0.01],\n",
    "['costa rica', \"south america\", 248082, 5, 0.038, 0.012],\n",
    "['south africa', \"africa\",182983, 0.3, 0.003],\n",
    "['jamaica', np.nan, 16096, 0.5, 0.005],\n",
    "['guyana', \"south america\", 15524, 2, 0.02],\n",
    "['nigeria', 'africa', 8000, 0.1, 0.001],\n",
    "['trinidad and tobago', 'south america', 991, 0.1, 0.001],\n",
    "], columns=[\"country\", \"continent\", \"doses given\", \"doses given per 100\", \"percent vaccinated\", \"percent fully vaccinated\" ])\n",
    "df"
   ]
  },
  {
   "cell_type": "markdown",
<<<<<<< HEAD
=======
   "id": "superb-window",
>>>>>>> 9bcb85082bee3521929bbc33123fdb6b165afb33
   "metadata": {},
   "source": [
    "**1. Can you provide at least 3 pieces of information about the dataframe itself (memory usage, dimensions, number of missing values, etc)?**"
   ]
  },
  {
   "cell_type": "code",
   "execution_count": null,
<<<<<<< HEAD
=======
   "id": "exempt-exercise",
>>>>>>> 9bcb85082bee3521929bbc33123fdb6b165afb33
   "metadata": {},
   "outputs": [],
   "source": [
    "df.info()"
   ]
  },
  {
   "cell_type": "code",
   "execution_count": null,
<<<<<<< HEAD
=======
   "id": "atlantic-newark",
>>>>>>> 9bcb85082bee3521929bbc33123fdb6b165afb33
   "metadata": {},
   "outputs": [],
   "source": [
    "df.shape"
   ]
  },
  {
   "cell_type": "code",
   "execution_count": null,
<<<<<<< HEAD
=======
   "id": "plain-spare",
>>>>>>> 9bcb85082bee3521929bbc33123fdb6b165afb33
   "metadata": {},
   "outputs": [],
   "source": [
    "df.isna().sum()"
   ]
  },
  {
   "cell_type": "markdown",
<<<<<<< HEAD
=======
   "id": "finished-means",
>>>>>>> 9bcb85082bee3521929bbc33123fdb6b165afb33
   "metadata": {},
   "source": [
    "**2. Sort the dataframe by percent fully vaccinated in descending order.**"
   ]
  },
  {
   "cell_type": "code",
   "execution_count": null,
<<<<<<< HEAD
=======
   "id": "generous-blink",
>>>>>>> 9bcb85082bee3521929bbc33123fdb6b165afb33
   "metadata": {},
   "outputs": [],
   "source": [
    "df.sort_values('percent fully vaccinated', ascending=False).head()"
   ]
  },
  {
   "cell_type": "markdown",
<<<<<<< HEAD
=======
   "id": "upper-projector",
>>>>>>> 9bcb85082bee3521929bbc33123fdb6b165afb33
   "metadata": {},
   "source": [
    "**3. Make the charts with percentages a human readable format (meaning instead of `0.04` make it `4` or even `4%`).**"
   ]
  },
  {
   "cell_type": "code",
   "execution_count": null,
<<<<<<< HEAD
=======
   "id": "buried-grocery",
>>>>>>> 9bcb85082bee3521929bbc33123fdb6b165afb33
   "metadata": {},
   "outputs": [],
   "source": [
    "df['percent vaccinated'] = df['percent vaccinated'] * 100\n",
    "df['percent fully vaccinated'] = df['percent fully vaccinated'] * 100\n",
    "df.head()"
   ]
  },
  {
   "cell_type": "markdown",
<<<<<<< HEAD
=======
   "id": "interpreted-communication",
>>>>>>> 9bcb85082bee3521929bbc33123fdb6b165afb33
   "metadata": {},
   "source": [
    "**4. Even though it isn't very accurate (we're missing too many countries), what is the average number of doses given per continent?**"
   ]
  },
  {
   "cell_type": "code",
<<<<<<< HEAD
   "execution_count": 8,
   "metadata": {},
   "outputs": [
    {
     "ename": "NameError",
     "evalue": "name 'df' is not defined",
     "output_type": "error",
     "traceback": [
      "\u001b[0;31m---------------------------------------------------------------------------\u001b[0m",
      "\u001b[0;31mNameError\u001b[0m                                 Traceback (most recent call last)",
      "\u001b[0;32m<ipython-input-8-5afc441106be>\u001b[0m in \u001b[0;36m<module>\u001b[0;34m\u001b[0m\n\u001b[0;32m----> 1\u001b[0;31m \u001b[0mdf\u001b[0m\u001b[0;34m.\u001b[0m\u001b[0mgroupby\u001b[0m\u001b[0;34m(\u001b[0m\u001b[0;34m'continent'\u001b[0m\u001b[0;34m)\u001b[0m\u001b[0;34m[\u001b[0m\u001b[0;34m'doses given'\u001b[0m\u001b[0;34m]\u001b[0m\u001b[0;34m.\u001b[0m\u001b[0mmean\u001b[0m\u001b[0;34m(\u001b[0m\u001b[0;34m)\u001b[0m\u001b[0;34m\u001b[0m\u001b[0;34m\u001b[0m\u001b[0m\n\u001b[0m",
      "\u001b[0;31mNameError\u001b[0m: name 'df' is not defined"
     ]
    }
   ],
=======
   "execution_count": null,
   "id": "european-series",
   "metadata": {},
   "outputs": [],
>>>>>>> 9bcb85082bee3521929bbc33123fdb6b165afb33
   "source": [
    "df.groupby('continent')['doses given'].mean()/100"
   ]
  },
  {
   "cell_type": "markdown",
<<<<<<< HEAD
=======
   "id": "coastal-winning",
>>>>>>> 9bcb85082bee3521929bbc33123fdb6b165afb33
   "metadata": {},
   "source": [
    "**5. Slice the dataframe so we can have a copy of our dataframe that contains the following information.**\n",
    "* columns - `'country'`,`'doses given'`, and `'percent fully vaccinated'`\n",
    "* rows - all rows with more than 500,000 doses given."
   ]
  },
  {
   "cell_type": "code",
   "execution_count": null,
<<<<<<< HEAD
=======
   "id": "northern-imperial",
>>>>>>> 9bcb85082bee3521929bbc33123fdb6b165afb33
   "metadata": {},
   "outputs": [],
   "source": [
    "df.loc[df['doses given'] > 500000, ['country', 'doses given', 'percent fully vaccinated']]"
   ]
  },
  {
   "cell_type": "markdown",
<<<<<<< HEAD
=======
   "id": "arranged-drink",
>>>>>>> 9bcb85082bee3521929bbc33123fdb6b165afb33
   "metadata": {},
   "source": [
    "# SQL \n",
    "\n",
    "Our company has a number of positions on our books. We want to add some positions to it. Add the following  information (making sure to use new cells so your work can be saved as you won't submit the db file). Keep in mind that direction means if we've bought or sold the stock (`0` means we sold it short, `1` means we bought it).\n",
    "\n",
    "Add the following:\n",
    "\n",
    "```\n",
    "We bought 200 shares of GME at $50.\n",
    "We sold 500 shares of AMD at $75.\n",
    "We bought 1 share of BRK at $380000.00.\n",
    "```"
   ]
  },
  {
   "cell_type": "code",
   "execution_count": null,
<<<<<<< HEAD
=======
   "id": "worst-stations",
>>>>>>> 9bcb85082bee3521929bbc33123fdb6b165afb33
   "metadata": {},
   "outputs": [],
   "source": [
    "# run this cell to set up your sqlite3 db.\n",
    "import sqlite3\n",
    "\n",
    "sql_commands = \\\n",
    "\"\"\"\n",
    "DROP TABLE IF EXISTS stocks;\n",
    "\n",
    "CREATE TABLE stocks (\n",
    " id INTEGER PRIMARY KEY,\n",
    " ticker TEXT NOT NULL,\n",
    " position TEXT NOT NULL,\n",
    " price FLOAT NOT NULL,\n",
    " direction BOOLEAN NOT NULL\n",
    ");\n",
    "\n",
    "INSERT INTO stocks \n",
    "(ticker, position, price, direction)\n",
    "VALUES \n",
    "('TSLA', 100, 700.00, 0),\n",
    "('VIX', 19,  292.00, 1),\n",
    "('SPY', 167, 395.00, 0);\n",
    "\"\"\"\n",
    "\n",
    "db = sqlite3.connect('stocks.db')\n",
    "cursor = db.cursor()\n",
    "cursor.executescript(sql_commands)\n",
    "db.commit()\n",
    "db.close()"
   ]
  },
  {
   "cell_type": "code",
   "execution_count": null,
<<<<<<< HEAD
=======
   "id": "legitimate-hopkins",
>>>>>>> 9bcb85082bee3521929bbc33123fdb6b165afb33
   "metadata": {},
   "outputs": [],
   "source": [
    "# use this function for your answers.\n",
    "def with_conn(statement):\n",
    "    conn = sqlite3.connect('stocks.db')\n",
    "    with conn:\n",
    "        cur = conn.cursor()\n",
    "        cur.execute(statement)\n",
    "        result = cur.fetchall()\n",
    "        return result "
   ]
  },
  {
   "cell_type": "code",
   "execution_count": null,
<<<<<<< HEAD
=======
   "id": "awful-particle",
>>>>>>> 9bcb85082bee3521929bbc33123fdb6b165afb33
   "metadata": {},
   "outputs": [],
   "source": [
    "with_conn('SELECT * FROM stocks;')"
   ]
  },
  {
   "cell_type": "raw",
<<<<<<< HEAD
=======
   "id": "integral-pension",
>>>>>>> 9bcb85082bee3521929bbc33123fdb6b165afb33
   "metadata": {},
   "source": [
    "We bought 200 shares of GME at $50.\n",
    "We sold 500 shares of AMD at $75.\n",
    "We bought 1 share of BRK at $380000.00."
   ]
  },
  {
   "cell_type": "code",
   "execution_count": null,
<<<<<<< HEAD
=======
   "id": "broken-camping",
>>>>>>> 9bcb85082bee3521929bbc33123fdb6b165afb33
   "metadata": {},
   "outputs": [],
   "source": [
    "with_conn('INSERT INTO stocks (ticker, position, price, direction) \\\n",
    "           VALUES \\\n",
    "           (\"GME\", 200, 50, 1),(\"AMD\", 500, 75, 0),(\"BRK\", 1, 380000, 1);')"
   ]
  },
  {
   "cell_type": "code",
   "execution_count": null,
<<<<<<< HEAD
=======
   "id": "controlled-authorization",
>>>>>>> 9bcb85082bee3521929bbc33123fdb6b165afb33
   "metadata": {},
   "outputs": [],
   "source": [
    "with_conn(';')"
   ]
  },
  {
   "cell_type": "markdown",
<<<<<<< HEAD
=======
   "id": "anticipated-memory",
>>>>>>> 9bcb85082bee3521929bbc33123fdb6b165afb33
   "metadata": {},
   "source": [
    "# Matplotlib \n",
    "**This section is worth 5%**\n",
    "\n",
    "Using the following dataset, create a chart of the data using the right chart to convey the information. Make sure your chart is professional looking, utilizing axis labeling and a proper title. "
   ]
  },
  {
   "cell_type": "code",
<<<<<<< HEAD
   "execution_count": 1,
   "metadata": {},
   "outputs": [
    {
     "ename": "NameError",
     "evalue": "name 'pd' is not defined",
     "output_type": "error",
     "traceback": [
      "\u001b[0;31m---------------------------------------------------------------------------\u001b[0m",
      "\u001b[0;31mNameError\u001b[0m                                 Traceback (most recent call last)",
      "\u001b[0;32m<ipython-input-1-bf2dad0fa038>\u001b[0m in \u001b[0;36m<module>\u001b[0;34m\u001b[0m\n\u001b[0;32m----> 1\u001b[0;31m \u001b[0mdf\u001b[0m \u001b[0;34m=\u001b[0m \u001b[0mpd\u001b[0m\u001b[0;34m.\u001b[0m\u001b[0mDataFrame\u001b[0m\u001b[0;34m(\u001b[0m\u001b[0;34m[\u001b[0m\u001b[0;34m[\u001b[0m\u001b[0;34m'alice'\u001b[0m\u001b[0;34m,\u001b[0m\u001b[0;34m\"software engineer\"\u001b[0m\u001b[0;34m,\u001b[0m\u001b[0;36m120000\u001b[0m\u001b[0;34m,\u001b[0m \u001b[0;36m2\u001b[0m\u001b[0;34m,\u001b[0m \u001b[0;36m20\u001b[0m\u001b[0;34m]\u001b[0m\u001b[0;34m,\u001b[0m\u001b[0;34m[\u001b[0m\u001b[0;34m'bob'\u001b[0m\u001b[0;34m,\u001b[0m\u001b[0;34m\"data engineer\"\u001b[0m\u001b[0;34m,\u001b[0m \u001b[0;36m105000\u001b[0m\u001b[0;34m,\u001b[0m \u001b[0;36m1.75\u001b[0m\u001b[0;34m,\u001b[0m \u001b[0;36m15\u001b[0m\u001b[0;34m]\u001b[0m\u001b[0;34m,\u001b[0m \u001b[0;34m[\u001b[0m\u001b[0;34m'carol'\u001b[0m\u001b[0;34m,\u001b[0m\u001b[0;34m\"machine learning engineer\"\u001b[0m\u001b[0;34m,\u001b[0m \u001b[0;36m180000\u001b[0m\u001b[0;34m,\u001b[0m \u001b[0;36m3\u001b[0m\u001b[0;34m,\u001b[0m \u001b[0;36m20\u001b[0m\u001b[0;34m]\u001b[0m\u001b[0;34m,\u001b[0m \u001b[0;34m[\u001b[0m\u001b[0;34m'davin'\u001b[0m\u001b[0;34m,\u001b[0m\u001b[0;34m\"data scientist\"\u001b[0m\u001b[0;34m,\u001b[0m \u001b[0;36m120000\u001b[0m\u001b[0;34m,\u001b[0m \u001b[0;36m2\u001b[0m\u001b[0;34m,\u001b[0m \u001b[0;36m15\u001b[0m\u001b[0;34m]\u001b[0m\u001b[0;34m,\u001b[0m \u001b[0;34m[\u001b[0m\u001b[0;34m'eric'\u001b[0m\u001b[0;34m,\u001b[0m\u001b[0;34m\"assistant\"\u001b[0m\u001b[0;34m,\u001b[0m\u001b[0;36m60000\u001b[0m\u001b[0;34m,\u001b[0m \u001b[0;36m1\u001b[0m \u001b[0;34m,\u001b[0m\u001b[0;36m30\u001b[0m\u001b[0;34m]\u001b[0m\u001b[0;34m]\u001b[0m\u001b[0;34m,\u001b[0m \u001b[0mcolumns\u001b[0m\u001b[0;34m=\u001b[0m\u001b[0;34m[\u001b[0m\u001b[0;34m'name'\u001b[0m\u001b[0;34m,\u001b[0m \u001b[0;34m'position'\u001b[0m\u001b[0;34m,\u001b[0m \u001b[0;34m'salary'\u001b[0m\u001b[0;34m,\u001b[0m\u001b[0;34m'years worked at company'\u001b[0m\u001b[0;34m,\u001b[0m \u001b[0;34m'percent of project'\u001b[0m\u001b[0;34m]\u001b[0m\u001b[0;34m)\u001b[0m\u001b[0;34m\u001b[0m\u001b[0;34m\u001b[0m\u001b[0m\n\u001b[0m\u001b[1;32m      2\u001b[0m \u001b[0mdf\u001b[0m\u001b[0;34m.\u001b[0m\u001b[0mhead\u001b[0m\u001b[0;34m(\u001b[0m\u001b[0;34m)\u001b[0m\u001b[0;34m\u001b[0m\u001b[0;34m\u001b[0m\u001b[0m\n",
      "\u001b[0;31mNameError\u001b[0m: name 'pd' is not defined"
     ]
    }
   ],
=======
   "execution_count": null,
   "id": "operating-thirty",
   "metadata": {},
   "outputs": [],
>>>>>>> 9bcb85082bee3521929bbc33123fdb6b165afb33
   "source": [
    "df = pd.DataFrame([['alice',\"software engineer\",120000, 2, 20],['bob',\"data engineer\", 105000, 1.75, 15], ['carol',\"machine learning engineer\", 180000, 3, 20], ['davin',\"data scientist\", 120000, 2, 15], ['eric',\"assistant\",60000, 1 ,30]], columns=['name', 'position', 'salary','years worked at company', 'percent of project'])\n",
    "df.head()"
   ]
  },
  {
   "cell_type": "code",
   "execution_count": null,
<<<<<<< HEAD
=======
   "id": "reverse-technician",
>>>>>>> 9bcb85082bee3521929bbc33123fdb6b165afb33
   "metadata": {},
   "outputs": [],
   "source": [
    "figure, axes = plt.subplots(figsize=(14,10))\n",
    "axes.barh(df['name'], df['salary'])\n",
    "axes.set(title=\"Salary by person\")\n",
    "axes.set_xlabel(\"salary\")\n",
    "axes.set_ylabel(\"person\")\n",
    "plt.show()"
   ]
  },
  {
   "cell_type": "code",
   "execution_count": null,
<<<<<<< HEAD
=======
   "id": "genetic-idaho",
>>>>>>> 9bcb85082bee3521929bbc33123fdb6b165afb33
   "metadata": {},
   "outputs": [],
   "source": [
    "x = np.linspace(1,3,100)\n",
    "y = 60000*x \n",
    "plt.plot(x,y)\n",
    "plt.scatter(\"years worked at company\", \"salary\", data=df, c=\"r\")\n",
    "plt.title(\"relationship between years worked and salary\")\n",
    "plt.xlabel(\"years worked\")\n",
    "plt.ylabel(\"salary\")\n",
    "plt.show()"
   ]
  },
  {
   "cell_type": "code",
   "execution_count": null,
<<<<<<< HEAD
=======
   "id": "academic-party",
>>>>>>> 9bcb85082bee3521929bbc33123fdb6b165afb33
   "metadata": {},
   "outputs": [],
   "source": []
  }
 ],
 "metadata": {
  "kernelspec": {
   "display_name": "Python 3",
   "language": "python",
   "name": "python3"
  },
  "language_info": {
   "codemirror_mode": {
    "name": "ipython",
    "version": 3
   },
   "file_extension": ".py",
   "mimetype": "text/x-python",
   "name": "python",
   "nbconvert_exporter": "python",
   "pygments_lexer": "ipython3",
<<<<<<< HEAD
   "version": "3.8.8"
=======
   "version": "3.9.1"
>>>>>>> 9bcb85082bee3521929bbc33123fdb6b165afb33
  }
 },
 "nbformat": 4,
 "nbformat_minor": 5
}
