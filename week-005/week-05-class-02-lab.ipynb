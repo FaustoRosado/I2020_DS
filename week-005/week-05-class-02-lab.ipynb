{
 "cells": [
  {
   "cell_type": "markdown",
   "metadata": {},
   "source": [
    "<div style=\"background: #000;\n",
    "            color: #FFF;\n",
    "            margin: 0px;\n",
    "                padding: 10px 0px 20px 0px;\n",
    "            text-align: center; \n",
    "                \">\n",
    "    <h1>Week 5 - Class 2 - Lab</h1>\n",
    "</div>"
   ]
  },
  {
   "cell_type": "markdown",
   "metadata": {},
   "source": [
    "# Question 1:\n",
    "\n",
    "What is the time complexity of the following code? Explain your answer.\n",
    "\n",
    "```python3\n",
    "def function_a(*args):\n",
    "    array = []\n",
    "    length = len(args)\n",
    "    \n",
<<<<<<< HEAD
    "    for i in range(0, length-1):                   O(n)\n",
=======
    "    for i in range(0, length-1):\n",
>>>>>>> 9bcb85082bee3521929bbc33123fdb6b165afb33
    "        print(i)\n",
    "    \n",
    "    for i in range(0, length-1):\n",
    "        for j in range(0, length-1):\n",
<<<<<<< HEAD
    "            for k in range(0, length-1):           O(n^3)\n",
    "                array.append([i, j, k])\n",
    "    \n",
    "    for val in array:                              O(n)                                             \n",
=======
    "            for k in range(0, length-1):\n",
    "                array.append([i, j, k])\n",
    "    \n",
    "    for val in array:\n",
>>>>>>> 9bcb85082bee3521929bbc33123fdb6b165afb33
    "        print(val)\n",
    "    \n",
    "    return array\n",
    "            \n",
    "\n",
    "\n",
    "```\n"
   ]
  },
  {
   "cell_type": "raw",
   "metadata": {},
<<<<<<< HEAD
   "source": [
    "As in the Big O notation video, we will calculate big o in each part of the code. First part with 1 loop would evaluate to O(n). Second part includes 2 nested loops w/i bigger loop so this would evaluate to O(n^3). And the last part would simply print the vals so this would evaluate to O(1). Overall, since we take the worse or least efficient part, this would evaluate to O(n^3) since this is the worse case from the above. "
   ]
=======
   "source": []
>>>>>>> 9bcb85082bee3521929bbc33123fdb6b165afb33
  },
  {
   "cell_type": "markdown",
   "metadata": {},
   "source": [
    "# Exercise 1:\n",
    "\n",
    "Create a function of your own choosing that uses `if`, `for` or `while`. What is the time complexity?"
   ]
  },
  {
   "cell_type": "code",
<<<<<<< HEAD
   "execution_count": 9,
   "metadata": {},
   "outputs": [
    {
     "data": {
      "text/plain": [
       "2500"
      ]
     },
     "execution_count": 9,
     "metadata": {},
     "output_type": "execute_result"
    }
   ],
   "source": [
    "# linear, this will loop through x, y number of times. Out of X dependent on y or # of\n",
    "# iterations\n",
    "\n",
    "def multiplier(x, y):\n",
    "    result = 0\n",
    "    for i in range(y):\n",
    "        result += x\n",
    "    return result\n",
    "\n",
    "multiplier(50,50)\n"
   ]
=======
   "execution_count": null,
   "metadata": {},
   "outputs": [],
   "source": []
>>>>>>> 9bcb85082bee3521929bbc33123fdb6b165afb33
  },
  {
   "cell_type": "markdown",
   "metadata": {},
   "source": [
    "# Exercise 2:\n",
    "\n",
    "Write a lambda function that checks whether or not a given string starts with a given character. \n",
    "\n",
    "Hint: Use a string method."
   ]
  },
  {
   "cell_type": "code",
<<<<<<< HEAD
   "execution_count": 11,
   "metadata": {},
   "outputs": [
    {
     "data": {
      "text/plain": [
       "True"
      ]
     },
     "execution_count": 11,
     "metadata": {},
     "output_type": "execute_result"
    }
   ],
   "source": [
    "starts = lambda x: True if x.startswith('f') else False\n",
    "starts(\"fausto\")"
   ]
=======
   "execution_count": null,
   "metadata": {},
   "outputs": [],
   "source": []
>>>>>>> 9bcb85082bee3521929bbc33123fdb6b165afb33
  },
  {
   "cell_type": "markdown",
   "metadata": {},
   "source": [
    "# Exercise 3:\n",
    "\n",
    "Create a function called `checker` that takes a tuple of three values, checks if there's a pair of numbers and returns the 3rd. If no doubles, return False. If there's a triple return the non-paired number and \"triple\" Use the code in the following cell to generate tuples.\n",
    "\n",
    "E.g. \n",
    "\n",
<<<<<<< HEAD
    "`checker((2,3,2))` would return 3    \n",
    "`checker((1,2,3))` would return False  \n",
    "`checker((3,3,3))` would return 3, \"triple\"  \n"
=======
    "`checker(2,3,2)` would return 3    \n",
    "`checker(1,2,3)` would return False  \n",
    "`checker(3,3,3)` would return 3, \"triple\"  \n"
>>>>>>> 9bcb85082bee3521929bbc33123fdb6b165afb33
   ]
  },
  {
   "cell_type": "code",
<<<<<<< HEAD
   "execution_count": 27,
=======
   "execution_count": 35,
>>>>>>> 9bcb85082bee3521929bbc33123fdb6b165afb33
   "metadata": {},
   "outputs": [
    {
     "data": {
      "text/plain": [
<<<<<<< HEAD
       "(2, 2, 2)"
      ]
     },
     "execution_count": 27,
=======
       "(6, 5, 4)"
      ]
     },
     "execution_count": 35,
>>>>>>> 9bcb85082bee3521929bbc33123fdb6b165afb33
     "metadata": {},
     "output_type": "execute_result"
    }
   ],
   "source": [
    "import random\n",
    "\n",
    "def dice_roller():\n",
    "    return (random.randint(1,6), random.randint(1,6), random.randint(1,6))\n",
    "\n",
    "three_dice_rolls = dice_roller()\n",
    "\n",
<<<<<<< HEAD
    "three_dice_rolls\n"
=======
    "three_dice_rolls"
>>>>>>> 9bcb85082bee3521929bbc33123fdb6b165afb33
   ]
  },
  {
   "cell_type": "code",
<<<<<<< HEAD
   "execution_count": 32,
=======
   "execution_count": 37,
>>>>>>> 9bcb85082bee3521929bbc33123fdb6b165afb33
   "metadata": {},
   "outputs": [
    {
     "data": {
      "text/plain": [
<<<<<<< HEAD
       "2"
      ]
     },
     "execution_count": 32,
=======
       "(6, 5, 4)"
      ]
     },
     "execution_count": 37,
>>>>>>> 9bcb85082bee3521929bbc33123fdb6b165afb33
     "metadata": {},
     "output_type": "execute_result"
    }
   ],
   "source": [
    "def checker(three_tuple):\n",
<<<<<<< HEAD
    "    if three_tuple[0] == three_tuple[1] == three_tuple ==[2]:\n",
    "        return three_tuple[0], \"triple\"\n",
    "    elif three_tuple[1] == three_tuple[2]:\n",
    "            return three_tuple[0]\n",
    "    elif three_tuple[0] == three_tuple[1]:\n",
    "            return three_tuple[2]\n",
    "    elif three_tuple[0] == three_tuple[2]:\n",
    "            return three_tuple[1]\n",
    "    else:\n",
    "        return False\n",
    "\n",
=======
    "    return three_tuple\n",
>>>>>>> 9bcb85082bee3521929bbc33123fdb6b165afb33
    "\n",
    "checker(three_dice_rolls)"
   ]
  },
  {
   "cell_type": "markdown",
   "metadata": {},
   "source": [
    "# Bonus: \n",
    "\n",
    "Create your own naive (unsophisticated) sorting algorithm that takes a list of ints and sorts the elements. It doesn't not have to be efficient, it just needs to give the correct sorted list as output. No points for using any built in or library method that sorts."
   ]
  },
  {
   "cell_type": "code",
   "execution_count": null,
   "metadata": {},
   "outputs": [],
   "source": []
  }
 ],
 "metadata": {
  "kernelspec": {
   "display_name": "Python 3",
   "language": "python",
   "name": "python3"
  },
  "language_info": {
   "codemirror_mode": {
    "name": "ipython",
    "version": 3
   },
   "file_extension": ".py",
   "mimetype": "text/x-python",
   "name": "python",
   "nbconvert_exporter": "python",
   "pygments_lexer": "ipython3",
<<<<<<< HEAD
   "version": "3.8.7"
=======
   "version": "3.8.5"
>>>>>>> 9bcb85082bee3521929bbc33123fdb6b165afb33
  }
 },
 "nbformat": 4,
 "nbformat_minor": 4
}
