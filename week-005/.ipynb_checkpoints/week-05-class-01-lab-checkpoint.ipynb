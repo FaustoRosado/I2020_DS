{
 "cells": [
  {
   "cell_type": "markdown",
   "metadata": {},
   "source": [
    "<div style=\"background: #000;\n",
    "            color: #FFF;\n",
    "            margin: 0px;\n",
    "                padding: 10px 0px 20px 0px;\n",
    "            text-align: center; \n",
    "                \">\n",
    "    <h1>Week 5 - Class 1 - Lab</h1>\n",
    "</div>"
   ]
  },
  {
   "cell_type": "markdown",
   "metadata": {},
   "source": [
    "# Question 1:\n",
    "\n",
    "What are signs you should use a recursive function? What happens when you do a recursive function call in a return statement?\n",
    "\n",
    "Walk us through how recursive functions work in your answer."
   ]
  },
  {
   "cell_type": "markdown",
   "metadata": {},
   "source": [
    "# Exercise 1:\n",
    "\n",
    "Create a function that executes in constant time. Then create a function that executes in linear time. Curry the two functions to produce an output."
   ]
  },
  {
   "cell_type": "code",
   "execution_count": 20,
   "metadata": {},
   "outputs": [
    {
     "data": {
      "text/plain": [
       "[26]"
      ]
     },
     "execution_count": 20,
     "metadata": {},
     "output_type": "execute_result"
    }
   ],
   "source": [
    "\n",
    "# constant O(1)\n",
    "def add(a,b):\n",
    "    return a + b\n",
    "#add(4,6)\n",
    "\n",
    "# linear \n",
    "def prnt(n):\n",
    "    lst = []\n",
    "    for i in n:\n",
    "        lst.append(add(i,b))\n",
    "        return lst\n",
    "\n",
    "prnt([20])"
   ]
  },
  {
   "cell_type": "markdown",
   "metadata": {},
   "source": [
    "# Exercise 2:\n",
    "\n",
    "Create a function using the following function that will take your choice of the following and input:\n",
    "\n",
    "\"R\" (rock), \"P\" (paper), or \"S\" (scissors) \n",
    "\n",
    "and return whether or not you beat the computer.\n"
   ]
  },
  {
   "cell_type": "code",
   "execution_count": 17,
   "metadata": {},
   "outputs": [
    {
     "data": {
      "text/plain": [
       "(2, 'scissors')"
      ]
     },
     "execution_count": 17,
     "metadata": {},
     "output_type": "execute_result"
    }
   ],
   "source": [
    "import random\n",
    "def computers_turn():\n",
    "    choices = {\n",
    "        0: 'rock',\n",
    "        1: 'paper',\n",
    "        2: 'scissors',\n",
    "    }\n",
    "    turn = random.randint(0,2)\n",
    "    return (turn, choices[turn])\n",
    "\n",
    "computers_turn()"
   ]
  },
  {
   "cell_type": "code",
   "execution_count": null,
   "metadata": {},
   "outputs": [],
   "source": [
    "def game():\n",
    "   import random\n",
    "   choices = {0:\"rock\", 1:\"paper\", 2:\"scissors\"}\n",
    "   computer = random.randint(0, 2)\n",
    "   #print (PC_Choice) #Debugging\n",
    "   print(\"Please type 0 for rock, 1 for paper or 2 for scissors\")\n",
    "   user = input()\n",
    " \n",
    "   if computer == 0 and user == 0:\n",
    "       print(\"The PC chose rock, it's a tie\")\n",
    " \n",
    "   elif computer == 0 and user == 1:\n",
    "       print(\"The PC chose rock, you win.\")\n",
    " \n",
    "   elif computer == 0 and user == 2:\n",
    "       print(\"The PC chose rock, you lose.\")\n",
    " \n",
    "   elif computer == 1 and user == 0:\n",
    "       print(\"The PC chose paper, you lose.\")\n",
    " \n",
    "   elif computer == 1 and user == 1:\n",
    "       print(\"The PC chose paper, it's a tie\")\n",
    " \n",
    "   elif computer == 0 and user == 2:\n",
    "       print(\"The PC chose paper, you win.\")\n",
    " \n",
    "   elif computer == 2 and user == 0:\n",
    "       print(\"The PC chose scissors, you win.\")\n",
    "   elif computer == 2 and user == 1:\n",
    "       print(\"The PC chose scissors, you lose.\")\n",
    "   elif computer == 2 and user == 2:\n",
    "       print(\"The PC chose scissors, it's a tie.\")\n",
    "   #else:\n",
    "       print(\"Wait what?\") #This is for testing the game\n",
    " \n",
    "   game()\n",
    "game()"
   ]
  },
  {
   "cell_type": "markdown",
   "metadata": {},
   "source": [
    "# Exercise 3:\n",
    "\n",
    "Create a function that takes a string, converts it to upper, sorts it and then take the `ord()` of each element of the string and adds it to a list. Output the final list.\n",
    "\n",
    "Once your function runs, optimize it to make it more efficient. "
   ]
  },
  {
   "cell_type": "code",
   "execution_count": null,
   "metadata": {},
   "outputs": [],
   "source": [
    "\n",
    "def conv_str(string): \n",
    "    lst2 = []\n",
    "    split = [x for x in string.upper()]\n",
    "    str_srt = sorted(split)\n",
    "    for s in str_srt:\n",
    "        lst3.append(ord(s))      \n",
    "    return lst3\n",
    "\n",
    "conv_str(\"fausto\")\n",
    "\n",
    "\n"
   ]
  },
  {
   "cell_type": "markdown",
   "metadata": {},
   "source": [
    "# Exercise 4:\n",
    "\n",
    "Create a recursive function that computers the powers of a number using the following equation:\n",
    "\n",
    "   $$ x^{n} = x * x^{n-1} $$ "
   ]
  },
  {
   "cell_type": "code",
   "execution_count": null,
   "metadata": {},
   "outputs": [],
   "source": [
    "\n",
    "def power(x, y):\n",
    "    if x < 2 and n < 2:\n",
    "        return 1\n",
    "    else:\n",
    "        return x * power(x, y-1)\n",
    "power(3,4)\n",
    "    "
   ]
  },
  {
   "cell_type": "markdown",
   "metadata": {},
   "source": [
    "# Bonus: \n",
    "\n",
    "Find a lab exercise solution that you previously submitted that you can optimize, make a function out of the solution and make it more efficient."
   ]
  },
  {
   "cell_type": "code",
   "execution_count": null,
   "metadata": {},
   "outputs": [],
   "source": []
  }
 ],
 "metadata": {
  "kernelspec": {
   "display_name": "Python 3",
   "language": "python",
   "name": "python3"
  },
  "language_info": {
   "codemirror_mode": {
    "name": "ipython",
    "version": 3
   },
   "file_extension": ".py",
   "mimetype": "text/x-python",
   "name": "python",
   "nbconvert_exporter": "python",
   "pygments_lexer": "ipython3",
   "version": "3.8.5"
  }
 },
 "nbformat": 4,
 "nbformat_minor": 4
}
