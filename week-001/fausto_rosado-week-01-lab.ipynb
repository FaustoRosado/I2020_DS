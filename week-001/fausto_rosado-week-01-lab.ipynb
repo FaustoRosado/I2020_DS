{
 "cells": [
  {
   "cell_type": "markdown",
   "metadata": {},
   "source": [
    "<div style=\"background: #000;\n",
    "            color: #FFF;\n",
    "            margin: 0px;\n",
    "                padding: 10px 0px 20px 0px;\n",
    "            text-align: center; \n",
    "                \">\n",
    "    <h1>Extended Lab</h1>\n",
    "</div>\n"
   ]
  },
  {
   "cell_type": "markdown",
   "metadata": {},
   "source": [
    "### Question 1: \n",
    "\n",
    "Explain what data types are in your own words."
   ]
  },
  {
   "cell_type": "markdown",
   "metadata": {},
   "source": [
    "Data types are basically representations of data. In python, some examples are integers, strings, boolean, etc. It is the type of data that lets the computer and compiler know what type of data is being represented. "
   ]
  },
  {
   "cell_type": "markdown",
   "metadata": {},
   "source": [
    "## Question 2:\n",
    "\n",
    "In your own words, explain what a float is and why sometimes it gives an incorrect value."
   ]
  },
  {
   "cell_type": "markdown",
   "metadata": {},
   "source": [
    "A float is basically a decimal number, and the reason gives an incorrect value sometimes, is because there can be an infinite amount of numbers or precision after the decimal point. Since that precision can't be printed or represented sometimes, small errors can lead to bigger ones."
   ]
  },
  {
   "cell_type": "markdown",
   "metadata": {},
   "source": [
    "### Exercise 1:\n",
    "\n",
    "Store your first name, in lowercase, in a variable.\n",
    "Using that one variable, print your name in lowercase, Titlecase, and UPPERCASE.\n"
   ]
  },
  {
   "cell_type": "code",
   "execution_count": null,
   "metadata": {},
   "outputs": [],
   "source": [
    "first_name = input(\"What is your first name?\")\n",
    "print(first_name.lower())\n",
    "print(first_name.title())\n",
    "print(first_name.upper())\n",
    "\n"
   ]
  },
  {
   "cell_type": "markdown",
   "metadata": {},
   "source": [
    "### Exercise 2:\n",
    "\n",
    "Find a quote that you like. Store the quote in a variable, with an appropriate introduction such as \"Ken Thompson once said, 'One of my most productive days was throwing away 1000 lines of code'\". Print the quote 1000 times."
   ]
  },
  {
   "cell_type": "code",
   "execution_count": null,
   "metadata": {},
   "outputs": [],
   "source": [
    "quote = \"Herman Melville said,'It is better to fail in originality than to succeed in imitation.'\"\n",
    "print((quote + \"\\n\") * 1000)\n",
    "    "
   ]
  },
  {
   "cell_type": "markdown",
   "metadata": {},
   "source": [
    "### Exercise 3:\n",
    "\n",
    "Use python string operations and methods to use the following variables to print this:\n",
    "\n",
    "    \"hello world\""
   ]
  },
  {
   "cell_type": "code",
   "execution_count": null,
   "metadata": {},
   "outputs": [],
   "source": [
    "message_1 = \"hELlo\"\n",
    "message_2 = \"                              wor\"\n",
    "message_3 = \"wbdaloqteldndyrcggzf\"\n",
    "print(message_1.lower() + \" \" + message_2.lstrip() + message_3[9:11])\n"
   ]
  },
  {
   "cell_type": "markdown",
   "metadata": {},
   "source": [
    "### Exercise 4\n",
    "\n",
    "Fix the following code so it prints properly"
   ]
  },
  {
   "cell_type": "code",
   "execution_count": null,
   "metadata": {},
   "outputs": [],
   "source": [
    "# Dollar amounts should only have two digits after the decimal\n",
    "print(\"The price is $%.2f.\" % (3.44444))"
   ]
  },
  {
   "cell_type": "code",
   "execution_count": null,
   "metadata": {},
   "outputs": [],
   "source": [
    "# Complete the code so it prints your name and what you're learning\n",
    "name = input(\"enter your name: \")\n",
    "language = input(\"enter the language you are learning: \")\n",
    "print(\"{} is learning {}\".format(name,language))"
   ]
  },
  {
   "cell_type": "markdown",
   "metadata": {},
   "source": [
    "### Exercise 5\n",
    "\n",
    "Create your own mad-lib with at least 5 inputs.\n",
    "\n",
    "\"Title of our product is {title} and we plan to launch it during {date}. The product is designed for the {type of industry} and specifically for {user type} users. This is a {dollar value} per year industry and these users are critical because they {user type reason}. The target users need the product because they are trying to {user goal} and currently have problems {user pain}.\" \n"
   ]
  },
  {
   "cell_type": "code",
   "execution_count": null,
   "metadata": {},
   "outputs": [],
   "source": [
    "title = input(\"Enter a title. \")\n",
    "date = input(\"Enter a date. \")\n",
    "type_of_industry = input(\"Enter an industry. \")\n",
    "user_type = input(\"Enter a type of user. \")\n",
    "dollar_value = input(\"Enter a dollar value. \")\n",
    "user_type_reason = input(\"Enter a reason for selecting user type. \")\n",
    "user_goal = input(\"Enter an user goal. \")\n",
    "user_pain = input(\"Enter a problem users may have. \")\n",
    "\n",
    "mad_lib = f\"Title of our product is {title} and we plan to launch it during {date}. The product is designed for the {type_of_industry} and specifically for {user_type} users. This is a {dollar_value} per year industry and these users are critical because they {user_type_reason}. The target users need the product because they are trying to {user_goal} and currently have problems {user_pain}.\" \n",
    "\n",
    "print(mad_lib)"
   ]
  }
 ],
 "metadata": {
  "kernelspec": {
   "display_name": "Python 3",
   "language": "python",
   "name": "python3"
  },
  "language_info": {
   "codemirror_mode": {
    "name": "ipython",
    "version": 3
   },
   "file_extension": ".py",
   "mimetype": "text/x-python",
   "name": "python",
   "nbconvert_exporter": "python",
   "pygments_lexer": "ipython3",
   "version": "3.8.5"
  }
 },
 "nbformat": 4,
 "nbformat_minor": 4
}
