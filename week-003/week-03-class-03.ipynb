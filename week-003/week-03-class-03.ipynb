{
 "cells": [
  {
   "cell_type": "markdown",
   "metadata": {},
   "source": [
    "<div style=\"background: #000;\n",
    "            color: #FFF;\n",
    "            margin: 0px;\n",
    "                padding: 10px 0px 20px 0px;\n",
    "            text-align: center; \n",
    "                \">\n",
    "    <h1>Week 3 - Class 3 - 9/30</h1>\n",
    "</div>\n",
    "\n",
    "## Objectives for this week:\n",
    "* If Statements, If and Elif\n",
    "* Conditional Statements, Nested Conditionals\n",
    "* While & For loops, Nested Loops\n",
    "* List Comprehension\n",
    "\n",
    "## Todays Agenda\n",
    "* Homework Presentations\n",
    "* While Loops"
   ]
  },
  {
   "cell_type": "markdown",
   "metadata": {},
   "source": [
    "# Homework Presentations"
   ]
  },
  {
   "cell_type": "markdown",
   "metadata": {},
   "source": [
    "# Exercise 3\n",
    "\n",
    "### Given the following code, fix it so the code outputs `\"hello\"`:\n",
    "\n",
    "Hint: for each, you just have to edit one line of code\n",
    "\n",
    "(Don't worry, you aren't meant to understand everything going on in them yet)"
   ]
  },
  {
   "cell_type": "code",
   "execution_count": 1,
   "metadata": {},
   "outputs": [],
   "source": [
    "def function(x):\n",
    "    if type(x) == bool:\n",
    "        print(x)\n",
    "\n",
    "function(\"hello\")"
   ]
  },
  {
   "cell_type": "code",
   "execution_count": 2,
   "metadata": {},
   "outputs": [
    {
     "data": {
      "text/plain": [
       "''"
      ]
     },
     "execution_count": 2,
     "metadata": {},
     "output_type": "execute_result"
    }
   ],
   "source": [
    "s = [\"h\", \"e\", \"l\", \"l\", \"o\"]\n",
    "\"\""
   ]
  },
  {
   "cell_type": "code",
   "execution_count": 3,
   "metadata": {},
   "outputs": [
    {
     "data": {
      "text/plain": [
       "''"
      ]
     },
     "execution_count": 3,
     "metadata": {},
     "output_type": "execute_result"
    }
   ],
   "source": [
    "a = True\n",
    "b = False\n",
    "c = True\n",
    "d = False\n",
    "\"hello\" if (b or a and b == d and b or b) else \"\""
   ]
  },
  {
   "cell_type": "code",
   "execution_count": 4,
   "metadata": {},
   "outputs": [
    {
     "name": "stdout",
     "output_type": "stream",
     "text": [
      "\n"
     ]
    }
   ],
   "source": [
    "class Example:\n",
    "    def __init__(self, val):\n",
    "        self.a = val and print(\"hello\")\n",
    "    def say_hi(self):\n",
    "        print(\"hello\") if self.a == \"fixed\" else print(\"\")\n",
    "    def hello(self):\n",
    "        return \"olleh\".reverse()\n",
    "        \n",
    "e = Example(\"\")\n",
    "e.say_hi()"
   ]
  },
  {
   "cell_type": "markdown",
   "metadata": {},
   "source": [
    "# For loops continued"
   ]
  },
  {
   "cell_type": "code",
   "execution_count": 1,
   "metadata": {},
   "outputs": [
    {
     "name": "stdout",
     "output_type": "stream",
     "text": [
      "0\n",
      "2\n",
      "4\n",
      "6\n",
      "8\n"
     ]
    }
   ],
   "source": [
    "x = [0,1,2,3,4,5,6,7,8,9]\n",
    "for i in x:\n",
    "    if i % 2 == 0:\n",
    "        print(i)"
   ]
  },
  {
   "cell_type": "code",
   "execution_count": 2,
   "metadata": {},
   "outputs": [
    {
     "name": "stdout",
     "output_type": "stream",
     "text": [
      "    i: 0 j: a\n",
      "    i: 0 j: b\n",
      "    i: 0 j: c\n",
      "    i: 1 j: a\n",
      "    i: 1 j: b\n",
      "    i: 1 j: c\n",
      "    i: 2 j: a\n",
      "    i: 2 j: b\n",
      "    i: 2 j: c\n"
     ]
    }
   ],
   "source": [
    "for i in range(3):\n",
    "    for j in ['a', 'b', 'c']:         # inner loop first\n",
    "        print(f\"    i: {i} j: {j}\")"
   ]
  },
  {
   "cell_type": "code",
   "execution_count": null,
   "metadata": {
    "scrolled": true
   },
   "outputs": [],
   "source": []
  },
  {
   "cell_type": "code",
   "execution_count": 7,
   "metadata": {},
   "outputs": [
    {
     "name": "stdout",
     "output_type": "stream",
     "text": [
      "running loop for 0\n",
      "running loop for 1\n",
      "running loop for 2\n"
     ]
    }
   ],
   "source": [
    "for item in range(3):\n",
    "    print(f\"running loop for {item}\")\n",
    "    #for j in ['a', 'b', 'c']:\n",
    "        #print(f\"    inner loop for {j}\")\n",
    "        #print(f\"    i: {i} \\t j: {j}\")"
   ]
  },
  {
   "cell_type": "code",
   "execution_count": 8,
   "metadata": {},
   "outputs": [
    {
     "name": "stdout",
     "output_type": "stream",
     "text": [
      "running loop for 0\n",
      "    inner loop for a\n",
      "    i: 0 \t j: a\n",
      "    inner loop for b\n",
      "    i: 0 \t j: b\n",
      "    inner loop for c\n",
      "    i: 0 \t j: c\n",
      "running loop for 1\n",
      "    inner loop for a\n",
      "    i: 1 \t j: a\n",
      "    inner loop for b\n",
      "    i: 1 \t j: b\n",
      "    inner loop for c\n",
      "    i: 1 \t j: c\n",
      "running loop for 2\n",
      "    inner loop for a\n",
      "    i: 2 \t j: a\n",
      "    inner loop for b\n",
      "    i: 2 \t j: b\n",
      "    inner loop for c\n",
      "    i: 2 \t j: c\n"
     ]
    }
   ],
   "source": [
    "for i in range(3):\n",
    "    print(f\"running loop for {i}\")\n",
    "    for j in ['a', 'b', 'c']:\n",
    "        print(f\"    inner loop for {j}\")\n",
    "        print(f\"    i: {i} \\t j: {j}\")"
   ]
  },
  {
   "cell_type": "code",
   "execution_count": 9,
   "metadata": {},
   "outputs": [
    {
     "name": "stdout",
     "output_type": "stream",
     "text": [
      "i: 0 j: a k: 0\n",
      "i: 0 j: a k: 1\n",
      "i: 0 j: a k: 2\n",
      "i: 0 j: b k: 0\n",
      "i: 0 j: b k: 1\n",
      "i: 0 j: b k: 2\n",
      "i: 0 j: c k: 0\n",
      "i: 0 j: c k: 1\n",
      "i: 0 j: c k: 2\n",
      "i: 1 j: a k: 0\n",
      "i: 1 j: a k: 1\n",
      "i: 1 j: a k: 2\n",
      "i: 1 j: b k: 0\n",
      "i: 1 j: b k: 1\n",
      "i: 1 j: b k: 2\n",
      "i: 1 j: c k: 0\n",
      "i: 1 j: c k: 1\n",
      "i: 1 j: c k: 2\n",
      "i: 2 j: a k: 0\n",
      "i: 2 j: a k: 1\n",
      "i: 2 j: a k: 2\n",
      "i: 2 j: b k: 0\n",
      "i: 2 j: b k: 1\n",
      "i: 2 j: b k: 2\n",
      "i: 2 j: c k: 0\n",
      "i: 2 j: c k: 1\n",
      "i: 2 j: c k: 2\n"
     ]
    }
   ],
   "source": [
    "for i in range(3):\n",
    "    for j in ['a', 'b', 'c']:\n",
    "        for k in range(3):\n",
    "            print(f\"i: {i} j: {j} k: {k}\")"
   ]
  },
  {
   "cell_type": "code",
   "execution_count": 10,
   "metadata": {},
   "outputs": [
    {
     "name": "stdout",
     "output_type": "stream",
     "text": [
      "running loop for i = 0\n",
      "\n",
      "\trunning loop for j = a\n",
      "\n",
      "\t\trunning loop for k = 0\n",
      "\n",
      "\t\t\ti: 0 \t j: a \t k: 0\n",
      "\n",
      "\t\trunning loop for k = 1\n",
      "\n",
      "\t\t\ti: 0 \t j: a \t k: 1\n",
      "\n",
      "\t\trunning loop for k = 2\n",
      "\n",
      "\t\t\ti: 0 \t j: a \t k: 2\n",
      "\n",
      "\trunning loop for j = b\n",
      "\n",
      "\t\trunning loop for k = 0\n",
      "\n",
      "\t\t\ti: 0 \t j: b \t k: 0\n",
      "\n",
      "\t\trunning loop for k = 1\n",
      "\n",
      "\t\t\ti: 0 \t j: b \t k: 1\n",
      "\n",
      "\t\trunning loop for k = 2\n",
      "\n",
      "\t\t\ti: 0 \t j: b \t k: 2\n",
      "\n",
      "\trunning loop for j = c\n",
      "\n",
      "\t\trunning loop for k = 0\n",
      "\n",
      "\t\t\ti: 0 \t j: c \t k: 0\n",
      "\n",
      "\t\trunning loop for k = 1\n",
      "\n",
      "\t\t\ti: 0 \t j: c \t k: 1\n",
      "\n",
      "\t\trunning loop for k = 2\n",
      "\n",
      "\t\t\ti: 0 \t j: c \t k: 2\n",
      "\n",
      "running loop for i = 1\n",
      "\n",
      "\trunning loop for j = a\n",
      "\n",
      "\t\trunning loop for k = 0\n",
      "\n",
      "\t\t\ti: 1 \t j: a \t k: 0\n",
      "\n",
      "\t\trunning loop for k = 1\n",
      "\n",
      "\t\t\ti: 1 \t j: a \t k: 1\n",
      "\n",
      "\t\trunning loop for k = 2\n",
      "\n",
      "\t\t\ti: 1 \t j: a \t k: 2\n",
      "\n",
      "\trunning loop for j = b\n",
      "\n",
      "\t\trunning loop for k = 0\n",
      "\n",
      "\t\t\ti: 1 \t j: b \t k: 0\n",
      "\n",
      "\t\trunning loop for k = 1\n",
      "\n",
      "\t\t\ti: 1 \t j: b \t k: 1\n",
      "\n",
      "\t\trunning loop for k = 2\n",
      "\n",
      "\t\t\ti: 1 \t j: b \t k: 2\n",
      "\n",
      "\trunning loop for j = c\n",
      "\n",
      "\t\trunning loop for k = 0\n",
      "\n",
      "\t\t\ti: 1 \t j: c \t k: 0\n",
      "\n",
      "\t\trunning loop for k = 1\n",
      "\n",
      "\t\t\ti: 1 \t j: c \t k: 1\n",
      "\n",
      "\t\trunning loop for k = 2\n",
      "\n",
      "\t\t\ti: 1 \t j: c \t k: 2\n",
      "\n",
      "running loop for i = 2\n",
      "\n",
      "\trunning loop for j = a\n",
      "\n",
      "\t\trunning loop for k = 0\n",
      "\n",
      "\t\t\ti: 2 \t j: a \t k: 0\n",
      "\n",
      "\t\trunning loop for k = 1\n",
      "\n",
      "\t\t\ti: 2 \t j: a \t k: 1\n",
      "\n",
      "\t\trunning loop for k = 2\n",
      "\n",
      "\t\t\ti: 2 \t j: a \t k: 2\n",
      "\n",
      "\trunning loop for j = b\n",
      "\n",
      "\t\trunning loop for k = 0\n",
      "\n",
      "\t\t\ti: 2 \t j: b \t k: 0\n",
      "\n",
      "\t\trunning loop for k = 1\n",
      "\n",
      "\t\t\ti: 2 \t j: b \t k: 1\n",
      "\n",
      "\t\trunning loop for k = 2\n",
      "\n",
      "\t\t\ti: 2 \t j: b \t k: 2\n",
      "\n",
      "\trunning loop for j = c\n",
      "\n",
      "\t\trunning loop for k = 0\n",
      "\n",
      "\t\t\ti: 2 \t j: c \t k: 0\n",
      "\n",
      "\t\trunning loop for k = 1\n",
      "\n",
      "\t\t\ti: 2 \t j: c \t k: 1\n",
      "\n",
      "\t\trunning loop for k = 2\n",
      "\n",
      "\t\t\ti: 2 \t j: c \t k: 2\n",
      "\n"
     ]
    }
   ],
   "source": [
    "for i in range(3):\n",
    "    print(f\"running loop for i = {i}\\n\")\n",
    "    for j in ['a', 'b', 'c']:\n",
    "        print(f\"\\trunning loop for j = {j}\\n\")\n",
    "        for k in range(3):\n",
    "            print(f\"\\t\\trunning loop for k = {k}\\n\")\n",
    "            print(f\"\\t\\t\\ti: {i} \\t j: {j} \\t k: {k}\\n\")"
   ]
  },
  {
   "cell_type": "markdown",
   "metadata": {},
   "source": [
    "### Multiple for loops in list comprehensions:"
   ]
  },
  {
   "cell_type": "code",
   "execution_count": 11,
   "metadata": {},
   "outputs": [
    {
     "data": {
      "text/plain": [
       "[(0, 'a'),\n",
       " (0, 'b'),\n",
       " (0, 'c'),\n",
       " (1, 'a'),\n",
       " (1, 'b'),\n",
       " (1, 'c'),\n",
       " (2, 'a'),\n",
       " (2, 'b'),\n",
       " (2, 'c')]"
      ]
     },
     "execution_count": 11,
     "metadata": {},
     "output_type": "execute_result"
    }
   ],
   "source": [
    "# in a list comprehension\n",
    "\n",
    "[(x,y) for x in range(3) for y in ['a', 'b', 'c']]   # left statement is the outer loop , going from left to right"
   ]
  },
  {
   "cell_type": "code",
   "execution_count": 12,
   "metadata": {},
   "outputs": [
    {
     "data": {
      "text/plain": [
       "[(0, 'a'),\n",
       " (0, 'b'),\n",
       " (0, 'c'),\n",
       " (1, 'a'),\n",
       " (1, 'b'),\n",
       " (1, 'c'),\n",
       " (2, 'a'),\n",
       " (2, 'b'),\n",
       " (2, 'c')]"
      ]
     },
     "execution_count": 12,
     "metadata": {},
     "output_type": "execute_result"
    }
   ],
   "source": [
    "# same as list comprehension as above\n",
    "\n",
    "l = []\n",
    "\n",
    "for x in range(3):\n",
    "    for y in ['a', 'b', 'c']:\n",
    "        l.append((x,y))\n",
    "l"
   ]
  },
  {
   "cell_type": "markdown",
   "metadata": {},
   "source": [
    "# when in doubt start with for loop then turn into list comprehension"
   ]
  },
  {
   "cell_type": "code",
   "execution_count": null,
   "metadata": {},
   "outputs": [],
   "source": []
  },
  {
   "cell_type": "code",
   "execution_count": null,
   "metadata": {},
   "outputs": [],
   "source": []
  },
  {
   "cell_type": "markdown",
   "metadata": {},
   "source": [
    "# While loops\n",
    "\n",
    "\n",
    "```python\n",
    "    condition = True\n",
    "    \n",
    "    while condition:\n",
    "        <statement 1>\n",
    "        <statement 2>\n",
    "    \n",
    "```"
   ]
  },
  {
   "cell_type": "markdown",
   "metadata": {},
   "source": [
    "Run continually while the conditon is True"
   ]
  },
  {
   "cell_type": "code",
   "execution_count": 13,
   "metadata": {
    "scrolled": true
   },
   "outputs": [],
   "source": [
    "# infinite loop - do not run\n",
    "\n",
    "#useful to run terminal games, terminal games, like DDOS attack\n",
    "\n",
    "\n",
    "#while True:\n",
    "#    print(\"Hello World\")\n",
    "#    # This never reaches"
   ]
  },
  {
   "cell_type": "code",
   "execution_count": 14,
   "metadata": {},
   "outputs": [
    {
     "name": "stdout",
     "output_type": "stream",
     "text": [
      "Hello World\n"
     ]
    }
   ],
   "source": [
    "# Runs once, recheck before running the next loop, only 1 Hello World printed\n",
    "\n",
    "condition = True        \n",
    "\n",
    "while condition:\n",
    "    print(\"Hello World\")\n",
    "    condition = False   # setting the condition when "
   ]
  },
  {
   "cell_type": "code",
   "execution_count": 15,
   "metadata": {},
   "outputs": [
    {
     "name": "stdout",
     "output_type": "stream",
     "text": [
      "hello\n"
     ]
    }
   ],
   "source": [
    "condition = True\n",
    "if condition:\n",
    "    print('hello')"
   ]
  },
  {
   "cell_type": "code",
   "execution_count": 16,
   "metadata": {},
   "outputs": [],
   "source": [
    "# not True equates to False\n",
    "\n",
    "while not True:\n",
    "    print(\"Hello World\")\n",
    " "
   ]
  },
  {
   "cell_type": "code",
   "execution_count": 17,
   "metadata": {},
   "outputs": [],
   "source": [
    "if False:\n",
    "    print(\"Hello World\")"
   ]
  },
  {
   "cell_type": "code",
   "execution_count": 3,
   "metadata": {},
   "outputs": [
    {
     "name": "stdout",
     "output_type": "stream",
     "text": [
      "4\n",
      "5\n",
      "6\n",
      "7\n",
      "8\n"
     ]
    }
   ],
   "source": [
    "i = 4\n",
    "\n",
    "while i < 9:\n",
    "    print(i)\n",
    "    i += 1\n"
   ]
  },
  {
   "cell_type": "code",
   "execution_count": 4,
   "metadata": {},
   "outputs": [
    {
     "name": "stdout",
     "output_type": "stream",
     "text": [
      "4\n",
      "5\n",
      "6\n",
      "7\n",
      "8\n"
     ]
    },
    {
     "data": {
      "text/plain": [
       "9"
      ]
     },
     "execution_count": 4,
     "metadata": {},
     "output_type": "execute_result"
    }
   ],
   "source": [
    "i = 4\n",
    "\n",
    "while i < 9:\n",
    "    print(i)\n",
    "    i += 1\n",
    "    \n",
    "i   # prints 9"
   ]
  },
  {
   "cell_type": "code",
   "execution_count": null,
   "metadata": {},
   "outputs": [],
   "source": [
    "# without the i+=1, infinite loop\n",
    "\n",
    "i = 4\n",
    "\n",
    "while i < 9:\n",
    "    print(i)\n",
    "    i"
   ]
  },
  {
   "cell_type": "code",
   "execution_count": 18,
   "metadata": {
    "scrolled": true
   },
   "outputs": [
    {
     "name": "stdout",
     "output_type": "stream",
     "text": [
      "5\n",
      "6\n",
      "7\n",
      "8\n",
      "9\n"
     ]
    },
    {
     "data": {
      "text/plain": [
       "9"
      ]
     },
     "execution_count": 18,
     "metadata": {},
     "output_type": "execute_result"
    }
   ],
   "source": [
    "# This example change the result, place at the top, whatever value, add 1 or before or after it, depending where put change \n",
    "\n",
    "i = 4\n",
    "\n",
    "while i < 9:\n",
    "    i += 1\n",
    "    print(i)\n",
    "    \n",
    "i    "
   ]
  },
  {
   "cell_type": "code",
   "execution_count": 19,
   "metadata": {},
   "outputs": [
    {
     "ename": "NameError",
     "evalue": "name 'function_A' is not defined",
     "output_type": "error",
     "traceback": [
      "\u001b[0;31m---------------------------------------------------------------------------\u001b[0m",
      "\u001b[0;31mNameError\u001b[0m                                 Traceback (most recent call last)",
      "\u001b[0;32m<ipython-input-19-c6861f4dad86>\u001b[0m in \u001b[0;36m<module>\u001b[0;34m\u001b[0m\n\u001b[1;32m      4\u001b[0m \u001b[0;34m\u001b[0m\u001b[0m\n\u001b[1;32m      5\u001b[0m \u001b[0;32mwhile\u001b[0m \u001b[0mi\u001b[0m \u001b[0;34m<\u001b[0m \u001b[0;36m9\u001b[0m\u001b[0;34m:\u001b[0m\u001b[0;34m\u001b[0m\u001b[0;34m\u001b[0m\u001b[0m\n\u001b[0;32m----> 6\u001b[0;31m     \u001b[0mfunction_A\u001b[0m\u001b[0;34m(\u001b[0m\u001b[0;34m)\u001b[0m\u001b[0;34m\u001b[0m\u001b[0;34m\u001b[0m\u001b[0m\n\u001b[0m\u001b[1;32m      7\u001b[0m     \u001b[0mi\u001b[0m \u001b[0;34m+=\u001b[0m \u001b[0;36m1\u001b[0m\u001b[0;34m\u001b[0m\u001b[0;34m\u001b[0m\u001b[0m\n\u001b[1;32m      8\u001b[0m \u001b[0;34m\u001b[0m\u001b[0m\n",
      "\u001b[0;31mNameError\u001b[0m: name 'function_A' is not defined"
     ]
    }
   ],
   "source": [
    "# Reserach this\n",
    "\n",
    "i = 4\n",
    "\n",
    "while i < 9:\n",
    "    function_A()\n",
    "    i += 1\n",
    "    "
   ]
  },
  {
   "cell_type": "code",
   "execution_count": 20,
   "metadata": {
    "scrolled": true
   },
   "outputs": [
    {
     "name": "stdout",
     "output_type": "stream",
     "text": [
      "100\n",
      "99\n",
      "98\n",
      "97\n",
      "96\n",
      "95\n",
      "94\n",
      "93\n",
      "92\n",
      "91\n"
     ]
    },
    {
     "data": {
      "text/plain": [
       "90"
      ]
     },
     "execution_count": 20,
     "metadata": {},
     "output_type": "execute_result"
    }
   ],
   "source": [
    "# will start from 100, then subtract\n",
    "i = 100\n",
    "\n",
    "while i > 90:\n",
    "    print(i) # start 100\n",
    "    i -= 1   # then decrement i\n",
    "    \n",
    "i  # if output i then its 90    "
   ]
  },
  {
   "cell_type": "code",
   "execution_count": 21,
   "metadata": {},
   "outputs": [
    {
     "name": "stdout",
     "output_type": "stream",
     "text": [
      "99\n",
      "98\n",
      "97\n",
      "96\n",
      "95\n",
      "94\n",
      "93\n",
      "92\n",
      "91\n",
      "90\n"
     ]
    }
   ],
   "source": [
    "# before printing, decrement first\n",
    "\n",
    "i = 100\n",
    "\n",
    "while i > 90:\n",
    "    i -= 1 \n",
    "    print(i)\n",
    "    "
   ]
  },
  {
   "cell_type": "markdown",
   "metadata": {},
   "source": [
    "# Useful examples of `while` loops"
   ]
  },
  {
   "cell_type": "code",
   "execution_count": null,
   "metadata": {
    "scrolled": true
   },
   "outputs": [],
   "source": [
    "# Error Checking\n",
    "# Very useful to run for finding errors, use in real world example, check another \n",
    "\n",
    "import random\n",
    "\n",
    "# simulating real world function call\n",
    "def check_for_errors():\n",
    "    random_int = random.randint(0,5)\n",
    "    if random_int == 4:\n",
    "        print(\"we found an error!\")\n",
    "        return False\n",
    "    else:\n",
    "        return True\n",
    "\n",
    "no_errors = True\n",
    "\n",
    "\n",
    "\n",
    "while no_errors:\n",
    "    print(\"our code is running without errors\")\n",
    "    no_errors = check_for_errors()\n",
    "\n",
    "print(\"done\")"
   ]
  },
  {
   "cell_type": "code",
   "execution_count": null,
   "metadata": {},
   "outputs": [],
   "source": [
    "import random\n",
    "\n",
    "def check_for_errors():\n",
    "    random_int = random.randint(0,5)   # random integer in that range\n",
    "    if random_int == 4:\n",
    "        print(\"we found an error!\")\n",
    "        return False\n",
    "    else:\n",
    "        return True\n",
    "\n",
    "no_errors = True\n",
    "\n",
    "\n",
    "\n",
    "while no_errors:\n",
    "    print(\"our code is running without errors\")\n",
    "    no_errors = check_for_errors()\n",
    "\n",
    "print(\"done\")\n",
    "no_errors"
   ]
  },
  {
   "cell_type": "code",
   "execution_count": null,
   "metadata": {},
   "outputs": [],
   "source": [
    "# Search thru something and find condition, while loop beneficial for this \n",
    "\n",
    "\n",
    "import random\n",
    "\n",
    "def search_function():\n",
    "    random_int = random.randint(0,5)\n",
    "    print(random_int)\n",
    "    if random_int == 1:\n",
    "        return True\n",
    "    else:\n",
    "        return False\n",
    "    \n",
    "    \n",
    "found = False\n",
    "\n",
    "\n",
    "while not found:    # while True, initial condition going to run the loop\n",
    "    \n",
    "    \n",
    "    print(\"searching...\")   # code for some sort of web scraping\n",
    "    \n",
    "    # searching here, set it True or False\n",
    "    #time.sleep(10)\n",
    "    \n",
    "    \n",
    "    found = search_function()   # when this comes back False, break out of that loop, if not keep running \n",
    "\n",
    "print(\"we found it!\")   # when break from while loop"
   ]
  },
  {
   "cell_type": "code",
   "execution_count": null,
   "metadata": {},
   "outputs": [],
   "source": [
    "# uncomment and run the line below in order to install the requests library\n",
    "#!python3 -m pip install --user requests"
   ]
  },
  {
   "cell_type": "code",
   "execution_count": null,
   "metadata": {},
   "outputs": [],
   "source": [
    "# Sort of thing when web crawling, getting info from web server\n",
    "# Bot a web site to get Yeezys for instance\n",
    "\n",
    "import requests, random\n",
    "\n",
    "\n",
    "# get_page returns a tuple, unpacking that tuple into success and resp\n",
    "\n",
    "def get_page():\n",
    "    url = {\n",
    "        0: \"https://httpbin.org/status/200\", \n",
    "        1: \"https://httpbin.org/status/301\",\n",
    "        2: \"https://httpbin.org/status/400\",\n",
    "        3: \"https://httpbin.org/status/401\",\n",
    "        4: \"https://httpbin.org/status/403\",\n",
    "        5: \"https://httpbin.org/status/404\",\n",
    "        \n",
    "    }\n",
    "    rand_int = random.randint(0,5)\n",
    "    #print(rand_int)\n",
    "    request = requests.get(url[rand_int])\n",
    "    if (stat_code := request.status_code) == 200:   # walrus operator, := \n",
    "        return (True, stat_code)   # returning a tuple, \n",
    "    else:\n",
    "        return (False, stat_code)\n",
    "    \n",
    "######################################################################################\n",
    "\n",
    "fetched_page = False    \n",
    "    \n",
    "while not fetched_page:\n",
    "    success, resp = get_page()\n",
    "    print(success, resp)\n",
    "    fetched_page = success"
   ]
  },
  {
   "cell_type": "markdown",
   "metadata": {},
   "source": [
    "# Other Useful Control Structure keywords"
   ]
  },
  {
   "cell_type": "code",
   "execution_count": null,
   "metadata": {},
   "outputs": [],
   "source": [
    "# pass example, have to have a code block, certain situations python is expecting a code block\n",
    "# Use case, not sure what to do with it, no operation thing in python, does not change anything with the code\n",
    "\n",
    "for i in range(10):\n",
    "    if i % 2 == 0:\n",
    "        pass       # no operation does nothing\n",
    "    print(i)"
   ]
  },
  {
   "cell_type": "code",
   "execution_count": null,
   "metadata": {
    "scrolled": true
   },
   "outputs": [],
   "source": [
    "# error when python is expecting a code block\n",
    "\n",
    "#SyntaxError: unexpected EOF while parsing means that the end of your source code was reached before \n",
    "#all code blocks were completed.\n",
    "\n",
    "if True:"
   ]
  },
  {
   "cell_type": "code",
   "execution_count": null,
   "metadata": {},
   "outputs": [],
   "source": [
    "if True:\n",
    "    pass\n",
    "\n",
    "while True:\n",
    "    pass"
   ]
  },
  {
   "cell_type": "code",
   "execution_count": null,
   "metadata": {},
   "outputs": [],
   "source": [
    "if True:\n",
    "    pass\n",
    "\n",
    "if 4 < 2:\n",
    "    print(\"no\")\n",
    "elif 3 > 1:\n",
    "    print(\"no\")\n",
    "elif 1 >:            # placeholder in here just to get the code to run\n",
    "    pass\n",
    "else"
   ]
  },
  {
   "cell_type": "code",
   "execution_count": null,
   "metadata": {},
   "outputs": [],
   "source": [
    "# Good for development, just a keyword thats available\n",
    "\n",
    "def func():      \n",
    "    pass\n",
    "\n",
    "func()"
   ]
  },
  {
   "cell_type": "code",
   "execution_count": null,
   "metadata": {},
   "outputs": [],
   "source": [
    "if True:\n",
    "    pass"
   ]
  },
  {
   "cell_type": "code",
   "execution_count": null,
   "metadata": {},
   "outputs": [],
   "source": [
    "def func():\n",
    "    pass\n",
    "    \n",
    "print(\"coding\")"
   ]
  },
  {
   "cell_type": "code",
   "execution_count": 5,
   "metadata": {
    "scrolled": true
   },
   "outputs": [
    {
     "name": "stdout",
     "output_type": "stream",
     "text": [
      "1\n",
      "3\n",
      "5\n",
      "7\n",
      "9\n"
     ]
    }
   ],
   "source": [
    "# continue example, skipping \n",
    "for i in range(10):\n",
    "    if i % 2 == 0:   # even check\n",
    "        continue      # not finishing code block, what is it checking? continuing the loop\n",
    "    print(i)          # does not get to the statement\n",
    "    "
   ]
  },
  {
   "cell_type": "code",
   "execution_count": 6,
   "metadata": {},
   "outputs": [
    {
     "name": "stdout",
     "output_type": "stream",
     "text": [
      "100\n",
      "99\n",
      "98\n",
      "97\n",
      "96\n",
      "95\n",
      "94\n",
      "93\n",
      "92\n",
      "91\n"
     ]
    }
   ],
   "source": [
    "i = 100\n",
    "\n",
    "while i > 90:\n",
    "    print(i) # start 100\n",
    "    i -= 1"
   ]
  },
  {
   "cell_type": "code",
   "execution_count": 7,
   "metadata": {},
   "outputs": [
    {
     "name": "stdout",
     "output_type": "stream",
     "text": [
      "1\n",
      "3\n",
      "5\n",
      "7\n",
      "9\n"
     ]
    }
   ],
   "source": [
    "for i in range(10):\n",
    "    if i % 2 == 0:   \n",
    "        \n",
    "        continue      \n",
    "    print(i) "
   ]
  },
  {
   "cell_type": "code",
   "execution_count": 8,
   "metadata": {},
   "outputs": [
    {
     "name": "stdout",
     "output_type": "stream",
     "text": [
      "1\n",
      "2\n",
      "hello\n"
     ]
    }
   ],
   "source": [
    "# break example\n",
    "for i in range(1,10):\n",
    "    if i % 3 == 0:\n",
    "        break      # break is similar to continue, break on the other hand breaks out of the loop entirely\n",
    "    print(i)\n",
    "    \n",
    "print(\"hello\")"
   ]
  },
  {
   "cell_type": "code",
   "execution_count": 9,
   "metadata": {},
   "outputs": [
    {
     "name": "stdout",
     "output_type": "stream",
     "text": [
      "1\n",
      "2\n",
      "hello\n"
     ]
    }
   ],
   "source": [
    "for i in range(1,10):\n",
    "    if i % 3 == 0:\n",
    "        break      \n",
    "    print(i)\n",
    "    \n",
    "print(\"hello\")"
   ]
  },
  {
   "cell_type": "code",
   "execution_count": 12,
   "metadata": {},
   "outputs": [
    {
     "name": "stdout",
     "output_type": "stream",
     "text": [
      "no iterable found\n"
     ]
    }
   ],
   "source": [
    "# for else statement, small use case\n",
    "iterable = \"\"\n",
    "#iterable = \"string\"\n",
    "\n",
    "\n",
    "for i in iterable:\n",
    "    print(i)\n",
    "else:\n",
    "    print(\"no iterable found\")"
   ]
  },
  {
   "cell_type": "code",
   "execution_count": null,
   "metadata": {},
   "outputs": [],
   "source": [
    "# for else statement, small use case\n",
    "iterable = \"\"\n",
    "\n",
    "\n",
    "\n",
    "for i in iterable:\n",
    "    print(i)\n",
    "#else:\n",
    "    #print(\"no iterable found\")"
   ]
  },
  {
   "cell_type": "code",
   "execution_count": 13,
   "metadata": {},
   "outputs": [
    {
     "name": "stdout",
     "output_type": "stream",
     "text": [
      "no iterable found\n"
     ]
    }
   ],
   "source": [
    "# for else statement, Small use case, no if statement add ELSE STATEMENT TO FOR loop\n",
    "iterable = \"\"\n",
    "\n",
    "\n",
    "\n",
    "for i in iterable:   # this is not going to work, because iterable is empty\n",
    "    print(i)\n",
    "else:\n",
    "    print(\"no iterable found\")"
   ]
  },
  {
   "cell_type": "code",
   "execution_count": null,
   "metadata": {},
   "outputs": [],
   "source": []
  }
 ],
 "metadata": {
  "kernelspec": {
   "display_name": "Python 3",
   "language": "python",
   "name": "python3"
  },
  "language_info": {
   "codemirror_mode": {
    "name": "ipython",
    "version": 3
   },
   "file_extension": ".py",
   "mimetype": "text/x-python",
   "name": "python",
   "nbconvert_exporter": "python",
   "pygments_lexer": "ipython3",
   "version": "3.8.5"
  }
 },
 "nbformat": 4,
 "nbformat_minor": 4
}
