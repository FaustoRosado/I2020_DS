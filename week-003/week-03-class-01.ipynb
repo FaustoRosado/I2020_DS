{
 "cells": [
  {
   "cell_type": "markdown",
   "metadata": {},
   "source": [
    "<div style=\"background: #000;\n",
    "            color: #FFF;\n",
    "            margin: 0px;\n",
    "                padding: 10px 0px 20px 0px;\n",
    "            text-align: center; \n",
    "                \">\n",
    "    <h1> Week 3 - Day 1</h1>\n",
    "</div>\n",
    "\n",
    "## Objectives for this week:\n",
    "* If Statements, If and Elif\n",
    "* Conditional Statements, Nested Conditionals\n",
    "* While & For loops, Nested Loops\n",
    "* List Comprehension\n",
    "* Dictionaries\n",
    "\n",
    "## Todays Agenda\n",
    "* Homework Presentations\n",
    "* If statements, If and Elif\n",
    "* Conditional statements, Nested Conditionals\n",
    "* For loops introduction\n",
    "\n"
   ]
  },
  {
   "cell_type": "markdown",
   "metadata": {},
   "source": [
    "<div style=\"background: #000;\n",
    "            color: #FFF;\n",
    "            margin: 0px;\n",
    "                padding: 10px 0px 20px 0px;\n",
    "            text-align: center; \n",
    "                \">\n",
    "    <h1>Homework Presentations</h1>\n",
    "</div>"
   ]
  },
  {
   "cell_type": "markdown",
   "metadata": {},
   "source": [
    "# Exercise #1\n",
    "\n",
    "### Given the following variable `money_moves`"
   ]
  },
  {
   "cell_type": "code",
<<<<<<< HEAD
   "execution_count": 3,
=======
   "execution_count": null,
>>>>>>> 9bcb85082bee3521929bbc33123fdb6b165afb33
   "metadata": {},
   "outputs": [],
   "source": [
    "money_moves = [\"fur coats\",\"money fans\",\"Diamonds\",\"MoNeY FaNs\",\"FUR COATS\",\"barrels of gold\"]"
   ]
  },
  {
   "cell_type": "markdown",
   "metadata": {},
   "source": [
    "### a. Print the list of unique elements. Then output the length."
   ]
  },
  {
   "cell_type": "code",
<<<<<<< HEAD
   "execution_count": 5,
   "metadata": {
    "scrolled": true
   },
   "outputs": [
    {
     "data": {
      "text/plain": [
       "{'Diamonds',\n",
       " 'FUR COATS',\n",
       " 'MoNeY FaNs',\n",
       " 'barrels of gold',\n",
       " 'fur coats',\n",
       " 'money fans'}"
      ]
     },
     "execution_count": 5,
     "metadata": {},
     "output_type": "execute_result"
    }
   ],
   "source": [
    "# place code here\n",
    "# Was supposed to turn everything to lowercase, then convert to a set\n",
    "\n",
    "# Cast a list into a set\n",
    "\n",
    "# convert the elements in lowercase\n",
    "\n",
    "set(money_moves)\n"
   ]
  },
  {
   "cell_type": "code",
   "execution_count": 6,
   "metadata": {},
   "outputs": [
    {
     "data": {
      "text/plain": [
       "[(0, 'e1'), (1, 'e2'), (2, 'e3'), (3, 'e4'), (4, 'e5')]"
      ]
     },
     "execution_count": 6,
     "metadata": {},
     "output_type": "execute_result"
    }
   ],
   "source": [
    "new_list = ['e1', 'e2', 'e3', 'e4', 'e5']\n",
    "list(enumerate(new_list))"
=======
   "execution_count": null,
   "metadata": {},
   "outputs": [],
   "source": [
    "# place code here\n"
>>>>>>> 9bcb85082bee3521929bbc33123fdb6b165afb33
   ]
  },
  {
   "cell_type": "markdown",
   "metadata": {},
   "source": [
    "### b. Set the 4th and 5th elements of the original list in lowercase. Pop that value and append it to the end of the list. Print the list."
   ]
  },
  {
   "cell_type": "code",
   "execution_count": null,
   "metadata": {},
   "outputs": [],
   "source": []
  },
  {
   "cell_type": "markdown",
   "metadata": {},
   "source": [
    "### d. Create a new list, append odd number items from the original list`money_moves` and output the new list"
   ]
  },
  {
   "cell_type": "code",
   "execution_count": null,
   "metadata": {},
   "outputs": [],
   "source": [
    "money_moves = [\"fur coats\",\"money fans\",\"Diamonds\",\"MoNeY FaNs\",\"FUR COATS\",\"barrels of gold\"]\n"
   ]
  },
  {
<<<<<<< HEAD
   "cell_type": "code",
   "execution_count": null,
   "metadata": {},
   "outputs": [],
   "source": []
  },
  {
=======
>>>>>>> 9bcb85082bee3521929bbc33123fdb6b165afb33
   "cell_type": "markdown",
   "metadata": {},
   "source": [
    "### e. Create a new dict. Add each item of `money_moves` to the dict using it's place in the list as the key for the dict. Print the dict."
   ]
  },
  {
   "cell_type": "code",
   "execution_count": null,
   "metadata": {},
   "outputs": [],
   "source": [
    "money_moves = [\"fur coats\",\"money fans\",\"Diamonds\",\"MoNeY FaNs\",\"FUR COATS\",\"barrels of gold\"]\n"
   ]
  },
  {
<<<<<<< HEAD
   "cell_type": "code",
   "execution_count": 21,
   "metadata": {},
   "outputs": [
    {
     "data": {
      "text/plain": [
       "[(0, 'e1'), (1, 'e2'), (2, 'e3'), (3, 'e4'), (4, 'e5')]"
      ]
     },
     "execution_count": 21,
     "metadata": {},
     "output_type": "execute_result"
    }
   ],
   "source": [
    "new_list = ['e1', 'e2', 'e3', 'e4', 'e5']\n",
    "list(enumerate(new_list))"
   ]
  },
  {
   "cell_type": "code",
   "execution_count": 22,
   "metadata": {},
   "outputs": [
    {
     "data": {
      "text/plain": [
       "[(0, 'e1'), (1, 'e2'), (2, 'e3'), (3, 'e4'), (4, 'e5')]"
      ]
     },
     "execution_count": 22,
     "metadata": {},
     "output_type": "execute_result"
    }
   ],
   "source": [
    "list(enumerate(new_list))\n",
    "\n"
   ]
  },
  {
   "cell_type": "code",
   "execution_count": 23,
   "metadata": {},
   "outputs": [
    {
     "data": {
      "text/plain": [
       "{0: 'a', 1: 'b'}"
      ]
     },
     "execution_count": 23,
     "metadata": {},
     "output_type": "execute_result"
    }
   ],
   "source": [
    "s = dict([(0, 'a'),(1, 'b')])\n",
    "s"
   ]
  },
  {
   "cell_type": "markdown",
   "metadata": {},
   "source": [
    "``iterable`` - \n",
    "\n",
    "list  is an iterable data set\n",
    "\n",
    "``iterators`` - enumerate()"
   ]
  },
  {
   "cell_type": "code",
   "execution_count": 24,
   "metadata": {},
   "outputs": [],
   "source": [
    "e = enumerate(new_list)"
   ]
  },
  {
   "cell_type": "code",
   "execution_count": 25,
   "metadata": {},
   "outputs": [
    {
     "data": {
      "text/plain": [
       "(0, 'e1')"
      ]
     },
     "execution_count": 25,
     "metadata": {},
     "output_type": "execute_result"
    }
   ],
   "source": [
    "next(e)"
   ]
  },
  {
   "cell_type": "code",
   "execution_count": 26,
   "metadata": {},
   "outputs": [
    {
     "data": {
      "text/plain": [
       "[(1, 'e2'), (2, 'e3'), (3, 'e4'), (4, 'e5')]"
      ]
     },
     "execution_count": 26,
     "metadata": {},
     "output_type": "execute_result"
    }
   ],
   "source": [
    "list(e)"
   ]
  },
  {
   "cell_type": "code",
   "execution_count": 27,
   "metadata": {},
   "outputs": [],
   "source": [
    "#next(e)"
   ]
  },
  {
   "cell_type": "code",
   "execution_count": 28,
   "metadata": {
    "scrolled": true
   },
   "outputs": [
    {
     "data": {
      "text/plain": [
       "<generator object f at 0x10a209740>"
      ]
     },
     "execution_count": 28,
     "metadata": {},
     "output_type": "execute_result"
    }
   ],
   "source": [
    "def f():\n",
    "    yield True\n",
    "    \n",
    "f()"
   ]
  },
  {
   "cell_type": "code",
   "execution_count": 29,
   "metadata": {},
   "outputs": [
    {
     "ename": "TypeError",
     "evalue": "unhashable type: 'list'",
     "output_type": "error",
     "traceback": [
      "\u001b[0;31m---------------------------------------------------------------------------\u001b[0m",
      "\u001b[0;31mTypeError\u001b[0m                                 Traceback (most recent call last)",
      "\u001b[0;32m<ipython-input-29-b2f6a0112c48>\u001b[0m in \u001b[0;36m<module>\u001b[0;34m\u001b[0m\n\u001b[1;32m      1\u001b[0m \u001b[0;31m# if we did this\u001b[0m\u001b[0;34m\u001b[0m\u001b[0;34m\u001b[0m\u001b[0;34m\u001b[0m\u001b[0m\n\u001b[1;32m      2\u001b[0m \u001b[0;34m\u001b[0m\u001b[0m\n\u001b[0;32m----> 3\u001b[0;31m \u001b[0md\u001b[0m \u001b[0;34m=\u001b[0m \u001b[0;34m{\u001b[0m\u001b[0;34m[\u001b[0m\u001b[0;34m(\u001b[0m\u001b[0;36m0\u001b[0m\u001b[0;34m,\u001b[0m \u001b[0;34m'a'\u001b[0m\u001b[0;34m)\u001b[0m\u001b[0;34m,\u001b[0m \u001b[0;34m(\u001b[0m\u001b[0;36m1\u001b[0m\u001b[0;34m,\u001b[0m \u001b[0;34m'b'\u001b[0m\u001b[0;34m)\u001b[0m\u001b[0;34m]\u001b[0m\u001b[0;34m}\u001b[0m\u001b[0;34m\u001b[0m\u001b[0;34m\u001b[0m\u001b[0m\n\u001b[0m\u001b[1;32m      4\u001b[0m \u001b[0md\u001b[0m\u001b[0;34m\u001b[0m\u001b[0;34m\u001b[0m\u001b[0m\n",
      "\u001b[0;31mTypeError\u001b[0m: unhashable type: 'list'"
     ]
    }
   ],
   "source": [
    "# if we did this\n",
    "# cannot change into dictionary that way\n",
    "# WE NEED TO CAST IT\n",
    "# list(e)   \n",
    "\n",
    "d = {[(0, 'a'), (1, 'b')]}    # proper way d ={0:'a', 1: 'b', 2, 2: 'c'}\n",
    "d"
   ]
  },
  {
   "cell_type": "code",
   "execution_count": 30,
   "metadata": {},
   "outputs": [
    {
     "name": "stdout",
     "output_type": "stream",
     "text": [
      "Return an enumerate object.\n",
      "\n",
      "  iterable\n",
      "    an object supporting iteration\n",
      "\n",
      "The enumerate object yields pairs containing a count (from start, which\n",
      "defaults to zero) and a value yielded by the iterable argument.\n",
      "\n",
      "enumerate is useful for obtaining an indexed list:\n",
      "    (0, seq[0]), (1, seq[1]), (2, seq[2]), ...\n"
     ]
    }
   ],
   "source": [
    "print(enumerate.__doc__)"
   ]
  },
  {
   "cell_type": "markdown",
   "metadata": {},
   "source": [
    "What is hashable in python? can turn into something it can understand, then turn into a list"
   ]
  },
  {
=======
>>>>>>> 9bcb85082bee3521929bbc33123fdb6b165afb33
   "cell_type": "markdown",
   "metadata": {},
   "source": [
    "<div style=\"background: #000;\n",
    "            color: #FFF;\n",
    "            margin: 0 auto;\n",
    "\n",
    "                \">\n",
    "    <h1>Control Structures and Conditionals</h1>\n",
    "</div>"
   ]
  },
  {
   "cell_type": "markdown",
   "metadata": {},
   "source": [
    "# Control Structures and Conditionals\n",
    "\n",
    "## Code blocks\n",
    "\n",
    "A code block is a group of statements in code. In python, a code block is a group of statements with the same indentation\n",
    "\n",
    "```python\n",
    "    statement1\n",
    "    statement2\n",
    "    statement3\n",
    "```\n",
    "\n",
    "How would we run statement2 only if a condition is met in statement1? How would we go back to statement1 after statement3?\n",
    "\n",
    "In software engineering,  we need a way to organize our code blocks into reuseable segments. Running or looping through statements based on conditions\n",
    "\n",
    "## Control structures and conditionals are a way to set up the statements we've been using to go through specific steps based on conditions being met. \n",
    "\n",
    "\n",
    "## Examples of Control Structures in Python\n",
    "* `if` statement - runs code **if** a condition is met\n",
    "* `for` statement - runs code **for each** iteration that a condition isn't met.\n",
    "* `while` statement - runs code **while** a condition isn't met\n",
    "\n",
    "\n",
    "`if`\n",
    "\n",
    "```python\n",
    "    if True:\n",
    "        print(\"Hello World\")\n",
    "```\n",
    "\n",
    "`for`\n",
    "\n",
    "```python\n",
    "    for x in range(10):\n",
    "        print(\"Hello World\")\n",
    "```\n",
    "\n",
    "`while`\n",
    "```python\n",
    "\n",
    "    while True:\n",
    "        print(\"Hello World\")\n",
    "\n",
    "```\n"
   ]
  },
  {
   "cell_type": "markdown",
   "metadata": {},
   "source": [
    "# Conditionals"
   ]
  },
  {
   "cell_type": "markdown",
   "metadata": {},
   "source": [
    "# `and`"
   ]
  },
  {
   "cell_type": "code",
   "execution_count": null,
   "metadata": {},
   "outputs": [],
   "source": [
    "True and False"
   ]
  },
  {
   "cell_type": "markdown",
   "metadata": {},
   "source": [
    "# `or`"
   ]
  },
  {
   "cell_type": "code",
   "execution_count": null,
   "metadata": {},
   "outputs": [],
   "source": [
    "True or False"
   ]
  },
  {
   "cell_type": "markdown",
   "metadata": {},
   "source": [
    "# `==`"
   ]
  },
  {
   "cell_type": "code",
<<<<<<< HEAD
   "execution_count": 32,
   "metadata": {},
   "outputs": [
    {
     "data": {
      "text/plain": [
       "True"
      ]
     },
     "execution_count": 32,
     "metadata": {},
     "output_type": "execute_result"
    }
   ],
   "source": [
    "s = True and True    # like idea of short-circuit\n",
    "t = True or False\n",
    "u = False\n",
    "#not u\n",
    "#s == t == not u   can't run like this\n",
    "s == t and not u\n"
=======
   "execution_count": null,
   "metadata": {},
   "outputs": [],
   "source": [
    "s = True and True\n",
    "t = True or False\n",
    "u = False\n",
    "s == t #== u #and not u\n"
>>>>>>> 9bcb85082bee3521929bbc33123fdb6b165afb33
   ]
  },
  {
   "cell_type": "code",
<<<<<<< HEAD
   "execution_count": 33,
   "metadata": {},
   "outputs": [
    {
     "data": {
      "text/plain": [
       "True"
      ]
     },
     "execution_count": 33,
     "metadata": {},
     "output_type": "execute_result"
    }
   ],
=======
   "execution_count": null,
   "metadata": {},
   "outputs": [],
>>>>>>> 9bcb85082bee3521929bbc33123fdb6b165afb33
   "source": [
    "s = \"string\"\n",
    "t = \"string\"\n",
    "u = s[0:3] + t[3:6]\n",
    "s == t == u"
   ]
  },
  {
   "cell_type": "code",
<<<<<<< HEAD
   "execution_count": 34,
   "metadata": {},
   "outputs": [
    {
     "data": {
      "text/plain": [
       "True"
      ]
     },
     "execution_count": 34,
     "metadata": {},
     "output_type": "execute_result"
    }
   ],
   "source": [
    "s is t"
   ]
  },
  {
   "cell_type": "code",
   "execution_count": 35,
   "metadata": {},
   "outputs": [
    {
     "data": {
      "text/plain": [
       "False"
      ]
     },
     "execution_count": 35,
     "metadata": {},
     "output_type": "execute_result"
    }
   ],
   "source": [
    "s is u"
   ]
  },
  {
   "cell_type": "code",
   "execution_count": 44,
   "metadata": {},
   "outputs": [
    {
     "data": {
      "text/plain": [
       "True"
      ]
     },
     "execution_count": 44,
     "metadata": {},
     "output_type": "execute_result"
    }
   ],
=======
   "execution_count": null,
   "metadata": {},
   "outputs": [],
>>>>>>> 9bcb85082bee3521929bbc33123fdb6b165afb33
   "source": [
    "s = \"abcd\"\n",
    "t = \"abcd\"\n",
    "u = \"cdba\"\n",
<<<<<<< HEAD
    "#s == t == u \"\".join(sorted(u))\n",
    "s == t == \"\".join(sorted(u))"
=======
    "s == t #== \"\".join(sorted(u))"
>>>>>>> 9bcb85082bee3521929bbc33123fdb6b165afb33
   ]
  },
  {
   "cell_type": "code",
<<<<<<< HEAD
   "execution_count": 38,
   "metadata": {},
   "outputs": [
    {
     "data": {
      "text/plain": [
       "True"
      ]
     },
     "execution_count": 38,
     "metadata": {},
     "output_type": "execute_result"
    }
   ],
   "source": [
    "s = 4\n",
    "t = 4\n",
    "u = 2\n",
    "s == t == 2 * u"
=======
   "execution_count": null,
   "metadata": {},
   "outputs": [],
   "source": [
    "s = 4\n",
    "t = 4\n",
    "#u = 2\n",
    "s == t #== 2 * u"
>>>>>>> 9bcb85082bee3521929bbc33123fdb6b165afb33
   ]
  },
  {
   "cell_type": "code",
<<<<<<< HEAD
   "execution_count": 45,
   "metadata": {},
   "outputs": [
    {
     "data": {
      "text/plain": [
       "True"
      ]
     },
     "execution_count": 45,
     "metadata": {},
     "output_type": "execute_result"
    }
   ],
   "source": [
    "s = [3,4,5]\n",
    "t = [3,4,5]\n",
    "u = [3,5,4]\n",
    "u.sort()\n",
    "s == t == u"
=======
   "execution_count": null,
   "metadata": {},
   "outputs": [],
   "source": [
    "s = [3,4,5]\n",
    "t = [3,4,5]\n",
    "#u = [3,5,4]\n",
    "#u.sort()\n",
    "s == t #== u"
>>>>>>> 9bcb85082bee3521929bbc33123fdb6b165afb33
   ]
  },
  {
   "cell_type": "code",
<<<<<<< HEAD
   "execution_count": 46,
   "metadata": {},
   "outputs": [
    {
     "data": {
      "text/plain": [
       "False"
      ]
     },
     "execution_count": 46,
     "metadata": {},
     "output_type": "execute_result"
    }
   ],
=======
   "execution_count": null,
   "metadata": {},
   "outputs": [],
>>>>>>> 9bcb85082bee3521929bbc33123fdb6b165afb33
   "source": [
    "s = (0,1,3)\n",
    "t = (0,1,3)\n",
    "u = (0,1,2)\n",
    "\n",
<<<<<<< HEAD
    "s == t == u"
=======
    "s == t #== u"
>>>>>>> 9bcb85082bee3521929bbc33123fdb6b165afb33
   ]
  },
  {
   "cell_type": "code",
<<<<<<< HEAD
   "execution_count": 49,
   "metadata": {},
   "outputs": [
    {
     "name": "stdout",
     "output_type": "stream",
     "text": [
      "True\n"
     ]
    },
    {
     "data": {
      "text/plain": [
       "(4465008960, 4465008704)"
      ]
     },
     "execution_count": 49,
     "metadata": {},
     "output_type": "execute_result"
    }
   ],
   "source": [
    "s = {'a':1, 'b':2}    # true, python going thru each e by referencing the keys\n",
    "t = {'b':2, 'a':1}\n",
    "\n",
    "print(s == t)   # elements of s are equivalent to t  NOT CHECKING FOR EXACT SAME OBJECT\n",
    "id(s), id(t)   # different objects"
=======
   "execution_count": null,
   "metadata": {},
   "outputs": [],
   "source": [
    "s = {'a':1, 'b':2}\n",
    "t = {'b':2, 'a':1}\n",
    "\n",
    "s == t"
>>>>>>> 9bcb85082bee3521929bbc33123fdb6b165afb33
   ]
  },
  {
   "cell_type": "markdown",
   "metadata": {},
   "source": [
    "# `!=`"
   ]
  },
  {
   "cell_type": "code",
<<<<<<< HEAD
   "execution_count": 50,
   "metadata": {},
   "outputs": [
    {
     "data": {
      "text/plain": [
       "True"
      ]
     },
     "execution_count": 50,
     "metadata": {},
     "output_type": "execute_result"
    }
   ],
   "source": [
    "s = True\n",
    "u = False\n",
    "s != u\n",
    " #True because NOT equal"
=======
   "execution_count": null,
   "metadata": {},
   "outputs": [],
   "source": [
    "s = True\n",
    "u = False\n",
    "s != u\n"
>>>>>>> 9bcb85082bee3521929bbc33123fdb6b165afb33
   ]
  },
  {
   "cell_type": "code",
<<<<<<< HEAD
   "execution_count": 51,
   "metadata": {},
   "outputs": [
    {
     "data": {
      "text/plain": [
       "True"
      ]
     },
     "execution_count": 51,
     "metadata": {},
     "output_type": "execute_result"
    }
   ],
=======
   "execution_count": null,
   "metadata": {},
   "outputs": [],
>>>>>>> 9bcb85082bee3521929bbc33123fdb6b165afb33
   "source": [
    "s = [0,1,2,3]\n",
    "t = [0,2,1,3]\n",
    "\n",
    "s != t"
   ]
  },
  {
   "cell_type": "code",
<<<<<<< HEAD
   "execution_count": 52,
   "metadata": {},
   "outputs": [
    {
     "data": {
      "text/plain": [
       "True"
      ]
     },
     "execution_count": 52,
     "metadata": {},
     "output_type": "execute_result"
    }
   ],
=======
   "execution_count": null,
   "metadata": {},
   "outputs": [],
>>>>>>> 9bcb85082bee3521929bbc33123fdb6b165afb33
   "source": [
    "s = (0,1,3)\n",
    "t = (0,1,2)\n",
    "\n",
    "s != t "
   ]
  },
  {
   "cell_type": "markdown",
   "metadata": {},
   "source": [
    "# `>`/`<`"
   ]
  },
  {
   "cell_type": "code",
<<<<<<< HEAD
   "execution_count": 53,
   "metadata": {},
   "outputs": [
    {
     "data": {
      "text/plain": [
       "True"
      ]
     },
     "execution_count": 53,
     "metadata": {},
     "output_type": "execute_result"
    }
   ],
   "source": [
    "True > False   # because 1 is greater than 0"
=======
   "execution_count": null,
   "metadata": {},
   "outputs": [],
   "source": [
    "True > False"
>>>>>>> 9bcb85082bee3521929bbc33123fdb6b165afb33
   ]
  },
  {
   "cell_type": "code",
<<<<<<< HEAD
   "execution_count": 54,
   "metadata": {},
   "outputs": [
    {
     "data": {
      "text/plain": [
       "True"
      ]
     },
     "execution_count": 54,
     "metadata": {},
     "output_type": "execute_result"
    }
   ],
=======
   "execution_count": null,
   "metadata": {},
   "outputs": [],
>>>>>>> 9bcb85082bee3521929bbc33123fdb6b165afb33
   "source": [
    "\"string5\" > \"string3\""
   ]
  },
  {
   "cell_type": "code",
<<<<<<< HEAD
   "execution_count": 57,
   "metadata": {
    "scrolled": true
   },
   "outputs": [
    {
     "data": {
      "text/plain": [
       "True"
      ]
     },
     "execution_count": 57,
     "metadata": {},
     "output_type": "execute_result"
    }
   ],
   "source": [
    "[0,1,2,3,4] < [0,1,2,3,5]   # compare each element"
   ]
  },
  {
   "cell_type": "code",
   "execution_count": 58,
   "metadata": {},
   "outputs": [
    {
     "data": {
      "text/plain": [
       "True"
      ]
     },
     "execution_count": 58,
     "metadata": {},
     "output_type": "execute_result"
    }
   ],
   "source": [
    "[0,1,2,3,4,1,1] < [0,1,2,3,5]  # again compare the elements"
=======
   "execution_count": null,
   "metadata": {},
   "outputs": [],
   "source": [
    "[0,1,2,3,4] < [0,1,2,3,5]"
>>>>>>> 9bcb85082bee3521929bbc33123fdb6b165afb33
   ]
  },
  {
   "cell_type": "code",
<<<<<<< HEAD
   "execution_count": 59,
   "metadata": {},
   "outputs": [
    {
     "data": {
      "text/plain": [
       "True"
      ]
     },
     "execution_count": 59,
     "metadata": {},
     "output_type": "execute_result"
    }
   ],
   "source": [
    "(1,2,3) < (1,2,4)"
   ]
  },
  {
   "cell_type": "markdown",
   "metadata": {},
   "source": [
    "VERY IMPORTANT"
=======
   "execution_count": null,
   "metadata": {},
   "outputs": [],
   "source": [
    "(1,2,3) < (1,2,4)"
>>>>>>> 9bcb85082bee3521929bbc33123fdb6b165afb33
   ]
  },
  {
   "cell_type": "code",
<<<<<<< HEAD
   "execution_count": 60,
   "metadata": {},
   "outputs": [
    {
     "data": {
      "text/plain": [
       "True"
      ]
     },
     "execution_count": 60,
     "metadata": {},
     "output_type": "execute_result"
    }
   ],
   "source": [
    "(1,2, ('aa', 'ab')) < (1, 2, ('abc', 'a'), 4) # loops, minute it hits stops, short-circuits **"
=======
   "execution_count": null,
   "metadata": {},
   "outputs": [],
   "source": [
    "(1,2, ('aa', 'ab')) < (1, 2, ('abc', 'a'), 4)"
>>>>>>> 9bcb85082bee3521929bbc33123fdb6b165afb33
   ]
  },
  {
   "cell_type": "markdown",
   "metadata": {},
   "source": [
    "# `>=`/`<=`"
   ]
  },
  {
   "cell_type": "code",
<<<<<<< HEAD
   "execution_count": 61,
   "metadata": {},
   "outputs": [
    {
     "data": {
      "text/plain": [
       "True"
      ]
     },
     "execution_count": 61,
     "metadata": {},
     "output_type": "execute_result"
    }
   ],
=======
   "execution_count": null,
   "metadata": {},
   "outputs": [],
>>>>>>> 9bcb85082bee3521929bbc33123fdb6b165afb33
   "source": [
    "True >= False"
   ]
  },
  {
   "cell_type": "code",
<<<<<<< HEAD
   "execution_count": 62,
   "metadata": {},
   "outputs": [
    {
     "data": {
      "text/plain": [
       "True"
      ]
     },
     "execution_count": 62,
     "metadata": {},
     "output_type": "execute_result"
    }
   ],
=======
   "execution_count": null,
   "metadata": {},
   "outputs": [],
>>>>>>> 9bcb85082bee3521929bbc33123fdb6b165afb33
   "source": [
    "\"string\" >= \"string\""
   ]
  },
  {
   "cell_type": "code",
<<<<<<< HEAD
   "execution_count": 63,
   "metadata": {},
   "outputs": [
    {
     "data": {
      "text/plain": [
       "(53, 51)"
      ]
     },
     "execution_count": 63,
     "metadata": {},
     "output_type": "execute_result"
    }
   ],
   "source": [
    "ord('5'), ord('3')"
   ]
  },
  {
   "cell_type": "code",
   "execution_count": 64,
   "metadata": {},
   "outputs": [
    {
     "data": {
      "text/plain": [
       "True"
      ]
     },
     "execution_count": 64,
     "metadata": {},
     "output_type": "execute_result"
    }
   ],
=======
   "execution_count": null,
   "metadata": {},
   "outputs": [],
>>>>>>> 9bcb85082bee3521929bbc33123fdb6b165afb33
   "source": [
    "[0,1,2,3,4] >= [0,1,2,3]"
   ]
  },
  {
   "cell_type": "code",
<<<<<<< HEAD
   "execution_count": 65,
   "metadata": {
    "scrolled": true
   },
   "outputs": [
    {
     "data": {
      "text/plain": [
       "True"
      ]
     },
     "execution_count": 65,
     "metadata": {},
     "output_type": "execute_result"
    }
   ],
   "source": [
    "(1,2, ('abc', 'ab')) >= (1, 2, ('abc', 'a'), 4)   # again short-circuit  D"
   ]
  },
  {
   "cell_type": "markdown",
   "metadata": {},
   "source": [
    "Very important"
   ]
  },
  {
   "cell_type": "code",
   "execution_count": 66,
   "metadata": {
    "scrolled": true
   },
   "outputs": [
    {
     "data": {
      "text/plain": [
       "True"
      ]
     },
     "execution_count": 66,
     "metadata": {},
     "output_type": "execute_result"
    }
   ],
   "source": [
    "[0,1,2,3,4] >= [0,1,2,3,3,2,3,5]    # again short-circuiting  ***"
   ]
  },
  {
   "cell_type": "code",
   "execution_count": 69,
   "metadata": {},
   "outputs": [
    {
     "data": {
      "text/plain": [
       "True"
      ]
     },
     "execution_count": 69,
     "metadata": {},
     "output_type": "execute_result"
    }
   ],
   "source": [
    "(1,2, ('abc', 'b')) >= (1, 2, ('abc', 'a'), 4)   # comparing strings for the ordinals"
=======
   "execution_count": null,
   "metadata": {},
   "outputs": [],
   "source": [
    "(1,2, ('abc', 'ab')) >= (1, 2, ('abc', 'a'), 4)"
>>>>>>> 9bcb85082bee3521929bbc33123fdb6b165afb33
   ]
  },
  {
   "cell_type": "markdown",
   "metadata": {},
   "source": [
    "# `is`"
   ]
  },
  {
   "cell_type": "code",
<<<<<<< HEAD
   "execution_count": 74,
   "metadata": {},
   "outputs": [
    {
     "data": {
      "text/plain": [
       "True"
      ]
     },
     "execution_count": 74,
     "metadata": {},
     "output_type": "execute_result"
    }
   ],
   "source": [
    "a = 'string'\n",
    "b = 'string'\n",
    "c = \"\".join(['s', 't','r', 'i', 'n','g'])\n",
    "\n",
    "#a == c\n",
    "\n",
    "a is b"
   ]
  },
  {
   "cell_type": "code",
   "execution_count": 75,
   "metadata": {},
   "outputs": [
    {
     "data": {
      "text/plain": [
       "True"
      ]
     },
     "execution_count": 75,
     "metadata": {},
     "output_type": "execute_result"
    }
   ],
   "source": [
    "a = True   # a\n",
    "a is True\n",
    "a == True    # to use not u i"
=======
   "execution_count": null,
   "metadata": {},
   "outputs": [],
   "source": [
    "True is True"
>>>>>>> 9bcb85082bee3521929bbc33123fdb6b165afb33
   ]
  },
  {
   "cell_type": "code",
<<<<<<< HEAD
   "execution_count": 76,
   "metadata": {},
   "outputs": [
    {
     "data": {
      "text/plain": [
       "True"
      ]
     },
     "execution_count": 76,
     "metadata": {},
     "output_type": "execute_result"
    }
   ],
   "source": [
    "True is True     # only work "
   ]
  },
  {
   "cell_type": "code",
   "execution_count": 77,
   "metadata": {},
   "outputs": [
    {
     "data": {
      "text/plain": [
       "True"
      ]
     },
     "execution_count": 77,
     "metadata": {},
     "output_type": "execute_result"
    }
   ],
=======
   "execution_count": null,
   "metadata": {},
   "outputs": [],
>>>>>>> 9bcb85082bee3521929bbc33123fdb6b165afb33
   "source": [
    "True is not False"
   ]
  },
  {
   "cell_type": "code",
<<<<<<< HEAD
   "execution_count": 78,
   "metadata": {},
   "outputs": [
    {
     "ename": "SyntaxError",
     "evalue": "invalid syntax (<ipython-input-78-ba472dcc1299>, line 1)",
     "output_type": "error",
     "traceback": [
      "\u001b[0;36m  File \u001b[0;32m\"<ipython-input-78-ba472dcc1299>\"\u001b[0;36m, line \u001b[0;32m1\u001b[0m\n\u001b[0;31m    True == not False\u001b[0m\n\u001b[0m            ^\u001b[0m\n\u001b[0;31mSyntaxError\u001b[0m\u001b[0;31m:\u001b[0m invalid syntax\n"
     ]
    }
   ],
=======
   "execution_count": null,
   "metadata": {},
   "outputs": [],
>>>>>>> 9bcb85082bee3521929bbc33123fdb6b165afb33
   "source": [
    "True == not False"
   ]
  },
  {
   "cell_type": "code",
<<<<<<< HEAD
   "execution_count": 79,
   "metadata": {},
   "outputs": [
    {
     "data": {
      "text/plain": [
       "False"
      ]
     },
     "execution_count": 79,
     "metadata": {},
     "output_type": "execute_result"
    }
   ],
=======
   "execution_count": null,
   "metadata": {},
   "outputs": [],
>>>>>>> 9bcb85082bee3521929bbc33123fdb6b165afb33
   "source": [
    "[] is None"
   ]
  },
  {
   "cell_type": "code",
<<<<<<< HEAD
   "execution_count": 80,
   "metadata": {
    "scrolled": true
   },
   "outputs": [
    {
     "data": {
      "text/plain": [
       "True"
      ]
     },
     "execution_count": 80,
     "metadata": {},
     "output_type": "execute_result"
    }
   ],
   "source": [
    "None is None"
   ]
  },
  {
   "cell_type": "code",
=======
>>>>>>> 9bcb85082bee3521929bbc33123fdb6b165afb33
   "execution_count": null,
   "metadata": {},
   "outputs": [],
   "source": [
<<<<<<< HEAD
    "a = None\n",
=======
>>>>>>> 9bcb85082bee3521929bbc33123fdb6b165afb33
    "None is None"
   ]
  },
  {
   "cell_type": "markdown",
   "metadata": {},
   "source": [
<<<<<<< HEAD
    "# `in`           "
=======
    "# `in`"
>>>>>>> 9bcb85082bee3521929bbc33123fdb6b165afb33
   ]
  },
  {
   "cell_type": "code",
<<<<<<< HEAD
   "execution_count": 81,
   "metadata": {},
   "outputs": [
    {
     "data": {
      "text/plain": [
       "True"
      ]
     },
     "execution_count": 81,
     "metadata": {},
     "output_type": "execute_result"
    }
   ],
   "source": [
    "\"in\" in \"string\"    # substring w/i larger string"
=======
   "execution_count": null,
   "metadata": {},
   "outputs": [],
   "source": [
    "\"in\" in \"string\""
>>>>>>> 9bcb85082bee3521929bbc33123fdb6b165afb33
   ]
  },
  {
   "cell_type": "code",
<<<<<<< HEAD
   "execution_count": 82,
   "metadata": {},
   "outputs": [
    {
     "data": {
      "text/plain": [
       "True"
      ]
     },
     "execution_count": 82,
     "metadata": {},
     "output_type": "execute_result"
    }
   ],
   "source": [
    "4 in [1,2,3,4]   # in a list \n",
    "#4  not in [1,2,3,4] "
=======
   "execution_count": null,
   "metadata": {},
   "outputs": [],
   "source": [
    "4 in [1,2,3,4]"
>>>>>>> 9bcb85082bee3521929bbc33123fdb6b165afb33
   ]
  },
  {
   "cell_type": "code",
<<<<<<< HEAD
   "execution_count": 83,
   "metadata": {},
   "outputs": [
    {
     "data": {
      "text/plain": [
       "True"
      ]
     },
     "execution_count": 83,
     "metadata": {},
     "output_type": "execute_result"
    }
   ],
   "source": [
    "4 in {3:'a', 4:'b'} # 4 is in the dictionary , CHECKING THE KEY"
=======
   "execution_count": null,
   "metadata": {},
   "outputs": [],
   "source": [
    "4 in {3:'a', 4:'b'}"
>>>>>>> 9bcb85082bee3521929bbc33123fdb6b165afb33
   ]
  },
  {
   "cell_type": "code",
<<<<<<< HEAD
   "execution_count": 84,
   "metadata": {},
   "outputs": [
    {
     "data": {
      "text/plain": [
       "False"
      ]
     },
     "execution_count": 84,
     "metadata": {},
     "output_type": "execute_result"
    }
   ],
   "source": [
    "'a' in {3:'a', 4:'b'}   # A IS VAL IN DICT ,IN WITH DICTIONARY CHECK FOR THE KEYS, NOT VALUES"
=======
   "execution_count": null,
   "metadata": {},
   "outputs": [],
   "source": [
    "'a' in {3:'a', 4:'b'}"
>>>>>>> 9bcb85082bee3521929bbc33123fdb6b165afb33
   ]
  },
  {
   "cell_type": "code",
<<<<<<< HEAD
   "execution_count": 85,
   "metadata": {},
   "outputs": [
    {
     "data": {
      "text/plain": [
       "True"
      ]
     },
     "execution_count": 85,
     "metadata": {},
     "output_type": "execute_result"
    }
   ],
   "source": [
    "2 in (0,1,2)     # IN THE TUPLE"
=======
   "execution_count": null,
   "metadata": {},
   "outputs": [],
   "source": [
    "2 in (0,1,2)"
>>>>>>> 9bcb85082bee3521929bbc33123fdb6b165afb33
   ]
  },
  {
   "cell_type": "code",
<<<<<<< HEAD
   "execution_count": 86,
   "metadata": {},
   "outputs": [
    {
     "data": {
      "text/plain": [
       "True"
      ]
     },
     "execution_count": 86,
     "metadata": {},
     "output_type": "execute_result"
    }
   ],
=======
   "execution_count": null,
   "metadata": {},
   "outputs": [],
>>>>>>> 9bcb85082bee3521929bbc33123fdb6b165afb33
   "source": [
    "True not in [False, False, False]"
   ]
  },
  {
   "cell_type": "markdown",
   "metadata": {},
   "source": [
    "# If statement\n",
    "\n",
    "    c = bool_statement\n",
    "    \n",
    "    ...\n",
    "    code block a\n",
    "    ...\n",
    "        \n",
    "        if c:\n",
    "            ...\n",
    "            code block a\n",
    "            ...\n",
    "            \n",
    "\n",
    "Remember when we covered (*insert logic problem reference here*)? \n",
    "We used multiple statements changing them based on the truth value"
   ]
  },
  {
   "cell_type": "code",
<<<<<<< HEAD
   "execution_count": 87,
   "metadata": {},
   "outputs": [
    {
     "name": "stdout",
     "output_type": "stream",
     "text": [
      "False\n"
     ]
    },
    {
     "data": {
      "text/plain": [
       "True"
      ]
     },
     "execution_count": 87,
     "metadata": {},
     "output_type": "execute_result"
    }
   ],
=======
   "execution_count": null,
   "metadata": {},
   "outputs": [],
>>>>>>> 9bcb85082bee3521929bbc33123fdb6b165afb33
   "source": [
    "statement1 = False\n",
    "print(statement1)\n",
    "not statement1"
   ]
  },
  {
   "cell_type": "markdown",
   "metadata": {},
   "source": [
    "## If statements allow us to control code execution based on whether or not statement has a certain truth value"
   ]
  },
  {
   "cell_type": "markdown",
   "metadata": {},
   "source": [
    "# If Statements in python"
   ]
  },
  {
   "cell_type": "code",
<<<<<<< HEAD
   "execution_count": 89,
   "metadata": {},
   "outputs": [
    {
     "data": {
      "text/plain": [
       "'hello'"
      ]
     },
     "execution_count": 89,
     "metadata": {},
     "output_type": "execute_result"
    }
   ],
   "source": [
    "s = \"hello\" if 5 > 3 else \"goodbye\"   # split, don't have to have else, unless in one line\n",
    "s"
   ]
  },
  {
   "cell_type": "code",
   "execution_count": 88,
   "metadata": {},
   "outputs": [
    {
     "data": {
      "text/plain": [
       "'goodbye'"
      ]
     },
     "execution_count": 88,
     "metadata": {},
     "output_type": "execute_result"
    }
   ],
   "source": [
    "s = \"hello\" if 1 > 3 else \"goodbye\"\n",
    "s"
   ]
  },
  {
   "cell_type": "code",
=======
>>>>>>> 9bcb85082bee3521929bbc33123fdb6b165afb33
   "execution_count": null,
   "metadata": {},
   "outputs": [],
   "source": [
<<<<<<< HEAD
    "statement1 = False\n",
    "statement2 = 'running statement2'\n",
    "\n",
    "if statement1 is True:\n",
    "    print(statement2)\n",
    "    print(sta)\n",
    "print('rest of code')    "
=======
    "s = \"hello\" if 5 > 3 else \"goodbye\"\n",
    "s"
>>>>>>> 9bcb85082bee3521929bbc33123fdb6b165afb33
   ]
  },
  {
   "cell_type": "code",
   "execution_count": null,
   "metadata": {},
   "outputs": [],
   "source": [
<<<<<<< HEAD
    "if statement1 is True:         # normal if statements in python\n",
=======
    "if statement1 is True:\n",
>>>>>>> 9bcb85082bee3521929bbc33123fdb6b165afb33
    "    print(statement2)\n",
    "    \n",
    "# above is valid python but not necessary\n",
    "\n",
    "if statement1:\n",
    "    print(statement2)"
   ]
  },
  {
<<<<<<< HEAD
   "cell_type": "code",
   "execution_count": 93,
   "metadata": {},
   "outputs": [
    {
     "name": "stdout",
     "output_type": "stream",
     "text": [
      "running statement2\n",
      "running statement2\n"
     ]
    }
   ],
   "source": [
    "statement1 = True\n",
    "statement2 = \"running statement2\"\n",
    " \n",
    "#if not statement1 is True:\n",
    "#    print(statement2)\n",
    "\n",
    "# above is valid python but not necessary\n",
    "\n",
    "if statement1:                 #all conditonals, like bottom statement\n",
    "    print(statement2)\n",
    "    #print(statement2)\n",
    "    #print(statement2)\n",
    "    #print(statement2)\n",
    "    #print(statement2)\n",
    "    #to run another code block\n",
    "    \n",
    "    \n",
    "#if statement1 : print(statement2)    less usual \n",
    "\n",
    "    \n",
    "# as soon as see unindented block    \n",
    "#print(\"print here\")\n",
    "    \n",
    "statement1 and print(statement2)        # if statement above is the same, written in diff way#\n",
    " #python short-circuits if first is False    \n",
    "    "
   ]
  },
  {
=======
>>>>>>> 9bcb85082bee3521929bbc33123fdb6b165afb33
   "cell_type": "markdown",
   "metadata": {},
   "source": [
    "# What about \"if not\""
   ]
  },
  {
   "cell_type": "code",
<<<<<<< HEAD
   "execution_count": 94,
   "metadata": {
    "scrolled": true
   },
   "outputs": [
    {
     "name": "stdout",
     "output_type": "stream",
     "text": [
      "running statement2\n"
     ]
    },
    {
     "data": {
      "text/plain": [
       "False"
      ]
     },
     "execution_count": 94,
     "metadata": {},
     "output_type": "execute_result"
    }
   ],
   "source": [
    "statement1 = False\n",
    "statement2 = \"running statement2\"\n",
    " \n",
    "if not statement1:\n",
    "    print(statement2)\n",
    "    \n",
    "statement1 and print(statement2)    "
   ]
  },
  {
   "cell_type": "code",
   "execution_count": 96,
   "metadata": {},
   "outputs": [
    {
     "name": "stdout",
     "output_type": "stream",
     "text": [
      "3 is in l\n"
     ]
    }
   ],
   "source": [
    "statement_1 = True\n",
    "l = [0,2,3,4,5]\n",
    "\n",
    "if 3 in l:\n",
    "    print(\"3 is in l\")\n",
    "else:\n",
    "    print(\"not in l\")"
   ]
  },
  {
   "cell_type": "code",
   "execution_count": 97,
   "metadata": {},
   "outputs": [
    {
     "name": "stdout",
     "output_type": "stream",
     "text": [
      "3 is in l\n"
     ]
    }
   ],
   "source": [
    "statement_1 = True\n",
    "l = [0,2,3,4,5]\n",
    "\n",
    "if 3 in l:\n",
    "    print(\"3 is in l\")\n",
    "elif 4 in l:\n",
    "    print('4 in l')\n",
    "else:\n",
    "    print(\"not in l\")"
   ]
  },
  {
   "cell_type": "code",
   "execution_count": 103,
   "metadata": {},
   "outputs": [
    {
     "name": "stdout",
     "output_type": "stream",
     "text": [
      "0 and 3 are in l\n"
     ]
    }
   ],
   "source": [
    "statement_1 = True\n",
    "l = [0,2,3,4,5]\n",
    "\n",
    "if 0 in l and 3 in l:\n",
    "    print(\"0 and 3 are in l\")\n",
    "elif 4 in l:\n",
    "    print('4 in l')\n",
    "else:\n",
    "    print(\"not in l\")"
   ]
  },
  {
   "cell_type": "code",
   "execution_count": 104,
   "metadata": {},
   "outputs": [
    {
     "name": "stdout",
     "output_type": "stream",
     "text": [
      "2nd in l\n"
     ]
    }
   ],
   "source": [
    "statement_1 = True\n",
    "l = [0,2,3,4,5]\n",
    "\n",
    "if 8 in l:\n",
    "    print(\"1st is in l\")\n",
    "elif 4 in l:\n",
    "    print('2nd in l')\n",
    "else:\n",
    "    print(\"not in l\")"
   ]
  },
  {
   "cell_type": "code",
   "execution_count": 100,
   "metadata": {},
   "outputs": [
    {
     "name": "stdout",
     "output_type": "stream",
     "text": [
      "not in l\n"
     ]
    }
   ],
   "source": [
    "statement_1 = True\n",
    "l = [0,2,3,4,5]\n",
    "\n",
    "if 8 in l:\n",
    "    print(\"3 is in l\")\n",
    "elif 43 in l:\n",
    "    print('4 in l')\n",
    "else:\n",
    "    print(\"not in l\")"
   ]
  },
  {
   "cell_type": "code",
   "execution_count": 95,
   "metadata": {},
   "outputs": [
    {
     "name": "stdout",
     "output_type": "stream",
     "text": [
      "running statement2\n",
      "running statement2\n"
     ]
    }
   ],
=======
   "execution_count": null,
   "metadata": {},
   "outputs": [],
>>>>>>> 9bcb85082bee3521929bbc33123fdb6b165afb33
   "source": [
    "statement1 = False\n",
    "statement2 = \"running statement2\"\n",
    " \n",
    "if not statement1:\n",
<<<<<<< HEAD
    "    print(statement2)\n",
    "    \n",
    "statement1 or print(statement2)  # does not short-circuits"
=======
    "    print(statement2)"
>>>>>>> 9bcb85082bee3521929bbc33123fdb6b165afb33
   ]
  },
  {
   "cell_type": "markdown",
   "metadata": {},
   "source": [
    "# `elif` and `else`\n",
    "\n",
    "\n",
    "```python\n",
    "\n",
    "    if statement1:\n",
    "        ...\n",
    "        code block a\n",
    "        ...\n",
    "    elif statement2:\n",
    "        ...\n",
    "        code block b\n",
    "        ...\n",
    "    else:\n",
    "        ...\n",
    "        code block c\n",
    "        ...\n",
    "```\n",
    "\n",
    "If statement 1 is true -> execute code block a  \n",
    "If statement 2 is true -> execute code block b  \n",
    "ELSE (if and only if the other two statements are false) -> execute code block c  \n"
   ]
  },
  {
   "cell_type": "code",
   "execution_count": null,
   "metadata": {},
   "outputs": [],
   "source": [
    "# What about non-binary cases? Or default statement?\n",
    "\n",
<<<<<<< HEAD
    "# bad example because of is\n",
    "\n",
=======
>>>>>>> 9bcb85082bee3521929bbc33123fdb6b165afb33
    "# three colors\n",
    "\n",
    "blue = \"blue\"\n",
    "gray = \"gray\"\n",
    "red = \"red\"\n",
    "\n",
    "tshirt = \"brown\"\n",
    "\n",
<<<<<<< HEAD
    "if tshirt is blue: \n",
=======
    "if tshirt is blue:\n",
>>>>>>> 9bcb85082bee3521929bbc33123fdb6b165afb33
    "    print(blue)\n",
    "elif tshirt is gray:\n",
    "    print(grey)\n",
    "elif tshirt is red:\n",
    "    print(red)\n",
    "else:\n",
    "    print(\"who knows?\")"
   ]
  },
  {
   "cell_type": "markdown",
   "metadata": {},
   "source": [
    "# Example 1"
   ]
  },
  {
   "cell_type": "code",
<<<<<<< HEAD
   "execution_count": 110,
   "metadata": {},
   "outputs": [
    {
     "name": "stdout",
     "output_type": "stream",
     "text": [
      "Please enter a temperature in F:62\n"
     ]
    }
   ],
   "source": [
    "temp = int(input(\"Please enter a temperature in F:\"))"
=======
   "execution_count": null,
   "metadata": {},
   "outputs": [],
   "source": [
    "x = int(input(\"Please enter a temperature in F:\"))"
>>>>>>> 9bcb85082bee3521929bbc33123fdb6b165afb33
   ]
  },
  {
   "cell_type": "code",
<<<<<<< HEAD
   "execution_count": 111,
   "metadata": {},
   "outputs": [
    {
     "name": "stdout",
     "output_type": "stream",
     "text": [
      "It's nice outside\n"
     ]
    }
   ],
=======
   "execution_count": null,
   "metadata": {},
   "outputs": [],
>>>>>>> 9bcb85082bee3521929bbc33123fdb6b165afb33
   "source": [
    "# How we can get this to print the forecast?\n",
    "\n",
    "# if, elif, else\n",
<<<<<<< HEAD
    "\n",
    "\n",
    "if temp >= 80:\n",
    "    print(\"It's hot outside.\")\n",
    "elif temp <= 55:\n",
    "    print(\"It's cold outside.\")\n",
    "else:\n",
    "    print(\"It's nice outside\")    # the default\n",
    "    \n",
    "#print(x)\n",
    "#print(\"It's hot outside.\")\n",
    "#print(\"It's cold outside.\")\n",
    "#print(\"It's nice outside\")"
=======
    "    \n",
    "print(x)\n",
    "print(\"It's hot outside.\")\n",
    "print(\"It's cold outside.\")\n",
    "print(\"It's nice outside\")"
>>>>>>> 9bcb85082bee3521929bbc33123fdb6b165afb33
   ]
  },
  {
   "cell_type": "markdown",
   "metadata": {},
   "source": [
    "# Example 2 Nested conditionals"
   ]
  },
  {
   "cell_type": "markdown",
   "metadata": {},
   "source": [
    "# How can we:\n",
    "* print \"negative\" if a negative number\n",
    "* print \"positive\" if a positive number\n",
    "* convert values of a list to an integer"
   ]
  },
  {
   "cell_type": "code",
<<<<<<< HEAD
   "execution_count": 113,
   "metadata": {},
   "outputs": [],
   "source": [
    "s = [-34,20,['a', '3.0', 2],300,10,5]        # Nested List if statement in the loop, handle the list\n",
    "\n",
    "# have alphanumeric and float , have to handle both below"
   ]
  },
  {
   "cell_type": "code",
   "execution_count": 117,
   "metadata": {},
   "outputs": [
    {
     "data": {
      "text/plain": [
       "True"
      ]
     },
     "execution_count": 117,
     "metadata": {},
     "output_type": "execute_result"
    }
   ],
   "source": [
    "#check if its an int\n",
    "\n",
    "type(s[0]) == int"
=======
   "execution_count": null,
   "metadata": {},
   "outputs": [],
   "source": [
    "s = [-34,20,['a', '3.0', 2],300,10,5]"
>>>>>>> 9bcb85082bee3521929bbc33123fdb6b165afb33
   ]
  },
  {
   "cell_type": "code",
   "execution_count": null,
   "metadata": {},
   "outputs": [],
<<<<<<< HEAD
   "source": [
    "for element in s:\n",
    "    if type(element) == int \n",
    "        if element < 0:    # checking twice, could be costly, consolidate? nested if statement \n",
    "            print(\"negative\")\n",
    "        elif element > 0:\n",
    "            print(\"postive\")\n",
    "        #elif element >= 0:      ZERO is mathematically positive\n",
    "           #print(\"postive\")\n",
    "        else :\n",
    "            print(\"zero\")\n",
    "    #elif type(element) == float\n",
    "    \n",
    "    # check if its a list\n",
    "    elif type(element) == list:\n",
    "        for item in element      # convert vals of list to an integer looping thru sublist ['a', '3.0', 2]\n",
    "            print(\"it's a list, we'll handle it tomorrow\") \n",
    "    else:\n",
    "        print(\"incorrect value\")"
   ]
=======
   "source": []
>>>>>>> 9bcb85082bee3521929bbc33123fdb6b165afb33
  }
 ],
 "metadata": {
  "kernelspec": {
   "display_name": "Python 3",
   "language": "python",
   "name": "python3"
  },
  "language_info": {
   "codemirror_mode": {
    "name": "ipython",
    "version": 3
   },
   "file_extension": ".py",
   "mimetype": "text/x-python",
   "name": "python",
   "nbconvert_exporter": "python",
   "pygments_lexer": "ipython3",
   "version": "3.8.5"
  }
 },
 "nbformat": 4,
 "nbformat_minor": 4
}
