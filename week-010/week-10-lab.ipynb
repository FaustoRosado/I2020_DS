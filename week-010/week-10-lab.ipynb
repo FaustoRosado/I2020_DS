{
 "cells": [
  {
   "cell_type": "markdown",
   "metadata": {},
   "source": [
    "<div style=\"background: #000;\n",
    "            color: #FFF;\n",
    "            margin: 0px;\n",
    "                padding: 10px 0px 20px 0px;\n",
    "            text-align: center; \n",
    "                \">\n",
    "    <h1>Week 10 Lab</h1>\n",
    "</div>"
   ]
  },
  {
   "cell_type": "markdown",
   "metadata": {},
   "source": [
    "# Exercise 1\n",
    "\n",
    "Building off of your portfolio web application, we'd like to add a form to the page.\n",
    "Use the example flask application code to add a contact page to your web application with an associated form. If you already have a portfolio web app, then add a form of some sort to the same application you created a git repo for.\n",
    "\n",
    "Commit your code to that same repo and submit the link with your lab submission."
   ]
  },
  {
   "cell_type": "code",
   "execution_count": null,
   "metadata": {},
   "outputs": [],
   "source": []
  },
  {
   "cell_type": "markdown",
   "metadata": {},
   "source": [
    "# Exercise 2\n",
    "\n",
    "Write a function that creates a sqlite database with a table `customer` with the following columns:\n",
    "* `name` - string of length 255 \n",
    "* `address` - string of length 255\n",
    "* `email` - string of length 255\n",
    "* `company` - string of length 255\n",
    "* `outstanding_invoices` - int"
   ]
  },
  {
   "cell_type": "code",
<<<<<<< HEAD
   "execution_count": 16,
   "metadata": {},
   "outputs": [
    {
     "name": "stdout",
     "output_type": "stream",
     "text": [
      "Opened database successfully\n",
      "Table created\n",
      "('customer1', '123 anytown road', 'abc@gmail.com', 'microsoft', 100)\n",
      "('customer2', '456 sometown road', 'def@yahoo.com', 'facebook', 101)\n",
      "('customer3', '789 bronx road', 'bob@outlook.com', 'citicorp', 102)\n",
      "Rows created successfully\n"
     ]
    }
   ],
   "source": [
    "import sqlite3 \n",
    "\n",
    "\n",
    "\n",
    "customers = [\n",
    "    ('customer1', '123 anytown road', 'abc@gmail.com', 'microsoft', 100),\n",
    "    ('customer2', '456 sometown road', 'def@yahoo.com', 'facebook', 101),\n",
    "    ('customer3', '789 bronx road', 'bob@outlook.com', 'citicorp', 102)\n",
    "]\n",
    "\n",
    "def table():\n",
    "    conn = sqlite3.connect('fausto_database.db')\n",
    "    print(\"Opened database successfully\")\n",
    "    cursor = conn.cursor()\n",
    "    cursor.execute(\"DROP table IF EXISTS customers ;\") \n",
    "    cursor.execute(\"\"\"\n",
    "    CREATE TABLE customers (\n",
    "     name varchar(255), \n",
    "     address varchar(255),\n",
    "     email varchar(255),\n",
    "     company varchar(255),\n",
    "     outstanding_invoices int\n",
    "    );\n",
    "    \"\"\")\n",
    "    print(\"Table created\")\n",
    "    for customer in customers:\n",
    "        print(customer)\n",
    "    cursor.execute(f\"INSERT INTO customers (name, address, email, company, outstanding_invoices) \\\n",
    "                   VALUES ('{customer[0]}', '{customer[1]}', '{customer[2]}', '{customer[3]}', \\\n",
    "                   '{customer[4]}');\")\n",
    "\n",
    "    conn.commit()\n",
    "    print(\"Rows created successfully\")\n",
    "    conn.close()\n",
    "\n",
    "table()\n",
    "    "
   ]
  },
  {
   "cell_type": "code",
   "execution_count": 17,
   "metadata": {},
   "outputs": [
    {
     "name": "stdout",
     "output_type": "stream",
     "text": [
      "Opened database successfully\n",
      "[('customer3', '789 bronx road', 'bob@outlook.com', 'citicorp', 102)]\n",
      "Operations completed successfully\n"
     ]
    }
   ],
   "source": [
    "import sqlite3\n",
    "\n",
    "conn = sqlite3.connect('fausto_database.db')\n",
    "print(\"Opened database successfully\")\n",
    "cursor = conn.cursor()\n",
    "cursor.execute(\"SELECT * FROM customers WHERE outstanding_invoices > 95 ;\")\n",
    "row = cursor.fetchall()\n",
    "print(row)\n",
    "print(\"Operations completed successfully\")\n",
    "conn.close()"
   ]
  },
  {
   "cell_type": "code",
   "execution_count": 18,
   "metadata": {},
   "outputs": [
    {
     "name": "stdout",
     "output_type": "stream",
     "text": [
      "Opened database successfully\n",
      "[('customer3', '789 bronx road', 'bob@outlook.com', 'citicorp', 102)]\n",
      "Operations completed successfully\n"
     ]
    }
   ],
   "source": [
    "conn = sqlite3.connect('fausto_database.db')\n",
    "print(\"Opened database successfully\")\n",
    "cursor = conn.cursor()\n",
    "cursor.execute(\"SELECT * FROM customers;\")\n",
    "row = cursor.fetchall()  #fetch all the results\n",
    "print(row)\n",
    "print(\"Operations completed successfully\")\n",
    "conn.close()"
   ]
=======
   "execution_count": null,
   "metadata": {},
   "outputs": [],
   "source": []
>>>>>>> 9bcb85082bee3521929bbc33123fdb6b165afb33
  },
  {
   "cell_type": "markdown",
   "metadata": {},
   "source": [
<<<<<<< HEAD
    "# Exercise 3\n",
=======
    "# Exercise 2\n",
>>>>>>> 9bcb85082bee3521929bbc33123fdb6b165afb33
    "\n",
    "Start to create a python script that scrapes the data from the source for your final project.\n",
    "\n",
    "Answer the following below for your lab submission:\n",
    "\n",
    "What is the source of your data?\n",
    "\n",
    "What is the page you will be scraping the data from?\n",
    "\n",
    "What sort of link/elements do you need to target in order to get your data?\n",
    "\n",
    "What will be the structure of your sqlite database?  \n",
    "\n",
    "What tables will you need?  \n",
    "\n",
    "What columns will those tables have?  \n",
    "\n",
    "What connections between tables might you need?"
   ]
  },
  {
   "cell_type": "code",
   "execution_count": null,
   "metadata": {},
   "outputs": [],
   "source": []
  }
 ],
 "metadata": {
  "kernelspec": {
   "display_name": "Python 3",
   "language": "python",
   "name": "python3"
  },
  "language_info": {
   "codemirror_mode": {
    "name": "ipython",
    "version": 3
   },
   "file_extension": ".py",
   "mimetype": "text/x-python",
   "name": "python",
   "nbconvert_exporter": "python",
   "pygments_lexer": "ipython3",
<<<<<<< HEAD
   "version": "3.8.5"
=======
   "version": "3.8.6"
>>>>>>> 9bcb85082bee3521929bbc33123fdb6b165afb33
  }
 },
 "nbformat": 4,
 "nbformat_minor": 4
}
