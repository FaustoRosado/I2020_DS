{
 "cells": [
  {
   "cell_type": "markdown",
   "id": "6e7b8526",
   "metadata": {},
   "source": [
    "<div style=\"background: #000;\n",
    "            color: #FFF;\n",
    "            margin: 0px;\n",
    "            margin-bottom: 10px;\n",
    "            padding: 10px 0px 20px 0px;\n",
    "            text-align: center; \n",
    "                \">\n",
    "    <h1>Week 33 Lab</h1> \n",
    "    <h3>05/19/21</h3>\n",
    "</div>\n",
    "\n",
    "# Exercise 1\n",
    "\n",
    "Make your own, very simple, package in python and use it in a `main.py` file like we did above. When completed, push it to github and then paste the link to your git repo containing the code below."
   ]
  },
  {
   "cell_type": "raw",
   "id": "ec129815",
   "metadata": {},
   "source": []
  },
  {
   "cell_type": "markdown",
   "id": "eecb2738",
   "metadata": {},
   "source": [
    "# Exercise 2\n",
    "\n",
    "Create a function that takes an argument `file` (string that contains filename) and `dct` (dictionary) and writes each key/value pair in the dictionary in the following format:\n",
    "```\n",
    "key1:value1\n",
    "key2:value2\n",
    "```\n"
   ]
  },
  {
   "cell_type": "code",
   "execution_count": 14,
   "id": "6a133be2",
   "metadata": {},
   "outputs": [],
   "source": [
    "def dictionary_to_file(file, dct):\n",
    "    dct = {}\n",
    "    for line in file:\n",
    "        values = line.split('')\n",
    "        dct[values[0]] = {int(x) for x in values[1:len(values)]}\n",
    "    return(dct)"
   ]
  },
  {
   "cell_type": "code",
   "execution_count": 15,
   "id": "74accf3b",
   "metadata": {},
   "outputs": [
    {
     "ename": "ValueError",
     "evalue": "empty separator",
     "output_type": "error",
     "traceback": [
      "\u001b[0;31m---------------------------------------------------------------------------\u001b[0m",
      "\u001b[0;31mValueError\u001b[0m                                Traceback (most recent call last)",
      "\u001b[0;32m<ipython-input-15-533a62163b1f>\u001b[0m in \u001b[0;36m<module>\u001b[0;34m\u001b[0m\n\u001b[0;32m----> 1\u001b[0;31m \u001b[0mdictionary_to_file\u001b[0m\u001b[0;34m(\u001b[0m\u001b[0;34m\"hello.txt\"\u001b[0m\u001b[0;34m,\u001b[0m \u001b[0;34m{\u001b[0m\u001b[0;34m'a'\u001b[0m\u001b[0;34m:\u001b[0m\u001b[0;36m1\u001b[0m\u001b[0;34m,\u001b[0m \u001b[0;34m'b'\u001b[0m\u001b[0;34m:\u001b[0m\u001b[0;36m2\u001b[0m\u001b[0;34m,\u001b[0m \u001b[0;34m'c'\u001b[0m\u001b[0;34m:\u001b[0m\u001b[0;36m3\u001b[0m\u001b[0;34m}\u001b[0m\u001b[0;34m)\u001b[0m\u001b[0;34m\u001b[0m\u001b[0;34m\u001b[0m\u001b[0m\n\u001b[0m",
      "\u001b[0;32m<ipython-input-14-c3c5266d1314>\u001b[0m in \u001b[0;36mdictionary_to_file\u001b[0;34m(file, dct)\u001b[0m\n\u001b[1;32m      2\u001b[0m     \u001b[0mdct\u001b[0m \u001b[0;34m=\u001b[0m \u001b[0;34m{\u001b[0m\u001b[0;34m}\u001b[0m\u001b[0;34m\u001b[0m\u001b[0;34m\u001b[0m\u001b[0m\n\u001b[1;32m      3\u001b[0m     \u001b[0;32mfor\u001b[0m \u001b[0mline\u001b[0m \u001b[0;32min\u001b[0m \u001b[0mfile\u001b[0m\u001b[0;34m:\u001b[0m\u001b[0;34m\u001b[0m\u001b[0;34m\u001b[0m\u001b[0m\n\u001b[0;32m----> 4\u001b[0;31m         \u001b[0mvalues\u001b[0m \u001b[0;34m=\u001b[0m \u001b[0mline\u001b[0m\u001b[0;34m.\u001b[0m\u001b[0msplit\u001b[0m\u001b[0;34m(\u001b[0m\u001b[0;34m''\u001b[0m\u001b[0;34m)\u001b[0m\u001b[0;34m\u001b[0m\u001b[0;34m\u001b[0m\u001b[0m\n\u001b[0m\u001b[1;32m      5\u001b[0m         \u001b[0mdct\u001b[0m\u001b[0;34m[\u001b[0m\u001b[0mvalues\u001b[0m\u001b[0;34m[\u001b[0m\u001b[0;36m0\u001b[0m\u001b[0;34m]\u001b[0m\u001b[0;34m]\u001b[0m \u001b[0;34m=\u001b[0m \u001b[0;34m{\u001b[0m\u001b[0mint\u001b[0m\u001b[0;34m(\u001b[0m\u001b[0mx\u001b[0m\u001b[0;34m)\u001b[0m \u001b[0;32mfor\u001b[0m \u001b[0mx\u001b[0m \u001b[0;32min\u001b[0m \u001b[0mvalues\u001b[0m\u001b[0;34m[\u001b[0m\u001b[0;36m1\u001b[0m\u001b[0;34m:\u001b[0m\u001b[0mlen\u001b[0m\u001b[0;34m(\u001b[0m\u001b[0mvalues\u001b[0m\u001b[0;34m)\u001b[0m\u001b[0;34m]\u001b[0m\u001b[0;34m}\u001b[0m\u001b[0;34m\u001b[0m\u001b[0;34m\u001b[0m\u001b[0m\n\u001b[1;32m      6\u001b[0m     \u001b[0;32mreturn\u001b[0m\u001b[0;34m(\u001b[0m\u001b[0mdct\u001b[0m\u001b[0;34m)\u001b[0m\u001b[0;34m\u001b[0m\u001b[0;34m\u001b[0m\u001b[0m\n",
      "\u001b[0;31mValueError\u001b[0m: empty separator"
     ]
    }
   ],
   "source": [
    "dictionary_to_file(\"hello.txt\", {'a':1, 'b':2, 'c':3})"
   ]
  },
  {
   "cell_type": "markdown",
   "id": "09c8d339",
   "metadata": {},
   "source": [
    "# Exercise 3\n",
    "\n",
    "Create a queue from scratch (use a list; do not use `Queue`, `Deque` or any library)."
   ]
  },
  {
   "cell_type": "code",
   "execution_count": 1,
   "id": "2ab0704f",
   "metadata": {},
   "outputs": [],
   "source": [
    "class Queue:\n",
    "    pass"
   ]
  },
  {
   "cell_type": "markdown",
   "id": "5f9ef86b",
   "metadata": {},
   "source": [
    "# Exercise 4\n",
    "\n",
    "Create a function that performs a binary search on a list."
   ]
  },
  {
   "cell_type": "code",
   "execution_count": 2,
   "id": "0c133c97",
   "metadata": {},
   "outputs": [],
   "source": [
    "def binary_search():\n",
    "    pass"
   ]
  },
  {
   "cell_type": "markdown",
   "id": "7a0b938e",
   "metadata": {},
   "source": [
    "# Exercise 5\n",
    "\n",
    "Create a function that takes one argument `url` and returns all the links (`<a>` tags) located on the page."
   ]
  },
  {
   "cell_type": "code",
   "execution_count": 4,
   "id": "c9ffd029",
   "metadata": {},
   "outputs": [],
   "source": [
    "def scrape_links(url):\n",
    "    pass"
   ]
  },
  {
   "cell_type": "markdown",
   "id": "a7f2b9ab",
   "metadata": {},
   "source": [
    "# Exercise 6\n",
    "\n",
    "Create a generator function that takes an argument `n` (total number of squares to generator) returns the next square each time it yields a value. Demonstrate that it works."
   ]
  },
  {
   "cell_type": "code",
   "execution_count": 14,
   "id": "e75135d0",
   "metadata": {},
   "outputs": [],
   "source": [
    "def square_generator(n):\n",
    "    pass\n",
    "        \n",
    "gen = func()"
   ]
  },
  {
   "cell_type": "code",
   "execution_count": null,
   "id": "93f0ffed",
   "metadata": {},
   "outputs": [],
   "source": []
  },
  {
   "cell_type": "markdown",
   "id": "a2e3a56e",
   "metadata": {},
   "source": [
    "# Exercise 7\n",
    "\n",
    "Look up a standard library module you've never used. Create a function that utilizes that library."
   ]
  },
  {
   "cell_type": "code",
   "execution_count": 15,
   "id": "885cf879",
   "metadata": {},
   "outputs": [],
   "source": [
    "#import \n",
    "\n",
    "def func():\n",
    "    pass"
   ]
  },
  {
   "cell_type": "markdown",
   "id": "c09f99c2",
   "metadata": {},
   "source": [
    "# Exercise 8\n",
    "\n",
    "Create a binary tree from scratch. It must have two methods, one that prints the tree and another that allows inserting. Inserting into this binary tree can be done using the method we covered in class (adding it to the left or right of nodes depending on comparisons)."
   ]
  },
  {
   "cell_type": "code",
   "execution_count": null,
   "id": "e10b575d",
   "metadata": {},
   "outputs": [],
   "source": []
  },
  {
   "cell_type": "markdown",
   "id": "1862731d",
   "metadata": {},
   "source": [
    "# Exercise 9\n",
    "\n",
    "Create a decorator function that times a function call. Use it to time the function below."
   ]
  },
  {
   "cell_type": "code",
   "execution_count": 22,
   "id": "379d8213",
   "metadata": {},
   "outputs": [
    {
     "data": {
      "text/plain": [
       "10000000000"
      ]
     },
     "execution_count": 22,
     "metadata": {},
     "output_type": "execute_result"
    }
   ],
   "source": [
    "def func(n):\n",
    "    return (n**2)\n",
    "\n",
    "func(100_000)"
   ]
  },
  {
   "cell_type": "markdown",
   "id": "e13b0510",
   "metadata": {},
   "source": [
    "# Exercise 10\n",
    "\n",
    "Show an example of currying functions: two regular functions and a third that uses the previous two."
   ]
  },
  {
   "cell_type": "code",
   "execution_count": null,
   "id": "192c603a",
   "metadata": {},
   "outputs": [],
   "source": []
  },
  {
   "cell_type": "markdown",
   "id": "64b0feb3",
   "metadata": {},
   "source": [
    "# Exercise 11\n",
    "\n",
    "What is a downside to functional programming? Explain your answer.\n",
    "\n",
    "If this question is difficult, consider what we can do with methods of a class that isn't easily possible with functions."
   ]
  },
  {
   "cell_type": "markdown",
   "id": "48e94308",
   "metadata": {},
   "source": []
  },
  {
   "cell_type": "markdown",
   "id": "37ae0f24",
   "metadata": {},
   "source": [
    "# Exercise 12\n",
    "\n",
    "Explain how `staticmethod` works and when we should use it."
   ]
  },
  {
   "cell_type": "code",
   "execution_count": null,
   "id": "6b28229e",
   "metadata": {},
   "outputs": [],
   "source": []
  },
  {
   "cell_type": "markdown",
   "id": "7fe7aa7c",
   "metadata": {},
   "source": [
    "# Exercise 13\n",
    "\n",
    "Your boss has tasked you with making a simple bokeh dashboard to display some data. What python web framework would you use and why? What are the limitations of that framework? What does it provide as benefits? Explain your thought process."
   ]
  },
  {
   "cell_type": "code",
   "execution_count": null,
   "id": "04455952",
   "metadata": {},
   "outputs": [],
   "source": []
  },
  {
   "cell_type": "markdown",
   "id": "f2fb10d2",
   "metadata": {},
   "source": [
    "# Exercise 14\n",
    "\n",
    "What would be a reason to not use python for a project?"
   ]
  },
  {
   "cell_type": "code",
   "execution_count": null,
   "id": "061e2cbb",
   "metadata": {},
   "outputs": [],
   "source": []
  },
  {
   "cell_type": "markdown",
   "id": "0cb9bef8",
   "metadata": {},
   "source": [
    "# Exercise 15\n",
    "\n",
    "You are tasked with building a data pipeline that scrapes data, stores it in sql, processes it in numpy/pandas (think exploratory analysis and data cleanup) and uses the data in a K-Means clustering. Write out the steps you would take to complete this task, what the structure of your project would look like and what considerations should be made (e.g. what might become an issue, what decisions must we make, what steps would need to be done first, etc). \n",
    "\n"
   ]
  },
  {
   "cell_type": "code",
   "execution_count": null,
   "id": "364387fe",
   "metadata": {},
   "outputs": [],
   "source": []
  }
 ],
 "metadata": {
  "kernelspec": {
   "display_name": "Python 3",
   "language": "python",
   "name": "python3"
  },
  "language_info": {
   "codemirror_mode": {
    "name": "ipython",
    "version": 3
   },
   "file_extension": ".py",
   "mimetype": "text/x-python",
   "name": "python",
   "nbconvert_exporter": "python",
   "pygments_lexer": "ipython3",
   "version": "3.9.4"
  }
 },
 "nbformat": 4,
 "nbformat_minor": 5
}
