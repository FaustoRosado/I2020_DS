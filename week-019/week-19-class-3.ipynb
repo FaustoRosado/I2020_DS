{
 "cells": [
  {
   "cell_type": "markdown",
   "metadata": {},
   "source": [
    "<div style=\"background: #000;\n",
    "            color: #FFF;\n",
    "            margin: 0px;\n",
    "            padding: 10px 0px 20px 0px;\n",
    "            text-align: center; \n",
    "                \">\n",
    "    <h1 >Week 19 Class 2 02/02</h1>\n",
    "</div>\n",
    "\n",
    "## Objectives for this week:\n",
    "* Data Visualizations continued\n",
    "\n",
    "## Todays Agenda\n",
    "* SQL\n",
    "* Working with different data (csv, xls, json, sql)\n",
    "* Inputting/outputting  data in numpy/pandas\n",
    "* Ways to visualize data\n",
    "\n",
    "\n",
    "\n"
   ]
  },
  {
   "cell_type": "code",
   "execution_count": null,
   "metadata": {},
   "outputs": [],
   "source": []
  },
  {
   "cell_type": "code",
   "execution_count": null,
   "metadata": {},
   "outputs": [],
   "source": []
  },
  {
   "cell_type": "code",
   "execution_count": null,
   "metadata": {},
   "outputs": [],
   "source": []
  },
  {
   "cell_type": "markdown",
   "metadata": {},
   "source": [
    "<div style=\"background: #000;\n",
    "            color: #FFF;\n",
    "            margin: 0px;\n",
    "            padding: 10px 0px 20px 0px;\n",
    "            text-align: center; \n",
    "                \">\n",
    "    <h1 >Homework Problem</h1>\n",
    "</div>"
   ]
  },
  {
   "cell_type": "markdown",
   "metadata": {},
   "source": [
    "### Exercise 3\n",
    "\n",
    "Given a list of the scores of different students, `items`, where `items[i] = [ID_i, score_i]` represents one score from a student with `ID_i`, calculate each student's top five average.\n",
    "\n",
    "Return the answer as an array of pairs result, where `result[j] = [ID_j, topFiveAverage_j]` represents the student with IDj and their top five average. Sort result by `ID_j` in increasing order.\n",
    "\n",
    "A student's top five average is calculated by taking the sum of their top five scores and dividing it by 5 using integer division.\n",
    "\n",
    " \n",
    "\n",
    "Example 1:\n",
    "\n",
    "Input: \n",
    "`items = [[1,91],[1,92],[2,93],[2,97],[1,60],[2,77],[1,65],[1,87],[1,100],[2,100],[2,76]]`  \n",
    "Output: `[[1,87],[2,88]]`  \n",
    "Explanation:  \n",
    "The student with ID = 1 got scores 91, 92, 60, 65, 87, and 100. Their top five average is (100 + 92 + 91 + 87 + 65) / 5 = 87.\n",
    "The student with ID = 2 got scores 93, 97, 77, 100, and 76. Their top five average is (100 + 97 + 93 + 77 + 76) / 5 = 88.6, but with integer division their average converts to 88.\n",
    "\n",
    "Example 2:\n",
    "\n",
    "Input:  \n",
    "`items = [[1,100],[7,100],[1,100],[7,100],[1,100],[7,100],[1,100],[7,100],[1,100],[7,100]]`  \n",
    "Output:  \n",
    "`[[1,100],[7,100]]`  \n",
    "\n",
    " \n",
    "\n",
    "Constraints:\n",
    "\n",
    "    1 <= items.length <= 1000\n",
    "    items[i].length == 2\n",
    "    1 <= IDi <= 1000\n",
    "    0 <= scorei <= 100\n",
    "    For each ID_i, there will be at least five scores.\n",
    "\n"
   ]
  },
  {
   "cell_type": "code",
   "execution_count": null,
   "metadata": {},
   "outputs": [],
   "source": [
    "def ex3(l):\n",
    "    pass\n",
    "\n",
    "try:\n",
    "    assert(\n",
    "    ex3([[1,91],[1,92],[2,93],[2,97],[1,60],[2,77],[1,65],\\\n",
    "         [1,87],[1,100],[2,100],[2,76]]) == [[1,87],[2,88]]\n",
    "    )\n",
    "    assert(\n",
    "    ex3([[1,100],[7,100],[1,100],[7,100],[1,100],[7,100],\\\n",
    "         [1,100],[7,100],[1,100],[7,100]]) == [[1,100],[7,100]]\n",
    "    )    \n",
    "    print(\"solution is correct\")\n",
    "except AssertionError:\n",
    "    print(\"solution is incorrect\")"
   ]
  },
  {
   "cell_type": "code",
   "execution_count": null,
   "metadata": {},
   "outputs": [],
   "source": [
    "def ex2(l):       \n",
    "    d = {}    \n",
    "    for i,val in l:       \n",
    "        d[i] = d.get(i, []) + [val]    \n",
    "        l = []    \n",
    "        for i, val in d.items():        \n",
    "            d[i] = sorted(val)[-5:]         \n",
    "            d[i] = int(sum(d[i]) / 5)        \n",
    "            l.append([i, d[i]])        \n",
    "            return l"
   ]
  },
  {
   "cell_type": "code",
   "execution_count": null,
   "metadata": {},
   "outputs": [],
   "source": []
  },
  {
   "cell_type": "code",
   "execution_count": null,
   "metadata": {},
   "outputs": [],
   "source": []
  },
  {
   "cell_type": "markdown",
   "metadata": {},
   "source": [
    "<div style=\"background: #000;\n",
    "            color: #FFF;\n",
    "            margin: 0px;\n",
    "            padding: 10px 0px 20px 0px;\n",
    "            text-align: center; \n",
    "                \">\n",
    "    <h1>pyplot</h1>\n",
    "</div>"
   ]
  },
  {
   "cell_type": "markdown",
   "metadata": {},
   "source": [
    "Intro to pyplot\n",
    "===============\n",
    "\n",
    "`matplotlib.pyplot` is a collection of functions\n",
    "that make matplotlib work like MATLAB.\n",
    "Each ``pyplot`` function makes\n",
    "some change to a figure: e.g., creates a figure, creates a plotting area\n",
    "in a figure, plots some lines in a plotting area, decorates the plot\n",
    "with labels, etc.\n",
    "\n",
    "In `matplotlib.pyplot` various states are preserved\n",
    "across function calls, so that it keeps track of things like\n",
    "the current figure and plotting area, and the plotting\n",
    "functions are directed to the current axes (please note that \"axes\" here\n",
    "and in most places in the documentation refers to the *axes*\n",
    "`part of a figure <figure_parts>`\n",
    "and not the strict mathematical term for more than one axis).\n",
    "\n",
    "Generating visualizations with pyplot is very quick:\n",
    "\n"
   ]
  },
  {
   "cell_type": "code",
   "execution_count": null,
   "metadata": {},
   "outputs": [],
   "source": [
    "%matplotlib inline\n",
    "\n"
   ]
  },
  {
   "cell_type": "code",
   "execution_count": 1,
   "metadata": {
    "collapsed": false,
    "jupyter": {
     "outputs_hidden": false
    }
   },
   "outputs": [
    {
     "data": {
      "image/png": "[encoded data removed]",
      "text/plain": [
       "<Figure size 432x288 with 1 Axes>"
      ]
     },
     "metadata": {
      "needs_background": "light"
     },
     "output_type": "display_data"
    }
   ],
   "source": [
    "import matplotlib.pyplot as plt\n",
    "plt.plot([1, 2, 3, 4])\n",
    "plt.ylabel('some numbers')\n",
    "plt.show()"
   ]
  },
  {
   "cell_type": "code",
   "execution_count": null,
   "metadata": {},
   "outputs": [],
   "source": []
  },
  {
   "cell_type": "markdown",
   "metadata": {},
   "source": [
    "You may be wondering why the x-axis ranges from 0-3 and the y-axis\n",
    "from 1-4.  If you provide a single list or array to\n",
    "`~.pyplot.plot`, matplotlib assumes it is a\n",
    "sequence of y values, and automatically generates the x values for\n",
    "you.  Since python ranges start with 0, the default x vector has the\n",
    "same length as y but starts with 0.  Hence the x data are\n",
    "``[0, 1, 2, 3]``.\n",
    "\n",
    "`~.pyplot.plot` is a versatile function, and will take an arbitrary number of\n",
    "arguments.  For example, to plot x versus y, you can write:\n",
    "\n"
   ]
  },
  {
   "cell_type": "code",
   "execution_count": 2,
   "metadata": {
    "collapsed": false,
    "jupyter": {
     "outputs_hidden": false
    }
   },
   "outputs": [
    {
     "data": {
      "text/plain": [
       "[<matplotlib.lines.Line2D at 0x120854ee0>]"
      ]
     },
     "execution_count": 2,
     "metadata": {},
     "output_type": "execute_result"
    },
    {
     "data": {
      "image/png": "[encoded data removed]",
      "text/plain": [
       "<Figure size 432x288 with 1 Axes>"
      ]
     },
     "metadata": {
      "needs_background": "light"
     },
     "output_type": "display_data"
    }
   ],
   "source": [
    "plt.plot([1, 2, 3, 4], [1, 4, 9, 16])"
   ]
  },
  {
   "cell_type": "markdown",
   "metadata": {},
   "source": [
    "Formatting the style of your plot\n",
    "---------------------------------\n",
    "\n",
    "For every x, y pair of arguments, there is an optional third argument\n",
    "which is the format string that indicates the color and line type of\n",
    "the plot.  The letters and symbols of the format string are from\n",
    "MATLAB, and you concatenate a color string with a line style string.\n",
    "The default format string is 'b-', which is a solid blue line.  For\n",
    "example, to plot the above with red circles, you would issue\n",
    "\n"
   ]
  },
  {
   "cell_type": "code",
   "execution_count": 12,
   "metadata": {
    "collapsed": false,
    "jupyter": {
     "outputs_hidden": false
    }
   },
   "outputs": [
    {
     "data": {
      "image/png": "[encoded data removed]",
      "text/plain": [
       "<Figure size 432x288 with 1 Axes>"
      ]
     },
     "metadata": {
      "needs_background": "light"
     },
     "output_type": "display_data"
    }
   ],
   "source": [
    "plt.plot([1, 2, 3, 4], [1, 4, 9, 16], 'ro')\n",
    "plt.axis([0, 6, 0, 20])\n",
    "plt.show()"
   ]
  },
  {
   "cell_type": "markdown",
   "metadata": {},
   "source": [
    "See the `~.pyplot.plot` documentation for a complete\n",
    "list of line styles and format strings.  The\n",
    "`~.pyplot.axis` function in the example above takes a\n",
    "list of ``[xmin, xmax, ymin, ymax]`` and specifies the viewport of the\n",
    "axes.\n",
    "\n",
    "If matplotlib were limited to working with lists, it would be fairly\n",
    "useless for numeric processing.  Generally, you will use `numpy\n",
    "<http://www.numpy.org>`_ arrays.  In fact, all sequences are\n",
    "converted to numpy arrays internally.  The example below illustrates\n",
    "plotting several lines with different format styles in one function call\n",
    "using arrays.\n",
    "\n"
   ]
  },
  {
   "cell_type": "code",
   "execution_count": 4,
   "metadata": {
    "collapsed": false,
    "jupyter": {
     "outputs_hidden": false
    }
   },
   "outputs": [
    {
     "data": {
      "image/png": "[encoded data removed]",
      "text/plain": [
       "<Figure size 432x288 with 1 Axes>"
      ]
     },
     "metadata": {
      "needs_background": "light"
     },
     "output_type": "display_data"
    }
   ],
   "source": [
    "import numpy as np\n",
    "\n",
    "# evenly sampled time at 200ms intervals\n",
    "t = np.arange(0., 5., 0.2)\n",
    "\n",
    "# red dashes, blue squares and green triangles\n",
    "plt.plot(t, t, 'r--', t, t**2, 'bs', t, t**3, 'g^')\n",
    "plt.show()"
   ]
  },
  {
   "cell_type": "code",
   "execution_count": 5,
   "metadata": {},
   "outputs": [
    {
     "name": "stdout",
     "output_type": "stream",
     "text": [
      "hello\n"
     ]
    }
   ],
   "source": [
    "s = print(\"hello\")\n",
    "s"
   ]
  },
  {
   "cell_type": "code",
   "execution_count": null,
   "metadata": {},
   "outputs": [],
   "source": [
    "# wouldn't assign it, once we call .plot, we have a new chart"
   ]
  },
  {
   "cell_type": "markdown",
   "metadata": {},
   "source": [
    "\n",
    "Plotting with keyword strings\n",
    "=============================\n",
    "\n",
    "There are some instances where you have data in a format that lets you\n",
    "access particular variables with strings. For example, with\n",
    "`numpy.recarray` or `pandas.DataFrame`.\n",
    "\n",
    "Matplotlib allows you provide such an object with\n",
    "the ``data`` keyword argument. If provided, then you may generate plots with\n",
    "the strings corresponding to these variables.\n",
    "\n"
   ]
  },
  {
   "cell_type": "code",
   "execution_count": 23,
   "metadata": {
    "collapsed": false,
    "jupyter": {
     "outputs_hidden": false
    }
   },
   "outputs": [
    {
     "data": {
      "image/png": "[encoded data removed]",
      "text/plain": [
       "<Figure size 432x288 with 1 Axes>"
      ]
     },
     "metadata": {
      "needs_background": "light"
     },
     "output_type": "display_data"
    }
   ],
   "source": [
    "data = {'a': np.arange(50),\n",
    "        'c': np.random.randint(0, 50, 50),\n",
    "        'd': np.random.randn(50)}\n",
    "data['b'] = data['a'] + 10 * np.random.randn(50)\n",
    "data['d'] = np.abs(data['d']) * 100\n",
    "\n",
    "plt.scatter('a', 'b', c='c', s='d', data=data)\n",
    "plt.xlabel('entry a')\n",
    "plt.ylabel('entry b')\n",
    "plt.show()"
   ]
  },
  {
   "cell_type": "markdown",
   "metadata": {},
   "source": [
    "\n",
    "Plotting with categorical variables\n",
    "===================================\n",
    "\n",
    "It is also possible to create a plot using categorical variables.\n",
    "Matplotlib allows you to pass categorical variables directly to\n",
    "many plotting functions. For example:\n",
    "\n"
   ]
  },
  {
   "cell_type": "code",
   "execution_count": 25,
   "metadata": {
    "collapsed": false,
    "jupyter": {
     "outputs_hidden": false
    }
   },
   "outputs": [
    {
     "data": {
      "image/png": "[encoded data removed]",
      "text/plain": [
       "<Figure size 648x216 with 3 Axes>"
      ]
     },
     "metadata": {
      "needs_background": "light"
     },
     "output_type": "display_data"
    }
   ],
   "source": [
    "names = ['group_a', 'group_b', 'group_c']\n",
    "values = [1, 10, 100]\n",
    "\n",
    "plt.figure(figsize=(9, 3))\n",
    "\n",
    "plt.subplot(1,3,1)\n",
    "plt.bar(names, values)\n",
    "plt.subplot(132)\n",
    "plt.scatter(names, values)\n",
    "plt.subplot(133)\n",
    "plt.plot(names, values)\n",
    "plt.suptitle('Categorical Plotting')\n",
    "plt.show()"
   ]
  },
  {
   "cell_type": "markdown",
   "metadata": {},
   "source": [
    "\n",
    "Controlling line properties\n",
    "===========================\n",
    "\n",
    "Lines have many attributes that you can set: linewidth, dash style,\n",
    "antialiased, etc; see `matplotlib.lines.Line2D`.  There are\n",
    "several ways to set line properties\n",
    "\n",
    "* Use keyword args::\n",
    "\n",
    "      plt.plot(x, y, linewidth=2.0)\n",
    "\n",
    "\n",
    "* Use the setter methods of a ``Line2D`` instance.  ``plot`` returns a list\n",
    "  of ``Line2D`` objects; e.g., ``line1, line2 = plot(x1, y1, x2, y2)``.  In the code\n",
    "  below we will suppose that we have only\n",
    "  one line so that the list returned is of length 1.  We use tuple unpacking with\n",
    "  ``line,`` to get the first element of that list::\n",
    "\n",
    "      line, = plt.plot(x, y, '-')\n",
    "      line.set_antialiased(False) # turn off antialiasing\n",
    "\n",
    "* Use `~.pyplot.setp`.  The example below\n",
    "  uses a MATLAB-style function to set multiple properties\n",
    "  on a list of lines.  ``setp`` works transparently with a list of objects\n",
    "  or a single object.  You can either use python keyword arguments or\n",
    "  MATLAB-style string/value pairs::\n",
    "\n",
    "      lines = plt.plot(x1, y1, x2, y2)\n",
    "      # use keyword args\n",
    "      plt.setp(lines, color='r', linewidth=2.0)\n",
    "      # or MATLAB style string value pairs\n",
    "      plt.setp(lines, 'color', 'r', 'linewidth', 2.0)\n",
    "\n",
    "```\n",
    "Here are the available `~.lines.Line2D` properties.\n",
    "\n",
    "======================  ==================================================\n",
    "Property                Value Type\n",
    "======================  ==================================================\n",
    "alpha                   float\n",
    "animated                [True | False]\n",
    "antialiased or aa       [True | False]\n",
    "clip_box                a matplotlib.transform.Bbox instance\n",
    "clip_on                 [True | False]\n",
    "clip_path               a Path instance and a Transform instance, a Patch\n",
    "color or c              any matplotlib color\n",
    "contains                the hit testing function\n",
    "dash_capstyle           [``'butt'`` | ``'round'`` | ``'projecting'``]\n",
    "dash_joinstyle          [``'miter'`` | ``'round'`` | ``'bevel'``]\n",
    "dashes                  sequence of on/off ink in points\n",
    "data                    (np.array xdata, np.array ydata)\n",
    "figure                  a matplotlib.figure.Figure instance\n",
    "label                   any string\n",
    "linestyle or ls         [ ``'-'`` | ``'--'`` | ``'-.'`` | ``':'`` | ``'steps'`` | ...]\n",
    "linewidth or lw         float value in points\n",
    "marker                  [ ``'+'`` | ``','`` | ``'.'`` | ``'1'`` | ``'2'`` | ``'3'`` | ``'4'`` ]\n",
    "markeredgecolor or mec  any matplotlib color\n",
    "markeredgewidth or mew  float value in points\n",
    "markerfacecolor or mfc  any matplotlib color\n",
    "markersize or ms        float\n",
    "markevery               [ None | integer | (startind, stride) ]\n",
    "picker                  used in interactive line selection\n",
    "pickradius              the line pick selection radius\n",
    "solid_capstyle          [``'butt'`` | ``'round'`` | ``'projecting'``]\n",
    "solid_joinstyle         [``'miter'`` | ``'round'`` | ``'bevel'``]\n",
    "transform               a matplotlib.transforms.Transform instance\n",
    "visible                 [True | False]\n",
    "xdata                   np.array\n",
    "ydata                   np.array\n",
    "zorder                  any number\n",
    "======================  ==================================================\n",
    "```\n",
    "\n",
    "To get a list of settable line properties, call the\n",
    "`~.pyplot.setp` function with a line or lines as argument\n",
    "\n",
    "```ipython\n",
    "\n",
    "    In [69]: lines = plt.plot([1, 2, 3])\n",
    "\n",
    "    In [70]: plt.setp(lines)\n",
    "      alpha: float\n",
    "      animated: [True | False]\n",
    "      antialiased or aa: [True | False]\n",
    "      ...snip\n",
    "```\n",
    "\n",
    "\n",
    "Working with multiple figures and axes\n",
    "======================================\n",
    "\n",
    "MATLAB, and :mod:`.pyplot`, have the concept of the current figure\n",
    "and the current axes.  All plotting functions apply to the current\n",
    "axes.  The function `~.pyplot.gca` returns the current axes (a\n",
    "`matplotlib.axes.Axes` instance), and `~.pyplot.gcf` returns the current\n",
    "figure (a `matplotlib.figure.Figure` instance). Normally, you don't have to\n",
    "worry about this, because it is all taken care of behind the scenes.  Below\n",
    "is a script to create two subplots.\n",
    "\n"
   ]
  },
  {
   "cell_type": "code",
   "execution_count": null,
   "metadata": {},
   "outputs": [],
   "source": []
  },
  {
   "cell_type": "code",
   "execution_count": null,
   "metadata": {},
   "outputs": [],
   "source": []
  },
  {
   "cell_type": "code",
   "execution_count": 26,
   "metadata": {
    "collapsed": false,
    "jupyter": {
     "outputs_hidden": false
    }
   },
   "outputs": [
    {
     "data": {
      "image/png": "[encoded data removed]",
      "text/plain": [
       "<Figure size 432x288 with 2 Axes>"
      ]
     },
     "metadata": {
      "needs_background": "light"
     },
     "output_type": "display_data"
    }
   ],
   "source": [
    "def f(t):\n",
    "    return np.exp(-t) * np.cos(2*np.pi*t)\n",
    "\n",
    "t1 = np.arange(0.0, 5.0, 0.1)\n",
    "t2 = np.arange(0.0, 5.0, 0.02)\n",
    "\n",
    "plt.figure()\n",
    "plt.subplot(2,1,1)\n",
    "plt.plot(t1, f(t1), 'bo', t2, f(t2), 'k')\n",
    "\n",
    "plt.subplot(2,1,2)\n",
    "plt.plot(t2, np.cos(2*np.pi*t2), 'r--')\n",
    "plt.show()"
   ]
  },
  {
   "cell_type": "markdown",
   "metadata": {},
   "source": [
    "The `~.pyplot.figure` call here is optional because\n",
    "``figure(1)`` will be created by default, just as a ``subplot(111)``\n",
    "will be created by default if you don't manually specify any axes.  The\n",
    "`~.pyplot.subplot` call specifies ``numrows,\n",
    "numcols, plot_number`` where ``plot_number`` ranges from 1 to\n",
    "``numrows*numcols``.  The commas in the ``subplot`` call are\n",
    "optional if ``numrows*numcols<10``.  So ``subplot(211)`` is identical\n",
    "to ``subplot(2, 1, 1)``.\n",
    "\n",
    "You can create an arbitrary number of subplots\n",
    "and axes.  If you want to place an axes manually, i.e., not on a\n",
    "rectangular grid, use `~.pyplot.axes`,\n",
    "which allows you to specify the location as ``axes([left, bottom,\n",
    "width, height])`` where all values are in fractional (0 to 1)\n",
    "coordinates. \n",
    "\n",
    "\n",
    "You can create multiple figures by using multiple\n",
    "`~.pyplot.figure` calls with an increasing figure\n",
    "number.  Of course, each figure can contain as many axes and subplots\n",
    "as your heart desires::\n",
    "\n",
    "    import matplotlib.pyplot as plt\n",
    "    plt.figure(1)                # the first figure\n",
    "    plt.subplot(211)             # the first subplot in the first figure\n",
    "    plt.plot([1, 2, 3])\n",
    "    plt.subplot(212)             # the second subplot in the first figure\n",
    "    plt.plot([4, 5, 6])\n",
    "\n",
    "\n",
    "    plt.figure(2)                # a second figure\n",
    "    plt.plot([4, 5, 6])          # creates a subplot(111) by default\n",
    "\n",
    "    plt.figure(1)                # figure 1 current; subplot(212) still current\n",
    "    plt.subplot(211)             # make subplot(211) in figure1 current\n",
    "    plt.title('Easy as 1, 2, 3') # subplot 211 title\n",
    "\n",
    "You can clear the current figure with `~.pyplot.clf`\n",
    "and the current axes with `~.pyplot.cla`.  If you find\n",
    "it annoying that states (specifically the current image, figure and axes)\n",
    "are being maintained for you behind the scenes, don't despair: this is just a thin\n",
    "stateful wrapper around an object oriented API, which you can use\n",
    "instead (see :doc:`/tutorials/intermediate/artists`)\n",
    "\n",
    "If you are making lots of figures, you need to be aware of one\n",
    "more thing: the memory required for a figure is not completely\n",
    "released until the figure is explicitly closed with\n",
    "`~.pyplot.close`.  Deleting all references to the\n",
    "figure, and/or using the window manager to kill the window in which\n",
    "the figure appears on the screen, is not enough, because pyplot\n",
    "maintains internal references until `~.pyplot.close`\n",
    "is called.\n",
    "\n",
    "\n",
    "Working with text\n",
    "=================\n",
    "\n",
    "`~.pyplot.text` can be used to add text in an arbitrary location, and\n",
    "`~.pyplot.xlabel`, `~.pyplot.ylabel` and `~.pyplot.title` are used to add\n",
    "text in the indicated locations (see :doc:`/tutorials/text/text_intro` for a\n",
    "more detailed example)\n",
    "\n"
   ]
  },
  {
   "cell_type": "markdown",
   "metadata": {},
   "source": [
    "r'$\\mu=100,\\ \\sigma=15$'"
   ]
  },
  {
   "cell_type": "code",
   "execution_count": 27,
   "metadata": {
    "collapsed": false,
    "jupyter": {
     "outputs_hidden": false
    }
   },
   "outputs": [
    {
     "data": {
      "image/png": "[encoded data removed]",
      "text/plain": [
       "<Figure size 432x288 with 1 Axes>"
      ]
     },
     "metadata": {
      "needs_background": "light"
     },
     "output_type": "display_data"
    }
   ],
   "source": [
    "mu, sigma = 100, 15\n",
    "x = mu + sigma * np.random.randn(10000)\n",
    "\n",
    "# the histogram of the data\n",
    "n, bins, patches = plt.hist(x, 50, density=1, facecolor='g', alpha=0.75)\n",
    "\n",
    "\n",
    "plt.xlabel('Smarts')\n",
    "plt.ylabel('Probability')\n",
    "plt.title('Histogram of IQ')\n",
    "plt.text(60, .025, r'$\\mu=100,\\ \\sigma=15$')   # LaTex what used in jupyter to get math symbols\n",
    "plt.axis([40, 160, 0, 0.03])\n",
    "plt.grid(True)\n",
    "plt.show()"
   ]
  },
  {
   "cell_type": "markdown",
   "metadata": {},
   "source": [
    "All of the `~.pyplot.text` functions return a `matplotlib.text.Text`\n",
    "instance.  Just as with with lines above, you can customize the properties by\n",
    "passing keyword arguments into the text functions or using `~.pyplot.setp`::\n",
    "\n",
    "  t = plt.xlabel('my data', fontsize=14, color='red')\n",
    "\n",
    "These properties are covered in more detail in :doc:`/tutorials/text/text_props`.\n",
    "\n",
    "\n",
    "Using mathematical expressions in text\n",
    "--------------------------------------\n",
    "\n",
    "matplotlib accepts TeX equation expressions in any text expression.\n",
    "For example to write the expression $\\sigma_i=15$ in the title,\n",
    "you can write a TeX expression surrounded by dollar signs::\n",
    "\n",
    "    plt.title(r'$\\sigma_i=15$')\n",
    "\n",
    "The ``r`` preceding the title string is important -- it signifies\n",
    "that the string is a *raw* string and not to treat backslashes as\n",
    "python escapes.  matplotlib has a built-in TeX expression parser and\n",
    "layout engine, and ships its own math fonts -- for details see\n",
    ":doc:`/tutorials/text/mathtext`.  Thus you can use mathematical text across platforms\n",
    "without requiring a TeX installation.  For those who have LaTeX and\n",
    "dvipng installed, you can also use LaTeX to format your text and\n",
    "incorporate the output directly into your display figures or saved\n",
    "postscript -- see :doc:`/tutorials/text/usetex`.\n",
    "\n",
    "\n",
    "Annotating text\n",
    "---------------\n",
    "\n",
    "The uses of the basic `~.pyplot.text` function above\n",
    "place text at an arbitrary position on the Axes.  A common use for\n",
    "text is to annotate some feature of the plot, and the\n",
    "`~.pyplot.annotate` method provides helper\n",
    "functionality to make annotations easy.  In an annotation, there are\n",
    "two points to consider: the location being annotated represented by\n",
    "the argument ``xy`` and the location of the text ``xytext``.  Both of\n",
    "these arguments are ``(x, y)`` tuples.\n",
    "\n"
   ]
  },
  {
   "cell_type": "code",
   "execution_count": null,
   "metadata": {
    "collapsed": false,
    "jupyter": {
     "outputs_hidden": false
    }
   },
   "outputs": [],
   "source": [
    "ax = plt.subplot(111)\n",
    "\n",
    "t = np.arange(0.0, 5.0, 0.01)\n",
    "s = np.cos(2*np.pi*t)\n",
    "line, = plt.plot(t, s, lw=2)\n",
    "\n",
    "plt.annotate('local max', xy=(2, 1), xytext=(3, 1.5),\n",
    "             arrowprops=dict(facecolor='black', shrink=0.05),\n",
    "             )\n",
    "\n",
    "plt.ylim(-2, 2)\n",
    "plt.show()"
   ]
  },
  {
   "cell_type": "markdown",
   "metadata": {},
   "source": [
    "In this basic example, both the ``xy`` (arrow tip) and ``xytext``\n",
    "locations (text location) are in data coordinates.  There are a\n",
    "variety of other coordinate systems one can choose -- see\n",
    "`annotations-tutorial` and `plotting-guide-annotation` for\n",
    "details.  More examples can be found in\n",
    ":doc:`/gallery/text_labels_and_annotations/annotation_demo`.\n",
    "\n",
    "\n",
    "Logarithmic and other nonlinear axes\n",
    "====================================\n",
    "\n",
    "`matplotlib.pyplot` supports not only linear axis scales, but also\n",
    "logarithmic and logit scales. This is commonly used if data spans many orders\n",
    "of magnitude. Changing the scale of an axis is easy:\n",
    "\n",
    "    plt.xscale('log')\n",
    "\n",
    "An example of four plots with the same data and different scales for the y axis\n",
    "is shown below.\n",
    "\n"
   ]
  },
  {
   "cell_type": "code",
   "execution_count": null,
   "metadata": {
    "collapsed": false,
    "jupyter": {
     "outputs_hidden": false
    }
   },
   "outputs": [],
   "source": [
    "# Fixing random state for reproducibility\n",
    "np.random.seed(19680801)\n",
    "\n",
    "# make up some data in the open interval (0, 1)\n",
    "y = np.random.normal(loc=0.5, scale=0.4, size=1000)\n",
    "y = y[(y > 0) & (y < 1)]\n",
    "y.sort()\n",
    "x = np.arange(len(y))\n",
    "\n",
    "# plot with various axes scales\n",
    "plt.figure()\n",
    "\n",
    "# linear\n",
    "plt.subplot(221)\n",
    "plt.plot(x, y)\n",
    "plt.yscale('linear')\n",
    "plt.title('linear')\n",
    "plt.grid(True)\n",
    "\n",
    "# log\n",
    "plt.subplot(222)\n",
    "plt.plot(x, y)\n",
    "plt.yscale('log')\n",
    "plt.title('log')\n",
    "plt.grid(True)\n",
    "\n",
    "# symmetric log\n",
    "plt.subplot(223)\n",
    "plt.plot(x, y - y.mean())\n",
    "plt.yscale('symlog', linthresh=0.01)\n",
    "plt.title('symlog')\n",
    "plt.grid(True)\n",
    "\n",
    "# logit\n",
    "plt.subplot(224)\n",
    "plt.plot(x, y)\n",
    "plt.yscale('logit')\n",
    "plt.title('logit')\n",
    "plt.grid(True)\n",
    "# Adjust the subplot layout, because the logit one may take more space\n",
    "# than usual, due to y-tick labels like \"1 - 10^{-3}\"\n",
    "plt.subplots_adjust(top=0.92, bottom=0.08, left=0.10, right=0.95, hspace=0.25,\n",
    "                    wspace=0.35)\n",
    "\n",
    "plt.show()"
   ]
  },
  {
   "cell_type": "markdown",
   "metadata": {},
   "source": [
    "<div style=\"background: #000;\n",
    "            color: #FFF;\n",
    "            margin: 0px;\n",
    "            padding: 10px 0px 20px 0px;\n",
    "            text-align: center; \n",
    "                \">\n",
    "    <h1>Lab</h1>\n",
    "</div>"
   ]
  },
  {
   "cell_type": "markdown",
   "metadata": {},
   "source": [
    "For this lab, we'll be using the `flights.txt` file located in `/datasets`."
   ]
  },
  {
   "cell_type": "code",
   "execution_count": 33,
   "metadata": {},
   "outputs": [],
   "source": [
    "import numpy as np\n",
    "import pandas as pd\n",
    "import matplotlib.pyplot as plt"
   ]
  },
  {
   "cell_type": "markdown",
   "metadata": {},
   "source": [
    "**Part 1**\n",
    "\n",
    "Open `../datasets/flights.txt`. Use the methods we've learned in class to analyze the dataset from the top-level (see how many rows it has, how many null values, what columns are necessary, etc.).\n",
    "\n",
    "**a.** read the file into a dataframe (hint: as a csv)"
   ]
  },
  {
   "cell_type": "code",
   "execution_count": 40,
   "metadata": {},
   "outputs": [
    {
     "name": "stdout",
     "output_type": "stream",
     "text": [
      "Help on function read_csv in module pandas.io.parsers:\n",
      "\n",
      "read_csv(filepath_or_buffer: Union[str, pathlib.Path, IO[~AnyStr]], sep=',', delimiter=None, header='infer', names=None, index_col=None, usecols=None, squeeze=False, prefix=None, mangle_dupe_cols=True, dtype=None, engine=None, converters=None, true_values=None, false_values=None, skipinitialspace=False, skiprows=None, skipfooter=0, nrows=None, na_values=None, keep_default_na=True, na_filter=True, verbose=False, skip_blank_lines=True, parse_dates=False, infer_datetime_format=False, keep_date_col=False, date_parser=None, dayfirst=False, cache_dates=True, iterator=False, chunksize=None, compression='infer', thousands=None, decimal: str = '.', lineterminator=None, quotechar='\"', quoting=0, doublequote=True, escapechar=None, comment=None, encoding=None, dialect=None, error_bad_lines=True, warn_bad_lines=True, delim_whitespace=False, low_memory=True, memory_map=False, float_precision=None)\n",
      "    Read a comma-separated values (csv) file into DataFrame.\n",
      "    \n",
      "    Also supports optionally iterating or breaking of the file\n",
      "    into chunks.\n",
      "    \n",
      "    Additional help can be found in the online docs for\n",
      "    `IO Tools <https://pandas.pydata.org/pandas-docs/stable/user_guide/io.html>`_.\n",
      "    \n",
      "    Parameters\n",
      "    ----------\n",
      "    filepath_or_buffer : str, path object or file-like object\n",
      "        Any valid string path is acceptable. The string could be a URL. Valid\n",
      "        URL schemes include http, ftp, s3, gs, and file. For file URLs, a host is\n",
      "        expected. A local file could be: file://localhost/path/to/table.csv.\n",
      "    \n",
      "        If you want to pass in a path object, pandas accepts any ``os.PathLike``.\n",
      "    \n",
      "        By file-like object, we refer to objects with a ``read()`` method, such as\n",
      "        a file handler (e.g. via builtin ``open`` function) or ``StringIO``.\n",
      "    sep : str, default ','\n",
      "        Delimiter to use. If sep is None, the C engine cannot automatically detect\n",
      "        the separator, but the Python parsing engine can, meaning the latter will\n",
      "        be used and automatically detect the separator by Python's builtin sniffer\n",
      "        tool, ``csv.Sniffer``. In addition, separators longer than 1 character and\n",
      "        different from ``'\\s+'`` will be interpreted as regular expressions and\n",
      "        will also force the use of the Python parsing engine. Note that regex\n",
      "        delimiters are prone to ignoring quoted data. Regex example: ``'\\r\\t'``.\n",
      "    delimiter : str, default ``None``\n",
      "        Alias for sep.\n",
      "    header : int, list of int, default 'infer'\n",
      "        Row number(s) to use as the column names, and the start of the\n",
      "        data.  Default behavior is to infer the column names: if no names\n",
      "        are passed the behavior is identical to ``header=0`` and column\n",
      "        names are inferred from the first line of the file, if column\n",
      "        names are passed explicitly then the behavior is identical to\n",
      "        ``header=None``. Explicitly pass ``header=0`` to be able to\n",
      "        replace existing names. The header can be a list of integers that\n",
      "        specify row locations for a multi-index on the columns\n",
      "        e.g. [0,1,3]. Intervening rows that are not specified will be\n",
      "        skipped (e.g. 2 in this example is skipped). Note that this\n",
      "        parameter ignores commented lines and empty lines if\n",
      "        ``skip_blank_lines=True``, so ``header=0`` denotes the first line of\n",
      "        data rather than the first line of the file.\n",
      "    names : array-like, optional\n",
      "        List of column names to use. If the file contains a header row,\n",
      "        then you should explicitly pass ``header=0`` to override the column names.\n",
      "        Duplicates in this list are not allowed.\n",
      "    index_col : int, str, sequence of int / str, or False, default ``None``\n",
      "      Column(s) to use as the row labels of the ``DataFrame``, either given as\n",
      "      string name or column index. If a sequence of int / str is given, a\n",
      "      MultiIndex is used.\n",
      "    \n",
      "      Note: ``index_col=False`` can be used to force pandas to *not* use the first\n",
      "      column as the index, e.g. when you have a malformed file with delimiters at\n",
      "      the end of each line.\n",
      "    usecols : list-like or callable, optional\n",
      "        Return a subset of the columns. If list-like, all elements must either\n",
      "        be positional (i.e. integer indices into the document columns) or strings\n",
      "        that correspond to column names provided either by the user in `names` or\n",
      "        inferred from the document header row(s). For example, a valid list-like\n",
      "        `usecols` parameter would be ``[0, 1, 2]`` or ``['foo', 'bar', 'baz']``.\n",
      "        Element order is ignored, so ``usecols=[0, 1]`` is the same as ``[1, 0]``.\n",
      "        To instantiate a DataFrame from ``data`` with element order preserved use\n",
      "        ``pd.read_csv(data, usecols=['foo', 'bar'])[['foo', 'bar']]`` for columns\n",
      "        in ``['foo', 'bar']`` order or\n",
      "        ``pd.read_csv(data, usecols=['foo', 'bar'])[['bar', 'foo']]``\n",
      "        for ``['bar', 'foo']`` order.\n",
      "    \n",
      "        If callable, the callable function will be evaluated against the column\n",
      "        names, returning names where the callable function evaluates to True. An\n",
      "        example of a valid callable argument would be ``lambda x: x.upper() in\n",
      "        ['AAA', 'BBB', 'DDD']``. Using this parameter results in much faster\n",
      "        parsing time and lower memory usage.\n",
      "    squeeze : bool, default False\n",
      "        If the parsed data only contains one column then return a Series.\n",
      "    prefix : str, optional\n",
      "        Prefix to add to column numbers when no header, e.g. 'X' for X0, X1, ...\n",
      "    mangle_dupe_cols : bool, default True\n",
      "        Duplicate columns will be specified as 'X', 'X.1', ...'X.N', rather than\n",
      "        'X'...'X'. Passing in False will cause data to be overwritten if there\n",
      "        are duplicate names in the columns.\n",
      "    dtype : Type name or dict of column -> type, optional\n",
      "        Data type for data or columns. E.g. {'a': np.float64, 'b': np.int32,\n",
      "        'c': 'Int64'}\n",
      "        Use `str` or `object` together with suitable `na_values` settings\n",
      "        to preserve and not interpret dtype.\n",
      "        If converters are specified, they will be applied INSTEAD\n",
      "        of dtype conversion.\n",
      "    engine : {'c', 'python'}, optional\n",
      "        Parser engine to use. The C engine is faster while the python engine is\n",
      "        currently more feature-complete.\n",
      "    converters : dict, optional\n",
      "        Dict of functions for converting values in certain columns. Keys can either\n",
      "        be integers or column labels.\n",
      "    true_values : list, optional\n",
      "        Values to consider as True.\n",
      "    false_values : list, optional\n",
      "        Values to consider as False.\n",
      "    skipinitialspace : bool, default False\n",
      "        Skip spaces after delimiter.\n",
      "    skiprows : list-like, int or callable, optional\n",
      "        Line numbers to skip (0-indexed) or number of lines to skip (int)\n",
      "        at the start of the file.\n",
      "    \n",
      "        If callable, the callable function will be evaluated against the row\n",
      "        indices, returning True if the row should be skipped and False otherwise.\n",
      "        An example of a valid callable argument would be ``lambda x: x in [0, 2]``.\n",
      "    skipfooter : int, default 0\n",
      "        Number of lines at bottom of file to skip (Unsupported with engine='c').\n",
      "    nrows : int, optional\n",
      "        Number of rows of file to read. Useful for reading pieces of large files.\n",
      "    na_values : scalar, str, list-like, or dict, optional\n",
      "        Additional strings to recognize as NA/NaN. If dict passed, specific\n",
      "        per-column NA values.  By default the following values are interpreted as\n",
      "        NaN: '', '#N/A', '#N/A N/A', '#NA', '-1.#IND', '-1.#QNAN', '-NaN', '-nan',\n",
      "        '1.#IND', '1.#QNAN', '<NA>', 'N/A', 'NA', 'NULL', 'NaN', 'n/a',\n",
      "        'nan', 'null'.\n",
      "    keep_default_na : bool, default True\n",
      "        Whether or not to include the default NaN values when parsing the data.\n",
      "        Depending on whether `na_values` is passed in, the behavior is as follows:\n",
      "    \n",
      "        * If `keep_default_na` is True, and `na_values` are specified, `na_values`\n",
      "          is appended to the default NaN values used for parsing.\n",
      "        * If `keep_default_na` is True, and `na_values` are not specified, only\n",
      "          the default NaN values are used for parsing.\n",
      "        * If `keep_default_na` is False, and `na_values` are specified, only\n",
      "          the NaN values specified `na_values` are used for parsing.\n",
      "        * If `keep_default_na` is False, and `na_values` are not specified, no\n",
      "          strings will be parsed as NaN.\n",
      "    \n",
      "        Note that if `na_filter` is passed in as False, the `keep_default_na` and\n",
      "        `na_values` parameters will be ignored.\n",
      "    na_filter : bool, default True\n",
      "        Detect missing value markers (empty strings and the value of na_values). In\n",
      "        data without any NAs, passing na_filter=False can improve the performance\n",
      "        of reading a large file.\n",
      "    verbose : bool, default False\n",
      "        Indicate number of NA values placed in non-numeric columns.\n",
      "    skip_blank_lines : bool, default True\n",
      "        If True, skip over blank lines rather than interpreting as NaN values.\n",
      "    parse_dates : bool or list of int or names or list of lists or dict, default False\n",
      "        The behavior is as follows:\n",
      "    \n",
      "        * boolean. If True -> try parsing the index.\n",
      "        * list of int or names. e.g. If [1, 2, 3] -> try parsing columns 1, 2, 3\n",
      "          each as a separate date column.\n",
      "        * list of lists. e.g.  If [[1, 3]] -> combine columns 1 and 3 and parse as\n",
      "          a single date column.\n",
      "        * dict, e.g. {'foo' : [1, 3]} -> parse columns 1, 3 as date and call\n",
      "          result 'foo'\n",
      "    \n",
      "        If a column or index cannot be represented as an array of datetimes,\n",
      "        say because of an unparseable value or a mixture of timezones, the column\n",
      "        or index will be returned unaltered as an object data type. For\n",
      "        non-standard datetime parsing, use ``pd.to_datetime`` after\n",
      "        ``pd.read_csv``. To parse an index or column with a mixture of timezones,\n",
      "        specify ``date_parser`` to be a partially-applied\n",
      "        :func:`pandas.to_datetime` with ``utc=True``. See\n",
      "        :ref:`io.csv.mixed_timezones` for more.\n",
      "    \n",
      "        Note: A fast-path exists for iso8601-formatted dates.\n",
      "    infer_datetime_format : bool, default False\n",
      "        If True and `parse_dates` is enabled, pandas will attempt to infer the\n",
      "        format of the datetime strings in the columns, and if it can be inferred,\n",
      "        switch to a faster method of parsing them. In some cases this can increase\n",
      "        the parsing speed by 5-10x.\n",
      "    keep_date_col : bool, default False\n",
      "        If True and `parse_dates` specifies combining multiple columns then\n",
      "        keep the original columns.\n",
      "    date_parser : function, optional\n",
      "        Function to use for converting a sequence of string columns to an array of\n",
      "        datetime instances. The default uses ``dateutil.parser.parser`` to do the\n",
      "        conversion. Pandas will try to call `date_parser` in three different ways,\n",
      "        advancing to the next if an exception occurs: 1) Pass one or more arrays\n",
      "        (as defined by `parse_dates`) as arguments; 2) concatenate (row-wise) the\n",
      "        string values from the columns defined by `parse_dates` into a single array\n",
      "        and pass that; and 3) call `date_parser` once for each row using one or\n",
      "        more strings (corresponding to the columns defined by `parse_dates`) as\n",
      "        arguments.\n",
      "    dayfirst : bool, default False\n",
      "        DD/MM format dates, international and European format.\n",
      "    cache_dates : bool, default True\n",
      "        If True, use a cache of unique, converted dates to apply the datetime\n",
      "        conversion. May produce significant speed-up when parsing duplicate\n",
      "        date strings, especially ones with timezone offsets.\n",
      "    \n",
      "        .. versionadded:: 0.25.0\n",
      "    iterator : bool, default False\n",
      "        Return TextFileReader object for iteration or getting chunks with\n",
      "        ``get_chunk()``.\n",
      "    chunksize : int, optional\n",
      "        Return TextFileReader object for iteration.\n",
      "        See the `IO Tools docs\n",
      "        <https://pandas.pydata.org/pandas-docs/stable/io.html#io-chunking>`_\n",
      "        for more information on ``iterator`` and ``chunksize``.\n",
      "    compression : {'infer', 'gzip', 'bz2', 'zip', 'xz', None}, default 'infer'\n",
      "        For on-the-fly decompression of on-disk data. If 'infer' and\n",
      "        `filepath_or_buffer` is path-like, then detect compression from the\n",
      "        following extensions: '.gz', '.bz2', '.zip', or '.xz' (otherwise no\n",
      "        decompression). If using 'zip', the ZIP file must contain only one data\n",
      "        file to be read in. Set to None for no decompression.\n",
      "    thousands : str, optional\n",
      "        Thousands separator.\n",
      "    decimal : str, default '.'\n",
      "        Character to recognize as decimal point (e.g. use ',' for European data).\n",
      "    lineterminator : str (length 1), optional\n",
      "        Character to break file into lines. Only valid with C parser.\n",
      "    quotechar : str (length 1), optional\n",
      "        The character used to denote the start and end of a quoted item. Quoted\n",
      "        items can include the delimiter and it will be ignored.\n",
      "    quoting : int or csv.QUOTE_* instance, default 0\n",
      "        Control field quoting behavior per ``csv.QUOTE_*`` constants. Use one of\n",
      "        QUOTE_MINIMAL (0), QUOTE_ALL (1), QUOTE_NONNUMERIC (2) or QUOTE_NONE (3).\n",
      "    doublequote : bool, default ``True``\n",
      "       When quotechar is specified and quoting is not ``QUOTE_NONE``, indicate\n",
      "       whether or not to interpret two consecutive quotechar elements INSIDE a\n",
      "       field as a single ``quotechar`` element.\n",
      "    escapechar : str (length 1), optional\n",
      "        One-character string used to escape other characters.\n",
      "    comment : str, optional\n",
      "        Indicates remainder of line should not be parsed. If found at the beginning\n",
      "        of a line, the line will be ignored altogether. This parameter must be a\n",
      "        single character. Like empty lines (as long as ``skip_blank_lines=True``),\n",
      "        fully commented lines are ignored by the parameter `header` but not by\n",
      "        `skiprows`. For example, if ``comment='#'``, parsing\n",
      "        ``#empty\\na,b,c\\n1,2,3`` with ``header=0`` will result in 'a,b,c' being\n",
      "        treated as the header.\n",
      "    encoding : str, optional\n",
      "        Encoding to use for UTF when reading/writing (ex. 'utf-8'). `List of Python\n",
      "        standard encodings\n",
      "        <https://docs.python.org/3/library/codecs.html#standard-encodings>`_ .\n",
      "    dialect : str or csv.Dialect, optional\n",
      "        If provided, this parameter will override values (default or not) for the\n",
      "        following parameters: `delimiter`, `doublequote`, `escapechar`,\n",
      "        `skipinitialspace`, `quotechar`, and `quoting`. If it is necessary to\n",
      "        override values, a ParserWarning will be issued. See csv.Dialect\n",
      "        documentation for more details.\n",
      "    error_bad_lines : bool, default True\n",
      "        Lines with too many fields (e.g. a csv line with too many commas) will by\n",
      "        default cause an exception to be raised, and no DataFrame will be returned.\n",
      "        If False, then these \"bad lines\" will dropped from the DataFrame that is\n",
      "        returned.\n",
      "    warn_bad_lines : bool, default True\n",
      "        If error_bad_lines is False, and warn_bad_lines is True, a warning for each\n",
      "        \"bad line\" will be output.\n",
      "    delim_whitespace : bool, default False\n",
      "        Specifies whether or not whitespace (e.g. ``' '`` or ``'    '``) will be\n",
      "        used as the sep. Equivalent to setting ``sep='\\s+'``. If this option\n",
      "        is set to True, nothing should be passed in for the ``delimiter``\n",
      "        parameter.\n",
      "    low_memory : bool, default True\n",
      "        Internally process the file in chunks, resulting in lower memory use\n",
      "        while parsing, but possibly mixed type inference.  To ensure no mixed\n",
      "        types either set False, or specify the type with the `dtype` parameter.\n",
      "        Note that the entire file is read into a single DataFrame regardless,\n",
      "        use the `chunksize` or `iterator` parameter to return the data in chunks.\n",
      "        (Only valid with C parser).\n",
      "    memory_map : bool, default False\n",
      "        If a filepath is provided for `filepath_or_buffer`, map the file object\n",
      "        directly onto memory and access the data directly from there. Using this\n",
      "        option can improve performance because there is no longer any I/O overhead.\n",
      "    float_precision : str, optional\n",
      "        Specifies which converter the C engine should use for floating-point\n",
      "        values. The options are `None` for the ordinary converter,\n",
      "        `high` for the high-precision converter, and `round_trip` for the\n",
      "        round-trip converter.\n",
      "    \n",
      "    Returns\n",
      "    -------\n",
      "    DataFrame or TextParser\n",
      "        A comma-separated values (csv) file is returned as two-dimensional\n",
      "        data structure with labeled axes.\n",
      "    \n",
      "    See Also\n",
      "    --------\n",
      "    DataFrame.to_csv : Write DataFrame to a comma-separated values (csv) file.\n",
      "    read_csv : Read a comma-separated values (csv) file into DataFrame.\n",
      "    read_fwf : Read a table of fixed-width formatted lines into DataFrame.\n",
      "    \n",
      "    Examples\n",
      "    --------\n",
      "    >>> pd.read_csv('data.csv')  # doctest: +SKIP\n",
      "\n"
     ]
    }
   ],
   "source": [
    "help(pd.read_csv)"
   ]
  },
  {
   "cell_type": "code",
   "execution_count": 57,
   "metadata": {},
   "outputs": [
    {
     "data": {
      "text/html": [
       "<div>\n",
       "<style scoped>\n",
       "    .dataframe tbody tr th:only-of-type {\n",
       "        vertical-align: middle;\n",
       "    }\n",
       "\n",
       "    .dataframe tbody tr th {\n",
       "        vertical-align: top;\n",
       "    }\n",
       "\n",
       "    .dataframe thead th {\n",
       "        text-align: right;\n",
       "    }\n",
       "</style>\n",
       "<table border=\"1\" class=\"dataframe\">\n",
       "  <thead>\n",
       "    <tr style=\"text-align: right;\">\n",
       "      <th></th>\n",
       "      <th>Unnamed: 0</th>\n",
       "      <th>Unnamed: 0.1</th>\n",
       "      <th>year</th>\n",
       "      <th>month</th>\n",
       "      <th>day</th>\n",
       "      <th>dep_time</th>\n",
       "      <th>sched_dep_time</th>\n",
       "      <th>dep_delay</th>\n",
       "      <th>arr_time</th>\n",
       "      <th>sched_arr_time</th>\n",
       "      <th>...</th>\n",
       "      <th>carrier</th>\n",
       "      <th>flight</th>\n",
       "      <th>tailnum</th>\n",
       "      <th>origin</th>\n",
       "      <th>dest</th>\n",
       "      <th>air_time</th>\n",
       "      <th>distance</th>\n",
       "      <th>hour</th>\n",
       "      <th>minute</th>\n",
       "      <th>time_hour</th>\n",
       "    </tr>\n",
       "  </thead>\n",
       "  <tbody>\n",
       "    <tr>\n",
       "      <th>0</th>\n",
       "      <td>0</td>\n",
       "      <td>0</td>\n",
       "      <td>2013</td>\n",
       "      <td>1</td>\n",
       "      <td>1</td>\n",
       "      <td>517.0</td>\n",
       "      <td>515</td>\n",
       "      <td>2.0</td>\n",
       "      <td>830.0</td>\n",
       "      <td>819</td>\n",
       "      <td>...</td>\n",
       "      <td>UA</td>\n",
       "      <td>1545</td>\n",
       "      <td>N14228</td>\n",
       "      <td>EWR</td>\n",
       "      <td>IAH</td>\n",
       "      <td>227.0</td>\n",
       "      <td>1400</td>\n",
       "      <td>5</td>\n",
       "      <td>15</td>\n",
       "      <td>2013-01-01T10:00:00Z</td>\n",
       "    </tr>\n",
       "    <tr>\n",
       "      <th>1</th>\n",
       "      <td>1</td>\n",
       "      <td>1</td>\n",
       "      <td>2013</td>\n",
       "      <td>1</td>\n",
       "      <td>1</td>\n",
       "      <td>533.0</td>\n",
       "      <td>529</td>\n",
       "      <td>4.0</td>\n",
       "      <td>850.0</td>\n",
       "      <td>830</td>\n",
       "      <td>...</td>\n",
       "      <td>UA</td>\n",
       "      <td>1714</td>\n",
       "      <td>N24211</td>\n",
       "      <td>LGA</td>\n",
       "      <td>IAH</td>\n",
       "      <td>227.0</td>\n",
       "      <td>1416</td>\n",
       "      <td>5</td>\n",
       "      <td>29</td>\n",
       "      <td>2013-01-01T10:00:00Z</td>\n",
       "    </tr>\n",
       "    <tr>\n",
       "      <th>2</th>\n",
       "      <td>2</td>\n",
       "      <td>2</td>\n",
       "      <td>2013</td>\n",
       "      <td>1</td>\n",
       "      <td>1</td>\n",
       "      <td>542.0</td>\n",
       "      <td>540</td>\n",
       "      <td>2.0</td>\n",
       "      <td>923.0</td>\n",
       "      <td>850</td>\n",
       "      <td>...</td>\n",
       "      <td>AA</td>\n",
       "      <td>1141</td>\n",
       "      <td>N619AA</td>\n",
       "      <td>JFK</td>\n",
       "      <td>MIA</td>\n",
       "      <td>160.0</td>\n",
       "      <td>1089</td>\n",
       "      <td>5</td>\n",
       "      <td>40</td>\n",
       "      <td>2013-01-01T10:00:00Z</td>\n",
       "    </tr>\n",
       "    <tr>\n",
       "      <th>3</th>\n",
       "      <td>3</td>\n",
       "      <td>3</td>\n",
       "      <td>2013</td>\n",
       "      <td>1</td>\n",
       "      <td>1</td>\n",
       "      <td>544.0</td>\n",
       "      <td>545</td>\n",
       "      <td>-1.0</td>\n",
       "      <td>1004.0</td>\n",
       "      <td>1022</td>\n",
       "      <td>...</td>\n",
       "      <td>B6</td>\n",
       "      <td>725</td>\n",
       "      <td>N804JB</td>\n",
       "      <td>JFK</td>\n",
       "      <td>BQN</td>\n",
       "      <td>183.0</td>\n",
       "      <td>1576</td>\n",
       "      <td>5</td>\n",
       "      <td>45</td>\n",
       "      <td>2013-01-01T10:00:00Z</td>\n",
       "    </tr>\n",
       "    <tr>\n",
       "      <th>4</th>\n",
       "      <td>4</td>\n",
       "      <td>4</td>\n",
       "      <td>2013</td>\n",
       "      <td>1</td>\n",
       "      <td>1</td>\n",
       "      <td>554.0</td>\n",
       "      <td>600</td>\n",
       "      <td>-6.0</td>\n",
       "      <td>812.0</td>\n",
       "      <td>837</td>\n",
       "      <td>...</td>\n",
       "      <td>DL</td>\n",
       "      <td>461</td>\n",
       "      <td>N668DN</td>\n",
       "      <td>LGA</td>\n",
       "      <td>ATL</td>\n",
       "      <td>116.0</td>\n",
       "      <td>762</td>\n",
       "      <td>6</td>\n",
       "      <td>0</td>\n",
       "      <td>2013-01-01T11:00:00Z</td>\n",
       "    </tr>\n",
       "    <tr>\n",
       "      <th>...</th>\n",
       "      <td>...</td>\n",
       "      <td>...</td>\n",
       "      <td>...</td>\n",
       "      <td>...</td>\n",
       "      <td>...</td>\n",
       "      <td>...</td>\n",
       "      <td>...</td>\n",
       "      <td>...</td>\n",
       "      <td>...</td>\n",
       "      <td>...</td>\n",
       "      <td>...</td>\n",
       "      <td>...</td>\n",
       "      <td>...</td>\n",
       "      <td>...</td>\n",
       "      <td>...</td>\n",
       "      <td>...</td>\n",
       "      <td>...</td>\n",
       "      <td>...</td>\n",
       "      <td>...</td>\n",
       "      <td>...</td>\n",
       "      <td>...</td>\n",
       "    </tr>\n",
       "    <tr>\n",
       "      <th>99995</th>\n",
       "      <td>99995</td>\n",
       "      <td>99995</td>\n",
       "      <td>2013</td>\n",
       "      <td>12</td>\n",
       "      <td>19</td>\n",
       "      <td>814.0</td>\n",
       "      <td>817</td>\n",
       "      <td>-3.0</td>\n",
       "      <td>920.0</td>\n",
       "      <td>931</td>\n",
       "      <td>...</td>\n",
       "      <td>EV</td>\n",
       "      <td>4234</td>\n",
       "      <td>N25134</td>\n",
       "      <td>EWR</td>\n",
       "      <td>BWI</td>\n",
       "      <td>40.0</td>\n",
       "      <td>169</td>\n",
       "      <td>8</td>\n",
       "      <td>17</td>\n",
       "      <td>2013-12-19T13:00:00Z</td>\n",
       "    </tr>\n",
       "    <tr>\n",
       "      <th>99996</th>\n",
       "      <td>99996</td>\n",
       "      <td>99996</td>\n",
       "      <td>2013</td>\n",
       "      <td>12</td>\n",
       "      <td>19</td>\n",
       "      <td>815.0</td>\n",
       "      <td>810</td>\n",
       "      <td>5.0</td>\n",
       "      <td>1033.0</td>\n",
       "      <td>1047</td>\n",
       "      <td>...</td>\n",
       "      <td>9E</td>\n",
       "      <td>3741</td>\n",
       "      <td>N293PQ</td>\n",
       "      <td>LGA</td>\n",
       "      <td>MCI</td>\n",
       "      <td>172.0</td>\n",
       "      <td>1107</td>\n",
       "      <td>8</td>\n",
       "      <td>10</td>\n",
       "      <td>2013-12-19T13:00:00Z</td>\n",
       "    </tr>\n",
       "    <tr>\n",
       "      <th>99997</th>\n",
       "      <td>99997</td>\n",
       "      <td>99997</td>\n",
       "      <td>2013</td>\n",
       "      <td>12</td>\n",
       "      <td>19</td>\n",
       "      <td>815.0</td>\n",
       "      <td>815</td>\n",
       "      <td>0.0</td>\n",
       "      <td>1117.0</td>\n",
       "      <td>1123</td>\n",
       "      <td>...</td>\n",
       "      <td>B6</td>\n",
       "      <td>281</td>\n",
       "      <td>N298JB</td>\n",
       "      <td>JFK</td>\n",
       "      <td>HOU</td>\n",
       "      <td>216.0</td>\n",
       "      <td>1428</td>\n",
       "      <td>8</td>\n",
       "      <td>15</td>\n",
       "      <td>2013-12-19T13:00:00Z</td>\n",
       "    </tr>\n",
       "    <tr>\n",
       "      <th>99998</th>\n",
       "      <td>99998</td>\n",
       "      <td>99998</td>\n",
       "      <td>2013</td>\n",
       "      <td>12</td>\n",
       "      <td>19</td>\n",
       "      <td>815.0</td>\n",
       "      <td>749</td>\n",
       "      <td>26.0</td>\n",
       "      <td>1113.0</td>\n",
       "      <td>1103</td>\n",
       "      <td>...</td>\n",
       "      <td>UA</td>\n",
       "      <td>623</td>\n",
       "      <td>N504UA</td>\n",
       "      <td>EWR</td>\n",
       "      <td>SAN</td>\n",
       "      <td>337.0</td>\n",
       "      <td>2425</td>\n",
       "      <td>7</td>\n",
       "      <td>49</td>\n",
       "      <td>2013-12-19T12:00:00Z</td>\n",
       "    </tr>\n",
       "    <tr>\n",
       "      <th>99999</th>\n",
       "      <td>99999</td>\n",
       "      <td>99999</td>\n",
       "      <td>2013</td>\n",
       "      <td>12</td>\n",
       "      <td>19</td>\n",
       "      <td>816.0</td>\n",
       "      <td>800</td>\n",
       "      <td>16.0</td>\n",
       "      <td>1130.0</td>\n",
       "      <td>1118</td>\n",
       "      <td>...</td>\n",
       "      <td>UA</td>\n",
       "      <td>997</td>\n",
       "      <td>N536UA</td>\n",
       "      <td>EWR</td>\n",
       "      <td>LAX</td>\n",
       "      <td>346.0</td>\n",
       "      <td>2454</td>\n",
       "      <td>8</td>\n",
       "      <td>0</td>\n",
       "      <td>2013-12-19T13:00:00Z</td>\n",
       "    </tr>\n",
       "  </tbody>\n",
       "</table>\n",
       "<p>100000 rows × 21 columns</p>\n",
       "</div>"
      ],
      "text/plain": [
       "       Unnamed: 0  Unnamed: 0.1  year  month  day  dep_time  sched_dep_time  \\\n",
       "0               0             0  2013      1    1     517.0             515   \n",
       "1               1             1  2013      1    1     533.0             529   \n",
       "2               2             2  2013      1    1     542.0             540   \n",
       "3               3             3  2013      1    1     544.0             545   \n",
       "4               4             4  2013      1    1     554.0             600   \n",
       "...           ...           ...   ...    ...  ...       ...             ...   \n",
       "99995       99995         99995  2013     12   19     814.0             817   \n",
       "99996       99996         99996  2013     12   19     815.0             810   \n",
       "99997       99997         99997  2013     12   19     815.0             815   \n",
       "99998       99998         99998  2013     12   19     815.0             749   \n",
       "99999       99999         99999  2013     12   19     816.0             800   \n",
       "\n",
       "       dep_delay  arr_time  sched_arr_time  ...  carrier flight  tailnum  \\\n",
       "0            2.0     830.0             819  ...       UA   1545   N14228   \n",
       "1            4.0     850.0             830  ...       UA   1714   N24211   \n",
       "2            2.0     923.0             850  ...       AA   1141   N619AA   \n",
       "3           -1.0    1004.0            1022  ...       B6    725   N804JB   \n",
       "4           -6.0     812.0             837  ...       DL    461   N668DN   \n",
       "...          ...       ...             ...  ...      ...    ...      ...   \n",
       "99995       -3.0     920.0             931  ...       EV   4234   N25134   \n",
       "99996        5.0    1033.0            1047  ...       9E   3741   N293PQ   \n",
       "99997        0.0    1117.0            1123  ...       B6    281   N298JB   \n",
       "99998       26.0    1113.0            1103  ...       UA    623   N504UA   \n",
       "99999       16.0    1130.0            1118  ...       UA    997   N536UA   \n",
       "\n",
       "      origin dest air_time  distance  hour  minute             time_hour  \n",
       "0        EWR  IAH    227.0      1400     5      15  2013-01-01T10:00:00Z  \n",
       "1        LGA  IAH    227.0      1416     5      29  2013-01-01T10:00:00Z  \n",
       "2        JFK  MIA    160.0      1089     5      40  2013-01-01T10:00:00Z  \n",
       "3        JFK  BQN    183.0      1576     5      45  2013-01-01T10:00:00Z  \n",
       "4        LGA  ATL    116.0       762     6       0  2013-01-01T11:00:00Z  \n",
       "...      ...  ...      ...       ...   ...     ...                   ...  \n",
       "99995    EWR  BWI     40.0       169     8      17  2013-12-19T13:00:00Z  \n",
       "99996    LGA  MCI    172.0      1107     8      10  2013-12-19T13:00:00Z  \n",
       "99997    JFK  HOU    216.0      1428     8      15  2013-12-19T13:00:00Z  \n",
       "99998    EWR  SAN    337.0      2425     7      49  2013-12-19T12:00:00Z  \n",
       "99999    EWR  LAX    346.0      2454     8       0  2013-12-19T13:00:00Z  \n",
       "\n",
       "[100000 rows x 21 columns]"
      ]
     },
     "execution_count": 57,
     "metadata": {},
     "output_type": "execute_result"
    }
   ],
   "source": [
    "flights = pd.read_csv('../datasets/flights.txt', sep='|', header='infer')\n",
    "flights"
   ]
  },
  {
   "cell_type": "code",
   "execution_count": null,
   "metadata": {},
   "outputs": [],
   "source": []
  },
  {
   "cell_type": "code",
   "execution_count": null,
   "metadata": {},
   "outputs": [],
   "source": []
  },
  {
   "cell_type": "markdown",
   "metadata": {},
   "source": [
    "**b.** Find the memory usage programmatically (hint: use `help`)"
   ]
  },
  {
   "cell_type": "code",
   "execution_count": 37,
   "metadata": {},
   "outputs": [
    {
     "name": "stdout",
     "output_type": "stream",
     "text": [
      "Help on method info in module pandas.core.frame:\n",
      "\n",
      "info(verbose: Union[bool, NoneType] = None, buf: Union[IO[str], NoneType] = None, max_cols: Union[int, NoneType] = None, memory_usage: Union[bool, str, NoneType] = None, null_counts: Union[bool, NoneType] = None) -> None method of pandas.core.frame.DataFrame instance\n",
      "    Print a concise summary of a DataFrame.\n",
      "    \n",
      "    This method prints information about a DataFrame including\n",
      "    the index dtype and columns, non-null values and memory usage.\n",
      "    \n",
      "    Parameters\n",
      "    ----------\n",
      "    data : DataFrame\n",
      "        DataFrame to print information about.\n",
      "    verbose : bool, optional\n",
      "        Whether to print the full summary. By default, the setting in\n",
      "        ``pandas.options.display.max_info_columns`` is followed.\n",
      "    buf : writable buffer, defaults to sys.stdout\n",
      "        Where to send the output. By default, the output is printed to\n",
      "        sys.stdout. Pass a writable buffer if you need to further process\n",
      "        the output.\n",
      "    max_cols : int, optional\n",
      "                    When to switch from the verbose to the truncated output. If the\n",
      "                    DataFrame has more than `max_cols` columns, the truncated output\n",
      "                    is used. By default, the setting in\n",
      "                    ``pandas.options.display.max_info_columns`` is used.\n",
      "                \n",
      "    memory_usage : bool, str, optional\n",
      "        Specifies whether total memory usage of the DataFrame\n",
      "        elements (including the index) should be displayed. By default,\n",
      "        this follows the ``pandas.options.display.memory_usage`` setting.\n",
      "    \n",
      "        True always show memory usage. False never shows memory usage.\n",
      "        A value of 'deep' is equivalent to \"True with deep introspection\".\n",
      "        Memory usage is shown in human-readable units (base-2\n",
      "        representation). Without deep introspection a memory estimation is\n",
      "        made based in column dtype and number of rows assuming values\n",
      "        consume the same memory amount for corresponding dtypes. With deep\n",
      "        memory introspection, a real memory usage calculation is performed\n",
      "        at the cost of computational resources.\n",
      "    null_counts : bool, optional\n",
      "        Whether to show the non-null counts. By default, this is shown\n",
      "        only if the DataFrame is smaller than\n",
      "        ``pandas.options.display.max_info_rows`` and\n",
      "        ``pandas.options.display.max_info_columns``. A value of True always\n",
      "        shows the counts, and False never shows the counts.\n",
      "    \n",
      "    Returns\n",
      "    -------\n",
      "    None\n",
      "        This method prints a summary of a DataFrame and returns None.\n",
      "    \n",
      "    See Also\n",
      "    --------\n",
      "    \n",
      "                DataFrame.describe: Generate descriptive statistics of DataFrame\n",
      "                    columns.\n",
      "                DataFrame.memory_usage: Memory usage of DataFrame columns.\n",
      "    \n",
      "    Examples\n",
      "    --------\n",
      "    \n",
      "                >>> int_values = [1, 2, 3, 4, 5]\n",
      "                >>> text_values = ['alpha', 'beta', 'gamma', 'delta', 'epsilon']\n",
      "                >>> float_values = [0.0, 0.25, 0.5, 0.75, 1.0]\n",
      "                >>> df = pd.DataFrame({\"int_col\": int_values, \"text_col\": text_values,\n",
      "                ...                   \"float_col\": float_values})\n",
      "                >>> df\n",
      "                    int_col text_col  float_col\n",
      "                0        1    alpha       0.00\n",
      "                1        2     beta       0.25\n",
      "                2        3    gamma       0.50\n",
      "                3        4    delta       0.75\n",
      "                4        5  epsilon       1.00\n",
      "    \n",
      "                Prints information of all columns:\n",
      "    \n",
      "                >>> df.info(verbose=True)\n",
      "                <class 'pandas.core.frame.DataFrame'>\n",
      "                RangeIndex: 5 entries, 0 to 4\n",
      "                Data columns (total 3 columns):\n",
      "                 #   Column     Non-Null Count  Dtype\n",
      "                ---  ------     --------------  -----\n",
      "                 0   int_col    5 non-null      int64\n",
      "                 1   text_col   5 non-null      object\n",
      "                 2   float_col  5 non-null      float64\n",
      "                dtypes: float64(1), int64(1), object(1)\n",
      "                memory usage: 248.0+ bytes\n",
      "    \n",
      "                Prints a summary of columns count and its dtypes but not per column\n",
      "                information:\n",
      "    \n",
      "                >>> df.info(verbose=False)\n",
      "                <class 'pandas.core.frame.DataFrame'>\n",
      "                RangeIndex: 5 entries, 0 to 4\n",
      "                Columns: 3 entries, int_col to float_col\n",
      "                dtypes: float64(1), int64(1), object(1)\n",
      "                memory usage: 248.0+ bytes\n",
      "    \n",
      "                Pipe output of DataFrame.info to buffer instead of sys.stdout, get\n",
      "                buffer content and writes to a text file:\n",
      "    \n",
      "                >>> import io\n",
      "                >>> buffer = io.StringIO()\n",
      "                >>> df.info(buf=buffer)\n",
      "                >>> s = buffer.getvalue()\n",
      "                >>> with open(\"df_info.txt\", \"w\",\n",
      "                ...           encoding=\"utf-8\") as f:  # doctest: +SKIP\n",
      "                ...     f.write(s)\n",
      "                260\n",
      "    \n",
      "                The `memory_usage` parameter allows deep introspection mode, specially\n",
      "                useful for big DataFrames and fine-tune memory optimization:\n",
      "    \n",
      "                >>> random_strings_array = np.random.choice(['a', 'b', 'c'], 10 ** 6)\n",
      "                >>> df = pd.DataFrame({\n",
      "                ...     'column_1': np.random.choice(['a', 'b', 'c'], 10 ** 6),\n",
      "                ...     'column_2': np.random.choice(['a', 'b', 'c'], 10 ** 6),\n",
      "                ...     'column_3': np.random.choice(['a', 'b', 'c'], 10 ** 6)\n",
      "                ... })\n",
      "                >>> df.info()\n",
      "                <class 'pandas.core.frame.DataFrame'>\n",
      "                RangeIndex: 1000000 entries, 0 to 999999\n",
      "                Data columns (total 3 columns):\n",
      "                 #   Column    Non-Null Count    Dtype\n",
      "                ---  ------    --------------    -----\n",
      "                 0   column_1  1000000 non-null  object\n",
      "                 1   column_2  1000000 non-null  object\n",
      "                 2   column_3  1000000 non-null  object\n",
      "                dtypes: object(3)\n",
      "                memory usage: 22.9+ MB\n",
      "    \n",
      "                >>> df.info(memory_usage='deep')\n",
      "                <class 'pandas.core.frame.DataFrame'>\n",
      "                RangeIndex: 1000000 entries, 0 to 999999\n",
      "                Data columns (total 3 columns):\n",
      "                 #   Column    Non-Null Count    Dtype\n",
      "                ---  ------    --------------    -----\n",
      "                 0   column_1  1000000 non-null  object\n",
      "                 1   column_2  1000000 non-null  object\n",
      "                 2   column_3  1000000 non-null  object\n",
      "                dtypes: object(3)\n",
      "                memory usage: 188.8 MB\n",
      "\n"
     ]
    }
   ],
   "source": [
    "memory = flights.info(memory_usage)"
   ]
  },
  {
   "cell_type": "code",
   "execution_count": 58,
   "metadata": {},
   "outputs": [
    {
     "name": "stdout",
     "output_type": "stream",
     "text": [
      "<class 'pandas.core.frame.DataFrame'>\n",
      "RangeIndex: 100000 entries, 0 to 99999\n",
      "Data columns (total 21 columns):\n",
      " #   Column          Non-Null Count   Dtype  \n",
      "---  ------          --------------   -----  \n",
      " 0   Unnamed: 0      100000 non-null  int64  \n",
      " 1   Unnamed: 0.1    100000 non-null  int64  \n",
      " 2   year            100000 non-null  int64  \n",
      " 3   month           100000 non-null  int64  \n",
      " 4   day             100000 non-null  int64  \n",
      " 5   dep_time        98106 non-null   float64\n",
      " 6   sched_dep_time  100000 non-null  int64  \n",
      " 7   dep_delay       98106 non-null   float64\n",
      " 8   arr_time        98036 non-null   float64\n",
      " 9   sched_arr_time  100000 non-null  int64  \n",
      " 10  arr_delay       97854 non-null   float64\n",
      " 11  carrier         100000 non-null  object \n",
      " 12  flight          100000 non-null  int64  \n",
      " 13  tailnum         99453 non-null   object \n",
      " 14  origin          100000 non-null  object \n",
      " 15  dest            100000 non-null  object \n",
      " 16  air_time        97854 non-null   float64\n",
      " 17  distance        100000 non-null  int64  \n",
      " 18  hour            100000 non-null  int64  \n",
      " 19  minute          100000 non-null  int64  \n",
      " 20  time_hour       100000 non-null  object \n",
      "dtypes: float64(5), int64(11), object(5)\n",
      "memory usage: 42.6 MB\n"
     ]
    }
   ],
   "source": [
    "flights.info(memory_usage='deep')"
   ]
  },
  {
   "cell_type": "code",
   "execution_count": 69,
   "metadata": {},
   "outputs": [
    {
     "name": "stdout",
     "output_type": "stream",
     "text": [
      "Total memory usage for Flights dataset is 44.682715 MB\n"
     ]
    }
   ],
   "source": [
    "memory = flights.memory_usage(deep=True).sum()\n",
    "print(f\"Total memory usage for Flights dataset is {memory / 1e6} MB\")\n",
    "#print(flights.info)\n"
   ]
  },
  {
   "cell_type": "markdown",
   "metadata": {},
   "source": [
    "**c.** Find the number of missing entries for each column."
   ]
  },
  {
   "cell_type": "code",
   "execution_count": null,
   "metadata": {},
   "outputs": [],
   "source": []
  },
  {
   "cell_type": "markdown",
   "metadata": {},
   "source": [
    "**d.** What columns are unnecessary? Remove them so that the `df` doesn't include them."
   ]
  },
  {
   "cell_type": "code",
   "execution_count": null,
   "metadata": {},
   "outputs": [],
   "source": []
  },
  {
   "cell_type": "markdown",
   "metadata": {},
   "source": [
    "**e.** Carrier/airline information is located below. Use the information in there to create a new column with a human-readable airline name.\n",
    "\n",
    "```\n",
    "\"9E\" \"Endeavor Air Inc.\",\n",
    "\"AA\" \"American Airlines Inc.\",\n",
    "\"AS\" \"Alaska Airlines Inc.\",\n",
    "\"B6\" \"JetBlue Airways\",\n",
    "\"DL\" \"Delta Air Lines Inc.\",\n",
    "\"EV\" \"ExpressJet Airlines Inc.\",\n",
    "\"F9\" \"Frontier Airlines Inc.\",\n",
    "\"FL\" \"AirTran Airways Corporation\",\n",
    "\"HA\" \"Hawaiian Airlines Inc.\",\n",
    "\"MQ\" \"Envoy Air\",\n",
    "\"OO\" \"SkyWest Airlines Inc.\",\n",
    "\"UA\" \"United Air Lines Inc.\",\n",
    "\"US\" \"US Airways Inc.\",\n",
    "\"VX\" \"Virgin America\",\n",
    "\"WN\" \"Southwest Airlines Co.\",\n",
    "\"YV\" \"Mesa Airlines Inc.\",\n",
    "\n",
    "```"
   ]
  },
  {
   "cell_type": "code",
   "execution_count": null,
   "metadata": {},
   "outputs": [],
   "source": [
    "# apply the function, col called carrier, have 2 letter code for airline and turn it into full name "
   ]
  },
  {
   "cell_type": "markdown",
   "metadata": {},
   "source": [
    "\n",
    "\n"
   ]
  },
  {
   "cell_type": "markdown",
   "metadata": {},
   "source": [
    "**Part 2** \n",
    "\n",
    "Now we need to fix the missing rows and values.\n",
    "\n"
   ]
  },
  {
   "cell_type": "markdown",
   "metadata": {},
   "source": [
    "**a.** Check out the rows missing values for \"dep_delay\". Can we keep them? If not, remove those rows.\n",
    "\n",
    "(note: we're only interested in rows with flight time information)"
   ]
  },
  {
   "cell_type": "code",
   "execution_count": null,
   "metadata": {},
   "outputs": [],
   "source": []
  },
  {
   "cell_type": "markdown",
   "metadata": {},
   "source": [
    "**b.** Now check out the rows missing \"arr_time\". Can we keep them? Drop them if not."
   ]
  },
  {
   "cell_type": "code",
   "execution_count": null,
   "metadata": {},
   "outputs": [],
   "source": []
  },
  {
   "cell_type": "markdown",
   "metadata": {},
   "source": [
    "**c.** Now let's check out the rows missing `air_time`. Can we keep them? Drop them if not."
   ]
  },
  {
   "cell_type": "code",
   "execution_count": null,
   "metadata": {},
   "outputs": [],
   "source": []
  },
  {
   "cell_type": "markdown",
   "metadata": {},
   "source": [
    "**Part 3**\n",
    "\n",
    "Making observations of what we have."
   ]
  },
  {
   "cell_type": "markdown",
   "metadata": {},
   "source": [
    "**a.** What flight was the longest? Where did it leave from and where did it land?\n",
    "\n",
    "You might need to look up airport codes."
   ]
  },
  {
   "cell_type": "code",
   "execution_count": null,
   "metadata": {},
   "outputs": [],
   "source": []
  },
  {
   "cell_type": "markdown",
   "metadata": {},
   "source": [
    "**b.** What flight was the shortest?"
   ]
  },
  {
   "cell_type": "code",
   "execution_count": null,
   "metadata": {},
   "outputs": [],
   "source": []
  },
  {
   "cell_type": "markdown",
   "metadata": {},
   "source": [
    "**c.** What airline flied the most during this period?\n",
    "\n",
    "hint: `.size()`"
   ]
  },
  {
   "cell_type": "code",
   "execution_count": null,
   "metadata": {},
   "outputs": [],
   "source": []
  },
  {
   "cell_type": "markdown",
   "metadata": {},
   "source": [
    "**d.** Which destination was most flown to?"
   ]
  },
  {
   "cell_type": "code",
   "execution_count": null,
   "metadata": {},
   "outputs": [],
   "source": []
  },
  {
   "cell_type": "markdown",
   "metadata": {},
   "source": [
    "**e.** Which location was flown from the most?"
   ]
  },
  {
   "cell_type": "code",
   "execution_count": null,
   "metadata": {},
   "outputs": [],
   "source": []
  },
  {
   "cell_type": "markdown",
   "metadata": {},
   "source": [
    "**f.** Which flight had the longest departure delay?"
   ]
  },
  {
   "cell_type": "code",
   "execution_count": null,
   "metadata": {},
   "outputs": [],
   "source": []
  },
  {
   "cell_type": "markdown",
   "metadata": {},
   "source": [
    "**g.** Which flight had the longest arrival delay? Should match the previous."
   ]
  },
  {
   "cell_type": "code",
   "execution_count": null,
   "metadata": {},
   "outputs": [],
   "source": []
  },
  {
   "cell_type": "markdown",
   "metadata": {},
   "source": [
    "**h.** Which airline had the longest arrival delays on average?"
   ]
  },
  {
   "cell_type": "code",
   "execution_count": null,
   "metadata": {},
   "outputs": [],
   "source": []
  },
  {
   "cell_type": "markdown",
   "metadata": {},
   "source": [
    "**i.** Which airline had the longest departure delays on average?"
   ]
  },
  {
   "cell_type": "code",
   "execution_count": null,
   "metadata": {},
   "outputs": [],
   "source": []
  },
  {
   "cell_type": "markdown",
   "metadata": {},
   "source": [
    "**j.** Which aircraft (going by tailnumber) flew the most?"
   ]
  },
  {
   "cell_type": "code",
   "execution_count": null,
   "metadata": {},
   "outputs": [],
   "source": []
  },
  {
   "cell_type": "markdown",
   "metadata": {},
   "source": [
    "**Bonus:** What day had the most flights?"
   ]
  },
  {
   "cell_type": "markdown",
   "metadata": {},
   "source": [
    "**Part 4**\n",
    "\n",
    "Using one (or more) of the exercises from **Part 3**, plot the information in a matplotlib chart that has correct ticks, labels, titles and axis. Also ensure that the chart type that you use is the correct one for plotting the data you're using. Create a chart you would proudly show an employer."
   ]
  },
  {
   "cell_type": "code",
   "execution_count": null,
   "metadata": {},
   "outputs": [],
   "source": [
    "# in matplotlib chart "
   ]
  }
 ],
 "metadata": {
  "kernelspec": {
   "display_name": "Python 3",
   "language": "python",
   "name": "python3"
  },
  "language_info": {
   "codemirror_mode": {
    "name": "ipython",
    "version": 3
   },
   "file_extension": ".py",
   "mimetype": "text/x-python",
   "name": "python",
   "nbconvert_exporter": "python",
   "pygments_lexer": "ipython3",
   "version": "3.8.8"
  }
 },
 "nbformat": 4,
 "nbformat_minor": 4
}
