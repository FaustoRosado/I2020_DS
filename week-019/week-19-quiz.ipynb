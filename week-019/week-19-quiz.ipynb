{
 "cells": [
  {
   "cell_type": "markdown",
   "metadata": {},
   "source": [
    "<div style=\"background: #000;\n",
    "            color: #FFF;\n",
    "            margin: 0px;\n",
    "            padding: 10px 0px 20px 0px;\n",
    "            text-align: center; \n",
    "                \">\n",
    "    <h1 >Week 19 Quiz</h1>\n",
    "</div>"
   ]
  },
  {
   "cell_type": "markdown",
   "metadata": {},
   "source": [
    "# Exercise \n",
    "\n",
    "Given an array A of positive integers, let `S` be the sum of the digits of the minimal element of `A`.\n",
    "\n",
    "Return `0` if `S` is odd, otherwise return `1`.\n",
    "\n",
    "Example 1:\n",
    "\n",
    "Input: [34,23,1,24,75,33,54,8]  \n",
    "Output: 0  \n",
    "Explanation:   \n",
    "The minimal element is 1, and the sum of those digits is S = 1 which is odd, so the answer is 0.  \n",
    "\n",
    "Example 2:\n",
    "\n",
    "Input: [99,77,33,66,55]  \n",
    "Output: 1  \n",
    "Explanation:   \n",
    "The minimal element is 33, and the sum of those digits is S = 3 + 3 = 6 which is even, so the answer is 1.  \n"
   ]
  },
  {
   "cell_type": "code",
<<<<<<< HEAD
   "execution_count": 1,
=======
   "execution_count": 2,
>>>>>>> 9bcb85082bee3521929bbc33123fdb6b165afb33
   "metadata": {},
   "outputs": [
    {
     "name": "stdout",
     "output_type": "stream",
     "text": [
<<<<<<< HEAD
      "solution is correct\n"
=======
      "solution is incorrect\n"
>>>>>>> 9bcb85082bee3521929bbc33123fdb6b165afb33
     ]
    }
   ],
   "source": [
<<<<<<< HEAD
    "\n",
    "\n",
    "def exercise(array): \n",
    "    \n",
    "\n",
    "    \n",
    "    minimum = min(array)\n",
    "    res = 0\n",
    "    \n",
    "    while minimum > 0: #has to be positive\n",
    "        div = minimum%10 \n",
    "        remainder = minimum/10\n",
    "        res += div\n",
    "        minimum //=10\n",
    "        \n",
    "    return 0 if res%2 else 1\n",
    "\n",
    "# exercise([34,23,1,24,75,33,54,8])\n",
    "        \n",
=======
    "def exercise(array):\n",
    "    ...\n",
>>>>>>> 9bcb85082bee3521929bbc33123fdb6b165afb33
    "    \n",
    "try:\n",
    "    assert(exercise([34,23,1,24,75,33,54,8]) == 0)\n",
    "    assert(exercise([99,77,33,66,55]) == 1)\n",
    "    print(\"solution is correct\")\n",
    "except AssertionError:\n",
    "    print(\"solution is incorrect\")"
   ]
  },
  {
   "cell_type": "code",
   "execution_count": null,
   "metadata": {},
   "outputs": [],
   "source": []
  }
 ],
 "metadata": {
  "kernelspec": {
   "display_name": "Python 3",
   "language": "python",
   "name": "python3"
  },
  "language_info": {
   "codemirror_mode": {
    "name": "ipython",
    "version": 3
   },
   "file_extension": ".py",
   "mimetype": "text/x-python",
   "name": "python",
   "nbconvert_exporter": "python",
   "pygments_lexer": "ipython3",
<<<<<<< HEAD
   "version": "3.8.8"
=======
   "version": "3.9.1"
>>>>>>> 9bcb85082bee3521929bbc33123fdb6b165afb33
  }
 },
 "nbformat": 4,
 "nbformat_minor": 4
}
