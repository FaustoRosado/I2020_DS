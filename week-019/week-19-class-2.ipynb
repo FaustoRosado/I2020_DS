{
 "cells": [
  {
   "cell_type": "markdown",
   "metadata": {},
   "source": [
    "<div style=\"background: #000;\n",
    "            color: #FFF;\n",
    "            margin: 0px;\n",
    "            padding: 10px 0px 20px 0px;\n",
    "            text-align: center; \n",
    "                \">\n",
    "    <h1 >Week 19 Class 2 02/02</h1>\n",
    "</div>\n",
    "\n",
    "## Objectives for this week:\n",
    "* Data Visualizations continued\n",
    "\n",
    "## Todays Agenda\n",
    "* SQL\n",
    "* Working with different data (csv, xls, json, sql)\n",
    "* Inputting/outputting  data in numpy/pandas\n",
    "* Ways to visualize data\n",
    "\n",
    "\n",
    "\n"
   ]
  },
  {
   "cell_type": "markdown",
   "metadata": {},
   "source": [
    "<div style=\"background: #000;\n",
    "            color: #FFF;\n",
    "            margin: 0px;\n",
    "            padding: 10px 0px 20px 0px;\n",
    "            text-align: center; \n",
    "                \">\n",
    "    <h1 >Homework Problem</h1>\n",
    "</div>"
   ]
  },
  {
   "cell_type": "markdown",
   "metadata": {},
   "source": [
    "# Exercise 2\n",
    "\n",
    "In a array $A$ of size $2N$, there are $N+1$ unique elements, and exactly one of these elements is repeated $N$ times.\n",
    "\n",
    "Return the element repeated N times.\n",
    "\n",
    "\n",
    "\n",
    "Example 1:  \n",
    "Input: `[1,2,3,3]`\n",
    "Output: `3`\n",
    "\n",
    "Example 2:  \n",
    "Input: `[2,1,2,5,3,2]`\n",
    "Output: `2`\n",
    "\n",
    "Example 3:  \n",
    "Input: `[5,1,5,2,5,3,5,4]`\n",
    "Output: `5`\n",
    "\n"
   ]
  },
  {
   "cell_type": "code",
<<<<<<< HEAD
   "execution_count": 2,
   "metadata": {},
   "outputs": [
    {
     "name": "stdout",
     "output_type": "stream",
     "text": [
      "solution is correct\n"
     ]
    }
   ],
   "source": [
    "import pandas as pd\n",
    "\n",
    "def ex2(l):\n",
    "    return int(pd.Series(l).mode())\n",
    "\n",
    "try:\n",
    "    assert(ex2([1,2,3,3]) == 3)\n",
    "    assert(ex2([2,1,2,5,3,2]) == 2)\n",
    "    assert(ex2([5,1,5,2,5,3,5,3]) == 5)\n",
    "    print(\"solution is correct\")\n",
    "except AssertionError:\n",
    "    print(\"solution is incorrect\")"
   ]
  },
  {
   "cell_type": "code",
   "execution_count": 3,
   "metadata": {},
   "outputs": [
    {
     "ename": "AttributeError",
     "evalue": "'list' object has no attribute 'counts'",
     "output_type": "error",
     "traceback": [
      "\u001b[0;31m---------------------------------------------------------------------------\u001b[0m",
      "\u001b[0;31mAttributeError\u001b[0m                            Traceback (most recent call last)",
      "\u001b[0;32m<ipython-input-3-2efc7c3be5ae>\u001b[0m in \u001b[0;36m<module>\u001b[0;34m\u001b[0m\n\u001b[1;32m      5\u001b[0m \u001b[0;34m\u001b[0m\u001b[0m\n\u001b[1;32m      6\u001b[0m \u001b[0;32mtry\u001b[0m\u001b[0;34m:\u001b[0m\u001b[0;34m\u001b[0m\u001b[0;34m\u001b[0m\u001b[0m\n\u001b[0;32m----> 7\u001b[0;31m     \u001b[0;32massert\u001b[0m\u001b[0;34m(\u001b[0m\u001b[0mex2\u001b[0m\u001b[0;34m(\u001b[0m\u001b[0;34m[\u001b[0m\u001b[0;36m1\u001b[0m\u001b[0;34m,\u001b[0m\u001b[0;36m2\u001b[0m\u001b[0;34m,\u001b[0m\u001b[0;36m3\u001b[0m\u001b[0;34m,\u001b[0m\u001b[0;36m3\u001b[0m\u001b[0;34m]\u001b[0m\u001b[0;34m)\u001b[0m \u001b[0;34m==\u001b[0m \u001b[0;36m3\u001b[0m\u001b[0;34m)\u001b[0m\u001b[0;34m\u001b[0m\u001b[0;34m\u001b[0m\u001b[0m\n\u001b[0m\u001b[1;32m      8\u001b[0m     \u001b[0;32massert\u001b[0m\u001b[0;34m(\u001b[0m\u001b[0mex2\u001b[0m\u001b[0;34m(\u001b[0m\u001b[0;34m[\u001b[0m\u001b[0;36m2\u001b[0m\u001b[0;34m,\u001b[0m\u001b[0;36m1\u001b[0m\u001b[0;34m,\u001b[0m\u001b[0;36m2\u001b[0m\u001b[0;34m,\u001b[0m\u001b[0;36m5\u001b[0m\u001b[0;34m,\u001b[0m\u001b[0;36m3\u001b[0m\u001b[0;34m,\u001b[0m\u001b[0;36m2\u001b[0m\u001b[0;34m]\u001b[0m\u001b[0;34m)\u001b[0m \u001b[0;34m==\u001b[0m \u001b[0;36m2\u001b[0m\u001b[0;34m)\u001b[0m\u001b[0;34m\u001b[0m\u001b[0;34m\u001b[0m\u001b[0m\n\u001b[1;32m      9\u001b[0m     \u001b[0;32massert\u001b[0m\u001b[0;34m(\u001b[0m\u001b[0mex2\u001b[0m\u001b[0;34m(\u001b[0m\u001b[0;34m[\u001b[0m\u001b[0;36m5\u001b[0m\u001b[0;34m,\u001b[0m\u001b[0;36m1\u001b[0m\u001b[0;34m,\u001b[0m\u001b[0;36m5\u001b[0m\u001b[0;34m,\u001b[0m\u001b[0;36m2\u001b[0m\u001b[0;34m,\u001b[0m\u001b[0;36m5\u001b[0m\u001b[0;34m,\u001b[0m\u001b[0;36m3\u001b[0m\u001b[0;34m,\u001b[0m\u001b[0;36m5\u001b[0m\u001b[0;34m,\u001b[0m\u001b[0;36m3\u001b[0m\u001b[0;34m]\u001b[0m\u001b[0;34m)\u001b[0m \u001b[0;34m==\u001b[0m \u001b[0;36m5\u001b[0m\u001b[0;34m)\u001b[0m\u001b[0;34m\u001b[0m\u001b[0;34m\u001b[0m\u001b[0m\n",
      "\u001b[0;32m<ipython-input-3-2efc7c3be5ae>\u001b[0m in \u001b[0;36mex2\u001b[0;34m(l)\u001b[0m\n\u001b[1;32m      1\u001b[0m \u001b[0;32mdef\u001b[0m \u001b[0mex2\u001b[0m\u001b[0;34m(\u001b[0m\u001b[0ml\u001b[0m\u001b[0;34m)\u001b[0m\u001b[0;34m:\u001b[0m\u001b[0;34m\u001b[0m\u001b[0;34m\u001b[0m\u001b[0m\n\u001b[1;32m      2\u001b[0m     \u001b[0;32mfor\u001b[0m \u001b[0melement\u001b[0m \u001b[0;32min\u001b[0m \u001b[0ml\u001b[0m\u001b[0;34m:\u001b[0m\u001b[0;34m\u001b[0m\u001b[0;34m\u001b[0m\u001b[0m\n\u001b[0;32m----> 3\u001b[0;31m         \u001b[0;32mif\u001b[0m \u001b[0ml\u001b[0m\u001b[0;34m.\u001b[0m\u001b[0mcounts\u001b[0m\u001b[0;34m(\u001b[0m\u001b[0melement\u001b[0m\u001b[0;34m)\u001b[0m \u001b[0;34m>\u001b[0m \u001b[0;36m1\u001b[0m\u001b[0;34m:\u001b[0m\u001b[0;34m\u001b[0m\u001b[0;34m\u001b[0m\u001b[0m\n\u001b[0m\u001b[1;32m      4\u001b[0m             \u001b[0;32mreturn\u001b[0m \u001b[0melement\u001b[0m\u001b[0;34m\u001b[0m\u001b[0;34m\u001b[0m\u001b[0m\n\u001b[1;32m      5\u001b[0m \u001b[0;34m\u001b[0m\u001b[0m\n",
      "\u001b[0;31mAttributeError\u001b[0m: 'list' object has no attribute 'counts'"
     ]
    }
   ],
   "source": [
    "def ex2(l):\n",
    "    for element in l:\n",
    "        if l.counts(element) > 1:\n",
    "            return element\n",
    "\n",
    "try:\n",
    "    assert(ex2([1,2,3,3]) == 3)\n",
    "    assert(ex2([2,1,2,5,3,2]) == 2)\n",
    "    assert(ex2([5,1,5,2,5,3,5,3]) == 5)\n",
    "    print(\"solution is correct\")\n",
    "except AssertionError:\n",
    "    print(\"solution is incorrect\")"
   ]
  },
  {
   "cell_type": "code",
   "execution_count": 7,
   "metadata": {},
   "outputs": [
    {
     "ename": "TypeError",
     "evalue": "'int' object is not callable",
     "output_type": "error",
     "traceback": [
      "\u001b[0;31m---------------------------------------------------------------------------\u001b[0m",
      "\u001b[0;31mTypeError\u001b[0m                                 Traceback (most recent call last)",
      "\u001b[0;32m<ipython-input-7-e3bce851812a>\u001b[0m in \u001b[0;36m<module>\u001b[0;34m\u001b[0m\n\u001b[1;32m      3\u001b[0m \u001b[0;34m\u001b[0m\u001b[0m\n\u001b[1;32m      4\u001b[0m \u001b[0;32mtry\u001b[0m\u001b[0;34m:\u001b[0m\u001b[0;34m\u001b[0m\u001b[0;34m\u001b[0m\u001b[0m\n\u001b[0;32m----> 5\u001b[0;31m     \u001b[0;32massert\u001b[0m\u001b[0;34m(\u001b[0m\u001b[0mex2\u001b[0m\u001b[0;34m(\u001b[0m\u001b[0;34m[\u001b[0m\u001b[0;36m1\u001b[0m\u001b[0;34m,\u001b[0m\u001b[0;36m2\u001b[0m\u001b[0;34m,\u001b[0m\u001b[0;36m3\u001b[0m\u001b[0;34m,\u001b[0m\u001b[0;36m3\u001b[0m\u001b[0;34m]\u001b[0m\u001b[0;34m)\u001b[0m \u001b[0;34m==\u001b[0m \u001b[0;36m3\u001b[0m\u001b[0;34m)\u001b[0m\u001b[0;34m\u001b[0m\u001b[0;34m\u001b[0m\u001b[0m\n\u001b[0m\u001b[1;32m      6\u001b[0m     \u001b[0;32massert\u001b[0m\u001b[0;34m(\u001b[0m\u001b[0mex2\u001b[0m\u001b[0;34m(\u001b[0m\u001b[0;34m[\u001b[0m\u001b[0;36m2\u001b[0m\u001b[0;34m,\u001b[0m\u001b[0;36m1\u001b[0m\u001b[0;34m,\u001b[0m\u001b[0;36m2\u001b[0m\u001b[0;34m,\u001b[0m\u001b[0;36m5\u001b[0m\u001b[0;34m,\u001b[0m\u001b[0;36m3\u001b[0m\u001b[0;34m,\u001b[0m\u001b[0;36m2\u001b[0m\u001b[0;34m]\u001b[0m\u001b[0;34m)\u001b[0m \u001b[0;34m==\u001b[0m \u001b[0;36m2\u001b[0m\u001b[0;34m)\u001b[0m\u001b[0;34m\u001b[0m\u001b[0;34m\u001b[0m\u001b[0m\n\u001b[1;32m      7\u001b[0m     \u001b[0;32massert\u001b[0m\u001b[0;34m(\u001b[0m\u001b[0mex2\u001b[0m\u001b[0;34m(\u001b[0m\u001b[0;34m[\u001b[0m\u001b[0;36m5\u001b[0m\u001b[0;34m,\u001b[0m\u001b[0;36m1\u001b[0m\u001b[0;34m,\u001b[0m\u001b[0;36m5\u001b[0m\u001b[0;34m,\u001b[0m\u001b[0;36m2\u001b[0m\u001b[0;34m,\u001b[0m\u001b[0;36m5\u001b[0m\u001b[0;34m,\u001b[0m\u001b[0;36m3\u001b[0m\u001b[0;34m,\u001b[0m\u001b[0;36m5\u001b[0m\u001b[0;34m,\u001b[0m\u001b[0;36m3\u001b[0m\u001b[0;34m]\u001b[0m\u001b[0;34m)\u001b[0m \u001b[0;34m==\u001b[0m \u001b[0;36m5\u001b[0m\u001b[0;34m)\u001b[0m\u001b[0;34m\u001b[0m\u001b[0;34m\u001b[0m\u001b[0m\n",
      "\u001b[0;32m<ipython-input-7-e3bce851812a>\u001b[0m in \u001b[0;36mex2\u001b[0;34m(l)\u001b[0m\n\u001b[1;32m      1\u001b[0m \u001b[0;32mdef\u001b[0m \u001b[0mex2\u001b[0m\u001b[0;34m(\u001b[0m\u001b[0ml\u001b[0m\u001b[0;34m)\u001b[0m\u001b[0;34m:\u001b[0m\u001b[0;34m\u001b[0m\u001b[0;34m\u001b[0m\u001b[0m\n\u001b[0;32m----> 2\u001b[0;31m     \u001b[0;32mreturn\u001b[0m \u001b[0mmax\u001b[0m\u001b[0;34m(\u001b[0m\u001b[0mset\u001b[0m\u001b[0;34m(\u001b[0m\u001b[0ml\u001b[0m\u001b[0;34m)\u001b[0m\u001b[0;34m,\u001b[0m \u001b[0mkey\u001b[0m\u001b[0;34m=\u001b[0m\u001b[0;36m1\u001b[0m\u001b[0;34m)\u001b[0m\u001b[0;34m\u001b[0m\u001b[0;34m\u001b[0m\u001b[0m\n\u001b[0m\u001b[1;32m      3\u001b[0m \u001b[0;34m\u001b[0m\u001b[0m\n\u001b[1;32m      4\u001b[0m \u001b[0;32mtry\u001b[0m\u001b[0;34m:\u001b[0m\u001b[0;34m\u001b[0m\u001b[0;34m\u001b[0m\u001b[0m\n\u001b[1;32m      5\u001b[0m     \u001b[0;32massert\u001b[0m\u001b[0;34m(\u001b[0m\u001b[0mex2\u001b[0m\u001b[0;34m(\u001b[0m\u001b[0;34m[\u001b[0m\u001b[0;36m1\u001b[0m\u001b[0;34m,\u001b[0m\u001b[0;36m2\u001b[0m\u001b[0;34m,\u001b[0m\u001b[0;36m3\u001b[0m\u001b[0;34m,\u001b[0m\u001b[0;36m3\u001b[0m\u001b[0;34m]\u001b[0m\u001b[0;34m)\u001b[0m \u001b[0;34m==\u001b[0m \u001b[0;36m3\u001b[0m\u001b[0;34m)\u001b[0m\u001b[0;34m\u001b[0m\u001b[0;34m\u001b[0m\u001b[0m\n",
      "\u001b[0;31mTypeError\u001b[0m: 'int' object is not callable"
     ]
    }
   ],
   "source": [
    "def ex2(l):\n",
    "    return max(set(l), key=1)\n",
    "\n",
    "try:\n",
    "    assert(ex2([1,2,3,3]) == 3)\n",
    "    assert(ex2([2,1,2,5,3,2]) == 2)\n",
    "    assert(ex2([5,1,5,2,5,3,5,3]) == 5)\n",
    "    print(\"solution is correct\")\n",
    "except AssertionError:\n",
    "    print(\"solution is incorrect\")"
   ]
  },
  {
   "cell_type": "code",
   "execution_count": 8,
   "metadata": {},
   "outputs": [
    {
     "name": "stdout",
     "output_type": "stream",
     "text": [
      "solution is incorrect\n"
     ]
    }
   ],
   "source": [
    "def ex2(l):    \n",
    "    d = {}    \n",
    "    for val in l:        \n",
    "        d[val] = d.get(val, 0) + 1     \n",
    "        #print(max(d))    \n",
    "        return max(d, key=d.get)\n",
    "    \n",
    "try:\n",
    "    assert(ex2([1,2,3,3]) == 3)\n",
    "    assert(ex2([2,1,2,5,3,2]) == 2)\n",
    "    assert(ex2([5,1,5,2,5,3,5,3]) == 5)\n",
    "    print(\"solution is correct\")\n",
    "except AssertionError:\n",
    "    print(\"solution is incorrect\")"
   ]
  },
  {
   "cell_type": "code",
=======
>>>>>>> 9bcb85082bee3521929bbc33123fdb6b165afb33
   "execution_count": null,
   "metadata": {},
   "outputs": [],
   "source": [
<<<<<<< HEAD
    "from collections import Counter\n",
    "\n",
    "def ex2(l):\n",
    "    return list(Counter(l).keys())[list(Counter(l).values()).index((len(l)//2))]"
   ]
  },
  {
   "cell_type": "code",
   "execution_count": null,
   "metadata": {},
   "outputs": [],
   "source": [
    "i = len(l) / 2    \n",
    "d = {x:l.count(x) for x in l}    \n",
    "d    \n",
    "for k,v in d.items():        \n",
    "    if v == i:            \n",
    "        return k"
   ]
  },
  {
   "cell_type": "code",
   "execution_count": 11,
   "metadata": {},
   "outputs": [
    {
     "ename": "TypeError",
     "evalue": "unsupported operand type(s) for //: 'builtin_function_or_method' and 'int'",
     "output_type": "error",
     "traceback": [
      "\u001b[0;31m---------------------------------------------------------------------------\u001b[0m",
      "\u001b[0;31mTypeError\u001b[0m                                 Traceback (most recent call last)",
      "\u001b[0;32m<ipython-input-11-ba22104d5b8d>\u001b[0m in \u001b[0;36m<module>\u001b[0;34m\u001b[0m\n\u001b[1;32m      6\u001b[0m \u001b[0;34m\u001b[0m\u001b[0m\n\u001b[1;32m      7\u001b[0m \u001b[0;32mtry\u001b[0m\u001b[0;34m:\u001b[0m\u001b[0;34m\u001b[0m\u001b[0;34m\u001b[0m\u001b[0m\n\u001b[0;32m----> 8\u001b[0;31m     \u001b[0;32massert\u001b[0m\u001b[0;34m(\u001b[0m\u001b[0mex2\u001b[0m\u001b[0;34m(\u001b[0m\u001b[0;34m[\u001b[0m\u001b[0;36m1\u001b[0m\u001b[0;34m,\u001b[0m\u001b[0;36m2\u001b[0m\u001b[0;34m,\u001b[0m\u001b[0;36m3\u001b[0m\u001b[0;34m,\u001b[0m\u001b[0;36m3\u001b[0m\u001b[0;34m]\u001b[0m\u001b[0;34m)\u001b[0m \u001b[0;34m==\u001b[0m \u001b[0;36m3\u001b[0m\u001b[0;34m)\u001b[0m\u001b[0;34m\u001b[0m\u001b[0;34m\u001b[0m\u001b[0m\n\u001b[0m\u001b[1;32m      9\u001b[0m     \u001b[0;32massert\u001b[0m\u001b[0;34m(\u001b[0m\u001b[0mex2\u001b[0m\u001b[0;34m(\u001b[0m\u001b[0;34m[\u001b[0m\u001b[0;36m2\u001b[0m\u001b[0;34m,\u001b[0m\u001b[0;36m1\u001b[0m\u001b[0;34m,\u001b[0m\u001b[0;36m2\u001b[0m\u001b[0;34m,\u001b[0m\u001b[0;36m5\u001b[0m\u001b[0;34m,\u001b[0m\u001b[0;36m3\u001b[0m\u001b[0;34m,\u001b[0m\u001b[0;36m2\u001b[0m\u001b[0;34m]\u001b[0m\u001b[0;34m)\u001b[0m \u001b[0;34m==\u001b[0m \u001b[0;36m2\u001b[0m\u001b[0;34m)\u001b[0m\u001b[0;34m\u001b[0m\u001b[0;34m\u001b[0m\u001b[0m\n\u001b[1;32m     10\u001b[0m     \u001b[0;32massert\u001b[0m\u001b[0;34m(\u001b[0m\u001b[0mex2\u001b[0m\u001b[0;34m(\u001b[0m\u001b[0;34m[\u001b[0m\u001b[0;36m5\u001b[0m\u001b[0;34m,\u001b[0m\u001b[0;36m1\u001b[0m\u001b[0;34m,\u001b[0m\u001b[0;36m5\u001b[0m\u001b[0;34m,\u001b[0m\u001b[0;36m2\u001b[0m\u001b[0;34m,\u001b[0m\u001b[0;36m5\u001b[0m\u001b[0;34m,\u001b[0m\u001b[0;36m3\u001b[0m\u001b[0;34m,\u001b[0m\u001b[0;36m5\u001b[0m\u001b[0;34m,\u001b[0m\u001b[0;36m3\u001b[0m\u001b[0;34m]\u001b[0m\u001b[0;34m)\u001b[0m \u001b[0;34m==\u001b[0m \u001b[0;36m5\u001b[0m\u001b[0;34m)\u001b[0m\u001b[0;34m\u001b[0m\u001b[0;34m\u001b[0m\u001b[0m\n",
      "\u001b[0;32m<ipython-input-11-ba22104d5b8d>\u001b[0m in \u001b[0;36mex2\u001b[0;34m(l)\u001b[0m\n\u001b[1;32m      1\u001b[0m \u001b[0;32mdef\u001b[0m \u001b[0mex2\u001b[0m\u001b[0;34m(\u001b[0m\u001b[0ml\u001b[0m\u001b[0;34m)\u001b[0m\u001b[0;34m:\u001b[0m\u001b[0;34m\u001b[0m\u001b[0;34m\u001b[0m\u001b[0m\n\u001b[0;32m----> 2\u001b[0;31m     \u001b[0mlen_\u001b[0m \u001b[0;34m=\u001b[0m \u001b[0mlen\u001b[0m\u001b[0;34m//\u001b[0m\u001b[0;36m2\u001b[0m\u001b[0;34m\u001b[0m\u001b[0;34m\u001b[0m\u001b[0m\n\u001b[0m\u001b[1;32m      3\u001b[0m     \u001b[0;32mfor\u001b[0m \u001b[0mi\u001b[0m \u001b[0;32min\u001b[0m \u001b[0mset\u001b[0m\u001b[0;34m(\u001b[0m\u001b[0ml\u001b[0m\u001b[0;34m)\u001b[0m\u001b[0;34m:\u001b[0m\u001b[0;34m\u001b[0m\u001b[0;34m\u001b[0m\u001b[0m\n\u001b[1;32m      4\u001b[0m         \u001b[0;32mif\u001b[0m \u001b[0ml\u001b[0m\u001b[0;34m.\u001b[0m\u001b[0mcount\u001b[0m\u001b[0;34m(\u001b[0m\u001b[0mi\u001b[0m\u001b[0;34m)\u001b[0m \u001b[0;34m==\u001b[0m \u001b[0mlen_\u001b[0m\u001b[0;34m:\u001b[0m\u001b[0;34m\u001b[0m\u001b[0;34m\u001b[0m\u001b[0m\n\u001b[1;32m      5\u001b[0m             \u001b[0;32mreturn\u001b[0m \u001b[0mi\u001b[0m\u001b[0;34m\u001b[0m\u001b[0;34m\u001b[0m\u001b[0m\n",
      "\u001b[0;31mTypeError\u001b[0m: unsupported operand type(s) for //: 'builtin_function_or_method' and 'int'"
     ]
    }
   ],
   "source": [
    "def ex2(l):    \n",
    "    len_ = len//2\n",
    "    for i in set(l):\n",
    "        if l.count(i) == len_:\n",
    "            return i\n",
    "    \n",
    "try:\n",
    "    assert(ex2([1,2,3,3]) == 3)\n",
    "    assert(ex2([2,1,2,5,3,2]) == 2)\n",
    "    assert(ex2([5,1,5,2,5,3,5,3]) == 5)\n",
    "    print(\"solution is correct\")\n",
    "except AssertionError:\n",
    "    print(\"solution is incorrect\")"
   ]
  },
  {
   "cell_type": "code",
   "execution_count": 12,
   "metadata": {},
   "outputs": [
    {
     "ename": "NameError",
     "evalue": "name 'len_' is not defined",
     "output_type": "error",
     "traceback": [
      "\u001b[0;31m---------------------------------------------------------------------------\u001b[0m",
      "\u001b[0;31mNameError\u001b[0m                                 Traceback (most recent call last)",
      "\u001b[0;32m<ipython-input-12-381954082e5a>\u001b[0m in \u001b[0;36m<module>\u001b[0;34m\u001b[0m\n\u001b[1;32m      6\u001b[0m \u001b[0;34m\u001b[0m\u001b[0m\n\u001b[1;32m      7\u001b[0m \u001b[0;32mtry\u001b[0m\u001b[0;34m:\u001b[0m\u001b[0;34m\u001b[0m\u001b[0;34m\u001b[0m\u001b[0m\n\u001b[0;32m----> 8\u001b[0;31m     \u001b[0;32massert\u001b[0m\u001b[0;34m(\u001b[0m\u001b[0mex2\u001b[0m\u001b[0;34m(\u001b[0m\u001b[0;34m[\u001b[0m\u001b[0;36m1\u001b[0m\u001b[0;34m,\u001b[0m\u001b[0;36m2\u001b[0m\u001b[0;34m,\u001b[0m\u001b[0;36m3\u001b[0m\u001b[0;34m,\u001b[0m\u001b[0;36m3\u001b[0m\u001b[0;34m]\u001b[0m\u001b[0;34m)\u001b[0m \u001b[0;34m==\u001b[0m \u001b[0;36m3\u001b[0m\u001b[0;34m)\u001b[0m\u001b[0;34m\u001b[0m\u001b[0;34m\u001b[0m\u001b[0m\n\u001b[0m\u001b[1;32m      9\u001b[0m     \u001b[0;32massert\u001b[0m\u001b[0;34m(\u001b[0m\u001b[0mex2\u001b[0m\u001b[0;34m(\u001b[0m\u001b[0;34m[\u001b[0m\u001b[0;36m2\u001b[0m\u001b[0;34m,\u001b[0m\u001b[0;36m1\u001b[0m\u001b[0;34m,\u001b[0m\u001b[0;36m2\u001b[0m\u001b[0;34m,\u001b[0m\u001b[0;36m5\u001b[0m\u001b[0;34m,\u001b[0m\u001b[0;36m3\u001b[0m\u001b[0;34m,\u001b[0m\u001b[0;36m2\u001b[0m\u001b[0;34m]\u001b[0m\u001b[0;34m)\u001b[0m \u001b[0;34m==\u001b[0m \u001b[0;36m2\u001b[0m\u001b[0;34m)\u001b[0m\u001b[0;34m\u001b[0m\u001b[0;34m\u001b[0m\u001b[0m\n\u001b[1;32m     10\u001b[0m     \u001b[0;32massert\u001b[0m\u001b[0;34m(\u001b[0m\u001b[0mex2\u001b[0m\u001b[0;34m(\u001b[0m\u001b[0;34m[\u001b[0m\u001b[0;36m5\u001b[0m\u001b[0;34m,\u001b[0m\u001b[0;36m1\u001b[0m\u001b[0;34m,\u001b[0m\u001b[0;36m5\u001b[0m\u001b[0;34m,\u001b[0m\u001b[0;36m2\u001b[0m\u001b[0;34m,\u001b[0m\u001b[0;36m5\u001b[0m\u001b[0;34m,\u001b[0m\u001b[0;36m3\u001b[0m\u001b[0;34m,\u001b[0m\u001b[0;36m5\u001b[0m\u001b[0;34m,\u001b[0m\u001b[0;36m3\u001b[0m\u001b[0;34m]\u001b[0m\u001b[0;34m)\u001b[0m \u001b[0;34m==\u001b[0m \u001b[0;36m5\u001b[0m\u001b[0;34m)\u001b[0m\u001b[0;34m\u001b[0m\u001b[0;34m\u001b[0m\u001b[0m\n",
      "\u001b[0;32m<ipython-input-12-381954082e5a>\u001b[0m in \u001b[0;36mex2\u001b[0;34m(l)\u001b[0m\n\u001b[1;32m      2\u001b[0m \u001b[0;34m\u001b[0m\u001b[0m\n\u001b[1;32m      3\u001b[0m     \u001b[0;32mfor\u001b[0m \u001b[0mi\u001b[0m \u001b[0;32min\u001b[0m \u001b[0ml\u001b[0m\u001b[0;34m:\u001b[0m\u001b[0;34m\u001b[0m\u001b[0;34m\u001b[0m\u001b[0m\n\u001b[0;32m----> 4\u001b[0;31m         \u001b[0;32mif\u001b[0m \u001b[0ml\u001b[0m\u001b[0;34m.\u001b[0m\u001b[0mcount\u001b[0m\u001b[0;34m(\u001b[0m\u001b[0mi\u001b[0m\u001b[0;34m)\u001b[0m \u001b[0;34m==\u001b[0m \u001b[0mlen_\u001b[0m\u001b[0;34m:\u001b[0m\u001b[0;34m\u001b[0m\u001b[0;34m\u001b[0m\u001b[0m\n\u001b[0m\u001b[1;32m      5\u001b[0m             \u001b[0;32mreturn\u001b[0m \u001b[0mi\u001b[0m\u001b[0;34m\u001b[0m\u001b[0;34m\u001b[0m\u001b[0m\n\u001b[1;32m      6\u001b[0m \u001b[0;34m\u001b[0m\u001b[0m\n",
      "\u001b[0;31mNameError\u001b[0m: name 'len_' is not defined"
     ]
    }
   ],
   "source": [
    "def ex2(l):    \n",
    "    \n",
    "    for i in l:\n",
    "        if l.count(i) == len_:\n",
    "            return i\n",
    "    \n",
    "try:\n",
    "    assert(ex2([1,2,3,3]) == 3)\n",
    "    assert(ex2([2,1,2,5,3,2]) == 2)\n",
    "    assert(ex2([5,1,5,2,5,3,5,3]) == 5)\n",
    "    print(\"solution is correct\")\n",
    "except AssertionError:\n",
    "    print(\"solution is incorrect\")"
   ]
  },
  {
   "cell_type": "code",
   "execution_count": 13,
   "metadata": {},
   "outputs": [
    {
     "name": "stdout",
     "output_type": "stream",
     "text": [
      "solution is correct\n"
     ]
    }
   ],
   "source": [
    "def ex2(l):    \n",
    "    len_ = len(l)//2    \n",
    "    for i in set(l):        \n",
    "        if l.count(i) == len_:            \n",
    "            return i\n",
    "        \n",
=======
    "def ex2(l):\n",
    "    ...\n",
    "\n",
>>>>>>> 9bcb85082bee3521929bbc33123fdb6b165afb33
    "try:\n",
    "    assert(ex2([1,2,3,3]) == 3)\n",
    "    assert(ex2([2,1,2,5,3,2]) == 2)\n",
    "    assert(ex2([5,1,5,2,5,3,5,3]) == 5)\n",
    "    print(\"solution is correct\")\n",
    "except AssertionError:\n",
    "    print(\"solution is incorrect\")"
   ]
  },
  {
   "cell_type": "markdown",
   "metadata": {},
   "source": [
    "<div style=\"background: #000;\n",
    "            color: #FFF;\n",
    "            margin: 0px;\n",
    "            padding: 10px 0px 20px 0px;\n",
    "            text-align: center; \n",
    "                \">\n",
    "    <h1>SQL</h1>\n",
    "</div>"
   ]
  },
  {
   "cell_type": "code",
   "execution_count": null,
   "metadata": {},
   "outputs": [],
   "source": [
<<<<<<< HEAD
    "# need to close it manually, more pythonic way 2nd way\n",
    "\n",
    "import sqlite3\n",
    "\n",
    "conn=sqlite3.connect(\".db\")"
   ]
  },
  {
   "cell_type": "code",
   "execution_count": 65,
   "metadata": {},
   "outputs": [
    {
     "name": "stdout",
     "output_type": "stream",
     "text": [
      "pragma table_info(Robert'); DROP TABLES students;);\n"
     ]
    }
   ],
   "source": [
=======
>>>>>>> 9bcb85082bee3521929bbc33123fdb6b165afb33
    "# our sql script\n",
    "\n",
    "import sqlite3\n",
    "from contextlib import closing\n",
    "\n",
    "db = 'new.db'\n",
    "\n",
    "def connection(db_name=None):\n",
    "    conn = None\n",
    "    try:\n",
    "        db_name = db_name or ':memory:'\n",
    "        conn = sqlite3.connect(db_name)\n",
    "        return conn\n",
    "    except Exception as e:\n",
    "        print(e)\n",
    "\n",
    "def execute(db, cmd, commit=False):\n",
    "    with closing(connection(db)) as conn:\n",
    "        with closing(conn.cursor()) as cursor:\n",
    "            try:\n",
    "                cur = cursor.execute(cmd).fetchall()\n",
    "                if commit:\n",
    "                    conn.commit()\n",
<<<<<<< HEAD
    "                    print(\"commit successful\")\n",
=======
>>>>>>> 9bcb85082bee3521929bbc33123fdb6b165afb33
    "                else:\n",
    "                    return cur\n",
    "            except Exception as e:\n",
    "                print(e)\n",
    "    \n",
    "                \n",
<<<<<<< HEAD
    "\n",
    "# learn python quieries        \n",
    "        \n",
    "def get_tables(db):\n",
    "    rows = execute(db, \"SELECT name from sqlite_master where type='table';\")\n",
    "    return [i[0] for i in rows]\n",
    "\n",
    "def get_cols(db, table):\n",
    "    return execute(db, f\"pragma table_info{table});\")\n",
    "\n",
    "# def show_cols(db, table):\n",
    "#     print(f\"pragma table_info({table});\")\n",
    "    \n",
    "# show_cols(db, \"Robert'); DROP TABLES students;\")\n",
    "    "
=======
    "def get_tables(db):\n",
    "    rows = execute(db, \"SELECT name from sqlite_master where type='table';\")\n",
    "    return [i[0] for i in rows]"
>>>>>>> 9bcb85082bee3521929bbc33123fdb6b165afb33
   ]
  },
  {
   "cell_type": "markdown",
   "metadata": {},
   "source": [
    "### `CREATE`\n",
    "\n",
    "```sql\n",
    "-- Create a table called tablename1, with the two columns shown, for\n",
    "-- the database currently in use. Lots of other options are available\n",
    "-- for how you specify the columns, such as their datatypes.\n",
    "CREATE TABLE tablename1 (fname VARCHAR(20), lname VARCHAR(20));\n",
    "```"
   ]
  },
  {
   "cell_type": "code",
<<<<<<< HEAD
   "execution_count": 19,
   "metadata": {},
   "outputs": [
    {
     "name": "stdout",
     "output_type": "stream",
     "text": [
      "table tablename1 already exists\n"
     ]
    }
   ],
   "source": [
    "# making NOT NULL, won't have blank val\n",
    "\n",
=======
   "execution_count": null,
   "metadata": {},
   "outputs": [],
   "source": [
>>>>>>> 9bcb85082bee3521929bbc33123fdb6b165afb33
    "db = 'new.db'\n",
    "\n",
    "execute(db, 'CREATE TABLE tablename1 (fname VARCHAR(20) NOT NULL, lname VARCHAR(20) NOT NULL);',\\\n",
    "        commit=True)"
   ]
  },
  {
   "cell_type": "code",
<<<<<<< HEAD
   "execution_count": 20,
   "metadata": {},
   "outputs": [
    {
     "data": {
      "text/plain": [
       "['tablename1']"
      ]
     },
     "execution_count": 20,
     "metadata": {},
     "output_type": "execute_result"
    }
   ],
=======
   "execution_count": null,
   "metadata": {},
   "outputs": [],
>>>>>>> 9bcb85082bee3521929bbc33123fdb6b165afb33
   "source": [
    "get_tables(db)"
   ]
  },
  {
<<<<<<< HEAD
   "cell_type": "code",
   "execution_count": 44,
   "metadata": {},
   "outputs": [
    {
     "data": {
      "text/plain": [
       "[]"
      ]
     },
     "execution_count": 44,
     "metadata": {},
     "output_type": "execute_result"
    }
   ],
   "source": [
    "get_cols(db, 'tablename1')"
   ]
  },
  {
=======
>>>>>>> 9bcb85082bee3521929bbc33123fdb6b165afb33
   "cell_type": "markdown",
   "metadata": {},
   "source": [
    "### `INSERT`\n",
    "\n",
    "```sql\n",
    "-- Insert a row of data into the table tablename1. This assumes that the\n",
    "-- table has been defined to accept these values as appropriate for it.\n",
    "INSERT INTO tablename1 VALUES('Unknown','Person');\n",
    "```"
   ]
  },
  {
   "cell_type": "code",
<<<<<<< HEAD
   "execution_count": 76,
   "metadata": {},
   "outputs": [
    {
     "name": "stdout",
     "output_type": "stream",
     "text": [
      "commit successful\n"
     ]
    }
   ],
   "source": [
    "execute(db, \"INSERT INTO tablename1 VALUES('Unknown','Person');\", commit=True)\n"
=======
   "execution_count": null,
   "metadata": {},
   "outputs": [],
   "source": [
    "execute(db, \"INSERT INTO tablename1 VALUES('Unknown','Person');\", commit=True)"
>>>>>>> 9bcb85082bee3521929bbc33123fdb6b165afb33
   ]
  },
  {
   "cell_type": "code",
<<<<<<< HEAD
   "execution_count": 77,
   "metadata": {},
   "outputs": [
    {
     "data": {
      "text/plain": [
       "[('Unknown', 'Person'),\n",
       " ('Unknown', 'Person'),\n",
       " ('Unknown', 'Person'),\n",
       " ('Unknown', 'Person'),\n",
       " ('Unknown', 'Person'),\n",
       " ('Unknown', 'Person'),\n",
       " ('Unknown', 'Person'),\n",
       " ('Unknown', 'Person'),\n",
       " ('Unknown', 'Person'),\n",
       " ('Unknown', 'Person')]"
      ]
     },
     "execution_count": 77,
     "metadata": {},
     "output_type": "execute_result"
    }
   ],
=======
   "execution_count": null,
   "metadata": {},
   "outputs": [],
>>>>>>> 9bcb85082bee3521929bbc33123fdb6b165afb33
   "source": [
    "execute(db, \"SELECT * FROM tablename1;\")"
   ]
  },
  {
   "cell_type": "markdown",
   "metadata": {},
   "source": [
    "### `UPDATE`\n",
    "\n",
    "```sql\n",
    "-- In tablename1, change the fname value to 'John' and lname value\n",
    "-- to 'Doe' for all rows that have an lname value of 'Person'.\n",
    "UPDATE tablename1 SET fname='John' lname='Doe' WHERE lname='Person';\n",
    "```"
   ]
  },
  {
   "cell_type": "code",
<<<<<<< HEAD
   "execution_count": 78,
   "metadata": {},
   "outputs": [
    {
     "name": "stdout",
     "output_type": "stream",
     "text": [
      "commit successful\n"
     ]
    }
   ],
=======
   "execution_count": null,
   "metadata": {},
   "outputs": [],
>>>>>>> 9bcb85082bee3521929bbc33123fdb6b165afb33
   "source": [
    "execute(db, \"UPDATE tablename1 SET fname='John', lname='Doe' WHERE lname='Person';\", commit=True)"
   ]
  },
  {
   "cell_type": "code",
<<<<<<< HEAD
   "execution_count": 79,
   "metadata": {},
   "outputs": [
    {
     "data": {
      "text/plain": [
       "[('John', 'Doe'),\n",
       " ('John', 'Doe'),\n",
       " ('John', 'Doe'),\n",
       " ('John', 'Doe'),\n",
       " ('John', 'Doe'),\n",
       " ('John', 'Doe'),\n",
       " ('John', 'Doe'),\n",
       " ('John', 'Doe'),\n",
       " ('John', 'Doe'),\n",
       " ('John', 'Doe')]"
      ]
     },
     "execution_count": 79,
     "metadata": {},
     "output_type": "execute_result"
    }
   ],
   "source": [
    "# problematic if changing fields, may inadvertently change other names with same last name, better way \n",
    "\n",
    "execute(db, \"SELECT * FROM tablename1;\")"
   ]
  },
  {
   "cell_type": "code",
=======
>>>>>>> 9bcb85082bee3521929bbc33123fdb6b165afb33
   "execution_count": null,
   "metadata": {},
   "outputs": [],
   "source": [
<<<<<<< HEAD
    "# primary key"
   ]
  },
  {
   "cell_type": "code",
   "execution_count": null,
   "metadata": {},
   "outputs": [],
   "source": []
  },
  {
   "cell_type": "code",
   "execution_count": null,
   "metadata": {},
   "outputs": [],
   "source": []
  },
  {
   "cell_type": "code",
   "execution_count": null,
   "metadata": {},
   "outputs": [],
   "source": []
  },
  {
=======
    "execute(db, \"SELECT * FROM tablename1;\")"
   ]
  },
  {
>>>>>>> 9bcb85082bee3521929bbc33123fdb6b165afb33
   "cell_type": "markdown",
   "metadata": {},
   "source": [
    "### `DELETE`\n",
    "```sql\n",
    "-- Delete rows from the tablename1 table\n",
    "-- where the lname value begins with 'M'.\n",
    "DELETE FROM tablename1 WHERE lname like 'D%';\n",
    "```"
   ]
  },
  {
   "cell_type": "code",
   "execution_count": null,
   "metadata": {},
   "outputs": [],
   "source": [
<<<<<<< HEAD
    "#username@google.com"
   ]
  },
  {
   "cell_type": "code",
   "execution_count": 40,
   "metadata": {},
   "outputs": [
    {
     "name": "stdout",
     "output_type": "stream",
     "text": [
      "commit successful\n"
     ]
    }
   ],
   "source": [
    "execute(db, \"DELETE FROM tablename1 WHERE lname like 'D%';\", \\   ## WHERE email LIKE '%google%'\n",
=======
    "execute(db, \"DELETE FROM tablename1 WHERE lname like 'D%';\", \\\n",
>>>>>>> 9bcb85082bee3521929bbc33123fdb6b165afb33
    "        commit=True)"
   ]
  },
  {
   "cell_type": "code",
<<<<<<< HEAD
   "execution_count": 41,
   "metadata": {},
   "outputs": [
    {
     "data": {
      "text/plain": [
       "[]"
      ]
     },
     "execution_count": 41,
     "metadata": {},
     "output_type": "execute_result"
    }
   ],
=======
   "execution_count": null,
   "metadata": {},
   "outputs": [],
>>>>>>> 9bcb85082bee3521929bbc33123fdb6b165afb33
   "source": [
    "execute(db, \"SELECT * FROM tablename1;\")"
   ]
  },
  {
   "cell_type": "markdown",
   "metadata": {},
   "source": [
    "```sql\n",
    "-- Delete all rows from the tablename1 table, leaving the empty table.\n",
    "DELETE FROM tablename1;\n",
    "```"
   ]
  },
  {
   "cell_type": "code",
   "execution_count": null,
   "metadata": {},
   "outputs": [],
   "source": [
    "execute(db, \"DELETE FROM tablename1;\", commit=True)"
   ]
  },
  {
   "cell_type": "code",
   "execution_count": null,
   "metadata": {},
   "outputs": [],
   "source": [
    "execute(db, \"SELECT * FROM tablename1;\")"
   ]
  },
  {
   "cell_type": "markdown",
   "metadata": {},
   "source": [
    "```sql\n",
    "-- Remove the entire tablename1 table.\n",
    "DROP TABLE tablename1;\n",
    "\n",
    "```"
   ]
  },
  {
   "cell_type": "code",
<<<<<<< HEAD
   "execution_count": 80,
   "metadata": {},
   "outputs": [
    {
     "name": "stdout",
     "output_type": "stream",
     "text": [
      "commit successful\n"
     ]
    }
   ],
=======
   "execution_count": null,
   "metadata": {},
   "outputs": [],
>>>>>>> 9bcb85082bee3521929bbc33123fdb6b165afb33
   "source": [
    "execute(db, \"DROP TABLE tablename1;\", commit=True)"
   ]
  },
  {
   "cell_type": "code",
   "execution_count": null,
   "metadata": {},
   "outputs": [],
   "source": [
    "execute(db, \"SELECT * FROM tablename1;\")"
   ]
  },
  {
   "cell_type": "markdown",
   "metadata": {},
   "source": [
    "### Restarting With Primary key\n",
    "\n",
    "We need to change our `CREATE` command:\n",
    "\n",
    "```sql\n",
    "-- Create a table called tablename1, with the two columns shown, for\n",
    "-- the database currently in use. Lots of other options are available\n",
    "-- for how you specify the columns, such as their datatypes.\n",
    "CREATE TABLE tablename1 (\n",
    "    id INTEGER PRIMARY KEY,\n",
    "    fname VARCHAR(20), \n",
    "    lname VARCHAR(20)\n",
    ");\n",
    "\n",
    "```"
   ]
  },
  {
   "cell_type": "code",
<<<<<<< HEAD
   "execution_count": 120,
   "metadata": {},
   "outputs": [
    {
     "ename": "SyntaxError",
     "evalue": "invalid syntax (<ipython-input-120-f03ba8734584>, line 38)",
     "output_type": "error",
     "traceback": [
      "\u001b[0;36m  File \u001b[0;32m\"<ipython-input-120-f03ba8734584>\"\u001b[0;36m, line \u001b[0;32m38\u001b[0m\n\u001b[0;31m    get_tables(db)\u001b[0m\n\u001b[0m    ^\u001b[0m\n\u001b[0;31mSyntaxError\u001b[0m\u001b[0;31m:\u001b[0m invalid syntax\n"
     ]
    }
   ],
=======
   "execution_count": null,
   "metadata": {},
   "outputs": [],
>>>>>>> 9bcb85082bee3521929bbc33123fdb6b165afb33
   "source": [
    "# our sql script\n",
    "\n",
    "import sqlite3\n",
    "from contextlib import closing\n",
    "\n",
    "db = 'new.db'\n",
    "\n",
    "def connection(db_name=None):\n",
    "    conn = None\n",
    "    try:\n",
    "        db_name = db_name or ':memory:'\n",
    "        conn = sqlite3.connect(db_name)\n",
    "        return conn\n",
    "    except Exception as e:\n",
    "        print(e)\n",
    "\n",
    "def execute(db, cmd, commit=False):\n",
    "    with closing(connection(db)) as conn:\n",
    "        with closing(conn.cursor()) as cursor:\n",
    "            try:\n",
    "                cur = cursor.execute(cmd).fetchall()\n",
    "                if commit:\n",
    "                    conn.commit()\n",
    "                else:\n",
    "                    return cur\n",
    "            except Exception as e:\n",
    "                print(e)\n",
    "    \n",
    "                \n",
    "def get_tables(db):\n",
    "    rows = execute(db, \"SELECT name from sqlite_master where type='table';\")\n",
    "    return [i[0] for i in rows]\n",
    "\n",
    "def get_cols(db, table):\n",
    "    return execute(db, f\"pragma table_info({table});\")\n",
    "    \n",
    "\n",
    "get_tables(db)"
   ]
  },
  {
   "cell_type": "markdown",
   "metadata": {},
   "source": [
    "### `CREATE`\n",
    "\n",
    "```sql\n",
    "-- Create a table called tablename1, with the two columns shown, for\n",
    "-- the database currently in use. Lots of other options are available\n",
    "-- for how you specify the columns, such as their datatypes.\n",
    "CREATE TABLE tablename1 (fname VARCHAR(20), lname VARCHAR(20));\n",
    "```"
   ]
  },
  {
   "cell_type": "code",
<<<<<<< HEAD
   "execution_count": 81,
   "metadata": {},
   "outputs": [
    {
     "name": "stdout",
     "output_type": "stream",
     "text": [
      "commit successful\n"
     ]
    }
   ],
=======
   "execution_count": null,
   "metadata": {},
   "outputs": [],
>>>>>>> 9bcb85082bee3521929bbc33123fdb6b165afb33
   "source": [
    "db = 'new.db'\n",
    "\n",
    "execute(db, 'CREATE TABLE tablename1\\\n",
    "            (id INTEGER PRIMARY KEY, \\\n",
    "             fname VARCHAR(20) NOT NULL, \\\n",
    "             lname VARCHAR(20) NOT NULL);',\\\n",
    "        commit=True)"
   ]
  },
  {
   "cell_type": "code",
<<<<<<< HEAD
   "execution_count": 82,
   "metadata": {},
   "outputs": [
    {
     "data": {
      "text/plain": [
       "['tablename1']"
      ]
     },
     "execution_count": 82,
     "metadata": {},
     "output_type": "execute_result"
    }
   ],
=======
   "execution_count": null,
   "metadata": {},
   "outputs": [],
>>>>>>> 9bcb85082bee3521929bbc33123fdb6b165afb33
   "source": [
    "get_tables(db)"
   ]
  },
  {
   "cell_type": "markdown",
   "metadata": {},
   "source": [
    "### `INSERT`\n",
    "\n",
    "```sql\n",
    "-- Insert a row of data into the table tablename1. This assumes that the\n",
    "-- table has been defined to accept these values as appropriate for it.\n",
    "INSERT INTO tablename1 VALUES('Unknown','Person');\n",
    "```"
   ]
  },
  {
   "cell_type": "code",
<<<<<<< HEAD
   "execution_count": 89,
   "metadata": {},
   "outputs": [
    {
     "name": "stdout",
     "output_type": "stream",
     "text": [
      "commit successful\n"
     ]
    }
   ],
   "source": [
    "# sql gives it a val, Null, fucn\n",
    "\n",
=======
   "execution_count": null,
   "metadata": {},
   "outputs": [],
   "source": [
>>>>>>> 9bcb85082bee3521929bbc33123fdb6b165afb33
    "execute(db, \"INSERT INTO tablename1 \\\n",
    "             VALUES(Null,'Unknown','Person');\", commit=True)"
   ]
  },
  {
   "cell_type": "code",
<<<<<<< HEAD
   "execution_count": 91,
   "metadata": {},
   "outputs": [
    {
     "name": "stdout",
     "output_type": "stream",
     "text": [
      "table tablename1 has 3 columns but 2 values were supplied\n"
     ]
    }
   ],
   "source": [
    "execute(db, \"INSERT INTO tablename1 \\\n",
    "             VALUES('Unknown','Person');\", commit=True)"
   ]
  },
  {
   "cell_type": "code",
   "execution_count": 92,
   "metadata": {},
   "outputs": [
    {
     "name": "stdout",
     "output_type": "stream",
     "text": [
      "datatype mismatch\n"
     ]
    }
   ],
   "source": [
    "# generally when we create with primary key, let sqlite create new row for us and add the id\n",
    "\n",
    "execute(db, \"INSERT INTO tablename1 \\\n",
    "             VALUES('Unknown','Person', Null);\", commit=True)"
   ]
  },
  {
   "cell_type": "code",
   "execution_count": 90,
   "metadata": {},
   "outputs": [
    {
     "data": {
      "text/plain": [
       "[(1, 'Unknown', 'Person'),\n",
       " (2, 'Unknown', 'Person'),\n",
       " (3, 'Unknown', 'Person'),\n",
       " (4, 'Unknown', 'Person'),\n",
       " (5, 'Unknown', 'Person'),\n",
       " (6, 'Unknown', 'Person')]"
      ]
     },
     "execution_count": 90,
     "metadata": {},
     "output_type": "execute_result"
    }
   ],
=======
   "execution_count": null,
   "metadata": {},
   "outputs": [],
>>>>>>> 9bcb85082bee3521929bbc33123fdb6b165afb33
   "source": [
    "execute(db, \"SELECT * FROM tablename1;\")"
   ]
  },
  {
   "cell_type": "markdown",
   "metadata": {},
   "source": [
    "### `UPDATE`\n",
    "\n",
    "```sql\n",
    "-- In tablename1, change the fname value to 'John' and lname value\n",
    "-- to 'Doe' for all rows that have an lname value of 'Person'.\n",
<<<<<<< HEAD
    "UPDATE tablename1 SET fname='John' lname='Doe' WHERE id=1;\n",
=======
    "UPDATE tablename1 SET fname='John' lname='Doe' WHERE lname='Person';\n",
>>>>>>> 9bcb85082bee3521929bbc33123fdb6b165afb33
    "```"
   ]
  },
  {
   "cell_type": "code",
<<<<<<< HEAD
   "execution_count": 93,
   "metadata": {},
   "outputs": [
    {
     "name": "stdout",
     "output_type": "stream",
     "text": [
      "commit successful\n"
     ]
    }
   ],
=======
   "execution_count": null,
   "metadata": {},
   "outputs": [],
>>>>>>> 9bcb85082bee3521929bbc33123fdb6b165afb33
   "source": [
    "execute(db, \"UPDATE tablename1 SET fname='John', lname='Doe' WHERE id = 1;\", commit=True)"
   ]
  },
  {
   "cell_type": "code",
<<<<<<< HEAD
   "execution_count": 94,
   "metadata": {},
   "outputs": [
    {
     "data": {
      "text/plain": [
       "[(1, 'John', 'Doe'),\n",
       " (2, 'Unknown', 'Person'),\n",
       " (3, 'Unknown', 'Person'),\n",
       " (4, 'Unknown', 'Person'),\n",
       " (5, 'Unknown', 'Person'),\n",
       " (6, 'Unknown', 'Person')]"
      ]
     },
     "execution_count": 94,
     "metadata": {},
     "output_type": "execute_result"
    }
   ],
=======
   "execution_count": null,
   "metadata": {},
   "outputs": [],
>>>>>>> 9bcb85082bee3521929bbc33123fdb6b165afb33
   "source": [
    "execute(db, \"SELECT * FROM tablename1;\")"
   ]
  },
  {
   "cell_type": "markdown",
   "metadata": {},
   "source": [
    "### `DELETE`\n",
    "```sql\n",
    "-- Delete rows from the tablename1 table\n",
    "-- where the lname value begins with 'M'.\n",
<<<<<<< HEAD
    "DELETE FROM tablename1 WHERE id =3;\n",
=======
    "DELETE FROM tablename1 WHERE lname like 'D%';\n",
>>>>>>> 9bcb85082bee3521929bbc33123fdb6b165afb33
    "```"
   ]
  },
  {
   "cell_type": "code",
<<<<<<< HEAD
   "execution_count": 95,
   "metadata": {},
   "outputs": [
    {
     "name": "stdout",
     "output_type": "stream",
     "text": [
      "commit successful\n"
     ]
    }
   ],
   "source": [
    "# similar to pandas dataframe\n",
    "\n",
=======
   "execution_count": null,
   "metadata": {},
   "outputs": [],
   "source": [
>>>>>>> 9bcb85082bee3521929bbc33123fdb6b165afb33
    "execute(db, \"DELETE FROM tablename1 WHERE id = 3;\", \\\n",
    "        commit=True)"
   ]
  },
  {
   "cell_type": "code",
<<<<<<< HEAD
   "execution_count": 97,
   "metadata": {},
   "outputs": [
    {
     "name": "stdout",
     "output_type": "stream",
     "text": [
      "commit successful\n"
     ]
    }
   ],
   "source": [
    "execute(db, \"DELETE FROM tablename1 WHERE id > 3;\", \\\n",
    "        commit=True)"
   ]
  },
  {
   "cell_type": "code",
   "execution_count": 98,
   "metadata": {},
   "outputs": [
    {
     "data": {
      "text/plain": [
       "[(1, 'John', 'Doe'), (2, 'Unknown', 'Person')]"
      ]
     },
     "execution_count": 98,
     "metadata": {},
     "output_type": "execute_result"
    }
   ],
=======
   "execution_count": null,
   "metadata": {},
   "outputs": [],
>>>>>>> 9bcb85082bee3521929bbc33123fdb6b165afb33
   "source": [
    "execute(db, \"SELECT * FROM tablename1;\")"
   ]
  },
  {
   "cell_type": "markdown",
   "metadata": {},
   "source": [
    "```sql\n",
    "-- Delete all rows from the tablename1 table, leaving the empty table.\n",
    "DELETE FROM tablename1;\n",
    "```"
   ]
  },
  {
   "cell_type": "code",
<<<<<<< HEAD
   "execution_count": 99,
   "metadata": {},
   "outputs": [
    {
     "name": "stdout",
     "output_type": "stream",
     "text": [
      "commit successful\n"
     ]
    }
   ],
=======
   "execution_count": null,
   "metadata": {},
   "outputs": [],
>>>>>>> 9bcb85082bee3521929bbc33123fdb6b165afb33
   "source": [
    "execute(db, \"DELETE FROM tablename1;\", commit=True)"
   ]
  },
  {
   "cell_type": "code",
<<<<<<< HEAD
   "execution_count": 100,
   "metadata": {},
   "outputs": [
    {
     "data": {
      "text/plain": [
       "[]"
      ]
     },
     "execution_count": 100,
     "metadata": {},
     "output_type": "execute_result"
    }
   ],
=======
   "execution_count": null,
   "metadata": {},
   "outputs": [],
>>>>>>> 9bcb85082bee3521929bbc33123fdb6b165afb33
   "source": [
    "execute(db, \"SELECT * FROM tablename1;\")"
   ]
  },
  {
   "cell_type": "markdown",
   "metadata": {},
   "source": [
    "```sql\n",
    "-- Remove the entire tablename1 table.\n",
    "DROP TABLE tablename1;\n",
    "\n",
    "```"
   ]
  },
  {
   "cell_type": "code",
   "execution_count": null,
   "metadata": {},
   "outputs": [],
   "source": [
    "execute(db, \"DROP TABLE tablename1;\", commit=True)"
   ]
  },
  {
   "cell_type": "code",
   "execution_count": null,
   "metadata": {},
   "outputs": [],
   "source": [
    "execute(db, \"SELECT * FROM tablename1;\")"
   ]
  },
  {
<<<<<<< HEAD
   "cell_type": "code",
   "execution_count": null,
   "metadata": {},
   "outputs": [],
   "source": [
    "# with foreign keys, conceptually like a pointer pointing to another table's row\n",
    "# add/remove columns without having to drop them"
   ]
  },
  {
=======
>>>>>>> 9bcb85082bee3521929bbc33123fdb6b165afb33
   "cell_type": "markdown",
   "metadata": {},
   "source": [
    "# Using SQL with pandas"
   ]
  },
  {
   "cell_type": "markdown",
   "metadata": {},
   "source": [
    "### Importing from an sql db\n",
    "\n",
    "We'll need to import our libraries and connect to our db."
   ]
  },
  {
   "cell_type": "code",
   "execution_count": null,
   "metadata": {},
   "outputs": [],
<<<<<<< HEAD
   "source": []
  },
  {
   "cell_type": "code",
   "execution_count": 101,
   "metadata": {},
   "outputs": [],
   "source": [
    "import pandas as pd\n",
    "import sqlite3 as sql\n",
    "\n",
    "\n"
   ]
  },
  {
   "cell_type": "code",
   "execution_count": null,
   "metadata": {},
   "outputs": [],
   "source": [
    "pd.read"
   ]
  },
  {
   "cell_type": "code",
   "execution_count": 102,
   "metadata": {},
   "outputs": [],
   "source": [
    "def connection(db_name=None):\n",
    "    conn = None\n",
    "    try:\n",
    "        db_name = db_name or ':memory:'\n",
    "        conn = sqlite3.connect(db_name)\n",
    "        return conn\n",
    "    except Exception as e:\n",
    "        print(e)"
   ]
  },
  {
   "cell_type": "code",
   "execution_count": 103,
   "metadata": {},
   "outputs": [],
   "source": [
    "db = '../datasets/chinook.db'\n",
    "#conn = sql.connect(db)\n",
    "conn = connection(db)"
   ]
  },
  {
   "cell_type": "code",
   "execution_count": 104,
   "metadata": {},
   "outputs": [
    {
     "data": {
      "text/plain": [
       "<sqlite3.Connection at 0x1210d9210>"
      ]
     },
     "execution_count": 104,
     "metadata": {},
     "output_type": "execute_result"
    }
   ],
   "source": [
    "conn"
=======
   "source": [
    "import pandas as pd\n",
    "import sqlite3 as sql\n",
    "from sqlalchemy import create_engine\n",
    "\n",
    "db = '../datasets/chinook.db'\n",
    "conn = sql.connect(db)"
>>>>>>> 9bcb85082bee3521929bbc33123fdb6b165afb33
   ]
  },
  {
   "cell_type": "markdown",
   "metadata": {},
   "source": [
    "Then we can use `read_sql` to connect to our database.\n",
    "\n",
    "`read_sql(query, conn)`\n",
    "\n",
    "We'll need to pass in an SQL query to get information and the db connection."
   ]
  },
<<<<<<< HEAD
  {
   "cell_type": "code",
   "execution_count": 105,
   "metadata": {},
   "outputs": [
    {
     "name": "stdout",
     "output_type": "stream",
     "text": [
      "Help on function read_sql in module pandas.io.sql:\n",
      "\n",
      "read_sql(sql, con, index_col=None, coerce_float=True, params=None, parse_dates=None, columns=None, chunksize: Union[int, NoneType] = None) -> Union[pandas.core.frame.DataFrame, Iterator[pandas.core.frame.DataFrame]]\n",
      "    Read SQL query or database table into a DataFrame.\n",
      "    \n",
      "    This function is a convenience wrapper around ``read_sql_table`` and\n",
      "    ``read_sql_query`` (for backward compatibility). It will delegate\n",
      "    to the specific function depending on the provided input. A SQL query\n",
      "    will be routed to ``read_sql_query``, while a database table name will\n",
      "    be routed to ``read_sql_table``. Note that the delegated function might\n",
      "    have more specific notes about their functionality not listed here.\n",
      "    \n",
      "    Parameters\n",
      "    ----------\n",
      "    sql : str or SQLAlchemy Selectable (select or text object)\n",
      "        SQL query to be executed or a table name.\n",
      "    con : SQLAlchemy connectable, str, or sqlite3 connection\n",
      "        Using SQLAlchemy makes it possible to use any DB supported by that\n",
      "        library. If a DBAPI2 object, only sqlite3 is supported. The user is responsible\n",
      "        for engine disposal and connection closure for the SQLAlchemy connectable. See\n",
      "        `here <https://docs.sqlalchemy.org/en/13/core/connections.html>`_.\n",
      "    index_col : str or list of str, optional, default: None\n",
      "        Column(s) to set as index(MultiIndex).\n",
      "    coerce_float : bool, default True\n",
      "        Attempts to convert values of non-string, non-numeric objects (like\n",
      "        decimal.Decimal) to floating point, useful for SQL result sets.\n",
      "    params : list, tuple or dict, optional, default: None\n",
      "        List of parameters to pass to execute method.  The syntax used\n",
      "        to pass parameters is database driver dependent. Check your\n",
      "        database driver documentation for which of the five syntax styles,\n",
      "        described in PEP 249's paramstyle, is supported.\n",
      "        Eg. for psycopg2, uses %(name)s so use params={'name' : 'value'}.\n",
      "    parse_dates : list or dict, default: None\n",
      "        - List of column names to parse as dates.\n",
      "        - Dict of ``{column_name: format string}`` where format string is\n",
      "          strftime compatible in case of parsing string times, or is one of\n",
      "          (D, s, ns, ms, us) in case of parsing integer timestamps.\n",
      "        - Dict of ``{column_name: arg dict}``, where the arg dict corresponds\n",
      "          to the keyword arguments of :func:`pandas.to_datetime`\n",
      "          Especially useful with databases without native Datetime support,\n",
      "          such as SQLite.\n",
      "    columns : list, default: None\n",
      "        List of column names to select from SQL table (only used when reading\n",
      "        a table).\n",
      "    chunksize : int, default None\n",
      "        If specified, return an iterator where `chunksize` is the\n",
      "        number of rows to include in each chunk.\n",
      "    \n",
      "    Returns\n",
      "    -------\n",
      "    DataFrame or Iterator[DataFrame]\n",
      "    \n",
      "    See Also\n",
      "    --------\n",
      "    read_sql_table : Read SQL database table into a DataFrame.\n",
      "    read_sql_query : Read SQL query into a DataFrame.\n",
      "\n"
     ]
    }
   ],
   "source": [
    "help(pd.read_sql)"
   ]
  },
  {
   "cell_type": "code",
   "execution_count": 106,
   "metadata": {},
   "outputs": [
    {
     "name": "stdout",
     "output_type": "stream",
     "text": [
      "Help on function read_sql_table in module pandas.io.sql:\n",
      "\n",
      "read_sql_table(table_name, con, schema=None, index_col=None, coerce_float=True, parse_dates=None, columns=None, chunksize: Union[int, NoneType] = None) -> Union[pandas.core.frame.DataFrame, Iterator[pandas.core.frame.DataFrame]]\n",
      "    Read SQL database table into a DataFrame.\n",
      "    \n",
      "    Given a table name and a SQLAlchemy connectable, returns a DataFrame.\n",
      "    This function does not support DBAPI connections.\n",
      "    \n",
      "    Parameters\n",
      "    ----------\n",
      "    table_name : str\n",
      "        Name of SQL table in database.\n",
      "    con : SQLAlchemy connectable or str\n",
      "        A database URI could be provided as as str.\n",
      "        SQLite DBAPI connection mode not supported.\n",
      "    schema : str, default None\n",
      "        Name of SQL schema in database to query (if database flavor\n",
      "        supports this). Uses default schema if None (default).\n",
      "    index_col : str or list of str, optional, default: None\n",
      "        Column(s) to set as index(MultiIndex).\n",
      "    coerce_float : bool, default True\n",
      "        Attempts to convert values of non-string, non-numeric objects (like\n",
      "        decimal.Decimal) to floating point. Can result in loss of Precision.\n",
      "    parse_dates : list or dict, default None\n",
      "        - List of column names to parse as dates.\n",
      "        - Dict of ``{column_name: format string}`` where format string is\n",
      "          strftime compatible in case of parsing string times or is one of\n",
      "          (D, s, ns, ms, us) in case of parsing integer timestamps.\n",
      "        - Dict of ``{column_name: arg dict}``, where the arg dict corresponds\n",
      "          to the keyword arguments of :func:`pandas.to_datetime`\n",
      "          Especially useful with databases without native Datetime support,\n",
      "          such as SQLite.\n",
      "    columns : list, default None\n",
      "        List of column names to select from SQL table.\n",
      "    chunksize : int, default None\n",
      "        If specified, returns an iterator where `chunksize` is the number of\n",
      "        rows to include in each chunk.\n",
      "    \n",
      "    Returns\n",
      "    -------\n",
      "    DataFrame or Iterator[DataFrame]\n",
      "        A SQL table is returned as two-dimensional data structure with labeled\n",
      "        axes.\n",
      "    \n",
      "    See Also\n",
      "    --------\n",
      "    read_sql_query : Read SQL query into a DataFrame.\n",
      "    read_sql : Read SQL query or database table into a DataFrame.\n",
      "    \n",
      "    Notes\n",
      "    -----\n",
      "    Any datetime values with time zone information will be converted to UTC.\n",
      "    \n",
      "    Examples\n",
      "    --------\n",
      "    >>> pd.read_sql_table('table_name', 'postgres:///db_name')  # doctest:+SKIP\n",
      "\n"
     ]
    }
   ],
   "source": [
    "help(pd.read_sql_table)"
   ]
  },
  {
   "cell_type": "code",
   "execution_count": 107,
   "metadata": {},
   "outputs": [
    {
     "data": {
      "text/html": [
       "<div>\n",
       "<style scoped>\n",
       "    .dataframe tbody tr th:only-of-type {\n",
       "        vertical-align: middle;\n",
       "    }\n",
       "\n",
       "    .dataframe tbody tr th {\n",
       "        vertical-align: top;\n",
       "    }\n",
       "\n",
       "    .dataframe thead th {\n",
       "        text-align: right;\n",
       "    }\n",
       "</style>\n",
       "<table border=\"1\" class=\"dataframe\">\n",
       "  <thead>\n",
       "    <tr style=\"text-align: right;\">\n",
       "      <th></th>\n",
       "      <th>EmployeeId</th>\n",
       "      <th>LastName</th>\n",
       "      <th>FirstName</th>\n",
       "      <th>Title</th>\n",
       "      <th>ReportsTo</th>\n",
       "      <th>BirthDate</th>\n",
       "      <th>HireDate</th>\n",
       "      <th>Address</th>\n",
       "      <th>City</th>\n",
       "      <th>State</th>\n",
       "      <th>Country</th>\n",
       "      <th>PostalCode</th>\n",
       "      <th>Phone</th>\n",
       "      <th>Fax</th>\n",
       "      <th>Email</th>\n",
       "    </tr>\n",
       "  </thead>\n",
       "  <tbody>\n",
       "    <tr>\n",
       "      <th>0</th>\n",
       "      <td>1</td>\n",
       "      <td>Adams</td>\n",
       "      <td>Andrew</td>\n",
       "      <td>General Manager</td>\n",
       "      <td>NaN</td>\n",
       "      <td>1962-02-18 00:00:00</td>\n",
       "      <td>2002-08-14 00:00:00</td>\n",
       "      <td>11120 Jasper Ave NW</td>\n",
       "      <td>Edmonton</td>\n",
       "      <td>AB</td>\n",
       "      <td>Canada</td>\n",
       "      <td>T5K 2N1</td>\n",
       "      <td>+1 (780) 428-9482</td>\n",
       "      <td>+1 (780) 428-3457</td>\n",
       "      <td>andrew@chinookcorp.com</td>\n",
       "    </tr>\n",
       "    <tr>\n",
       "      <th>1</th>\n",
       "      <td>2</td>\n",
       "      <td>Edwards</td>\n",
       "      <td>Nancy</td>\n",
       "      <td>Sales Manager</td>\n",
       "      <td>1.0</td>\n",
       "      <td>1958-12-08 00:00:00</td>\n",
       "      <td>2002-05-01 00:00:00</td>\n",
       "      <td>825 8 Ave SW</td>\n",
       "      <td>Calgary</td>\n",
       "      <td>AB</td>\n",
       "      <td>Canada</td>\n",
       "      <td>T2P 2T3</td>\n",
       "      <td>+1 (403) 262-3443</td>\n",
       "      <td>+1 (403) 262-3322</td>\n",
       "      <td>nancy@chinookcorp.com</td>\n",
       "    </tr>\n",
       "    <tr>\n",
       "      <th>2</th>\n",
       "      <td>3</td>\n",
       "      <td>Peacock</td>\n",
       "      <td>Jane</td>\n",
       "      <td>Sales Support Agent</td>\n",
       "      <td>2.0</td>\n",
       "      <td>1973-08-29 00:00:00</td>\n",
       "      <td>2002-04-01 00:00:00</td>\n",
       "      <td>1111 6 Ave SW</td>\n",
       "      <td>Calgary</td>\n",
       "      <td>AB</td>\n",
       "      <td>Canada</td>\n",
       "      <td>T2P 5M5</td>\n",
       "      <td>+1 (403) 262-3443</td>\n",
       "      <td>+1 (403) 262-6712</td>\n",
       "      <td>jane@chinookcorp.com</td>\n",
       "    </tr>\n",
       "    <tr>\n",
       "      <th>3</th>\n",
       "      <td>4</td>\n",
       "      <td>Park</td>\n",
       "      <td>Margaret</td>\n",
       "      <td>Sales Support Agent</td>\n",
       "      <td>2.0</td>\n",
       "      <td>1947-09-19 00:00:00</td>\n",
       "      <td>2003-05-03 00:00:00</td>\n",
       "      <td>683 10 Street SW</td>\n",
       "      <td>Calgary</td>\n",
       "      <td>AB</td>\n",
       "      <td>Canada</td>\n",
       "      <td>T2P 5G3</td>\n",
       "      <td>+1 (403) 263-4423</td>\n",
       "      <td>+1 (403) 263-4289</td>\n",
       "      <td>margaret@chinookcorp.com</td>\n",
       "    </tr>\n",
       "    <tr>\n",
       "      <th>4</th>\n",
       "      <td>5</td>\n",
       "      <td>Johnson</td>\n",
       "      <td>Steve</td>\n",
       "      <td>Sales Support Agent</td>\n",
       "      <td>2.0</td>\n",
       "      <td>1965-03-03 00:00:00</td>\n",
       "      <td>2003-10-17 00:00:00</td>\n",
       "      <td>7727B 41 Ave</td>\n",
       "      <td>Calgary</td>\n",
       "      <td>AB</td>\n",
       "      <td>Canada</td>\n",
       "      <td>T3B 1Y7</td>\n",
       "      <td>1 (780) 836-9987</td>\n",
       "      <td>1 (780) 836-9543</td>\n",
       "      <td>steve@chinookcorp.com</td>\n",
       "    </tr>\n",
       "    <tr>\n",
       "      <th>5</th>\n",
       "      <td>6</td>\n",
       "      <td>Mitchell</td>\n",
       "      <td>Michael</td>\n",
       "      <td>IT Manager</td>\n",
       "      <td>1.0</td>\n",
       "      <td>1973-07-01 00:00:00</td>\n",
       "      <td>2003-10-17 00:00:00</td>\n",
       "      <td>5827 Bowness Road NW</td>\n",
       "      <td>Calgary</td>\n",
       "      <td>AB</td>\n",
       "      <td>Canada</td>\n",
       "      <td>T3B 0C5</td>\n",
       "      <td>+1 (403) 246-9887</td>\n",
       "      <td>+1 (403) 246-9899</td>\n",
       "      <td>michael@chinookcorp.com</td>\n",
       "    </tr>\n",
       "    <tr>\n",
       "      <th>6</th>\n",
       "      <td>7</td>\n",
       "      <td>King</td>\n",
       "      <td>Robert</td>\n",
       "      <td>IT Staff</td>\n",
       "      <td>6.0</td>\n",
       "      <td>1970-05-29 00:00:00</td>\n",
       "      <td>2004-01-02 00:00:00</td>\n",
       "      <td>590 Columbia Boulevard West</td>\n",
       "      <td>Lethbridge</td>\n",
       "      <td>AB</td>\n",
       "      <td>Canada</td>\n",
       "      <td>T1K 5N8</td>\n",
       "      <td>+1 (403) 456-9986</td>\n",
       "      <td>+1 (403) 456-8485</td>\n",
       "      <td>robert@chinookcorp.com</td>\n",
       "    </tr>\n",
       "    <tr>\n",
       "      <th>7</th>\n",
       "      <td>8</td>\n",
       "      <td>Callahan</td>\n",
       "      <td>Laura</td>\n",
       "      <td>IT Staff</td>\n",
       "      <td>6.0</td>\n",
       "      <td>1968-01-09 00:00:00</td>\n",
       "      <td>2004-03-04 00:00:00</td>\n",
       "      <td>923 7 ST NW</td>\n",
       "      <td>Lethbridge</td>\n",
       "      <td>AB</td>\n",
       "      <td>Canada</td>\n",
       "      <td>T1H 1Y8</td>\n",
       "      <td>+1 (403) 467-3351</td>\n",
       "      <td>+1 (403) 467-8772</td>\n",
       "      <td>laura@chinookcorp.com</td>\n",
       "    </tr>\n",
       "  </tbody>\n",
       "</table>\n",
       "</div>"
      ],
      "text/plain": [
       "   EmployeeId  LastName FirstName                Title  ReportsTo  \\\n",
       "0           1     Adams    Andrew      General Manager        NaN   \n",
       "1           2   Edwards     Nancy        Sales Manager        1.0   \n",
       "2           3   Peacock      Jane  Sales Support Agent        2.0   \n",
       "3           4      Park  Margaret  Sales Support Agent        2.0   \n",
       "4           5   Johnson     Steve  Sales Support Agent        2.0   \n",
       "5           6  Mitchell   Michael           IT Manager        1.0   \n",
       "6           7      King    Robert             IT Staff        6.0   \n",
       "7           8  Callahan     Laura             IT Staff        6.0   \n",
       "\n",
       "             BirthDate             HireDate                      Address  \\\n",
       "0  1962-02-18 00:00:00  2002-08-14 00:00:00          11120 Jasper Ave NW   \n",
       "1  1958-12-08 00:00:00  2002-05-01 00:00:00                 825 8 Ave SW   \n",
       "2  1973-08-29 00:00:00  2002-04-01 00:00:00                1111 6 Ave SW   \n",
       "3  1947-09-19 00:00:00  2003-05-03 00:00:00             683 10 Street SW   \n",
       "4  1965-03-03 00:00:00  2003-10-17 00:00:00                 7727B 41 Ave   \n",
       "5  1973-07-01 00:00:00  2003-10-17 00:00:00         5827 Bowness Road NW   \n",
       "6  1970-05-29 00:00:00  2004-01-02 00:00:00  590 Columbia Boulevard West   \n",
       "7  1968-01-09 00:00:00  2004-03-04 00:00:00                  923 7 ST NW   \n",
       "\n",
       "         City State Country PostalCode              Phone                Fax  \\\n",
       "0    Edmonton    AB  Canada    T5K 2N1  +1 (780) 428-9482  +1 (780) 428-3457   \n",
       "1     Calgary    AB  Canada    T2P 2T3  +1 (403) 262-3443  +1 (403) 262-3322   \n",
       "2     Calgary    AB  Canada    T2P 5M5  +1 (403) 262-3443  +1 (403) 262-6712   \n",
       "3     Calgary    AB  Canada    T2P 5G3  +1 (403) 263-4423  +1 (403) 263-4289   \n",
       "4     Calgary    AB  Canada    T3B 1Y7   1 (780) 836-9987   1 (780) 836-9543   \n",
       "5     Calgary    AB  Canada    T3B 0C5  +1 (403) 246-9887  +1 (403) 246-9899   \n",
       "6  Lethbridge    AB  Canada    T1K 5N8  +1 (403) 456-9986  +1 (403) 456-8485   \n",
       "7  Lethbridge    AB  Canada    T1H 1Y8  +1 (403) 467-3351  +1 (403) 467-8772   \n",
       "\n",
       "                      Email  \n",
       "0    andrew@chinookcorp.com  \n",
       "1     nancy@chinookcorp.com  \n",
       "2      jane@chinookcorp.com  \n",
       "3  margaret@chinookcorp.com  \n",
       "4     steve@chinookcorp.com  \n",
       "5   michael@chinookcorp.com  \n",
       "6    robert@chinookcorp.com  \n",
       "7     laura@chinookcorp.com  "
      ]
     },
     "execution_count": 107,
     "metadata": {},
     "output_type": "execute_result"
    }
   ],
   "source": [
    "employees = pd.read_sql(\"SELECT * from employees\", conn)\n",
    "employees"
   ]
  },
  {
   "cell_type": "code",
   "execution_count": null,
   "metadata": {},
   "outputs": [],
   "source": [
    "#employees = pd.read_sql(\"SELECT * from employees\", conn)"
   ]
  },
  {
   "cell_type": "code",
   "execution_count": 108,
   "metadata": {},
   "outputs": [
    {
     "data": {
      "text/html": [
       "<div>\n",
       "<style scoped>\n",
       "    .dataframe tbody tr th:only-of-type {\n",
       "        vertical-align: middle;\n",
       "    }\n",
       "\n",
       "    .dataframe tbody tr th {\n",
       "        vertical-align: top;\n",
       "    }\n",
       "\n",
       "    .dataframe thead th {\n",
       "        text-align: right;\n",
       "    }\n",
       "</style>\n",
       "<table border=\"1\" class=\"dataframe\">\n",
       "  <thead>\n",
       "    <tr style=\"text-align: right;\">\n",
       "      <th></th>\n",
       "      <th>CustomerId</th>\n",
       "      <th>FirstName</th>\n",
       "      <th>LastName</th>\n",
       "      <th>Company</th>\n",
       "      <th>Address</th>\n",
       "      <th>City</th>\n",
       "      <th>State</th>\n",
       "      <th>Country</th>\n",
       "      <th>PostalCode</th>\n",
       "      <th>Phone</th>\n",
       "      <th>Fax</th>\n",
       "      <th>Email</th>\n",
       "      <th>SupportRepId</th>\n",
       "    </tr>\n",
       "  </thead>\n",
       "  <tbody>\n",
       "    <tr>\n",
       "      <th>0</th>\n",
       "      <td>1</td>\n",
       "      <td>Luís</td>\n",
       "      <td>Gonçalves</td>\n",
       "      <td>Embraer - Empresa Brasileira de Aeronáutica S.A.</td>\n",
       "      <td>Av. Brigadeiro Faria Lima, 2170</td>\n",
       "      <td>São José dos Campos</td>\n",
       "      <td>SP</td>\n",
       "      <td>Brazil</td>\n",
       "      <td>12227-000</td>\n",
       "      <td>+55 (12) 3923-5555</td>\n",
       "      <td>+55 (12) 3923-5566</td>\n",
       "      <td>luisg@embraer.com.br</td>\n",
       "      <td>3</td>\n",
       "    </tr>\n",
       "    <tr>\n",
       "      <th>1</th>\n",
       "      <td>2</td>\n",
       "      <td>Leonie</td>\n",
       "      <td>Köhler</td>\n",
       "      <td>None</td>\n",
       "      <td>Theodor-Heuss-Straße 34</td>\n",
       "      <td>Stuttgart</td>\n",
       "      <td>None</td>\n",
       "      <td>Germany</td>\n",
       "      <td>70174</td>\n",
       "      <td>+49 0711 2842222</td>\n",
       "      <td>None</td>\n",
       "      <td>leonekohler@surfeu.de</td>\n",
       "      <td>5</td>\n",
       "    </tr>\n",
       "    <tr>\n",
       "      <th>2</th>\n",
       "      <td>3</td>\n",
       "      <td>François</td>\n",
       "      <td>Tremblay</td>\n",
       "      <td>None</td>\n",
       "      <td>1498 rue Bélanger</td>\n",
       "      <td>Montréal</td>\n",
       "      <td>QC</td>\n",
       "      <td>Canada</td>\n",
       "      <td>H2G 1A7</td>\n",
       "      <td>+1 (514) 721-4711</td>\n",
       "      <td>None</td>\n",
       "      <td>ftremblay@gmail.com</td>\n",
       "      <td>3</td>\n",
       "    </tr>\n",
       "    <tr>\n",
       "      <th>3</th>\n",
       "      <td>4</td>\n",
       "      <td>Bjørn</td>\n",
       "      <td>Hansen</td>\n",
       "      <td>None</td>\n",
       "      <td>Ullevålsveien 14</td>\n",
       "      <td>Oslo</td>\n",
       "      <td>None</td>\n",
       "      <td>Norway</td>\n",
       "      <td>0171</td>\n",
       "      <td>+47 22 44 22 22</td>\n",
       "      <td>None</td>\n",
       "      <td>bjorn.hansen@yahoo.no</td>\n",
       "      <td>4</td>\n",
       "    </tr>\n",
       "    <tr>\n",
       "      <th>4</th>\n",
       "      <td>5</td>\n",
       "      <td>František</td>\n",
       "      <td>Wichterlová</td>\n",
       "      <td>JetBrains s.r.o.</td>\n",
       "      <td>Klanova 9/506</td>\n",
       "      <td>Prague</td>\n",
       "      <td>None</td>\n",
       "      <td>Czech Republic</td>\n",
       "      <td>14700</td>\n",
       "      <td>+420 2 4172 5555</td>\n",
       "      <td>+420 2 4172 5555</td>\n",
       "      <td>frantisekw@jetbrains.com</td>\n",
       "      <td>4</td>\n",
       "    </tr>\n",
       "    <tr>\n",
       "      <th>5</th>\n",
       "      <td>6</td>\n",
       "      <td>Helena</td>\n",
       "      <td>Holý</td>\n",
       "      <td>None</td>\n",
       "      <td>Rilská 3174/6</td>\n",
       "      <td>Prague</td>\n",
       "      <td>None</td>\n",
       "      <td>Czech Republic</td>\n",
       "      <td>14300</td>\n",
       "      <td>+420 2 4177 0449</td>\n",
       "      <td>None</td>\n",
       "      <td>hholy@gmail.com</td>\n",
       "      <td>5</td>\n",
       "    </tr>\n",
       "    <tr>\n",
       "      <th>6</th>\n",
       "      <td>7</td>\n",
       "      <td>Astrid</td>\n",
       "      <td>Gruber</td>\n",
       "      <td>None</td>\n",
       "      <td>Rotenturmstraße 4, 1010 Innere Stadt</td>\n",
       "      <td>Vienne</td>\n",
       "      <td>None</td>\n",
       "      <td>Austria</td>\n",
       "      <td>1010</td>\n",
       "      <td>+43 01 5134505</td>\n",
       "      <td>None</td>\n",
       "      <td>astrid.gruber@apple.at</td>\n",
       "      <td>5</td>\n",
       "    </tr>\n",
       "    <tr>\n",
       "      <th>7</th>\n",
       "      <td>8</td>\n",
       "      <td>Daan</td>\n",
       "      <td>Peeters</td>\n",
       "      <td>None</td>\n",
       "      <td>Grétrystraat 63</td>\n",
       "      <td>Brussels</td>\n",
       "      <td>None</td>\n",
       "      <td>Belgium</td>\n",
       "      <td>1000</td>\n",
       "      <td>+32 02 219 03 03</td>\n",
       "      <td>None</td>\n",
       "      <td>daan_peeters@apple.be</td>\n",
       "      <td>4</td>\n",
       "    </tr>\n",
       "    <tr>\n",
       "      <th>8</th>\n",
       "      <td>9</td>\n",
       "      <td>Kara</td>\n",
       "      <td>Nielsen</td>\n",
       "      <td>None</td>\n",
       "      <td>Sønder Boulevard 51</td>\n",
       "      <td>Copenhagen</td>\n",
       "      <td>None</td>\n",
       "      <td>Denmark</td>\n",
       "      <td>1720</td>\n",
       "      <td>+453 3331 9991</td>\n",
       "      <td>None</td>\n",
       "      <td>kara.nielsen@jubii.dk</td>\n",
       "      <td>4</td>\n",
       "    </tr>\n",
       "    <tr>\n",
       "      <th>9</th>\n",
       "      <td>10</td>\n",
       "      <td>Eduardo</td>\n",
       "      <td>Martins</td>\n",
       "      <td>Woodstock Discos</td>\n",
       "      <td>Rua Dr. Falcão Filho, 155</td>\n",
       "      <td>São Paulo</td>\n",
       "      <td>SP</td>\n",
       "      <td>Brazil</td>\n",
       "      <td>01007-010</td>\n",
       "      <td>+55 (11) 3033-5446</td>\n",
       "      <td>+55 (11) 3033-4564</td>\n",
       "      <td>eduardo@woodstock.com.br</td>\n",
       "      <td>4</td>\n",
       "    </tr>\n",
       "    <tr>\n",
       "      <th>10</th>\n",
       "      <td>11</td>\n",
       "      <td>Alexandre</td>\n",
       "      <td>Rocha</td>\n",
       "      <td>Banco do Brasil S.A.</td>\n",
       "      <td>Av. Paulista, 2022</td>\n",
       "      <td>São Paulo</td>\n",
       "      <td>SP</td>\n",
       "      <td>Brazil</td>\n",
       "      <td>01310-200</td>\n",
       "      <td>+55 (11) 3055-3278</td>\n",
       "      <td>+55 (11) 3055-8131</td>\n",
       "      <td>alero@uol.com.br</td>\n",
       "      <td>5</td>\n",
       "    </tr>\n",
       "    <tr>\n",
       "      <th>11</th>\n",
       "      <td>12</td>\n",
       "      <td>Roberto</td>\n",
       "      <td>Almeida</td>\n",
       "      <td>Riotur</td>\n",
       "      <td>Praça Pio X, 119</td>\n",
       "      <td>Rio de Janeiro</td>\n",
       "      <td>RJ</td>\n",
       "      <td>Brazil</td>\n",
       "      <td>20040-020</td>\n",
       "      <td>+55 (21) 2271-7000</td>\n",
       "      <td>+55 (21) 2271-7070</td>\n",
       "      <td>roberto.almeida@riotur.gov.br</td>\n",
       "      <td>3</td>\n",
       "    </tr>\n",
       "    <tr>\n",
       "      <th>12</th>\n",
       "      <td>13</td>\n",
       "      <td>Fernanda</td>\n",
       "      <td>Ramos</td>\n",
       "      <td>None</td>\n",
       "      <td>Qe 7 Bloco G</td>\n",
       "      <td>Brasília</td>\n",
       "      <td>DF</td>\n",
       "      <td>Brazil</td>\n",
       "      <td>71020-677</td>\n",
       "      <td>+55 (61) 3363-5547</td>\n",
       "      <td>+55 (61) 3363-7855</td>\n",
       "      <td>fernadaramos4@uol.com.br</td>\n",
       "      <td>4</td>\n",
       "    </tr>\n",
       "    <tr>\n",
       "      <th>13</th>\n",
       "      <td>14</td>\n",
       "      <td>Mark</td>\n",
       "      <td>Philips</td>\n",
       "      <td>Telus</td>\n",
       "      <td>8210 111 ST NW</td>\n",
       "      <td>Edmonton</td>\n",
       "      <td>AB</td>\n",
       "      <td>Canada</td>\n",
       "      <td>T6G 2C7</td>\n",
       "      <td>+1 (780) 434-4554</td>\n",
       "      <td>+1 (780) 434-5565</td>\n",
       "      <td>mphilips12@shaw.ca</td>\n",
       "      <td>5</td>\n",
       "    </tr>\n",
       "    <tr>\n",
       "      <th>14</th>\n",
       "      <td>15</td>\n",
       "      <td>Jennifer</td>\n",
       "      <td>Peterson</td>\n",
       "      <td>Rogers Canada</td>\n",
       "      <td>700 W Pender Street</td>\n",
       "      <td>Vancouver</td>\n",
       "      <td>BC</td>\n",
       "      <td>Canada</td>\n",
       "      <td>V6C 1G8</td>\n",
       "      <td>+1 (604) 688-2255</td>\n",
       "      <td>+1 (604) 688-8756</td>\n",
       "      <td>jenniferp@rogers.ca</td>\n",
       "      <td>3</td>\n",
       "    </tr>\n",
       "    <tr>\n",
       "      <th>15</th>\n",
       "      <td>16</td>\n",
       "      <td>Frank</td>\n",
       "      <td>Harris</td>\n",
       "      <td>Google Inc.</td>\n",
       "      <td>1600 Amphitheatre Parkway</td>\n",
       "      <td>Mountain View</td>\n",
       "      <td>CA</td>\n",
       "      <td>USA</td>\n",
       "      <td>94043-1351</td>\n",
       "      <td>+1 (650) 253-0000</td>\n",
       "      <td>+1 (650) 253-0000</td>\n",
       "      <td>fharris@google.com</td>\n",
       "      <td>4</td>\n",
       "    </tr>\n",
       "    <tr>\n",
       "      <th>16</th>\n",
       "      <td>17</td>\n",
       "      <td>Jack</td>\n",
       "      <td>Smith</td>\n",
       "      <td>Microsoft Corporation</td>\n",
       "      <td>1 Microsoft Way</td>\n",
       "      <td>Redmond</td>\n",
       "      <td>WA</td>\n",
       "      <td>USA</td>\n",
       "      <td>98052-8300</td>\n",
       "      <td>+1 (425) 882-8080</td>\n",
       "      <td>+1 (425) 882-8081</td>\n",
       "      <td>jacksmith@microsoft.com</td>\n",
       "      <td>5</td>\n",
       "    </tr>\n",
       "    <tr>\n",
       "      <th>17</th>\n",
       "      <td>18</td>\n",
       "      <td>Michelle</td>\n",
       "      <td>Brooks</td>\n",
       "      <td>None</td>\n",
       "      <td>627 Broadway</td>\n",
       "      <td>New York</td>\n",
       "      <td>NY</td>\n",
       "      <td>USA</td>\n",
       "      <td>10012-2612</td>\n",
       "      <td>+1 (212) 221-3546</td>\n",
       "      <td>+1 (212) 221-4679</td>\n",
       "      <td>michelleb@aol.com</td>\n",
       "      <td>3</td>\n",
       "    </tr>\n",
       "    <tr>\n",
       "      <th>18</th>\n",
       "      <td>19</td>\n",
       "      <td>Tim</td>\n",
       "      <td>Goyer</td>\n",
       "      <td>Apple Inc.</td>\n",
       "      <td>1 Infinite Loop</td>\n",
       "      <td>Cupertino</td>\n",
       "      <td>CA</td>\n",
       "      <td>USA</td>\n",
       "      <td>95014</td>\n",
       "      <td>+1 (408) 996-1010</td>\n",
       "      <td>+1 (408) 996-1011</td>\n",
       "      <td>tgoyer@apple.com</td>\n",
       "      <td>3</td>\n",
       "    </tr>\n",
       "    <tr>\n",
       "      <th>19</th>\n",
       "      <td>20</td>\n",
       "      <td>Dan</td>\n",
       "      <td>Miller</td>\n",
       "      <td>None</td>\n",
       "      <td>541 Del Medio Avenue</td>\n",
       "      <td>Mountain View</td>\n",
       "      <td>CA</td>\n",
       "      <td>USA</td>\n",
       "      <td>94040-111</td>\n",
       "      <td>+1 (650) 644-3358</td>\n",
       "      <td>None</td>\n",
       "      <td>dmiller@comcast.com</td>\n",
       "      <td>4</td>\n",
       "    </tr>\n",
       "    <tr>\n",
       "      <th>20</th>\n",
       "      <td>21</td>\n",
       "      <td>Kathy</td>\n",
       "      <td>Chase</td>\n",
       "      <td>None</td>\n",
       "      <td>801 W 4th Street</td>\n",
       "      <td>Reno</td>\n",
       "      <td>NV</td>\n",
       "      <td>USA</td>\n",
       "      <td>89503</td>\n",
       "      <td>+1 (775) 223-7665</td>\n",
       "      <td>None</td>\n",
       "      <td>kachase@hotmail.com</td>\n",
       "      <td>5</td>\n",
       "    </tr>\n",
       "    <tr>\n",
       "      <th>21</th>\n",
       "      <td>22</td>\n",
       "      <td>Heather</td>\n",
       "      <td>Leacock</td>\n",
       "      <td>None</td>\n",
       "      <td>120 S Orange Ave</td>\n",
       "      <td>Orlando</td>\n",
       "      <td>FL</td>\n",
       "      <td>USA</td>\n",
       "      <td>32801</td>\n",
       "      <td>+1 (407) 999-7788</td>\n",
       "      <td>None</td>\n",
       "      <td>hleacock@gmail.com</td>\n",
       "      <td>4</td>\n",
       "    </tr>\n",
       "    <tr>\n",
       "      <th>22</th>\n",
       "      <td>23</td>\n",
       "      <td>John</td>\n",
       "      <td>Gordon</td>\n",
       "      <td>None</td>\n",
       "      <td>69 Salem Street</td>\n",
       "      <td>Boston</td>\n",
       "      <td>MA</td>\n",
       "      <td>USA</td>\n",
       "      <td>2113</td>\n",
       "      <td>+1 (617) 522-1333</td>\n",
       "      <td>None</td>\n",
       "      <td>johngordon22@yahoo.com</td>\n",
       "      <td>4</td>\n",
       "    </tr>\n",
       "    <tr>\n",
       "      <th>23</th>\n",
       "      <td>24</td>\n",
       "      <td>Frank</td>\n",
       "      <td>Ralston</td>\n",
       "      <td>None</td>\n",
       "      <td>162 E Superior Street</td>\n",
       "      <td>Chicago</td>\n",
       "      <td>IL</td>\n",
       "      <td>USA</td>\n",
       "      <td>60611</td>\n",
       "      <td>+1 (312) 332-3232</td>\n",
       "      <td>None</td>\n",
       "      <td>fralston@gmail.com</td>\n",
       "      <td>3</td>\n",
       "    </tr>\n",
       "    <tr>\n",
       "      <th>24</th>\n",
       "      <td>25</td>\n",
       "      <td>Victor</td>\n",
       "      <td>Stevens</td>\n",
       "      <td>None</td>\n",
       "      <td>319 N. Frances Street</td>\n",
       "      <td>Madison</td>\n",
       "      <td>WI</td>\n",
       "      <td>USA</td>\n",
       "      <td>53703</td>\n",
       "      <td>+1 (608) 257-0597</td>\n",
       "      <td>None</td>\n",
       "      <td>vstevens@yahoo.com</td>\n",
       "      <td>5</td>\n",
       "    </tr>\n",
       "    <tr>\n",
       "      <th>25</th>\n",
       "      <td>26</td>\n",
       "      <td>Richard</td>\n",
       "      <td>Cunningham</td>\n",
       "      <td>None</td>\n",
       "      <td>2211 W Berry Street</td>\n",
       "      <td>Fort Worth</td>\n",
       "      <td>TX</td>\n",
       "      <td>USA</td>\n",
       "      <td>76110</td>\n",
       "      <td>+1 (817) 924-7272</td>\n",
       "      <td>None</td>\n",
       "      <td>ricunningham@hotmail.com</td>\n",
       "      <td>4</td>\n",
       "    </tr>\n",
       "    <tr>\n",
       "      <th>26</th>\n",
       "      <td>27</td>\n",
       "      <td>Patrick</td>\n",
       "      <td>Gray</td>\n",
       "      <td>None</td>\n",
       "      <td>1033 N Park Ave</td>\n",
       "      <td>Tucson</td>\n",
       "      <td>AZ</td>\n",
       "      <td>USA</td>\n",
       "      <td>85719</td>\n",
       "      <td>+1 (520) 622-4200</td>\n",
       "      <td>None</td>\n",
       "      <td>patrick.gray@aol.com</td>\n",
       "      <td>4</td>\n",
       "    </tr>\n",
       "    <tr>\n",
       "      <th>27</th>\n",
       "      <td>28</td>\n",
       "      <td>Julia</td>\n",
       "      <td>Barnett</td>\n",
       "      <td>None</td>\n",
       "      <td>302 S 700 E</td>\n",
       "      <td>Salt Lake City</td>\n",
       "      <td>UT</td>\n",
       "      <td>USA</td>\n",
       "      <td>84102</td>\n",
       "      <td>+1 (801) 531-7272</td>\n",
       "      <td>None</td>\n",
       "      <td>jubarnett@gmail.com</td>\n",
       "      <td>5</td>\n",
       "    </tr>\n",
       "    <tr>\n",
       "      <th>28</th>\n",
       "      <td>29</td>\n",
       "      <td>Robert</td>\n",
       "      <td>Brown</td>\n",
       "      <td>None</td>\n",
       "      <td>796 Dundas Street West</td>\n",
       "      <td>Toronto</td>\n",
       "      <td>ON</td>\n",
       "      <td>Canada</td>\n",
       "      <td>M6J 1V1</td>\n",
       "      <td>+1 (416) 363-8888</td>\n",
       "      <td>None</td>\n",
       "      <td>robbrown@shaw.ca</td>\n",
       "      <td>3</td>\n",
       "    </tr>\n",
       "    <tr>\n",
       "      <th>29</th>\n",
       "      <td>30</td>\n",
       "      <td>Edward</td>\n",
       "      <td>Francis</td>\n",
       "      <td>None</td>\n",
       "      <td>230 Elgin Street</td>\n",
       "      <td>Ottawa</td>\n",
       "      <td>ON</td>\n",
       "      <td>Canada</td>\n",
       "      <td>K2P 1L7</td>\n",
       "      <td>+1 (613) 234-3322</td>\n",
       "      <td>None</td>\n",
       "      <td>edfrancis@yachoo.ca</td>\n",
       "      <td>3</td>\n",
       "    </tr>\n",
       "    <tr>\n",
       "      <th>30</th>\n",
       "      <td>31</td>\n",
       "      <td>Martha</td>\n",
       "      <td>Silk</td>\n",
       "      <td>None</td>\n",
       "      <td>194A Chain Lake Drive</td>\n",
       "      <td>Halifax</td>\n",
       "      <td>NS</td>\n",
       "      <td>Canada</td>\n",
       "      <td>B3S 1C5</td>\n",
       "      <td>+1 (902) 450-0450</td>\n",
       "      <td>None</td>\n",
       "      <td>marthasilk@gmail.com</td>\n",
       "      <td>5</td>\n",
       "    </tr>\n",
       "    <tr>\n",
       "      <th>31</th>\n",
       "      <td>32</td>\n",
       "      <td>Aaron</td>\n",
       "      <td>Mitchell</td>\n",
       "      <td>None</td>\n",
       "      <td>696 Osborne Street</td>\n",
       "      <td>Winnipeg</td>\n",
       "      <td>MB</td>\n",
       "      <td>Canada</td>\n",
       "      <td>R3L 2B9</td>\n",
       "      <td>+1 (204) 452-6452</td>\n",
       "      <td>None</td>\n",
       "      <td>aaronmitchell@yahoo.ca</td>\n",
       "      <td>4</td>\n",
       "    </tr>\n",
       "    <tr>\n",
       "      <th>32</th>\n",
       "      <td>33</td>\n",
       "      <td>Ellie</td>\n",
       "      <td>Sullivan</td>\n",
       "      <td>None</td>\n",
       "      <td>5112 48 Street</td>\n",
       "      <td>Yellowknife</td>\n",
       "      <td>NT</td>\n",
       "      <td>Canada</td>\n",
       "      <td>X1A 1N6</td>\n",
       "      <td>+1 (867) 920-2233</td>\n",
       "      <td>None</td>\n",
       "      <td>ellie.sullivan@shaw.ca</td>\n",
       "      <td>3</td>\n",
       "    </tr>\n",
       "    <tr>\n",
       "      <th>33</th>\n",
       "      <td>34</td>\n",
       "      <td>João</td>\n",
       "      <td>Fernandes</td>\n",
       "      <td>None</td>\n",
       "      <td>Rua da Assunção 53</td>\n",
       "      <td>Lisbon</td>\n",
       "      <td>None</td>\n",
       "      <td>Portugal</td>\n",
       "      <td>None</td>\n",
       "      <td>+351 (213) 466-111</td>\n",
       "      <td>None</td>\n",
       "      <td>jfernandes@yahoo.pt</td>\n",
       "      <td>4</td>\n",
       "    </tr>\n",
       "    <tr>\n",
       "      <th>34</th>\n",
       "      <td>35</td>\n",
       "      <td>Madalena</td>\n",
       "      <td>Sampaio</td>\n",
       "      <td>None</td>\n",
       "      <td>Rua dos Campeões Europeus de Viena, 4350</td>\n",
       "      <td>Porto</td>\n",
       "      <td>None</td>\n",
       "      <td>Portugal</td>\n",
       "      <td>None</td>\n",
       "      <td>+351 (225) 022-448</td>\n",
       "      <td>None</td>\n",
       "      <td>masampaio@sapo.pt</td>\n",
       "      <td>4</td>\n",
       "    </tr>\n",
       "    <tr>\n",
       "      <th>35</th>\n",
       "      <td>36</td>\n",
       "      <td>Hannah</td>\n",
       "      <td>Schneider</td>\n",
       "      <td>None</td>\n",
       "      <td>Tauentzienstraße 8</td>\n",
       "      <td>Berlin</td>\n",
       "      <td>None</td>\n",
       "      <td>Germany</td>\n",
       "      <td>10789</td>\n",
       "      <td>+49 030 26550280</td>\n",
       "      <td>None</td>\n",
       "      <td>hannah.schneider@yahoo.de</td>\n",
       "      <td>5</td>\n",
       "    </tr>\n",
       "    <tr>\n",
       "      <th>36</th>\n",
       "      <td>37</td>\n",
       "      <td>Fynn</td>\n",
       "      <td>Zimmermann</td>\n",
       "      <td>None</td>\n",
       "      <td>Berger Straße 10</td>\n",
       "      <td>Frankfurt</td>\n",
       "      <td>None</td>\n",
       "      <td>Germany</td>\n",
       "      <td>60316</td>\n",
       "      <td>+49 069 40598889</td>\n",
       "      <td>None</td>\n",
       "      <td>fzimmermann@yahoo.de</td>\n",
       "      <td>3</td>\n",
       "    </tr>\n",
       "    <tr>\n",
       "      <th>37</th>\n",
       "      <td>38</td>\n",
       "      <td>Niklas</td>\n",
       "      <td>Schröder</td>\n",
       "      <td>None</td>\n",
       "      <td>Barbarossastraße 19</td>\n",
       "      <td>Berlin</td>\n",
       "      <td>None</td>\n",
       "      <td>Germany</td>\n",
       "      <td>10779</td>\n",
       "      <td>+49 030 2141444</td>\n",
       "      <td>None</td>\n",
       "      <td>nschroder@surfeu.de</td>\n",
       "      <td>3</td>\n",
       "    </tr>\n",
       "    <tr>\n",
       "      <th>38</th>\n",
       "      <td>39</td>\n",
       "      <td>Camille</td>\n",
       "      <td>Bernard</td>\n",
       "      <td>None</td>\n",
       "      <td>4, Rue Milton</td>\n",
       "      <td>Paris</td>\n",
       "      <td>None</td>\n",
       "      <td>France</td>\n",
       "      <td>75009</td>\n",
       "      <td>+33 01 49 70 65 65</td>\n",
       "      <td>None</td>\n",
       "      <td>camille.bernard@yahoo.fr</td>\n",
       "      <td>4</td>\n",
       "    </tr>\n",
       "    <tr>\n",
       "      <th>39</th>\n",
       "      <td>40</td>\n",
       "      <td>Dominique</td>\n",
       "      <td>Lefebvre</td>\n",
       "      <td>None</td>\n",
       "      <td>8, Rue Hanovre</td>\n",
       "      <td>Paris</td>\n",
       "      <td>None</td>\n",
       "      <td>France</td>\n",
       "      <td>75002</td>\n",
       "      <td>+33 01 47 42 71 71</td>\n",
       "      <td>None</td>\n",
       "      <td>dominiquelefebvre@gmail.com</td>\n",
       "      <td>4</td>\n",
       "    </tr>\n",
       "    <tr>\n",
       "      <th>40</th>\n",
       "      <td>41</td>\n",
       "      <td>Marc</td>\n",
       "      <td>Dubois</td>\n",
       "      <td>None</td>\n",
       "      <td>11, Place Bellecour</td>\n",
       "      <td>Lyon</td>\n",
       "      <td>None</td>\n",
       "      <td>France</td>\n",
       "      <td>69002</td>\n",
       "      <td>+33 04 78 30 30 30</td>\n",
       "      <td>None</td>\n",
       "      <td>marc.dubois@hotmail.com</td>\n",
       "      <td>5</td>\n",
       "    </tr>\n",
       "    <tr>\n",
       "      <th>41</th>\n",
       "      <td>42</td>\n",
       "      <td>Wyatt</td>\n",
       "      <td>Girard</td>\n",
       "      <td>None</td>\n",
       "      <td>9, Place Louis Barthou</td>\n",
       "      <td>Bordeaux</td>\n",
       "      <td>None</td>\n",
       "      <td>France</td>\n",
       "      <td>33000</td>\n",
       "      <td>+33 05 56 96 96 96</td>\n",
       "      <td>None</td>\n",
       "      <td>wyatt.girard@yahoo.fr</td>\n",
       "      <td>3</td>\n",
       "    </tr>\n",
       "    <tr>\n",
       "      <th>42</th>\n",
       "      <td>43</td>\n",
       "      <td>Isabelle</td>\n",
       "      <td>Mercier</td>\n",
       "      <td>None</td>\n",
       "      <td>68, Rue Jouvence</td>\n",
       "      <td>Dijon</td>\n",
       "      <td>None</td>\n",
       "      <td>France</td>\n",
       "      <td>21000</td>\n",
       "      <td>+33 03 80 73 66 99</td>\n",
       "      <td>None</td>\n",
       "      <td>isabelle_mercier@apple.fr</td>\n",
       "      <td>3</td>\n",
       "    </tr>\n",
       "    <tr>\n",
       "      <th>43</th>\n",
       "      <td>44</td>\n",
       "      <td>Terhi</td>\n",
       "      <td>Hämäläinen</td>\n",
       "      <td>None</td>\n",
       "      <td>Porthaninkatu 9</td>\n",
       "      <td>Helsinki</td>\n",
       "      <td>None</td>\n",
       "      <td>Finland</td>\n",
       "      <td>00530</td>\n",
       "      <td>+358 09 870 2000</td>\n",
       "      <td>None</td>\n",
       "      <td>terhi.hamalainen@apple.fi</td>\n",
       "      <td>3</td>\n",
       "    </tr>\n",
       "    <tr>\n",
       "      <th>44</th>\n",
       "      <td>45</td>\n",
       "      <td>Ladislav</td>\n",
       "      <td>Kovács</td>\n",
       "      <td>None</td>\n",
       "      <td>Erzsébet krt. 58.</td>\n",
       "      <td>Budapest</td>\n",
       "      <td>None</td>\n",
       "      <td>Hungary</td>\n",
       "      <td>H-1073</td>\n",
       "      <td>None</td>\n",
       "      <td>None</td>\n",
       "      <td>ladislav_kovacs@apple.hu</td>\n",
       "      <td>3</td>\n",
       "    </tr>\n",
       "    <tr>\n",
       "      <th>45</th>\n",
       "      <td>46</td>\n",
       "      <td>Hugh</td>\n",
       "      <td>O'Reilly</td>\n",
       "      <td>None</td>\n",
       "      <td>3 Chatham Street</td>\n",
       "      <td>Dublin</td>\n",
       "      <td>Dublin</td>\n",
       "      <td>Ireland</td>\n",
       "      <td>None</td>\n",
       "      <td>+353 01 6792424</td>\n",
       "      <td>None</td>\n",
       "      <td>hughoreilly@apple.ie</td>\n",
       "      <td>3</td>\n",
       "    </tr>\n",
       "    <tr>\n",
       "      <th>46</th>\n",
       "      <td>47</td>\n",
       "      <td>Lucas</td>\n",
       "      <td>Mancini</td>\n",
       "      <td>None</td>\n",
       "      <td>Via Degli Scipioni, 43</td>\n",
       "      <td>Rome</td>\n",
       "      <td>RM</td>\n",
       "      <td>Italy</td>\n",
       "      <td>00192</td>\n",
       "      <td>+39 06 39733434</td>\n",
       "      <td>None</td>\n",
       "      <td>lucas.mancini@yahoo.it</td>\n",
       "      <td>5</td>\n",
       "    </tr>\n",
       "    <tr>\n",
       "      <th>47</th>\n",
       "      <td>48</td>\n",
       "      <td>Johannes</td>\n",
       "      <td>Van der Berg</td>\n",
       "      <td>None</td>\n",
       "      <td>Lijnbaansgracht 120bg</td>\n",
       "      <td>Amsterdam</td>\n",
       "      <td>VV</td>\n",
       "      <td>Netherlands</td>\n",
       "      <td>1016</td>\n",
       "      <td>+31 020 6223130</td>\n",
       "      <td>None</td>\n",
       "      <td>johavanderberg@yahoo.nl</td>\n",
       "      <td>5</td>\n",
       "    </tr>\n",
       "    <tr>\n",
       "      <th>48</th>\n",
       "      <td>49</td>\n",
       "      <td>Stanisław</td>\n",
       "      <td>Wójcik</td>\n",
       "      <td>None</td>\n",
       "      <td>Ordynacka 10</td>\n",
       "      <td>Warsaw</td>\n",
       "      <td>None</td>\n",
       "      <td>Poland</td>\n",
       "      <td>00-358</td>\n",
       "      <td>+48 22 828 37 39</td>\n",
       "      <td>None</td>\n",
       "      <td>stanisław.wójcik@wp.pl</td>\n",
       "      <td>4</td>\n",
       "    </tr>\n",
       "    <tr>\n",
       "      <th>49</th>\n",
       "      <td>50</td>\n",
       "      <td>Enrique</td>\n",
       "      <td>Muñoz</td>\n",
       "      <td>None</td>\n",
       "      <td>C/ San Bernardo 85</td>\n",
       "      <td>Madrid</td>\n",
       "      <td>None</td>\n",
       "      <td>Spain</td>\n",
       "      <td>28015</td>\n",
       "      <td>+34 914 454 454</td>\n",
       "      <td>None</td>\n",
       "      <td>enrique_munoz@yahoo.es</td>\n",
       "      <td>5</td>\n",
       "    </tr>\n",
       "    <tr>\n",
       "      <th>50</th>\n",
       "      <td>51</td>\n",
       "      <td>Joakim</td>\n",
       "      <td>Johansson</td>\n",
       "      <td>None</td>\n",
       "      <td>Celsiusg. 9</td>\n",
       "      <td>Stockholm</td>\n",
       "      <td>None</td>\n",
       "      <td>Sweden</td>\n",
       "      <td>11230</td>\n",
       "      <td>+46 08-651 52 52</td>\n",
       "      <td>None</td>\n",
       "      <td>joakim.johansson@yahoo.se</td>\n",
       "      <td>5</td>\n",
       "    </tr>\n",
       "    <tr>\n",
       "      <th>51</th>\n",
       "      <td>52</td>\n",
       "      <td>Emma</td>\n",
       "      <td>Jones</td>\n",
       "      <td>None</td>\n",
       "      <td>202 Hoxton Street</td>\n",
       "      <td>London</td>\n",
       "      <td>None</td>\n",
       "      <td>United Kingdom</td>\n",
       "      <td>N1 5LH</td>\n",
       "      <td>+44 020 7707 0707</td>\n",
       "      <td>None</td>\n",
       "      <td>emma_jones@hotmail.com</td>\n",
       "      <td>3</td>\n",
       "    </tr>\n",
       "    <tr>\n",
       "      <th>52</th>\n",
       "      <td>53</td>\n",
       "      <td>Phil</td>\n",
       "      <td>Hughes</td>\n",
       "      <td>None</td>\n",
       "      <td>113 Lupus St</td>\n",
       "      <td>London</td>\n",
       "      <td>None</td>\n",
       "      <td>United Kingdom</td>\n",
       "      <td>SW1V 3EN</td>\n",
       "      <td>+44 020 7976 5722</td>\n",
       "      <td>None</td>\n",
       "      <td>phil.hughes@gmail.com</td>\n",
       "      <td>3</td>\n",
       "    </tr>\n",
       "    <tr>\n",
       "      <th>53</th>\n",
       "      <td>54</td>\n",
       "      <td>Steve</td>\n",
       "      <td>Murray</td>\n",
       "      <td>None</td>\n",
       "      <td>110 Raeburn Pl</td>\n",
       "      <td>Edinburgh</td>\n",
       "      <td>None</td>\n",
       "      <td>United Kingdom</td>\n",
       "      <td>EH4 1HH</td>\n",
       "      <td>+44 0131 315 3300</td>\n",
       "      <td>None</td>\n",
       "      <td>steve.murray@yahoo.uk</td>\n",
       "      <td>5</td>\n",
       "    </tr>\n",
       "    <tr>\n",
       "      <th>54</th>\n",
       "      <td>55</td>\n",
       "      <td>Mark</td>\n",
       "      <td>Taylor</td>\n",
       "      <td>None</td>\n",
       "      <td>421 Bourke Street</td>\n",
       "      <td>Sidney</td>\n",
       "      <td>NSW</td>\n",
       "      <td>Australia</td>\n",
       "      <td>2010</td>\n",
       "      <td>+61 (02) 9332 3633</td>\n",
       "      <td>None</td>\n",
       "      <td>mark.taylor@yahoo.au</td>\n",
       "      <td>4</td>\n",
       "    </tr>\n",
       "    <tr>\n",
       "      <th>55</th>\n",
       "      <td>56</td>\n",
       "      <td>Diego</td>\n",
       "      <td>Gutiérrez</td>\n",
       "      <td>None</td>\n",
       "      <td>307 Macacha Güemes</td>\n",
       "      <td>Buenos Aires</td>\n",
       "      <td>None</td>\n",
       "      <td>Argentina</td>\n",
       "      <td>1106</td>\n",
       "      <td>+54 (0)11 4311 4333</td>\n",
       "      <td>None</td>\n",
       "      <td>diego.gutierrez@yahoo.ar</td>\n",
       "      <td>4</td>\n",
       "    </tr>\n",
       "    <tr>\n",
       "      <th>56</th>\n",
       "      <td>57</td>\n",
       "      <td>Luis</td>\n",
       "      <td>Rojas</td>\n",
       "      <td>None</td>\n",
       "      <td>Calle Lira, 198</td>\n",
       "      <td>Santiago</td>\n",
       "      <td>None</td>\n",
       "      <td>Chile</td>\n",
       "      <td>None</td>\n",
       "      <td>+56 (0)2 635 4444</td>\n",
       "      <td>None</td>\n",
       "      <td>luisrojas@yahoo.cl</td>\n",
       "      <td>5</td>\n",
       "    </tr>\n",
       "    <tr>\n",
       "      <th>57</th>\n",
       "      <td>58</td>\n",
       "      <td>Manoj</td>\n",
       "      <td>Pareek</td>\n",
       "      <td>None</td>\n",
       "      <td>12,Community Centre</td>\n",
       "      <td>Delhi</td>\n",
       "      <td>None</td>\n",
       "      <td>India</td>\n",
       "      <td>110017</td>\n",
       "      <td>+91 0124 39883988</td>\n",
       "      <td>None</td>\n",
       "      <td>manoj.pareek@rediff.com</td>\n",
       "      <td>3</td>\n",
       "    </tr>\n",
       "    <tr>\n",
       "      <th>58</th>\n",
       "      <td>59</td>\n",
       "      <td>Puja</td>\n",
       "      <td>Srivastava</td>\n",
       "      <td>None</td>\n",
       "      <td>3,Raj Bhavan Road</td>\n",
       "      <td>Bangalore</td>\n",
       "      <td>None</td>\n",
       "      <td>India</td>\n",
       "      <td>560001</td>\n",
       "      <td>+91 080 22289999</td>\n",
       "      <td>None</td>\n",
       "      <td>puja_srivastava@yahoo.in</td>\n",
       "      <td>3</td>\n",
       "    </tr>\n",
       "  </tbody>\n",
       "</table>\n",
       "</div>"
      ],
      "text/plain": [
       "    CustomerId  FirstName      LastName  \\\n",
       "0            1       Luís     Gonçalves   \n",
       "1            2     Leonie        Köhler   \n",
       "2            3   François      Tremblay   \n",
       "3            4      Bjørn        Hansen   \n",
       "4            5  František   Wichterlová   \n",
       "5            6     Helena          Holý   \n",
       "6            7     Astrid        Gruber   \n",
       "7            8       Daan       Peeters   \n",
       "8            9       Kara       Nielsen   \n",
       "9           10    Eduardo       Martins   \n",
       "10          11  Alexandre         Rocha   \n",
       "11          12    Roberto       Almeida   \n",
       "12          13   Fernanda         Ramos   \n",
       "13          14       Mark       Philips   \n",
       "14          15   Jennifer      Peterson   \n",
       "15          16      Frank        Harris   \n",
       "16          17       Jack         Smith   \n",
       "17          18   Michelle        Brooks   \n",
       "18          19        Tim         Goyer   \n",
       "19          20        Dan        Miller   \n",
       "20          21      Kathy         Chase   \n",
       "21          22    Heather       Leacock   \n",
       "22          23       John        Gordon   \n",
       "23          24      Frank       Ralston   \n",
       "24          25     Victor       Stevens   \n",
       "25          26    Richard    Cunningham   \n",
       "26          27    Patrick          Gray   \n",
       "27          28      Julia       Barnett   \n",
       "28          29     Robert         Brown   \n",
       "29          30     Edward       Francis   \n",
       "30          31     Martha          Silk   \n",
       "31          32      Aaron      Mitchell   \n",
       "32          33      Ellie      Sullivan   \n",
       "33          34       João     Fernandes   \n",
       "34          35   Madalena       Sampaio   \n",
       "35          36     Hannah     Schneider   \n",
       "36          37       Fynn    Zimmermann   \n",
       "37          38     Niklas      Schröder   \n",
       "38          39    Camille       Bernard   \n",
       "39          40  Dominique      Lefebvre   \n",
       "40          41       Marc        Dubois   \n",
       "41          42      Wyatt        Girard   \n",
       "42          43   Isabelle       Mercier   \n",
       "43          44      Terhi    Hämäläinen   \n",
       "44          45   Ladislav        Kovács   \n",
       "45          46       Hugh      O'Reilly   \n",
       "46          47      Lucas       Mancini   \n",
       "47          48   Johannes  Van der Berg   \n",
       "48          49  Stanisław        Wójcik   \n",
       "49          50    Enrique         Muñoz   \n",
       "50          51     Joakim     Johansson   \n",
       "51          52       Emma         Jones   \n",
       "52          53       Phil        Hughes   \n",
       "53          54      Steve        Murray   \n",
       "54          55       Mark        Taylor   \n",
       "55          56      Diego     Gutiérrez   \n",
       "56          57       Luis         Rojas   \n",
       "57          58      Manoj        Pareek   \n",
       "58          59       Puja    Srivastava   \n",
       "\n",
       "                                             Company  \\\n",
       "0   Embraer - Empresa Brasileira de Aeronáutica S.A.   \n",
       "1                                               None   \n",
       "2                                               None   \n",
       "3                                               None   \n",
       "4                                   JetBrains s.r.o.   \n",
       "5                                               None   \n",
       "6                                               None   \n",
       "7                                               None   \n",
       "8                                               None   \n",
       "9                                   Woodstock Discos   \n",
       "10                              Banco do Brasil S.A.   \n",
       "11                                            Riotur   \n",
       "12                                              None   \n",
       "13                                             Telus   \n",
       "14                                     Rogers Canada   \n",
       "15                                       Google Inc.   \n",
       "16                             Microsoft Corporation   \n",
       "17                                              None   \n",
       "18                                        Apple Inc.   \n",
       "19                                              None   \n",
       "20                                              None   \n",
       "21                                              None   \n",
       "22                                              None   \n",
       "23                                              None   \n",
       "24                                              None   \n",
       "25                                              None   \n",
       "26                                              None   \n",
       "27                                              None   \n",
       "28                                              None   \n",
       "29                                              None   \n",
       "30                                              None   \n",
       "31                                              None   \n",
       "32                                              None   \n",
       "33                                              None   \n",
       "34                                              None   \n",
       "35                                              None   \n",
       "36                                              None   \n",
       "37                                              None   \n",
       "38                                              None   \n",
       "39                                              None   \n",
       "40                                              None   \n",
       "41                                              None   \n",
       "42                                              None   \n",
       "43                                              None   \n",
       "44                                              None   \n",
       "45                                              None   \n",
       "46                                              None   \n",
       "47                                              None   \n",
       "48                                              None   \n",
       "49                                              None   \n",
       "50                                              None   \n",
       "51                                              None   \n",
       "52                                              None   \n",
       "53                                              None   \n",
       "54                                              None   \n",
       "55                                              None   \n",
       "56                                              None   \n",
       "57                                              None   \n",
       "58                                              None   \n",
       "\n",
       "                                     Address                 City   State  \\\n",
       "0            Av. Brigadeiro Faria Lima, 2170  São José dos Campos      SP   \n",
       "1                    Theodor-Heuss-Straße 34            Stuttgart    None   \n",
       "2                          1498 rue Bélanger             Montréal      QC   \n",
       "3                           Ullevålsveien 14                 Oslo    None   \n",
       "4                              Klanova 9/506               Prague    None   \n",
       "5                              Rilská 3174/6               Prague    None   \n",
       "6       Rotenturmstraße 4, 1010 Innere Stadt               Vienne    None   \n",
       "7                            Grétrystraat 63             Brussels    None   \n",
       "8                        Sønder Boulevard 51           Copenhagen    None   \n",
       "9                  Rua Dr. Falcão Filho, 155            São Paulo      SP   \n",
       "10                        Av. Paulista, 2022            São Paulo      SP   \n",
       "11                          Praça Pio X, 119       Rio de Janeiro      RJ   \n",
       "12                              Qe 7 Bloco G             Brasília      DF   \n",
       "13                            8210 111 ST NW             Edmonton      AB   \n",
       "14                       700 W Pender Street            Vancouver      BC   \n",
       "15                 1600 Amphitheatre Parkway        Mountain View      CA   \n",
       "16                           1 Microsoft Way              Redmond      WA   \n",
       "17                              627 Broadway             New York      NY   \n",
       "18                           1 Infinite Loop            Cupertino      CA   \n",
       "19                      541 Del Medio Avenue        Mountain View      CA   \n",
       "20                          801 W 4th Street                 Reno      NV   \n",
       "21                          120 S Orange Ave              Orlando      FL   \n",
       "22                           69 Salem Street               Boston      MA   \n",
       "23                     162 E Superior Street              Chicago      IL   \n",
       "24                     319 N. Frances Street              Madison      WI   \n",
       "25                       2211 W Berry Street           Fort Worth      TX   \n",
       "26                           1033 N Park Ave               Tucson      AZ   \n",
       "27                               302 S 700 E       Salt Lake City      UT   \n",
       "28                    796 Dundas Street West              Toronto      ON   \n",
       "29                          230 Elgin Street               Ottawa      ON   \n",
       "30                     194A Chain Lake Drive              Halifax      NS   \n",
       "31                        696 Osborne Street             Winnipeg      MB   \n",
       "32                            5112 48 Street          Yellowknife      NT   \n",
       "33                        Rua da Assunção 53               Lisbon    None   \n",
       "34  Rua dos Campeões Europeus de Viena, 4350                Porto    None   \n",
       "35                        Tauentzienstraße 8               Berlin    None   \n",
       "36                          Berger Straße 10            Frankfurt    None   \n",
       "37                       Barbarossastraße 19               Berlin    None   \n",
       "38                             4, Rue Milton                Paris    None   \n",
       "39                            8, Rue Hanovre                Paris    None   \n",
       "40                       11, Place Bellecour                 Lyon    None   \n",
       "41                    9, Place Louis Barthou             Bordeaux    None   \n",
       "42                          68, Rue Jouvence                Dijon    None   \n",
       "43                           Porthaninkatu 9             Helsinki    None   \n",
       "44                         Erzsébet krt. 58.             Budapest    None   \n",
       "45                          3 Chatham Street               Dublin  Dublin   \n",
       "46                    Via Degli Scipioni, 43                 Rome      RM   \n",
       "47                     Lijnbaansgracht 120bg            Amsterdam      VV   \n",
       "48                              Ordynacka 10               Warsaw    None   \n",
       "49                        C/ San Bernardo 85               Madrid    None   \n",
       "50                               Celsiusg. 9            Stockholm    None   \n",
       "51                         202 Hoxton Street               London    None   \n",
       "52                              113 Lupus St               London    None   \n",
       "53                            110 Raeburn Pl           Edinburgh     None   \n",
       "54                         421 Bourke Street               Sidney     NSW   \n",
       "55                        307 Macacha Güemes         Buenos Aires    None   \n",
       "56                           Calle Lira, 198             Santiago    None   \n",
       "57                       12,Community Centre                Delhi    None   \n",
       "58                         3,Raj Bhavan Road            Bangalore    None   \n",
       "\n",
       "           Country  PostalCode                Phone                 Fax  \\\n",
       "0           Brazil   12227-000   +55 (12) 3923-5555  +55 (12) 3923-5566   \n",
       "1          Germany       70174     +49 0711 2842222                None   \n",
       "2           Canada     H2G 1A7    +1 (514) 721-4711                None   \n",
       "3           Norway        0171      +47 22 44 22 22                None   \n",
       "4   Czech Republic       14700     +420 2 4172 5555    +420 2 4172 5555   \n",
       "5   Czech Republic       14300     +420 2 4177 0449                None   \n",
       "6          Austria        1010       +43 01 5134505                None   \n",
       "7          Belgium        1000     +32 02 219 03 03                None   \n",
       "8          Denmark        1720       +453 3331 9991                None   \n",
       "9           Brazil   01007-010   +55 (11) 3033-5446  +55 (11) 3033-4564   \n",
       "10          Brazil   01310-200   +55 (11) 3055-3278  +55 (11) 3055-8131   \n",
       "11          Brazil   20040-020   +55 (21) 2271-7000  +55 (21) 2271-7070   \n",
       "12          Brazil   71020-677   +55 (61) 3363-5547  +55 (61) 3363-7855   \n",
       "13          Canada     T6G 2C7    +1 (780) 434-4554   +1 (780) 434-5565   \n",
       "14          Canada     V6C 1G8    +1 (604) 688-2255   +1 (604) 688-8756   \n",
       "15             USA  94043-1351    +1 (650) 253-0000   +1 (650) 253-0000   \n",
       "16             USA  98052-8300    +1 (425) 882-8080   +1 (425) 882-8081   \n",
       "17             USA  10012-2612    +1 (212) 221-3546   +1 (212) 221-4679   \n",
       "18             USA       95014    +1 (408) 996-1010   +1 (408) 996-1011   \n",
       "19             USA   94040-111    +1 (650) 644-3358                None   \n",
       "20             USA       89503    +1 (775) 223-7665                None   \n",
       "21             USA       32801    +1 (407) 999-7788                None   \n",
       "22             USA        2113    +1 (617) 522-1333                None   \n",
       "23             USA       60611    +1 (312) 332-3232                None   \n",
       "24             USA       53703    +1 (608) 257-0597                None   \n",
       "25             USA       76110    +1 (817) 924-7272                None   \n",
       "26             USA       85719    +1 (520) 622-4200                None   \n",
       "27             USA       84102    +1 (801) 531-7272                None   \n",
       "28          Canada     M6J 1V1    +1 (416) 363-8888                None   \n",
       "29          Canada     K2P 1L7    +1 (613) 234-3322                None   \n",
       "30          Canada     B3S 1C5    +1 (902) 450-0450                None   \n",
       "31          Canada     R3L 2B9    +1 (204) 452-6452                None   \n",
       "32          Canada     X1A 1N6    +1 (867) 920-2233                None   \n",
       "33        Portugal        None   +351 (213) 466-111                None   \n",
       "34        Portugal        None   +351 (225) 022-448                None   \n",
       "35         Germany       10789     +49 030 26550280                None   \n",
       "36         Germany       60316     +49 069 40598889                None   \n",
       "37         Germany       10779      +49 030 2141444                None   \n",
       "38          France       75009   +33 01 49 70 65 65                None   \n",
       "39          France       75002   +33 01 47 42 71 71                None   \n",
       "40          France       69002   +33 04 78 30 30 30                None   \n",
       "41          France       33000   +33 05 56 96 96 96                None   \n",
       "42          France       21000   +33 03 80 73 66 99                None   \n",
       "43         Finland       00530     +358 09 870 2000                None   \n",
       "44         Hungary      H-1073                 None                None   \n",
       "45         Ireland        None      +353 01 6792424                None   \n",
       "46           Italy       00192      +39 06 39733434                None   \n",
       "47     Netherlands        1016      +31 020 6223130                None   \n",
       "48          Poland      00-358     +48 22 828 37 39                None   \n",
       "49           Spain       28015      +34 914 454 454                None   \n",
       "50          Sweden       11230     +46 08-651 52 52                None   \n",
       "51  United Kingdom      N1 5LH    +44 020 7707 0707                None   \n",
       "52  United Kingdom    SW1V 3EN    +44 020 7976 5722                None   \n",
       "53  United Kingdom     EH4 1HH    +44 0131 315 3300                None   \n",
       "54       Australia        2010   +61 (02) 9332 3633                None   \n",
       "55       Argentina        1106  +54 (0)11 4311 4333                None   \n",
       "56           Chile        None    +56 (0)2 635 4444                None   \n",
       "57           India      110017    +91 0124 39883988                None   \n",
       "58           India      560001     +91 080 22289999                None   \n",
       "\n",
       "                            Email  SupportRepId  \n",
       "0            luisg@embraer.com.br             3  \n",
       "1           leonekohler@surfeu.de             5  \n",
       "2             ftremblay@gmail.com             3  \n",
       "3           bjorn.hansen@yahoo.no             4  \n",
       "4        frantisekw@jetbrains.com             4  \n",
       "5                 hholy@gmail.com             5  \n",
       "6          astrid.gruber@apple.at             5  \n",
       "7           daan_peeters@apple.be             4  \n",
       "8           kara.nielsen@jubii.dk             4  \n",
       "9        eduardo@woodstock.com.br             4  \n",
       "10               alero@uol.com.br             5  \n",
       "11  roberto.almeida@riotur.gov.br             3  \n",
       "12       fernadaramos4@uol.com.br             4  \n",
       "13             mphilips12@shaw.ca             5  \n",
       "14            jenniferp@rogers.ca             3  \n",
       "15             fharris@google.com             4  \n",
       "16        jacksmith@microsoft.com             5  \n",
       "17              michelleb@aol.com             3  \n",
       "18               tgoyer@apple.com             3  \n",
       "19            dmiller@comcast.com             4  \n",
       "20            kachase@hotmail.com             5  \n",
       "21             hleacock@gmail.com             4  \n",
       "22         johngordon22@yahoo.com             4  \n",
       "23             fralston@gmail.com             3  \n",
       "24             vstevens@yahoo.com             5  \n",
       "25       ricunningham@hotmail.com             4  \n",
       "26           patrick.gray@aol.com             4  \n",
       "27            jubarnett@gmail.com             5  \n",
       "28               robbrown@shaw.ca             3  \n",
       "29            edfrancis@yachoo.ca             3  \n",
       "30           marthasilk@gmail.com             5  \n",
       "31         aaronmitchell@yahoo.ca             4  \n",
       "32         ellie.sullivan@shaw.ca             3  \n",
       "33            jfernandes@yahoo.pt             4  \n",
       "34              masampaio@sapo.pt             4  \n",
       "35      hannah.schneider@yahoo.de             5  \n",
       "36           fzimmermann@yahoo.de             3  \n",
       "37            nschroder@surfeu.de             3  \n",
       "38       camille.bernard@yahoo.fr             4  \n",
       "39    dominiquelefebvre@gmail.com             4  \n",
       "40        marc.dubois@hotmail.com             5  \n",
       "41          wyatt.girard@yahoo.fr             3  \n",
       "42      isabelle_mercier@apple.fr             3  \n",
       "43      terhi.hamalainen@apple.fi             3  \n",
       "44       ladislav_kovacs@apple.hu             3  \n",
       "45           hughoreilly@apple.ie             3  \n",
       "46         lucas.mancini@yahoo.it             5  \n",
       "47        johavanderberg@yahoo.nl             5  \n",
       "48         stanisław.wójcik@wp.pl             4  \n",
       "49         enrique_munoz@yahoo.es             5  \n",
       "50      joakim.johansson@yahoo.se             5  \n",
       "51         emma_jones@hotmail.com             3  \n",
       "52          phil.hughes@gmail.com             3  \n",
       "53          steve.murray@yahoo.uk             5  \n",
       "54           mark.taylor@yahoo.au             4  \n",
       "55       diego.gutierrez@yahoo.ar             4  \n",
       "56             luisrojas@yahoo.cl             5  \n",
       "57        manoj.pareek@rediff.com             3  \n",
       "58       puja_srivastava@yahoo.in             3  "
      ]
     },
     "execution_count": 108,
     "metadata": {},
     "output_type": "execute_result"
    }
   ],
   "source": [
    "customers = pd.read_sql(\"SELECT * from customers\", conn)\n",
    "customers"
   ]
  },
  {
   "cell_type": "code",
   "execution_count": 109,
   "metadata": {},
   "outputs": [
    {
     "data": {
      "text/html": [
       "<div>\n",
       "<style scoped>\n",
       "    .dataframe tbody tr th:only-of-type {\n",
       "        vertical-align: middle;\n",
       "    }\n",
       "\n",
       "    .dataframe tbody tr th {\n",
       "        vertical-align: top;\n",
       "    }\n",
       "\n",
       "    .dataframe thead th {\n",
       "        text-align: right;\n",
       "    }\n",
       "</style>\n",
       "<table border=\"1\" class=\"dataframe\">\n",
       "  <thead>\n",
       "    <tr style=\"text-align: right;\">\n",
       "      <th></th>\n",
       "      <th>FirstName</th>\n",
       "      <th>LastName</th>\n",
       "      <th>Company</th>\n",
       "      <th>Address</th>\n",
       "      <th>City</th>\n",
       "      <th>State</th>\n",
       "      <th>Country</th>\n",
       "      <th>Phone</th>\n",
       "      <th>Email</th>\n",
       "    </tr>\n",
       "  </thead>\n",
       "  <tbody>\n",
       "    <tr>\n",
       "      <th>0</th>\n",
       "      <td>Luís</td>\n",
       "      <td>Gonçalves</td>\n",
       "      <td>Embraer - Empresa Brasileira de Aeronáutica S.A.</td>\n",
       "      <td>Av. Brigadeiro Faria Lima, 2170</td>\n",
       "      <td>São José dos Campos</td>\n",
       "      <td>SP</td>\n",
       "      <td>Brazil</td>\n",
       "      <td>+55 (12) 3923-5555</td>\n",
       "      <td>luisg@embraer.com.br</td>\n",
       "    </tr>\n",
       "    <tr>\n",
       "      <th>1</th>\n",
       "      <td>Leonie</td>\n",
       "      <td>Köhler</td>\n",
       "      <td>None</td>\n",
       "      <td>Theodor-Heuss-Straße 34</td>\n",
       "      <td>Stuttgart</td>\n",
       "      <td>None</td>\n",
       "      <td>Germany</td>\n",
       "      <td>+49 0711 2842222</td>\n",
       "      <td>leonekohler@surfeu.de</td>\n",
       "    </tr>\n",
       "    <tr>\n",
       "      <th>2</th>\n",
       "      <td>François</td>\n",
       "      <td>Tremblay</td>\n",
       "      <td>None</td>\n",
       "      <td>1498 rue Bélanger</td>\n",
       "      <td>Montréal</td>\n",
       "      <td>QC</td>\n",
       "      <td>Canada</td>\n",
       "      <td>+1 (514) 721-4711</td>\n",
       "      <td>ftremblay@gmail.com</td>\n",
       "    </tr>\n",
       "    <tr>\n",
       "      <th>3</th>\n",
       "      <td>Bjørn</td>\n",
       "      <td>Hansen</td>\n",
       "      <td>None</td>\n",
       "      <td>Ullevålsveien 14</td>\n",
       "      <td>Oslo</td>\n",
       "      <td>None</td>\n",
       "      <td>Norway</td>\n",
       "      <td>+47 22 44 22 22</td>\n",
       "      <td>bjorn.hansen@yahoo.no</td>\n",
       "    </tr>\n",
       "    <tr>\n",
       "      <th>4</th>\n",
       "      <td>František</td>\n",
       "      <td>Wichterlová</td>\n",
       "      <td>JetBrains s.r.o.</td>\n",
       "      <td>Klanova 9/506</td>\n",
       "      <td>Prague</td>\n",
       "      <td>None</td>\n",
       "      <td>Czech Republic</td>\n",
       "      <td>+420 2 4172 5555</td>\n",
       "      <td>frantisekw@jetbrains.com</td>\n",
       "    </tr>\n",
       "  </tbody>\n",
       "</table>\n",
       "</div>"
      ],
      "text/plain": [
       "   FirstName     LastName                                           Company  \\\n",
       "0       Luís    Gonçalves  Embraer - Empresa Brasileira de Aeronáutica S.A.   \n",
       "1     Leonie       Köhler                                              None   \n",
       "2   François     Tremblay                                              None   \n",
       "3      Bjørn       Hansen                                              None   \n",
       "4  František  Wichterlová                                  JetBrains s.r.o.   \n",
       "\n",
       "                           Address                 City State         Country  \\\n",
       "0  Av. Brigadeiro Faria Lima, 2170  São José dos Campos    SP          Brazil   \n",
       "1          Theodor-Heuss-Straße 34            Stuttgart  None         Germany   \n",
       "2                1498 rue Bélanger             Montréal    QC          Canada   \n",
       "3                 Ullevålsveien 14                 Oslo  None          Norway   \n",
       "4                    Klanova 9/506               Prague  None  Czech Republic   \n",
       "\n",
       "                Phone                     Email  \n",
       "0  +55 (12) 3923-5555      luisg@embraer.com.br  \n",
       "1    +49 0711 2842222     leonekohler@surfeu.de  \n",
       "2   +1 (514) 721-4711       ftremblay@gmail.com  \n",
       "3     +47 22 44 22 22     bjorn.hansen@yahoo.no  \n",
       "4    +420 2 4172 5555  frantisekw@jetbrains.com  "
      ]
     },
     "execution_count": 109,
     "metadata": {},
     "output_type": "execute_result"
    }
   ],
   "source": [
    "new_customers = customers[[\"FirstName\", \"LastName\", \"Company\", \"Address\", \"City\", \"State\", \"Country\", \"Phone\", \"Email\"]]\n",
    "new_customers.head()"
   ]
  },
  {
   "cell_type": "code",
   "execution_count": 112,
   "metadata": {
    "scrolled": true
   },
   "outputs": [
    {
     "name": "stdout",
     "output_type": "stream",
     "text": [
      "\n",
      "        Write records stored in a DataFrame to a SQL database.\n",
      "\n",
      "        Databases supported by SQLAlchemy [1]_ are supported. Tables can be\n",
      "        newly created, appended to, or overwritten.\n",
      "\n",
      "        Parameters\n",
      "        ----------\n",
      "        name : str\n",
      "            Name of SQL table.\n",
      "        con : sqlalchemy.engine.(Engine or Connection) or sqlite3.Connection\n",
      "            Using SQLAlchemy makes it possible to use any DB supported by that\n",
      "            library. Legacy support is provided for sqlite3.Connection objects. The user\n",
      "            is responsible for engine disposal and connection closure for the SQLAlchemy\n",
      "            connectable See `here                 <https://docs.sqlalchemy.org/en/13/core/connections.html>`_.\n",
      "\n",
      "        schema : str, optional\n",
      "            Specify the schema (if database flavor supports this). If None, use\n",
      "            default schema.\n",
      "        if_exists : {'fail', 'replace', 'append'}, default 'fail'\n",
      "            How to behave if the table already exists.\n",
      "\n",
      "            * fail: Raise a ValueError.\n",
      "            * replace: Drop the table before inserting new values.\n",
      "            * append: Insert new values to the existing table.\n",
      "\n",
      "        index : bool, default True\n",
      "            Write DataFrame index as a column. Uses `index_label` as the column\n",
      "            name in the table.\n",
      "        index_label : str or sequence, default None\n",
      "            Column label for index column(s). If None is given (default) and\n",
      "            `index` is True, then the index names are used.\n",
      "            A sequence should be given if the DataFrame uses MultiIndex.\n",
      "        chunksize : int, optional\n",
      "            Specify the number of rows in each batch to be written at a time.\n",
      "            By default, all rows will be written at once.\n",
      "        dtype : dict or scalar, optional\n",
      "            Specifying the datatype for columns. If a dictionary is used, the\n",
      "            keys should be the column names and the values should be the\n",
      "            SQLAlchemy types or strings for the sqlite3 legacy mode. If a\n",
      "            scalar is provided, it will be applied to all columns.\n",
      "        method : {None, 'multi', callable}, optional\n",
      "            Controls the SQL insertion clause used:\n",
      "\n",
      "            * None : Uses standard SQL ``INSERT`` clause (one per row).\n",
      "            * 'multi': Pass multiple values in a single ``INSERT`` clause.\n",
      "            * callable with signature ``(pd_table, conn, keys, data_iter)``.\n",
      "\n",
      "            Details and a sample callable implementation can be found in the\n",
      "            section :ref:`insert method <io.sql.method>`.\n",
      "\n",
      "            .. versionadded:: 0.24.0\n",
      "\n",
      "        Raises\n",
      "        ------\n",
      "        ValueError\n",
      "            When the table already exists and `if_exists` is 'fail' (the\n",
      "            default).\n",
      "\n",
      "        See Also\n",
      "        --------\n",
      "        read_sql : Read a DataFrame from a table.\n",
      "\n",
      "        Notes\n",
      "        -----\n",
      "        Timezone aware datetime columns will be written as\n",
      "        ``Timestamp with timezone`` type with SQLAlchemy if supported by the\n",
      "        database. Otherwise, the datetimes will be stored as timezone unaware\n",
      "        timestamps local to the original timezone.\n",
      "\n",
      "        .. versionadded:: 0.24.0\n",
      "\n",
      "        References\n",
      "        ----------\n",
      "        .. [1] https://docs.sqlalchemy.org\n",
      "        .. [2] https://www.python.org/dev/peps/pep-0249/\n",
      "\n",
      "        Examples\n",
      "        --------\n",
      "        Create an in-memory SQLite database.\n",
      "\n",
      "        >>> from sqlalchemy import create_engine\n",
      "        >>> engine = create_engine('sqlite://', echo=False)\n",
      "\n",
      "        Create a table from scratch with 3 rows.\n",
      "\n",
      "        >>> df = pd.DataFrame({'name' : ['User 1', 'User 2', 'User 3']})\n",
      "        >>> df\n",
      "             name\n",
      "        0  User 1\n",
      "        1  User 2\n",
      "        2  User 3\n",
      "\n",
      "        >>> df.to_sql('users', con=engine)\n",
      "        >>> engine.execute(\"SELECT * FROM users\").fetchall()\n",
      "        [(0, 'User 1'), (1, 'User 2'), (2, 'User 3')]\n",
      "\n",
      "        An `sqlalchemy.engine.Connection` can also be passed to to `con`:\n",
      "        >>> with engine.begin() as connection:\n",
      "        ...     df1 = pd.DataFrame({'name' : ['User 4', 'User 5']})\n",
      "        ...     df1.to_sql('users', con=connection, if_exists='append')\n",
      "\n",
      "        This is allowed to support operations that require that the same\n",
      "        DBAPI connection is used for the entire operation.\n",
      "\n",
      "        >>> df2 = pd.DataFrame({'name' : ['User 6', 'User 7']})\n",
      "        >>> df2.to_sql('users', con=engine, if_exists='append')\n",
      "        >>> engine.execute(\"SELECT * FROM users\").fetchall()\n",
      "        [(0, 'User 1'), (1, 'User 2'), (2, 'User 3'),\n",
      "         (0, 'User 4'), (1, 'User 5'), (0, 'User 6'),\n",
      "         (1, 'User 7')]\n",
      "\n",
      "        Overwrite the table with just ``df2``.\n",
      "\n",
      "        >>> df2.to_sql('users', con=engine, if_exists='replace',\n",
      "        ...            index_label='id')\n",
      "        >>> engine.execute(\"SELECT * FROM users\").fetchall()\n",
      "        [(0, 'User 6'), (1, 'User 7')]\n",
      "\n",
      "        Specify the dtype (especially useful for integers with missing values).\n",
      "        Notice that while pandas is forced to store the data as floating point,\n",
      "        the database supports nullable integers. When fetching the data with\n",
      "        Python, we get back integer scalars.\n",
      "\n",
      "        >>> df = pd.DataFrame({\"A\": [1, None, 2]})\n",
      "        >>> df\n",
      "             A\n",
      "        0  1.0\n",
      "        1  NaN\n",
      "        2  2.0\n",
      "\n",
      "        >>> from sqlalchemy.types import Integer\n",
      "        >>> df.to_sql('integers', con=engine, index=False,\n",
      "        ...           dtype={\"A\": Integer()})\n",
      "\n",
      "        >>> engine.execute(\"SELECT * FROM integers\").fetchall()\n",
      "        [(1,), (None,), (2,)]\n",
      "        \n"
     ]
    }
   ],
   "source": [
    "print(new_customers.to_sql.__doc__)"
   ]
  },
  {
   "cell_type": "code",
   "execution_count": 111,
   "metadata": {
    "scrolled": true
   },
   "outputs": [
    {
     "name": "stdout",
     "output_type": "stream",
     "text": [
      "Help on method to_sql in module pandas.core.generic:\n",
      "\n",
      "to_sql(name: str, con, schema=None, if_exists: str = 'fail', index: bool = True, index_label=None, chunksize=None, dtype=None, method=None) -> None method of pandas.core.frame.DataFrame instance\n",
      "    Write records stored in a DataFrame to a SQL database.\n",
      "    \n",
      "    Databases supported by SQLAlchemy [1]_ are supported. Tables can be\n",
      "    newly created, appended to, or overwritten.\n",
      "    \n",
      "    Parameters\n",
      "    ----------\n",
      "    name : str\n",
      "        Name of SQL table.\n",
      "    con : sqlalchemy.engine.(Engine or Connection) or sqlite3.Connection\n",
      "        Using SQLAlchemy makes it possible to use any DB supported by that\n",
      "        library. Legacy support is provided for sqlite3.Connection objects. The user\n",
      "        is responsible for engine disposal and connection closure for the SQLAlchemy\n",
      "        connectable See `here                 <https://docs.sqlalchemy.org/en/13/core/connections.html>`_.\n",
      "    \n",
      "    schema : str, optional\n",
      "        Specify the schema (if database flavor supports this). If None, use\n",
      "        default schema.\n",
      "    if_exists : {'fail', 'replace', 'append'}, default 'fail'\n",
      "        How to behave if the table already exists.\n",
      "    \n",
      "        * fail: Raise a ValueError.\n",
      "        * replace: Drop the table before inserting new values.\n",
      "        * append: Insert new values to the existing table.\n",
      "    \n",
      "    index : bool, default True\n",
      "        Write DataFrame index as a column. Uses `index_label` as the column\n",
      "        name in the table.\n",
      "    index_label : str or sequence, default None\n",
      "        Column label for index column(s). If None is given (default) and\n",
      "        `index` is True, then the index names are used.\n",
      "        A sequence should be given if the DataFrame uses MultiIndex.\n",
      "    chunksize : int, optional\n",
      "        Specify the number of rows in each batch to be written at a time.\n",
      "        By default, all rows will be written at once.\n",
      "    dtype : dict or scalar, optional\n",
      "        Specifying the datatype for columns. If a dictionary is used, the\n",
      "        keys should be the column names and the values should be the\n",
      "        SQLAlchemy types or strings for the sqlite3 legacy mode. If a\n",
      "        scalar is provided, it will be applied to all columns.\n",
      "    method : {None, 'multi', callable}, optional\n",
      "        Controls the SQL insertion clause used:\n",
      "    \n",
      "        * None : Uses standard SQL ``INSERT`` clause (one per row).\n",
      "        * 'multi': Pass multiple values in a single ``INSERT`` clause.\n",
      "        * callable with signature ``(pd_table, conn, keys, data_iter)``.\n",
      "    \n",
      "        Details and a sample callable implementation can be found in the\n",
      "        section :ref:`insert method <io.sql.method>`.\n",
      "    \n",
      "        .. versionadded:: 0.24.0\n",
      "    \n",
      "    Raises\n",
      "    ------\n",
      "    ValueError\n",
      "        When the table already exists and `if_exists` is 'fail' (the\n",
      "        default).\n",
      "    \n",
      "    See Also\n",
      "    --------\n",
      "    read_sql : Read a DataFrame from a table.\n",
      "    \n",
      "    Notes\n",
      "    -----\n",
      "    Timezone aware datetime columns will be written as\n",
      "    ``Timestamp with timezone`` type with SQLAlchemy if supported by the\n",
      "    database. Otherwise, the datetimes will be stored as timezone unaware\n",
      "    timestamps local to the original timezone.\n",
      "    \n",
      "    .. versionadded:: 0.24.0\n",
      "    \n",
      "    References\n",
      "    ----------\n",
      "    .. [1] https://docs.sqlalchemy.org\n",
      "    .. [2] https://www.python.org/dev/peps/pep-0249/\n",
      "    \n",
      "    Examples\n",
      "    --------\n",
      "    Create an in-memory SQLite database.\n",
      "    \n",
      "    >>> from sqlalchemy import create_engine\n",
      "    >>> engine = create_engine('sqlite://', echo=False)\n",
      "    \n",
      "    Create a table from scratch with 3 rows.\n",
      "    \n",
      "    >>> df = pd.DataFrame({'name' : ['User 1', 'User 2', 'User 3']})\n",
      "    >>> df\n",
      "         name\n",
      "    0  User 1\n",
      "    1  User 2\n",
      "    2  User 3\n",
      "    \n",
      "    >>> df.to_sql('users', con=engine)\n",
      "    >>> engine.execute(\"SELECT * FROM users\").fetchall()\n",
      "    [(0, 'User 1'), (1, 'User 2'), (2, 'User 3')]\n",
      "    \n",
      "    An `sqlalchemy.engine.Connection` can also be passed to to `con`:\n",
      "    >>> with engine.begin() as connection:\n",
      "    ...     df1 = pd.DataFrame({'name' : ['User 4', 'User 5']})\n",
      "    ...     df1.to_sql('users', con=connection, if_exists='append')\n",
      "    \n",
      "    This is allowed to support operations that require that the same\n",
      "    DBAPI connection is used for the entire operation.\n",
      "    \n",
      "    >>> df2 = pd.DataFrame({'name' : ['User 6', 'User 7']})\n",
      "    >>> df2.to_sql('users', con=engine, if_exists='append')\n",
      "    >>> engine.execute(\"SELECT * FROM users\").fetchall()\n",
      "    [(0, 'User 1'), (1, 'User 2'), (2, 'User 3'),\n",
      "     (0, 'User 4'), (1, 'User 5'), (0, 'User 6'),\n",
      "     (1, 'User 7')]\n",
      "    \n",
      "    Overwrite the table with just ``df2``.\n",
      "    \n",
      "    >>> df2.to_sql('users', con=engine, if_exists='replace',\n",
      "    ...            index_label='id')\n",
      "    >>> engine.execute(\"SELECT * FROM users\").fetchall()\n",
      "    [(0, 'User 6'), (1, 'User 7')]\n",
      "    \n",
      "    Specify the dtype (especially useful for integers with missing values).\n",
      "    Notice that while pandas is forced to store the data as floating point,\n",
      "    the database supports nullable integers. When fetching the data with\n",
      "    Python, we get back integer scalars.\n",
      "    \n",
      "    >>> df = pd.DataFrame({\"A\": [1, None, 2]})\n",
      "    >>> df\n",
      "         A\n",
      "    0  1.0\n",
      "    1  NaN\n",
      "    2  2.0\n",
      "    \n",
      "    >>> from sqlalchemy.types import Integer\n",
      "    >>> df.to_sql('integers', con=engine, index=False,\n",
      "    ...           dtype={\"A\": Integer()})\n",
      "    \n",
      "    >>> engine.execute(\"SELECT * FROM integers\").fetchall()\n",
      "    [(1,), (None,), (2,)]\n",
      "\n"
     ]
    }
   ],
   "source": [
    "help(new_customers.to_sql)"
   ]
  },
  {
   "cell_type": "code",
   "execution_count": 114,
   "metadata": {
    "scrolled": true
   },
   "outputs": [
    {
     "name": "stdout",
     "output_type": "stream",
     "text": [
      "Help on function read_sql in module pandas.io.sql:\n",
      "\n",
      "read_sql(sql, con, index_col=None, coerce_float=True, params=None, parse_dates=None, columns=None, chunksize: Union[int, NoneType] = None) -> Union[pandas.core.frame.DataFrame, Iterator[pandas.core.frame.DataFrame]]\n",
      "    Read SQL query or database table into a DataFrame.\n",
      "    \n",
      "    This function is a convenience wrapper around ``read_sql_table`` and\n",
      "    ``read_sql_query`` (for backward compatibility). It will delegate\n",
      "    to the specific function depending on the provided input. A SQL query\n",
      "    will be routed to ``read_sql_query``, while a database table name will\n",
      "    be routed to ``read_sql_table``. Note that the delegated function might\n",
      "    have more specific notes about their functionality not listed here.\n",
      "    \n",
      "    Parameters\n",
      "    ----------\n",
      "    sql : str or SQLAlchemy Selectable (select or text object)\n",
      "        SQL query to be executed or a table name.\n",
      "    con : SQLAlchemy connectable, str, or sqlite3 connection\n",
      "        Using SQLAlchemy makes it possible to use any DB supported by that\n",
      "        library. If a DBAPI2 object, only sqlite3 is supported. The user is responsible\n",
      "        for engine disposal and connection closure for the SQLAlchemy connectable. See\n",
      "        `here <https://docs.sqlalchemy.org/en/13/core/connections.html>`_.\n",
      "    index_col : str or list of str, optional, default: None\n",
      "        Column(s) to set as index(MultiIndex).\n",
      "    coerce_float : bool, default True\n",
      "        Attempts to convert values of non-string, non-numeric objects (like\n",
      "        decimal.Decimal) to floating point, useful for SQL result sets.\n",
      "    params : list, tuple or dict, optional, default: None\n",
      "        List of parameters to pass to execute method.  The syntax used\n",
      "        to pass parameters is database driver dependent. Check your\n",
      "        database driver documentation for which of the five syntax styles,\n",
      "        described in PEP 249's paramstyle, is supported.\n",
      "        Eg. for psycopg2, uses %(name)s so use params={'name' : 'value'}.\n",
      "    parse_dates : list or dict, default: None\n",
      "        - List of column names to parse as dates.\n",
      "        - Dict of ``{column_name: format string}`` where format string is\n",
      "          strftime compatible in case of parsing string times, or is one of\n",
      "          (D, s, ns, ms, us) in case of parsing integer timestamps.\n",
      "        - Dict of ``{column_name: arg dict}``, where the arg dict corresponds\n",
      "          to the keyword arguments of :func:`pandas.to_datetime`\n",
      "          Especially useful with databases without native Datetime support,\n",
      "          such as SQLite.\n",
      "    columns : list, default: None\n",
      "        List of column names to select from SQL table (only used when reading\n",
      "        a table).\n",
      "    chunksize : int, default None\n",
      "        If specified, return an iterator where `chunksize` is the\n",
      "        number of rows to include in each chunk.\n",
      "    \n",
      "    Returns\n",
      "    -------\n",
      "    DataFrame or Iterator[DataFrame]\n",
      "    \n",
      "    See Also\n",
      "    --------\n",
      "    read_sql_table : Read SQL database table into a DataFrame.\n",
      "    read_sql_query : Read SQL query into a DataFrame.\n",
      "\n"
     ]
    }
   ],
   "source": [
    "help(pd.read_sql)"
=======
  {
   "cell_type": "code",
   "execution_count": null,
   "metadata": {},
   "outputs": [],
   "source": [
    "employees = pd.read_sql(\"SELECT * from employees\", conn)\n",
    "employees"
>>>>>>> 9bcb85082bee3521929bbc33123fdb6b165afb33
   ]
  },
  {
   "cell_type": "code",
<<<<<<< HEAD
   "execution_count": 113,
   "metadata": {
    "scrolled": true
   },
   "outputs": [
    {
     "data": {
      "text/plain": [
       "'\\n        Write records stored in a DataFrame to a SQL database.\\n\\n        Databases supported by SQLAlchemy [1]_ are supported. Tables can be\\n        newly created, appended to, or overwritten.\\n\\n        Parameters\\n        ----------\\n        name : str\\n            Name of SQL table.\\n        con : sqlalchemy.engine.(Engine or Connection) or sqlite3.Connection\\n            Using SQLAlchemy makes it possible to use any DB supported by that\\n            library. Legacy support is provided for sqlite3.Connection objects. The user\\n            is responsible for engine disposal and connection closure for the SQLAlchemy\\n            connectable See `here                 <https://docs.sqlalchemy.org/en/13/core/connections.html>`_.\\n\\n        schema : str, optional\\n            Specify the schema (if database flavor supports this). If None, use\\n            default schema.\\n        if_exists : {\\'fail\\', \\'replace\\', \\'append\\'}, default \\'fail\\'\\n            How to behave if the table already exists.\\n\\n            * fail: Raise a ValueError.\\n            * replace: Drop the table before inserting new values.\\n            * append: Insert new values to the existing table.\\n\\n        index : bool, default True\\n            Write DataFrame index as a column. Uses `index_label` as the column\\n            name in the table.\\n        index_label : str or sequence, default None\\n            Column label for index column(s). If None is given (default) and\\n            `index` is True, then the index names are used.\\n            A sequence should be given if the DataFrame uses MultiIndex.\\n        chunksize : int, optional\\n            Specify the number of rows in each batch to be written at a time.\\n            By default, all rows will be written at once.\\n        dtype : dict or scalar, optional\\n            Specifying the datatype for columns. If a dictionary is used, the\\n            keys should be the column names and the values should be the\\n            SQLAlchemy types or strings for the sqlite3 legacy mode. If a\\n            scalar is provided, it will be applied to all columns.\\n        method : {None, \\'multi\\', callable}, optional\\n            Controls the SQL insertion clause used:\\n\\n            * None : Uses standard SQL ``INSERT`` clause (one per row).\\n            * \\'multi\\': Pass multiple values in a single ``INSERT`` clause.\\n            * callable with signature ``(pd_table, conn, keys, data_iter)``.\\n\\n            Details and a sample callable implementation can be found in the\\n            section :ref:`insert method <io.sql.method>`.\\n\\n            .. versionadded:: 0.24.0\\n\\n        Raises\\n        ------\\n        ValueError\\n            When the table already exists and `if_exists` is \\'fail\\' (the\\n            default).\\n\\n        See Also\\n        --------\\n        read_sql : Read a DataFrame from a table.\\n\\n        Notes\\n        -----\\n        Timezone aware datetime columns will be written as\\n        ``Timestamp with timezone`` type with SQLAlchemy if supported by the\\n        database. Otherwise, the datetimes will be stored as timezone unaware\\n        timestamps local to the original timezone.\\n\\n        .. versionadded:: 0.24.0\\n\\n        References\\n        ----------\\n        .. [1] https://docs.sqlalchemy.org\\n        .. [2] https://www.python.org/dev/peps/pep-0249/\\n\\n        Examples\\n        --------\\n        Create an in-memory SQLite database.\\n\\n        >>> from sqlalchemy import create_engine\\n        >>> engine = create_engine(\\'sqlite://\\', echo=False)\\n\\n        Create a table from scratch with 3 rows.\\n\\n        >>> df = pd.DataFrame({\\'name\\' : [\\'User 1\\', \\'User 2\\', \\'User 3\\']})\\n        >>> df\\n             name\\n        0  User 1\\n        1  User 2\\n        2  User 3\\n\\n        >>> df.to_sql(\\'users\\', con=engine)\\n        >>> engine.execute(\"SELECT * FROM users\").fetchall()\\n        [(0, \\'User 1\\'), (1, \\'User 2\\'), (2, \\'User 3\\')]\\n\\n        An `sqlalchemy.engine.Connection` can also be passed to to `con`:\\n        >>> with engine.begin() as connection:\\n        ...     df1 = pd.DataFrame({\\'name\\' : [\\'User 4\\', \\'User 5\\']})\\n        ...     df1.to_sql(\\'users\\', con=connection, if_exists=\\'append\\')\\n\\n        This is allowed to support operations that require that the same\\n        DBAPI connection is used for the entire operation.\\n\\n        >>> df2 = pd.DataFrame({\\'name\\' : [\\'User 6\\', \\'User 7\\']})\\n        >>> df2.to_sql(\\'users\\', con=engine, if_exists=\\'append\\')\\n        >>> engine.execute(\"SELECT * FROM users\").fetchall()\\n        [(0, \\'User 1\\'), (1, \\'User 2\\'), (2, \\'User 3\\'),\\n         (0, \\'User 4\\'), (1, \\'User 5\\'), (0, \\'User 6\\'),\\n         (1, \\'User 7\\')]\\n\\n        Overwrite the table with just ``df2``.\\n\\n        >>> df2.to_sql(\\'users\\', con=engine, if_exists=\\'replace\\',\\n        ...            index_label=\\'id\\')\\n        >>> engine.execute(\"SELECT * FROM users\").fetchall()\\n        [(0, \\'User 6\\'), (1, \\'User 7\\')]\\n\\n        Specify the dtype (especially useful for integers with missing values).\\n        Notice that while pandas is forced to store the data as floating point,\\n        the database supports nullable integers. When fetching the data with\\n        Python, we get back integer scalars.\\n\\n        >>> df = pd.DataFrame({\"A\": [1, None, 2]})\\n        >>> df\\n             A\\n        0  1.0\\n        1  NaN\\n        2  2.0\\n\\n        >>> from sqlalchemy.types import Integer\\n        >>> df.to_sql(\\'integers\\', con=engine, index=False,\\n        ...           dtype={\"A\": Integer()})\\n\\n        >>> engine.execute(\"SELECT * FROM integers\").fetchall()\\n        [(1,), (None,), (2,)]\\n        '"
      ]
     },
     "execution_count": 113,
     "metadata": {},
     "output_type": "execute_result"
    }
   ],
   "source": [
    "new_customers.to_sql.__doc__"
=======
   "execution_count": null,
   "metadata": {},
   "outputs": [],
   "source": [
    "customers = pd.read_sql(\"SELECT * from customers\", conn)\n",
    "customers"
>>>>>>> 9bcb85082bee3521929bbc33123fdb6b165afb33
   ]
  },
  {
   "cell_type": "code",
<<<<<<< HEAD
   "execution_count": 115,
   "metadata": {
    "scrolled": true
   },
   "outputs": [
    {
     "name": "stdout",
     "output_type": "stream",
     "text": [
      "Help on method to_sql in module pandas.core.generic:\n",
      "\n",
      "to_sql(name: str, con, schema=None, if_exists: str = 'fail', index: bool = True, index_label=None, chunksize=None, dtype=None, method=None) -> None method of pandas.core.frame.DataFrame instance\n",
      "    Write records stored in a DataFrame to a SQL database.\n",
      "    \n",
      "    Databases supported by SQLAlchemy [1]_ are supported. Tables can be\n",
      "    newly created, appended to, or overwritten.\n",
      "    \n",
      "    Parameters\n",
      "    ----------\n",
      "    name : str\n",
      "        Name of SQL table.\n",
      "    con : sqlalchemy.engine.(Engine or Connection) or sqlite3.Connection\n",
      "        Using SQLAlchemy makes it possible to use any DB supported by that\n",
      "        library. Legacy support is provided for sqlite3.Connection objects. The user\n",
      "        is responsible for engine disposal and connection closure for the SQLAlchemy\n",
      "        connectable See `here                 <https://docs.sqlalchemy.org/en/13/core/connections.html>`_.\n",
      "    \n",
      "    schema : str, optional\n",
      "        Specify the schema (if database flavor supports this). If None, use\n",
      "        default schema.\n",
      "    if_exists : {'fail', 'replace', 'append'}, default 'fail'\n",
      "        How to behave if the table already exists.\n",
      "    \n",
      "        * fail: Raise a ValueError.\n",
      "        * replace: Drop the table before inserting new values.\n",
      "        * append: Insert new values to the existing table.\n",
      "    \n",
      "    index : bool, default True\n",
      "        Write DataFrame index as a column. Uses `index_label` as the column\n",
      "        name in the table.\n",
      "    index_label : str or sequence, default None\n",
      "        Column label for index column(s). If None is given (default) and\n",
      "        `index` is True, then the index names are used.\n",
      "        A sequence should be given if the DataFrame uses MultiIndex.\n",
      "    chunksize : int, optional\n",
      "        Specify the number of rows in each batch to be written at a time.\n",
      "        By default, all rows will be written at once.\n",
      "    dtype : dict or scalar, optional\n",
      "        Specifying the datatype for columns. If a dictionary is used, the\n",
      "        keys should be the column names and the values should be the\n",
      "        SQLAlchemy types or strings for the sqlite3 legacy mode. If a\n",
      "        scalar is provided, it will be applied to all columns.\n",
      "    method : {None, 'multi', callable}, optional\n",
      "        Controls the SQL insertion clause used:\n",
      "    \n",
      "        * None : Uses standard SQL ``INSERT`` clause (one per row).\n",
      "        * 'multi': Pass multiple values in a single ``INSERT`` clause.\n",
      "        * callable with signature ``(pd_table, conn, keys, data_iter)``.\n",
      "    \n",
      "        Details and a sample callable implementation can be found in the\n",
      "        section :ref:`insert method <io.sql.method>`.\n",
      "    \n",
      "        .. versionadded:: 0.24.0\n",
      "    \n",
      "    Raises\n",
      "    ------\n",
      "    ValueError\n",
      "        When the table already exists and `if_exists` is 'fail' (the\n",
      "        default).\n",
      "    \n",
      "    See Also\n",
      "    --------\n",
      "    read_sql : Read a DataFrame from a table.\n",
      "    \n",
      "    Notes\n",
      "    -----\n",
      "    Timezone aware datetime columns will be written as\n",
      "    ``Timestamp with timezone`` type with SQLAlchemy if supported by the\n",
      "    database. Otherwise, the datetimes will be stored as timezone unaware\n",
      "    timestamps local to the original timezone.\n",
      "    \n",
      "    .. versionadded:: 0.24.0\n",
      "    \n",
      "    References\n",
      "    ----------\n",
      "    .. [1] https://docs.sqlalchemy.org\n",
      "    .. [2] https://www.python.org/dev/peps/pep-0249/\n",
      "    \n",
      "    Examples\n",
      "    --------\n",
      "    Create an in-memory SQLite database.\n",
      "    \n",
      "    >>> from sqlalchemy import create_engine\n",
      "    >>> engine = create_engine('sqlite://', echo=False)\n",
      "    \n",
      "    Create a table from scratch with 3 rows.\n",
      "    \n",
      "    >>> df = pd.DataFrame({'name' : ['User 1', 'User 2', 'User 3']})\n",
      "    >>> df\n",
      "         name\n",
      "    0  User 1\n",
      "    1  User 2\n",
      "    2  User 3\n",
      "    \n",
      "    >>> df.to_sql('users', con=engine)\n",
      "    >>> engine.execute(\"SELECT * FROM users\").fetchall()\n",
      "    [(0, 'User 1'), (1, 'User 2'), (2, 'User 3')]\n",
      "    \n",
      "    An `sqlalchemy.engine.Connection` can also be passed to to `con`:\n",
      "    >>> with engine.begin() as connection:\n",
      "    ...     df1 = pd.DataFrame({'name' : ['User 4', 'User 5']})\n",
      "    ...     df1.to_sql('users', con=connection, if_exists='append')\n",
      "    \n",
      "    This is allowed to support operations that require that the same\n",
      "    DBAPI connection is used for the entire operation.\n",
      "    \n",
      "    >>> df2 = pd.DataFrame({'name' : ['User 6', 'User 7']})\n",
      "    >>> df2.to_sql('users', con=engine, if_exists='append')\n",
      "    >>> engine.execute(\"SELECT * FROM users\").fetchall()\n",
      "    [(0, 'User 1'), (1, 'User 2'), (2, 'User 3'),\n",
      "     (0, 'User 4'), (1, 'User 5'), (0, 'User 6'),\n",
      "     (1, 'User 7')]\n",
      "    \n",
      "    Overwrite the table with just ``df2``.\n",
      "    \n",
      "    >>> df2.to_sql('users', con=engine, if_exists='replace',\n",
      "    ...            index_label='id')\n",
      "    >>> engine.execute(\"SELECT * FROM users\").fetchall()\n",
      "    [(0, 'User 6'), (1, 'User 7')]\n",
      "    \n",
      "    Specify the dtype (especially useful for integers with missing values).\n",
      "    Notice that while pandas is forced to store the data as floating point,\n",
      "    the database supports nullable integers. When fetching the data with\n",
      "    Python, we get back integer scalars.\n",
      "    \n",
      "    >>> df = pd.DataFrame({\"A\": [1, None, 2]})\n",
      "    >>> df\n",
      "         A\n",
      "    0  1.0\n",
      "    1  NaN\n",
      "    2  2.0\n",
      "    \n",
      "    >>> from sqlalchemy.types import Integer\n",
      "    >>> df.to_sql('integers', con=engine, index=False,\n",
      "    ...           dtype={\"A\": Integer()})\n",
      "    \n",
      "    >>> engine.execute(\"SELECT * FROM integers\").fetchall()\n",
      "    [(1,), (None,), (2,)]\n",
      "\n"
     ]
    }
   ],
   "source": [
    "help(new_customers.to_sql)"
=======
   "execution_count": null,
   "metadata": {},
   "outputs": [],
   "source": [
    "new_customers = customers[[\"FirstName\", \"LastName\", \"Company\", \"Address\", \"City\", \"State\", \"Country\", \"Phone\", \"Email\"]]\n",
    "new_customers.head()"
>>>>>>> 9bcb85082bee3521929bbc33123fdb6b165afb33
   ]
  },
  {
   "cell_type": "code",
<<<<<<< HEAD
   "execution_count": 116,
   "metadata": {},
   "outputs": [],
   "source": [
    "# say we want to use dataframe to create new db\n",
    "\n",
    "new_db = 'new_db.db'\n",
    "#conn = sql.connect(new_db)\n",
    "conn = connection(new_db)\n",
=======
   "execution_count": null,
   "metadata": {},
   "outputs": [],
   "source": [
    "new_db = 'new_db.db'\n",
    "conn = sql.connect(new_db)\n",
>>>>>>> 9bcb85082bee3521929bbc33123fdb6b165afb33
    "new_customers.to_sql('customers', conn)"
   ]
  },
  {
   "cell_type": "code",
<<<<<<< HEAD
   "execution_count": 117,
   "metadata": {},
   "outputs": [
    {
     "data": {
      "text/plain": [
       "['customers']"
      ]
     },
     "execution_count": 117,
     "metadata": {},
     "output_type": "execute_result"
    }
   ],
=======
   "execution_count": null,
   "metadata": {},
   "outputs": [],
>>>>>>> 9bcb85082bee3521929bbc33123fdb6b165afb33
   "source": [
    "get_tables(new_db)"
   ]
  },
  {
   "cell_type": "code",
<<<<<<< HEAD
   "execution_count": 118,
   "metadata": {
    "scrolled": true
   },
   "outputs": [
    {
     "data": {
      "text/plain": [
       "[(0,\n",
       "  'Luís',\n",
       "  'Gonçalves',\n",
       "  'Embraer - Empresa Brasileira de Aeronáutica S.A.',\n",
       "  'Av. Brigadeiro Faria Lima, 2170',\n",
       "  'São José dos Campos',\n",
       "  'SP',\n",
       "  'Brazil',\n",
       "  '+55 (12) 3923-5555',\n",
       "  'luisg@embraer.com.br'),\n",
       " (1,\n",
       "  'Leonie',\n",
       "  'Köhler',\n",
       "  None,\n",
       "  'Theodor-Heuss-Straße 34',\n",
       "  'Stuttgart',\n",
       "  None,\n",
       "  'Germany',\n",
       "  '+49 0711 2842222',\n",
       "  'leonekohler@surfeu.de'),\n",
       " (2,\n",
       "  'François',\n",
       "  'Tremblay',\n",
       "  None,\n",
       "  '1498 rue Bélanger',\n",
       "  'Montréal',\n",
       "  'QC',\n",
       "  'Canada',\n",
       "  '+1 (514) 721-4711',\n",
       "  'ftremblay@gmail.com'),\n",
       " (3,\n",
       "  'Bjørn',\n",
       "  'Hansen',\n",
       "  None,\n",
       "  'Ullevålsveien 14',\n",
       "  'Oslo',\n",
       "  None,\n",
       "  'Norway',\n",
       "  '+47 22 44 22 22',\n",
       "  'bjorn.hansen@yahoo.no'),\n",
       " (4,\n",
       "  'František',\n",
       "  'Wichterlová',\n",
       "  'JetBrains s.r.o.',\n",
       "  'Klanova 9/506',\n",
       "  'Prague',\n",
       "  None,\n",
       "  'Czech Republic',\n",
       "  '+420 2 4172 5555',\n",
       "  'frantisekw@jetbrains.com'),\n",
       " (5,\n",
       "  'Helena',\n",
       "  'Holý',\n",
       "  None,\n",
       "  'Rilská 3174/6',\n",
       "  'Prague',\n",
       "  None,\n",
       "  'Czech Republic',\n",
       "  '+420 2 4177 0449',\n",
       "  'hholy@gmail.com'),\n",
       " (6,\n",
       "  'Astrid',\n",
       "  'Gruber',\n",
       "  None,\n",
       "  'Rotenturmstraße 4, 1010 Innere Stadt',\n",
       "  'Vienne',\n",
       "  None,\n",
       "  'Austria',\n",
       "  '+43 01 5134505',\n",
       "  'astrid.gruber@apple.at'),\n",
       " (7,\n",
       "  'Daan',\n",
       "  'Peeters',\n",
       "  None,\n",
       "  'Grétrystraat 63',\n",
       "  'Brussels',\n",
       "  None,\n",
       "  'Belgium',\n",
       "  '+32 02 219 03 03',\n",
       "  'daan_peeters@apple.be'),\n",
       " (8,\n",
       "  'Kara',\n",
       "  'Nielsen',\n",
       "  None,\n",
       "  'Sønder Boulevard 51',\n",
       "  'Copenhagen',\n",
       "  None,\n",
       "  'Denmark',\n",
       "  '+453 3331 9991',\n",
       "  'kara.nielsen@jubii.dk'),\n",
       " (9,\n",
       "  'Eduardo',\n",
       "  'Martins',\n",
       "  'Woodstock Discos',\n",
       "  'Rua Dr. Falcão Filho, 155',\n",
       "  'São Paulo',\n",
       "  'SP',\n",
       "  'Brazil',\n",
       "  '+55 (11) 3033-5446',\n",
       "  'eduardo@woodstock.com.br'),\n",
       " (10,\n",
       "  'Alexandre',\n",
       "  'Rocha',\n",
       "  'Banco do Brasil S.A.',\n",
       "  'Av. Paulista, 2022',\n",
       "  'São Paulo',\n",
       "  'SP',\n",
       "  'Brazil',\n",
       "  '+55 (11) 3055-3278',\n",
       "  'alero@uol.com.br'),\n",
       " (11,\n",
       "  'Roberto',\n",
       "  'Almeida',\n",
       "  'Riotur',\n",
       "  'Praça Pio X, 119',\n",
       "  'Rio de Janeiro',\n",
       "  'RJ',\n",
       "  'Brazil',\n",
       "  '+55 (21) 2271-7000',\n",
       "  'roberto.almeida@riotur.gov.br'),\n",
       " (12,\n",
       "  'Fernanda',\n",
       "  'Ramos',\n",
       "  None,\n",
       "  'Qe 7 Bloco G',\n",
       "  'Brasília',\n",
       "  'DF',\n",
       "  'Brazil',\n",
       "  '+55 (61) 3363-5547',\n",
       "  'fernadaramos4@uol.com.br'),\n",
       " (13,\n",
       "  'Mark',\n",
       "  'Philips',\n",
       "  'Telus',\n",
       "  '8210 111 ST NW',\n",
       "  'Edmonton',\n",
       "  'AB',\n",
       "  'Canada',\n",
       "  '+1 (780) 434-4554',\n",
       "  'mphilips12@shaw.ca'),\n",
       " (14,\n",
       "  'Jennifer',\n",
       "  'Peterson',\n",
       "  'Rogers Canada',\n",
       "  '700 W Pender Street',\n",
       "  'Vancouver',\n",
       "  'BC',\n",
       "  'Canada',\n",
       "  '+1 (604) 688-2255',\n",
       "  'jenniferp@rogers.ca'),\n",
       " (15,\n",
       "  'Frank',\n",
       "  'Harris',\n",
       "  'Google Inc.',\n",
       "  '1600 Amphitheatre Parkway',\n",
       "  'Mountain View',\n",
       "  'CA',\n",
       "  'USA',\n",
       "  '+1 (650) 253-0000',\n",
       "  'fharris@google.com'),\n",
       " (16,\n",
       "  'Jack',\n",
       "  'Smith',\n",
       "  'Microsoft Corporation',\n",
       "  '1 Microsoft Way',\n",
       "  'Redmond',\n",
       "  'WA',\n",
       "  'USA',\n",
       "  '+1 (425) 882-8080',\n",
       "  'jacksmith@microsoft.com'),\n",
       " (17,\n",
       "  'Michelle',\n",
       "  'Brooks',\n",
       "  None,\n",
       "  '627 Broadway',\n",
       "  'New York',\n",
       "  'NY',\n",
       "  'USA',\n",
       "  '+1 (212) 221-3546',\n",
       "  'michelleb@aol.com'),\n",
       " (18,\n",
       "  'Tim',\n",
       "  'Goyer',\n",
       "  'Apple Inc.',\n",
       "  '1 Infinite Loop',\n",
       "  'Cupertino',\n",
       "  'CA',\n",
       "  'USA',\n",
       "  '+1 (408) 996-1010',\n",
       "  'tgoyer@apple.com'),\n",
       " (19,\n",
       "  'Dan',\n",
       "  'Miller',\n",
       "  None,\n",
       "  '541 Del Medio Avenue',\n",
       "  'Mountain View',\n",
       "  'CA',\n",
       "  'USA',\n",
       "  '+1 (650) 644-3358',\n",
       "  'dmiller@comcast.com'),\n",
       " (20,\n",
       "  'Kathy',\n",
       "  'Chase',\n",
       "  None,\n",
       "  '801 W 4th Street',\n",
       "  'Reno',\n",
       "  'NV',\n",
       "  'USA',\n",
       "  '+1 (775) 223-7665',\n",
       "  'kachase@hotmail.com'),\n",
       " (21,\n",
       "  'Heather',\n",
       "  'Leacock',\n",
       "  None,\n",
       "  '120 S Orange Ave',\n",
       "  'Orlando',\n",
       "  'FL',\n",
       "  'USA',\n",
       "  '+1 (407) 999-7788',\n",
       "  'hleacock@gmail.com'),\n",
       " (22,\n",
       "  'John',\n",
       "  'Gordon',\n",
       "  None,\n",
       "  '69 Salem Street',\n",
       "  'Boston',\n",
       "  'MA',\n",
       "  'USA',\n",
       "  '+1 (617) 522-1333',\n",
       "  'johngordon22@yahoo.com'),\n",
       " (23,\n",
       "  'Frank',\n",
       "  'Ralston',\n",
       "  None,\n",
       "  '162 E Superior Street',\n",
       "  'Chicago',\n",
       "  'IL',\n",
       "  'USA',\n",
       "  '+1 (312) 332-3232',\n",
       "  'fralston@gmail.com'),\n",
       " (24,\n",
       "  'Victor',\n",
       "  'Stevens',\n",
       "  None,\n",
       "  '319 N. Frances Street',\n",
       "  'Madison',\n",
       "  'WI',\n",
       "  'USA',\n",
       "  '+1 (608) 257-0597',\n",
       "  'vstevens@yahoo.com'),\n",
       " (25,\n",
       "  'Richard',\n",
       "  'Cunningham',\n",
       "  None,\n",
       "  '2211 W Berry Street',\n",
       "  'Fort Worth',\n",
       "  'TX',\n",
       "  'USA',\n",
       "  '+1 (817) 924-7272',\n",
       "  'ricunningham@hotmail.com'),\n",
       " (26,\n",
       "  'Patrick',\n",
       "  'Gray',\n",
       "  None,\n",
       "  '1033 N Park Ave',\n",
       "  'Tucson',\n",
       "  'AZ',\n",
       "  'USA',\n",
       "  '+1 (520) 622-4200',\n",
       "  'patrick.gray@aol.com'),\n",
       " (27,\n",
       "  'Julia',\n",
       "  'Barnett',\n",
       "  None,\n",
       "  '302 S 700 E',\n",
       "  'Salt Lake City',\n",
       "  'UT',\n",
       "  'USA',\n",
       "  '+1 (801) 531-7272',\n",
       "  'jubarnett@gmail.com'),\n",
       " (28,\n",
       "  'Robert',\n",
       "  'Brown',\n",
       "  None,\n",
       "  '796 Dundas Street West',\n",
       "  'Toronto',\n",
       "  'ON',\n",
       "  'Canada',\n",
       "  '+1 (416) 363-8888',\n",
       "  'robbrown@shaw.ca'),\n",
       " (29,\n",
       "  'Edward',\n",
       "  'Francis',\n",
       "  None,\n",
       "  '230 Elgin Street',\n",
       "  'Ottawa',\n",
       "  'ON',\n",
       "  'Canada',\n",
       "  '+1 (613) 234-3322',\n",
       "  'edfrancis@yachoo.ca'),\n",
       " (30,\n",
       "  'Martha',\n",
       "  'Silk',\n",
       "  None,\n",
       "  '194A Chain Lake Drive',\n",
       "  'Halifax',\n",
       "  'NS',\n",
       "  'Canada',\n",
       "  '+1 (902) 450-0450',\n",
       "  'marthasilk@gmail.com'),\n",
       " (31,\n",
       "  'Aaron',\n",
       "  'Mitchell',\n",
       "  None,\n",
       "  '696 Osborne Street',\n",
       "  'Winnipeg',\n",
       "  'MB',\n",
       "  'Canada',\n",
       "  '+1 (204) 452-6452',\n",
       "  'aaronmitchell@yahoo.ca'),\n",
       " (32,\n",
       "  'Ellie',\n",
       "  'Sullivan',\n",
       "  None,\n",
       "  '5112 48 Street',\n",
       "  'Yellowknife',\n",
       "  'NT',\n",
       "  'Canada',\n",
       "  '+1 (867) 920-2233',\n",
       "  'ellie.sullivan@shaw.ca'),\n",
       " (33,\n",
       "  'João',\n",
       "  'Fernandes',\n",
       "  None,\n",
       "  'Rua da Assunção 53',\n",
       "  'Lisbon',\n",
       "  None,\n",
       "  'Portugal',\n",
       "  '+351 (213) 466-111',\n",
       "  'jfernandes@yahoo.pt'),\n",
       " (34,\n",
       "  'Madalena',\n",
       "  'Sampaio',\n",
       "  None,\n",
       "  'Rua dos Campeões Europeus de Viena, 4350',\n",
       "  'Porto',\n",
       "  None,\n",
       "  'Portugal',\n",
       "  '+351 (225) 022-448',\n",
       "  'masampaio@sapo.pt'),\n",
       " (35,\n",
       "  'Hannah',\n",
       "  'Schneider',\n",
       "  None,\n",
       "  'Tauentzienstraße 8',\n",
       "  'Berlin',\n",
       "  None,\n",
       "  'Germany',\n",
       "  '+49 030 26550280',\n",
       "  'hannah.schneider@yahoo.de'),\n",
       " (36,\n",
       "  'Fynn',\n",
       "  'Zimmermann',\n",
       "  None,\n",
       "  'Berger Straße 10',\n",
       "  'Frankfurt',\n",
       "  None,\n",
       "  'Germany',\n",
       "  '+49 069 40598889',\n",
       "  'fzimmermann@yahoo.de'),\n",
       " (37,\n",
       "  'Niklas',\n",
       "  'Schröder',\n",
       "  None,\n",
       "  'Barbarossastraße 19',\n",
       "  'Berlin',\n",
       "  None,\n",
       "  'Germany',\n",
       "  '+49 030 2141444',\n",
       "  'nschroder@surfeu.de'),\n",
       " (38,\n",
       "  'Camille',\n",
       "  'Bernard',\n",
       "  None,\n",
       "  '4, Rue Milton',\n",
       "  'Paris',\n",
       "  None,\n",
       "  'France',\n",
       "  '+33 01 49 70 65 65',\n",
       "  'camille.bernard@yahoo.fr'),\n",
       " (39,\n",
       "  'Dominique',\n",
       "  'Lefebvre',\n",
       "  None,\n",
       "  '8, Rue Hanovre',\n",
       "  'Paris',\n",
       "  None,\n",
       "  'France',\n",
       "  '+33 01 47 42 71 71',\n",
       "  'dominiquelefebvre@gmail.com'),\n",
       " (40,\n",
       "  'Marc',\n",
       "  'Dubois',\n",
       "  None,\n",
       "  '11, Place Bellecour',\n",
       "  'Lyon',\n",
       "  None,\n",
       "  'France',\n",
       "  '+33 04 78 30 30 30',\n",
       "  'marc.dubois@hotmail.com'),\n",
       " (41,\n",
       "  'Wyatt',\n",
       "  'Girard',\n",
       "  None,\n",
       "  '9, Place Louis Barthou',\n",
       "  'Bordeaux',\n",
       "  None,\n",
       "  'France',\n",
       "  '+33 05 56 96 96 96',\n",
       "  'wyatt.girard@yahoo.fr'),\n",
       " (42,\n",
       "  'Isabelle',\n",
       "  'Mercier',\n",
       "  None,\n",
       "  '68, Rue Jouvence',\n",
       "  'Dijon',\n",
       "  None,\n",
       "  'France',\n",
       "  '+33 03 80 73 66 99',\n",
       "  'isabelle_mercier@apple.fr'),\n",
       " (43,\n",
       "  'Terhi',\n",
       "  'Hämäläinen',\n",
       "  None,\n",
       "  'Porthaninkatu 9',\n",
       "  'Helsinki',\n",
       "  None,\n",
       "  'Finland',\n",
       "  '+358 09 870 2000',\n",
       "  'terhi.hamalainen@apple.fi'),\n",
       " (44,\n",
       "  'Ladislav',\n",
       "  'Kovács',\n",
       "  None,\n",
       "  'Erzsébet krt. 58.',\n",
       "  'Budapest',\n",
       "  None,\n",
       "  'Hungary',\n",
       "  None,\n",
       "  'ladislav_kovacs@apple.hu'),\n",
       " (45,\n",
       "  'Hugh',\n",
       "  \"O'Reilly\",\n",
       "  None,\n",
       "  '3 Chatham Street',\n",
       "  'Dublin',\n",
       "  'Dublin',\n",
       "  'Ireland',\n",
       "  '+353 01 6792424',\n",
       "  'hughoreilly@apple.ie'),\n",
       " (46,\n",
       "  'Lucas',\n",
       "  'Mancini',\n",
       "  None,\n",
       "  'Via Degli Scipioni, 43',\n",
       "  'Rome',\n",
       "  'RM',\n",
       "  'Italy',\n",
       "  '+39 06 39733434',\n",
       "  'lucas.mancini@yahoo.it'),\n",
       " (47,\n",
       "  'Johannes',\n",
       "  'Van der Berg',\n",
       "  None,\n",
       "  'Lijnbaansgracht 120bg',\n",
       "  'Amsterdam',\n",
       "  'VV',\n",
       "  'Netherlands',\n",
       "  '+31 020 6223130',\n",
       "  'johavanderberg@yahoo.nl'),\n",
       " (48,\n",
       "  'Stanisław',\n",
       "  'Wójcik',\n",
       "  None,\n",
       "  'Ordynacka 10',\n",
       "  'Warsaw',\n",
       "  None,\n",
       "  'Poland',\n",
       "  '+48 22 828 37 39',\n",
       "  'stanisław.wójcik@wp.pl'),\n",
       " (49,\n",
       "  'Enrique',\n",
       "  'Muñoz',\n",
       "  None,\n",
       "  'C/ San Bernardo 85',\n",
       "  'Madrid',\n",
       "  None,\n",
       "  'Spain',\n",
       "  '+34 914 454 454',\n",
       "  'enrique_munoz@yahoo.es'),\n",
       " (50,\n",
       "  'Joakim',\n",
       "  'Johansson',\n",
       "  None,\n",
       "  'Celsiusg. 9',\n",
       "  'Stockholm',\n",
       "  None,\n",
       "  'Sweden',\n",
       "  '+46 08-651 52 52',\n",
       "  'joakim.johansson@yahoo.se'),\n",
       " (51,\n",
       "  'Emma',\n",
       "  'Jones',\n",
       "  None,\n",
       "  '202 Hoxton Street',\n",
       "  'London',\n",
       "  None,\n",
       "  'United Kingdom',\n",
       "  '+44 020 7707 0707',\n",
       "  'emma_jones@hotmail.com'),\n",
       " (52,\n",
       "  'Phil',\n",
       "  'Hughes',\n",
       "  None,\n",
       "  '113 Lupus St',\n",
       "  'London',\n",
       "  None,\n",
       "  'United Kingdom',\n",
       "  '+44 020 7976 5722',\n",
       "  'phil.hughes@gmail.com'),\n",
       " (53,\n",
       "  'Steve',\n",
       "  'Murray',\n",
       "  None,\n",
       "  '110 Raeburn Pl',\n",
       "  'Edinburgh ',\n",
       "  None,\n",
       "  'United Kingdom',\n",
       "  '+44 0131 315 3300',\n",
       "  'steve.murray@yahoo.uk'),\n",
       " (54,\n",
       "  'Mark',\n",
       "  'Taylor',\n",
       "  None,\n",
       "  '421 Bourke Street',\n",
       "  'Sidney',\n",
       "  'NSW',\n",
       "  'Australia',\n",
       "  '+61 (02) 9332 3633',\n",
       "  'mark.taylor@yahoo.au'),\n",
       " (55,\n",
       "  'Diego',\n",
       "  'Gutiérrez',\n",
       "  None,\n",
       "  '307 Macacha Güemes',\n",
       "  'Buenos Aires',\n",
       "  None,\n",
       "  'Argentina',\n",
       "  '+54 (0)11 4311 4333',\n",
       "  'diego.gutierrez@yahoo.ar'),\n",
       " (56,\n",
       "  'Luis',\n",
       "  'Rojas',\n",
       "  None,\n",
       "  'Calle Lira, 198',\n",
       "  'Santiago',\n",
       "  None,\n",
       "  'Chile',\n",
       "  '+56 (0)2 635 4444',\n",
       "  'luisrojas@yahoo.cl'),\n",
       " (57,\n",
       "  'Manoj',\n",
       "  'Pareek',\n",
       "  None,\n",
       "  '12,Community Centre',\n",
       "  'Delhi',\n",
       "  None,\n",
       "  'India',\n",
       "  '+91 0124 39883988',\n",
       "  'manoj.pareek@rediff.com'),\n",
       " (58,\n",
       "  'Puja',\n",
       "  'Srivastava',\n",
       "  None,\n",
       "  '3,Raj Bhavan Road',\n",
       "  'Bangalore',\n",
       "  None,\n",
       "  'India',\n",
       "  '+91 080 22289999',\n",
       "  'puja_srivastava@yahoo.in')]"
      ]
     },
     "execution_count": 118,
     "metadata": {},
     "output_type": "execute_result"
    }
   ],
=======
   "execution_count": null,
   "metadata": {
    "scrolled": true
   },
   "outputs": [],
>>>>>>> 9bcb85082bee3521929bbc33123fdb6b165afb33
   "source": [
    "execute(new_db, 'SELECT * from customers')"
   ]
  },
  {
   "cell_type": "code",
<<<<<<< HEAD
   "execution_count": 119,
   "metadata": {},
   "outputs": [
    {
     "name": "stdout",
     "output_type": "stream",
     "text": [
      "near \")\": syntax error\n"
     ]
    }
   ],
   "source": [
    "get_cols(new_db, 'customers')"
   ]
  },
  {
   "cell_type": "code",
   "execution_count": 121,
=======
   "execution_count": null,
>>>>>>> 9bcb85082bee3521929bbc33123fdb6b165afb33
   "metadata": {
    "collapsed": false,
    "jupyter": {
     "outputs_hidden": false
    }
   },
   "outputs": [],
   "source": [
    "%matplotlib inline\n",
    "from matplotlib import pyplot as plt"
   ]
  },
  {
   "cell_type": "markdown",
   "metadata": {},
   "source": [
    "\n",
    "# The Lifecycle of a Matplotlib Plot\n",
    "\n",
    "\n",
    "This tutorial aims to show the beginning, middle, and end of a single\n",
    "visualization using Matplotlib. We'll begin with some raw data and\n",
    "end by saving a figure of a customized visualization. Along the way we try\n",
    "to highlight some neat features and best-practices using Matplotlib.\n",
    "\n",
    "A note on the Object-Oriented API vs. Pyplot\n",
    "============================================\n",
    "\n",
    "Matplotlib has two interfaces. The first is an object-oriented (OO)\n",
    "interface. In this case, we utilize an instance of `axes.Axes`\n",
    "in order to render visualizations on an instance of `figure.Figure`.\n",
    "\n",
    "The second is based on MATLAB and uses a state-based interface. This is\n",
    "encapsulated in the `.pyplot` module. \n",
    "\n",
    "Most of the terms are straightforward but the main thing to remember\n",
    "is that:\n",
    "\n",
    "* The Figure is the final image that may contain 1 or more Axes.\n",
    "* The Axes represent an individual plot (don't confuse this with the word\n",
    "  \"axis\", which refers to the x/y axis of a plot).\n",
    "\n",
    "We call methods that do the plotting directly from the Axes, which gives\n",
    "us much more flexibility and power in customizing our plot.\n",
    "\n",
    "<p>In general, try to use the object-oriented interface over the pyplot\n",
    "   interface.</p>\n",
    "\n",
    "Our data\n",
    "========\n",
    "\n",
    "We'll use the data from the post from which this tutorial was derived.\n",
    "It contains sales information for a number of companies.\n"
   ]
  },
  {
   "cell_type": "code",
<<<<<<< HEAD
   "execution_count": 136,
=======
   "execution_count": null,
>>>>>>> 9bcb85082bee3521929bbc33123fdb6b165afb33
   "metadata": {
    "collapsed": false,
    "jupyter": {
     "outputs_hidden": false
    }
   },
   "outputs": [],
   "source": [
    "import numpy as np\n",
    "import matplotlib.pyplot as plt\n",
    "\n",
    "\n",
    "data = {'Barton LLC': 109438.50,\n",
    "        'Frami, Hills and Schmidt': 103569.59,\n",
    "        'Fritsch, Russel and Anderson': 112214.71,\n",
    "        'Jerde-Hilpert': 112591.43,\n",
    "        'Keeling LLC': 100934.30,\n",
    "        'Koepp Ltd': 103660.54,\n",
    "        'Kulas Inc': 137351.96,\n",
    "        'Trantow-Barrows': 123381.38,\n",
    "        'White-Trantow': 135841.99,\n",
    "        'Will LLC': 104437.60}\n",
    "group_data = list(data.values())\n",
    "group_names = list(data.keys())\n",
    "group_mean = np.mean(group_data)"
   ]
  },
  {
   "cell_type": "markdown",
   "metadata": {},
   "source": [
    "Getting started\n",
    "===============\n",
    "\n",
    "This data is naturally visualized as a barplot, with one bar per\n",
    "group. To do this with the object-oriented approach, we first generate\n",
    "an instance of :class:`figure.Figure` and\n",
    ":class:`axes.Axes`. The Figure is like a canvas, and the Axes\n",
    "is a part of that canvas on which we will make a particular visualization.\n",
    "\n",
    "<h4>Note</h4><p>Figures can have multiple axes on them.</p></div>\n",
    "\n"
   ]
  },
  {
   "cell_type": "code",
<<<<<<< HEAD
   "execution_count": 123,
   "metadata": {
    "scrolled": true
   },
   "outputs": [
    {
     "name": "stdout",
     "output_type": "stream",
     "text": [
      "Help on function subplots in module matplotlib.pyplot:\n",
      "\n",
      "subplots(nrows=1, ncols=1, *, sharex=False, sharey=False, squeeze=True, subplot_kw=None, gridspec_kw=None, **fig_kw)\n",
      "    Create a figure and a set of subplots.\n",
      "    \n",
      "    This utility wrapper makes it convenient to create common layouts of\n",
      "    subplots, including the enclosing figure object, in a single call.\n",
      "    \n",
      "    Parameters\n",
      "    ----------\n",
      "    nrows, ncols : int, default: 1\n",
      "        Number of rows/columns of the subplot grid.\n",
      "    \n",
      "    sharex, sharey : bool or {'none', 'all', 'row', 'col'}, default: False\n",
      "        Controls sharing of properties among x (*sharex*) or y (*sharey*)\n",
      "        axes:\n",
      "    \n",
      "        - True or 'all': x- or y-axis will be shared among all subplots.\n",
      "        - False or 'none': each subplot x- or y-axis will be independent.\n",
      "        - 'row': each subplot row will share an x- or y-axis.\n",
      "        - 'col': each subplot column will share an x- or y-axis.\n",
      "    \n",
      "        When subplots have a shared x-axis along a column, only the x tick\n",
      "        labels of the bottom subplot are created. Similarly, when subplots\n",
      "        have a shared y-axis along a row, only the y tick labels of the first\n",
      "        column subplot are created. To later turn other subplots' ticklabels\n",
      "        on, use `~matplotlib.axes.Axes.tick_params`.\n",
      "    \n",
      "    squeeze : bool, default: True\n",
      "        - If True, extra dimensions are squeezed out from the returned\n",
      "          array of `~matplotlib.axes.Axes`:\n",
      "    \n",
      "          - if only one subplot is constructed (nrows=ncols=1), the\n",
      "            resulting single Axes object is returned as a scalar.\n",
      "          - for Nx1 or 1xM subplots, the returned object is a 1D numpy\n",
      "            object array of Axes objects.\n",
      "          - for NxM, subplots with N>1 and M>1 are returned as a 2D array.\n",
      "    \n",
      "        - If False, no squeezing at all is done: the returned Axes object is\n",
      "          always a 2D array containing Axes instances, even if it ends up\n",
      "          being 1x1.\n",
      "    \n",
      "    subplot_kw : dict, optional\n",
      "        Dict with keywords passed to the\n",
      "        `~matplotlib.figure.Figure.add_subplot` call used to create each\n",
      "        subplot.\n",
      "    \n",
      "    gridspec_kw : dict, optional\n",
      "        Dict with keywords passed to the `~matplotlib.gridspec.GridSpec`\n",
      "        constructor used to create the grid the subplots are placed on.\n",
      "    \n",
      "    **fig_kw\n",
      "        All additional keyword arguments are passed to the\n",
      "        `.pyplot.figure` call.\n",
      "    \n",
      "    Returns\n",
      "    -------\n",
      "    fig : `~.figure.Figure`\n",
      "    \n",
      "    ax : `.axes.Axes` or array of Axes\n",
      "        *ax* can be either a single `~matplotlib.axes.Axes` object or an\n",
      "        array of Axes objects if more than one subplot was created.  The\n",
      "        dimensions of the resulting array can be controlled with the squeeze\n",
      "        keyword, see above.\n",
      "    \n",
      "        Typical idioms for handling the return value are::\n",
      "    \n",
      "            # using the variable ax for single a Axes\n",
      "            fig, ax = plt.subplots()\n",
      "    \n",
      "            # using the variable axs for multiple Axes\n",
      "            fig, axs = plt.subplots(2, 2)\n",
      "    \n",
      "            # using tuple unpacking for multiple Axes\n",
      "            fig, (ax1, ax2) = plt.subplot(1, 2)\n",
      "            fig, ((ax1, ax2), (ax3, ax4)) = plt.subplot(2, 2)\n",
      "    \n",
      "        The names ``ax`` and pluralized ``axs`` are preferred over ``axes``\n",
      "        because for the latter it's not clear if it refers to a single\n",
      "        `~.axes.Axes` instance or a collection of these.\n",
      "    \n",
      "    See Also\n",
      "    --------\n",
      "    .pyplot.figure\n",
      "    .pyplot.subplot\n",
      "    .pyplot.axes\n",
      "    .Figure.subplots\n",
      "    .Figure.add_subplot\n",
      "    \n",
      "    Examples\n",
      "    --------\n",
      "    ::\n",
      "    \n",
      "        # First create some toy data:\n",
      "        x = np.linspace(0, 2*np.pi, 400)\n",
      "        y = np.sin(x**2)\n",
      "    \n",
      "        # Create just a figure and only one subplot\n",
      "        fig, ax = plt.subplots()\n",
      "        ax.plot(x, y)\n",
      "        ax.set_title('Simple plot')\n",
      "    \n",
      "        # Create two subplots and unpack the output array immediately\n",
      "        f, (ax1, ax2) = plt.subplots(1, 2, sharey=True)\n",
      "        ax1.plot(x, y)\n",
      "        ax1.set_title('Sharing Y axis')\n",
      "        ax2.scatter(x, y)\n",
      "    \n",
      "        # Create four polar axes and access them through the returned array\n",
      "        fig, axs = plt.subplots(2, 2, subplot_kw=dict(polar=True))\n",
      "        axs[0, 0].plot(x, y)\n",
      "        axs[1, 1].scatter(x, y)\n",
      "    \n",
      "        # Share a X axis with each column of subplots\n",
      "        plt.subplots(2, 2, sharex='col')\n",
      "    \n",
      "        # Share a Y axis with each row of subplots\n",
      "        plt.subplots(2, 2, sharey='row')\n",
      "    \n",
      "        # Share both X and Y axes with all subplots\n",
      "        plt.subplots(2, 2, sharex='all', sharey='all')\n",
      "    \n",
      "        # Note that this is the same as\n",
      "        plt.subplots(2, 2, sharex=True, sharey=True)\n",
      "    \n",
      "        # Create figure number 10 with a single subplot\n",
      "        # and clears it if it already exists.\n",
      "        fig, ax = plt.subplots(num=10, clear=True)\n",
      "\n"
     ]
    }
   ],
   "source": [
    "help(plt.subplots)"
   ]
  },
  {
   "cell_type": "code",
   "execution_count": 124,
=======
   "execution_count": null,
>>>>>>> 9bcb85082bee3521929bbc33123fdb6b165afb33
   "metadata": {
    "collapsed": false,
    "jupyter": {
     "outputs_hidden": false
    }
   },
<<<<<<< HEAD
   "outputs": [
    {
     "data": {
      "image/png": "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\n",
      "text/plain": [
       "<Figure size 432x288 with 1 Axes>"
      ]
     },
     "metadata": {
      "needs_background": "light"
     },
     "output_type": "display_data"
    }
   ],
=======
   "outputs": [],
>>>>>>> 9bcb85082bee3521929bbc33123fdb6b165afb33
   "source": [
    "fig, ax = plt.subplots()"
   ]
  },
  {
<<<<<<< HEAD
   "cell_type": "code",
   "execution_count": null,
   "metadata": {},
   "outputs": [],
   "source": []
  },
  {
=======
>>>>>>> 9bcb85082bee3521929bbc33123fdb6b165afb33
   "cell_type": "markdown",
   "metadata": {},
   "source": [
    "Now that we have an Axes instance, we can plot on top of it.\n",
    "\n"
   ]
  },
  {
   "cell_type": "code",
<<<<<<< HEAD
   "execution_count": 125,
=======
   "execution_count": null,
>>>>>>> 9bcb85082bee3521929bbc33123fdb6b165afb33
   "metadata": {
    "collapsed": false,
    "jupyter": {
     "outputs_hidden": false
    }
   },
<<<<<<< HEAD
   "outputs": [
    {
     "data": {
      "text/plain": [
       "<BarContainer object of 10 artists>"
      ]
     },
     "execution_count": 125,
     "metadata": {},
     "output_type": "execute_result"
    },
    {
     "data": {
      "image/png": "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\n",
      "text/plain": [
       "<Figure size 432x288 with 1 Axes>"
      ]
     },
     "metadata": {
      "needs_background": "light"
     },
     "output_type": "display_data"
    }
   ],
=======
   "outputs": [],
>>>>>>> 9bcb85082bee3521929bbc33123fdb6b165afb33
   "source": [
    "fig, ax = plt.subplots()\n",
    "ax.barh(group_names, group_data)"
   ]
  },
  {
<<<<<<< HEAD
   "cell_type": "code",
   "execution_count": 127,
   "metadata": {},
   "outputs": [
    {
     "data": {
      "text/plain": [
       "<BarContainer object of 10 artists>"
      ]
     },
     "execution_count": 127,
     "metadata": {},
     "output_type": "execute_result"
    },
    {
     "data": {
      "image/png": "iVBORw0KGgoAAAANSUhEUgAAAYkAAAD4CAYAAAAZ1BptAAAAOXRFWHRTb2Z0d2FyZQBNYXRwbG90bGliIHZlcnNpb24zLjMuMywgaHR0cHM6Ly9tYXRwbG90bGliLm9yZy/Il7ecAAAACXBIWXMAAAsTAAALEwEAmpwYAAAhbUlEQVR4nO3dfbxWZZ3v8c83EFNLUdk5HrCgkSyyB5WDlmaeKEWtsF7k0dOMVBbTqNlzaXNmaDLLpmkoyyxLEsuRzGqkwohQjjaGsn0E1GSHT5tUtoAgKsrD7/xx/W73cnOvvWFv2Bh+36/X/dprXeta17rW0/Vb61rrvrciAjMzs2ZetL0rYGZmz18OEmZmVstBwszMajlImJlZLQcJMzOrNXB7V2BrGzJkSAwfPnx7V8PM7K/KzTff/GhEtHRN3+GCxPDhw2ltbd3e1TAz+6si6f5m6e5uMjOzWg4SZmZWq8cgIWmqpGWSFjaZ9mlJIWlIjkvS+ZLaJN0h6eBK3omSFudnYiX9EEkLcp7zJSnT95I0O/PPlrTn1lllMzPbXJtzJ3EJMK5roqT9gKOBByrJxwIj8zMJuDDz7gVMBg4FxgCTK43+hcBHKvM1lnUWMCciRgJzctzMzPpRj0EiIq4DVjSZNAX4HFD98afxwKVRzAMGS9oXOAaYHRErImIlMBsYl9N2j4h5UX5E6lLghEpZ03J4WiXdzMz6Sa+eSUgaDyyNiNu7TBoKPFgZb8+07tLbm6QD7BMRD+Xww8A+3dRnkqRWSa0dHR1bujpmZlZji4OEpF2BLwD/svWr01zeZdT+XG1EXBQRoyNidEvLJq/5mplZL/XmTuJvgRHA7ZLuA4YBt0j6G2ApsF8l77BM6y59WJN0gEeyO4r8u6wXdTUzsz7Y4iAREQsi4mURMTwihlO6iA6OiIeBGcAp+ZbTYcCq7DKaBRwtac98YH00MCunrZZ0WL7VdApwVS5qBtB4C2piJd3MzPpJj9+4lnQ5cBQwRFI7MDkiLq7JPhM4DmgDngQ+CBARKySdA8zPfF+KiMbD8NMob1DtAlydH4DzgCsknQrcD5y4RWtmZrWGn/WbbVr+fecdv03Lt/7TY5CIiJN7mD68MhzA6TX5pgJTm6S3Agc2SV8OjO2pfmZmtu3scL/dZGZWx3dQW84/y2FmZrUcJMzMrJaDhJmZ1XKQMDOzWg4SZmZWy0HCzMxqOUiYmVktBwkzM6vlIGFmZrUcJMzMrJaDhJmZ1XKQMDOzWg4SZmZWy0HCzMxqOUiYmVktBwkzM6vlIGFmZrUcJMzMrJb/famZ9Sv/C9G/Lr6TMDOzWj0GCUlTJS2TtLCS9nVJd0u6Q9IvJQ2uTDtbUpukP0k6ppI+LtPaJJ1VSR8h6cZM/6mkQZm+c4635fThW2ulzcxs82zOncQlwLguabOBAyPi9cA9wNkAkkYBJwGvzXm+K2mApAHABcCxwCjg5MwL8DVgSkTsD6wETs30U4GVmT4l85mZWT/qMUhExHXAii5pv4uI9Tk6DxiWw+OB6RHxdETcC7QBY/LTFhFLIuIZYDowXpKAtwFX5vzTgBMqZU3L4SuBsZnfzMz6ydZ4JvEh4OocHgo8WJnWnml16XsDj1UCTiP9OWXl9FWZfxOSJklqldTa0dHR5xUyM7OiT0FC0j8B64HLtk51eiciLoqI0RExuqWlZXtWxcxsh9LrV2AlfQB4JzA2IiKTlwL7VbINyzRq0pcDgyUNzLuFav5GWe2SBgJ7ZH4zM+snvbqTkDQO+Bzw7oh4sjJpBnBSvpk0AhgJ3ATMB0bmm0yDKA+3Z2RwuRaYkPNPBK6qlDUxhycA11SCkZmZ9YMe7yQkXQ4cBQyR1A5MprzNtDMwO58lz4uIj0bEIklXAHdSuqFOj4gNWc4ZwCxgADA1IhblIj4PTJf0ZeBW4OJMvxj4saQ2yoPzk7bC+pqZ2RboMUhExMlNki9uktbIfy5wbpP0mcDMJulLKG8/dU1fC7yvp/qZmdm2429cm5lZLQcJMzOr5SBhZma1HCTMzKyWg4SZmdXy/5Ow7Wpb/28B8P8XMOsLBwlzQ21mtdzdZGZmtRwkzMysloOEmZnV8jOJCvfNm5k9l+8kzMysloOEmZnVcpAwM7NaDhJmZlbLQcLMzGo5SJiZWS2/Amtm1g/+Wl+x952EmZnV8p3E88Rf61WG9Y73t/218J2EmZnV6jFISJoqaZmkhZW0vSTNlrQ4/+6Z6ZJ0vqQ2SXdIOrgyz8TMv1jSxEr6IZIW5DznS1J3yzAzs/6zOXcSlwDjuqSdBcyJiJHAnBwHOBYYmZ9JwIVQGnxgMnAoMAaYXGn0LwQ+UplvXA/LMDOzftLjM4mIuE7S8C7J44GjcngaMBf4fKZfGhEBzJM0WNK+mXd2RKwAkDQbGCdpLrB7RMzL9EuBE4Cru1mG2Vbh5wJmPevtM4l9IuKhHH4Y2CeHhwIPVvK1Z1p36e1N0rtbxiYkTZLUKqm1o6OjF6tjZmbN9PnBdd41xFaoS6+XEREXRcToiBjd0tKyLatiZvaC0tsg8Uh2I5F/l2X6UmC/Sr5hmdZd+rAm6d0tw8zM+klvg8QMoPGG0kTgqkr6KfmW02HAquwymgUcLWnPfGB9NDArp62WdFi+1XRKl7KaLcPMzPpJjw+uJV1OeYA8RFI75S2l84ArJJ0K3A+cmNlnAscBbcCTwAcBImKFpHOA+ZnvS42H2MBplDeodqE8sL460+uWYWZm/WRz3m46uWbS2CZ5Azi9ppypwNQm6a3AgU3SlzdbhpmZ9R9/49rMzGo5SJiZWS0HCTMzq+UgYWZmtRwkzMysloOEmZnVcpAwM7NaDhJmZlbLQcLMzGo5SJiZWS0HCTMzq+UgYWZmtRwkzMysloOEmZnVcpAwM7NaDhJmZlbLQcLMzGo5SJiZWS0HCTMzq+UgYWZmtRwkzMysVp+ChKRPSlokaaGkyyW9WNIISTdKapP0U0mDMu/OOd6W04dXyjk70/8k6ZhK+rhMa5N0Vl/qamZmW67XQULSUOBMYHREHAgMAE4CvgZMiYj9gZXAqTnLqcDKTJ+S+ZA0Kud7LTAO+K6kAZIGABcAxwKjgJMzr5mZ9ZO+djcNBHaRNBDYFXgIeBtwZU6fBpyQw+NznJw+VpIyfXpEPB0R9wJtwJj8tEXEkoh4Bpieec3MrJ/0OkhExFLg34EHKMFhFXAz8FhErM9s7cDQHB4KPJjzrs/8e1fTu8xTl74JSZMktUpq7ejo6O0qmZlZF33pbtqTcmU/AvgfwG6U7qJ+FxEXRcToiBjd0tKyPapgZrZD6kt309uBeyOiIyLWAb8ADgcGZ/cTwDBgaQ4vBfYDyOl7AMur6V3mqUs3M7N+0pcg8QBwmKRd89nCWOBO4FpgQuaZCFyVwzNynJx+TUREpp+Ubz+NAEYCNwHzgZH5ttQgysPtGX2or5mZbaGBPWdpLiJulHQlcAuwHrgVuAj4DTBd0pcz7eKc5WLgx5LagBWURp+IWCTpCkqAWQ+cHhEbACSdAcyivDk1NSIW9ba+Zma25XodJAAiYjIwuUvyEsqbSV3zrgXeV1POucC5TdJnAjP7UkczM+s9f+PazMxqOUiYmVktBwkzM6vlIGFmZrUcJMzMrJaDhJmZ1XKQMDOzWg4SZmZWy0HCzMxqOUiYmVktBwkzM6vlIGFmZrUcJMzMrJaDhJmZ1XKQMDOzWg4SZmZWy0HCzMxqOUiYmVktBwkzM6vlIGFmZrUcJMzMrFafgoSkwZKulHS3pLskvUnSXpJmS1qcf/fMvJJ0vqQ2SXdIOrhSzsTMv1jSxEr6IZIW5DznS1Jf6mtmZlumr3cS3wJ+GxGvBt4A3AWcBcyJiJHAnBwHOBYYmZ9JwIUAkvYCJgOHAmOAyY3Aknk+UplvXB/ra2ZmW6DXQULSHsCRwMUAEfFMRDwGjAemZbZpwAk5PB64NIp5wGBJ+wLHALMjYkVErARmA+Ny2u4RMS8iAri0UpaZmfWDvtxJjAA6gB9JulXSDyXtBuwTEQ9lnoeBfXJ4KPBgZf72TOsuvb1J+iYkTZLUKqm1o6OjD6tkZmZVfQkSA4GDgQsj4iDgCTq7lgDIO4DowzI2S0RcFBGjI2J0S0vLtl6cmdkLRl+CRDvQHhE35viVlKDxSHYVkX+X5fSlwH6V+YdlWnfpw5qkm5lZP+l1kIiIh4EHJR2QSWOBO4EZQOMNpYnAVTk8Azgl33I6DFiV3VKzgKMl7ZkPrI8GZuW01ZIOy7eaTqmUZWZm/WBgH+f/GHCZpEHAEuCDlMBzhaRTgfuBEzPvTOA4oA14MvMSESsknQPMz3xfiogVOXwacAmwC3B1fszMrJ/0KUhExG3A6CaTxjbJG8DpNeVMBaY2SW8FDuxLHc3MrPf8jWszM6vlIGFmZrUcJMzMrJaDhJmZ1XKQMDOzWg4SZmZWy0HCzMxqOUiYmVktBwkzM6vlIGFmZrUcJMzMrJaDhJmZ1XKQMDOzWg4SZmZWy0HCzMxqOUiYmVktBwkzM6vlIGFmZrUcJMzMrJaDhJmZ1XKQMDOzWn0OEpIGSLpV0q9zfISkGyW1SfqppEGZvnOOt+X04ZUyzs70P0k6ppI+LtPaJJ3V17qamdmW2Rp3Eh8H7qqMfw2YEhH7AyuBUzP9VGBlpk/JfEgaBZwEvBYYB3w3A88A4ALgWGAUcHLmNTOzftKnICFpGHA88MMcF/A24MrMMg04IYfH5zg5fWzmHw9Mj4inI+JeoA0Yk5+2iFgSEc8A0zOvmZn1k77eSXwT+BywMcf3Bh6LiPU53g4MzeGhwIMAOX1V5n82vcs8dembkDRJUquk1o6Ojj6ukpmZNfQ6SEh6J7AsIm7eivXplYi4KCJGR8TolpaW7V0dM7MdxsA+zHs48G5JxwEvBnYHvgUMljQw7xaGAUsz/1JgP6Bd0kBgD2B5Jb2hOk9dupmZ9YNe30lExNkRMSwihlMePF8TEe8HrgUmZLaJwFU5PCPHyenXRERk+kn59tMIYCRwEzAfGJlvSw3KZczobX3NzGzL9eVOos7ngemSvgzcClyc6RcDP5bUBqygNPpExCJJVwB3AuuB0yNiA4CkM4BZwABgakQs2gb1NTOzGlslSETEXGBuDi+hvJnUNc9a4H01858LnNskfSYwc2vU0czMtpy/cW1mZrUcJMzMrJaDhJmZ1XKQMDOzWg4SZmZWy0HCzMxqOUiYmVktBwkzM6vlIGFmZrUcJMzMrJaDhJmZ1XKQMDOzWg4SZmZWy0HCzMxqOUiYmVktBwkzM6vlIGFmZrUcJMzMrJaDhJmZ1XKQMDOzWg4SZmZWq9dBQtJ+kq6VdKekRZI+nul7SZotaXH+3TPTJel8SW2S7pB0cKWsiZl/saSJlfRDJC3Iec6XpL6srJmZbZm+3EmsBz4dEaOAw4DTJY0CzgLmRMRIYE6OAxwLjMzPJOBCKEEFmAwcCowBJjcCS+b5SGW+cX2or5mZbaFeB4mIeCgibsnhx4G7gKHAeGBaZpsGnJDD44FLo5gHDJa0L3AMMDsiVkTESmA2MC6n7R4R8yIigEsrZZmZWT/YKs8kJA0HDgJuBPaJiIdy0sPAPjk8FHiwMlt7pnWX3t4k3czM+kmfg4SklwA/Bz4REaur0/IOIPq6jM2owyRJrZJaOzo6tvXizMxeMPoUJCTtRAkQl0XELzL5kewqIv8uy/SlwH6V2YdlWnfpw5qkbyIiLoqI0RExuqWlpS+rZGZmFX15u0nAxcBdEfEflUkzgMYbShOBqyrpp+RbTocBq7JbahZwtKQ984H10cCsnLZa0mG5rFMqZZmZWT8Y2Id5Dwf+Hlgg6bZM+wJwHnCFpFOB+4ETc9pM4DigDXgS+CBARKyQdA4wP/N9KSJW5PBpwCXALsDV+TEzs37S6yAREX8A6r63MLZJ/gBOrylrKjC1SXorcGBv62hmZn3jb1ybmVktBwkzM6vlIGFmZrUcJMzMrJaDhJmZ1XKQMDOzWg4SZmZWy0HCzMxqOUiYmVktBwkzM6vlIGFmZrUcJMzMrJaDhJmZ1XKQMDOzWg4SZmZWy0HCzMxqOUiYmVktBwkzM6vlIGFmZrUcJMzMrJaDhJmZ1XKQMDOzWs/7ICFpnKQ/SWqTdNb2ro+Z2QvJ8zpISBoAXAAcC4wCTpY0avvWyszsheN5HSSAMUBbRCyJiGeA6cD47VwnM7MXDEXE9q5DLUkTgHER8eEc/3vg0Ig4o0u+ScCkHD0A+FM/VnMI8Gg/Ls/L9rK9bC97W3hFRLR0TRzYjxXYZiLiIuCi7bFsSa0RMdrL9rK9bC97R1l21fO9u2kpsF9lfFimmZlZP3i+B4n5wEhJIyQNAk4CZmznOpmZvWA8r7ubImK9pDOAWcAAYGpELNrO1epqu3RzedletpftZfeH5/WDazMz276e791NZma2HTlImJlZrR0qSEjaIOk2SSHpKUl3SrpF0pt7UdYXKuU1PmMkXdkl30xJg/NzWqat6ZLnvyT9IYc/KumUHF4naYKkL0r6s6TRmX6KpIWSFki6VdJnmtRvbv5cye2S5kt64xas2xdryjwgy71N0l2SLuoy/QOSvlMZ3yhpyOYut0kdbpQ0qkm5z45LOkHSHEnzJN1XXZ6koyStz+F3S/qRpHskTWmsn6RL8vs2PdVnbmX7z5Q0OIeHS/o/m7lOayrDx0laImmT7+zU1UnSq3LZi/O4vULSPpuz7EoZz26TSj3ukfSvknZtkn9vSWskrZb0sKSlleN90BYu99eV8S9sSb27lDVF0icq47Mk/TC3272Slkl6pNm2zfw/VP4yw5bUQ9LrKuu+Ipd1m6Tf97HegyWdJukbkj6Vx+pZmefZc7Gb42KT9DwuF9bU4zOS7s66z2+0N721QwUJ4KmIeCPwRETsEhGjgLOBr6rocX0r+b7QKK/yuSkiJlTzRcRxEfEYMBg4rafyI+J7EXFpN8s/FvgEcHREvA44DFhVk/39EfEG4LvA13ta9mY4H5iS6/oa4NtboUy62fY/i4g7e5j9ROANwB50/6LFE8BbKD/hUre9eiRpYGOfShoIDAc2K0hUyhhL2ZYfANZt5jwvBn4DXBgRIyPiYMp+3eTLTb2ox7HARGCTIBERy4HbgP8Gvkfn/n9jRDyT26A3eh0ksi5vBsjjZgjw2pz2WeDPlGNzmKQRXWeOiA9Xjqtn69F1XbqOR8SCxrpT3qL8bI6/vW6ezaz3YErb8GbghoiYERHndbcBekvSR4F3AGNyPcYC6lOhEbHDfIA1Xf4Op3yv4gFgEfAaoJ3SoKwFplfyrQMWAE9RvuW4AQjgceCjwKcoB+dGyqu5i4DDgWeASykN0wbg9kzbF7iOcgKuBu7IZf0k63B7ljUB+CLwEHBzLv9OYGHW55NN1vNdWebdwO+zHndmObdmPZcAZ2Y5w3Pamvw8Bvw4yzov570D6AAOoTRMP8/1nE9pfP896/0o8LGcdyPwr8CyXPe1wIOUE/jK3A7rc50ey+3+BOVkmpfTF1J+buXRnP9x4ArgO5STak2u60O5jYfksi/JOgbwl5z2E8oJcVOOr8rl35/7oQ1YXCnzAaA1l/lobofLgaczzxO5Xs9k3R7L+t5KOSbuyDLuyTI2Av+Z2/7Vud0XUo6dhfn5RNZ9AvB3WdfbgLmVfbIGmEI5xuYALZk+F/hW5l9IaQi6HhtH5TofWanHmZV1uDbz/RRYnsu/B7iacoz8NrfFityv/0H5eZx7cz8+Afwmy/gA8Iucp53yEzoAf8htsSa3y5mVbdCe++t2yvF+Zs4zBbgmh99HudADeB0wDfhdbtuTcj+8J+vzK8p5cDvlWF2Y5Y+mHNtBOa6XA58G7gIeBp4E/khpUG+lnGtTgZ2B/0k5ZiZQfgZoAyXY3pzlvAu4L5f/OPDLrOs3cp3nUs6DG7PeP8+8GzLPB4Bbsq6P0Lnf7wLOy+FfUt7mbGzPn3fZz8OBhU32/wPAK7dqu7q9G/atHCQ2UE6gyAPpzzk8MacPpHz1HOBlueNenxs8gH+rHLAb8rOActKtokTloJx8B1XmOyqHV1FO/A2U4PRQ1mdVHpAtOfyVXM46OoPEKuBNlMZrHbBT5hncZD33zANxNPBh4FrgK1nOg8DnKVcxy/NAfGce9FOB3SmN5f8F9qb8hEnjLbfTsh5/oZwUg4GX53pcCXyI0njvVQkSFwA/As4Afkhp/O+jnLAbKQ3Nk8AnKQ3V74B/zHW8l847pTW5fQ7PffedXMZfsq6vyvkX5DZdkfNszPzLs27vpZwod2bd1+c2+SDlJHwS2I1yEi4B/oVyEq4HjqCcwJH1GJ778jpKA3Nv7t9XZ13emvkfy+Wty/zvqJzIbVnn3YCXUBr+GcDHKQ1cYz/fBvwkh4Nyl0jWr7Et5gI/yOEjad5IHJXbZAXw+kp6O3BXDu8LrAT+DRhEaagaQeKfKUHs15Sg+y7KMfMXSgP6dmBGJUgsodzlHZ3bdr8sZ0PmH5LbZwHleF1MadQPynl+lmVdTwlYOwGTKYHq5cA/UALyOcDsrMcayrm7lvIF2xdRjrcjsqyHyYurrMd3c/g1We73cvz7lOPmVTl+KSWID6Q0/hMoF0erKcHwrZSLiD0r2+PDlf3zxazT/pSguAY4t7Kdrs9836YcowMoPQArc5/8P+CqzHMTMC+HFwPn9BQkcj+t3Nrt6o7c3TSY0qg/BHxOkihXmZdIeorSaL6Y0jBDaSS+lcMLKCfaU1G6fB6n3Io/TWkILqNcXTfma/QNPkXZeU8BJ1Ouuv6LctWwgdIg3k85gbtaTmcjE8D3JY2jHKBdDaMEt/+mdEkcTmmsoVwVboiIRykN9EDKleCvgLcB/0S5IlpLaZzXAhdLei+lkX8NpTGbSDnZfkUJFtNymxAR1foPoDQc51Ea4oMowWdurtNVmScoJ8ZSOhuLjZRGYbes5+xcj7UA2R+/O3B3RNyTZfxjdHYHfDPT/kBpqKA0no8BQ+n84uUulKvDV+Two5QrxFdQGus3Zl3+JvOvp5zcJ1Ea0NWUADKbsn8fzvwrM/+cHF+X69z4HTFy3X4ZEU9ExBpKY7MP5Qr5EGC+pNsoDeLeOc9GypU+lIb6iEp5lwNExHXA7o1nJ10EcANwapNpAIdSLqCejPLDmfdVpu0PHE/p4vtflO6SPSj7cBnlguCASv45EbGKEjTXULYpwPqIeDqPw7WUO943Ue4Sf0Y5f64FDpG0O+Xc+iPl2HhLDr85P3/Mz8uynMbFwNPAyyOiERQvkbSA0oi/slLHxrYcC7wUGJvb/BhKr8M9OX0acGRErKec80Mp507jDvotlGA2jBJcl1GCV3V73J3r8IacfjdlP+9KOV+hXPAsjogNlDZiCeX4fAR4TT5PuRN4RNK+ud79+Xt0z7GjBYlmVlCuZlooDcJoyoG1C2UHvTTzBeWgg3KSVr9AspHObbWxS/nRZXggPHsSH0lpFA+m7OjuNMpp3C7fRLmC+mGTvN/Ocg+nXI09Qufzg2cqdd1ACYRQtsPBlAD4ZuDteTKModwlvBP4bUT8JcvYh3IV/CFgJtlwN7GBcqV+IeUEOoDOLpqn6QysULadeO5x96LMe1909gd/JfPdTDm5pkm6j7Jt31uZdx1lu52Y5RxSmdaaZa3MbXMhJUg9SQkGtwKjImJvSpfTAjoby6eyDvtSjpudKvVv1if9TGV6KzBqMx6YCphWWefPUrpFmul6jNVNq6adCIyp1CN47nYf0GS+xva9lnLn9wPK8XMOZXucQPli64hK3/zTlfmfPf6b1GeTtiYiGneTH6AEtespgWl/yp3N31G6nqZRjr8WyvF1A2UfdQBH5POct1DuGF5HuTDcubKoJ/KvKAH+5Nzm44H7Jb0ng8b3KRdEZL6DKMfYSsq/Kjgi6/htyh3ECTn+5sr2+DPl/Hod5Vi7g3Le7Zr17k7jLncc5e71esp+XEf9+fesiFgNrJH0yp7ybokXQpAYRDkhllMOsrXA8rxy3q2b+arB4GngODoPvPdQrhAuq+R5nM4GGUmvAB6JiB9QGp/dKF0xrwD26ma5F1Aa6Jsp3Szv06ZvIu1B58k5kc5umyGUA/rgnPZiyu3/jZRb542UK/sXUR76vQTYIyJmUhqF0ZJ2onQJfYFyZbuU0k3zDzkfkqr1v5bS/dJ4WPwxmj8ou47SOA+gnIAjs7y1lKDy8nzTZic6u3weoPTnnhERwykn/3u6FhwRT1Ia6ldRGvQ9gNdLOpBy0r+V0qjsTjkeWih3BV+S9KosZpdKkS+i3P01uh33ppywB+X0l2We3XN8ZGXejcBZwPspJ/gTwAmSdpW0W9b/EUpQmiCpcfFwNXCkpOOz7AmSjqR0f/yhUv7/BpB0BLAqr+I3kdvkeOD9kk6l3F21SNqbDJDALrm9h+ds1Yb/xZRjhtyeT0fEtZQLmBdR7ja7syHLJrfB0ZRG8sQs9/o8jq4HPkNno/jRrN8NWccbMpBeQ9l3r8ppAyh3DH+m87x7PI/p6sP+jXQGxDk5bc8cXwb8LbAgg8YfKOdHY9rxlDuYdbkNDqBcxO1BuVO6ltKwD6xsj/spF1yNu+1VlHN/NzqDxD2UnxsaQAker6RcFDamfaKyPT5DOV4211eBC/LuDEkv6evbTc/rn+Xog13yymAQpZGcEBEbJH2d0iXyFCVoPN5NGYuAgyRdRmmAplO+Jj+IcnW/gtItAZS3RCTdS+nXH0TpG/6spHWU29aXUg7+gZTur+Nz+PuUhm1Xyls00ygH9fWUhnInNg3mX8z6/JjSdzyC8kDs/ZTb+bdJWkRp3O7NdbmRcrCtozQCv886XZVXYqIcxAszz3GUbpZrsi4PUK4odwbulvS9rN/crPO/ZL33p0mQiIhbJP0FeHduu5spweziXId3UBqgjVnfl1IC6meBH0g6M4taLenQruWnX2W9n6YEhz9mXQ6mvDn0JCVg35HbdD2l66WF576FtDPlJB1AaeBWUwLXHpTnKeMpJ/J3czkree4bVY9TrgZvoNyNrKlMbzxc/+ccb89j5G7Ks6SPUbbrBbn8BTz37mmtpFspx8WHarbDAEntjWHKfvsV5cq3nc4XEj5MuXJ/rFE25TgZT+n++GOmfwOYLWlKrtvjUd7+qlk8UC6I7pB0S5b7S8pxskvW6RLK+fBjShfoHyPiCUlrKcfbAspFz39WynyM0i33e8p2Xw38IiIij/dG/3+1i/YhYLqkGyLi/XmOfkdS4w73q8DP8k5gPqVbGcpdymDKcXAEpXt0YC7rHOBKSUHZt0sr2+OhSr1PyLJuowSCuZKuphz7h1MetrcAv46Ih3P+u4ADIqJN0v2UC8rFlO7nb2Z5D1K6sw+o7GcoF3oXUgLW/Dyu1lH2X6/5Zzl6SeU3pR6IiG32g4N5JfyhiPjUtlpGb0l6A+Uh6pjtXZfuSJoLfCYiWrdyuS/JZwyovPO+b0R8fCuVvSYiNrlS31brYtadHfVOYpuLiO/0wzIar08+r+S72GdSrqZfqI6XdDblHLqfcgVrtsPxnYSZmdV6ITy4NjOzXnKQMDOzWg4SZmZWy0HCzMxqOUiYmVmt/w977WJmT7R2ogAAAABJRU5ErkJggg==\n",
      "text/plain": [
       "<Figure size 432x288 with 1 Axes>"
      ]
     },
     "metadata": {
      "needs_background": "light"
     },
     "output_type": "display_data"
    }
   ],
   "source": [
    "# not very useful\n",
    "\n",
    "fig, ax = plt.subplots()\n",
    "ax.bar(group_names, group_data)"
   ]
  },
  {
   "cell_type": "code",
   "execution_count": 128,
   "metadata": {},
   "outputs": [
    {
     "data": {
      "text/plain": [
       "[<matplotlib.lines.Line2D at 0x123af3ac0>]"
      ]
     },
     "execution_count": 128,
     "metadata": {},
     "output_type": "execute_result"
    },
    {
     "data": {
      "image/png": "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\n",
      "text/plain": [
       "<Figure size 432x288 with 1 Axes>"
      ]
     },
     "metadata": {
      "needs_background": "light"
     },
     "output_type": "display_data"
    }
   ],
   "source": [
    "# not very useful\n",
    "\n",
    "fig, ax = plt.subplots()\n",
    "ax.plot(group_data, group_names)"
   ]
  },
  {
   "cell_type": "code",
   "execution_count": 131,
   "metadata": {},
   "outputs": [
    {
     "data": {
      "text/plain": [
       "[<matplotlib.lines.Line2D at 0x1259758e0>]"
      ]
     },
     "execution_count": 131,
     "metadata": {},
     "output_type": "execute_result"
    },
    {
     "data": {
      "image/png": "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\n",
      "text/plain": [
       "<Figure size 432x288 with 2 Axes>"
      ]
     },
     "metadata": {
      "needs_background": "light"
     },
     "output_type": "display_data"
    }
   ],
   "source": [
    "fig, (ax, ax2) = plt.subplots(1,2)\n",
    "ax.plot(group_data, group_names)"
   ]
  },
  {
   "cell_type": "code",
   "execution_count": 134,
   "metadata": {},
   "outputs": [
    {
     "data": {
      "text/plain": [
       "<matplotlib.collections.PathCollection at 0x125cef400>"
      ]
     },
     "execution_count": 134,
     "metadata": {},
     "output_type": "execute_result"
    },
    {
     "data": {
      "image/png": "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\n",
      "text/plain": [
       "<Figure size 432x288 with 2 Axes>"
      ]
     },
     "metadata": {
      "needs_background": "light"
     },
     "output_type": "display_data"
    }
   ],
   "source": [
    "fig, (ax1, ax2) = plt.subplots(1,2)\n",
    "ax1.barh(group_names, group_data)\n",
    "ax2.scatter(group_names, group_data)"
   ]
  },
  {
   "cell_type": "code",
   "execution_count": 137,
   "metadata": {},
   "outputs": [
    {
     "data": {
      "text/plain": [
       "<matplotlib.collections.PathCollection at 0x125e0ffd0>"
      ]
     },
     "execution_count": 137,
     "metadata": {},
     "output_type": "execute_result"
    },
    {
     "data": {
      "image/png": "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\n",
      "text/plain": [
       "<Figure size 432x288 with 3 Axes>"
      ]
     },
     "metadata": {
      "needs_background": "light"
     },
     "output_type": "display_data"
    }
   ],
   "source": [
    "fig, (ax1, ax2, ax3) = plt.subplots(1,3)\n",
    "ax1.barh(np.arange(50), np.arange(50))\n",
    "ax2.scatter(group_names, group_data)"
   ]
  },
  {
   "cell_type": "code",
   "execution_count": 139,
   "metadata": {},
   "outputs": [
    {
     "data": {
      "text/plain": [
       "<matplotlib.collections.PathCollection at 0x123aa4a30>"
      ]
     },
     "execution_count": 139,
     "metadata": {},
     "output_type": "execute_result"
    },
    {
     "data": {
      "image/png": "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\n",
      "text/plain": [
       "<Figure size 432x288 with 6 Axes>"
      ]
     },
     "metadata": {
      "needs_background": "light"
     },
     "output_type": "display_data"
    }
   ],
   "source": [
    "fig, ((ax1, ax2, ax3), (ax4, ax5, ax6)) = plt.subplots(2,3)\n",
    "ax1.barh(np.arange(50), np.arange(50))\n",
    "\n",
    "ax6.scatter(group_names, group_data)"
   ]
  },
  {
   "cell_type": "code",
   "execution_count": null,
   "metadata": {},
   "outputs": [],
   "source": [
    "#fig, ax1"
   ]
  },
  {
=======
>>>>>>> 9bcb85082bee3521929bbc33123fdb6b165afb33
   "cell_type": "markdown",
   "metadata": {},
   "source": [
    "Controlling the style\n",
    "=====================\n",
    "\n",
    "There are many styles available in Matplotlib in order to let you tailor\n",
    "your visualization to your needs. To see a list of styles, we can use\n",
    "`.style`.\n",
    "\n"
   ]
  },
  {
   "cell_type": "code",
<<<<<<< HEAD
   "execution_count": 140,
=======
   "execution_count": null,
>>>>>>> 9bcb85082bee3521929bbc33123fdb6b165afb33
   "metadata": {
    "collapsed": false,
    "jupyter": {
     "outputs_hidden": false
    }
   },
<<<<<<< HEAD
   "outputs": [
    {
     "name": "stdout",
     "output_type": "stream",
     "text": [
      "['Solarize_Light2', '_classic_test_patch', 'bmh', 'classic', 'dark_background', 'fast', 'fivethirtyeight', 'ggplot', 'grayscale', 'seaborn', 'seaborn-bright', 'seaborn-colorblind', 'seaborn-dark', 'seaborn-dark-palette', 'seaborn-darkgrid', 'seaborn-deep', 'seaborn-muted', 'seaborn-notebook', 'seaborn-paper', 'seaborn-pastel', 'seaborn-poster', 'seaborn-talk', 'seaborn-ticks', 'seaborn-white', 'seaborn-whitegrid', 'tableau-colorblind10']\n"
     ]
    }
   ],
=======
   "outputs": [],
>>>>>>> 9bcb85082bee3521929bbc33123fdb6b165afb33
   "source": [
    "print(plt.style.available)"
   ]
  },
  {
   "cell_type": "markdown",
   "metadata": {},
   "source": [
    "You can activate a style with the following:\n",
    "\n"
   ]
  },
  {
   "cell_type": "code",
<<<<<<< HEAD
   "execution_count": 141,
=======
   "execution_count": null,
>>>>>>> 9bcb85082bee3521929bbc33123fdb6b165afb33
   "metadata": {
    "collapsed": false,
    "jupyter": {
     "outputs_hidden": false
    }
   },
   "outputs": [],
   "source": [
    "plt.style.use('fivethirtyeight')"
   ]
  },
  {
   "cell_type": "markdown",
   "metadata": {},
   "source": [
    "Now let's remake the above plot to see how it looks:\n",
    "\n"
   ]
  },
  {
   "cell_type": "code",
<<<<<<< HEAD
   "execution_count": 142,
=======
   "execution_count": null,
>>>>>>> 9bcb85082bee3521929bbc33123fdb6b165afb33
   "metadata": {
    "collapsed": false,
    "jupyter": {
     "outputs_hidden": false
    }
   },
<<<<<<< HEAD
   "outputs": [
    {
     "data": {
      "text/plain": [
       "<BarContainer object of 10 artists>"
      ]
     },
     "execution_count": 142,
     "metadata": {},
     "output_type": "execute_result"
    },
    {
     "data": {
      "image/png": "iVBORw0KGgoAAAANSUhEUgAAAmMAAAEJCAYAAADYTyDcAAAAOXRFWHRTb2Z0d2FyZQBNYXRwbG90bGliIHZlcnNpb24zLjMuMywgaHR0cHM6Ly9tYXRwbG90bGliLm9yZy/Il7ecAAAACXBIWXMAAAsTAAALEwEAmpwYAABRXUlEQVR4nO3dd1RUV/fw8S8qqNjGxtBFRFEQxUoRxKiJLbYEg5rEHgQEIxassZJgNwqoiRqNJTYkQWPsQR0Qe8HXgij2qDH4ECsi5f3D5f05wQIKDuD+rDUrzLnnnrP3QGB77pk7eikpKVkIIYQQQgidKKbrAIQQQggh3mdSjAkhhBBC6JAUY0IIIYQQOiTFmBBCCCGEDkkxJoQQQgihQ1KMCSGEEELokBRjQgghhBA6JMWYEEIIIYQOSTEmhHilxMREXYeQp4paPlD0cpJ8CjbJJ+9JMSaEEEIIoUNSjAkhhBBC6JAUY0IIIYQQOiTFmBBCCCGEDkkxJoQQQgihQ1KMCSGEEELokBRjQgghhBA6JMWYEEIIIYQOldB1AEIUVaql13UdQh4xhJiikgsUvXyg6OX0/uaT0tcsn2MRBZGsjAkhhBBC6JAUY0IIIYQQOiTFmCjwVCoVUVFROX4uhBBCFCZSjIl3YunSpZiampKWlqa0paWlYWJigouLi1bfpKQkVCoVe/bsASAhIYG2bdu+8dwhISHZ5nhehw4dGDFixCvH0Gg0eHl5YW1tjbGxMU2aNGHEiBFcvnz5jeMSQgghQIox8Y64u7vz8OFDjhw5orQdPnyY8uXLc+HCBf755x+lXaPRULJkSZycnABQq9WULFnyncf8zNKlS+ncuTMVK1Zk2bJlHDhwgNDQULKyspg5c6bO4hJCCFE0yLspxTthY2ODiYkJGo1GWaXSaDR4eHhw+fJlYmJi6NKli9LepEkTSpUqBTy9DPnzzz/TuXPndx739evXGTlyJAMGDGD69OlKe7Vq1XB2diYlJeWdxySEEKJokZUx8c64u7uj0WiU5xqNBjc3N9zc3LTaY2JicHd310WI2fz222+kpaURGBj4wuMqlerdBiSEEKLIkZUx8c64ubkRFBTE48ePycrK4tChQ8ybNw9zc3NGjRoFwLlz57h58ybNmzfXcbRPJSUlUb58eUxMTHQdihDiPZCYmKjrEHKksMSZUznJp2bNmvk2vxRj4p1p3rw5qampHDx4kKysLKpUqYK1tTVqtZqLFy9y69YtNBoNhoaGNG7cWNfhApCVlaXrEIQQ75H8/IOfVxITEwtFnDlVEPKRYky8M1ZWVlhYWBATE0NWVhbNmjUDoEyZMjg6OhITE0NMTAzOzs7o6+vrONqnatSowd27d7lx44asjgkhhMgXsmdMvFPP9o092y/2jJubG3v37iUmJqbAXKIE6Ny5MwYGBsyZM+eFx2UDvxBCiLclK2PinXJ3dyciIgKA8PBwpb1Zs2b07duXe/fu5cvm/dTUVOLj47XaDA0NsbGxASA5OTnb8apVq2Jubs53333HiBEjuHv3Lp9//jnVqlXj5s2brF+/nsePHzNv3rw8j1cIIcT7Q4ox8U65u7uTlpaGmZkZ1tbWSruzszOPHj2ifPnyODo65vm8Fy9ezLbi5ujoyO7duwGIjIwkMjJS67i/vz/BwcEMGDCAmjVrEhYWRq9evXj48CEWFhZ88MEHDB8+PM9jFUII8X7RS0lJkR3KQuQD1dLrug5BCFHIpPQ103UIr1UQNrznpYKQj+wZE0IIIYTQISnGhBBCCCF0SPaMCZFPCsPlhpwoCEv4eamo5QNFLyfJR7xvZGVMCCGEEEKHpBgTQgghhNAhKcaEEEIIIXRIbm0hRD6RW1sIIYRu5GbPbkHY0ycrY0IIIYQQOiTFmBBCCCGEDkkxJoQQQgihQ1KMvWccHBwIDQ196z5CCCGEyBtSjBVSS5cuxdTUlLS0NKUtLS0NExMTXFxctPomJSWhUqnYs2dPjsaOjo6mf//+ynOVSkVUVNQbxxoSEoJKpXrl4/Lly288/qusWrUKM7OicfNVIYQQRZMUY4WUu7s7Dx8+5MiRI0rb4cOHKV++PBcuXOCff/5R2jUaDSVLlsTJySlHY1epUgVDQ8M8izUgIICEhATlUbNmTfz9/bXazM3Nlf7PF5hCCCFEUSfFWCFlY2ODiYkJGo1GadNoNHh4eNCgQQNiYmK02ps0aUKpUqUASE1NZciQIVhYWGBnZ8e8efO0xn7+MqWDgwMAvXv3RqVSKc8BtmzZgoeHB2q1mnr16jFlypQXFlJly5ZFrVYrjxIlSlCmTBnl+cSJE+nZsyfff/89dnZ22NnZAbB27Vo++OADzM3NsbGxoXfv3vz1119aeT1b8WvVqhUmJia0aNGC48ePK8cHDRrEgwcPlBW4kJAQAFJSUvDx8aFatWoYGxvTuXNnzpw5o4xta2vLhg0blOdt27bF3Nyc9PR04P9WG69fl9tXCCGEeDtSjBVi7u7u2YoxNzc33NzctNpjYmJwd3dXns+fPx87Ozv27NnD119/zfjx4zl48OAL54iOjgZg3rx5JCQkKM937dqFt7c3X331Ffv37ycsLIyoqCgmT578RrnExsZy6tQpIiIilEuiaWlpjB49mpiYGNauXUtycrLW5dNnJk2axIQJE9izZw+VKlXC29ubrKwsnJycCAkJwdDQUFmBCwgIAMDX15cjR47wyy+/sGvXLkqXLo2npyePHj0CoFmzZkpB+/DhQ44ePYqBgQHHjh1TXtPq1avLJVAhhBBvTT4ovBBzc3MjKCiIx48fk5WVxaFDh5g3bx7m5uaMGjUKgHPnznHz5k2aN2+unNeyZUu8vb0BGDhwID/88AN79uyhadOm2eaoUqUKABUqVECtVivtM2fOJCAggC+++AKA6tWrM3HiRAYOHMiUKVPQ09PLVS4lS5YkLCyMkiVLKm1ffvml8rWVlRWzZ8+madOmXL9+XasIGjt2rJJfUFAQbdu25a+//sLMzIzy5cujp6enFfuFCxfYsmULmzdvplmzZgD88MMPODg4sH79enr16oWbmxvz588H4ODBg1hZWdGoUSNllTEmJgY3N7dc5SiEEOLdSExMzPP++XljWCnGCrHmzZuTmprKwYMHycrKokqVKlhbW6NWq7l48SK3bt1Co9FgaGhI48aNlfPs7e21xjE2Nub27du5mvvEiRMcPXqUuXPnKm2ZmZk8evSIW7dusWrVKmbPnq0c279/PxYWFi8dr06dOlqFGMDx48eZNm0aJ0+eJCUlhayspx8Wce3aNa1i7Pl8jI2NAbh9+/ZLV60SEhIoVqyYVvFZoUIF7OzsOHv2LPC00B06dCg3b95UVhYbNmzIhg0bGDp0KLGxsYwfP/61r5MQQoh3LzeFU0G4A78UY4WYlZUVFhYWxMTEkJWVpazylClTBkdHR2JiYoiJicHZ2Rl9fX3lvOe/BtDT01MKnZzKzMxk5MiRdOnSJduxKlWq0K9fP7p27aq0mZiYvHK8MmXKaD1/8OABn376KS1atOCHH36gatWqJCcn065du2z70p7P59mKXG7z+e/5tWrVQq1Wo9FoiImJwcfHhwYNGhAUFERCQgLXr1+XlTEhhBB5QoqxQu7ZvrGsrCx69OihtLu5ubF3715iYmIYNGjQW82hr69PRkaGVlv9+vU5d+4c1tbWLzynYsWKVKxY8Y3nTExMJDk5mW+++QYrKysANm7cmOtxDAwMssVua2tLZmYmBw8eVArYu3fvcvr0aXr27Kn0a9asGdu3b+fYsWO4ublRpUoVKlWqxNy5c2W/mBBCiDwjG/gLOXd3dw4fPsyRI0e0VmqaNWtGZGQkt2/f1tq8/yYsLS3Zs2cPt27dIiUlBXi6NysiIoJvv/2W06dPc+7cOaKiovLs0p25uTklS5Zk0aJFXLp0iW3btvHdd9+9UeypqalER0eTnJzMw4cPqVGjBu3btycwMJB9+/Zx6tQpvL29KVeuHN26dVPOdXNz49dff8Xa2lrZO+fm5sa6detkVUwIIUSekWKskHN3dyctLY2qVatqrVI5Ozvz6NEjypcvj6Oj41vNERwcjEajwd7eXinsWrVqxbp164iJiaFVq1a0atWKOXPmaN0v7G1UqVKFBQsWsHnzZpycnJg2bRrffvttrsdxcnKiX79+9O/fnxo1aih73ObPn0/Dhg3p0aMHrVq14tGjR0RERFC6dGnlXDc3N9LT07UKrxe1CSGEEG9DLyUl5c021wghXkm1VO5BJoQQupDSN+fbSArCBn5ZGRNCCCGE0CEpxoQQQgghdEjeTSlEPsnNMnlBVhCW8PNSUcsHil5Okk/BVtTyKQhkZUwIIYQQQoekGBNCCCGE0CEpxoQQQgghdEhubSFEPpFbWwgh3leFac9sQdgDJytjQgghhBA6JMWYEEIIIYQOSTEmhBBCCKFDUozpgEqleuXD19c33+Z2cHAgNDQ038Z/1bzP8qtUqRJ16tQhMDCQe/fuvfNYhBBCiIJEbvqqAwkJCcrX27ZtY/DgwVptpUqV0ur/5MkT9PX131l8+SUoKIj+/fuTkZHBuXPn8Pf3R09Pj9mzZ7/xmGlpaRgYGGRrLyqvmRBCiKJPVsZ0QK1WK48KFSpotaWmplKtWjUiIiLo2LEjxsbGLF26lDt37tC/f3/s7OwwNjbG2dmZlStXao3boUMHhg0bxuTJk7G2tsbGxoZx48aRmZmpHL969SrffPONskr1zMaNG3F1dcXIyAh7e3tmzpxJVtbTN9r+9NNPNGnSROm7e/duVCoVc+bMUdq8vb0JCAh4Zd7lypVDrVZjampKixYt6NKlCydOnFCO5zTHoUOHMm7cOGrUqEGbNm3QaDSoVCq2b99Oy5YtqVq1Krt27eLx48eMGjWKmjVrolarad26NXFxccpYrVu3zpaDSqXi1q1bADx8+BAjIyPlnNjYWFq3bo2ZmRmWlpa0bNmS06dPvzJnIYQQ4nWkGCugJk2axIABA9i/fz8dOnQgNTWV+vXrs2bNGvbv34+Pjw+BgYHs2bNH67z169dTvHhxtm/fzowZM1iwYAGRkZEArFy5EjMzM4KCgkhISFBW444fP06fPn34+OOP2bdvHxMmTGDOnDn8+OOPALi5uZGYmKgUKTExMVSuXJmYmBhl3tjYWNzc3HKc39WrV/nzzz9p1KiR0pbTHNetW0dWVhZbtmxh4cKFSvvEiRMZN24chw4donHjxowfP55ff/2VsLAw9u7di52dHZ6enty8eVPJ6785PJ/XwYMHKVGiBI0aNSI9PZ2ePXvi7OxMTEwMO3fuxNfXl+LFi+c4ZyGEEOJFpBgroLy9vencuTNWVlaYmZlhamrK4MGDqVevHlZWVvTp04eOHTsSERGhdZ6trS1jx47FxsaGrl274u7urhQzFStWpFixYsoKlVqtBiA8PJxmzZoxZswYbGxs+Oyzz/D392fu3LkA1KpVC7VajUajAZ4WYwEBAezfv5/09HSSkpK4fv36a4uxKVOmYGZmhrGxMQ4ODlSoUIHx48crx3Oao6WlJd9++y21atXC1tZWaR85ciQtW7bEysqK0qVL89NPPzFx4kTatGmDra0tc+bMoWrVqixevBh4Wow9n8Pdu3fp27evVp5NmjTBwMCAe/fu8e+//9K2bVuqV69OrVq16Natm9b8QgghxJuQPWMFVIMGDbSeZ2RkMGfOHCIjI7lx4wZpaWmkpaVlK4Ds7e21nhsbG3P79u1XzpWQkMBHH32k1ebi4sK0adO4e/cu5cuXp1mzZsTExNC+fXuOHj3K8uXLWbJkCUePHuXs2bNUr14dM7OnN/l79l+Azz77TLkUOGjQIL788kuysrK4du0aU6ZM4bPPPuP333+nWLFiOc7R0dHxta/ZxYsXefLkCc7Ozkpb8eLFadq0KWfPngXA2dmZx48fKzk4Ozvj4eFBYGAg8LQYa9WqFfC0kO3ZsyeffvopHh4eNG/enM6dO2NhYfHK11YIId5HiYmJug4hV3ISb37eGFaKsQKqTJkyWs9DQ0MJCwtj6tSp2NnZUbZsWSZPnpyt0PrvpnU9PT1l79eb0NPTA56uIoWHh3Pw4EGsra0xMjLCzc0NjUZDQkKCVsH0bGUJnu4Te6ZSpUpYW1sDUKNGDQwNDfnwww/RaDR4eHjkOMf/vjava39ZTmXLlsXR0VHJwd3dnSZNmnDt2jWSkpI4evQoEyZMUM6bP38+vr6+7Nq1iy1bthAcHMyqVauUgk0IIcRTur6jfW7IHfhFjsXFxdG2bVu6d+9OvXr1qF69OufPn8/1OAYGBmRkZGi12dracuDAgWzzmZmZKcWUm5sbFy5cYN26dUrh9awY++9+MWtra+VRtWrVl8bybL/Vw4cP8zRHgOrVq2NgYMD+/fuVtoyMDA4ePKh1afG/OZQqVYpGjRoxc+ZMZb/Y8xwcHBgyZAibN2/Gzc2N1atXv1F8QgghxDNSjBUSNjY27N27l7i4OM6dO8eIESO4cuVKrsextLQkLi6Ov/76i+TkZODp5cPY2FhCQkI4f/4869atIzw8nMGDByvnPds3tm7dOtzd3YH/2wCfk/1iAPfu3ePWrVvcvHmTI0eO8M0331ClShWcnJzyNEd4ukrWr18/Jk6cyPbt20lISGDo0KHcvn2bAQMGKP2e5XDv3j3q16+vtK1bt07ZLwZw6dIlJk6cyIEDB7hy5Qp79+7l1KlTsmdMCCHEW5NirJAYMWIEDRs2pFu3brRv3x5DQ0O6deuW63HGjBnDtWvXaNCgATVq1ACe7sFatmwZmzZtwsXFhUmTJjFkyBC8vb21zm3WrBkZGRk0a9YMgGrVqmFiYqK1X+xVpk+fjq2tLbVr18bLy4syZcoQGRlJpUqV8jTHZyZNmkTXrl0ZNGgQ7u7unDp1ioiICIyNjZU+z/aUubi4KCt1bm5upKenaxWYhoaGnD9/nj59+tC4cWP8/Pzo1q0bQ4YMeeP4hBBCCAC9lJSUN99QJIR4KdXS67oOQQghdCKl7+v/gV5QyJ4xIYQQQoj3nBRjQgghhBA6JLe2ECKfFKZl+lcpCEv4eamo5QNFLyfJp2AravkUBLIyJoQQQgihQ1KMCSGEEELokBRjQgghhBA6JMWYEEIIIYQOyX3GhMgncp8xIYQoGF71hqqC8IYEWRkTQgghhNAhKcaEEEIIIXRIijFR4Gg0GlQqlfJB5kIIIURRJsWYyFO+vr54eXlptW3duhUTExOCg4N1FFV2HTp0YMSIEboOQwghhJA78Iv8tWbNGgYPHsykSZPw9fXVdThCCCFEgSMrYyLfzJ8/n8GDBxMaGqoUYqtWrcLMTPtdLa+7LHnnzh369++PnZ0dxsbGODs7s3LlSq0+sbGxtG7dGjMzMywtLWnZsiWnT5/OcawdOnRg2LBhTJ48GWtra2xsbBg3bhyZmZlKn7S0NCZPnkzdunUxMjKifv36LFy4MMdzCCGEEC8iK2MiXwQHBxMeHs7KlSv56KOP3mqs1NRU6tevz9dff0358uXZvXs3gYGBWFhY4OHhQXp6Oj179uTLL79k0aJFPHnyhBMnTlC8ePFczbN+/XoGDhzI9u3bOXnyJAMGDMDR0RFPT0/g6SXYuLg4QkJCqF+/PleuXOH6dbl9hRBCiLcjxZjIc9HR0Wzbto21a9e+dSEGYGpqyuDBg5Xnffr0Ye/evURERODh4cG9e/f4999/adu2LdWrVwegVq1auZ7H1taWsWPHAmBjY8PPP//Mnj178PT05MKFC2zYsIGIiAhat24NgJWV1VvnJoQQIv8lJia+1XEgX+9FJsWYyHN16tTh7t27TJs2DScnJ1Qq1VuNl5GRwZw5c4iMjOTGjRukpaWRlpaGm5sbABUrVqRnz558+umneHh40Lx5czp37oyFhUWu5rG3t9d6bmxszO3btwGIj4+nWLFiuLu7v1UuQggh3r1XFVJy01dRJBkbG7N582bu3r1Lly5dSElJUY4VK1aMrCztD31IT09/5XihoaGEhYUxePBgoqKi0Gg0dOjQgbS0NKXP/Pnz2blzJ66urmzZsoUmTZqwa9euXMWtr6+v9VxPTy9brEIIIURek2JM5AtTU1N+//13Hj58SKdOnbhz5w4AVapU4eHDh9y9e1fpe/LkyVeOFRcXR9u2benevTv16tWjevXqnD9/Pls/BwcHhgwZwubNm3Fzc2P16tV5lo+DgwOZmZloNJo8G1MIIYQAKcZEPjI2Nub333/nyZMndOzYkeTkZBo3bkyZMmWYPHkySUlJREVFsXjx4leOY2Njw969e4mLi+PcuXOMGDGCK1euKMcvXbrExIkTOXDgAFeuXGHv3r2cOnUKW1vbPMvFxsaGrl27Kqtzly5dYt++faxZsybP5hBCCPF+kmJM5CsjIyM2bdoEQMeOHUlPT+fHH38kOjoaV1dXfv75Z2XT/MuMGDGChg0b0q1bN9q3b4+hoSHdunVTjhsaGnL+/Hn69OlD48aN8fPzo1u3bgwZMiRPc1m4cCGenp6MGjWKpk2b4ufnp7XCJ4QQQrwJvZSUFNkUI0Q+UC2V214IIURBkNLX7KXHZAO/EEIIIcR7TooxIYQQQggdkvuMCZFPXrUsXpgUhCX8vFTU8oGil5PkU7AVtXwKAlkZE0IIIYTQISnGhBBCCCF0SIoxIYQQQggdkj1jQuSTonNrC0OIKSq5QNHLB4peTu9fPkVlj6l4M7IyJoQQQgihQ1KMCSGEEELokBRjQgghhBA6JMWYEG/Iy8sLX19fXYchhBCikJNiTOSar68vXl5eWm1bt27FxMSE4OBgHUWVcw4ODoSGhr7wmEajQaVSkZyc/I6jEkII8b6Sd1OKt7ZmzRoGDx7MpEmTZKVICCGEyCVZGRNvZf78+QwePJjQ0FCtQmzjxo24urpiZGSEvb09M2fOJCsrSzmelpbGhAkTsLOzw8TEhA8++IBdu3Ypx5+tUG3duhU3NzfUajUeHh4cP35c6bNq1SrMzMzYsmULjRo1Qq1W8/HHH3Pp0qU3yuXy5ct07NgRgBo1aqBSqZScHj58iK+vL2ZmZtSsWZNZs2a90RxCCCHEf0kxJt5YcHAwU6ZMYeXKlVqXLY8fP06fPn34+OOP2bdvHxMmTGDOnDn8+OOPSp9BgwYRGxvLokWLiIuLo0ePHnTv3p2TJ09qzfHNN98wadIkoqOjsbKywsvLi4cPHyrHHz9+zLRp0wgPD2f79u1kZGTwxRdfaBV+OWVubs7y5csB2L9/PwkJCUydOlWJY/fu3SxfvpyoqCji4+PZt29frucQQggh/ksuU4o3Eh0dzbZt21i7di0fffSR1rHw8HCaNWvGmDFjALCxseHChQvMnTuXgQMHcvHiRSIiIoiPj8fCwgIAb29vdu/ezbJly7RWnUaMGEGrVq2Uce3s7IiIiKBXr14ApKenM3XqVJydnQH44YcfcHR0ZM+ePbRo0SJXORUvXpyKFSsCULVqVSpXrgzA/fv3WbFiBWFhYdliEUKIvJCYmKjrEHKlsMX7OjnJJz8/HF2KMfFG6tSpw927d5k2bRpOTk6oVCrlWEJCQrYCzcXFhWnTpnH37l1OnDhBVlaWUkA98/jxY5o3b67V1rRpU+XrsmXLYm9vz9mzZ5W2YsWK0ahRI+W5paUlJiYmnD17NtfF2MtcvHiRtLS0F8YihBB5IT//0Oe1xMTEQhXv6xSEfKQYE2/E2NiY1atX06lTJ7p06cJvv/2mVZC9jJ6eHpmZmejp6fHnn3+ir6+vdbxUqVK5jkVPTy/X5wghhBAFhewZE2/M1NSU33//nYcPH9KpUyfu3LkDgK2tLQcOHNDqGxcXh5mZGeXKlaNevXpkZWVx69YtrK2ttR6mpqZa5x06dEj5+sGDB5w+fRpbW1ulLTMzkyNHjijPr169yo0bN7T65IaBgQEAGRkZSlv16tXR19d/YSxCCCHE25JiTLwVY2Njfv/9d548eULHjh1JTk5WNueHhIRw/vx51q1bR3h4OIMHDwae7iH77LPP8PPzIyoqikuXLnHs2DFCQ0PZuHGj1vgzZ84kOjqaM2fO4O/vj4GBAZ6ensrxEiVKMHr0aA4ePEh8fDy+vr7Url37tZcob9y4QXx8vNYjOTkZCwsL9PT02LZtG//88w/379+nbNmyfPnll0ycOFErlszMzDx/PYUQQrx/pBgTb83IyIhNmzYB0LFjR8zMzFi2bBmbNm3CxcWFSZMmMWTIELy9vZVzwsPD+fzzzxk/fjxNmjTBy8uL2NhYLC0ttcaeMGECY8eOxcPDgwsXLrB27VrKlCmjHC9ZsiTDhg3Dx8eH1q1bk5mZycqVK1976XL+/Pk0b95c67FhwwZMTU0ZPXo0wcHB1KxZkxEjRgAwZcoU3Nzc+OKLL+jYsSN16tTB1dU1r15CIYQQ7zG9lJSU3N8DQIh8ptFo6NixIxcuXFDe1fhfq1atIigoiOvXr7/j6HJGtbRgxiWEKHhS+prpOoQcKwgb3vNSQchHVsaEEEIIIXRI3k0pRD4pTP/SfZWC8K/GvFTU8oGil5PkI943sjImCiR3d3dSUlJeeokS4PPPPy+wlyiFEEKInJJiTAghhBBCh6QYE0IIIYTQISnGhBBCCCF0SDbwC5FPis6tLQwhpqjkAkUvHyh6ORXNfIrKm3pE3pOVMSGEEEIIHZJiTAghhBBCh6QYE++USqUiKirqpc+FEEKI940UYwIAX19fvLy8tNq2bt2KiYkJwcHB+TZvQkICbdu2zbfxn+nQoYPyOZMv8rqiMCsri+XLl/Phhx9ibm6OhYUFzZs3Z+7cudy9ezc/QhZCCPGekA384oXWrFnD4MGDmTRpEr6+vvk2j1qtzrex89LAgQPZuHEjQ4cOZerUqVSpUoWzZ8+yaNEiqlSpwueff67rEIUQQhRSsjImspk/fz6DBw8mNDRUqxA7cOAA7du3x8TEhDp16jB06FCtVaGsrCzmzp2Lo6MjxsbGuLq6snbt2lfO9fyK1OXLl5XnXbp0wcTEBCcnJ6Kjo7XO2bZtG40bN0atVtOuXTs2bNiASqXi8uXLefgq/J9ff/2VdevW8eOPPxIUFESjRo2oVq0abdq0ISIigg4dOuTLvEIIId4PUowJLcHBwUyZMoWVK1dqXbY8deoUn3zyCe3atSMmJoYVK1Zw8uRJ/P39tc5dsWIFM2fOZP/+/QQGBhIYGMi2bdtyHcPAgQOJiYmhQYMG9OvXj/v37wNw9epVvvzySz766CNiYmLw8fFhwoQJeZP8S6xbtw4bGxs6der0wuMqlSpf5xdCCFG0yWVKoYiOjmbbtm2sXbuWjz76SOvYvHnz6Nq1KwEBAUrbrFmzaN68Obdv38bQ0JDw8HAiIyNxdXUFwMrKiiNHjrB48WLatGmT4zj8/Pxo164dAOPHj2fNmjWcPHkSFxcXfvrpJ6ysrPjuu+8AqFmzJufPn2fKlClvm/5LJSUlyYf8CiHeWmJioq5DyDNFKRfIWT75+XdAijGhqFOnDnfv3mXatGk4OTlprficOHGCpKQkfv31V6UtKysLgIsXL1KiRAlSU1Px9PRET09P6fPkyRMsLS1zFYe9vb3ytYmJCQC3b98G4Ny5czRo0ECrf+PGjXM1fm49y1MIId5GUflHXWJiYpHJBQpGPlKMCYWxsTGrV6+mU6dOdOnShd9++00pyDIzM+nVqxd+fn7ZzjMxMeHUqVMArF69GgsLC63jJUrk7sdMX19f+fpZYafLgqhGjRqcO3dOZ/MLIYQo2mTPmNBiamrK77//zsOHD+nUqRN37twBoH79+pw5cwZra+tsj9KlS2Nra0vJkiW5evVqtuO5XRl7lVq1anH8+HGttiNHjuTZ+C/SrVs3Lly4wMaNG194PCUlJV/nF0IIUbTJypjIxtjYmN9//53OnTvTsWNHNm7cyNdff82HH35IYGAgffr0oVy5cpw7d46tW7fy/fffU65cOQICAvjmm2/IysqiWbNm3L9/n8OHD1OsWDH69OmTJ7H17duX8PBwxo0bR+/evTlz5gxLly4F0Lo8+iLJycnEx8drtVWtWlW5FHrlypVsx62srOjatSu///473t7enD17ltatW1OlShXOnTvHjz/+SOfOneXWFkIIId6YFGPihYyMjNi0aZNSkEVFRfHHH38QHBzMxx9/TEZGBlZWVlq3dRg7dixVq1YlLCyMYcOGUa5cORwcHPj666/zLC5LS0uWL1/O2LFjWbRoEQ0bNmTkyJH4+/tTqlSpV54bGRlJZGSkVpu/v79yU9tvvvkm2zlr1qyhbdu2LFmyhJ9//pkVK1Ywd+5cihUrhpWVFZ6eni99l6UQQgiRE3opKSmyO1kUagsWLCAkJITLly+/dnXsXVItva7rEIQQBUhKXzNdh5AnCsKG97xUEPKRlTFR6DxbEatcuTKHDx9mxowZ9OjRo0AVYkIIIUROSTEmCp2kpCRmz57NnTt3MDU1pV+/fgQFBek6LCGEEOKNyGVKIcQrFYQl/LxU1PKBopeT5FOwST55T25tIYQQQgihQ1KMCSGEEELokBRjQgghhBA6JBv4hcgnRefWFoYQU1RygaKXDxS9nCSfvFZUbqtRVMnKmBBCCCGEDkkxJoQQQgihQ1KMCSGEEELokBRj4q2Fhobi4ODwzuYLCQnBxcXlpc+FEEKIwkSKsfeIr68vXl5eug7jpVQqFVFRUdnaR4wYofWB5AEBAWzevPldhqZYtWoVZmayEVYIIUTekXdTihxLS0vDwMBA12FQtmxZncz75MkTncwrhBCiaJOVsffYypUrcXJyQq1W06hRI8LDw8nMzFSOq1QqFi1axBdffIGpqSmTJ08GYO7cudSqVQszMzMGDhzI/fv3cz3223jdZclnK4AzZsygZs2amJmZ4efnx6NHj5Q+WVlZzJ07F0dHR4yNjXF1dWXt2rXK8cuXL6NSqYiIiKBjx44YGxuzdOlSBg0axIMHD1CpVKhUKkJCQvIkJyGEEO8vWRl7T/3888989913TJ8+nfr163PmzBm+/vpr9PX18fb2VvpNmzaN8ePHExwcDMCvv/5KcHAw06dPx93dnd9++425c+eiUqlyPXZ+io2NpVSpUkRFRXHjxg38/f2ZMGEC06dPByA4OJioqChmzpyJjY0Nhw4d4uuvv0alUtGmTRtlnEmTJhEcHExoaCjFixcnIyODKVOmcOzYMQDKlCnzTvIRQghRdEkx9p6aMWMGkyZNonPnzgBYWVlx8eJFlixZolUwde3alV69einPvb296dGjB3379gVg+PDhaDQakpKScj32iwwcOBA/Pz+ttrS0NJo2bZqr/IoVK0Z4eDhly5bFzs6OiRMnEhAQwIQJEwAIDw8nMjISV1dXJcYjR46wePFirWLM29tbyQOgfPny6OnpoVarcxWPEELoUmJiYoEeT9dykk9+fpi4FGPvoX/++Ydr164RGBjIsGHDlPb09HSysrK0+jZo0EDreUJCAl9++aVWW5MmTZRiLCdjBwYGsm7dOuXY9ev/d2fqyZMn07p1a63xp06dqtUnJ+zt7bX2ljVt2pS0tDQuXrxIWloaqampeHp6oqenp/R58uQJlpaWr8xfCCEKo7wsJBITE/O1MHnXCkI+Uoy9h57t3Zo9ezZOTk6v7Jvby3A5GXvMmDEEBAS88Jharcba2lqrrUKFCrkuxnIS4+rVq7GwsNA6VqKE9v8SchlSCCFEfpNi7D1kZGSEiYkJFy9epEePHrk619bWlsOHD2utjh0+fDhXY1etWpWqVau+WfA5dPr0aR48eKAUU4cOHcLAwIDq1auTmZlJyZIluXr1Kh4eHrka18DAgIyMjPwIWQghxHtKirH31OjRowkKCqJChQp89NFHPHnyhBMnTnDjxg2GDh360vN8fHzw8fGhYcOGuLm5ERUVxZEjR7Q28L/p2HkpIyMDf39/goKCuHnzJpMmTaJ3795KcRYQEMA333xDVlYWzZo14/79+xw+fJhixYrRp0+fl45raWlJamoq0dHR1KtXj9KlS2NoaPhOchJCCFE0STH2HsnMzKR48eIA9OrVC0NDQ+bNm8fkyZMpVaoUderU4auvvnrlGJ988gmXLl1iypQpPHr0iHbt2uHn58cvv/yi9HnTsfNSs2bNqF27Nh07duTRo0d07NiRSZMmKcfHjh1L1apVCQsLY9iwYZQrVw4HBwe+/vrrV47r5OREv3796N+/P3fu3GHkyJGMHj06v9MRQghRhOmlpKRkvb6bKAq6du1K9erVmT17tq5DyVe+vr7cuXNH675huqBamnf73IQQ4m2k9M27Tw4pCBve81JByEdu+voeSE5OZvPmzcTGxtKiRQtdhyOEEEKI58hlyvdAnz59SEpKYvDgwXTs2FHX4QghhBDiOXKZUgjxSgVhCT8vFbV8oOjlJPkUbJJP3pPLlEIIIYQQOiTFmBBCCCGEDkkxJoQQQgihQ7KBX4h8UnRubWEIMUUlFyh6+UDRy0nyyUt5eVsLkT9kZUwIIYQQQoekGBNCCCGE0KF8KcYcHBwIDQ3Nj6EBCAkJwcXFJd/GL2hUKhVRUVHvfN7k5GRUKhUajeadzw1w7NgxVCoVly9f1sn8QgghxLvw2mLM19cXlUqV7REfH//Sc6Kjo+nfv7/yXFfFxOuEhIQo+VSsWJHatWvz1Vdfce3aNV2HVugcP36cSpUq0aZNG12HIoQQQhQqOVoZa9GiBQkJCVoPOzu7bP3S0tIAqFKlCoaGhnkbaT6pWbMmCQkJnD59mp9++olTp07Rt29fXYdV6KxYsYL+/ftz5swZEhISdB2O4tnPpBBCCFFQ5agYK1myJGq1WutRokQJOnTowNChQxk3bhw1atRQVkWev0zp4OAAQO/evVGpVMrza9eu0aNHD6ysrDAxMaFJkyZs2LBBmfPGjRt89dVXVK9eHRMTE9zc3Ni7d69WXBs2bMDR0RFzc3N69uxJcnJyrl+AEiVKoFarMTExwdXVld69e3Po0CHu3r0LvPiS6KpVqzAz+793p7wul2nTplG3bl2MjIyoVasWAwcOVI5lZWUxd+5cHB0dMTY2xtXVNdcfcH306FG6du2KtbU1FhYWtG3bloMHD2r1UalULFu2jN69e2Nqakr9+vWzzXP06FE8PDxQq9W4u7tz+PDhHM3/6NEj1q9fT58+fejUqRMrVqzQOn758mVldbRLly6YmJjg5OREdHS0Vr+dO3fSpEkT1Go17dq14/z589nmOnDgAO3bt8fExIQ6deowdOhQ5XsFvPRncunSpTRq1Ai1Wo21tTWffPIJ6enpAGRmZjJ9+nTs7e0xMjLC1dWVzZs35zp+IYQQ4k289Z6xdevWkZWVxZYtW1i4cGG248/+YM2bN4+EhATl+bBhw3j06BGbNm0iLi6OkJAQKlSoAMCDBw/o0KEDV65cYdWqVezbt4+goCCtca9cuUJkZCQrV64kMjKS+Ph4pkyZ8la53Lp1i02bNlG8eHGKFy+e4/NelUtUVBRhYWHMmjWLI0eOsHbtWho1aqScGxwczIoVK5g5cyb79+8nMDCQwMBAtm3bluP57927h5eXF1u2bGHXrl04ODjQrVs37ty5o9Vv+vTptG/fnpiYGD755BP8/f25evUqAPfv3+ezzz7DysqK6OhoJk6cyDfffJOj+aOiorCwsMDe3h4vLy/WrFnDkydPsvULDg5m4MCBxMTE0KBBA/r168f9+/eBpwXt559/TosWLdBoNHh7ezNhwgSt80+dOsUnn3xCu3btiImJYcWKFZw8eRJ/f3+tfv/9mTx27BjDhw9n5MiRHDp0iKioKFq1aqX0X7BgAaGhoUycOJF9+/bRoUMHvvzyy2yX4l8VvxBCCPGmcnSfsZ07d2qtBLm4uBAREQGApaUl33777UvPrVKlCgAVKlRArVYr7VevXqVTp07KSpmVlZVyLCIigr///psdO3ZQuXJlAKpXr641bnp6OvPnz1eKnj59+rBq1aqcpKMlISEBMzMzMjMzefToEQADBw6kTJkyOR7jVblcvXoVtVpNy5Yt0dfXx8LCggYNGgBPi87w8HAiIyNxdXVVzj1y5AiLFy/O8f4rDw8PrefTp09n48aN7NixAy8vL6Xdy8tLeT527FgWLlzIvn378PLyIiIigrS0NMLDwylbtix2dnYMGzZMaxXvZVasWEH37t0BcHNzo3Tp0vzxxx907txZq5+fnx/t2rUDYPz48axZs4aTJ0/i4uLCTz/9hLm5OdOnT0dPT49atWpx/vx5rZ+tefPm0bVrVwICApS2WbNm0bx5c27fvk3VqlWB7D+TGzdupEyZMrRr145y5coB/7diCxAWFoa/vz/dunVTXpt9+/YRFhbGjz/+mKP4hRBCiDeVo2LM1dWVuXPnKs9LlSqlfO3o6PhGE/v4+DB06FB27dqFh4cHH3/8sTJWfHw89vb2SiH2IhYWFkohBmBsbMw///yT6ziqV6/O+vXrefz4MX/88QcbN25k/PjxeZZLly5dWLhwIfXr16dly5a0bt2adu3aUbJkSRISEkhNTcXT0xM9PT1lvCdPnmBpaZnj+W/fvs23336LRqPh9u3bZGRk8OjRo2xvRLC3t1e+LlGiBJUrV+b27dvA06LU3t6esmXLKn2aNm362rmTkpLYv38/ixcvBkBPT4/PPvuMFStWZCvGnp/fxMREif3Z/I0bN9Z6Hf47/4kTJ0hKSuLXX39V2rKynn7O/cWLF5Vi7L8/kx988AHm5ubUr1+fVq1a8cEHH9CxY0fKlSvH3bt3uXHjBs7OzlrnuLi4sH379hzHL4QQBVViYmKhGFOXcpJPfn6YeI6KMUNDQ6ytrV94LDcrSM/r1asXrVq1YseOHezevZuPPvqIwMBARo8enaPz9fX1tZ7r6emRmZmZ6zgMDAyU3OrUqcOFCxcYPnw4CxYsAKBYsWLKH/xnnu01ykku5ubmHD58mD179rB7927GjRvHtGnT2LlzpxLv6tWrsbCw0BqzRImcfziCr68vf//9N9999x2WlpaULFmSTp06Zdu8/qLX7L+55dby5cvJyMigbt26StuzMa9du4a5ufkL539WdOVm/szMTHr16oWfn1+2Y8+KI8j+M1muXDn27t1LbGwsu3fvZs6cOUyZMoU///zzlT+/zxeGeRG/EELoQl4XEYmJiflamLxrBSGfd3LTV319fTIyMrK1m5mZ0adPH5YtW8aYMWP4+eefAahXrx6nTp16ow35b2vEiBGsW7eO48ePA08vs/79999af3RPnjyZ7byX5QJPVxLbtGlDSEgIf/75J2fOnOHAgQPY2tpSsmRJrl69irW1tdYjNytj+/fvx9vbmzZt2lCnTh3Kli3LrVu3cpW3ra0tp0+f5sGDB0rboUOHXnlOeno6q1evZsKECWg0GuURExODvb19ri4b29racuTIEa3X+b/z169fnzNnzmR7raytrSlduvQrxy9RogQeHh5MmDCB2NhYHjx4wLZt2yhfvjwmJibs379fq39cXBy2trY5jl8IIYR4U++kGLO0tGTPnj3cunWLlJQUAEaOHMnOnTu5dOkS8fHx7Ny5U/nj5+npSZUqVejZsyf79u3j0qVL/PHHH9neTZkfqlevTvv27ZU9R25ubvzvf/9j1qxZXLx4keXLl2e7Z9qrclm1ahXLly/n1KlTXLp0iVWrVqGvr4+1tTXlypUjICCAb775hhUrVpCUlER8fDw//fQTy5Yty3HMNWrUYN26dZw9e5ajR4/Sr18/DAwMcpW3p6cnJUqUwN/fnzNnzhAdHc2sWbNeec62bdtITk6md+/e2NnZaT0+/fRTVq1aleOVo759+3LlyhVGjRpFYmIiUVFRLF26VKvP119/zdGjRwkMDFQuWW7dupUhQ4a8cuytW7eyYMECTpw4wZUrV1i/fj3379+nVq1aAAQEBBAWFkZERISyTy0uLk5rb5oQQgiRX95JMRYcHIxGo8He3h53d3fg6SWnoKAgnJyc6Nq1K0ZGRsqlwTJlyrB582ZMTU3p3r07Li4uhISEZLts9CoajeaN7x7v7+/Pjh07lNWr2bNns2zZMpo1a8bu3bsZOnSoVv9X5VKhQgVWrFhBu3btcHV1ZePGjaxYsULZ5D927FhGjRpFWFgYzs7OdO3alY0bN1KtWrUcxxsWFsaDBw9o0aIF/fr144svvsjVyhpA2bJlWbt2LRcuXMDDw4Nx48YxceLEV56zYsUK3N3dqVSpUrZjXbp04cqVKzm+/YOFhQUrVqxg165duLm5MX/+/Gzvpqxbty5//PEHV65c4eOPP8bNzY3Jkycre8VepkKFCmzevJkuXbrQtGlTwsLCmDdvnvKmCR8fHwICApgwYQIuLi5s3ryZ5cuXa23yF0IIIfKLXkpKSpHc9LJy5UomTZrEoUOHUKlUug5HvIdUS6/rOgQhhCClr9nrO+VCQdhjlZcKQj5F9oPCd+zYwcSJE6UQE0IIIUSBlvO37BUyz2+gF0IIIYQoqIpsMSaEruX1pQFdKQhL+HmpqOUDRS8nyUe8b4rsZUohhBBCiMJAijEhhBBCCB2SYkwIIYQQQoekGBNCCCGE0CHZwC9EPik69xkzhJiikgsUvXyg6OX0/uVTVN7wI96MrIwJIYQQQuiQFGNCCCGEEDokxVgu+Pr64uXllS9jX758GZVKxbFjx3L0vCB59tmh+UmlUmX7gPa8sGrVKszMXn15IDQ0VD6nUgghRL4p8MWYr68vKpUq2yM+Pv6dxzJ16lR++OGHXJ3zsgLu2LFjqFQqLl++DIC5uTkJCQlF8o9+RkYG33//PU2bNsXExIRq1arRokULFi5cqOvQ+OSTTzh+/HiuzsnPolwIIcT7p1Bs4G/RokW2Iqhy5crZ+qWlpWFgYJBvcVSoUCHfxi5evDhqtTrfxtelqVOnsmTJEmbMmEGjRo148OAB8fHxXL16VdehUbp0aUqXLq3rMIQQQrzHCvzKGEDJkiVRq9VajxIlStChQweGDh3KuHHjqFGjBm3atAEgLCwMV1dXTE1NqVOnDgEBAaSkpCjjPbs0tWPHDpo0aYKJiQndu3fn33//JSoqioYNG2JpaYm3tzePHj1SznuXlylf58mTJwQFBVG7dm2MjIywt7dn4sSJL+1/584d+vfvj52dHcbGxjg7O7Ny5UqtPh06dGDYsGFMnjwZa2trbGxsGDduHJmZmUqf27dv06NHD4yNjalbty4rVqx4baxbtmyhX79+fPrpp1hZWWFvb0+PHj0ICgrS6vfLL7/g6uqKkZERNWvWxMfHR+v4//73P3r37o2pqSn169dn7dq1yrFnr9+GDRto3749xsbGuLu78//+3//j9OnTfPTRR5iamtK2bVsuXbqknPeiy5Rz586lVq1amJmZMXDgQO7fv68cCwkJYfXq1Wzbtk1ZpdVoNK99DYQQQoiXKRTF2KusW7eOrKwstmzZolz2KlasGCEhIcTFxbFo0SKOHDmS7Q//48ePCQsLY9GiRURFRXH8+HF69erFL7/8wvLly1m5ciXbtm1j8eLFukjrtRYuXMjmzZtZsmQJR44c4aeffsLGxual/VNTU6lfvz5r1qxh//79+Pj4EBgYyJ49e7T6rV+/nuLFi7N9+3ZmzJjBggULiIyMVI77+flx8eJFfvvtN1atWsWaNWu4cuXKK2NVq9XExMTw999/v7TP0qVLCQwMpGfPnsTGxrJ+/Xrs7Oy0+kyfPp327dsTExPDJ598gr+/f7bVtZCQEIYMGcLevXupUKECAwYMICgoiHHjxrFr1y5SU1MZOXLkS+P49ddfCQ4OZvTo0ezZs4eaNWsyf/585XhAQABdu3alRYsWJCQkkJCQgJOT0yvzF0IIIV6lUFym3Llzp9bqhYuLCxEREQBYWlry7bffavX38/NTvq5WrRqTJ0+mZ8+eLFy4kGLFntaf6enpzJw5U/nwVk9PT+bPn09iYqJyCfTZH/6AgIA8jR/QWm16E1evXqVGjRq4urqip6eHhYXFK4sCU1NTBg8erDzv06cPe/fuJSIiAg8PD6Xd1taWsWPHAmBjY8PPP//Mnj178PT05Pz58+zYsYOtW7fi7OwMwIIFC3B0dHxlrN9++y29e/fG1tYWW1tbmjRpwocffkjHjh3R09MDYMaMGfj6+uLv76+c999xvby8lJXJsWPHsnDhQvbt26e1Wjlo0CA++ugjAPz9/enevTvLly+nefPmAHz11VfZCvPnLViwgB49etC3b18Ahg8fjkajISkpCYCyZctSqlQpZbVWCCHyQmJioq5DyJXCFu/r5CSf/Pyw90JRjLm6ujJ37lzlealSpZSvX1QI7Nmzhzlz5nDu3Dnu3r1LRkYGaWlp3Lp1CxMTE+Dppc/nX1gjIyPUarXWXjQjIyMSEhLyPH6A06dP88UXX7zxmD179qRr1640atSIli1b8uGHH/Lhhx8qxeZ/ZWRkMGfOHCIjI7lx4wZpaWmkpaXh5uam1c/e3l7rubGxMbdv3wYgISGBYsWK0ahRI+W4paWl8pq+TO3atYmLi+P48ePExcWxb98++vbtS8uWLVm7di3Jycn89ddfWkXhizwfW4kSJahcubIS24v6GBkZvbDtwYMHPHz4EENDw2xzJCQk8OWXX2q1NWnSRCnGhBAiP+TnH/q8lpiYWKjifZ2CkE+hKMYMDQ2xtrZ+4bEyZcpoPb9y5QpeXl706tWLMWPGUKlSJU6cOEH//v1JS0tT+pUooZ26np7eC9vedgXrZfH/+++/bzWmo6Mj8fHx/Pnnn+zZswdfX1/q1q3Lb7/99sKCLDQ0lLCwMKZOnYqdnR1ly5Zl8uTJ2YoZfX19red6enpkZWVla8utYsWK0bBhQxo2bMigQYNYu3YtAwcOJDY2ltq1a+dojJzE9nyfZ3E+/3191pYX31chhBAiLxT6PWP/dezYMdLS0ggJCaFp06bY2Nhw48YNXYeVL8qVK0fnzp2ZPXs269atY+/evS9dwYmLi6Nt27Z0796devXqUb16dc6fP5+r+WrVqkVmZiZHjhxR2q5evfpGr6+trS0ADx48oGrVqpiammbbv6YLtra2HD58WKvtv88NDAzIyMh4l2EJIYQowgrFylhu1KhRg8zMTObPn0/Hjh05fPhwgbifVV4LCwvD2NgYBwcH9PX1Wb9+PeXLl8fU1PSF/W1sbPj111+Ji4ujcuXK/Pjjj1y5ciVX9zWrWbMmrVu3JjAwkO+//55SpUoxduzY194aolevXjg5OeHk5ISRkRGXL19m8uTJGBkZKfvchg0bxpgxY6hatSpt2rTh4cOH7Nmz56336+WWj48PPj4+NGzYEDc3N6Kiojhy5AgqlUrpY2lpyc6dO0lMTKRSpUqUL18+26qdEEIIkVNFbmWsbt26TJ06lfnz5+Ps7Mzy5cuZMmVKvsy1atUqrRu3vkvlypVj3rx5tGrVCg8PD06ePMn69etfuA8KYMSIETRs2JBu3brRvn17DA0N6datW67nnT9/PpaWlnTq1IkePXrQrVs3LC0tX3lOq1at2L59Oz169KBx48b4+PhgYWFBVFQUFStWBKB///7MmDGD5cuX4+LigqenJ2fPns11fG/rk08+YdSoUUyZMoXmzZtz+vRprTeEAPTu3ZtatWrxwQcfUKNGDfbv3//O4xRCCFF06KWkpGS9vpt4ke+++46NGzcSExOTbb+ZEKql13UdghCikEjp++qPZStICsKG97xUEPIpcitj79KOHTuYMWOGFGJCCCGEeGNSRbyF6OhoXYcghBBCiEJOijEh8klhuuzwKgVhCT8vFbV8oOjlJPmI941cphRCCCGE0CEpxoQQQgghdEiKMSGEEEIIHZI9Y0Lkk6JzawtDiCkquUDRyweKXk6ST24Ulf2p7zNZGRNCCCGE0CEpxoQQQgghdEiKMSGEEEIIHZJiTAghhBBCh6QYEy/k6+uLSqVSHtbW1nh5eXHu3Lk8Gb9Dhw6MGDEiT8Z6HY1Gg0qlIjk5+YXHQ0JCcHFxeeUYFy9exN/fH3t7e4yMjKhbty69evXiwIED+RGyEEKI94gUY+KlWrRoQUJCAgkJCURGRvLo0SO++OKLtxozPT2drKzC9dn0x44dw8PDg7NnzzJr1iwOHDjAmjVrcHR0JCgoSNfhCSGEKOSkGBMvVbJkSdRqNWq1GkdHR/z8/Dh37hyPHj1S+kycOJHGjRtjbGyMg4MD48ePJzU1VTn+bNVp1apVODo6YmRkRO/evYmNjWXRokXKytvly5cBiI2NpVWrVqjVamrWrMno0aNJS0tTxuvQoQPDhg1j8uTJWFtbY2Njw7hx48jMzMyX1yArKws/Pz+qVavGtm3baNu2LdWrV6du3boMHTqUqKiofJlXCCHE+0PuMyZy5N69e0RGRmJnZ0fp0qWVdkNDQ8LCwjAxMSEhIYGhQ4diYGDAuHHjlD6XL18mIiKCZcuWYWBggJmZGTdv3qRmzZqMHz8egCpVqvDXX3/RrVs3vLy8mD9/PhcvXmTw4MEUK1aMb7/9Vhlv/fr1DBw4kO3bt3Py5EkGDBiAo6Mjnp6eeZ53fHw8Z86cYdGiRRQvXjzbcZVKledzCiGEeL9IMSZeaufOnZiZPb2Z4IMHDzA3N2fdunVafZ6/TFetWjWGDh1KaGioVjGWlpbGDz/8gJGRkdKmr6+PoaEharVaaVuyZAnGxsbMmjWLYsWKYWtry4QJEwgMDGTs2LEYGhoCYGtry9ixYwGwsbHh559/Zs+ePflSjCUlJQFQq1atPB9bCCHyQmJi4nsxZ37KST75+WHvUoyJl3J1dWXu3LkApKSksHjxYj755BN27tyJubk5AFFRUSxYsICkpCQePHhARkYGGRkZWuOYmppqFWIvk5CQQOPGjSlW7P+unru4uJCWlkZSUhJ169YFwN7eXus8Y2Njbt++/Va5vkxh298mhHj/5GeR8CKJiYnvfM78VBDykT1j4qUMDQ2xtrbG2tqahg0bEhoayr1791i2bBkAhw4dol+/frRs2ZI1a9awd+9exo4dy5MnT7TGKVOmzFvHoqenp3ytr6+f7Vh+FU01atQAyLN3kQohhBD/JcWYyDE9PT2KFSumbODfv38/JiYmBAUF0bBhQ2rUqMHVq1dzNJaBgUG2FTRbW1sOHz6stRk/Li4OAwMDqlevnneJ5EK9evWoXbs28+bNyxYvPF0xFEIIId6GXKYUL/X48WNu3boFPC06Fi1axP3792nbti3wdL/WjRs3WLduHU2bNmXXrl1s2LAhR2NbWlpy5MgRLl++TNmyZalYsSL9+/dnwYIFDBs2DB8fHy5dusSkSZP46quvlP1ib+P06dNUqFBBq+3Zpc/U1FTi4+O1jhkaGmJjY0N4eDhdunShbdu2DBs2DFtbWx4+fMjOnTv59ddf2b1791vHJoQQ4v0lxZh4qd27d2NrawtAuXLlqFmzJsuWLcPd3R2Adu3aMXjwYEaPHk1qaioffPABY8aMYdiwYa8dOyAgAF9fX5ydnXn06BEnTpygWrVqrF+/nvHjx+Pu7k6FChXw9PRU3nH5tjp27Jit7dq1a8DTm7o2b95c65ijoyO7d++mUaNG7N69m1mzZjF06FBu376NWq2mYcOGzJgxI09iE0II8f7SS0lJkR3KQuQD1dLrug5BCPEeSOlr9k7nKwgb3vNSQchH9owJIYQQQuiQFGNCCCGEEDoke8aEyCfv+tJBfikIS/h5qajlA0UvJ8lHvG9kZUwIIYQQQoekGBNCCCGE0CEpxoQQQgghdEiKMSGEEEIIHZJiTAghhBBCh6QYE0IIIYTQISnGhBBCCCF0SIoxIYQQQggdks+mFEIIIYTQIVkZE0IIIYTQISnGhBBCCCF0SIoxIYQQQggdkmJMCCGEEEKHpBgTQgghhNAhKcaEyEOLFy+mXr16qNVqPDw82Ldv3zudf/bs2XzwwQdYWFhQo0YNvLy8OH36tFafrKwsQkJCqF27NsbGxnTo0IEzZ85o9UlJScHb2xtLS0ssLS3x9vYmJSVFq8+pU6do3749xsbG1KlTh2nTppGVpf3m7KioKJycnDAyMsLJyYlNmza9dX4qlYoRI0YU6nxu3ryJj48PNWrUQK1W4+TkRExMTKHMKSMjg+DgYOXnvl69egQHB5Oenl4o8omNjaV79+7UqVMHlUrFqlWrtI4XpNhzEsur8nny5AkTJkzA1dUVU1NTbG1tGTBgAFevXtUa4/Hjx4wYMQJra2tMTU3p3r07169f1+pz9epVvLy8MDU1xdramqCgINLS0rT6xMTE4OHhgVqtpn79+vz000/ZXv/X/c583ffneUOGDEGlUhEaGlpg83kZKcaEyCORkZGMGjWKYcOGsXfvXpo2bUq3bt2y/aLLTzExMfTv359t27axceNGSpQoQZcuXfjf//6n9Jk7dy7h4eFMmzaNP//8k6pVq9K1a1fu3bun9BkwYADx8fFEREQQERFBfHw8AwcOVI7fvXuXrl27YmRkxJ9//snUqVMJDQ0lLCxM6XPw4EH69etHt27d0Gg0dOvWjT59+nD48OE3yu3QoUMsW7YMe3t7rfbClk9KSgpt2rQhKyuLdevWceDAAaZPn07VqlULZU7ff/89ixcvZtq0aRw8eJCpU6eyaNEiZs+eXSjyefDgAXZ2dkydOpXSpUtnO16QYs9JLK/K5+HDh5w4cYLhw4ezZ88efvnlF65fv46np6dW8Tx69Gg2bdrEkiVL+OOPP7h37x5eXl5kZGQATwtwLy8v7t+/zx9//MGSJUvYuHEjY8eOVca4dOkSn332GU2bNmXv3r0MHTqUoKAgoqKilD45+Z35uu/PM1FRURw5cgQTE5NsxwpSPi8j9xkTIo+0atUKe3t75s2bp7Q1bNiQzp07M2HCBJ3EdP/+fSwtLVm1ahXt2rUjKyuL2rVr89VXXzF8+HAAHj16RM2aNZkyZQp9+/YlISEBJycntm7dirOzMwBxcXG0a9eOQ4cOUbNmTZYsWcLEiRM5d+6c8gtyxowZ/PTTT5w+fRo9PT369u3L//73P3777Tclns6dO1OlShWWLFmSqzz+/fdfPDw8mDdvHtOmTcPOzo4ZM2YUynwmT55MbGws27Zte+HxwpaTl5cXFStWZOHChUqbj48P//vf/1i7dm2hysfMzIzp06fz+eefF7jvRU5ieV0+L3L27FmcnZ2JjY3F3t6ef//9FxsbG8LDw/nss88AuHbtGg4ODkRERNCqVSt27NjBZ599xsmTJzE3Nwdg7dq1DB48mMTERMqXL8+ECRPYtGkTR48eVeYKCAjg7Nmz7NixA8j978yX5XPlyhXatGnDb7/9hqenJ97e3gQEBAAU6HyeJytjQuSBtLQ0jh8/TsuWLbXaW7ZsyYEDB3QU1dNiLDMzE5VKBcDly5e5deuWVpylS5fG1dVVifPgwYOULVsWJycnpY+zszNlypTR6uPi4qL1L9VWrVpx48YNLl++DDxdyfrv69GqVas3ej2GDBlC586dad68uVZ7Ycxn8+bNNGrUiL59+2JjY4Obmxs//vijcsmqsOXk7OxMTEwM586dA57+cddoNHz44YeFMp/nFaTYcxLLm3i2qvbsd8Tx48d58uSJ1jzm5ubY2tpq5WNra6sULs9iffz4McePH1f6vCifY8eO8eTJkzz7nZmens6AAQMYPnw4tra22Y4XlnykGBMiDyQnJ5ORkaF1qQmgatWq/P333zqKCkaNGoWDgwNNmzYF4NatW0pcz3s+zr///pvKlSujp6enHNfT06NKlSpafV40xrNjz+bKi9fj559/JikpiXHjxmU7VhjzuXTpEkuWLMHKyooNGzbg4+PDpEmTWLRoUaHMaciQIXh5eeHk5ESVKlVwdnamR48eDBgwoFDm87yCFHtOYsmttLQ0xo0bR9u2bTEzM1PiKV68OJUrV35lzv+No3LlyhQvXvy1Oaenp5OcnJxnvzNDQkKoVKkS/fv3f+HxwpJPidf2EEIUSmPGjGH//v1s3bqV4sWL6zqcN5KYmMjkyZPZunUr+vr6ug4nT2RmZtKgQQPlskX9+vVJSkpi8eLFeHt76zi63IuMjGTNmjUsXryY2rVrc/LkSUaNGoWlpSW9evXSdXjiJdLT0/H29ubff/9l9erVug7njWg0Gn755Rc0Go2uQ3lrsjImRB549q+o27dva7Xfvn0bIyOjdx7P6NGj2bBhAxs3bsTKykppV6vVSlzPez5OIyMjkpOTtd7plZWVxT///KPV50VjPDv2bK63fT0OHjxIcnIyzs7OVK5cmcqVKxMbG8vixYupXLkylSpVKlT5PBvnv5dTatWqxbVr15TjhSmn8ePH4+/vz6effoq9vT3du3dn0KBBzJkzp1Dm87yCFHtOYsmp9PR0+vfvz6lTp4iKilL+P3oWT0ZGBsnJya/M+b9xPFsZel3OJUqUUP5fftvfmTExMdy8eRNbW1tlzKtXrzJhwgTs7OwKVT5SjAmRBwwMDHB0dCQ6OlqrPTo6WmsvybswcuRIpRCrVauW1rFq1aqhVqu14kxNTSUuLk6Js2nTpty/f5+DBw8qfQ4ePMiDBw+0+sTFxZGamqr0iY6OxsTEhGrVqgHQpEmTt349OnTowL59+9BoNMqjQYMGfPrpp2g0GmxsbApVPvB0P9H58+e12s6fP4+FhQVQ+L5HDx8+zLbyWrx4cTIzMwtlPs8rSLHnJJacePLkCX379uXUqVNs2rRJKfKecXR0RF9fX2ue69evK29UeJZPQkKC1u0hoqOjKVmyJI6OjkqfF+XToEED9PX18+R35oABA4iNjdX6/WBiYoKfn5/yLsfCko8UY0LkkUGDBvHLL7+wfPlyEhISGDlyJDdv3nzhu5zyy/Dhw/nll19YtGgRKpWKW7ducevWLe7fvw883cvi6+vL3Llz2bhxI6dPn8bPz48yZcrg6ekJgK2tLa1btyYwMJCDBw9y8OBBAgMDadOmDTVr1gTA09OT0qVL4+fnx+nTp9m4cSPff/89fn5+yt4ZHx8f9u7dy5w5czh37hyzZ89Go9Hg6+ub43xUKhV2dnZaD0NDQypWrIidnV2hywfAz8+PQ4cOMXPmTJKSkvjtt9/48ccflT1WhS2ntm3b8v3337Nt2zYuX77Mpk2bCA8P5+OPPy4U+dy/f5/4+Hji4+PJzMzk2rVrxMfHc/Xq1QIVe05ieV0+6enp9O7dm8OHD7N48WL09PSU3xGPHj0CoEKFCnz55ZdMmDCB3bt3c+LECQYOHIi9vT0tWrQAnm5Kr1OnDj4+Ppw4cYLdu3czfvx4evXqRfny5QHo27cvN27cYNSoUSQkJLB8+XJ++eUX/P39lVhz8jvzVflUrVo12++HEiVKoFarlde+oOXzMnJrCyHy0OLFi5k7dy63bt2iTp06fPfddzRr1uydzf/sHVH/NXLkSEaPHg08vYQydepUli1bRkpKCo0aNWLmzJnKsj48vRdWUFAQW7ZsAaBdu3ZMnz5da/xTp04xfPhwjh49ikqlom/fvowcOVJrI3NUVBTBwcFcunSJ6tWrM27cODp16vRWOXbo0EG5tUVhzWfbtm1MnjyZ8+fPY25uzldffcXAgQOVuQpTTvfu3ePbb7/l999/559//kGtVvPpp58SFBREqVKlCnw+Go2Gjh07Zmvv0aMHCxYsKFCx5ySWV+UzatQo6tev/8LXITw8XLllxOPHjxk3bhwRERGkpqbSvHlzZs2apfVuw6tXrzJ8+HD27t1LqVKl6NatG1OmTKFkyZJKn5iYGMaMGcPZs2cxNjZmyJAh9OvXT2ve1/3OfN33578cHBy0bm1R0PJ5GSnGhBBCCCF0SC5TCiGEEELokBRjQgghhBA6JMWYEEIIIYQOSTEmhBBCCKFDUowJIYQQQuiQFGNCCCGEEDokxZgQQgghhA5JMSaEEEIIoUNSjAkhhBBC6ND/B9V2/bBWTDnVAAAAAElFTkSuQmCC\n",
      "text/plain": [
       "<Figure size 432x288 with 1 Axes>"
      ]
     },
     "metadata": {},
     "output_type": "display_data"
    }
   ],
   "source": [
    "fig, ax = plt.subplots(1,1)\n",
    "ax.barh(group_names, group_data)"
   ]
  },
  {
   "cell_type": "code",
   "execution_count": 143,
   "metadata": {},
   "outputs": [],
   "source": [
    "plt.style.use('Solarize_Light2')"
   ]
  },
  {
   "cell_type": "code",
   "execution_count": 144,
   "metadata": {},
   "outputs": [
    {
     "data": {
      "text/plain": [
       "<BarContainer object of 10 artists>"
      ]
     },
     "execution_count": 144,
     "metadata": {},
     "output_type": "execute_result"
    },
    {
     "data": {
      "image/png": "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\n",
      "text/plain": [
       "<Figure size 432x288 with 1 Axes>"
      ]
     },
     "metadata": {},
     "output_type": "display_data"
    }
   ],
   "source": [
    "fig, ax = plt.subplots(1,1)\n",
=======
   "outputs": [],
   "source": [
    "fig, ax = plt.subplots()\n",
>>>>>>> 9bcb85082bee3521929bbc33123fdb6b165afb33
    "ax.barh(group_names, group_data)"
   ]
  },
  {
<<<<<<< HEAD
   "cell_type": "code",
   "execution_count": null,
   "metadata": {},
   "outputs": [],
   "source": []
  },
  {
=======
>>>>>>> 9bcb85082bee3521929bbc33123fdb6b165afb33
   "cell_type": "markdown",
   "metadata": {},
   "source": [
    "The style controls many things, such as color, linewidths, backgrounds,\n",
    "etc.\n",
    "\n",
    "Customizing the plot\n",
    "====================\n",
    "\n",
    "Now we've got a plot with the general look that we want, so let's fine-tune\n",
    "it so that it's ready for print. First let's rotate the labels on the x-axis\n",
    "so that they show up more clearly. We can gain access to these labels\n",
    "with the `axes.Axes.get_xticklabels` method:\n",
    "\n"
   ]
  },
  {
   "cell_type": "code",
   "execution_count": null,
<<<<<<< HEAD
   "metadata": {},
   "outputs": [],
   "source": []
  },
  {
   "cell_type": "code",
   "execution_count": 145,
=======
>>>>>>> 9bcb85082bee3521929bbc33123fdb6b165afb33
   "metadata": {
    "collapsed": false,
    "jupyter": {
     "outputs_hidden": false
    }
   },
<<<<<<< HEAD
   "outputs": [
    {
     "data": {
      "image/png": "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\n",
      "text/plain": [
       "<Figure size 432x288 with 1 Axes>"
      ]
     },
     "metadata": {},
     "output_type": "display_data"
    }
   ],
=======
   "outputs": [],
>>>>>>> 9bcb85082bee3521929bbc33123fdb6b165afb33
   "source": [
    "fig, ax = plt.subplots()\n",
    "ax.barh(group_names, group_data)\n",
    "labels = ax.get_xticklabels()"
   ]
  },
  {
   "cell_type": "markdown",
   "metadata": {},
   "source": [
    "If we'd like to set the property of many items at once, it's useful to use\n",
    "the `pyplot.setp` function. This will take a list (or many lists) of\n",
    "Matplotlib objects, and attempt to set some style element of each one.\n",
    "\n"
   ]
  },
  {
   "cell_type": "code",
<<<<<<< HEAD
   "execution_count": 146,
=======
   "execution_count": null,
>>>>>>> 9bcb85082bee3521929bbc33123fdb6b165afb33
   "metadata": {
    "collapsed": false,
    "jupyter": {
     "outputs_hidden": false
    }
   },
<<<<<<< HEAD
   "outputs": [
    {
     "data": {
      "text/plain": [
       "[None,\n",
       " None,\n",
       " None,\n",
       " None,\n",
       " None,\n",
       " None,\n",
       " None,\n",
       " None,\n",
       " None,\n",
       " None,\n",
       " None,\n",
       " None,\n",
       " None,\n",
       " None,\n",
       " None,\n",
       " None,\n",
       " None,\n",
       " None]"
      ]
     },
     "execution_count": 146,
     "metadata": {},
     "output_type": "execute_result"
    },
    {
     "data": {
      "image/png": "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\n",
      "text/plain": [
       "<Figure size 432x288 with 1 Axes>"
      ]
     },
     "metadata": {},
     "output_type": "display_data"
    }
   ],
=======
   "outputs": [],
>>>>>>> 9bcb85082bee3521929bbc33123fdb6b165afb33
   "source": [
    "fig, ax = plt.subplots()\n",
    "ax.barh(group_names, group_data)\n",
    "labels = ax.get_xticklabels()\n",
    "plt.setp(labels, rotation=45, horizontalalignment='right')"
   ]
  },
  {
   "cell_type": "markdown",
   "metadata": {},
   "source": [
    "It looks like this cut off some of the labels on the bottom. We can\n",
    "tell Matplotlib to automatically make room for elements in the figures\n",
    "that we create. To do this we set the ``autolayout`` value of our\n",
    "rcParams. .\n",
    "\n"
   ]
  },
  {
   "cell_type": "code",
<<<<<<< HEAD
   "execution_count": 147,
   "metadata": {
    "scrolled": true
   },
   "outputs": [
    {
     "name": "stdout",
     "output_type": "stream",
     "text": [
      "Help on RcParams in module matplotlib object:\n",
      "\n",
      "class RcParams(collections.abc.MutableMapping, builtins.dict)\n",
      " |  RcParams(*args, **kwargs)\n",
      " |  \n",
      " |  A dictionary object including validation.\n",
      " |  \n",
      " |  Validating functions are defined and associated with rc parameters in\n",
      " |  :mod:`matplotlib.rcsetup`.\n",
      " |  \n",
      " |  See Also\n",
      " |  --------\n",
      " |  :ref:`customizing-with-matplotlibrc-files`\n",
      " |  \n",
      " |  Method resolution order:\n",
      " |      RcParams\n",
      " |      collections.abc.MutableMapping\n",
      " |      collections.abc.Mapping\n",
      " |      collections.abc.Collection\n",
      " |      collections.abc.Sized\n",
      " |      collections.abc.Iterable\n",
      " |      collections.abc.Container\n",
      " |      builtins.dict\n",
      " |      builtins.object\n",
      " |  \n",
      " |  Methods defined here:\n",
      " |  \n",
      " |  __getitem__(self, key)\n",
      " |      x.__getitem__(y) <==> x[y]\n",
      " |  \n",
      " |  __init__(self, *args, **kwargs)\n",
      " |      Initialize self.  See help(type(self)) for accurate signature.\n",
      " |  \n",
      " |  __iter__(self)\n",
      " |      Yield sorted list of keys.\n",
      " |  \n",
      " |  __len__(self)\n",
      " |      Return len(self).\n",
      " |  \n",
      " |  __repr__(self)\n",
      " |      Return repr(self).\n",
      " |  \n",
      " |  __setitem__(self, key, val)\n",
      " |      Set self[key] to value.\n",
      " |  \n",
      " |  __str__(self)\n",
      " |      Return str(self).\n",
      " |  \n",
      " |  copy(self)\n",
      " |      D.copy() -> a shallow copy of D\n",
      " |  \n",
      " |  find_all(self, pattern)\n",
      " |      Return the subset of this RcParams dictionary whose keys match,\n",
      " |      using :func:`re.search`, the given ``pattern``.\n",
      " |      \n",
      " |      .. note::\n",
      " |      \n",
      " |          Changes to the returned dictionary are *not* propagated to\n",
      " |          the parent RcParams dictionary.\n",
      " |  \n",
      " |  ----------------------------------------------------------------------\n",
      " |  Data descriptors defined here:\n",
      " |  \n",
      " |  __dict__\n",
      " |      dictionary for instance variables (if defined)\n",
      " |  \n",
      " |  __weakref__\n",
      " |      list of weak references to the object (if defined)\n",
      " |  \n",
      " |  ----------------------------------------------------------------------\n",
      " |  Data and other attributes defined here:\n",
      " |  \n",
      " |  __abstractmethods__ = frozenset({'__delitem__'})\n",
      " |  \n",
      " |  validate = {'_internal.classic_mode': <function validate_bool>, 'agg.p...\n",
      " |  \n",
      " |  ----------------------------------------------------------------------\n",
      " |  Methods inherited from collections.abc.MutableMapping:\n",
      " |  \n",
      " |  __delitem__(self, key)\n",
      " |  \n",
      " |  clear(self)\n",
      " |      D.clear() -> None.  Remove all items from D.\n",
      " |  \n",
      " |  pop(self, key, default=<object object at 0x10f819140>)\n",
      " |      D.pop(k[,d]) -> v, remove specified key and return the corresponding value.\n",
      " |      If key is not found, d is returned if given, otherwise KeyError is raised.\n",
      " |  \n",
      " |  popitem(self)\n",
      " |      D.popitem() -> (k, v), remove and return some (key, value) pair\n",
      " |      as a 2-tuple; but raise KeyError if D is empty.\n",
      " |  \n",
      " |  setdefault(self, key, default=None)\n",
      " |      D.setdefault(k[,d]) -> D.get(k,d), also set D[k]=d if k not in D\n",
      " |  \n",
      " |  update(self, other=(), /, **kwds)\n",
      " |      D.update([E, ]**F) -> None.  Update D from mapping/iterable E and F.\n",
      " |      If E present and has a .keys() method, does:     for k in E: D[k] = E[k]\n",
      " |      If E present and lacks .keys() method, does:     for (k, v) in E: D[k] = v\n",
      " |      In either case, this is followed by: for k, v in F.items(): D[k] = v\n",
      " |  \n",
      " |  ----------------------------------------------------------------------\n",
      " |  Methods inherited from collections.abc.Mapping:\n",
      " |  \n",
      " |  __contains__(self, key)\n",
      " |  \n",
      " |  __eq__(self, other)\n",
      " |      Return self==value.\n",
      " |  \n",
      " |  get(self, key, default=None)\n",
      " |      D.get(k[,d]) -> D[k] if k in D, else d.  d defaults to None.\n",
      " |  \n",
      " |  items(self)\n",
      " |      D.items() -> a set-like object providing a view on D's items\n",
      " |  \n",
      " |  keys(self)\n",
      " |      D.keys() -> a set-like object providing a view on D's keys\n",
      " |  \n",
      " |  values(self)\n",
      " |      D.values() -> an object providing a view on D's values\n",
      " |  \n",
      " |  ----------------------------------------------------------------------\n",
      " |  Data and other attributes inherited from collections.abc.Mapping:\n",
      " |  \n",
      " |  __hash__ = None\n",
      " |  \n",
      " |  __reversed__ = None\n",
      " |  \n",
      " |  ----------------------------------------------------------------------\n",
      " |  Class methods inherited from collections.abc.Collection:\n",
      " |  \n",
      " |  __subclasshook__(C) from abc.ABCMeta\n",
      " |      Abstract classes can override this to customize issubclass().\n",
      " |      \n",
      " |      This is invoked early on by abc.ABCMeta.__subclasscheck__().\n",
      " |      It should return True, False or NotImplemented.  If it returns\n",
      " |      NotImplemented, the normal algorithm is used.  Otherwise, it\n",
      " |      overrides the normal algorithm (and the outcome is cached).\n",
      " |  \n",
      " |  ----------------------------------------------------------------------\n",
      " |  Methods inherited from builtins.dict:\n",
      " |  \n",
      " |  __ge__(self, value, /)\n",
      " |      Return self>=value.\n",
      " |  \n",
      " |  __getattribute__(self, name, /)\n",
      " |      Return getattr(self, name).\n",
      " |  \n",
      " |  __gt__(self, value, /)\n",
      " |      Return self>value.\n",
      " |  \n",
      " |  __le__(self, value, /)\n",
      " |      Return self<=value.\n",
      " |  \n",
      " |  __lt__(self, value, /)\n",
      " |      Return self<value.\n",
      " |  \n",
      " |  __ne__(self, value, /)\n",
      " |      Return self!=value.\n",
      " |  \n",
      " |  __sizeof__(...)\n",
      " |      D.__sizeof__() -> size of D in memory, in bytes\n",
      " |  \n",
      " |  ----------------------------------------------------------------------\n",
      " |  Class methods inherited from builtins.dict:\n",
      " |  \n",
      " |  fromkeys(iterable, value=None, /) from abc.ABCMeta\n",
      " |      Create a new dictionary with keys from iterable and values set to value.\n",
      " |  \n",
      " |  ----------------------------------------------------------------------\n",
      " |  Static methods inherited from builtins.dict:\n",
      " |  \n",
      " |  __new__(*args, **kwargs) from builtins.type\n",
      " |      Create and return a new object.  See help(type) for accurate signature.\n",
      "\n"
     ]
    }
   ],
=======
   "execution_count": null,
   "metadata": {},
   "outputs": [],
>>>>>>> 9bcb85082bee3521929bbc33123fdb6b165afb33
   "source": [
    "help(plt.rcParams)"
   ]
  },
  {
   "cell_type": "code",
<<<<<<< HEAD
   "execution_count": 148,
=======
   "execution_count": null,
>>>>>>> 9bcb85082bee3521929bbc33123fdb6b165afb33
   "metadata": {
    "collapsed": false,
    "jupyter": {
     "outputs_hidden": false
    }
   },
<<<<<<< HEAD
   "outputs": [
    {
     "data": {
      "text/plain": [
       "[None,\n",
       " None,\n",
       " None,\n",
       " None,\n",
       " None,\n",
       " None,\n",
       " None,\n",
       " None,\n",
       " None,\n",
       " None,\n",
       " None,\n",
       " None,\n",
       " None,\n",
       " None,\n",
       " None,\n",
       " None,\n",
       " None,\n",
       " None]"
      ]
     },
     "execution_count": 148,
     "metadata": {},
     "output_type": "execute_result"
    },
    {
     "data": {
      "image/png": "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\n",
      "text/plain": [
       "<Figure size 432x288 with 1 Axes>"
      ]
     },
     "metadata": {},
     "output_type": "display_data"
    }
   ],
=======
   "outputs": [],
>>>>>>> 9bcb85082bee3521929bbc33123fdb6b165afb33
   "source": [
    "plt.rcParams.update({'figure.autolayout': True})\n",
    "\n",
    "fig, ax = plt.subplots()\n",
    "ax.barh(group_names, group_data)\n",
    "labels = ax.get_xticklabels()\n",
    "plt.setp(labels, rotation=45, horizontalalignment='right')"
   ]
  },
  {
   "cell_type": "markdown",
   "metadata": {},
   "source": [
    "Next, we add labels to the plot. To do this with the OO interface,\n",
    "we can use the `.Artist.set` method to set properties of this\n",
    "Axes object.\n",
    "\n"
   ]
  },
  {
   "cell_type": "code",
<<<<<<< HEAD
   "execution_count": 149,
=======
   "execution_count": null,
>>>>>>> 9bcb85082bee3521929bbc33123fdb6b165afb33
   "metadata": {
    "collapsed": false,
    "jupyter": {
     "outputs_hidden": false
    }
   },
<<<<<<< HEAD
   "outputs": [
    {
     "data": {
      "text/plain": [
       "[(-10000.0, 140000.0),\n",
       " Text(0.5, 0, 'Total Revenue'),\n",
       " Text(0, 0.5, 'Company'),\n",
       " Text(0.5, 1.0, 'Company Revenue')]"
      ]
     },
     "execution_count": 149,
     "metadata": {},
     "output_type": "execute_result"
    },
    {
     "data": {
      "image/png": "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\n",
      "text/plain": [
       "<Figure size 432x288 with 1 Axes>"
      ]
     },
     "metadata": {},
     "output_type": "display_data"
    }
   ],
=======
   "outputs": [],
>>>>>>> 9bcb85082bee3521929bbc33123fdb6b165afb33
   "source": [
    "fig, ax = plt.subplots()\n",
    "ax.barh(group_names, group_data)\n",
    "labels = ax.get_xticklabels()\n",
    "plt.setp(labels, rotation=45, horizontalalignment='right')\n",
    "ax.set(xlim=[-10000, 140000], xlabel='Total Revenue', ylabel='Company',\n",
    "       title='Company Revenue')"
   ]
  },
  {
   "cell_type": "markdown",
   "metadata": {},
   "source": [
    "We can also adjust the size of this plot using the `pyplot.subplots`\n",
    "function. We can do this with the ``figsize`` kwarg.\n",
    "\n",
    "<h4>Note</h4><p>While indexing in NumPy follows the form (row, column), the figsize\n",
    "   kwarg follows the form (width, height). This follows conventions in\n",
    "   visualization, which unfortunately are different from those of linear\n",
    "   algebra.</p></div>\n",
    "\n"
   ]
  },
  {
   "cell_type": "code",
<<<<<<< HEAD
   "execution_count": 150,
=======
   "execution_count": null,
>>>>>>> 9bcb85082bee3521929bbc33123fdb6b165afb33
   "metadata": {
    "collapsed": false,
    "jupyter": {
     "outputs_hidden": false
    }
   },
<<<<<<< HEAD
   "outputs": [
    {
     "data": {
      "text/plain": [
       "[(-10000.0, 140000.0),\n",
       " Text(0.5, 0, 'Total Revenue'),\n",
       " Text(0, 0.5, 'Company'),\n",
       " Text(0.5, 1.0, 'Company Revenue')]"
      ]
     },
     "execution_count": 150,
     "metadata": {},
     "output_type": "execute_result"
    },
    {
     "data": {
      "image/png": "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\n",
      "text/plain": [
       "<Figure size 720x288 with 1 Axes>"
      ]
     },
     "metadata": {},
     "output_type": "display_data"
    }
   ],
=======
   "outputs": [],
>>>>>>> 9bcb85082bee3521929bbc33123fdb6b165afb33
   "source": [
    "fig, ax = plt.subplots(figsize=(10, 4))\n",
    "ax.barh(group_names, group_data)\n",
    "labels = ax.get_xticklabels()\n",
    "plt.setp(labels, rotation=45, horizontalalignment='right')\n",
    "ax.set(xlim=[-10000, 140000], xlabel='Total Revenue', ylabel='Company',\n",
    "       title='Company Revenue')"
   ]
  },
  {
<<<<<<< HEAD
   "cell_type": "code",
   "execution_count": 152,
   "metadata": {},
   "outputs": [
    {
     "data": {
      "text/plain": [
       "[(-10000.0, 140000.0),\n",
       " Text(0.5, 0, 'Total Revenue'),\n",
       " Text(0, 0.5, 'Company'),\n",
       " Text(0.5, 1.0, 'Company Revenue')]"
      ]
     },
     "execution_count": 152,
     "metadata": {},
     "output_type": "execute_result"
    },
    {
     "data": {
      "image/png": "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\n",
      "text/plain": [
       "<Figure size 1440x720 with 1 Axes>"
      ]
     },
     "metadata": {},
     "output_type": "display_data"
    }
   ],
   "source": [
    "fig, ax = plt.subplots(figsize=(20, 10))\n",
    "ax.barh(group_names, group_data)\n",
    "labels = ax.get_xticklabels()\n",
    "plt.setp(labels, rotation=45, horizontalalignment='right')\n",
    "ax.set(xlim=[-10000, 140000], xlabel='Total Revenue', ylabel='Company',\n",
    "       title='Company Revenue')"
   ]
  },
  {
   "cell_type": "code",
   "execution_count": 153,
   "metadata": {
    "scrolled": true
   },
   "outputs": [
    {
     "name": "stdout",
     "output_type": "stream",
     "text": [
      "Help on function subplots in module matplotlib.pyplot:\n",
      "\n",
      "subplots(nrows=1, ncols=1, *, sharex=False, sharey=False, squeeze=True, subplot_kw=None, gridspec_kw=None, **fig_kw)\n",
      "    Create a figure and a set of subplots.\n",
      "    \n",
      "    This utility wrapper makes it convenient to create common layouts of\n",
      "    subplots, including the enclosing figure object, in a single call.\n",
      "    \n",
      "    Parameters\n",
      "    ----------\n",
      "    nrows, ncols : int, default: 1\n",
      "        Number of rows/columns of the subplot grid.\n",
      "    \n",
      "    sharex, sharey : bool or {'none', 'all', 'row', 'col'}, default: False\n",
      "        Controls sharing of properties among x (*sharex*) or y (*sharey*)\n",
      "        axes:\n",
      "    \n",
      "        - True or 'all': x- or y-axis will be shared among all subplots.\n",
      "        - False or 'none': each subplot x- or y-axis will be independent.\n",
      "        - 'row': each subplot row will share an x- or y-axis.\n",
      "        - 'col': each subplot column will share an x- or y-axis.\n",
      "    \n",
      "        When subplots have a shared x-axis along a column, only the x tick\n",
      "        labels of the bottom subplot are created. Similarly, when subplots\n",
      "        have a shared y-axis along a row, only the y tick labels of the first\n",
      "        column subplot are created. To later turn other subplots' ticklabels\n",
      "        on, use `~matplotlib.axes.Axes.tick_params`.\n",
      "    \n",
      "    squeeze : bool, default: True\n",
      "        - If True, extra dimensions are squeezed out from the returned\n",
      "          array of `~matplotlib.axes.Axes`:\n",
      "    \n",
      "          - if only one subplot is constructed (nrows=ncols=1), the\n",
      "            resulting single Axes object is returned as a scalar.\n",
      "          - for Nx1 or 1xM subplots, the returned object is a 1D numpy\n",
      "            object array of Axes objects.\n",
      "          - for NxM, subplots with N>1 and M>1 are returned as a 2D array.\n",
      "    \n",
      "        - If False, no squeezing at all is done: the returned Axes object is\n",
      "          always a 2D array containing Axes instances, even if it ends up\n",
      "          being 1x1.\n",
      "    \n",
      "    subplot_kw : dict, optional\n",
      "        Dict with keywords passed to the\n",
      "        `~matplotlib.figure.Figure.add_subplot` call used to create each\n",
      "        subplot.\n",
      "    \n",
      "    gridspec_kw : dict, optional\n",
      "        Dict with keywords passed to the `~matplotlib.gridspec.GridSpec`\n",
      "        constructor used to create the grid the subplots are placed on.\n",
      "    \n",
      "    **fig_kw\n",
      "        All additional keyword arguments are passed to the\n",
      "        `.pyplot.figure` call.\n",
      "    \n",
      "    Returns\n",
      "    -------\n",
      "    fig : `~.figure.Figure`\n",
      "    \n",
      "    ax : `.axes.Axes` or array of Axes\n",
      "        *ax* can be either a single `~matplotlib.axes.Axes` object or an\n",
      "        array of Axes objects if more than one subplot was created.  The\n",
      "        dimensions of the resulting array can be controlled with the squeeze\n",
      "        keyword, see above.\n",
      "    \n",
      "        Typical idioms for handling the return value are::\n",
      "    \n",
      "            # using the variable ax for single a Axes\n",
      "            fig, ax = plt.subplots()\n",
      "    \n",
      "            # using the variable axs for multiple Axes\n",
      "            fig, axs = plt.subplots(2, 2)\n",
      "    \n",
      "            # using tuple unpacking for multiple Axes\n",
      "            fig, (ax1, ax2) = plt.subplot(1, 2)\n",
      "            fig, ((ax1, ax2), (ax3, ax4)) = plt.subplot(2, 2)\n",
      "    \n",
      "        The names ``ax`` and pluralized ``axs`` are preferred over ``axes``\n",
      "        because for the latter it's not clear if it refers to a single\n",
      "        `~.axes.Axes` instance or a collection of these.\n",
      "    \n",
      "    See Also\n",
      "    --------\n",
      "    .pyplot.figure\n",
      "    .pyplot.subplot\n",
      "    .pyplot.axes\n",
      "    .Figure.subplots\n",
      "    .Figure.add_subplot\n",
      "    \n",
      "    Examples\n",
      "    --------\n",
      "    ::\n",
      "    \n",
      "        # First create some toy data:\n",
      "        x = np.linspace(0, 2*np.pi, 400)\n",
      "        y = np.sin(x**2)\n",
      "    \n",
      "        # Create just a figure and only one subplot\n",
      "        fig, ax = plt.subplots()\n",
      "        ax.plot(x, y)\n",
      "        ax.set_title('Simple plot')\n",
      "    \n",
      "        # Create two subplots and unpack the output array immediately\n",
      "        f, (ax1, ax2) = plt.subplots(1, 2, sharey=True)\n",
      "        ax1.plot(x, y)\n",
      "        ax1.set_title('Sharing Y axis')\n",
      "        ax2.scatter(x, y)\n",
      "    \n",
      "        # Create four polar axes and access them through the returned array\n",
      "        fig, axs = plt.subplots(2, 2, subplot_kw=dict(polar=True))\n",
      "        axs[0, 0].plot(x, y)\n",
      "        axs[1, 1].scatter(x, y)\n",
      "    \n",
      "        # Share a X axis with each column of subplots\n",
      "        plt.subplots(2, 2, sharex='col')\n",
      "    \n",
      "        # Share a Y axis with each row of subplots\n",
      "        plt.subplots(2, 2, sharey='row')\n",
      "    \n",
      "        # Share both X and Y axes with all subplots\n",
      "        plt.subplots(2, 2, sharex='all', sharey='all')\n",
      "    \n",
      "        # Note that this is the same as\n",
      "        plt.subplots(2, 2, sharex=True, sharey=True)\n",
      "    \n",
      "        # Create figure number 10 with a single subplot\n",
      "        # and clears it if it already exists.\n",
      "        fig, ax = plt.subplots(num=10, clear=True)\n",
      "\n"
     ]
    }
   ],
   "source": [
    "help(plt.subplots)"
   ]
  },
  {
   "cell_type": "code",
   "execution_count": 154,
   "metadata": {
    "scrolled": true
   },
   "outputs": [
    {
     "name": "stdout",
     "output_type": "stream",
     "text": [
      "Help on function figure in module matplotlib.pyplot:\n",
      "\n",
      "figure(num=None, figsize=None, dpi=None, facecolor=None, edgecolor=None, frameon=True, FigureClass=<class 'matplotlib.figure.Figure'>, clear=False, **kwargs)\n",
      "    Create a new figure, or activate an existing figure.\n",
      "    \n",
      "    Parameters\n",
      "    ----------\n",
      "    num : int or str, optional\n",
      "        A unique identifier for the figure.\n",
      "    \n",
      "        If a figure with that identifier already exists, this figure is made\n",
      "        active and returned. An integer refers to the ``Figure.number``\n",
      "        attribute, a string refers to the figure label.\n",
      "    \n",
      "        If there is no figure with the identifier or *num* is not given, a new\n",
      "        figure is created, made active and returned.  If *num* is an int, it\n",
      "        will be used for the ``Figure.number`` attribute, otherwise, an\n",
      "        auto-generated integer value is used (starting at 1 and incremented\n",
      "        for each new figure). If *num* is a string, the figure label and the\n",
      "        window title is set to this value.\n",
      "    \n",
      "    figsize : (float, float), default: :rc:`figure.figsize`\n",
      "        Width, height in inches.\n",
      "    \n",
      "    dpi : float, default: :rc:`figure.dpi`\n",
      "        The resolution of the figure in dots-per-inch.\n",
      "    \n",
      "    facecolor : color, default: :rc:`figure.facecolor`\n",
      "        The background color.\n",
      "    \n",
      "    edgecolor : color, default: :rc:`figure.edgecolor`\n",
      "        The border color.\n",
      "    \n",
      "    frameon : bool, default: True\n",
      "        If False, suppress drawing the figure frame.\n",
      "    \n",
      "    FigureClass : subclass of `~matplotlib.figure.Figure`\n",
      "        Optionally use a custom `.Figure` instance.\n",
      "    \n",
      "    clear : bool, default: False\n",
      "        If True and the figure already exists, then it is cleared.\n",
      "    \n",
      "    tight_layout : bool or dict, default: :rc:`figure.autolayout`\n",
      "        If ``False`` use *subplotpars*. If ``True`` adjust subplot\n",
      "        parameters using `.tight_layout` with default padding.\n",
      "        When providing a dict containing the keys ``pad``, ``w_pad``,\n",
      "        ``h_pad``, and ``rect``, the default `.tight_layout` paddings\n",
      "        will be overridden.\n",
      "    \n",
      "    constrained_layout : bool, default: :rc:`figure.constrained_layout.use`\n",
      "        If ``True`` use constrained layout to adjust positioning of plot\n",
      "        elements.  Like ``tight_layout``, but designed to be more\n",
      "        flexible.  See\n",
      "        :doc:`/tutorials/intermediate/constrainedlayout_guide`\n",
      "        for examples.  (Note: does not work with `add_subplot` or\n",
      "        `~.pyplot.subplot2grid`.)\n",
      "    \n",
      "    \n",
      "    **kwargs : optional\n",
      "        See `~.matplotlib.figure.Figure` for other possible arguments.\n",
      "    \n",
      "    Returns\n",
      "    -------\n",
      "    `~matplotlib.figure.Figure`\n",
      "        The `.Figure` instance returned will also be passed to\n",
      "        new_figure_manager in the backends, which allows to hook custom\n",
      "        `.Figure` classes into the pyplot interface. Additional kwargs will be\n",
      "        passed to the `.Figure` init function.\n",
      "    \n",
      "    Notes\n",
      "    -----\n",
      "    If you are creating many figures, make sure you explicitly call\n",
      "    `.pyplot.close` on the figures you are not using, because this will\n",
      "    enable pyplot to properly clean up the memory.\n",
      "    \n",
      "    `~matplotlib.rcParams` defines the default values, which can be modified\n",
      "    in the matplotlibrc file.\n",
      "\n"
     ]
    }
   ],
   "source": [
    "help(plt.figure)"
   ]
  },
  {
=======
>>>>>>> 9bcb85082bee3521929bbc33123fdb6b165afb33
   "cell_type": "markdown",
   "metadata": {},
   "source": [
    "For labels, we can specify custom formatting guidelines in the form of\n",
    "functions. Below we define a function that takes an integer as input, and\n",
    "returns a string as an output. When used with `.Axis.set_major_formatter` or\n",
    "`.Axis.set_minor_formatter`, they will automatically create and use a\n",
    "`ticker.FuncFormatter` class.\n",
    "\n",
    "For this function, the ``x`` argument is the original tick label and ``pos``\n",
    "is the tick position.  We will only use ``x`` here but both arguments are\n",
    "needed.\n",
    "\n"
   ]
  },
  {
   "cell_type": "code",
<<<<<<< HEAD
   "execution_count": 156,
=======
   "execution_count": null,
>>>>>>> 9bcb85082bee3521929bbc33123fdb6b165afb33
   "metadata": {
    "collapsed": false,
    "jupyter": {
     "outputs_hidden": false
    }
   },
   "outputs": [],
   "source": [
<<<<<<< HEAD
    "\n",
    "# like string formatted integer \n",
    "\n",
=======
>>>>>>> 9bcb85082bee3521929bbc33123fdb6b165afb33
    "def currency(x, pos):\n",
    "    \"\"\"The two args are the value and tick position\"\"\"\n",
    "    if x >= 1e6:\n",
    "        s = '${:1.1f}M'.format(x*1e-6)\n",
    "    else:\n",
    "        s = '${:1.0f}K'.format(x*1e-3)\n",
    "    return s"
   ]
  },
  {
   "cell_type": "markdown",
   "metadata": {},
   "source": [
    "We can then apply this function to the labels on our plot. To do this,\n",
    "we use the ``xaxis`` attribute of our axes. This lets you perform\n",
    "actions on a specific axis on our plot.\n",
    "\n"
   ]
  },
  {
   "cell_type": "code",
<<<<<<< HEAD
   "execution_count": 159,
=======
   "execution_count": null,
>>>>>>> 9bcb85082bee3521929bbc33123fdb6b165afb33
   "metadata": {
    "collapsed": false,
    "jupyter": {
     "outputs_hidden": false
    }
   },
<<<<<<< HEAD
   "outputs": [
    {
     "data": {
      "image/png": "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\n",
      "text/plain": [
       "<Figure size 1008x360 with 1 Axes>"
      ]
     },
     "metadata": {},
     "output_type": "display_data"
    }
   ],
   "source": [
    "fig, ax = plt.subplots(figsize=(14, 5))\n",
=======
   "outputs": [],
   "source": [
    "fig, ax = plt.subplots(figsize=(6, 8))\n",
>>>>>>> 9bcb85082bee3521929bbc33123fdb6b165afb33
    "ax.barh(group_names, group_data)\n",
    "labels = ax.get_xticklabels()\n",
    "plt.setp(labels, rotation=45, horizontalalignment='right')\n",
    "\n",
<<<<<<< HEAD
    "ax.set(xlim=[-10000, 150000], xlabel='Total Revenue', ylabel='Company',\n",
    "       title='Company Revenue')\n",
    "ax.xaxis.set_major_formatter(currency) # -> for the axis we gonna mess with the x and set main formatter to be currency function from above, what will happen nums on x axis put in currency func, and\n",
    "# return from currency"
=======
    "ax.set(xlim=[-10000, 140000], xlabel='Total Revenue', ylabel='Company',\n",
    "       title='Company Revenue')\n",
    "ax.xaxis.set_major_formatter(currency)"
>>>>>>> 9bcb85082bee3521929bbc33123fdb6b165afb33
   ]
  },
  {
   "cell_type": "markdown",
   "metadata": {},
   "source": [
    "Combining multiple visualizations\n",
    "=================================\n",
    "\n",
    "It is possible to draw multiple plot elements on the same instance of\n",
    "`axes.Axes`. To do this we simply need to call another one of\n",
    "the plot methods on that axes object.\n",
    "\n"
   ]
  },
  {
   "cell_type": "code",
<<<<<<< HEAD
   "execution_count": 162,
=======
   "execution_count": null,
>>>>>>> 9bcb85082bee3521929bbc33123fdb6b165afb33
   "metadata": {
    "collapsed": false,
    "jupyter": {
     "outputs_hidden": false
    }
   },
<<<<<<< HEAD
   "outputs": [
    {
     "data": {
      "image/png": "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\n",
      "text/plain": [
       "<Figure size 1440x720 with 1 Axes>"
      ]
     },
     "metadata": {},
     "output_type": "display_data"
    }
   ],
   "source": [
    "fig, ax = plt.subplots(figsize=(20, 10))\n",
=======
   "outputs": [],
   "source": [
    "fig, ax = plt.subplots(figsize=(8, 8))\n",
>>>>>>> 9bcb85082bee3521929bbc33123fdb6b165afb33
    "ax.barh(group_names, group_data)\n",
    "labels = ax.get_xticklabels()\n",
    "plt.setp(labels, rotation=45, horizontalalignment='right')\n",
    "\n",
    "# Add a vertical line, here we set the style in the function call\n",
    "ax.axvline(group_mean, ls='--', color='r')\n",
    "\n",
    "# Annotate new companies\n",
    "for group in [3, 5, 8]:\n",
    "    ax.text(145000, group, \"New Company\", fontsize=10,\n",
    "            verticalalignment=\"center\")\n",
    "\n",
    "# Now we move our title up since it's getting a little cramped\n",
    "ax.title.set(y=1.05)\n",
    "\n",
    "ax.set(xlim=[-10000, 140000], xlabel='Total Revenue', ylabel='Company',\n",
    "       title='Company Revenue')\n",
    "ax.xaxis.set_major_formatter(currency)\n",
    "ax.set_xticks([0, 25e3, 50e3, 75e3, 100e3, 125e3])\n",
    "fig.subplots_adjust(right=.1)\n",
    "\n",
    "plt.show()"
   ]
  },
  {
   "cell_type": "markdown",
   "metadata": {},
   "source": [
    "Saving our plot\n",
    "===============\n",
    "\n",
    "Now that we're happy with the outcome of our plot, we want to save it to\n",
    "disk. There are many file formats we can save to in Matplotlib. To see\n",
    "a list of available options, use:\n",
    "\n"
   ]
  },
  {
   "cell_type": "code",
<<<<<<< HEAD
   "execution_count": 163,
=======
   "execution_count": null,
>>>>>>> 9bcb85082bee3521929bbc33123fdb6b165afb33
   "metadata": {
    "collapsed": false,
    "jupyter": {
     "outputs_hidden": false
    }
   },
<<<<<<< HEAD
   "outputs": [
    {
     "name": "stdout",
     "output_type": "stream",
     "text": [
      "{'eps': 'Encapsulated Postscript', 'jpg': 'Joint Photographic Experts Group', 'jpeg': 'Joint Photographic Experts Group', 'pdf': 'Portable Document Format', 'pgf': 'PGF code for LaTeX', 'png': 'Portable Network Graphics', 'ps': 'Postscript', 'raw': 'Raw RGBA bitmap', 'rgba': 'Raw RGBA bitmap', 'svg': 'Scalable Vector Graphics', 'svgz': 'Scalable Vector Graphics', 'tif': 'Tagged Image File Format', 'tiff': 'Tagged Image File Format'}\n"
     ]
    }
   ],
=======
   "outputs": [],
>>>>>>> 9bcb85082bee3521929bbc33123fdb6b165afb33
   "source": [
    "print(fig.canvas.get_supported_filetypes())"
   ]
  },
  {
   "cell_type": "markdown",
   "metadata": {},
   "source": [
    "We can then use the `figure.Figure.savefig` in order to save the figure\n",
    "to disk. Note that there are several useful flags we show below:\n",
    "\n",
    "* ``transparent=True`` makes the background of the saved figure transparent\n",
    "  if the format supports it.\n",
    "* ``dpi=80`` controls the resolution (dots per square inch) of the output.\n",
    "* ``bbox_inches=\"tight\"`` fits the bounds of the figure to our plot.\n",
    "\n"
   ]
  },
  {
   "cell_type": "code",
   "execution_count": null,
   "metadata": {
    "collapsed": false,
    "jupyter": {
     "outputs_hidden": false
    }
   },
   "outputs": [],
   "source": [
    "# Uncomment this line to save the figure.\n",
    "# fig.savefig('sales.png', transparent=False, dpi=80, bbox_inches=\"tight\")"
   ]
  },
  {
   "cell_type": "markdown",
   "metadata": {},
   "source": [
    "Intro to pyplot\n",
    "===============\n",
    "\n",
    "`matplotlib.pyplot` is a collection of functions\n",
    "that make matplotlib work like MATLAB.\n",
    "Each ``pyplot`` function makes\n",
    "some change to a figure: e.g., creates a figure, creates a plotting area\n",
    "in a figure, plots some lines in a plotting area, decorates the plot\n",
    "with labels, etc.\n",
    "\n",
    "In `matplotlib.pyplot` various states are preserved\n",
    "across function calls, so that it keeps track of things like\n",
    "the current figure and plotting area, and the plotting\n",
    "functions are directed to the current axes (please note that \"axes\" here\n",
    "and in most places in the documentation refers to the *axes*\n",
    "`part of a figure <figure_parts>`\n",
    "and not the strict mathematical term for more than one axis).\n",
    "\n",
    "Generating visualizations with pyplot is very quick:\n",
    "\n"
   ]
  },
  {
   "cell_type": "code",
<<<<<<< HEAD
   "execution_count": 164,
=======
   "execution_count": null,
>>>>>>> 9bcb85082bee3521929bbc33123fdb6b165afb33
   "metadata": {
    "collapsed": false,
    "jupyter": {
     "outputs_hidden": false
    }
   },
<<<<<<< HEAD
   "outputs": [
    {
     "data": {
      "image/png": "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\n",
      "text/plain": [
       "<Figure size 432x288 with 1 Axes>"
      ]
     },
     "metadata": {},
     "output_type": "display_data"
    }
   ],
=======
   "outputs": [],
>>>>>>> 9bcb85082bee3521929bbc33123fdb6b165afb33
   "source": [
    "import matplotlib.pyplot as plt\n",
    "plt.plot([1, 2, 3, 4])\n",
    "plt.ylabel('some numbers')\n",
    "plt.show()"
   ]
  },
  {
   "cell_type": "markdown",
   "metadata": {},
   "source": [
    "You may be wondering why the x-axis ranges from 0-3 and the y-axis\n",
    "from 1-4.  If you provide a single list or array to\n",
    "`~.pyplot.plot`, matplotlib assumes it is a\n",
    "sequence of y values, and automatically generates the x values for\n",
    "you.  Since python ranges start with 0, the default x vector has the\n",
    "same length as y but starts with 0.  Hence the x data are\n",
    "``[0, 1, 2, 3]``.\n",
    "\n",
    "`~.pyplot.plot` is a versatile function, and will take an arbitrary number of\n",
    "arguments.  For example, to plot x versus y, you can write:\n",
    "\n"
   ]
  },
  {
   "cell_type": "code",
<<<<<<< HEAD
   "execution_count": 175,
   "metadata": {
    "scrolled": true
   },
   "outputs": [
    {
     "name": "stdout",
     "output_type": "stream",
     "text": [
      "Help on function plot in module matplotlib.pyplot:\n",
      "\n",
      "plot(*args, scalex=True, scaley=True, data=None, **kwargs)\n",
      "    Plot y versus x as lines and/or markers.\n",
      "    \n",
      "    Call signatures::\n",
      "    \n",
      "        plot([x], y, [fmt], *, data=None, **kwargs)\n",
      "        plot([x], y, [fmt], [x2], y2, [fmt2], ..., **kwargs)\n",
      "    \n",
      "    The coordinates of the points or line nodes are given by *x*, *y*.\n",
      "    \n",
      "    The optional parameter *fmt* is a convenient way for defining basic\n",
      "    formatting like color, marker and linestyle. It's a shortcut string\n",
      "    notation described in the *Notes* section below.\n",
      "    \n",
      "    >>> plot(x, y)        # plot x and y using default line style and color\n",
      "    >>> plot(x, y, 'bo')  # plot x and y using blue circle markers\n",
      "    >>> plot(y)           # plot y using x as index array 0..N-1\n",
      "    >>> plot(y, 'r+')     # ditto, but with red plusses\n",
      "    \n",
      "    You can use `.Line2D` properties as keyword arguments for more\n",
      "    control on the appearance. Line properties and *fmt* can be mixed.\n",
      "    The following two calls yield identical results:\n",
      "    \n",
      "    >>> plot(x, y, 'go--', linewidth=2, markersize=12)\n",
      "    >>> plot(x, y, color='green', marker='o', linestyle='dashed',\n",
      "    ...      linewidth=2, markersize=12)\n",
      "    \n",
      "    When conflicting with *fmt*, keyword arguments take precedence.\n",
      "    \n",
      "    \n",
      "    **Plotting labelled data**\n",
      "    \n",
      "    There's a convenient way for plotting objects with labelled data (i.e.\n",
      "    data that can be accessed by index ``obj['y']``). Instead of giving\n",
      "    the data in *x* and *y*, you can provide the object in the *data*\n",
      "    parameter and just give the labels for *x* and *y*::\n",
      "    \n",
      "    >>> plot('xlabel', 'ylabel', data=obj)\n",
      "    \n",
      "    All indexable objects are supported. This could e.g. be a `dict`, a\n",
      "    `pandas.DataFrame` or a structured numpy array.\n",
      "    \n",
      "    \n",
      "    **Plotting multiple sets of data**\n",
      "    \n",
      "    There are various ways to plot multiple sets of data.\n",
      "    \n",
      "    - The most straight forward way is just to call `plot` multiple times.\n",
      "      Example:\n",
      "    \n",
      "      >>> plot(x1, y1, 'bo')\n",
      "      >>> plot(x2, y2, 'go')\n",
      "    \n",
      "    - Alternatively, if your data is already a 2d array, you can pass it\n",
      "      directly to *x*, *y*. A separate data set will be drawn for every\n",
      "      column.\n",
      "    \n",
      "      Example: an array ``a`` where the first column represents the *x*\n",
      "      values and the other columns are the *y* columns::\n",
      "    \n",
      "      >>> plot(a[0], a[1:])\n",
      "    \n",
      "    - The third way is to specify multiple sets of *[x]*, *y*, *[fmt]*\n",
      "      groups::\n",
      "    \n",
      "      >>> plot(x1, y1, 'g^', x2, y2, 'g-')\n",
      "    \n",
      "      In this case, any additional keyword argument applies to all\n",
      "      datasets. Also this syntax cannot be combined with the *data*\n",
      "      parameter.\n",
      "    \n",
      "    By default, each line is assigned a different style specified by a\n",
      "    'style cycle'. The *fmt* and line property parameters are only\n",
      "    necessary if you want explicit deviations from these defaults.\n",
      "    Alternatively, you can also change the style cycle using\n",
      "    :rc:`axes.prop_cycle`.\n",
      "    \n",
      "    \n",
      "    Parameters\n",
      "    ----------\n",
      "    x, y : array-like or scalar\n",
      "        The horizontal / vertical coordinates of the data points.\n",
      "        *x* values are optional and default to ``range(len(y))``.\n",
      "    \n",
      "        Commonly, these parameters are 1D arrays.\n",
      "    \n",
      "        They can also be scalars, or two-dimensional (in that case, the\n",
      "        columns represent separate data sets).\n",
      "    \n",
      "        These arguments cannot be passed as keywords.\n",
      "    \n",
      "    fmt : str, optional\n",
      "        A format string, e.g. 'ro' for red circles. See the *Notes*\n",
      "        section for a full description of the format strings.\n",
      "    \n",
      "        Format strings are just an abbreviation for quickly setting\n",
      "        basic line properties. All of these and more can also be\n",
      "        controlled by keyword arguments.\n",
      "    \n",
      "        This argument cannot be passed as keyword.\n",
      "    \n",
      "    data : indexable object, optional\n",
      "        An object with labelled data. If given, provide the label names to\n",
      "        plot in *x* and *y*.\n",
      "    \n",
      "        .. note::\n",
      "            Technically there's a slight ambiguity in calls where the\n",
      "            second label is a valid *fmt*. ``plot('n', 'o', data=obj)``\n",
      "            could be ``plt(x, y)`` or ``plt(y, fmt)``. In such cases,\n",
      "            the former interpretation is chosen, but a warning is issued.\n",
      "            You may suppress the warning by adding an empty format string\n",
      "            ``plot('n', 'o', '', data=obj)``.\n",
      "    \n",
      "    Returns\n",
      "    -------\n",
      "    list of `.Line2D`\n",
      "        A list of lines representing the plotted data.\n",
      "    \n",
      "    Other Parameters\n",
      "    ----------------\n",
      "    scalex, scaley : bool, default: True\n",
      "        These parameters determine if the view limits are adapted to the\n",
      "        data limits. The values are passed on to `autoscale_view`.\n",
      "    \n",
      "    **kwargs : `.Line2D` properties, optional\n",
      "        *kwargs* are used to specify properties like a line label (for\n",
      "        auto legends), linewidth, antialiasing, marker face color.\n",
      "        Example::\n",
      "    \n",
      "        >>> plot([1, 2, 3], [1, 2, 3], 'go-', label='line 1', linewidth=2)\n",
      "        >>> plot([1, 2, 3], [1, 4, 9], 'rs', label='line 2')\n",
      "    \n",
      "        If you make multiple lines with one plot call, the kwargs\n",
      "        apply to all those lines.\n",
      "    \n",
      "        Here is a list of available `.Line2D` properties:\n",
      "    \n",
      "        Properties:\n",
      "        agg_filter: a filter function, which takes a (m, n, 3) float array and a dpi value, and returns a (m, n, 3) array\n",
      "        alpha: float or None\n",
      "        animated: bool\n",
      "        antialiased or aa: bool\n",
      "        clip_box: `.Bbox`\n",
      "        clip_on: bool\n",
      "        clip_path: Patch or (Path, Transform) or None\n",
      "        color or c: color\n",
      "        contains: unknown\n",
      "        dash_capstyle: {'butt', 'round', 'projecting'}\n",
      "        dash_joinstyle: {'miter', 'round', 'bevel'}\n",
      "        dashes: sequence of floats (on/off ink in points) or (None, None)\n",
      "        data: (2, N) array or two 1D arrays\n",
      "        drawstyle or ds: {'default', 'steps', 'steps-pre', 'steps-mid', 'steps-post'}, default: 'default'\n",
      "        figure: `.Figure`\n",
      "        fillstyle: {'full', 'left', 'right', 'bottom', 'top', 'none'}\n",
      "        gid: str\n",
      "        in_layout: bool\n",
      "        label: object\n",
      "        linestyle or ls: {'-', '--', '-.', ':', '', (offset, on-off-seq), ...}\n",
      "        linewidth or lw: float\n",
      "        marker: marker style string, `~.path.Path` or `~.markers.MarkerStyle`\n",
      "        markeredgecolor or mec: color\n",
      "        markeredgewidth or mew: float\n",
      "        markerfacecolor or mfc: color\n",
      "        markerfacecoloralt or mfcalt: color\n",
      "        markersize or ms: float\n",
      "        markevery: None or int or (int, int) or slice or List[int] or float or (float, float) or List[bool]\n",
      "        path_effects: `.AbstractPathEffect`\n",
      "        picker: unknown\n",
      "        pickradius: float\n",
      "        rasterized: bool or None\n",
      "        sketch_params: (scale: float, length: float, randomness: float)\n",
      "        snap: bool or None\n",
      "        solid_capstyle: {'butt', 'round', 'projecting'}\n",
      "        solid_joinstyle: {'miter', 'round', 'bevel'}\n",
      "        transform: `matplotlib.transforms.Transform`\n",
      "        url: str\n",
      "        visible: bool\n",
      "        xdata: 1D array\n",
      "        ydata: 1D array\n",
      "        zorder: float\n",
      "    \n",
      "    See Also\n",
      "    --------\n",
      "    scatter : XY scatter plot with markers of varying size and/or color (\n",
      "        sometimes also called bubble chart).\n",
      "    \n",
      "    Notes\n",
      "    -----\n",
      "    **Format Strings**\n",
      "    \n",
      "    A format string consists of a part for color, marker and line::\n",
      "    \n",
      "        fmt = '[marker][line][color]'\n",
      "    \n",
      "    Each of them is optional. If not provided, the value from the style\n",
      "    cycle is used. Exception: If ``line`` is given, but no ``marker``,\n",
      "    the data will be a line without markers.\n",
      "    \n",
      "    Other combinations such as ``[color][marker][line]`` are also\n",
      "    supported, but note that their parsing may be ambiguous.\n",
      "    \n",
      "    **Markers**\n",
      "    \n",
      "    =============    ===============================\n",
      "    character        description\n",
      "    =============    ===============================\n",
      "    ``'.'``          point marker\n",
      "    ``','``          pixel marker\n",
      "    ``'o'``          circle marker\n",
      "    ``'v'``          triangle_down marker\n",
      "    ``'^'``          triangle_up marker\n",
      "    ``'<'``          triangle_left marker\n",
      "    ``'>'``          triangle_right marker\n",
      "    ``'1'``          tri_down marker\n",
      "    ``'2'``          tri_up marker\n",
      "    ``'3'``          tri_left marker\n",
      "    ``'4'``          tri_right marker\n",
      "    ``'s'``          square marker\n",
      "    ``'p'``          pentagon marker\n",
      "    ``'*'``          star marker\n",
      "    ``'h'``          hexagon1 marker\n",
      "    ``'H'``          hexagon2 marker\n",
      "    ``'+'``          plus marker\n",
      "    ``'x'``          x marker\n",
      "    ``'D'``          diamond marker\n",
      "    ``'d'``          thin_diamond marker\n",
      "    ``'|'``          vline marker\n",
      "    ``'_'``          hline marker\n",
      "    =============    ===============================\n",
      "    \n",
      "    **Line Styles**\n",
      "    \n",
      "    =============    ===============================\n",
      "    character        description\n",
      "    =============    ===============================\n",
      "    ``'-'``          solid line style\n",
      "    ``'--'``         dashed line style\n",
      "    ``'-.'``         dash-dot line style\n",
      "    ``':'``          dotted line style\n",
      "    =============    ===============================\n",
      "    \n",
      "    Example format strings::\n",
      "    \n",
      "        'b'    # blue markers with default shape\n",
      "        'or'   # red circles\n",
      "        '-g'   # green solid line\n",
      "        '--'   # dashed line with default color\n",
      "        '^k:'  # black triangle_up markers connected by a dotted line\n",
      "    \n",
      "    **Colors**\n",
      "    \n",
      "    The supported color abbreviations are the single letter codes\n",
      "    \n",
      "    =============    ===============================\n",
      "    character        color\n",
      "    =============    ===============================\n",
      "    ``'b'``          blue\n",
      "    ``'g'``          green\n",
      "    ``'r'``          red\n",
      "    ``'c'``          cyan\n",
      "    ``'m'``          magenta\n",
      "    ``'y'``          yellow\n",
      "    ``'k'``          black\n",
      "    ``'w'``          white\n",
      "    =============    ===============================\n",
      "    \n",
      "    and the ``'CN'`` colors that index into the default property cycle.\n",
      "    \n",
      "    If the color is the only part of the format string, you can\n",
      "    additionally use any  `matplotlib.colors` spec, e.g. full names\n",
      "    (``'green'``) or hex strings (``'#008000'``).\n",
      "\n"
     ]
    }
   ],
   "source": [
    "help(plt.plot)"
   ]
  },
  {
   "cell_type": "code",
   "execution_count": 174,
=======
   "execution_count": null,
>>>>>>> 9bcb85082bee3521929bbc33123fdb6b165afb33
   "metadata": {
    "collapsed": false,
    "jupyter": {
     "outputs_hidden": false
    }
   },
<<<<<<< HEAD
   "outputs": [
    {
     "data": {
      "text/plain": [
       "[<matplotlib.lines.Line2D at 0x126bb1df0>,\n",
       " <matplotlib.lines.Line2D at 0x126bb1280>]"
      ]
     },
     "execution_count": 174,
     "metadata": {},
     "output_type": "execute_result"
    },
    {
     "data": {
      "image/png": "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\n",
      "text/plain": [
       "<Figure size 432x288 with 1 Axes>"
      ]
     },
     "metadata": {},
     "output_type": "display_data"
    }
   ],
=======
   "outputs": [],
>>>>>>> 9bcb85082bee3521929bbc33123fdb6b165afb33
   "source": [
    "plt.plot([1, 2, 3, 4], [1, 4, 9, 16])"
   ]
  },
  {
   "cell_type": "markdown",
   "metadata": {},
   "source": [
    "Formatting the style of your plot\n",
    "---------------------------------\n",
    "\n",
    "For every x, y pair of arguments, there is an optional third argument\n",
    "which is the format string that indicates the color and line type of\n",
    "the plot.  The letters and symbols of the format string are from\n",
    "MATLAB, and you concatenate a color string with a line style string.\n",
    "The default format string is 'b-', which is a solid blue line.  For\n",
    "example, to plot the above with red circles, you would issue\n",
    "\n"
   ]
  },
  {
   "cell_type": "code",
<<<<<<< HEAD
   "execution_count": 166,
=======
   "execution_count": null,
>>>>>>> 9bcb85082bee3521929bbc33123fdb6b165afb33
   "metadata": {
    "collapsed": false,
    "jupyter": {
     "outputs_hidden": false
    }
   },
<<<<<<< HEAD
   "outputs": [
    {
     "data": {
      "image/png": "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\n",
      "text/plain": [
       "<Figure size 432x288 with 1 Axes>"
      ]
     },
     "metadata": {},
     "output_type": "display_data"
    }
   ],
=======
   "outputs": [],
>>>>>>> 9bcb85082bee3521929bbc33123fdb6b165afb33
   "source": [
    "plt.plot([1, 2, 3, 4], [1, 4, 9, 16], 'ro')\n",
    "plt.axis([0, 6, 0, 20])\n",
    "plt.show()"
   ]
  },
  {
   "cell_type": "markdown",
   "metadata": {},
   "source": [
    "See the `~.pyplot.plot` documentation for a complete\n",
    "list of line styles and format strings.  The\n",
    "`~.pyplot.axis` function in the example above takes a\n",
    "list of ``[xmin, xmax, ymin, ymax]`` and specifies the viewport of the\n",
    "axes.\n",
    "\n",
    "If matplotlib were limited to working with lists, it would be fairly\n",
    "useless for numeric processing.  Generally, you will use `numpy\n",
    "<http://www.numpy.org>`_ arrays.  In fact, all sequences are\n",
    "converted to numpy arrays internally.  The example below illustrates\n",
    "plotting several lines with different format styles in one function call\n",
    "using arrays.\n",
    "\n"
   ]
  },
  {
   "cell_type": "code",
<<<<<<< HEAD
   "execution_count": 167,
=======
   "execution_count": null,
>>>>>>> 9bcb85082bee3521929bbc33123fdb6b165afb33
   "metadata": {
    "collapsed": false,
    "jupyter": {
     "outputs_hidden": false
    }
   },
<<<<<<< HEAD
   "outputs": [
    {
     "data": {
      "image/png": "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\n",
      "text/plain": [
       "<Figure size 432x288 with 1 Axes>"
      ]
     },
     "metadata": {},
     "output_type": "display_data"
    }
   ],
=======
   "outputs": [],
>>>>>>> 9bcb85082bee3521929bbc33123fdb6b165afb33
   "source": [
    "import numpy as np\n",
    "\n",
    "# evenly sampled time at 200ms intervals\n",
    "t = np.arange(0., 5., 0.2)\n",
    "\n",
    "# red dashes, blue squares and green triangles\n",
    "plt.plot(t, t, 'r--', t, t**2, 'bs', t, t**3, 'g^')\n",
    "plt.show()"
   ]
  },
  {
   "cell_type": "markdown",
   "metadata": {},
   "source": [
    "\n",
    "Plotting with keyword strings\n",
    "=============================\n",
    "\n",
    "There are some instances where you have data in a format that lets you\n",
    "access particular variables with strings. For example, with\n",
    "`numpy.recarray` or `pandas.DataFrame`.\n",
    "\n",
    "Matplotlib allows you provide such an object with\n",
    "the ``data`` keyword argument. If provided, then you may generate plots with\n",
    "the strings corresponding to these variables.\n",
    "\n"
   ]
  },
  {
   "cell_type": "code",
<<<<<<< HEAD
   "execution_count": 168,
=======
   "execution_count": null,
>>>>>>> 9bcb85082bee3521929bbc33123fdb6b165afb33
   "metadata": {
    "collapsed": false,
    "jupyter": {
     "outputs_hidden": false
    }
   },
<<<<<<< HEAD
   "outputs": [
    {
     "data": {
      "image/png": "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\n",
      "text/plain": [
       "<Figure size 432x288 with 1 Axes>"
      ]
     },
     "metadata": {},
     "output_type": "display_data"
    }
   ],
=======
   "outputs": [],
>>>>>>> 9bcb85082bee3521929bbc33123fdb6b165afb33
   "source": [
    "data = {'a': np.arange(50),\n",
    "        'c': np.random.randint(0, 50, 50),\n",
    "        'd': np.random.randn(50)}\n",
    "data['b'] = data['a'] + 10 * np.random.randn(50)\n",
    "data['d'] = np.abs(data['d']) * 100\n",
    "\n",
    "plt.scatter('a', 'b', c='c', s='d', data=data)\n",
    "plt.xlabel('entry a')\n",
    "plt.ylabel('entry b')\n",
    "plt.show()"
   ]
  },
  {
   "cell_type": "markdown",
   "metadata": {},
   "source": [
    "\n",
    "Plotting with categorical variables\n",
    "===================================\n",
    "\n",
    "It is also possible to create a plot using categorical variables.\n",
    "Matplotlib allows you to pass categorical variables directly to\n",
    "many plotting functions. For example:\n",
    "\n"
   ]
  },
  {
   "cell_type": "code",
<<<<<<< HEAD
   "execution_count": 169,
=======
   "execution_count": null,
>>>>>>> 9bcb85082bee3521929bbc33123fdb6b165afb33
   "metadata": {
    "collapsed": false,
    "jupyter": {
     "outputs_hidden": false
    }
   },
<<<<<<< HEAD
   "outputs": [
    {
     "data": {
      "image/png": "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\n",
      "text/plain": [
       "<Figure size 648x216 with 3 Axes>"
      ]
     },
     "metadata": {},
     "output_type": "display_data"
    }
   ],
=======
   "outputs": [],
>>>>>>> 9bcb85082bee3521929bbc33123fdb6b165afb33
   "source": [
    "names = ['group_a', 'group_b', 'group_c']\n",
    "values = [1, 10, 100]\n",
    "\n",
    "plt.figure(figsize=(9, 3))\n",
    "\n",
    "plt.subplot(1,3,1)\n",
    "plt.bar(names, values)\n",
    "plt.subplot(132)\n",
    "plt.scatter(names, values)\n",
    "plt.subplot(133)\n",
    "plt.plot(names, values)\n",
    "plt.suptitle('Categorical Plotting')\n",
    "plt.show()"
   ]
  },
  {
   "cell_type": "markdown",
   "metadata": {},
   "source": [
    "\n",
    "Controlling line properties\n",
    "===========================\n",
    "\n",
    "Lines have many attributes that you can set: linewidth, dash style,\n",
    "antialiased, etc; see `matplotlib.lines.Line2D`.  There are\n",
    "several ways to set line properties\n",
    "\n",
    "* Use keyword args::\n",
    "\n",
    "      plt.plot(x, y, linewidth=2.0)\n",
    "\n",
    "\n",
    "* Use the setter methods of a ``Line2D`` instance.  ``plot`` returns a list\n",
    "  of ``Line2D`` objects; e.g., ``line1, line2 = plot(x1, y1, x2, y2)``.  In the code\n",
    "  below we will suppose that we have only\n",
    "  one line so that the list returned is of length 1.  We use tuple unpacking with\n",
    "  ``line,`` to get the first element of that list::\n",
    "\n",
    "      line, = plt.plot(x, y, '-')\n",
    "      line.set_antialiased(False) # turn off antialiasing\n",
    "\n",
    "* Use `~.pyplot.setp`.  The example below\n",
    "  uses a MATLAB-style function to set multiple properties\n",
    "  on a list of lines.  ``setp`` works transparently with a list of objects\n",
    "  or a single object.  You can either use python keyword arguments or\n",
    "  MATLAB-style string/value pairs::\n",
    "\n",
    "      lines = plt.plot(x1, y1, x2, y2)\n",
    "      # use keyword args\n",
    "      plt.setp(lines, color='r', linewidth=2.0)\n",
    "      # or MATLAB style string value pairs\n",
    "      plt.setp(lines, 'color', 'r', 'linewidth', 2.0)\n",
    "\n",
    "```\n",
    "Here are the available `~.lines.Line2D` properties.\n",
    "\n",
    "======================  ==================================================\n",
    "Property                Value Type\n",
    "======================  ==================================================\n",
    "alpha                   float\n",
    "animated                [True | False]\n",
    "antialiased or aa       [True | False]\n",
    "clip_box                a matplotlib.transform.Bbox instance\n",
    "clip_on                 [True | False]\n",
    "clip_path               a Path instance and a Transform instance, a Patch\n",
    "color or c              any matplotlib color\n",
    "contains                the hit testing function\n",
    "dash_capstyle           [``'butt'`` | ``'round'`` | ``'projecting'``]\n",
    "dash_joinstyle          [``'miter'`` | ``'round'`` | ``'bevel'``]\n",
    "dashes                  sequence of on/off ink in points\n",
    "data                    (np.array xdata, np.array ydata)\n",
    "figure                  a matplotlib.figure.Figure instance\n",
    "label                   any string\n",
    "linestyle or ls         [ ``'-'`` | ``'--'`` | ``'-.'`` | ``':'`` | ``'steps'`` | ...]\n",
    "linewidth or lw         float value in points\n",
    "marker                  [ ``'+'`` | ``','`` | ``'.'`` | ``'1'`` | ``'2'`` | ``'3'`` | ``'4'`` ]\n",
    "markeredgecolor or mec  any matplotlib color\n",
    "markeredgewidth or mew  float value in points\n",
    "markerfacecolor or mfc  any matplotlib color\n",
    "markersize or ms        float\n",
    "markevery               [ None | integer | (startind, stride) ]\n",
    "picker                  used in interactive line selection\n",
    "pickradius              the line pick selection radius\n",
    "solid_capstyle          [``'butt'`` | ``'round'`` | ``'projecting'``]\n",
    "solid_joinstyle         [``'miter'`` | ``'round'`` | ``'bevel'``]\n",
    "transform               a matplotlib.transforms.Transform instance\n",
    "visible                 [True | False]\n",
    "xdata                   np.array\n",
    "ydata                   np.array\n",
    "zorder                  any number\n",
    "======================  ==================================================\n",
    "```\n",
    "\n",
    "To get a list of settable line properties, call the\n",
    "`~.pyplot.setp` function with a line or lines as argument\n",
    "\n",
    "```ipython\n",
    "\n",
    "    In [69]: lines = plt.plot([1, 2, 3])\n",
    "\n",
    "    In [70]: plt.setp(lines)\n",
    "      alpha: float\n",
    "      animated: [True | False]\n",
    "      antialiased or aa: [True | False]\n",
    "      ...snip\n",
    "```\n",
    "\n",
    "\n",
    "Working with multiple figures and axes\n",
    "======================================\n",
    "\n",
    "MATLAB, and :mod:`.pyplot`, have the concept of the current figure\n",
    "and the current axes.  All plotting functions apply to the current\n",
    "axes.  The function `~.pyplot.gca` returns the current axes (a\n",
    "`matplotlib.axes.Axes` instance), and `~.pyplot.gcf` returns the current\n",
    "figure (a `matplotlib.figure.Figure` instance). Normally, you don't have to\n",
    "worry about this, because it is all taken care of behind the scenes.  Below\n",
    "is a script to create two subplots.\n",
    "\n"
   ]
  },
  {
   "cell_type": "code",
<<<<<<< HEAD
   "execution_count": 170,
=======
   "execution_count": null,
>>>>>>> 9bcb85082bee3521929bbc33123fdb6b165afb33
   "metadata": {
    "collapsed": false,
    "jupyter": {
     "outputs_hidden": false
    }
   },
<<<<<<< HEAD
   "outputs": [
    {
     "data": {
      "image/png": "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\n",
      "text/plain": [
       "<Figure size 432x288 with 2 Axes>"
      ]
     },
     "metadata": {},
     "output_type": "display_data"
    }
   ],
=======
   "outputs": [],
>>>>>>> 9bcb85082bee3521929bbc33123fdb6b165afb33
   "source": [
    "def f(t):\n",
    "    return np.exp(-t) * np.cos(2*np.pi*t)\n",
    "\n",
    "t1 = np.arange(0.0, 5.0, 0.1)\n",
    "t2 = np.arange(0.0, 5.0, 0.02)\n",
    "\n",
    "plt.figure()\n",
    "plt.subplot(211)\n",
    "plt.plot(t1, f(t1), 'bo', t2, f(t2), 'k')\n",
    "\n",
    "plt.subplot(212)\n",
    "plt.plot(t2, np.cos(2*np.pi*t2), 'r--')\n",
    "plt.show()"
   ]
  },
  {
   "cell_type": "markdown",
   "metadata": {},
   "source": [
    "The `~.pyplot.figure` call here is optional because\n",
    "``figure(1)`` will be created by default, just as a ``subplot(111)``\n",
    "will be created by default if you don't manually specify any axes.  The\n",
    "`~.pyplot.subplot` call specifies ``numrows,\n",
    "numcols, plot_number`` where ``plot_number`` ranges from 1 to\n",
    "``numrows*numcols``.  The commas in the ``subplot`` call are\n",
    "optional if ``numrows*numcols<10``.  So ``subplot(211)`` is identical\n",
    "to ``subplot(2, 1, 1)``.\n",
    "\n",
    "You can create an arbitrary number of subplots\n",
    "and axes.  If you want to place an axes manually, i.e., not on a\n",
    "rectangular grid, use `~.pyplot.axes`,\n",
    "which allows you to specify the location as ``axes([left, bottom,\n",
    "width, height])`` where all values are in fractional (0 to 1)\n",
    "coordinates. \n",
    "\n",
    "\n",
    "You can create multiple figures by using multiple\n",
    "`~.pyplot.figure` calls with an increasing figure\n",
    "number.  Of course, each figure can contain as many axes and subplots\n",
    "as your heart desires::\n",
    "\n",
    "    import matplotlib.pyplot as plt\n",
    "    plt.figure(1)                # the first figure\n",
    "    plt.subplot(211)             # the first subplot in the first figure\n",
    "    plt.plot([1, 2, 3])\n",
    "    plt.subplot(212)             # the second subplot in the first figure\n",
    "    plt.plot([4, 5, 6])\n",
    "\n",
    "\n",
    "    plt.figure(2)                # a second figure\n",
    "    plt.plot([4, 5, 6])          # creates a subplot(111) by default\n",
    "\n",
    "    plt.figure(1)                # figure 1 current; subplot(212) still current\n",
    "    plt.subplot(211)             # make subplot(211) in figure1 current\n",
    "    plt.title('Easy as 1, 2, 3') # subplot 211 title\n",
    "\n",
    "You can clear the current figure with `~.pyplot.clf`\n",
    "and the current axes with `~.pyplot.cla`.  If you find\n",
    "it annoying that states (specifically the current image, figure and axes)\n",
    "are being maintained for you behind the scenes, don't despair: this is just a thin\n",
    "stateful wrapper around an object oriented API, which you can use\n",
    "instead (see :doc:`/tutorials/intermediate/artists`)\n",
    "\n",
    "If you are making lots of figures, you need to be aware of one\n",
    "more thing: the memory required for a figure is not completely\n",
    "released until the figure is explicitly closed with\n",
    "`~.pyplot.close`.  Deleting all references to the\n",
    "figure, and/or using the window manager to kill the window in which\n",
    "the figure appears on the screen, is not enough, because pyplot\n",
    "maintains internal references until `~.pyplot.close`\n",
    "is called.\n",
    "\n",
    "\n",
    "Working with text\n",
    "=================\n",
    "\n",
    "`~.pyplot.text` can be used to add text in an arbitrary location, and\n",
    "`~.pyplot.xlabel`, `~.pyplot.ylabel` and `~.pyplot.title` are used to add\n",
    "text in the indicated locations (see :doc:`/tutorials/text/text_intro` for a\n",
    "more detailed example)\n",
    "\n"
   ]
  },
  {
   "cell_type": "code",
<<<<<<< HEAD
   "execution_count": 171,
=======
   "execution_count": null,
>>>>>>> 9bcb85082bee3521929bbc33123fdb6b165afb33
   "metadata": {
    "collapsed": false,
    "jupyter": {
     "outputs_hidden": false
    }
   },
<<<<<<< HEAD
   "outputs": [
    {
     "data": {
      "image/png": "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\n",
      "text/plain": [
       "<Figure size 432x288 with 1 Axes>"
      ]
     },
     "metadata": {},
     "output_type": "display_data"
    }
   ],
=======
   "outputs": [],
>>>>>>> 9bcb85082bee3521929bbc33123fdb6b165afb33
   "source": [
    "mu, sigma = 100, 15\n",
    "x = mu + sigma * np.random.randn(10000)\n",
    "\n",
    "# the histogram of the data\n",
    "n, bins, patches = plt.hist(x, 50, density=1, facecolor='g', alpha=0.75)\n",
    "\n",
    "\n",
    "plt.xlabel('Smarts')\n",
    "plt.ylabel('Probability')\n",
    "plt.title('Histogram of IQ')\n",
    "plt.text(60, .025, r'$\\mu=100,\\ \\sigma=15$')\n",
    "plt.axis([40, 160, 0, 0.03])\n",
    "plt.grid(True)\n",
    "plt.show()"
   ]
  },
  {
   "cell_type": "markdown",
   "metadata": {},
   "source": [
    "All of the `~.pyplot.text` functions return a `matplotlib.text.Text`\n",
    "instance.  Just as with with lines above, you can customize the properties by\n",
    "passing keyword arguments into the text functions or using `~.pyplot.setp`::\n",
    "\n",
    "  t = plt.xlabel('my data', fontsize=14, color='red')\n",
    "\n",
    "These properties are covered in more detail in :doc:`/tutorials/text/text_props`.\n",
    "\n",
    "\n",
    "Using mathematical expressions in text\n",
    "--------------------------------------\n",
    "\n",
    "matplotlib accepts TeX equation expressions in any text expression.\n",
    "For example to write the expression $\\sigma_i=15$ in the title,\n",
    "you can write a TeX expression surrounded by dollar signs::\n",
    "\n",
    "    plt.title(r'$\\sigma_i=15$')\n",
    "\n",
    "The ``r`` preceding the title string is important -- it signifies\n",
    "that the string is a *raw* string and not to treat backslashes as\n",
    "python escapes.  matplotlib has a built-in TeX expression parser and\n",
    "layout engine, and ships its own math fonts -- for details see\n",
    ":doc:`/tutorials/text/mathtext`.  Thus you can use mathematical text across platforms\n",
    "without requiring a TeX installation.  For those who have LaTeX and\n",
    "dvipng installed, you can also use LaTeX to format your text and\n",
    "incorporate the output directly into your display figures or saved\n",
    "postscript -- see :doc:`/tutorials/text/usetex`.\n",
    "\n",
    "\n",
    "Annotating text\n",
    "---------------\n",
    "\n",
    "The uses of the basic `~.pyplot.text` function above\n",
    "place text at an arbitrary position on the Axes.  A common use for\n",
    "text is to annotate some feature of the plot, and the\n",
    "`~.pyplot.annotate` method provides helper\n",
    "functionality to make annotations easy.  In an annotation, there are\n",
    "two points to consider: the location being annotated represented by\n",
    "the argument ``xy`` and the location of the text ``xytext``.  Both of\n",
    "these arguments are ``(x, y)`` tuples.\n",
    "\n"
   ]
  },
  {
   "cell_type": "code",
<<<<<<< HEAD
   "execution_count": 172,
=======
   "execution_count": null,
>>>>>>> 9bcb85082bee3521929bbc33123fdb6b165afb33
   "metadata": {
    "collapsed": false,
    "jupyter": {
     "outputs_hidden": false
    }
   },
<<<<<<< HEAD
   "outputs": [
    {
     "data": {
      "image/png": "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\n",
      "text/plain": [
       "<Figure size 432x288 with 1 Axes>"
      ]
     },
     "metadata": {},
     "output_type": "display_data"
    }
   ],
=======
   "outputs": [],
>>>>>>> 9bcb85082bee3521929bbc33123fdb6b165afb33
   "source": [
    "ax = plt.subplot(111)\n",
    "\n",
    "t = np.arange(0.0, 5.0, 0.01)\n",
    "s = np.cos(2*np.pi*t)\n",
    "line, = plt.plot(t, s, lw=2)\n",
    "\n",
    "plt.annotate('local max', xy=(2, 1), xytext=(3, 1.5),\n",
    "             arrowprops=dict(facecolor='black', shrink=0.05),\n",
    "             )\n",
    "\n",
    "plt.ylim(-2, 2)\n",
    "plt.show()"
   ]
  },
  {
   "cell_type": "markdown",
   "metadata": {},
   "source": [
    "In this basic example, both the ``xy`` (arrow tip) and ``xytext``\n",
    "locations (text location) are in data coordinates.  There are a\n",
    "variety of other coordinate systems one can choose -- see\n",
    "`annotations-tutorial` and `plotting-guide-annotation` for\n",
    "details.  More examples can be found in\n",
    ":doc:`/gallery/text_labels_and_annotations/annotation_demo`.\n",
    "\n",
    "\n",
    "Logarithmic and other nonlinear axes\n",
    "====================================\n",
    "\n",
    "`matplotlib.pyplot` supports not only linear axis scales, but also\n",
    "logarithmic and logit scales. This is commonly used if data spans many orders\n",
    "of magnitude. Changing the scale of an axis is easy:\n",
    "\n",
    "    plt.xscale('log')\n",
    "\n",
    "An example of four plots with the same data and different scales for the y axis\n",
    "is shown below.\n",
    "\n"
   ]
  },
  {
   "cell_type": "code",
<<<<<<< HEAD
   "execution_count": 173,
=======
   "execution_count": null,
>>>>>>> 9bcb85082bee3521929bbc33123fdb6b165afb33
   "metadata": {
    "collapsed": false,
    "jupyter": {
     "outputs_hidden": false
    }
   },
<<<<<<< HEAD
   "outputs": [
    {
     "data": {
      "image/png": "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\n",
      "text/plain": [
       "<Figure size 432x288 with 4 Axes>"
      ]
     },
     "metadata": {},
     "output_type": "display_data"
    }
   ],
=======
   "outputs": [],
>>>>>>> 9bcb85082bee3521929bbc33123fdb6b165afb33
   "source": [
    "# Fixing random state for reproducibility\n",
    "np.random.seed(19680801)\n",
    "\n",
    "# make up some data in the open interval (0, 1)\n",
    "y = np.random.normal(loc=0.5, scale=0.4, size=1000)\n",
    "y = y[(y > 0) & (y < 1)]\n",
    "y.sort()\n",
    "x = np.arange(len(y))\n",
    "\n",
    "# plot with various axes scales\n",
    "plt.figure()\n",
    "\n",
    "# linear\n",
    "plt.subplot(221)\n",
    "plt.plot(x, y)\n",
    "plt.yscale('linear')\n",
    "plt.title('linear')\n",
    "plt.grid(True)\n",
    "\n",
    "# log\n",
    "plt.subplot(222)\n",
    "plt.plot(x, y)\n",
    "plt.yscale('log')\n",
    "plt.title('log')\n",
    "plt.grid(True)\n",
    "\n",
    "# symmetric log\n",
    "plt.subplot(223)\n",
    "plt.plot(x, y - y.mean())\n",
    "plt.yscale('symlog', linthresh=0.01)\n",
    "plt.title('symlog')\n",
    "plt.grid(True)\n",
    "\n",
    "# logit\n",
    "plt.subplot(224)\n",
    "plt.plot(x, y)\n",
    "plt.yscale('logit')\n",
    "plt.title('logit')\n",
    "plt.grid(True)\n",
    "# Adjust the subplot layout, because the logit one may take more space\n",
    "# than usual, due to y-tick labels like \"1 - 10^{-3}\"\n",
    "plt.subplots_adjust(top=0.92, bottom=0.08, left=0.10, right=0.95, hspace=0.25,\n",
    "                    wspace=0.35)\n",
    "\n",
    "plt.show()"
   ]
  },
  {
   "cell_type": "markdown",
   "metadata": {},
   "source": [
    "\n",
    "\n"
   ]
  },
  {
   "cell_type": "code",
   "execution_count": null,
   "metadata": {},
   "outputs": [],
   "source": []
  }
 ],
 "metadata": {
  "kernelspec": {
   "display_name": "Python 3",
   "language": "python",
   "name": "python3"
  },
  "language_info": {
   "codemirror_mode": {
    "name": "ipython",
    "version": 3
   },
   "file_extension": ".py",
   "mimetype": "text/x-python",
   "name": "python",
   "nbconvert_exporter": "python",
   "pygments_lexer": "ipython3",
<<<<<<< HEAD
   "version": "3.8.8"
=======
   "version": "3.9.1"
>>>>>>> 9bcb85082bee3521929bbc33123fdb6b165afb33
  }
 },
 "nbformat": 4,
 "nbformat_minor": 4
}
