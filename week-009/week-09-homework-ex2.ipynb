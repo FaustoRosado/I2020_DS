{
 "cells": [
  {
   "cell_type": "markdown",
   "metadata": {},
   "source": [
    "<div style=\"background: #000;\n",
    "            color: #FFF;\n",
    "            margin: 0px;\n",
    "                padding: 10px 0px 20px 0px;\n",
    "            text-align: center; \n",
    "                \">\n",
    "    <h1>Week 9 Homework</h1>\n",
    "</div>"
   ]
  },
  {
   "cell_type": "markdown",
   "metadata": {},
   "source": [
    "# Exercise 2"
   ]
  },
  {
   "cell_type": "markdown",
   "metadata": {},
   "source": [
    "Given an array nums. We define a running sum of an array as runningSum[i] = sum(nums[0]…nums[i]).\n",
    "\n",
    "Return the running sum of nums.\n",
    "\n",
    "Example 1:\n",
    "```\n",
    "Input: nums = [1,2,3,4]\n",
    "Output: [1,3,6,10]\n",
    "Explanation: Running sum is obtained as follows: [1, 1+2, 1+2+3, 1+2+3+4].\n",
    "```\n",
    "Example 2:\n",
    "```\n",
    "Input: nums = [1,1,1,1,1]\n",
    "Output: [1,2,3,4,5]\n",
    "Explanation: Running sum is obtained as follows: [1, 1+1, 1+1+1, 1+1+1+1, 1+1+1+1+1].\n",
    "```\n",
    "Example 3:\n",
    "```\n",
    "Input: nums = [3,1,2,10,1]\n",
    "Output: [3,4,6,16,17]\n",
    "```\n"
   ]
  },
  {
   "cell_type": "code",
   "execution_count": null,
   "metadata": {
    "scrolled": true
   },
   "outputs": [],
   "source": [
    "%%timeit\n",
    "# o(n)\n",
    "# change the following\n",
    "def ex2_a(nums):\n",
    "    out = [nums[0]]\n",
    "    for i in range(1, len(nums)):\n",
    "        nxt = out[-1] + nums[i]\n",
    "        out.append(nxt)\n",
    "    return out\n",
    "\n",
    "# use the try/except block below\n",
    "# to test your solution\n",
    "try:\n",
    "    assert(ex2_a([1,2,3,4]) == [1,3,6,10])\n",
    "    assert(ex2_a([1,1,1,1,1]) == [1,2,3,4,5])\n",
    "    assert(ex2_a([3,1,2,10,1]) == [3,4,6,16,17])\n",
    "    #print(\"your solution is valid\")\n",
    "except AssertionError:\n",
    "    print(\"your solution is incorrect\")\n",
    "    \n",
    "dis.dis(ex2_a)"
   ]
  },
  {
   "cell_type": "code",
   "execution_count": null,
   "metadata": {},
   "outputs": [],
   "source": [
    "import dis\n",
    "\n",
    "dis.dis(ex2_a)"
   ]
  },
  {
   "cell_type": "code",
   "execution_count": null,
   "metadata": {
    "scrolled": true
   },
   "outputs": [],
   "source": [
    "%%timeit\n",
    "\n",
    "def ex2_b(nums):\n",
    "    \n",
    "    s = [sum(nums[0:i+1]) for i,k in enumerate(nums)]\n",
    "    #print(s)\n",
    "    return s\n",
    "\n",
    "# use the try/except block below\n",
    "# to test your solution\n",
    "try:\n",
    "    assert(ex2_b([1,2,3,4]) == [1,3,6,10])\n",
    "    assert(ex2_b([1,1,1,1,1]) == [1,2,3,4,5])\n",
    "    assert(ex2_b([3,1,2,10,1]) == [3,4,6,16,17])\n",
    "    #print(\"your solution is valid\")\n",
    "except AssertionError:\n",
    "    print(\"your solution is incorrect\")"
   ]
  },
  {
   "cell_type": "code",
   "execution_count": null,
   "metadata": {},
   "outputs": [],
   "source": [
    "s = range(10)"
   ]
  },
  {
   "cell_type": "code",
   "execution_count": null,
   "metadata": {},
   "outputs": [],
   "source": [
    "list(range(10))"
   ]
  },
  {
   "cell_type": "code",
   "execution_count": null,
   "metadata": {},
   "outputs": [],
   "source": [
    "for i in range(10):\n",
    "    print(i)"
   ]
  },
  {
   "cell_type": "code",
   "execution_count": null,
   "metadata": {},
   "outputs": [],
   "source": [
    "\n",
    "# exhaust it by going through it\n",
    "for i,k in enumerate([0,1,2,3,4,5,6]):\n",
    "    print(i, k)"
   ]
  },
  {
   "cell_type": "code",
   "execution_count": null,
   "metadata": {
    "scrolled": true
   },
   "outputs": [],
   "source": [
    "%%timeit\n",
    "# generator\n",
    "def ex2_c(nums):\n",
    "    sum_ = 0\n",
    "    for nums in nums:\n",
    "        sum_ += nums\n",
    "        yield sum_\n",
    "\n",
    "# use the try/except block below\n",
    "# to test your solution\n",
    "try:\n",
    "    assert(list(ex2_c([1,2,3,4])) == [1,3,6,10])\n",
    "    assert(list(ex2_c([1,1,1,1,1])) == [1,2,3,4,5])\n",
    "    assert(list(ex2_c([3,1,2,10,1])) == [3,4,6,16,17])\n",
    "    #print(\"your solution is valid\")\n",
    "except AssertionError:\n",
    "    print(\"your solution is incorrect\")"
   ]
  },
  {
   "cell_type": "code",
   "execution_count": null,
   "metadata": {},
   "outputs": [],
   "source": [
    "%%timeit\n",
    "def ex2_d(nums):\n",
    "    return map(lambda x: sum(nums[:x[0]+1]), enumerate(nums))\n",
    "# use the try/except block below\n",
    "# to test your solution\n",
    "try:\n",
    "    assert(list(ex2_d([1,2,3,4])) == [1,3,6,10])\n",
    "    assert(list(ex2_d([1,1,1,1,1])) == [1,2,3,4,5])\n",
    "    assert(list(ex2_d([3,1,2,10,1])) == [3,4,6,16,17])\n",
    "    #print(\"your solution is valid\")\n",
    "except AssertionError:\n",
    "    print(\"your solution is incorrect\")"
   ]
  },
  {
   "cell_type": "code",
   "execution_count": null,
   "metadata": {},
   "outputs": [],
   "source": [
    "import dis\n",
    "\n",
    "dis.dis(ex2_a)"
   ]
  },
  {
   "cell_type": "code",
   "execution_count": 1,
   "metadata": {},
   "outputs": [],
   "source": [
    "def ex2_a(nums):\n",
    "    out = [nums[0]]\n",
    "    for i in range(1, len(nums)):\n",
    "        nxt = out[-1] + nums[i]\n",
    "        out.append(nxt)\n",
    "    return out\n",
    "\n",
    "def ex2_b(nums):\n",
    "    \n",
    "    s = [sum(nums[0:i+1]) for i,k in enumerate(nums)]\n",
    "    #print(s)\n",
    "    return s\n",
    "\n",
    "def ex2_c(nums):\n",
    "    sum_ = 0\n",
    "    for nums in nums:\n",
    "        sum_ += nums\n",
    "        yield sum_\n",
    "        \n",
    "def ex2_d(nums):\n",
    "    return map(lambda x: sum(nums[:x[0]+1]), enumerate(nums))\n",
    "\n"
   ]
  },
  {
   "cell_type": "code",
   "execution_count": 2,
   "metadata": {},
   "outputs": [
    {
     "name": "stdout",
     "output_type": "stream",
     "text": [
      "  2           0 LOAD_FAST                0 (nums)\n",
      "              2 LOAD_CONST               1 (0)\n",
      "              4 BINARY_SUBSCR\n",
      "              6 BUILD_LIST               1\n",
      "              8 STORE_FAST               1 (out)\n",
      "\n",
      "  3          10 LOAD_GLOBAL              0 (range)\n",
      "             12 LOAD_CONST               2 (1)\n",
      "             14 LOAD_GLOBAL              1 (len)\n",
      "             16 LOAD_FAST                0 (nums)\n",
      "             18 CALL_FUNCTION            1\n",
      "             20 CALL_FUNCTION            2\n",
      "             22 GET_ITER\n",
      "        >>   24 FOR_ITER                30 (to 56)\n",
      "             26 STORE_FAST               2 (i)\n",
      "\n",
      "  4          28 LOAD_FAST                1 (out)\n",
      "             30 LOAD_CONST               3 (-1)\n",
      "             32 BINARY_SUBSCR\n",
      "             34 LOAD_FAST                0 (nums)\n",
      "             36 LOAD_FAST                2 (i)\n",
      "             38 BINARY_SUBSCR\n",
      "             40 BINARY_ADD\n",
      "             42 STORE_FAST               3 (nxt)\n",
      "\n",
      "  5          44 LOAD_FAST                1 (out)\n",
      "             46 LOAD_METHOD              2 (append)\n",
      "             48 LOAD_FAST                3 (nxt)\n",
      "             50 CALL_METHOD              1\n",
      "             52 POP_TOP\n",
      "             54 JUMP_ABSOLUTE           24\n",
      "\n",
      "  6     >>   56 LOAD_FAST                1 (out)\n",
      "             58 RETURN_VALUE\n"
     ]
    }
   ],
   "source": [
    "import dis\n",
    "\n",
    "dis.dis(ex2_a)"
   ]
  },
  {
   "cell_type": "code",
   "execution_count": 3,
   "metadata": {},
   "outputs": [
    {
     "name": "stdout",
     "output_type": "stream",
     "text": [
      " 10           0 LOAD_CLOSURE             0 (nums)\n",
      "              2 BUILD_TUPLE              1\n",
      "              4 LOAD_CONST               1 (<code object <listcomp> at 0x106d33c90, file \"<ipython-input-1-73cd88420bdc>\", line 10>)\n",
      "              6 LOAD_CONST               2 ('ex2_b.<locals>.<listcomp>')\n",
      "              8 MAKE_FUNCTION            8 (closure)\n",
      "             10 LOAD_GLOBAL              0 (enumerate)\n",
      "             12 LOAD_DEREF               0 (nums)\n",
      "             14 CALL_FUNCTION            1\n",
      "             16 GET_ITER\n",
      "             18 CALL_FUNCTION            1\n",
      "             20 STORE_FAST               1 (s)\n",
      "\n",
      " 12          22 LOAD_FAST                1 (s)\n",
      "             24 RETURN_VALUE\n",
      "\n",
      "Disassembly of <code object <listcomp> at 0x106d33c90, file \"<ipython-input-1-73cd88420bdc>\", line 10>:\n",
      " 10           0 BUILD_LIST               0\n",
      "              2 LOAD_FAST                0 (.0)\n",
      "        >>    4 FOR_ITER                28 (to 34)\n",
      "              6 UNPACK_SEQUENCE          2\n",
      "              8 STORE_FAST               1 (i)\n",
      "             10 STORE_FAST               2 (k)\n",
      "             12 LOAD_GLOBAL              0 (sum)\n",
      "             14 LOAD_DEREF               0 (nums)\n",
      "             16 LOAD_CONST               0 (0)\n",
      "             18 LOAD_FAST                1 (i)\n",
      "             20 LOAD_CONST               1 (1)\n",
      "             22 BINARY_ADD\n",
      "             24 BUILD_SLICE              2\n",
      "             26 BINARY_SUBSCR\n",
      "             28 CALL_FUNCTION            1\n",
      "             30 LIST_APPEND              2\n",
      "             32 JUMP_ABSOLUTE            4\n",
      "        >>   34 RETURN_VALUE\n"
     ]
    }
   ],
   "source": [
    "import dis\n",
    "\n",
    "dis.dis(ex2_b)"
   ]
  },
  {
   "cell_type": "code",
   "execution_count": 4,
   "metadata": {},
   "outputs": [
    {
     "name": "stdout",
     "output_type": "stream",
     "text": [
      " 15           0 LOAD_CONST               1 (0)\n",
      "              2 STORE_FAST               1 (sum_)\n",
      "\n",
      " 16           4 LOAD_FAST                0 (nums)\n",
      "              6 GET_ITER\n",
      "        >>    8 FOR_ITER                18 (to 28)\n",
      "             10 STORE_FAST               0 (nums)\n",
      "\n",
      " 17          12 LOAD_FAST                1 (sum_)\n",
      "             14 LOAD_FAST                0 (nums)\n",
      "             16 INPLACE_ADD\n",
      "             18 STORE_FAST               1 (sum_)\n",
      "\n",
      " 18          20 LOAD_FAST                1 (sum_)\n",
      "             22 YIELD_VALUE\n",
      "             24 POP_TOP\n",
      "             26 JUMP_ABSOLUTE            8\n",
      "        >>   28 LOAD_CONST               0 (None)\n",
      "             30 RETURN_VALUE\n"
     ]
    }
   ],
   "source": [
    "import dis\n",
    "\n",
    "dis.dis(ex2_c)"
   ]
  },
  {
   "cell_type": "code",
   "execution_count": 5,
   "metadata": {},
   "outputs": [
    {
     "name": "stdout",
     "output_type": "stream",
     "text": [
      " 21           0 LOAD_GLOBAL              0 (map)\n",
      "              2 LOAD_CLOSURE             0 (nums)\n",
      "              4 BUILD_TUPLE              1\n",
      "              6 LOAD_CONST               1 (<code object <lambda> at 0x106d33ea0, file \"<ipython-input-1-73cd88420bdc>\", line 21>)\n",
      "              8 LOAD_CONST               2 ('ex2_d.<locals>.<lambda>')\n",
      "             10 MAKE_FUNCTION            8 (closure)\n",
      "             12 LOAD_GLOBAL              1 (enumerate)\n",
      "             14 LOAD_DEREF               0 (nums)\n",
      "             16 CALL_FUNCTION            1\n",
      "             18 CALL_FUNCTION            2\n",
      "             20 RETURN_VALUE\n",
      "\n",
      "Disassembly of <code object <lambda> at 0x106d33ea0, file \"<ipython-input-1-73cd88420bdc>\", line 21>:\n",
      " 21           0 LOAD_GLOBAL              0 (sum)\n",
      "              2 LOAD_DEREF               0 (nums)\n",
      "              4 LOAD_CONST               0 (None)\n",
      "              6 LOAD_FAST                0 (x)\n",
      "              8 LOAD_CONST               1 (0)\n",
      "             10 BINARY_SUBSCR\n",
      "             12 LOAD_CONST               2 (1)\n",
      "             14 BINARY_ADD\n",
      "             16 BUILD_SLICE              2\n",
      "             18 BINARY_SUBSCR\n",
      "             20 CALL_FUNCTION            1\n",
      "             22 RETURN_VALUE\n"
     ]
    }
   ],
   "source": [
    "import dis\n",
    "\n",
    "dis.dis(ex2_d)"
   ]
  },
  {
   "cell_type": "code",
   "execution_count": null,
   "metadata": {},
   "outputs": [],
   "source": [
    "# disassembler showing the steps behind the scenes, peek at what python is doing behind the scenes"
   ]
  }
 ],
 "metadata": {
  "kernelspec": {
   "display_name": "Python 3",
   "language": "python",
   "name": "python3"
  },
  "language_info": {
   "codemirror_mode": {
    "name": "ipython",
    "version": 3
   },
   "file_extension": ".py",
   "mimetype": "text/x-python",
   "name": "python",
   "nbconvert_exporter": "python",
   "pygments_lexer": "ipython3",
   "version": "3.8.5"
  }
 },
 "nbformat": 4,
 "nbformat_minor": 4
}
