{
 "cells": [
  {
   "cell_type": "markdown",
   "metadata": {},
   "source": [
    "<div style=\"background: #000;\n",
    "            color: #FFF;\n",
    "            margin: 0px;\n",
    "                padding: 10px 0px 20px 0px;\n",
    "            text-align: center; \n",
    "                \">\n",
    "    <h1>Week 9 Homework</h1>\n",
    "</div>"
   ]
  },
  {
   "cell_type": "markdown",
   "metadata": {},
   "source": [
    "# Exercise 1\n",
    "\n",
    "Given a valid (IPv4) IP address, return a defanged version of that IP address.\n",
    "\n",
    "A defanged IP address replaces every period \".\" with \"[.]\".\n",
    "\n",
    "Example 1:\n",
    "```\n",
    "Input: address = \"1.1.1.1\"\n",
    "Output: \"1[.]1[.]1[.]1\"\n",
    "```\n",
    "Example 2:\n",
    "```\n",
    "Input: address = \"255.100.50.0\"\n",
    "Output: \"255[.]100[.]50[.]0\"\n",
    "```\n",
    "\n",
    "Bonus: Try completing it without using string methods and just looping through the string."
   ]
  },
  {
   "cell_type": "code",
   "execution_count": null,
   "metadata": {},
   "outputs": [],
   "source": [
    "# change the following\n",
    "def ex1(ip_addr):\n",
    "    defang = \"\"\n",
    "    \n",
    "    for char in ip_addr:\n",
    "        if char == '.':\n",
    "            defang += \"[.]\"\n",
    "        else:\n",
    "            defang += char\n",
    "    return defang\n",
    "\n",
    "\n",
    "# use the try/except block below\n",
    "# to test your solution\n",
    "try:\n",
    "    assert(ex1(\"1.1.1.1\") == \"1[.]1[.]1[.]1\")\n",
    "    assert(ex1(\"255.100.50.0\") == \"255[.]100[.]50[.]0\")\n",
    "    print(\"your solution is valid\")\n",
    "except AssertionError:\n",
    "    print(\"your solution is incorrect\")"
   ]
  },
  {
   "cell_type": "code",
   "execution_count": null,
   "metadata": {},
   "outputs": [],
   "source": [
    "return \"\".join['[.]' if n == '.' else n for n in ip_addr]\n",
    "\n",
    "# tradional with the else first\n",
    "# using a terniary operator is different from putting an if statement at the end"
   ]
  },
  {
   "cell_type": "code",
   "execution_count": null,
   "metadata": {},
   "outputs": [],
   "source": [
    "%%timeit\n",
    "# change the following\n",
    "def ex1(ip_addr):\n",
    "    defang = lambda x: x == '.' and '[.]' or x\n",
    "    return ''.join(map(defang, ip_addr))\n",
    "\n",
    "    # map returns a generator/iterator, cast as a list to return, run join on a generator \n",
    "\n",
    "# use the try/except block below\n",
    "# to test your solution\n",
    "\n",
    "try:\n",
    "    assert(ex1(\"1.1.1.1\") == \"1[.]1[.]1[.]1\")\n",
    "    assert(ex1(\"255.100.50.0\") == \"255[.]100[.]50[.]0\")\n",
    "    print(\"your solution is valid\")\n",
    "except AssertionError:\n",
    "    print(\"your solution is incorrect\")"
   ]
  },
  {
   "cell_type": "code",
   "execution_count": null,
   "metadata": {},
   "outputs": [],
   "source": [
    "%%timeit\n",
    "# change the following\n",
    "def ex1(ip_addr):\n",
    "   \n",
    "    # like an if/else statement \n",
    "    defang = lambda x: \"[.]\" if x == \".\" else x\n",
    "    \n",
    "#   turn a generator into a string\n",
    "\n",
    "    return ''.join(map(defang, ip_addr))\n",
    "\n",
    "\n",
    "\n",
    "    # map returns a generator/iterator, cast as a list to return, run join on a generator \n",
    "\n",
    "# use the try/except block below\n",
    "# to test your solution\n",
    "\n",
    "try:\n",
    "    assert(ex1(\"1.1.1.1\") == \"1[.]1[.]1[.]1\")\n",
    "    assert(ex1(\"255.100.50.0\") == \"255[.]100[.]50[.]0\")\n",
    "    print(\"your solution is valid\")\n",
    "except AssertionError:\n",
    "    print(\"your solution is incorrect\")"
   ]
  },
  {
   "cell_type": "code",
   "execution_count": null,
   "metadata": {},
   "outputs": [],
   "source": [
    "# shortcircuiting, if the first side is true, will execute, otherwise if first side is \n",
    "# false will execute the or statement and return true so will print x \n",
    "\n",
    "x: x == '.' and '[.]' or x"
   ]
  }
 ],
 "metadata": {
  "kernelspec": {
   "display_name": "Python 3",
   "language": "python",
   "name": "python3"
  },
  "language_info": {
   "codemirror_mode": {
    "name": "ipython",
    "version": 3
   },
   "file_extension": ".py",
   "mimetype": "text/x-python",
   "name": "python",
   "nbconvert_exporter": "python",
   "pygments_lexer": "ipython3",
   "version": "3.8.5"
  }
 },
 "nbformat": 4,
 "nbformat_minor": 4
}
