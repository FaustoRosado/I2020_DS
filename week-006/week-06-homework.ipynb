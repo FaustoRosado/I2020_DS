{
 "cells": [
  {
   "cell_type": "markdown",
   "metadata": {},
   "source": [
    "<div style=\"background: #000;\n",
    "            color: #FFF;\n",
    "            margin: 0px;\n",
    "                padding: 10px 0px 20px 0px;\n",
    "            text-align: center; \n",
    "                \">\n",
    "    <h1>Week 6 - Homework</h1>\n",
    "</div>\n",
    "\n",
    "<pre style=\"text-align:center;\">\n",
    "Exercise 1 is due Monday 10/26\n",
    "Exercise 2 is due Tuesday 10/27\n",
    "Exercise 3 is due Wednesday 10/28\n",
    "</pre>"
   ]
  },
  {
   "cell_type": "markdown",
   "metadata": {},
   "source": [
    "# Exercise 1\n",
    "\n",
    "Create a class called `Course` and a class called `Student` based on what you think they will need. Create a way to store 20 \"students\" (instances of the `Student` class into an instance of `Course` to represent our Data Science course. \n",
    "\n",
    "Demonstrate that your code works. Message on slack if stuck or need clarification."
   ]
  },
  {
   "cell_type": "code",
   "execution_count": 9,
   "metadata": {},
   "outputs": [],
   "source": [
    "#class Student:\n",
    "   # def __init__(self, name):\n",
    "        #self.name = name\n",
    "        #self.courses = []\n",
    "        \n",
    "    #def enroll(self, course):\n",
    "        #self.courses.append(course)\n",
    "        #course.students.append(self)\n",
    "        \n",
    "    #def __repr__(self):\n",
    "        #return self.name\n",
    "        \n",
    "#class Course():\n",
    "    #def __init_(self, title):\n",
    "        #self.title = title\n",
    "        #self.students = []\n",
    "        \n",
    "    #def enroll_student(self, student):\n",
    "        #student.enroll(self)\n",
    "        \n",
    "    #def __repr__(self):\n",
    "        #return self.title\n",
    "        \n",
    "#data_science = Course()\n",
    "#print(data_science)"
   ]
  },
  {
   "cell_type": "code",
   "execution_count": 48,
   "metadata": {},
   "outputs": [],
   "source": [
    "#class Course:\n",
    "    #def __init__(self):\n",
    "        #self.students = []\n",
    "        \n",
    "    #def enroll(self, student):\n",
    "        #return self.students.append(student)\n",
    "        \n",
    "    #def roster(self):\n",
    "        #print((self.students)) \n",
    "        \n",
    "        \n",
    "#class Student:\n",
    "    #def __init__(self, name):\n",
    "        #self.name = name"
   ]
  },
  {
   "cell_type": "code",
   "execution_count": 49,
   "metadata": {},
   "outputs": [
    {
     "name": "stdout",
     "output_type": "stream",
     "text": [
      "[<__main__.Student object at 0x106c40730>]\n"
     ]
    }
   ],
   "source": [
    "#ds = Course()\n",
    "\n",
    "#fausto = Student(\"Fausto\")\n",
    "\n",
    "#ds.enroll(fausto)\n",
    "\n",
    "#ds.roster()"
   ]
  },
  {
   "cell_type": "code",
   "execution_count": 1,
   "metadata": {},
   "outputs": [
    {
     "name": "stdout",
     "output_type": "stream",
     "text": [
      "[Student('1'), Student('2'), Student('3'), Student('4'), Student('5'), Student('6'), Student('7'), Student('8'), Student('9'), Student('10'), Student('11'), Student('12'), Student('13'), Student('14'), Student('15'), Student('16'), Student('17'), Student('18'), Student('19'), Student('20')]\n"
     ]
    },
    {
     "data": {
      "text/plain": [
       "[Student('1'),\n",
       " Student('2'),\n",
       " Student('3'),\n",
       " Student('4'),\n",
       " Student('5'),\n",
       " Student('6'),\n",
       " Student('7'),\n",
       " Student('8'),\n",
       " Student('9'),\n",
       " Student('10'),\n",
       " Student('11'),\n",
       " Student('12'),\n",
       " Student('13'),\n",
       " Student('14'),\n",
       " Student('15'),\n",
       " Student('16'),\n",
       " Student('17'),\n",
       " Student('18'),\n",
       " Student('19'),\n",
       " Student('20')]"
      ]
     },
     "execution_count": 1,
     "metadata": {},
     "output_type": "execute_result"
    }
   ],
   "source": [
    "class Student:\n",
    "    def __init__(self, name):    \n",
    "        self.name = name    \n",
    "        \n",
    "        \n",
    "    def __repr__(self):\n",
    "        return f\"Student('{self.name}')\"\n",
    "    \n",
    "    def __str__(self):\n",
    "        return f\"<Student instance = name: {self.name}\"\n",
    "\n",
    "class Course:\n",
    "    def __init__(self, *students): \n",
    "        self.roster = list(students)      \n",
    "        \n",
    "        \n",
    "    def add_student(self, student_to_add):  \n",
    "        if isinstance(student_to_add, Student):  \n",
    "            self.roster.append(student_to_add)   \n",
    "            \n",
    "students = [Student(x) for x in range(1,21)]\n",
    "print(students)\n",
    "data_science = Course(*students)\n",
    "data_science.roster"
   ]
  },
  {
   "cell_type": "markdown",
   "metadata": {},
   "source": [
    "# Exercise 2\n",
    "\n",
    "Create a class called `SafeFloat` that stores an attribute called `num` as an instance attribute set during initialization and sets `num_as_float` based on `num`\n",
    "\n",
    "Include the following three methods:\n",
    "\n",
    "`to_float` - that converts `num` to a float and stores that an attribute `num_as_float`. If `num` cannot be converted, set `num_as_float` to `None`. Do on mutate the original `num`, we'd like to keep it.\n",
    "\n",
    "`check_type` - that returns `True` if `num_as_float` is a float. It should create `num_as_float` if it doesn't exist. \n",
    "\n",
    "and a method that overrides the addition operator so that when instances of `SafeFloat` are added, `num_as_float` is used to add. Return the sum of the two instances or return `None` if the two cannot be added.\n",
    "\n",
    "Demonstrate that this works for strings, ints, bools and floats."
   ]
  },
  {
   "cell_type": "code",
   "execution_count": null,
   "metadata": {},
   "outputs": [],
   "source": []
  },
  {
   "cell_type": "code",
   "execution_count": 23,
   "metadata": {},
   "outputs": [
    {
     "name": "stdout",
     "output_type": "stream",
     "text": [
      "24.0\n",
      "2.0\n",
      "True\n",
      "True\n",
      "26.0\n"
     ]
    }
   ],
   "source": [
    "class SafeFloat:\n",
    "    def __init__(self, number):\n",
    "        self.num = number\n",
    "        self.to_float()\n",
    "        \n",
    "    def to_float(self):\n",
    "        self.num_as_float = None\n",
    "        if not isinstance(self.num, str):\n",
    "            self.num_as_float = float(self.num)\n",
    "        \n",
    "            \n",
    "    def check_type(self):\n",
    "        return isinstance(self.num_as_float, float)\n",
    "        \n",
    "    def __add__(self,other):  \n",
    "        if self.check_type() and other.check_type():\n",
    "            return self.num_as_float + other.num_as_float\n",
    "        else:\n",
    "            return None\n",
    "\n",
    "e = SafeFloat(24)\n",
    "f = SafeFloat(2)\n",
    "print(e.num_as_float)\n",
    "print(f.num_as_float)\n",
    "print(e.check_type())\n",
    "print(f.check_type())\n",
    "print(e + f)"
   ]
  },
  {
   "cell_type": "code",
   "execution_count": 24,
   "metadata": {},
   "outputs": [],
   "source": [
    "#class SafeFloat:\n",
    "    #def __init__(self, num):\n",
    "        #self.num = num\n",
    "        #self.num_as_float = None\n",
    "        \n",
    "        \n",
    "        \n",
    "# test with ints, floats, bools and strings\n",
    "#e = SafeFloat(0)\n",
    "#f = SafeFloat(0)\n",
    "#print(e.num_as_float)\n",
    "#print(f.num_as_float)\n",
    "#print(e.check_type())\n",
    "#print(f.check_type())\n",
    "#print(e + f)"
   ]
  },
  {
   "cell_type": "markdown",
   "metadata": {},
   "source": [
    "# Exercise 3\n",
    "\n",
    "Create a base class `Shape` and two classes that inherits that base class called `Triangle` and `Rectangle`. Consider what those two share in common (height and width) and use that to create your base class `Shape`. Create a method for base class called `area` that returns `None` for the base class. Override that method for `Triangle` and `Rectangle` so instances of those two classes can calculate the correct area.\n",
    "\n",
    "Demonstrate that your code works."
   ]
  },
  {
   "cell_type": "code",
   "execution_count": 8,
   "metadata": {},
   "outputs": [],
   "source": [
    "class Shape:\n",
    "    def __init__(self, h, w):\n",
    "        self.h = h\n",
    "        self.w = w\n",
    "        \n",
    "    def area(self):\n",
    "        return None\n",
    "        \n",
    "class Triangle(Shape):\n",
    "    def area(self):\n",
    "        #a = 0.5 * self.h * self.w  -> verbose, simply put in return statement \n",
    "        #return a\n",
    "        return 0.5 * self.h * self.w\n",
    "    \n",
    "    def __repr__(self):\n",
    "        return f\"<Triangle {self.h} {self.w}>\"\n",
    "        \n",
    "class Rectangle(Shape):   \n",
    "    def area(self):\n",
    "        #a = self.h * self.w\n",
    "        #return a\n",
    "        return self.h * self.w\n",
    "    \n",
    "    def __repr__(self):\n",
    "        return f\"<Rectangle {self.h} {self.w}>\""
   ]
  },
  {
   "cell_type": "code",
   "execution_count": 9,
   "metadata": {},
   "outputs": [
    {
     "name": "stdout",
     "output_type": "stream",
     "text": [
      "<Triangle 2 4>\n",
      "<Rectangle 6 8>\n",
      "4.0\n",
      "48\n"
     ]
    }
   ],
   "source": [
    "t = Triangle(2,4)\n",
    "r = Rectangle(6,8)\n",
    "\n",
    "print(t)\n",
    "print(r)\n",
    "\n",
    "print(t.area())\n",
    "print(r.area())"
   ]
  },
  {
   "cell_type": "markdown",
   "metadata": {},
   "source": [
    "See 10/29 video "
   ]
  },
  {
   "cell_type": "code",
   "execution_count": 11,
   "metadata": {},
   "outputs": [
    {
     "name": "stdout",
     "output_type": "stream",
     "text": [
      "<__main__.Triangle object at 0x109e91d00>\n",
      "<__main__.Rectangle object at 0x109e91250>\n",
      "4.0\n",
      "48\n"
     ]
    }
   ],
   "source": [
    "class Shape:\n",
    "    def __init__(self, base, height):\n",
    "        self.base = base\n",
    "        self.height = height\n",
    "        \n",
    "    def area(self):\n",
    "        return None\n",
    "        \n",
    "class Triangle(Shape):\n",
    "#     def __init__(self):\n",
    "#         Shape.__init__(self, base, height)\n",
    "        \n",
    "    def area(self):\n",
    "        return self.base * self.height * 0.5\n",
    "        \n",
    "class Rectangle(Shape):\n",
    "#     def __init__(self):\n",
    "#         Shape.__init__(self, base, height)\n",
    "    \n",
    "    def area(self):\n",
    "        #a = self.h * self.w\n",
    "        #return a\n",
    "        return self.base * self.height\n",
    "\n",
    "t = Triangle(2,4)\n",
    "r = Rectangle(6,8)\n",
    "\n",
    "print(t)\n",
    "print(r)\n",
    "\n",
    "print(t.area())\n",
    "print(r.area())\n"
   ]
  },
  {
   "cell_type": "code",
   "execution_count": null,
   "metadata": {},
   "outputs": [],
   "source": []
  }
 ],
 "metadata": {
  "kernelspec": {
   "display_name": "Python 3",
   "language": "python",
   "name": "python3"
  },
  "language_info": {
   "codemirror_mode": {
    "name": "ipython",
    "version": 3
   },
   "file_extension": ".py",
   "mimetype": "text/x-python",
   "name": "python",
   "nbconvert_exporter": "python",
   "pygments_lexer": "ipython3",
   "version": "3.8.7"
  }
 },
 "nbformat": 4,
 "nbformat_minor": 4
}
