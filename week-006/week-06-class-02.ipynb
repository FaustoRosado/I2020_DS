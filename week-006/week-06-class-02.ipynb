{
 "cells": [
  {
   "cell_type": "markdown",
   "metadata": {},
   "source": [
    "<div style=\"background: #000;\n",
    "            color: #FFF;\n",
    "            margin: 0px;\n",
    "                padding: 10px 0px 20px 0px;\n",
    "            text-align: center; \n",
    "                \">\n",
    "    <h1>Week 6 - Class 2 - 10/20</h1>\n",
    "</div>\n",
    "\n",
    "## Objectives for this week:\n",
    "* Objects, \n",
    "* Class declarations, Attributes, Methods\n",
    "* Self keywords\n",
    "* Object Inheritance, Generating Object Instances\n",
    "* Dot Notation\n",
    "\n",
    "## Todays Agenda\n",
    "* Homework Presentations\n",
    "* Dot Notation\n",
    "* More on Generating Object, Instances\n",
    "* More on Class attributes and methods\n",
    "* Dunder methods/attributes\n",
    "* Operator Overloading\n",
    "* Intro to inheritance\n"
   ]
  },
  {
   "cell_type": "markdown",
   "metadata": {},
   "source": [
    "# Homework Presentations"
   ]
  },
  {
   "cell_type": "markdown",
   "metadata": {},
   "source": [
    "# Exercise 2\n",
    "\n",
    "Create the decorator function(s) that wraps the `hello` function in the following html tags.\n",
    "\n",
    "hello() -> `<div><p><b>hello</b></p></div>`\n",
    "\n"
   ]
  },
  {
   "cell_type": "code",
<<<<<<< HEAD
   "execution_count": 1,
   "metadata": {},
   "outputs": [
    {
     "data": {
      "text/plain": [
       "'<p><div><b><p>hello</p></b></div></p>'"
      ]
     },
     "execution_count": 1,
     "metadata": {},
     "output_type": "execute_result"
    }
   ],
   "source": [
    "# Decorator can wrap itself like recursion\n",
    "\n",
    "def tagger(tag):\n",
    "    def decorator_function(func):        \n",
    "        def wrapper():\n",
    "             return f\"<{tag}>{func()}</{tag}>\"       \n",
    "        return wrapper   \n",
    "    return decorator_function\n",
    "\n",
    "@tagger(\"p\")\n",
    "@tagger('div')\n",
    "@tagger('b')\n",
    "@tagger('p')\n",
    "def hello():    \n",
    "    return \"hello\"\n",
    "hello()    "
   ]
  },
  {
   "cell_type": "code",
=======
>>>>>>> 9bcb85082bee3521929bbc33123fdb6b165afb33
   "execution_count": null,
   "metadata": {},
   "outputs": [],
   "source": []
  },
  {
   "cell_type": "markdown",
   "metadata": {},
   "source": [
    "# Dot Notation\n",
    "\n",
    "Dot notation refers to the use of `.` to reference attributes or methods of an object\n",
    "\n",
    "example:\n",
    "```python\n",
    "    s = Example()\n",
    "    s.arg1\n",
    "    s.method1()\n",
    "```\n",
    "\n",
    "The `.` allows us to access attributes of the object.\n",
    "\n",
    "We've been using this since week 1. \n",
    "\n",
    "examples:\n",
    "\n",
    "```python\n",
    "import string\n",
    "    \n",
    "string.ascii_lowercase\n",
    "```\n",
    "\n",
    "or\n",
    "\n",
    "```python\n",
    "s = list()\n",
    "\n",
    "s.append(3)\n",
    "```\n"
   ]
  },
  {
<<<<<<< HEAD
   "cell_type": "markdown",
   "metadata": {},
   "source": [
    "Thats why we could not access append outside the list object"
   ]
  },
  {
   "cell_type": "code",
   "execution_count": 1,
   "metadata": {},
   "outputs": [
    {
     "data": {
      "image/jpeg": "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\n",
      "text/html": [
       "\n",
       "        <iframe\n",
       "            width=\"600\"\n",
       "            height=\"300\"\n",
       "            src=\"https://www.youtube.com/embed/AsafkCAJpJ0\"\n",
       "            frameborder=\"0\"\n",
       "            allowfullscreen\n",
       "        ></iframe>\n",
       "        "
      ],
      "text/plain": [
       "<IPython.lib.display.YouTubeVideo at 0x10795c430>"
      ]
     },
     "execution_count": 1,
     "metadata": {},
     "output_type": "execute_result"
    }
   ],
   "source": [
    "from IPython.lib.display import YouTubeVideo\n",
    "\n",
    "YouTubeVideo('AsafkCAJpJ0', width=)"
=======
   "cell_type": "code",
   "execution_count": null,
   "metadata": {},
   "outputs": [],
   "source": [
    "from IPython.lib.display import YouTubeVideo\n",
    "\n",
    "YouTubeVideo('AsafkCAJpJ0', width=600)"
>>>>>>> 9bcb85082bee3521929bbc33123fdb6b165afb33
   ]
  },
  {
   "cell_type": "markdown",
   "metadata": {},
   "source": [
    "# Reading for objects\n",
    "\n",
    "https://docs.python.org/3/tutorial/classes.html  \n",
    "\n",
    "https://www.digitalocean.com/community/tutorials/how-to-construct-classes-and-define-objects-in-python-3  \n",
    "\n",
    "https://www.hackerearth.com/practice/python/object-oriented-programming/classes-and-objects-i/tutorial/  \n",
    "\n",
    "https://www.bitdegree.org/learn/python-class  \n",
    "\n",
    "https://dev.to/codemouse92/dead-simple-python-classes-42f7  \n",
    "\n",
    "https://techsparx.com/software-development/python/classes.html  \n",
    "\n",
    "https://opensource.com/article/19/7/get-modular-python-classes  \n",
    "\n",
    "https://medium.com/better-programming/python-how-object-and-class-attributes-work-8edf4ed9caa4  \n",
    "\n",
    "https://dzone.com/articles/python-class-attributes-vs-instance-attributes  "
   ]
  },
  {
   "cell_type": "markdown",
   "metadata": {},
   "source": [
    "# Generating Objects, Instances"
   ]
  },
  {
   "cell_type": "code",
   "execution_count": null,
   "metadata": {},
   "outputs": [],
   "source": [
<<<<<<< HEAD
    "self taking the place of whatever instance"
   ]
  },
  {
   "cell_type": "code",
   "execution_count": null,
   "metadata": {},
   "outputs": [],
   "source": [
    "we lik to make use of the instance itelf"
   ]
  },
  {
   "cell_type": "code",
   "execution_count": 7,
   "metadata": {},
   "outputs": [],
   "source": [
=======
>>>>>>> 9bcb85082bee3521929bbc33123fdb6b165afb33
    "class Example1:\n",
    "    def __init__(self, arg1, arg2, kwarg1=True):\n",
    "        self.arg1 = arg1\n",
    "        self.arg2 = arg2\n",
    "        self.kwarg1 = kwarg1\n",
    "        \n",
    "    def method1(self):\n",
    "        return \"method1\""
   ]
  },
  {
   "cell_type": "code",
<<<<<<< HEAD
   "execution_count": 8,
   "metadata": {},
   "outputs": [
    {
     "name": "stdout",
     "output_type": "stream",
     "text": [
      "arg1\n",
      "arg2\n",
      "False\n",
      "method1\n"
     ]
    }
   ],
=======
   "execution_count": null,
   "metadata": {},
   "outputs": [],
>>>>>>> 9bcb85082bee3521929bbc33123fdb6b165afb33
   "source": [
    "s = Example1(\"arg1\", \"arg2\", kwarg1=False)\n",
    "print(s.arg1)\n",
    "print(s.arg2)\n",
    "print(s.kwarg1)\n",
    "print(s.method1())"
   ]
  },
  {
<<<<<<< HEAD
   "cell_type": "code",
   "execution_count": 9,
   "metadata": {},
   "outputs": [
    {
     "data": {
      "text/plain": [
       "<__main__.Example2 at 0x109139400>"
      ]
     },
     "execution_count": 9,
     "metadata": {},
     "output_type": "execute_result"
    }
   ],
   "source": [
    "class Example2:      # don't know how to refer to instances, giving a reference when we're creating the instance\n",
    "    def __init__(self):    # self is calling the instance, to know what is referring to \n",
    "        pass\n",
    "\n",
    "s = Example2()\n",
    "\n",
    "s"
   ]
  },
  {
   "cell_type": "code",
   "execution_count": 10,
   "metadata": {},
   "outputs": [
    {
     "data": {
      "text/plain": [
       "('str', 3, True)"
      ]
     },
     "execution_count": 10,
     "metadata": {},
     "output_type": "execute_result"
    }
   ],
   "source": [
    "class Example2:      \n",
    "    def __init__(self, *args):    # what happens when add *args, now pass whatever we want \n",
    "        self.args = args\n",
    "\n",
    "s = Example2(\"str\", 3, True)\n",
    "\n",
    "s.args"
   ]
  },
  {
   "cell_type": "code",
   "execution_count": 19,
   "metadata": {},
   "outputs": [
    {
     "data": {
      "text/plain": [
       "<__main__.Example2 at 0x1093d4a90>"
      ]
     },
     "execution_count": 19,
     "metadata": {},
     "output_type": "execute_result"
    }
   ],
   "source": [
    "class Example2:     \n",
    "    def __init__(self, **kwargs):     \n",
    "        self.kwargs = kwargs\n",
    "\n",
    "s = Example2()\n",
    "\n",
    "s"
   ]
  },
  {
   "cell_type": "code",
   "execution_count": 20,
   "metadata": {},
   "outputs": [
    {
     "ename": "TypeError",
     "evalue": "__init__() takes 0 positional arguments but 1 was given",
     "output_type": "error",
     "traceback": [
      "\u001b[0;31m---------------------------------------------------------------------------\u001b[0m",
      "\u001b[0;31mTypeError\u001b[0m                                 Traceback (most recent call last)",
      "\u001b[0;32m<ipython-input-20-5a60ed5767e7>\u001b[0m in \u001b[0;36m<module>\u001b[0;34m\u001b[0m\n\u001b[1;32m      3\u001b[0m         \u001b[0mkwargs\u001b[0m \u001b[0;34m=\u001b[0m \u001b[0mkwargs\u001b[0m\u001b[0;34m\u001b[0m\u001b[0;34m\u001b[0m\u001b[0m\n\u001b[1;32m      4\u001b[0m \u001b[0;34m\u001b[0m\u001b[0m\n\u001b[0;32m----> 5\u001b[0;31m \u001b[0ms\u001b[0m \u001b[0;34m=\u001b[0m \u001b[0mExample2\u001b[0m\u001b[0;34m(\u001b[0m\u001b[0;34m)\u001b[0m\u001b[0;34m\u001b[0m\u001b[0;34m\u001b[0m\u001b[0m\n\u001b[0m\u001b[1;32m      6\u001b[0m \u001b[0;34m\u001b[0m\u001b[0m\n\u001b[1;32m      7\u001b[0m \u001b[0ms\u001b[0m\u001b[0;34m\u001b[0m\u001b[0;34m\u001b[0m\u001b[0m\n",
      "\u001b[0;31mTypeError\u001b[0m: __init__() takes 0 positional arguments but 1 was given"
     ]
    }
   ],
   "source": [
    "class Example2:     \n",
    "    def __init__(**kwargs):     \n",
    "        kwargs = kwargs\n",
    "\n",
    "s = Example2()\n",
    "\n",
    "s"
   ]
  },
  {
   "cell_type": "code",
   "execution_count": 21,
   "metadata": {},
   "outputs": [
    {
     "data": {
      "text/plain": [
       "<__main__.Example2 at 0x1093d4f40>"
      ]
     },
     "execution_count": 21,
     "metadata": {},
     "output_type": "execute_result"
    }
   ],
   "source": [
    "# pythin is passing and init will not pass an arg without the self\n",
    "\n",
    "class Example2:     \n",
    "    def __init__(self):     \n",
    "        pass\n",
    "\n",
    "s = Example2()\n",
    "\n",
    "s"
   ]
  },
  {
   "cell_type": "code",
   "execution_count": null,
   "metadata": {},
   "outputs": [],
   "source": []
  },
  {
   "cell_type": "markdown",
   "metadata": {},
   "source": [
    "Can you pass an arbitrary number of args to a decorator function?"
   ]
  },
  {
   "cell_type": "code",
   "execution_count": 22,
   "metadata": {},
   "outputs": [
    {
     "data": {
      "text/plain": [
       "{'a': 3, 'b': 5}"
      ]
     },
     "execution_count": 22,
     "metadata": {},
     "output_type": "execute_result"
    }
   ],
   "source": [
    "class Example2:     \n",
    "    def __init__(self, **kwargs):     \n",
    "        self.kwargs = kwargs\n",
    "\n",
    "s = Example2(a = 3, b=5)   # arbitray number of kwargs\n",
    "\n",
    "s.kwargs"
   ]
  },
  {
   "cell_type": "code",
   "execution_count": 1,
   "metadata": {},
   "outputs": [
    {
     "name": "stdout",
     "output_type": "stream",
     "text": [
      "4\n",
      "5\n",
      "a 3\n",
      "b 5\n"
     ]
    },
    {
     "data": {
      "text/plain": [
       "dict"
      ]
     },
     "execution_count": 1,
     "metadata": {},
     "output_type": "execute_result"
    }
   ],
   "source": [
    "class Example2:     \n",
    "    def __init__(self,*args, **kwargs):     \n",
    "        self.args = args\n",
    "        self.kwargs = kwargs\n",
    "        for i in args:\n",
    "            print(i)\n",
    "        for k,v in kwargs.items():\n",
    "            print(k,v)\n",
    "\n",
    "s = Example2(4,5,a = 3, b=5)   # arbitray number of kwargs\n",
    "\n",
    "type(s.kwargs)"
   ]
  },
  {
   "cell_type": "markdown",
   "metadata": {},
   "source": [
    "when you pass arbitrary number of kyword args to an arg, args that are generated are stored as a tuple"
   ]
  },
  {
=======
>>>>>>> 9bcb85082bee3521929bbc33123fdb6b165afb33
   "cell_type": "markdown",
   "metadata": {},
   "source": [
    "# Using objects"
   ]
  },
  {
   "cell_type": "code",
   "execution_count": null,
   "metadata": {},
   "outputs": [],
   "source": [
<<<<<<< HEAD
    "# pres, gov, senator, congress person \n",
    "# ability to choose someone from these attributes\n",
    "\n",
=======
>>>>>>> 9bcb85082bee3521929bbc33123fdb6b165afb33
    "class Ballot:\n",
    "    pass"
   ]
  },
  {
<<<<<<< HEAD
   "cell_type": "code",
   "execution_count": null,
   "metadata": {},
   "outputs": [],
   "source": [
    "# Most basic\n",
    "\n",
    "class Ballot:\n",
    "    president = None\n",
    "    governor = None\n",
    "    senator = None\n",
    "    congressman = None\n",
    "    \n",
    "my_ballot = Ballot()\n",
    "\n",
    "print(my_ballet.president)"
   ]
  },
  {
   "cell_type": "code",
   "execution_count": 2,
   "metadata": {},
   "outputs": [],
   "source": [
    "class Ballot:\n",
    "    presidential_choices = {\n",
    "        'A': \"Donald Trump\",\n",
    "        'B': \"Joe Biden\"\n",
    "    } \n",
    "    #president = None\n",
    "    #governor = None\n",
    "    #senator = None\n",
    "    #congressperson = None\n",
    "    \n",
    "    # nothing to still create a ballot\n",
    "    def __init__(self, president=None, governor = None, \n",
    "                 senator = None, congressperson = None):\n",
    "        self.president = president\n",
    "        self.governor = governor\n",
    "        self.senator = senator\n",
    "        self.congressperson = congressperson\n",
    "    \n",
    "    def pick_president(self, choice): # function itslef will make you pick, change the atibute of particular ballot, method needs to access instance its referring to\n",
    "        if type(choice) == str:\n",
    "            self.president == choice\n",
    "    \n",
    "    @staticmethod      #does not refer to the instance, but the class itself\n",
    "    def print_year():\n",
    "        print(2020)\n",
    "    \n",
    "my_ballot = Ballot()    \n",
    "\n",
    "#print(my_ballet.president)\n",
    "\n",
    "#Ballot.print_year()\n",
    "\n",
    "my_ballot.pick_president(\"my dog\")  # specific to a couple of choices, prevent write-ins, setter method?\n",
    "                                    # check if it is there, can directly set, no direct getter or setter method, in python safely change the val, technically on the ballot\n",
    "\n",
    "my_ballot.president"
   ]
  },
  {
   "cell_type": "code",
   "execution_count": 3,
   "metadata": {},
   "outputs": [
    {
     "name": "stdin",
     "output_type": "stream",
     "text": [
      " A\n"
     ]
    }
   ],
   "source": [
    "class Ballot:\n",
    "    presidential_choices = {\n",
    "        'A': \"Donald Trump\",\n",
    "        'B': \"Joe Biden\"\n",
    "    } \n",
    "    #president = None\n",
    "    #governor = None\n",
    "    #senator = None\n",
    "    #congressperson = None\n",
    "    \n",
    "    # nothing to still create a ballot\n",
    "    def __init__(self, president=None, governor = None, \n",
    "                 senator = None, congressperson = None):\n",
    "        self.president = president\n",
    "        self.governor = governor\n",
    "        self.senator = senator\n",
    "        self.congressperson = congressperson\n",
    "    \n",
    "    def pick_president(self, choice): # function itslef will make you pick, change the atibute of particular ballot, method needs to access instance its referring to\n",
    "        if type(choice) == str:\n",
    "            self.president == choice\n",
    "            \n",
    "    def display_choices(self, choices):\n",
    "        choice = input()\n",
    "    \n",
    "    @staticmethod      #does not refer to the instance, but the class itself\n",
    "    def print_year():\n",
    "        print(2020)\n",
    "    \n",
    "my_ballot = Ballot()    \n",
    "\n",
    "#print(my_ballet.president)\n",
    "\n",
    "#Ballot.print_year()\n",
    "\n",
    "my_ballot.pick_president(\"my dog\")  # specific to a couple of choices, prevent write-ins, setter method?\n",
    "                                    # check if it is there, can directly set, no direct getter or setter method, in python safely change the val, technically on the ballot\n",
    "\n",
    "my_ballot.display_choices(my_ballot.presidential_choices)"
   ]
  },
  {
   "cell_type": "code",
   "execution_count": 4,
   "metadata": {},
   "outputs": [
    {
     "name": "stdout",
     "output_type": "stream",
     "text": [
      "A: Donald Trump\n",
      "B: Joe Biden\n"
     ]
    },
    {
     "name": "stdin",
     "output_type": "stream",
     "text": [
      "Choose A or B A\n"
     ]
    }
   ],
   "source": [
    "class Ballot:\n",
    "    presidential_choices = {\n",
    "        'A': \"Donald Trump\",\n",
    "        'B': \"Joe Biden\"\n",
    "    } \n",
    "    #president = None\n",
    "    #governor = None\n",
    "    #senator = None\n",
    "    #congressperson = None\n",
    "    \n",
    "    # nothing to still create a ballot\n",
    "    def __init__(self, president=None, governor = None, \n",
    "                 senator = None, congressperson = None):\n",
    "        self.president = president\n",
    "        self.governor = governor\n",
    "        self.senator = senator\n",
    "        self.congressperson = congressperson\n",
    "    \n",
    "    def pick_president(self, choice): # function itslef will make you pick, change the atibute of particular ballot, method needs to access instance its referring to\n",
    "        #\n",
    "        \n",
    "        if type(choice) == str:\n",
    "            self.president == choice\n",
    "            \n",
    "    def display_choices(self, choices):\n",
    "        \n",
    "        for k,v in choices.items():\n",
    "            print(f\"{k}: {v}\")\n",
    "        choice = input(\"Choose A or B\")\n",
    "    \n",
    "    @staticmethod      #does not refer to the instance, but the class itself\n",
    "    def print_year():\n",
    "        print(2020)\n",
    "    \n",
    "my_ballot = Ballot()    \n",
    "\n",
    "#print(my_ballet.president)\n",
    "\n",
    "#Ballot.print_year()\n",
    "\n",
    "my_ballot.pick_president(\"my dog\")  # specific to a couple of choices, prevent write-ins, setter method?\n",
    "                                    # check if it is there, can directly set, no direct getter or setter method, in python safely change the val, technically on the ballot\n",
    "\n",
    "my_ballot.display_choices(my_ballot.presidential_choices)"
   ]
  },
  {
   "cell_type": "code",
   "execution_count": 6,
   "metadata": {},
   "outputs": [
    {
     "ename": "NameError",
     "evalue": "name 'display_choices' is not defined",
     "output_type": "error",
     "traceback": [
      "\u001b[0;31m---------------------------------------------------------------------------\u001b[0m",
      "\u001b[0;31mNameError\u001b[0m                                 Traceback (most recent call last)",
      "\u001b[0;32m<ipython-input-6-c7e9c5090f83>\u001b[0m in \u001b[0;36m<module>\u001b[0;34m\u001b[0m\n\u001b[1;32m     39\u001b[0m \u001b[0;31m#Ballot.print_year()\u001b[0m\u001b[0;34m\u001b[0m\u001b[0;34m\u001b[0m\u001b[0;34m\u001b[0m\u001b[0m\n\u001b[1;32m     40\u001b[0m \u001b[0;34m\u001b[0m\u001b[0m\n\u001b[0;32m---> 41\u001b[0;31m \u001b[0mmy_ballot\u001b[0m\u001b[0;34m.\u001b[0m\u001b[0mpick_president\u001b[0m\u001b[0;34m(\u001b[0m\u001b[0;34m)\u001b[0m  \u001b[0;31m# specific to a couple of choices, prevent write-ins, setter method?\u001b[0m\u001b[0;34m\u001b[0m\u001b[0;34m\u001b[0m\u001b[0m\n\u001b[0m\u001b[1;32m     42\u001b[0m                                     \u001b[0;31m# check if it is there, can directly set, no direct getter or setter method, in python safely change the val, technically on the ballot\u001b[0m\u001b[0;34m\u001b[0m\u001b[0;34m\u001b[0m\u001b[0;34m\u001b[0m\u001b[0m\n\u001b[1;32m     43\u001b[0m \u001b[0;34m\u001b[0m\u001b[0m\n",
      "\u001b[0;32m<ipython-input-6-c7e9c5090f83>\u001b[0m in \u001b[0;36mpick_president\u001b[0;34m(self)\u001b[0m\n\u001b[1;32m     18\u001b[0m \u001b[0;34m\u001b[0m\u001b[0m\n\u001b[1;32m     19\u001b[0m     \u001b[0;32mdef\u001b[0m \u001b[0mpick_president\u001b[0m\u001b[0;34m(\u001b[0m\u001b[0mself\u001b[0m\u001b[0;34m)\u001b[0m\u001b[0;34m:\u001b[0m \u001b[0;31m# function itslef will make you pick, change the atibute of particular ballot, method needs to access instance its referring to\u001b[0m\u001b[0;34m\u001b[0m\u001b[0;34m\u001b[0m\u001b[0m\n\u001b[0;32m---> 20\u001b[0;31m         \u001b[0mdisplay_choices\u001b[0m\u001b[0;34m(\u001b[0m\u001b[0mpresidential_choices\u001b[0m\u001b[0;34m)\u001b[0m\u001b[0;34m\u001b[0m\u001b[0;34m\u001b[0m\u001b[0m\n\u001b[0m\u001b[1;32m     21\u001b[0m \u001b[0;34m\u001b[0m\u001b[0m\n\u001b[1;32m     22\u001b[0m         \u001b[0;32mif\u001b[0m \u001b[0mtype\u001b[0m\u001b[0;34m(\u001b[0m\u001b[0mchoice\u001b[0m\u001b[0;34m)\u001b[0m \u001b[0;34m==\u001b[0m \u001b[0mstr\u001b[0m\u001b[0;34m:\u001b[0m\u001b[0;34m\u001b[0m\u001b[0;34m\u001b[0m\u001b[0m\n",
      "\u001b[0;31mNameError\u001b[0m: name 'display_choices' is not defined"
     ]
    }
   ],
   "source": [
    "class Ballot:\n",
    "    presidential_choices = {\n",
    "        'A': \"Donald Trump\",\n",
    "        'B': \"Joe Biden\"\n",
    "    } \n",
    "    #president = None\n",
    "    #governor = None\n",
    "    #senator = None\n",
    "    #congressperson = None\n",
    "    \n",
    "    # nothing to still create a ballot\n",
    "    def __init__(self, president=None, governor = None, \n",
    "                 senator = None, congressperson = None):\n",
    "        self.president = president\n",
    "        self.governor = governor\n",
    "        self.senator = senator\n",
    "        self.congressperson = congressperson\n",
    "    \n",
    "    def pick_president(self): # function itslef will make you pick, change the atibute of particular ballot, method needs to access instance its referring to\n",
    "        display_choices(presidential_choices)\n",
    "        \n",
    "        if type(choice) == str:\n",
    "            self.president == choice\n",
    "            \n",
    "    def display_choices(self, choices):\n",
    "        \n",
    "        for k,v in choices.items():\n",
    "            print(f\"{k}: {v}\")\n",
    "        choice = input(\"Choose A or B\")\n",
    "    \n",
    "    @staticmethod      #does not refer to the instance, but the class itself\n",
    "    def print_year():\n",
    "        print(2020)\n",
    "    \n",
    "my_ballot = Ballot()    \n",
    "\n",
    "#print(my_ballet.president)\n",
    "\n",
    "#Ballot.print_year()\n",
    "\n",
    "my_ballot.pick_president()  # specific to a couple of choices, prevent write-ins, setter method?\n",
    "                                    # check if it is there, can directly set, no direct getter or setter method, in python safely change the val, technically on the ballot\n",
    "\n",
    "my_ballot.display_choices(my_ballot.presidential_choices)"
   ]
  },
  {
=======
>>>>>>> 9bcb85082bee3521929bbc33123fdb6b165afb33
   "cell_type": "markdown",
   "metadata": {},
   "source": [
    "# `getattr()`\n",
    "\n",
    "`getattr(object, name[, default])` -> `value`\n",
    "\n",
    "Get a named attribute from an object \n",
    "\n",
    "`getattr(x, 'y')` is equivalent to `x.y` \n",
    "\n",
    "When a default argument is given, it is returned when the attribute doesn't exist; without it, an exception is raised in that case."
   ]
  },
  {
   "cell_type": "code",
<<<<<<< HEAD
   "execution_count": 32,
   "metadata": {},
   "outputs": [
    {
     "name": "stdout",
     "output_type": "stream",
     "text": [
      "war and peace\n",
      "war and peace\n"
     ]
    },
    {
     "data": {
      "text/plain": [
       "True"
      ]
     },
     "execution_count": 32,
     "metadata": {},
     "output_type": "execute_result"
    }
   ],
=======
   "execution_count": null,
   "metadata": {},
   "outputs": [],
>>>>>>> 9bcb85082bee3521929bbc33123fdb6b165afb33
   "source": [
    "class Book:\n",
    "    title = \"war and peace\"\n",
    "\n",
    "book = Book()\n",
    "\n",
<<<<<<< HEAD
    "print(getattr(book, \"title\"))    \n",
    "print(book.title)\n",
    "getattr(book, 'title') == book.title    # provide string of attribute"
=======
    "print(getattr(book, \"title\"))\n",
    "print(book.title)\n",
    "getattr(book, 'title') == book.title"
>>>>>>> 9bcb85082bee3521929bbc33123fdb6b165afb33
   ]
  },
  {
   "cell_type": "markdown",
   "metadata": {},
   "source": [
    "# `setattr()`\n",
    "\n",
    "Sets the named attribute on the given object to the specified value.\n",
    "\n",
    "The `setattr()` function takes three parameters:\n",
    "* object - object whose attribute is to be set\n",
    "* name - attribute name\n",
    "* value - value given to the attribute\n",
    "\n",
    "\n",
    "`setattr(x, 'y', v)` is equivalent to `x.y = v`"
   ]
  },
  {
   "cell_type": "code",
<<<<<<< HEAD
   "execution_count": 35,
   "metadata": {},
   "outputs": [
    {
     "name": "stdout",
     "output_type": "stream",
     "text": [
      "war and peace\n",
      "war and peace\n"
     ]
    },
    {
     "data": {
      "text/plain": [
       "'war and peace'"
      ]
     },
     "execution_count": 35,
     "metadata": {},
     "output_type": "execute_result"
    }
   ],
=======
   "execution_count": null,
   "metadata": {},
   "outputs": [],
>>>>>>> 9bcb85082bee3521929bbc33123fdb6b165afb33
   "source": [
    "class Book:\n",
    "    title = None\n",
    "\n",
    "book = Book()\n",
    "\n",
    "setattr(book,\"title\", \"war and peace\")\n",
    "\n",
    "print(book.title)\n",
<<<<<<< HEAD
    "print(getattr(book, 'title'))\n",
    "getattr(book, \"title\")\n",
    "\n",
    "\n"
   ]
  },
  {
   "cell_type": "code",
   "execution_count": 36,
   "metadata": {},
   "outputs": [
    {
     "data": {
      "text/plain": [
       "\"getattr(object, name[, default]) -> value\\n\\nGet a named attribute from an object; getattr(x, 'y') is equivalent to x.y.\\nWhen a default argument is given, it is returned when the attribute doesn't\\nexist; without it, an exception is raised in that case.\""
      ]
     },
     "execution_count": 36,
     "metadata": {},
     "output_type": "execute_result"
    }
   ],
   "source": [
    "getattr.__doc__\n"
   ]
  },
  {
   "cell_type": "code",
   "execution_count": 38,
   "metadata": {},
   "outputs": [
    {
     "data": {
      "text/plain": [
       "\"Sets the named attribute on the given object to the specified value.\\n\\nsetattr(x, 'y', v) is equivalent to ``x.y = v''\""
      ]
     },
     "execution_count": 38,
     "metadata": {},
     "output_type": "execute_result"
    }
   ],
   "source": [
    "setattr.__doc__"
   ]
  },
  {
   "cell_type": "code",
   "execution_count": 37,
   "metadata": {},
   "outputs": [
    {
     "ename": "AttributeError",
     "evalue": "'Book' object has no attribute 'author'",
     "output_type": "error",
     "traceback": [
      "\u001b[0;31m---------------------------------------------------------------------------\u001b[0m",
      "\u001b[0;31mAttributeError\u001b[0m                            Traceback (most recent call last)",
      "\u001b[0;32m<ipython-input-37-bd2a632f1b81>\u001b[0m in \u001b[0;36m<module>\u001b[0;34m\u001b[0m\n\u001b[1;32m      4\u001b[0m     \u001b[0;31m#book.attr - would not work\u001b[0m\u001b[0;34m\u001b[0m\u001b[0;34m\u001b[0m\u001b[0;34m\u001b[0m\u001b[0m\n\u001b[1;32m      5\u001b[0m     \u001b[0;31m#eval(f\"book.attr\")       # would need another method\u001b[0m\u001b[0;34m\u001b[0m\u001b[0;34m\u001b[0m\u001b[0;34m\u001b[0m\u001b[0m\n\u001b[0;32m----> 6\u001b[0;31m     \u001b[0mgetattr\u001b[0m\u001b[0;34m(\u001b[0m\u001b[0mbook\u001b[0m\u001b[0;34m,\u001b[0m \u001b[0mattr\u001b[0m\u001b[0;34m)\u001b[0m       \u001b[0;31m# easier way to do that\u001b[0m\u001b[0;34m\u001b[0m\u001b[0;34m\u001b[0m\u001b[0m\n\u001b[0m",
      "\u001b[0;31mAttributeError\u001b[0m: 'Book' object has no attribute 'author'"
     ]
    }
   ],
   "source": [
    "list_of_attrs = [\"title\", \"author\"]\n",
    "\n",
    "for attr in list_of_attrs:\n",
    "    #book.attr - would not work\n",
    "    #eval(f\"book.attr\")       # would need another method\n",
    "    getattr(book, attr)       # easier way to do that"
   ]
  },
  {
   "cell_type": "code",
   "execution_count": 39,
   "metadata": {},
   "outputs": [
    {
     "name": "stdout",
     "output_type": "stream",
     "text": [
      "war and peace\n",
      "war and peace\n"
     ]
    },
    {
     "data": {
      "text/plain": [
       "'war and peace'"
      ]
     },
     "execution_count": 39,
     "metadata": {},
     "output_type": "execute_result"
    }
   ],
   "source": [
    "class Book:\n",
    "    title = None\n",
    "\n",
    "book_1 = Book()\n",
    "\n",
    "setattr(book_1,\"title\", \"war and peace\")\n",
    "\n",
    "print(book_1.title)\n",
    "print(getattr(book_1, 'title'))\n",
    "getattr(book, \"title\")"
   ]
  },
  {
   "cell_type": "code",
   "execution_count": null,
   "metadata": {},
   "outputs": [],
   "source": []
  },
  {
   "cell_type": "code",
   "execution_count": null,
   "metadata": {},
   "outputs": [],
   "source": []
  },
  {
=======
    "print(getattr(book, 'title'))"
   ]
  },
  {
>>>>>>> 9bcb85082bee3521929bbc33123fdb6b165afb33
   "cell_type": "markdown",
   "metadata": {},
   "source": [
    "# \"Dunder\" Methods/Attributes"
   ]
  },
  {
   "cell_type": "markdown",
   "metadata": {},
   "source": [
    "## `__dict__`\n",
    "\n",
    "This attribute contains a dictionary of the class/object attributes"
   ]
  },
  {
   "cell_type": "code",
<<<<<<< HEAD
   "execution_count": 41,
   "metadata": {},
   "outputs": [
    {
     "name": "stdout",
     "output_type": "stream",
     "text": [
      "{'__module__': '__main__', 'attribute1': 'attribute1 value', '__init__': <function DictExample.__init__ at 0x1099c1c10>, 'classmethod1': <function DictExample.classmethod1 at 0x1099c1ca0>, '__dict__': <attribute '__dict__' of 'DictExample' objects>, '__weakref__': <attribute '__weakref__' of 'DictExample' objects>, '__doc__': None}\n"
     ]
    }
   ],
=======
   "execution_count": null,
   "metadata": {},
   "outputs": [],
>>>>>>> 9bcb85082bee3521929bbc33123fdb6b165afb33
   "source": [
    "class DictExample:\n",
    "    attribute1 = \"attribute1 value\"\n",
    "    \n",
    "    def __init__(self, attr):\n",
    "        self.attribute1 = attr\n",
    "        \n",
    "    def classmethod1(self):\n",
    "        return \"classmethod1 value\"\n",
    "    \n",
    "print(DictExample.__dict__)\n",
    "\n",
<<<<<<< HEAD
    "#d = DictExample('attr')\n",
    "#d.__dict__"
   ]
  },
  {
   "cell_type": "code",
   "execution_count": 43,
   "metadata": {},
   "outputs": [
    {
     "data": {
      "text/plain": [
       "{'attribute1': 'attr'}"
      ]
     },
     "execution_count": 43,
     "metadata": {},
     "output_type": "execute_result"
    }
   ],
   "source": [
    "class DictExample:\n",
    "    attribute1 = \"attribute1 value\"\n",
    "    \n",
    "    def __init__(self, attr):\n",
    "        self.attribute1 = attr\n",
    "        \n",
    "    def classmethod1(self):\n",
    "        return \"classmethod1 value\"\n",
    "    \n",
    "#print(DictExample.__dict__)\n",
    "\n",
    "d = DictExample('attr')\n",
    "d.__dict__    # useful to give us attribute of a class instance"
   ]
  },
  {
   "cell_type": "code",
   "execution_count": 45,
   "metadata": {},
   "outputs": [
    {
     "data": {
      "text/plain": [
       "{'attribute1': 'attr', 'new_attribute': False}"
      ]
     },
     "execution_count": 45,
     "metadata": {},
     "output_type": "execute_result"
    }
   ],
   "source": [
    "class DictExample:\n",
    "    attribute1 = \"attribute1 value\"\n",
    "    \n",
    "    def __init__(self, attr):\n",
    "        self.attribute1 = attr\n",
    "        \n",
    "    def classmethod1(self):\n",
    "        return \"classmethod1 value\"\n",
    "    \n",
    "#print(DictExample.__dict__)\n",
    "\n",
    "d = DictExample('attr')\n",
    "d.new_attribute = False\n",
=======
    "d = DictExample('attr')\n",
>>>>>>> 9bcb85082bee3521929bbc33123fdb6b165afb33
    "d.__dict__"
   ]
  },
  {
   "cell_type": "markdown",
   "metadata": {},
   "source": [
    "## `__getattr__` \n",
    "\n",
    "This method will control how python accesses attributes of your object/class"
   ]
  },
  {
   "cell_type": "code",
<<<<<<< HEAD
   "execution_count": 46,
   "metadata": {},
   "outputs": [
    {
     "name": "stdout",
     "output_type": "stream",
     "text": [
      "war and peace\n",
      "Leo Tolstoy\n"
     ]
    },
    {
     "ename": "AttributeError",
     "evalue": "'Book' object has no attribute 'year'",
     "output_type": "error",
     "traceback": [
      "\u001b[0;31m---------------------------------------------------------------------------\u001b[0m",
      "\u001b[0;31mAttributeError\u001b[0m                            Traceback (most recent call last)",
      "\u001b[0;32m<ipython-input-46-aa9ccbe6d233>\u001b[0m in \u001b[0;36m<module>\u001b[0;34m\u001b[0m\n\u001b[1;32m      8\u001b[0m \u001b[0mprint\u001b[0m\u001b[0;34m(\u001b[0m\u001b[0mbook\u001b[0m\u001b[0;34m.\u001b[0m\u001b[0mtitle\u001b[0m\u001b[0;34m)\u001b[0m\u001b[0;34m\u001b[0m\u001b[0;34m\u001b[0m\u001b[0m\n\u001b[1;32m      9\u001b[0m \u001b[0mprint\u001b[0m\u001b[0;34m(\u001b[0m\u001b[0mbook\u001b[0m\u001b[0;34m.\u001b[0m\u001b[0mauthor\u001b[0m\u001b[0;34m)\u001b[0m\u001b[0;34m\u001b[0m\u001b[0;34m\u001b[0m\u001b[0m\n\u001b[0;32m---> 10\u001b[0;31m \u001b[0mprint\u001b[0m\u001b[0;34m(\u001b[0m\u001b[0mbook\u001b[0m\u001b[0;34m.\u001b[0m\u001b[0myear\u001b[0m\u001b[0;34m)\u001b[0m\u001b[0;34m\u001b[0m\u001b[0;34m\u001b[0m\u001b[0m\n\u001b[0m",
      "\u001b[0;31mAttributeError\u001b[0m: 'Book' object has no attribute 'year'"
     ]
    }
   ],
=======
   "execution_count": null,
   "metadata": {},
   "outputs": [],
>>>>>>> 9bcb85082bee3521929bbc33123fdb6b165afb33
   "source": [
    "class Book:\n",
    "    def __init__(self, title=None, author=None):\n",
    "        self.title = title\n",
    "        self.author = author\n",
    "        \n",
    "book = Book('war and peace', author = 'Leo Tolstoy')\n",
    "\n",
    "print(book.title)\n",
    "print(book.author)\n",
    "print(book.year)"
   ]
  },
  {
   "cell_type": "code",
<<<<<<< HEAD
   "execution_count": 47,
   "metadata": {},
   "outputs": [
    {
     "name": "stdout",
     "output_type": "stream",
     "text": [
      "war and peace\n",
      "Leo Tolstoy\n",
      "None\n"
     ]
    }
   ],
=======
   "execution_count": null,
   "metadata": {},
   "outputs": [],
>>>>>>> 9bcb85082bee3521929bbc33123fdb6b165afb33
   "source": [
    "class Book:\n",
    "    def __init__(self, title=None, author=None):\n",
    "        self.title = title\n",
    "        self.author = author\n",
    "    \n",
    "    def __getattr__(self, attr):\n",
    "        if attr not in self.__dict__:\n",
    "            #self.__dict__[attr] = None \n",
    "            #self.attr = None\n",
    "            setattr(self, attr, None)   \n",
    "        else:\n",
    "            return getattr(self, attr)\n",
    "        \n",
    "book = Book('war and peace', author = 'Leo Tolstoy')\n",
    "\n",
    "print(book.title)\n",
    "print(book.author)\n",
    "print(book.year)"
   ]
  },
  {
<<<<<<< HEAD
   "cell_type": "code",
   "execution_count": 48,
   "metadata": {},
   "outputs": [
    {
     "name": "stdout",
     "output_type": "stream",
     "text": [
      "war and peace\n",
      "Leo Tolstoy\n",
      "None\n"
     ]
    }
   ],
   "source": [
    "class Book:\n",
    "    def __init__(self, title=None, author=None):\n",
    "        self.title = title\n",
    "        self.author = author\n",
    "    \n",
    "    def __getattr__(self, attr):        # overwrite the method that python's interpreter uses for all classes, do something custom in it\n",
    "        if attr not in self.__dict__:\n",
    "            #self.__dict__[attr] = None \n",
    "            self.attr = None\n",
    "            #setattr(self, attr, None)   \n",
    "        else:\n",
    "            return getattr(self, attr)\n",
    "        \n",
    "book = Book('war and peace', author = 'Leo Tolstoy')\n",
    "\n",
    "print(book.title)\n",
    "print(book.author)\n",
    "print(book.year)"
   ]
  },
  {
   "cell_type": "code",
   "execution_count": 7,
   "metadata": {},
   "outputs": [
    {
     "name": "stdout",
     "output_type": "stream",
     "text": [
      "war and peace\n",
      "Leo Tolstoy\n",
      "None\n"
     ]
    }
   ],
   "source": [
    "class Book:\n",
    "    def __init__(self, title=None, author=None):\n",
    "        self.title = title\n",
    "        self.author = author\n",
    "    \n",
    "    def __getattr__(self, attr):        # overwrite the method that python's interpreter uses for all classes, do something custom in it\n",
    "        if attr not in self.__dict__:\n",
    "            #self.__dict__[attr] = None \n",
    "            self.attr = None\n",
    "            #setattr(self, attr, None)   \n",
    "        else:\n",
    "            return getattr(self, attr)\n",
    "        \n",
    "book = Book('war and peace', author = 'Leo Tolstoy')\n",
    "\n",
    "print(book.title)\n",
    "print(book.author)\n",
    "\n",
    "print(book.year)"
   ]
  },
  {
   "cell_type": "code",
   "execution_count": 49,
   "metadata": {},
   "outputs": [
    {
     "name": "stdout",
     "output_type": "stream",
     "text": [
      "war and peace\n",
      "Leo Tolstoy\n",
      "None\n"
     ]
    }
   ],
   "source": [
    "# dunder method will handle how to handle issues with the class, __dict__ will retunr attributes of class instance in a dictionary\n",
    "\n",
    "class Book:\n",
    "    def __init__(self, title=None, author=None):\n",
    "        self.title = title\n",
    "        self.author = author\n",
    "    \n",
    "    # replace with our code\n",
    "    def __getattr__(self, attr):\n",
    "        if attr not in self.__dict__:\n",
    "            self.__dict__[attr] = None \n",
    "            #self.attr = None\n",
    "            #setattr(self, attr, None)   \n",
    "        else:\n",
    "            return getattr(self, attr)\n",
    "        \n",
    "book = Book('war and peace', author = 'Leo Tolstoy')\n",
    "\n",
    "print(book.title)\n",
    "print(book.author)\n",
    "print(book.year)"
   ]
  },
  {
=======
>>>>>>> 9bcb85082bee3521929bbc33123fdb6b165afb33
   "cell_type": "markdown",
   "metadata": {},
   "source": [
    "## `__setattr__`  \n",
    "\n",
    "This method will control how your object sets attributes."
   ]
  },
  {
   "cell_type": "code",
   "execution_count": null,
   "metadata": {},
<<<<<<< HEAD
   "outputs": [],
   "source": [
    "How setting of attributes are handled"
   ]
  },
  {
   "cell_type": "code",
   "execution_count": 52,
   "metadata": {},
   "outputs": [
    {
     "name": "stdout",
     "output_type": "stream",
     "text": [
      "war and peace\n",
      "Leo Tolstoy\n"
     ]
    }
   ],
   "source": [
    "class Book:\n",
    "    def __init__(self, title=None, author=None):\n",
    "        self.title = title\n",
    "        self.author = author\n",
    "        \n",
    "book = Book('war and peace', author = 'Leo Tolstoy')\n",
    "\n",
    "print(book.title)\n",
    "print(book.author)"
   ]
  },
  {
   "cell_type": "code",
   "execution_count": null,
   "metadata": {},
   "outputs": [],
   "source": [
    "Might not be good for our purposes so..."
   ]
  },
  {
   "cell_type": "code",
   "execution_count": null,
   "metadata": {},
   "outputs": [],
   "source": []
  },
  {
   "cell_type": "code",
   "execution_count": 53,
   "metadata": {},
   "outputs": [
    {
     "name": "stdout",
     "output_type": "stream",
     "text": [
      "War And Peace\n",
      "None\n"
     ]
    }
   ],
   "source": [
    "# same way as built in method, custom how to set an attr for a class\n",
    "\n",
    "class Book:\n",
    "    def __init__(self, title=None, author=None):\n",
    "        self.title = title\n",
    "        self.author = author\n",
    "    \n",
    "    def __setattr__(self, attr, value):\n",
    "        if type(value) == str:\n",
    "            #self.attr = value.capitalize()\n",
    "            #setattr(self, attr, value)\n",
    "            self.__dict__[attr] = value.title()\n",
    "        else:\n",
    "            self.__dict__[attr] = None\n",
    "        \n",
    "book = Book('war and peace', author = 3)\n",
    "\n",
    "print(book.title)\n",
    "print(book.author)    # way to protect against data types we dont want in our class"
   ]
  },
  {
   "cell_type": "code",
   "execution_count": 8,
   "metadata": {},
   "outputs": [
    {
     "ename": "RecursionError",
     "evalue": "maximum recursion depth exceeded while calling a Python object",
     "output_type": "error",
     "traceback": [
      "\u001b[0;31m---------------------------------------------------------------------------\u001b[0m",
      "\u001b[0;31mRecursionError\u001b[0m                            Traceback (most recent call last)",
      "\u001b[0;32m<ipython-input-8-7becd8b26b5d>\u001b[0m in \u001b[0;36m<module>\u001b[0;34m\u001b[0m\n\u001b[1;32m     14\u001b[0m             \u001b[0mself\u001b[0m\u001b[0;34m.\u001b[0m\u001b[0m__dict__\u001b[0m\u001b[0;34m[\u001b[0m\u001b[0mattr\u001b[0m\u001b[0;34m]\u001b[0m \u001b[0;34m=\u001b[0m \u001b[0;32mNone\u001b[0m\u001b[0;34m\u001b[0m\u001b[0;34m\u001b[0m\u001b[0m\n\u001b[1;32m     15\u001b[0m \u001b[0;34m\u001b[0m\u001b[0m\n\u001b[0;32m---> 16\u001b[0;31m \u001b[0mbook\u001b[0m \u001b[0;34m=\u001b[0m \u001b[0mBook\u001b[0m\u001b[0;34m(\u001b[0m\u001b[0;34m'war and peace'\u001b[0m\u001b[0;34m,\u001b[0m \u001b[0mauthor\u001b[0m \u001b[0;34m=\u001b[0m \u001b[0;36m3\u001b[0m\u001b[0;34m)\u001b[0m\u001b[0;34m\u001b[0m\u001b[0;34m\u001b[0m\u001b[0m\n\u001b[0m\u001b[1;32m     17\u001b[0m \u001b[0;34m\u001b[0m\u001b[0m\n\u001b[1;32m     18\u001b[0m \u001b[0mprint\u001b[0m\u001b[0;34m(\u001b[0m\u001b[0mbook\u001b[0m\u001b[0;34m.\u001b[0m\u001b[0mtitle\u001b[0m\u001b[0;34m)\u001b[0m\u001b[0;34m\u001b[0m\u001b[0;34m\u001b[0m\u001b[0m\n",
      "\u001b[0;32m<ipython-input-8-7becd8b26b5d>\u001b[0m in \u001b[0;36m__init__\u001b[0;34m(self, title, author)\u001b[0m\n\u001b[1;32m      3\u001b[0m \u001b[0;32mclass\u001b[0m \u001b[0mBook\u001b[0m\u001b[0;34m:\u001b[0m\u001b[0;34m\u001b[0m\u001b[0;34m\u001b[0m\u001b[0m\n\u001b[1;32m      4\u001b[0m     \u001b[0;32mdef\u001b[0m \u001b[0m__init__\u001b[0m\u001b[0;34m(\u001b[0m\u001b[0mself\u001b[0m\u001b[0;34m,\u001b[0m \u001b[0mtitle\u001b[0m\u001b[0;34m=\u001b[0m\u001b[0;32mNone\u001b[0m\u001b[0;34m,\u001b[0m \u001b[0mauthor\u001b[0m\u001b[0;34m=\u001b[0m\u001b[0;32mNone\u001b[0m\u001b[0;34m)\u001b[0m\u001b[0;34m:\u001b[0m\u001b[0;34m\u001b[0m\u001b[0;34m\u001b[0m\u001b[0m\n\u001b[0;32m----> 5\u001b[0;31m         \u001b[0mself\u001b[0m\u001b[0;34m.\u001b[0m\u001b[0mtitle\u001b[0m \u001b[0;34m=\u001b[0m \u001b[0mtitle\u001b[0m\u001b[0;34m\u001b[0m\u001b[0;34m\u001b[0m\u001b[0m\n\u001b[0m\u001b[1;32m      6\u001b[0m         \u001b[0mself\u001b[0m\u001b[0;34m.\u001b[0m\u001b[0mauthor\u001b[0m \u001b[0;34m=\u001b[0m \u001b[0mauthor\u001b[0m\u001b[0;34m\u001b[0m\u001b[0;34m\u001b[0m\u001b[0m\n\u001b[1;32m      7\u001b[0m \u001b[0;34m\u001b[0m\u001b[0m\n",
      "\u001b[0;32m<ipython-input-8-7becd8b26b5d>\u001b[0m in \u001b[0;36m__setattr__\u001b[0;34m(self, attr, value)\u001b[0m\n\u001b[1;32m      9\u001b[0m         \u001b[0;32mif\u001b[0m \u001b[0mtype\u001b[0m\u001b[0;34m(\u001b[0m\u001b[0mvalue\u001b[0m\u001b[0;34m)\u001b[0m \u001b[0;34m==\u001b[0m \u001b[0mstr\u001b[0m\u001b[0;34m:\u001b[0m\u001b[0;34m\u001b[0m\u001b[0;34m\u001b[0m\u001b[0m\n\u001b[1;32m     10\u001b[0m             \u001b[0;31m#self.attr = value.capitalize()\u001b[0m\u001b[0;34m\u001b[0m\u001b[0;34m\u001b[0m\u001b[0;34m\u001b[0m\u001b[0m\n\u001b[0;32m---> 11\u001b[0;31m             \u001b[0msetattr\u001b[0m\u001b[0;34m(\u001b[0m\u001b[0mself\u001b[0m\u001b[0;34m,\u001b[0m \u001b[0mattr\u001b[0m\u001b[0;34m,\u001b[0m \u001b[0mvalue\u001b[0m\u001b[0;34m.\u001b[0m\u001b[0mtitle\u001b[0m\u001b[0;34m(\u001b[0m\u001b[0;34m)\u001b[0m\u001b[0;34m)\u001b[0m\u001b[0;34m\u001b[0m\u001b[0;34m\u001b[0m\u001b[0m\n\u001b[0m\u001b[1;32m     12\u001b[0m             \u001b[0;31m#self.__dict__[attr] = value.title()\u001b[0m\u001b[0;34m\u001b[0m\u001b[0;34m\u001b[0m\u001b[0;34m\u001b[0m\u001b[0m\n\u001b[1;32m     13\u001b[0m         \u001b[0;32melse\u001b[0m\u001b[0;34m:\u001b[0m\u001b[0;34m\u001b[0m\u001b[0;34m\u001b[0m\u001b[0m\n",
      "... last 1 frames repeated, from the frame below ...\n",
      "\u001b[0;32m<ipython-input-8-7becd8b26b5d>\u001b[0m in \u001b[0;36m__setattr__\u001b[0;34m(self, attr, value)\u001b[0m\n\u001b[1;32m      9\u001b[0m         \u001b[0;32mif\u001b[0m \u001b[0mtype\u001b[0m\u001b[0;34m(\u001b[0m\u001b[0mvalue\u001b[0m\u001b[0;34m)\u001b[0m \u001b[0;34m==\u001b[0m \u001b[0mstr\u001b[0m\u001b[0;34m:\u001b[0m\u001b[0;34m\u001b[0m\u001b[0;34m\u001b[0m\u001b[0m\n\u001b[1;32m     10\u001b[0m             \u001b[0;31m#self.attr = value.capitalize()\u001b[0m\u001b[0;34m\u001b[0m\u001b[0;34m\u001b[0m\u001b[0;34m\u001b[0m\u001b[0m\n\u001b[0;32m---> 11\u001b[0;31m             \u001b[0msetattr\u001b[0m\u001b[0;34m(\u001b[0m\u001b[0mself\u001b[0m\u001b[0;34m,\u001b[0m \u001b[0mattr\u001b[0m\u001b[0;34m,\u001b[0m \u001b[0mvalue\u001b[0m\u001b[0;34m.\u001b[0m\u001b[0mtitle\u001b[0m\u001b[0;34m(\u001b[0m\u001b[0;34m)\u001b[0m\u001b[0;34m)\u001b[0m\u001b[0;34m\u001b[0m\u001b[0;34m\u001b[0m\u001b[0m\n\u001b[0m\u001b[1;32m     12\u001b[0m             \u001b[0;31m#self.__dict__[attr] = value.title()\u001b[0m\u001b[0;34m\u001b[0m\u001b[0;34m\u001b[0m\u001b[0;34m\u001b[0m\u001b[0m\n\u001b[1;32m     13\u001b[0m         \u001b[0;32melse\u001b[0m\u001b[0;34m:\u001b[0m\u001b[0;34m\u001b[0m\u001b[0;34m\u001b[0m\u001b[0m\n",
      "\u001b[0;31mRecursionError\u001b[0m: maximum recursion depth exceeded while calling a Python object"
     ]
    }
   ],
   "source": [
    "# infinite loop if we use \n",
    "\n",
    "class Book:\n",
    "    def __init__(self, title=None, author=None):\n",
    "        self.title = title\n",
    "        self.author = author\n",
    "    \n",
    "    def __setattr__(self, attr, value):\n",
    "        if type(value) == str:\n",
    "            #self.attr = value.capitalize()\n",
    "            setattr(self, attr, value.title())\n",
    "            #self.__dict__[attr] = value.title()\n",
    "        else:\n",
    "            self.__dict__[attr] = None\n",
    "        \n",
    "book = Book('war and peace', author = 3)\n",
    "\n",
    "print(book.title)\n",
    "print(book.author)    "
   ]
  },
  {
   "cell_type": "code",
   "execution_count": 9,
   "metadata": {},
   "outputs": [
    {
     "ename": "RecursionError",
     "evalue": "maximum recursion depth exceeded while calling a Python object",
     "output_type": "error",
     "traceback": [
      "\u001b[0;31m---------------------------------------------------------------------------\u001b[0m",
      "\u001b[0;31mRecursionError\u001b[0m                            Traceback (most recent call last)",
      "\u001b[0;32m<ipython-input-9-a70c70a18ec5>\u001b[0m in \u001b[0;36m<module>\u001b[0;34m\u001b[0m\n\u001b[1;32m     14\u001b[0m             \u001b[0mself\u001b[0m\u001b[0;34m.\u001b[0m\u001b[0m__dict__\u001b[0m\u001b[0;34m[\u001b[0m\u001b[0mattr\u001b[0m\u001b[0;34m]\u001b[0m \u001b[0;34m=\u001b[0m \u001b[0;32mNone\u001b[0m\u001b[0;34m\u001b[0m\u001b[0;34m\u001b[0m\u001b[0m\n\u001b[1;32m     15\u001b[0m \u001b[0;34m\u001b[0m\u001b[0m\n\u001b[0;32m---> 16\u001b[0;31m \u001b[0mbook\u001b[0m \u001b[0;34m=\u001b[0m \u001b[0mBook\u001b[0m\u001b[0;34m(\u001b[0m\u001b[0;34m'war and peace'\u001b[0m\u001b[0;34m,\u001b[0m \u001b[0mauthor\u001b[0m \u001b[0;34m=\u001b[0m \u001b[0;36m3\u001b[0m\u001b[0;34m)\u001b[0m\u001b[0;34m\u001b[0m\u001b[0;34m\u001b[0m\u001b[0m\n\u001b[0m\u001b[1;32m     17\u001b[0m \u001b[0;34m\u001b[0m\u001b[0m\n\u001b[1;32m     18\u001b[0m \u001b[0mprint\u001b[0m\u001b[0;34m(\u001b[0m\u001b[0mbook\u001b[0m\u001b[0;34m.\u001b[0m\u001b[0mtitle\u001b[0m\u001b[0;34m)\u001b[0m\u001b[0;34m\u001b[0m\u001b[0;34m\u001b[0m\u001b[0m\n",
      "\u001b[0;32m<ipython-input-9-a70c70a18ec5>\u001b[0m in \u001b[0;36m__init__\u001b[0;34m(self, title, author)\u001b[0m\n\u001b[1;32m      3\u001b[0m \u001b[0;32mclass\u001b[0m \u001b[0mBook\u001b[0m\u001b[0;34m:\u001b[0m\u001b[0;34m\u001b[0m\u001b[0;34m\u001b[0m\u001b[0m\n\u001b[1;32m      4\u001b[0m     \u001b[0;32mdef\u001b[0m \u001b[0m__init__\u001b[0m\u001b[0;34m(\u001b[0m\u001b[0mself\u001b[0m\u001b[0;34m,\u001b[0m \u001b[0mtitle\u001b[0m\u001b[0;34m=\u001b[0m\u001b[0;32mNone\u001b[0m\u001b[0;34m,\u001b[0m \u001b[0mauthor\u001b[0m\u001b[0;34m=\u001b[0m\u001b[0;32mNone\u001b[0m\u001b[0;34m)\u001b[0m\u001b[0;34m:\u001b[0m\u001b[0;34m\u001b[0m\u001b[0;34m\u001b[0m\u001b[0m\n\u001b[0;32m----> 5\u001b[0;31m         \u001b[0mself\u001b[0m\u001b[0;34m.\u001b[0m\u001b[0mtitle\u001b[0m \u001b[0;34m=\u001b[0m \u001b[0mtitle\u001b[0m\u001b[0;34m\u001b[0m\u001b[0;34m\u001b[0m\u001b[0m\n\u001b[0m\u001b[1;32m      6\u001b[0m         \u001b[0mself\u001b[0m\u001b[0;34m.\u001b[0m\u001b[0mauthor\u001b[0m \u001b[0;34m=\u001b[0m \u001b[0mauthor\u001b[0m\u001b[0;34m\u001b[0m\u001b[0;34m\u001b[0m\u001b[0m\n\u001b[1;32m      7\u001b[0m \u001b[0;34m\u001b[0m\u001b[0m\n",
      "\u001b[0;32m<ipython-input-9-a70c70a18ec5>\u001b[0m in \u001b[0;36m__setattr__\u001b[0;34m(self, attr, value)\u001b[0m\n\u001b[1;32m      8\u001b[0m     \u001b[0;32mdef\u001b[0m \u001b[0m__setattr__\u001b[0m\u001b[0;34m(\u001b[0m\u001b[0mself\u001b[0m\u001b[0;34m,\u001b[0m \u001b[0mattr\u001b[0m\u001b[0;34m,\u001b[0m \u001b[0mvalue\u001b[0m\u001b[0;34m)\u001b[0m\u001b[0;34m:\u001b[0m\u001b[0;34m\u001b[0m\u001b[0;34m\u001b[0m\u001b[0m\n\u001b[1;32m      9\u001b[0m         \u001b[0;32mif\u001b[0m \u001b[0mtype\u001b[0m\u001b[0;34m(\u001b[0m\u001b[0mvalue\u001b[0m\u001b[0;34m)\u001b[0m \u001b[0;34m==\u001b[0m \u001b[0mstr\u001b[0m\u001b[0;34m:\u001b[0m\u001b[0;34m\u001b[0m\u001b[0;34m\u001b[0m\u001b[0m\n\u001b[0;32m---> 10\u001b[0;31m             \u001b[0mself\u001b[0m\u001b[0;34m.\u001b[0m\u001b[0mattr\u001b[0m \u001b[0;34m=\u001b[0m \u001b[0mvalue\u001b[0m\u001b[0;34m.\u001b[0m\u001b[0mcapitalize\u001b[0m\u001b[0;34m(\u001b[0m\u001b[0;34m)\u001b[0m\u001b[0;34m\u001b[0m\u001b[0;34m\u001b[0m\u001b[0m\n\u001b[0m\u001b[1;32m     11\u001b[0m             \u001b[0;31m#setattr(self, attr, value.title())\u001b[0m\u001b[0;34m\u001b[0m\u001b[0;34m\u001b[0m\u001b[0;34m\u001b[0m\u001b[0m\n\u001b[1;32m     12\u001b[0m             \u001b[0;31m#self.__dict__[attr] = value.title()    # --> correct way to use, bu using the dict to call that attr\u001b[0m\u001b[0;34m\u001b[0m\u001b[0;34m\u001b[0m\u001b[0;34m\u001b[0m\u001b[0m\n",
      "... last 1 frames repeated, from the frame below ...\n",
      "\u001b[0;32m<ipython-input-9-a70c70a18ec5>\u001b[0m in \u001b[0;36m__setattr__\u001b[0;34m(self, attr, value)\u001b[0m\n\u001b[1;32m      8\u001b[0m     \u001b[0;32mdef\u001b[0m \u001b[0m__setattr__\u001b[0m\u001b[0;34m(\u001b[0m\u001b[0mself\u001b[0m\u001b[0;34m,\u001b[0m \u001b[0mattr\u001b[0m\u001b[0;34m,\u001b[0m \u001b[0mvalue\u001b[0m\u001b[0;34m)\u001b[0m\u001b[0;34m:\u001b[0m\u001b[0;34m\u001b[0m\u001b[0;34m\u001b[0m\u001b[0m\n\u001b[1;32m      9\u001b[0m         \u001b[0;32mif\u001b[0m \u001b[0mtype\u001b[0m\u001b[0;34m(\u001b[0m\u001b[0mvalue\u001b[0m\u001b[0;34m)\u001b[0m \u001b[0;34m==\u001b[0m \u001b[0mstr\u001b[0m\u001b[0;34m:\u001b[0m\u001b[0;34m\u001b[0m\u001b[0;34m\u001b[0m\u001b[0m\n\u001b[0;32m---> 10\u001b[0;31m             \u001b[0mself\u001b[0m\u001b[0;34m.\u001b[0m\u001b[0mattr\u001b[0m \u001b[0;34m=\u001b[0m \u001b[0mvalue\u001b[0m\u001b[0;34m.\u001b[0m\u001b[0mcapitalize\u001b[0m\u001b[0;34m(\u001b[0m\u001b[0;34m)\u001b[0m\u001b[0;34m\u001b[0m\u001b[0;34m\u001b[0m\u001b[0m\n\u001b[0m\u001b[1;32m     11\u001b[0m             \u001b[0;31m#setattr(self, attr, value.title())\u001b[0m\u001b[0;34m\u001b[0m\u001b[0;34m\u001b[0m\u001b[0;34m\u001b[0m\u001b[0m\n\u001b[1;32m     12\u001b[0m             \u001b[0;31m#self.__dict__[attr] = value.title()    # --> correct way to use, bu using the dict to call that attr\u001b[0m\u001b[0;34m\u001b[0m\u001b[0;34m\u001b[0m\u001b[0;34m\u001b[0m\u001b[0m\n",
      "\u001b[0;31mRecursionError\u001b[0m: maximum recursion depth exceeded while calling a Python object"
     ]
    }
   ],
   "source": [
    "#infinite loop\n",
    "\n",
    "class Book:\n",
    "    def __init__(self, title=None, author=None):\n",
    "        self.title = title\n",
    "        self.author = author\n",
    "    \n",
    "    def __setattr__(self, attr, value):\n",
    "        if type(value) == str:\n",
    "            self.attr = value.capitalize()\n",
    "            #setattr(self, attr, value.title())\n",
    "            #self.__dict__[attr] = value.title()    # --> correct way to use, bu using the dict to call that attr\n",
    "        else:\n",
    "            self.__dict__[attr] = None\n",
    "        \n",
    "book = Book('war and peace', author = 3)\n",
    "\n",
    "print(book.title)\n",
    "print(book.author)  "
   ]
  },
  {
   "cell_type": "code",
   "execution_count": null,
   "metadata": {},
   "outputs": [],
   "source": [
    "to avaoid inf loop, set attr to be value, no looping or recursion"
   ]
  },
  {
   "cell_type": "code",
   "execution_count": 10,
   "metadata": {},
   "outputs": [
    {
     "name": "stdout",
     "output_type": "stream",
     "text": [
      "War And Peace\n",
      "None\n"
     ]
    },
    {
     "data": {
      "text/plain": [
       "'Hello'"
      ]
     },
     "execution_count": 10,
     "metadata": {},
     "output_type": "execute_result"
    }
   ],
   "source": [
    "class Book:\n",
    "    def __init__(self, title=None, author=None):\n",
    "        self.title = title\n",
    "        self.author = author\n",
    "    \n",
    "    def __setattr__(self, attr, value):\n",
    "        if type(value) == str:\n",
    "            #self.attr = value.capitalize()\n",
    "            #setattr(self, attr, value.title())\n",
    "            self.__dict__[attr] = value.title()    # --> correct way to use, bu using the dict to call that attr\n",
    "        else:\n",
    "            self.__dict__[attr] = None\n",
    "        \n",
    "book = Book('war and peace', author = 3)\n",
    "\n",
    "print(book.title)\n",
    "print(book.author)  \n",
    "\n",
    "setattr(book, \"newattr\", \"hello\")\n",
    "book.newattr"
   ]
  },
  {
   "cell_type": "code",
   "execution_count": null,
   "metadata": {},
   "outputs": [],
   "source": [
    "class Book:\n",
    "    def __init__(self, title=None, author=None):\n",
    "        self.title = title\n",
    "        self.author = author\n",
    "    \n",
    "    def __setattr__(self, attr, value):\n",
    "        if type(value) == str:\n",
    "            #self.attr = value.capitalize()\n",
    "            #setattr(self, attr, value.title())\n",
    "            self.__dict__[attr] = value.title()    # --> correct way to use, bu using the dict to call that attr\n",
    "        else:\n",
    "            self.__dict__[attr] = None\n",
    "        \n",
    "book = Book('war and peace', author = 3)\n",
    "\n",
    "print(book.title)\n",
    "print(book.author)  \n",
    "\n",
    "setattr(book, \"newattr\", \"hello\")\n",
    "book.newattr"
   ]
  },
  {
   "cell_type": "code",
   "execution_count": 66,
   "metadata": {},
   "outputs": [
    {
     "name": "stdout",
     "output_type": "stream",
     "text": [
      "War And Peace\n",
      "None\n"
     ]
    },
    {
     "data": {
      "text/plain": [
       "'Hello'"
      ]
     },
     "execution_count": 66,
     "metadata": {},
     "output_type": "execute_result"
    }
   ],
=======
   "outputs": [],
>>>>>>> 9bcb85082bee3521929bbc33123fdb6b165afb33
   "source": [
    "class Book:\n",
    "    def __init__(self, title=None, author=None):\n",
    "        self.title = title\n",
    "        self.author = author\n",
<<<<<<< HEAD
    "    \n",
    "    def __setattr__(self, attr, value):\n",
    "        if type(value) == str:\n",
    "            #self.attr = value.capitalize()\n",
    "            #setattr(self, attr, value.title())\n",
    "            self.__dict__[attr] = value.title()    # --> correct way to use, bu using the dict to call that attr\n",
    "        else:\n",
    "            self.__dict__[attr] = None\n",
    "        \n",
    "book = Book('war and peace', author = 3)\n",
    "\n",
    "print(book.title)\n",
    "print(book.author) \n",
    "\n",
    "setattr(book, \"newattr\", \"hello\")\n",
    "\n",
    "new_book = Book('1984')\n",
    "\n",
    "setattr(new_book, \"newattr\", \"hello\")\n",
    "\n",
    "new_book.newattr"
=======
    "        \n",
    "book = Book('war and peace', author = 'Leo Tolstoy')\n",
    "\n",
    "print(book.title)\n",
    "print(book.author)"
>>>>>>> 9bcb85082bee3521929bbc33123fdb6b165afb33
   ]
  },
  {
   "cell_type": "code",
<<<<<<< HEAD
   "execution_count": 11,
   "metadata": {},
   "outputs": [
    {
     "name": "stdout",
     "output_type": "stream",
     "text": [
      "War And Peace\n",
      "None\n"
     ]
    },
    {
     "data": {
      "text/plain": [
       "'Hello'"
      ]
     },
     "execution_count": 11,
     "metadata": {},
     "output_type": "execute_result"
    }
   ],
=======
   "execution_count": null,
   "metadata": {},
   "outputs": [],
>>>>>>> 9bcb85082bee3521929bbc33123fdb6b165afb33
   "source": [
    "class Book:\n",
    "    def __init__(self, title=None, author=None):\n",
    "        self.title = title\n",
    "        self.author = author\n",
    "    \n",
    "    def __setattr__(self, attr, value):\n",
    "        if type(value) == str:\n",
    "            #self.attr = value.capitalize()\n",
<<<<<<< HEAD
    "            #setattr(self, attr, value.title())\n",
    "            self.__dict__[attr] = value.title()    # --> correct way to use, bu using the dict to call that attr\n",
=======
    "            #setattr(self, attr, value)\n",
    "            self.__dict__[attr] = value.title()\n",
>>>>>>> 9bcb85082bee3521929bbc33123fdb6b165afb33
    "        else:\n",
    "            self.__dict__[attr] = None\n",
    "        \n",
    "book = Book('war and peace', author = 3)\n",
    "\n",
    "print(book.title)\n",
<<<<<<< HEAD
    "print(book.author) \n",
    "\n",
    "setattr(book, \"newattr\", \"hello\")\n",
    "\n",
    "new_book = Book('1984')\n",
    "\n",
    "# without this will revert to original dunder method, like __repr__ example\n",
    "setattr(new_book, \"newattr\", \"hello\")  \n",
    "\n",
    "new_book.newattr"
=======
    "print(book.author)"
>>>>>>> 9bcb85082bee3521929bbc33123fdb6b165afb33
   ]
  },
  {
   "cell_type": "markdown",
   "metadata": {},
   "source": [
    "## `__getitem__`  \n",
    "\n",
    "This method will control how you can access attributes using subscription.  \n",
    "\n",
    "`cls['key']`"
   ]
  },
  {
<<<<<<< HEAD
   "cell_type": "markdown",
   "metadata": {},
   "source": [
    "like with dict,  access using subscription"
   ]
  },
  {
   "cell_type": "code",
   "execution_count": 59,
   "metadata": {},
   "outputs": [
    {
     "ename": "TypeError",
     "evalue": "'bool' object is not subscriptable",
     "output_type": "error",
     "traceback": [
      "\u001b[0;31m---------------------------------------------------------------------------\u001b[0m",
      "\u001b[0;31mTypeError\u001b[0m                                 Traceback (most recent call last)",
      "\u001b[0;32m<ipython-input-59-8352bbd193d1>\u001b[0m in \u001b[0;36m<module>\u001b[0;34m\u001b[0m\n\u001b[1;32m      1\u001b[0m \u001b[0ms\u001b[0m \u001b[0;34m=\u001b[0m \u001b[0;32mTrue\u001b[0m\u001b[0;34m\u001b[0m\u001b[0;34m\u001b[0m\u001b[0m\n\u001b[0;32m----> 2\u001b[0;31m \u001b[0ms\u001b[0m\u001b[0;34m[\u001b[0m\u001b[0;34m'e'\u001b[0m\u001b[0;34m]\u001b[0m\u001b[0;34m\u001b[0m\u001b[0;34m\u001b[0m\u001b[0m\n\u001b[0m",
      "\u001b[0;31mTypeError\u001b[0m: 'bool' object is not subscriptable"
     ]
    }
   ],
   "source": [
    "s = True\n",
    "s['e']"
   ]
  },
  {
   "cell_type": "code",
   "execution_count": 58,
   "metadata": {},
   "outputs": [
    {
     "ename": "TypeError",
     "evalue": "'Book' object is not subscriptable",
     "output_type": "error",
     "traceback": [
      "\u001b[0;31m---------------------------------------------------------------------------\u001b[0m",
      "\u001b[0;31mTypeError\u001b[0m                                 Traceback (most recent call last)",
      "\u001b[0;32m<ipython-input-58-3050c21a82fa>\u001b[0m in \u001b[0;36m<module>\u001b[0;34m\u001b[0m\n\u001b[1;32m      6\u001b[0m \u001b[0mbook\u001b[0m \u001b[0;34m=\u001b[0m \u001b[0mBook\u001b[0m\u001b[0;34m(\u001b[0m\u001b[0;34m'war and peace'\u001b[0m\u001b[0;34m,\u001b[0m \u001b[0mauthor\u001b[0m\u001b[0;34m=\u001b[0m\u001b[0;34m'leo tolstoy'\u001b[0m\u001b[0;34m)\u001b[0m\u001b[0;34m\u001b[0m\u001b[0;34m\u001b[0m\u001b[0m\n\u001b[1;32m      7\u001b[0m \u001b[0;34m\u001b[0m\u001b[0m\n\u001b[0;32m----> 8\u001b[0;31m \u001b[0mbook\u001b[0m\u001b[0;34m[\u001b[0m\u001b[0;34m'title'\u001b[0m\u001b[0;34m]\u001b[0m     \u001b[0;31m# use dictonary subscription syntax\u001b[0m\u001b[0;34m\u001b[0m\u001b[0;34m\u001b[0m\u001b[0m\n\u001b[0m",
      "\u001b[0;31mTypeError\u001b[0m: 'Book' object is not subscriptable"
     ]
    }
   ],
   "source": [
    "class Book:\n",
    "    def __init__(self, title=None,author=None):\n",
    "        self.title = title\n",
    "        self.author = author\n",
    "    \n",
    "book = Book('war and peace', author='leo tolstoy')\n",
    "\n",
    "book['title']     # use dictonary subscription syntax"
   ]
  },
  {
   "cell_type": "markdown",
   "metadata": {},
   "source": [
    "there is a way to make subscriptable"
   ]
  },
  {
   "cell_type": "code",
   "execution_count": 12,
   "metadata": {},
   "outputs": [
    {
     "data": {
      "text/plain": [
       "'war and peace'"
      ]
     },
     "execution_count": 12,
     "metadata": {},
     "output_type": "execute_result"
    }
   ],
=======
   "cell_type": "code",
   "execution_count": null,
   "metadata": {},
   "outputs": [],
>>>>>>> 9bcb85082bee3521929bbc33123fdb6b165afb33
   "source": [
    "class Book:\n",
    "    def __init__(self, title=None,author=None):\n",
    "        self.title = title\n",
    "        self.author = author\n",
    "    \n",
<<<<<<< HEAD
    "    def __getitem__(self, key):     # because dunder method is overriden\n",
    "        return getattr(self,key)\n",
    "    \n",
=======
>>>>>>> 9bcb85082bee3521929bbc33123fdb6b165afb33
    "book = Book('war and peace', author='leo tolstoy')\n",
    "\n",
    "book['title']"
   ]
  },
  {
<<<<<<< HEAD
   "cell_type": "markdown",
   "metadata": {},
   "source": [
    "will work for all the attr"
   ]
  },
  {
   "cell_type": "code",
   "execution_count": 60,
   "metadata": {},
   "outputs": [
    {
     "data": {
      "text/plain": [
       "2020"
      ]
     },
     "execution_count": 60,
     "metadata": {},
     "output_type": "execute_result"
    }
   ],
=======
   "cell_type": "code",
   "execution_count": null,
   "metadata": {},
   "outputs": [],
>>>>>>> 9bcb85082bee3521929bbc33123fdb6b165afb33
   "source": [
    "class Book:\n",
    "    def __init__(self, title=None,author=None):\n",
    "        self.title = title\n",
    "        self.author = author\n",
    "    \n",
<<<<<<< HEAD
    "    def __getitem__(self, key):     # because dunder method is overriden\n",
=======
    "    def __getitem__(self, key):\n",
>>>>>>> 9bcb85082bee3521929bbc33123fdb6b165afb33
    "        return getattr(self,key)\n",
    "    \n",
    "book = Book('war and peace', author='leo tolstoy')\n",
    "\n",
<<<<<<< HEAD
    "book.year = 2020\n",
    "book['year']"
   ]
  },
  {
   "cell_type": "code",
   "execution_count": 14,
   "metadata": {},
   "outputs": [
    {
     "data": {
      "text/plain": [
       "'leo tolstoy'"
      ]
     },
     "execution_count": 14,
     "metadata": {},
     "output_type": "execute_result"
    }
   ],
   "source": [
    "class Book:\n",
    "    def __init__(self, title=None,author=None):\n",
    "        self.title = title\n",
    "        self.author = author\n",
    "    \n",
    "    def __getitem__(self, attr):     # because dunder method is overriden, also this returns a string\n",
    "        return getattr(self,attr)\n",
    "    \n",
    "book = Book('war and peace', author='leo tolstoy')\n",
    "\n",
    "book.year = 2020\n",
    "book['author']"
=======
    "book['title']"
>>>>>>> 9bcb85082bee3521929bbc33123fdb6b165afb33
   ]
  },
  {
   "cell_type": "markdown",
   "metadata": {},
   "source": [
    "## `__setitem__`  \n",
    "\n",
    "This method will control how you can set attributes using item assignment.  \n",
    "\n",
    "e.g. `cls['key'] = 'value'`"
   ]
  },
  {
   "cell_type": "code",
   "execution_count": null,
   "metadata": {},
   "outputs": [],
   "source": [
<<<<<<< HEAD
    "Set using same syntax, to set a new val"
   ]
  },
  {
   "cell_type": "code",
   "execution_count": 62,
   "metadata": {},
   "outputs": [
    {
     "ename": "TypeError",
     "evalue": "'Book' object does not support item assignment",
     "output_type": "error",
     "traceback": [
      "\u001b[0;31m---------------------------------------------------------------------------\u001b[0m",
      "\u001b[0;31mTypeError\u001b[0m                                 Traceback (most recent call last)",
      "\u001b[0;32m<ipython-input-62-e5ecba58c4d3>\u001b[0m in \u001b[0;36m<module>\u001b[0;34m\u001b[0m\n\u001b[1;32m      6\u001b[0m \u001b[0mbook\u001b[0m \u001b[0;34m=\u001b[0m \u001b[0mBook\u001b[0m\u001b[0;34m(\u001b[0m\u001b[0;34m'war and peace'\u001b[0m\u001b[0;34m,\u001b[0m \u001b[0mauthor\u001b[0m\u001b[0;34m=\u001b[0m\u001b[0;34m'leo tolstoy'\u001b[0m\u001b[0;34m)\u001b[0m\u001b[0;34m\u001b[0m\u001b[0;34m\u001b[0m\u001b[0m\n\u001b[1;32m      7\u001b[0m \u001b[0;34m\u001b[0m\u001b[0m\n\u001b[0;32m----> 8\u001b[0;31m \u001b[0mbook\u001b[0m\u001b[0;34m[\u001b[0m\u001b[0;34m'title'\u001b[0m\u001b[0;34m]\u001b[0m \u001b[0;34m=\u001b[0m \u001b[0;34m'new book'\u001b[0m\u001b[0;34m\u001b[0m\u001b[0;34m\u001b[0m\u001b[0m\n\u001b[0m",
      "\u001b[0;31mTypeError\u001b[0m: 'Book' object does not support item assignment"
     ]
    }
   ],
   "source": [
=======
>>>>>>> 9bcb85082bee3521929bbc33123fdb6b165afb33
    "class Book:\n",
    "    def __init__(self, title=None,author=None):\n",
    "        self.title = title\n",
    "        self.author = author\n",
    "    \n",
    "book = Book('war and peace', author='leo tolstoy')\n",
    "\n",
    "book['title'] = 'new book'"
   ]
  },
  {
   "cell_type": "code",
<<<<<<< HEAD
   "execution_count": 63,
   "metadata": {},
   "outputs": [
    {
     "data": {
      "text/plain": [
       "'new book'"
      ]
     },
     "execution_count": 63,
     "metadata": {},
     "output_type": "execute_result"
    }
   ],
=======
   "execution_count": null,
   "metadata": {},
   "outputs": [],
>>>>>>> 9bcb85082bee3521929bbc33123fdb6b165afb33
   "source": [
    "class Book:\n",
    "    def __init__(self, title=None,author=None):\n",
    "        self.title = title\n",
    "        self.author = author\n",
    "        \n",
    "    def __getitem__(self, key):\n",
    "        return getattr(self,key)\n",
    "    \n",
    "    def __setitem__(self, key, value):\n",
    "        return setattr(self,key, value)\n",
    "    \n",
    "    \n",
    "book = Book('war and peace', author='leo tolstoy')\n",
    "\n",
    "book['title'] = 'new book'\n",
    "book['title']"
   ]
  },
  {
<<<<<<< HEAD
   "cell_type": "code",
   "execution_count": 64,
   "metadata": {},
   "outputs": [
    {
     "data": {
      "text/plain": [
       "'anil'"
      ]
     },
     "execution_count": 64,
     "metadata": {},
     "output_type": "execute_result"
    }
   ],
   "source": [
    "class Book:\n",
    "    def __init__(self, title=None,author=None):\n",
    "        self.title = title\n",
    "        self.author = author\n",
    "        \n",
    "    def __getitem__(self, key):\n",
    "        return getattr(self,key)\n",
    "    \n",
    "    def __setitem__(self, key, value):\n",
    "        return setattr(self,key, value)\n",
    "    \n",
    "    \n",
    "book = Book('war and peace', author='leo tolstoy')\n",
    "\n",
    "book['author'] = 'anil'\n",
    "book['author']"
   ]
  },
  {
=======
>>>>>>> 9bcb85082bee3521929bbc33123fdb6b165afb33
   "cell_type": "markdown",
   "metadata": {},
   "source": [
    "## `__repr__`  \n",
    "\n",
    "This method controls how your class is presented (like when outputted)"
   ]
  },
  {
   "cell_type": "code",
   "execution_count": null,
   "metadata": {},
   "outputs": [],
   "source": [
<<<<<<< HEAD
    "# we've seen this when we created an instance, python has this built in method part of all classes to how to output, own custom version"
   ]
  },
  {
   "cell_type": "code",
   "execution_count": 50,
   "metadata": {},
   "outputs": [
    {
     "data": {
      "text/plain": [
       "<__main__.Book at 0x109454f10>"
      ]
     },
     "execution_count": 50,
     "metadata": {},
     "output_type": "execute_result"
    }
   ],
   "source": [
=======
>>>>>>> 9bcb85082bee3521929bbc33123fdb6b165afb33
    "class Book:\n",
    "    def __init__(self, title=None,author=None):\n",
    "        self.title = title\n",
    "        self.author = author\n",
    "    \n",
    "book = Book('war and peace', author='leo tolstoy')\n",
    "\n",
    "book"
   ]
  },
  {
<<<<<<< HEAD
   "cell_type": "raw",
   "metadata": {},
   "source": [
    "Override this method"
   ]
  },
  {
   "cell_type": "code",
   "execution_count": 51,
   "metadata": {},
   "outputs": [
    {
     "data": {
      "text/plain": [
       "Book Class - title: war and peace, author: leo tolstoy"
      ]
     },
     "execution_count": 51,
     "metadata": {},
     "output_type": "execute_result"
    }
   ],
=======
   "cell_type": "code",
   "execution_count": null,
   "metadata": {},
   "outputs": [],
>>>>>>> 9bcb85082bee3521929bbc33123fdb6b165afb33
   "source": [
    "class Book:\n",
    "    def __init__(self, title=None,author=None):\n",
    "        self.title = title\n",
    "        self.author = author\n",
    "        \n",
    "    def __repr__(self):\n",
    "        return f\"Book Class - title: {self.title}, author: {self.author}\"\n",
    "    \n",
    "    \n",
    "    \n",
    "book = Book('war and peace', author='leo tolstoy')\n",
    "\n",
    "book"
   ]
  },
  {
   "cell_type": "markdown",
   "metadata": {},
   "source": [
    "## `__str__`  \n",
    "\n",
    "This method controls how your method is turned into a str (like if printed)."
   ]
  },
  {
   "cell_type": "code",
<<<<<<< HEAD
   "execution_count": 68,
   "metadata": {},
   "outputs": [
    {
     "name": "stdout",
     "output_type": "stream",
     "text": [
      "<__main__.Book object at 0x10913b100>\n"
     ]
    }
   ],
   "source": [
    "# will print repr, like in web dev, might want to set string like user or message it\n",
    "\n",
=======
   "execution_count": null,
   "metadata": {},
   "outputs": [],
   "source": [
>>>>>>> 9bcb85082bee3521929bbc33123fdb6b165afb33
    "class Book:\n",
    "    def __init__(self, title=None,author=None):\n",
    "        self.title = title\n",
    "        self.author = author\n",
    "    \n",
    "book = Book('war and peace', author='leo tolstoy')\n",
    "\n",
    "print(book)"
   ]
  },
  {
   "cell_type": "code",
<<<<<<< HEAD
   "execution_count": 69,
   "metadata": {},
   "outputs": [
    {
     "name": "stdout",
     "output_type": "stream",
     "text": [
      "book: 'war and peace' by author leo tolstoy\n"
     ]
    }
   ],
   "source": [
    "# instead of above, get sienthing more usefuk\n",
    "\n",
=======
   "execution_count": null,
   "metadata": {},
   "outputs": [],
   "source": [
>>>>>>> 9bcb85082bee3521929bbc33123fdb6b165afb33
    "class Book:\n",
    "    def __init__(self, title=None,author=None):\n",
    "        self.title = title\n",
    "        self.author = author\n",
    "    \n",
    "    def __str__(self):\n",
    "        return f\"book: '{self.title}' by author {self.author}\"\n",
    "    \n",
    "    \n",
    "book = Book('war and peace', author='leo tolstoy')\n",
    "\n",
    "print(book)"
   ]
  },
  {
   "cell_type": "code",
<<<<<<< HEAD
   "execution_count": 72,
   "metadata": {},
   "outputs": [
    {
     "name": "stdout",
     "output_type": "stream",
     "text": [
      "book: 'war and peace' by author leo tolstoy\n"
     ]
    },
    {
     "data": {
      "text/plain": [
       "Book Class - title: war and peace, author: leo tolstoy"
      ]
     },
     "execution_count": 72,
     "metadata": {},
     "output_type": "execute_result"
    }
   ],
   "source": [
    "# override both of them \n",
    "\n",
=======
   "execution_count": null,
   "metadata": {},
   "outputs": [],
   "source": [
>>>>>>> 9bcb85082bee3521929bbc33123fdb6b165afb33
    "class Book:\n",
    "    def __init__(self, title=None,author=None):\n",
    "        self.title = title\n",
    "        self.author = author\n",
    "    \n",
    "    def __str__(self):\n",
    "        return f\"book: '{self.title}' by author {self.author}\"\n",
    "    \n",
    "    def __repr__(self):\n",
    "        return f\"Book Class - title: {self.title}, author: {self.author}\"\n",
    "\n",
    "book = Book('war and peace', author='leo tolstoy')\n",
    "\n",
<<<<<<< HEAD
    "print(book)\n",
    "\n",
    "book"
=======
    "print(book)"
>>>>>>> 9bcb85082bee3521929bbc33123fdb6b165afb33
   ]
  },
  {
   "cell_type": "markdown",
   "metadata": {},
   "source": [
    "## Putting it all together"
   ]
  },
  {
   "cell_type": "code",
<<<<<<< HEAD
   "execution_count": 78,
   "metadata": {},
   "outputs": [
    {
     "data": {
      "text/plain": [
       "'War And Peace'"
      ]
     },
     "execution_count": 78,
     "metadata": {},
     "output_type": "execute_result"
    }
   ],
=======
   "execution_count": null,
   "metadata": {},
   "outputs": [],
>>>>>>> 9bcb85082bee3521929bbc33123fdb6b165afb33
   "source": [
    "import datetime\n",
    "\n",
    "class Book:\n",
    "    def __init__(self, title=None,author=None, \n",
    "     time_entered = datetime.datetime.now()):\n",
    "        self.title = title\n",
    "        self.author = author\n",
    "        self.time_entered = time_entered\n",
    "    \n",
<<<<<<< HEAD
    "    def __repr__(self):                           # FOR THIS class book, custom f\"strng\", this repr is overwrtiig original repr methd\n",
    "        return f\"{self.title} - {self.author}\"\n",
    "    \n",
    "    def __str__(self):                           # this \n",
=======
    "    def __repr__(self):\n",
    "        return f\"{self.title} - {self.author}\"\n",
    "    \n",
    "    def __str__(self):\n",
>>>>>>> 9bcb85082bee3521929bbc33123fdb6b165afb33
    "        return f\"Book-{self}\"\n",
    "    \n",
    "    def __setattr__(self, attr, value):\n",
    "        if type(value) == str:\n",
    "            #self.attr = value.capitalize()\n",
    "            #setattr(self, attr, value)\n",
    "            self.__dict__[attr] = value.title()\n",
    "        else:\n",
    "            self.__dict__[attr] = None\n",
    "    \n",
    "    def __getattr__(self, attr):\n",
    "        if attr not in self.__dict__:\n",
    "            #self.__dict__[attr] = None \n",
    "            #self.attr = None\n",
    "            setattr(self, attr, None)   \n",
    "        else:\n",
    "            return getattr(self, attr)\n",
    "    \n",
    "    def __getitem__(self, key):\n",
    "        return getattr(self,key)\n",
    "    \n",
    "    def __setitem__(self,key, value):\n",
    "        return setattr(self,key,value)\n",
    "    \n",
    "catalog = {\n",
    "    'war and peace': 'leo tolstoy', \n",
    "    '1984': 'george orwell', \n",
    "    'brave new world': 'aldous huxley', \n",
    "    'catch-22': 'joseph heller'\n",
    "}\n",
    "\n",
<<<<<<< HEAD
    "books = [Book(title, author) for title, author in catalog.items()]     # return 2 tuple of key val\n",
    "\n",
    "books[0]['title']\n",
=======
    "books = [Book(title, author=author) for title, author in catalog.items()]\n",
    "\n",
    "books[0]['author']\n",
>>>>>>> 9bcb85082bee3521929bbc33123fdb6b165afb33
    "    "
   ]
  },
  {
<<<<<<< HEAD
   "cell_type": "code",
   "execution_count": 79,
   "metadata": {},
   "outputs": [
    {
     "data": {
      "text/plain": [
       "'War And Peace'"
      ]
     },
     "execution_count": 79,
     "metadata": {},
     "output_type": "execute_result"
    }
   ],
   "source": [
    "# without __repr__, in terminal or jupyter, repr is <>, REpr is a label that means there is an instance of the class book at a certain slot of \n",
    "#memory default output\n",
    "#str is how i\n",
    "\n",
    "class Book:\n",
    "    def __init__(self, title=None,author=None, \n",
    "     time_entered = datetime.datetime.now()):\n",
    "        self.title = title\n",
    "        self.author = author\n",
    "        self.time_entered = time_entered\n",
    "    \n",
    "    #def __repr__(self):                           # FOR THIS class book, custom f\"strng\", this repr is overwrtiig original repr methd\n",
    "        #return f\"{self.title} - {self.author}\"\n",
    "    \n",
    "    def __str__(self):                           # this \n",
    "        return f\"Book-{self}\"\n",
    "    \n",
    "    def __setattr__(self, attr, value):\n",
    "        if type(value) == str:\n",
    "            #self.attr = value.capitalize()\n",
    "            #setattr(self, attr, value)\n",
    "            self.__dict__[attr] = value.title()\n",
    "        else:\n",
    "            self.__dict__[attr] = None\n",
    "    \n",
    "    def __getattr__(self, attr):\n",
    "        if attr not in self.__dict__:\n",
    "            #self.__dict__[attr] = None \n",
    "            #self.attr = None\n",
    "            setattr(self, attr, None)   \n",
    "        else:\n",
    "            return getattr(self, attr)\n",
    "    \n",
    "    def __getitem__(self, key):\n",
    "        return getattr(self,key)\n",
    "    \n",
    "    def __setitem__(self,key, value):\n",
    "        return setattr(self,key,value)\n",
    "    \n",
    "catalog = {\n",
    "    'war and peace': 'leo tolstoy', \n",
    "    '1984': 'george orwell', \n",
    "    'brave new world': 'aldous huxley', \n",
    "    'catch-22': 'joseph heller'\n",
    "}\n",
    "\n",
    "books = [Book(title, author) for title, author in catalog.items()]     # return 2 tuple of key val\n",
    "\n",
    "books[0]['title']"
   ]
  },
  {
   "cell_type": "code",
   "execution_count": 75,
   "metadata": {},
   "outputs": [
    {
     "data": {
      "text/plain": [
       "True"
      ]
     },
     "execution_count": 75,
     "metadata": {},
     "output_type": "execute_result"
    }
   ],
   "source": [
    "# repr\n",
    "s = True\n",
    "\n",
    "s"
   ]
  },
  {
   "cell_type": "code",
   "execution_count": 15,
   "metadata": {},
   "outputs": [
    {
     "data": {
      "text/plain": [
       "'Hello'"
      ]
     },
     "execution_count": 15,
     "metadata": {},
     "output_type": "execute_result"
    }
   ],
   "source": [
    "class Example():\n",
    "    def method(self):\n",
    "        return \"Hello\"\n",
    "    #def method(self):       # will replace overwrite\n",
    "        return \"Goodbye\"\n",
    "    \n",
    "e = Example()\n",
    "\n",
    "e.method()"
   ]
  },
  {
   "cell_type": "code",
   "execution_count": 16,
   "metadata": {},
   "outputs": [
    {
     "data": {
      "text/plain": [
       "'Goodbye'"
      ]
     },
     "execution_count": 16,
     "metadata": {},
     "output_type": "execute_result"
    }
   ],
   "source": [
    "class Example():\n",
    "    def method(self):\n",
    "        return \"Hello\"\n",
    "    def method(self) :     \n",
    "        return \"Goodbye\"\n",
    "    \n",
    "e = Example()\n",
    "\n",
    "e.method()"
   ]
  },
  {
=======
>>>>>>> 9bcb85082bee3521929bbc33123fdb6b165afb33
   "cell_type": "markdown",
   "metadata": {},
   "source": [
    "# Operator Overloading\n",
    "\n",
    "Certain operators like `==`, `+`, `-`, `*` can be overloaded to be used with user-defined datatypes like classes as well as built-in type like integers\n",
    "\n",
    "`==`  `__eq__`  \n",
    "`-` `__sub__`  \n",
    "`*` `__mul__`  \n",
    "`/` `__truediv__`  \n",
    "`//` `__floordiv__`  \n",
    "`%` `__mod__`  \n",
    "`**` `__pow__`  \n",
    "`<`  `__lt__`   \n",
    "`>`  `__gt__`  \n",
    "`<=` `__le__`  \n",
    "`>=` `__ge__`  \n",
    "`!=` `__ne__`"
   ]
  },
  {
<<<<<<< HEAD
   "cell_type": "code",
   "execution_count": null,
   "metadata": {},
   "outputs": [],
   "source": [
    "Created our own methods"
   ]
  },
  {
   "cell_type": "code",
   "execution_count": null,
   "metadata": {},
   "outputs": [],
   "source": [
    "Introduce inheritance wk6 day 3"
   ]
  },
  {
=======
>>>>>>> 9bcb85082bee3521929bbc33123fdb6b165afb33
   "cell_type": "markdown",
   "metadata": {},
   "source": [
    "# Point example"
   ]
  },
  {
   "cell_type": "code",
<<<<<<< HEAD
   "execution_count": 85,
   "metadata": {},
   "outputs": [
    {
     "data": {
      "text/plain": [
       "False"
      ]
     },
     "execution_count": 85,
     "metadata": {},
     "output_type": "execute_result"
    }
   ],
   "source": [
    "class Point:\n",
    "    def __init__(self, x=0, y=0):\n",
    "        self.x = x\n",
    "        self.y = y\n",
    "    \n",
    "   # def __eq__(self, other):\n",
    "       # return self.x == other.x and self.y == other.y\n",
    "    \n",
    "p = Point(2,4)\n",
    "q = Point(2,4)\n",
    "\n",
    "p == q"
   ]
  },
  {
   "cell_type": "code",
   "execution_count": 86,
   "metadata": {},
   "outputs": [
    {
     "data": {
      "text/plain": [
       "True"
      ]
     },
     "execution_count": 86,
     "metadata": {},
     "output_type": "execute_result"
    }
   ],
   "source": [
    "class Point:\n",
=======
   "execution_count": null,
   "metadata": {},
   "outputs": [],
   "source": [
    "class Floor:\n",
>>>>>>> 9bcb85082bee3521929bbc33123fdb6b165afb33
    "    def __init__(self, x=0, y=0):\n",
    "        self.x = x\n",
    "        self.y = y\n",
    "    \n",
    "    def __eq__(self, other):\n",
    "        return self.x == other.x and self.y == other.y\n",
    "    \n",
    "p = Point(2,4)\n",
    "q = Point(2,4)\n",
    "\n",
    "p == q"
   ]
  },
  {
<<<<<<< HEAD
   "cell_type": "code",
   "execution_count": null,
   "metadata": {},
   "outputs": [],
   "source": [
    "TOMORROW - class 3"
   ]
  },
  {
=======
>>>>>>> 9bcb85082bee3521929bbc33123fdb6b165afb33
   "cell_type": "markdown",
   "metadata": {},
   "source": [
    "#### How do we implement others? (code along)"
   ]
  },
  {
   "cell_type": "code",
   "execution_count": null,
   "metadata": {},
   "outputs": [],
   "source": [
    "class Point:\n",
    "    def __init__(self, x=0, y=0):\n",
    "        self.x = x\n",
    "        self.y = y\n",
    "    \n",
    "    def __eq__(self, other):\n",
    "        return self.x == other.x and self.y == other.y\n",
    "    \n",
    "p = Point(2,4)\n",
    "q = Point(2,4)\n",
    "\n",
    "p == q"
   ]
  },
  {
   "cell_type": "markdown",
   "metadata": {},
   "source": [
    "# Introduction to inheritance\n",
    "\n",
    "Object inheritance is when you want to create an object that's based off of the structure of another class or you want to create an object that others are based off of.\n",
    "\n",
    "The format for inherited classes are such:\n",
    "```python\n",
    "    class BaseClass:\n",
    "        pass\n",
    "    \n",
    "    class AlternateBaseClass\n",
    "        pass\n",
    "    \n",
    "    class DerivedClass(BaseClass, AlternateBaseclass)\n",
    "        pass\n",
    "```"
   ]
  },
  {
   "cell_type": "code",
<<<<<<< HEAD
   "execution_count": 17,
   "metadata": {},
   "outputs": [
    {
     "name": "stdout",
     "output_type": "stream",
     "text": [
      "a cat meows\n",
      "a dog barks\n",
      "a cow moos\n"
     ]
    }
   ],
=======
   "execution_count": null,
   "metadata": {},
   "outputs": [],
>>>>>>> 9bcb85082bee3521929bbc33123fdb6b165afb33
   "source": [
    "class Animal:\n",
    "    def __init__(self, name, type_of_animal=None, sound=None):\n",
    "        self.name = name\n",
    "        self.type = type_of_animal\n",
    "        self.sound = sound\n",
    "        \n",
    "    def make_sound(self):\n",
    "        print(f\"a {self.type} {self.sound}\")\n",
    "    \n",
    "cat = Animal('matilda', 'cat', 'meows')\n",
    "dog = Animal('clifford', 'dog', 'barks')\n",
    "cow = Animal('spot', 'cow', 'moos')\n",
    "cat.make_sound()\n",
    "dog.make_sound()\n",
    "cow.make_sound()\n",
    "        "
   ]
  },
  {
   "cell_type": "code",
<<<<<<< HEAD
   "execution_count": 18,
   "metadata": {},
   "outputs": [
    {
     "name": "stdout",
     "output_type": "stream",
     "text": [
      "a cat meows\n"
     ]
    }
   ],
=======
   "execution_count": null,
   "metadata": {},
   "outputs": [],
>>>>>>> 9bcb85082bee3521929bbc33123fdb6b165afb33
   "source": [
    "class Cat(Animal):\n",
    "    def __init__(self, name):\n",
    "        Animal.__init__(self, name, type_of_animal='cat', sound='meows')\n",
    "        \n",
    "matilda = Cat('matilda')\n",
    "\n",
    "matilda.make_sound()"
   ]
  },
  {
   "cell_type": "code",
   "execution_count": null,
   "metadata": {},
   "outputs": [],
   "source": []
  }
 ],
 "metadata": {
  "kernelspec": {
   "display_name": "Python 3",
   "language": "python",
   "name": "python3"
  },
  "language_info": {
   "codemirror_mode": {
    "name": "ipython",
    "version": 3
   },
   "file_extension": ".py",
   "mimetype": "text/x-python",
   "name": "python",
   "nbconvert_exporter": "python",
   "pygments_lexer": "ipython3",
<<<<<<< HEAD
   "version": "3.8.5"
=======
   "version": "3.8.6"
>>>>>>> 9bcb85082bee3521929bbc33123fdb6b165afb33
  }
 },
 "nbformat": 4,
 "nbformat_minor": 4
}
