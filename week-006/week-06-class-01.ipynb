{
 "cells": [
  {
   "cell_type": "markdown",
   "metadata": {},
   "source": [
    "<div style=\"background: #000;\n",
    "            color: #FFF;\n",
    "            margin: 0px;\n",
    "                padding: 10px 0px 20px 0px;\n",
    "            text-align: center; \n",
    "                \">\n",
    "    <h1>Week 6 - Class 1 - 10/19</h1>\n",
    "</div>\n",
    "\n",
    "\n",
    "## Objectives for this week:\n",
    "* Objects, \n",
    "* Class declarations, Attributes, Methods\n",
    "* Self keywords\n",
    "* Object Inheritance, Generating Object Instances\n",
    "* Dot Notation\n",
    "\n",
    "## Todays Agenda\n",
    "* Homework Presentations\n",
    "* Objects Introduction\n",
    "* Class declarations\n",
    "* Self keywords\n",
    "* Generating Object, Instances"
   ]
  },
  {
   "cell_type": "markdown",
   "metadata": {},
   "source": [
    "# Homework Presentations"
   ]
  },
  {
   "cell_type": "markdown",
   "metadata": {},
   "source": [
    "# Exercise 1\n",
    "\n",
    "Create a function that calculates the double factorial of an odd number. The double factorial of `n` is denoted by `n!!` and is the product of all odd integers up to and including `n`. You can do it using recursion (for bonus points) or any other method you can come up with.\n",
    "\n",
    "e.g. \n",
    "\n",
    "```\n",
    "9!! = 1 x 3 x 5 x 7 x 9 = 945\n",
    "```\n",
    "\n",
    "Output the following once your function works.\n",
    "\n",
    "`double_factorial(13)` "
   ]
  },
  {
   "cell_type": "markdown",
   "metadata": {},
   "source": [
    "In the future, thought process is to capture the even here in an elif, so appropriate way would \n",
    "have been elif, return double_factorial(n-1)"
   ]
  },
  {
   "cell_type": "code",
   "execution_count": null,
   "metadata": {},
   "outputs": [],
   "source": []
  },
  {
   "cell_type": "code",
   "execution_count": null,
   "metadata": {},
   "outputs": [],
   "source": []
  },
  {
   "cell_type": "code",
   "execution_count": null,
   "metadata": {},
   "outputs": [],
   "source": [
    "def double_factorial(n=13):\n",
    "    pass\n",
    "\n",
    "double_factorial(10)"
   ]
  },
  {
   "cell_type": "code",
   "execution_count": null,
   "metadata": {},
   "outputs": [],
   "source": [
    "#def d_fact(n):\n",
    "    #sum = n\n",
    "    \n",
    "    #for index in range (1, n):\n",
    "        #if \n",
    "            #sum = sum * index \n",
    "        #return sum"
   ]
  },
  {
   "cell_type": "markdown",
   "metadata": {},
   "source": [
    "Start with the factorial statement "
   ]
  },
  {
   "cell_type": "code",
   "execution_count": null,
   "metadata": {},
   "outputs": [],
   "source": [
    "def double_factorial(n=13):\n",
    "    if (n == 0 or n == 1):\n",
    "        return 1\n",
    "    elif (n % 2 == 0):\n",
    "        return double_factorial(n-1)   \n",
    "    else: \n",
    "        #print(n, (n-2))\n",
    "        return n * double_factorial(n-2)\n",
    "\n",
    "double_factorial(13)"
   ]
  },
  {
   "cell_type": "code",
   "execution_count": 1,
   "metadata": {},
   "outputs": [
    {
     "data": {
      "text/plain": [
       "362880"
      ]
     },
     "execution_count": 1,
     "metadata": {},
     "output_type": "execute_result"
    }
   ],
   "source": [
    "# start with this\n",
    "\n",
    "def double_factorial(n=13):\n",
    "    if (n == 0) or (n == 1):\n",
    "        return 1\n",
    "    else:\n",
    "         return n * double_factorial(n-1)\n",
    "\n",
    "double_factorial(9)"
   ]
  },
  {
   "cell_type": "code",
   "execution_count": 2,
   "metadata": {},
   "outputs": [
    {
     "data": {
      "text/plain": [
       "362880"
      ]
     },
     "execution_count": 2,
     "metadata": {},
     "output_type": "execute_result"
    }
   ],
   "source": [
    "# exercise is to catch the even at the elif\n",
    "\n",
    "def double_factorial(n=13):\n",
    "    if (n == 0) or (n == 1):\n",
    "        return 1\n",
    "    elif n % 2:                                # catch this\n",
    "        return 1 * double_factorial(n-1)\n",
    "    else:\n",
    "         return n * double_factorial(n-2)\n",
    "\n",
    "double_factorial(9)"
   ]
  },
  {
   "cell_type": "markdown",
   "metadata": {},
   "source": [
    "can you do n-=1 ",
    "\n",
    "and send it to double factorial as an odd number\n",
    "after n%2 ==0 ",
    "elif n % 2 == 0:\n",
    "        n-=1\n",
    "        return n*double_factorial_odd(n-2) "
   ]
  },
  {
   "cell_type": "code",
   "execution_count": 4,
   "metadata": {},
   "outputs": [],
   "source": [
    "def double_factorial(n=13):\n",
    "    if (n == 0) or (n == 1):\n",
    "        return 1\n",
    "    elif n % 2 ==0:\n",
    "        n -= 1\n",
    "        return n*double_factorial(n-2)\n",
    "\n",
    "    \n",
    "double_factorial(9)"
   ]
  },
  {
   "cell_type": "code",
   "execution_count": null,
   "metadata": {},
   "outputs": [],
   "source": [
    "# determine to add or subtract n, if the base case is say, 100, then we would \n",
    "# calculate up \n",
    "\n",
    "\n",
    "def double_factorial(n=13):\n",
    "    if (n == 0) or (n == 1):\n",
    "        return 1\n",
    "    elif n % 2:                                \n",
    "        return 1 * double_factorial(n-1)   # IN THE CASE IN EVEN\n",
    "        #return double_factorial(n-1)   # same as above, but leave cons for clarity\n",
    "    else:\n",
    "         return n * double_factorial(n-2)     # push closer to the base case\n",
    "        # 1 * 3 * 5 * 7 * 9 * 11 * 13\n",
    "\n",
    "double_factorial(14)"
   ]
  },
  {
   "cell_type": "markdown",
   "metadata": {},
   "source": [
    "# Objects\n",
    "\n",
    "Object-oriented programming (OOP) is a programming paradigm based on the concept of \"objects\", which can contain data, in the form of fields (often known as attributes or properties), and code, in the form of procedures (often known as methods). A feature of objects is that an object's own procedures can access and often modify the data fields of itself (objects have a notion of \"this\" or \"self\"). In OOP, computer programs are designed by making them out of objects that interact with one another.[1][2] OOP languages are diverse, but the most popular ones are class-based, meaning that objects are instances of classes, which also determine their types.\n",
    "[source](https://en.wikipedia.org/wiki/Object-oriented_programming)\n",
    "\n",
    "Object\n",
    "* contains data in the form  of fields \n",
    "* procedures that can access or modify data \n",
    "\n",
    "These fields are known as **attributes**.  \n",
    "These procedures are known as **methods**.\n",
    "\n",
    "All objects have attributes and methods.\n",
    "## Remember our more complicated data structures? "
   ]
  },
  {
   "cell_type": "code",
   "execution_count": 6,
   "metadata": {},
   "outputs": [
    {
     "data": {
      "text/plain": [
       "{'key': 'value'}"
      ]
     },
     "execution_count": 6,
     "metadata": {},
     "output_type": "execute_result"
    }
   ],
   "source": [
    "s = {}\n",
    "s['key'] = 'value'\n",
    "s"
   ]
  },
  {
   "cell_type": "code",
   "execution_count": 7,
   "metadata": {},
   "outputs": [
    {
     "data": {
      "text/plain": [
       "dict"
      ]
     },
     "execution_count": 7,
     "metadata": {},
     "output_type": "execute_result"
    }
   ],
   "source": [
    "type(s)"
   ]
  },
  {
   "cell_type": "code",
   "execution_count": 8,
   "metadata": {},
   "outputs": [
    {
     "data": {
      "text/plain": [
       "['clear',\n",
       " 'copy',\n",
       " 'fromkeys',\n",
       " 'get',\n",
       " 'items',\n",
       " 'keys',\n",
       " 'pop',\n",
       " 'popitem',\n",
       " 'setdefault',\n",
       " 'update',\n",
       " 'values']"
      ]
     },
     "execution_count": 8,
     "metadata": {},
     "output_type": "execute_result"
    }
   ],
   "source": [
    "# methods\n",
    "\n",
    "[i for i in dir(s) if not i.endswith('__')]"
   ]
  },
  {
   "cell_type": "markdown",
   "metadata": {},
   "source": [
    "# How do we create our own object in Python?\n",
    "\n",
    "# Classes\n",
    "\n",
    "Classes provide a means of bundling data and functionality together. Creating a new class creates a new type of object, allowing new instances of that type to be made. Each class instance can have attributes attached to it for maintaining its state. Class instances can also have methods (defined by its class) for modifying its state.\n",
    "\n",
    "Compared with other programming languages, Python’s class mechanism adds classes with a minimum of new syntax and semantics. It is a mixture of the class mechanisms found in C++ and Modula-3. Python classes provide all the standard features of Object Oriented Programming: the class inheritance mechanism allows multiple base classes, a derived class can override any methods of its base class or classes, and a method can call the method of a base class with the same name. Objects can contain arbitrary amounts and kinds of data. As is true for modules, classes partake of the dynamic nature of Python: they are created at runtime, and can be modified further after creation.\n",
    "\n",
    "In C++ terminology, normally class members (including the data members) are public (except see below Private Variables), and all member functions are virtual. As in Modula-3, there are no shorthands for referencing the object’s members from its methods: the method function is declared with an explicit first argument representing the object, which is provided implicitly by the call. As in Smalltalk, classes themselves are objects. This provides semantics for importing and renaming. Unlike C++ and Modula-3, built-in types can be used as base classes for extension by the user. Also, like in C++, most built-in operators with special syntax (arithmetic operators, subscripting etc.) can be redefined for class instances.\n",
    "\n",
    "[source](https://docs.python.org/3/tutorial/classes.html#a-word-about-names-and-objects)\n",
    "\n",
    "\n",
    "Essentially the framework for a python object.\n",
    "```python\n",
    "# CamelCase is normal python naming convention\n",
    "class NameOfClass: \n",
    "    # attributes can be added here or to __init__()\n",
    "    attribute_1 = \"value\"\n",
    "    attribute_2 = 3 \n",
    "    \n",
    "    # methods are functions defined within class declaration\n",
    "    def method_1(self): # methods take argument `self` to refer to instance of class\n",
    "        pass\n",
    "        \n",
    "    def method_2(self):\n",
    "        pass\n",
    "        \n",
    "x = NameOfClass()\n",
    "```\n",
    "## Declaration vs Instance"
   ]
  },
  {
   "cell_type": "markdown",
   "metadata": {},
   "source": [
    "Here `i` is a class attribute meaning the class owns it. All instances will have the same value for `i`\n",
    "\n",
    "Here `f()` is a class method. All instances will have the same method `f()`"
   ]
  },
  {
   "cell_type": "code",
   "execution_count": 10,
   "metadata": {},
   "outputs": [],
   "source": [
    "# Class Declaration\n",
    "class Example: \n",
    "    i = 12345      # variable the class owns, local, hard coded in this case\n",
    "    \n",
    "    def f(self):   # works like a function, but will take argument self\n",
    "        return 'hello world'"
   ]
  },
  {
   "cell_type": "code",
   "execution_count": 11,
   "metadata": {},
   "outputs": [
    {
     "data": {
      "text/plain": [
       "<__main__.Example at 0x110070be0>"
      ]
     },
     "execution_count": 11,
     "metadata": {},
     "output_type": "execute_result"
    }
   ],
   "source": [
    "# instance of class Example\n",
    "e = Example()     # using () like function call\n",
    "e"
   ]
  },
  {
   "cell_type": "code",
   "execution_count": 13,
   "metadata": {},
   "outputs": [
    {
     "data": {
      "text/plain": [
       "12345"
      ]
     },
     "execution_count": 13,
     "metadata": {},
     "output_type": "execute_result"
    }
   ],
   "source": [
    "e.i    # similar to when we curried the function"
   ]
  },
  {
   "cell_type": "code",
   "execution_count": 14,
   "metadata": {},
   "outputs": [
    {
     "data": {
      "text/plain": [
       "12345"
      ]
     },
     "execution_count": 14,
     "metadata": {},
     "output_type": "execute_result"
    }
   ],
   "source": [
    "i = 12345\n",
    "i"
   ]
  },
  {
   "cell_type": "code",
   "execution_count": 15,
   "metadata": {},
   "outputs": [
    {
     "data": {
      "text/plain": [
       "'hello world'"
      ]
     },
     "execution_count": 15,
     "metadata": {},
     "output_type": "execute_result"
    }
   ],
   "source": [
    "e.f()"
   ]
  },
  {
   "cell_type": "code",
   "execution_count": 16,
   "metadata": {},
   "outputs": [
    {
     "data": {
      "text/plain": [
       "500"
      ]
     },
     "execution_count": 16,
     "metadata": {},
     "output_type": "execute_result"
    }
   ],
   "source": [
    "# alter the object\n",
    "\n",
    "e.j = 500    # only exist for object e\n",
    "\n",
    "e.j"
   ]
  },
  {
   "cell_type": "code",
   "execution_count": null,
   "metadata": {},
   "outputs": [],
   "source": []
  },
  {
   "cell_type": "code",
   "execution_count": 17,
   "metadata": {},
   "outputs": [
    {
     "name": "stdout",
     "output_type": "stream",
     "text": [
      "12345\n",
      "hello world\n",
      "None\n"
     ]
    },
    {
     "ename": "AttributeError",
     "evalue": "'Example' object has no attribute 'j'",
     "output_type": "error",
     "traceback": [
      "\u001b[0;31m---------------------------------------------------------------------------\u001b[0m",
      "\u001b[0;31mAttributeError\u001b[0m                            Traceback (most recent call last)",
      "\u001b[0;32m<ipython-input-17-8750aca21eb1>\u001b[0m in \u001b[0;36m<module>\u001b[0;34m\u001b[0m\n\u001b[1;32m      3\u001b[0m \u001b[0mprint\u001b[0m\u001b[0;34m(\u001b[0m\u001b[0mx\u001b[0m\u001b[0;34m.\u001b[0m\u001b[0mf\u001b[0m\u001b[0;34m(\u001b[0m\u001b[0;34m)\u001b[0m\u001b[0;34m)\u001b[0m \u001b[0;31m#\u001b[0m\u001b[0;34m\u001b[0m\u001b[0;34m\u001b[0m\u001b[0m\n\u001b[1;32m      4\u001b[0m \u001b[0mprint\u001b[0m\u001b[0;34m(\u001b[0m\u001b[0mx\u001b[0m\u001b[0;34m.\u001b[0m\u001b[0m__doc__\u001b[0m\u001b[0;34m)\u001b[0m    \u001b[0;31m# does not return anything\u001b[0m\u001b[0;34m\u001b[0m\u001b[0;34m\u001b[0m\u001b[0m\n\u001b[0;32m----> 5\u001b[0;31m \u001b[0mprint\u001b[0m\u001b[0;34m(\u001b[0m\u001b[0mx\u001b[0m\u001b[0;34m.\u001b[0m\u001b[0mj\u001b[0m\u001b[0;34m)\u001b[0m\u001b[0;34m\u001b[0m\u001b[0;34m\u001b[0m\u001b[0m\n\u001b[0m",
      "\u001b[0;31mAttributeError\u001b[0m: 'Example' object has no attribute 'j'"
     ]
    }
   ],
   "source": [
    "x = Example()\n",
    "print(x.i)   # access class variable using dot notation\n",
    "print(x.f()) # \n",
    "print(x.__doc__)    # does not return anything\n",
    "print(x.j)      # not part of the instance, only part of e instance object"
   ]
  },
  {
   "cell_type": "markdown",
   "metadata": {},
   "source": [
    "# Self method\n",
    "\n",
    "Self is a way to refer to the class itself for reference. \n",
    "Used after initialization by the class instance"
   ]
  },
  {
   "cell_type": "code",
   "execution_count": 19,
   "metadata": {},
   "outputs": [
    {
     "ename": "NameError",
     "evalue": "name 'j' is not defined",
     "output_type": "error",
     "traceback": [
      "\u001b[0;31m---------------------------------------------------------------------------\u001b[0m",
      "\u001b[0;31mNameError\u001b[0m                                 Traceback (most recent call last)",
      "\u001b[0;32m<ipython-input-19-329372c4b233>\u001b[0m in \u001b[0;36m<module>\u001b[0;34m\u001b[0m\n\u001b[1;32m      7\u001b[0m \u001b[0;34m\u001b[0m\u001b[0m\n\u001b[1;32m      8\u001b[0m \u001b[0mx\u001b[0m \u001b[0;34m=\u001b[0m \u001b[0mExample\u001b[0m\u001b[0;34m(\u001b[0m\u001b[0;34m)\u001b[0m\u001b[0;34m\u001b[0m\u001b[0;34m\u001b[0m\u001b[0m\n\u001b[0;32m----> 9\u001b[0;31m \u001b[0mx\u001b[0m\u001b[0;34m.\u001b[0m\u001b[0mf\u001b[0m\u001b[0;34m(\u001b[0m\u001b[0;34m)\u001b[0m\u001b[0;34m\u001b[0m\u001b[0;34m\u001b[0m\u001b[0m\n\u001b[0m",
      "\u001b[0;32m<ipython-input-19-329372c4b233>\u001b[0m in \u001b[0;36mf\u001b[0;34m(self)\u001b[0m\n\u001b[1;32m      4\u001b[0m     \u001b[0;32mdef\u001b[0m \u001b[0mf\u001b[0m\u001b[0;34m(\u001b[0m\u001b[0mself\u001b[0m\u001b[0;34m)\u001b[0m\u001b[0;34m:\u001b[0m\u001b[0;34m\u001b[0m\u001b[0;34m\u001b[0m\u001b[0m\n\u001b[1;32m      5\u001b[0m         \u001b[0;31m#return self.j\u001b[0m\u001b[0;34m\u001b[0m\u001b[0;34m\u001b[0m\u001b[0;34m\u001b[0m\u001b[0m\n\u001b[0;32m----> 6\u001b[0;31m         \u001b[0;32mreturn\u001b[0m \u001b[0mj\u001b[0m\u001b[0;34m\u001b[0m\u001b[0;34m\u001b[0m\u001b[0m\n\u001b[0m\u001b[1;32m      7\u001b[0m \u001b[0;34m\u001b[0m\u001b[0m\n\u001b[1;32m      8\u001b[0m \u001b[0mx\u001b[0m \u001b[0;34m=\u001b[0m \u001b[0mExample\u001b[0m\u001b[0;34m(\u001b[0m\u001b[0;34m)\u001b[0m\u001b[0;34m\u001b[0m\u001b[0;34m\u001b[0m\u001b[0m\n",
      "\u001b[0;31mNameError\u001b[0m: name 'j' is not defined"
     ]
    }
   ],
   "source": [
    "class Example:\n",
    "    j = 12345\n",
    "    \n",
    "    def f(self):\n",
    "        #return self.j\n",
    "        return j\n",
    "    \n",
    "x = Example()\n",
    "x.f()"
   ]
  },
  {
   "cell_type": "code",
   "execution_count": 20,
   "metadata": {},
   "outputs": [
    {
     "data": {
      "text/plain": [
       "12345"
      ]
     },
     "execution_count": 20,
     "metadata": {},
     "output_type": "execute_result"
    }
   ],
   "source": [
    "class Example:\n",
    "    j = 12345\n",
    "    \n",
    "    def f(self):\n",
    "        return self.j    # -> to refer to itself and other methodsa\n",
    "        #return j\n",
    "    \n",
    "x = Example()\n",
    "x.f()"
   ]
  },
  {
   "cell_type": "markdown",
   "metadata": {},
   "source": [
    "# Initializing state in an object\n",
    "\n",
    "For this we use a special feature of python\n",
    "\n",
    "`__init__()` is a reseved method in python classes. It is known as a constructor in object oriented concepts. This method called when an object is created from the class and it allow the class to initialize the attributes of a class.\n",
    "    \n",
    "We can pass args and kwargs to this function. \n",
    "    "
   ]
  },
  {
   "cell_type": "markdown",
   "metadata": {},
   "source": [
    "Constructor in javascript"
   ]
  },
  {
   "cell_type": "code",
   "execution_count": 21,
   "metadata": {},
   "outputs": [
    {
     "name": "stdout",
     "output_type": "stream",
     "text": [
      "this is called with\n",
      "these args:\n",
      "these kwargs:\n"
     ]
    }
   ],
   "source": [
    "class Example:\n",
    "    def __init__(self, *args, **kwargs):\n",
    "        print(\"this is called with\")\n",
    "        print(\"these args:\")\n",
    "        for i in args:\n",
    "            print(i)\n",
    "        print(\"these kwargs:\")\n",
    "        for item in kwargs.items():\n",
    "            print(item)\n",
    "        \n",
    "e = Example()     # init func called when created instance of the class, init ran, since no args, this is called with\n",
    "                  # arg or kwargs"
   ]
  },
  {
   "cell_type": "markdown",
   "metadata": {},
   "source": [
    "say an object to create info, not have static "
   ]
  },
  {
   "cell_type": "code",
   "execution_count": 22,
   "metadata": {},
   "outputs": [
    {
     "name": "stdout",
     "output_type": "stream",
     "text": [
      "this is called with\n",
      "these args:\n",
      "1\n",
      "3\n",
      "these kwargs:\n",
      "('a', 's')\n",
      "('d', '3')\n"
     ]
    }
   ],
   "source": [
    "# construct the object when it is created\n",
    "\n",
    "class Example:\n",
    "    def __init__(self, *args, **kwargs):\n",
    "        print(\"this is called with\")\n",
    "        print(\"these args:\")\n",
    "        for i in args:\n",
    "            print(i)\n",
    "        print(\"these kwargs:\")\n",
    "        for item in kwargs.items():\n",
    "            print(item)\n",
    "        \n",
    "e = Example(1,3,a=\"s\", d=\"3\")"
   ]
  },
  {
   "cell_type": "code",
   "execution_count": null,
   "metadata": {},
   "outputs": [],
   "source": []
  },
  {
   "cell_type": "markdown",
   "metadata": {},
   "source": [
    "Here `name` and `owner` are class attributes. They do not change depending on the instance."
   ]
  },
  {
   "cell_type": "code",
   "execution_count": 23,
   "metadata": {},
   "outputs": [
    {
     "name": "stdout",
     "output_type": "stream",
     "text": [
      "Matilda\n"
     ]
    }
   ],
   "source": [
    "# class without init\n",
    "class Pet:\n",
    "    name = 'Matilda'\n",
    "    owner = 'Joe'\n",
    "    \n",
    "    def print_name(self):\n",
    "        print(self.name)\n",
    "        \n",
    "pet = Pet()   # instance of Pet object\n",
    "pet.print_name()"
   ]
  },
  {
   "cell_type": "markdown",
   "metadata": {},
   "source": [
    "prints Matilda, second to last line, has access"
   ]
  },
  {
   "cell_type": "code",
   "execution_count": null,
   "metadata": {},
   "outputs": [],
   "source": [
    "# More broad use example, list are objects to be used constantly\n",
    "\n"
   ]
  },
  {
   "cell_type": "markdown",
   "metadata": {},
   "source": [
    "Here `name` and `owner` are class attributes set in the `__init__` method. They do change depending on the instance."
   ]
  },
  {
   "cell_type": "code",
   "execution_count": 24,
   "metadata": {},
   "outputs": [
    {
     "name": "stdout",
     "output_type": "stream",
     "text": [
      "Matilda\n"
     ]
    }
   ],
   "source": [
    "# class with init\n",
    "class Pet:\n",
    "    def __init__(self, name, owner=\"Joe\"):     # constructor, for function call\n",
    "        self.name = name    # difference between self.name referred to the attribute of the class\n",
    "        self.owner = owner   # attribute of the class owner\n",
    "    def print_name(self):\n",
    "        print(self.name)\n",
    "        \n",
    "pet = Pet(\"Matilda\")\n",
    "pet.print_name()"
   ]
  },
  {
   "cell_type": "code",
   "execution_count": 25,
   "metadata": {},
   "outputs": [
    {
     "name": "stdout",
     "output_type": "stream",
     "text": [
      "Spot\n"
     ]
    }
   ],
   "source": [
    "# when we create ins of the class, can use init function, can create with a different name\n",
    "\n",
    "\n",
    "class Pet:\n",
    "    def __init__(self, name, owner=\"Joe\"):     # constructor, for function call\n",
    "        self.name = name    # difference between self.name referred to the attribute of the class\n",
    "        self.owner = owner   # attribute of the class owner\n",
    "    def print_name(self):\n",
    "        print(self.name)\n",
    "        \n",
    "pet = Pet(\"Spot\")\n",
    "pet.print_name()"
   ]
  },
  {
   "cell_type": "code",
   "execution_count": 27,
   "metadata": {},
   "outputs": [
    {
     "name": "stdout",
     "output_type": "stream",
     "text": [
      "Spot\n",
      "Anil\n"
     ]
    }
   ],
   "source": [
    "# when we create ins of the class, can use init function, can create with a different name when creating it \n",
    "\n",
    "# building on functions, with args and kwargs, \n",
    "# setting to be attributes of the class\n",
    "\n",
    "\n",
    "\n",
    "class Pet:\n",
    "    def __init__(self, name, owner=\"Joe\"):     # constructor, for function call\n",
    "        self.name = name    # difference between self.name referred to the attribute of the class\n",
    "        self.owner = owner   # attribute of the class owner\n",
    "    def print_name(self):\n",
    "        print(self.name)\n",
    "        print(self.owner)\n",
    "        \n",
    "pet = Pet(\"Spot\", \"Anil\")\n",
    "pet.print_name()    # only had name"
   ]
  },
  {
   "cell_type": "code",
   "execution_count": 29,
   "metadata": {},
   "outputs": [
    {
     "name": "stdout",
     "output_type": "stream",
     "text": [
      "Spot\n",
      "Anil\n"
     ]
    },
    {
     "data": {
      "text/plain": [
       "[<__main__.Pet at 0x11011dd90>,\n",
       " <__main__.Pet at 0x110133400>,\n",
       " <__main__.Pet at 0x110133940>]"
      ]
     },
     "execution_count": 29,
     "metadata": {},
     "output_type": "execute_result"
    }
   ],
   "source": [
    "# Now can do\n",
    "\n",
    "class Pet:\n",
    "    def __init__(self, name, owner=\"Joe\"):     # constructor, for function call\n",
    "        self.name = name    # difference between self.name referred to the attribute of the class\n",
    "        self.owner = owner   # attribute of the class owner\n",
    "    def print_name(self):\n",
    "        print(self.name)\n",
    "        print(self.owner)\n",
    "        \n",
    "pet = Pet(\"Spot\", \"Anil\")\n",
    "pet.print_name()    # only had name\n",
    "\n",
    "list_of_pets = ['spot', 'red', 'clifford']\n",
    "list_of_objs = []\n",
    "for elem in list_of_pets:\n",
    "    n = Pet(elem)\n",
    "    list_of_objs.append(n)\n",
    "    \n",
    "list_of_objs    # bunch of objects that can interact with each other"
   ]
  },
  {
   "cell_type": "code",
   "execution_count": 30,
   "metadata": {},
   "outputs": [
    {
     "name": "stdout",
     "output_type": "stream",
     "text": [
      "radius is 10\n",
      "diameter is 20\n",
      "area is 314.0\n"
     ]
    }
   ],
   "source": [
    "class Circle:\n",
    "    def __init__(self, radius=1.00):\n",
    "        self.radius = radius   # class attri\n",
    "        self.diameter = radius * 2   # class attri\n",
    "        self.area = self.calculate_area()\n",
    "    \n",
    "    def calculate_area(self):\n",
    "        return 3.14 * self.radius**2\n",
    "    \n",
    "c = Circle(radius=10)\n",
    "print(f\"radius is {c.radius}\")\n",
    "print(f\"diameter is {c.diameter}\")\n",
    "print(f\"area is {c.area}\")"
   ]
  },
  {
   "cell_type": "code",
   "execution_count": 31,
   "metadata": {},
   "outputs": [],
   "source": [
    "class Circle:\n",
    "    def __init__(self, radius=1.00):\n",
    "        self.radius = radius   # class attri\n",
    "        self.diameter = radius * 2   # class attri\n",
    "        self.area = self.calculate_area()\n",
    "    \n",
    "    def calculate_area(self):\n",
    "        return 3.14 * self.radius**2\n",
    "    \n",
    "c = Circle(radius=10)    # all have to do is provide the radius and create instance\n"
   ]
  },
  {
   "cell_type": "code",
   "execution_count": 32,
   "metadata": {},
   "outputs": [
    {
     "name": "stdout",
     "output_type": "stream",
     "text": [
      "radius is 10\n",
      "diameter is 20\n",
      "area is 314.0\n"
     ]
    }
   ],
   "source": [
    "print(f\"radius is {c.radius}\")\n",
    "print(f\"diameter is {c.diameter}\")\n",
    "print(f\"area is {c.area}\")"
   ]
  },
  {
   "cell_type": "code",
   "execution_count": null,
   "metadata": {},
   "outputs": [],
   "source": [
    "# Code along\n",
    "class Ballot:\n",
    "    pass"
   ]
  },
  {
   "cell_type": "code",
   "execution_count": null,
   "metadata": {},
   "outputs": [],
   "source": [
    "# method is part of a class and referring to itself, def print_coords"
   ]
  },
  {
   "cell_type": "code",
   "execution_count": 34,
   "metadata": {},
   "outputs": [
    {
     "name": "stdout",
     "output_type": "stream",
     "text": [
      "<__main__.Point object at 0x1101337f0>\n",
      "x : 2, y: 3\n"
     ]
    }
   ],
   "source": [
    "# Code along\n",
    "class Point:\n",
    "    def __init__(self, x, y):\n",
    "        self.x = x\n",
    "        self.y = y\n",
    "        \n",
    "    def print_coords(self):\n",
    "        print(f\"x : {self.x}, y: {self.y}\")    # in order to refer to it, have to refer to self\n",
    "        \n",
    "    # we want to create a method that calculates distance \n",
    "    # between one point and another\n",
    "    def calculate_distance(self, other_point):\n",
    "        if isinstance(other_point, Point):      # built in python function is other_point an instance of this Point\n",
    "            print(\"yes\")\n",
    "        else:\n",
    "            print(\"failed\")\n",
    "        \n",
    "    \n",
    "p = Point(2,3) # create instrance with x and y value, start with init method\n",
    "q = Point(5,7)\n",
    "\n",
    "p.calculate_distance(q)   # this is how we use it, but have to make sure the other_point is a Point\n",
    "\n",
    "p.print_coords()"
   ]
  },
  {
   "cell_type": "code",
   "execution_count": 35,
   "metadata": {},
   "outputs": [
    {
     "name": "stdout",
     "output_type": "stream",
     "text": [
      "yes\n",
      "failed\n"
     ]
    }
   ],
   "source": [
    "# Code along\n",
    "class Point:\n",
    "    def __init__(self, x, y):\n",
    "        self.x = x\n",
    "        self.y = y\n",
    "        \n",
    "    def print_coords(self):\n",
    "        print(f\"x : {self.x}, y: {self.y}\")    # in order to refer to it, have to refer to self\n",
    "        \n",
    "    # we want to create a method that calculates distance \n",
    "    # between one point and another\n",
    "    def calculate_distance(self, other_point):\n",
    "        #if type(other_point) == Point:      # does not know it yet but checking\n",
    "        if isinstance(other_point, Point):      # built in python function is other_point an instance of this Point\n",
    "                                                # check if its not a point\n",
    "        #if type(\"string\") == str:    same as this\n",
    "            \n",
    "            print(\"yes\")\n",
    "        else:\n",
    "            print(\"failed\")\n",
    "        \n",
    "    \n",
    "p = Point(2,3) # create instrance with x and y value, start with init method\n",
    "q = Point(5,7)\n",
    "\n",
    "p.calculate_distance(q)   # this is how we use it, but have to make sure the other_point is a Point\n",
    "\n",
    "p.calculate_distance(25)   # calling it and passing q to it"
   ]
  },
  {
   "cell_type": "code",
   "execution_count": 36,
   "metadata": {},
   "outputs": [
    {
     "name": "stdout",
     "output_type": "stream",
     "text": [
      "failed\n"
     ]
    }
   ],
   "source": [
    "# Code along\n",
    "class Point:\n",
    "    def __init__(self, x, y):\n",
    "        self.x = x\n",
    "        self.y = y\n",
    "        \n",
    "    def print_coords(self):\n",
    "        print(f\"x : {self.x}, y: {self.y}\")    # in order to refer to it, have to refer to self\n",
    "        \n",
    "    # we want to create a method that calculates distance \n",
    "    # between one point and another\n",
    "    def calculate_distance(self, other_point):\n",
    "        #if type(other_point) == Point:      # does not know it yet but checking\n",
    "        if isinstance(other_point, Point):      # built in python function is other_point an instance of this Point\n",
    "                                                # check if its not a point\n",
    "        #if type(\"string\") == str:    same as this\n",
    "            pass\n",
    "            #print(\"yes\")\n",
    "        else:\n",
    "            print(\"failed\")\n",
    "        \n",
    "    \n",
    "p = Point(2,3) # create instrance with x and y value, start with init method\n",
    "q = Point(5,7)\n",
    "\n",
    "p.calculate_distance(q)   # this is how we use it, but have to make sure the other_point is a Point\n",
    "\n",
    "p.calculate_distance(25)   # calling it and passing q to it"
   ]
  },
  {
   "cell_type": "code",
   "execution_count": 47,
   "metadata": {},
   "outputs": [
    {
     "ename": "SyntaxError",
     "evalue": "unexpected character after line continuation character (<ipython-input-47-49d7d57ae507>, line 19)",
     "output_type": "error",
     "traceback": [
      "\u001b[0;36m  File \u001b[0;32m\"<ipython-input-47-49d7d57ae507>\"\u001b[0;36m, line \u001b[0;32m19\u001b[0m\n\u001b[0;31m    return \\ ((other_point.x - self.x)**2 + (other_point.y - self.y)**2)**0.5\u001b[0m\n\u001b[0m                                                                             ^\u001b[0m\n\u001b[0;31mSyntaxError\u001b[0m\u001b[0;31m:\u001b[0m unexpected character after line continuation character\n"
     ]
    }
   ],
   "source": [
    "# Code along, example of using objects together, same type, kind or class\n",
    "class Point:\n",
    "    def __init__(self, x, y):\n",
    "        self.x = x\n",
    "        self.y = y\n",
    "        \n",
    "    def print_coords(self):\n",
    "        print(f\"x : {self.x}, y: {self.y}\")    # in order to refer to it, have to refer to self\n",
    "        \n",
    "    # we want to create a method that calculates distance \n",
    "    # between one point and another\n",
    "    \n",
    "    def calculate_distance(self, other_point):\n",
    "        #if type(other_point) == Point:         # does not know it yet but checking\n",
    "        if isinstance(other_point, Point):      # built in python function is other_point an instance of this Point\n",
    "                                                # check if its not a point, for access to the attribute\n",
    "        #if type(\"string\") == str:    same as this\n",
    "            \n",
    "            return \\ ((other_point.x - self.x)**2 + (other_point.y - self.y)**2)**0.5\n",
    "            # self.x is whats calling the function which is p\n",
    "        else:\n",
    "            print(\"other point is not a point\")\n",
    "        \n",
    "    \n",
    "p = Point(2,3) # create instrance with x and y value, start with init method\n",
    "q = Point(5,7)\n",
    "\n",
    "#p.calculate_distance(q)   # this is how we use it, but have to make sure the other_point is a Point\n",
    "\n",
    "#p.calculate_distance(25)   # calling it and passing q to it\n",
    "p.calculate_distance.q"
   ]
  },
  {
   "cell_type": "markdown",
   "metadata": {},
   "source": [
    "objects creating using the class\n",
    "create a class called enemy, blueprint to create the enemy all sort of share the same structure\n",
    "most everything created \n",
    "\n",
    "onjects are containers of inforatuion\n",
    "can see the attributes in pythin"
   ]
  },
  {
   "cell_type": "markdown",
   "metadata": {},
   "source": [
    "# Static methods for classes\n",
    "\n",
    "```python\n",
    "class Example:\n",
    "    @staticmethod\n",
    "    def method_thats_static(): #note there's no `self` argument\n",
    "        return \"hello\"\n",
    "```"
   ]
  },
  {
   "cell_type": "code",
   "execution_count": null,
   "metadata": {},
   "outputs": [],
   "source": [
    "class Example:    \n",
    "    @staticmethod\n",
    "    def f():\n",
    "        return \"hello world\"     # does not depend on the instance as well\n",
    "    \n",
    "    #def print_coords(self):     # cannot use as \n",
    "        #print(f\"x : {self.x}, y: {self.y}\")\n",
    "    \n",
    "x = Example()\n",
    "x.f()"
   ]
  },
  {
   "cell_type": "code",
   "execution_count": null,
   "metadata": {},
   "outputs": [],
   "source": [
    "Example.f()   # still able to call the method, method that had nothong to do woth the instance"
   ]
  },
  {
   "cell_type": "code",
   "execution_count": null,
   "metadata": {},
   "outputs": [],
   "source": [
    "# use without the instance of the class, dont' depend on the instace being created, without creating any of the objs\n",
    "\n",
    "class Calculator:\n",
    "    @staticmethod\n",
    "    def add(a,b):\n",
    "        return (a+b)\n",
    "    @staticmethod     # using decorator tells pythin not relying on the instance \n",
    "    def sub(a,b):\n",
    "        return(a-b)\n",
    "    @staticmethod\n",
    "    def mul(a,b):\n",
    "        return (a*b)\n",
    "    @staticmethod\n",
    "    def div(a,b):\n",
    "        return(a/b)\n",
    "\n",
    "    # Prompting user to enter two values\n",
    "print(\"Please enter values for x and y\")\n",
    "x = int(input())\n",
    "y = int(input())\n",
    "# static method are called using class_name.method()\n",
    "print(\"Sum of two numbers entered\" , Calculator.add(x, y) )      # not creating an object Calculator(), only\n",
    "print(\"Difference of two numbers entered\", Calculator.sub(x, y))\n",
    "print(\"Multiplication of two numbers entered\", Calculator.mul(x, y))\n",
    "print(\"Division of two numbers entered\", Calculator.div(x, y))"
   ]
  },
  {
   "cell_type": "markdown",
   "metadata": {},
   "source": [
    "# Class methods for classes\n",
    "\n",
    "```python\n",
    "class Example:    \n",
    "    @classmethod\n",
    "    def method_for_class(cls): # note that it takes one argument `cls`\n",
    "        return \"hello world\"\n",
    "\n",
    "```"
   ]
  },
  {
   "cell_type": "markdown",
   "metadata": {},
   "source": [
    "Be performed on the class itslef"
   ]
  },
  {
   "cell_type": "code",
   "execution_count": 44,
   "metadata": {},
   "outputs": [
    {
     "data": {
      "text/plain": [
       "('anil', 'S')"
      ]
     },
     "execution_count": 44,
     "metadata": {},
     "output_type": "execute_result"
    }
   ],
   "source": [
    "class Example:    \n",
    "    \n",
    "    def __init__(self, first_name=None, last_name=None):\n",
    "        self.first_name = first_name\n",
    "        self.last_name = last_name\n",
    "        \n",
    "    @classmethod\n",
    "    def from_full_name(cls, full_name): # note that it takes argument `cls`\n",
    "        first, last = full_name.split(' ')\n",
    "        return cls(first_name=first, last_name=last)  # using the split\n",
    "    \n",
    "#x = Example.from_full_name(\"John Doe\")\n",
    "#print(x.first_name)\n",
    "#print(x.last_name)\n",
    "x = Example(first_name=\"anil\", last_name=\"S\")\n",
    "x.first_name, x.last_name"
   ]
  },
  {
   "cell_type": "code",
   "execution_count": 45,
   "metadata": {},
   "outputs": [
    {
     "name": "stdout",
     "output_type": "stream",
     "text": [
      "John\n",
      "Doe\n"
     ]
    }
   ],
   "source": [
    "class Example:    \n",
    "    \n",
    "    def __init__(self, first_name=None, last_name=None):\n",
    "        self.first_name = first_name\n",
    "        self.last_name = last_name\n",
    "        \n",
    "    @classmethod\n",
    "    def from_full_name(cls, full_name): # note that it takes argument `cls`\n",
    "        first, last = full_name.split(' ')\n",
    "        return cls(first_name=first, last_name=last)\n",
    "    \n",
    "x = Example.from_full_name(\"John Doe\")   # return instance of the class created, creates new class instance\n",
    "print(x.first_name)\n",
    "print(x.last_name)"
   ]
  },
  {
   "cell_type": "code",
   "execution_count": 46,
   "metadata": {},
   "outputs": [
    {
     "data": {
      "text/plain": [
       "'Create a new dictionary with keys from iterable and values set to value.'"
      ]
     },
     "execution_count": 46,
     "metadata": {},
     "output_type": "execute_result"
    }
   ],
   "source": [
    "dict.fromkeys.__doc__"
   ]
  },
  {
   "cell_type": "markdown",
   "metadata": {},
   "source": [
    "without using init function, operate on the class itself\n",
    "cls is like self, probably use cls to understand its a class method, use it usually to create class instance"
   ]
  },
  {
   "cell_type": "markdown",
   "metadata": {},
   "source": [
    "ever in situation has init, new way to create using diff sort of infoation\n",
    "individul arg then pass long string, then split, way to create handle, not going to be widely used "
   ]
  },
  {
   "cell_type": "markdown",
   "metadata": {},
   "source": [
    "So css is a special word? ",
    "Cls ** \n",
    "So whatever the \n",
    "first argument is will never to the whole class……. \n",
    "Only because we are using the @classmethod decorator "
   ]
  }
 ],
 "metadata": {
  "kernelspec": {
   "display_name": "Python 3",
   "language": "python",
   "name": "python3"
  },
  "language_info": {
   "codemirror_mode": {
    "name": "ipython",
    "version": 3
   },
   "file_extension": ".py",
   "mimetype": "text/x-python",
   "name": "python",
   "nbconvert_exporter": "python",
   "pygments_lexer": "ipython3",
   "version": "3.8.5"
  }
 },
 "nbformat": 4,
 "nbformat_minor": 4
}
