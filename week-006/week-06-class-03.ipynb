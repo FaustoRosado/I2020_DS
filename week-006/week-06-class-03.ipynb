{
 "cells": [
  {
   "cell_type": "markdown",
   "metadata": {},
   "source": [
    "<div style=\"background: #000;\n",
    "            color: #FFF;\n",
    "            margin: 0px;\n",
    "                padding: 10px 0px 20px 0px;\n",
    "            text-align: center; \n",
    "                \">\n",
    "    <h1>Week 6 - Class 3 - 10/21</h1>\n",
    "</div>\n",
    "\n",
    "\n",
    "## Objectives for this week:\n",
    "* Objects, \n",
    "* Class declarations, Attributes, Methods\n",
    "* Self keywords\n",
    "* Object Inheritance, Generating Object Instances\n",
    "* Dot Notation\n",
    "\n",
    "## Todays Agenda\n",
    "* Homework Presentations\n",
    "* Object Inheritance, \n",
    "* Generating Object, Instances"
   ]
  },
  {
   "cell_type": "markdown",
   "metadata": {},
   "source": [
    "# Homework Presentations"
   ]
  },
  {
   "cell_type": "markdown",
   "metadata": {},
   "source": [
    "# Exercise 3\n",
    "\n",
    "If we list all the natural numbers below 10 that are multiples of 3 or 5, we get 3, 5, 6 and 9. The sum of these multiples is 23.\n",
    "\n",
    "Create a function that returns the sum of all the multiples of 3 or 5 below `n` where `n` is the inputted number.\n",
    "\n",
    "e.g. \n",
    "\n",
    "```\n",
    "n=10 -> 23\n",
    "n=25 -> 143\n",
    "n=50 -> 543\n",
    "n=100 -> 2318\n",
    "```"
   ]
  },
  {
   "cell_type": "code",
   "execution_count": null,
   "metadata": {},
   "outputs": [],
   "source": [
    "def sum_of_threes_and_fives(n=100):\n",
    "    pass\n",
    "\n",
    "sum_of_threes_and_fives() "
   ]
  },
  {
   "cell_type": "markdown",
   "metadata": {},
   "source": [
    "This code will allow you to solve problem 1 of the Project Euler problems.\n",
    "\n",
    "https://projecteuler.net/archives"
   ]
  },
  {
   "cell_type": "markdown",
   "metadata": {},
   "source": [
    "# Operator Overloading\n",
    "\n",
    "Certain operators like `==`, `+`, `-`, `*` can be overloaded to be used with user-defined datatypes like classes as well as built-in type like integers\n",
    "\n",
    "`==`  `__eq__`  \n",
    "`+` `__add__`\n",
    "`-` `__sub__`  \n",
    "`*` `__mul__`  \n",
    "`/` `__truediv__`  \n",
    "`//` `__floordiv__`  \n",
    "`%` `__mod__`  \n",
    "`**` `__pow__`  \n",
    "`<`  `__lt__`   \n",
    "`>`  `__gt__`  \n",
    "`<=` `__le__`  \n",
    "`>=` `__ge__`  \n",
    "`!=` `__ne__`"
   ]
  },
  {
   "cell_type": "markdown",
   "metadata": {},
   "source": [
    "# Vector example"
   ]
  },
  {
   "cell_type": "code",
   "execution_count": null,
   "metadata": {},
   "outputs": [],
   "source": [
    "class Vector:\n",
    "    def __init__(self, x=0, y=0):\n",
    "        self.x = x\n",
    "        self.y = y\n",
    "\n",
    "p = Vector(2,4)\n",
    "q = Vector(2,4)\n",
    "\n",
    "p == q"
   ]
  },
  {
   "cell_type": "code",
   "execution_count": 1,
   "metadata": {},
   "outputs": [
    {
     "data": {
      "text/plain": [
       "True"
      ]
     },
     "execution_count": 1,
     "metadata": {},
     "output_type": "execute_result"
    }
   ],
   "source": [
    "# with a method that understands the \n",
    "\n",
    "class Vector:\n",
    "    def __init__(self, x=0, y=0):\n",
    "        self.x = x\n",
    "        self.y = y\n",
    "    \n",
    "    def __eq__(self, other):                                 \n",
    "        return self.x == other.x and self.y == other.y   # since and both will be true\n",
    "    \n",
    "p = Vector(2,4)\n",
    "q = Vector(2,4)\n",
    "\n",
    "p == q       # both statements doing the same thing\n",
    "\n",
    "p.__eq__(q)  # both statements doing the same thing"
   ]
  },
  {
   "cell_type": "markdown",
   "metadata": {},
   "source": [
    "#### How do we implement others? (code along)"
   ]
  },
  {
   "cell_type": "code",
   "execution_count": null,
   "metadata": {},
   "outputs": [],
   "source": [
    "class Vector:\n",
    "    def __init__(self, x=0, y=0):\n",
    "        self.x = x\n",
    "        self.y = y\n",
    "    \n",
    "    def __eq__(self, other):\n",
    "        return self.x == other.x and self.y == other.y\n",
    "    \n",
    "    def__add__(self, other)\n",
    "\n",
    "        \n",
    "    \n",
    "p = Vector(2,4)\n",
    "q = Vector(2,4)\n",
    "\n",
    "# p.__add__(q)  # basically calling this method add, providing it to the class, hidden in python not really going to use addition this\n",
    "                #"
   ]
  },
  {
   "cell_type": "code",
   "execution_count": null,
   "metadata": {},
   "outputs": [],
   "source": [
    "# p.__add__() just like print_vector()\n",
    "# int(), declaration for tuples forbid\n",
    "\n",
    "class Vector:\n",
    "    def __init__(self, x=0, y=0):\n",
    "        self.x = x\n",
    "        self.y = y\n",
    "    \n",
    "    def print_vector(self):\n",
    "        print(f\"x: {x}, y: {y}\")\n",
    "    \n",
    "    def __eq__(self, other):\n",
    "        return self.x == other.x and self.y == other.y\n",
    "    \n",
    "    def__add__(self, other):\n",
    "\n",
    "        \n",
    "    \n",
    "p = Vector(2,4)\n",
    "q = Vector(2,4)"
   ]
  },
  {
   "cell_type": "code",
   "execution_count": null,
   "metadata": {},
   "outputs": [],
   "source": [
    "class Vector:\n",
    "    def __init__(self, x=0, y=0):\n",
    "        self.x = x\n",
    "        self.y = y\n",
    "    \n",
    "    def __eq__(self, other):\n",
    "        return self.x == other.x and self.y == other.y\n",
    "    \n",
    "    def__add__(self, other):\n",
    "        return None\n",
    "        \n",
    "    \n",
    "p = Vector(2,4)\n",
    "q = Vector(2,4)\n",
    "\n",
    "print(p+q)"
   ]
  },
  {
   "cell_type": "code",
   "execution_count": 6,
   "metadata": {},
   "outputs": [
    {
     "data": {
      "text/plain": [
       "<__main__.Vector at 0x104ae0220>"
      ]
     },
     "execution_count": 6,
     "metadata": {},
     "output_type": "execute_result"
    }
   ],
   "source": [
    "class Vector:\n",
    "    def __init__(self, x=0, y=0):\n",
    "        self.x = x\n",
    "        self.y = y\n",
    "    \n",
    "    def __eq__(self, other):\n",
    "        return self.x == other.x and self.y == other.y\n",
    "    \n",
    "    def __add__(self, other):\n",
    "        return Vector(0,0)                   # mutable vs immutable operation, returned new list or string DO WE WANT TO CREATE NEW VECTOR SUM\n",
    "                                 # new vector and still refer to p and q value later, calling on the class itself?\n",
    "        \n",
    "    \n",
    "p = Vector(2,4)\n",
    "q = Vector(2,4)\n",
    "\n",
    "    #Vector(4,8)  -> want to return something like this, new self variable would be changing the class\n",
    "    \n",
    "p + q"
   ]
  },
  {
   "cell_type": "code",
   "execution_count": 10,
   "metadata": {},
   "outputs": [
    {
     "name": "stdout",
     "output_type": "stream",
     "text": [
      "Vector x: 0 y: 0\n"
     ]
    }
   ],
   "source": [
    "class Vector:\n",
    "    def __init__(self, x=0, y=0):\n",
    "        self.x = x\n",
    "        self.y = y\n",
    "        \n",
    "    def print_vector(self):\n",
    "        print(f\"x: {x}, y: {y}\")\n",
    "    \n",
    "    def __eq__(self, other):\n",
    "        return self.x == other.x and self.y == other.y\n",
    "    \n",
    "    def __add__(self, other):\n",
    "        return Vector(0,0)\n",
    "    \n",
    "    def __repr__(self):    # use contents of the class instance\n",
    "        return f\"Vector x: {self.x} y: {self.y}\"\n",
    "        #return f\"Vector({self.x}, {self.y})\"\n",
    "        \n",
    "    def __str__(self):    \n",
    "        return f\"Vector x: {self.x} y: {self.y}\"\n",
    "        \n",
    "    \n",
    "p = Vector(2,4)\n",
    "q = Vector(2,4)\n",
    "\n",
    "print(p+q)"
   ]
  },
  {
   "cell_type": "code",
   "execution_count": 8,
   "metadata": {},
   "outputs": [
    {
     "name": "stdout",
     "output_type": "stream",
     "text": [
      "string\n"
     ]
    }
   ],
   "source": [
    "# outputting class, recreate the class with the output\n",
    "\n",
    "print(\"string\")"
   ]
  },
  {
   "cell_type": "code",
   "execution_count": 4,
   "metadata": {},
   "outputs": [
    {
     "data": {
      "text/plain": [
       "'string'"
      ]
     },
     "execution_count": 4,
     "metadata": {},
     "output_type": "execute_result"
    }
   ],
   "source": [
    "'string'"
   ]
  },
  {
   "cell_type": "code",
   "execution_count": 13,
   "metadata": {},
   "outputs": [
    {
     "data": {
      "text/plain": [
       "Vector x: 102 y: 8"
      ]
     },
     "execution_count": 13,
     "metadata": {},
     "output_type": "execute_result"
    }
   ],
   "source": [
    "class Vector:\n",
    "    def __init__(self, x=0, y=0):\n",
    "        self.x = x\n",
    "        self.y = y\n",
    "        \n",
    "    def print_vector(self):\n",
    "        print(f\"x: {x}, y: {y}\")\n",
    "    \n",
    "    def __eq__(self, other):\n",
    "        return self.x == other.x and self.y == other.y\n",
    "    \n",
    "    def __add__(self, other):\n",
    "        return Vector(self.x + other.x, self.y  + other.y)\n",
    "    \n",
    "    def __repr__(self):    # use contents of the class instance\n",
    "        return f\"Vector x: {self.x} y: {self.y}\"\n",
    "        #return f\"Vector({self.x}, {self.y})\"\n",
    "        \n",
    "    def __str__(self):    \n",
    "        return f\"Vector x: {self.x} y: {self.y}\"\n",
    "        \n",
    "    \n",
    "p = Vector(2,4)\n",
    "\n",
    "# vector(x,y) * 3 -> vector(3x, 3y)   will turn into function\n",
    "\n",
    "q = Vector(100,4)\n",
    "\n",
    "p + q\n",
    "\n"
   ]
  },
  {
   "cell_type": "code",
   "execution_count": 14,
   "metadata": {},
   "outputs": [
    {
     "data": {
      "text/plain": [
       "Vector x: 6 y: 12"
      ]
     },
     "execution_count": 14,
     "metadata": {},
     "output_type": "execute_result"
    }
   ],
   "source": [
    "# overloaded 2 operators and returned what we what\n",
    "# how do we check in add func, that other is the same as p\n",
    "\n",
    "class Vector:\n",
    "    def __init__(self, x=0, y=0):\n",
    "        self.x = x\n",
    "        self.y = y\n",
    "        \n",
    "    def print_vector(self):\n",
    "        print(f\"x: {x}, y: {y}\")\n",
    "    \n",
    "    def __eq__(self, other):\n",
    "        return self.x == other.x and self.y == other.y\n",
    "    \n",
    "    def __add__(self, other):\n",
    "        if isinstance(other, Vector)                             # have not learned how to handle error\n",
    "            return Vector(self.x + other.x, self.y  + other.y)\n",
    "    \n",
    "    def __mul__(self, scalar):\n",
    "        return Vector(self.x * scalar, self.y * scalar)\n",
    "    \n",
    "    def __repr__(self):    # use contents of the class instance\n",
    "        return f\"Vector x: {self.x} y: {self.y}\"\n",
    "        #return f\"Vector({self.x}, {self.y})\"\n",
    "        \n",
    "    def __str__(self):    \n",
    "        return f\"Vector x: {self.x} y: {self.y}\"\n",
    "        \n",
    "    \n",
    "p = Vector(2,4)\n",
    "\n",
    "# vector(x,y) * 3 -> vector(3x, 3y)   will turn into function\n",
    "\n",
    "\n",
    "#p.__mul__(3)    # assume integer or float we're getting\n",
    "\n",
    "#p * 3   up to you what to call it but as long as scaled result\n",
    "p * 3"
   ]
  },
  {
   "cell_type": "code",
   "execution_count": 20,
   "metadata": {},
   "outputs": [
    {
     "ename": "SyntaxError",
     "evalue": "invalid syntax (<ipython-input-20-e9c0717e27aa>, line 31)",
     "output_type": "error",
     "traceback": [
      "\u001b[0;36m  File \u001b[0;32m\"<ipython-input-20-e9c0717e27aa>\"\u001b[0;36m, line \u001b[0;32m31\u001b[0m\n\u001b[0;31m    print(p+4))\u001b[0m\n\u001b[0m    ^\u001b[0m\n\u001b[0;31mSyntaxError\u001b[0m\u001b[0;31m:\u001b[0m invalid syntax\n"
     ]
    }
   ],
   "source": [
    "class Vector:\n",
    "    def __init__(self, x=0, y=0):\n",
    "        self.x = x\n",
    "        self.y = y\n",
    "        \n",
    "    def print_vector(self):\n",
    "        print(f\"x: {x}, y: {y}\")\n",
    "    \n",
    "    def __eq__(self, other):\n",
    "        return self.x == other.x and self.y == other.y      # could add isinstance here to check if it is a vector\n",
    "    \n",
    "    def __add__(self, other):\n",
    "        if isinstance(other, Vector):                             \n",
    "            return Vector(self.x + other.x, self.y  + other.y)\n",
    "    \n",
    "    def __mul__(self, scalar):\n",
    "        if isinstance(scalar, (int, float)):\n",
    "            return Vector(self.x * scalar, self.y * scalar)\n",
    "    \n",
    "    def __repr__(self):    \n",
    "        return f\"Vector x: {self.x} y: {self.y}\"\n",
    "        #return f\"Vector({self.x}, {self.y})\"\n",
    "        \n",
    "    def __str__(self):    \n",
    "        return f\"Vector x: {self.x} y: {self.y}\"\n",
    "        \n",
    "    \n",
    "p = Vector(2,4)\n",
    "\n",
    "q = Vector(3,6\n",
    "print(p+4))"
   ]
  },
  {
   "cell_type": "code",
   "execution_count": 21,
   "metadata": {},
   "outputs": [
    {
     "name": "stdout",
     "output_type": "stream",
     "text": [
      "Vector x: 7.0 y: 14.0\n"
     ]
    }
   ],
   "source": [
    "class Vector:\n",
    "    def __init__(self, x=0, y=0):\n",
    "        self.x = x\n",
    "        self.y = y\n",
    "    def print_vector(self):\n",
    "        print(f\"x: {x}, y: {y}\")\n",
    "    def __eq__(self, other):\n",
    "        if isinstance(other, Vector):\n",
    "            return self.x == other.x and self.y == other.y\n",
    "    def __add__(self, other):\n",
    "        if isinstance(other, Vector):\n",
    "            return Vector(self.x + other.x,self.y + other.y)\n",
    "    def __mul__(self, scalar):\n",
    "        if isinstance(scalar, (int, float)):\n",
    "            return Vector(self.x * scalar, self.y * scalar)\n",
    "    def __repr__(self):\n",
    "        return f\"Vector({self.x}, {self.y})\"\n",
    "    def __str__(self):\n",
    "        return f\"Vector x: {self.x} y: {self.y}\"   \n",
    "p = Vector(2,4)\n",
    "q = Vector(3,6)\n",
    "print(p * 3.5)"
   ]
  },
  {
   "cell_type": "code",
   "execution_count": null,
   "metadata": {},
   "outputs": [],
   "source": []
  },
  {
   "cell_type": "markdown",
   "metadata": {},
   "source": [
    "# Getters and Setters"
   ]
  },
  {
   "cell_type": "code",
   "execution_count": 22,
   "metadata": {},
   "outputs": [
    {
     "name": "stdout",
     "output_type": "stream",
     "text": [
      "0\n",
      "1\n",
      "\n",
      "3\n",
      "5\n"
     ]
    }
   ],
   "source": [
    "# object oriented construct, this is kind of why \n",
    "#data structure encapsulates all of that data structure, order and operate \n",
    "#Encapsulation is useful protect obj against other objs, then have security in code, class instances of being misued like checking\n",
    "#the isinstance()\n",
    "# one of ways to protects is get the value and then set the value extra code to male sure safe\n",
    "\n",
    "class Point:\n",
    "    def __init__(self, x, y):\n",
    "        self.__x = x          # double underscore to protect, in python denotes to the class and protected attr\n",
    "        self.__y = y          # create instance and setting the protected attr\n",
    "                              # meant to signify to other programmers not to be directly access/mess with it\n",
    "    def get_x(self):\n",
    "        return self.__x\n",
    "    \n",
    "    def set_x(self, x):    # protecting it from changing, using setter to change\n",
    "        if type(x) == int:\n",
    "            self.__x = x\n",
    "        \n",
    "    def get_y(self):\n",
    "        return self.__y\n",
    "    \n",
    "    def set_y(self, y):\n",
    "        if type(y) == int:\n",
    "            self.__y = y\n",
    "        \n",
    "p = Point(0,1)\n",
    "\n",
    "print(p.get_x())\n",
    "print(p.get_y())\n",
    "print()\n",
    "\n",
    "p.set_x(3)\n",
    "p.set_y(5)\n",
    "\n",
    "print(p.get_x())\n",
    "print(p.get_y())\n",
    "\n",
    "p.__x = 4 #(directly changing it, when programming __x, dont want to mess with it, instead using methods to change it.)\n"
   ]
  },
  {
   "cell_type": "code",
   "execution_count": null,
   "metadata": {},
   "outputs": [],
   "source": [
    "# IN python, don't so this way\n",
    "#print(p.get_x())\n",
    "#print(p.get_y())\n",
    "#print()\n",
    "\n",
    "#p.set_x(3)\n",
    "#p.set_y(5)\n",
    "\n",
    "#print(p.get_x())\n",
    "#print(p.get_y())"
   ]
  },
  {
   "cell_type": "markdown",
   "metadata": {},
   "source": [
    "Will end up re-writing it without code verbosity"
   ]
  },
  {
   "cell_type": "markdown",
   "metadata": {},
   "source": [
    "# `@property`\n",
    "\n",
    "Makes a method of `cls` accessible via attribute "
   ]
  },
  {
   "cell_type": "code",
   "execution_count": 24,
   "metadata": {},
   "outputs": [
    {
     "data": {
      "text/plain": [
       "'Kamala Harris'"
      ]
     },
     "execution_count": 24,
     "metadata": {},
     "output_type": "execute_result"
    }
   ],
   "source": [
    "class Person:\n",
    "    def __init__(self, first_name, last_name, age):\n",
    "        self.first_name = first_name\n",
    "        self.last_name = last_name\n",
    "        self.age = age\n",
    "        self.full_name = f\"{self.first_name} {self.last_name}\"       \n",
    "        \n",
    "p = Person('Kamala', 'Harris', 56)\n",
    "p.full_name"
   ]
  },
  {
   "cell_type": "code",
   "execution_count": 31,
   "metadata": {},
   "outputs": [
    {
     "name": "stdout",
     "output_type": "stream",
     "text": [
      "Kamala\n",
      "Joe Biden\n"
     ]
    }
   ],
   "source": [
    "# to change the fullname\n",
    "\n",
    "class Person:\n",
    "    def __init__(self, first_name, last_name, age):\n",
    "        self.first_name = first_name\n",
    "        self.last_name = last_name\n",
    "        self.age = age\n",
    "        self.full_name = f\"{self.first_name} {self.last_name}\"  # not passing an attr to full name, setting to      \n",
    "        \n",
    "p = Person('Kamala', 'Harris', 56)\n",
    "\n",
    "p.full_name = \"Joe Biden\"   # doesn't change\n",
    "print(p.first_name)     # not going to change whats corresponded to \n",
    "print(p.full_name)"
   ]
  },
  {
   "cell_type": "code",
   "execution_count": 35,
   "metadata": {},
   "outputs": [
    {
     "data": {
      "text/plain": [
       "'Kamala Harris'"
      ]
     },
     "execution_count": 35,
     "metadata": {},
     "output_type": "execute_result"
    }
   ],
   "source": [
    "class Person:\n",
    "    def __init__(self, first_name, last_name, age):\n",
    "        self.first_name = first_name\n",
    "        self.last_name = last_name\n",
    "        self.age = age\n",
    "        #self.full_name = f\"{self.first_name} {self.last_name}\"  # not passing an attr to full name, setting to     \n",
    "        \n",
    "    \n",
    "    def full_name(self):\n",
    "        return f\"{self.first_name} {self.last_name}\"   # take it out and generate its full name\n",
    "        \n",
    "p = Person('Kamala', 'Harris', 56)\n",
    "\n",
    "# can return as a method, but not as a attribute\n",
    "\n",
    "p.full_name()"
   ]
  },
  {
   "cell_type": "code",
   "execution_count": 34,
   "metadata": {},
   "outputs": [
    {
     "ename": "NameError",
     "evalue": "name 'proper' is not defined",
     "output_type": "error",
     "traceback": [
      "\u001b[0;31m---------------------------------------------------------------------------\u001b[0m",
      "\u001b[0;31mNameError\u001b[0m                                 Traceback (most recent call last)",
      "\u001b[0;32m<ipython-input-34-d5ff0c2803ff>\u001b[0m in \u001b[0;36m<module>\u001b[0;34m\u001b[0m\n\u001b[0;32m----> 1\u001b[0;31m \u001b[0;32mclass\u001b[0m \u001b[0mPerson\u001b[0m\u001b[0;34m:\u001b[0m\u001b[0;34m\u001b[0m\u001b[0;34m\u001b[0m\u001b[0m\n\u001b[0m\u001b[1;32m      2\u001b[0m     \u001b[0;32mdef\u001b[0m \u001b[0m__init__\u001b[0m\u001b[0;34m(\u001b[0m\u001b[0mself\u001b[0m\u001b[0;34m,\u001b[0m \u001b[0mfirst_name\u001b[0m\u001b[0;34m,\u001b[0m \u001b[0mlast_name\u001b[0m\u001b[0;34m,\u001b[0m \u001b[0mage\u001b[0m\u001b[0;34m)\u001b[0m\u001b[0;34m:\u001b[0m\u001b[0;34m\u001b[0m\u001b[0;34m\u001b[0m\u001b[0m\n\u001b[1;32m      3\u001b[0m         \u001b[0mself\u001b[0m\u001b[0;34m.\u001b[0m\u001b[0mfirst_name\u001b[0m \u001b[0;34m=\u001b[0m \u001b[0mfirst_name\u001b[0m\u001b[0;34m\u001b[0m\u001b[0;34m\u001b[0m\u001b[0m\n\u001b[1;32m      4\u001b[0m         \u001b[0mself\u001b[0m\u001b[0;34m.\u001b[0m\u001b[0mlast_name\u001b[0m \u001b[0;34m=\u001b[0m \u001b[0mlast_name\u001b[0m\u001b[0;34m\u001b[0m\u001b[0;34m\u001b[0m\u001b[0m\n\u001b[1;32m      5\u001b[0m         \u001b[0mself\u001b[0m\u001b[0;34m.\u001b[0m\u001b[0mage\u001b[0m \u001b[0;34m=\u001b[0m \u001b[0mage\u001b[0m\u001b[0;34m\u001b[0m\u001b[0;34m\u001b[0m\u001b[0m\n",
      "\u001b[0;32m<ipython-input-34-d5ff0c2803ff>\u001b[0m in \u001b[0;36mPerson\u001b[0;34m()\u001b[0m\n\u001b[1;32m      6\u001b[0m         \u001b[0;31m#self.full_name = f\"{self.first_name} {self.last_name}\"  # not passing an attr to full name, setting to\u001b[0m\u001b[0;34m\u001b[0m\u001b[0;34m\u001b[0m\u001b[0;34m\u001b[0m\u001b[0m\n\u001b[1;32m      7\u001b[0m \u001b[0;34m\u001b[0m\u001b[0m\n\u001b[0;32m----> 8\u001b[0;31m     \u001b[0;34m@\u001b[0m\u001b[0mproper\u001b[0m\u001b[0;34m\u001b[0m\u001b[0;34m\u001b[0m\u001b[0m\n\u001b[0m\u001b[1;32m      9\u001b[0m     \u001b[0;32mdef\u001b[0m \u001b[0mfull_name\u001b[0m\u001b[0;34m(\u001b[0m\u001b[0mself\u001b[0m\u001b[0;34m)\u001b[0m\u001b[0;34m:\u001b[0m\u001b[0;34m\u001b[0m\u001b[0;34m\u001b[0m\u001b[0m\n\u001b[1;32m     10\u001b[0m         \u001b[0;32mreturn\u001b[0m \u001b[0;34mf\"{self.first_name} {self.last_name}\"\u001b[0m   \u001b[0;31m# take it out and generate its full name\u001b[0m\u001b[0;34m\u001b[0m\u001b[0;34m\u001b[0m\u001b[0m\n",
      "\u001b[0;31mNameError\u001b[0m: name 'proper' is not defined"
     ]
    }
   ],
   "source": [
    "# still havent been able to set the attribute property\n",
    "\n",
    "class Person:\n",
    "    def __init__(self, first_name, last_name, age):\n",
    "        self.first_name = first_name\n",
    "        self.last_name = last_name\n",
    "        self.age = age\n",
    "        #self.full_name = f\"{self.first_name} {self.last_name}\"  # not passing an attr to full name, setting to     \n",
    "        \n",
    "    @property\n",
    "    def full_name(self):\n",
    "        return f\"{self.first_name} {self.last_name}\"   # take it out and generate its full name\n",
    "        \n",
    "p = Person('Kamala', 'Harris', 56)\n",
    "\n",
    "p.full_name"
   ]
  },
  {
   "cell_type": "code",
   "execution_count": null,
   "metadata": {},
   "outputs": [],
   "source": [
    "class Person:\n",
    "    def __init__(self, first_name, last_name, age):\n",
    "        self.first_name = first_name\n",
    "        self.last_name = last_name\n",
    "        self.age = age\n",
    "        #self.full_name = f\"{self.first_name} {self.last_name}\"  # not passing an attr to full name, setting to     \n",
    "        \n",
    "    @property\n",
    "    def full_name(self):\n",
    "        return f\"{self.first_name} {self.last_name}\"   # take it out and generate its full name\n",
    "        \n",
    "p = Person('Kamala', 'Harris', 56)\n",
    "\n",
    "p.full_name = \"Joe Biden\"   # doesn't change\n",
    "print(p.first_name)     # not going to change whats corresponded to \n",
    "print(p.full_name)"
   ]
  },
  {
   "cell_type": "code",
   "execution_count": 27,
   "metadata": {},
   "outputs": [
    {
     "data": {
      "text/plain": [
       "'Kamala Harris'"
      ]
     },
     "execution_count": 27,
     "metadata": {},
     "output_type": "execute_result"
    }
   ],
   "source": [
    "class Person:\n",
    "    def __init__(self, first_name, last_name, age):\n",
    "        self.first_name = first_name\n",
    "        self.last_name = last_name\n",
    "        self.age = age\n",
    "        \n",
    "    @property                      # getter for the attr full_name\n",
    "    def full_name(self):\n",
    "        return f\"{self.first_name} {self.last_name}\"\n",
    "    \n",
    "    @ full_name.setter             # setter for the attr full_name\n",
    "    def full_name(self, fullname): # so not confused with \n",
    "        \n",
    "        \n",
    "p = Person('Kamala', 'Harris', 56)\n",
    "p.full_name"
   ]
  },
  {
   "cell_type": "markdown",
   "metadata": {},
   "source": [
    "# Setters using `@property`"
   ]
  },
  {
   "cell_type": "code",
   "execution_count": null,
   "metadata": {},
   "outputs": [],
   "source": [
    "# create method with the same name\n",
    "\n",
    "class Person:\n",
    "    def __init__(self, first_name, last_name, age):\n",
    "        self.first_name = first_name\n",
    "        self.last_name = last_name\n",
    "        self.age = age\n",
    "        \n",
    "    @property\n",
    "    def full_name(self):\n",
    "        return f\"{self.first_name} {self.last_name}\"\n",
    "    \n",
    "    @full_name.setter             # create decorator with the attr and .setter\n",
    "    def full_name(self)\n",
    "        \n",
    "        \n",
    "p = Person('Kamala', 'Harris', 56)\n",
    "p.full_name = 'Joe Biden'"
   ]
  },
  {
   "cell_type": "code",
   "execution_count": 40,
   "metadata": {},
   "outputs": [
    {
     "data": {
      "text/plain": [
       "'Joe'"
      ]
     },
     "execution_count": 40,
     "metadata": {},
     "output_type": "execute_result"
    }
   ],
   "source": [
    "class Person:\n",
    "    def __init__(self, first_name, last_name, age):\n",
    "        self.first_name = first_name\n",
    "        self.last_name = last_name\n",
    "        self.age = age\n",
    "        \n",
    "    @property               # set what this attr is being built out of\n",
    "    def full_name(self):\n",
    "        return f\"{self.first_name} {self.last_name}\"\n",
    "    \n",
    "    @full_name.setter                 # changed what was used to create full_name\n",
    "    def full_name(self, fullname):        # just the argument name\n",
    "        self.first_name, self.last_name = fullname.split(' ')       #like calling this method\n",
    "        \n",
    "        \n",
    "p = Person('Kamala', 'Harris', 56)\n",
    "p.full_name = 'Joe Biden'           # set up new vals to basicaly change what was creating the values\n",
    "p.first_name"
   ]
  },
  {
   "cell_type": "code",
   "execution_count": 41,
   "metadata": {},
   "outputs": [
    {
     "data": {
      "text/plain": [
       "'Joe Biden'"
      ]
     },
     "execution_count": 41,
     "metadata": {},
     "output_type": "execute_result"
    }
   ],
   "source": [
    "# there decorator, name of attr set with property, pythn knows when to use first methid to get and 2nd to set\n",
    "\n",
    "\n",
    "class Person:\n",
    "    def __init__(self, first_name, last_name, age):\n",
    "        self.first_name = first_name\n",
    "        self.last_name = last_name\n",
    "        self.age = age\n",
    "        \n",
    "    @property\n",
    "    def full_name(self):\n",
    "        return f\"{self.first_name} {self.last_name}\"\n",
    "    \n",
    "    @full_name.setter\n",
    "    def full_name(self, full_name):\n",
    "        self.first_name, self.last_name = full_name.split(' ')\n",
    "        \n",
    "        \n",
    "p = Person('Kamala', 'Harris', 56)\n",
    "p.full_name = 'Joe Biden'\n",
    "p.full_name"
   ]
  },
  {
   "cell_type": "markdown",
   "metadata": {},
   "source": [
    "# Deleters using `@property`"
   ]
  },
  {
   "cell_type": "code",
   "execution_count": null,
   "metadata": {},
   "outputs": [],
   "source": [
    "class Person:\n",
    "    def __init__(self, first_name, last_name, age):\n",
    "        self.first_name = first_name\n",
    "        self.last_name = last_name\n",
    "        self.age = age\n",
    "        \n",
    "    @property\n",
    "    def full_name(self):\n",
    "        return f\"{self.first_name} {self.last_name}\"\n",
    "    \n",
    "    @full_name.setter\n",
    "    def full_name(self, full_name):\n",
    "        self.first_name, self.last_name = full_name.split(' ')\n",
    "        \n",
    "    @full_name.deleter\n",
    "    def full_name(self):\n",
    "        self.first_name, self.last_name = (None, None)\n",
    "        \n",
    "        \n",
    "p = Person('Kamala', 'Harris', 56)\n",
    "p.full_name = 'Joe Biden'\n",
    "del p.full_name\n",
    "\n",
    "p.full_name"
   ]
  },
  {
   "cell_type": "code",
   "execution_count": 44,
   "metadata": {},
   "outputs": [
    {
     "name": "stdout",
     "output_type": "stream",
     "text": [
      "None\n"
     ]
    }
   ],
   "source": [
    "\n",
    "\n",
    "class Person:\n",
    "    def __init__(self, first_name, last_name, age):\n",
    "        self.first_name = first_name\n",
    "        self.last_name = last_name\n",
    "        self.age = age\n",
    "        \n",
    "    @property\n",
    "    def full_name(self):\n",
    "        return f\"{self.first_name} {self.last_name}\"\n",
    "    \n",
    "    @full_name.setter\n",
    "    def full_name(self, full_name):\n",
    "        self.first_name, self.last_name = full_name.split(' ')\n",
    "        \n",
    "    @full_name.deleter\n",
    "    def full_name(self):\n",
    "        self.first_name, self.last_name = (None, None)\n",
    "        \n",
    "        \n",
    "p = Person('Kamala', 'Harris', 56)\n",
    "p.full_name = 'Joe Biden'\n",
    "del p.full_name\n",
    "\n",
    "#p.full_name\n",
    "print(p.first_name)"
   ]
  },
  {
   "cell_type": "code",
   "execution_count": null,
   "metadata": {},
   "outputs": [],
   "source": []
  },
  {
   "cell_type": "markdown",
   "metadata": {},
   "source": [
    "Before"
   ]
  },
  {
   "cell_type": "code",
   "execution_count": 45,
   "metadata": {},
   "outputs": [
    {
     "name": "stdout",
     "output_type": "stream",
     "text": [
      "0\n",
      "1\n",
      "\n",
      "3\n",
      "5\n"
     ]
    }
   ],
   "source": [
    "# in OOP way, we get:\n",
    "# worked how it worked before\n",
    "\n",
    "\n",
    "class Point:\n",
    "    def __init__(self, x, y):\n",
    "        self.__x = x\n",
    "        self.__y = y\n",
    "    \n",
    "    def get_x(self):\n",
    "        return self.__x\n",
    "    \n",
    "    def set_x(self, x):\n",
    "        if type(x) == int:\n",
    "            self.__x = x\n",
    "        \n",
    "    def get_y(self):\n",
    "        return self.__y\n",
    "    \n",
    "    def set_y(self, y):\n",
    "        if type(y) == int:\n",
    "            self.__y = y\n",
    "        \n",
    "p = Point(0,1)\n",
    "\n",
    "print(p.get_x())\n",
    "print(p.get_y())\n",
    "print()\n",
    "\n",
    "p.set_x(3)\n",
    "p.set_y(5)\n",
    "\n",
    "print(p.get_x())\n",
    "print(p.get_y())"
   ]
  },
  {
   "cell_type": "markdown",
   "metadata": {},
   "source": [
    "After"
   ]
  },
  {
   "cell_type": "code",
   "execution_count": null,
   "metadata": {},
   "outputs": [],
   "source": [
    "#set to make \n",
    "class Point:        \n",
    "    def __init__(self, x, y):\n",
    "        self.__x = x\n",
    "        self.__y = y\n",
    "    \n",
    "    @property\n",
    "    def x(self):\n",
    "        return self.__x\n",
    "    \n",
    "    @x.setter   # x as func method since it is the attr\n",
    "    def x(self, x):\n",
    "        if type(x) == int:\n",
    "            self.__x = x\n",
    "        \n",
    "    @property\n",
    "    def y(self):\n",
    "        return self.__y\n",
    "    \n",
    "    @y.setter\n",
    "    def y(self, y):\n",
    "        if type(y) == int:\n",
    "            self.__y = y\n",
    "        \n",
    "p = Point(0,1)\n",
    "\n",
    "# bad way\n",
    "\n",
    "#print(p.get_x())\n",
    "#print(p.get_y())\n",
    "3print()\n",
    "\n",
    "#p.set_x(3)\n",
    "#p.set_y(5)\n",
    "\n",
    "#print(p.get_x())\n",
    "#print(p.get_y())\n",
    "\n",
    "# python way\n",
    "\n",
    "print(p.x)\n",
    "print(p.y)\n",
    "print()\n",
    "\n",
    "p.x = 3\n",
    "p.y = 5\n",
    "\n",
    "print(p.x)\n",
    "print(p.y)\n",
    "     "
   ]
  },
  {
   "cell_type": "code",
   "execution_count": 47,
   "metadata": {},
   "outputs": [
    {
     "name": "stdout",
     "output_type": "stream",
     "text": [
      "0\n",
      "1\n",
      "\n",
      "0\n",
      "5\n"
     ]
    }
   ],
   "source": [
    "class Point:        \n",
    "    def __init__(self, x, y):\n",
    "        self.__x = x\n",
    "        self.__y = y\n",
    "    \n",
    "    @property\n",
    "    def x(self):\n",
    "        return self.__x\n",
    "    \n",
    "    @x.setter   # x as func method since it is the attr\n",
    "    def x(self, x):\n",
    "        if type(x) == int:\n",
    "            self.__x = x\n",
    "        \n",
    "    @property\n",
    "    def y(self):\n",
    "        return self.__y\n",
    "    \n",
    "    @y.setter\n",
    "    def y(self, y):\n",
    "        if type(y) == int:\n",
    "            self.__y = y\n",
    "        \n",
    "p = Point(0,1)\n",
    "\n",
    "# bad way\n",
    "\n",
    "#print(p.get_x())\n",
    "#print(p.get_y())\n",
    "#print()\n",
    "\n",
    "#p.set_x(3)\n",
    "#p.set_y(5)\n",
    "\n",
    "#print(p.get_x())\n",
    "#print(p.get_y())\n",
    "\n",
    "# python way\n",
    "\n",
    "print(p.x)\n",
    "print(p.y)\n",
    "print()\n",
    "\n",
    "p.x = True    # DOES NOT CHANGE x\n",
    "p.y = 5\n",
    "\n",
    "print(p.x)\n",
    "print(p.y)\n",
    "     "
   ]
  },
  {
   "cell_type": "markdown",
   "metadata": {},
   "source": [
    "# `@staticmethod`"
   ]
  },
  {
   "cell_type": "code",
   "execution_count": 49,
   "metadata": {},
   "outputs": [
    {
     "name": "stdout",
     "output_type": "stream",
     "text": [
      "1990\n"
     ]
    },
    {
     "data": {
      "text/plain": [
       "2020"
      ]
     },
     "execution_count": 49,
     "metadata": {},
     "output_type": "execute_result"
    }
   ],
   "source": [
    "# why would this be problematic, assume trying to calc birth year\n",
    "\n",
    "from datetime import datetime\n",
    "\n",
    "def current_year():                # does not depend on the class, not associated w\\ the class and not know where that is in larger file\n",
    "    return datetime.now().year\n",
    "\n",
    "class Person:\n",
    "    def __init__(self, name, age):\n",
    "        self.name = name\n",
    "        self.age = age\n",
    "        \n",
    "    def calculate_birth_year(self):\n",
    "        return current_year() - self.age\n",
    "\n",
    "s = Person(\"John Doe\", 30)\n",
    "s.calculate_birth_year()\n",
    "print(s.calculate_birth_year())\n",
    "current_year()  "
   ]
  },
  {
   "cell_type": "code",
   "execution_count": 51,
   "metadata": {},
   "outputs": [
    {
     "name": "stdout",
     "output_type": "stream",
     "text": [
      "1990\n"
     ]
    },
    {
     "ename": "TypeError",
     "evalue": "current_year() takes 0 positional arguments but 1 was given",
     "output_type": "error",
     "traceback": [
      "\u001b[0;31m---------------------------------------------------------------------------\u001b[0m",
      "\u001b[0;31mTypeError\u001b[0m                                 Traceback (most recent call last)",
      "\u001b[0;32m<ipython-input-51-2a65e241ce2b>\u001b[0m in \u001b[0;36m<module>\u001b[0;34m\u001b[0m\n\u001b[1;32m     19\u001b[0m \u001b[0ms\u001b[0m \u001b[0;34m=\u001b[0m \u001b[0mPerson\u001b[0m\u001b[0;34m(\u001b[0m\u001b[0;34m\"John Doe\"\u001b[0m\u001b[0;34m,\u001b[0m \u001b[0;36m30\u001b[0m\u001b[0;34m)\u001b[0m\u001b[0;34m\u001b[0m\u001b[0;34m\u001b[0m\u001b[0m\n\u001b[1;32m     20\u001b[0m \u001b[0mprint\u001b[0m\u001b[0;34m(\u001b[0m\u001b[0ms\u001b[0m\u001b[0;34m.\u001b[0m\u001b[0mcalculate_birth_year\u001b[0m\u001b[0;34m(\u001b[0m\u001b[0;34m)\u001b[0m\u001b[0;34m)\u001b[0m\u001b[0;34m\u001b[0m\u001b[0;34m\u001b[0m\u001b[0m\n\u001b[0;32m---> 21\u001b[0;31m \u001b[0ms\u001b[0m\u001b[0;34m.\u001b[0m\u001b[0mcurrent_year\u001b[0m\u001b[0;34m(\u001b[0m\u001b[0;34m)\u001b[0m                    \u001b[0;31m#can now call the current year\u001b[0m\u001b[0;34m\u001b[0m\u001b[0;34m\u001b[0m\u001b[0m\n\u001b[0m",
      "\u001b[0;31mTypeError\u001b[0m: current_year() takes 0 positional arguments but 1 was given"
     ]
    }
   ],
   "source": [
    "from datetime import datetime\n",
    "\n",
    "def current_year():\n",
    "    return datetime.now().year\n",
    "\n",
    "class Person:\n",
    "    def __init__(self, name, age):\n",
    "        self.name = name\n",
    "        self.age = age\n",
    "        \n",
    "    def calculate_birth_year(self):\n",
    "        return current_year() - self.age\n",
    "    \n",
    "    #@staticmethod\n",
    "    def current_year():\n",
    "        return datetime.now().year\n",
    "    \n",
    "\n",
    "s = Person(\"John Doe\", 30)\n",
    "print(s.calculate_birth_year())\n",
    "s.current_year()                    #can now call the current year"
   ]
  },
  {
   "cell_type": "code",
   "execution_count": 53,
   "metadata": {},
   "outputs": [
    {
     "name": "stdout",
     "output_type": "stream",
     "text": [
      "1990\n"
     ]
    },
    {
     "ename": "TypeError",
     "evalue": "current_year() takes 0 positional arguments but 1 was given",
     "output_type": "error",
     "traceback": [
      "\u001b[0;31m---------------------------------------------------------------------------\u001b[0m",
      "\u001b[0;31mTypeError\u001b[0m                                 Traceback (most recent call last)",
      "\u001b[0;32m<ipython-input-53-2431f815b8c8>\u001b[0m in \u001b[0;36m<module>\u001b[0;34m\u001b[0m\n\u001b[1;32m     21\u001b[0m \u001b[0ms\u001b[0m \u001b[0;34m=\u001b[0m \u001b[0mPerson\u001b[0m\u001b[0;34m(\u001b[0m\u001b[0;34m\"John Doe\"\u001b[0m\u001b[0;34m,\u001b[0m \u001b[0;36m30\u001b[0m\u001b[0;34m)\u001b[0m\u001b[0;34m\u001b[0m\u001b[0;34m\u001b[0m\u001b[0m\n\u001b[1;32m     22\u001b[0m \u001b[0mprint\u001b[0m\u001b[0;34m(\u001b[0m\u001b[0ms\u001b[0m\u001b[0;34m.\u001b[0m\u001b[0mcalculate_birth_year\u001b[0m\u001b[0;34m(\u001b[0m\u001b[0;34m)\u001b[0m\u001b[0;34m)\u001b[0m\u001b[0;34m\u001b[0m\u001b[0;34m\u001b[0m\u001b[0m\n\u001b[0;32m---> 23\u001b[0;31m \u001b[0ms\u001b[0m\u001b[0;34m.\u001b[0m\u001b[0mcurrent_year\u001b[0m\u001b[0;34m(\u001b[0m\u001b[0;34m)\u001b[0m                    \u001b[0;31m#can now call the current year\u001b[0m\u001b[0;34m\u001b[0m\u001b[0;34m\u001b[0m\u001b[0m\n\u001b[0m",
      "\u001b[0;31mTypeError\u001b[0m: current_year() takes 0 positional arguments but 1 was given"
     ]
    }
   ],
   "source": [
    "# may not want to do that\n",
    "\n",
    "from datetime import datetime\n",
    "\n",
    "def current_year():\n",
    "    return datetime.now().year\n",
    "\n",
    "class Person:\n",
    "    def __init__(self, name, age):\n",
    "        self.name = name\n",
    "        self.age = age\n",
    "        \n",
    "    def calculate_birth_year(self):\n",
    "        return current_year() - self.age\n",
    "    \n",
    "   \n",
    "    def current_year():\n",
    "        return datetime.now().year\n",
    "    \n",
    "\n",
    "s = Person(\"John Doe\", 30)\n",
    "print(s.calculate_birth_year())\n",
    "s.current_year()                    #can now call the current year"
   ]
  },
  {
   "cell_type": "code",
   "execution_count": 54,
   "metadata": {},
   "outputs": [
    {
     "name": "stdout",
     "output_type": "stream",
     "text": [
      "1990\n"
     ]
    },
    {
     "ename": "TypeError",
     "evalue": "current_year() takes 0 positional arguments but 1 was given",
     "output_type": "error",
     "traceback": [
      "\u001b[0;31m---------------------------------------------------------------------------\u001b[0m",
      "\u001b[0;31mTypeError\u001b[0m                                 Traceback (most recent call last)",
      "\u001b[0;32m<ipython-input-54-62a41a389d6f>\u001b[0m in \u001b[0;36m<module>\u001b[0;34m\u001b[0m\n\u001b[1;32m     19\u001b[0m \u001b[0ms\u001b[0m \u001b[0;34m=\u001b[0m \u001b[0mPerson\u001b[0m\u001b[0;34m(\u001b[0m\u001b[0;34m\"John Doe\"\u001b[0m\u001b[0;34m,\u001b[0m \u001b[0;36m30\u001b[0m\u001b[0;34m)\u001b[0m\u001b[0;34m\u001b[0m\u001b[0;34m\u001b[0m\u001b[0m\n\u001b[1;32m     20\u001b[0m \u001b[0mprint\u001b[0m\u001b[0;34m(\u001b[0m\u001b[0ms\u001b[0m\u001b[0;34m.\u001b[0m\u001b[0mcalculate_birth_year\u001b[0m\u001b[0;34m(\u001b[0m\u001b[0;34m)\u001b[0m\u001b[0;34m)\u001b[0m\u001b[0;34m\u001b[0m\u001b[0;34m\u001b[0m\u001b[0m\n\u001b[0;32m---> 21\u001b[0;31m \u001b[0ms\u001b[0m\u001b[0;34m.\u001b[0m\u001b[0mcurrent_year\u001b[0m\u001b[0;34m(\u001b[0m\u001b[0;34m)\u001b[0m\u001b[0;34m\u001b[0m\u001b[0;34m\u001b[0m\u001b[0m\n\u001b[0m",
      "\u001b[0;31mTypeError\u001b[0m: current_year() takes 0 positional arguments but 1 was given"
     ]
    }
   ],
   "source": [
    "from datetime import datetime\n",
    "\n",
    "def current_year():\n",
    "    return datetime.now().year\n",
    "\n",
    "class Person:\n",
    "    def __init__(self, name, age):\n",
    "        self.name = name\n",
    "        self.age = age\n",
    "        \n",
    "    def calculate_birth_year(self):\n",
    "        return current_year() - self.age\n",
    "    \n",
    "    #@staticmethod\n",
    "    def current_year():             # error because pythion passes self\n",
    "        return datetime.now().year\n",
    "    \n",
    "\n",
    "s = Person(\"John Doe\", 30)\n",
    "print(s.calculate_birth_year())\n",
    "s.current_year()  "
   ]
  },
  {
   "cell_type": "code",
   "execution_count": 50,
   "metadata": {},
   "outputs": [
    {
     "name": "stdout",
     "output_type": "stream",
     "text": [
      "1990\n"
     ]
    },
    {
     "data": {
      "text/plain": [
       "2020"
      ]
     },
     "execution_count": 50,
     "metadata": {},
     "output_type": "execute_result"
    }
   ],
   "source": [
    "# add to the class, w/i the class \n",
    "\n",
    "from datetime import datetime\n",
    "\n",
    "def current_year():\n",
    "    return datetime.now().year\n",
    "\n",
    "class Person:\n",
    "    def __init__(self, name, age):\n",
    "        self.name = name\n",
    "        self.age = age\n",
    "        \n",
    "    def calculate_birth_year(self):\n",
    "        return current_year() - self.age\n",
    "    \n",
    "    @staticmethod                       # decorator only wraps methid it is assocaited with \n",
    "    def current_year():\n",
    "        return datetime.now().year\n",
    "    \n",
    "\n",
    "s = Person(\"John Doe\", 30)\n",
    "print(s.calculate_birth_year())\n",
    "s.current_year()                    #can now call the current year"
   ]
  },
  {
   "cell_type": "markdown",
   "metadata": {},
   "source": [
    "# `@classmethod`"
   ]
  },
  {
   "cell_type": "code",
   "execution_count": 55,
   "metadata": {},
   "outputs": [
    {
     "ename": "TypeError",
     "evalue": "from_full_name() missing 1 required positional argument: 'full_name'",
     "output_type": "error",
     "traceback": [
      "\u001b[0;31m---------------------------------------------------------------------------\u001b[0m",
      "\u001b[0;31mTypeError\u001b[0m                                 Traceback (most recent call last)",
      "\u001b[0;32m<ipython-input-55-2e10d3208443>\u001b[0m in \u001b[0;36m<module>\u001b[0;34m\u001b[0m\n\u001b[1;32m     12\u001b[0m         \u001b[0;32mreturn\u001b[0m \u001b[0mcls\u001b[0m\u001b[0;34m(\u001b[0m\u001b[0mfirst_name\u001b[0m\u001b[0;34m=\u001b[0m\u001b[0mfirst\u001b[0m\u001b[0;34m,\u001b[0m \u001b[0mlast_name\u001b[0m\u001b[0;34m=\u001b[0m\u001b[0mlast\u001b[0m\u001b[0;34m)\u001b[0m\u001b[0;34m\u001b[0m\u001b[0;34m\u001b[0m\u001b[0m\n\u001b[1;32m     13\u001b[0m \u001b[0;34m\u001b[0m\u001b[0m\n\u001b[0;32m---> 14\u001b[0;31m \u001b[0mx\u001b[0m \u001b[0;34m=\u001b[0m \u001b[0mExample\u001b[0m\u001b[0;34m.\u001b[0m\u001b[0mfrom_full_name\u001b[0m\u001b[0;34m(\u001b[0m\u001b[0;34m\"John Doe\"\u001b[0m\u001b[0;34m)\u001b[0m\u001b[0;34m\u001b[0m\u001b[0;34m\u001b[0m\u001b[0m\n\u001b[0m\u001b[1;32m     15\u001b[0m \u001b[0;34m\u001b[0m\u001b[0m\n\u001b[1;32m     16\u001b[0m \u001b[0my\u001b[0m \u001b[0;34m=\u001b[0m \u001b[0mExample\u001b[0m\u001b[0;34m(\u001b[0m\u001b[0mfirst_name\u001b[0m\u001b[0;34m=\u001b[0m\u001b[0;34m'John'\u001b[0m\u001b[0;34m,\u001b[0m \u001b[0mlast_name\u001b[0m\u001b[0;34m=\u001b[0m\u001b[0;34m'Doe'\u001b[0m\u001b[0;34m)\u001b[0m\u001b[0;34m\u001b[0m\u001b[0;34m\u001b[0m\u001b[0m\n",
      "\u001b[0;31mTypeError\u001b[0m: from_full_name() missing 1 required positional argument: 'full_name'"
     ]
    }
   ],
   "source": [
    "# without class method, an error, classmethod passes class as the first arg\n",
    "\n",
    "class Example:    \n",
    "    def __init__(self, first_name=None, last_name=None):\n",
    "        self.first_name = first_name\n",
    "        self.last_name = last_name\n",
    "        \n",
    "    #@classmethod                                                     \n",
    "    def from_full_name(cls, full_name): # note that it takes argument `cls`\n",
    "        first, last = full_name.split(' ')\n",
    "        #return Example(first_name=first, last_name=last)       # is like returning \n",
    "        return cls(first_name=first, last_name=last)\n",
    "\n",
    "x = Example.from_full_name(\"John Doe\")\n",
    "\n",
    "y = Example(first_name='John', last_name='Doe')\n",
    "\n",
    "print(x.first_name)\n",
    "print(x.last_name)\n",
    "\n",
    "print(y.first_name)\n",
    "print(y.last_name)"
   ]
  },
  {
   "cell_type": "code",
   "execution_count": 56,
   "metadata": {},
   "outputs": [
    {
     "name": "stdout",
     "output_type": "stream",
     "text": [
      "John\n",
      "Doe\n",
      "John\n",
      "Doe\n"
     ]
    }
   ],
   "source": [
    "# classmethod passes class as the first arg\n",
    "\n",
    "class Example:    \n",
    "    def __init__(self, first_name=None, last_name=None):\n",
    "        self.first_name = first_name\n",
    "        self.last_name = last_name\n",
    "        \n",
    "    @classmethod                                                     \n",
    "    def from_full_name(cls, full_name): # note that it takes argument `cls`\n",
    "        first, last = full_name.split(' ')\n",
    "        #return Example(first_name=first, last_name=last)\n",
    "        return cls(first_name=first, last_name=last)\n",
    "\n",
    "x = Example.from_full_name(\"John Doe\")    # from the class and not the instance\n",
    "\n",
    "y = Example(first_name='John', last_name='Doe')\n",
    "\n",
    "print(x.first_name)\n",
    "print(x.last_name)\n",
    "\n",
    "print(y.first_name)\n",
    "print(y.last_name)"
   ]
  },
  {
   "cell_type": "markdown",
   "metadata": {},
   "source": [
    " how diff from setters and getters, for attr\n",
    " static methods, don't have to pass self to the methd\n",
    " add class instead of self, the insrtance itslef is the class and not the instance"
   ]
  },
  {
   "cell_type": "code",
   "execution_count": 58,
   "metadata": {},
   "outputs": [
    {
     "data": {
      "text/plain": [
       "104"
      ]
     },
     "execution_count": 58,
     "metadata": {},
     "output_type": "execute_result"
    }
   ],
   "source": [
    "# simpler example\n",
    "\n",
    "class Base:\n",
    "    #count = int(0)\n",
    "    count = 0\n",
    "    \n",
    "    # affect higher method, call it in the __init__, increase by 1 every time an instance is created\n",
    "    \n",
    "    def __init__(self):\n",
    "        self._count()     # class method, not referenced by any of the instance stuff\n",
    "    \n",
    "    @classmethod       # going to affect all because of decorator class method\n",
    "    def _count(cls):\n",
    "        cls.count += 1\n",
    "        return cls.count     # return class count and not the instance\n",
    "    \n",
    "a = Base()\n",
    "b = Base()\n",
    "c = Base()\n",
    "d = Base()\n",
    "\n",
    "[Base() for i in range(100)]\n",
    "\n",
    "Base.count\n",
    "# not an instance Base().count"
   ]
  },
  {
   "cell_type": "markdown",
   "metadata": {},
   "source": [
    "#static is method you need nothing to do with the class instance that you need to put in class decoration, let pythin know has nothing\n",
    "#do with the instance\n",
    "#class need a method in the class, that refers to the class itself\n",
    "\n",
    "#@classmethod is to refer to the class and avoid being seeing as an instance ",
    "\n",
    "#staticmethod is utility method to do something else, clear to understand, required by this class"
   ]
  },
  {
   "cell_type": "code",
   "execution_count": null,
   "metadata": {},
   "outputs": [],
   "source": [
    "class Employee:\n",
    "    pass \n",
    "\n",
    "# if wanted to change something particalar to this employee, to effect this method\n",
    "empl1 = Employee()\n",
    "\n",
    "\n",
    "#raise to affect all instances, meaning the class all employees "
   ]
  },
  {
   "cell_type": "markdown",
   "metadata": {},
   "source": [
    "# Introduction to inheritance\n",
    "\n",
    "Object inheritance is when you want to create an object that's based off of the structure of another class or you want to create an object that others are based off of.\n",
    "\n",
    "The format for inherited classes are such:\n",
    "```python\n",
    "    class BaseClass:\n",
    "        pass\n",
    "    \n",
    "    class AlternateBaseClass\n",
    "        pass\n",
    "    \n",
    "    class DerivedClass(BaseClass, AlternateBaseclass)\n",
    "        pass\n",
    "```"
   ]
  },
  {
   "cell_type": "markdown",
   "metadata": {},
   "source": [
    "# passed, arguments have to be other classes, telling python, telling pythin DerivedClass, "
   ]
  },
  {
   "cell_type": "code",
   "execution_count": null,
   "metadata": {},
   "outputs": [],
   "source": []
  },
  {
   "cell_type": "code",
   "execution_count": 59,
   "metadata": {},
   "outputs": [
    {
     "name": "stdout",
     "output_type": "stream",
     "text": [
      "hello Anil\n"
     ]
    }
   ],
   "source": [
    "class BaseClass:\n",
    "    greeting = \"hello\"\n",
    "    \n",
    "    def greet(self, name):\n",
    "        print(f\"{self.greeting} {name}\")\n",
    "    \n",
    "b = BaseClass()\n",
    "b.greet('Anil')"
   ]
  },
  {
   "cell_type": "code",
   "execution_count": 63,
   "metadata": {},
   "outputs": [
    {
     "name": "stdout",
     "output_type": "stream",
     "text": [
      "<bound method BaseClass.greet of <__main__.DerivedClass object at 0x10509b490>>\n",
      "hello Anil\n"
     ]
    }
   ],
   "source": [
    "# NOT THE SAME AS A FUNCTION CALL\n",
    "\n",
    "class DerivedClass(BaseClass):   # not an argument, saying that DerivedClass is going to inherit from BaseClass\n",
    "    pass\n",
    "\n",
    "d = DerivedClass()\n",
    "\n",
    "print(d.greet)\n",
    "d.greet('Anil')"
   ]
  },
  {
   "cell_type": "code",
   "execution_count": 71,
   "metadata": {},
   "outputs": [],
   "source": [
    "class C:\n",
    "    def __init__(self):\n",
    "        self.string =  \"string\"\n",
    "        self.integer = 42\n",
    "\n",
    "class D(C):\n",
    "    def __init__(self):\n",
    "        self.bools = (True, False)\n",
    "        \n",
    "        # call init method of inherited class\n",
    "        \n",
    "        #C.__init__(self)            # call init that we're passing our init method"
   ]
  },
  {
   "cell_type": "code",
   "execution_count": 72,
   "metadata": {},
   "outputs": [
    {
     "ename": "AttributeError",
     "evalue": "'D' object has no attribute 'string'",
     "output_type": "error",
     "traceback": [
      "\u001b[0;31m---------------------------------------------------------------------------\u001b[0m",
      "\u001b[0;31mAttributeError\u001b[0m                            Traceback (most recent call last)",
      "\u001b[0;32m<ipython-input-72-2b6552206323>\u001b[0m in \u001b[0;36m<module>\u001b[0;34m\u001b[0m\n\u001b[1;32m      1\u001b[0m \u001b[0mobjectD\u001b[0m \u001b[0;34m=\u001b[0m \u001b[0mD\u001b[0m\u001b[0;34m(\u001b[0m\u001b[0;34m)\u001b[0m\u001b[0;34m\u001b[0m\u001b[0;34m\u001b[0m\u001b[0m\n\u001b[0;32m----> 2\u001b[0;31m \u001b[0mprint\u001b[0m\u001b[0;34m(\u001b[0m\u001b[0mobjectD\u001b[0m\u001b[0;34m.\u001b[0m\u001b[0mstring\u001b[0m\u001b[0;34m)\u001b[0m\u001b[0;34m\u001b[0m\u001b[0;34m\u001b[0m\u001b[0m\n\u001b[0m\u001b[1;32m      3\u001b[0m \u001b[0mprint\u001b[0m\u001b[0;34m(\u001b[0m\u001b[0mobjectD\u001b[0m\u001b[0;34m.\u001b[0m\u001b[0mbools\u001b[0m\u001b[0;34m)\u001b[0m\u001b[0;34m\u001b[0m\u001b[0;34m\u001b[0m\u001b[0m\n",
      "\u001b[0;31mAttributeError\u001b[0m: 'D' object has no attribute 'string'"
     ]
    }
   ],
   "source": [
    "objectD = D()\n",
    "print(objectD.string)\n",
    "print(objectD.bools)"
   ]
  },
  {
   "cell_type": "code",
   "execution_count": 73,
   "metadata": {},
   "outputs": [],
   "source": [
    "class C:\n",
    "    def __init__(self):\n",
    "        self.string =  \"string\"\n",
    "        self.integer = 42\n",
    "\n",
    "class D(C):\n",
    "    def __init__(self):\n",
    "        self.bools = (True, False)\n",
    "        \n",
    "        # call init method of inherited class\n",
    "        \n",
    "        C.__init__(self)     "
   ]
  },
  {
   "cell_type": "code",
   "execution_count": 74,
   "metadata": {},
   "outputs": [
    {
     "name": "stdout",
     "output_type": "stream",
     "text": [
      "string\n",
      "(True, False)\n"
     ]
    }
   ],
   "source": [
    "objectD = D()\n",
    "print(objectD.string)\n",
    "print(objectD.bools)"
   ]
  },
  {
   "cell_type": "code",
   "execution_count": 75,
   "metadata": {},
   "outputs": [
    {
     "data": {
      "text/plain": [
       "42"
      ]
     },
     "execution_count": 75,
     "metadata": {},
     "output_type": "execute_result"
    }
   ],
   "source": [
    "objectD.integer"
   ]
  },
  {
   "cell_type": "code",
   "execution_count": 76,
   "metadata": {},
   "outputs": [],
   "source": [
    "class C:\n",
    "    def __init__(self):\n",
    "        self.string =  \"string\"\n",
    "        self.__integer = 42\n",
    "\n",
    "class D(C):\n",
    "    def __init__(self):\n",
    "        self.bools = (True, False)\n",
    "        \n",
    "        # call init method of inherited class\n",
    "        \n",
    "        C.__init__(self)     "
   ]
  },
  {
   "cell_type": "code",
   "execution_count": 77,
   "metadata": {},
   "outputs": [
    {
     "name": "stdout",
     "output_type": "stream",
     "text": [
      "string\n",
      "(True, False)\n"
     ]
    }
   ],
   "source": [
    "objectD = D()\n",
    "print(objectD.string)\n",
    "print(objectD.bools)"
   ]
  },
  {
   "cell_type": "code",
   "execution_count": 79,
   "metadata": {},
   "outputs": [
    {
     "ename": "AttributeError",
     "evalue": "'D' object has no attribute '__integer'",
     "output_type": "error",
     "traceback": [
      "\u001b[0;31m---------------------------------------------------------------------------\u001b[0m",
      "\u001b[0;31mAttributeError\u001b[0m                            Traceback (most recent call last)",
      "\u001b[0;32m<ipython-input-79-dc9a85da13a4>\u001b[0m in \u001b[0;36m<module>\u001b[0;34m\u001b[0m\n\u001b[1;32m      1\u001b[0m \u001b[0;31m# Private to C\u001b[0m\u001b[0;34m\u001b[0m\u001b[0;34m\u001b[0m\u001b[0;34m\u001b[0m\u001b[0m\n\u001b[1;32m      2\u001b[0m \u001b[0;34m\u001b[0m\u001b[0m\n\u001b[0;32m----> 3\u001b[0;31m \u001b[0mobjectD\u001b[0m\u001b[0;34m.\u001b[0m\u001b[0m__integer\u001b[0m\u001b[0;34m\u001b[0m\u001b[0;34m\u001b[0m\u001b[0m\n\u001b[0m",
      "\u001b[0;31mAttributeError\u001b[0m: 'D' object has no attribute '__integer'"
     ]
    }
   ],
   "source": [
    "# Private to C now\n",
    "\n",
    "objectD.__integer"
   ]
  },
  {
   "cell_type": "markdown",
   "metadata": {},
   "source": [
    "Are operation overloads are not inheritable?   Research this"
   ]
  },
  {
   "cell_type": "code",
   "execution_count": null,
   "metadata": {},
   "outputs": [],
   "source": []
  },
  {
   "cell_type": "code",
   "execution_count": 81,
   "metadata": {},
   "outputs": [
    {
     "name": "stdout",
     "output_type": "stream",
     "text": [
      "a cat meows\n",
      "a dog barks\n",
      "a cow moos\n"
     ]
    }
   ],
   "source": [
    "class Animal:\n",
    "    def __init__(self, name, type_of_animal=None, sound=None):\n",
    "        self.name = name\n",
    "        self.type = type_of_animal\n",
    "        self.sound = sound\n",
    "        \n",
    "    def make_sound(self):\n",
    "        print(f\"a {self.type} {self.sound}\")\n",
    "    \n",
    "cat = Animal('matilda', 'cat', 'meows')      # might want to make its own class, and inherit from Animal because already\n",
    "dog = Animal('clifford', 'dog', 'barks')\n",
    "cow = Animal('spot', 'cow', 'moos')\n",
    "cat.make_sound()\n",
    "dog.make_sound()\n",
    "cow.make_sound()\n",
    "        "
   ]
  },
  {
   "cell_type": "code",
   "execution_count": 82,
   "metadata": {},
   "outputs": [
    {
     "name": "stdout",
     "output_type": "stream",
     "text": [
      "a cat meows\n"
     ]
    }
   ],
   "source": [
    "class Cat(Animal):\n",
    "    def __init__(self, name):\n",
    "        Animal.__init__(self, name, type_of_animal='cat', sound='meows')    # same for all cats\n",
    "\n",
    "        # didn't specifically create methid, the init make sound already had the method\n",
    "        \n",
    "matilda = Cat('matilda')\n",
    "\n",
    "matilda.make_sound()"
   ]
  },
  {
   "cell_type": "code",
   "execution_count": 84,
   "metadata": {},
   "outputs": [
    {
     "ename": "AttributeError",
     "evalue": "'Cat' object has no attribute 'type'",
     "output_type": "error",
     "traceback": [
      "\u001b[0;31m---------------------------------------------------------------------------\u001b[0m",
      "\u001b[0;31mAttributeError\u001b[0m                            Traceback (most recent call last)",
      "\u001b[0;32m<ipython-input-84-c23b70cc564f>\u001b[0m in \u001b[0;36m<module>\u001b[0;34m\u001b[0m\n\u001b[1;32m      8\u001b[0m \u001b[0mmatilda\u001b[0m \u001b[0;34m=\u001b[0m \u001b[0mCat\u001b[0m\u001b[0;34m(\u001b[0m\u001b[0;34m'matilda'\u001b[0m\u001b[0;34m)\u001b[0m\u001b[0;34m\u001b[0m\u001b[0;34m\u001b[0m\u001b[0m\n\u001b[1;32m      9\u001b[0m \u001b[0;34m\u001b[0m\u001b[0m\n\u001b[0;32m---> 10\u001b[0;31m \u001b[0mmatilda\u001b[0m\u001b[0;34m.\u001b[0m\u001b[0mmake_sound\u001b[0m\u001b[0;34m(\u001b[0m\u001b[0;34m)\u001b[0m\u001b[0;34m\u001b[0m\u001b[0;34m\u001b[0m\u001b[0m\n\u001b[0m",
      "\u001b[0;32m<ipython-input-81-776e98a7bb7d>\u001b[0m in \u001b[0;36mmake_sound\u001b[0;34m(self)\u001b[0m\n\u001b[1;32m      6\u001b[0m \u001b[0;34m\u001b[0m\u001b[0m\n\u001b[1;32m      7\u001b[0m     \u001b[0;32mdef\u001b[0m \u001b[0mmake_sound\u001b[0m\u001b[0;34m(\u001b[0m\u001b[0mself\u001b[0m\u001b[0;34m)\u001b[0m\u001b[0;34m:\u001b[0m\u001b[0;34m\u001b[0m\u001b[0;34m\u001b[0m\u001b[0m\n\u001b[0;32m----> 8\u001b[0;31m         \u001b[0mprint\u001b[0m\u001b[0;34m(\u001b[0m\u001b[0;34mf\"a {self.type} {self.sound}\"\u001b[0m\u001b[0;34m)\u001b[0m\u001b[0;34m\u001b[0m\u001b[0;34m\u001b[0m\u001b[0m\n\u001b[0m\u001b[1;32m      9\u001b[0m \u001b[0;34m\u001b[0m\u001b[0m\n\u001b[1;32m     10\u001b[0m \u001b[0mcat\u001b[0m \u001b[0;34m=\u001b[0m \u001b[0mAnimal\u001b[0m\u001b[0;34m(\u001b[0m\u001b[0;34m'matilda'\u001b[0m\u001b[0;34m,\u001b[0m \u001b[0;34m'cat'\u001b[0m\u001b[0;34m,\u001b[0m \u001b[0;34m'meows'\u001b[0m\u001b[0;34m)\u001b[0m\u001b[0;34m\u001b[0m\u001b[0;34m\u001b[0m\u001b[0m\n",
      "\u001b[0;31mAttributeError\u001b[0m: 'Cat' object has no attribute 'type'"
     ]
    }
   ],
   "source": [
    "class Cat(Animal):\n",
    "    def __init__(self, name):\n",
    "        pass\n",
    "        #Animal.__init__(self, name, type_of_animal='cat', sound='meows')    # same for all cats\n",
    "\n",
    "        # didn't specifically create methid, the init make sound already had the method\n",
    "        \n",
    "matilda = Cat('matilda')\n",
    "\n",
    "matilda.make_sound()"
   ]
  },
  {
   "cell_type": "markdown",
   "metadata": {},
   "source": [
    "#  Special inheritance cases to consider"
   ]
  },
  {
   "cell_type": "code",
   "execution_count": null,
   "metadata": {},
   "outputs": [],
   "source": []
  },
  {
   "cell_type": "code",
   "execution_count": null,
   "metadata": {},
   "outputs": [],
   "source": [
    "class Parent:\n",
    "    last_name = \"Jackson\"\n",
    "\n",
    "class Child(Parent):\n",
    "    first_name = \"Curtis\"\n",
    "\n",
    "p = Parent()\n",
    "c = Child()\n",
    "\n",
    "c.first_name, c.last_name"
   ]
  },
  {
   "cell_type": "code",
   "execution_count": 85,
   "metadata": {},
   "outputs": [
    {
     "data": {
      "text/plain": [
       "'Curtis'"
      ]
     },
     "execution_count": 85,
     "metadata": {},
     "output_type": "execute_result"
    }
   ],
   "source": [
    "class Parent:\n",
    "    first_name = \"Jackson\"\n",
    "\n",
    "class Child(Parent):\n",
    "    first_name = \"Curtis\"\n",
    "\n",
    "p = Parent()\n",
    "c = Child()\n",
    "\n",
    "c.first_name"
   ]
  },
  {
   "cell_type": "code",
   "execution_count": null,
   "metadata": {},
   "outputs": [],
   "source": [
    "# class Example(object):  # behind the scenes, object class has the dunder methods, overwriting it "
   ]
  },
  {
   "cell_type": "code",
   "execution_count": 86,
   "metadata": {},
   "outputs": [
    {
     "data": {
      "text/plain": [
       "('brown', 'black')"
      ]
     },
     "execution_count": 86,
     "metadata": {},
     "output_type": "execute_result"
    }
   ],
   "source": [
    "class Mother:\n",
    "    eyes = \"brown\"\n",
    "\n",
    "class Father:\n",
    "    hair = \"black\"\n",
    "\n",
    "class Child(Mother, Father):\n",
    "    pass\n",
    "\n",
    "c = Child()\n",
    "c.eyes, c.hair"
   ]
  },
  {
   "cell_type": "code",
   "execution_count": 87,
   "metadata": {},
   "outputs": [
    {
     "data": {
      "text/plain": [
       "'brown'"
      ]
     },
     "execution_count": 87,
     "metadata": {},
     "output_type": "execute_result"
    }
   ],
   "source": [
    "# Good to know this exists\n",
    "\n",
    "class Mother:\n",
    "    eyes = \"brown\"\n",
    "\n",
    "class Father:\n",
    "    eyes = \"black\"\n",
    "\n",
    "class Child(Mother, Father):\n",
    "    pass\n",
    "\n",
    "c = Child()\n",
    "c.eyes"
   ]
  },
  {
   "cell_type": "code",
   "execution_count": null,
   "metadata": {},
   "outputs": [],
   "source": [
    "# alternative\n",
    "\n",
    "class Animal:\n",
    "    planet = \"earth\"\n",
    "\n",
    "class Cat(Animal):\n",
    "    pass\n",
    "\n",
    "class Dog(Animal):\n",
    "    pass\n",
    "\n",
    "c = Cat()\n",
    "d = Dog()\n",
    "\n",
    "c.planet, d.planet"
   ]
  },
  {
   "cell_type": "code",
   "execution_count": 88,
   "metadata": {},
   "outputs": [
    {
     "data": {
      "text/plain": [
       "('earth', 'earth')"
      ]
     },
     "execution_count": 88,
     "metadata": {},
     "output_type": "execute_result"
    }
   ],
   "source": [
    "# See below\n",
    "\n",
    "class Animal:\n",
    "    planet = \"earth\"\n",
    "\n",
    "class Cat(Animal):\n",
    "    s = True\n",
    "    pass\n",
    "\n",
    "class Dog(Animal):\n",
    "    t = False\n",
    "    pass\n",
    "\n",
    "c = Cat()\n",
    "d = Dog()\n",
    "\n",
    "c.planet, d.planet"
   ]
  },
  {
   "cell_type": "code",
   "execution_count": 89,
   "metadata": {},
   "outputs": [
    {
     "data": {
      "text/plain": [
       "True"
      ]
     },
     "execution_count": 89,
     "metadata": {},
     "output_type": "execute_result"
    }
   ],
   "source": [
    "c.s"
   ]
  },
  {
   "cell_type": "code",
   "execution_count": 90,
   "metadata": {},
   "outputs": [
    {
     "ename": "AttributeError",
     "evalue": "'Dog' object has no attribute 's'",
     "output_type": "error",
     "traceback": [
      "\u001b[0;31m---------------------------------------------------------------------------\u001b[0m",
      "\u001b[0;31mAttributeError\u001b[0m                            Traceback (most recent call last)",
      "\u001b[0;32m<ipython-input-90-ec9db896e2be>\u001b[0m in \u001b[0;36m<module>\u001b[0;34m\u001b[0m\n\u001b[0;32m----> 1\u001b[0;31m \u001b[0md\u001b[0m\u001b[0;34m.\u001b[0m\u001b[0ms\u001b[0m\u001b[0;34m\u001b[0m\u001b[0;34m\u001b[0m\u001b[0m\n\u001b[0m",
      "\u001b[0;31mAttributeError\u001b[0m: 'Dog' object has no attribute 's'"
     ]
    }
   ],
   "source": [
    "d.s"
   ]
  },
  {
   "cell_type": "code",
   "execution_count": 91,
   "metadata": {},
   "outputs": [
    {
     "ename": "AttributeError",
     "evalue": "'Cat' object has no attribute 't'",
     "output_type": "error",
     "traceback": [
      "\u001b[0;31m---------------------------------------------------------------------------\u001b[0m",
      "\u001b[0;31mAttributeError\u001b[0m                            Traceback (most recent call last)",
      "\u001b[0;32m<ipython-input-91-5d70471dbc0e>\u001b[0m in \u001b[0;36m<module>\u001b[0;34m\u001b[0m\n\u001b[0;32m----> 1\u001b[0;31m \u001b[0mc\u001b[0m\u001b[0;34m.\u001b[0m\u001b[0mt\u001b[0m\u001b[0;34m\u001b[0m\u001b[0;34m\u001b[0m\u001b[0m\n\u001b[0m",
      "\u001b[0;31mAttributeError\u001b[0m: 'Cat' object has no attribute 't'"
     ]
    }
   ],
   "source": [
    "c.t"
   ]
  },
  {
   "cell_type": "code",
   "execution_count": 92,
   "metadata": {},
   "outputs": [
    {
     "ename": "AttributeError",
     "evalue": "'Dog' object has no attribute 's'",
     "output_type": "error",
     "traceback": [
      "\u001b[0;31m---------------------------------------------------------------------------\u001b[0m",
      "\u001b[0;31mAttributeError\u001b[0m                            Traceback (most recent call last)",
      "\u001b[0;32m<ipython-input-92-ec9db896e2be>\u001b[0m in \u001b[0;36m<module>\u001b[0;34m\u001b[0m\n\u001b[0;32m----> 1\u001b[0;31m \u001b[0md\u001b[0m\u001b[0;34m.\u001b[0m\u001b[0ms\u001b[0m\u001b[0;34m\u001b[0m\u001b[0;34m\u001b[0m\u001b[0m\n\u001b[0m",
      "\u001b[0;31mAttributeError\u001b[0m: 'Dog' object has no attribute 's'"
     ]
    }
   ],
   "source": [
    "d.s"
   ]
  },
  {
   "cell_type": "code",
   "execution_count": 93,
   "metadata": {},
   "outputs": [
    {
     "ename": "AttributeError",
     "evalue": "'Dog' object has no attribute 's'",
     "output_type": "error",
     "traceback": [
      "\u001b[0;31m---------------------------------------------------------------------------\u001b[0m",
      "\u001b[0;31mAttributeError\u001b[0m                            Traceback (most recent call last)",
      "\u001b[0;32m<ipython-input-93-fe7661fce724>\u001b[0m in \u001b[0;36m<module>\u001b[0;34m\u001b[0m\n\u001b[0;32m----> 1\u001b[0;31m \u001b[0mc\u001b[0m\u001b[0;34m.\u001b[0m\u001b[0ms\u001b[0m\u001b[0;34m,\u001b[0m \u001b[0md\u001b[0m\u001b[0;34m.\u001b[0m\u001b[0ms\u001b[0m\u001b[0;34m\u001b[0m\u001b[0;34m\u001b[0m\u001b[0m\n\u001b[0m",
      "\u001b[0;31mAttributeError\u001b[0m: 'Dog' object has no attribute 's'"
     ]
    }
   ],
   "source": [
    "c.s, d.s"
   ]
  },
  {
   "cell_type": "code",
   "execution_count": 94,
   "metadata": {},
   "outputs": [
    {
     "ename": "AttributeError",
     "evalue": "'Cat' object has no attribute 't'",
     "output_type": "error",
     "traceback": [
      "\u001b[0;31m---------------------------------------------------------------------------\u001b[0m",
      "\u001b[0;31mAttributeError\u001b[0m                            Traceback (most recent call last)",
      "\u001b[0;32m<ipython-input-94-22936e1c4e1f>\u001b[0m in \u001b[0;36m<module>\u001b[0;34m\u001b[0m\n\u001b[0;32m----> 1\u001b[0;31m \u001b[0mc\u001b[0m\u001b[0;34m.\u001b[0m\u001b[0mt\u001b[0m\u001b[0;34m,\u001b[0m \u001b[0md\u001b[0m\u001b[0;34m.\u001b[0m\u001b[0mt\u001b[0m\u001b[0;34m\u001b[0m\u001b[0;34m\u001b[0m\u001b[0m\n\u001b[0m",
      "\u001b[0;31mAttributeError\u001b[0m: 'Cat' object has no attribute 't'"
     ]
    }
   ],
   "source": [
    "c.t, d.t"
   ]
  },
  {
   "cell_type": "markdown",
   "metadata": {},
   "source": [
    "do we not need to call __init__ for the base classes because those are class attributes? "
   ]
  },
  {
   "cell_type": "code",
   "execution_count": null,
   "metadata": {},
   "outputs": [],
   "source": [
    "instance attr created in the init can be accessed by calling init in the inherited class"
   ]
  }
 ],
 "metadata": {
  "kernelspec": {
   "display_name": "Python 3",
   "language": "python",
   "name": "python3"
  },
  "language_info": {
   "codemirror_mode": {
    "name": "ipython",
    "version": 3
   },
   "file_extension": ".py",
   "mimetype": "text/x-python",
   "name": "python",
   "nbconvert_exporter": "python",
   "pygments_lexer": "ipython3",
   "version": "3.8.5"
  }
 },
 "nbformat": 4,
 "nbformat_minor": 4
}
