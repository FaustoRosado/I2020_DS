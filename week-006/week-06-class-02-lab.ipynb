{
 "cells": [
  {
   "cell_type": "markdown",
   "metadata": {},
   "source": [
    "<div style=\"background: #000;\n",
    "            color: #FFF;\n",
    "            margin: 0px;\n",
    "                padding: 10px 0px 20px 0px;\n",
    "            text-align: center; \n",
    "                \">\n",
    "    <h1>Week 6 - Class 2 - Lab</h1>\n",
    "</div>\n"
   ]
  },
  {
   "cell_type": "markdown",
   "metadata": {},
   "source": [
    "## Question 1:\n",
    "    \n",
    "Explain one of the dunder methods describing what it does, how it works and why we might need to use it."
   ]
  },
  {
   "cell_type": "markdown",
   "metadata": {},
   "source": [
    "Dunder methods in Python are the methods with two underscores before and after in the method name, double underscored used for operator overloading. An example is the ` __init__ `\n",
    "\n",
    "The __init__ method for initialization is invoked without any call, when an instance of a class is created, like constructors javascript, for intstance. This method is called when an object is created from a class and allows class to initialize the attributes of the class."
   ]
  },
  {
   "cell_type": "markdown",
   "metadata": {},
   "source": [
    "## Exercise 1:\n",
    "\n",
    "Create a class called `Employee`, add in attributes and methods you think would be associated with an employee. Use at least 2 attributes and 2 methods (not including the `__init__` method you'll create as well)."
   ]
  },
  {
   "cell_type": "code",
   "execution_count": 19,
   "metadata": {},
   "outputs": [
    {
     "name": "stdout",
     "output_type": "stream",
     "text": [
      "Bob is manager in the sales department.\n",
      "50000\n"
     ]
    }
   ],
   "source": [
    "class Employee():\n",
    " \n",
    "    def __init__(self, name, title, department, salary):\n",
    "        self.name = name\n",
    "        self.title = title\n",
    "        self.department = department\n",
    "        self.salary = int(salary)\n",
    " \n",
    "    def job_desc(self):\n",
    "        print(f\"{self.name.title()} is {self.title} in the {self.department} department.\")\n",
    " \n",
    "    def salary(self):\n",
    "        print(f\"{self.name.title()} makes {int(self.salary)} a year.\")\n",
    " \n",
    "empl1 = Employee(\"bob\",\"manager\", \"sales\", \"50000\")\n",
    "\n",
    "empl1.job_desc()\n",
    "\n",
    "print(empl1.salary)\n",
    "\n"
   ]
  },
  {
   "cell_type": "markdown",
   "metadata": {},
   "source": [
    "## Exercise 2:\n",
    "\n",
    "Create a class called `Paper` with the `content`, `length`, `width`, `margin`, `print_layout` (landscape or portrait) and `doublesided` (boolean value) as attributes. Provide methods that allow us to change those attributes."
   ]
  },
  {
   "cell_type": "code",
   "execution_count": 32,
   "metadata": {},
   "outputs": [
    {
     "name": "stdout",
     "output_type": "stream",
     "text": [
      "portrait\n",
      "changed to landscape\n",
      "False\n",
      "changed to True\n"
     ]
    }
   ],
   "source": [
    "# Create a class called Paper \n",
    "class Paper:\n",
    "    def __init__(self, content, length, width, margin, print_layout, doublesided = True):\n",
    "        self.content = content\n",
    "        self.length = length\n",
    "        self.width = width\n",
    "        self.margin = margin\n",
    "        self.print_layout = print_layout\n",
    "        self.doublesided = doublesided\n",
    "    \n",
    "    # alter content\n",
    "    def set_content(self, other):\n",
    "        self.content = other_content\n",
    "        \n",
    "    def area(self, length, width):\n",
    "        self.length = length\n",
    "        self.width = width\n",
    "        \n",
    "    def set_margin(self,margin):\n",
    "        self.margin = margin\n",
    "        \n",
    "    def change_print_layout(self):\n",
    "        print(self.print_layout)\n",
    "        if self.print_layout != \"portrait\":\n",
    "            self.print_layout = \"portrait\"\n",
    "        else:\n",
    "            self.print_layout = \"landscape\"\n",
    "        print(f\"changed to {self.print_layout}\")\n",
    "            \n",
    "    def change_doublesided(self):\n",
    "        print(self.doublesided)\n",
    "        if self.doublesided != True:\n",
    "            self.doublesided = True\n",
    "        else:\n",
    "            self.doublesided = False\n",
    "        print(f\"changed to {self.doublesided}\")\n",
    "        \n",
    "\n",
    "p = Paper(\"qwerty\", 5, 10, 15, \"portrait\", False)\n",
    "p.change_print_layout()\n",
    "p.change_doublesided()\n",
    "            \n"
   ]
  },
  {
   "cell_type": "markdown",
   "metadata": {},
   "source": [
    "## Exercise 3\n",
    "\n",
    "Create a class called `Printer` that implements a queue. You should be able to store `Paper` objects in this queue so provide methods that add instances of `Paper` to the `Printer`'s queue and a toy method that \"prints\" `n` amount of \"jobs\" from the queue at a time. Demonstrate that this code works."
   ]
  },
  {
   "cell_type": "code",
   "execution_count": 53,
   "metadata": {},
   "outputs": [
    {
     "name": "stdout",
     "output_type": "stream",
     "text": [
      "3 amount of jobs currently in the queue\n",
      "3\n",
      "False\n"
     ]
    }
   ],
   "source": [
    "class Printer:\n",
    "    def __init__(self):\n",
    "        self.jobs = []\n",
    "    \n",
    "    def empty(self):\n",
    "        return self.jobs == []\n",
    "        \n",
    "    \n",
    "    def add_to_queue(self, job):\n",
    "        self.jobs.insert(0, job)\n",
    "        \n",
    "        \n",
    "    def queue_size(self):\n",
    "        print(f\"{len(self.jobs)} amount of jobs currently in the queue\")\n",
    "        return len(self.jobs)\n",
    "        \n",
    "    \n",
    "q = Printer()\n",
    "\n",
    "q.add_to_queue(10)\n",
    "q.add_to_queue(\"anil\")\n",
    "q.add_to_queue(False)\n",
    "print(q.queue_size())\n",
    "print(q.empty())\n",
    "    \n",
    "    "
   ]
  },
  {
   "cell_type": "code",
   "execution_count": 54,
   "metadata": {},
   "outputs": [
    {
     "name": "stdout",
     "output_type": "stream",
     "text": [
      "4 amount of jobs currently in the queue\n",
      "4\n"
     ]
    }
   ],
   "source": [
    "q.add_to_queue(\"fausto\")\n",
    "print(q.queue_size())"
   ]
  },
  {
   "cell_type": "markdown",
   "metadata": {},
   "source": [
    "## Exercise 4:\n",
    "    \n",
    "Create a class called `Square` that overloads the addition operator by adding the area of two squares. You will need at least an attribute for length, a method for calculating area and the overloaded `+` operator method.\n",
    "\n",
    "e.g. `Square(3) + Square(4) == 25`"
   ]
  },
  {
   "cell_type": "code",
   "execution_count": 56,
   "metadata": {},
   "outputs": [
    {
     "name": "stdout",
     "output_type": "stream",
     "text": [
      "116\n"
     ]
    }
   ],
   "source": [
    "class Square:\n",
    "    #Initializing value to be squared\n",
    "    def __init__(self,length):\n",
    "        self.length = length \n",
    "        \n",
    "    def area(self):\n",
    "        return self.length **2\n",
    "        \n",
    "    #Overloading to return sum of area of two squares\n",
    "    def __add__(self, other):\n",
    "        return self.area() + other.area()\n",
    "\n",
    "print(Square(10)+Square(4))"
   ]
  },
  {
   "cell_type": "code",
   "execution_count": null,
   "metadata": {},
   "outputs": [],
   "source": []
  }
 ],
 "metadata": {
  "kernelspec": {
   "display_name": "Python 3",
   "language": "python",
   "name": "python3"
  },
  "language_info": {
   "codemirror_mode": {
    "name": "ipython",
    "version": 3
   },
   "file_extension": ".py",
   "mimetype": "text/x-python",
   "name": "python",
   "nbconvert_exporter": "python",
   "pygments_lexer": "ipython3",
   "version": "3.8.5"
  }
 },
 "nbformat": 4,
 "nbformat_minor": 4
}
