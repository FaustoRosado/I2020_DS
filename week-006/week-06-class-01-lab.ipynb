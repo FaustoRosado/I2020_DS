{
 "cells": [
  {
   "cell_type": "markdown",
   "metadata": {},
   "source": [
    "<div style=\"background: #000;\n",
    "            color: #FFF;\n",
    "            margin: 0px;\n",
    "                padding: 10px 0px 20px 0px;\n",
    "            text-align: center; \n",
    "                \">\n",
    "    <h1>Week 6 - Class 1 - Lab</h1>\n",
    "</div>\n"
   ]
  },
  {
   "cell_type": "markdown",
   "metadata": {},
   "source": [
    "# Question 1\n",
    "\n",
    "What is a class? What is an object? What is the difference? How can we use objects in python?"
   ]
  },
  {
<<<<<<< HEAD
   "cell_type": "markdown",
   "metadata": {},
   "source": [
    "A class is like a blueprint or group definition. An object is an instance of the class, but in Python everything is an\n",
    "object. We only declare a class once, then we create instances of the class, objects are creations from the blueprint, we\n",
    "instantiate them and access class methods or functions."
   ]
=======
   "cell_type": "code",
   "execution_count": null,
   "metadata": {},
   "outputs": [],
   "source": []
>>>>>>> 9bcb85082bee3521929bbc33123fdb6b165afb33
  },
  {
   "cell_type": "markdown",
   "metadata": {},
   "source": [
    "# Execise 1\n",
    "\n",
    "Create a class. Show that the class can be used to create an object."
   ]
  },
  {
   "cell_type": "code",
<<<<<<< HEAD
   "execution_count": 1,
   "metadata": {},
   "outputs": [],
   "source": [
    "class MyClass:\n",
    "    x = 10\n",
    "    y = 20"
   ]
  },
  {
   "cell_type": "code",
   "execution_count": 2,
   "metadata": {},
   "outputs": [
    {
     "name": "stdout",
     "output_type": "stream",
     "text": [
      "10\n",
      "20\n"
     ]
    }
   ],
   "source": [
    "obj1 = MyClass()\n",
    "print(obj1.x)\n",
    "print(obj1.y)"
   ]
  },
  {
   "cell_type": "code",
=======
>>>>>>> 9bcb85082bee3521929bbc33123fdb6b165afb33
   "execution_count": null,
   "metadata": {},
   "outputs": [],
   "source": []
  },
  {
   "cell_type": "markdown",
   "metadata": {},
   "source": [
    "# Exercise 2\n",
    "\n",
    "Create a class including an `__init__` function that initializes some sort of state when objects are created. Demonstrate that the state is initialized."
   ]
  },
  {
   "cell_type": "code",
<<<<<<< HEAD
   "execution_count": 3,
   "metadata": {},
   "outputs": [
    {
     "name": "stdout",
     "output_type": "stream",
     "text": [
      "Good evening, my name is Fausto\n"
     ]
    }
   ],
   "source": [
    "class Person:   \n",
    "      \n",
    "        \n",
    "    def __init__(self, name):   \n",
    "        self.name = name   \n",
    "      \n",
    "        \n",
    "    def salutation(self):   \n",
    "        print(f\"Good evening, my name is {self.name}\")   \n",
    "      \n",
    "p = Person('Fausto')   \n",
    "p.salutation()   "
   ]
=======
   "execution_count": null,
   "metadata": {},
   "outputs": [],
   "source": []
>>>>>>> 9bcb85082bee3521929bbc33123fdb6b165afb33
  },
  {
   "cell_type": "markdown",
   "metadata": {},
   "source": [
    "# Exercise 3\n",
    "\n",
    "Building on our point example, add code to alter the class to store three values `x`, `y`, and `z`. Bonus if you're able to implement the distance method for this new class."
   ]
  },
  {
   "cell_type": "code",
<<<<<<< HEAD
   "execution_count": 4,
   "metadata": {},
   "outputs": [
    {
     "data": {
      "text/plain": [
       "5.0"
      ]
     },
     "execution_count": 4,
     "metadata": {},
     "output_type": "execute_result"
    }
   ],
   "source": [
    "class Point:    \n",
    "    def __init__(self, x, y):\n",
    "        self.x = x       \n",
    "        self.y = y\n",
    "        \n",
    "    def print_coords(self):       \n",
    "        print(f\"x : {self.x}, y: {self.y}\")\n",
    "        \n",
    "    def calculate_distance(self, other_point):       \n",
    "        #if type(other_point) == Point:        \n",
    "        if isinstance(other_point, Point):\n",
    "            return ((other_point.x - self.x)**2 + (other_point.y - self.y)**2)**0.5\n",
    "        else:\n",
    "            print(\"other point is not a point\")\n",
    "\n",
    "p = Point(2, 3)\n",
    "q = Point(5,7)\n",
    "q.calculate_distance(p)"
   ]
  },
  {
   "cell_type": "code",
   "execution_count": 5,
   "metadata": {},
   "outputs": [
    {
     "data": {
      "text/plain": [
       "6.4031242374328485"
      ]
     },
     "execution_count": 5,
     "metadata": {},
     "output_type": "execute_result"
    }
   ],
   "source": [
    "class Point:    \n",
    "    def __init__(self, x, y, z):\n",
    "        self.x = x       \n",
    "        self.y = y\n",
    "        self.z = z\n",
    "        \n",
    "    def print_coords(self):       \n",
    "        print(f\"x : {self.x}, y: {self.y}, z: {self.z}\")\n",
    "        \n",
    "    def calculate_distance(self, other_point):       \n",
    "        #if type(other_point) == Point:        \n",
    "        if isinstance(other_point, Point):\n",
    "            return ((other_point.x - self.x)**2 + (other_point.y - self.y)**2 \n",
    "                    + (other_point.z - self.z)**2)**0.5\n",
    "        else:\n",
    "            print(\"other point is not a point\")\n",
    "\n",
    "p = Point(2, 3, 5)\n",
    "q = Point(5,7, 9)\n",
    "q.calculate_distance(p)"
   ]
=======
   "execution_count": null,
   "metadata": {},
   "outputs": [],
   "source": []
>>>>>>> 9bcb85082bee3521929bbc33123fdb6b165afb33
  },
  {
   "cell_type": "markdown",
   "metadata": {},
   "source": [
    "# Exercise 4\n",
    "\n",
    "Create an example of a class that uses either `@staticmethod` or `@classmethod`"
   ]
  },
  {
   "cell_type": "code",
<<<<<<< HEAD
   "execution_count": 16,
   "metadata": {},
   "outputs": [
    {
     "name": "stdout",
     "output_type": "stream",
     "text": [
      "microsoft\n",
      "surface\n"
     ]
    }
   ],
   "source": [
    "class Device:\n",
    "    def __init__(self, brand, name):\n",
    "        self.brand = brand\n",
    "        self.name = name\n",
    "        \n",
    "        \n",
    "    @classmethod\n",
    "    def is_ipad(cls, operating_system=\"ios\"):\n",
    "        return cls(f\"{brand=} {name=} runs iOS\")\n",
    "       \n",
    "    @classmethod\n",
    "    def is_galaxy_tab(cls, operating_system=\"android\"):\n",
    "        return cls(f\"{brand} {name} runs Android\")\n",
    "    \n",
    "    @classmethod\n",
    "    def is_surface(cls, operating_system=\"windows\"):\n",
    "        return cls(brand=\"microsoft\", name=\"surface\")\n",
    "    \n",
    "    @classmethod\n",
    "    def is_linux_pad(cls, operating_system=\"linux\"):\n",
    "        return cls(f\"{brand} {name} runs Linux\")\n",
    "    \n",
    "    def __repr__(self):\n",
    "        return f\"Device {self.brand} {self.name}\"\n",
    "  \n",
    "a = Device(brand=\"microsoft\", name=\"surface\")\n",
    "print(a.brand)\n",
    "print(a.name)\n",
    "\n",
    "\n",
    "\n",
    "\n",
    "\n",
    "\n",
    "\n"
   ]
  },
  {
   "cell_type": "code",
   "execution_count": 17,
   "metadata": {},
   "outputs": [
    {
     "data": {
      "text/plain": [
       "Device microsoft surface"
      ]
     },
     "execution_count": 17,
     "metadata": {},
     "output_type": "execute_result"
    }
   ],
   "source": [
    "a.is_surface(\"windows\")"
   ]
=======
   "execution_count": null,
   "metadata": {},
   "outputs": [],
   "source": []
>>>>>>> 9bcb85082bee3521929bbc33123fdb6b165afb33
  },
  {
   "cell_type": "markdown",
   "metadata": {},
   "source": [
    "# Exercise 5\n",
    "\n",
    "Create an object called `Student` with attributes that store the `first_name`, `last_name`, and `age` of the student. Also create an attribute `hw_grades` that stores hw grades depending on how you think it might be stored. Create methods that prints the full name of the student, adds grades to the attribute`hw_grades` and even calculates the average hw grade. Use additional attributes and methods if needed.\n",
    "\n",
    "Demonstrate that your code works by creating an instance of the class and storing the requisite information."
   ]
<<<<<<< HEAD
  },
  {
   "cell_type": "code",
   "execution_count": 43,
   "metadata": {},
   "outputs": [
    {
     "data": {
      "text/plain": [
       "30.0"
      ]
     },
     "execution_count": 43,
     "metadata": {},
     "output_type": "execute_result"
    }
   ],
   "source": [
    "class Student:\n",
    "    def __init__(self,first_name,last_name,age,hw_grades):\n",
    "        self.first_name = first_name\n",
    "        self.last_name = last_name\n",
    "        self.age = age\n",
    "        self.hw_grades = hw_grades \n",
    "    \n",
    "    def full_name(self):\n",
    "        print(f\"{self.first_name} {self.last_name}\")\n",
    "        \n",
    "    \n",
    "    def add_grades(self):\n",
    "        grades = []\n",
    "        return self.hw_grades.append(grades)\n",
    "        \n",
    "        \n",
    "    def grade_average(self):\n",
    "        sum = 0\n",
    "        for grade in self.hw_grades:\n",
    "            sum += grade\n",
    "        return sum / len(self.hw_grades)\n",
    "    \n",
    "x = Student(\"Fausto\", \"Rosado\", 40, [10,20,30,40,50])\n",
    "x.grade_average()\n"
   ]
  },
  {
   "cell_type": "code",
   "execution_count": null,
   "metadata": {},
   "outputs": [],
   "source": []
=======
>>>>>>> 9bcb85082bee3521929bbc33123fdb6b165afb33
  }
 ],
 "metadata": {
  "kernelspec": {
   "display_name": "Python 3",
   "language": "python",
   "name": "python3"
  },
  "language_info": {
   "codemirror_mode": {
    "name": "ipython",
    "version": 3
   },
   "file_extension": ".py",
   "mimetype": "text/x-python",
   "name": "python",
   "nbconvert_exporter": "python",
   "pygments_lexer": "ipython3",
<<<<<<< HEAD
   "version": "3.8.7"
=======
   "version": "3.8.6"
>>>>>>> 9bcb85082bee3521929bbc33123fdb6b165afb33
  }
 },
 "nbformat": 4,
 "nbformat_minor": 4
}
