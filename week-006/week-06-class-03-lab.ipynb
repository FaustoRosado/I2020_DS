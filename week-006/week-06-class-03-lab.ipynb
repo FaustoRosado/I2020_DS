{
 "cells": [
  {
   "cell_type": "markdown",
   "metadata": {},
   "source": [
    "<div style=\"background: #000;\n",
    "            color: #FFF;\n",
    "            margin: 0px;\n",
    "                padding: 10px 0px 20px 0px;\n",
    "            text-align: center; \n",
    "                \">\n",
    "    <h1>Week 6 - Class 3 - Lab</h1>\n",
    "</div>\n"
   ]
  },
  {
   "cell_type": "markdown",
   "metadata": {},
   "source": [
    "# Question 1\n",
    "\n",
    "What is object inheritance? What does it mean for a class instance to inherit another? How can this be useful in our programming?"
   ]
  },
  {
<<<<<<< HEAD
   "cell_type": "markdown",
   "metadata": {},
   "source": [
    "It is when a child class inherits all the functionality for a parent class.We can add more fucntionality to this child class. We can define a new class with little or no change to an existing class. The new class is called the child class and the one from which it inherits is called the parent class. Child or derived classes inherits features from the base class. This results in re-usability of code."
   ]
=======
   "cell_type": "raw",
   "metadata": {},
   "source": []
>>>>>>> 9bcb85082bee3521929bbc33123fdb6b165afb33
  },
  {
   "cell_type": "markdown",
   "metadata": {},
   "source": [
    "# Exercise 1\n",
    "\n",
    "Create a class that uses `@property` with the associated `setter` and `deleter` methods."
   ]
  },
  {
   "cell_type": "code",
<<<<<<< HEAD
   "execution_count": 2,
   "metadata": {},
   "outputs": [
    {
     "name": "stdout",
     "output_type": "stream",
     "text": [
      "95\n"
     ]
    },
    {
     "ename": "NameError",
     "evalue": "name 'science' is not defined",
     "output_type": "error",
     "traceback": [
      "\u001b[0;31m---------------------------------------------------------------------------\u001b[0m",
      "\u001b[0;31mNameError\u001b[0m                                 Traceback (most recent call last)",
      "\u001b[0;32m<ipython-input-2-9936112211fb>\u001b[0m in \u001b[0;36m<module>\u001b[0;34m\u001b[0m\n\u001b[1;32m     24\u001b[0m \u001b[0;32mdel\u001b[0m \u001b[0mscience\u001b[0m\u001b[0;34m\u001b[0m\u001b[0;34m\u001b[0m\u001b[0m\n\u001b[1;32m     25\u001b[0m \u001b[0;34m\u001b[0m\u001b[0m\n\u001b[0;32m---> 26\u001b[0;31m \u001b[0mprint\u001b[0m\u001b[0;34m(\u001b[0m\u001b[0mscience\u001b[0m\u001b[0;34m.\u001b[0m\u001b[0mgrade\u001b[0m\u001b[0;34m)\u001b[0m\u001b[0;34m\u001b[0m\u001b[0;34m\u001b[0m\u001b[0m\n\u001b[0m\u001b[1;32m     27\u001b[0m \u001b[0;34m\u001b[0m\u001b[0m\n",
      "\u001b[0;31mNameError\u001b[0m: name 'science' is not defined"
     ]
    }
   ],
   "source": [
    "class Grade:\n",
    "    def __init__(self):\n",
    "        self._grade = 0\n",
    "    \n",
    "    @property\n",
    "    def grade(self):\n",
    "        return self._grade\n",
    "    \n",
    "    @grade.setter\n",
    "    def grade(self, value):\n",
    "        if (0 <= value <= 100):\n",
    "            self._grade = value\n",
    "    \n",
    "    @grade.deleter\n",
    "    def grade(self, value):   \n",
    "        if (0 <= value <= 100):\n",
    "            self._grade = None\n",
    "        \n",
    "science = Grade()\n",
    "science.grade = 95\n",
    "\n",
    "print(science.grade)\n",
    "\n",
    "del science\n",
    "\n",
    "print(science.grade)\n",
    "\n"
   ]
=======
   "execution_count": null,
   "metadata": {},
   "outputs": [],
   "source": []
>>>>>>> 9bcb85082bee3521929bbc33123fdb6b165afb33
  },
  {
   "cell_type": "markdown",
   "metadata": {},
   "source": [
    "# Exercise 2\n",
    "\n",
    "Using the following class, overload the `+` operator so when the two instances are added, the salaries are added and the sum is outputted. Also override the `__repr__` method so you can output a string that will create the same exact class (`\"Employee(**insert correct values here**)\"`)"
   ]
  },
  {
   "cell_type": "code",
<<<<<<< HEAD
   "execution_count": 5,
   "metadata": {},
   "outputs": [
    {
     "name": "stdout",
     "output_type": "stream",
     "text": [
      "Employee(Kamala, 55, 166000)\n",
      "Employee(Joe, 77, 250000)\n"
     ]
    },
    {
     "data": {
      "text/plain": [
       "416000"
      ]
     },
     "execution_count": 5,
     "metadata": {},
     "output_type": "execute_result"
    }
   ],
=======
   "execution_count": null,
   "metadata": {},
   "outputs": [],
>>>>>>> 9bcb85082bee3521929bbc33123fdb6b165afb33
   "source": [
    "class Employee:\n",
    "    def __init__(self, name, age, salary):\n",
    "        self.name = name\n",
    "        self.age = age\n",
    "        self.salary = salary\n",
    "        \n",
    "    # fix this code:\n",
<<<<<<< HEAD
    "    def __add__(self, other_salary):\n",
    "        return self.salary + other_salary.salary\n",
=======
    "    #def __add__(self):\n",
>>>>>>> 9bcb85082bee3521929bbc33123fdb6b165afb33
    "    #    pass\n",
    "    \n",
    "    # fix this code:\n",
    "    \n",
<<<<<<< HEAD
    "    def __repr__(self):\n",
    "        return f\"Employee({self.name}, {self.age}, {self.salary})\"\n",
=======
    "    #def __repr__(self):\n",
>>>>>>> 9bcb85082bee3521929bbc33123fdb6b165afb33
    "    #    pass\n",
    "    \n",
    "empl1 = Employee('Kamala', 55, 166000)\n",
    "empl2 = Employee('Joe', 77, 250000)\n",
    "\n",
    "print(empl1)\n",
    "print(empl2)\n",
<<<<<<< HEAD
    "#empl1.salary + empl2.salary\n",
=======
>>>>>>> 9bcb85082bee3521929bbc33123fdb6b165afb33
    "empl1 + empl2"
   ]
  },
  {
   "cell_type": "markdown",
   "metadata": {},
   "source": [
    "# Exercise 3:\n",
    "\n",
    "Create a class called `Store`, create an attribute called `inventory` that holds the product name as key and an int representing the count/number of that product as the value. \n",
    "\n",
    "Create a method that decrements from the product's count each time a specific product is purchased. Create a least one addtional method to help your class simulate a store (e.g. a method that lists the products for sale could be one). Also consider how you might want to add products to the store via the `__init__` method and later when the instance has already been created.\n",
    "\n",
    "When you're finished, create an instance of `Store` and demonstrate that your methods/code work. Bonus points for addtional methods/functionality."
   ]
  },
  {
   "cell_type": "code",
   "execution_count": null,
   "metadata": {},
   "outputs": [],
<<<<<<< HEAD
   "source": [
    "class Store:\n",
    "    def __init__(self, inventory)\n",
    "    self. inventory = inventory"
   ]
=======
   "source": []
>>>>>>> 9bcb85082bee3521929bbc33123fdb6b165afb33
  },
  {
   "cell_type": "markdown",
   "metadata": {},
   "source": [
    "# Exercise 4:\n",
    "\n",
    "Create two classes. One that acts as a parent class and the other that acts as a child class that inherits from the parent. Create a method of the child class that uses attributes from the parent class. Demonstrate your code works by creating an instance of the child class and showing that the method works."
   ]
  },
  {
   "cell_type": "code",
<<<<<<< HEAD
   "execution_count": 8,
   "metadata": {},
   "outputs": [
    {
     "ename": "NameError",
     "evalue": "name 'last_name' is not defined",
     "output_type": "error",
     "traceback": [
      "\u001b[0;31m---------------------------------------------------------------------------\u001b[0m",
      "\u001b[0;31mNameError\u001b[0m                                 Traceback (most recent call last)",
      "\u001b[0;32m<ipython-input-8-4f67119ab884>\u001b[0m in \u001b[0;36m<module>\u001b[0;34m\u001b[0m\n\u001b[1;32m     14\u001b[0m \u001b[0;34m\u001b[0m\u001b[0m\n\u001b[1;32m     15\u001b[0m \u001b[0;34m\u001b[0m\u001b[0m\n\u001b[0;32m---> 16\u001b[0;31m \u001b[0mchild\u001b[0m \u001b[0;34m=\u001b[0m \u001b[0mChild\u001b[0m\u001b[0;34m(\u001b[0m\u001b[0;34m\"fausto\"\u001b[0m\u001b[0;34m,\u001b[0m \u001b[0;34m\"miguel\"\u001b[0m\u001b[0;34m)\u001b[0m\u001b[0;34m\u001b[0m\u001b[0;34m\u001b[0m\u001b[0m\n\u001b[0m\u001b[1;32m     17\u001b[0m \u001b[0;34m\u001b[0m\u001b[0m\n\u001b[1;32m     18\u001b[0m \u001b[0mprint\u001b[0m\u001b[0;34m(\u001b[0m\u001b[0mperson\u001b[0m\u001b[0;34m)\u001b[0m\u001b[0;34m\u001b[0m\u001b[0;34m\u001b[0m\u001b[0m\n",
      "\u001b[0;32m<ipython-input-8-4f67119ab884>\u001b[0m in \u001b[0;36m__init__\u001b[0;34m(self, first_name, middle_name)\u001b[0m\n\u001b[1;32m      7\u001b[0m         \u001b[0mself\u001b[0m\u001b[0;34m.\u001b[0m\u001b[0mfirst_name\u001b[0m \u001b[0;34m=\u001b[0m \u001b[0mfirst_name\u001b[0m\u001b[0;34m\u001b[0m\u001b[0;34m\u001b[0m\u001b[0m\n\u001b[1;32m      8\u001b[0m         \u001b[0mself\u001b[0m\u001b[0;34m.\u001b[0m\u001b[0mmiddle_name\u001b[0m \u001b[0;34m=\u001b[0m \u001b[0mmiddle_name\u001b[0m\u001b[0;34m\u001b[0m\u001b[0;34m\u001b[0m\u001b[0m\n\u001b[0;32m----> 9\u001b[0;31m         \u001b[0mParent\u001b[0m\u001b[0;34m.\u001b[0m\u001b[0m__init__\u001b[0m\u001b[0;34m(\u001b[0m\u001b[0mself\u001b[0m\u001b[0;34m,\u001b[0m \u001b[0mlast_name\u001b[0m\u001b[0;34m)\u001b[0m\u001b[0;34m\u001b[0m\u001b[0;34m\u001b[0m\u001b[0m\n\u001b[0m\u001b[1;32m     10\u001b[0m \u001b[0;34m\u001b[0m\u001b[0m\n\u001b[1;32m     11\u001b[0m     \u001b[0;32mdef\u001b[0m \u001b[0mname\u001b[0m\u001b[0;34m(\u001b[0m\u001b[0mself\u001b[0m\u001b[0;34m)\u001b[0m\u001b[0;34m:\u001b[0m\u001b[0;34m\u001b[0m\u001b[0;34m\u001b[0m\u001b[0m\n",
      "\u001b[0;31mNameError\u001b[0m: name 'last_name' is not defined"
     ]
    }
   ],
   "source": [
    "class Parent:\n",
    "    def __init__(self, last_name='rosado'):\n",
    "        self.last_name = last_name\n",
    "        \n",
    "class Child(Parent):\n",
    "    def __init__ (self, first_name, middle_name):\n",
    "        self.first_name = first_name\n",
    "        self.middle_name = middle_name\n",
    "        Parent.__init__(self, last_name)\n",
    "    \n",
    "    def name(self):\n",
    "        return f\"{first_name} {middle_name} {last_name}\"\n",
    "    \n",
    "\n",
    "\n",
    "child = Child(\"fausto\", \"miguel\")\n",
    "\n",
    "print(person)\n",
    "    "
   ]
  },
  {
   "cell_type": "code",
=======
>>>>>>> 9bcb85082bee3521929bbc33123fdb6b165afb33
   "execution_count": null,
   "metadata": {},
   "outputs": [],
   "source": []
  }
 ],
 "metadata": {
  "kernelspec": {
   "display_name": "Python 3",
   "language": "python",
   "name": "python3"
  },
  "language_info": {
   "codemirror_mode": {
    "name": "ipython",
    "version": 3
   },
   "file_extension": ".py",
   "mimetype": "text/x-python",
   "name": "python",
   "nbconvert_exporter": "python",
   "pygments_lexer": "ipython3",
<<<<<<< HEAD
   "version": "3.8.7"
=======
   "version": "3.8.6"
>>>>>>> 9bcb85082bee3521929bbc33123fdb6b165afb33
  }
 },
 "nbformat": 4,
 "nbformat_minor": 4
}
