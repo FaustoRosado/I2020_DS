{
 "cells": [
  {
   "cell_type": "markdown",
   "metadata": {},
   "source": [
    "<div style=\"background: #000;\n",
    "            color: #FFF;\n",
    "            margin: 0px;\n",
    "                padding: 10px 0px 20px 0px;\n",
    "            text-align: center; \n",
    "                \">\n",
    "    <h1>Week 4 - Homework</h1>\n",
    "</div>\n",
    "\n",
    "<hr>\n",
    "<pre style=\"text-align: center;\">\n",
    "<h3>Due Tuesday before class time.</h3>\n",
    "Be prepared to present Exercise 1 and 2 on Tuesday.\n",
    "Be prepared to present Exercise 3 and 4 on Tuesday.\n",
    "</pre>\n",
    "<hr>\n"
   ]
  },
  {
   "cell_type": "markdown",
   "metadata": {},
   "source": [
    "# Exercise 1\n",
    "\n",
    "Create a function that takes both postional arguments and a keyword arguments. "
   ]
  },
  {
   "cell_type": "code",
   "execution_count": 18,
   "metadata": {},
   "outputs": [
    {
     "name": "stdout",
     "output_type": "stream",
     "text": [
      "Anil teaches fausto data science\n",
      "Anil teaches luis data science\n",
      "Anil teaches ana web development\n",
      "joe teaches juan data science\n",
      "malcolm teaches fausto web development\n",
      "malcolm teaches ana data science\n"
     ]
    }
   ],
   "source": [
    "def school(student, teacher=\"Anil\", cohort=\"data science\"):\n",
    "    print(teacher, f\"teaches {student}\", cohort)\n",
    "\n",
    "school('fausto')\n",
    "school(student='luis')\n",
    "school(student='ana', cohort=\"web development\")\n",
    "school(teacher='joe', student='juan')\n",
    "school('fausto', 'malcolm', 'web development')\n",
    "school('ana', teacher='malcolm')"
   ]
  },
  {
   "cell_type": "markdown",
   "metadata": {},
   "source": [
    "# Exercise 2\n",
    "\n",
    "Fix the following function so that it takes an arbitrary number of arguments. Demonstrate this function works by unpacking `lst` into the function as 11 arguements."
   ]
  },
  {
   "cell_type": "code",
   "execution_count": 20,
   "metadata": {},
   "outputs": [
    {
     "data": {
      "text/plain": [
       "['1', '2', '3', '4', '5', '6', '7', '8', '9', '10', '11']"
      ]
     },
     "execution_count": 20,
     "metadata": {},
     "output_type": "execute_result"
    }
   ],
   "source": [
    "lst = [1,2,3,4,5,6,7,8,9,10]\n",
    "\n",
    "def values_to_string(*lst):\n",
    "    new_list = []\n",
    "    for i in lst:\n",
    "        new_list.append(str(i))\n",
    "    return new_list\n",
    "\n",
    "values_to_string(*lst)\n",
    "values_to_string(1,2,3,4,5,6,7,8,9,10,11)"
   ]
  },
  {
   "cell_type": "markdown",
   "metadata": {},
   "source": [
    "# Exercise 3\n",
    "\n",
    "Write a function that has an algorithm that is worst case 0(n)."
   ]
  },
  {
   "cell_type": "code",
   "execution_count": 51,
   "metadata": {},
   "outputs": [
    {
     "name": "stdout",
     "output_type": "stream",
     "text": [
      "Even numbers: [2, 4, 6, 8, 10]\n",
      "Odd numbers: [1, 3, 5, 7, 9]\n"
     ]
    }
   ],
   "source": [
    "#def odd_even(num):\n",
    "    #print(\"Even numbers:\", list(range(2 ,num +1, 2)))\n",
    "    #print(\"Odd numbers:\", list(range(1 ,num +1, 2)))\n",
    "\n",
    "#odd_even(10)\n",
    "            \n",
    "def odd_even(num):\n",
    "    even_list = []\n",
    "    odd_list = []\n",
    "    for num in range(1, num + 1):\n",
    "        if num % 2 == 0:\n",
    "            even_list.append(num)\n",
    "        else:\n",
    "            odd_list.append(num)\n",
    "    \n",
    "    print(\"Even numbers:\", even_list)\n",
    "    print(\"Odd numbers:\", odd_list)\n",
    "\n",
    "odd_even(10)\n",
    "    \n",
    "    "
   ]
  },
  {
   "cell_type": "markdown",
   "metadata": {},
   "source": [
    "## Exercise 4\n",
    "\n",
    "Write a function called `summer` that takes an arbitrary number of keyword arguments and then adds any arguments that are ints/floats to produce a sum.\n",
    "\n",
    "Hint:  \n",
    "`summer(**{a=True, b=1})` would return 1.   \n",
    "`summer(**{c=3, d=\"4\" })` would return 3."
   ]
  },
  {
   "cell_type": "code",
   "execution_count": 84,
   "metadata": {},
   "outputs": [
    {
     "name": "stdout",
     "output_type": "stream",
     "text": [
      "1\n",
      "3\n",
      "4\n",
      "9.0\n"
     ]
    }
   ],
   "source": [
    "#print(isinstance(False, (int,float)))\n",
    "\n",
    "\n",
    "def summer(**kwargs):\n",
    "    sum = 0\n",
    "    for k, v in kwargs.items():\n",
    "        if not isinstance(v, bool) and isinstance(v,(int, float)):\n",
    "        #if instance(v, (int, float))\n",
    "        #if type(v) == int or float:\n",
    "        #if v.isdigit():    \n",
    "            sum += v\n",
    "    return sum\n",
    "\n",
    "print(summer(a=True, b=1))\n",
    "print(summer(c=3, d=\"4\"))\n",
    "print(summer(a=True, b=1, c=3, d='4'))\n",
    "print(summer(a=True, b=1, c=3, d='4', e=\"\", f= 5.0))    "
   ]
  },
  {
   "cell_type": "markdown",
   "metadata": {},
   "source": [
    "# Bonus\n",
    "\n",
    "Create a function that returns a lambda function. Show how it can be used to create new functions. Can you turn this into a decorator?\n",
    "\n",
    "Hint: see example from `week-04-class-02.ipynb` with the `mytripler` function"
   ]
  },
  {
   "cell_type": "code",
   "execution_count": null,
   "metadata": {},
   "outputs": [],
   "source": []
  }
 ],
 "metadata": {
  "kernelspec": {
   "display_name": "Python 3",
   "language": "python",
   "name": "python3"
  },
  "language_info": {
   "codemirror_mode": {
    "name": "ipython",
    "version": 3
   },
   "file_extension": ".py",
   "mimetype": "text/x-python",
   "name": "python",
   "nbconvert_exporter": "python",
   "pygments_lexer": "ipython3",
   "version": "3.8.5"
  }
 },
 "nbformat": 4,
 "nbformat_minor": 4
}
