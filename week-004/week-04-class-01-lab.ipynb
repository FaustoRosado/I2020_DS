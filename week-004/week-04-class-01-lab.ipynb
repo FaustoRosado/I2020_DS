{
 "cells": [
  {
   "cell_type": "markdown",
   "metadata": {},
   "source": [
    "<div style=\"background: #000;\n",
    "            color: #FFF;\n",
    "            margin: 0px;\n",
    "                padding: 10px 0px 20px 0px;\n",
    "            text-align: center; \n",
    "                \">\n",
    "    <h1>Lab</h1>\n",
    "</div>\n"
   ]
  },
  {
   "cell_type": "markdown",
   "metadata": {},
   "source": [
    "# Question 1 \n",
    "\n",
    "We'd like to create a function that takes a number and outputs the number with it's ordinal indictator (e.g. 1 -> 1st, 2 -> 2nd, and so on).\n",
    "\n",
    "Walk us through the steps we might need to take. DO NOT write any code. Try writing what we call \"pseudocode\"."
   ]
  },
  {
   "cell_type": "markdown",
   "metadata": {},
   "source": [
<<<<<<< HEAD
    "First we would create the function:\n",
    "\n",
    "def ord_ind(num)"
   ]
  },
  {
   "cell_type": "markdown",
   "metadata": {},
   "source": [
    "First 3 numbers will have suffix 'st', 'nd', 'rd' \n",
    "\n",
    "        num_str = str(num)\n",
    "            if num_str == '1' or '-1'\n",
    "                return num_str +'st'\n",
    "            elif num_str == '2' or '-2'\n",
    "                return num_str +'nd'\n",
    "            elif num_str == '3' or '-3'\n",
    "                return num_str +'rd'`"
   ]
  },
  {
   "cell_type": "markdown",
   "metadata": {},
   "source": [
    "If the number is 2 digit number, check for special case 11,12,13 which end in 'th'  all other two digit numbers follow convention so that 1,2,3 in ones place have 'st', 'nd' & 'rd' as suffixes, check if 1,2,3 at ones place of a num and tens place of that number is 1: \n",
    "\n",
    "            elif num_str[-1] == '1' or '2' or '3' and num_str[-2] != '1'\n",
    "                  return num_str+'st' \n",
    "                  return num_str+'nd'\n",
    "                  return num_str+'rd'\n",
    "            \n",
    "            \n",
    "            \n"
   ]
  },
  {
   "cell_type": "markdown",
   "metadata": {},
   "source": [
    "if not have default to return the string of that number with 'th' as ending of that number\n",
    "            \n",
    "            else:\n",
    "                return num_str +'th\""
   ]
  },
  {
   "cell_type": "markdown",
   "metadata": {},
   "source": [
    "finally we would run the function to output a list comprehension:\n",
    "\n",
    "print [ord_num(n) for n in range()\n"
   ]
  },
  {
   "cell_type": "markdown",
   "metadata": {},
   "source": []
  },
  {
   "cell_type": "markdown",
   "metadata": {},
   "source": [
=======
>>>>>>> 9bcb85082bee3521929bbc33123fdb6b165afb33
    "# Exercise 1\n",
    "\n",
    "Create a function that takes two parameters and returns a list."
   ]
  },
  {
   "cell_type": "code",
<<<<<<< HEAD
   "execution_count": 29,
   "metadata": {},
   "outputs": [
    {
     "data": {
      "text/plain": [
       "[12, 13]"
      ]
     },
     "execution_count": 29,
     "metadata": {},
     "output_type": "execute_result"
    }
   ],
   "source": [
    "def two_parameters_function(arg1, arg2):\n",
    "    new_list = []\n",
    "    new_list.append(arg1)\n",
    "    new_list.append(arg2)\n",
    "    return(new_list)\n",
    "\n",
    "two_parameters_function(12,13)"
   ]
=======
   "execution_count": null,
   "metadata": {},
   "outputs": [],
   "source": []
>>>>>>> 9bcb85082bee3521929bbc33123fdb6b165afb33
  },
  {
   "cell_type": "markdown",
   "metadata": {},
   "source": [
    "# Exercise 2\n"
   ]
  },
  {
   "cell_type": "markdown",
   "metadata": {},
   "source": [
    "Create a function that will return the list of square roots from numbers from 1 to `n` (where `n` is the input)\n",
    "\n"
   ]
  },
  {
   "cell_type": "code",
<<<<<<< HEAD
   "execution_count": 2,
   "metadata": {},
   "outputs": [
    {
     "data": {
      "text/plain": [
       "[1.0, 1.4142135623730951, 1.7320508075688772, 2.0, 2.23606797749979]"
      ]
     },
     "execution_count": 2,
     "metadata": {},
     "output_type": "execute_result"
    }
   ],
   "source": [
    "def sqrt_function(n):\n",
    "    sqrt_list = []\n",
    "    for num in range(1,n+1):\n",
    "        sqrt_list.append(num**(0.5))\n",
    "    return sqrt_list\n",
    "sqrt_function(5)\n",
    "        "
   ]
=======
   "execution_count": null,
   "metadata": {},
   "outputs": [],
   "source": []
>>>>>>> 9bcb85082bee3521929bbc33123fdb6b165afb33
  },
  {
   "cell_type": "markdown",
   "metadata": {},
   "source": [
    "# Exercise 3\n",
    "\n",
    "Create a mad-lib that instead of using the `input` function, uses keyword arguments."
   ]
  },
  {
   "cell_type": "code",
<<<<<<< HEAD
   "execution_count": 2,
   "metadata": {},
   "outputs": [
    {
     "name": "stdout",
     "output_type": "stream",
     "text": [
      "This is a phrase that takes sunny words and prints them funny.\n"
     ]
    }
   ],
   "source": [
    "def mad_lib(word1=\"phrase\",word2=\"sunny\",word3=\"funny\"):\n",
    "    print(f\"This is a {word1} that takes {word2} words and prints them {word3}.\")\n",
    "mad_lib()"
   ]
=======
   "execution_count": null,
   "metadata": {},
   "outputs": [],
   "source": []
>>>>>>> 9bcb85082bee3521929bbc33123fdb6b165afb33
  },
  {
   "cell_type": "markdown",
   "metadata": {},
   "source": [
    "# Exercise 4\n",
    "\n",
    "Create a function that takes `n` as the input and returns a `n`x`n` matrix where all the values are zeros. "
   ]
  },
  {
   "cell_type": "code",
<<<<<<< HEAD
   "execution_count": 20,
   "metadata": {},
   "outputs": [
    {
     "data": {
      "text/plain": [
       "[[0, 0, 0, 0, 0, 0, 0, 0, 0, 0],\n",
       " [0, 0, 0, 0, 0, 0, 0, 0, 0, 0],\n",
       " [0, 0, 0, 0, 0, 0, 0, 0, 0, 0],\n",
       " [0, 0, 0, 0, 0, 0, 0, 0, 0, 0],\n",
       " [0, 0, 0, 0, 0, 0, 0, 0, 0, 0],\n",
       " [0, 0, 0, 0, 0, 0, 0, 0, 0, 0],\n",
       " [0, 0, 0, 0, 0, 0, 0, 0, 0, 0],\n",
       " [0, 0, 0, 0, 0, 0, 0, 0, 0, 0],\n",
       " [0, 0, 0, 0, 0, 0, 0, 0, 0, 0],\n",
       " [0, 0, 0, 0, 0, 0, 0, 0, 0, 0]]"
      ]
     },
     "execution_count": 20,
     "metadata": {},
     "output_type": "execute_result"
    }
   ],
   "source": [
    "def matrix_nbyn(n):\n",
    "    columns,rows = [n,n]\n",
    "    mat = [[0]*columns] * rows\n",
    "    return mat\n",
    "matrix_nbyn(10)"
   ]
=======
   "execution_count": null,
   "metadata": {},
   "outputs": [],
   "source": []
>>>>>>> 9bcb85082bee3521929bbc33123fdb6b165afb33
  },
  {
   "cell_type": "markdown",
   "metadata": {},
   "source": [
    "# Exercise 5\n",
    "\n",
    "Find an exercise from a previous lab and convert it into a function demonstrating the ability to define the function and call it using the correct arguments/keywords"
   ]
  },
  {
<<<<<<< HEAD
   "cell_type": "markdown",
   "metadata": {},
   "source": [
    "`From Week 3, Class 2`\n",
    "\n",
    "Exercise 3\n",
    "Write a Python program which iterates the integers from 1 to 50.\n",
    "\n",
    "For multiples of three print \"Fizz\" instead of the number.\n",
    "For the multiples of five print \"Buzz\".\n",
    "For numbers which are multiples of both three and five print \"FizzBuzz\"."
   ]
  },
  {
   "cell_type": "code",
   "execution_count": 6,
   "metadata": {},
   "outputs": [
    {
     "name": "stdout",
     "output_type": "stream",
     "text": [
      "1\n",
      "2\n",
      "Fizz\n",
      "4\n",
      "Buzz\n",
      "Fizz\n",
      "7\n",
      "8\n",
      "Fizz\n",
      "Buzz\n",
      "11\n",
      "Fizz\n",
      "13\n",
      "14\n",
      "FizzBuzz\n",
      "16\n",
      "17\n",
      "Fizz\n",
      "19\n",
      "Buzz\n",
      "Fizz\n",
      "22\n",
      "23\n",
      "Fizz\n",
      "Buzz\n",
      "26\n",
      "Fizz\n",
      "28\n",
      "29\n",
      "FizzBuzz\n",
      "31\n",
      "32\n",
      "Fizz\n",
      "34\n",
      "Buzz\n",
      "Fizz\n",
      "37\n",
      "38\n",
      "Fizz\n",
      "Buzz\n",
      "41\n",
      "Fizz\n",
      "43\n",
      "44\n",
      "FizzBuzz\n",
      "46\n",
      "47\n",
      "Fizz\n",
      "49\n",
      "Buzz\n"
     ]
    }
   ],
   "source": [
    "# Original solution\n",
    "\n",
    "for e in range(1,51):\n",
    "    if e % 3 == 0 and e % 5 == 0:\n",
    "        print(\"FizzBuzz\")\n",
    "    elif e % 3 == 0:\n",
    "        print(\"Fizz\")\n",
    "    elif e % 5 == 0:\n",
    "        print(\"Buzz\")\n",
    "    else:\n",
    "        print(e)"
   ]
  },
  {
   "cell_type": "code",
   "execution_count": 4,
   "metadata": {},
   "outputs": [
    {
     "name": "stdout",
     "output_type": "stream",
     "text": [
      "1\n",
      "2\n",
      "Fizz\n",
      "4\n",
      "Buzz\n",
      "Fizz\n",
      "7\n",
      "8\n",
      "Fizz\n",
      "Buzz\n",
      "11\n",
      "Fizz\n",
      "13\n",
      "14\n",
      "FizzBuzz\n",
      "16\n",
      "17\n",
      "Fizz\n",
      "19\n",
      "Buzz\n",
      "Fizz\n",
      "22\n",
      "23\n",
      "Fizz\n",
      "Buzz\n",
      "26\n",
      "Fizz\n",
      "28\n",
      "29\n",
      "FizzBuzz\n",
      "31\n",
      "32\n",
      "Fizz\n",
      "34\n",
      "Buzz\n",
      "Fizz\n",
      "37\n",
      "38\n",
      "Fizz\n",
      "Buzz\n",
      "41\n",
      "Fizz\n",
      "43\n",
      "44\n",
      "FizzBuzz\n",
      "46\n",
      "47\n",
      "Fizz\n",
      "49\n"
     ]
    }
   ],
   "source": [
    "def Fizz_Buzz(x): \n",
    "     for x in range (1,x+1):      \n",
    "        if x % 3 == 0 and x % 5 == 0:           \n",
    "            print('FizzBuzz')       \n",
    "        elif x % 3 == 0:            \n",
    "            print('Fizz')       \n",
    "        elif x % 5 == 0:            \n",
    "            print ('Buzz')      \n",
    "        else:           \n",
    "            print (x)\n",
    "Fizz_Buzz(50)"
   ]
=======
   "cell_type": "code",
   "execution_count": null,
   "metadata": {},
   "outputs": [],
   "source": []
>>>>>>> 9bcb85082bee3521929bbc33123fdb6b165afb33
  },
  {
   "cell_type": "markdown",
   "metadata": {},
   "source": [
    "# Bonus:\n",
    "    \n",
    "Create a function that has a function within. Demonstrate how you might use this function in a real world application."
   ]
  },
  {
   "cell_type": "code",
   "execution_count": null,
   "metadata": {},
   "outputs": [],
   "source": []
  }
 ],
 "metadata": {
  "kernelspec": {
   "display_name": "Python 3",
   "language": "python",
   "name": "python3"
  },
  "language_info": {
   "codemirror_mode": {
    "name": "ipython",
    "version": 3
   },
   "file_extension": ".py",
   "mimetype": "text/x-python",
   "name": "python",
   "nbconvert_exporter": "python",
   "pygments_lexer": "ipython3",
<<<<<<< HEAD
   "version": "3.8.7"
=======
   "version": "3.8.5"
>>>>>>> 9bcb85082bee3521929bbc33123fdb6b165afb33
  }
 },
 "nbformat": 4,
 "nbformat_minor": 4
}
