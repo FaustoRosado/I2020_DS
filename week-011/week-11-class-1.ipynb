{
 "cells": [
  {
   "cell_type": "markdown",
   "metadata": {},
   "source": [
    "<div style=\"background: #000;\n",
    "            color: #FFF;\n",
    "            margin: 0px;\n",
    "                padding: 10px 0px 20px 0px;\n",
    "            text-align: center; \n",
    "                \">\n",
    "    <h1>Week 11 - Class 1 - 11/23</h1>\n",
    "</div>\n",
    "\n",
    "## Objectives for this week:"
   ]
  },
  {
   "cell_type": "markdown",
   "metadata": {},
   "source": [
    "* RESTful APIs\n",
    "* GraphQL APIs\n",
    "* Integrating models in views\n",
    "* Connecting our database to our API"
   ]
  },
  {
   "cell_type": "markdown",
   "metadata": {},
   "source": [
    "Today's objective:\n",
    "* RESTful APIs\n",
    "* GraphQL APIs\n",
    "* Integrating models in views\n",
    "* Connecting our database to our API"
   ]
  },
  {
   "cell_type": "markdown",
   "metadata": {},
   "source": [
    "# Exercise\n",
    "\n",
    "Design a parking system for a parking lot. The parking lot has three kinds of parking spaces: big, medium and small, with a fixed number of slots for each size.\n",
    "\n",
    "Implement the ParkingSytem class:\n",
    "* `ParkingSystem(big, medium, small)` initializes object of the ParkingSystem class. The number of slots for each parking space are given as part of the constructor.\n",
    "* `add_car(car_type)` checks whether there is a parking space of car_type for the car that wants to get into the parking lot. `car_type` can be of three kinds: big, medium and small, which are represented by `1`, `2`, `3` respectively. A car can only park in a parking space of its `car_type`. If there is no space available, return `False`, else park the car in that size space and return `True`."
   ]
  },
  {
   "cell_type": "code",
<<<<<<< HEAD
   "execution_count": 9,
=======
   "execution_count": null,
>>>>>>> 9bcb85082bee3521929bbc33123fdb6b165afb33
   "metadata": {},
   "outputs": [],
   "source": [
    "# let's create our class here:\n",
    "\n",
<<<<<<< HEAD
    "# class ParkingSystem:\n",
    "#     def __init__(self, big, medium, small):\n",
    "#         self.big = big\n",
    "#         self.medium = medium\n",
    "#         self.small = small\n",
    "    \n",
    "#     def add_car(self, car_type):\n",
    "#         if car_type == 1:\n",
    "#             if self.big > 0:\n",
    "#                 self.big -= 1\n",
    "#                 return True\n",
    "#             else: \n",
    "#                 return False\n",
    "#         elif car_type == 2:\n",
    "#             if self.medium > 0:\n",
    "#                 self.medium = self.medium - 1\n",
    "#                 return True\n",
    "#             else: \n",
    "#                 return False\n",
    "#         elif car_type == 3:\n",
    "#             if self.small > 0:\n",
    "#                 self.small -= 1\n",
    "#                 return True\n",
    "#             else: \n",
    "#                 return False\n",
    "#         else:\n",
    "#             return False\n"
   ]
  },
  {
   "cell_type": "code",
   "execution_count": null,
   "metadata": {},
   "outputs": [],
   "source": [
    "class ParkingSystem:\n",
    "    def __init__(self, big, medium, small):\n",
    "        self.big = big\n",
    "        self.medium = medium\n",
    "        self.small = small\n",
    "    \n",
    "    def add_car(self, car_type):\n",
    "        if car_type == 1 and self.big > 0:\n",
    "            self.big -= 1\n",
    "            return True\n",
    "            \n",
    "        elif car_type == 2 and self.medium > 0:\n",
    "            self.medium = self.medium - 1\n",
    "            return True\n",
    "         \n",
    "        elif car_type == 3 and self.small > 0:\n",
    "            self.small -= 1\n",
    "            return True\n",
    "        else:\n",
    "            return False\n"
   ]
  },
  {
   "cell_type": "code",
   "execution_count": 13,
   "metadata": {},
   "outputs": [],
   "source": [
    "class ParkingSystem:\n",
    "    def __init__(self, big, medium, small):\n",
    "        self.big = big\n",
    "        self.medium = medium\n",
    "        self.small = small\n",
    "        self.type_to_size = {\n",
    "            1: self.big,\n",
    "            2: self.medium,\n",
    "            3: self.small\n",
    "        }\n",
    "    \n",
    "    def add_car(self, car_type):\n",
    "#         if car_type == 1 and self.big > 0:\n",
    "#             self.big -= 1\n",
    "#             return True\n",
    "            \n",
    "#         elif car_type == 2 and self.medium > 0:\n",
    "#             self.medium = self.medium - 1\n",
    "#             return True\n",
    "         \n",
    "#         elif car_type == 3 and self.small > 0:\n",
    "#             self.small -= 1\n",
    "#             return True\n",
    "        if car_type in self.type_to_size.keys():\n",
    "            if self.type_to_size[car_type] > 0:\n",
    "                self.type_to_size[car_type] -= 1\n",
    "                return True\n",
    "                #print(\"works\")\n",
    "            else:\n",
    "                return False"
   ]
  },
  {
   "cell_type": "code",
   "execution_count": 16,
   "metadata": {},
   "outputs": [],
   "source": [
    "class ParkingSystem:\n",
    "    def __init__(self, big, medium, small):\n",
    "        self.big = big\n",
    "        self.medium = medium\n",
    "        self.small = small\n",
    "        self.type_to_size = {\n",
    "            1: self.big,\n",
    "            2: self.medium,\n",
    "            3: self.small\n",
    "        }\n",
    "    \n",
    "    def add_car(self, car_type):\n",
    "#         if car_type == 1 and self.big > 0:\n",
    "#             self.big -= 1\n",
    "#             return True\n",
    "            \n",
    "#         elif car_type == 2 and self.medium > 0:\n",
    "#             self.medium = self.medium - 1\n",
    "#             return True\n",
    "         \n",
    "#         elif car_type == 3 and self.small > 0:\n",
    "#             self.small -= 1\n",
    "#             return True\n",
    "        if car_type in self.type_to_size.keys():\n",
    "            if self.type_to_size[car_type] > 0:\n",
    "                self.type_to_size[car_type] -= 1\n",
    "                return True\n",
    "                \n",
    "            else:\n",
    "                return False\n",
    "        return False"
=======
    "class ParkingSystem:\n",
    "    pass\n",
    "\n"
>>>>>>> 9bcb85082bee3521929bbc33123fdb6b165afb33
   ]
  },
  {
   "cell_type": "code",
   "execution_count": null,
   "metadata": {},
   "outputs": [],
   "source": [
<<<<<<< HEAD
    "# settle on this solution\n",
    "\n",
    "class ParkingSystem:\n",
    "    def __init__(self, big, medium, small):\n",
    "        self.big = big\n",
    "        self.medium = medium\n",
    "        self.small = small\n",
    "        self.type_to_size = {\n",
    "            1: self.big,\n",
    "            2: self.medium,\n",
    "            3: self.small\n",
    "        }\n",
    "    \n",
    "    def add_car(self, car_type):\n",
    "        if self.type_to_size[car_type] > 0:\n",
    "            self.type_to_size[car_type] -= 1\n",
    "            return True\n",
    "        return False"
   ]
  },
  {
   "cell_type": "code",
   "execution_count": 18,
   "metadata": {},
   "outputs": [],
   "source": [
    "class ParkingSystem:\n",
    "    def __init__(self, big, medium, small):\n",
    "        self.big = big\n",
    "        self.medium = medium\n",
    "        self.small = small\n",
    "        self.type_to_size = {\n",
    "            1: self.big,\n",
    "            2: self.medium,\n",
    "            3: self.small\n",
    "        }\n",
    "    \n",
    "    def add_car(self, car_type):\n",
    "        try:\n",
    "            if self.type_to_size[car_type] > 0:\n",
    "                self.type_to_size[car_type] -= 1\n",
    "                return True\n",
    "        except:\n",
    "            return False\n",
    "       \n",
    "       "
   ]
  },
  {
   "cell_type": "code",
   "execution_count": 19,
   "metadata": {},
   "outputs": [],
   "source": [
    "# this is the code we need to work:\n",
    "\n",
    "# lot = ParkingSystem(1,1,0)\n",
    "# print(lot.add_car(1)) # should print True\n",
    "# print(lot.add_car(2)) # should print True\n",
    "# print(lot.add_car(3)) # should print False\n",
    "# print(lot.add_car(1)) # should print False\n",
    "# lot"
   ]
  },
  {
   "cell_type": "code",
   "execution_count": 20,
   "metadata": {},
   "outputs": [
    {
     "name": "stdout",
     "output_type": "stream",
     "text": [
      "True\n",
      "True\n",
      "None\n",
      "False\n"
     ]
    },
    {
     "data": {
      "text/plain": [
       "<__main__.ParkingSystem at 0x10ba72d60>"
      ]
     },
     "execution_count": 20,
     "metadata": {},
     "output_type": "execute_result"
    }
   ],
   "source": [
=======
    "# this is the code we need to work:\n",
    "\n",
>>>>>>> 9bcb85082bee3521929bbc33123fdb6b165afb33
    "lot = ParkingSystem(1,1,0)\n",
    "print(lot.add_car(1)) # should print True\n",
    "print(lot.add_car(2)) # should print True\n",
    "print(lot.add_car(3)) # should print False\n",
<<<<<<< HEAD
    "print(lot.add_car(4)) # should print False\n",
    "lot"
   ]
  },
  {
   "cell_type": "code",
   "execution_count": null,
   "metadata": {},
   "outputs": [],
   "source": [
    "# to change some more \n",
    "\n",
    "class ParkingSystem:\n",
    "    def __init__(self, big, medium, small):\n",
    "    \n",
    "        self.type_to_size = {\n",
    "            1: big,\n",
    "            2: medium,\n",
    "            3: small\n",
    "        }\n",
    "    \n",
    "    def add_car(self, car_type):\n",
    "        if self.type_to_size[car_type] > 0:\n",
    "            self.type_to_size[car_type] -= 1\n",
    "            return True\n",
    "        return False\n",
    "    \n",
    "    "
=======
    "print(lot.add_car(1)) # should print False"
>>>>>>> 9bcb85082bee3521929bbc33123fdb6b165afb33
   ]
  },
  {
   "cell_type": "markdown",
   "metadata": {},
   "source": [
    "# Algorithms and Data Structures:\n",
    "\n",
    "### Linked Lists\n",
    "\n",
    "A linked list is a linear collection of data elements whose order is not given by their physical placement in memory. Instead, each element points to the next. It is a data structure consisting of nodes which together represent a sequence. In it's most basic form, each node contains: data and a reference (in other words, a link).\n",
    "\n"
   ]
  },
  {
   "cell_type": "code",
<<<<<<< HEAD
   "execution_count": 1,
   "metadata": {},
   "outputs": [],
   "source": [
    "%load_ext tutormagic"
   ]
  },
  {
   "cell_type": "code",
   "execution_count": 2,
   "metadata": {},
   "outputs": [
    {
     "data": {
      "text/html": [
       "\n",
       "        <iframe\n",
       "            width=\"100%\"\n",
       "            height=\"350\"\n",
       "            src=\"http://pythontutor.com/iframe-embed.html#code=%0Aclass%20Node%3A%0A%20%20%20%20def%20__init__%28self%2C%20data%3DNone%29%3A%0A%20%20%20%20%20%20%20%20self.data%20%3D%20data%0A%20%20%20%20%20%20%20%20%23self.previous%20%3D%20%0A%20%20%20%20%20%20%20%20self.next%20%3D%20None%0A%20%20%20%20%20%20%20%20%0Aclass%20LinkedList%3A%0A%20%20%20%20def%20__init__%28self%29%3A%0A%20%20%20%20%20%20%20%20self.tail%20%3D%20None%0A%20%20%20%20%20%20%20%20self.head%20%3D%20None%0A%20%20%20%20%20%20%20%20self.count%20%3D%200%0A%20%20%20%20%20%20%20%20%0A%23%20Generator%20%20%20%20%0A%20%20%20%20%0A%20%20%20%20def%20iterate_items%28self%29%3A%0A%20%20%20%20%20%20%20%20current_item%20%3D%20self.head%0A%20%20%20%20%20%20%20%20while%20current_item%3A%0A%20%20%20%20%20%20%20%20%20%20%20%20val%20%3D%20current_item.data%0A%20%20%20%20%20%20%20%20%20%20%20%20current_item%20%3D%20current_item.next%0A%20%20%20%20%20%20%20%20%20%20%20%20yield%20val%0A%20%20%20%20%20%20%20%20%20%20%20%20%0A%20%20%20%20def%20append%28self%2C%20data%3DNone%29%3A%0A%20%20%20%20%20%20%20%20node%20%3D%20Node%28data%29%0A%20%20%20%20%20%20%20%20if%20self.tail%3A%0A%20%20%20%20%20%20%20%20%20%20%20%20self.tail.next%20%3D%20node%0A%20%20%20%20%20%20%20%20%20%20%20%20self.tail%20%3D%20node%0A%20%20%20%20%20%20%20%20else%3A%0A%20%20%20%20%20%20%20%20%20%20%20%20self.tail%20%3D%20node%0A%20%20%20%20%20%20%20%20%20%20%20%20self.head%20%3D%20node%0A%20%20%20%20%20%20%20%20self.count%20%2B%3D%201%0A%20%20%20%20%20%20%20%20%0Aitems%20%3D%20LinkedList%28%29%0Aitems.append%28%27HTML%27%29%0Aitems.append%28%27CSS%27%29%0Aitems.append%28%27Javascript%27%29%0Aitems.append%28%27Python%27%29%0Aitems.count%0A&origin=opt-frontend.js&cumulative=false&heapPrimitives=false&textReferences=false&curInstr=0&&verticalStack=false&py=3&rawInputLstJSON=%5B%5D&codeDivWidth=50%25&codeDivHeight=100%25\"\n",
       "            frameborder=\"0\"\n",
       "            allowfullscreen\n",
       "        ></iframe>\n",
       "        "
      ],
      "text/plain": [
       "<IPython.lib.display.IFrame at 0x109c6ea90>"
      ]
     },
     "metadata": {},
     "output_type": "display_data"
    },
    {
     "data": {
      "text/plain": [
       "4"
      ]
     },
     "execution_count": 2,
     "metadata": {},
     "output_type": "execute_result"
    }
   ],
   "source": [
    "%%tutor --lang python3 --r\n",
    "\n",
    "class Node:\n",
    "    def __init__(self, data=None):\n",
    "        self.data = data\n",
    "        #self.previous = \n",
=======
   "execution_count": null,
   "metadata": {},
   "outputs": [],
   "source": [
    "class Node:\n",
    "    def __init__(self, data=None):\n",
    "        self.data = data\n",
>>>>>>> 9bcb85082bee3521929bbc33123fdb6b165afb33
    "        self.next = None\n",
    "        \n",
    "class LinkedList:\n",
    "    def __init__(self):\n",
    "        self.tail = None\n",
    "        self.head = None\n",
    "        self.count = 0\n",
    "        \n",
<<<<<<< HEAD
    "# Generator    \n",
    "    \n",
=======
>>>>>>> 9bcb85082bee3521929bbc33123fdb6b165afb33
    "    def iterate_items(self):\n",
    "        current_item = self.head\n",
    "        while current_item:\n",
    "            val = current_item.data\n",
    "            current_item = current_item.next\n",
    "            yield val\n",
    "            \n",
    "    def append(self, data=None):\n",
    "        node = Node(data)\n",
    "        if self.tail:\n",
    "            self.tail.next = node\n",
    "            self.tail = node\n",
    "        else:\n",
    "            self.tail = node\n",
    "            self.head = node\n",
    "        self.count += 1\n",
    "        \n",
    "items = LinkedList()\n",
    "items.append('HTML')\n",
    "items.append('CSS')\n",
    "items.append('Javascript')\n",
    "items.append('Python')\n",
<<<<<<< HEAD
    "items.count\n"
=======
    "items.count"
>>>>>>> 9bcb85082bee3521929bbc33123fdb6b165afb33
   ]
  },
  {
   "cell_type": "code",
<<<<<<< HEAD
   "execution_count": 29,
   "metadata": {},
   "outputs": [
    {
     "name": "stdout",
     "output_type": "stream",
     "text": [
      "HTML\n",
      "CSS\n",
      "Javascript\n",
      "Python\n"
     ]
    }
   ],
=======
   "execution_count": null,
   "metadata": {},
   "outputs": [],
>>>>>>> 9bcb85082bee3521929bbc33123fdb6b165afb33
   "source": [
    "for val in items.iterate_items():\n",
    "    print(val)\n",
    "        "
   ]
  },
  {
<<<<<<< HEAD
   "cell_type": "code",
   "execution_count": 30,
   "metadata": {},
   "outputs": [],
   "source": [
    "s = items.iterate_items()"
   ]
  },
  {
   "cell_type": "code",
   "execution_count": 35,
   "metadata": {},
   "outputs": [
    {
     "ename": "StopIteration",
     "evalue": "",
     "output_type": "error",
     "traceback": [
      "\u001b[0;31m---------------------------------------------------------------------------\u001b[0m",
      "\u001b[0;31mStopIteration\u001b[0m                             Traceback (most recent call last)",
      "\u001b[0;32m<ipython-input-35-61c30b5fe1d5>\u001b[0m in \u001b[0;36m<module>\u001b[0;34m\u001b[0m\n\u001b[0;32m----> 1\u001b[0;31m \u001b[0mnext\u001b[0m\u001b[0;34m(\u001b[0m\u001b[0ms\u001b[0m\u001b[0;34m)\u001b[0m\u001b[0;34m\u001b[0m\u001b[0;34m\u001b[0m\u001b[0m\n\u001b[0m",
      "\u001b[0;31mStopIteration\u001b[0m: "
     ]
    }
   ],
   "source": [
    "next(s)\n"
   ]
  },
  {
   "cell_type": "markdown",
   "metadata": {},
   "source": [
    "Connect two linked lists to join the two lists with a simple operation"
   ]
  },
  {
=======
>>>>>>> 9bcb85082bee3521929bbc33123fdb6b165afb33
   "cell_type": "markdown",
   "metadata": {},
   "source": [
    "# More on sending `POST` requests\n",
    "\n",
    "`POST` requests allow us to send data to the server.\n",
    "\n",
    "We can do this in 2 main ways.\n",
    "\n",
    "Query Params - data sent as part of the url (e.g. 127.0.0.1:5000/?query=string&example=None)\n",
    "\n",
    "Body Data - data sent as part of the request body\n",
    "* multipart/form-data - data entered as part of a form but can include mulipart data (video, images, etc)\n",
    "* x-www-form-urlencoded - similar to form data but in text\n",
    "* raw - data sent in a string\n",
    "* binary - data sent in binary (images, videos, etc)\n",
    "\n",
    "\n",
    "\n",
    "\n"
   ]
  },
  {
   "cell_type": "code",
<<<<<<< HEAD
   "execution_count": 3,
   "metadata": {},
   "outputs": [
    {
     "name": "stdout",
     "output_type": "stream",
     "text": [
      "{'args': {'hello': 'world'}, 'data': '', 'files': {}, 'form': {}, 'headers': {'Accept': '*/*', 'Accept-Encoding': 'gzip, deflate', 'Content-Length': '0', 'Content-Type': 'application/x-www-form-urlencoded', 'Host': 'httpbin.org', 'User-Agent': 'python-requests/2.24.0', 'X-Amzn-Trace-Id': 'Root=1-5fbc6745-089b6f351b0319de3a4d5a01'}, 'json': None, 'method': 'POST', 'origin': '108.30.223.122', 'url': 'https://httpbin.org/anything/{anything}?hello=world'}\n"
     ]
    }
   ],
=======
   "execution_count": null,
   "metadata": {},
   "outputs": [],
>>>>>>> 9bcb85082bee3521929bbc33123fdb6b165afb33
   "source": [
    "import requests\n",
    "import json\n",
    "\n",
    "data = {\"hello\":\"world\"}\n",
    "\n",
    "# different header types\n",
    "#headers = {\"Content-Type\":\"text/plain\"} # uses data\n",
<<<<<<< HEAD
    "#headers = {\"Content-Type\":\"multipart/form-data\"} # uses files\n",
    "headers = {\"Content-Type\":\"application/x-www-form-urlencoded\"} # uses data\n",
=======
    "headers = {\"Content-Type\":\"multipart/form-data\"} # uses files\n",
    "#headers = {\"Content-Type\":\"application/x-www-form-urlencoded\"} # uses data\n",
>>>>>>> 9bcb85082bee3521929bbc33123fdb6b165afb33
    "#headers = {\"Content-Type\":\"application/json\"} - uses data\n",
    "\n",
    "# kwargs for body data:\n",
    "# params - used to pass query strings\n",
    "# data - used to pass form data\n",
    "# files - used to pass files\n",
    "r = requests.post(\"https://httpbin.org/anything/{anything}\", params=data, headers=headers)\n",
    "json_dict = json.loads(r.text)\n",
    "print(json_dict)"
   ]
  },
  {
   "cell_type": "markdown",
   "metadata": {},
   "source": [
    "# RESTful APIs\n",
    "\n",
    "What is REST\n",
    "\n",
    "REST is acronym for **RE**presentational **S**tate **T**ransfer. It is architectural style for distributed hypermedia systems and was first presented by Roy Fielding in 2000 in his famous dissertation.\n",
    "\n",
    "There are 6 main principles of REST:\n",
    "\n",
    "**Client–server** – By separating the user interface concerns from the data storage concerns, we improve the portability of the user interface across multiple platforms and improve scalability by simplifying the server components.\n",
    "\n",
    "**Stateless** – Each request from client to server must contain all of the information necessary to understand the request, and cannot take advantage of any stored context on the server. Session state is therefore kept entirely on the client.\n",
    "\n",
    "**Cacheable** – Cache constraints require that the data within a response to a request be implicitly or explicitly labeled as cacheable or non-cacheable. If a response is cacheable, then a client cache is given the right to reuse that response data for later, equivalent requests.\n",
    "\n",
    "**Uniform interface** – By applying the software engineering principle of generality to the component interface, the overall system architecture is simplified and the visibility of interactions is improved. In order to obtain a uniform interface, multiple architectural constraints are needed to guide the behavior of components. REST is defined by four interface constraints: identification of resources; manipulation of resources through representations; self-descriptive messages; and, hypermedia as the engine of application state.\n",
    "\n",
    "**Layered system** – The layered system style allows an architecture to be composed of hierarchical layers by constraining component behavior such that each component cannot “see” beyond the immediate layer with which they are interacting.\n",
    "\n",
    "**Code on demand** (optional) – REST allows client functionality to be extended by downloading and executing code in the form of applets or scripts. This simplifies clients by reducing the number of features required to be pre-implemented."
   ]
  },
  {
   "cell_type": "markdown",
   "metadata": {},
   "source": [
    "### How REST APIs work:\n",
    "\n",
    "REST APIs use HTTP (i.e., HyperText Transfer Protocol, the language of the web) to process data requests. The process is as follows:\n",
    "\n",
    "* The GET request retrieves data from a resource. For example, you’d use a GET request to retrieve a record from a database.\n",
    "* The POST request creates a new resource, such as a new record in a database.\n",
    "* The PUT request updates an existing resource.\n",
    "* The DELETE request deletes a resource.\n",
    "\n",
    "REST APIs can be programmed with a number of languages, including Python, Node.js, and Java.\n",
    "\n",
    "### How to use Rest APIs\n",
    "\n",
    "Besides specifying your data request, working with REST APIs also requires specifying the languages it supports, how responses should be formatted, how to use callback information, if there are API keys involved, and any request limitations.\n",
    "\n",
    "Once you work through those details, here’s what you’ll need to do:\n",
    "\n",
    "1. Find your endpoint: HTTP requests depend on a particular URL, and root endpoints may be formatted differently depending on the API you’re using. You also need to determine the path or the resource you’re requesting, which may involve looking through the API documentation.\n",
    "2. Choose your method: You can use REST APIs to send any of the requests mentioned earlier—GET, POST, PUT, or DELETE—as well as a few others. In all cases, the methods allow you to perform functions like Creating, Reading, Updating, and Deleting, (otherwise known as CRUD).\n",
    "3. Identify your header: If a REST API request is like sending a letter, think of headers as the envelope containing valuable information for the person receiving it. In this case, the header could have details that help explain what will be in the “body” content of the request or, perhaps, important information about authentication and security. Headers can be grouped by their context or how various proxies handle them.\n",
    "4. Determine if you need message data: If your requirements include sending specific information to the server—in POST, PUT, or DELETE requests, for example—this becomes what is sometimes referred to as the “body” of your requests.\n",
    "\n",
    "Much of what happens at this stage will be influenced in part by the platform you use to work with REST APIs, the most common choices being Python and Java.\n",
    "\n",
    "# Format of REST API data\n",
    "\n",
    "REST API's most commonly use JSON as the format for the data. XML and other formats are used as well but for the most part, we'll assume that we use JSON to communicate with REST APIs."
   ]
  },
  {
   "cell_type": "markdown",
   "metadata": {},
   "source": [
    "# Creating a REST API"
   ]
  },
  {
   "cell_type": "code",
<<<<<<< HEAD
   "execution_count": 4,
   "metadata": {},
   "outputs": [
    {
     "name": "stdout",
     "output_type": "stream",
     "text": [
      " * Serving Flask app \"__main__\" (lazy loading)\n",
      " * Environment: production\n",
      "\u001b[31m   WARNING: This is a development server. Do not use it in a production deployment.\u001b[0m\n",
      "\u001b[2m   Use a production WSGI server instead.\u001b[0m\n",
      " * Debug mode: on\n"
     ]
    },
    {
     "name": "stderr",
     "output_type": "stream",
     "text": [
      " * Running on http://127.0.0.1:5000/ (Press CTRL+C to quit)\n",
      " * Restarting with stat\n"
     ]
    },
    {
     "ename": "SystemExit",
     "evalue": "1",
     "output_type": "error",
     "traceback": [
      "An exception has occurred, use %tb to see the full traceback.\n",
      "\u001b[0;31mSystemExit\u001b[0m\u001b[0;31m:\u001b[0m 1\n"
     ]
    },
    {
     "name": "stderr",
     "output_type": "stream",
     "text": [
      "/usr/local/lib/python3.8/site-packages/IPython/core/interactiveshell.py:3327: UserWarning: To exit: use 'exit', 'quit', or Ctrl-D.\n",
      "  warn(\"To exit: use 'exit', 'quit', or Ctrl-D.\", stacklevel=1)\n"
     ]
    }
   ],
   "source": [
    "from flask import Flask, request, jsonify\n",
    "\n",
    "#  \n",
    "\n",
    "\n",
=======
   "execution_count": null,
   "metadata": {},
   "outputs": [],
   "source": [
    "from flask import Flask, request, jsonify\n",
    "\n",
>>>>>>> 9bcb85082bee3521929bbc33123fdb6b165afb33
    "app = Flask(__name__)\n",
    "\n",
    "d = {}\n",
    "\n",
    "@app.route('/', methods=['GET'])\n",
    "def get_records():\n",
    "    return jsonify(d)\n",
    "\n",
    "@app.route('/', methods=['POST'])\n",
    "def create_record():\n",
    "    added = {}\n",
    "    for k,v in request.args.items():\n",
    "        if not k in d.keys():\n",
    "            added[k] = v\n",
    "            d[k] = v\n",
    "    return jsonify({\"added\": added, \"current\": d})\n",
    "\n",
    "@app.route('/', methods=['DELETE'])\n",
    "def delete_record():\n",
    "    deleted = {}\n",
    "    for k,v in request.args.items():\n",
    "        try:\n",
    "            d.pop(k)\n",
    "            deleted[k] = v\n",
    "        except:\n",
    "            continue\n",
    "    return jsonify({\"deleted\": deleted, \"current\": d})\n",
    "                \n",
    "if __name__ == '__main__':\n",
    "    app.run(debug=True)"
   ]
  },
  {
   "cell_type": "markdown",
   "metadata": {},
   "source": [
    "# Using a REST API"
   ]
  },
  {
   "cell_type": "code",
   "execution_count": null,
   "metadata": {},
   "outputs": [],
   "source": [
    "# GET request\n",
    "import requests\n",
    "import json\n",
    "r = requests.get(\"http://127.0.0.1:5000/\")\n",
    "json_resp = json.loads(r.text)\n",
    "json_resp"
   ]
  },
  {
   "cell_type": "code",
   "execution_count": null,
   "metadata": {},
   "outputs": [],
   "source": [
    "# POST request\n",
    "\n",
    "import requests\n",
    "import json\n",
    "data = {\"hello\": \"world\", \"new\": \"entry\", \"json\":\"data\"}\n",
    "headers = {\"Content-Type\": \"application/json\"}\n",
    "r = requests.post(\"http://127.0.0.1:5000/\", params=data, headers=headers)\n",
    "json_resp = json.loads(r.text)\n",
    "json_resp"
   ]
  },
  {
   "cell_type": "code",
   "execution_count": null,
   "metadata": {},
   "outputs": [],
   "source": [
    "# DELETE request\n",
    "import requests\n",
    "import json\n",
    "data = {\"new\": \"entry\"}\n",
    "headers = {\"Content-Type\": \"application/json\"}\n",
    "r = requests.delete(\"http://127.0.0.1:5000/\", params=data, headers=headers)\n",
    "json_resp = json.loads(r.text)\n",
    "json_resp"
   ]
  },
  {
   "cell_type": "markdown",
   "metadata": {},
   "source": [
    "# GraphQL APIs\n",
    "\n",
    "GraphQL is a newer standard similar to REST. It also primarily passes JSON data between client and browser. However, did you notice that our requests/responses are more static than maybe we'd like. \n",
    "\n",
    "Say we had a REST API endpoint that responded with data of this sort:\n",
    "\n",
    "```json\n",
    "{ \n",
    "\"accounting\" : [   \n",
    "    { \"firstName\" : \"John\",  \n",
    "      \"lastName\"  : \"Doe\",\n",
    "      \"age\"       : 23 },\n",
    "\n",
    "    { \"firstName\" : \"Mary\",  \n",
    "      \"lastName\"  : \"Smith\",\n",
    "      \"age\"      : 32 }\n",
    "    ...\n",
    "],                            \n",
    "\"sales\"      : [ \n",
    "    { \"firstName\" : \"Sally\", \n",
    "      \"lastName\"  : \"Green\",\n",
    "      \"age\"      : 27 },\n",
    "\n",
    "    { \"firstName\" : \"Jim\",   \n",
    "      \"lastName\"  : \"Galley\",\n",
    "      \"age\"       : 41 }\n",
    "    ...\n",
    "] \n",
    "} \n",
    "\n",
    "```\n",
    "\n",
    "It might respond with every employee in the company. What if we wanted to build an API that was dynamic. So we could call an endpoint with parameters to only get back the data that we'd like. GraphQL would allow us to query only the employees of \"sales\".\n",
    "\n",
    "This dynamic nature of GraphQL is why it's growing in popularity.\n",
    "\n",
    "REST\n",
    "* multiple endpoints\n",
    "* data structure is controlled by the backend\n",
    "* provides stateless servers and structured access to resources\n",
    "* frontend has no control over how and what the data looks like\n",
    "* structured against the view it serves. This means that the backend is required to create new APIs or adjust existing ones to serve the correct amount and type of data. This can lead to longer time to production and slow down the development process.\n",
    "\n",
    "GraphQL\n",
    "* single endpoints that take in dynamic parameters\n",
    "* allows for more dynamic development once implemented\n",
    "* provides stateless servers and flexible controlled access to resources. While in REST, it’s complete control and the data is given based on what the backend has coded, GraphQL puts controls on what can be accessed but leaves the structure of data to the frontend.\n",
    "* only sends a single request in the body and includes a query that contains all the data requirements. This brings data into the frontend and reduces the amount of workload required on the backend to adjust to the changing needs of data requirements.\n",
    "* the root field will return a data field with all the data you want and in the format you need it\n",
    "* allows for rapid iteration and faster feedback for the business\n"
   ]
  },
  {
   "cell_type": "markdown",
   "metadata": {},
   "source": [
    "# Code Along\n",
    "\n",
    "Setting up our project."
   ]
  },
  {
   "cell_type": "markdown",
   "metadata": {},
   "source": []
  }
 ],
 "metadata": {
  "kernelspec": {
   "display_name": "Python 3",
   "language": "python",
   "name": "python3"
  },
  "language_info": {
   "codemirror_mode": {
    "name": "ipython",
    "version": 3
   },
   "file_extension": ".py",
   "mimetype": "text/x-python",
   "name": "python",
   "nbconvert_exporter": "python",
   "pygments_lexer": "ipython3",
<<<<<<< HEAD
   "version": "3.8.5"
=======
   "version": "3.8.6"
>>>>>>> 9bcb85082bee3521929bbc33123fdb6b165afb33
  }
 },
 "nbformat": 4,
 "nbformat_minor": 4
}
