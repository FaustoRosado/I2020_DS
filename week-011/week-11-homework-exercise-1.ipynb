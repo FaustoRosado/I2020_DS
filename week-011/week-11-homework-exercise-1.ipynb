{
 "cells": [
  {
   "cell_type": "markdown",
   "metadata": {},
   "source": [
    "# Week 11 Homework Part 1"
   ]
  },
  {
   "cell_type": "markdown",
   "metadata": {},
   "source": [
    "# Exercise 1\n",
    "\n",
    "Edit the following cell so only unique numbers are stored in variable `s`"
   ]
  },
  {
   "cell_type": "code",
<<<<<<< HEAD
   "execution_count": 12,
   "metadata": {},
   "outputs": [],
   "source": [
    "s = [9,4,5,6,3,4,7,8,10,22,5,6,9,23]\n",
    "\n",
    "s = list(set(s))\n",
    "s\n",
    "\n",
    "\n",
    "\n",
    "\n",
    "assert(s == [3, 4, 5, 6, 7, 8, 9, 10, 22, 23]) "
=======
   "execution_count": null,
   "metadata": {},
   "outputs": [],
   "source": [
    "s = [9,4,5,6,3,4,,7,8,10,22,5,6,9,23]\n",
    "\n",
    "s = None # replace the \"None\"\n",
    "\n",
    "assert(s == [3, 4, 5, 6, 7, 8, 9, 10, 22, 23])"
>>>>>>> 9bcb85082bee3521929bbc33123fdb6b165afb33
   ]
  },
  {
   "cell_type": "markdown",
   "metadata": {},
   "source": [
    "# Exercise 2\n",
    "\n",
    "Convert the following two lists into a dictionary where the keys are the letters and the values are the corresponding numbers. Assign the dictionary to variable `d`"
   ]
  },
  {
   "cell_type": "code",
<<<<<<< HEAD
   "execution_count": 18,
   "metadata": {},
   "outputs": [
    {
     "name": "stdout",
     "output_type": "stream",
     "text": [
      "309 µs ± 29.9 µs per loop (mean ± std. dev. of 7 runs, 1000 loops each)\n"
     ]
    }
   ],
   "source": [
    "%%timeit\n",
    "\n",
    "import string\n",
    "\n",
    "s = [i for i in string.ascii_letters]\n",
    "j = [i for i in range(1,27)]\n",
    "\n",
    "\n",
    "d = {s[i]: j[i] for i, k in enumerate(s) for i,v in enumerate(j)}\n",
    "#print(d)\n",
    "\n",
    "\n",
    "\n",
    "assert( d == {'a': 1,'b': 2,'c': 3,'d': 4,'e': 5,'f': 6,\n",
    "        'g': 7,'h': 8,'i': 9,'j': 10,'k': 11,'l': 12,\n",
    "        'm': 13,'n': 14,'o': 15,'p': 16,'q': 17,'r': 18,\n",
    "        's': 19,'t': 20,'u': 21,'v': 22,'w': 23,'x': 24,\n",
    "        'y': 25,'z': 26})"
   ]
  },
  {
   "cell_type": "code",
   "execution_count": 19,
   "metadata": {},
   "outputs": [
    {
     "name": "stdout",
     "output_type": "stream",
     "text": [
      "14.7 µs ± 275 ns per loop (mean ± std. dev. of 7 runs, 100000 loops each)\n"
     ]
    }
   ],
   "source": [
    "%%timeit\n",
    "\n",
    "import string\n",
    "\n",
    "s = [i for i in string.ascii_letters]\n",
    "j = [i for i in range(1,27)]\n",
    "\n",
    "d = {k:v for k,v in zip(s,j)}\n",
    "#print(d)\n",
    "\n",
    "\n",
    "\n",
    "assert( d == {'a': 1,'b': 2,'c': 3,'d': 4,'e': 5,'f': 6,\n",
    "        'g': 7,'h': 8,'i': 9,'j': 10,'k': 11,'l': 12,\n",
    "        'm': 13,'n': 14,'o': 15,'p': 16,'q': 17,'r': 18,\n",
    "        's': 19,'t': 20,'u': 21,'v': 22,'w': 23,'x': 24,\n",
    "        'y': 25,'z': 26})"
   ]
  },
  {
   "cell_type": "code",
   "execution_count": 20,
   "metadata": {},
   "outputs": [
    {
     "name": "stdout",
     "output_type": "stream",
     "text": [
      "13.2 µs ± 107 ns per loop (mean ± std. dev. of 7 runs, 100000 loops each)\n"
     ]
    }
   ],
   "source": [
    "%%timeit\n",
    "\n",
    "import string\n",
    "\n",
    "s = [i for i in string.ascii_letters]\n",
    "j = [i for i in range(1,27)]\n",
    "\n",
    "d = dict(zip(s,j))\n",
    "#print(d)\n",
    "\n",
    "assert( d == {'a': 1,'b': 2,'c': 3,'d': 4,'e': 5,'f': 6,\n",
    "        'g': 7,'h': 8,'i': 9,'j': 10,'k': 11,'l': 12,\n",
    "        'm': 13,'n': 14,'o': 15,'p': 16,'q': 17,'r': 18,\n",
    "        's': 19,'t': 20,'u': 21,'v': 22,'w': 23,'x': 24,\n",
    "        'y': 25,'z': 26})"
   ]
  },
  {
   "cell_type": "code",
   "execution_count": 21,
   "metadata": {},
   "outputs": [
    {
     "name": "stdout",
     "output_type": "stream",
     "text": [
      "22.1 µs ± 299 ns per loop (mean ± std. dev. of 7 runs, 10000 loops each)\n"
     ]
    }
   ],
   "source": [
    "%%timeit\n",
    "\n",
=======
   "execution_count": null,
   "metadata": {},
   "outputs": [],
   "source": [
>>>>>>> 9bcb85082bee3521929bbc33123fdb6b165afb33
    "import string\n",
    "\n",
    "s = [i for i in string.ascii_letters]\n",
    "j = [i for i in range(1,27)]\n",
    "\n",
<<<<<<< HEAD
    "\n",
    "d = {}\n",
    "\n",
    "for key in s:\n",
    "    for value in j:\n",
    "        d[key] = value\n",
    "        j.remove(value)\n",
    "        break\n",
    "\n",
    "\n",
=======
    "d = None # replace the \"None\"\n",
>>>>>>> 9bcb85082bee3521929bbc33123fdb6b165afb33
    "\n",
    "assert( d == {'a': 1,'b': 2,'c': 3,'d': 4,'e': 5,'f': 6,\n",
    "        'g': 7,'h': 8,'i': 9,'j': 10,'k': 11,'l': 12,\n",
    "        'm': 13,'n': 14,'o': 15,'p': 16,'q': 17,'r': 18,\n",
    "        's': 19,'t': 20,'u': 21,'v': 22,'w': 23,'x': 24,\n",
    "        'y': 25,'z': 26})"
   ]
  },
  {
<<<<<<< HEAD
   "cell_type": "code",
   "execution_count": null,
   "metadata": {},
   "outputs": [],
   "source": []
  },
  {
=======
>>>>>>> 9bcb85082bee3521929bbc33123fdb6b165afb33
   "cell_type": "markdown",
   "metadata": {},
   "source": [
    "# Exercise 3\n",
    "\n",
    "Switch the values of the following two variables."
   ]
  },
  {
<<<<<<< HEAD
   "cell_type": "markdown",
   "metadata": {},
   "source": [
    "UNPACK TUPLES"
   ]
  },
  {
   "cell_type": "code",
   "execution_count": 22,
   "metadata": {},
   "outputs": [
    {
     "data": {
      "text/plain": [
       "tuple"
      ]
     },
     "execution_count": 22,
     "metadata": {},
     "output_type": "execute_result"
    }
   ],
   "source": [
    "m = 0,1\n",
    "\n",
    "type(m)"
   ]
  },
  {
   "cell_type": "code",
   "execution_count": 25,
   "metadata": {},
   "outputs": [
    {
     "data": {
      "text/plain": [
       "{'a': 1, 'b': 2}"
      ]
     },
     "execution_count": 25,
     "metadata": {},
     "output_type": "execute_result"
    }
   ],
   "source": [
    "m = 0,1\n",
    "\n",
    "{k:v for k,v in [('a', 1), ('b', 2)]}"
   ]
  },
  {
   "cell_type": "code",
   "execution_count": 26,
   "metadata": {},
   "outputs": [
    {
     "data": {
      "text/plain": [
       "(0, 1)"
      ]
     },
     "execution_count": 26,
     "metadata": {},
     "output_type": "execute_result"
    }
   ],
   "source": [
    "s, t = 0, 1\n",
    "\n",
    "s, t "
   ]
  },
  {
   "cell_type": "code",
   "execution_count": 27,
   "metadata": {},
   "outputs": [
    {
     "data": {
      "text/plain": [
       "(1, 0)"
      ]
     },
     "execution_count": 27,
     "metadata": {},
     "output_type": "execute_result"
    }
   ],
   "source": [
    "s, t = 0, 1\n",
    "\n",
    "t, s"
   ]
  },
  {
   "cell_type": "code",
   "execution_count": 23,
   "metadata": {},
   "outputs": [
    {
     "data": {
      "text/plain": [
       "tuple"
      ]
     },
     "execution_count": 23,
     "metadata": {},
     "output_type": "execute_result"
    }
   ],
   "source": [
    "def func():\n",
    "    return 0,1,2,3,4,5\n",
    "\n",
    "s = func()\n",
    "\n",
    "type(s)"
   ]
  },
  {
   "cell_type": "code",
   "execution_count": 24,
   "metadata": {},
   "outputs": [
    {
     "ename": "TypeError",
     "evalue": "'tuple' object does not support item assignment",
     "output_type": "error",
     "traceback": [
      "\u001b[0;31m---------------------------------------------------------------------------\u001b[0m",
      "\u001b[0;31mTypeError\u001b[0m                                 Traceback (most recent call last)",
      "\u001b[0;32m<ipython-input-24-9f548f79295e>\u001b[0m in \u001b[0;36m<module>\u001b[0;34m\u001b[0m\n\u001b[1;32m      5\u001b[0m \u001b[0ms\u001b[0m \u001b[0;34m=\u001b[0m \u001b[0mfunc\u001b[0m\u001b[0;34m(\u001b[0m\u001b[0;34m)\u001b[0m\u001b[0;34m\u001b[0m\u001b[0;34m\u001b[0m\u001b[0m\n\u001b[1;32m      6\u001b[0m \u001b[0;34m\u001b[0m\u001b[0m\n\u001b[0;32m----> 7\u001b[0;31m \u001b[0ms\u001b[0m\u001b[0;34m[\u001b[0m\u001b[0;36m0\u001b[0m\u001b[0;34m]\u001b[0m \u001b[0;34m=\u001b[0m \u001b[0;36m0\u001b[0m\u001b[0;34m\u001b[0m\u001b[0;34m\u001b[0m\u001b[0m\n\u001b[0m",
      "\u001b[0;31mTypeError\u001b[0m: 'tuple' object does not support item assignment"
     ]
    }
   ],
   "source": [
    "# tuple is immutable and list is mutable\n",
    "def func():\n",
    "    return 0,1,2,3,4,5\n",
    "\n",
    "s = func()\n",
    "\n",
    "s[0] = 0"
   ]
  },
  {
   "cell_type": "code",
   "execution_count": 29,
   "metadata": {},
   "outputs": [
    {
     "name": "stdout",
     "output_type": "stream",
     "text": [
      "1\n",
      "0\n"
     ]
    }
   ],
   "source": [
    "s,t = 0, 1\n",
    "# insert solution below this comment\n",
    "s, t = t, s\n",
    "\n",
    "print(s)\n",
    "print(t)\n",
    "\n",
    "assert(s==1)\n",
    "assert(t==0)"
   ]
  },
  {
   "cell_type": "code",
   "execution_count": 30,
   "metadata": {},
   "outputs": [
    {
     "name": "stdout",
     "output_type": "stream",
     "text": [
      "1\n",
      "0\n"
     ]
    }
   ],
   "source": [
    "s,t = 0, 1\n",
    "# insert solution below this comment\n",
    "s, t = 1, 0\n",
    "\n",
    "print(s)\n",
    "print(t)\n",
    "\n",
    "assert(s==1)\n",
    "assert(t==0)"
   ]
  },
  {
   "cell_type": "code",
   "execution_count": null,
   "metadata": {},
   "outputs": [],
   "source": [
    "s,t = 0, 1\n",
    "# insert solution below this comment\n",
    "\n",
    "#my understanding of the code is \n",
    "# s = 0 \n",
    "# t =1 \n",
    "# we want s = 1 and t = 0\n",
    "# in order for this to switch places we need to have a temporary variable that stores these \n",
    "# values\n",
    "\n",
    "# in this case we need our temporary to equal s value \n",
    "temporary = s \n",
    "# s will then equal to t's value\n",
    "s = t \n",
    "# t will then equal temp because it is storing s \n",
    "t = temporary\n",
    "\n",
    "assert(s==1)\n",
    "assert(t==0)"
   ]
  },
  {
=======
>>>>>>> 9bcb85082bee3521929bbc33123fdb6b165afb33
   "cell_type": "code",
   "execution_count": null,
   "metadata": {},
   "outputs": [],
   "source": [
    "s,t = 0, 1\n",
    "# insert solution below this comment\n",
    "\n",
<<<<<<< HEAD
    "l = s,t\n",
    "t = l[0]\n",
    "s = l[1]\n",
    "\n",
    "print(s)\n",
    "print(t)\n",
=======
>>>>>>> 9bcb85082bee3521929bbc33123fdb6b165afb33
    "\n",
    "assert(s==1)\n",
    "assert(t==0)"
   ]
  },
  {
   "cell_type": "code",
   "execution_count": null,
   "metadata": {},
   "outputs": [],
<<<<<<< HEAD
   "source": [
    "s,t = 0,1\n",
    "m= s,t\n",
    "\n",
    "s,t = reversed(m)\n",
    "\n",
    "print(s,t)\n",
    "\n",
    "assert(s==1)\n",
    "assert(t==0)"
   ]
  },
  {
   "cell_type": "code",
   "execution_count": 31,
   "metadata": {},
   "outputs": [
    {
     "data": {
      "text/plain": [
       "[5, 4, 3, 2, 1, 0]"
      ]
     },
     "execution_count": 31,
     "metadata": {},
     "output_type": "execute_result"
    }
   ],
   "source": [
    "s = [0,1,2,3,4,5]\n",
    "s[::-1]"
   ]
  },
  {
   "cell_type": "code",
   "execution_count": null,
   "metadata": {},
   "outputs": [],
=======
>>>>>>> 9bcb85082bee3521929bbc33123fdb6b165afb33
   "source": []
  }
 ],
 "metadata": {
  "kernelspec": {
   "display_name": "Python 3",
   "language": "python",
   "name": "python3"
  },
  "language_info": {
   "codemirror_mode": {
    "name": "ipython",
    "version": 3
   },
   "file_extension": ".py",
   "mimetype": "text/x-python",
   "name": "python",
   "nbconvert_exporter": "python",
   "pygments_lexer": "ipython3",
<<<<<<< HEAD
   "version": "3.8.5"
=======
   "version": "3.8.6"
>>>>>>> 9bcb85082bee3521929bbc33123fdb6b165afb33
  }
 },
 "nbformat": 4,
 "nbformat_minor": 4
}
