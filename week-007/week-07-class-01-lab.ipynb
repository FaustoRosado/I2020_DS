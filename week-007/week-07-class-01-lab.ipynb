{
 "cells": [
  {
   "cell_type": "markdown",
   "metadata": {},
   "source": [
    "<div style=\"background: #000;\n",
    "            color: #FFF;\n",
    "            margin: 0px;\n",
    "                padding: 10px 0px 20px 0px;\n",
    "            text-align: center; \n",
    "                \">\n",
    "    <h1>Lab</h1>\n",
    "</div>\n"
   ]
  },
  {
   "cell_type": "markdown",
   "metadata": {},
   "source": [
    "# HW Exercise 1\n",
    "\n",
    "Create a class called `Course` and a class called `Student` based on what you think they will need. Create a way to store 20 \"students\" (instances of the `Student` class into an instance of `Course` to represent our Data Science course. \n",
    "\n",
    "Demonstrate that your code works. Message on slack if stuck or need clarification."
   ]
  },
  {
   "cell_type": "code",
   "execution_count": 27,
   "metadata": {},
   "outputs": [
    {
     "data": {
      "text/plain": [
       "[Student('1'),\n",
       " Student('2'),\n",
       " Student('3'),\n",
       " Student('4'),\n",
       " Student('5'),\n",
       " Student('6'),\n",
       " Student('7'),\n",
       " Student('8'),\n",
       " Student('9'),\n",
       " Student('10'),\n",
       " Student('11'),\n",
       " Student('12'),\n",
       " Student('13'),\n",
       " Student('14'),\n",
       " Student('15'),\n",
       " Student('16'),\n",
       " Student('17'),\n",
       " Student('18'),\n",
       " Student('19'),\n",
       " Student('20')]"
      ]
     },
     "execution_count": 27,
     "metadata": {},
     "output_type": "execute_result"
    }
   ],
   "source": [
    "class Student:\n",
    "    def __init__(self, name):    \n",
    "        self.name = name    \n",
    "        \n",
    "        \n",
    "    def __repr__(self):\n",
    "        return f\"Student('{self.name}')\"\n",
    "    \n",
    "    def __str__(self):\n",
    "        return f\"<Student instance = name: {self.name}\"\n",
    "\n",
    "class Course:\n",
    "    def __init__(self, *students): \n",
    "        self.roster = list(students)      \n",
    "        \n",
    "        \n",
    "    def add_student(self, student_to_add):  \n",
    "        if isinstance(student_to_add, Student):  \n",
    "            self.roster.append(student_to_add)   \n",
    "            \n",
    "students = [Student(x) for x in range(1,21)]\n",
    "data_science = Course(*students)\n",
    "data_science.roster"
   ]
  },
  {
   "cell_type": "markdown",
   "metadata": {},
   "source": [
    "# Complete previous weeks Labs"
   ]
  },
  {
   "cell_type": "markdown",
   "metadata": {},
   "source": [
    "# Question 1:\n",
    "\n",
    "Give an example of how we could use what we learned today in our python programming."
   ]
  },
  {
   "cell_type": "raw",
   "metadata": {},
   "source": [
    "We could pull data like an email using a http request and loop through it filtering by email format and regex, and write the list to a file to access later."
   ]
  },
  {
   "cell_type": "markdown",
   "metadata": {},
   "source": [
    "# Exercise 1:\n",
    "\n",
    "Create a file called `sample.txt`. Create a function takes one argument that opens the file and writes that argument to it."
   ]
  },
  {
   "cell_type": "code",
   "execution_count": 23,
   "metadata": {},
   "outputs": [],
   "source": [
    "file = open(\"sample.txt\", \"w\") \n",
    "\n",
    "\n",
    "file.write(\"test\")\n",
    "\n",
    "file.close()"
   ]
  },
  {
   "cell_type": "markdown",
   "metadata": {},
   "source": [
    "# Exercise 2:\n",
    "    \n",
    "Create a function that takes an argument and opens the argument as a file and prints the contents.\n",
    "\n",
    "Demonstrate that this works for `sample.txt`"
   ]
  },
  {
   "cell_type": "code",
   "execution_count": 24,
   "metadata": {},
   "outputs": [
    {
     "name": "stdout",
     "output_type": "stream",
     "text": [
      "test\n"
     ]
    }
   ],
   "source": [
    "p = open(\"sample.txt\")\n",
    "print(p.read())"
   ]
  },
  {
   "cell_type": "markdown",
   "metadata": {},
   "source": [
    "# Week 6 Project\n",
    "\n",
    "#### For this project, you'll be using your solution exercise 2 from week-05-class-01-lab.ipynb and the following piece of code:"
   ]
  },
  {
   "cell_type": "code",
   "execution_count": 1,
   "metadata": {},
   "outputs": [
    {
     "data": {
      "text/plain": [
       "(0, 'rock')"
      ]
     },
     "execution_count": 1,
     "metadata": {},
     "output_type": "execute_result"
    }
   ],
   "source": [
    "import random\n",
    "def computers_turn():\n",
    "    choices = {\n",
    "        0: 'rock',\n",
    "        1: 'paper',\n",
    "        2: 'scissors',\n",
    "    }\n",
    "    turn = random.randint(0,2)\n",
    "    return (turn, choices[turn])\n",
    "\n",
    "computers_turn()"
   ]
  },
  {
   "cell_type": "markdown",
   "metadata": {},
   "source": [
    "#### Your solution for exercise 2"
   ]
  },
  {
   "cell_type": "code",
   "execution_count": null,
   "metadata": {},
   "outputs": [],
   "source": [
    "import random\n",
    "\n",
    "def game():\n",
    "    choices = {0:\"rock\", 1:\"paper\", 2:\"scissors\"}\n",
    "    player = int(input(\"Type 0 for rock, 1 for paper or 2 for scissors: \"))\n",
    "    computer = random.randint(0,2)\n",
    "    print(f\"You played {player}\")\n",
    "    print(f\"Computer played {computer}\")\n",
    "    if player == computer:\n",
    "        print(\"It's a tie!\")\n",
    "    elif (player - computer) % 2 == 1:\n",
    "        print(\"Player wins!\")\n",
    "    else:\n",
    "        print(\"Computer wins!\")\n",
    "\n",
    "game()"
   ]
  },
  {
   "cell_type": "markdown",
   "metadata": {},
   "source": [
    "Take your solution to exercise 2 and break it up into two separate functions:\n",
    "\n",
    "`your_turn` -  which takes an input and returns `(turn, choices[turn])` similar to `computers_turn`.\n",
    "\n",
    "`compare_turns` - which takes the two-tuples from `your_turn` and `computers_turn` to declare a winner\n",
    "\n"
   ]
  },
  {
   "cell_type": "code",
   "execution_count": 29,
   "metadata": {},
   "outputs": [
    {
     "data": {
      "text/plain": [
       "(2, 'scissors')"
      ]
     },
     "execution_count": 29,
     "metadata": {},
     "output_type": "execute_result"
    }
   ],
   "source": [
    "def your_turn():\n",
    "    choices = {\n",
    "        0: 'rock',\n",
    "        1: 'paper',\n",
    "        2: 'scissors',\n",
    "    }\n",
    "    turn = random.randint(0,2)\n",
    "    return (turn, choices[turn])\n",
    "\n",
    "your_turn()"
   ]
  },
  {
   "cell_type": "code",
   "execution_count": 4,
   "metadata": {},
   "outputs": [],
   "source": [
    "def compare_turns():\n",
    "    pass"
   ]
  },
  {
   "cell_type": "markdown",
   "metadata": {},
   "source": [
    "Now create a function called `won_round` that calls `computers_turn`, `your_turn` and then `compare_turns` within the function body and then returns True if you won the round, else False."
   ]
  },
  {
   "cell_type": "code",
   "execution_count": 6,
   "metadata": {},
   "outputs": [],
   "source": [
    "def won_round():\n",
    "    pass"
   ]
  },
  {
   "cell_type": "markdown",
   "metadata": {},
   "source": [
    "Create a class using these functions (converting them to methods that take `self`) tha has attributes to store the details of who's won. Create an `__init__` function that takes, at minimum, an argument asking how many rounds to play. Also create a function that displays the details of who won each round. Bonus points for implementing other features.\n",
    "\n",
    "Demonstrate that this class can be used to run games of Rock-Paper-Scissors.\n",
    "\n",
    "When submitting, make sure all of your code from above is in this class declaration below and that the below two cells run without error. Failure to do so will result in points taken off."
   ]
  },
  {
   "cell_type": "code",
   "execution_count": null,
   "metadata": {},
   "outputs": [],
   "source": [
    "class RockPaperScissors:\n",
    "    def __init__(self):\n",
    "        pass\n",
    "    # other methods below\n",
    "    \n",
    "    \n"
   ]
  },
  {
   "cell_type": "markdown",
   "metadata": {},
   "source": [
    "Create an instance of your class below and run a game of 3 rounds. Then output the results\n",
    "\n"
   ]
  }
 ],
 "metadata": {
  "kernelspec": {
   "display_name": "Python 3",
   "language": "python",
   "name": "python3"
  },
  "language_info": {
   "codemirror_mode": {
    "name": "ipython",
    "version": 3
   },
   "file_extension": ".py",
   "mimetype": "text/x-python",
   "name": "python",
   "nbconvert_exporter": "python",
   "pygments_lexer": "ipython3",
   "version": "3.8.5"
  }
 },
 "nbformat": 4,
 "nbformat_minor": 4
}
