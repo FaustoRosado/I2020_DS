{
 "cells": [
  {
   "cell_type": "markdown",
   "metadata": {},
   "source": [
    "# Week 6 + 7 Project\n",
    "\n",
    "#### See Week 6 project for more information."
   ]
  },
  {
   "cell_type": "markdown",
   "metadata": {},
   "source": [
    "Take your class from Week 6 project and create a command line script that runs your rock-paper-scissor game.\n",
    "\n",
    "Fix the following code and put it into your script."
   ]
  },
  {
   "cell_type": "code",
   "execution_count": null,
   "metadata": {},
   "outputs": [],
   "source": [
    "class RockPaperScissor:\n",
    "    def __init__(self, rounds=3):\n",
    "        self.rounds = rounds\n",
    "    \n",
    "    def computers_turn(self):\n",
    "        choices = {\n",
    "            0: 'rock',\n",
    "            1: 'paper',\n",
    "            2: 'scissor'\n",
    "        }\n",
    "        turn = random.randint(0,2)\n",
    "        return (turn, choices[turn])\n",
    "    \n",
    "    def your_turn(self):\n",
    "        pass\n",
    "    \n",
    "    def compare_turns(self):\n",
    "        pass\n",
    "    \n",
    "    def won_round(self):\n",
    "        pass\n",
    "    \n",
    "    def run(self):\n",
    "        print('running RPS:')\n",
    "        pass\n",
    "    \n",
    "if __name__ == '__main__':\n",
    "    rps = RockPaperScissor()\n",
    "    rps.run()"
   ]
  },
  {
   "cell_type": "code",
   "execution_count": null,
   "metadata": {},
   "outputs": [],
   "source": [
    "import random\n",
    "\n",
    "class RockPaperScissor:\n",
    "    def __init__(self, rounds=3):\n",
    "        self.rounds = rounds\n",
    "        \n",
    "    @staticmethod\n",
    "    def welcome():\n",
    "        print(\"Rock, Paper, Scissors\")\n",
    "        \n",
    "    def computers_turn(self):\n",
    "        choices = {\n",
    "            0: 'rock',\n",
    "            1: 'paper',\n",
    "            2: 'scissors'\n",
    "        }\n",
    "        turn = random.randint(0,2)\n",
    "        return (turn, choices[turn])\n",
    "    \n",
    "    def your_turn(self, choice):\n",
    "        if choice not in ['r', 'p', 's']:\n",
    "            raise ValueError(\"Must be r - rock, p - paper, s - scissors\")\n",
    "\n",
    "        choices = {\n",
    "            'r': (0, 'rock'),\n",
    "            'p': (1, 'paper'),\n",
    "            's': (2, 'scissors'),\n",
    "        }    \n",
    "        return choices[choice] \n",
    "\n",
    "    def compare_turns(self,user_choice, computer_choice):\n",
    "        results = {\n",
    "            0: 'tie',\n",
    "            1: 'You win',\n",
    "            2: 'Computer wins, you loose'\n",
    "        }\n",
    "        k = (user_choice[0] - computer_choice[0]) % 3\n",
    "        return results[k]\n",
    "                \n",
    "    def won_round(self):\n",
    "        user_input = input(\"Choose r - rock , p - paper, or s - scissors: \")\n",
    "        computer_choice = self.computers_turn()\n",
    "        print(f\"{computer_choice} is computer choice\")\n",
    "        user_choice = self.your_turn(user_input)\n",
    "        print(f\"{user_choice} is your choice'\")\n",
    "        return self.compare_turns(user_choice, computer_choice)\n",
    "        \n",
    "    def run(self):\n",
    "        RockPaperScissor.welcome()\n",
    "        print('running')\n",
    "        count = int(self.rounds)\n",
    "        while count > 0:\n",
    "            w = self.won_round()\n",
    "            print(w)\n",
    "            count -=1\n",
    "            print(f\"{count} turns left\")\n",
    "           \n",
    "    \n",
    "if __name__ == '__main__':\n",
    "    rps = RockPaperScissor()\n",
    "    rps.run()"
   ]
  },
  {
   "cell_type": "markdown",
   "metadata": {},
   "source": [
    "**hint:** Consider the following cells"
   ]
  },
  {
   "cell_type": "code",
   "execution_count": 1,
   "metadata": {},
   "outputs": [
    {
     "name": "stdout",
     "output_type": "stream",
     "text": [
      "same values are ties: \n",
      "True\n",
      "True\n",
      "True\n",
      "situations where you lose:\n",
      "True\n",
      "True\n",
      "False\n",
      "the three outcomes for any particular choice\n",
      "True\n",
      "True\n"
     ]
    }
   ],
   "source": [
    "rock = 0\n",
    "paper = 1\n",
    "scissor = 2\n",
    "\n",
    "print(\"same values are ties: \")\n",
    "# if the values are the same, it's a tie\n",
    "print(rock == rock)\n",
    "print(paper == paper)\n",
    "print(scissor == scissor)\n",
    "\n",
    "print(\"situations where you lose:\")\n",
    "# if you choose rock and the computer chooses paper\n",
    "print(rock + 1 == paper)\n",
    "# if you choose paper and the computer chooses scissors\n",
    "print(paper + 1 == scissor)\n",
    "# if you choose scissors and the computer chooses rock\n",
    "print(scissor + 1 == rock) # wait, this is False though!\n",
    "\n",
    "# if your opponents choice is not one above yours\n",
    "# or if not the same as yours, the only other option\n",
    "# is the losing option:\n",
    "\n",
    "print(\"the three outcomes for any particular choice\")\n",
    "your_choice = paper # you choose paper\n",
    "print(your_choice == paper) # paper ties with paper\n",
    "print(your_choice + 1 == scissor) # paper loses to scissors\n",
    "# the only other choice option is rock\n",
    "# (remember: your \"opponent\" is a computer that can\n",
    "# only choose from 0,1, and 2)"
   ]
  },
  {
   "cell_type": "markdown",
   "metadata": {},
   "source": [
    "If you notice in the past cell, we have a problem:\n",
    "\n",
    "`scissors + 1 == rock` checks \"2 + 1 == 0\" which is \"3 == 0\" or `False`.\n",
    "\n",
    "But technically 0 is correct. Rock beats scissors. So we need a way that adds 1 to scissors (2) but within our cycle of 0-1-2 so instead of getting 3 which is not in our range, it cycles back around to 0. Then if we added 1 to scissors, we would get 0 (rock).\n",
    "\n",
    "Consider modulos. Try running the following cell.\n",
    "\n"
   ]
  },
  {
   "cell_type": "code",
   "execution_count": 2,
   "metadata": {},
   "outputs": [
    {
     "name": "stdout",
     "output_type": "stream",
     "text": [
      "1\n",
      "2\n",
      "3\n",
      "\n",
      "\n",
      "1\n",
      "2\n",
      "0\n"
     ]
    }
   ],
   "source": [
    "nums = list(range(3))\n",
    "\n",
    "print(nums[0] + 1) \n",
    "print(nums[1] + 1)\n",
    "print(nums[2] + 1)\n",
    "print('\\n')\n",
    "print((nums[0]+1) % 3)\n",
    "print((nums[1]+1) % 3)\n",
    "print((nums[2]+1) % 3)"
   ]
  },
  {
   "cell_type": "code",
   "execution_count": null,
   "metadata": {},
   "outputs": [],
   "source": []
  }
 ],
 "metadata": {
  "kernelspec": {
   "display_name": "Python 3",
   "language": "python",
   "name": "python3"
  },
  "language_info": {
   "codemirror_mode": {
    "name": "ipython",
    "version": 3
   },
   "file_extension": ".py",
   "mimetype": "text/x-python",
   "name": "python",
   "nbconvert_exporter": "python",
   "pygments_lexer": "ipython3",
   "version": "3.8.5"
  }
 },
 "nbformat": 4,
 "nbformat_minor": 4
}
