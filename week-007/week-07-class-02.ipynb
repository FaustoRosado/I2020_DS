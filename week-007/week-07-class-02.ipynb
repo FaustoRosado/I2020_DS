{
 "cells": [
  {
   "cell_type": "markdown",
   "metadata": {},
   "source": [
    "<div style=\"background: #000;\n",
    "            color: #FFF;\n",
    "            margin: 0px;\n",
    "                padding: 10px 0px 20px 0px;\n",
    "            text-align: center; \n",
    "                \">\n",
    "    <h1>Week 7 - Class 2 - 10/27</h1>\n",
    "</div>\n",
    "\n",
    "## Objectives for this week:\n",
    "* Modules in Python\n",
    "* Calling Modules, Exporting Modules\n",
    "* File Structures\n",
    "\n",
    "## Todays Agenda\n",
    "* Homework Presentations\n",
    "* Working on our own Module\n",
    "* Exporting Modules"
   ]
  },
  {
   "cell_type": "markdown",
   "metadata": {},
   "source": [
    "# Homework Presentations"
   ]
  },
  {
   "cell_type": "markdown",
   "metadata": {},
   "source": [
    "# Exercise 2\n",
    "\n",
    "Create a class called `SafeFloat` that stores an attribute called `num` as an instance attribute set during initialization and sets `num_as_float` based on `num`\n",
    "\n",
    "Include the following three methods:\n",
    "\n",
    "`to_float` - that converts `num` to a float and stores that an attribute `num_as_float`. If `num` cannot be converted, set `num_as_float` to `None`. Do on mutate the original `num`, we'd like to keep it.\n",
    "\n",
    "`check_type` - that returns `True` if `num_as_float` is a float. It should create `num_as_float` if it doesn't exist. \n",
    "\n",
    "and a method that overrides the addition operator so that when instances of `SafeFloat` are added, `num_as_float` is used to add. Return the sum of the two instances or return `None` if the two cannot be added.\n",
    "\n",
    "Demonstrate that this works for strings, ints, bools and floats."
   ]
  },
  {
   "cell_type": "code",
   "execution_count": 1,
   "metadata": {},
   "outputs": [
    {
     "name": "stdout",
     "output_type": "stream",
     "text": [
      "24.0\n",
      "None\n",
      "True\n",
      "False\n",
      "None\n"
     ]
    }
   ],
   "source": [
    "class SafeFloat:\n",
    "    def __init__(self, num):\n",
    "        self.num = num\n",
    "        self.to_float() \n",
    "    \n",
    "    def to_float(self):\n",
    "        self.num_as_float = None\n",
    "        if not isinstance(self.num, str):\n",
    "            self.num_as_float = float(self.num)\n",
    "    \n",
    "    def check_type(self):\n",
    "        self.to_float()\n",
    "        if isinstance(self.num_as_float, (float)):\n",
    "            return True\n",
    "        return False\n",
    "    \n",
    "    def __add__(self, other):\n",
    "        if isinstance(other, SafeFloat):\n",
    "            if self.check_type() and other.check_type():\n",
    "            #if self.num_as_float and other.num_as_float:\n",
    "                return self.num_as_float + other.num_as_float\n",
    "            \n",
    "    \n",
    "    # replace pass with your code\n",
    "\n",
    "# test with ints, floats, bools and strings\n",
    "e = SafeFloat(24)\n",
    "f = SafeFloat('string')\n",
    "print(e.num_as_float)\n",
    "print(f.num_as_float)\n",
    "print(e.check_type())\n",
    "print(f.check_type())\n",
    "print(e + f)"
   ]
  },
  {
   "cell_type": "code",
   "execution_count": null,
   "metadata": {},
   "outputs": [],
   "source": []
  },
  {
   "cell_type": "code",
   "execution_count": null,
   "metadata": {},
   "outputs": [],
   "source": [
    "call a method before its defined, python tutor, python sets references "
   ]
  },
  {
   "cell_type": "code",
   "execution_count": 11,
   "metadata": {},
   "outputs": [
    {
     "name": "stdout",
     "output_type": "stream",
     "text": [
      "24.0\n",
      "None\n",
      "True\n",
      "False\n"
     ]
    }
   ],
   "source": [
    "# can set the methid in the init\n",
    "\n",
    "\n",
    "class SafeFloat:\n",
    "    def __init__(self, num):\n",
    "        self.num = num\n",
    "        #self.num_as_float = None\n",
    "        self.to_float()   # passes the instance itslef to the method, here having a methid do it for us\n",
    "        \n",
    "    def to_float(self):           # num as part of the class convert self.num to float, if num as arg\n",
    "        if isinstance(self.num, str):   # want to work on the instance attr num     \n",
    "            self.num_as_float = None\n",
    "        # here have to use the else because not using a return\n",
    "        else:   \n",
    "            self.num_as_float= float(self.num)  # can't convert a string to float, have to worry about string\n",
    "\n",
    "    # how to check if num_of_float is a float\n",
    "    def check_type(self):\n",
    "        self.to_float()     # just calling it, condition that ceeates num_as_float if did not exist\n",
    "        if isinstance(self.num_as_float, float):   # this checks if it is not None\n",
    "            return True\n",
    "        #else: same as using , only way to get there is to return False\n",
    "        return False\n",
    "    \n",
    "    # Want to add another num_as_float as \n",
    "    # Problem have to check if both self.num_as_float and other.num_as_float are floats, check if one is not None\n",
    "    def __add__(self, other):\n",
    "        if isinstance(other, SafeFloat):\n",
    "            if self.check_type() and other.check_type():\n",
    "                #self.num_as_float + other.num_as_float\n",
    "                self.num_as_float + other.num_as_float\n",
    "            \n",
    "# test with ints, floats, bools and strings\n",
    "e = SafeFloat(24)\n",
    "f = SafeFloat('string')\n",
    "\n",
    "#f.to_float()\n",
    "print(e.num_as_float)\n",
    "print(f.num_as_float)\n",
    "print(e.check_type())\n",
    "print(f.check_type())\n",
    "#print(e + f)"
   ]
  },
  {
   "cell_type": "code",
   "execution_count": 10,
   "metadata": {},
   "outputs": [
    {
     "data": {
      "text/plain": [
       "'stringstring'"
      ]
     },
     "execution_count": 10,
     "metadata": {},
     "output_type": "execute_result"
    }
   ],
   "source": [
    "'string' + 'string'  # overloaded to concatenate"
   ]
  },
  {
   "cell_type": "markdown",
   "metadata": {},
   "source": [
    "After test, need these methods to run rest of the code, attr error not finding attribute \n",
    "check_type()"
   ]
  },
  {
   "cell_type": "code",
   "execution_count": null,
   "metadata": {},
   "outputs": [],
   "source": []
  },
  {
   "cell_type": "code",
   "execution_count": null,
   "metadata": {},
   "outputs": [],
   "source": []
  },
  {
   "cell_type": "markdown",
   "metadata": {},
   "source": [
    "Because we know so much Python, we could start nbuilding stuff"
   ]
  },
  {
   "cell_type": "markdown",
   "metadata": {},
   "source": [
    "# Review:"
   ]
  },
  {
   "cell_type": "markdown",
   "metadata": {},
   "source": [
    "Data Types (that we deal with):\n",
    "* `int`\n",
    "* `str`\n",
    "* `bool`\n",
    "* `float`"
   ]
  },
  {
   "cell_type": "markdown",
   "metadata": {},
   "source": [
    "Data Structures (that we deal with):\n",
    "* `list`\n",
    "* `tuple`\n",
    "* `set`\n",
    "* `dict`"
   ]
  },
  {
   "cell_type": "markdown",
   "metadata": {},
   "source": [
    "Control Structures:\n",
    "* `if`/`elif`/`else`\n",
    "* `for`\n",
    "* `while`\n",
    "* `with`"
   ]
  },
  {
   "cell_type": "markdown",
   "metadata": {},
   "source": [
    "### Functions"
   ]
  },
  {
   "cell_type": "code",
   "execution_count": 12,
   "metadata": {},
   "outputs": [
    {
     "name": "stdout",
     "output_type": "stream",
     "text": [
      "hello\n"
     ]
    }
   ],
   "source": [
    "# function with no arguments and no return\n",
    "def example_1():\n",
    "    print(\"hello\")\n",
    "    \n",
    "example_1()"
   ]
  },
  {
   "cell_type": "code",
   "execution_count": 13,
   "metadata": {},
   "outputs": [],
   "source": [
    "def example_1():\n",
    "    pass\n",
    "    \n",
    "\n",
    "s = example_1()\n",
    "\n",
    "s"
   ]
  },
  {
   "cell_type": "code",
   "execution_count": 14,
   "metadata": {},
   "outputs": [
    {
     "data": {
      "text/plain": [
       "1"
      ]
     },
     "execution_count": 14,
     "metadata": {},
     "output_type": "execute_result"
    }
   ],
   "source": [
    "def example_1():\n",
    "    return 1\n",
    "    \n",
    "\n",
    "s = example_1()\n",
    "\n",
    "s"
   ]
  },
  {
   "cell_type": "markdown",
   "metadata": {},
   "source": [
    "def to_float not returning anything, because the function may doing an operation, storing that value\n",
    "itslef to the function body"
   ]
  },
  {
   "cell_type": "code",
   "execution_count": 15,
   "metadata": {},
   "outputs": [
    {
     "name": "stdout",
     "output_type": "stream",
     "text": [
      "string\n"
     ]
    }
   ],
   "source": [
    "# function with 1 argument and 1 return\n",
    "def example_2(arg):\n",
    "    print(arg)\n",
    "    \n",
    "example_2('string')"
   ]
  },
  {
   "cell_type": "code",
   "execution_count": 16,
   "metadata": {},
   "outputs": [
    {
     "data": {
      "text/plain": [
       "'string'"
      ]
     },
     "execution_count": 16,
     "metadata": {},
     "output_type": "execute_result"
    }
   ],
   "source": [
    "\n",
    "def example_2(arg):\n",
    "    return arg\n",
    "    \n",
    "value = example_2('string')\n",
    "value\n"
   ]
  },
  {
   "cell_type": "code",
   "execution_count": 17,
   "metadata": {},
   "outputs": [
    {
     "data": {
      "text/plain": [
       "(3, 4, 5)"
      ]
     },
     "execution_count": 17,
     "metadata": {},
     "output_type": "execute_result"
    }
   ],
   "source": [
    "# function with arbitrary number of arguments and 1 return, will be a TUPLE\n",
    "def example_3(*args):\n",
    "    return args\n",
    "\n",
    "example_3(3,4,5)"
   ]
  },
  {
   "cell_type": "code",
   "execution_count": 18,
   "metadata": {},
   "outputs": [
    {
     "name": "stdout",
     "output_type": "stream",
     "text": [
      "3\n",
      "4\n",
      "5\n"
     ]
    }
   ],
   "source": [
    "def example_3(*args):\n",
    "    for i in args:\n",
    "        print(i)\n",
    "\n",
    "example_3(3,4,5)"
   ]
  },
  {
   "cell_type": "code",
   "execution_count": 19,
   "metadata": {},
   "outputs": [
    {
     "data": {
      "text/plain": [
       "{'a': 1, 'b': 2}"
      ]
     },
     "execution_count": 19,
     "metadata": {},
     "output_type": "execute_result"
    }
   ],
   "source": [
    "# getting dictionary of the kwargs we pass to it\n",
    "\n",
    "def example_4(**kwargs):\n",
    "    return kwargs\n",
    "\n",
    "example_4(a=1, b=2)"
   ]
  },
  {
   "cell_type": "code",
   "execution_count": 20,
   "metadata": {},
   "outputs": [
    {
     "name": "stdout",
     "output_type": "stream",
     "text": [
      "a\n",
      "b\n"
     ]
    }
   ],
   "source": [
    "def example_4(**kwargs):\n",
    "    for k in kwargs.keys():\n",
    "        print(k)\n",
    "\n",
    "example_4(a=1, b=2)"
   ]
  },
  {
   "cell_type": "code",
   "execution_count": 21,
   "metadata": {},
   "outputs": [
    {
     "name": "stdout",
     "output_type": "stream",
     "text": [
      "('a', 1)\n",
      "('b', 2)\n"
     ]
    }
   ],
   "source": [
    "def example_4(**kwargs):\n",
    "    for k in kwargs.items():\n",
    "        print(k)\n",
    "\n",
    "example_4(a=1, b=2)"
   ]
  },
  {
   "cell_type": "code",
   "execution_count": 22,
   "metadata": {},
   "outputs": [
    {
     "data": {
      "text/plain": [
       "(0, 1)"
      ]
     },
     "execution_count": 22,
     "metadata": {},
     "output_type": "execute_result"
    }
   ],
   "source": [
    "# returning 2 vals, always going to be a TUPLE\n",
    "\n",
    "def example_5():\n",
    "    return 0, 1\n",
    "\n",
    "example_5()"
   ]
  },
  {
   "cell_type": "code",
   "execution_count": 24,
   "metadata": {},
   "outputs": [
    {
     "name": "stdout",
     "output_type": "stream",
     "text": [
      "0 1\n"
     ]
    }
   ],
   "source": [
    "def example_5():\n",
    "    return 0, 1\n",
    "\n",
    "a,b = example_5()\n",
    "\n",
    "print(f\"{a} {b}\")"
   ]
  },
  {
   "cell_type": "code",
   "execution_count": 27,
   "metadata": {},
   "outputs": [],
   "source": [
    "def example_6():\n",
    "    pass\n",
    "\n",
    "s = example_6()\n",
    "\n",
    "s"
   ]
  },
  {
   "cell_type": "markdown",
   "metadata": {},
   "source": [
    "### Classes:"
   ]
  },
  {
   "cell_type": "code",
   "execution_count": 28,
   "metadata": {},
   "outputs": [
    {
     "data": {
      "text/plain": [
       "0"
      ]
     },
     "execution_count": 28,
     "metadata": {},
     "output_type": "execute_result"
    }
   ],
   "source": [
    "# instance attribute\n",
    "class Example:\n",
    "    def __init__(self):\n",
    "        self.value = 0\n",
    "        \n",
    "e = Example()\n",
    "e.value\n",
    "#Example.value"
   ]
  },
  {
   "cell_type": "markdown",
   "metadata": {},
   "source": [
    "# Who do you want to own the data, do you want the Class or the Instance to own the data"
   ]
  },
  {
   "cell_type": "code",
   "execution_count": 35,
   "metadata": {},
   "outputs": [
    {
     "data": {
      "text/plain": [
       "5"
      ]
     },
     "execution_count": 35,
     "metadata": {},
     "output_type": "execute_result"
    }
   ],
   "source": [
    "class Example:\n",
    "    def __init__(self, num):\n",
    "        self.value = num\n",
    "        \n",
    "e = Example(5)\n",
    "e.value\n",
    "#Example.value"
   ]
  },
  {
   "cell_type": "code",
   "execution_count": 29,
   "metadata": {},
   "outputs": [
    {
     "ename": "AttributeError",
     "evalue": "type object 'Example' has no attribute 'value'",
     "output_type": "error",
     "traceback": [
      "\u001b[0;31m---------------------------------------------------------------------------\u001b[0m",
      "\u001b[0;31mAttributeError\u001b[0m                            Traceback (most recent call last)",
      "\u001b[0;32m<ipython-input-29-4b578077dc91>\u001b[0m in \u001b[0;36m<module>\u001b[0;34m\u001b[0m\n\u001b[1;32m      5\u001b[0m \u001b[0me\u001b[0m \u001b[0;34m=\u001b[0m \u001b[0mExample\u001b[0m\u001b[0;34m(\u001b[0m\u001b[0;34m)\u001b[0m\u001b[0;34m\u001b[0m\u001b[0;34m\u001b[0m\u001b[0m\n\u001b[1;32m      6\u001b[0m \u001b[0me\u001b[0m\u001b[0;34m.\u001b[0m\u001b[0mvalue\u001b[0m\u001b[0;34m\u001b[0m\u001b[0;34m\u001b[0m\u001b[0m\n\u001b[0;32m----> 7\u001b[0;31m \u001b[0mExample\u001b[0m\u001b[0;34m.\u001b[0m\u001b[0mvalue\u001b[0m\u001b[0;34m\u001b[0m\u001b[0;34m\u001b[0m\u001b[0m\n\u001b[0m",
      "\u001b[0;31mAttributeError\u001b[0m: type object 'Example' has no attribute 'value'"
     ]
    }
   ],
   "source": [
    "class Example:\n",
    "    def __init__(self):\n",
    "        self.value = 0\n",
    "        \n",
    "e = Example()\n",
    "#e.value\n",
    "\n",
    "# instance run when we create using __init__, ran and set value as the attr 0 \n",
    "\n",
    "Example.value"
   ]
  },
  {
   "cell_type": "code",
   "execution_count": 31,
   "metadata": {},
   "outputs": [
    {
     "data": {
      "text/plain": [
       "0"
      ]
     },
     "execution_count": 31,
     "metadata": {},
     "output_type": "execute_result"
    }
   ],
   "source": [
    "# class attribute\n",
    "\n",
    "class Example:\n",
    "    value = 0\n",
    "    \n",
    "e = Example()\n",
    "#e.value\n",
    "Example.value"
   ]
  },
  {
   "cell_type": "code",
   "execution_count": 33,
   "metadata": {},
   "outputs": [
    {
     "data": {
      "text/plain": [
       "6"
      ]
     },
     "execution_count": 33,
     "metadata": {},
     "output_type": "execute_result"
    }
   ],
   "source": [
    "# Here val is created before the instance\n",
    "\n",
    "class Example:\n",
    "    value = 6\n",
    "    \n",
    "e = Example()\n",
    "e.value\n",
    "#Example.value"
   ]
  },
  {
   "cell_type": "code",
   "execution_count": null,
   "metadata": {},
   "outputs": [],
   "source": [
    "class Example:\n",
    "    value = 6\n",
    "    \n",
    "e = Example()\n",
    "#e.value\n",
    "Example.value"
   ]
  },
  {
   "cell_type": "code",
   "execution_count": 42,
   "metadata": {},
   "outputs": [
    {
     "data": {
      "text/plain": [
       "('string', 0)"
      ]
     },
     "execution_count": 42,
     "metadata": {},
     "output_type": "execute_result"
    }
   ],
   "source": [
    "# class attribute `value`\n",
    "# becomes instance attribute\n",
    "\n",
    "class Example:\n",
    "    value = 0\n",
    "    def __init__(self, val):\n",
    "        self.value = val\n",
    "        \n",
    "e = Example(\"string\")\n",
    "e.value, Example.value"
   ]
  },
  {
   "cell_type": "code",
   "execution_count": 41,
   "metadata": {},
   "outputs": [
    {
     "data": {
      "text/plain": [
       "'string'"
      ]
     },
     "execution_count": 41,
     "metadata": {},
     "output_type": "execute_result"
    }
   ],
   "source": [
    "# instance attribute \n",
    "# with default `val`\n",
    "\n",
    "class Example:\n",
    "   \n",
    "    def __init__(self, val=45):\n",
    "        self.value = val\n",
    "        \n",
    "e = Example('string')\n",
    "e.value \n",
    "#Example.value"
   ]
  },
  {
   "cell_type": "code",
   "execution_count": 39,
   "metadata": {},
   "outputs": [
    {
     "data": {
      "text/plain": [
       "('string', 0)"
      ]
     },
     "execution_count": 39,
     "metadata": {},
     "output_type": "execute_result"
    }
   ],
   "source": [
    "\n",
    "\n",
    "class Example:\n",
    "    value = 0\n",
    "    def __init__(self, val=45):\n",
    "        self.value = val\n",
    "        \n",
    "e = Example('string')\n",
    "e.value, Example.value"
   ]
  },
  {
   "cell_type": "code",
   "execution_count": 44,
   "metadata": {},
   "outputs": [
    {
     "ename": "AttributeError",
     "evalue": "type object 'Example' has no attribute 'value'",
     "output_type": "error",
     "traceback": [
      "\u001b[0;31m---------------------------------------------------------------------------\u001b[0m",
      "\u001b[0;31mAttributeError\u001b[0m                            Traceback (most recent call last)",
      "\u001b[0;32m<ipython-input-44-f3a8838bab9a>\u001b[0m in \u001b[0;36m<module>\u001b[0;34m\u001b[0m\n\u001b[1;32m      9\u001b[0m \u001b[0me\u001b[0m \u001b[0;34m=\u001b[0m \u001b[0mExample\u001b[0m\u001b[0;34m(\u001b[0m\u001b[0;36m46\u001b[0m\u001b[0;34m)\u001b[0m\u001b[0;34m\u001b[0m\u001b[0;34m\u001b[0m\u001b[0m\n\u001b[1;32m     10\u001b[0m \u001b[0;31m#e.value\u001b[0m\u001b[0;34m\u001b[0m\u001b[0;34m\u001b[0m\u001b[0;34m\u001b[0m\u001b[0m\n\u001b[0;32m---> 11\u001b[0;31m \u001b[0mExample\u001b[0m\u001b[0;34m.\u001b[0m\u001b[0mvalue\u001b[0m\u001b[0;34m\u001b[0m\u001b[0;34m\u001b[0m\u001b[0m\n\u001b[0m",
      "\u001b[0;31mAttributeError\u001b[0m: type object 'Example' has no attribute 'value'"
     ]
    }
   ],
   "source": [
    "# instance attribute \n",
    "# with default `val`\n",
    "\n",
    "class Example:\n",
    "    #value = 0\n",
    "    def __init__(self, val=45):\n",
    "        self.value = val\n",
    "        \n",
    "e = Example(46)\n",
    "#e.value \n",
    "Example.value"
   ]
  },
  {
   "cell_type": "markdown",
   "metadata": {},
   "source": [
    "# Code along:"
   ]
  },
  {
   "cell_type": "markdown",
   "metadata": {},
   "source": [
    "For Thursday 10/29"
   ]
  },
  {
   "cell_type": "code",
   "execution_count": null,
   "metadata": {},
   "outputs": [],
   "source": [
    "class Ballot:\n",
    "    presidential_choices = {\n",
    "        'A': 'Donald Trump',\n",
    "        'B': 'Joe Biden'\n",
    "    }\n",
    "    \n",
    "    def __init__(self, president=None, governor=None,\n",
    "                 senator=None, congressperson=None):\n",
    "        self.president = president\n",
    "        self.governor = governor\n",
    "        self.senator = senator\n",
    "        self.congressperson = congressperson\n",
    "        \n",
    "    def pick_president(self):\n",
    "        display_choices(presidential_choices)\n",
    "            \n",
    "    def display_choices(self, choices):\n",
    "        for k,v in choices.items():\n",
    "            print(f\"{k}: {v}\")\n",
    "        choice = input(\"Choose A or B\")\n",
    "        \n",
    "    @staticmethod\n",
    "    def print_year():\n",
    "        print(2020)\n",
    "    \n",
    "my_ballot = Ballot()\n",
    "\n",
    "my_ballot.pick_president(\"my dog\")\n",
    "\n",
    "my_ballot.display_choices(my_ballot.presidential_choices)"
   ]
  },
  {
   "cell_type": "markdown",
   "metadata": {},
   "source": [
    "# Library module"
   ]
  },
  {
   "cell_type": "markdown",
   "metadata": {},
   "source": [
    "## Let's create your own `library.py` file\n",
    "\n",
    "### open \"library.py\" in your text editor and then enter the following function:\n",
    "\n",
    "```python\n",
    "    def hello_world():\n",
    "        print(\"hello world\")\n",
    "```"
   ]
  },
  {
   "cell_type": "code",
   "execution_count": 2,
   "metadata": {},
   "outputs": [
    {
     "name": "stdout",
     "output_type": "stream",
     "text": [
      "hello world\n"
     ]
    }
   ],
   "source": [
    "# able to import using the name of the file, in order to access func, attr, classes, \n",
    "# referencing by\n",
    "\n",
    "\n",
    "import library\n",
    "\n",
    "library.hello_world()"
   ]
  },
  {
   "cell_type": "markdown",
   "metadata": {},
   "source": [
    "# Reloading Modules"
   ]
  },
  {
   "cell_type": "code",
   "execution_count": 3,
   "metadata": {},
   "outputs": [],
   "source": [
    "import library"
   ]
  },
  {
   "cell_type": "code",
   "execution_count": 4,
   "metadata": {},
   "outputs": [
    {
     "name": "stdout",
     "output_type": "stream",
     "text": [
      "hello world\n"
     ]
    }
   ],
   "source": [
    "# will update once, change made to the func, hasn't noted the change\n",
    "\n",
    "library.hello_world()"
   ]
  },
  {
   "cell_type": "code",
   "execution_count": 5,
   "metadata": {},
   "outputs": [
    {
     "data": {
      "text/plain": [
       "<module 'library' from '/Users/faustorosado/tkh-ds-2020/I2020_DS/week-007/library.py'>"
      ]
     },
     "execution_count": 5,
     "metadata": {},
     "output_type": "execute_result"
    }
   ],
   "source": [
    "# from the standard library, to reload\n",
    "\n",
    "import importlib\n",
    "\n",
    "importlib.reload(library)"
   ]
  },
  {
   "cell_type": "code",
   "execution_count": 6,
   "metadata": {},
   "outputs": [
    {
     "name": "stdout",
     "output_type": "stream",
     "text": [
      "hello\n"
     ]
    }
   ],
   "source": [
    "library.hello_world()"
   ]
  },
  {
   "cell_type": "markdown",
   "metadata": {},
   "source": [
    "## Executing modules as scripts"
   ]
  },
  {
   "cell_type": "code",
   "execution_count": 9,
   "metadata": {},
   "outputs": [],
   "source": [
    "# function defined in module\n",
    "def func(arg):\n",
    "    return 100 * arg\n"
   ]
  },
  {
   "cell_type": "markdown",
   "metadata": {},
   "source": [
    "Add this to the module file.\n",
    "\n",
    "```python\n",
    "    if __name__ == \"__main__\":\n",
    "        func(100)\n",
    "```"
   ]
  },
  {
   "cell_type": "markdown",
   "metadata": {},
   "source": [
    "Good to have it when calling it as a script, evoking python interpreter"
   ]
  },
  {
   "cell_type": "code",
   "execution_count": 11,
   "metadata": {},
   "outputs": [
    {
     "ename": "AttributeError",
     "evalue": "module 'library' has no attribute 'func'",
     "output_type": "error",
     "traceback": [
      "\u001b[0;31m---------------------------------------------------------------------------\u001b[0m",
      "\u001b[0;31mAttributeError\u001b[0m                            Traceback (most recent call last)",
      "\u001b[0;32m<ipython-input-11-2bf4a18f1724>\u001b[0m in \u001b[0;36m<module>\u001b[0;34m\u001b[0m\n\u001b[1;32m      1\u001b[0m \u001b[0;32mimport\u001b[0m \u001b[0mlibrary\u001b[0m\u001b[0;34m\u001b[0m\u001b[0;34m\u001b[0m\u001b[0m\n\u001b[1;32m      2\u001b[0m \u001b[0;34m\u001b[0m\u001b[0m\n\u001b[0;32m----> 3\u001b[0;31m \u001b[0mlibrary\u001b[0m\u001b[0;34m.\u001b[0m\u001b[0mfunc\u001b[0m\u001b[0;34m(\u001b[0m\u001b[0;36m100\u001b[0m\u001b[0;34m)\u001b[0m\u001b[0;34m\u001b[0m\u001b[0;34m\u001b[0m\u001b[0m\n\u001b[0m",
      "\u001b[0;31mAttributeError\u001b[0m: module 'library' has no attribute 'func'"
     ]
    }
   ],
   "source": [
    "import library\n",
    "\n",
    "library.func(100)"
   ]
  },
  {
   "cell_type": "markdown",
   "metadata": {},
   "source": [
    "In the notebook, when invoke as variable the following:"
   ]
  },
  {
   "cell_type": "code",
   "execution_count": 12,
   "metadata": {},
   "outputs": [
    {
     "data": {
      "text/plain": [
       "'__main__'"
      ]
     },
     "execution_count": 12,
     "metadata": {},
     "output_type": "execute_result"
    }
   ],
   "source": [
    "__name__"
   ]
  },
  {
   "cell_type": "code",
   "execution_count": 13,
   "metadata": {},
   "outputs": [
    {
     "data": {
      "text/plain": [
       "['/usr/local/Cellar/jupyterlab/2.2.8/libexec/lib/python3.8/site-packages/ipykernel_launcher.py',\n",
       " '-f',\n",
       " '/Users/faustorosado/Library/Jupyter/runtime/kernel-fc57c8c5-5959-4bba-9285-b79466bf875f.json']"
      ]
     },
     "execution_count": 13,
     "metadata": {},
     "output_type": "execute_result"
    }
   ],
   "source": [
    "# sys library, info on the sys, and about whatever python code we created\n",
    "\n",
    "import sys\n",
    "\n",
    "sys.argv"
   ]
  },
  {
   "cell_type": "code",
   "execution_count": null,
   "metadata": {},
   "outputs": [],
   "source": [
    "__name__"
   ]
  },
  {
   "cell_type": "markdown",
   "metadata": {},
   "source": [
    "```python\n",
    "    if __name__ == \"__main__\":\n",
    "        import sys\n",
    "        func(sys.argv[0])\n",
    "```"
   ]
  },
  {
   "cell_type": "markdown",
   "metadata": {},
   "source": [
    "# Code Along:\n",
    "\n",
    "How can we make a Guessing Game module."
   ]
  },
  {
   "cell_type": "code",
   "execution_count": null,
   "metadata": {},
   "outputs": [],
   "source": []
  }
 ],
 "metadata": {
  "kernelspec": {
   "display_name": "Python 3",
   "language": "python",
   "name": "python3"
  },
  "language_info": {
   "codemirror_mode": {
    "name": "ipython",
    "version": 3
   },
   "file_extension": ".py",
   "mimetype": "text/x-python",
   "name": "python",
   "nbconvert_exporter": "python",
   "pygments_lexer": "ipython3",
   "version": "3.8.5"
  }
 },
 "nbformat": 4,
 "nbformat_minor": 4
}
