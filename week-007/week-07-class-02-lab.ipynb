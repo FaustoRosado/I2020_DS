{
 "cells": [
  {
   "cell_type": "markdown",
   "metadata": {},
   "source": [
    "<div style=\"background: #000;\n",
    "            color: #FFF;\n",
    "            margin: 0px;\n",
    "                padding: 10px 0px 20px 0px;\n",
    "            text-align: center; \n",
    "                \">\n",
    "    <h1>Week 7 - Class 2 - Lab</h1>\n",
    "</div>\n"
   ]
  },
  {
   "cell_type": "markdown",
   "metadata": {},
   "source": [
    "# Question\n",
    "\n",
    "What is something we could make with the python we know now? Give an example of something and then describe what parts it might need (functions, classes, etc.) that would be necessary in order to get it to work. "
   ]
  },
  {
   "cell_type": "markdown",
   "metadata": {},
   "source": [
    "We could create .py files and run scripts from the terminal, essentially command line\n",
    "programs using python. An example I'm thinking of, always taking a mundane task and setting it to a script. Lets say we want to push files to directories on our computers, like word docs or excel files. "
   ]
  },
  {
   "cell_type": "markdown",
   "metadata": {},
   "source": [
    "# Exercise 1\n",
    "\n",
    "Create a class of your own creation. Use at least 3 attributes and 3 methods (excluding `__init__`). Bonus points if you use other dunder methods."
   ]
  },
  {
   "cell_type": "code",
   "execution_count": null,
   "metadata": {},
   "outputs": [],
   "source": [
    "# without __repr__, in terminal or jupyter, repr is <>, REpr is a label that means there is an instance of the class book at a certain slot of \n",
    "#memory default output\n",
    "#str is how i\n",
    "\n",
    "class Pc:\n",
    "    def __init__(cpu, ram, gpu=False,ssd=None) \n",
    "     time_entered = datetime.datetime.now()):\n",
    "        self.title = title\n",
    "        self.author = author\n",
    "        self.time_entered = time_entered\n",
    "    \n",
    "    #def __repr__(self):                           # FOR THIS class book, custom f\"strng\", this repr is overwrtiig original repr methd\n",
    "        #return f\"{self.title} - {self.author}\"\n",
    "    \n",
    "    def __str__(self):                           # this \n",
    "        return f\"Book-{self}\"\n",
    "    \n",
    "    def __setattr__(self, attr, value):\n",
    "        if type(value) == str:\n",
    "            #self.attr = value.capitalize()\n",
    "            #setattr(self, attr, value)\n",
    "            self.__dict__[attr] = value.title()\n",
    "        else:\n",
    "            self.__dict__[attr] = None\n",
    "    \n",
    "    def __getattr__(self, attr):\n",
    "        if attr not in self.__dict__:\n",
    "            #self.__dict__[attr] = None \n",
    "            #self.attr = None\n",
    "            setattr(self, attr, None)   \n",
    "        else:\n",
    "            return getattr(self, attr)\n",
    "    \n",
    "    def __getitem__(self, key):\n",
    "        return getattr(self,key)\n",
    "    \n",
    "    def __setitem__(self,key, value):\n",
    "        return setattr(self,key,value)\n",
    "    \n",
    "catalog = {\n",
    "    'war and peace': 'leo tolstoy', \n",
    "    '1984': 'george orwell', \n",
    "    'brave new world': 'aldous huxley', \n",
    "    'catch-22': 'joseph heller'\n",
    "}\n",
    "\n",
    "books = [Book(title, author) for title, author in catalog.items()]     # return 2 tuple of key val\n",
    "\n",
    "books[0]['title']"
   ]
  },
  {
   "cell_type": "markdown",
   "metadata": {},
   "source": [
    "Notes:\n",
    "For the following exercises, you will create a file name using the following function and then submit that file with this notebook.\n"
   ]
  },
  {
   "cell_type": "code",
   "execution_count": null,
   "metadata": {},
   "outputs": [],
   "source": [
    "produce_file_name = lambda name: print(f\"{name}-module.py\")   \n",
    "produce_file_name('your_name_here')"
   ]
  },
  {
   "cell_type": "markdown",
   "metadata": {},
   "source": [
    "# Exercise 2\n",
    "\n",
    "Create a module that is a commmand line script similar to our guessing game. Include at least 1 class with the related methods. Submit the `.py` file that runs your script with no errors."
   ]
  },
  {
   "cell_type": "markdown",
   "metadata": {},
   "source": [
    "### If finished, work on Project."
   ]
  },
  {
   "cell_type": "code",
   "execution_count": null,
   "metadata": {},
   "outputs": [],
   "source": []
  }
 ],
 "metadata": {
  "kernelspec": {
   "display_name": "Python 3",
   "language": "python",
   "name": "python3"
  },
  "language_info": {
   "codemirror_mode": {
    "name": "ipython",
    "version": 3
   },
   "file_extension": ".py",
   "mimetype": "text/x-python",
   "name": "python",
   "nbconvert_exporter": "python",
   "pygments_lexer": "ipython3",
   "version": "3.8.5"
  }
 },
 "nbformat": 4,
 "nbformat_minor": 4
}
