{
 "cells": [
  {
   "cell_type": "markdown",
   "metadata": {},
   "source": [
    "<div style=\"background: #000;\n",
    "            color: #FFF;\n",
    "            margin: 0px;\n",
    "                padding: 10px 0px 20px 0px;\n",
    "            text-align: center; \n",
    "                \">\n",
    "    <h1>Week 7 - Class 2 - Lab</h1>\n",
    "</div>\n"
   ]
  },
  {
   "cell_type": "markdown",
   "metadata": {},
   "source": [
    "# Question\n",
    "\n",
    "What is something we could make with the python we know now? Give an example of something and then describe what parts it might need (functions, classes, etc.) that would be necessary in order to get it to work. "
   ]
  },
  {
   "cell_type": "markdown",
   "metadata": {},
   "source": [
    "We could create .py files and run scripts from the terminal, essentially command line\n",
    "programs using python. An example I'm thinking of, always taking a mundane task and setting it to a script. Lets say we want to push files to directories on our computers, like word docs or excel files. "
   ]
  },
  {
   "cell_type": "markdown",
   "metadata": {},
   "source": [
    "# Exercise 1\n",
    "\n",
    "Create a class of your own creation. Use at least 3 attributes and 3 methods (excluding `__init__`). Bonus points if you use other dunder methods."
   ]
  },
  {
   "cell_type": "code",
   "execution_count": 4,
   "metadata": {},
   "outputs": [
    {
     "name": "stdout",
     "output_type": "stream",
     "text": [
      "This is a trapezoid with height of 6 and bases of 4 and 5\n",
      "27.0\n",
      "6\n",
      "4\n",
      "5\n",
      "This is a trapezoid with height of 6 and bases of 4 and 5\n",
      "Trapezoid(height=6, base1=4, base2=5)\n"
     ]
    }
   ],
   "source": [
    "class Trapezoid:\n",
    "    \n",
    "\n",
    "    def __init__(self, height, base1, base2):\n",
    "        self.height = height\n",
    "        self.base1 = base1\n",
    "        self.base2 = base2\n",
    "        \n",
    "    def __str__(self):\n",
    "        return f\"This is a trapezoid with height of {self.height} and bases of {self.base1} and {self.base2}\"\n",
    "    \n",
    "    def __repr__(self):\n",
    "        return \"Trapezoid(height={}, base1={}, base2={})\".format(self.height, self.base1, self.base2)\n",
    "    \n",
    "    def area(self):\n",
    "        return 0.5 * self.height * (self.base1 + self.base2)\n",
    "    \n",
    "\n",
    "t1 = Trapezoid(6, 4, 5)\n",
    "print(t1)\n",
    "print(t1.area())\n",
    "print(t1.height)\n",
    "print(t1.base1)\n",
    "print(t1.base2)\n",
    "print(str(t1))\n",
    "print(repr(t1))"
   ]
  },
  {
   "cell_type": "markdown",
   "metadata": {},
   "source": [
    "Notes:\n",
    "For the following exercises, you will create a file name using the following function and then submit that file with this notebook.\n"
   ]
  },
  {
   "cell_type": "code",
   "execution_count": 6,
   "metadata": {},
   "outputs": [
    {
     "name": "stdout",
     "output_type": "stream",
     "text": [
      "faustorosado-module.py\n"
     ]
    }
   ],
   "source": [
    "produce_file_name = lambda name: print(f\"{name}-module.py\")   \n",
    "produce_file_name('faustorosado')"
   ]
  },
  {
   "cell_type": "markdown",
   "metadata": {},
   "source": [
    "# Exercise 2\n",
    "\n",
    "Create a module that is a commmand line script similar to our guessing game. Include at least 1 class with the related methods. Submit the `.py` file that runs your script with no errors."
   ]
  },
  {
   "cell_type": "markdown",
   "metadata": {},
   "source": [
    "### If finished, work on Project."
   ]
  },
  {
   "cell_type": "code",
   "execution_count": null,
   "metadata": {},
   "outputs": [],
   "source": []
  }
 ],
 "metadata": {
  "kernelspec": {
   "display_name": "Python 3",
   "language": "python",
   "name": "python3"
  },
  "language_info": {
   "codemirror_mode": {
    "name": "ipython",
    "version": 3
   },
   "file_extension": ".py",
   "mimetype": "text/x-python",
   "name": "python",
   "nbconvert_exporter": "python",
   "pygments_lexer": "ipython3",
   "version": "3.8.5"
  }
 },
 "nbformat": 4,
 "nbformat_minor": 4
}
