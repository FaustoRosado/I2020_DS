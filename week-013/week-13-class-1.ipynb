{
 "cells": [
  {
   "cell_type": "markdown",
   "metadata": {},
   "source": [
    "<div style=\"background: #000;\n",
    "            color: #FFF;\n",
    "            margin: 0px;\n",
    "                padding: 10px 0px 20px 0px;\n",
    "            text-align: center; \n",
    "                \">\n",
    "    <h1>Week 13 - Class 1- 12/02</h1>\n",
    "</div>\n",
    "\n",
    "## Objectives for this week:\n",
    "\n",
    "* Integrating models in views\n",
    "* Connecting our database to our API\n",
    "* Deploying our web applications\n",
    "\n",
    "Today's objective:\n",
    "* Deploying our web applications"
   ]
  },
  {
   "cell_type": "markdown",
   "metadata": {},
   "source": [
    "<div style=\"background: #000;\n",
    "            color: #FFF;\n",
    "            margin: 0px;\n",
    "                padding: 10px 0px 20px 0px;\n",
    "            text-align: center; \n",
    "                \">\n",
    "    <h1>Exercises</h1>\n",
    "</div>"
   ]
  },
  {
   "cell_type": "code",
   "execution_count": null,
   "metadata": {},
   "outputs": [],
   "source": []
  },
  {
   "cell_type": "markdown",
   "metadata": {},
   "source": [
    "<div style=\"background: #000;\n",
    "            color: #FFF;\n",
    "            margin: 0px;\n",
    "                padding: 10px 0px 20px 0px;\n",
    "            text-align: center; \n",
    "                \">\n",
    "    <h1>Review</h1>\n",
    "</div>"
   ]
  },
  {
   "cell_type": "code",
   "execution_count": null,
   "metadata": {},
   "outputs": [],
   "source": [
    "import this"
   ]
  },
  {
   "cell_type": "markdown",
   "metadata": {},
   "source": [
    "### Topics for final assessment:\n",
    "\n",
    "### Data Types\n",
    "* Strings\n",
    "* Ints\n",
    "* Floats\n",
    "* Bools\n",
    "\n",
    "To cast between different data types we use:\n",
    "* `int()`\n",
    "* `bool()`\n",
    "* `float()`\n",
    "* `str()`\n",
    "\n"
   ]
  },
  {
   "cell_type": "markdown",
   "metadata": {},
   "source": [
    "### Strings\n",
    "\n",
    "Strings are an immutable data type in python that allow indexing, slicing, len'ing and a set of string methods."
   ]
  },
  {
   "cell_type": "markdown",
   "metadata": {},
   "source": [
    "### Ints \n",
    "\n",
    "Ints are an immutable data type in python that are integers (whole numbers). You can use math operators with them.\n",
    "\n",
    "### Floats \n",
    "\n",
    "Floats are an immuable data type in python that are real numbers (usually containing a decimal and values before/after). You can also use math operators with them.\n",
    "\n",
    "### Bools\n",
    "\n",
    "Bools are a data type in python representing True or False. Usually only True or False but can also be 0 and 1. Python data structures typically evaluate to False when the len of them are 0."
   ]
  },
  {
   "cell_type": "code",
   "execution_count": null,
   "metadata": {},
   "outputs": [],
   "source": []
  },
  {
   "cell_type": "markdown",
   "metadata": {},
   "source": [
    "# Python Collection Data Structures\n",
    "* Lists \n",
    "* Tuples\n",
    "* Sets\n",
    "* Dictionaries\n",
    "\n",
    "### Lists\n",
    "\n",
    "Lists are mutable data structures in python similar to arrays. We can perform a number of operations including adding/removing values (since the structure is mutable). We can `len` a list, index it, slice it and easily cast it to tuples/sets. Casting to a dictionary requires special format (e.g. we turn a list of two-tuples to a dictionary). There are also many list methods we can use to work on a list.\n",
    "\n",
    "### Tuples\n",
    "\n",
    "Tuples are immutable data structures in python. We can perform some operations on them but we cannot add/remove values from a tuple. We can however, pack and unpack tuples in a lot of areas in python (variable packing/unpacking, for loop unpacking, return statements with multiple valuesreturning tuples). We can easily cast tuples to other data structures but again dictionaries require two-tuples.\n",
    "\n",
    "### Dictionaries\n",
    "\n",
    "Dictionaries in python are mutable data structures that act as hash maps (mapping keys to values). Keys must be unique and hashable. There are a number of ways we can cast dictionaries to other data structures in multiple ways but we usually break them up or convert them to do so (e.g. `d.keys()`, `d.values()`, `d.items()`)\n",
    "\n",
    "2-Tuples easiest to work with dictionaries\n",
    "\n",
    "### Sets\n",
    "\n",
    "Sets in python are mutable data structures that allow list type operations (adding/removing). However each element in a set is similar to lists in a dictionary where they must be unique. We can easily cast sets to lists/tuples but like the others, they require some work to cast as dictionaries"
   ]
  },
  {
   "cell_type": "code",
   "execution_count": 8,
   "metadata": {},
   "outputs": [
    {
     "name": "stdout",
     "output_type": "stream",
     "text": [
      "{1: 1, 2: 2, 3: 3, 4: 4}\n",
      "{0: 1, 1: 2, 2: 3, 3: 4}\n"
     ]
    }
   ],
   "source": [
    "s = {1,2,3,4}\n",
    "f = list(s)\n",
    "\n",
    "print({k:v for k,v in zip(s,f)})\n",
    "print({k:v for k,v in enumerate(f)})"
   ]
  },
  {
   "cell_type": "code",
   "execution_count": 1,
   "metadata": {},
   "outputs": [
    {
     "ename": "TypeError",
     "evalue": "unhashable type: 'list'",
     "output_type": "error",
     "traceback": [
      "\u001b[0;31m---------------------------------------------------------------------------\u001b[0m",
      "\u001b[0;31mTypeError\u001b[0m                                 Traceback (most recent call last)",
      "\u001b[0;32m<ipython-input-1-4cbc77848e1b>\u001b[0m in \u001b[0;36m<module>\u001b[0;34m\u001b[0m\n\u001b[1;32m      1\u001b[0m \u001b[0ms\u001b[0m \u001b[0;34m=\u001b[0m \u001b[0;34m[\u001b[0m\u001b[0;36m0\u001b[0m\u001b[0;34m,\u001b[0m\u001b[0;36m1\u001b[0m\u001b[0;34m,\u001b[0m\u001b[0;36m2\u001b[0m\u001b[0;34m]\u001b[0m\u001b[0;34m\u001b[0m\u001b[0;34m\u001b[0m\u001b[0m\n\u001b[1;32m      2\u001b[0m \u001b[0md\u001b[0m \u001b[0;34m=\u001b[0m \u001b[0;34m{\u001b[0m\u001b[0;34m}\u001b[0m\u001b[0;34m\u001b[0m\u001b[0;34m\u001b[0m\u001b[0m\n\u001b[0;32m----> 3\u001b[0;31m \u001b[0md\u001b[0m\u001b[0;34m[\u001b[0m\u001b[0ms\u001b[0m\u001b[0;34m]\u001b[0m \u001b[0;34m=\u001b[0m \u001b[0;36m4\u001b[0m\u001b[0;34m\u001b[0m\u001b[0;34m\u001b[0m\u001b[0m\n\u001b[0m",
      "\u001b[0;31mTypeError\u001b[0m: unhashable type: 'list'"
     ]
    }
   ],
   "source": [
    "s = [0,1,2]\n",
    "d = {}\n",
    "d[s] = 4"
   ]
  },
  {
   "cell_type": "code",
   "execution_count": 2,
   "metadata": {},
   "outputs": [],
   "source": [
    "s = \"asdf\"\n",
    "d = {}\n",
    "d[s] = 4"
   ]
  },
  {
   "cell_type": "code",
   "execution_count": 3,
   "metadata": {},
   "outputs": [
    {
     "ename": "TypeError",
     "evalue": "unhashable type: 'set'",
     "output_type": "error",
     "traceback": [
      "\u001b[0;31m---------------------------------------------------------------------------\u001b[0m",
      "\u001b[0;31mTypeError\u001b[0m                                 Traceback (most recent call last)",
      "\u001b[0;32m<ipython-input-3-0310458af316>\u001b[0m in \u001b[0;36m<module>\u001b[0;34m\u001b[0m\n\u001b[1;32m      1\u001b[0m \u001b[0ms\u001b[0m \u001b[0;34m=\u001b[0m \u001b[0;34m{\u001b[0m\u001b[0;36m0\u001b[0m\u001b[0;34m,\u001b[0m\u001b[0;36m1\u001b[0m\u001b[0;34m,\u001b[0m\u001b[0;36m2\u001b[0m\u001b[0;34m}\u001b[0m\u001b[0;34m\u001b[0m\u001b[0;34m\u001b[0m\u001b[0m\n\u001b[1;32m      2\u001b[0m \u001b[0md\u001b[0m \u001b[0;34m=\u001b[0m \u001b[0;34m{\u001b[0m\u001b[0;34m}\u001b[0m\u001b[0;34m\u001b[0m\u001b[0;34m\u001b[0m\u001b[0m\n\u001b[0;32m----> 3\u001b[0;31m \u001b[0md\u001b[0m\u001b[0;34m[\u001b[0m\u001b[0ms\u001b[0m\u001b[0;34m]\u001b[0m \u001b[0;34m=\u001b[0m \u001b[0;36m4\u001b[0m\u001b[0;34m\u001b[0m\u001b[0;34m\u001b[0m\u001b[0m\n\u001b[0m",
      "\u001b[0;31mTypeError\u001b[0m: unhashable type: 'set'"
     ]
    }
   ],
   "source": [
    "s = {0,1,2}\n",
    "d = {}\n",
    "d[s] = 4"
   ]
  },
  {
   "cell_type": "code",
   "execution_count": 6,
   "metadata": {},
   "outputs": [
    {
     "ename": "TypeError",
     "evalue": "unhashable type: 'list'",
     "output_type": "error",
     "traceback": [
      "\u001b[0;31m---------------------------------------------------------------------------\u001b[0m",
      "\u001b[0;31mTypeError\u001b[0m                                 Traceback (most recent call last)",
      "\u001b[0;32m<ipython-input-6-b06b44233ce0>\u001b[0m in \u001b[0;36m<module>\u001b[0;34m\u001b[0m\n\u001b[1;32m      3\u001b[0m \u001b[0md\u001b[0m\u001b[0;34m[\u001b[0m\u001b[0ms\u001b[0m\u001b[0;34m]\u001b[0m \u001b[0;34m=\u001b[0m \u001b[0;36m4\u001b[0m\u001b[0;34m\u001b[0m\u001b[0;34m\u001b[0m\u001b[0m\n\u001b[1;32m      4\u001b[0m \u001b[0mhash\u001b[0m\u001b[0;34m(\u001b[0m\u001b[0;34m\"sf\"\u001b[0m\u001b[0;34m)\u001b[0m\u001b[0;34m\u001b[0m\u001b[0;34m\u001b[0m\u001b[0m\n\u001b[0;32m----> 5\u001b[0;31m \u001b[0mhash\u001b[0m\u001b[0;34m(\u001b[0m\u001b[0;34m[\u001b[0m\u001b[0;36m3\u001b[0m\u001b[0;34m,\u001b[0m\u001b[0;36m4\u001b[0m\u001b[0;34m]\u001b[0m\u001b[0;34m)\u001b[0m\u001b[0;34m\u001b[0m\u001b[0;34m\u001b[0m\u001b[0m\n\u001b[0m",
      "\u001b[0;31mTypeError\u001b[0m: unhashable type: 'list'"
     ]
    }
   ],
   "source": [
    "s = (1,2)\n",
    "d = {}\n",
    "d[s] = 4\n",
    "hash(\"sf\")\n",
    "hash([3,4])"
   ]
  },
  {
   "cell_type": "markdown",
   "metadata": {},
   "source": [
    "### membership operators (`in`, `not in`)"
   ]
  },
  {
   "cell_type": "code",
   "execution_count": 9,
   "metadata": {},
   "outputs": [
    {
     "data": {
      "text/plain": [
       "True"
      ]
     },
     "execution_count": 9,
     "metadata": {},
     "output_type": "execute_result"
    }
   ],
   "source": [
    "s = [0, 1, 2, 3, 4]\n",
    "\n",
    "# in faster than a loop, more optimized\n",
    "\n",
    "4 in s"
   ]
  },
  {
   "cell_type": "code",
   "execution_count": 10,
   "metadata": {},
   "outputs": [
    {
     "data": {
      "text/plain": [
       "True"
      ]
     },
     "execution_count": 10,
     "metadata": {},
     "output_type": "execute_result"
    }
   ],
   "source": [
    "s = {0: 'a', 1: 'b', 2: 'c', 3: \"d\", 4: 'e'}\n",
    "\n",
    "# in faster than a loop, more optimized\n",
    "\n",
    "4 in s"
   ]
  },
  {
   "cell_type": "code",
   "execution_count": null,
   "metadata": {},
   "outputs": [],
   "source": []
  },
  {
   "cell_type": "code",
   "execution_count": 12,
   "metadata": {},
   "outputs": [
    {
     "name": "stdout",
     "output_type": "stream",
     "text": [
      "True\n",
      "False\n",
      "3\n"
     ]
    }
   ],
   "source": [
    "class E:\n",
    "    s = True\n",
    "    d = False\n",
    "    r = 3\n",
    "\n",
    "f = ['s', 'd', 'r']\n",
    "\n",
    "for i in f:\n",
    "    print(getattr(E, i , False))\n",
    "\n",
    "# becomes useful if have attr, say want to get one"
   ]
  },
  {
   "cell_type": "markdown",
   "metadata": {},
   "source": [
    "# built in methods \n",
    "* `abs` - returns absolute value\n",
    "* `all` - returns True if all elems in iterable are True \n",
    "* `any` - returns True if any elem in iterable is True\n",
    "* `dir` - returns list of attributes/methods of object\n",
    "* `format` - formats string\n",
    "* `input` - gets input from stdin\n",
    "* `getattr(obj, attr, default)` - returns `attr` if obj has it else returns default value\n",
    "* `len` - returns length of object\n",
    "* `max` - returns max value of iterable\n",
    "* `min`, - returns min value of iterable \n",
    "* `ord(char)` - returns ordinal value of char \n",
    "* `pow(x,y)` returns x to y power\n",
    "* `print` - prints to stdout\n",
    "* `range` - returns iterator of sequential values from start (inclusive) to stop (exclusive)\n",
    "* `reversed` - reverses object \n",
    "* `round` - rounds value \n",
    "* `setattr(obj, attr, value)` - sets attr of obj to be value\n",
    "* `sum` - returns sum of iterable\n",
    "* `type` - returns type of object\n",
    "\n",
    "### indexing/slicing\n",
    "\n",
    "Objects we can index/slice:\n",
    "* strings\n",
    "* lists\n",
    "* tuples\n",
    "\n",
    "```python\n",
    "s = [0,1,2,3,4,5]\n",
    "s[:] # creates copy of s\n",
    "s[1:] # returns [1,2,3,4,5]\n",
    "s[3:5] # returns [3,4]\n",
    "s[::2] # returns every 2nd value starting with 0\n",
    "s[:-3] # returns [0,1,2]\n",
    "s[0] # returns 0 index\n",
    "s[-1] # returns last index\n",
    "```"
   ]
  },
  {
   "cell_type": "code",
   "execution_count": 16,
   "metadata": {},
   "outputs": [
    {
     "data": {
      "text/plain": [
       "3"
      ]
     },
     "execution_count": 16,
     "metadata": {},
     "output_type": "execute_result"
    }
   ],
   "source": [
    "s = [0,1,2,3,4,5]\n",
    "s[-3]"
   ]
  },
  {
   "cell_type": "code",
   "execution_count": 15,
   "metadata": {},
   "outputs": [
    {
     "data": {
      "text/plain": [
       "[0, 2, 4]"
      ]
     },
     "execution_count": 15,
     "metadata": {},
     "output_type": "execute_result"
    }
   ],
   "source": [
    "s = [0,1,2,3,4,5]\n",
    "s[::2]"
   ]
  },
  {
   "cell_type": "code",
   "execution_count": 17,
   "metadata": {},
   "outputs": [
    {
     "data": {
      "text/plain": [
       "5"
      ]
     },
     "execution_count": 17,
     "metadata": {},
     "output_type": "execute_result"
    }
   ],
   "source": [
    "# not traditionally a class, but case where to use getattr\n",
    "\n",
    "from collections import namedtuple\n",
    "\n",
    "s = namedtuple('s', 'p q')\n",
    "s.p = 5\n",
    "\n",
    "getattr(s, 'p')"
   ]
  },
  {
   "cell_type": "markdown",
   "metadata": {},
   "source": [
    "# Comprehensions\n",
    "\n",
    "Comprehensions are syntactic sugar meant to allow you to be able to create data structures without lines of looping "
   ]
  },
  {
   "cell_type": "code",
   "execution_count": 21,
   "metadata": {},
   "outputs": [
    {
     "name": "stdout",
     "output_type": "stream",
     "text": [
      "[1, 9, 25, 49, 81]\n"
     ]
    }
   ],
   "source": [
    "# list comprehension\n",
    "\n",
    "s = [i**2 for i in range(10) if i % 2]\n",
    "# is the same as\n",
    "s = []\n",
    "for i in range(10):\n",
    "    if i % 2:\n",
    "        s.append(i**2)\n",
    "        \n",
    "print(s)"
   ]
  },
  {
   "cell_type": "code",
   "execution_count": 22,
   "metadata": {},
   "outputs": [
    {
     "data": {
      "text/plain": [
       "[1, 3, 25, 49, 81]"
      ]
     },
     "execution_count": 22,
     "metadata": {},
     "output_type": "execute_result"
    }
   ],
   "source": [
    "s = [i if i <5 else i**2 for i in range(10) if i % 2]\n",
    "# is the same as\n",
    "s = []\n",
    "for i in range(10):\n",
    "    if i % 2:\n",
    "        s.append(i if i <5 else i**2)\n",
    "        \n",
    "s"
   ]
  },
  {
   "cell_type": "code",
   "execution_count": 29,
   "metadata": {},
   "outputs": [
    {
     "name": "stdout",
     "output_type": "stream",
     "text": [
      "[(0, 3), (0, 4), (0, 5), (1, 3), (1, 4), (1, 5), (2, 3), (2, 4), (2, 5)]\n"
     ]
    },
    {
     "data": {
      "text/plain": [
       "[(0, 3), (0, 4), (0, 5), (1, 3), (1, 4), (1, 5), (2, 3), (2, 4), (2, 5)]"
      ]
     },
     "execution_count": 29,
     "metadata": {},
     "output_type": "execute_result"
    }
   ],
   "source": [
    "# nested for loop\n",
    "\n",
    "t = [(i,j) for i in range(3) for j in range(3,6)]   # left to right in the list comprehension\n",
    "print(t)\n",
    "\n",
    "s = []\n",
    "\n",
    "for i in range(3):      # from top to bottom in nested for loop\n",
    "    for j in range(3,6):\n",
    "        s.append((i,j))\n",
    "        \n",
    "s"
   ]
  },
  {
   "cell_type": "code",
   "execution_count": null,
   "metadata": {},
   "outputs": [],
   "source": [
    "# in list comprehension"
   ]
  },
  {
   "cell_type": "code",
   "execution_count": null,
   "metadata": {},
   "outputs": [],
   "source": [
    "# dictionary comprehension\n",
    "\n",
    "s = {k:v for k,v in [(0,'a'), (2,'b')]}\n",
    "# is the same as\n",
    "s = {}\n",
    "for k,v in [(0,'a'), (1, 'b')]:\n",
    "    s[k] = v   # this is the append part, in dict comprehension will write as k:v in that format"
   ]
  },
  {
   "cell_type": "code",
   "execution_count": 30,
   "metadata": {},
   "outputs": [
    {
     "data": {
      "text/plain": [
       "{0: 5, 1: 5, 2: 5}"
      ]
     },
     "execution_count": 30,
     "metadata": {},
     "output_type": "execute_result"
    }
   ],
   "source": [
    "s = {k:v for k in range(3) for v in range(3,6)}\n",
    "s\n",
    "\n",
    "# same val for all of them, keys are unique will not replace, so only last val set is the last one"
   ]
  },
  {
   "cell_type": "markdown",
   "metadata": {},
   "source": [
    "# python's arithmetic operators \n",
    "`+`, `-`, `*`, `/`, `//`, `%`,`**`"
   ]
  },
  {
   "cell_type": "code",
   "execution_count": null,
   "metadata": {},
   "outputs": [],
   "source": [
    "5 + 2 "
   ]
  },
  {
   "cell_type": "code",
   "execution_count": null,
   "metadata": {},
   "outputs": [],
   "source": [
    "5 - 2"
   ]
  },
  {
   "cell_type": "code",
   "execution_count": 33,
   "metadata": {},
   "outputs": [
    {
     "data": {
      "text/plain": [
       "5"
      ]
     },
     "execution_count": 33,
     "metadata": {},
     "output_type": "execute_result"
    }
   ],
   "source": [
    "5 * 1"
   ]
  },
  {
   "cell_type": "code",
   "execution_count": 31,
   "metadata": {},
   "outputs": [
    {
     "data": {
      "text/plain": [
       "2.5"
      ]
     },
     "execution_count": 31,
     "metadata": {},
     "output_type": "execute_result"
    }
   ],
   "source": [
    "5 / 2"
   ]
  },
  {
   "cell_type": "code",
   "execution_count": 32,
   "metadata": {},
   "outputs": [
    {
     "data": {
      "text/plain": [
       "2"
      ]
     },
     "execution_count": 32,
     "metadata": {},
     "output_type": "execute_result"
    }
   ],
   "source": [
    "5 // 2"
   ]
  },
  {
   "cell_type": "code",
   "execution_count": 34,
   "metadata": {},
   "outputs": [
    {
     "data": {
      "text/plain": [
       "1"
      ]
     },
     "execution_count": 34,
     "metadata": {},
     "output_type": "execute_result"
    }
   ],
   "source": [
    "5 % 2"
   ]
  },
  {
   "cell_type": "code",
   "execution_count": 35,
   "metadata": {},
   "outputs": [
    {
     "data": {
      "text/plain": [
       "25"
      ]
     },
     "execution_count": 35,
     "metadata": {},
     "output_type": "execute_result"
    }
   ],
   "source": [
    "5 ** 2"
   ]
  },
  {
   "cell_type": "markdown",
   "metadata": {},
   "source": [
    "# Python's assignment operators\n",
    "`=`, `+=`, `-=`, `/=`, `//=`, etc."
   ]
  },
  {
   "cell_type": "code",
   "execution_count": 36,
   "metadata": {},
   "outputs": [
    {
     "data": {
      "text/plain": [
       "12"
      ]
     },
     "execution_count": 36,
     "metadata": {},
     "output_type": "execute_result"
    }
   ],
   "source": [
    "s = 9\n",
    "s += 3\n",
    "#s = s + 3\n",
    "s"
   ]
  },
  {
   "cell_type": "code",
   "execution_count": null,
   "metadata": {},
   "outputs": [],
   "source": [
    "s = 9\n",
    "s -= 3\n",
    "# s equal to itself substract 3\n",
    "# s = s -3\n",
    "s"
   ]
  },
  {
   "cell_type": "code",
   "execution_count": 37,
   "metadata": {},
   "outputs": [
    {
     "data": {
      "text/plain": [
       "3.0"
      ]
     },
     "execution_count": 37,
     "metadata": {},
     "output_type": "execute_result"
    }
   ],
   "source": [
    "s = 9\n",
    "s /= 3\n",
    "#s = s / 3\n",
    "s"
   ]
  },
  {
   "cell_type": "code",
   "execution_count": 38,
   "metadata": {},
   "outputs": [
    {
     "data": {
      "text/plain": [
       "3"
      ]
     },
     "execution_count": 38,
     "metadata": {},
     "output_type": "execute_result"
    }
   ],
   "source": [
    "s = 9\n",
    "s //= 3\n",
    "#s = s // 3\n",
    "s"
   ]
  },
  {
   "cell_type": "markdown",
   "metadata": {},
   "source": [
    "# Python's comparison operator\n",
    "`==`, `!=`, `>`, `<`, `>=`, `<=`"
   ]
  },
  {
   "cell_type": "code",
   "execution_count": 39,
   "metadata": {},
   "outputs": [
    {
     "data": {
      "text/plain": [
       "False"
      ]
     },
     "execution_count": 39,
     "metadata": {},
     "output_type": "execute_result"
    }
   ],
   "source": [
    "5 == 3"
   ]
  },
  {
   "cell_type": "code",
   "execution_count": 40,
   "metadata": {},
   "outputs": [
    {
     "data": {
      "text/plain": [
       "True"
      ]
     },
     "execution_count": 40,
     "metadata": {},
     "output_type": "execute_result"
    }
   ],
   "source": [
    "5 != 3"
   ]
  },
  {
   "cell_type": "code",
   "execution_count": 41,
   "metadata": {},
   "outputs": [
    {
     "data": {
      "text/plain": [
       "True"
      ]
     },
     "execution_count": 41,
     "metadata": {},
     "output_type": "execute_result"
    }
   ],
   "source": [
    "5 > 3"
   ]
  },
  {
   "cell_type": "code",
   "execution_count": 42,
   "metadata": {},
   "outputs": [
    {
     "data": {
      "text/plain": [
       "False"
      ]
     },
     "execution_count": 42,
     "metadata": {},
     "output_type": "execute_result"
    }
   ],
   "source": [
    "5 < 3"
   ]
  },
  {
   "cell_type": "code",
   "execution_count": 43,
   "metadata": {},
   "outputs": [
    {
     "data": {
      "text/plain": [
       "True"
      ]
     },
     "execution_count": 43,
     "metadata": {},
     "output_type": "execute_result"
    }
   ],
   "source": [
    "5 >= 3"
   ]
  },
  {
   "cell_type": "code",
   "execution_count": 44,
   "metadata": {},
   "outputs": [
    {
     "data": {
      "text/plain": [
       "False"
      ]
     },
     "execution_count": 44,
     "metadata": {},
     "output_type": "execute_result"
    }
   ],
   "source": [
    "5 <= 3"
   ]
  },
  {
   "cell_type": "markdown",
   "metadata": {},
   "source": [
    "# Python Control Flow/Structures"
   ]
  },
  {
   "cell_type": "markdown",
   "metadata": {},
   "source": [
    "### `if`/`elif`/`else`\n",
    "\n",
    "If statements allow us to have branch execution based on conditionals (meaning code blocks are executed if the conditional statement is True`"
   ]
  },
  {
   "cell_type": "markdown",
   "metadata": {},
   "source": [
    "good when branch execution on conditional"
   ]
  },
  {
   "cell_type": "code",
   "execution_count": 45,
   "metadata": {},
   "outputs": [
    {
     "name": "stdout",
     "output_type": "stream",
     "text": [
      "greater than 3\n"
     ]
    }
   ],
   "source": [
    "x = 4\n",
    "if x > 3:\n",
    "    print(\"greater than 3\")\n",
    "elif x < 3:\n",
    "    print(\"less than 3\")\n",
    "else:\n",
    "    print(\"if neither then execute this\")"
   ]
  },
  {
   "cell_type": "markdown",
   "metadata": {},
   "source": [
    "### `for`\n",
    "\n",
    "For loops let use execute a code block for every element in an iterable/iterator"
   ]
  },
  {
   "cell_type": "code",
   "execution_count": 47,
   "metadata": {},
   "outputs": [
    {
     "name": "stdout",
     "output_type": "stream",
     "text": [
      "0\n",
      "1\n",
      "2\n",
      "3\n",
      "4\n",
      "5\n",
      "done with loop\n",
      "elem is now 5\n"
     ]
    }
   ],
   "source": [
    "# iterable, not such good idea to have variable outside a for loop\n",
    "\n",
    "s = [0,1,2,3,4,5]\n",
    "for elem in s:\n",
    "    print(elem)\n",
    "else:\n",
    "    print(\"done with loop\")\n",
    "    print(f\"elem is now {elem}\")"
   ]
  },
  {
   "cell_type": "code",
   "execution_count": 48,
   "metadata": {},
   "outputs": [
    {
     "name": "stdout",
     "output_type": "stream",
     "text": [
      "0\n",
      "1\n",
      "2\n",
      "3\n",
      "4\n",
      "5\n",
      "6\n",
      "7\n",
      "8\n",
      "9\n",
      "done\n",
      "9\n"
     ]
    }
   ],
   "source": [
    "for i in range(10):\n",
    "    print(i)\n",
    "print(\"done\")\n",
    "print(i)"
   ]
  },
  {
   "cell_type": "markdown",
   "metadata": {},
   "source": [
    "### `while`\n",
    "\n",
    "While loops allow us to execute code blocks as long as a condition is met."
   ]
  },
  {
   "cell_type": "code",
   "execution_count": 49,
   "metadata": {},
   "outputs": [
    {
     "name": "stdout",
     "output_type": "stream",
     "text": [
      "0\n",
      "1\n",
      "2\n",
      "3\n",
      "4\n",
      "5\n",
      "6\n",
      "7\n",
      "8\n",
      "9\n",
      "s is now 10\n"
     ]
    }
   ],
   "source": [
    "# counter\n",
    "\n",
    "s = 0\n",
    "\n",
    "while s < 10:\n",
    "    print(s)\n",
    "    s += 1   # why do we increment s, \n",
    "else:\n",
    "    print(f\"s is now {s}\")"
   ]
  },
  {
   "cell_type": "code",
   "execution_count": 50,
   "metadata": {},
   "outputs": [
    {
     "name": "stdout",
     "output_type": "stream",
     "text": [
      "s is True\n",
      "False\n"
     ]
    }
   ],
   "source": [
    "s = True\n",
    "\n",
    "while s:\n",
    "    print(f\"s is {s}\")\n",
    "    s = False   \n",
    "    \n",
    "    \n",
    "print(s)"
   ]
  },
  {
   "cell_type": "code",
   "execution_count": 51,
   "metadata": {},
   "outputs": [
    {
     "name": "stdout",
     "output_type": "stream",
     "text": [
      "3\n",
      "hello\n"
     ]
    }
   ],
   "source": [
    "s = [3]\n",
    "for i in s:\n",
    "    print(i)\n",
    "else:\n",
    "    print('hello')"
   ]
  },
  {
   "cell_type": "markdown",
   "metadata": {},
   "source": [
    "### `with`\n",
    "\n",
    "With allows us to execute a code block while we have some particular context"
   ]
  },
  {
   "cell_type": "code",
   "execution_count": 52,
   "metadata": {},
   "outputs": [
    {
     "name": "stdout",
     "output_type": "stream",
     "text": [
      "done with that context\n"
     ]
    },
    {
     "ename": "ValueError",
     "evalue": "I/O operation on closed file.",
     "output_type": "error",
     "traceback": [
      "\u001b[0;31m---------------------------------------------------------------------------\u001b[0m",
      "\u001b[0;31mValueError\u001b[0m                                Traceback (most recent call last)",
      "\u001b[0;32m<ipython-input-52-dcac3728650d>\u001b[0m in \u001b[0;36m<module>\u001b[0;34m\u001b[0m\n\u001b[1;32m      7\u001b[0m \u001b[0;34m\u001b[0m\u001b[0m\n\u001b[1;32m      8\u001b[0m \u001b[0mprint\u001b[0m\u001b[0;34m(\u001b[0m\u001b[0;34m\"done with that context\"\u001b[0m\u001b[0;34m)\u001b[0m\u001b[0;34m\u001b[0m\u001b[0;34m\u001b[0m\u001b[0m\n\u001b[0;32m----> 9\u001b[0;31m \u001b[0mfile\u001b[0m\u001b[0;34m.\u001b[0m\u001b[0mwrite\u001b[0m\u001b[0;34m(\u001b[0m\u001b[0;34m\"some stuff\"\u001b[0m\u001b[0;34m)\u001b[0m\u001b[0;34m\u001b[0m\u001b[0;34m\u001b[0m\u001b[0m\n\u001b[0m",
      "\u001b[0;31mValueError\u001b[0m: I/O operation on closed file."
     ]
    }
   ],
   "source": [
    "# helps manage the context\n",
    "\n",
    "with open(\"file.txt\", \"w\") as file:\n",
    "    file.write(\"some stuff\")\n",
    "    \n",
    "# done with the context, closes the file    \n",
    "    \n",
    "print(\"done with that context\")\n",
    "file.write(\"some stuff\")"
   ]
  },
  {
   "cell_type": "markdown",
   "metadata": {},
   "source": [
    "### `try`/`except`\n",
    "\n",
    "Try/Except allows us to try a code block and catch an exception if one is thrown"
   ]
  },
  {
   "cell_type": "code",
   "execution_count": 53,
   "metadata": {},
   "outputs": [
    {
     "name": "stdout",
     "output_type": "stream",
     "text": [
      "list index out of range\n",
      "s doesn't have a index of 2\n",
      "run this after\n"
     ]
    }
   ],
   "source": [
    "# with assignments recently, similar to else statement with the for loop\n",
    "\n",
    "s = [0]\n",
    "\n",
    "try:\n",
    "    s[2]\n",
    "except Exception as e:\n",
    "    print(e)\n",
    "    print(\"s doesn't have a index of 2\")\n",
    "finally:\n",
    "    print(\"run this after\")"
   ]
  },
  {
   "cell_type": "markdown",
   "metadata": {},
   "source": [
    "### `pass`/`break`/`continue`\n",
    "\n",
    "`pass` allows us to pass on executing a required code block"
   ]
  },
  {
   "cell_type": "code",
   "execution_count": null,
   "metadata": {},
   "outputs": [],
   "source": [
    "def func():\n",
    "    # requires a code block, fill space of code block when we dont have one\n",
    "    pass\n",
    "\n",
    "print(\"no error\")"
   ]
  },
  {
   "cell_type": "markdown",
   "metadata": {},
   "source": [
    "`break` allows us to break out of a loop"
   ]
  },
  {
   "cell_type": "code",
   "execution_count": 55,
   "metadata": {},
   "outputs": [
    {
     "name": "stdout",
     "output_type": "stream",
     "text": [
      "0\n",
      "1\n",
      "2\n",
      "3\n",
      "4\n"
     ]
    }
   ],
   "source": [
    "# break will stop the execution of the loop, not really to be used in for loop, useful to break out of the loop entirely\n",
    "\n",
    "for i in range(10):\n",
    "    print(i)\n",
    "    if i > 3:\n",
    "        break"
   ]
  },
  {
   "cell_type": "markdown",
   "metadata": {},
   "source": [
    "`continue` allows you to skip a code block and continue looping"
   ]
  },
  {
   "cell_type": "code",
   "execution_count": 56,
   "metadata": {},
   "outputs": [
    {
     "name": "stdout",
     "output_type": "stream",
     "text": [
      "0\n",
      "1\n",
      "2\n",
      "3\n",
      "4\n",
      "6\n",
      "7\n",
      "8\n",
      "9\n"
     ]
    }
   ],
   "source": [
    "# continue allows to skip and keep looping\n",
    "\n",
    "for i in range(10):\n",
    "    if i == 5:\n",
    "        continue\n",
    "    print(i)"
   ]
  },
  {
   "cell_type": "markdown",
   "metadata": {},
   "source": [
    "# And, Or, Not"
   ]
  },
  {
   "cell_type": "markdown",
   "metadata": {},
   "source": [
    "`and` connects two conditionals using traditional logic"
   ]
  },
  {
   "cell_type": "code",
   "execution_count": 57,
   "metadata": {},
   "outputs": [
    {
     "name": "stdout",
     "output_type": "stream",
     "text": [
      "hello\n"
     ]
    }
   ],
   "source": [
    "# short circuits\n",
    "\n",
    "d = 4\n",
    "e = 5\n",
    "\n",
    "d != e and print(\"hello\")\n",
    "\n",
    "\n",
    "# where does and "
   ]
  },
  {
   "cell_type": "markdown",
   "metadata": {},
   "source": [
    "`or` connects two conditionals using traditional logic"
   ]
  },
  {
   "cell_type": "code",
   "execution_count": 60,
   "metadata": {},
   "outputs": [
    {
     "data": {
      "text/plain": [
       "True"
      ]
     },
     "execution_count": 60,
     "metadata": {},
     "output_type": "execute_result"
    }
   ],
   "source": [
    "# of one side is True\n",
    "\n",
    "d = 4\n",
    "e = 5\n",
    "\n",
    "d != e or print(\"hello\")\n",
    "\n",
    "\n",
    "# why True, python ignores the rest, statement is True on left side, short circuits and does not continue"
   ]
  },
  {
   "cell_type": "code",
   "execution_count": 62,
   "metadata": {},
   "outputs": [
    {
     "name": "stdout",
     "output_type": "stream",
     "text": [
      "hello\n"
     ]
    }
   ],
   "source": [
    "d = 4\n",
    "e = 5\n",
    "\n",
    "d == e or print(\"hello\")"
   ]
  },
  {
   "cell_type": "markdown",
   "metadata": {},
   "source": [
    "# Ternary Operators\n",
    "\n",
    "allow us to use if/else in a single statement"
   ]
  },
  {
   "cell_type": "code",
   "execution_count": null,
   "metadata": {},
   "outputs": [],
   "source": [
    "# Not a control structure, cannot have an if/elif in this\n",
    "# bsically saying 5 greater than 3 set to True\n",
    "s = True if 5 > 3 else False\n",
    "s"
   ]
  },
  {
   "cell_type": "markdown",
   "metadata": {},
   "source": [
    "<div style=\"background: #000;\n",
    "            color: #FFF;\n",
    "            margin: 0px;\n",
    "                padding: 10px 0px 20px 0px;\n",
    "            text-align: center; \n",
    "                \">\n",
    "    <h1>Lab</h1>\n",
    "</div>"
   ]
  },
  {
   "cell_type": "markdown",
   "metadata": {},
   "source": [
    "\n",
    "# Preparing our application for deployment.\n",
    "\n"
   ]
  },
  {
   "cell_type": "markdown",
   "metadata": {},
   "source": [
    "1. Create your virtual env and set it up.\n",
    "2. Freeze your dependencies\n",
    "3. Set up .gitignore\n",
    "4. commit to your git repo\n",
    "\n",
    "### Creating your env\n",
    "In your project folder:  \n",
    "1.`python -m venv env`   \n",
    "2.`source env/bin/activate`  \n",
    "3. `pip install` all your dependencies (including `gunicorn`)\n",
    "\n",
    "### Freeze your dependencies\n",
    "\n",
    "`pip freeze > requirements.txt`\n",
    "\n",
    "### Set up .gitignore\n",
    "\n",
    "In your project folder, create a file called `.gitignore`.\n",
    "\n",
    "sample .gitignore:\n",
    "```\n",
    "# General\n",
    ".DS_Store\n",
    "\n",
    "# Environments\n",
    ".env\n",
    ".venv\n",
    "env/\n",
    "venv/\n",
    "ENV/\n",
    "\n",
    "# Python\n",
    "*.pyc\n",
    "\n",
    "# Jupyter Notebook\n",
    ".ipynb_checkpoints\n",
    "```\n",
    "\n",
    "python full example: https://github.com/github/gitignore/blob/master/Python.gitignore\n",
    "\n",
    "full repo of examples https://github.com/github/gitignore\n",
    "\n",
    "### Commit to your git repo\n"
   ]
  },
  {
   "cell_type": "markdown",
   "metadata": {},
   "source": [
    "# Deployment\n",
    "\n",
    "## Deploying to Heroku\n",
    "\n",
    "1. Sign up for heroku and log in.\n",
    "2. Create a `Procfile` and `runtime.txt` and commit them.\n",
    "3. Push to heroku either by using the heroku cli or by adding your github account to heroku and setting the repo through the web interface.\n",
    "\n",
    "### Creating a `Procfile` \n",
    "\n",
    "In order to run our application properly Heroku requires a special file that tells it what to do.\n",
    "\n",
    "For our project we'll need the following:\n",
    "\n",
    "```\n",
    "release: ./import-script.py\n",
    "worker: gunicorn -w 4 app:app\n",
    "\n",
    "```\n",
    "\n",
    "### Creating a `runtime.txt`\n",
    "\n",
    "This tells heroku which python version to use.\n",
    "\n",
    "example runtime.txt\n",
    "\n",
    "```\n",
    "python-3.8.6\n",
    "```\n",
    "\n",
    "### Pushing to heroku\n",
    "\n",
    "You'll either need to do `git push heroku master` (if you've installed the heroku cli) or `git push origin master` (if you've connected the git repo to heroku).\n",
    "\n",
    "### Check your url\n",
    "\n",
    "Visit `https://{your-project-name}.herokuapp.com/`"
   ]
  },
  {
   "cell_type": "markdown",
   "metadata": {},
   "source": [
    "## Deploying to PythonAnywhere\n",
    "\n",
    "1. Sign up for an account and log in.\n",
    "2. Open up the bash console and clone your git repo into that folder.\n",
    "3. Set up a virtualenv\n",
    "4. Set up web app and create your wsgi file on PythonAnywhere.\n",
    "\n",
    "\n",
    "### Setting up a virtualenv on PythonAnywhere\n",
    "\n",
    "In your bash console run:\n",
    "```\n",
    "mkvirtualenv --python=/usr/bin/python3.8.6 venv \n",
    "# or whichever version you prefer\n",
    "\n",
    "workon venv\n",
    "```\n",
    "\n",
    "You should see the `(venv)` we expect when a virtual env is active.\n",
    "\n",
    "Once you're in the virtual env, run:\n",
    "```\n",
    "pip install -r requirements.txt\n",
    "```\n",
    "\n",
    "### Setting up web app on pythonanywhere\n",
    "\n",
    "Go to the web app tab and click `Add a new web app`. Follow the steps to set it up selecting the right framework, version, and path. Your path will be the path to the folder your project is in on pythonanywhere.\n",
    "\n",
    "Python anywhere requires a WSGI file to be configured. You can find the link to it under the web tab. Change the file so it imports correctly (finding your project's app).\n",
    "\n",
    "example:\n",
    "```\n",
    "# This file contains the WSGI configuration required to serve up your\n",
    "# web application at http://<your-username>.pythonanywhere.com/\n",
    "# It works by setting the variable 'application' to a WSGI handler of some\n",
    "# description.\n",
    "#\n",
    "# The below has been auto-generated for your Flask project\n",
    "\n",
    "import sys\n",
    "\n",
    "# add your project directory to the sys.path\n",
    "project_home = '/home/username/mysite'\n",
    "if project_home not in sys.path:\n",
    "    sys.path = [project_home] + sys.path\n",
    "\n",
    "# import flask app but need to call it \"application\" for WSGI to work\n",
    "from flask_app import app as application  # noqa\n",
    "```\n",
    "fix the last line since `flask_app` probably won't be your project.\n",
    "\n",
    "Go to your link (which will be on the web tab)."
   ]
  }
 ],
 "metadata": {
  "kernelspec": {
   "display_name": "Python 3",
   "language": "python",
   "name": "python3"
  },
  "language_info": {
   "codemirror_mode": {
    "name": "ipython",
    "version": 3
   },
   "file_extension": ".py",
   "mimetype": "text/x-python",
   "name": "python",
   "nbconvert_exporter": "python",
   "pygments_lexer": "ipython3",
   "version": "3.8.5"
  }
 },
 "nbformat": 4,
 "nbformat_minor": 4
}
