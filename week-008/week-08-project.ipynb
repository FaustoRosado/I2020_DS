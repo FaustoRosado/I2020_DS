{
 "cells": [
  {
   "cell_type": "markdown",
   "metadata": {},
   "source": [
    "<div style=\"background: #000;\n",
    "            color: #FFF;\n",
    "            margin: 0px;\n",
    "                padding: 10px 0px 20px 0px;\n",
    "            text-align: center; \n",
    "                \">\n",
    "    <h1>Week 8 - Project</h1>\n",
    "</div>"
   ]
  },
  {
   "cell_type": "markdown",
   "metadata": {},
   "source": [
    "#### Write a python script that:  \n",
    "- scrapes the following webpage:  \n",
    "https://en.wikipedia.org/wiki/Template:COVID-19_pandemic_data    \n",
    "- parses the html for the table of covid data  \n",
    "- fills missing values with `None`   \n",
    "- calculates the death and recovery rate for each  country   \n",
    "- writes the data in csv format to a file called:`{your-name}-covid-report.csv`\n",
    "\n",
    "Your csv file should contain the following \"header\" (and corresponding data):\n",
    "\n",
    "```csv\n",
    "country,cases,deaths,recoveries,death_rate,recovery_rate\n",
    "\n",
    "```\n",
    "\n",
    "Please ask for clarification if needed.\n"
   ]
  },
  {
   "cell_type": "markdown",
   "metadata": {},
   "source": [
    "Use if statements or try/except for empty values, rate for the ones that are None will give None\n",
    "use script so that if numbers change, create new file using "
   ]
  },
  {
   "cell_type": "code",
   "execution_count": 13,
   "metadata": {},
   "outputs": [],
   "source": [
    "import requests\n",
    "import csv\n",
    "from bs4 import BeautifulSoup\n",
    "\n",
    "#response = requests.get(\"https://en.wikipedia.org/wiki/COVID-19_pandemic\")\n",
    "\n",
    "#soup = BeautifulSoup(response.text)\n",
    "#soup.prettify()"
   ]
  },
  {
   "cell_type": "code",
   "execution_count": 14,
   "metadata": {},
   "outputs": [],
   "source": [
    "#print(soup.title.text)"
   ]
  },
  {
   "cell_type": "code",
   "execution_count": 15,
   "metadata": {},
   "outputs": [],
   "source": [
    "#table = soup.find('table', attrs={\"class\" : \"wikitable\"})\n"
   ]
  },
  {
   "cell_type": "code",
   "execution_count": 71,
   "metadata": {},
   "outputs": [],
   "source": [
    "url = \"https://en.wikipedia.org/wiki/Template:COVID-19_pandemic_data\"\n",
    "def CovidData(url):\n",
    "    response = requests.get(url)\n",
    "    soup = BeautifulSoup(response.text)\n",
    "    trs = soup.find('tbody').findAll('tr')[2:236]\n",
    "    #thd_list = []\n",
    "    \n",
    "    \n",
    "    country = []\n",
    "    cases = []\n",
    "    deaths = []\n",
    "    recoveries = []\n",
    "    death_rate = []\n",
    "    recovery_rate = []\n",
    "    \n",
    "    for tr in trs:\n",
    "        #country.append(tr.find_all(\"th\")[1].find('a').text) \n",
    "        \n",
    "        country.append(tr.find_all(\"th\", attrs = {'scope' : 'row'})[1].find('a').text)\n",
    "         \n",
    "        tds = tr.find_all('td')\n",
    "        if t_td .get_text().replace(\"\\n\", \"\") == \"No data\":\n",
    "        cases.append(tds[0].text.replace(\"\\n\", \"\").strip())\n",
    "        deaths.append(tds[1].text.replace(\"\\n\", \"\").strip())\n",
    "        recoveries.append(tds[2].text.replace(\"\\n\", \"\").strip())\n",
    "        \n",
    "        \n",
    "        \n",
    "        \n",
    "        \n",
    "        \n",
    "        d_rate = int(tds[0]) / float(int(tds[1])) *100\n",
    "        print(d_rate)\n",
    "        #death_rate.append(d_rate)\n",
    "\n",
    "#         t_header = row.findAll('th')[1:]\n",
    "#         t_data = row.findAll('td')[:-1]\n",
    "#         thd_row = []\n",
    "#         thd_row.append(t_header.text.replace('[', \"\").strip()\n",
    "#         for td in t_data:\n",
    "#             text_td = td.text.strip()\n",
    "#             text_td = \"\".join(text_td.split(',')\n",
    "#             if text_td == \"No data\":\n",
    "#                 text_td = None\n",
    "#             elif '.' in text_td:\n",
    "    return cases\n",
    "                \n",
    "            \n",
    "            \n",
    "       \n",
    "    "
   ]
  },
  {
   "cell_type": "code",
   "execution_count": 72,
   "metadata": {},
   "outputs": [
    {
     "ename": "TypeError",
     "evalue": "int() argument must be a string, a bytes-like object or a number, not 'Tag'",
     "output_type": "error",
     "traceback": [
      "\u001b[0;31m---------------------------------------------------------------------------\u001b[0m",
      "\u001b[0;31mTypeError\u001b[0m                                 Traceback (most recent call last)",
      "\u001b[0;32m<ipython-input-72-b8c809a328de>\u001b[0m in \u001b[0;36m<module>\u001b[0;34m\u001b[0m\n\u001b[0;32m----> 1\u001b[0;31m \u001b[0mCovidData\u001b[0m\u001b[0;34m(\u001b[0m\u001b[0murl\u001b[0m\u001b[0;34m)\u001b[0m\u001b[0;34m\u001b[0m\u001b[0;34m\u001b[0m\u001b[0m\n\u001b[0m",
      "\u001b[0;32m<ipython-input-71-644a07313a33>\u001b[0m in \u001b[0;36mCovidData\u001b[0;34m(url)\u001b[0m\n\u001b[1;32m     28\u001b[0m \u001b[0;34m\u001b[0m\u001b[0m\n\u001b[1;32m     29\u001b[0m \u001b[0;34m\u001b[0m\u001b[0m\n\u001b[0;32m---> 30\u001b[0;31m         \u001b[0md_rate\u001b[0m \u001b[0;34m=\u001b[0m \u001b[0mint\u001b[0m\u001b[0;34m(\u001b[0m\u001b[0mtds\u001b[0m\u001b[0;34m[\u001b[0m\u001b[0;36m0\u001b[0m\u001b[0;34m]\u001b[0m\u001b[0;34m)\u001b[0m \u001b[0;34m/\u001b[0m \u001b[0mfloat\u001b[0m\u001b[0;34m(\u001b[0m\u001b[0mint\u001b[0m\u001b[0;34m(\u001b[0m\u001b[0mtds\u001b[0m\u001b[0;34m[\u001b[0m\u001b[0;36m1\u001b[0m\u001b[0;34m]\u001b[0m\u001b[0;34m)\u001b[0m\u001b[0;34m)\u001b[0m \u001b[0;34m*\u001b[0m\u001b[0;36m100\u001b[0m\u001b[0;34m\u001b[0m\u001b[0;34m\u001b[0m\u001b[0m\n\u001b[0m\u001b[1;32m     31\u001b[0m         \u001b[0mprint\u001b[0m\u001b[0;34m(\u001b[0m\u001b[0md_rate\u001b[0m\u001b[0;34m)\u001b[0m\u001b[0;34m\u001b[0m\u001b[0;34m\u001b[0m\u001b[0m\n\u001b[1;32m     32\u001b[0m         \u001b[0;31m#death_rate.append(d_rate)\u001b[0m\u001b[0;34m\u001b[0m\u001b[0;34m\u001b[0m\u001b[0;34m\u001b[0m\u001b[0m\n",
      "\u001b[0;31mTypeError\u001b[0m: int() argument must be a string, a bytes-like object or a number, not 'Tag'"
     ]
    }
   ],
   "source": [
    "CovidData(url)"
   ]
  },
  {
   "cell_type": "code",
   "execution_count": null,
   "metadata": {},
   "outputs": [],
   "source": [
    "\n"
   ]
  },
  {
   "cell_type": "code",
   "execution_count": null,
   "metadata": {},
   "outputs": [],
   "source": []
  }
 ],
 "metadata": {
  "kernelspec": {
   "display_name": "Python 3",
   "language": "python",
   "name": "python3"
  },
  "language_info": {
   "codemirror_mode": {
    "name": "ipython",
    "version": 3
   },
   "file_extension": ".py",
   "mimetype": "text/x-python",
   "name": "python",
   "nbconvert_exporter": "python",
   "pygments_lexer": "ipython3",
   "version": "3.8.5"
  }
 },
 "nbformat": 4,
 "nbformat_minor": 4
}
