{
 "cells": [
  {
   "cell_type": "markdown",
   "metadata": {},
   "source": [
    "<div style=\"background: #000;\n",
    "            color: #FFF;\n",
    "            margin: 0px;\n",
    "                padding: 10px 0px 20px 0px;\n",
    "            text-align: center; \n",
    "                \">\n",
    "    <h1>Week 8 Homework</h1>\n",
    "</div>"
   ]
  },
  {
   "cell_type": "markdown",
   "metadata": {},
   "source": [
    "# Exercise 2:\n",
    "\n",
    "Given an int `n`, create a function that creates an `n` x `n` matrix containing increasing integers starting with 1 and write the matrix into a csv file. \n",
    "\n",
    "\n",
    "#### Example:\n",
    "```    \n",
    "Input: 1\n",
    "Output: output.csv\n",
    "```\n",
    "The `output.csv` file should contain:\n",
    "```\n",
    "1\n",
    "```\n",
    "#### Example:\n",
    "```    \n",
    "Input: 2\n",
    "Output: output.csv\n",
    "```\n",
    "The `output.csv` file should contain:\n",
    "\n",
    "```\n",
    "1,2\n",
    "3,4\n",
    "```\n",
    "\n",
    "\n",
    "#### Example:\n",
    "```    \n",
    "Input: 3\n",
    "Output: output.csv\n",
    "```\n",
    "The `output.csv` file should contain:\n",
    "\n",
    "```\n",
    "1,2,3\n",
    "4,5,6\n",
    "7,8,9\n",
    "```"
   ]
  },
  {
   "cell_type": "code",
   "execution_count": 5,
   "metadata": {},
   "outputs": [
    {
     "ename": "NameError",
     "evalue": "name 'count' is not defined",
     "output_type": "error",
     "traceback": [
      "\u001b[0;31m---------------------------------------------------------------------------\u001b[0m",
      "\u001b[0;31mNameError\u001b[0m                                 Traceback (most recent call last)",
      "\u001b[0;32m<ipython-input-5-196300cfa4b7>\u001b[0m in \u001b[0;36m<module>\u001b[0;34m\u001b[0m\n\u001b[1;32m     23\u001b[0m     \u001b[0;32mreturn\u001b[0m \u001b[0mnew_list\u001b[0m\u001b[0;34m\u001b[0m\u001b[0;34m\u001b[0m\u001b[0m\n\u001b[1;32m     24\u001b[0m \u001b[0;34m\u001b[0m\u001b[0m\n\u001b[0;32m---> 25\u001b[0;31m \u001b[0mmatrix_nbyn\u001b[0m\u001b[0;34m(\u001b[0m\u001b[0;36m5\u001b[0m\u001b[0;34m)\u001b[0m\u001b[0;34m\u001b[0m\u001b[0;34m\u001b[0m\u001b[0m\n\u001b[0m",
      "\u001b[0;32m<ipython-input-5-196300cfa4b7>\u001b[0m in \u001b[0;36mmatrix_nbyn\u001b[0;34m(n)\u001b[0m\n\u001b[1;32m     18\u001b[0m         \u001b[0mrow\u001b[0m \u001b[0;34m=\u001b[0m \u001b[0;34m[\u001b[0m\u001b[0;34m]\u001b[0m\u001b[0;34m\u001b[0m\u001b[0;34m\u001b[0m\u001b[0m\n\u001b[1;32m     19\u001b[0m         \u001b[0;32mfor\u001b[0m \u001b[0mj\u001b[0m \u001b[0;32min\u001b[0m \u001b[0mrange\u001b[0m\u001b[0;34m(\u001b[0m\u001b[0mn\u001b[0m\u001b[0;34m)\u001b[0m\u001b[0;34m:\u001b[0m\u001b[0;34m\u001b[0m\u001b[0;34m\u001b[0m\u001b[0m\n\u001b[0;32m---> 20\u001b[0;31m             \u001b[0mrow\u001b[0m\u001b[0;34m.\u001b[0m\u001b[0mappend\u001b[0m\u001b[0;34m(\u001b[0m\u001b[0mcount\u001b[0m\u001b[0;34m)\u001b[0m\u001b[0;34m\u001b[0m\u001b[0;34m\u001b[0m\u001b[0m\n\u001b[0m\u001b[1;32m     21\u001b[0m             \u001b[0mstart\u001b[0m \u001b[0;34m+=\u001b[0m \u001b[0;36m1\u001b[0m\u001b[0;34m\u001b[0m\u001b[0;34m\u001b[0m\u001b[0m\n\u001b[1;32m     22\u001b[0m         \u001b[0mnew_list\u001b[0m\u001b[0;34m.\u001b[0m\u001b[0mappend\u001b[0m\u001b[0;34m(\u001b[0m\u001b[0mrow\u001b[0m\u001b[0;34m)\u001b[0m\u001b[0;34m\u001b[0m\u001b[0;34m\u001b[0m\u001b[0m\n",
      "\u001b[0;31mNameError\u001b[0m: name 'count' is not defined"
     ]
    }
   ],
   "source": [
    "def matrix_nbyn(n):\n",
    "    #columns,rows = [n,n]\n",
    "    #mat = [[n for i in range(n)]] * rows\n",
    "    #return mat\n",
    "    \n",
    "    #row = (range(1, n + 1, n))\n",
    "    #nxt = (range(1, n + 1, n))\n",
    "    \n",
    "    #return list(row[i:] + row[:i] for i in nxt)\n",
    "    \n",
    "    \n",
    "    #mat = [[int(n) for x in range(n)] for i in range(n)]\n",
    "    #return mat\n",
    "    \n",
    "    new_list = []\n",
    "    start = 1\n",
    "    for i in range(n):\n",
    "        row = []\n",
    "        for j in range(n):\n",
    "            row.append(count)\n",
    "            start += 1\n",
    "        new_list.append(row)\n",
    "    return new_list\n",
    "    \n",
    "matrix_nbyn(5)\n"
   ]
  },
  {
   "cell_type": "code",
   "execution_count": 7,
   "metadata": {},
   "outputs": [],
   "source": [
    "import csv\n",
    "\n",
    "# complete the following code:\n",
    "def matrix_to_csv(n):\n",
    "    matrix = matrix_nbyn(n)\n",
    "    with open('output.csv', 'w') as filename:\n",
    "        writefile = csv.writer(filename)\n",
    "        for row in matrix:\n",
    "            writefile.writerow(row)\n",
    "    return  \n",
    "\n",
    "matrix_to_csv(5)"
   ]
  },
  {
   "cell_type": "code",
   "execution_count": 11,
   "metadata": {},
   "outputs": [
    {
     "data": {
      "text/plain": [
       "[['5', '5', '5', '5', '5'],\n",
       " ['5', '5', '5', '5', '5'],\n",
       " ['5', '5', '5', '5', '5'],\n",
       " ['5', '5', '5', '5', '5'],\n",
       " ['5', '5', '5', '5', '5']]"
      ]
     },
     "execution_count": 11,
     "metadata": {},
     "output_type": "execute_result"
    }
   ],
   "source": [
    "infile = open(\"output.csv\", \"r\")\n",
    "data = csv.reader(infile, delimiter=',') \n",
    "list_of_data = [line for line in data]\n",
    "list_of_data[0:]"
   ]
  },
  {
   "cell_type": "code",
   "execution_count": null,
   "metadata": {},
   "outputs": [],
   "source": []
  }
 ],
 "metadata": {
  "kernelspec": {
   "display_name": "Python 3",
   "language": "python",
   "name": "python3"
  },
  "language_info": {
   "codemirror_mode": {
    "name": "ipython",
    "version": 3
   },
   "file_extension": ".py",
   "mimetype": "text/x-python",
   "name": "python",
   "nbconvert_exporter": "python",
   "pygments_lexer": "ipython3",
   "version": "3.8.5"
  }
 },
 "nbformat": 4,
 "nbformat_minor": 4
}
