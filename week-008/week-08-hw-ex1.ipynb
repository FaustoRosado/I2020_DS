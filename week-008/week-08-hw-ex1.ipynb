{
 "cells": [
  {
   "cell_type": "markdown",
   "metadata": {},
   "source": [
    "<div style=\"background: #000;\n",
    "            color: #FFF;\n",
    "            margin: 0px;\n",
    "                padding: 10px 0px 20px 0px;\n",
    "            text-align: center; \n",
    "                \">\n",
    "    <h1>Week 8 Homework</h1>\n",
    "</div>"
   ]
  },
  {
   "cell_type": "markdown",
   "metadata": {},
   "source": [
    "# Exercise 1:\n",
    "\n",
    "Fix the following code:"
   ]
  },
  {
   "cell_type": "code",
   "execution_count": null,
   "metadata": {},
   "outputs": [],
<<<<<<< HEAD
   "source": []
  },
  {
   "cell_type": "code",
   "execution_count": 8,
   "metadata": {},
   "outputs": [
    {
     "name": "stdout",
     "output_type": "stream",
     "text": [
      "THE KNOWLEDGE HOUSE\n",
      "Connection:keep-alive \n",
      "Server:gunicorn/19.9.0 \n",
      "Date:Mon, 09 Nov 2020 22:53:38 GMT \n",
      "X-Frame-Options:SAMEORIGIN \n",
      "Content-Length:89280 \n",
      "Content-Type:text/html; charset=utf-8 \n",
      "Via:1.1 vegur \n",
      "\n"
     ]
    }
   ],
   "source": [
    "import requests\n",
    "from bs4 import BeautifulSoup                                              \n",
    "\n",
    "class Scraper:\n",
    "    def __init__(self, url):\n",
    "        self.url = url\n",
    "        #self.scrape()\n",
    "        \n",
    "    def do_request(self):\n",
    "        r = requests.get(self.url)\n",
    "        self.headers = r.headers\n",
    "        self.text = r.text\n",
    "    \n",
    "    def set_soup(self):\n",
    "        self.soup = BeautifulSoup(self.text)\n",
    "        return self.soup\n",
    "        \n",
    "    def scrape(self):\n",
    "        self.do_request()\n",
    "        self.set_soup()\n",
    "\n",
    "    @property\n",
    "    def title(self):\n",
    "        self.scrape()\n",
    "        return self.soup.find('title').contents[0]\n",
    "        #return title.text\n",
    "        \"\"\"\n",
    "        this function is meant to:\n",
    "          - return the title of the \n",
    "            page (without the tags)\n",
    "        \"\"\"\n",
    "    \n",
    "    \n",
    "    @property\n",
    "    def header(self):\n",
    "        self.scrape()\n",
    "        headers_list = ''\n",
    "        #print('\\n')\n",
    "        #[key + value + \" \" for key,value in self.headers.items()]\n",
    "        for k,v in self.headers.items():\n",
    "            headers_list += f\"{k}:{v} \\n\"\n",
    "            #print(f\"{k}:{v}\")\n",
    "        #return [key + value for key,value in self.headers.items()]\n",
    "        \n",
    "        return headers_list\n",
    "        \"\"\"\n",
    "        this function is meant to:\n",
    "          - access the header of the page\n",
    "          - print the headers in a human\n",
    "            readable format\n",
    "        \"\"\"\n",
    "        \n",
    "\n",
    "# DO NOT change the following code.\n",
    "# Your changes to the code above should allow\n",
    "# the code below to work without error.\n",
    "# hint: @\n",
    "s = Scraper('http://www.theknowledgehouse.org')\n",
    "print(s.title)\n",
    "print(s.header)"
   ]
  },
  {
   "cell_type": "markdown",
   "metadata": {},
   "source": [
    "` The difference putting the self.scrape() in the __init__ vs. in the decorators, w/o \n",
    "you won't have the data unless you call one of the methods `"
   ]
  },
  {
   "cell_type": "code",
   "execution_count": 6,
   "metadata": {},
   "outputs": [
    {
     "name": "stdout",
     "output_type": "stream",
     "text": [
      "THE KNOWLEDGE HOUSE\n",
      "['Connectionkeep-alive', 'Servergunicorn/19.9.0', 'DateMon, 09 Nov 2020 22:04:10 GMT', 'X-Frame-OptionsSAMEORIGIN', 'Content-Length89280', 'Content-Typetext/html; charset=utf-8', 'Via1.1 vegur']\n"
     ]
    }
   ],
=======
>>>>>>> 9bcb85082bee3521929bbc33123fdb6b165afb33
   "source": [
    "import requests\n",
    "from bs4 import BeautifulSoup                                              \n",
    "\n",
    "class Scraper:\n",
    "    def __init__(self, url):\n",
    "        self.url = url\n",
<<<<<<< HEAD
    "        self.scrape()\n",
=======
>>>>>>> 9bcb85082bee3521929bbc33123fdb6b165afb33
    "        \n",
    "    def do_request(self):\n",
    "        r = requests.get(self.url)\n",
    "        self.headers = r.headers\n",
    "        self.text = r.text\n",
    "    \n",
    "    def set_soup(self):\n",
    "        self.soup = BeautifulSoup(self.text)\n",
<<<<<<< HEAD
    "        return self.soup\n",
=======
>>>>>>> 9bcb85082bee3521929bbc33123fdb6b165afb33
    "        \n",
    "    def scrape(self):\n",
    "        self.do_request()\n",
    "        self.set_soup()\n",
    "\n",
<<<<<<< HEAD
    "    @property\n",
    "    def title(self):\n",
    "        title = self.soup.find('title')\n",
    "        return title.text\n",
=======
    "    def title(self):\n",
>>>>>>> 9bcb85082bee3521929bbc33123fdb6b165afb33
    "        \"\"\"\n",
    "        this function is meant to:\n",
    "          - return the title of the \n",
    "            page (without the tags)\n",
    "        \"\"\"\n",
<<<<<<< HEAD
    "    \n",
    "    \n",
    "    @property\n",
    "    def header(self):\n",
    "        #[key + value + \" \" for key,value in self.headers.items()]\n",
    "        return [key + value for key,value in self.headers.items()]\n",
=======
    "        pass\n",
    "    \n",
    "    def header(self):\n",
>>>>>>> 9bcb85082bee3521929bbc33123fdb6b165afb33
    "        \"\"\"\n",
    "        this function is meant to:\n",
    "          - access the header of the page\n",
    "          - print the headers in a human\n",
    "            readable format\n",
    "        \"\"\"\n",
<<<<<<< HEAD
    "        \n",
=======
    "        pass\n",
>>>>>>> 9bcb85082bee3521929bbc33123fdb6b165afb33
    "\n",
    "# DO NOT change the following code.\n",
    "# Your changes to the code above should allow\n",
    "# the code below to work without error.\n",
    "# hint: @\n",
    "s = Scraper('http://www.theknowledgehouse.org')\n",
    "print(s.title)\n",
    "print(s.header)"
   ]
<<<<<<< HEAD
  },
  {
   "cell_type": "code",
   "execution_count": null,
   "metadata": {},
   "outputs": [],
   "source": []
=======
>>>>>>> 9bcb85082bee3521929bbc33123fdb6b165afb33
  }
 ],
 "metadata": {
  "kernelspec": {
   "display_name": "Python 3",
   "language": "python",
   "name": "python3"
  },
  "language_info": {
   "codemirror_mode": {
    "name": "ipython",
    "version": 3
   },
   "file_extension": ".py",
   "mimetype": "text/x-python",
   "name": "python",
   "nbconvert_exporter": "python",
   "pygments_lexer": "ipython3",
<<<<<<< HEAD
   "version": "3.8.5"
=======
   "version": "3.8.6"
>>>>>>> 9bcb85082bee3521929bbc33123fdb6b165afb33
  }
 },
 "nbformat": 4,
 "nbformat_minor": 4
}
