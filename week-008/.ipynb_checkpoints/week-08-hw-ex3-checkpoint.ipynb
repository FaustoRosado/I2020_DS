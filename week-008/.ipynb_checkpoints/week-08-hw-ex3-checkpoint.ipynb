{
 "cells": [
  {
   "cell_type": "markdown",
   "metadata": {},
   "source": [
    "<div style=\"background: #000;\n",
    "            color: #FFF;\n",
    "            margin: 0px;\n",
    "                padding: 10px 0px 20px 0px;\n",
    "            text-align: center; \n",
    "                \">\n",
    "    <h1>Week 8 Homework</h1>\n",
    "</div>"
   ]
  },
  {
   "cell_type": "markdown",
   "metadata": {},
   "source": [
    "# Exercise 3:\n",
    "\n",
    "Given a string s containing just the characters `'('`, `')'`, `'{'`, `'}'`, `'['` and `']'`, determine if the input string is valid.\n",
    "\n",
    "An input string is valid if:\n",
    "* Open brackets must be closed by the same type of brackets.\n",
    "* Open brackets must be closed in the correct order.\n",
    "\n",
    "test cases:\n",
    "```\n",
    "Input: s = \"()\"\n",
    "Output: True\n",
    "\n",
    "Input: s = \"()[]{}\"\n",
    "Output: True\n",
    "\n",
    "Input: s = \"(]\"\n",
    "Output: False\n",
    "\n",
    "Input: s = \"([)]\"\n",
    "Output: False\n",
    "\n",
    "Input: s = \"{[]}\"\n",
    "Output: True\n",
    "```"
   ]
  },
  {
   "cell_type": "markdown",
   "metadata": {},
   "source": [
    "`FIFO can be a solution, use print statements`"
   ]
  },
  {
   "cell_type": "markdown",
   "metadata": {},
   "source": [
    "err on the side of doing as simple as possible - bonus considered an interview question"
   ]
  },
  {
   "cell_type": "code",
   "execution_count": 52,
   "metadata": {},
   "outputs": [
    {
     "name": "stdout",
     "output_type": "stream",
     "text": [
      "solution is correct\n"
     ]
    }
   ],
   "source": [
    "# complete the following function:\n",
    "def check_string(input):\n",
    "    fi = []\n",
    "    for char in input:\n",
    "        if char == \"(\" or char == \"[\" or char == '{':\n",
    "        #if char in [\"(\", \"[\", \"{\"]:\n",
    "            fi.append(char)\n",
    "        else:\n",
    "            #if not fi:\n",
    "                #return False\n",
    "            \n",
    "            fo = fi.pop()\n",
    "        \n",
    "            \n",
    "            #if fo == '(' and char != ')' or \\\n",
    "                #fo == '[' and char != ']' or \\\n",
    "                #fo == '{' and char != '}':\n",
    "                \n",
    "            #if char == '(' and fo == '(' or \\\n",
    "                #char == '[' and fo == '[' or \\\n",
    "                #char == '{' and fo == '{':\n",
    "            \n",
    "            \n",
    "            if char != ')' and fo == '(' or \\\n",
    "                char != ']' and fo == '[' or \\\n",
    "                char != '}' and fo == '{':\n",
    "                return False\n",
    "            \n",
    "    return True\n",
    "    \n",
    "                \n",
    "        \n",
    "\n",
    "\n",
    "# run the cell with the following code\n",
    "# to test your solution\n",
    "try:\n",
    "    assert(check_string(\"()\") == True)\n",
    "    assert(check_string(\"()[]{}\") == True)\n",
    "    assert(check_string(\"(]\") == False)\n",
    "    \n",
    "    # bonus points:\n",
    "    # get this test case to work\n",
    "    assert(check_string(\"([)]\") == False)\n",
    "    assert(check_string(\"{[]}\") == True)\n",
    "    print(\"solution is correct\")\n",
    "except AssertionError:\n",
    "    print(\"solution is incorrect\")\n",
    "    print(\"please check your code.\")"
   ]
  },
  {
   "cell_type": "code",
   "execution_count": null,
   "metadata": {},
   "outputs": [],
   "source": []
  }
 ],
 "metadata": {
  "kernelspec": {
   "display_name": "Python 3",
   "language": "python",
   "name": "python3"
  },
  "language_info": {
   "codemirror_mode": {
    "name": "ipython",
    "version": 3
   },
   "file_extension": ".py",
   "mimetype": "text/x-python",
   "name": "python",
   "nbconvert_exporter": "python",
   "pygments_lexer": "ipython3",
   "version": "3.8.5"
  }
 },
 "nbformat": 4,
 "nbformat_minor": 4
}
