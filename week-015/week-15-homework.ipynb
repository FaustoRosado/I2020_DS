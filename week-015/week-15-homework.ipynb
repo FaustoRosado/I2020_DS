{
 "cells": [
  {
   "cell_type": "markdown",
   "metadata": {},
   "source": [
    "<div style=\"background: #000;\n",
    "            color: #FFF;\n",
    "            margin: 0px;\n",
    "                padding: 10px 0px 20px 0px;\n",
    "            text-align: center; \n",
    "                \">\n",
    "    <span style=\"margin-left: -15px;\"><img src=\"https://tkhv2-static.s3.amazonaws.com/static-final/assets/img/sec_logo2sec.png\"></img></span>\n",
    "    <h1 style=\"padding: 0px 0px 0px 0px;\">Week 15 Homework</h1>\n",
    "</div>"
   ]
  },
  {
   "cell_type": "markdown",
   "metadata": {},
   "source": [
    "### Exercise 1:\n",
    "(due Jan 19th)\n",
    "\n",
    "Given a positive integer, return its corresponding column title as appear in an Excel sheet.\n",
    "\n",
    "For example:\n",
    "\n",
    "```\n",
    "    1 -> A\n",
    "    2 -> B\n",
    "    3 -> C\n",
    "    ...\n",
    "    26 -> Z\n",
    "    27 -> AA\n",
    "    28 -> AB \n",
    "    ...\n",
    "```\n",
    "\n",
    "`Example 1:`  \n",
    "__Input__: 1  \n",
    "__Output__: \"A\"  \n",
    "\n",
    "`Example 2:`  \n",
    "__Input__: 28  \n",
    "__Output__: \"AB\"  \n",
    "\n",
    "`Example 3:`   \n",
    "__Input__: 701    \n",
    "__Output__: \"ZY\"  "
   ]
  },
  {
   "cell_type": "markdown",
   "metadata": {},
   "source": [
    "### General Cases:\n",
    "\n",
    "```\n",
    "27->AA    27/26=1 27%26=1    1->A 1->A --> 'AA'\n",
    " 3->C      3/26=1  3%26=C    0->  3->C --> 'C'\n",
    "53->BA    53/26=2 53%26=1    2->B 1->A --> 'BA'\n",
    "```\n",
    "\n",
    "### Special Cases:\n",
    "\n",
    "```\n",
    "26->Z     26/26=0 26%26=0              --> 'Z'\n",
    "52->AZ    52/26=2 52%26=2              --> 'AZ'\n",
    "```\n",
    "\n",
    "When n%26==0 last digit is Z, so 'n' in next step must subtract this 'Z'(26)\n",
    "and continue"
   ]
  },
  {
   "cell_type": "code",
   "execution_count": 11,
   "metadata": {},
   "outputs": [
    {
     "data": {
      "text/plain": [
       "1"
      ]
     },
     "execution_count": 11,
     "metadata": {},
     "output_type": "execute_result"
    }
   ],
   "source": [
    "28 // 26"
   ]
  },
  {
   "cell_type": "code",
   "execution_count": 12,
   "metadata": {},
   "outputs": [
    {
     "data": {
      "text/plain": [
       "26"
      ]
     },
     "execution_count": 12,
     "metadata": {},
     "output_type": "execute_result"
    }
   ],
   "source": [
    "701 // 26"
   ]
  },
  {
   "cell_type": "code",
   "execution_count": 13,
   "metadata": {},
   "outputs": [
    {
     "data": {
      "text/plain": [
       "25"
      ]
     },
     "execution_count": 13,
     "metadata": {},
     "output_type": "execute_result"
    }
   ],
   "source": [
    "701%26"
   ]
  },
  {
   "cell_type": "code",
   "execution_count": 14,
   "metadata": {},
   "outputs": [
    {
     "data": {
      "text/plain": [
       "'Y'"
      ]
     },
     "execution_count": 14,
     "metadata": {},
     "output_type": "execute_result"
    }
   ],
   "source": [
    "chr(65+25-1)"
   ]
  },
  {
   "cell_type": "code",
   "execution_count": null,
   "metadata": {},
   "outputs": [],
   "source": [
    "How to put together in algorithm to work sufficiently"
   ]
  },
  {
   "cell_type": "code",
   "execution_count": null,
   "metadata": {},
   "outputs": [],
   "source": [
    "# Binary is base 2, base 10 \n",
    "# turning it into base 26 number system\n",
    "\n",
    "ABCD = Ax26^3 + Bx26^2 + Cx26^1 + D = 1x26^3 + 2x26^2 + 3x26^1 + 4"
   ]
  },
  {
   "cell_type": "code",
   "execution_count": 3,
   "metadata": {},
   "outputs": [
    {
     "name": "stdout",
     "output_type": "stream",
     "text": [
      "solution is correct\n"
     ]
    }
   ],
   "source": [
    "def ex1(num):\n",
    "    r = ''\n",
    "    while num > 0:\n",
    "        if num%26 == 0:\n",
    "            r = 'Z' + r\n",
    "            num = num/26 - 1\n",
    "        else:\n",
    "            r = chr(ord('A') + num%26 -1) + r\n",
    "            num = num//26\n",
    "    return r\n",
    "\n",
    "try:\n",
    "    assert(ex1(1) == \"A\")\n",
    "    assert(ex1(28) == \"AB\")\n",
    "    assert(ex1(701) == \"ZY\")\n",
    "    print(\"solution is correct\")\n",
    "except AssertionError:a\n",
    "    print(\"solution is incorrect\")"
   ]
  },
  {
   "cell_type": "code",
   "execution_count": 15,
   "metadata": {},
   "outputs": [
    {
     "name": "stdout",
     "output_type": "stream",
     "text": [
      "CYNL\n"
     ]
    }
   ],
   "source": [
    "def ex1(num):\n",
    "    r = ''\n",
    "    while num > 0:\n",
    "        if num%26 == 0:\n",
    "            r = 'Z' + r\n",
    "            num = num/26 - 1\n",
    "        else:\n",
    "            r = chr(ord('A') + num%26 -1) + r\n",
    "            num = num//26    # correct for error not a float\n",
    "    return r\n",
    "\n",
    "print(ex1(70004))\n",
    "\n",
    "# try:\n",
    "#     assert(ex1(1) == \"A\")\n",
    "#     assert(ex1(28) == \"AB\")\n",
    "#     assert(ex1(701) == \"ZY\")\n",
    "#     print(\"solution is correct\")\n",
    "# except AssertionError:\n",
    "#     print(\"solution is incorrect\")"
   ]
  },
  {
   "cell_type": "code",
   "execution_count": null,
   "metadata": {},
   "outputs": [],
   "source": [
    "def ex1(num):\n",
    "    pass\n",
    "\n",
    "\n",
    "ex1(1)\n",
    "ex1(28)\n",
    "ex1(701)\n"
   ]
  },
  {
   "cell_type": "markdown",
   "metadata": {},
   "source": [
    "### Exercise 2: \n",
    "(Due Jan 20th)\n",
    "\n",
    "Given integer array `nums`, return the third maximum number in this array. If the third maximum does not exist, return the maximum number.\n",
    "\n",
    "`Example 1:`  \n",
    "__Input__: nums = [3,2,1]  \n",
    "__Output__: 1  \n",
    "__Explanation__: The third maximum is 1.  \n",
    "\n",
    "`Example 2:`  \n",
    "__Input__: nums = [1,2]  \n",
    "__Output__: 2  \n",
    "__Explanation__: The third maximum does not exist, so the maximum (2) is returned instead.  \n",
    "\n",
    "`Example 3:`  \n",
    "__Input__: nums = [2,2,3,1]  \n",
    "__Output__: 1  \n",
    "__Explanation__: Note that the third maximum here means the third maximum distinct number.\n",
    "Both numbers with value 2 are both considered as second maximum.  \n",
    " \n",
    " "
   ]
  },
  {
   "cell_type": "code",
   "execution_count": 12,
   "metadata": {},
   "outputs": [
    {
     "name": "stdout",
     "output_type": "stream",
     "text": [
      "solution is correct\n"
     ]
    }
   ],
   "source": [
    "def ex2(nums):\n",
    "   \n",
    "    #print set(nums)\n",
    "    \n",
    "    if len(set(nums)) < 3:\n",
    "        return max(set(nums))\n",
    "    else:\n",
    "        nums_srt = sorted(set(nums))\n",
    "        #print len(nums_srt)\n",
    "        return nums_srt[-3]\n",
    "\n",
    "\n",
    "\n",
    "try:\n",
    "    assert(ex2([3,2,1]) == 1)\n",
    "    assert(ex2([1,2]) == 2)\n",
    "    assert(ex2([2,2,3,1]) == 1)\n",
    "    print(\"solution is correct\")\n",
    "except AssertionError:\n",
    "    print(\"solution is incorrect\")"
   ]
  },
  {
   "cell_type": "code",
   "execution_count": 14,
   "metadata": {},
   "outputs": [
    {
     "name": "stdout",
     "output_type": "stream",
     "text": [
      "{1, 2, 3}\n",
      "3\n",
      "1\n",
      "{1, 2}\n",
      "2\n",
      "{1, 2, 3}\n",
      "3\n",
      "1\n"
     ]
    }
   ],
   "source": [
    "def ex2(nums):\n",
    "   \n",
    "    print(set(nums))\n",
    "    \n",
    "    if len(set(nums)) < 3:\n",
    "        \n",
    "        return max(set(nums))\n",
    "    else:\n",
    "        nums_srt = sorted(set(nums))\n",
    "        print(len(nums_srt))\n",
    "        return nums_srt[-3]\n",
    "    \n",
    "print(ex2([3,2,1]))\n",
    "print(ex2([1,2]))\n",
    "print(ex2([2,2,3,1]))"
   ]
  },
  {
   "cell_type": "code",
   "execution_count": null,
   "metadata": {},
   "outputs": [],
   "source": []
  }
 ],
 "metadata": {
  "kernelspec": {
   "display_name": "Python 3",
   "language": "python",
   "name": "python3"
  },
  "language_info": {
   "codemirror_mode": {
    "name": "ipython",
    "version": 3
   },
   "file_extension": ".py",
   "mimetype": "text/x-python",
   "name": "python",
   "nbconvert_exporter": "python",
   "pygments_lexer": "ipython3",
   "version": "3.8.7"
  }
 },
 "nbformat": 4,
 "nbformat_minor": 4
}
