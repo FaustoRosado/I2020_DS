{
 "cells": [
  {
   "cell_type": "markdown",
   "metadata": {},
   "source": [
    "<div style=\"background: #000;\n",
    "            color: #FFF;\n",
    "            margin: 0px;\n",
    "            padding: 10px 0px 20px 0px;\n",
    "            text-align: center; \n",
    "                \">\n",
    "    <h1 >Week 20 Quiz</h1>\n",
    "</div>"
   ]
  },
  {
   "cell_type": "markdown",
   "metadata": {},
   "source": [
    "# Exercise 1\n",
    "\n",
    "The sum of the squares of the first ten natural numbers is,\n",
    "\n",
    "$$ 1^{2} + 2^{2} + \\ldots + 10^{2} = 385 $$\n",
    "\n",
    "The square of the sum of the first ten natural numbers is,\n",
    "\n",
    "$$ (1+2+\\ldots+10)^{2} = 55^{2} = 3025 $$\n",
    "\n",
    "Hence the difference between the sum of the squares of the first ten natural numbers and the square of the sum is\n",
    "\n",
    "$$ 3025 - 385 = 2640 $$\n",
    "\n",
    "Find the difference between the sum of the squares of the first one hundred natural numbers and the square of the sum."
   ]
  },
  {
   "cell_type": "code",
   "execution_count": 6,
   "metadata": {},
   "outputs": [
    {
     "name": "stdout",
     "output_type": "stream",
     "text": [
      "385\n",
      "3025\n",
      "-2640\n"
     ]
    },
    {
     "name": "stderr",
     "output_type": "stream",
     "text": [
      "======================================================================\n",
      "FAIL: test (__main__.TestExercise1)\n",
      "----------------------------------------------------------------------\n",
      "Traceback (most recent call last):\n",
      "  File \"<ipython-input-6-aabdb450a752>\", line 72, in test\n",
      "    self.assertEqual(sha256it(difference(10)), \"6c6ece85b5d6ea8c5b1901b34909d170569478006b74472e49d7535ab4b4a94d\")\n",
      "AssertionError: '1e30efc67ff9fc4fd4420a33441b1c59c6df9c779a9522b348df1e90136c182a' != '6c6ece85b5d6ea8c5b1901b34909d170569478006b74472e49d7535ab4b4a94d'\n",
      "- 1e30efc67ff9fc4fd4420a33441b1c59c6df9c779a9522b348df1e90136c182a\n",
      "+ 6c6ece85b5d6ea8c5b1901b34909d170569478006b74472e49d7535ab4b4a94d\n",
      "\n",
      "\n",
      "----------------------------------------------------------------------\n",
      "Ran 1 test in 0.000s\n",
      "\n",
      "FAILED (failures=1)\n"
     ]
    },
    {
     "data": {
      "text/plain": [
       "<unittest.main.TestProgram at 0x107364250>"
      ]
     },
     "execution_count": 6,
     "metadata": {},
     "output_type": "execute_result"
    }
   ],
   "source": [
    "# imports for checking solution\n",
    "import unittest\n",
    "from hashlib import sha256\n",
    "\n",
    "#####################################################\n",
    "\n",
    "# change this section:\n",
    "\n",
    "\n",
    "\n",
    "def sum_of_squares(n):\n",
    "    return sum(i ** 2 for i in range(1, n+1))\n",
    "    \n",
    "def square_of_sum(n):\n",
    "    return sum(i for i in range(1,n+1)) ** 2\n",
    "    \n",
    "# def difference(n):\n",
    "#     return sum_of_squares(n) - square_of_sum(n)\n",
    "\n",
    "# def sum_of_squares(n):    \n",
    "#     return sum([i ** 2 for i in range(1,n + 1)])    \n",
    "\n",
    "# def square_of_sum(n):       \n",
    "#     return sum([i for i in range(1,n + 1)]) ** 2    \n",
    "\n",
    "def difference(n):    \n",
    "    return square_of_sum(n) - sum_of_squares(n)\n",
    "\n",
    "def sum_of_squares(n):\n",
    "#     return sum(i ** 2 for i in range(1, n+1))\n",
    "    sum_ = 0\n",
    "    for i in range(1,n+1):\n",
    "        sum_ += (i**2)\n",
    "        return sum_\n",
    "    \n",
    "def square_of_sum(n):\n",
    "    return sum(range(1,n+1)) ** 2\n",
    "    \n",
    "def difference(n):\n",
    "    return sum_of_squares(n) - square_of_sum(n)\n",
    " \n",
    "    \n",
    "# def sum_of_squares(n):    \n",
    "#     _sum = 0    \n",
    "#     for i in range(1,n+1):        \n",
    "#         _sum += i**2    \n",
    "        \n",
    "# def sum_of_squares(n):    \n",
    "#     return sum([i**2 for i in range(1,n+1)])\n",
    "\n",
    "# def square_of_sum(n):    \n",
    "#     _sum = 0    \n",
    "#     for i in range(1,n+1):        \n",
    "#         _sum += i    \n",
    "#     return _sum ** 2            \n",
    "    \n",
    "# def difference(n):    \n",
    "#     return square_of_sum(n) - sum_of_squares(n)    \n",
    "    \n",
    "\n",
    "print(sum_of_squares(10))\n",
    "print(square_of_sum(10))\n",
    "print(difference(10))\n",
    "\n",
    "######################################################\n",
    "# if this part returns OK, your tests pass\n",
    "def sha256it(n):\n",
    "    return sha256(str(n).encode('utf-8')).hexdigest()\n",
    "\n",
    "class TestExercise1(unittest.TestCase):\n",
    "    def test(self):\n",
    "        self.assertEqual(sha256it(difference(10)), \"6c6ece85b5d6ea8c5b1901b34909d170569478006b74472e49d7535ab4b4a94d\")\n",
    "        self.assertEqual(sha256it(difference(100)), \"537942be3eb323c507623a6a73fa87bf5aeb97b7c7422993a82aa7c15f6d9cd6\")\n",
    "        \n",
    "unittest.main(argv=[''], verbosity=0, exit=False)"
   ]
  },
  {
   "cell_type": "code",
   "execution_count": null,
   "metadata": {},
   "outputs": [],
   "source": []
  }
 ],
 "metadata": {
  "kernelspec": {
   "display_name": "Python 3",
   "language": "python",
   "name": "python3"
  },
  "language_info": {
   "codemirror_mode": {
    "name": "ipython",
    "version": 3
   },
   "file_extension": ".py",
   "mimetype": "text/x-python",
   "name": "python",
   "nbconvert_exporter": "python",
   "pygments_lexer": "ipython3",
   "version": "3.8.7"
  }
 },
 "nbformat": 4,
 "nbformat_minor": 5
}
