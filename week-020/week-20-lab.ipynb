{
 "cells": [
  {
   "cell_type": "markdown",
   "metadata": {},
   "source": [
    "<div style=\"background: #000;\n",
    "            color: #FFF;\n",
    "            margin: 0px;\n",
    "            padding: 10px 0px 20px 0px;\n",
    "            text-align: center; \n",
    "                \">\n",
    "    <h1 >Week 20 Lab</h1>\n",
    "</div>"
   ]
  },
  {
   "cell_type": "markdown",
   "metadata": {},
   "source": [
    "# Part 1\n",
    "\n",
    "For part one, we're going to be using the following code:\n",
    "\n",
    "(reference week-19 for help with this)"
   ]
  },
  {
   "cell_type": "code",
<<<<<<< HEAD
   "execution_count": 34,
   "metadata": {},
   "outputs": [],
   "source": [
    "import pandas as pd\n",
    "import numpy as np\n",
    "import matplotlib.pyplot as plt\n",
    "import seaborn as sns\n",
    "import sklearn as sk"
   ]
  },
  {
   "cell_type": "code",
   "execution_count": 4,
   "metadata": {},
   "outputs": [],
   "source": [
    "# our sql script, week19 class2\n",
=======
   "execution_count": 2,
   "metadata": {},
   "outputs": [],
   "source": [
    "# our sql script\n",
>>>>>>> 9bcb85082bee3521929bbc33123fdb6b165afb33
    "\n",
    "import sqlite3\n",
    "from contextlib import closing\n",
    "\n",
    "db = 'week-20-lab.db'\n",
    "\n",
    "def connection(db_name=None):\n",
    "    conn = None\n",
    "    try:\n",
    "        db_name = db_name or ':memory:'\n",
    "        conn = sqlite3.connect(db_name)\n",
    "        return conn\n",
    "    except Exception as e:\n",
    "        print(e)\n",
    "\n",
    "def execute(db, cmd, commit=False):\n",
    "    with closing(connection(db)) as conn:\n",
    "        with closing(conn.cursor()) as cursor:\n",
    "            try:\n",
    "                cur = cursor.execute(cmd).fetchall()\n",
    "                if commit:\n",
    "                    conn.commit()\n",
    "                else:\n",
    "                    return cur\n",
    "            except Exception as e:\n",
    "                print(e)    \n",
    "                \n",
    "def get_tables(db):\n",
    "    rows = execute(db, \"SELECT name from sqlite_master where type='table';\")\n",
    "    return [i[0] for i in rows]\n",
    "\n",
    "def get_cols(db, table):\n",
    "    return execute(db, f\"pragma table_info({table});\")"
   ]
  },
  {
   "cell_type": "markdown",
   "metadata": {},
   "source": [
    "a. Create a table called 'students' with the following columns:\n",
    "* first_name (string)\n",
    "* last_name (string)\n",
    "* course (string)"
   ]
  },
  {
   "cell_type": "code",
<<<<<<< HEAD
   "execution_count": 6,
   "metadata": {},
   "outputs": [
    {
     "name": "stdout",
     "output_type": "stream",
     "text": [
      "table students already exists\n"
     ]
    }
   ],
   "source": [
    "execute(db, 'CREATE TABLE students (id INTEGER PRIMARY KEY,first_name VARCHAR(100) NOT NULL, last_name VARCHAR(100) \\\n",
    "    NOT NULL, course VARCHAR(100) NOT NULL);',commit=True)"
   ]
  },
  {
   "cell_type": "code",
   "execution_count": 17,
   "metadata": {},
   "outputs": [
    {
     "data": {
      "text/plain": [
       "[(0, 'id', 'INTEGER', 0, None, 1),\n",
       " (1, 'first_name', 'CHAR(100)', 1, None, 0),\n",
       " (2, 'last_name', 'CHAR(100)', 1, None, 0),\n",
       " (3, 'course', 'CHAR(100)', 1, None, 0)]"
      ]
     },
     "execution_count": 17,
     "metadata": {},
     "output_type": "execute_result"
    }
   ],
   "source": [
    "get_cols(db, 'students')"
   ]
=======
   "execution_count": null,
   "metadata": {},
   "outputs": [],
   "source": []
>>>>>>> 9bcb85082bee3521929bbc33123fdb6b165afb33
  },
  {
   "cell_type": "markdown",
   "metadata": {},
   "source": [
    "b. Add 30 students to your table. 15 of them taking the course 'progressive web' and 15 taking 'data science'. "
   ]
  },
  {
   "cell_type": "code",
<<<<<<< HEAD
   "execution_count": 18,
   "metadata": {},
   "outputs": [],
   "source": [
    "# execute(db, \"INSERT INTO students \\\n",
    "# #             VALUES(Null,'John','Doe', 'progressive web');\", commit=True)"
   ]
  },
  {
   "cell_type": "code",
   "execution_count": 22,
   "metadata": {},
   "outputs": [],
   "source": [
    "students = [(\"Irene\", \"Merrete\", \"data_science\"),\n",
    "            (\"Gyasi\", \"Sturgus\", \"data_science\"),\n",
    "            (\"Fausto\", \"Rosado\", \"data_science\"),\n",
    "            (\"Elston\", \"Bell\", \"data_science\"),\n",
    "            (\"Chioma\", \"Dunkley\", \"data_science\"),\n",
    "            (\"Clariza\", \"Mayo\", \"data_science\"),\n",
    "            (\"Bryant\", \"Novas\", \"data_science\"),\n",
    "            (\"Amy\", \"Rosa\", \"data_science\"),\n",
    "            (\"Anna\", \"Levy\", \"data_science\"),\n",
    "            (\"Stanislava\", \"Hristova\", \"data_science\"),\n",
    "            (\"Mike\", \"Alford\", \"data_science\"),\n",
    "            (\"Judi\", \"Desire\", \"data_science\"),\n",
    "            (\"Juan\", \"Peralta\", \"data_science\"),\n",
    "            (\"Jessica\", \"Dee\", \"data_science\"),\n",
    "            (\"Janet\", \"Perez\", \"data_science\"),\n",
    "            (\"Jahaziel\", \"Israel\", \"progressive_web\"),\n",
    "            (\"Tanesha\", \"Conway\", \"progressive_web\"),\n",
    "            (\"Zipporah\", \"Najar\", \"progressive_web\"),\n",
    "            (\"Shan\", \"Siddiqui\", \"progressive_web\"),\n",
    "            (\"Stephanie\", \"Pena\", \"progressive_web\"),\n",
    "            (\"Quiana\", \"Berry\", \"progressive_web\"),\n",
    "            (\"Nashid\", \"Chowdhury\", \"progressive_web\"),\n",
    "            (\"Katherine\", \"Fernandez\", \"progressive_web\"),\n",
    "            (\"Leesel\", \"Fraser\", \"progressive_web\"),\n",
    "            (\"Diana\", \"Gaona\", \"progressive_web\"),\n",
    "            (\"David\", \"Espinal\", \"progressive_web\"),\n",
    "            (\"Ayman\", \"Omer\", \"progressive_web\"),\n",
    "            (\"Angel\", \"Fernandez\", \"progressive_web\"),\n",
    "            (\"Julian\", \"Quezada\", \"progressive_web\"),\n",
    "            (\"Shafee\", \"Ahmed\", \"progressive_web\")]"
   ]
  },
  {
   "cell_type": "code",
   "execution_count": 23,
   "metadata": {},
   "outputs": [],
   "source": [
    "# rows = [(1,7,3000), (1,8,3500), (1,9,3900)]\n",
    "students = ', '.join(map(str, students))\n",
    "# sql = \"INSERT INTO ... VALUES {}\".format(values)"
   ]
  },
  {
   "cell_type": "code",
=======
>>>>>>> 9bcb85082bee3521929bbc33123fdb6b165afb33
   "execution_count": null,
   "metadata": {},
   "outputs": [],
   "source": []
  },
  {
<<<<<<< HEAD
   "cell_type": "code",
   "execution_count": 24,
   "metadata": {},
   "outputs": [],
   "source": [
    "execute(db, \"INSERT INTO students(first_name,last_name,course) VALUES {}\".format(students), commit=True)"
   ]
  },
  {
   "cell_type": "code",
   "execution_count": 25,
   "metadata": {},
   "outputs": [
    {
     "data": {
      "text/plain": [
       "[(1, 'Irene', 'Merrete', 'data_science'),\n",
       " (2, 'Gyasi', 'Sturgus', 'data_science'),\n",
       " (3, 'Fausto', 'Rosado', 'data_science'),\n",
       " (4, 'Elston', 'Bell', 'data_science'),\n",
       " (5, 'Chioma', 'Dunkley', 'data_science'),\n",
       " (6, 'Clariza', 'Mayo', 'data_science'),\n",
       " (7, 'Bryant', 'Novas', 'data_science'),\n",
       " (8, 'Amy', 'Rosa', 'data_science'),\n",
       " (9, 'Anna', 'Levy', 'data_science'),\n",
       " (10, 'Stanislava', 'Hristova', 'data_science'),\n",
       " (11, 'Mike', 'Alford', 'data_science'),\n",
       " (12, 'Judi', 'Desire', 'data_science'),\n",
       " (13, 'Juan', 'Peralta', 'data_science'),\n",
       " (14, 'Jessica', 'Dee', 'data_science'),\n",
       " (15, 'Janet', 'Perez', 'data_science'),\n",
       " (16, 'Jahaziel', 'Israel', 'progressive_web'),\n",
       " (17, 'Tanesha', 'Conway', 'progressive_web'),\n",
       " (18, 'Zipporah', 'Najar', 'progressive_web'),\n",
       " (19, 'Shan', 'Siddiqui', 'progressive_web'),\n",
       " (20, 'Stephanie', 'Pena', 'progressive_web'),\n",
       " (21, 'Quiana', 'Berry', 'progressive_web'),\n",
       " (22, 'Nashid', 'Chowdhury', 'progressive_web'),\n",
       " (23, 'Katherine', 'Fernandez', 'progressive_web'),\n",
       " (24, 'Leesel', 'Fraser', 'progressive_web'),\n",
       " (25, 'Diana', 'Gaona', 'progressive_web'),\n",
       " (26, 'David', 'Espinal', 'progressive_web'),\n",
       " (27, 'Ayman', 'Omer', 'progressive_web'),\n",
       " (28, 'Angel', 'Fernandez', 'progressive_web'),\n",
       " (29, 'Julian', 'Quezada', 'progressive_web'),\n",
       " (30, 'Shafee', 'Ahmed', 'progressive_web')]"
      ]
     },
     "execution_count": 25,
     "metadata": {},
     "output_type": "execute_result"
    }
   ],
   "source": [
    "execute(db, \"SELECT * FROM students;\")"
   ]
  },
  {
=======
>>>>>>> 9bcb85082bee3521929bbc33123fdb6b165afb33
   "cell_type": "markdown",
   "metadata": {},
   "source": [
    "c. One of the students from the data science course got hired! Show the SQL command that will remove this student from the table and then remove them. "
   ]
  },
  {
   "cell_type": "code",
<<<<<<< HEAD
   "execution_count": 26,
   "metadata": {},
   "outputs": [],
   "source": [
    "execute(db, \"DELETE FROM students WHERE first_name='Fausto' and last_name='Rosado' and course='data_science';\",commit=True)"
   ]
  },
  {
   "cell_type": "code",
   "execution_count": 27,
   "metadata": {},
   "outputs": [
    {
     "data": {
      "text/plain": [
       "[(1, 'Irene', 'Merrete', 'data_science'),\n",
       " (2, 'Gyasi', 'Sturgus', 'data_science'),\n",
       " (4, 'Elston', 'Bell', 'data_science'),\n",
       " (5, 'Chioma', 'Dunkley', 'data_science'),\n",
       " (6, 'Clariza', 'Mayo', 'data_science'),\n",
       " (7, 'Bryant', 'Novas', 'data_science'),\n",
       " (8, 'Amy', 'Rosa', 'data_science'),\n",
       " (9, 'Anna', 'Levy', 'data_science'),\n",
       " (10, 'Stanislava', 'Hristova', 'data_science'),\n",
       " (11, 'Mike', 'Alford', 'data_science'),\n",
       " (12, 'Judi', 'Desire', 'data_science'),\n",
       " (13, 'Juan', 'Peralta', 'data_science'),\n",
       " (14, 'Jessica', 'Dee', 'data_science'),\n",
       " (15, 'Janet', 'Perez', 'data_science'),\n",
       " (16, 'Jahaziel', 'Israel', 'progressive_web'),\n",
       " (17, 'Tanesha', 'Conway', 'progressive_web'),\n",
       " (18, 'Zipporah', 'Najar', 'progressive_web'),\n",
       " (19, 'Shan', 'Siddiqui', 'progressive_web'),\n",
       " (20, 'Stephanie', 'Pena', 'progressive_web'),\n",
       " (21, 'Quiana', 'Berry', 'progressive_web'),\n",
       " (22, 'Nashid', 'Chowdhury', 'progressive_web'),\n",
       " (23, 'Katherine', 'Fernandez', 'progressive_web'),\n",
       " (24, 'Leesel', 'Fraser', 'progressive_web'),\n",
       " (25, 'Diana', 'Gaona', 'progressive_web'),\n",
       " (26, 'David', 'Espinal', 'progressive_web'),\n",
       " (27, 'Ayman', 'Omer', 'progressive_web'),\n",
       " (28, 'Angel', 'Fernandez', 'progressive_web'),\n",
       " (29, 'Julian', 'Quezada', 'progressive_web'),\n",
       " (30, 'Shafee', 'Ahmed', 'progressive_web')]"
      ]
     },
     "execution_count": 27,
     "metadata": {},
     "output_type": "execute_result"
    }
   ],
   "source": [
    "execute(db, \"SELECT * FROM students;\")"
   ]
=======
   "execution_count": null,
   "metadata": {},
   "outputs": [],
   "source": []
>>>>>>> 9bcb85082bee3521929bbc33123fdb6b165afb33
  },
  {
   "cell_type": "markdown",
   "metadata": {},
   "source": [
    "d. Two students named Bill Gates and Elon Musk tested into phase 2 for progressive web. Write the SQL command that will add them to the table and then add them."
   ]
  },
  {
   "cell_type": "code",
<<<<<<< HEAD
   "execution_count": 28,
   "metadata": {},
   "outputs": [],
   "source": [
    "execute(db, \"INSERT INTO students \\\n",
    "             VALUES(Null,'Bill','Gates', 'progressive web');\", commit=True)"
   ]
  },
  {
   "cell_type": "code",
   "execution_count": 29,
   "metadata": {},
   "outputs": [],
   "source": [
    "execute(db, \"INSERT INTO students \\\n",
    "             VALUES(Null,'Elon','Musk', 'progressive web');\", commit=True)"
   ]
  },
  {
   "cell_type": "code",
   "execution_count": 30,
   "metadata": {},
   "outputs": [
    {
     "data": {
      "text/plain": [
       "[(1, 'Irene', 'Merrete', 'data_science'),\n",
       " (2, 'Gyasi', 'Sturgus', 'data_science'),\n",
       " (4, 'Elston', 'Bell', 'data_science'),\n",
       " (5, 'Chioma', 'Dunkley', 'data_science'),\n",
       " (6, 'Clariza', 'Mayo', 'data_science'),\n",
       " (7, 'Bryant', 'Novas', 'data_science'),\n",
       " (8, 'Amy', 'Rosa', 'data_science'),\n",
       " (9, 'Anna', 'Levy', 'data_science'),\n",
       " (10, 'Stanislava', 'Hristova', 'data_science'),\n",
       " (11, 'Mike', 'Alford', 'data_science'),\n",
       " (12, 'Judi', 'Desire', 'data_science'),\n",
       " (13, 'Juan', 'Peralta', 'data_science'),\n",
       " (14, 'Jessica', 'Dee', 'data_science'),\n",
       " (15, 'Janet', 'Perez', 'data_science'),\n",
       " (16, 'Jahaziel', 'Israel', 'progressive_web'),\n",
       " (17, 'Tanesha', 'Conway', 'progressive_web'),\n",
       " (18, 'Zipporah', 'Najar', 'progressive_web'),\n",
       " (19, 'Shan', 'Siddiqui', 'progressive_web'),\n",
       " (20, 'Stephanie', 'Pena', 'progressive_web'),\n",
       " (21, 'Quiana', 'Berry', 'progressive_web'),\n",
       " (22, 'Nashid', 'Chowdhury', 'progressive_web'),\n",
       " (23, 'Katherine', 'Fernandez', 'progressive_web'),\n",
       " (24, 'Leesel', 'Fraser', 'progressive_web'),\n",
       " (25, 'Diana', 'Gaona', 'progressive_web'),\n",
       " (26, 'David', 'Espinal', 'progressive_web'),\n",
       " (27, 'Ayman', 'Omer', 'progressive_web'),\n",
       " (28, 'Angel', 'Fernandez', 'progressive_web'),\n",
       " (29, 'Julian', 'Quezada', 'progressive_web'),\n",
       " (30, 'Shafee', 'Ahmed', 'progressive_web'),\n",
       " (31, 'Bill', 'Gates', 'progressive web'),\n",
       " (32, 'Elon', 'Musk', 'progressive web')]"
      ]
     },
     "execution_count": 30,
     "metadata": {},
     "output_type": "execute_result"
    }
   ],
   "source": [
    "execute(db, \"SELECT * FROM students;\")"
   ]
=======
   "execution_count": null,
   "metadata": {},
   "outputs": [],
   "source": []
>>>>>>> 9bcb85082bee3521929bbc33123fdb6b165afb33
  },
  {
   "cell_type": "markdown",
   "metadata": {},
   "source": [
    "e. Elon Musk would like to go by a new name: 'XÆ Dogecoin-12'. Show the SQL command that would change his name and then run it. "
   ]
  },
  {
   "cell_type": "code",
<<<<<<< HEAD
   "execution_count": 31,
   "metadata": {},
   "outputs": [],
   "source": [
    "execute(db, \"UPDATE students SET first_name='XÆ', last_name='Dogecoin-12' WHERE id =32 ;\", commit=True)"
   ]
=======
   "execution_count": null,
   "metadata": {},
   "outputs": [],
   "source": []
>>>>>>> 9bcb85082bee3521929bbc33123fdb6b165afb33
  },
  {
   "cell_type": "markdown",
   "metadata": {},
   "source": [
    "f. Show the command that would allow us to see only the students who are part of the course `data science`."
   ]
  },
  {
   "cell_type": "code",
<<<<<<< HEAD
   "execution_count": 33,
   "metadata": {},
   "outputs": [
    {
     "data": {
      "text/plain": [
       "[(1, 'Irene', 'Merrete', 'data_science'),\n",
       " (2, 'Gyasi', 'Sturgus', 'data_science'),\n",
       " (4, 'Elston', 'Bell', 'data_science'),\n",
       " (5, 'Chioma', 'Dunkley', 'data_science'),\n",
       " (6, 'Clariza', 'Mayo', 'data_science'),\n",
       " (7, 'Bryant', 'Novas', 'data_science'),\n",
       " (8, 'Amy', 'Rosa', 'data_science'),\n",
       " (9, 'Anna', 'Levy', 'data_science'),\n",
       " (10, 'Stanislava', 'Hristova', 'data_science'),\n",
       " (11, 'Mike', 'Alford', 'data_science'),\n",
       " (12, 'Judi', 'Desire', 'data_science'),\n",
       " (13, 'Juan', 'Peralta', 'data_science'),\n",
       " (14, 'Jessica', 'Dee', 'data_science'),\n",
       " (15, 'Janet', 'Perez', 'data_science')]"
      ]
     },
     "execution_count": 33,
     "metadata": {},
     "output_type": "execute_result"
    }
   ],
   "source": [
    "execute(db, \"SELECT * from students where course='data_science';\")"
   ]
=======
   "execution_count": null,
   "metadata": {},
   "outputs": [],
   "source": []
>>>>>>> 9bcb85082bee3521929bbc33123fdb6b165afb33
  },
  {
   "cell_type": "markdown",
   "metadata": {},
   "source": [
    "# Part 2\n",
    "\n",
    "The following section uses the `unknown.csv` dataset located in `../datasets/`"
   ]
  },
  {
   "cell_type": "markdown",
   "metadata": {},
   "source": [
    "a. Import and analyze the dataset. Make sure you do the following:\n",
    "\n",
    "* read the csv file in as a `df`."
   ]
  },
  {
   "cell_type": "code",
<<<<<<< HEAD
   "execution_count": 35,
   "metadata": {},
   "outputs": [
    {
     "data": {
      "text/html": [
       "<div>\n",
       "<style scoped>\n",
       "    .dataframe tbody tr th:only-of-type {\n",
       "        vertical-align: middle;\n",
       "    }\n",
       "\n",
       "    .dataframe tbody tr th {\n",
       "        vertical-align: top;\n",
       "    }\n",
       "\n",
       "    .dataframe thead th {\n",
       "        text-align: right;\n",
       "    }\n",
       "</style>\n",
       "<table border=\"1\" class=\"dataframe\">\n",
       "  <thead>\n",
       "    <tr style=\"text-align: right;\">\n",
       "      <th></th>\n",
       "      <th>x</th>\n",
       "      <th>y</th>\n",
       "    </tr>\n",
       "  </thead>\n",
       "  <tbody>\n",
       "    <tr>\n",
       "      <th>0</th>\n",
       "      <td>77</td>\n",
       "      <td>79.775152</td>\n",
       "    </tr>\n",
       "    <tr>\n",
       "      <th>1</th>\n",
       "      <td>21</td>\n",
       "      <td>23.177279</td>\n",
       "    </tr>\n",
       "    <tr>\n",
       "      <th>2</th>\n",
       "      <td>22</td>\n",
       "      <td>25.609262</td>\n",
       "    </tr>\n",
       "    <tr>\n",
       "      <th>3</th>\n",
       "      <td>20</td>\n",
       "      <td>17.857388</td>\n",
       "    </tr>\n",
       "    <tr>\n",
       "      <th>4</th>\n",
       "      <td>36</td>\n",
       "      <td>41.849864</td>\n",
       "    </tr>\n",
       "    <tr>\n",
       "      <th>...</th>\n",
       "      <td>...</td>\n",
       "      <td>...</td>\n",
       "    </tr>\n",
       "    <tr>\n",
       "      <th>295</th>\n",
       "      <td>71</td>\n",
       "      <td>68.545888</td>\n",
       "    </tr>\n",
       "    <tr>\n",
       "      <th>296</th>\n",
       "      <td>46</td>\n",
       "      <td>47.334876</td>\n",
       "    </tr>\n",
       "    <tr>\n",
       "      <th>297</th>\n",
       "      <td>55</td>\n",
       "      <td>54.090637</td>\n",
       "    </tr>\n",
       "    <tr>\n",
       "      <th>298</th>\n",
       "      <td>62</td>\n",
       "      <td>63.297171</td>\n",
       "    </tr>\n",
       "    <tr>\n",
       "      <th>299</th>\n",
       "      <td>47</td>\n",
       "      <td>52.459467</td>\n",
       "    </tr>\n",
       "  </tbody>\n",
       "</table>\n",
       "<p>300 rows × 2 columns</p>\n",
       "</div>"
      ],
      "text/plain": [
       "      x          y\n",
       "0    77  79.775152\n",
       "1    21  23.177279\n",
       "2    22  25.609262\n",
       "3    20  17.857388\n",
       "4    36  41.849864\n",
       "..   ..        ...\n",
       "295  71  68.545888\n",
       "296  46  47.334876\n",
       "297  55  54.090637\n",
       "298  62  63.297171\n",
       "299  47  52.459467\n",
       "\n",
       "[300 rows x 2 columns]"
      ]
     },
     "execution_count": 35,
     "metadata": {},
     "output_type": "execute_result"
    }
   ],
   "source": [
    "df = pd.read_csv('../datasets/unknown.csv')\n",
    "df"
   ]
=======
   "execution_count": null,
   "metadata": {},
   "outputs": [],
   "source": []
>>>>>>> 9bcb85082bee3521929bbc33123fdb6b165afb33
  },
  {
   "cell_type": "markdown",
   "metadata": {},
   "source": [
    "* output the top of the `df`."
   ]
  },
  {
   "cell_type": "code",
<<<<<<< HEAD
   "execution_count": 36,
   "metadata": {},
   "outputs": [
    {
     "data": {
      "text/html": [
       "<div>\n",
       "<style scoped>\n",
       "    .dataframe tbody tr th:only-of-type {\n",
       "        vertical-align: middle;\n",
       "    }\n",
       "\n",
       "    .dataframe tbody tr th {\n",
       "        vertical-align: top;\n",
       "    }\n",
       "\n",
       "    .dataframe thead th {\n",
       "        text-align: right;\n",
       "    }\n",
       "</style>\n",
       "<table border=\"1\" class=\"dataframe\">\n",
       "  <thead>\n",
       "    <tr style=\"text-align: right;\">\n",
       "      <th></th>\n",
       "      <th>x</th>\n",
       "      <th>y</th>\n",
       "    </tr>\n",
       "  </thead>\n",
       "  <tbody>\n",
       "    <tr>\n",
       "      <th>0</th>\n",
       "      <td>77</td>\n",
       "      <td>79.775152</td>\n",
       "    </tr>\n",
       "    <tr>\n",
       "      <th>1</th>\n",
       "      <td>21</td>\n",
       "      <td>23.177279</td>\n",
       "    </tr>\n",
       "    <tr>\n",
       "      <th>2</th>\n",
       "      <td>22</td>\n",
       "      <td>25.609262</td>\n",
       "    </tr>\n",
       "    <tr>\n",
       "      <th>3</th>\n",
       "      <td>20</td>\n",
       "      <td>17.857388</td>\n",
       "    </tr>\n",
       "    <tr>\n",
       "      <th>4</th>\n",
       "      <td>36</td>\n",
       "      <td>41.849864</td>\n",
       "    </tr>\n",
       "  </tbody>\n",
       "</table>\n",
       "</div>"
      ],
      "text/plain": [
       "    x          y\n",
       "0  77  79.775152\n",
       "1  21  23.177279\n",
       "2  22  25.609262\n",
       "3  20  17.857388\n",
       "4  36  41.849864"
      ]
     },
     "execution_count": 36,
     "metadata": {},
     "output_type": "execute_result"
    }
   ],
   "source": [
    "df.head()"
   ]
=======
   "execution_count": null,
   "metadata": {},
   "outputs": [],
   "source": []
>>>>>>> 9bcb85082bee3521929bbc33123fdb6b165afb33
  },
  {
   "cell_type": "markdown",
   "metadata": {},
   "source": [
    "* output the columns."
   ]
  },
  {
   "cell_type": "code",
<<<<<<< HEAD
   "execution_count": 37,
   "metadata": {},
   "outputs": [
    {
     "data": {
      "text/plain": [
       "Index(['x', 'y'], dtype='object')"
      ]
     },
     "execution_count": 37,
     "metadata": {},
     "output_type": "execute_result"
    }
   ],
   "source": [
    "df.columns"
   ]
=======
   "execution_count": null,
   "metadata": {},
   "outputs": [],
   "source": []
>>>>>>> 9bcb85082bee3521929bbc33123fdb6b165afb33
  },
  {
   "cell_type": "markdown",
   "metadata": {},
   "source": [
    "* show the shape of the `df`"
   ]
  },
  {
   "cell_type": "code",
<<<<<<< HEAD
   "execution_count": 38,
   "metadata": {},
   "outputs": [
    {
     "data": {
      "text/plain": [
       "(300, 2)"
      ]
     },
     "execution_count": 38,
     "metadata": {},
     "output_type": "execute_result"
    }
   ],
   "source": [
    "df.shape"
   ]
=======
   "execution_count": null,
   "metadata": {},
   "outputs": [],
   "source": []
>>>>>>> 9bcb85082bee3521929bbc33123fdb6b165afb33
  },
  {
   "cell_type": "markdown",
   "metadata": {},
   "source": [
    "* show the info."
   ]
  },
  {
   "cell_type": "code",
<<<<<<< HEAD
   "execution_count": 39,
   "metadata": {},
   "outputs": [
    {
     "name": "stdout",
     "output_type": "stream",
     "text": [
      "<class 'pandas.core.frame.DataFrame'>\n",
      "RangeIndex: 300 entries, 0 to 299\n",
      "Data columns (total 2 columns):\n",
      " #   Column  Non-Null Count  Dtype  \n",
      "---  ------  --------------  -----  \n",
      " 0   x       300 non-null    int64  \n",
      " 1   y       300 non-null    float64\n",
      "dtypes: float64(1), int64(1)\n",
      "memory usage: 4.8 KB\n"
     ]
    }
   ],
   "source": [
    "df.info()"
   ]
=======
   "execution_count": null,
   "metadata": {},
   "outputs": [],
   "source": []
>>>>>>> 9bcb85082bee3521929bbc33123fdb6b165afb33
  },
  {
   "cell_type": "markdown",
   "metadata": {},
   "source": [
    "* check if we're missing any data and handle it."
   ]
  },
  {
   "cell_type": "code",
<<<<<<< HEAD
   "execution_count": 40,
   "metadata": {},
   "outputs": [
    {
     "data": {
      "text/plain": [
       "x    0\n",
       "y    0\n",
       "dtype: int64"
      ]
     },
     "execution_count": 40,
     "metadata": {},
     "output_type": "execute_result"
    }
   ],
   "source": [
    "df.isna().sum().sort_values()"
   ]
=======
   "execution_count": null,
   "metadata": {},
   "outputs": [],
   "source": []
>>>>>>> 9bcb85082bee3521929bbc33123fdb6b165afb33
  },
  {
   "cell_type": "markdown",
   "metadata": {},
   "source": [
    "* chart the data so we can visualize any relationships"
   ]
  },
  {
<<<<<<< HEAD
   "cell_type": "code",
   "execution_count": 41,
   "metadata": {},
   "outputs": [
    {
     "data": {
      "image/png": "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\n",
      "text/plain": [
       "<Figure size 360x360 with 6 Axes>"
      ]
     },
     "metadata": {
      "needs_background": "light"
     },
     "output_type": "display_data"
    }
   ],
   "source": [
    "sns.pairplot(df)\n",
    "plt.show()"
   ]
=======
   "cell_type": "markdown",
   "metadata": {},
   "source": []
>>>>>>> 9bcb85082bee3521929bbc33123fdb6b165afb33
  },
  {
   "cell_type": "markdown",
   "metadata": {},
   "source": [
    "* show the covariance and correlation matrixes (including heatmap if you'd like)."
   ]
  },
  {
   "cell_type": "code",
<<<<<<< HEAD
   "execution_count": 42,
   "metadata": {},
   "outputs": [
    {
     "data": {
      "text/html": [
       "<div>\n",
       "<style scoped>\n",
       "    .dataframe tbody tr th:only-of-type {\n",
       "        vertical-align: middle;\n",
       "    }\n",
       "\n",
       "    .dataframe tbody tr th {\n",
       "        vertical-align: top;\n",
       "    }\n",
       "\n",
       "    .dataframe thead th {\n",
       "        text-align: right;\n",
       "    }\n",
       "</style>\n",
       "<table border=\"1\" class=\"dataframe\">\n",
       "  <thead>\n",
       "    <tr style=\"text-align: right;\">\n",
       "      <th></th>\n",
       "      <th>x</th>\n",
       "      <th>y</th>\n",
       "    </tr>\n",
       "  </thead>\n",
       "  <tbody>\n",
       "    <tr>\n",
       "      <th>x</th>\n",
       "      <td>812.494303</td>\n",
       "      <td>824.141698</td>\n",
       "    </tr>\n",
       "    <tr>\n",
       "      <th>y</th>\n",
       "      <td>824.141698</td>\n",
       "      <td>845.150999</td>\n",
       "    </tr>\n",
       "  </tbody>\n",
       "</table>\n",
       "</div>"
      ],
      "text/plain": [
       "            x           y\n",
       "x  812.494303  824.141698\n",
       "y  824.141698  845.150999"
      ]
     },
     "execution_count": 42,
     "metadata": {},
     "output_type": "execute_result"
    }
   ],
   "source": [
    "df.cov()"
   ]
  },
  {
   "cell_type": "code",
   "execution_count": 43,
   "metadata": {},
   "outputs": [
    {
     "data": {
      "text/html": [
       "<div>\n",
       "<style scoped>\n",
       "    .dataframe tbody tr th:only-of-type {\n",
       "        vertical-align: middle;\n",
       "    }\n",
       "\n",
       "    .dataframe tbody tr th {\n",
       "        vertical-align: top;\n",
       "    }\n",
       "\n",
       "    .dataframe thead th {\n",
       "        text-align: right;\n",
       "    }\n",
       "</style>\n",
       "<table border=\"1\" class=\"dataframe\">\n",
       "  <thead>\n",
       "    <tr style=\"text-align: right;\">\n",
       "      <th></th>\n",
       "      <th>x</th>\n",
       "      <th>y</th>\n",
       "    </tr>\n",
       "  </thead>\n",
       "  <tbody>\n",
       "    <tr>\n",
       "      <th>x</th>\n",
       "      <td>1.000000</td>\n",
       "      <td>0.994545</td>\n",
       "    </tr>\n",
       "    <tr>\n",
       "      <th>y</th>\n",
       "      <td>0.994545</td>\n",
       "      <td>1.000000</td>\n",
       "    </tr>\n",
       "  </tbody>\n",
       "</table>\n",
       "</div>"
      ],
      "text/plain": [
       "          x         y\n",
       "x  1.000000  0.994545\n",
       "y  0.994545  1.000000"
      ]
     },
     "execution_count": 43,
     "metadata": {},
     "output_type": "execute_result"
    }
   ],
   "source": [
    "df.corr()"
   ]
  },
  {
   "cell_type": "code",
   "execution_count": 44,
   "metadata": {},
   "outputs": [
    {
     "data": {
      "text/plain": [
       "<AxesSubplot:>"
      ]
     },
     "execution_count": 44,
     "metadata": {},
     "output_type": "execute_result"
    },
    {
     "data": {
      "image/png": "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\n",
      "text/plain": [
       "<Figure size 432x288 with 2 Axes>"
      ]
     },
     "metadata": {
      "needs_background": "light"
     },
     "output_type": "display_data"
    }
   ],
   "source": [
    "sns.heatmap(df)"
   ]
  },
  {
   "cell_type": "code",
   "execution_count": 45,
   "metadata": {},
   "outputs": [
    {
     "data": {
      "text/plain": [
       "<AxesSubplot:>"
      ]
     },
     "execution_count": 45,
     "metadata": {},
     "output_type": "execute_result"
    },
    {
     "data": {
      "image/png": "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\n",
      "text/plain": [
       "<Figure size 432x288 with 2 Axes>"
      ]
     },
     "metadata": {
      "needs_background": "light"
     },
     "output_type": "display_data"
    }
   ],
   "source": [
    "sns.heatmap(df.corr())"
   ]
=======
   "execution_count": null,
   "metadata": {},
   "outputs": [],
   "source": []
>>>>>>> 9bcb85082bee3521929bbc33123fdb6b165afb33
  },
  {
   "cell_type": "markdown",
   "metadata": {},
   "source": [
    "b. Train a linear regression model using week-20-class-2 as reference. We'd like to predict column `y`.\n",
    "\n",
    "Make sure to do the following:\n",
    "* Separate values into `X` and `Y` variables."
   ]
  },
  {
   "cell_type": "code",
<<<<<<< HEAD
   "execution_count": 46,
   "metadata": {},
   "outputs": [],
   "source": [
    "X = df[\"x\"]\n",
    "Y = df[\"y\"]"
   ]
=======
   "execution_count": null,
   "metadata": {},
   "outputs": [],
   "source": []
>>>>>>> 9bcb85082bee3521929bbc33123fdb6b165afb33
  },
  {
   "cell_type": "markdown",
   "metadata": {},
   "source": [
    "* Generate training and test data for `X` and `Y` using `train_test_split` (with a test size of 20%)"
   ]
  },
  {
   "cell_type": "code",
<<<<<<< HEAD
   "execution_count": 47,
   "metadata": {},
   "outputs": [],
   "source": [
    "from sklearn.model_selection import train_test_split\n",
    "\n",
    "X_train, X_test, y_train, y_test = train_test_split(X,Y, test_size=0.2)"
   ]
  },
  {
   "cell_type": "code",
   "execution_count": 48,
   "metadata": {
    "scrolled": true
   },
   "outputs": [
    {
     "data": {
      "text/plain": [
       "array([[ 62.60089773],\n",
       "       [ 44.18863945],\n",
       "       [ 61.74063192],\n",
       "       [ 56.01448111],\n",
       "       [ 97.13832018],\n",
       "       [ 79.77515201],\n",
       "       [ 58.61466887],\n",
       "       [ 98.13258005],\n",
       "       [ 39.31485292],\n",
       "       [ 45.44599591],\n",
       "       [ 70.34969772],\n",
       "       [ 56.82457013],\n",
       "       [ 89.73153611],\n",
       "       [ 10.80462727],\n",
       "       [ 95.15647284],\n",
       "       [ 99.78687252],\n",
       "       [ 50.96343637],\n",
       "       [ 89.82634442],\n",
       "       [ 33.38474138],\n",
       "       [ 30.41303282],\n",
       "       [ 48.09843134],\n",
       "       [ 11.89457829],\n",
       "       [ 75.7584178 ],\n",
       "       [ 18.98322306],\n",
       "       [ 88.54475895],\n",
       "       [ 75.07484683],\n",
       "       [ 74.45114379],\n",
       "       [ 59.70864577],\n",
       "       [ 91.30863673],\n",
       "       [ 17.0761107 ],\n",
       "       [ 63.19354354],\n",
       "       [ 95.28503937],\n",
       "       [ 31.93063515],\n",
       "       [ 18.84798163],\n",
       "       [ 21.71380347],\n",
       "       [ 75.69298554],\n",
       "       [ 97.61793701],\n",
       "       [ 21.32273728],\n",
       "       [ 19.87846479],\n",
       "       [ 12.59244741],\n",
       "       [ 19.38780134],\n",
       "       [ 97.70342201],\n",
       "       [ 82.870594  ],\n",
       "       [ 29.31770045],\n",
       "       [ 74.25362837],\n",
       "       [ 37.08457698],\n",
       "       [ 41.04525583],\n",
       "       [ 26.49487961],\n",
       "       [ 46.91387709],\n",
       "       [ 52.05490703],\n",
       "       [ 69.46306072],\n",
       "       [ 81.40381769],\n",
       "       [ 89.12377509],\n",
       "       [ 17.44047622],\n",
       "       [  9.24113898],\n",
       "       [ 31.43524822],\n",
       "       [ 59.225745  ],\n",
       "       [ 66.95806869],\n",
       "       [ 62.82816355],\n",
       "       [ 14.99514319],\n",
       "       [ 69.45498498],\n",
       "       [ 57.48741435],\n",
       "       [ 35.12724777],\n",
       "       [ 67.01715955],\n",
       "       [ 12.11219941],\n",
       "       [ 38.43076389],\n",
       "       [ 71.00377824],\n",
       "       [ 31.32274932],\n",
       "       [ 38.05766408],\n",
       "       [ 48.67252645],\n",
       "       [ 46.69013968],\n",
       "       [ 51.69967172],\n",
       "       [ 75.59701346],\n",
       "       [ 55.7383467 ],\n",
       "       [ 34.31141446],\n",
       "       [ 19.1315097 ],\n",
       "       [ 87.84749912],\n",
       "       [ 77.91032969],\n",
       "       [ 33.37834391],\n",
       "       [ 81.29750133],\n",
       "       [101.0697879 ],\n",
       "       [ 67.22008001],\n",
       "       [ 60.9105427 ],\n",
       "       [ 21.63500655],\n",
       "       [ 67.38654703],\n",
       "       [ 68.5458879 ],\n",
       "       [  9.28169975],\n",
       "       [ 13.25690647],\n",
       "       [ 23.44479161],\n",
       "       [ 65.01324035],\n",
       "       [  9.80523488],\n",
       "       [ 95.12400481],\n",
       "       [ 87.36938931],\n",
       "       [ 42.84526108],\n",
       "       [ 25.63476257],\n",
       "       [ -1.63296825],\n",
       "       [ 70.34329706],\n",
       "       [ 49.83538167],\n",
       "       [ 97.00148372],\n",
       "       [ 36.34644189],\n",
       "       [ 40.24701716],\n",
       "       [ 51.83503872],\n",
       "       [ 96.58888601],\n",
       "       [ 50.17008622],\n",
       "       [ 29.38505024],\n",
       "       [ 15.49301141],\n",
       "       [ 17.09537241],\n",
       "       [ 28.15668543],\n",
       "       [ 17.76197116],\n",
       "       [ 38.68888682],\n",
       "       [ 78.39683006],\n",
       "       [ 18.31396758],\n",
       "       [ 54.08170635],\n",
       "       [ 24.3884599 ],\n",
       "       [ 25.60926156],\n",
       "       [ 16.89085185],\n",
       "       [  7.64652976],\n",
       "       [ 60.20758349],\n",
       "       [  5.40522052],\n",
       "       [ 68.94699774],\n",
       "       [ 19.87562242],\n",
       "       [ 67.2352155 ],\n",
       "       [ 94.79081712],\n",
       "       [ 56.14834113],\n",
       "       [ 45.96396877],\n",
       "       [ 51.57326718],\n",
       "       [ 97.55155344],\n",
       "       [ 91.69240746],\n",
       "       [ 11.21710477],\n",
       "       [  6.07939007],\n",
       "       [ 57.19103506],\n",
       "       [ 61.09367762],\n",
       "       [ 67.68142149],\n",
       "       [ 39.3294153 ],\n",
       "       [ 78.31056542],\n",
       "       [ 67.28725332],\n",
       "       [ 57.01631363],\n",
       "       [103.5266162 ],\n",
       "       [ 36.79224762],\n",
       "       [ 54.09063686],\n",
       "       [ 95.14907176],\n",
       "       [ 10.34754461],\n",
       "       [ 41.97607107],\n",
       "       [ 93.03483388],\n",
       "       [ 95.79747345],\n",
       "       [ 73.2300846 ],\n",
       "       [ 41.46923883],\n",
       "       [ 34.12473248],\n",
       "       [  9.3914168 ],\n",
       "       [ 52.45946688],\n",
       "       [ 97.27405461],\n",
       "       [ 13.12109842],\n",
       "       [ 14.86159401],\n",
       "       [ 16.68715211],\n",
       "       [  0.67607675],\n",
       "       [ 72.9138853 ],\n",
       "       [ 38.14753871],\n",
       "       [ 59.07247174],\n",
       "       [ 61.38800663],\n",
       "       [ 54.55446979],\n",
       "       [ 36.11334779],\n",
       "       [ 44.68913433],\n",
       "       [ 16.63507984],\n",
       "       [ 96.11982476],\n",
       "       [ 30.49412933],\n",
       "       [ 38.67780759],\n",
       "       [  7.46850184],\n",
       "       [ 77.9969477 ],\n",
       "       [ 37.80182795],\n",
       "       [ 91.59548851],\n",
       "       [ 64.37521087],\n",
       "       [ 88.80306911],\n",
       "       [ 59.8313966 ],\n",
       "       [ 84.06676818],\n",
       "       [ -2.34473854],\n",
       "       [ 97.41206981],\n",
       "       [ -2.7611826 ],\n",
       "       [ 12.07991648],\n",
       "       [105.4503788 ],\n",
       "       [ 23.17727887],\n",
       "       [ 51.80035866],\n",
       "       [ 70.9146434 ],\n",
       "       [ 79.50341495],\n",
       "       [ 40.03504862],\n",
       "       [ 79.3142548 ],\n",
       "       [ 78.04237454],\n",
       "       [ 24.68362712],\n",
       "       [ 38.98317436],\n",
       "       [ 63.28312382],\n",
       "       [ 47.41006725],\n",
       "       [ 36.94173178],\n",
       "       [ 52.28620611],\n",
       "       [ 49.83051801],\n",
       "       [ 83.68820499],\n",
       "       [ -3.46788379],\n",
       "       [  8.65571417],\n",
       "       [ -2.81991397],\n",
       "       [  8.67333636],\n",
       "       [ 25.69041546],\n",
       "       [ 80.97144285],\n",
       "       [ 67.02150613],\n",
       "       [ 47.49374765],\n",
       "       [ 26.59112396],\n",
       "       [ 59.10598995],\n",
       "       [ 10.41468095],\n",
       "       [ 13.83959878],\n",
       "       [ 78.79008525],\n",
       "       [ 62.22635684],\n",
       "       [ 36.06292994],\n",
       "       [ 53.52042319],\n",
       "       [ -1.04011421],\n",
       "       [  5.6340309 ],\n",
       "       [ 91.36566374],\n",
       "       [ 78.61042432],\n",
       "       [ 59.12912974],\n",
       "       [ 21.42637785],\n",
       "       [ 69.39858505],\n",
       "       [ 99.87382707],\n",
       "       [  2.81141583],\n",
       "       [ 60.91792707],\n",
       "       [ 60.07137496],\n",
       "       [ 68.16724757],\n",
       "       [ 51.10774273],\n",
       "       [ 68.11367147],\n",
       "       [ 33.07112825],\n",
       "       [ 74.68953276],\n",
       "       [ 59.61247085],\n",
       "       [ 90.65513736],\n",
       "       [  0.27530726],\n",
       "       [ 25.75612514],\n",
       "       [ 72.86282528],\n",
       "       [ 50.96155532],\n",
       "       [ 26.48713683],\n",
       "       [ 98.03017721],\n",
       "       [ 66.61499643],\n",
       "       [ 14.82248589],\n",
       "       [ 97.1082562 ],\n",
       "       [ 79.44769523],\n",
       "       [ 41.90368917],\n",
       "       [ 73.9308764 ]])"
      ]
     },
     "execution_count": 48,
     "metadata": {},
     "output_type": "execute_result"
    }
   ],
   "source": [
    "\n",
    "y_train.values.reshape(-1,1) "
   ]
=======
   "execution_count": null,
   "metadata": {},
   "outputs": [],
   "source": []
>>>>>>> 9bcb85082bee3521929bbc33123fdb6b165afb33
  },
  {
   "cell_type": "markdown",
   "metadata": {},
   "source": [
    "* Create an instance of the `LinearRegression` class and run the regression."
   ]
  },
  {
   "cell_type": "code",
<<<<<<< HEAD
   "execution_count": 49,
   "metadata": {},
   "outputs": [
    {
     "data": {
      "text/plain": [
       "LinearRegression()"
      ]
     },
     "execution_count": 49,
     "metadata": {},
     "output_type": "execute_result"
    }
   ],
   "source": [
    "from sklearn.linear_model import LinearRegression\n",
    "\n",
    "reg = LinearRegression()\n",
    "\n",
    "reg.fit(X_train.values.reshape(-1,1), y_train.values.reshape(-1,1))"
   ]
=======
   "execution_count": null,
   "metadata": {},
   "outputs": [],
   "source": []
>>>>>>> 9bcb85082bee3521929bbc33123fdb6b165afb33
  },
  {
   "cell_type": "markdown",
   "metadata": {},
   "source": [
    "* Output the score of the regression."
   ]
  },
  {
   "cell_type": "code",
<<<<<<< HEAD
   "execution_count": 51,
   "metadata": {},
   "outputs": [
    {
     "name": "stdout",
     "output_type": "stream",
     "text": [
      "0.9891282703312547\n"
     ]
    }
   ],
   "source": [
    "score = reg.score(X_test.values.reshape(-1,1), y_test.values.reshape(-1,1))\n",
    "print(score)"
   ]
=======
   "execution_count": null,
   "metadata": {},
   "outputs": [],
   "source": []
>>>>>>> 9bcb85082bee3521929bbc33123fdb6b165afb33
  },
  {
   "cell_type": "markdown",
   "metadata": {},
   "source": [
    "* Chart the data."
   ]
  },
  {
   "cell_type": "code",
<<<<<<< HEAD
   "execution_count": 52,
   "metadata": {},
   "outputs": [
    {
     "data": {
      "image/png": "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\n",
      "text/plain": [
       "<Figure size 432x288 with 1 Axes>"
      ]
     },
     "metadata": {
      "needs_background": "light"
     },
     "output_type": "display_data"
    }
   ],
   "source": [
    "x_line = np.arange(0,100).reshape(-1,1)\n",
    "ax= sns.regplot(x='x', y='y', data=df, fit_reg=True)\n",
    "plt.plot(x_line, reg.predict(x_line))\n",
    "plt.show()"
   ]
=======
   "execution_count": null,
   "metadata": {},
   "outputs": [],
   "source": []
>>>>>>> 9bcb85082bee3521929bbc33123fdb6b165afb33
  },
  {
   "cell_type": "markdown",
   "metadata": {},
   "source": [
    "* Bonus: what was the y-intercept and slope? Use the documentation to find this information out."
   ]
  },
  {
<<<<<<< HEAD
   "cell_type": "code",
   "execution_count": 53,
   "metadata": {},
   "outputs": [
    {
     "name": "stdout",
     "output_type": "stream",
     "text": [
      "[ 1.01433536 -0.46181077]\n"
     ]
    }
   ],
   "source": [
    "x = df[\"x\"]\n",
    "y = df[\"y\"]\n",
    "slope_intercept = np.polyfit(x,y,1)\n",
    "\n",
    "print(slope_intercept)\n"
   ]
=======
   "cell_type": "markdown",
   "metadata": {},
   "source": []
>>>>>>> 9bcb85082bee3521929bbc33123fdb6b165afb33
  },
  {
   "cell_type": "markdown",
   "metadata": {},
   "source": [
    "# Part 3\n",
    "\n",
    "Using a dataset of your choosing (try kaggle if stuck). Set up and run a linear regression on the data using the steps from Part 2. Don't worry if your results are inconclusive (it happens). Demonstrate that you're able to do it."
   ]
  },
  {
   "cell_type": "code",
<<<<<<< HEAD
   "execution_count": 55,
   "metadata": {},
   "outputs": [],
   "source": [
    "import yfinance as yf"
   ]
  },
  {
   "cell_type": "code",
   "execution_count": 56,
   "metadata": {},
   "outputs": [
    {
     "name": "stdout",
     "output_type": "stream",
     "text": [
      "Collecting pandas-datareader\n",
      "  Downloading pandas_datareader-0.9.0-py3-none-any.whl (107 kB)\n",
      "\u001b[K     |████████████████████████████████| 107 kB 7.6 MB/s eta 0:00:01\n",
      "\u001b[?25hRequirement already satisfied: pandas>=0.23 in /usr/local/lib/python3.8/site-packages (from pandas-datareader) (1.1.4)\n",
      "Requirement already satisfied: requests>=2.19.0 in /usr/local/lib/python3.8/site-packages (from pandas-datareader) (2.24.0)\n",
      "Requirement already satisfied: lxml in /usr/local/lib/python3.8/site-packages (from pandas-datareader) (4.6.3)\n",
      "Requirement already satisfied: numpy>=1.15.4 in /usr/local/lib/python3.8/site-packages (from pandas>=0.23->pandas-datareader) (1.19.4)\n",
      "Requirement already satisfied: pytz>=2017.2 in /usr/local/lib/python3.8/site-packages (from pandas>=0.23->pandas-datareader) (2020.4)\n",
      "Requirement already satisfied: python-dateutil>=2.7.3 in /usr/local/lib/python3.8/site-packages (from pandas>=0.23->pandas-datareader) (2.8.1)\n",
      "Requirement already satisfied: six>=1.5 in /usr/local/lib/python3.8/site-packages (from python-dateutil>=2.7.3->pandas>=0.23->pandas-datareader) (1.15.0)\n",
      "Requirement already satisfied: certifi>=2017.4.17 in /usr/local/lib/python3.8/site-packages (from requests>=2.19.0->pandas-datareader) (2020.6.20)\n",
      "Requirement already satisfied: idna<3,>=2.5 in /usr/local/lib/python3.8/site-packages (from requests>=2.19.0->pandas-datareader) (2.10)\n",
      "Requirement already satisfied: urllib3!=1.25.0,!=1.25.1,<1.26,>=1.21.1 in /usr/local/lib/python3.8/site-packages (from requests>=2.19.0->pandas-datareader) (1.25.11)\n",
      "Requirement already satisfied: chardet<4,>=3.0.2 in /usr/local/lib/python3.8/site-packages (from requests>=2.19.0->pandas-datareader) (3.0.4)\n",
      "Installing collected packages: pandas-datareader\n",
      "Successfully installed pandas-datareader-0.9.0\n",
      "Note: you may need to restart the kernel to use updated packages.\n"
     ]
    }
   ],
   "source": [
    "pip install pandas-datareader"
   ]
  },
  {
   "cell_type": "code",
   "execution_count": 136,
   "metadata": {},
   "outputs": [
    {
     "name": "stdout",
     "output_type": "stream",
     "text": [
      "yfinance.Ticker object <BTC-USD>\n"
     ]
    }
   ],
   "source": [
    "bitcoin = yf.Ticker(\"BTC-USD\")\n",
    "print(bitcoin)"
   ]
  },
  {
   "cell_type": "code",
   "execution_count": 137,
   "metadata": {},
   "outputs": [],
   "source": [
    "bitcoin_30 = bitcoin.history(start=\"2021-03-01\", end=\"2021-03-31\")"
   ]
  },
  {
   "cell_type": "code",
   "execution_count": 138,
   "metadata": {},
   "outputs": [
    {
     "data": {
      "text/html": [
       "<div>\n",
       "<style scoped>\n",
       "    .dataframe tbody tr th:only-of-type {\n",
       "        vertical-align: middle;\n",
       "    }\n",
       "\n",
       "    .dataframe tbody tr th {\n",
       "        vertical-align: top;\n",
       "    }\n",
       "\n",
       "    .dataframe thead th {\n",
       "        text-align: right;\n",
       "    }\n",
       "</style>\n",
       "<table border=\"1\" class=\"dataframe\">\n",
       "  <thead>\n",
       "    <tr style=\"text-align: right;\">\n",
       "      <th></th>\n",
       "      <th>Open</th>\n",
       "      <th>High</th>\n",
       "      <th>Low</th>\n",
       "      <th>Close</th>\n",
       "      <th>Volume</th>\n",
       "      <th>Dividends</th>\n",
       "      <th>Stock Splits</th>\n",
       "    </tr>\n",
       "    <tr>\n",
       "      <th>Date</th>\n",
       "      <th></th>\n",
       "      <th></th>\n",
       "      <th></th>\n",
       "      <th></th>\n",
       "      <th></th>\n",
       "      <th></th>\n",
       "      <th></th>\n",
       "    </tr>\n",
       "  </thead>\n",
       "  <tbody>\n",
       "    <tr>\n",
       "      <th>2021-03-01</th>\n",
       "      <td>45159.503906</td>\n",
       "      <td>49784.015625</td>\n",
       "      <td>45115.093750</td>\n",
       "      <td>49631.242188</td>\n",
       "      <td>53891300112</td>\n",
       "      <td>0</td>\n",
       "      <td>0</td>\n",
       "    </tr>\n",
       "    <tr>\n",
       "      <th>2021-03-02</th>\n",
       "      <td>49612.105469</td>\n",
       "      <td>50127.511719</td>\n",
       "      <td>47228.843750</td>\n",
       "      <td>48378.988281</td>\n",
       "      <td>47530897720</td>\n",
       "      <td>0</td>\n",
       "      <td>0</td>\n",
       "    </tr>\n",
       "    <tr>\n",
       "      <th>2021-03-03</th>\n",
       "      <td>48415.816406</td>\n",
       "      <td>52535.136719</td>\n",
       "      <td>48274.320312</td>\n",
       "      <td>50538.242188</td>\n",
       "      <td>53220811975</td>\n",
       "      <td>0</td>\n",
       "      <td>0</td>\n",
       "    </tr>\n",
       "    <tr>\n",
       "      <th>2021-03-04</th>\n",
       "      <td>50522.304688</td>\n",
       "      <td>51735.089844</td>\n",
       "      <td>47656.929688</td>\n",
       "      <td>48561.167969</td>\n",
       "      <td>52343816680</td>\n",
       "      <td>0</td>\n",
       "      <td>0</td>\n",
       "    </tr>\n",
       "    <tr>\n",
       "      <th>2021-03-05</th>\n",
       "      <td>48527.031250</td>\n",
       "      <td>49396.429688</td>\n",
       "      <td>46542.515625</td>\n",
       "      <td>48927.304688</td>\n",
       "      <td>48625928883</td>\n",
       "      <td>0</td>\n",
       "      <td>0</td>\n",
       "    </tr>\n",
       "    <tr>\n",
       "      <th>2021-03-06</th>\n",
       "      <td>48899.230469</td>\n",
       "      <td>49147.218750</td>\n",
       "      <td>47257.527344</td>\n",
       "      <td>48912.382812</td>\n",
       "      <td>34363564661</td>\n",
       "      <td>0</td>\n",
       "      <td>0</td>\n",
       "    </tr>\n",
       "    <tr>\n",
       "      <th>2021-03-07</th>\n",
       "      <td>48918.679688</td>\n",
       "      <td>51384.367188</td>\n",
       "      <td>48918.679688</td>\n",
       "      <td>51206.691406</td>\n",
       "      <td>43137459378</td>\n",
       "      <td>0</td>\n",
       "      <td>0</td>\n",
       "    </tr>\n",
       "    <tr>\n",
       "      <th>2021-03-08</th>\n",
       "      <td>51174.117188</td>\n",
       "      <td>52314.070312</td>\n",
       "      <td>49506.054688</td>\n",
       "      <td>52246.523438</td>\n",
       "      <td>48597428048</td>\n",
       "      <td>0</td>\n",
       "      <td>0</td>\n",
       "    </tr>\n",
       "    <tr>\n",
       "      <th>2021-03-09</th>\n",
       "      <td>52272.968750</td>\n",
       "      <td>54824.117188</td>\n",
       "      <td>51981.832031</td>\n",
       "      <td>54824.117188</td>\n",
       "      <td>50912227385</td>\n",
       "      <td>0</td>\n",
       "      <td>0</td>\n",
       "    </tr>\n",
       "    <tr>\n",
       "      <th>2021-03-10</th>\n",
       "      <td>54824.011719</td>\n",
       "      <td>57258.253906</td>\n",
       "      <td>53290.890625</td>\n",
       "      <td>56008.550781</td>\n",
       "      <td>57295577614</td>\n",
       "      <td>0</td>\n",
       "      <td>0</td>\n",
       "    </tr>\n",
       "    <tr>\n",
       "      <th>2021-03-11</th>\n",
       "      <td>55963.179688</td>\n",
       "      <td>58091.062500</td>\n",
       "      <td>54484.593750</td>\n",
       "      <td>57805.121094</td>\n",
       "      <td>56772343595</td>\n",
       "      <td>0</td>\n",
       "      <td>0</td>\n",
       "    </tr>\n",
       "    <tr>\n",
       "      <th>2021-03-12</th>\n",
       "      <td>57821.218750</td>\n",
       "      <td>57996.621094</td>\n",
       "      <td>55376.648438</td>\n",
       "      <td>57332.089844</td>\n",
       "      <td>55689944702</td>\n",
       "      <td>0</td>\n",
       "      <td>0</td>\n",
       "    </tr>\n",
       "    <tr>\n",
       "      <th>2021-03-13</th>\n",
       "      <td>57343.371094</td>\n",
       "      <td>61683.863281</td>\n",
       "      <td>56217.972656</td>\n",
       "      <td>61243.085938</td>\n",
       "      <td>60669829814</td>\n",
       "      <td>0</td>\n",
       "      <td>0</td>\n",
       "    </tr>\n",
       "    <tr>\n",
       "      <th>2021-03-14</th>\n",
       "      <td>61221.132812</td>\n",
       "      <td>61597.917969</td>\n",
       "      <td>59302.316406</td>\n",
       "      <td>59302.316406</td>\n",
       "      <td>43901225564</td>\n",
       "      <td>0</td>\n",
       "      <td>0</td>\n",
       "    </tr>\n",
       "    <tr>\n",
       "      <th>2021-03-15</th>\n",
       "      <td>59267.429688</td>\n",
       "      <td>60540.992188</td>\n",
       "      <td>55393.164062</td>\n",
       "      <td>55907.199219</td>\n",
       "      <td>66419369890</td>\n",
       "      <td>0</td>\n",
       "      <td>0</td>\n",
       "    </tr>\n",
       "    <tr>\n",
       "      <th>2021-03-16</th>\n",
       "      <td>55840.785156</td>\n",
       "      <td>56833.179688</td>\n",
       "      <td>53555.027344</td>\n",
       "      <td>56804.902344</td>\n",
       "      <td>59749798599</td>\n",
       "      <td>0</td>\n",
       "      <td>0</td>\n",
       "    </tr>\n",
       "    <tr>\n",
       "      <th>2021-03-17</th>\n",
       "      <td>56825.828125</td>\n",
       "      <td>58969.816406</td>\n",
       "      <td>54528.628906</td>\n",
       "      <td>58870.894531</td>\n",
       "      <td>60258313191</td>\n",
       "      <td>0</td>\n",
       "      <td>0</td>\n",
       "    </tr>\n",
       "    <tr>\n",
       "      <th>2021-03-18</th>\n",
       "      <td>58893.078125</td>\n",
       "      <td>60116.250000</td>\n",
       "      <td>54253.578125</td>\n",
       "      <td>57858.921875</td>\n",
       "      <td>55746041000</td>\n",
       "      <td>0</td>\n",
       "      <td>0</td>\n",
       "    </tr>\n",
       "    <tr>\n",
       "      <th>2021-03-19</th>\n",
       "      <td>57850.441406</td>\n",
       "      <td>59498.375000</td>\n",
       "      <td>56643.703125</td>\n",
       "      <td>58346.652344</td>\n",
       "      <td>49063873786</td>\n",
       "      <td>0</td>\n",
       "      <td>0</td>\n",
       "    </tr>\n",
       "    <tr>\n",
       "      <th>2021-03-20</th>\n",
       "      <td>58332.261719</td>\n",
       "      <td>60031.285156</td>\n",
       "      <td>58213.296875</td>\n",
       "      <td>58313.644531</td>\n",
       "      <td>50361731222</td>\n",
       "      <td>0</td>\n",
       "      <td>0</td>\n",
       "    </tr>\n",
       "    <tr>\n",
       "      <th>2021-03-21</th>\n",
       "      <td>58309.914062</td>\n",
       "      <td>58767.898438</td>\n",
       "      <td>56005.617188</td>\n",
       "      <td>57523.421875</td>\n",
       "      <td>51943414539</td>\n",
       "      <td>0</td>\n",
       "      <td>0</td>\n",
       "    </tr>\n",
       "    <tr>\n",
       "      <th>2021-03-22</th>\n",
       "      <td>57517.890625</td>\n",
       "      <td>58471.480469</td>\n",
       "      <td>54288.156250</td>\n",
       "      <td>54529.144531</td>\n",
       "      <td>56521454974</td>\n",
       "      <td>0</td>\n",
       "      <td>0</td>\n",
       "    </tr>\n",
       "    <tr>\n",
       "      <th>2021-03-23</th>\n",
       "      <td>54511.660156</td>\n",
       "      <td>55985.441406</td>\n",
       "      <td>53470.695312</td>\n",
       "      <td>54738.945312</td>\n",
       "      <td>56435023914</td>\n",
       "      <td>0</td>\n",
       "      <td>0</td>\n",
       "    </tr>\n",
       "    <tr>\n",
       "      <th>2021-03-24</th>\n",
       "      <td>54710.488281</td>\n",
       "      <td>57262.382812</td>\n",
       "      <td>52514.332031</td>\n",
       "      <td>52774.265625</td>\n",
       "      <td>70567223787</td>\n",
       "      <td>0</td>\n",
       "      <td>0</td>\n",
       "    </tr>\n",
       "    <tr>\n",
       "      <th>2021-03-25</th>\n",
       "      <td>52726.746094</td>\n",
       "      <td>53392.386719</td>\n",
       "      <td>50856.570312</td>\n",
       "      <td>51704.160156</td>\n",
       "      <td>67999812841</td>\n",
       "      <td>0</td>\n",
       "      <td>0</td>\n",
       "    </tr>\n",
       "    <tr>\n",
       "      <th>2021-03-26</th>\n",
       "      <td>51683.011719</td>\n",
       "      <td>55137.312500</td>\n",
       "      <td>51579.855469</td>\n",
       "      <td>55137.312500</td>\n",
       "      <td>56652197978</td>\n",
       "      <td>0</td>\n",
       "      <td>0</td>\n",
       "    </tr>\n",
       "    <tr>\n",
       "      <th>2021-03-27</th>\n",
       "      <td>55137.566406</td>\n",
       "      <td>56568.214844</td>\n",
       "      <td>54242.910156</td>\n",
       "      <td>55973.511719</td>\n",
       "      <td>47266542233</td>\n",
       "      <td>0</td>\n",
       "      <td>0</td>\n",
       "    </tr>\n",
       "    <tr>\n",
       "      <th>2021-03-28</th>\n",
       "      <td>55974.941406</td>\n",
       "      <td>56610.312500</td>\n",
       "      <td>55071.113281</td>\n",
       "      <td>55950.746094</td>\n",
       "      <td>47686580918</td>\n",
       "      <td>0</td>\n",
       "      <td>0</td>\n",
       "    </tr>\n",
       "    <tr>\n",
       "      <th>2021-03-29</th>\n",
       "      <td>55947.898438</td>\n",
       "      <td>58342.097656</td>\n",
       "      <td>55139.339844</td>\n",
       "      <td>57750.199219</td>\n",
       "      <td>57625587027</td>\n",
       "      <td>0</td>\n",
       "      <td>0</td>\n",
       "    </tr>\n",
       "    <tr>\n",
       "      <th>2021-03-30</th>\n",
       "      <td>57750.132812</td>\n",
       "      <td>59447.222656</td>\n",
       "      <td>57251.550781</td>\n",
       "      <td>58917.691406</td>\n",
       "      <td>54414116432</td>\n",
       "      <td>0</td>\n",
       "      <td>0</td>\n",
       "    </tr>\n",
       "    <tr>\n",
       "      <th>2021-03-31</th>\n",
       "      <td>58930.277344</td>\n",
       "      <td>59930.027344</td>\n",
       "      <td>57726.417969</td>\n",
       "      <td>58918.832031</td>\n",
       "      <td>65520826225</td>\n",
       "      <td>0</td>\n",
       "      <td>0</td>\n",
       "    </tr>\n",
       "  </tbody>\n",
       "</table>\n",
       "</div>"
      ],
      "text/plain": [
       "                    Open          High           Low         Close  \\\n",
       "Date                                                                 \n",
       "2021-03-01  45159.503906  49784.015625  45115.093750  49631.242188   \n",
       "2021-03-02  49612.105469  50127.511719  47228.843750  48378.988281   \n",
       "2021-03-03  48415.816406  52535.136719  48274.320312  50538.242188   \n",
       "2021-03-04  50522.304688  51735.089844  47656.929688  48561.167969   \n",
       "2021-03-05  48527.031250  49396.429688  46542.515625  48927.304688   \n",
       "2021-03-06  48899.230469  49147.218750  47257.527344  48912.382812   \n",
       "2021-03-07  48918.679688  51384.367188  48918.679688  51206.691406   \n",
       "2021-03-08  51174.117188  52314.070312  49506.054688  52246.523438   \n",
       "2021-03-09  52272.968750  54824.117188  51981.832031  54824.117188   \n",
       "2021-03-10  54824.011719  57258.253906  53290.890625  56008.550781   \n",
       "2021-03-11  55963.179688  58091.062500  54484.593750  57805.121094   \n",
       "2021-03-12  57821.218750  57996.621094  55376.648438  57332.089844   \n",
       "2021-03-13  57343.371094  61683.863281  56217.972656  61243.085938   \n",
       "2021-03-14  61221.132812  61597.917969  59302.316406  59302.316406   \n",
       "2021-03-15  59267.429688  60540.992188  55393.164062  55907.199219   \n",
       "2021-03-16  55840.785156  56833.179688  53555.027344  56804.902344   \n",
       "2021-03-17  56825.828125  58969.816406  54528.628906  58870.894531   \n",
       "2021-03-18  58893.078125  60116.250000  54253.578125  57858.921875   \n",
       "2021-03-19  57850.441406  59498.375000  56643.703125  58346.652344   \n",
       "2021-03-20  58332.261719  60031.285156  58213.296875  58313.644531   \n",
       "2021-03-21  58309.914062  58767.898438  56005.617188  57523.421875   \n",
       "2021-03-22  57517.890625  58471.480469  54288.156250  54529.144531   \n",
       "2021-03-23  54511.660156  55985.441406  53470.695312  54738.945312   \n",
       "2021-03-24  54710.488281  57262.382812  52514.332031  52774.265625   \n",
       "2021-03-25  52726.746094  53392.386719  50856.570312  51704.160156   \n",
       "2021-03-26  51683.011719  55137.312500  51579.855469  55137.312500   \n",
       "2021-03-27  55137.566406  56568.214844  54242.910156  55973.511719   \n",
       "2021-03-28  55974.941406  56610.312500  55071.113281  55950.746094   \n",
       "2021-03-29  55947.898438  58342.097656  55139.339844  57750.199219   \n",
       "2021-03-30  57750.132812  59447.222656  57251.550781  58917.691406   \n",
       "2021-03-31  58930.277344  59930.027344  57726.417969  58918.832031   \n",
       "\n",
       "                 Volume  Dividends  Stock Splits  \n",
       "Date                                              \n",
       "2021-03-01  53891300112          0             0  \n",
       "2021-03-02  47530897720          0             0  \n",
       "2021-03-03  53220811975          0             0  \n",
       "2021-03-04  52343816680          0             0  \n",
       "2021-03-05  48625928883          0             0  \n",
       "2021-03-06  34363564661          0             0  \n",
       "2021-03-07  43137459378          0             0  \n",
       "2021-03-08  48597428048          0             0  \n",
       "2021-03-09  50912227385          0             0  \n",
       "2021-03-10  57295577614          0             0  \n",
       "2021-03-11  56772343595          0             0  \n",
       "2021-03-12  55689944702          0             0  \n",
       "2021-03-13  60669829814          0             0  \n",
       "2021-03-14  43901225564          0             0  \n",
       "2021-03-15  66419369890          0             0  \n",
       "2021-03-16  59749798599          0             0  \n",
       "2021-03-17  60258313191          0             0  \n",
       "2021-03-18  55746041000          0             0  \n",
       "2021-03-19  49063873786          0             0  \n",
       "2021-03-20  50361731222          0             0  \n",
       "2021-03-21  51943414539          0             0  \n",
       "2021-03-22  56521454974          0             0  \n",
       "2021-03-23  56435023914          0             0  \n",
       "2021-03-24  70567223787          0             0  \n",
       "2021-03-25  67999812841          0             0  \n",
       "2021-03-26  56652197978          0             0  \n",
       "2021-03-27  47266542233          0             0  \n",
       "2021-03-28  47686580918          0             0  \n",
       "2021-03-29  57625587027          0             0  \n",
       "2021-03-30  54414116432          0             0  \n",
       "2021-03-31  65520826225          0             0  "
      ]
     },
     "execution_count": 138,
     "metadata": {},
     "output_type": "execute_result"
    }
   ],
   "source": [
    "bitcoin_30"
   ]
  },
  {
   "cell_type": "code",
   "execution_count": 139,
   "metadata": {},
   "outputs": [
    {
     "data": {
      "text/html": [
       "<div>\n",
       "<style scoped>\n",
       "    .dataframe tbody tr th:only-of-type {\n",
       "        vertical-align: middle;\n",
       "    }\n",
       "\n",
       "    .dataframe tbody tr th {\n",
       "        vertical-align: top;\n",
       "    }\n",
       "\n",
       "    .dataframe thead th {\n",
       "        text-align: right;\n",
       "    }\n",
       "</style>\n",
       "<table border=\"1\" class=\"dataframe\">\n",
       "  <thead>\n",
       "    <tr style=\"text-align: right;\">\n",
       "      <th></th>\n",
       "      <th>Open</th>\n",
       "      <th>High</th>\n",
       "      <th>Low</th>\n",
       "      <th>Close</th>\n",
       "      <th>Volume</th>\n",
       "      <th>Dividends</th>\n",
       "      <th>Stock Splits</th>\n",
       "    </tr>\n",
       "    <tr>\n",
       "      <th>Date</th>\n",
       "      <th></th>\n",
       "      <th></th>\n",
       "      <th></th>\n",
       "      <th></th>\n",
       "      <th></th>\n",
       "      <th></th>\n",
       "      <th></th>\n",
       "    </tr>\n",
       "  </thead>\n",
       "  <tbody>\n",
       "    <tr>\n",
       "      <th>2021-03-01</th>\n",
       "      <td>45159.503906</td>\n",
       "      <td>49784.015625</td>\n",
       "      <td>45115.093750</td>\n",
       "      <td>49631.242188</td>\n",
       "      <td>53891300112</td>\n",
       "      <td>0</td>\n",
       "      <td>0</td>\n",
       "    </tr>\n",
       "    <tr>\n",
       "      <th>2021-03-02</th>\n",
       "      <td>49612.105469</td>\n",
       "      <td>50127.511719</td>\n",
       "      <td>47228.843750</td>\n",
       "      <td>48378.988281</td>\n",
       "      <td>47530897720</td>\n",
       "      <td>0</td>\n",
       "      <td>0</td>\n",
       "    </tr>\n",
       "    <tr>\n",
       "      <th>2021-03-03</th>\n",
       "      <td>48415.816406</td>\n",
       "      <td>52535.136719</td>\n",
       "      <td>48274.320312</td>\n",
       "      <td>50538.242188</td>\n",
       "      <td>53220811975</td>\n",
       "      <td>0</td>\n",
       "      <td>0</td>\n",
       "    </tr>\n",
       "    <tr>\n",
       "      <th>2021-03-04</th>\n",
       "      <td>50522.304688</td>\n",
       "      <td>51735.089844</td>\n",
       "      <td>47656.929688</td>\n",
       "      <td>48561.167969</td>\n",
       "      <td>52343816680</td>\n",
       "      <td>0</td>\n",
       "      <td>0</td>\n",
       "    </tr>\n",
       "    <tr>\n",
       "      <th>2021-03-05</th>\n",
       "      <td>48527.031250</td>\n",
       "      <td>49396.429688</td>\n",
       "      <td>46542.515625</td>\n",
       "      <td>48927.304688</td>\n",
       "      <td>48625928883</td>\n",
       "      <td>0</td>\n",
       "      <td>0</td>\n",
       "    </tr>\n",
       "  </tbody>\n",
       "</table>\n",
       "</div>"
      ],
      "text/plain": [
       "                    Open          High           Low         Close  \\\n",
       "Date                                                                 \n",
       "2021-03-01  45159.503906  49784.015625  45115.093750  49631.242188   \n",
       "2021-03-02  49612.105469  50127.511719  47228.843750  48378.988281   \n",
       "2021-03-03  48415.816406  52535.136719  48274.320312  50538.242188   \n",
       "2021-03-04  50522.304688  51735.089844  47656.929688  48561.167969   \n",
       "2021-03-05  48527.031250  49396.429688  46542.515625  48927.304688   \n",
       "\n",
       "                 Volume  Dividends  Stock Splits  \n",
       "Date                                              \n",
       "2021-03-01  53891300112          0             0  \n",
       "2021-03-02  47530897720          0             0  \n",
       "2021-03-03  53220811975          0             0  \n",
       "2021-03-04  52343816680          0             0  \n",
       "2021-03-05  48625928883          0             0  "
      ]
     },
     "execution_count": 139,
     "metadata": {},
     "output_type": "execute_result"
    }
   ],
   "source": [
    "bitcoin_30.head()"
   ]
  },
  {
   "cell_type": "code",
   "execution_count": 140,
   "metadata": {},
   "outputs": [
    {
     "data": {
      "text/plain": [
       "(31, 7)"
      ]
     },
     "execution_count": 140,
     "metadata": {},
     "output_type": "execute_result"
    }
   ],
   "source": [
    "bitcoin_30.shape"
   ]
  },
  {
   "cell_type": "code",
   "execution_count": 141,
   "metadata": {},
   "outputs": [
    {
     "name": "stdout",
     "output_type": "stream",
     "text": [
      "<class 'pandas.core.frame.DataFrame'>\n",
      "DatetimeIndex: 31 entries, 2021-03-01 to 2021-03-31\n",
      "Data columns (total 7 columns):\n",
      " #   Column        Non-Null Count  Dtype  \n",
      "---  ------        --------------  -----  \n",
      " 0   Open          31 non-null     float64\n",
      " 1   High          31 non-null     float64\n",
      " 2   Low           31 non-null     float64\n",
      " 3   Close         31 non-null     float64\n",
      " 4   Volume        31 non-null     int64  \n",
      " 5   Dividends     31 non-null     int64  \n",
      " 6   Stock Splits  31 non-null     int64  \n",
      "dtypes: float64(4), int64(3)\n",
      "memory usage: 1.9 KB\n"
     ]
    }
   ],
   "source": [
    "bitcoin_30.info()"
   ]
  },
  {
   "cell_type": "code",
   "execution_count": 142,
   "metadata": {},
   "outputs": [
    {
     "data": {
      "image/png": "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\n",
      "text/plain": [
       "<Figure size 1260x1260 with 56 Axes>"
      ]
     },
     "metadata": {
      "needs_background": "light"
     },
     "output_type": "display_data"
    }
   ],
   "source": [
    "sns.pairplot(bitcoin_30)\n",
    "plt.show()"
   ]
  },
  {
   "cell_type": "code",
   "execution_count": 143,
   "metadata": {},
   "outputs": [
    {
     "data": {
      "text/html": [
       "<div>\n",
       "<style scoped>\n",
       "    .dataframe tbody tr th:only-of-type {\n",
       "        vertical-align: middle;\n",
       "    }\n",
       "\n",
       "    .dataframe tbody tr th {\n",
       "        vertical-align: top;\n",
       "    }\n",
       "\n",
       "    .dataframe thead th {\n",
       "        text-align: right;\n",
       "    }\n",
       "</style>\n",
       "<table border=\"1\" class=\"dataframe\">\n",
       "  <thead>\n",
       "    <tr style=\"text-align: right;\">\n",
       "      <th></th>\n",
       "      <th>Open</th>\n",
       "      <th>High</th>\n",
       "      <th>Low</th>\n",
       "      <th>Close</th>\n",
       "      <th>Volume</th>\n",
       "      <th>Dividends</th>\n",
       "      <th>Stock Splits</th>\n",
       "    </tr>\n",
       "  </thead>\n",
       "  <tbody>\n",
       "    <tr>\n",
       "      <th>Open</th>\n",
       "      <td>1.000000</td>\n",
       "      <td>0.955649</td>\n",
       "      <td>0.959576</td>\n",
       "      <td>0.881493</td>\n",
       "      <td>0.329065</td>\n",
       "      <td>NaN</td>\n",
       "      <td>NaN</td>\n",
       "    </tr>\n",
       "    <tr>\n",
       "      <th>High</th>\n",
       "      <td>0.955649</td>\n",
       "      <td>1.000000</td>\n",
       "      <td>0.955702</td>\n",
       "      <td>0.939772</td>\n",
       "      <td>0.421921</td>\n",
       "      <td>NaN</td>\n",
       "      <td>NaN</td>\n",
       "    </tr>\n",
       "    <tr>\n",
       "      <th>Low</th>\n",
       "      <td>0.959576</td>\n",
       "      <td>0.955702</td>\n",
       "      <td>1.000000</td>\n",
       "      <td>0.936038</td>\n",
       "      <td>0.273483</td>\n",
       "      <td>NaN</td>\n",
       "      <td>NaN</td>\n",
       "    </tr>\n",
       "    <tr>\n",
       "      <th>Close</th>\n",
       "      <td>0.881493</td>\n",
       "      <td>0.939772</td>\n",
       "      <td>0.936038</td>\n",
       "      <td>1.000000</td>\n",
       "      <td>0.299182</td>\n",
       "      <td>NaN</td>\n",
       "      <td>NaN</td>\n",
       "    </tr>\n",
       "    <tr>\n",
       "      <th>Volume</th>\n",
       "      <td>0.329065</td>\n",
       "      <td>0.421921</td>\n",
       "      <td>0.273483</td>\n",
       "      <td>0.299182</td>\n",
       "      <td>1.000000</td>\n",
       "      <td>NaN</td>\n",
       "      <td>NaN</td>\n",
       "    </tr>\n",
       "    <tr>\n",
       "      <th>Dividends</th>\n",
       "      <td>NaN</td>\n",
       "      <td>NaN</td>\n",
       "      <td>NaN</td>\n",
       "      <td>NaN</td>\n",
       "      <td>NaN</td>\n",
       "      <td>NaN</td>\n",
       "      <td>NaN</td>\n",
       "    </tr>\n",
       "    <tr>\n",
       "      <th>Stock Splits</th>\n",
       "      <td>NaN</td>\n",
       "      <td>NaN</td>\n",
       "      <td>NaN</td>\n",
       "      <td>NaN</td>\n",
       "      <td>NaN</td>\n",
       "      <td>NaN</td>\n",
       "      <td>NaN</td>\n",
       "    </tr>\n",
       "  </tbody>\n",
       "</table>\n",
       "</div>"
      ],
      "text/plain": [
       "                  Open      High       Low     Close    Volume  Dividends  \\\n",
       "Open          1.000000  0.955649  0.959576  0.881493  0.329065        NaN   \n",
       "High          0.955649  1.000000  0.955702  0.939772  0.421921        NaN   \n",
       "Low           0.959576  0.955702  1.000000  0.936038  0.273483        NaN   \n",
       "Close         0.881493  0.939772  0.936038  1.000000  0.299182        NaN   \n",
       "Volume        0.329065  0.421921  0.273483  0.299182  1.000000        NaN   \n",
       "Dividends          NaN       NaN       NaN       NaN       NaN        NaN   \n",
       "Stock Splits       NaN       NaN       NaN       NaN       NaN        NaN   \n",
       "\n",
       "              Stock Splits  \n",
       "Open                   NaN  \n",
       "High                   NaN  \n",
       "Low                    NaN  \n",
       "Close                  NaN  \n",
       "Volume                 NaN  \n",
       "Dividends              NaN  \n",
       "Stock Splits           NaN  "
      ]
     },
     "execution_count": 143,
     "metadata": {},
     "output_type": "execute_result"
    }
   ],
   "source": [
    "bitcoin_30.corr()"
   ]
  },
  {
   "cell_type": "code",
   "execution_count": 144,
   "metadata": {},
   "outputs": [
    {
     "data": {
      "text/html": [
       "<div>\n",
       "<style scoped>\n",
       "    .dataframe tbody tr th:only-of-type {\n",
       "        vertical-align: middle;\n",
       "    }\n",
       "\n",
       "    .dataframe tbody tr th {\n",
       "        vertical-align: top;\n",
       "    }\n",
       "\n",
       "    .dataframe thead th {\n",
       "        text-align: right;\n",
       "    }\n",
       "</style>\n",
       "<table border=\"1\" class=\"dataframe\">\n",
       "  <thead>\n",
       "    <tr style=\"text-align: right;\">\n",
       "      <th></th>\n",
       "      <th>Open</th>\n",
       "      <th>High</th>\n",
       "      <th>Low</th>\n",
       "      <th>Close</th>\n",
       "      <th>Volume</th>\n",
       "      <th>Dividends</th>\n",
       "      <th>Stock Splits</th>\n",
       "    </tr>\n",
       "  </thead>\n",
       "  <tbody>\n",
       "    <tr>\n",
       "      <th>Open</th>\n",
       "      <td>1.631429e+07</td>\n",
       "      <td>1.467760e+07</td>\n",
       "      <td>1.463762e+07</td>\n",
       "      <td>1.322336e+07</td>\n",
       "      <td>1.022358e+13</td>\n",
       "      <td>0.0</td>\n",
       "      <td>0.0</td>\n",
       "    </tr>\n",
       "    <tr>\n",
       "      <th>High</th>\n",
       "      <td>1.467760e+07</td>\n",
       "      <td>1.445923e+07</td>\n",
       "      <td>1.372467e+07</td>\n",
       "      <td>1.327193e+07</td>\n",
       "      <td>1.234072e+13</td>\n",
       "      <td>0.0</td>\n",
       "      <td>0.0</td>\n",
       "    </tr>\n",
       "    <tr>\n",
       "      <th>Low</th>\n",
       "      <td>1.463762e+07</td>\n",
       "      <td>1.372467e+07</td>\n",
       "      <td>1.426309e+07</td>\n",
       "      <td>1.312923e+07</td>\n",
       "      <td>7.944641e+12</td>\n",
       "      <td>0.0</td>\n",
       "      <td>0.0</td>\n",
       "    </tr>\n",
       "    <tr>\n",
       "      <th>Close</th>\n",
       "      <td>1.322336e+07</td>\n",
       "      <td>1.327193e+07</td>\n",
       "      <td>1.312923e+07</td>\n",
       "      <td>1.379360e+07</td>\n",
       "      <td>8.546963e+12</td>\n",
       "      <td>0.0</td>\n",
       "      <td>0.0</td>\n",
       "    </tr>\n",
       "    <tr>\n",
       "      <th>Volume</th>\n",
       "      <td>1.022358e+13</td>\n",
       "      <td>1.234072e+13</td>\n",
       "      <td>7.944641e+12</td>\n",
       "      <td>8.546963e+12</td>\n",
       "      <td>5.916631e+19</td>\n",
       "      <td>0.0</td>\n",
       "      <td>0.0</td>\n",
       "    </tr>\n",
       "    <tr>\n",
       "      <th>Dividends</th>\n",
       "      <td>0.000000e+00</td>\n",
       "      <td>0.000000e+00</td>\n",
       "      <td>0.000000e+00</td>\n",
       "      <td>0.000000e+00</td>\n",
       "      <td>0.000000e+00</td>\n",
       "      <td>0.0</td>\n",
       "      <td>0.0</td>\n",
       "    </tr>\n",
       "    <tr>\n",
       "      <th>Stock Splits</th>\n",
       "      <td>0.000000e+00</td>\n",
       "      <td>0.000000e+00</td>\n",
       "      <td>0.000000e+00</td>\n",
       "      <td>0.000000e+00</td>\n",
       "      <td>0.000000e+00</td>\n",
       "      <td>0.0</td>\n",
       "      <td>0.0</td>\n",
       "    </tr>\n",
       "  </tbody>\n",
       "</table>\n",
       "</div>"
      ],
      "text/plain": [
       "                      Open          High           Low         Close  \\\n",
       "Open          1.631429e+07  1.467760e+07  1.463762e+07  1.322336e+07   \n",
       "High          1.467760e+07  1.445923e+07  1.372467e+07  1.327193e+07   \n",
       "Low           1.463762e+07  1.372467e+07  1.426309e+07  1.312923e+07   \n",
       "Close         1.322336e+07  1.327193e+07  1.312923e+07  1.379360e+07   \n",
       "Volume        1.022358e+13  1.234072e+13  7.944641e+12  8.546963e+12   \n",
       "Dividends     0.000000e+00  0.000000e+00  0.000000e+00  0.000000e+00   \n",
       "Stock Splits  0.000000e+00  0.000000e+00  0.000000e+00  0.000000e+00   \n",
       "\n",
       "                    Volume  Dividends  Stock Splits  \n",
       "Open          1.022358e+13        0.0           0.0  \n",
       "High          1.234072e+13        0.0           0.0  \n",
       "Low           7.944641e+12        0.0           0.0  \n",
       "Close         8.546963e+12        0.0           0.0  \n",
       "Volume        5.916631e+19        0.0           0.0  \n",
       "Dividends     0.000000e+00        0.0           0.0  \n",
       "Stock Splits  0.000000e+00        0.0           0.0  "
      ]
     },
     "execution_count": 144,
     "metadata": {},
     "output_type": "execute_result"
    }
   ],
   "source": [
    "bitcoin_30.cov()"
   ]
  },
  {
   "cell_type": "code",
   "execution_count": 145,
   "metadata": {},
   "outputs": [
    {
     "data": {
      "text/plain": [
       "<AxesSubplot:>"
      ]
     },
     "execution_count": 145,
     "metadata": {},
     "output_type": "execute_result"
    },
    {
     "data": {
      "image/png": "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\n",
      "text/plain": [
       "<Figure size 432x288 with 2 Axes>"
      ]
     },
     "metadata": {
      "needs_background": "light"
     },
     "output_type": "display_data"
    }
   ],
   "source": [
    "sns.heatmap(bitcoin_30.corr())"
   ]
  },
  {
   "cell_type": "code",
   "execution_count": 148,
   "metadata": {},
   "outputs": [],
   "source": [
    "bitcoin_30.reset_index(inplace=True)\n",
    "bitcoin_30 = bitcoin_30.rename(columns = {'index':'Days'})"
   ]
  },
  {
   "cell_type": "code",
   "execution_count": 149,
   "metadata": {},
   "outputs": [
    {
     "data": {
      "text/html": [
       "<div>\n",
       "<style scoped>\n",
       "    .dataframe tbody tr th:only-of-type {\n",
       "        vertical-align: middle;\n",
       "    }\n",
       "\n",
       "    .dataframe tbody tr th {\n",
       "        vertical-align: top;\n",
       "    }\n",
       "\n",
       "    .dataframe thead th {\n",
       "        text-align: right;\n",
       "    }\n",
       "</style>\n",
       "<table border=\"1\" class=\"dataframe\">\n",
       "  <thead>\n",
       "    <tr style=\"text-align: right;\">\n",
       "      <th></th>\n",
       "      <th>Days</th>\n",
       "      <th>Date</th>\n",
       "      <th>Open</th>\n",
       "      <th>High</th>\n",
       "      <th>Low</th>\n",
       "      <th>Close</th>\n",
       "      <th>Volume</th>\n",
       "      <th>Dividends</th>\n",
       "      <th>Stock Splits</th>\n",
       "    </tr>\n",
       "  </thead>\n",
       "  <tbody>\n",
       "    <tr>\n",
       "      <th>0</th>\n",
       "      <td>0</td>\n",
       "      <td>2021-03-01</td>\n",
       "      <td>45159.503906</td>\n",
       "      <td>49784.015625</td>\n",
       "      <td>45115.093750</td>\n",
       "      <td>49631.242188</td>\n",
       "      <td>53891300112</td>\n",
       "      <td>0</td>\n",
       "      <td>0</td>\n",
       "    </tr>\n",
       "    <tr>\n",
       "      <th>1</th>\n",
       "      <td>1</td>\n",
       "      <td>2021-03-02</td>\n",
       "      <td>49612.105469</td>\n",
       "      <td>50127.511719</td>\n",
       "      <td>47228.843750</td>\n",
       "      <td>48378.988281</td>\n",
       "      <td>47530897720</td>\n",
       "      <td>0</td>\n",
       "      <td>0</td>\n",
       "    </tr>\n",
       "    <tr>\n",
       "      <th>2</th>\n",
       "      <td>2</td>\n",
       "      <td>2021-03-03</td>\n",
       "      <td>48415.816406</td>\n",
       "      <td>52535.136719</td>\n",
       "      <td>48274.320312</td>\n",
       "      <td>50538.242188</td>\n",
       "      <td>53220811975</td>\n",
       "      <td>0</td>\n",
       "      <td>0</td>\n",
       "    </tr>\n",
       "    <tr>\n",
       "      <th>3</th>\n",
       "      <td>3</td>\n",
       "      <td>2021-03-04</td>\n",
       "      <td>50522.304688</td>\n",
       "      <td>51735.089844</td>\n",
       "      <td>47656.929688</td>\n",
       "      <td>48561.167969</td>\n",
       "      <td>52343816680</td>\n",
       "      <td>0</td>\n",
       "      <td>0</td>\n",
       "    </tr>\n",
       "    <tr>\n",
       "      <th>4</th>\n",
       "      <td>4</td>\n",
       "      <td>2021-03-05</td>\n",
       "      <td>48527.031250</td>\n",
       "      <td>49396.429688</td>\n",
       "      <td>46542.515625</td>\n",
       "      <td>48927.304688</td>\n",
       "      <td>48625928883</td>\n",
       "      <td>0</td>\n",
       "      <td>0</td>\n",
       "    </tr>\n",
       "    <tr>\n",
       "      <th>5</th>\n",
       "      <td>5</td>\n",
       "      <td>2021-03-06</td>\n",
       "      <td>48899.230469</td>\n",
       "      <td>49147.218750</td>\n",
       "      <td>47257.527344</td>\n",
       "      <td>48912.382812</td>\n",
       "      <td>34363564661</td>\n",
       "      <td>0</td>\n",
       "      <td>0</td>\n",
       "    </tr>\n",
       "    <tr>\n",
       "      <th>6</th>\n",
       "      <td>6</td>\n",
       "      <td>2021-03-07</td>\n",
       "      <td>48918.679688</td>\n",
       "      <td>51384.367188</td>\n",
       "      <td>48918.679688</td>\n",
       "      <td>51206.691406</td>\n",
       "      <td>43137459378</td>\n",
       "      <td>0</td>\n",
       "      <td>0</td>\n",
       "    </tr>\n",
       "    <tr>\n",
       "      <th>7</th>\n",
       "      <td>7</td>\n",
       "      <td>2021-03-08</td>\n",
       "      <td>51174.117188</td>\n",
       "      <td>52314.070312</td>\n",
       "      <td>49506.054688</td>\n",
       "      <td>52246.523438</td>\n",
       "      <td>48597428048</td>\n",
       "      <td>0</td>\n",
       "      <td>0</td>\n",
       "    </tr>\n",
       "    <tr>\n",
       "      <th>8</th>\n",
       "      <td>8</td>\n",
       "      <td>2021-03-09</td>\n",
       "      <td>52272.968750</td>\n",
       "      <td>54824.117188</td>\n",
       "      <td>51981.832031</td>\n",
       "      <td>54824.117188</td>\n",
       "      <td>50912227385</td>\n",
       "      <td>0</td>\n",
       "      <td>0</td>\n",
       "    </tr>\n",
       "    <tr>\n",
       "      <th>9</th>\n",
       "      <td>9</td>\n",
       "      <td>2021-03-10</td>\n",
       "      <td>54824.011719</td>\n",
       "      <td>57258.253906</td>\n",
       "      <td>53290.890625</td>\n",
       "      <td>56008.550781</td>\n",
       "      <td>57295577614</td>\n",
       "      <td>0</td>\n",
       "      <td>0</td>\n",
       "    </tr>\n",
       "    <tr>\n",
       "      <th>10</th>\n",
       "      <td>10</td>\n",
       "      <td>2021-03-11</td>\n",
       "      <td>55963.179688</td>\n",
       "      <td>58091.062500</td>\n",
       "      <td>54484.593750</td>\n",
       "      <td>57805.121094</td>\n",
       "      <td>56772343595</td>\n",
       "      <td>0</td>\n",
       "      <td>0</td>\n",
       "    </tr>\n",
       "    <tr>\n",
       "      <th>11</th>\n",
       "      <td>11</td>\n",
       "      <td>2021-03-12</td>\n",
       "      <td>57821.218750</td>\n",
       "      <td>57996.621094</td>\n",
       "      <td>55376.648438</td>\n",
       "      <td>57332.089844</td>\n",
       "      <td>55689944702</td>\n",
       "      <td>0</td>\n",
       "      <td>0</td>\n",
       "    </tr>\n",
       "    <tr>\n",
       "      <th>12</th>\n",
       "      <td>12</td>\n",
       "      <td>2021-03-13</td>\n",
       "      <td>57343.371094</td>\n",
       "      <td>61683.863281</td>\n",
       "      <td>56217.972656</td>\n",
       "      <td>61243.085938</td>\n",
       "      <td>60669829814</td>\n",
       "      <td>0</td>\n",
       "      <td>0</td>\n",
       "    </tr>\n",
       "    <tr>\n",
       "      <th>13</th>\n",
       "      <td>13</td>\n",
       "      <td>2021-03-14</td>\n",
       "      <td>61221.132812</td>\n",
       "      <td>61597.917969</td>\n",
       "      <td>59302.316406</td>\n",
       "      <td>59302.316406</td>\n",
       "      <td>43901225564</td>\n",
       "      <td>0</td>\n",
       "      <td>0</td>\n",
       "    </tr>\n",
       "    <tr>\n",
       "      <th>14</th>\n",
       "      <td>14</td>\n",
       "      <td>2021-03-15</td>\n",
       "      <td>59267.429688</td>\n",
       "      <td>60540.992188</td>\n",
       "      <td>55393.164062</td>\n",
       "      <td>55907.199219</td>\n",
       "      <td>66419369890</td>\n",
       "      <td>0</td>\n",
       "      <td>0</td>\n",
       "    </tr>\n",
       "    <tr>\n",
       "      <th>15</th>\n",
       "      <td>15</td>\n",
       "      <td>2021-03-16</td>\n",
       "      <td>55840.785156</td>\n",
       "      <td>56833.179688</td>\n",
       "      <td>53555.027344</td>\n",
       "      <td>56804.902344</td>\n",
       "      <td>59749798599</td>\n",
       "      <td>0</td>\n",
       "      <td>0</td>\n",
       "    </tr>\n",
       "    <tr>\n",
       "      <th>16</th>\n",
       "      <td>16</td>\n",
       "      <td>2021-03-17</td>\n",
       "      <td>56825.828125</td>\n",
       "      <td>58969.816406</td>\n",
       "      <td>54528.628906</td>\n",
       "      <td>58870.894531</td>\n",
       "      <td>60258313191</td>\n",
       "      <td>0</td>\n",
       "      <td>0</td>\n",
       "    </tr>\n",
       "    <tr>\n",
       "      <th>17</th>\n",
       "      <td>17</td>\n",
       "      <td>2021-03-18</td>\n",
       "      <td>58893.078125</td>\n",
       "      <td>60116.250000</td>\n",
       "      <td>54253.578125</td>\n",
       "      <td>57858.921875</td>\n",
       "      <td>55746041000</td>\n",
       "      <td>0</td>\n",
       "      <td>0</td>\n",
       "    </tr>\n",
       "    <tr>\n",
       "      <th>18</th>\n",
       "      <td>18</td>\n",
       "      <td>2021-03-19</td>\n",
       "      <td>57850.441406</td>\n",
       "      <td>59498.375000</td>\n",
       "      <td>56643.703125</td>\n",
       "      <td>58346.652344</td>\n",
       "      <td>49063873786</td>\n",
       "      <td>0</td>\n",
       "      <td>0</td>\n",
       "    </tr>\n",
       "    <tr>\n",
       "      <th>19</th>\n",
       "      <td>19</td>\n",
       "      <td>2021-03-20</td>\n",
       "      <td>58332.261719</td>\n",
       "      <td>60031.285156</td>\n",
       "      <td>58213.296875</td>\n",
       "      <td>58313.644531</td>\n",
       "      <td>50361731222</td>\n",
       "      <td>0</td>\n",
       "      <td>0</td>\n",
       "    </tr>\n",
       "    <tr>\n",
       "      <th>20</th>\n",
       "      <td>20</td>\n",
       "      <td>2021-03-21</td>\n",
       "      <td>58309.914062</td>\n",
       "      <td>58767.898438</td>\n",
       "      <td>56005.617188</td>\n",
       "      <td>57523.421875</td>\n",
       "      <td>51943414539</td>\n",
       "      <td>0</td>\n",
       "      <td>0</td>\n",
       "    </tr>\n",
       "    <tr>\n",
       "      <th>21</th>\n",
       "      <td>21</td>\n",
       "      <td>2021-03-22</td>\n",
       "      <td>57517.890625</td>\n",
       "      <td>58471.480469</td>\n",
       "      <td>54288.156250</td>\n",
       "      <td>54529.144531</td>\n",
       "      <td>56521454974</td>\n",
       "      <td>0</td>\n",
       "      <td>0</td>\n",
       "    </tr>\n",
       "    <tr>\n",
       "      <th>22</th>\n",
       "      <td>22</td>\n",
       "      <td>2021-03-23</td>\n",
       "      <td>54511.660156</td>\n",
       "      <td>55985.441406</td>\n",
       "      <td>53470.695312</td>\n",
       "      <td>54738.945312</td>\n",
       "      <td>56435023914</td>\n",
       "      <td>0</td>\n",
       "      <td>0</td>\n",
       "    </tr>\n",
       "    <tr>\n",
       "      <th>23</th>\n",
       "      <td>23</td>\n",
       "      <td>2021-03-24</td>\n",
       "      <td>54710.488281</td>\n",
       "      <td>57262.382812</td>\n",
       "      <td>52514.332031</td>\n",
       "      <td>52774.265625</td>\n",
       "      <td>70567223787</td>\n",
       "      <td>0</td>\n",
       "      <td>0</td>\n",
       "    </tr>\n",
       "    <tr>\n",
       "      <th>24</th>\n",
       "      <td>24</td>\n",
       "      <td>2021-03-25</td>\n",
       "      <td>52726.746094</td>\n",
       "      <td>53392.386719</td>\n",
       "      <td>50856.570312</td>\n",
       "      <td>51704.160156</td>\n",
       "      <td>67999812841</td>\n",
       "      <td>0</td>\n",
       "      <td>0</td>\n",
       "    </tr>\n",
       "    <tr>\n",
       "      <th>25</th>\n",
       "      <td>25</td>\n",
       "      <td>2021-03-26</td>\n",
       "      <td>51683.011719</td>\n",
       "      <td>55137.312500</td>\n",
       "      <td>51579.855469</td>\n",
       "      <td>55137.312500</td>\n",
       "      <td>56652197978</td>\n",
       "      <td>0</td>\n",
       "      <td>0</td>\n",
       "    </tr>\n",
       "    <tr>\n",
       "      <th>26</th>\n",
       "      <td>26</td>\n",
       "      <td>2021-03-27</td>\n",
       "      <td>55137.566406</td>\n",
       "      <td>56568.214844</td>\n",
       "      <td>54242.910156</td>\n",
       "      <td>55973.511719</td>\n",
       "      <td>47266542233</td>\n",
       "      <td>0</td>\n",
       "      <td>0</td>\n",
       "    </tr>\n",
       "    <tr>\n",
       "      <th>27</th>\n",
       "      <td>27</td>\n",
       "      <td>2021-03-28</td>\n",
       "      <td>55974.941406</td>\n",
       "      <td>56610.312500</td>\n",
       "      <td>55071.113281</td>\n",
       "      <td>55950.746094</td>\n",
       "      <td>47686580918</td>\n",
       "      <td>0</td>\n",
       "      <td>0</td>\n",
       "    </tr>\n",
       "    <tr>\n",
       "      <th>28</th>\n",
       "      <td>28</td>\n",
       "      <td>2021-03-29</td>\n",
       "      <td>55947.898438</td>\n",
       "      <td>58342.097656</td>\n",
       "      <td>55139.339844</td>\n",
       "      <td>57750.199219</td>\n",
       "      <td>57625587027</td>\n",
       "      <td>0</td>\n",
       "      <td>0</td>\n",
       "    </tr>\n",
       "    <tr>\n",
       "      <th>29</th>\n",
       "      <td>29</td>\n",
       "      <td>2021-03-30</td>\n",
       "      <td>57750.132812</td>\n",
       "      <td>59447.222656</td>\n",
       "      <td>57251.550781</td>\n",
       "      <td>58917.691406</td>\n",
       "      <td>54414116432</td>\n",
       "      <td>0</td>\n",
       "      <td>0</td>\n",
       "    </tr>\n",
       "    <tr>\n",
       "      <th>30</th>\n",
       "      <td>30</td>\n",
       "      <td>2021-03-31</td>\n",
       "      <td>58930.277344</td>\n",
       "      <td>59930.027344</td>\n",
       "      <td>57726.417969</td>\n",
       "      <td>58918.832031</td>\n",
       "      <td>65520826225</td>\n",
       "      <td>0</td>\n",
       "      <td>0</td>\n",
       "    </tr>\n",
       "  </tbody>\n",
       "</table>\n",
       "</div>"
      ],
      "text/plain": [
       "    Days       Date          Open          High           Low         Close  \\\n",
       "0      0 2021-03-01  45159.503906  49784.015625  45115.093750  49631.242188   \n",
       "1      1 2021-03-02  49612.105469  50127.511719  47228.843750  48378.988281   \n",
       "2      2 2021-03-03  48415.816406  52535.136719  48274.320312  50538.242188   \n",
       "3      3 2021-03-04  50522.304688  51735.089844  47656.929688  48561.167969   \n",
       "4      4 2021-03-05  48527.031250  49396.429688  46542.515625  48927.304688   \n",
       "5      5 2021-03-06  48899.230469  49147.218750  47257.527344  48912.382812   \n",
       "6      6 2021-03-07  48918.679688  51384.367188  48918.679688  51206.691406   \n",
       "7      7 2021-03-08  51174.117188  52314.070312  49506.054688  52246.523438   \n",
       "8      8 2021-03-09  52272.968750  54824.117188  51981.832031  54824.117188   \n",
       "9      9 2021-03-10  54824.011719  57258.253906  53290.890625  56008.550781   \n",
       "10    10 2021-03-11  55963.179688  58091.062500  54484.593750  57805.121094   \n",
       "11    11 2021-03-12  57821.218750  57996.621094  55376.648438  57332.089844   \n",
       "12    12 2021-03-13  57343.371094  61683.863281  56217.972656  61243.085938   \n",
       "13    13 2021-03-14  61221.132812  61597.917969  59302.316406  59302.316406   \n",
       "14    14 2021-03-15  59267.429688  60540.992188  55393.164062  55907.199219   \n",
       "15    15 2021-03-16  55840.785156  56833.179688  53555.027344  56804.902344   \n",
       "16    16 2021-03-17  56825.828125  58969.816406  54528.628906  58870.894531   \n",
       "17    17 2021-03-18  58893.078125  60116.250000  54253.578125  57858.921875   \n",
       "18    18 2021-03-19  57850.441406  59498.375000  56643.703125  58346.652344   \n",
       "19    19 2021-03-20  58332.261719  60031.285156  58213.296875  58313.644531   \n",
       "20    20 2021-03-21  58309.914062  58767.898438  56005.617188  57523.421875   \n",
       "21    21 2021-03-22  57517.890625  58471.480469  54288.156250  54529.144531   \n",
       "22    22 2021-03-23  54511.660156  55985.441406  53470.695312  54738.945312   \n",
       "23    23 2021-03-24  54710.488281  57262.382812  52514.332031  52774.265625   \n",
       "24    24 2021-03-25  52726.746094  53392.386719  50856.570312  51704.160156   \n",
       "25    25 2021-03-26  51683.011719  55137.312500  51579.855469  55137.312500   \n",
       "26    26 2021-03-27  55137.566406  56568.214844  54242.910156  55973.511719   \n",
       "27    27 2021-03-28  55974.941406  56610.312500  55071.113281  55950.746094   \n",
       "28    28 2021-03-29  55947.898438  58342.097656  55139.339844  57750.199219   \n",
       "29    29 2021-03-30  57750.132812  59447.222656  57251.550781  58917.691406   \n",
       "30    30 2021-03-31  58930.277344  59930.027344  57726.417969  58918.832031   \n",
       "\n",
       "         Volume  Dividends  Stock Splits  \n",
       "0   53891300112          0             0  \n",
       "1   47530897720          0             0  \n",
       "2   53220811975          0             0  \n",
       "3   52343816680          0             0  \n",
       "4   48625928883          0             0  \n",
       "5   34363564661          0             0  \n",
       "6   43137459378          0             0  \n",
       "7   48597428048          0             0  \n",
       "8   50912227385          0             0  \n",
       "9   57295577614          0             0  \n",
       "10  56772343595          0             0  \n",
       "11  55689944702          0             0  \n",
       "12  60669829814          0             0  \n",
       "13  43901225564          0             0  \n",
       "14  66419369890          0             0  \n",
       "15  59749798599          0             0  \n",
       "16  60258313191          0             0  \n",
       "17  55746041000          0             0  \n",
       "18  49063873786          0             0  \n",
       "19  50361731222          0             0  \n",
       "20  51943414539          0             0  \n",
       "21  56521454974          0             0  \n",
       "22  56435023914          0             0  \n",
       "23  70567223787          0             0  \n",
       "24  67999812841          0             0  \n",
       "25  56652197978          0             0  \n",
       "26  47266542233          0             0  \n",
       "27  47686580918          0             0  \n",
       "28  57625587027          0             0  \n",
       "29  54414116432          0             0  \n",
       "30  65520826225          0             0  "
      ]
     },
     "execution_count": 149,
     "metadata": {},
     "output_type": "execute_result"
    }
   ],
   "source": [
    "bitcoin_30"
   ]
  },
  {
   "cell_type": "code",
   "execution_count": 150,
   "metadata": {},
   "outputs": [
    {
     "data": {
      "image/png": "iVBORw0KGgoAAAANSUhEUgAABYQAAAWHCAYAAAD0v3LsAAAAOXRFWHRTb2Z0d2FyZQBNYXRwbG90bGliIHZlcnNpb24zLjMuMywgaHR0cHM6Ly9tYXRwbG90bGliLm9yZy/Il7ecAAAACXBIWXMAAAsTAAALEwEAmpwYAAEAAElEQVR4nOz9f5ycZX3v8b8/k2xY8gs2YbOJCUuIRtEEiGmK1BKq0HJiji1RelD8VqmH0/SciqGlp6X22GOr6FfaU/ol6LFC/YWnHKB6rLSNQQ7BY/oooLFEJFJNiAkEk81mifmxYcmP+Xz/2JlldjMzOzN73XP/ej0fj3ns7r0zs9fMvO/Pfc21c1+XubsAAAAAAAAAANlXiLsBAAAAAAAAAID2YEAYAAAAAAAAAHKCAWEAAAAAAAAAyAkGhAEAAAAAAAAgJxgQBgAAAAAAAICcYEAYAAAAAAAAAHIidwPCq1atcklcuIS4RIqscgl4iRRZ5RLwEimyyiXgJVJklUvAS6TIKpeAl0iRVS4BL5Eiq1wCXurK3YDwgQMH4m4C0BCyirQgq0gLsoq0IKtIC7KKtCCrSAuyinbJ3YAwAAAAAAAAAORVKgaEzazTzL5jZt83s21m9mel7eeb2RNmtsPM7jezKXG3FQAAAAAAAACSanLcDWjQy5KucPejZtYh6Z/N7BuSbpb0V+5+n5n9taQbJH0mzoYCwHiKRdeugUH1HR5Sz8xOLZw9TYWCxd0soCryijQit0gCcoi0I8P5wWuNtCCr4aRiQNjdXdLR0o8dpYtLukLSe0rbvyTpT8WAMIAEKxZdG7ft080PbNXQiaI6Owq6/dplWrVkLgcyJA55RRqRWyQBOUTakeH84LVGWpDVsFIxZYQkmdkkM9sqab+khyU9K+ln7n6ydJU9kubH1DwAaMiugcGRA5gkDZ0o6uYHtmrXwGDMLQNOR16RRuQWSUAOkXZkOD94rZEWZDWs1AwIu/spd18maYGkSyRd0OhtzWytmW0xsy39/f1RNRGYMLKafX2Hh0YOYGVDJ4raf2Qopha1hqzmQxbySlbzJ625JavZktYcNoKs5kMWMkxWG5OF1zrtyGpjyGpYqRkQLnP3n0l6VNIvSDrbzMrTXiyQ9EKN29zl7ivcfUV3d3d7Ggq0gKymW7Ho2tl/VI89e0A7+4+qWPTTrtMzs1OdHaNLb2dHQXNmdLarmUGQ1eyplt8s5JWs5kNlfqdOmZzK3JLVbMlC/ayFrIbRSL8xTlnIMFltTBZe67Qjq40hq2GlYkDYzLrN7OzS92dK+hVJz2h4YPjXS1e7XtLXY2kggNwrz2e0ev1mXXf3E1q9frM2btt3Wud+4expuv3aZSMHsvK8RwtnT4uj2YCk2vnt7ZpKXpF4Y/O77r5/1a1rlpJbxKq3a+ppObx1zVL1dk2NuWVIgkb7jXGiz5of1CukBVkNKxWLykmaJ+lLZjZJw4PYD7j7P5rZDyXdZ2a3SnpS0ufibCSA/Ko1n9EF61ZqUff0kesVCqZVS+bqgnUrtf/IkObMYGVUxK9WfjesW0lekXhj87t74CXduWm77l97qV46cYrcIhbPHTymOzdt1w2XLZKZ5C7duWm7lvd2jeoXIJ8a7TfGiT5rflCvkBZkNaxUDAi7+1OS3lhl+04NzycMALGqN5/R2INToWBa1D2dgxYSY7z8klckWbX87h54SS+dOKVLF50TU6uQd32Hh7R74CV9+tEdo7ZX6xcgf5rpN8aJPms+UK+QFmQ1rFRMGQEAScd8Rkgz8os0I79IInKJesgHkoQ8Ii3IalgMCANAhVYX+GCeNSRRo3kmv2i3kIspkV+0SzO5JZeop5V8JH0ROqQX9QppQVbDSsWUEQDQDuUFPspzupUPMKuWzB13vjTmWUPSNJNn8ot2mkitrYb8oh2azS25RD3N5iN03QTGmjLZtPbyRSq6VLDhn4EkIqvhMCAMACUTXeCDedaQJM3mmfyiXaJYTIn8Imqt5JZcop5m8pGGReiQXrsGBnXjvU+Omte6s6OgDeQLCUNWw2LKCAAoqbfAB5A25BlJRTaRRuQWcSJ/iBL5QlqQ1bAYEAaAEiapR5aQZyQV2UQakVvEifwhSuQLaUFWw2JAGABKqk1Sf9s1F6m3a2rMLUOehFo0hkUXkFS9XVN12zUXkU20BTUVrUjaAm7kD1EiX0gLshoWcwgDQEmhYLrq9T26670rtGX3izpVlG5/+EfqmFRg0Q60RchFY1jQCElULLq++Uyfbn/4R7rhskWaVJBWnDdLb140m2wiOGoqWpHEBdzIH6LGQl1IC7IaDgPCAFDhuYPHtPbLW0bNTcSiHWiX0IvGsKARkqYy459+dIckFgNBdKipaEVSF3Ajf4gKC3UhLchqWEwZAQAVmKgecSJ/yDoyjnYib2gFuUHekHmkBVkNiwFhALlUa244JqpHnMgfsoIaiySolbfu6eQN1RWLrqlTJlOnkCscm5EWZDUsBoQB5E55brjV6zfruruf0Or1m7Vx2z4Vi85E9YhVb9dU3bpm6aj83bpmKQsbIlWosUiKanm76crF+slA/IuEIXnKtWvdff+qdVcspk4hN+h/Ii3IaljMIQwgd8abG45FOxCX5w4e052btuuGyxbJTHKX7ty0Xct7u5gXC6lBjUVSFAqmN8ybMbL4jLt0z2O7dfDYceYbxGkqa9eXH989svDllRfM0YXzz6ZOIbPofyItyGpYDAgDyJ16cw8t6p7Ooh2ITd/hIe0eeGlksa2ycjaBNKDGIkn2HhrS+kd2nLaduoqxKmvX3kNDI8fiN796NoPByDT6n0gLshoWU0YAyB3mHkJSkU1kATlGkpBHNIqsIK/IPtKCrIaVigFhMzvXzB41sx+a2TYzu6m0/U/N7AUz21q6rI67rQCaV2vxoagwhyWiNJE8k020Q9Q1lxyjncbLM3lEo5KWlXb3j5FfScs+UAtZDSstU0aclPT77v6vZjZD0vfM7OHS7/7K3f9HjG0DMAHlBTzKc7aVi/qqJXMjOz2vUDDmsEQkJppnsomotaPmkmO0SyN5Jo9oVJKyEkf/GPk2ZbKNzLdesOGfgSQiq+GkYkDY3fdK2lv6/oiZPSNpfrytAhDCeIsPRYU5LBGFEHkmm4hSu2ouOUY7NJpn8ohGJSUrcfWPkU+7BgZ1471Pjpr/v7OjwOKbSByyGlYqpoyoZGYLJb1R0hOlTTea2VNm9nkz66pxm7VmtsXMtvT397erqUDT8pjVeosPIbnymNVGkOfkIaujkdHkIqvNI8/xIKvRI9thkNXGkLf4kdXGkNWwUjUgbGbTJX1V0u+6+2FJn5H0aknLNPwJ4r+sdjt3v8vdV7j7iu7u7nY1F2haHrPKxPDplMesNoI8Jw9ZHY2MJhdZbR55jgdZjR7ZDoOsNoa8xY+sNoashpWaAWEz69DwYPDfuvv/kSR373P3U+5elHS3pEvibCOA5jU6MTwLayBqITLGQgdIilp5JqOYqCQdj8kzsipN2U5STUBr0pQ35BtZDSsVcwibmUn6nKRn3P32iu3zSvMLS9I7JD0dR/sAtK6RBTxYWANRC5WxJC1Ig/waL89kFK1K2vGYPCOr0pLtpNUEtI6FupAWZDWcVAwIS/pFSe+V9AMz21ra9seSrjOzZZJc0i5Jvx1H4wBMzHgLeLCwBqIWMmNJWZAG+TVenskoWpXE4zF5RlalIdtJrAloHgt1IS3IalipmDLC3f/Z3c3dL3L3ZaXLBnd/r7tfWNr+axWfFgaQIUwej6iRMWQJeUZUyBaAStSEbOB1RFqQ1bDS8glhADlWnjx+7H8Cm5k8vlh07RoYVN/hIfXMTOZpd4hPiIy1AzlGIyaaZ3KGWprNFlkCsq3RmkAtSLa09IMBshpWKj4hDCDfJjp5fHl+s9XrN+u6u5/Q6vWbtXHbPha9wIg0LFBAjtGoieSZnKGeZrJFloDsa6QmUAuSr7drqm5ds3TU63jrmqXq7Zoac8uA0chqWHxCGEDiTXRhDeY3w3jSsHgLOUajJpJncoZ6mskWWQKyr5GaQC1IvucOHtOdm7brhssWyUxyl+7ctF3Le7t4jZAoZDUsBoQBpMJEFtaoN9cQBw6UJX3xFnKMZrSaZ3KG8TSaLbIE5MN4NYFakHx9h4e0e+AlffrRHaO28xohachqWEwZASDzynMNVWKuIaQNOUY7kDOEQpYASNSCNOA1QlqQ1bAYEAaQacWiq2DSJ95xYaLnh0X+FIuunf1H9dizB7Sz/+i4c+mlYZ5jpF+jOWs2v8ifqGoW2UMeZCnn9F+Sj9cIaUFWw2LKCACZVV7E4uYHtqpr6hStvXyRXtszQ6+fO1Pnn5Os+WGRL5XZHDpRHOnMrFoyt2Yu0zDPMdKvkZy1kl/kTxQ1i+whD7KWc/ov6TBlsmnt5YtUdKlgwz8DSURWw2FAGEBmVS5isffQkNY/skOdHQVtWLeSTihi1eoCK0mf5xjZMF7OWCAIjQpds8ge8iCLOaf/kmy7BgZ1471PjprrufyeidcMSUJWw2LKCACZVW8RCyBOZBNpRn4RF7KHPCDnaDcyh7Qgq2ExIAwgs5h0HklFNpFm5BdxIXvIA3KOdiNzSAuyGhYDwgAyq12Tzmdp4Q+0RzsXRCCfCK2R/JI7hMYisciLajX2tmsuUm/X1JhbhqxioS6kBVkNizmEAWRWOxaxyNrCH2iPdi2wQj4RhfHyS+4QGovEIk8KBdNVr+/RXe9doS27X9SponT7wz9Sx6QCdRSRYaEupAVZDYcBYQCZFvUiFllc+APt0Y4FVsgnolIvv+QOobFILPLmuYPHtPbLW0bNlUkdRVRYqAtpQVbDYsoIAJgAJrZHkpFPxIHcITQyhbwh82gn8oa0IKthpWJA2MzONbNHzeyHZrbNzG4qbZ9lZg+b2fbS16642wogX8ab2J55NBGnWvk0GXlEZEIs+EHtRKW4F5Ehj2jWRDMTd+aRL+QNaUFWw0rFgLCkk5J+393fIOlSSR8wszdI+iNJj7j7YkmPlH4GgLapN7F9ec7D1es367q7n9Dq9Zu1cds+3kiibarl86YrF+t3799KHhGZiS74Qe3EWHEuIkMe0awQmWHhJLRTb9dU3bpm6ai83bpmKQsZInHIalipmEPY3fdK2lv6/oiZPSNpvqSrJb2ldLUvSfqWpFtiaCKAnKq3uNLO/qPMo4lYVeZz98Cgnnz+Z7rnsd3ae2j4tCryiChMdNFE5iDGWO1aiLMa8ohmhchMnJlH/jx38Jju3LRdN1y2SGaSu3Tnpu1a3ttFnUOikNWwUjEgXMnMFkp6o6QnJPWUBoslaZ+knhq3WStprST19va2oZVAa8hqOtVaXKneHEdpP2CR1fQo57Pv8PBCTJWyksd6yGo8JrJoYpZrZz1ktb52LMRZTV7zWA9ZrS9UZuLKfJaQ1cb0HR7S7oGX9OlHR/cT81zn2o2sNoashpWWKSMkSWY2XdJXJf2uux+u/J27u6Sq5+G4+13uvsLdV3R3d7ehpUBryGq2ZHmOI7KaPlnOYz1kNX3IKllNkrzmsR6yWh+ZSQ6y2hgyGz+y2hiyGlZqBoTNrEPDg8F/6+7/p7S5z8zmlX4/T9L+uNoHAGMx/xuSZCJ5ZEEltFNUtZMcoxWN5JFs5Ve1157+H9KGzCItyGpYqZgywsxM0uckPePut1f86kFJ10v6ZOnr12NoHgDUNGWyae3li1R0qWDDPwNxaHU+wvLiOOX5EMsdr1VL5jKXISIRxdyZ5BitGi+PZCu/6r32zP+LtOE9C9KCrIaTigFhSb8o6b2SfmBmW0vb/ljDA8EPmNkNknZLujae5gHA6XYNDOrGe58cNY9cZ0dBG1iIBjFpZT5CFlRCHELPnUmOMRH18ki28mu81575f5EWvGdBWpDVsFIxZYS7/7O7m7tf5O7LSpcN7j7g7le6+2J3/2V3fzHutgJAWb1FRYC0IMfIAnKMqJCt/OK1R1aQZaQFWQ0rFQPCAJBGTHqPLCDHyAJyjKiQrfzitUdWkGWkBVkNiwFhAAiocnGRgolJ75EqLI6DpGt18S5yjKiQrfwYW396u6by2iMTqGNIC7IaVlrmEAaAxKu2uMin3vNG/dMHV6r/KIuKINlYHAdJN5HFu6JYqA4oY4Gb7KtVf656fY82UFeQAdQxpAVZDYcBYQAIpNriIjfe+6Q2rFupSxedE3PrgPpYHAdJN9HFu0IvVAdILHCTF7Xqz4aKYySQVtQxpAVZDYspIwAgECa5R5qRXyQdGUUSkct84HVGlpFvpAVZDYtPCANAIOVJ7sf+x3LsJPfFomvXwKD6Dg+pZyanFyIZxssvuUUzoshLozUWiNLYbM+ZQS7zoF31h2Mt4sDxFWlBVsPiE8IAEEgjk9yX56BbvX6zrrv7Ca1ev1kbt+1reGEkICr18ktu0Yyo8sJCIohbtWz/ZOAoucyBdtQfjrWIS2/XVN26ZumofN+6Zql6u6bG3DJgNLIaFp8QBoBAGlm0aKJzYAJRqZffnf1HyS0aFlWdY2E4xK3WWgEbb1rJwmIZ1476Qx8RcXnu4DHduWm7brhskcwkd+nOTdu1vLeL7CFRyGpYbR8QNrNXS9rj7i+b2VskXSTpHnf/WbvbAgChjbdoUb15jziIIW618ktu0Ywo88LCcIhTrWzvOzykSxedQy4zLur6w7EWcek7PKTdAy/p04/uGLWd7CFpyGpYcUwZ8VVJp8zsNZLuknSupHtjaAcAtF153qNKzHuEpCO3aAZ5QVaRbUSJfCEuZA9pQVbDimNAuOjuJyW9Q9Kd7v4HkubF0A4AaFqx6NrZf1SPPXtAO/uPNj2vG3NgIgmazTG5RTOq5eUT77hQBRNzYSLVmq2FE+0zIF9CHGvJHFpBPw9pQVbDimMO4RNmdp2k6yX9amlbRwztAICmlBf7KM/vVj4ArVoyt+E55JgDE3FrJcfkFs0o5+V1H1ypZ/Yd1o/7jugvHvqRDh473nTNBJKkmVoYos+AfJnosZbMYSKmTDatvXyRii4VbPhnIInIajhxDAi/X9J/lvRxd/+JmZ0v6csxtAMAmhJqsQ/mwEScWs0xuUUzCgWTmfRf/+77o+bEZIEkpF2jtZAFwtCKiRxryRxatWtgUDfe++So43VnR0EbyA4ShqyGFceUEa+W9Lvu/r8lyd1/4u63xdAOAGhKvcU+gLQgx2gXsoY8I/9oNzKHVpEdpAVZDSuOAeF3SdpuZn9uZhc0cgMz+7yZ7Tezpyu2/amZvWBmW0uX1ZG1GADEJPbIBnKMdiFryDPyj3Yjc2gV2UFakNWw2j4g7O6/IemNkp6V9EUze8zM1prZjDo3+6KkVVW2/5W7LytdNkTQXAA5Mt5CHExij3aLYnEYcoxQqJnICmot0q5YdBVM+sQ7LiRzaBr1CmlBVsOKYw5hufthM/uKpDMl/a6kd0j6AzNb7+53Vrn+t81sYXtbCSBPGlmIg4W10E5RLQ5DjhECNRNZQa1F2lVmuGvqFK29fJFe2zNDr587U+efQ+bQGBbqQlqQ1XDaPiBsZr+m4YXlXiPpHkmXuPt+M5sq6YeSThsQruNGM3ufpC2Sft/dDwZvMIBcaHQhDhbWQrtEuTgMOcZEUTORFdRapF1lhvceGtL6R3aMLLLEYDAawUJdSAuyGlYccwhfo+GpHi50979w9/2S5O7HJN3QxP18RsML1C2TtFfSX9a6YmlKii1mtqW/v7/1lgMRI6vxYYL65pDV6JHJMMhqNMhneGQ1HmS5eWQ1WchwbWS1MWQofmS1MWQ1rDjmEL7e3b9d43ePNHE/fe5+yt2Lku6WdEmd697l7ivcfUV3d3fzjQbahKzGJ64J6qOYt7AdyGr0kr5oQlqyS1ajESqfaclRO5DVaIyXsaTX2iQiq8nSrgynsV6T1cZQB+NHVhtDVsNq+4CwmV1qZt81s6NmdtzMTpnZ4RbuZ17Fj++Q9HS4VgLImzgmqC/P+bZ6/WZdd/cTWr1+szZu25eKDjail+RFE8guQuSTHCFqjWQsybUWaEQ7Mky9zrberqm6dc3SURm6dc1S9XZNjbllwGhkNaw4FpX7lKR3S/o7SSskvU/Sa+vdwMz+t6S3SDrHzPZI+oikt5jZMkkuaZek346sxQAyL47FX6KctxDpl+QFicguQuSTHCFqjWQsybUWaEQ7Mky9zrbnDh7TnZu264bLFslMcpfu3LRdy3u7eH2RKGQ1rDgGhOXuO8xskrufkvQFM3tS0ofqXP+6Kps/F1kDAeRSuxd/qTcHEgc0SMldkIjsQpp4PskRotZoxpJaa4FGRZ1h6nW29R0e0u6Bl/TpR3eM2s7ri6Qhq2HFsajcMTObImmrmf25mf1eTO0AgFgxBxLSiuwiBHKEqJExIAz2pWzj9UVakNWw4hiIfW/p794oaVDSuZKuiaEdABCrUHNwpm2BD6Rfs9klp6gmqXO3ktfsSFrGyFb78ZyHkbR9CWHx+iItyGpYbZ8ywt13m1l36fs/a/ffB4CkmOicb+UFPspzupUPiKuWzGXuQ0SqmeySU9SSxLlbyWu2JCljZKv9eM7DSdK+hGhMmWxae/kiFV0q2PDPQBKR1XDaNiBsZqbhxeBu1PAnhM3MTkq6090/2q52AECSTGTONxb4QJwazS45RT1Jm7uVvGZPUjJGttqP5zyspOxLCG/XwKBuvPfJUfNEd3YUtIF9BQlDVsNq55QRvyfpFyX9vLvPcvcuSW+S9IuleYQBAE2ot8AHkBTkFGlCXhEVstV+POdAY9hXkBZkNax2Dgi/V9J17v6T8gZ33ynpNyS9r43tAIBMYFJ9pAE5RZqQV0SFbLUfzznQGPYVpAVZDaudA8Id7n5g7EZ375fU0cZ2AEAwcS5WwqT6SINqOb3tmovU2zU15pYhDdpdY6mriEoU2WLBtPryvD+TDTQjz/sK0oWshtXOReWOt/g7AEikuBcrYYEPpEGhYLrq9T26670rtGX3izpVlG5/+EfqmFRgYR/UFUeNpa4iKqGzFXcfJA3yuj+TDbSChbqQFmQ1nHYOCF9sZoerbDdJfL4bQOokYbESFvhAGjx38JjWfnnLqDm/WNgH44mrxlJXEZWQ2UpCHyQN8rg/kw00i4W6kBZkNay2TRnh7pPcfWaVywx3Z8oIAKnDpPZAY9hX0ApyA9TG/oFayAaaRWaQFmQ1rHbOIQwAmVJrUvszOyYxZxtikdQ5A1kAArXUyyy5QdySWlMl9o+sCpE5soFmkRmkBVkNiwFhAGhRtUntb12zVOvue1LX3f2EVq/frI3b9iXqDSSyqzxn4Or1mxOXPxaAQDXjZZbcIE5JrqkS+0cWhcoc2UCzerum6tY1S097T8MCwEgashpWO+cQBoBMGbtYyZkdk7Tuvie1e+AlSczZhvZK8pyBeV3YB/WNl1lygzgluaZK1NUsCpU5soFmPXfwmO7ctF03XLZIZpK7dOem7Vre25WIegeUkdWwGBAGgAmoXKzksWcPjAwGl5XnNOIAhajVm1MrCfnL48I+qK+RzJIbxCXpNVVi/8iakJkjG2hG3+Eh7R54SZ9+dMeo7Umqd4BEVkNjyggACIQ5jRAn8oe0IbNIMvKJdiNziAvZQ1qQ1bBSMSBsZp83s/1m9nTFtllm9rCZbS997YqzjQCyYSKLeTBnG+JULX+3XXMRc2ohVvVqKjUTSVYrn71dUxO70BzSrVbmCibyhkhxPEZakNWw0jJlxBclfUrSPRXb/kjSI+7+STP7o9LPt8TQNgAZUV7Mozx/W/kAs2rJ3IbmXWPONsSpUDBd9foe3fXeFdqy+0WdKkq3P/wjdUwqNJxhIKTxaio1E0lWLZ+9XVP1zWf6Wu4nAPWMzVz39E79ZOCoVt2xmbwhclMmm9ZevkhFlwo2/DOQRGQ1nFQMCLv7t81s4ZjNV0t6S+n7L0n6lhgQBjABIRbzYM42xOm5g8e09stbRs1BmKRFkJAvjdRUaiaSbGw+d/YfTfRCc0i/yszt7D+qG+99krwhcrsGBkdlTRr+5OUGsoaEIathpWLKiBp63H1v6ft9knpqXdHM1prZFjPb0t/f357WAS0gq/Gqt5gHRiOryUSGT0dW40Mem0NWk49MDyOr7UHeJo6sNoasxY+sNoashpXmAeER7u6Sak6o5O53ufsKd1/R3d3dxpYBzSGr8WKS+saR1WQiw6cjq/Ehj80hq8lHpoeR1fYgbxNHVhtD1uJHVhtDVsNK84Bwn5nNk6TS1/0xtwdAwo23YByT1CPpyDCSoNHFN8kjkmIiC8ZWItNoJxaLRbtQ25AWZDWsVMwhXMODkq6X9MnS16/H2xwASdbIgnEscIQkI8NIgmYW3ySPSIKJLhhbiUyjnVgsFu3EQl1IC7IaTioGhM3sf2t4AblzzGyPpI9oeCD4ATO7QdJuSdfG10IASdfognEscISkIsNIgmYX3ySPiFuIBWMrkWm0E4vFoh1YqAtpQVbDSsWUEe5+nbvPc/cOd1/g7p9z9wF3v9LdF7v7L7v7i3G3E0ByMQE90o4MIwnIIdKGzCLNyC/agZwhLchqWKn4hDCA/CkWXbsGBtV3eEg9Myd+SmZ5Avqx/01kAnqEEDqv1ZBhRKHZ7JJDJEEzuSWzaIeo+gHkF+1AzpAWZDWsVHxCGEC+lOf7W71+s667+wmtXr9ZG7fta3kRGIkJ6BGdKPJaDRlGaK1klxwibs3mlswialH2A8gv2qG3a6puXbN0VM5uXbOUBQyROGQ1LD4hDCBxQs/3J7EQDKITRV6rIcMIrZXskkPErZV5rMksohRlP4D8oh2eO3hMd27arhsuWyQzyV26c9N2Le/tYl5WJApZDYsBYQCJU29uoIkUehaCQRSiyms1ZBghtZpdcog4tZJbMosoRd0PIL+IWt/hIe0eeEmffnTHqO1R9GWBiSCrYTFlBIDEKc8NVIm5gZBU5BVpRXaRRuQWSUMmkXZkGGlBVsNiQBhA2xWLrp39R/XYswe0s//oaXOsMV8aQhgvZ6GQV0QtqiyTXYREzUVW0W9F1pFhpAVZDYspIwC0VXnhjfJca+UivmrJ3JH50JgvDRPVSM5CIa+IUpRZJrsIhZqLrKLfiryYMtm09vJFKrpUsOGfgSQiq+EwIAygrRpdeIP50jAR7VrorYy8IipRZ5nsIgRqLrKKfivyYNfAoG6898lRc2F3dhS0IaIaDrSKrIbFlBEA2qrewhtAKOQMWUGWkQbkFFlFtpEH5BxpQVbDYkAYQFsxETzagZwhK8gy0oCcIqvINvKAnCMtyGpYDAgDaEioxWKYCB4T1UgWyRnSamy+e7umkmXEptFjPzUXSRJygUOyjTwg50gLshoWcwgDGFfIxWJYeAMT0WgWyRnSqFa+r3p9jzaQZbRZM8d+ai6SIvQCh2QbecFCXUgLshoOA8IAxhV6sRgW3kCrmskiOUPa1Mp3eaEMsox2avbYT81FEkSxwCHZRtaxUBfSgqyGxZQRAMbF5O1ICrKILCPfSBLyiDQit0Dz2G+QFmQ1rNR/QtjMdkk6IumUpJPuviLeFgHZU568fex/4pi8HbUUi65dA4PqOzyknpnhTq8ki0i6iWSffKNZUdVaiTyidVHmcjzkFmge+w3SgqyGlZVPCL/V3ZcxGAxEo7drqm5ds3TU5O23rlmq3q6pMbcMSVSev2/1+s267u4ntHr9Zm3ctm9Ci7qUsZAAkmyi2SffaEaUtVYij2hN1LkcD7kFmsd7PaQFWQ0r9Z8QBhC95w4e052btuuGyxbJTHKX7ty0Xct7u5irB6eJYv6+MhZ3QZJNNPvkG82IstZK5BGtiTqX4yG3QPN4r4e0IKthZWFA2CV908xc0mfd/a6xVzCztZLWSlJvb2+bmwc0LqlZ7Ts8pN0DL+nTj+4YtX3/kSEKb07Vy2q9uZ1CDVKwuAsa1c66GiL75Du/ms1q1LVWIo+oLs4+QCPILcqS+t4qaXivFz+y2hiyGlYWpoy4zN2XS3qbpA+Y2eVjr+Dud7n7Cndf0d3d3f4WAg1KalbLc/VUYq6efKuXVfKCJGlnXSX7mIhms0reEBf6AEiLpL63Shr22/iR1caQ1bBSPyDs7i+Uvu6X9DVJl8TbIsRh/rm9MrPgl/nn5vu/c8Wia2f/UQ0MvqzbrrmI+djQkGrz933iHReqYGrbHIJAlMq18bFnD2hn/9GRXDN3JdqJvCGJspjLWjUfyIos7rfIJrIaVqqnjDCzaZIK7n6k9P1Vkj4ac7MQg5/ueV7v+uy/BL/f+3/7zcHvMy3Ki4KU54E7b/aZuuu9K9Qxydq+YjTSpTx/3+s+uFLP7DusH/cd0V889CMdPHZct1+7TKuWzCU7SK2xtbHcES3nmrkr0U5TJpvWXr5IRZcKNvwzEKes1cHxaj6QFRxPkBZkNZxUDwhL6pH0NTOThh/Lve6+Md4mAdkwdlGQ3QMvae2Xt2hDmxYFQboVCiYz6b/+3fdHzSXYzoVlgCiMt2ASc1eiXXYNDOrGe58cVWM7OwocpxG7LNXBuBfJA9qB4wnSgqyGleopI9x9p7tfXLoscfePx90mICvqLQoCNIIMIYvINZKCLALRYz9DHpBzpAVZDSvVA8IAosOE7ZgoMoQsItdICrIIRI/9DHlAzpEWZDUsBoQrRLUw2eQpndxvxPeN8EJM2M4iHPnWrkn/yRnaqdlck0+ExoKvQPtMpC9D/UdasFAX0oKshpX2OYSDinJhMu432vvO8+JvUZnooiAswoF2LCxDztBuzeSafCI0FnwF2qvVvgz1H2nDQl1IC7IaDgPCAGqayKIgLMIBKfqFZcgZ4tBorsknQmPBV6D9WunLUP+RJizUhbQgq2ExZQSASDDhO9qBnCHJyCdCI1NAOrCvIk3IK9KCrIbFgDCAqiY67xkTvqMdGs0Z8/ghDrXy2T29kzyiJVEcW6mPQHi19lWTsZ8hcXjfhrQgq2ExIAzgNOV5z1av36zr7n5Cq9dv1sZt+5rqvDLhO9qhkZyFyDPQilr5/MnAUfKIloQ+tlIfgWhU21dvunKxfvf+rexnSJzerqm6dc3SUXm9dc1S9XZNjbllwGhkNSzmEAZwmhDznrVjQTGgkZwxjx/iUi2fBZNW3bGZPKIloY+t1EcgGpX76u6BQT35/M90z2O7tffQ8GnN7GdIkucOHtOdm7brhssWyUxyl+7ctF3Le7vIKBKFrIbFgDCA09Sbm6eZQhv1gmKANH7OQuUZaMXYfD727AHyiAkJeWylPgLRKe+rfYeHtP6RHaN+x36GJOk7PKTdAy/p04+OzikZRdKQ1bCYMgLAaZibB1lCnpEk5BFJQh6B6LGfIenIKNKCrIbFgDCA0zQzRyGL0WAi2pEf5rNGO42XafKIVkVRL8kjcLrQ+xr7GZKOjCItyGpYTBkB4DSNzlFYXoymPP9guSCvWjKXuYIxrnblh/ms0S6NZJo8ohVR1UvyCIwWxb7GfoY0mDLZtPbyRSq6VLDhn4EkIqvhMCAMoKpG5ihkMRpMRDvzw3zWaIdGM00e0awo6yV5BF4R1b7GfoYk2zUwqBvvfXLUnPKdHQVt4D0dEoashsWUEQBaVm8xGmA85AdZQ6YRFbIFtAf7GvKI3CMtyGpYqR8QNrNVZvYjM9thZn8Ud3uAPGFSd0wE+UHWkGlEhWwB7cG+hjwi90gLshpWqgeEzWySpE9LepukN0i6zszeEG+rgOgkbQE3JnVHsyozXDCRH8QuZF2lJiIqrWYraf0GIOnaUcfZL5E09F+QFmQ1rLTPIXyJpB3uvlOSzOw+SVdL+mGsrQIikMQF3FgkA82oluFPveeN+qcPrlT/UfKD9gtdV6mJiEor2UpivwFIuqjrOPslkoqFupAWZDWctA8Iz5f0fMXPeyS9Kaa2AJFK6gJuLJKBRlXL8I33PqkN61bq0kXnxNw65FEUdZWaiKg0m62k9huApIuyjrNfIolYqAtpQVbDSvWUEY0ys7VmtsXMtvT398fdHKCmelllAnUkSSt1lQwjDtRVpEXo/ir5RlR4b9U69sv2IquNIZfxI6uNIathpX1A+AVJ51b8vKC0bRR3v8vdV7j7iu7u7rY1DmhWvawygTqSpJW6SoYRB+oq0iJ0f5V8Iyq8t2od+2V7kdXGkMv4kdXGkNWw0j4g/F1Ji83sfDObIundkh6MuU1AJJhAHWlHhpE0ZBJZRr6B5GG/RBKRS6QFWQ0r1XMIu/tJM7tR0kOSJkn6vLtvi7lZQCRYrAhpR4aRNGQSWUa+geRhv0QSkUukBVkNK9UDwpLk7hskbYi7HUA7sFgR0o4MI2nIJLKMfAPJw36JJCKXSAuyGk7ap4wAAAAAAAAAADSIAWEAAAAAAAAAyAlz97jb0FZm1i9pd41fnyPpQBubM1Fpa6+UvjbXa+8Bd18V1R+ukdW0PH9paGca2iiFaWccWW1GWl6LZvCYWhNXVtP8etH2eHS6+9Ko7jxAXR1Pmp/7arL0eEI/lqT3AZqVxNc6aW1KWnukxtoUZ1aT+JzFhediWNLGAcp4fV7Bc/GKWs9F3azmbkC4HjPb4u4r4m5Ho9LWXil9bU5ae5PWnlrS0M40tFFKTzsnIouPkceULml+bLQ9Hmluu5T+9o+VpceTpccShSQ+P0lrU9LaIyWzTZWS3r524rkYltTnIantigPPxStafS6YMgIAAAAAAAAAcoIBYQAAAAAAAADICQaER7sr7gY0KW3tldLX5qS1N2ntqSUN7UxDG6X0tHMisvgYeUzpkubHRtvjkea2S+lv/1hZejxZeixRSOLzk7Q2Ja09UjLbVCnp7WsnnothSX0ektquOPBcvKKl54I5hAEAAAAAAAAgJ/iEMAAAAAAAAADkBAPCAAAAAAAAAJATDAgDAAAAAAAAQE4wIAwAAAAAAAAAOcGAMAAAAAAAAADkBAPCAAAAAAAAAJATDAgDAAAAAAAAQE4wIAwAAAAAAAAAOcGAMAAAAAAAAADkBAPCAAAAAAAAAJATDAgDAAAAAAAAQE4wIAwAAAAAAAAAOcGAMAAAAAAAAADkRO4GhFetWuWSuHAJcYkUWeUS8BIpssol4CVSZJVLwEukyCqXgJdIkVUuAS+RIqtcAl4iRVa5BLzUlbsB4QMHDsTdBKAhZBVpQVaRFmQVaUFWkRZkFWlBVpEWZBXtkrsBYQAAAAAAAADIKwaEAQAAAAAAACAnJsfdALRHsejaNTCovsND6pnZqYWzp6lQsLibBQDIAY5BSBPyiqiQrfbjOQcaw76CtCCr4TAgnAPFomvjtn26+YGtGjpRVGdHQbdfu0yrlsxlxwEARIpjENKEvCIqZKv9eM6BxrCvIC3IalhMGZEDuwYGR3YYSRo6UdTND2zVroHBmFsGAMg6jkFIE/KKqJCt9uM5BxrDvoK0IKthMSCcA32Hh0Z2mLKhE0XtPzIUU4sAAHnBMQhpQl4RFbLVfjznQGPYV5AWZDUsBoRzoGdmpzo7Rr/UnR0FzZnRGVOLAAB5wTEIaUJeERWy1X4850Bj2FeQFmQ1LAaEc2Dh7Gm6/dplIztOeZ6VhbOnxdwyAEDWcQxCmpBXRIVstR/POdAY9hWkBVkNi0XlcqBQMK1aMlcXrFup/UeGNGcGKzECANqDYxDShLwiKmSr/XjOgcawryAtyGpYDAjnRKFgWtQ9XYu6p8fdFABAznAMQpqQV0SFbLUfzznQGPYVpAVZDYcpIwAAAAAAAAAgJxgQBgAAAAAAAICcYEAYAAAAAAAAAHIi0gFhMzvbzL5iZv9mZs+Y2S+Y2Swze9jMtpe+dpWua2a23sx2mNlTZra84n6uL11/u5ldX7H958zsB6XbrDczZpIGAAAAAAAAgBqi/oTwHZI2uvsFki6W9IykP5L0iLsvlvRI6WdJepukxaXLWkmfkSQzmyXpI5LeJOkSSR8pDyKXrvNbFbdbFfHjAQAAAAAAAIDUimxA2MzOknS5pM9Jkrsfd/efSbpa0pdKV/uSpDWl76+WdI8Pe1zS2WY2T9K/k/Swu7/o7gclPSxpVel3M939cXd3SfdU3BcAAAAAAAAAYIwoPyF8vqR+SV8wsyfN7G/MbJqkHnffW7rOPkk9pe/nS3q+4vZ7Stvqbd9TZftpzGytmW0xsy39/f0TfFhAdMgq0oKsIi3IKtKCrCItyCrSgqwiLcgq4hDlgPBkScslfcbd3yhpUK9MDyFJKn2y1yNsQ/nv3OXuK9x9RXd3d9R/DmgZWUVakFWkBVlFWpBVpAVZRVqQVaQFWUUcohwQ3iNpj7s/Ufr5KxoeIO4rTfeg0tf9pd+/IOncitsvKG2rt31Ble0AAAAAAAAAgCoiGxB2932Snjez15U2XSnph5IelHR9adv1kr5e+v5BSe+zYZdKOlSaWuIhSVeZWVdpMbmrJD1U+t1hM7vUzEzS+yruCw0oFl07+4/qsWcPaGf/URWLkX9YGwCQERxDEAI5QtTIGBAG+1K28foiLchqOJMjvv8PSvpbM5siaaek92t4EPoBM7tB0m5J15auu0HSakk7JB0rXVfu/qKZfUzSd0vX+6i7v1j6/nckfVHSmZK+UbqgAcWia+O2fbr5ga0aOlFUZ0dBt1+7TKuWzFWhYHE3DwCQYBxDEAI5QtTIGBAG+1K28foiLchqWFFOGSF331qaB+Uid1/j7gfdfcDdr3T3xe7+y+XBXR/2AXd/tbtf6O5bKu7n8+7+mtLlCxXbt7j70tJtbizNSYwG7BoYHNmJJGnoRFE3P7BVuwYGY24ZACDpOIYgBHKEqJExIAz2pWzj9UVakNWwov6EMBKq7/DQyE5UNnSiqP1HhrSoe3pMrUqOYtG1a2BQfYeH1DOzUwtnT+M/TgByqVo95BiCEKLMEcdxSPH3d8kh0q6c4R/3HdF/WrlIX/3eHu09NCSJ436W9B0eUtfUKXrn8gWyUon66vf28PoicchqWAwI51TPzE51dhRGdZI7OwqaM6Oz7u3y0LHlNAQAGFatHn7iHRfqtT3Tdd7sM7V74KWR6zZyDEF+NNJfaLUv0sjf5jgOKZqMNdoXJodoRZLea1XL8LorFuvLj+/W3kNDHPczZN5ZnXr/Ly7U7Q//eOS1vvlXXqu5M3l9kSxkNaxIp4xAci2cPU23X7tMnR3DESh3UhfOnlbzNuVOwer1m3Xd3U9o9frN2rhtX+Ym8eY0BAAYVq0e/vHXfqBv/rBPH7xisc6bfaakxo4hyI9G+wut9EUawXEcZaEz1kxfmByiWUl7r1Utw+s3bdc7ly/guJ8xJ0/5yACbNPxa3/7wj3XyVLbe5yP9yGpYfEI4pwoF06olc3XBupXaf2RIc2aM/x/oWh3bC9atzNTH8+M+vRAAkqJWPSy69OG/f1r3r71UL5041dAxBPnRaH+hlb5IIziOoyx0xprpC5NDNCtp77VqZfii+TO1Yd1KjvsZ8tzBY1Vf6+cPHtNrembE1CrgdGQ1LAaEc6xQMC3qnt5wByMvHduoTmEFgLSpVQ/dh+v/SydO6dJF58TYQiRRM/2FZvsijeA4jkohM9ZMtskhmpW091q1Mry4Z0am3vtBmjZlctXXeuoUhouQLGQ1LKaMQMPKnYJKWezYRnUKKwCkTbV6uO6Kxfo//7onk/UfYcTdX+A4jqg0k21yiGbFXTvHIsP50TPzDN105eJRr/VNVy5Wz8wzYm4ZMBpZDYthdDSs3CkYuzjG2E5BtcUQJCVmgYTxRHUKKwDErdnFasr18LU3Xqbt+4/qVNG152fHNGWy8aYQNTXaX6hnIgsr1TqOS9LO/qOp6IsgWSrzePd7V+jDX/+Bdg+8NJLt3q6pVbNFfzL7atWqVmpYiNoZEhnOj95Z03TxuTN113t/TgcHT6hrWocmTxreDiQJWQ2LAWE0rJFOQbXVaD/1njfq+ElP1SrLUZzCCgBxmsiK9z/ef3TU7W675iJd9fqexNZwxGuigwgTyWplGyqP4yHuE/lULTu3XXOR5p/dqVnTzlBv11R985m+mtmiP5ldterKVa/vqZuJWpI4AEuG86FYdP30Zy/rw3//9Ehmb12zVMWic4xEopDVsJgyAk0pdwouXXSOFnVPP22nq7YYwlN7DrHKMgDErNUV76vd7pavPqXnDh6LvM1Ir/H6C/W0mtV23yfyoVYNnDXtDC3qnq7nDh4jWzlVq65s29v6e5+J1E6gVdv2HhoZYJOGM/vhv39a2/YeirllwGhkNSwGhBFUtcUQiqXFhyqVF0gAALRHvcVqorgd0KooMkeO0arxskO28qvWa7/3EJlAutTK7L5DZBbJQlbDYsqIjJjIXHsh//bUKqs+TjKxyjIAtEG9Y0EjK95Xu30jtwNa1WzmWu3vkGO0olj0qn3byuyQrfwYW3/mzKj+2s8768yWMxHnezrkV63Mzj2LOoZkIathMSCcAXHOizf2b583+0zdumbpqDldLlxwVqIWSKiGzheAtBvvWDDeYjUnTxb1LzsHtGX3iyq69A/ff0G3rHq9rnp9T+JrONKp3vyb1TLX2zW1Zsal+ovXJm2xJiRfOZ+3bXxG665YrPWbtlfNTm/X1NP6vreuWarerqn0LzOk1jop1erKknkzW1qIe7z5qIGovK57uv78mou0o/+oij78ga5Xd0/X67pnxN00YBSyGpa5e9xtaKsVK1b4li1b4m5GUDv7j2r1+s2n/Zdkw7qVkS8AUO1vnzf7TK1/9xv10olTo1b23jUwmJgFEipNYEA90geQxawiNmQ1Bxo5FpTffI6txcWi6x+e+qlu+epTI3Vw3RWLdf+W5/SF37xEC2dPa1cNJ6s5Ui+z1TK3a2Cw6vU33rRSP9x7ZNzjeK38t4isZlxlPued1al3Ll+gSQXpygvm6ML5Z49kZ2f/Ub3/i9/R2y+aLzPJXfrHp17Ql95/SUO5bAOyGkCterXxppUquqoeV+vVm1qLFd7+8I+0e+ClUX+jHe/pEoKsxuTpF36mJ37yov7ioR+N5PEP/t3r9KbzZ2np/LPjbl4SkdWYkNWm1c0qnxDOgHpzl0Xdeaj2t3cPvKSXTpzSpYvOGbV97GrfO/uPJuITE7UWhLggP50vABlQ61jw4uDLI78v19uxtW3XwODIYHD5dus3bdcNly0aOZawyjia0cgnI8frv4zNXK3r9x1+uaHjeHmxJnKcTu3+tG1l3vYeGtKnH90hSXrzq2eP+rt9h4e0e+Clkd+/sr2xXCIdatWffYeHRhaAqzRevam1WOENly0ayVL5HxE/7jsiSYn6QA2y5eCxEyMDbNJwHv/ioR/p7vetiLllwGhkNSwGhDOg2txl580+U2d2TNJjzx6ItNPcyrxpcU5xUU2cA+oAEEqtY8ELPxvSb3zuO3Xrba06OKmgYPNgcup0fjR6nG92Xutac7kOHj/JcTzj4ug7NtrHrXW9duSSuto+oeeKrnfclYYHg9976XmnTVXSaObJBprx8olTVfP48olTMbUIqI6shlWIuwGYuPK8eJ0dwy/nebPP1AevWKx33fW4rrv7Ca1ev1kbt+1TsRh+epCxf7uROflqfSJ318Bg8PY1otzBq8RiIADSplo9/tjVF572yd9q9bZWHVxx3qwgc6yWB3NWr98c+XEJ8Wv0OD9eH2Jsbtbd96+6dc3S065/3qxpHMczLo6+Y6N93FrXizqX1NX2auU9Tz31jrudHQW9c/mCkcFgqbnMkw0065wZ1fN4zvQzYmoRUB1ZDYtPCGdAoWBatWSuLli3UvuPDOnMjkl6112Pt+UUtbF/u5E5+ZL2iVwWmgGQBdXqcaP1tlodvO2ai/TmRbODfKKIqXnypdHcjdeHGJub3QMv6c5N23X/2ktPW6eA43i2xdF3bLSPW+t6UrS5pK62Vyvveeqp9f7jzYtma8O6lfpx35GWM0820KwjQ8dPWzxz3RWLdfTlE3E3DRiFrIbFgHBGVM5T9dizB9raaW52Tr7Qp1xNVOgOHgDEpVo9bqTeRl0Hk/aPQESrmeN8vT5EM+sUcBzPtrj6jo32cWtdj7qaLSHnIa933C3ff6uZJxto1pRJk3T/lud0w2WLRhbHvH/Lc/q58y6Ou2nAKGQ1LKaMyKCkT4EQ+pSrEMqdr/KiELyJBJAFzdTbKOtg0o9LCCvUcb6Z3HAcz7Yk9h0bQV1FPfXyMZHMkw00q2fmGXr3z/fqc/+8U5/atEOf++edevfP96pnJqfhI1nIalh8QjiDQk6BEMWCBHwiFwDao96pzDv7j7ZtsRmm5smXytwNLwY3ScdPFbVrYLCprJEblKW17xjlwl7sH9nWauaLRZe79D9+/WJt339ED2zZo4PHjpMN1NU7a5re8KoZ+h+/frEGj5/UtCmTNePMSeqdRWaQLGQ1LAaEMyhUpznKFZ1DnnIFAKhtbL2NsrbXa0MaB3PQukLBtHD2NP3bviN6/xe/21LWyA0qpa3vGHWtZf/IvmYzXy1zn3jHhVree7Z6Z5EN1Df4clH/9SvfH1WvgCQiq+EwZURGhThFLY4VnQEA0YqrtnNKf/6EyBq5QVq1o9ayf6BStcz98dd+oKKLbKAu3vcjLchqWAwIo6Z6CxIAANKJ2o52IWvIM/KPdiNzaBXZQVqQ1bAYEEZNLEgAANlDbUe7kDXkGflHu5E5tIrsIC3IalgMCKOmtK7oDACojdqOdiFryDPyj3Yjc2gV2UFakNWwWFQONbFYBQBkD7Ud7ULWkGfkH+1G5tAqsoO0IKthMSCcQsWia9fAoPoOD6lnZrQ7QNpWdK5m7PPV2zVVzx081pbnDwCaNdEaX3n7eWd16lRR2n9k9H1lobYjXdxf+b5YdD334qD6Dr+sweMndd6saTr/HI7FiEbIfnOx6PrJgUHtfnFQ06ZMVs/MM9Q7q/b9UWvTq53vtxptR61jeiUyh1adPFnUi4PHdeDocXUUClpw1pmaMmVS3M0CTkNWw2FAOGWKRdfGbftGVlYsf0R+1ZK5E+6kJKXjE9LY5+u82Wfqg1cs1of//ungzx8ATFS1Gn/bNRfpVWd3ava0M8aty5W375o6Re/7hfN0xyPbqXeIxHj9hmp5/tR73ihJ2t53lGwico32mxvpA1e7r5uuXKzFPdN1xet6yG6GRPl+q9V2jHdMz+L7OLTP8eOn9PdP/VT//euvvEf+6NVLteaiVzHQhkQhq2Exh3DK7BoYHOmcSMMrKt78wFbtGhic0P2WOxyr12/WdXc/odXrN2vjtn0qFn38GyfY2Ofr7RfNHxkMlsI9fwAQQrUaf8tXn9K3fnSgobpceft3Ll8w8saxfF/UO4TSSL+hWp6f2nNIT+05RDbRFo30mxvtA1e7rzse2a6n9hwiuxkT1futibSj3jE9q+/j0D4/+OmhkQE2aThf//3rT+sHPz0Uc8uA0chqWAwIp0zf4aGR8JcNnShq/5GhCd1vUjo+oY19vswUyfMHACHUqvHl2jVeXa68PfUOUWqk31Atz0UfvpBNtEMj/eZG+8C17qvoIrsZE9X7rYm0o94xPavv49A+e2tkft9hahuShayGxYBwyvTM7BxZUbGss6OgOTM6J3S/Sen4hFbr+Rr780SfPwAIoVbNKs+/Ol5dHnt76h2i0ki/oVqeJ9nwhWyiHRrpNzfaB651XwUT2c2YqN5vTbQdtdqU1fdxaJ9zpk+pmq/Z06fE1CKgOrIaFgPCKbNw9jTdfu2ykZ2gPH/UwtnTJnS/Sen4hDb2+fqH77+gW9csDf78AUAI1Wr8uisW6//8656Rn+vV5crbf/V7e3TTlYupd4hEI/2Ganm+cMFZunDBWWQTbdFIv7nRPnC1+7rpysW6aMFZZDdjonq/NZF21DumZ/V9HNpn7sxOfeRXl4zK10d+dYnmziRDSBayGpa552tuoRUrVviWLVvibsaElBcN2H9kSHNmhFk0ICmLJ0Rh7PPV2zVVzx08FuL5i/SJyUJWkRhkNUUqF4Y5ccr1J1//gXYPvNRwXa6seXNnDq9I3n803PEiYmQ1JZpdrKvymCtJz704qL7DL+vY8ZPqnTVN55+T+GyORVZTYrx+czN94GLR9ZMDg3ruxUFNnTJZPTPPUO+sxGeXrLYgivdbE21HrWN6ht7HkdWYFIuuzTv268hLpzR4/KSmTZmsGWdO0srXzElbhtqFrMaErDat7pPCgDBGJKXjMxFtXmGXAwHSgqymSGUdmzOjU5MK0r7D6a3LTSKrKVKv35CDFe/JaoqMl8cs9IHrIKtNSGvtykiGyWqMTp4satveQ9p7aEjzzjpTS+bN1OTJnFBeA1mNEVltSt2sTo70L5vtknRE0ilJJ919hZn9qaTfktRfutofu/uG0vU/JOmG0vXXuftDpe2rJN0haZKkv3H3T5a2ny/pPkmzJX1P0nvd/XiUjynLCgXTou7pWtQ9Pe6mtCRD/x0HkFPUMaRJrX4DOUaSNJLHtPeBEUaaaxcZxkQUi65vPtOXyuwjX8hqWO0YRn+ruy9z9xUV2/6qtG1ZxWDwGyS9W9ISSask/U8zm2RmkyR9WtLbJL1B0nWl60rSbaX7eo2kgxoeTEZOscIugLSjjiELyDGShDyiUWQFeUX2kRZkNawkfa76akn3ufvL7v4TSTskXVK67HD3naVP/94n6WozM0lXSPpK6fZfkrSm/c2OXrHo2tl/VI89e0A7+4+qWMzXNB+NYoVdAGk3Xh3jeIAkGC+HHI+RJOQRjUpqVjj2I2pJzT4wFlkNK9IpIyS5pG+amUv6rLvfVdp+o5m9T9IWSb/v7gclzZf0eMVt95S2SdLzY7a/ScPTRPzM3U9WuX5mpPnUpYlqdg6v8gq7lQWCFXYBpEm9OlYsujb9qE9P7TmkokuTTLpwwVm64nU9mT8eoL3qHX8b6ZdwPEZZEuZjnTOjeh67p5NHjJbE2pWV94JJqAWojTqJtCCrYUX9CeHL3H25hqd7+ICZXS7pM5JeLWmZpL2S/jLiNsjM1prZFjPb0t/fP/4NEiSvH4kvd35Wr9+s6+5+QqvXb9bGbfvq/kd84expuv3aZersGI51ucNUXtE8DdKcVeQLWY1GvTr23IuD2t53VHd9e6c+tWmHPvvtndred1TPvZjt48FEkdXmjHf8baRfkoXjcRyyltVW+nJRmFSQbrpy8ag83nTlYk1K0nmSKZO1rJYlsXZl4b1gnLUgq1kNbfIk6SO/umRU9j/yq0s0eVLMDcsRstoYshpWpJ8QdvcXSl/3m9nXJF3i7t8u/97M7pb0j6UfX5B0bsXNF5S2qcb2AUlnm9nk0qeEK68/th13SbpLGl6xcaKPq53qfSQ+S4sGjP2vsbuqdn4uWLey5uMuFEyrlszVBetWpnaF3TRnFflCVieu1qdlatWxvsMv645Hto+qi3c8sl3Le7u08JzsHA9CI6vNqTX4UD7+lvsl887q1DuXL5CVDrEvDr48cnzOwvE4DlnL6nhZalWznzTce2hI9zy2Wzdctkhmkrt0z2O79cbes6mdLcpaVsuSVLvKOf9x3xH9p5WL9NXv7dHeQ8OnRKftvWBUtaARWc1qaPsOvay//n87RtXJv/5/O7TonIt13ux05CztyGpjyGpYkQ0Im9k0SQV3P1L6/ipJHzWzee6+t3S1d0h6uvT9g5LuNbPbJb1K0mJJ35Fkkhab2fkaHvB9t6T3uLub2aOSfl3D8wpfL+nrUT2euCTx1KXQqp0K9T9+/eKWBsJZYRdAGox3Cmi1OjZ4/GTVunjs+EkBoYz3j+iemZ06b/aZeteKXq3ftH0kv4vnTNfyoo8MnHA8RhQfamjl9PmemZ06eOy4Pv3ojpFtWetLI5wk1K5qOV93xWJ9+fHd2ntoKHX5zcsHnNLs2PGT2j3w0qg6Wd4OJAlZDSvKk6V6JP2zmX1fwwO7/+TuGyX9uZn9wMyekvRWSb8nSe6+TdIDkn4oaaOkD7j7qdKnf2+U9JCkZyQ9ULquJN0i6WYz26HhOYU/F+HjiUUST10Krdp/jbfvPzLymMvS1vkBgFpaOQX0vFnTqtbF3lnZOR4gfuV/RFeqPP4unD1NH7v6wpHBYGk4v7d89alUncKM6I2XpVa0Ujvz0JdGtlTL+fpN2/XO5QtSmd8oagHCmjXtjKqv0aypU2JqEVAdWQ0rsgFhd9/p7heXLkvc/eOl7e919wvd/SJ3/7WKTwvL3T/u7q9299e5+zcqtm9w99eWfvfxMX/jEnd/jbv/B3d/OarHE5fyqUsb1q3UfWvfpA3rVqZuEYHxVPuv8QNb9ugT77iQzjuATGplhdzzz6k+qHH+OdRFhDPe4FmhYOqYZKzwjHFFMRDbSu3MQ18a2VIr5xfNn5nK/PJPmeQ7fuqU1l0xeq71dVcs1olicZxbAu1FVsNqaMoIM+uW9FuSFlbext3/YzTNQqUknLoUpWrTYhw8dlzLe8/WhgTM4QUAobUyHVCS5jZEdjWSszxMZ4WJi6JmtZq9rPelkS21cr64Z0YqM0z/JflmTztD9295btS8rPdveU6rls6Nu2nAKGQ1rEbnEP66pM2S/q+kU9E1B3lU/q/x2PngemdNG+nAA0CW1Kp7431ahkENtMN4OWs1v8if0DWL7CEPsphz+i/JtnD2NN2y6vWZyhyyiayG1eiA8FR3vyXSliC3+K8xgLyh7iHNyC/iQvaQB+Qc7UbmkBZkNaxGB4T/0cxWu/uGSFuD3OK/xgDyhrqHNCO/iAvZQx6Qc7QbmUNakNVwGl1U7iYNDwoPmdlhMztiZoejbBgAAAAAAAAAIKyGPiHs7jOibggAAAAAAAAAIFoNfULYhv2Gmf1J6edzzeySaJsGAAAAAAAAAAip0Skj/qekX5D0ntLPRyV9OpIWAQAAAAAAAAAi0eiicm9y9+Vm9qQkuftBM5sSYbsAAAAAAAAAAIE1+gnhE2Y2SZJLkpl1SypG1ioAAAAAAAAAQHCNDgivl/Q1ST1m9nFJ/yzpE5G1CgAAAAAAAAAQXENTRrj735rZ9yRdWdq0xt2fia5ZwOmKRdeugUH1HR5Sz8xOLZw9TYWCxd0sABlBjUGWkGdEhWwBqERNyAZeR6QFWQ2n0TmEJWmqpPK0EWdG0xygumLRtXHbPt38wFYNnSiqs6Og269dplVL5rLzA5gwagyyhDwjKmQLQCVqQjbwOiItyGpYDU0ZYWb/XdKXJM2SdI6kL5jZh6NsGFBp18DgyE4vSUMnirr5ga3aNTAYc8sAZAE1BllCnhEVsgWgEjUhG3gdkRZkNaxG5xD+/0j6eXf/U3f/iKRLJb03umYBo/UdHhrZ6cuGThS1/8hQTC0CkCXUGGQJeUZUyBaAStSEbOB1RFqQ1bAanTLip5I6JZWf5TMkvRBJi3KO+VCq65nZqc6Owqidv7OjoDkzOmNsFYCsmGiNoXYjSZrJM9lFM5LSHyO3SJq8ZjIpNQETw+uItCCrYTX6CeFDkraZ2RfN7IuSnpb0MzNbb2brI2tdzpTnQ1m9frOuu/sJrV6/WRu37VOx6HE3LXYLZ0/T7dcuU2fHcGTLc8UsnD0t5pYByIKJ1BhqN5Km0TyTXTQrCf0xcoukyXMmk1ATMHG9XVN165qlo17HW9csVW/X1JhbBoxGVsNq9BPCD0l6RMMLyp2U9GhkLcqxWvOhXLBupRZ1T4+5dfEqFEyrlszVBetWav+RIc2ZkZ//vAOI3kRqDLUbSdNonskumpWE/hi5RdLkOZNJqAmYuOcOHtOdm7brhssWyUxyl+7ctF3Le7syn2GkC1kNq+6AsJlNlvQJSf9R0m5JJqlX0hck/bG7n4i8hTlSbz4Uwj3c4VjUPZ3nAkAkWq0x1G4kUSN5JrtoRdz9MXKLpMl7JuOuCZi4vsND2j3wkj796I5R2/OSYaQHWQ1rvCkj/kLSLEnnu/vPuftySYsknVX6HQIqz4dSiflQACDZqN1IK7KLNCK3SBoyibQjw0gLshrWeAPCb5f0W+5+pLzB3Q9L+i+S/n2UDcsj5mACgPShdiOtyC7SiNwiacgk0o4MIy3IaljjzSHs7n7abPjufsrMsj9LfpsxB1Pz8rqiL4DkGFu7587s1Kmi9MRPBqhLSKTKY+fremZo400rte8w/Q6kAzUXSRPVezje56BdCgXTVa/v0f1rL9XeQ0Oad9aZWjJvJnlD4pDVsMYbEP6hmb3P3e+p3GhmvyHp36JrVn4xB1Pjyiv6lhdxKP93aNWSuRQEAG1Vrt0LZ0+jLiHROHYiC6i5SJrQ7+Go1WinYtH1zWf6yBsSj6yGNd6UER+Q9AEz+5aZ/WXp8v8krdPwtBFAbGqt6LtrYDDmlgHIK+oSko6MIkvIM7KKbKOdyBvSgqyGVXdA2N1fcPc3SfqopF2ly0fd/RJ3fyH65gG11VvRFwDiQF1C0pFRZAl5RlaRbbQTeUNakNWwxpsyQpLk7pskbYq4LbnE3FCtK68wWVkQWGESQFkc9ZW6hCiEzDIZRVSoucgqso2sI29IC7Ia1nhTRiBC5bmhVq/frOvufkKr12/Wxm37VCyyXl8jWGESQC1x1VfqEkILnWUyiihQc5FVZBt50Ns1VbeuWToqb7euWarerqkxtwwYjayG1dAnhBGNWvOfXLBuJYvKNSCqFX0BpF9c9ZW6hNBCZ5mMIgrUXGQV2UYePHfwmO7ctF03XLZIZpK7dOem7Vre28W4BBKFrIbFgHCM6s1/QpgbE3pFXwDZEGd9pS4hpCiyTEYRGjUXWUW2kQd9h4e0e+AlffrRHaO2My6BpCGrYTFlRIzK859UYv4TAJg46iuygiwjDcgpsopsIw/IOdKCrIbFgHCMmBsKAKJBfUVWkGWkATlFVpFt5AE5R1qQ1bCYMqJFIVabZW4oAJi4WvWY+ookmGh/gSxjrBB90NDIKbJqItlO4r4KVFMomK56fY/uX3up9h4a0ryzOrVk3lnkFYlDVsNiQLgF5dVmywsMlP8rsWrJ3JYGhZkbCgBaM149pr4iTqH6C2QZZSH7oKGRU2RVK9lO8r4KjFUsur75TB95ReKR1bCYMqIFtVab3TUwGHPLACBfqMdIMvKJ0MgUkA7sq0gT8oq0IKthMSDcgnqrzQIA2od6jCQjnwiNTAHpwL6KNCGvSAuyGlakA8JmtsvMfmBmW81sS2nbLDN72My2l752lbabma03sx1m9pSZLa+4n+tL199uZtdXbP+50v3vKN22LZ8RZ2VDIPvmn9srMwt+mX9ub9wPLVOox0gy8onQyBSQDuyrSBPyirQgq2G1Yw7ht7r7gYqf/0jSI+7+STP7o9LPt0h6m6TFpcubJH1G0pvMbJakj0haIcklfc/MHnT3g6Xr/JakJyRtkLRK0jeifkDllQ3HzlvCyoZAdvx0z/N612f/Jfj93v/bbw5+n3lGPUaSkU+ERqaAdGBfRZqQV6QFWQ0rjkXlrpb0ltL3X5L0LQ0PCF8t6R53d0mPm9nZZjavdN2H3f1FSTKzhyWtMrNvSZrp7o+Xtt8jaY3aMCDMSsoAkAzUYyQZ+URoZApIB/ZVpAl5RVqQ1bCiHhB2Sd80M5f0WXe/S1KPu+8t/X6fpJ7S9/MlPV9x2z2lbfW276my/TRmtlbSWknq7Q1zujYrKSMKUWQViEKSsko9Rj1xZ5V8olGNZpVMIW5x19W0YF+NH1ltHHmNF1ltHFkNJ+pF5S5z9+Uang7iA2Z2eeUvS58G9ojbIHe/y91XuPuK7u7uca9fLLp29h/VY88e0M7+oyoWI28iIKn5rAJxCZVV6i2i1u66SqbRqvGySraQFFnvr7KvZUfWsxoSuY8XWW0cWQ0n0k8Iu/sLpa/7zexrki6R1Gdm89x9b2lKiP2lq78g6dyKmy8obXtBr0wxUd7+rdL2BVWuPyHFomvjtn2nzUmyaslcPoYOAAFRb5E1ZBpRIVtAe7CvIY/IPdKCrIYV2SeEzWyamc0ofy/pKklPS3pQ0vWlq10v6eul7x+U9D4bdqmkQ6WpJR6SdJWZdZlZV+l+Hir97rCZXWpmJul9FffVsl0DgyPhkqShE0Xd/MBW7RoYnOhdAwAqUG+RNWQaUSFbQHuwryGPyD3SgqyGFeWUET2S/tnMvi/pO5L+yd03SvqkpF8xs+2Sfrn0syRtkLRT0g5Jd0v6HUkqLSb3MUnfLV0+Wl5grnSdvynd5lkFWFCu7/DQSLjKhk4Utf/I0ETvGgBQgXqLrCHTiArZAtqDfQ15RO6RFmQ1rMimjHD3nZIurrJ9QNKVVba7pA/UuK/PS/p8le1bJC2dcGMr9MzsVGdHYVTIOjsKmjOjM+SfAYDco94ia8g0okK2gPZgX0MekXukBVkNK+pF5VJn4expuv3aZersGH5qynOSLJw9LeaWAUC2UG+RNWQaUSFbQHuwryGPyD3SgqyGFemicmlUKJhWLZmrC9at1P4jQ5ozo1MLZ09raYLqYtG1a2BQfYeH1DOzU71dU/XcwWMjP7d6vwCQdGPrX7V612q9beS+gTgUCqarXt+j+9deqr2HhjTvrDO1ZN7MpvJJvlFNrXopSTv7j0aWF/KIVsSdm4n8/ZDvBYG0KBRMv/y6OfpfN7xJ+w4Pad7MTl34qrPIPRKHrIbFgHAVhYJpUfd0Leqe3vJ9jF398LzZZ+qDVyzWh//+aVZDBJBpzaz+2my9ZWVZJFmx6PrmM30t55N8o56x9TLqvJBHtCLu3IT4+yHeCwJpcvJkUQ/+4KejxipuXbNUay6er8mTOakcyUFWw+IZi8jY1Q/fftH8kdBKrIYIILuiXP2VlWWRZBPNJ/lGM6LOC3lEK+LOTdx/H0ijbXsPnTZW8eG/f1rb9h6KuWXAaGQ1LAaEAykWXTv7j+qxZw+MnLpXOdG1mVgNEUAu1Fr9dffAoIpFj+S+qaVop7HH/HKuJ5pP8o1mRJ0X8ohWxJ2bKP5+rZoPZMXeQ9X3m32HqPdIFrIaFlNGNGC8eaiqnZp093tXVF39kNUQAWRdrdVfn3z+Z3rpRHFCp422urJs3PMZIjvqnY7caD5r5ZGVk9GMOTOq56V7enN5IY8IKe7chP77oabAoB+CJJt31plV95u5M6n3SBayGhafEB5HuROwev1mXXf3E1q9frM2bts36j/D1U5N+vDXf6DbrrloZPXDf/j+C7p1zVJWQwSQedVWf113xWL93ZY9Ez5ts5WVZRup40Cj6p2O3Eg+6+WRlZPRjEkF6aYrF4/Ky01XLtakJnr35BGhxZ2b0H8/xBQU9EOQdGedOVkf+dUlo/abj/zqEp01tSPmlgGjkdWw+ITwOGp1Ai5Yt3JkoYFqpybtHnhJ88/u1IaKFWp7u6ZqeW8XK9YCyLTyCt2z33+JNu84IHfpy4/v1t7SqTz7jwy1vFBLK6t/N1LHgUbVOx15Uff0cfM5Xh5Z3R6N2ntoSPc8tls3XLZIZpK7dM9ju/XG3rO18JzGaht5RGitHKeT/PfHq/mNoB+CpNt5YFD/+4nd+vNfv1gvHT+pM6dM1t98+1nNnXlGw8cToB3IalgMCI+jkU5ArVOTZk0747QValmxFkAeFAqm7hln6G827wx+2mizq3+HeDMHlI13OvJ4+Rwvj6xuj0b1zOzUwWPH9elHd4xsa7bGkkdEIe7chPz7IaagoB+CpJs2ZbJ+vP+o1v3vJ0e2dXYUNHUKw0VIFrIaFlNGjKPcCag0thMQ96lRAJBESamNjdRxoFETzTV5RCghaix5BOpjP0Me9Mw8o+oURD0zz4i5ZcBoZDUshtHHUe4EjF1IoLITEPepUQCQREmpjY3UcaBRE801eUQoIWoseQTqYz9DHvTOmqbFPdO19vJFKrpUMGlxz3T1ziKjSBayGhYDwuNotBMQ96lRAJBESaiNSRmYRnZMJNfkESFNtMaSR2B87GfIukLBdMXrerTonOlkFIlGVsNiQLgBSRjQAAC0jjqOJCGPSBLyCESP/QxJR0aRFmQ1HOYQBgAAAAAAAICcYEAYAAAAAAAAAHKCAWEAAAAAAAAAyAkGhAEAAAAAAAAgJxgQBgAAAAAAAICcYEAYAAAAAAAAAHKCAWEAAAAAAAAAyInJcTcAQHLMP7dXP93zfPD7ndRxhk6deDk19wsAAAAAAJBVDAgDGPHTPc/rXZ/9l+D3e/9vvzlV91u+bwAAAAAAgKxhyggAAAAAAAAAyAkGhAEAAAAAAAAgJxgQBgAAAAAAAICcYEAYANqpMFlmFvwy/9zeuB8ZAAAAAABIARaVA4B2Kp6MbIE9AAAAAACA8fAJYQAAAAAAAADICQaEAQAAAAAAACAnGBAGAAAAAAAAgJxgQBgAAAAAAAAAcoIBYQAAAAAAAADICQaEAQAAAAAAACAnGBAGAAAAAAAAgJyYHHcDkqBYdO0aGFTf4SH1zOzUwtnTVChY3M0CgMyh3iJpyCSyjHwDycN+iSQil0gLshpO5APCZjZJ0hZJL7j7283si5J+SdKh0lV+0923mplJukPSaknHStv/tXQf10v6cOn6t7r7l0rbf07SFyWdKWmDpJvc3ZtpX7Ho2rhtn25+YKuGThTV2VHQ7dcu06olcwkVAAREvUXSkElkGfkGkof9EklELpEWZDWsdkwZcZOkZ8Zs+wN3X1a6bC1te5ukxaXLWkmfkSQzmyXpI5LeJOkSSR8xs67SbT4j6bcqbreq2cbtGhgcCZMkDZ0o6uYHtmrXwGCzdwUAqIN6i6Qhk8gy8g0kD/slkohcIi3IaliRDgib2QJJ/17S3zRw9asl3ePDHpd0tpnNk/TvJD3s7i+6+0FJD0taVfrdTHd/vPSp4HskrWm2jX2Hh0bCVDZ0oqj9R4aavSsAQB3UWyQNmUSWkW8gedgvkUTkEmlBVsOK+hPC/z9JfyipOGb7x83sKTP7KzM7o7RtvqTnK66zp7St3vY9VbafxszWmtkWM9vS398/6nc9MzvV2TH6aejsKGjOjM7xHx0QWL2sAknSSlapt4gDfQCkReg+APlGVOivto79sr3IamPIZfzIamPIaliRDQib2dsl7Xf374351YckXSDp5yXNknRLVG0oc/e73H2Fu6/o7u4e9buFs6fp9muXjYSqPAfJwtnTom4WcJp6Wa00/9xemVnwC9CoRrNaiXqLONAHQFq0UlfrId+ISuis5gn7ZXuR1caQy/iR1caQ1bCiXFTuFyX9mpmtltQpaaaZ/S93/43S7182sy9I+q+ln1+QdG7F7ReUtr0g6S1jtn+rtH1Bles3pVAwrVoyVxesW6n9R4Y0ZwarFCL5frrneb3rs/8S/H7v/+03B79PoIx6i6Qhk8gy8g0kD/slkohcIi3IaliRDQi7+4c0/GlgmdlbJP1Xd/8NM5vn7ntt+OOIayQ9XbrJg5JuNLP7NLyA3KHS9R6S9ImKheSukvQhd3/RzA6b2aWSnpD0Pkl3ttLWQsG0qHu6FnVPb+mxAgAaQ71F0pBJZBn5BpKH/RJJRC6RFmQ1nCg/IVzL35pZtySTtFXSfy5t3yBptaQdko5Jer8klQZ+Pybpu6XrfdTdXyx9/zuSvijpTEnfKF0AAAAAAAAAAFW0ZUDY3b+l4Wke5O5X1LiOS/pAjd99XtLnq2zfImlpqHYCAAAAAAAAQJbZ8DhsfphZv6TdNX59jqQDbWzORKWtvVL62lyvvQfcfVVUf7hGVtPy/KWhnWlooxSmnXFktRlpeS2awWNqTVxZTfPrRdvj0enukX0oIUBdHU+an/tqsvR4Qj+WpPcBmpXE1zppbUpae6TG2hRnVpP4nMWF52JY0sYBynh9XsFz8Ypaz0XdrOZuQLgeM9vi7ivibkej0tZeKX1tTlp7k9aeWtLQzjS0UUpPOycii4+Rx5QuaX5stD0eaW67lP72j5Wlx5OlxxKFJD4/SWtT0tojJbNNlZLevnbiuRiW1Ochqe2KA8/FK1p9LgpRNAYAAAAAAAAAkDwMCAMAAAAAAABATjAgPNpdcTegSWlrr5S+NietvUlrTy1paGca2iilp50TkcXHyGNKlzQ/NtoejzS3XUp/+8fK0uPJ0mOJQhKfn6S1KWntkZLZpkpJb1878VwMS+rzkNR2xYHn4hUtPRfMIQwAAAAAAAAAOcEnhAEAAAAAAAAgJxgQBgAAAAAAAICcYEAYAAAAAAAAAHKCAWEAAAAAAAAAyAkGhAEAAAAAAAAgJxgQBgAAAAAAAICcYEAYAAAAAAAAAHKCAWEAAAAAAAAAyAkGhAEAAAAAAAAgJxgQBgAAAAAAAICcYEAYAAAAAAAAAHKCAWEAAAAAAAAAyAkGhAEAAAAAAAAgJyIdEDazs83sK2b2b2b2jJn9gpn9Rennp8zsa2Z2dsX1P2RmO8zsR2b27yq2rypt22Fmf1Sx/Xwze6K0/X4zmzJem1atWuWSuHAJcYkUWeUS8BIpssol4CVSZJVLwEukyCqXgJdIkVUuAS+RIqtcAl4iRVa5BLzUFfUnhO+QtNHdL5B0saRnJD0saam7XyTpx5I+JElm9gZJ75a0RNIqSf/TzCaZ2SRJn5b0NklvkHRd6bqSdJukv3L310g6KOmG8Rp04MCBgA8PiA5ZRVqQVaQFWUVakFWkBVlFWpBVpAVZRbtENiBsZmdJulzS5yTJ3Y+7+8/c/ZvufrJ0tcclLSh9f7Wk+9z9ZXf/iaQdki4pXXa4+053Py7pPklXm5lJukLSV0q3/5KkNVE9HgAAAAAAAABIuyg/IXy+pH5JXzCzJ83sb8xs2pjr/EdJ3yh9P1/S8xW/21PaVmv7bEk/qxhcLm8/jZmtNbMtZralv79/Io8JiBRZRVqQVaQFWUVakFWkBVlFWpBVpAVZRRyiHBCeLGm5pM+4+xslDUqqnP/3v0k6KelvI2yDJMnd73L3Fe6+oru7O+o/lwjFomtn/1E99uwB7ew/qmJx3OlDkAB5zGra5XVfI6tIC7KabnmqsWQVzYpr/yCryZen2lkPWW0cmYkXWW0cWQ1ncoT3vUfSHnd/ovTzV1QaEDaz35T0dklXunv51XtB0rkVt19Q2qYa2wcknW1mk0ufEq68fq4Vi66N2/bp5ge2auhEUZ0dBX3qPW/U+bOna/+RIfXM7NTC2dNUKFjcTQVSrdq+dvu1y7Rqydy27V/FomvXwKD6DrNvA8iWuGosdRVRCZmtJPRB0iCP+zPZQLOKRdemH/XpqT2HVHRpkkkXLjhLV7yuh8wgUchqWJENCLv7PjN73sxe5+4/knSlpB+a2SpJfyjpl9z9WMVNHpR0r5ndLulVkhZL+o4kk7TYzM7X8IDvuyW9x93dzB6V9Osanlf4eklfj+rxpMmugcGRDoAkdU2dou19R3XjvU/SKQACGruvDZ0o6uYHtuqCdSu1qHt65H+fDj+ALIujxlJXEZXQ2Yq7D5IGed2fyQaa9dyLg9red1R3fXvnyL5y05WL9Zru6Vp4DplBcpDVsKKcMkKSPijpb83sKUnLJH1C0qckzZD0sJltNbO/liR33ybpAUk/lLRR0gfc/VTp0783SnpI0jOSHihdV5JukXSzme3Q8JzCn4v48aRC3+GhkQ6AJL1z+QLd8cj20zoFuwYG42oikAlj9zVpeP/af2SoLX+/VoeffRtAFsRRY6mriErobMXdB0mDvO7PZAPN6jv88mnjBXc8sl19h1+OuWXAaGQ1rCinjJC7b5W0Yszm19S5/sclfbzK9g2SNlTZvlPSJRNrZfb0zOxUZ0dhZCcxU81OAf8lBlo3dl+TpM6OgubM6GzL36/X4WffBpB2cdRY6iqiEjpbcfdB0iCv+zPZQLMGj5+suq8cO34yphYB1ZHVsKL+hDBisHD2NN1+7TJ1dgy/vJNMI9+X0SkAJm7svlY+FXHh7Glt+fvlDn8l9m0AWRFHjaWuIiqhsxV3HyQN8ro/kw0067xZ06ruK72zyAyShayGFeknhBGPQsG0aslcXbBupfYfGdLcmZ163dyZp82fRacAmJix+9qcGe1drKTc4WffBpBFcdRY6iqiEjpbcfdB0iCv+zPZQLPOP6f6vnL+OdneV5A+ZDUsc/e429BWK1as8C1btsTdjLYrr7BLpyCoSJ/AvGYVzWlw3yarSAuyithRVxGVmPrjuc4q74FSJddZjRv7SlPIaozIalPqPjF8QjgnCgXTou7pmZ4vC8gj9m0ACIu6iqiQrfbjOQcaw76CtCCr4TCHMAAAAAAAAADkBAPCAAAAAAAAAJATDAgDAAAAAAAAQE4wIAwAAAAAAAAAOcGicjlWXp2x7/CQemayOiMQB/ZDAHlGDUTUyBgQBvtStvH6Ii3IajgMCOdUsejauG2fbn5gq4ZOFNXZUdDt1y7TqiVz2ZmANmE/BJBn1EBEjYwBYbAvZRuvL9KCrIbFlBE5tWtgcGQnkqShE0Xd/MBW7RoYjLllQH6wHwLIM2ogokbGgDDYl7KN1xdpQVbDYkA4p/oOD43sRGVDJ4raf2QophYB+cN+CCDPqIGIGhkDwmBfyjZeX6QFWQ2LAeGc6pnZqc6O0S9/Z0dBc2Z0xtQiIH/YDwHkGTUQUSNjQBjsS9nG64u0IKthRTogbGZnm9lXzOzfzOwZM/sFM5tlZg+b2fbS167Sdc3M1pvZDjN7ysyWV9zP9aXrbzez6yu2/5yZ/aB0m/VmxqQhDVo4e5puv3bZyM5Unntl4expdW9XLLp29h/VY88e0M7+oyoWvR3NBTKlvB/1HR7S3e9dofNmnymp8f0QAJKukf5Cq30RoFFRZIy+MKKU1HxRr7Nt4exp+tR73qh1V75GN17xGt105Wv0qfe8kdcXiUNWw4p6Ubk7JG109183symSpkr6Y0mPuPsnzeyPJP2RpFskvU3S4tLlTZI+I+lNZjZL0kckrZDkkr5nZg+6+8HSdX5L0hOSNkhaJekbET+mTCgUTKuWzNUF61Zq/5EhzZkx/uqMjU7gzaqPwCvG7g+9XVP1zWf6Ru1Ht11zkeaf3alZ085gfwGQeo32F1rpi0y0XfRP8iV0xmpl+6rX9+i5g8fIVg6FrCtJXiyp3fUaABC9yAaEzewsSZdL+k1Jcvfjko6b2dWS3lK62pckfUvDA8JXS7rH3V3S46VPF88rXfdhd3+xdL8PS1plZt+SNNPdHy9tv0fSGjEg3LBCwbSoe7oWdU9v6Pq1JvC+YN3KkftIckemGbxpRAjV9ofbrrlIX37sJ7rhskUqn9Nw+8M/0hd+85KG90UASLJG+gtlzfZFGtXIP+PS2D9B80JmrFq2b9v4jE6cKuqWrz51WrbKt6E/mU2h3/c0Uzvbpdp7Ivqr2fPci4P66cGXRm376cGX9NyLg1p4Dq83koOshhXlJ4TPl9Qv6QtmdrGk70m6SVKPu+8tXWefpJ7S9/MlPV9x+z2lbfW276myHRGpN4F3uWOQxI5Ms7IyqI34Vdsfbn/4R1p7+av1sX/84Ui+1l2xWC8OvpyafQQA6mmkvxClWv+Mu/3hH6W6f4L4Vcv22y+aPzIYLL2SrTfctFI/3HuE/mSGhX7fE3ftHIv3RPkxcPS4Bo+f0l3f3jnyWt905WINHD2uhefE3TrgFWQ1rCjnEJ4sabmkz7j7GyUNanh6iBGlTwNHPjGSma01sy1mtqW/vz/qP5dZjUzgnYVVH2t17nYNDEb+t8lqttR641geDJaG87V+03Z1TErXGp9kFWlBVtsv7gU/qh3Hb/nqU3r7RaM/N5C0/glZTb5q2Z5UUNW+b9/hl2PrT0aNrA4L/b4n7to5VpzviUIhq40ZOnlKdzyyfdRrfccj2zV08lTMLcsPstoYshpWlCMQeyTtcfcnSj9/RcMDxH2lqSBU+rq/9PsXJJ1bcfsFpW31ti+osv007n6Xu69w9xXd3d0TelB51shiAknryLQizkFtspotzbxxPHY8XQcxsoq0IKvtF/fiQ7WO42P/75a0/glZTb5q2f7582ZV7fsOHj+Z+g9J1EJWh4V+3xN37RwrCx/0IauNeflEseprffxkscYtEBpZbQxZDSuyKSPcfZ+ZPW9mr3P3H0m6UtIPS5frJX2y9PXrpZs8KOlGM7tPw4vKHXL3vWb2kKRPmFlX6XpXSfqQu79oZofN7FINLyr3Pkl3RvV4UHsxAUna2X9UfYeHNO+sTt1+7bLTTi1K06qP5c5dZaFJ2ptGJFflXGvV9ofyG8ex+eqZSb4AZEOUiw81Msd/reP4ior6m8b+CeJXLdu9XVOr9n3PmzWN/mTGVJubPOT7nqQt3MZ7ovw4b3b1etU7i2MkkoWshhXlHMKS9EFJf2tmUyTtlPR+DX8q+QEzu0HSbknXlq67QdJqSTskHStdV6WB349J+m7peh8tLzAn6XckfVHSmRpeTI4F5SI2dmGOanNLfeo9b9Q/fXCl+o/G35Fp1HiDeLxpRCNOnizqX3YOaMvuF1V06R++/4L+5O1vGLU/hH7zAABJFMVicfXms5Q07nH8zYtma0NCBlqQXtX6wlMmm9ZevkhFlwomTZlsOm8Wx/ssqVV/rnp9T8t1pdY/uKJYaLMV5U8sk+HsO2/WVH38HRfqv33tByOv9cffcaHOmzU17qYBo5DVsCIdEHb3rZJWVPnVlVWu65I+UON+Pi/p81W2b5G0dGKtxERUm1vqxnuf1IZ1K3XponTM6p2VQW3Eq1h0/dPTe0etMr7uisX62D/+UF/4zUtG7Q9J+vQHAKRFrfksqy3eVes4npSBFmTHroFB3Xjvk6d9WmnjTSurDhQjnWrVnw2lBeSarStpWLAtaZ9YRnT2/OyYBodOjKpXg0MntOdnx7TwHI6ZSA6yGlbUnxBGxiVtNdxWZGFQG/HbNTB42irj6zdt1w2XLTptf2BQAgCaV6vPUW3xLo7jaJd6uaw2UFweQES6hH7PU2uA+YKE5YM+az70HX5Zn/jGv51Wr143dyaDbEgUshpWupa1R+KwiBwwrN4iRmnaHwAgqWr1ObK8eBeSj1zmQ+j3PLz/QJLUqlfHjp+MqUVAdWQ1LAaEMSFJWw23FVkY1Eb8auVoxXmzUrU/AEBS1epzlBfvqsRxHO1CLvMh9Hse3n8gSWrVKxbqQtKQ1bCYMgJ1jbeadxbmlmLBBDSj1j5RLUe3XXOR3rxodqr2BwAIabx+RDNq9TkkcRxHbMhlPoR+zxPV+4+QNRf5cf450/SX/2GZfv/vXsnjX/6HZTr/HOoVkoWshsWAMGpqdLGDtM8tlYVBbbTHePsEOQKAV0SxaFKtPgf1F3Gqlsti0VlULmNCvueJot+YhoXqkFxndIyuV2d0kBkkE1kNhwFh1JSWxQ5CSPugNtpjvH2CHAHAK9rZj6D+Iml2DQyyqBzqCl238vTeDWFRr5AWZDUsBoRRU8jVdDl9CVnQyj5B9gHk1UT6EdROJEkreQzZj0b6xFHDyBxa1Xd4SF1Tp+idyxfISjH96vf2kB0kDlkNiwFh1FRe7GDsf1+aXeyA05eQFc3uE2QfQJ612o+gdiJJWs1jqH400ieuGkbm0Kp5Z3Xqfb9wnu54ZPtIZm+6crHmziQ7SBayGlZh/Ksgr0Ktplvr9KVdA4PB2wxEqdl9guwDyLNW+xHUTiRJq3kM1Y9G+sRVw8gcWnWqqJEBNmk4s3c8sl2niuPcEGgzshoWnxBGTaEWO6h2+lLX1CnqP/Iyp4IiVeqtJL6z/+hpeebUPQB5VT5dumtqh+5f+ws6ceqUZk07g1Pt0bK4phFpNY8sNptfoWpYs5knc2jV/iPVT8PvPzqkV8/huIvkIKthMSCMukIsdjD29KXyx/yv/8J3YjkVlHkJUc94+Ri7T9Q7LZBT9wDkUa26uLx31kg9rVdrqZ0YK85pRCrzOO+sTr1z+QJNKkhndkxWsejjDtCx2GH+hKhh1TL/qfe8UefPnq79R2q/hyFzaMW8szr1X35pkQ4MHlfRpUkm/ZdfWsRp+EgcshoWU0YgcmNPX/oPKxac9jH/dp0KWu5crV6/Wdfd/YRWr9+sjdv2qVj0yP82kq+VfNQ7LZBT9wDk0XinS49Xa6mdGCvOaUTKeTxv9pl676Xn6XP/vFPrH9mhd931GH1IVBWiho3NfNfUKdred1T//k7ewyA8d2nw+Cnd9e2d+tSmHfrst3dq8PgpOfFCwpDVsPiEMCI39vSlY8dPxXYqaK03FBesW8l/0tFSPsY7LZBT9wDkzXh1cbxay2nPGCvOaUTKeZx/dqfeddfj9CExrhA1bGzm37m8+gdqyB9C2H/k5arzsi7v7dL55AsJQlbDYkA4hdI45UHl6Us7+4/Gdioo8xKinlbyMd5pgZy6ByBvatXFMzsmqVj0hmottROV4p5GpFCwmh9o6DtMHxKnm2gNG5t5M/EeBpEZPH6yar6OHT8ZU4uA6shqWJFOGWFmu8zsB2a21cy2lLYtM7PHy9vM7JLSdjOz9Wa2w8yeMrPlFfdzvZltL12ur9j+c6X731G6bbJHRQOodZrlyZNF7ew/qseePaCd/UcTffpQnKeCljtXlZiXEGVzZlTPR/f02vmolufbrrlIA4MvJ35fBIAoVKuL665YrHX3PamN2/bVrLXlAWNgrLj6jsWij/Svp06ZXDW3J045uUUw5cwNDL6s2665aCRzk0y8h0FkzuuaWjVf53ZNjalFQHVkNax2fEL4re5+oOLnP5f0Z+7+DTNbXfr5LZLeJmlx6fImSZ+R9CYzmyXpI5JWSHJJ3zOzB939YOk6vyXpCUkbJK2S9I02PKbYVDvN8raNz+jEqaJu+epTsSzS1qw4TwUtv6EYuygJ8xJCkiYVpJuuXDxyGkpnR0E3XblYk+r866wyz32Hh3TilOtPvv4D7R54KfH7IgBEYeQU+7WX6pF/269TRenLj+/W3kNDuvmBrdp408rTjsXlAeNbVr2emonTxNF3HLuo13mzz9THrl6qP/n606Ny+ydf/4G+8JuX8ClNTFi1zP3Vtcu0ff9RdUwy/d4vv1Z/9X9/zHsYBDd5sunPfm2JPvLgtpF8/dmvLVHHZI7FSBayGlYcU0a4pJml78+S9NPS91dLusfdXdLjZna2mc3T8GDxw+7+oiSZ2cOSVpnZtyTNdPfHS9vvkbRGGR8Qrnaa5dsvmj8yGCylY06puE4FZV5C1LP30JDueWy3brhskcyGJ62/57HdemPv2Vp4Tu2slvMsSavXb07VvggAUSifYr/+kR2jtg+dKGrf4aG6A8bUTFTT7r7j2A9h7B54SZ96dLv+/Ncv1o/7jsj9ldxy2j5CqJa533tgq264bJFuf3iH5p3VqRsuW6SL5s/U4p4ZvIdBMPsOvaz/+a0do94D/c9v7dDC2RfrvNnUNiQHWQ0r6gFhl/RNM3NJn3X3uyT9rqSHzOx/aHjKijeXrjtf0vMVt91T2lZv+54q209jZmslrZWk3t7eiT2imFWbQ21SgTmlmpHkeQmzlNU06pnZqYPHjuvTj74ygNHM6Xh5mqOarCItyGp86s37Wm/AOIs1sxFkNVmqHdN3D7ykHfuP6FObWusnZAVZjUatfmR5UsS9h4b0uX/eqQ3806xhZLUxg8dPavfAS6PeA0liXtY2IquNIathRTqHsKTL3H25hqeD+ICZXS7pv0j6PXc/V9LvSfpcxG2Qu9/l7ivcfUV3d3fUfy5S1eZQ+/nzZjGnVEZkKatpNNE5CvM0RzVZRVqQ1fiMV1PzVDMbQVaTpVY+V1T0u/N62j5ZjUatzJU/BJzXvE0EWW3MebOmVc1e7yyy1i5ktTFkNaxIPyHs7i+Uvu43s69JukTS9ZJuKl3l7yT9Ten7FySdW3HzBaVtL2h42ojK7d8qbV9Q5fqZVm3Kg96uqcyLCwQw0SlFmKMaAF4xXk2lZiLJauXzzYtmawNTjyECtTL3hnkz9OZXzyZviMz551TP3vnncDxGspDVsCIbEDazaZIK7n6k9P1Vkj6q4TmDf0nDg7pXSNpeusmDkm40s/s0vKjcIXffa2YPSfqEmXWVrneVpA+5+4tmdtjMLtXwonLvk3RnVI8nSapNecC8uEAYE5lShDmqAWC0ejWVmokkq5fPpE49hnSrl7l6a1kAE8XxGGlBVsOK8hPCPZK+ZsOTHk2WdK+7bzSzo5LuMLPJkoZUmidF0gZJqyXtkHRM0vslqTTw+zFJ3y1d76PlBeYk/Y6kL0o6U8OLyWV6Qbl66JwCycC+CACNo2Yiycgn2o3MIS5kD2lBVsOJbEDY3XdKurjK9n+W9HNVtrukD9S4r89L+nyV7VskLZ1wY5FIxaJr18Cg+g4PqWcm//nBxJAnAGgM9RKhkCUAErUgDXiNkBZkNZxI5xBGGHkMfLHo2rht32lzw6xaMjfzjx3hVcvTbddcpH+/dJ4mT456bU0ASI9Gjr957JegeUnqy5FZpFna85ukWoDqeI2QFmQ1LEZCEq4c+NXrN+u6u5/Q6vWbtXHbPhWLHnfTIrVrYHBkJ5ekoRNF3fzAVu0aGIy5ZUijanm65atP6V92DmR+XwKAZox3/M1rvwTNS0pfjswizbKQ36TUAtT2kwPVX6OfHOA1QrKQ1bAYEE64vB5A+w4PjTzmsqETRe0/MhRTi5BmtfK0ZfeLmd+XAKAZ4x1/89ovQfOS0pcjs0izLOQ3KbUAte1+cbDqa/Tci+nJGfKBrIbFgHDC5fUA2jOzU50do+PZ2VHQnBmdMbUIaVYrT6eKyvy+BADNGO/4m9d+CZqXlL4cmUWaZSG/SakFqG3alMlVX6OpU5hhFMlCVsNiQDjh2nkALRZdO/uP6rFnD2hn/9FYT0VaOHuabr922chjL88Ns3D2tNjahPRaOHuabrvmolF5WnfFYv3jUy+M2peStA8AQBzGO/5W9kvmndWpD7z1NVp35Wt0ZsdkaiZGSUpfrpG+NMd/JFWj7wWTnOGk1ALU1jPzDN38K68d9Rrd/CuvVc/MM2JuGTAaWQ2LYfSEKx9Ax06aHfoAmrTJuQsF06olc3XBupXaf2RIc2akbwEFJEehYPr3S+epa+oUbdn9ok4Vpfu3PKdbVr1+ZF9K2j4AAHEY7/hb7pfctvEZvWtFr9Zv2q6hE0Xd9e2d1EyMkpS+3Hh9aY7/SLJG3gsmPcNJqQWobcHZUzXvrE6tvXyRii4VbPifvgvOnhp304BRyGpYDAgnXLsOoLXmp7pg3Uot6p4e9G81qlAwLeqeHtvfR7ZMnlzQZa85Rwu6ztT+I0O6Zvn8UftSEvcBAIhDveNvuV8y/+xOveuux6mZqCsJfbnx+tIc/5FkjbwXTEOGk1ALUNtzB4/pD77y1KjpSTo7ClryqrN4zZAoZDUsBoRToB0H0HrzU6VpxyoWXbsGBtV3eEg9MztH/ns+dhv/kc6nyn1pbFYGBl8e2QfmndWpdy5fIDOp/+jLZAYAKhQKpmPHT9XtN1Q7HpfraL3fAaEVi66fHBjU7hcHNW3KZI2NWlb6wAijXJ8GBl/WlEkFHTt+KvY6Nd57QTKMieo7PKTXzpmu/3T5q/XSyyc19YzJuvvbz5IhJA5ZDYsBYUh6ZX6qsf9pSdNk/9VOl/rUe96o4yc9sadQIR7VsnLbNRfpvNln6vhJ13svPW/kNOi/2cxp0AAwVr1+Q73TlyUl+tRmZEu1LN505WIt7pmuK17Xo0LBMtEHRhjlvIydEifpdYoMY6JedXanrnvTefrDr3x/JPMf+dUlmncWGUKykNWwWFQOkrIx2X+106We2nOo6ilUuwYG42wqYlYtK7d89Sl97OoL9R9WLBh5A1D+HZkBgNHq9Rtqnb68a2Cw7u+A0Krl7Y5HtuupPYdGMpeFPjDCKOfl7RfNT1VfkAxjon42eEJ/9g/bRmX+z/5hm342eCLmlgGjkdWw+IQwJGVjsv9qp0sVXZxChdPUOrWuY5Jp2blnkxkAGEe9fkO905ed4zLaqFYWi66RzGWhD4wwynkxS1edIsOYqL01auW+w0O6OKY2AdWQ1bAYEMaItE/2X+10qUkmTqHCaWqdWtczs3PkezIDAPXV6jeMd/oyNRbtUiuLBdOozKW9D4wwynmR0lenyDAmYt5ZZ1bN/FxOw0fCkNWwmDICmVHtdKkLF5zFKVQ4Tb1T6zjtDgAmhhqLpKiWt5uuXKyLFpxF5nCacl7+4fsvaN0Vi6lTyI0l82bq1jVLR2X+1jVLtWTeWTG3DBiNrIZl7h7dnZvtknRE0ilJJ919RWn7ByV9oLT9n9z9D0vbPyTphtL2de7+UGn7Kkl3SJok6W/c/ZOl7edLuk/SbEnfk/Redz9er00rVqzwLVu2BH6kSIryysCVp0tJOm1boFOoIj0Pi6xGq1pWyrmo97uUIqtIC7KaETmosWQ1JYpF108ODOq5Fwc1dcpk9cw8Q72zUpm5VpHVJpTr04uDL6tjUkHHjp9Sz8zU1qm0IasxOnmyqG17D2nfoSHNPatTS+adpcmT+fxgDWQ1RmS1KXWz2vCUEWY2X9J5lbdx9283cNO3uvuBivt5q6SrJV3s7i+b2ZzS9jdIerekJZJeJen/mtlrSzf7tKRfkbRH0nfN7EF3/6Gk2yT9lbvfZ2Z/reHB5M80+piQHOXOV9/hoQl1umqdLsUpVPlVK1v1Tq3jtDsAqG+84zY1FlFpts9YKJhePWe6Xj2HvGF8SalPod4bAY0qFEwzOjt07PgpzejsIG9ILLIaTkMDwmZ2m6R3Sfqhhj+9K0kuqZEB4bH+i6RPuvvLkuTu+0vbr5Z0X2n7T8xsh6RLSr/b4e47S225T9LVZvaMpCskvad0nS9J+lMxIJw6xaJr47Z9I6tAl0/LWrVkLjs3JoRsAUB41FbEhewhD8g52o3MIS3IaliNfq56jaTXuftqd//V0uXXGridS/qmmX3PzNaWtr1W0koze8LM/p+Z/Xxp+3xJz1fcdk9pW63tsyX9zN1PjtmOlNk1MDiyQ0vDq0Te/MBW7RoYjLllSDuyBQDhUVsRF7KHPCDnaDcyh7Qgq2E1OiC8U1JHC/d/mbsvl/Q2SR8ws8s1/KnkWZIulfQHkh4ws0iH8s1srZltMbMt/f39Uf4ptKDv8NCoVSKl4R17/5GhmFoUH7IaFtmKDllFWpDV8Kit0SCr4yN7yUBWo0XOwyGrjSFz8SOrjSGrYdUdEDazO81svaRjkraa2WfNbH35Mt6du/sLpa/7JX1Nw1NA7JH0f3zYdyQVJZ0j6QVJ51bcfEFpW63tA5LONrPJY7ZXa8dd7r7C3Vd0d3eP12y0Wc/MzpFVIss6OwqaM6MzphbFh6yGRbaiQ1aRFmQ1PGprNMjq+MheMpDVaJHzcMhqY8hc/MhqY8hqWON9QniLpO9JelDSxyT9S+nn8qUmM5tmZjPK30u6StLTkv5e0ltL218raYqkA6W/8W4zO8PMzpe0WNJ3JH1X0mIzO9/Mpmh44bkH3d0lPSrp10t/8npJX2/4kSMxFs6eptuvXTayY5fngVk4e1rMLUPakS0ACI/airiQPeQBOUe7kTmkBVkNq+6icu7+pQncd4+kr5Vmg5gs6V5331ga1P28mT0t6bik60uDu9vM7AENL1x3UtIH3P2UJJnZjZIekjRJ0ufdfVvpb9wi6T4zu1XSk5I+N4H2IiaFgmnVkrm6YN1K7T8ypDkzWEkXYZAtAAiP2oq4kD3kATlHu5E5pAVZDavugHCZmf1AwwvEVTqk4U8Q3+ruA2Nv4+47JV1cZftxSb9R7e+4+8clfbzK9g2SNtT4G5c08BCQcIWCaVH3dC3qnh53U5AxZAsAwqO2Ii5kD3lAztFuZA5pQVbDaWhAWNI3JJ2SdG/p53dLmippn6QvSvrV4C0DAAAAAAAAAATV6IDwL7v78oqff2Bm/+ruy82s6qd9gXYoFl27BgbVd3hIPTM5XSCteB0BoH2oucgS8oysIttoJ/KGtCCr4TQ6IDzJzC5x9+9Ikpn9vIbn85WG5/sF2q5YdG3ctk83P7BVQyeKIxOKr1oyl4KQIryOANA+1FxkCXlGVpFttBN5Q1qQ1bAKDV7vP0n6nJn9xMx2aXjxtt8ys2mS/r9RNQ6oZ9fA4EghkKShE0Xd/MBW7RoYjLllaAavIwC0DzUXWUKekVVkG+1E3pAWZDWshgaE3f277n6hpGWSLnb3i9z9O+4+6O4PRNpCoIa+w0MjhaBs6ERR+48MxdQitILXEQDah5qLLCHPyCqyjXYib0gLshpW3SkjzOw33P1/mdnNY7ZLktz99gjblkvMh9K4npmd6uwojCoInR0FzZnRGWOr0Kxar2P39E7t7D/KvgAAAdWquSbTzv6j1FqkQrm/XDCjL4hECP0ejvc5aCfyhrQgq2GN9wnhaaWvM2pcEFB5PpTV6zfruruf0Or1m7Vx2z4Vix530xJp4expuv3aZersGI5xef6YhbOnjXNLJEmt1/EnA0fZFwAgsGo196YrF+t3799KrUUqVPaXf/f+rbrpysX0BRGrKN7D8T4H7dTbNVW3rlk6Km+3rlmq3q6pMbcMGI2shlX3E8Lu/tnS1z9rT3PyrdZ8KBesW6lF3dNjbl3yFAqmVUvm6oJ1K7X/yJDmzOBTpGlU7XUsmLTqjs3sCwAQWGXN3T0wqCef/5nueWy39h4aPtWOWoukq+wv7z00pHse2621ly/SG889W+fNnkZfEG0XxXs43uegnZ47eEx3btquGy5bJDPJXbpz03Yt7+2iP4BEIathjTdlxPp6v3f3dWGbk2/15kMh3NUVCqZF3dN5flJu7Ov42LMH2BcAICLlmtt3eEjrH9kx6nfUWiTd2P7y3kPDOb5v7ZvILWIR1Xs43uegXfoOD2n3wEv69KOj+wT0B5A0ZDWsugPCkr5X8f2fSfpIhG3JPeZDAYaxLwBA9Ki1SCNyi6Qhk0g7Moy0IKth1Z1D2N2/VL5IOlj5c2kbAmKuKGAY+wIARI9aizQit0gaMom0I8NIC7Ia1nifEK7ECiMRY64oYBj7AgBEj1qLNCK3SBoyibQjw0gLshpWMwPCaAPmigKGsS8AQPSotUgjcoukIZNIOzKMtCCr4Yy3qNwRvfLJ4Klmdrj8K0nu7jOjbBwAAAAAAAAAIJzx5hCe4e4zS5fJFd/PaGQw2Mx2mdkPzGyrmW0Z87vfNzM3s3NKP5uZrTezHWb2lJktr7ju9Wa2vXS5vmL7z5Xuf0fptnxOHAAAAAAAAABqqDsgHMhb3X2Zu68obzCzcyVdJem5iuu9TdLi0mWtpM+UrjtL0kckvUnSJZI+YmZdpdt8RtJvVdxuVbQPBQAAAAAAAADSqx0DwtX8laQ/1OiF6q6WdI8Pe1zS2WY2T9K/k/Swu7/o7gclPSxpVel3M939cXd3SfdIWtPWRwEAAAAAAAAAKRL1gLBL+qaZfc/M1kqSmV0t6QV3//6Y686X9HzFz3tK2+pt31Nl+2nMbK2ZbTGzLf39/RN5PECkyCrSgqwiLcgq0oKsIi3IKtKCrCItyCriEPWA8GXuvlzD00F8wMwul/THkv57xH93FHe/y91XuPuK7u7udv5poClkFWlBVpEWZBVpQVaRFmQVaUFWkRZkFXGIdEDY3V8ofd0v6WuSfknS+ZK+b2a7JC2Q9K9mNlfSC5LOrbj5gtK2etsXVNkOAAAAAAAAAKgisgFhM5tmZjPK32t4Ebnvuvscd1/o7gs1PM3DcnffJ+lBSe+zYZdKOuTueyU9JOkqM+sqLSZ3laSHSr87bGaXmplJep+kr0f1eAAAAAAAAAAg7SZHeN89kr42PFaryZLudfeNda6/QdJqSTskHZP0fkly9xfN7GOSvlu63kfd/cXS978j6YuSzpT0jdIFGVUsunYNDKrv8JB6ZnZq4expKhQs7mahTXj9AaBx1ExEhWwBqERNyAZeR6QFWQ0nsgFhd98p6eJxrrOw4nuX9IEa1/u8pM9X2b5F0tIJNRSpUCy6Nm7bp5sf2KqhE0V1dhR0+7XLtGrJXHb+HOD1B4DGUTMRFbIFoBI1IRt4HZEWZDWsqBeVA4LYNTA4stNL0tCJom5+YKt2DQzG3DK0A68/ADSOmomokC0AlagJ2cDriLQgq2ExIIxU6Ds8NLLTlw2dKGr/kaGYWoR24vUHgMZRMxEVsgWgEjUhG3gdkRZkNSwGhJEKPTM71dkxOq6dHQXNmdEZU4vQTrz+ANA4aiaiQrYAVKImZAOvI9KCrIbFgDBSYeHsabr92mUjO395rpiFs6fF3DK0A68/ADSOmomokC0AlagJ2cDriLQgq2FFtqgcEFKhYFq1ZK4uWLdS+48Mac4MVpPME15/AGgcNRNRIVsAKlETsoHXEWlBVsNiQBipUSiYFnVP16Lu6XE3BTHg9QeAxlEzERWyBaASNSEbeB2RFmQ1HKaMAAAAAAAAAICc4BPCDSgWXbsGBtV3eEg9M/lIOvKB3ANANKivSBLyCESP/QxJR0aRFmQ1HAaEx1EsujZu26ebH9iqoRPFkUmrVy2ZS+iQWeQeAKJBfUWSkEcgeuxnSDoyirQgq2ExZcQ4dg0MjoRNkoZOFHXzA1u1a2Aw5pYB0SH3ABAN6iuShDwC0WM/Q9KRUaQFWQ2LTwiPo+/w0EjYyoZOFLX/yFCQSaz5uDuSiNwDQDRaqa/UTEQl5PGenCKrJprtqPvVwET1HR5S19QpeufyBbJStL/6vT1kFIlDVsNiQHgcPTM71dlRGHUQ7+woaM6MzgnfNx93R1KRewCIRrP1lZqJKIU63pNTZFWIbEfZrwZCmHdWp973C+fpjke2j+T8pisXa+5MMopkIathMWXEOBbOnqbbr12mzo7hp6rcCVg4e9qE75uPuyOpyD0ARKPZ+krNRJRCHe/JKbIqRLaj7FcDIZwqamSATRrO+R2PbNep4jg3BNqMrIYV6SeEzWyXpCOSTkk66e4rzOwvJP2qpOOSnpX0fnf/Wen6H5J0Q+n669z9odL2VZLukDRJ0t+4+ydL28+XdJ+k2ZK+J+m97n485GMoFEyrlszVBetWav+RIc2ZEe4UOE4fQlKRewCIRrP1lZqJKIU63pNTZFWIbEfZrwZC2H+kes77jw7p1XOo4UgOshpWO6aMeKu7H6j4+WFJH3L3k2Z2m6QPSbrFzN4g6d2Slkh6laT/a2avLd3m05J+RdIeSd81swfd/YeSbpP0V+5+n5n9tYYHkz8T+gEUCqZF3dODd2g5fQhJRu4BIBrN1FdqJqIW4nhPTpFVobIdVb8aCIEajrQgq2G1fcoId/+mu58s/fi4pAWl76+WdJ+7v+zuP5G0Q9IlpcsOd99Z+vTvfZKuNjOTdIWkr5Ru/yVJa9r0MILg9CHkEbkHgMZRM5EG5BRZRbaRB+QcaUFWw4r6E8Iu6Ztm5pI+6+53jfn9f5R0f+n7+RoeIC7bU9omSc+P2f4mDU8T8bOKweXK649iZmslrZWk3t7e1h7JGCFWUub0IYwVRVbjVGs/Iffpl7WsIrvizupE+wvUzPxoNKsh+qChkdN8ibuuttNEsp3EfTVv8pTViSgUTFe9vkf3r71Uew8Nad5ZnVoy7yzy2kZktTFkNayoB4Qvc/cXzGyOpIfN7N/c/duSZGb/TdJJSX8bcRtUGoi+S5JWrFjhE72/kCspc/oQKoXOapzG20/IfbplKatpN//cXv10z/PjX7FJr1pwrl54/rng99tucWY1VH+BmpkPjWQ1ZB80NHKaH3nrA7SS7STvq3mSt6y2qlh0ffOZPvIaI7LaGLIaVqQDwu7+QunrfjP7moanf/i2mf2mpLdLutLdy2F/QdK5FTdfUNqmGtsHJJ1tZpNLnxKuvH6kaq02e8G6lXSCgRL2E6A9frrneb3rs/8S/H7v/+03B7/PvKEOIjQyBaQD+yrShLwiLchqWJHNIWxm08xsRvl7SVdJetrMVkn6Q0m/5u7HKm7yoKR3m9kZZna+pMWSviPpu5IWm9n5ZjZFwwvPPVgaSH5U0q+Xbn+9pK9H9Xgq1VttFsAw9hMAeUcdRGhkCkgH9lWkCXlFWpDVsKL8hHCPpK8Nr/2myZLudfeNZrZD0hkankJCkh539//s7tvM7AFJP9TwVBIfcPdTkmRmN0p6SNIkSZ93922lv3GLpPvM7FZJT0r6XISP55UH1uLKhswjhTRrNr+sAAog71qpg/QVUE+7j63kEWmUhNzSD0aa9Mzs1Hmzz9TbL5ovK+0q//D9F8grEoeshhXZgLC775R0cZXtr6lzm49L+niV7RskbajxNy6ZWEubV17ZcOy8JfVWNmQeKaRZK/ltZT8BgCxptg7SV8B42nlsJY9Io6Tkln4w0qS3a6o+eMViffjvnx7J661rlqq3a2rcTQNGIathRb2oXCa1stosc50gzVrJLyuOA8i7ZusgfQWMp53HVvKINEpKbukHI02eO3hsZIBNGt5vPvz3T2t5bxf1HolCVsNiQLhFza42W2+uE4KLpGs1v6w4DiDvmqmD9BXQiHYdW8kj0ihJuaUfjLRI0n4D1ENWw4psUTmMVp5HqhLzSCEtyC8ARI9aiyQhj0gjcgs0j/0GaUFWw2JAuE3K80iVw8s8UkgT8gsA0aPWIknII9KI3ALNY79BWpDVsJgyok2YRwppRn4BIHrUWiQJeUQakVugeew3SAuyGhYDwm3EPFJIM/ILtG7+ub366Z7n425GcwqTZRa+c/WqBefqheefC36/WUGtRZKQR6QRuQWax36DtCCr4TAgDABAxH6653m967P/Esl93//bb47kflU8GUmbI2svAAAAAKAhzCEMAAAAAAAAADnBgDAAAAAAAAAA5AQDwgAAAAAAAACQEwwIAwAAAAAAAEBOMCAMAAAAAAAAADkxOe4GJFGx6No1MKi+w0PqmdmphbOnqVCwuJsFJBL7CwC8gpqIqJAtoD3Y15BH5B5pQVbDiXRA2Mx2SToi6ZSkk+6+wsxmSbpf0kJJuyRd6+4Hzcwk3SFptaRjkn7T3f+1dD/XS/pw6W5vdfcvlbb/nKQvSjpT0gZJN7m7T6TNxaJr47Z9uvmBrRo6UVRnR0G3X7tMq5bMJWTAGOwvAPAKaiKiQraA9mBfQx6Re6QFWQ2rHVNGvNXdl7n7itLPfyTpEXdfLOmR0s+S9DZJi0uXtZI+I0mlAeSPSHqTpEskfcTMukq3+Yyk36q43aqJNnbXwOBIuCRp6ERRNz+wVbsGBid610DmsL9gPPPP7ZWZBb9MntIZyf3OP7c37qcMKUZNRFTIFtAe7GvII3KPtCCrYcUxZcTVkt5S+v5Lkr4l6ZbS9ntKn/B93MzONrN5pes+7O4vSpKZPSxplZl9S9JMd3+8tP0eSWskfWMijes7PDQSrrKhE0XtPzKkRd3TJ3LXQOawv2A8P93zvN712X8Jfr/3//abI7tfoFXURESFbAHtwb6GPCL3SAuyGlbUA8Iu6Ztm5pI+6+53Sepx972l3++T1FP6fr6k5ytuu6e0rd72PVW2N61yDpKpUyars6MwKmSdHQXNmdHZyl0DQSVtvpyemZ3sLwBSLWRdpSYiKq1mK2n9BiDp2lHH2S+RNPRfkBZkNayop4y4zN2Xa3g6iA+Y2eWVvyx9GnhCc/42wszWmtkWM9vS398/6nflOUhWr9+s6+5+Quvu+1fdumapOjuGn5rynCQLZ0+LuplAU1ldvX6zNm7bp2Ix8l2opoWzp+n2a5exv+RQvawCSdLOukpNxETUy2or2UpivwHZkOU+QNR1nP2yvbKc1ZB6u6aeNgZy65ql6u2aGnPL8oOsNoashhXpJ4Td/YXS1/1m9jUNzwHcZ2bz3H1vaUqI/aWrvyDp3IqbLyhte0GvTDFR3v6t0vYFVa5frR13SbpLklasWDHqaDt2DpLdAy/pzk3bdf/aS/XSiVOaM4P/2qJ9mslqeb6cC9atjO30iELBtGrJXF2wbqX2Hxlif8mRelkFkqSddZWaiImol9VWspXEfgOyIct9gKjrOPtle2U5qyE9d/CY7ty0XTdctkhmkrt056btWt7bRS7bhKw2hqyGFdmAsJlNk1Rw9yOl76+S9FFJD0q6XtInS1+/XrrJg5JuNLP7NLyA3KHSoPFDkj5RsZDcVZL+/+z9fXxc5X3n/7+v8Q2yZcsYIcuKjTEKbkxkwBBt4mQx25iWKpQtNE2dJttCszRufk0wu95+S7pfvk1/hHRDt0u/uEnTkpsGsk2DNzQkaYgDP0ga8gikEcHcOCSxcWSwI8tCBkuWGXwzn98fOiOP5JnR3Jwz51xnXs/HYx62ztzompn39TlnLp25rj81s0POuVHn3DpJP5B0naS/qbadxeYg2Tvyql49flLrus+u9uGAyCR1vpxMxqm7YwEFGOmQmS3nGLxrFlHUVWoiolJttpJ63AAkXZR1nH6JJBoazWrvyKv65Ld3T9lOLpE0ZDVcUZ4h3CnpK8EH69mSvmhm251zP5S0zTl3g6S9kjYGt39A0lWSdks6Kul9khQM/H5U0g+D292aX2BO0h9J+rykeZpYTK7qBeXCmoOEuaAQtTjmyyHXaDq5EyxW10SYlxW+K5dF5tkDwsFc80i7zrYWnds+T1dftEz58yK+/tR+conEIavhimxA2Mz2SLq4yPYRSVcU2W6SPljisT4n6XNFtvdLWlNPO/PzROW/ulPLPFH5uaCmP0Zfz1I+ICI0YWS1GuQaQNrVUlepjUiKmbLY6OMGII3Crvn0SyTRisXzdeOGVbrl/mcnc8m8rEgishquSOcQ9kEY80QxFxQaodFzU5JrAGnHvKzw2UxZZE5roH7MNY9m8MLLRycH2KSJnN9y/7PMy4rEIavhavoBYan+eaJKzQV1aPy1yev5SinC0Mi5KafnumtRi9556XL9bGhMksgzgFQIe15WppNAowyNZrV4/ly989Llk1+bvO+JfVPm0WNOa8QhTXWQuebRDCrZnwBJQFbDxYBwCIrNBXVu+zztfyWr3/3sv/GVUnipMNddi1r0e+vO1dZHdpFnAE2t3PyPTCeBRupa1KLr3nqu7nz41L75pitWaWkb8+ghPmmrg8z5i2bA/gS+IKvhysTdgDTIzwXVMmfi5WyZk9FHr7lQN9/39GlfLxoYGY+zqUDFCnP9zkuXTw4GS+QZQPMqts/Pz/9Y6qvF1EpE4WROkx+IpIm83fnwLp3MzXBHIEJpq4Plaj6QFuxP4AuyGi7OEA5Bsbmgovh6EdBIhbn+2dAYeQYAlZ//kX0/GungWPG8DR/J6vVLyBvikbY6yJy/aAbsT+ALshouBoRDUmwuKL5eBN/lcy2RZwDIKzX/I18tRiORNyRRGnPJnL9IuzT2W6QTWQ0XU0ZEhK8XIU3IMwDMjFqJRiJvSCJyCfiHfgtfkNVwcYZwRPh6EdKEPAPAzKiVaCTyhiQil4B/6LfwBVkNFwPCEeLrRUgT8gwAM6NWopHIG5KIXAL+od/CF2Q1PEwZAQAAAAAAAABNggFhAAAAAAAAAGgSzszibkNDOeeGJe0tcfXZkl5qYHPq5Vt7Jf/aXK69L5lZX1S/uERWfXn9fGinD22UwmlnHFmthi/vRTV4TrWJK6s+v1+0PR4tZrYmqgcPoa7OxOfXvpg0PZ+wn0vSjwGqlcT3OmltSlp7pMraFGdWk/iaxYXXYkLSxgHyeH9O4bU4pdRrUTarTTcgXI5zrt/MeuNuR6V8a6/kX5uT1t6ktacUH9rpQxslf9pZjzQ+R56TX3x+brQ9Hj63XfK//dOl6fmk6blEIYmvT9LalLT2SMlsU6Gkt6+ReC0mJPV1SGq74sBrcUqtrwVTRgAAAAAAAABAk2BAGAAAAAAAAACaBAPCU90VdwOq5Ft7Jf/anLT2Jq09pfjQTh/aKPnTznqk8TnynPzi83Oj7fHwue2S/+2fLk3PJ03PJQpJfH2S1qaktUdKZpsKJb19jcRrMSGpr0NS2xUHXotTanotmEMYAAAAAAAAAJoEZwgDAAAAAAAAQJNgQBgAAAAAAAAAmgQDwgAAAAAAAADQJBgQBgAAAAAAAIAmwYAwAAAAAAAAADQJBoQBAAAAAAAAoEkwIAwAAAAAAAAATYIBYQAAAAAAAABoEgwIAwAAAAAAAECTYEAYAAAAAAAAAJpEpAPCzrkznXNfds79xDn3nHPurc65s5xzDznndgX/Lg5u65xzW51zu51zTzvnLi14nOuD2+9yzl1fsP1Nzrlngvtsdc65KJ8PAAAAAAAAAPgs6jOE75S03cxWS7pY0nOSPizpYTNbJenh4GdJeoekVcFlk6RPSZJz7ixJH5H0FklvlvSR/CBycJv3F9yvL+LnAwAAAAAAAADeimxA2Dm3SNLlkj4rSWZ2zMxekXSNpLuDm90t6drg/9dIuscmPC7pTOdcl6Rfk/SQmR0ys5clPSSpL7iuzcweNzOTdE/BYwEAAAAAAAAAponyDOHzJA1L+gfn3JPOuc8451oldZrZYHCbA5I6g/8vk/Riwf33BdvKbd9XZDsAAAAAAAAAoIgoB4RnS7pU0qfM7BJJ4zo1PYQkKTiz1yJsgyTJObfJOdfvnOvv6enJ/04uXOq9hI6sconoEjqyyiWiS+jIKpeILqEjq1wiuoSOrHKJ6BI6ssolokvoyCqXiC5lRTkgvE/SPjP7QfDzlzUxQDwUTPeg4N+DwfX7JZ1TcP/lwbZy25cX2X4aM7vLzHrNrHfevHl1PSkgSmQVviCr8AVZhS/IKnxBVuELsgpfkFXEIbIBYTM7IOlF59wbgk1XSPqxpK9Juj7Ydr2krwb//5qk69yEdZIOB1NLfEvSlc65xcFicldK+lZw3ahzbp1zzkm6ruCxAAAAAAAAAADTzI748W+U9I/OubmS9kh6nyYGobc5526QtFfSxuC2D0i6StJuSUeD28rMDjnnPirph8HtbjWzQ8H//0jS5yXNk/TN4AIAAAAAAAAAKCLSAWEz2yGpt8hVVxS5rUn6YInH+ZykzxXZ3i9pTX2tbA65nGlgZFxDo1l1trVoZXurMhkXd7MA1Im+DR+QUwCgFsaB1xyoDH0FviCr4Yn6DGEkQC5n2r7zgLZs26Hs8Zxa5mR0x8a16utZSscBPEbfhg/IKQBQC+PAaw5Uhr4CX5DVcEW5qBwSYmBkfLLDSFL2eE5btu3QwMh4zC0DUA/6NnxATgGAWhgHXnOgMvQV+IKshosB4SYwNJqd7DB52eM5HRzLxtQiAGGgb8MH5BQAqIVx4DUHKkNfgS/IargYEG4CnW0tapkz9a1umZPRkoUtMbUIQBjo2/ABOQUAamEceM2BytBX4AuyGi4GhJvAyvZW3bFx7WTHyc+zsrK9NeaWAagHfRs+IKcAQC2MA685UBn6CnxBVsPFonJNIJNx6utZqtWb1+vgWFZLFrISI5AG9G34gJwCALUwDrzmQGXoK/AFWQ0XA8JNIpNx6u5YoO6OBXE3BUCI6NvwATkFAGphHHjNgcrQV+ALshoepowAAAAAAAAAgCbBgDAAAAAAAAAANAkGhAEAAAAAAACgSTCHMEKXy5kGRsY1NJpVZxuTfKO50R+QBuQYAEqjRjYv3nukBVmGL8hqeBgQRqhyOdP2nQe0ZdsOZY/n1DInozs2rlVfz1I6KZoO/QFpQI4BoDRqZPPivUdakGX4gqyGiykjEKqBkfHJzilJ2eM5bdm2QwMj4zG3DGg8+gPSgBwDQGnUyObFe4+0IMvwBVkNFwPCCNXQaHayc+Zlj+d0cCwbU4uA+NAfkAbkGABKo0Y2L957pAVZhi/IariYMgKh6mxrUcuczJRO2jInoyULW2JsVfWYlwZhKNUflra1aM/wEfIFL3QtatHmK85XziZ+vu+JfXr56DHv6joARKHcsS/Hk+mWls895ZDh5tDZ1qJz2+fp6ouWyQVv79ef2p+qLCMdyGq4GBBGqFa2t+qOjWtPm9NlZXtr3E2rGPPSICzF+sMn3nuJfjw4Rr7ghVzO9OPBMd313T2Teb3pilVa1bnAq7oOAFEpdey7YvF8jidTLg2fe8rhM1HzWLF4vm7csEq33P/s5Ht927VrtGLx/LibBkxBVsMV6YCwc25A0pikk5JOmFmvc+5eSW8IbnKmpFfMbK1zbqWk5yT9NLjucTP7QPA4b5L0eUnzJD0g6SYzM+fcWZLulbRS0oCkjWb2cpTPCeVlMk59PUu1evN6HRzLaslC//6SXGpemtWb16u7Y0HMrYNPivUHM+nX/+ZR8gUvFKuHdz68S9+4cb1XdR0AolLq2JfjyfRLw+eecshw83jh5aOTA2zSxHt9y/3P6tIVi3mvkShkNVyNmEP47Wa21sx6JcnM3h38vFbSfZL+ueC2z+evyw8GBz4l6f2SVgWXvmD7hyU9bGarJD0c/IyYZTJO3R0LtK77bHV3LPDuoIh5aRCm6f3h4Bj5gj9K1cPhI+QVAPKKHftyPNkcfP/cUw4Zbh681/AFWQ1XbIvKOeecpI2S/mmG23VJajOzx83MJN0j6drg6msk3R38/+6C7UDN8vOBFUrbfGCID/mCT8grANSG+gnfkeHmwXsNX5DVcEU9IGySHnTOPeGc2zTtuvWShsxsV8G285xzTzrn/tU5tz7YtkzSvoLb7Au2SVKnmQ0G/z8gqTPk9qNJ5HKmPcNH9NjzLynjpDs2rp0sNGmbDwzRKczRnuEjyuVX4SqQn2+OfCFpiuWXvAJAbaifmEklx41xIsPNg/caviCr4Yp6UbnLzGy/c26JpIeccz8xs+8G171HU88OHpS0wsxGgjmD73fO9VT6i4I5hYvuRYPB6E2StGLFipqeCNKr2IIJn3jvJfrGjes1fKSx84GRVX9VuvBGWuabI6vpUi6/vueVrMIXZDV95s522nR5t3ImZdzEz2lAVuvnw4JtaThmJauVS2u98gVZrRxZDY+bmIWhAb/IuT+XdMTM/so5N1vSfklvMrN9JW7/HUl/HNzu22a2Otj+Hkm/bGZ/6Jz7afD/wWBqie+Y2RuKPV5eb2+v9ff3h/a84L89w0d01dZHp8xF0zInowdmXjAh0spDVv1SR44agayirATll6zCF2QVZVFXUU6C8pEkZDUm5LFqZDUmZLVqZbMa2ZQRzrlW59zC/P8lXSnp2eDqX5H0k8LBYOdch3NuVvD/bk0sHrcnmBJi1Dm3Lph3+DpJXw3u9jVJ1wf/v75gO1AxJiZHGMgRfEZ+ASBc1FWUQz6QJOQRviCr4YpyDuFOSd9zzj0l6d8kfcPMtgfX/Y5OX0zucklPO+d2SPqypA+Y2aHguj+S9BlJuyU9L+mbwfaPS/pV59wuTQwyfzyi54IUY2JyhIEcwWfkFwDCRV1FOeQDSUIe4QuyGq7IBoTNbI+ZXRxceszsYwXX/b6Z/d20298X3G6tmV1qZl8vuK7fzNaY2evN7EMWzHNhZiNmdoWZrTKzXykYQAYqxsTkCAM5gs/ILwCEi7qKcsgHkoQ8whdkNVxRLyqHJpDLmQZGxjU0mlVnm3+LDaRhwQTEL5+jN9y4Xi8cGtf8ubPV2XZG3M0CKkJ+AaB2pY6FOb5MlzA/85APJEkm43TlBZ26d9M6DR7OqmtRi3q6FpFHJA5ZDRcDwqiLDyvkViKTceruWMBE5KjbT4fGvO8PaF7kFwCqM9OxMMeX6RDFZx7ygaTI5UwPPjfEMSASj6yGK8o5hNEEBkbGJzujNDGh95ZtOzQwMh5zy4DGoz/AZ+QXAKpH7WwOvM9IM/INX5DVcDEgjLqwyiNwCv0BPiO/AFA9amdz4H1GmpFv+IKshospI1KqUfP65ld5LOyUrPKIZlLY1+bPnU1/gLeirue+zzcPAMXEeSxMXW0c3z7zkA1Uw7d8o3mR1XBxhnAK5ee4umrro3rPp3+gq7Y+qu07DyiXs9B/F6s8oplN72ubv/Qj3XbtGvoDvBRlPW/kfgkAGimuY2HqamP59JmHbKBaKxbPP+0zzG3XrtGKxfNjbhkwFVkNF2cIp1CpeVVWb14f+qIFla6Qy1+pkUbT+9rekVf1N4/s0r2b1unV4ye1ZGGLViyeT/aRGOVqcZQrnjdyvwQAYYurdpZDXW2sat/nOD/7kA1U64WXj+pL/7ZXf/mui/Xqayc0/4zZuvv7e3TpisVkBolCVsPFgHAKlZtXJYpOMtMKuVGsygskQbG+tnfkVb16/KTWdZ9N9pEoleQxqhXPG71fAoCwxFk7y6GuNl6l73Pcx39kA9UaGX9NG1Yv1Z98+anJzG7esEqHxl8jM0gUshoupoxIofy8KoXinFeFlSCRVjP1NbKPJIkzj0nbLwFApZK6L6euJlfcmSEbqNbcWRltfWTXlMxufWSX5sxiuAjJQlbDxauWQkmb44qVIJFWM/U1so8kiTOPSdsvAUClkrovp64mV9yZIRuo1tFjJ4tm9uixkzG1CCiOrIaLKSNSKK65zEphJUik1Ux9jewjSeLMY9L2SwBQqaTuy6mryRV3ZsgGqlUqs51tfGZBspDVcHGGcErl57ha1322ujsWxHoAwF+pkWbl+hrZR5LEncck7ZcAoFJx185yqKvJlITMkA1UIwmZBSpBVsPFGcJNrFGr3/JXajSrSrIf5yrUaC5h12KyC8AH9dYqjmNRrbRmhv1+emUyTlde0Kl7N63T4OGsuha1qKdrEe8vEoeshosB4ZSodgfd6NVv41h9GYhDsb5YKvtxr0KN9JlpXxBWLSa7AHxQb62aXlPfvLKdGoeK1Lq/TeqgK/v9dMvlTA8+N8T7i8Qjq+FiyogUyO+gr9r6qN7z6R/oqq2PavvOA8rlrOR94l79Fkijavsi/RBhqmVfUCuyC8AH9dSqRtZUQEp25tjvp9vPXyr+/v78Jd5fJAtZDRcDwilQyw467tVv45TLmfYMH9Fjz7+kPcNHEnGQheSoJx/V9sVm7ocIX7H83b79OT2z/5XQ6x3ZBeCDempVI2sqIM18HBnnZxj2++m299C4Fs+fqw++/Xx9aMPEZfH8uXrhEINsSBayGq5Ip4xwzg1IGpN0UtIJM+t1zv25pPdLGg5u9t/N7IHg9n8q6Ybg9pvN7FvB9j5Jd0qaJekzZvbxYPt5kr4kqV3SE5J+z8yORfmckqjcDrrU15TiXv22kQq/etW1qEU/HhzjKwYoqtjX4W7/rYv062u6NHv2zH8/q7YvNlM/ROVq/bro9Px1LWrRu3tX6N13PR56vSO7AHzQ2daic9vn6eqLlskFZe/rT+2vqFY1sqYieeKYuqHcceTK9tZYp2xgv59ui1rm6H3/fqXueOhnk/na8qu/pLaWOXE3DZiCrIarEWcIv93M1ppZb8G2vw62rS0YDH6jpN+R1COpT9LfOudmOedmSfqkpHdIeqOk9wS3laTbg8c6X9LLmhhMbjr5HXShmXbQzbI64/SvXv3zk/v5uhNKKnZmxs33Pa3v7xmp6CyMavtis/RDVK6er4tOz987L12urY/siqTekV0APlixeL5u3LBKn/3eHn3ikd36zKN7dOOGVVqxeP6M921kTUWyxDV1Q7njyLinbGC/n25zZrvJATZpIl93PPQzzZnNH7uQLGQ1XEmaMuIaSV8ys9fM7OeSdkt6c3DZbWZ7grN/vyTpGueck7RB0peD+98t6drGNzt+teyg86vfPrB5vb606S16YPP6VJ7hMP3gKWfi604oqdSZGf17D1V0wF1tX2yWfojK1fOBb3r+ZmWiq3dkF4APXnj5qG65/9kpNfWW+5/VCy8fnfG+jaypSJa4Bl/LHUfGPWUD+/10e2nsWNF8jRxpui9fI+HIarginTJCkkl60Dlnkv7ezO4Ktn/IOXedpH5J/83MXpa0TNLjBffdF2yTpBenbX+LJqaJeMXMThS5/RTOuU2SNknSihUr6n5SSZPfQa/evF4Hx7JasrCyrzWFtdp8khU7eEry153SntWkK/V1uJM5lZ2CJa+WvuhrPySr0ahlCqC86fmbN2e27vrunsjqnS/ZJavwBVkNn0811Sdpz2o9ualHuePIJEzZ4Mt+v1DasxqW1jNmF83X/LlRDxchj6xWhqyGK+ozhC8zs0s1Md3DB51zl0v6lKTXS1oraVDS/4q4DTKzu8ys18x6Ozo6ov51scjvoNd1n63ujgX8tTYw/atX9z2xTzddsSqxX3dqhqwm2cr2Vt3+WxdNycfmDav0L09XNt+g1Dx9kaxGo5YpgAoV5u/CZYv4eqfIKvxBVsNHTY1G2rNab27qUeo4kikbapP2rIals+2M0z4j33TFKnW2nRFzy5oHWa0MWQ1XpMPoZrY/+Pegc+4rkt5sZt/NX++c+7Skfwl+3C/pnIK7Lw+2qcT2EUlnOudmB2cJF94+1Rq5yEEcCyqEKX/wlP/a18tHj2lV5wJ948b1Gj5S+dnUaA6ZjNM73rhUi+bN0Y9eeFknc9K9/S/o5r4LJg+4fe8TSLbpNauWD3yFGX1j18Ki9Y4cA2gGYdTUvPzZm2+4cb1eODSu+XNnz/gBlFrrpzBzU69K9umlbk/mUKkVZ7Xq/CULtOnybuVMyjjp/CULtOIs/uCAZCGr4YpsQNg51yopY2Zjwf+vlHSrc67LzAaDm/2mpGeD/39N0hedc3dIep2kVZL+TZKTtMo5d54mBnx/R9J7zcycc9+W9C5NzCt8vaSvRvV8kiK/yEEjVpht5O+KSrmvXr1+iT9fd0Jj5HKm/99PD+r27c/p6ouWaVZG+ug1F+pt3e2Tg2i+9wkkW61TAOVVklFyDKBZ1FtTi/np0FhF9ZNa668oclOLajNE5lCrXM6UPX5yyrbs8ZPK5YzsIFHIariinDKiU9L3nHNPaWJg9xtmtl3SXzrnnnHOPS3p7ZL+qySZ2U5J2yT9WNJ2SR80s5PB2b8fkvQtSc9J2hbcVpJulrTFObdbE3MKfzbC55MIjVzkIMrflcuZ9gwf0WPPv6Q9w0ciXbW3Wb7Cj/rlM7935FV98tu7tfXh3dr0hf7JxWdK9YkXDo03LM9Iv3pqVrGM3r79OT2z/5XJfL5wKN6VygGgFrUeO4Z5HFjNsXFcC5MhHEn4/PDCoXH95MCo/mB9tz604Xwtnj+3bIbIHGq1c/Cw/urBn+pkMC1rzqS/evCn2jl4ON6GAdOQ1XBFdoawme2RdHGR7b9X5j4fk/SxItsfkPRAid/x5vpa6pdGLnJQ7Hctnj9Xw2Ov1fU1pCj/es3XpFCpYlmZqX+V6hM/euEV/fevPFNxnskpyqknH9Mz2rWoRe/uXaF33/X4ZD7/4jcv1OL5czV4+NTK5JXsR8gtgLjUe+wYVv0aGs1q8fy5euely+WCu9/3xL6i9TOuhclQn7j3dfnfPzL+ml489OrkQob5dS2+8Pjekhkic6jVyPhr+oPLujV85DXlTJrlpD+4rFuHxl+Lu2nAFGQ1XCzF55lGrjA7/Xd1LWrRdW89V9f/w7/VNZBb6q/Xqzevr+tgha9JoVKlsvLGroVl+1ex/vfbvcsnB4OlmfNMTlFOvfmYntF3XrpcWx/ZNSWf//0rz2jT5d3a+vDuyfvNtB8htwDiVM+xY5j1K38sfOfDuyYf66YrVmlp2+n1s5HH7AhH3Pu6wt9/w2Xd+uz39kzJ/NZHdmnT5d0lM0TmUKv21jP00wNHpvwB4qYrVumsVhbqQrKQ1XBFOWUEItDIFWan/67f7l0+eQAs1f41pHJ/va4HX5NCpUpl5WROZftXsf73S0sWVpVncopy6s3H9IzOyqhoPn+pc2FV+xFyCyBO9Rw7hlm/TuZ02rHwnQ/vmvzqaqFGHrMjHHHv6wp/v3Ol99+lMkTmUKsjr50oWtuOvHYi5pYBU5HVcHGGsGcaucjB9N919NjJUL6GFNVfr/maFCpVKivDR7Jl+1ex/memqvJMTlFOvfmYntF5c2ZP/gU9r2VORhcsbdMDVexHyC2AONVz7Bhm/To4Vvr4YfpixUlZmAyVi3tfN/33F8v8BUvbSmaIzKFWY9kTRbN/JHuyxD2AeJDVcHGGsIcauchB4e9a2d46+RfnvFoGcqP663X+w0K97UP6lcvKTP1r+vXnnV1dnskpygkjH4UZvXDZoqL5PO/s1qr2I+QWQJzqOXYMs35V+1hJWJgMlYt7X1f4++97Yp82b1hVdP9dDplDLV535ryi2e9axNfwkSxkNVwMCKNiYQ3k5v96/cDm9frSprfogc3rQ5mbi69JoVJhZqXaPJNTlBN2PsKqt+QWQJzqqWVh1i9qYbrF/f4W/v7Bw1nd2/+C7vq9Xv3T+8P7vAQU88albbrt2jVTsn/btWv0xq5FMbcMmIqshsuZWdxtaKje3l7r7++Puxneyq98m9SvITW4fZE+cbIarTizHMPvJqseSWqdbVC7yCp8QVY9Emb9SmqNLoOsViHu9zfu3x8zshqjEydy2jl4WAcOZ7V0UYt6uhZp9mzOHyyBrMaIrFalbFaZQxiT8gcgQ6NZdbYVPwDJfw0p7Hm0KvndlYiqffBXqWwVy0pYOZwJOYVUWTYblclKkFsASVBLXZypflXzmNTCdIv7/c3//pXtrRoYGdcPfj5SUc6TdLwAv02cLkh2kHxktX4MCEPSxEHE9p0HJle2zX9FqhFfTYrzdyPdqskWOUQjVZI3MgkAU0VRF6m1SJpqM0mGUa8TJ3K6/6n9uuX+ZyczdNu1a3Ttxcs48xKJQlbDxSvmgVzOtGf4iB57/iXtGT6iXC78aT4GRsYnDyKkiZUat2zboYGR8dB/V5J+N9KtVLZ+OHDotL5EDtFIleSt1G2e2f9KpPsDAEiqWvfV5Y6l2f8jaao5fi13ezKMSu0cPDw5wCZNZOiW+5/VzsHDMbcMmIqshosB4YTL/8X3qq2P6j2f/oGu2vqotu88EPogwNBodrJT5WWP53RwLBvq70na70a6lcrWo7tfOq0vkUM0UiV5K3Wbh39yMNL9AQAkVS376pmOpdn/I2mqOX4td3syjEoNHi6eocHDZAjJQlbDxYBwwjXqL76dbS2TKzXmtczJaMnCllB/T9J+N9KtVLbMTu9L5BCNVEneSt3mZHAMxBlAAJpNLfvqmY6l2f8jaao5fi13ezKMSnUsOKNohs5ecEZMLQKKI6vhYkA44Rr1F9+V7a26Y+Payc6Vn3tqZXtrqL8nab8b6VYsW5s3rNI//2ifpKl9iRyikSrJ20z5lTgDCEBzqWVfPdOxNPt/JE01x6+lbk+GUY1MRvrI1T1TMvSRq3vElKxIGrIaLhaVS7j8X3wLD2Sj+ItvJuPU17NUqzev18GxrJYsbNzqtHH+bqRbYbb2jozryRdf0Rce3zv5lZLCvkQO0UiV5G36bebNmaXNX3pyyleiOAMIQDOpZV8907E0+38kTTXHr9NvT4ZRi0Xz5uq+H72gv3zXxXr12AnNmztb93x/j/7yXWvjbhowBVkNFwPCCZf/i+/0VWOj+ItvJuPU3bFA3R0LQn/sJP9upFs+WyvbW/Xq8ZxePnpMUvGzJ8ghGqmSvBXeJpcz3dx3QUP2BwCQVNXuqys5lmb/j6Sp5vi18PZkGLVY2d6q/3zZ6znGROKR1XBVNCDsnGsxM76TGgP+4guEg74E35FhAKgetRM+I79oBHIGX5DVcFV6hvCzzrkhSY8Gl++Z2eHomoVC/MUXCAd9Cb4jwwBQPWonfEZ+0QjkDL4gq+GpaEDYzM53zq2QtF7Sr0v6pHPuFTNbW+5+zrkBSWOSTko6YWa9zrn/Kek/Sjom6XlJ7zOzV5xzKyU9J+mnwd0fN7MPBI/zJkmflzRP0gOSbjIzc86dJeleSSslDUjaaGYvV/TMkXi5nGlgZFxDo1l1tvGXH9SHPCENyDEAn1CzAEjUAh/wHsEXZDU8lU4ZsVzSv9fEgPDFknZK+l6Fv+PtZvZSwc8PSfpTMzvhnLtd0p9Kujm47vkSg8yfkvR+ST/QxIBwn6RvSvqwpIfN7OPOuQ8HP99c5P7wTC5n2r7zwGlzw/T1LKWzo2rkCWlAjgH4hJoFQKIW+ID3CL4gq+HKVHi7FyT9F0nfNLO3mtmvm9n/qOUXmtmDZnYi+PFxScvL3d451yWpzcweNzOTdI+ka4Orr5F0d/D/uwu2w3MDI+OTnVySssdz2rJthwZGxmNuGXxEnpAG5BiAT6hZACRqgQ94j+ALshquSgeEL9HEQOx7nXOPOefucc7dUMH9TNKDzrknnHObilz/nzVxpm/eec65J51z/+qcWx9sWyZpX8Ft9gXbJKnTzAaD/x+Q1FmsEc65Tc65fudc//DwcAXNRtyGRrOTnTwvezyng2PpXtuQrEajWfMUJbLaeOS4NmQVvkhbVqlZ6ZW2rCJacdYCsloZ6nX8yGplyGq4KhoQNrOnNHEG7j9IekTSf5D0ZxXc9TIzu1TSOyR90Dl3ef4K59z/LemEpH8MNg1KWmFml0jaIumLzrm2Sp9IcPawlbjuLjPrNbPejo6OSh8SMepsa1HLnKnxbJmT0ZKFLTG1qDHIajSaNU9RIquNR45rQ1bhi7RllZqVXmnLKqIVZy0gq5WhXsePrFaGrIarogFh51y/pMck/aYmFn673MzOnel+ZrY/+PegpK9IenPweL8v6WpJ/ykYyJWZvWZmI8H/n9DEgnO/JGm/pk4rsTzYJklDwZQS+aklDlbyfJIslzPtGT6ix55/SXuGjyiXKzrGnXor21t1x8a1k509PzfMyvbWmFuGRgmzL5AnRK0RtZscA/BJlDWL42UkDZksjeOX5OM9gi/IargqWlRO0jvMrKrz1p1zrZIyZjYW/P9KSbc65/ok/Ymk/2BmRwtu3yHpkJmddM51S1olaY+ZHXLOjTrn1mliUbnrJP1NcLevSbpe0seDf79aTRuThgmyT8lknPp6lmr15vU6OJbVkoWsHtlMwu4L5AlRalTtJscAfBJVzeJ4GUlDJsvj+MUPc2c7bbq8WzmTMm7iZyCJyGp4Kh0QPuacu0NSfsqHf5V0q5kdLnOfTklfcc7lf88XzWy7c263pDMkPRRc97iZfSB47Fudc8cl5SR9wMwOBY/1R5I+L2meJuYczs87/HFJ24L5jPdK2ljh80mkUhNkr968Xt0dC2JuXeNlMk7dHQua8rk3uyj6AnlCVBpZu8kxAJ9EUbM4XkbSkMmZcfySbAMj4/rQF5+cMjdry5yMHiDDSBiyGq5KB4Q/J+lZnRpw/T1NzCf8zlJ3MLM9ki4usv38Ere/T9J9Ja7rl7SmyPYRSVfM0HZvlJsgm3CjmdAX4BPyCgCNQ81F0pBJ+I4MwxdkNVyVDgi/3sx+q+Dn/69zbkcE7Wlq+Qmyp/+1gwmyS8vlTAMj4xoazaqzja8f+Wr6+9i1iL4Af0yv3V2LWvTbvct19NhJ7Rk+Ql0CgBBRc5E0UX2G43MOGqWzrUXnts/T1Rctkwsi9vWn9vPZC4lDVsNV6YDwq865y8zse5LknPv3kl6NrlnNKT9B9vT5p5gguzjm60qHUu/jJ957yeTXQegLSLLC2r14/lxd99ZzdefDu6hLABABai6SJorPcHzOQSOtWDxfN25YpVvuf3Yyb7ddu0YrFs+Pu2nAFGQ1XM5s5hVQnXMXS7pH0qJg08uSrjezpyNsWyR6e3utv78/7maUlP9LMBPuz2zP8BFdtfXROOePifSNSXpWw1LqffzGjevlnOgL4SCrEcvX7uGx13T9P/wb81rVjqzCF2Q1RtTcqpDVBgj7M1wCPufEgazGpEnzVg+yGhOyWrWyWc1U8ghm9pSZXSzpIkkXmdklkjaE0DhMk59wf1332eruWMAAWBnl5o+BP0q9j8NHsvQFeCNfu3Nm1CUAiBg1F0kT9mc4PuegkcgbfEFWw1XRgHCemY2a2Wjw45YI2gNULD9fVyHmmfUP7yPShDwDQONQc5FWZBuNRN7gC7IarqoGhKfhdD3EKj9fV74gMM+sn3gfkSbkGQAah5qLtCLbaCTyBl+Q1XBVuqhcMTNPPgxEKJNx6utZqtWb1zPPrMd4H5Em5BkAGoeai7Qi22gk8gZfkNVwlR0Qds6NqfjAr5M0L5IWASXkF2sYGs2qs+1Ux+/uWMAE4p6r5H0s9f4DYQkrY9QlAGmWtP0xNRdp5Uu2k1YTUB/jtD94gqzWr+yAsJktbFRDgHJyOdP2nQe0ZdsOZY/nJr8a0NezlAOOJsD7j6iRMQCYGbUSQCFqQjrwPsIXZDVc9cwhDDTMwMj4ZKeXJlaS3LJthwZGxmNuGRqB9x9RI2MAMDNqJYBC1IR04H2EL8hquBgQhheGRrOTnT4vezyng2PZmFqERuL9R9TIGADMjFoJoBA1IR14H+ELshouBoThhc62lsmVJPNa5mS0ZGFLTC1CI/H+I2pkDABmRq0EUIiakA68j/AFWQ0XA8Lwwsr2Vt2xce1k58/PFbOyvTXmlqEReP8RNTIGADOjVgIoRE1IB95H+IKshqvsonJAUmQyTn09S7V683odHMtqyUJWsG0mvP+IGhkDgJlRKwEUoiakA+8jfEFWw8WAMLyRyTh1dyxQd8eCuJuCGPD+I2pkDABmRq0EUIiakA68j/AFWQ1PpFNGOOcGnHPPOOd2OOf6g21nOececs7tCv5dHGx3zrmtzrndzrmnnXOXFjzO9cHtdznnri/Y/qbg8XcH9+XPAgAAAAAAAABQQiPmEH67ma01s97g5w9LetjMVkl6OPhZkt4haVVw2STpU9LEALKkj0h6i6Q3S/pIfhA5uM37C+7XF/3TAQAAAAAAAAA/xbGo3DWS7g7+f7ekawu232MTHpd0pnOuS9KvSXrIzA6Z2cuSHpLUF1zXZmaPm5lJuqfgsQAAAAAAAAAA00Q9IGySHnTOPeGc2xRs6zSzweD/ByR1Bv9fJunFgvvuC7aV276vyHYAAAAAAAAAQBFRDwhfZmaXamI6iA865y4vvDI4s9ciboOcc5ucc/3Ouf7h4eGofx1QM7IKX5BV+IKswhdkFb4gq/AFWYUvyCriEOmAsJntD/49KOkrmpgDeCiY7kHBvweDm++XdE7B3ZcH28ptX15ke7F23GVmvWbW29HRUe/TAiJDVuELsgpfkFX4gqzCF2QVviCr8AVZRRwiGxB2zrU65xbm/y/pSknPSvqapOuDm10v6avB/78m6To3YZ2kw8HUEt+SdKVzbnGwmNyVkr4VXDfqnFvnnHOSrit4LG/kcqY9w0f02PMvac/wEeVykZ8wDcSO3KMRyBkANA41F2lFttEMyDl8QVbDMzvCx+6U9JWJsVrNlvRFM9vunPuhpG3OuRsk7ZW0Mbj9A5KukrRb0lFJ75MkMzvknPuopB8Gt7vVzA4F//8jSZ+XNE/SN4OLN3I50/adB7Rl2w5lj+fUMiejOzauVV/PUmUyLu7mAZEg92gEcgYAjUPNRVqRbTQDcg5fkNVwRXaGsJntMbOLg0uPmX0s2D5iZleY2Soz+5X84K5N+KCZvd7MLjSz/oLH+pyZnR9c/qFge7+ZrQnu86FgTmJvDIyMTwZZkrLHc9qybYcGRsZjbhkQHXKPRiBnANA41FykFdlGMyDn8AVZDVfUi8qhjKHR7GSQ87LHczo4lo2pRUD0yD0agZwBQONQc5FWZBvNgJzDF2Q1XAwIx6izrUUtc6a+BS1zMlqysCWmFgHRI/doBHIGAI1DzUVakW00A3IOX5DVcDEg3EDTJ79esXi+7ti4djLQ+flPVra3xtxS4HRhTd6+sr2V3KMulWSRnAFA/Srd91NzkSRhLjhEttEMyDl8QVbDFeWicihQavLrKy/o1AOb1+vgWFZLFrZoZXsrk2EjccKcvD2TcerrWarV5B41qDSL5AwA6lPNvp+ai6QIe8Ehso1mMXe206bLu5UzKeMmfgaSiKyGhwHhBik1+fUDm9eru2OBujsWxNxCoLRS+V0d5LdamYwj96hJNVkkZwBQu2r3/dRcJEHYx6wS2Ub6DYyM60NffHLK3KwtczKTYxVAUpDVcDFlRIMw+TV8Rn6RFGQRABqDegsfkVugevQb+IKshosB4QZh8mv4jPwiKcgiADQG9RY+IrdA9eg38AVZDRcDwg3C5NfwGflFUpBFIFrLzlkh51wkl2XnrIj76aEK1Fv4iNwC1aPfwBdkNVzMIdwgLEgAn5FfJAVZBKL1i30v6t1///1IHvveP3xbJI+LaFBv4SNyC1SPfgNfkNVwMSBcgVzONDAyrqHRrDrbag8cCxLAJ8VyT36RBLXU0rDqOACkTbn6yLErfJTE3HIcAl+Yxd0CoDJktX4MCM8glzNt33lgcrXa/CnpfT1L2Ykjtcg90oQ8A0Bx1EcgevQzJB0ZhS/IariYQ3gGAyPjk2GTJlYw3LJthwZGxmNuGRAdco80Ic8AUBz1EYge/QxJR0bhC7IaLgaEZzA0mp0MW172eE4Hx7IxtQiIHrlHmpBnACiO+ghEj36GpCOj8AVZDRcDwjPobGuZXMEwr2VORksWtsTUIiB65B5pQp4BoDjqIxA9+hmSjozCF2Q1XAwIz2Ble6vu2Lh2MnT5OUpWtrfG3DIgOuQeaUKeAaA46iMQPfoZko6MwhdkNVwsKjeDTMapr2epVm9er4NjWS1Z2DIZtj3DR1gpFqlUKvfVZpwVldEIM+UsrDwDQBKEuW+lPgLRKeyrb+hcqO03rdeBUfoZkieTcbrygk7du2mdBg9n1bVonnq62sgoEoeshivyAWHn3CxJ/ZL2m9nVzrlHJS0Mrl4i6d/M7Frn3C9L+qqknwfX/bOZ3Ro8Rp+kOyXNkvQZM/t4sP08SV+S1C7pCUm/Z2bHwn4OmYxTd8cCdXcskMTKhmgO03NfLfoJGqHSnNWbZwBIgij2rdRHIHwcB8MnuZzpweeGyCsSj6yGqxFTRtwk6bn8D2a23szWmtlaSY9J+ueC2z6av65gMHiWpE9KeoekN0p6j3PujcHtb5f012Z2vqSXJd0Q+bMRKxsClaCfoBHIGeCRzGw550K/LDtnRdzPrGGoeYAf6KvwCXmFL8hquCI9Q9g5t1zSr0v6mKQt065rk7RB0vtmeJg3S9ptZnuC+31J0jXOueeC+783uN3dkv5c0qfCan8p5VY25OwKYAL9BI1AzgCP5E7o3X///dAf9t4/fFvoj5lU1DzAD/RV+IS8whdkNVxRTxnx/0r6E52aIqLQtZIeNrPRgm1vdc49JekXkv7YzHZKWibpxYLb7JP0Fk1ME/GKmZ0o2L6sWCOcc5skbZKkFStmPotkprnZ8isbFgax2MqGzJ+KalWb1UYqledS2yvtJ/DTTFmttP7VWyfJGWaS5LoKFKqkrs6fO3tKzeta1KLf7l2uo8dOas/wEY410RBhHQMkVRjt5/gkGTgGqExnW4vObZ+nqy9aJhdE/etP7SevDURWK0NWwxXZgLBz7mpJB83siWB+4OneI+kzBT//SNK5ZnbEOXeVpPslrQqjLWZ2l6S7JKm3t9fK3baS+Z7yKxtOv03hyobMG4VaVJPVRiqV5ysv6Cw5h08l/QT+KpfVSutfGHWSnGEmSa2rwHSV1NXbtz+nzRtWaesju7R4/lxd99ZzdefDuzjWREOFcQyQVGG1n+OTZOAYoDLLF83TB9++Sn/21Wcn83rrNWu0fNG8uJvWNMhqZchquKI8Q/jfS/qNYHC3RVKbc+5/m9nvOufO1sRUEL+Zv3HhmcJm9oBz7m+D2+2XdE7B4y4Pto1IOtM5Nzs4Szi/vS6l5iRZvXn95CnolazIXMnjAL4oled7N60rm3NWLm9Olda/MOpkJfUYAHxXWC+/8Phe3XBZty5YulB//OWnONZEovj+GSis9nN8Ap88NzQ6OcAmTeT+z776rN7QuUAXn7M45tYBp5DVcEW2qJyZ/amZLTezlZJ+R9IjZva7wdXvkvQvZpbN3945t9S5iZO+nXNvDto2IumHklY5585zzs0NHutrZmaSvh08liRdL+mr9ba73JwkhfIrMq/rPlvdHQtO27lX+jiAD0rlefBw+ZzP1E+QTpXWv7DqJDkDkHaF9XLwcFaf/PZu/WRojGNNJI7vn4HCbD/HJ/BFqc90Bw770W/RPMhquCIbEJ7B70j6p2nb3iXp2WAO4a2SfscmnJD0IUnfkvScpG3B3MKSdLOkLc653ZqYU/iz9TYsP99ToVrmewrrcYAkKJXnrkXkHKertP5RJwGgMsXq5SwnaigSx/d9u+/tB2rRtWhe0dwvXUTukSxkNVwNGRA2s++Y2dUFP/+ymW2fdptPmFmPmV1sZuvM7PsF1z1gZr9kZq83s48VbN9jZm82s/PN7LfN7LV625qf7ykfslrnewrrcYAkKJXnnq5F5BynqbT+UScBoDLF6uWFy9kHI3l837f73n6gFj1dbbrt2jVTcn/btWvU07Uo5pYBU5HVcEU5h7CXwprviXmjkCbl8kzOMV2luSA/AFCZUvVSEjUUieL7vt339gO1mD07o2svXqZVSxbowOGsli5qUU/XIs2eHdcXyoHiyGq4GBAuIj/fUzULB+RypoGRcQ2NZtXZdurAodrHAZKkWK6n55mco5h8Lla2t2pgZFw/+PnIlNo4/XbkBwDKK1Yvc7mJhciN9ciRIL7v26e3P5cz7Rk+ctrnPCBNMhmnhS1zdPTYSS1smUPGkVhkNTwMCIcglzNt33lgckXa/FeL+nqWEk54i1yjXmQIAKJDjQWiRz9DMyDn8AVZDRfnVYdgYGR8MpDSxCqHW7bt0MDIeMwtA2pHrlEvMgQA0aHGAtGjn6EZkHP4gqyGiwHhEAyNZicDmZc9ntPBsWxMLQLqR65RLzIEANGhxgLRo5+hGZBz+IKshosB4RB0trVMrnKY1zInoyULW2JqEVA/co16kSEAiA41Foge/QzNgJzDF2Q1XAwIh2Ble6vu2Lh2Mpj5eUzyqz8DPiLXqBcZgk+WnbNCzrnQL7PntkTyuMvOWRH3S5YcmdlN+RpTY4Ho0c/QDMg5fEFWw8WiciHIZJz6epZq9eb1OjiW1ZKFrD4L/5Fr1IsMwSe/2Pei3v333w/9ce/9w7dF9rgI5E405WtMjQWiRz9DMyDn8AVZDRcDwiHJZJy6Oxaou2NB3E0BQkOuUS8yBADRocYC0aOfoRmQc/iCrIaHKSMAAAAAAAAAoEkwIAwAAAAAAAAATYIpIwAAAHwTLKQGAAAAANViQBgAAMA3TbqQGgAAAID6MWUEAAAAAAAAADQJBoQBAAAAAAAAoEkwZYSkXM40MDKuodGsOttatLK9VZkM8/IhecgqfEeGAaBxqLlA8tAvkUTkEr4gq+GJfEDYOTdLUr+k/WZ2tXPu85L+g6TDwU1+38x2uImVUe6UdJWko8H2HwWPcb2kW4Lb32Zmdwfb3yTp85LmSXpA0k1mZtW0L5czbd95QFu27VD2eE4tczK6Y+Na9fUsJVRIFLIK35FhAGgcai6QPPRLJBG5hC/IargaMWXETZKem7bt/zKztcFlR7DtHZJWBZdNkj4lSc65syR9RNJbJL1Z0kecc4uD+3xK0vsL7tdXbeMGRsYnwyRJ2eM5bdm2QwMj49U+FBApsgrfkWEAaBxqLpA89EskEbmEL8hquCIdEHbOLZf065I+U8HNr5F0j014XNKZzrkuSb8m6SEzO2RmL0t6SFJfcF2bmT0enBV8j6Rrq23j0Gh2Mkx52eM5HRzLVvtQQKTIKnxHhgGgcai5QPLQL5FE5BK+IKvhivoM4f9X0p9Iyk3b/jHn3NPOub92zp0RbFsm6cWC2+wLtpXbvq/I9tM45zY55/qdc/3Dw8NTrutsa1HLnKkvQ8ucjJYsbJn52QEhI6vwRbmslkKGEYdasgrEIeysUnMRFepq7eiXjUVWK0Mu40dWK0NWwxXZgLBz7mpJB83siWlX/amk1ZL+naSzJN0cVRvyzOwuM+s1s96Ojo4p161sb9UdG9dOhio/B8nK9taomwWchqzCF+WyWgoZRhxqySoQh7CzSs1FVKirtaNfNhZZrQy5jB9ZrQxZDVeUi8r9e0m/4Zy7SlKLpDbn3P82s98Nrn/NOfcPkv44+Hm/pHMK7r882LZf0i9P2/6dYPvyIrevSibj1NezVKs3r9fBsayWLGSVQiQTWYXvyDAANA41F0ge+iWSiFzCF2Q1XJENCJvZn2ribGA5535Z0h+b2e8657rMbNA55zQx5++zwV2+JulDzrkvaWIBucPB7b4l6S8KFpK7UtKfmtkh59yoc26dpB9Iuk7S39TS1kzGqbtjgbo7FtT0XIFGIavwHRkGgMah5gLJQ79EEpFL+IKshifKM4RL+UfnXIckJ2mHpA8E2x+QdJWk3ZKOSnqfJAUDvx+V9MPgdrea2aHg/38k6fOS5kn6ZnABAAAAAAAAABTRkAFhM/uOJqZ5kJltKHEbk/TBEtd9TtLnimzvl7QmrHYCAAAAAAAAQJq5iXHY5uGcG5a0t8TVZ0t6qYHNqZdv7ZX8a3O59r5kZn1R/eISWfXl9fOhnT60UQqnnXFktRq+vBfV4DnVJq6s+vx+0fZ4tJhZZCclhFBXZ+Lza19Mmp5P2M8l6ccA1Urie520NiWtPVJlbYozq0l8zeLCazEhaeMAebw/p/BanFLqtSib1aYbEC7HOddvZr1xt6NSvrVX8q/NSWtv0tpTig/t9KGNkj/trEcanyPPyS8+PzfaHg+f2y753/7p0vR80vRcopDE1ydpbUpae6RktqlQ0tvXSLwWE5L6OiS1XXHgtTil1tciE0VjAAAAAAAAAADJw4AwAAAAAAAAADQJBoSnuivuBlTJt/ZK/rU5ae1NWntK8aGdPrRR8qed9Ujjc+Q5+cXn50bb4+Fz2yX/2z9dmp5Pmp5LFJL4+iStTUlrj5TMNhVKevsaiddiQlJfh6S2Kw68FqfU9FowhzAAAAAAAAAANAnOEAYAAAAAAACAJsGAMAAAAAAAAAA0CQaEAQAAAAAAAKBJMCAMAAAAAAAAAE2CAWEAAAAAAAAAaBIMCAMAAAAAAABAk2BAGAAAAAAAAACaBAPCAAAAAAAAANAkGBAGAAAAAAAAgCbBgDAAAAAAAAAANAkGhAEAAAAAAACgSTAgDAAAAAAAAABNggFhAAAAAAAAAGgSTTcg3NfXZ5K4cAnjEimyyiXES6TIKpcQL5Eiq1xCvESKrHIJ8RIpssolxEukyCqXEC+RIqtcQryU1XQDwi+99FLcTQAqQlbhC7IKX5BV+IKswhdkFb4gq/AFWUWjNN2AMAAAAAAAAAA0KwaEAQAAAAAAAKBJzI67AYhGLmcaGBnX0GhWnW0tWtneqkzGxd0sIHXoa0Bl6CuoBbkBgOpRO1EtMgNfkNXwMCCcQrmcafvOA9qybYeyx3NqmZPRHRvXqq9nKR0FCBF9DagMfQW1IDcAUD1qJ6pFZuALshoupoxIoYGR8ckOIknZ4zlt2bZDAyPjMbcMSBf6GlAZ+gpqQW4AoHrUTlSLzMAXZDVcDAin0NBodrKD5GWP53RwLBtTi4B0oq8BlaGvoBbkBgCqR+1EtcgMfEFWw8WAcAp1trWoZc7Ut7ZlTkZLFrbE1CIgnehrQGXoK6gFuQGA6lE7US0yA1+Q1XAxIJxCK9tbdcfGtZMdJT+vysr21phbBqQLfQ2oDH0FtSA3AFA9aieqRWbgC7IaLhaVS6FMxqmvZ6lWb16vg2NZLVnIyotAFOhrQGXoK6gFuQGA6lE7US0yA1+Q1XAxIJxSmYxTd8cCdXcsiLspQKrR14DK0FdQC3IDANWjdqJaZAa+IKvhYcoIAAAAAAAAAGgSDAgDAAAAAAAAQJNgQBgAAAAAAAAAmgQDwgAAAAAAAADQJBgQBgAAAAAAAIAmwYAwAAAAAAAAADSJSAeEnXNnOue+7Jz7iXPuOefcW51zZznnHnLO7Qr+XRzc1jnntjrndjvnnnbOXVrwONcHt9/lnLu+YPubnHPPBPfZ6pxzUT4fAAAAAAAAAPBZ1GcI3ylpu5mtlnSxpOckfVjSw2a2StLDwc+S9A5Jq4LLJkmfkiTn3FmSPiLpLZLeLOkj+UHk4DbvL7hfX8TPBwAAAAAAAAC8FdmAsHNukaTLJX1WkszsmJm9IukaSXcHN7tb0rXB/6+RdI9NeFzSmc65Lkm/JukhMztkZi9LekhSX3Bdm5k9bmYm6Z6CxwIAAAAAAAAATBPlGcLnSRqW9A/OuSedc59xzrVK6jSzweA2ByR1Bv9fJunFgvvvC7aV276vyPbTOOc2Oef6nXP9w8PDdT4tIDpkFb4gq/AFWYUvyCp8QVbhC7IKX5BVxCHKAeHZki6V9Ckzu0TSuE5NDyFJCs7stQjbkP89d5lZr5n1dnR0RP3rgJqRVfiCrMIXZBW+IKvwBVmFL8gqfEFWEYcoB4T3SdpnZj8Ifv6yJgaIh4LpHhT8ezC4fr+kcwruvzzYVm778iLbAQAAAAAAAABFRDYgbGYHJL3onHtDsOkKST+W9DVJ1wfbrpf01eD/X5N0nZuwTtLhYGqJb0m60jm3OFhM7kpJ3wquG3XOrXPOOUnXFTwWAAAAAAAAAGCa2RE//o2S/tE5N1fSHknv08Qg9Dbn3A2S9kraGNz2AUlXSdot6WhwW5nZIefcRyX9MLjdrWZ2KPj/H0n6vKR5kr4ZXAAAAAAAAAAARUQ6IGxmOyT1FrnqiiK3NUkfLPE4n5P0uSLb+yWtqa+VzSGXMw2MjGtoNKvOthatbG9VJuPibhaAOtG34QNyCp+QVyA96M9AZegr8AVZDU/UZwgjAXI50/adB7Rl2w5lj+fUMiejOzauVV/PUjoO4DH6NnxATuET8gqkB/0ZqAx9Bb4gq+GKclE5JMTAyPhkh5Gk7PGctmzboYGR8ZhbBqAe9G34gJzCJ+QVSA/6M1AZ+gp8QVbDxYBwExgazU52mLzs8ZwOjmVjahGAMNC34QNyCp+QVyA96M9AZegr8AVZDRdTRjSBzrYWtczJTOk4LXMyWrKwZcb7Nsv8LNOf54rF8/XCy0dT/7xRvXJ9otL+Ela/qqdvo7kVy6CkormsN6/ktLk16jgirP04eQXSI+n9OYr6GPZjNstnwWbX2daiK994tv7TuvP08vhxndU6R//78Z8npq8AeWQ1XAwIN4GV7a26Y+Pa0+ZZyQ8AlNIs87NMf57nts/TjRtW6Zb7n03180b1yvUJSRX1lzD7Va19G82tWAY/8d5LdOyEnZalKy/o1IPPDdWVV3LavBp1HBHmfpy8AumR5P4cRX0M+zGb5bMgpNctbNGvXPA6/eEXnph8r2/9jTV6HYNsSBiyGi5nZnG3oaF6e3utv78/7mY0XP6vuwfHslqysLK/7u4ZPqKrtj562l/VH9i8Xt0dC6JucsNMf54ffPv5+uz39lTyvCM9EmrWrCZZuT4hqaL+Ena/qrBvk1VMKpbBzVecr7u+e3rdu3fTOr37rsfrzmsV+yCymiKNOo6oYz9eFHUVKdPUWa3lM1AjRFEfw37MGD4LNnVW49Q/cEi/+9kfnPZe/+8b3qLelWfF2LLEIqsxIatVK5tV5hBuEpmMU3fHAq3rPlvdHQsqOhBqlvlZpj9P59QUzxvVK9cnKu0vYferWvo2mluxDOaseN0bPBxOXslpc2rUcUTY+3HyCqRHUvtzFPUx7Mdsls+CkA6UeK+HRnmvkSxkNVwMCKOk/LxbhZI071ZYSj3P6T+n7XmjeuX6RKX9pVn6FZKrWAZnueJ1r2vRPPKKmjWq3rEfB+CbKOpj2I/JMWvz6CrxXne28V4jWchquBgQRkn5ebfyHS5J826Fafrz/PpT+3XbtWtS/7xRvXJ9otL+0iz9CslVLIMXLl9UNJc9XW3kFTVrVL1jPw7AN1HUx7Afk2PW5nHh6xbp1mum7jdvvWaNLnrdophbBkxFVsPFHMIoq5J5t8Ja2TtO059n/jkwfyCmK9cncjnTz18a1wuHxjV/7mx1tp2h5Wee3h8kNXo+O7KKKYrlWNJp+V1xVuntEWWWrKZM2PN3llrxvpL9uKSi960RWYUvyGpIitUfqfa6EsX8xlHV3AYds5LVGL366nE9c2BUQ6OvqbPtDF24tE3z5s2Ju1lJRVZjRFarUjarsxvVCvgpP+9WqYUDwlzZO07Fnme5543mNVOf+OnQWEX9gXwhTsVynMvZlPzm83rlBZ1Ftye9riMZZqqZ1Zhpxfty+/GZ7gsA5RSrIZ947yU6dsJqrith1seoHjOKNiJ5TpzI6Rs/PjDlM8tt167RtRcv0+zZfKkcyUFWw8UrhroMjIxPHgRJ0tUXLZvsnNLEBN9btu3QwMh4nM0EGoL+AJ9Nz28+rzsHDxfdTo7RaKUyWkkW67kvABSrIU/vY/+IdNg5ePi0zyy33P+sdg4ejrllwFRkNVwMCKMuYa/sDfiM/gCflVpNfPAwq4wjGepZ8b6e+wJAsRqSM47zkA6ljvUOHCbLSBayGi4GhFEXVvYGTqE/wGel8tu1aB45RiLUs+J9PfcFgGI1ZJbjOA/pUOpYb+kisoxkIavhYkAYVcnlTHuGj+ix51/SnuEjWrF4Pit7A4FKV7pfsXj+lH6UyzXX4p5IplKrifd0tZ22/fbfukgrFs+Ps7lIuOnHC2HUuXpWvK/nvgBQrIZcuHxR6HUlitoJzKSnq+20zyy3XbtGPV2LYm4ZMBVZDReLynmo1Arbjfi9xRZkufKCTj2wef2Ulb0vXbG4UavRAqGqp39lMk59PUu1ukx/WLF4vh58boiFjRCZWjNcLL/5+155Qafu+r1e9e89pJM56Y6Hfqo5szLkFkUVO174i9+8UJeuOFMrzqr9mKBcRqO8LwCUqiGSQqsrpT5rvbFroQYPN/ZzH5pLJuPUsXCu/updF2v82Am1zp2thfNmkTUkDlkNFwPCnolzlexSC7I8sHl92ZW9kyauAXUkXy5neuSnQ3p632HlbOKrgBcuX6QNb+isalC4XH/YM3ykaD9aHfQjoB7T9xHnts/TR6+5UHNmuYrqXanVxF94+ag2faF/ypxd5BalFDte+O9feUabLu/W6qVt6utZOnm7Wv5wUesxRj33BYBSNSSsulLqs9amy7u19eHdVe/TgUr9/KVx/dlXd+rqi5bJBZH6+lP79bnrW/X6JewzkRxkNVwMCHum1IFCIz6Ul1uQxZcPV3EOqCP5Xjg0rl1DR3TXd/dM5uOmK1bp/I4FWnl2OBlPQz9CchXuI7oWtejdvSsmB3LrqXfkFtUolZecTfwh4Y03rdePB8fYFwNAgXK1M8x9OjDdLw4f1bt7V2jrI7sm87V5wyoNHj7KIBsShayGK9I5hJ1zA865Z5xzO5xz/cG2e4OfdwTX7wi2r3TOvVpw3d8VPM6bgsfZ7Zzb6tzE3wKcc2c55x5yzu0K/l0c5fNJgjhXya5nQZakzIdVakB9YGQ8lvYgWYZGX9OdD++ako87H96lodHXan7M6dnvWsTCRohO4T7inZcunzxYkk7Vu2f2v1J1LWZBLlSjVF7MJnI4NPrajPvipBw3AEAtaqlh5WpnqX06n2EQhjNmzTotX1sf2aW5s2bF3DJgKrIarkYsKvd2M1trZr2SZGbvDn5eK+k+Sf9ccNvn89eZ2QcKtn9K0vslrQoufcH2D0t62MxWSXo4+DnV4vxQXuuCLPmzcq/a+qje8+kf6Kqtj2r7zgOxfLiLc0AdyTd+7ETRfBw9dqKmxyuW/R8PjukT772EhY0QicJ9hHMqmueHf3Kw6lrMglyoRrG8bN6wSv/8o31qmZMpWWvz++IkHTcAQLVqrWHFaudNV0zUzlL7dD7DIAxhfwYCokJWwxXblBHBWb4bJW2Y4XZdktrM7PHg53skXSvpm5KukfTLwU3vlvQdSTdH0uCEyB8oTP+a5YrF87Vn+Eik8+LWuiBLnNNcTJcfLCksIpzlhrxzz2otmo8VZ1U+6FU4R/X8ubOKZv8bN66fshAjc8AhLCsWz59c/G3VkoVF83wy+LGaWsyCXKhGPi9vuHG9njswqp8NjekLj+/Vy0eP6Y6Na0vW2nlzZk3W0KQcNwBAtWqtYflFXO/dtE6Dh7PqamvRK9ljevnoMUniMwwic1brGUXztXj+3BhbBZyOrIYr6gFhk/Sgc84k/b2Z3VVw3XpJQ2a2q2Dbec65JyWNSrrFzB6VtEzSvoLb7Au2SVKnmQ0G/z8gqbNYI5xzmyRtkqQVK1bU+ZTiVexD+YrF8/Xgc0MNmYuvlgVZkjT3ZKkB9aSc5ZamrProvLOL5+O8syvLx/Q5qjdfcX7R7A8fyWpd99leD2yQ1eTJ5WzKvmBi8Zk1+n+++uyUOba+8PjeyftUU4t9XZCLrMYjk3F6/ZIFOu/sVr2xq01ve3375B8SJJ1WazdvWKXNX3pSN/ddoMXz5yTmuKGRyCp8QVbLq/Wzz/T9eP44dPtN6/XSkde0askC3Xzf04n8DJNUZLUyx06e1OYNq06bl/VYLjfznREKsloZshquqAeELzOz/c65JZIecs79xMy+G1z3Hkn/VHDbQUkrzGzEOfcmSfc753oq/UVmZsHAc7Hr7pJ0lyT19vZ6/33D6R/K9wwfSfSZNEk6KzfpZ7mlLau+qTcf088IyVl6z+Ygq8kzPX97R17VJ769S/duWqdXj5/UvDmztPlLT2rw8Kmvl6Ylj+WQ1XiV+kNCX89SLdu0Tg//5KBO5qQvPL5Xg4ez2rJth+7d9NbU1s5yyCp8QVbLq/WzT6kzix/YvF69K9t1ac504bJFifwMk1RktTJzZ83Svf0v6IbLuuWcZCbd2/+C/v357XE3rWmQ1cqQ1XBFOoewme0P/j0o6SuS3ixJzrnZkt4p6d6C275mZiPB/5+Q9LykX5K0X9LygoddHmyTpKFgSon81BIHo3w+SZX0eXGTNvdk/sNp/gxNDqRQqJ58TO+L9z2xT5s3rEpM9pFuxfYFe0de1avHT2pd99m6cNmZurnvAvKIRMhknI4eO6mtD+/WJ7+9e/IPFdnjOR0/eTJRxw0AUI1aP/vM9JmOzzCIyrGTJ/Xu3hX67Pf26BOP7NZnv7dH7+5doeMnOesSyUJWwxXZGcLOuVZJGTMbC/5/paRbg6t/RdJPzGxfwe07JB0ys5POuW5NLB63x8wOOedGnXPrJP1A0nWS/ia429ckXS/p48G/X43q+SRZks7ALSbpZ+UCYZneFwcPZ3Vv/wuTZ2iSfURppn0BtRhJUyqzZ7WeoUtXnEVWAXip1v1t0j/TIb3aW88oetZl35qlcTcNmIKshivKKSM6JX1lYu04zZb0RTPbHlz3O5o6XYQkXS7pVufccUk5SR8ws0PBdX8k6fOS5mliMblvBts/Lmmbc+4GSXs1sUhd00n6vLiSv3NPAtUo1hdv7rtAFy47k4EMRK6SfQG1GElSLrNkFYDPaqlhPnymQzqtbG/VzX0XkD0kHlkNlzNrrulJent7rb+/P+5mhC6/Knc9Z9LkH2NoNKvONs7GqUCkL05as5pkYfSBMPpiBMiqp6rNZELzVw2y6pEU18xKkFX4gqx6pNaamJLPcWQ1RidO5LRz8LAGD2fVtWieerraNHt2pDOM+oysxoisVqVsVqNeVA4NUu+ZNLmcafvOA6f9paWvZ6mPBxNA1cLqA5zVhrDUkknyh0ahZgJA+GqpiXyOQ71yOdODzw2RISQeWQ0Xw+iQVHpV24GR8ZhbBjQGfQBJQyaRZOQTAJKBeox6kSH4gqyGiwFhSJp5VVsg7egDSBoyiSQjnwCQDNRj1IsMwRdkNVwMCEPSqVVtC7GqLZoJfQBJQyaRZOQTAJKBeox6kSH4gqyGiwFhSDq1qm2+c7FaI5oNfQBJQyaRZOQTAJKBeox6kSH4gqyGi0XlIGliAYO+nqVavXm9jyt9A3WjDyBpyCSSjHwCQDJQj1EvMgRfkNVwMSCMSaz0jWZHH0DSkEkkGfkEgGSgHqNeZAi+IKvhYcoIAAAAAAAAAGgSnCHsgVzONDAyrqHRrDrbOCW+nGKvlSReP0iamo+uRS06mZMOjp2eC/oc4nTiRE47Bw9r8HBWXYvmqaerTbNnT/z9lmwiCSrJYbnbkGMASZWvTyPjr2nurIyOHjsZe52iZqIRjh07qad/cVgHRrPqamvRha9bpLlzZ8XdLOA0ZDU8DAgnXC5n2r7zgLZs26Hs8dzkpNl9PUvrPhBI28FFsdfqE++9RMdOWCSvH/xSmI/F8+fqureeqzsf3nVaLiRF1udKtStN/RD1OXEip/uf2q9b7n92Mn+3XbtG1168TJmMa2g2Z0J2m1MlxyXlbiOdXmNv/62L9LozW9TeegY5AhCbfO26fftzenfvCm195PTjxEbXpyg/C9bSFvb76XTs2End//Qv9GdfPXX8ees1a3TtRa9joA2JQlbDxZQRCTcwMj55ACBJ2eM5bdm2QwMj43U9bv7g4qqtj+o9n/6Brtr6qLbvPKBczsJodiyKvVZP7zscyesH/xTm452XLp8cDJam5iKqPldMGvsh6rNz8PDkYLA0kb9b7n9WOwcPNzSbMyG7zauSHJa7TbHrbr7vaX3npy+RIwCxytenqy9aNjkYLMW7v03Kvp/9fro984vDkwNs0kTO/uyrz+qZXxyOuWXAVGQ1XAwIJ9zQaHYy7HnZ4zkdHMvW9bhJObgIU7HXKmeK5PWDfwrz4VzpXETV54pJYz9EfQYPF8/fgcONzeZMyG7zqiSH5W5T6rp8XSZHAOKSr0/ljhPjalPcbWG/n26DJXJ2YJTPzEgWshouBoQTrrOtRS1zpr5NLXMyWrKwpa7HTcrBRZiKvVaznCJ5/eCf6fkolYuo+lwxaeyHqE/XonlF87d0UWOzOROy27wqyWG525S6zoKTzMgRgLgU1qek7G+Tsu9nv59uZy+YWzRn7QvmxtQioDiyGq6KBoTdhN91zv1Z8PMK59ybo20aJGlle6vu2Lh2ysHJHRvXTi6WVqukHFyEqdhrdeHyRZG8fvBPYT7ue2KfbrpiVdFcRNXnikljP0R9erradNu1a6bk77Zr16ina1FDszkTstu8KslhudsUu27zhlX65x/tm/yZHAGIQ74+ff2p/dq8ofhxYlxtirst7PfTbWlbiz7yH3um5Owj/7FHS9t4f5EsZDVczmzmeX+cc5+SlJO0wcwucM4tlvSgmf27qBsYtt7eXuvv74+7GVXJT+B/cCyrJQvDmcA/SQsUhKnYayUp9NcvEOkL5WNWk64wH0vbWnQyJw0fOT0XUfS5Uu1pUD8kqx45cSKnnYOHdeBwVksXtaina5Fmz5446GlUNmcSYXbJqgcqyWG52xQuTHT8pOn/+eoz2jvyqm/HImQVviCrVcjXp0Pjr2nOrIyOHjsZ+wJqSdj3N+iYlazGJJczPbr7oMZePanxYyfUOne2Fs6bpfXnL/FhfxwHshoTslq1si9KpQPCPzKzS51zT5rZJcG2p8zs4pAa2TB0rlOScHDhOXYEqFuD+iFZRegiyi5ZbTIeH4uQVfiCrCIUDajXZDVGHu+P40BWY0RWq1L2hZld4YMcd87NkmSS5Jzr0MQZw/BYJuPU3bFA3R0L4m4K0LToh/AV2UUYyBEA+IF6nW68v/AFWQ1PpQPCWyV9RdIS59zHJL1L0i2RtQqoUOHXTuP+Ohdqx/uINCHPSDoyCgDJR61GI5E3+IKshqeiAWEz+0fn3BOSrtDEKcfXmtlzM93POTcgaUzSSUknzKzXOffnkt4vaTi42X83sweC2/+ppBuC2282s28F2/sk3SlplqTPmNnHg+3nSfqSpHZJT0j6PTM7Vslzgv/SOg9ys+F9RJqQZyQdGQWA5KNWo5HIG3xBVsOVmfkmknPu9ZJ+bmaflPSspF91zp1Z4e94u5mtNbPegm1/HWxbWzAY/EZJvyOpR1KfpL91zs0Kpqr4pKR3SHqjpPcEt5Wk24PHOl/Sy5oYTEaTGBgZnywEkpQ9ntOWbTs0MDIec8tQDd5HpAl5RtKRUQBIPmo1Gom8wRdkNVwVDQhLuk/SSefc+ZL+XtI5kr4YcluukfQlM3vNzH4uabekNweX3Wa2Jzj790uSrnHOOUkbJH05uP/dkq4NuU0Nl8uZ9gwf0WPPv6Q9w0eUy8286F+zGhrNThaCvOzxnA6OZWNqEWpR6n0cGs3SF+CNfO3+2dAYdQmJVqrm/mxojFoLADUK+zMcn3PQSOQNviCr4ap0QDhnZickvVPSJ8zs/5LUVcH9TNKDzrknnHObCrZ/yDn3tHPuc865xcG2ZZJeLLjNvmBbqe3tkl4J2lW4/TTOuU3OuX7nXP/w8HCxmyRC/vT3q7Y+qvd8+ge6auuj2r7zQFN8OKvlIKqzrUUtc6ZGuGVORksWtkTVzMj5ktUwlXofj5+0UPoCf2SJRjNmtZTC2v3sL0YrrktkszHI6lSlau4z+0erqrXkN3xkFb4gq1NF8RluycL0fc6JA1mtTKm8dSwgb41CVitDVsNV6YDwcefceyRdJ+lfgm1zKrjfZWZ2qSame/igc+5ySZ+S9HpJayUNSvpfVbW4BmZ2l5n1mllvR0dH1L+uZs16+nutB1Er21t1x8a1kwUhP3/MyvbWRjQ7Er5kNUzF3sfbf+si/T9ffabuvtDMf2SJWjNmtZTC2n3fE/u0ecOqGesS2WwcsjpVsZq7ecMq/fOP9lVca8lvNMgqfEFWpwr7M1wuZ/r5yBHddMXMxxMoj6xWZvYs6SP/sWdK3j7yH3s0e1bMDWsiZLUyZDVcFS0qJ+l9kj4g6WNm9vNgMbcvzHQnM9sf/HvQOfcVSW82s+/mr3fOfVqnBpj3a2IqirzlwTaV2D4i6Uzn3OzgLOHC23up3Onv3R0LYmpV9EodRK3evL7s885knPp6lmr15vU6OJbVkoWsMOmjYu/jyPhr2jvy6pTb1dIXas0WUI3C2j14OKsvPL5XN1zWrYuWtWlV58KidYlsIi6FNfdnQ2N6Zv+ovvD4Xg0enviqXSW1lvwCwClhf4YbGBnXh774pBbPn6sbLuuWc1LGSW/sWsjnHETiwOHX9Hf/unsyb2bS3/3rbnWffbHObWe/juQgq+GqaEDYzH7snPtjSb/knFsj6admdnu5+zjnWiVlzGws+P+Vkm51znWZ2WBws9/UxCJ1kvQ1SV90zt0h6XWSVkn6N0lO0qpgEHq/Jhaee6+ZmXPu25LepYl5ha+X9NWKn3kC5b/GWXhAkdavBuVypoGRcQ2NZvXq8ZM1H0RlMk7dHQv4AOq5Yu9jGH2hUX9kKcxzZxt/mGg202v34OGsPvu9PXqgzOBYI/8ASD4xXb7mStJ/uXdH1bW2kvySOwDNIuzPcPkaO3g4q09+e/fk9rd2t2vl2XzmQfjGj53Q3pFXp+RNko4eO1HiHkA8yGq4Kpoywjn3y5J2SfqkpL+V9LNg+odyOiV9zzn3lCYGdr9hZtsl/aVz7hnn3NOS3i7pv0qSme2UtE3SjyVtl/RBMzsZnP37IUnfkvScpG3BbSXpZklbnHO7NTGn8GcretYJlcYpEIqZ/lXTp158hTmyMEVYfaER80zz1WnUktdGzYFOPlFOrbV2pvySOwDNJOzPcOXW16COIgrnLp5fNHPnLJ4fU4uA4shquJzZzDsV59wTmjgr96fBz78k6Z/M7E0Rty90vb291t/fH3czSsqfUZPmKRD2DB/RVVsfnfwreteiFl331nN158O7lD2emzyI6utZmvTnHmnjkp7VqIXRF/KDEvmvNkeRrel5liZ2SuXODo0BWY1YtXltRDYlb/JZiKw2WC21dqb8epi7WpBV+IKsNkCYn+FyOdPXn/6Fbr7v6ckau3nDKt3b/4L+4fffnKY6Oh1ZjcnAS0f0zWcPTPk8ftMVq/SONUs5K704shoTslq1slmtdA7hOfnBYEkys5855ypZVA5VaoYpEKZ/1XTwcFb3PLZXd7/vzTJZagfCUZ0w+kIj5plu1rm/MVW1eW3UHOjkEzOppdbOlF9yB6DZhPkZLpNxet2ZLVPmyMzP9U4dRRTyn8cLM3fPY3t1yYozGWRDopDVcFU6INzvnPuMpP8d/PyfJPEnC9Sk2DxbLx89po6FZ3CAg9BF/UeWZpr7G+FqxB8AySeiUi6/5A4A6tPeeoY++7091FE0RGdbi14+emzKvKzkDUlEVsNV0RzCkv4/mpjbd3Nw+XGwDahas8yVjOZAnpFk5BNxIHcAUB/qKBqJvMEXZDVcFZ0hbGavSbojuAB1adRXpYFGIM9IMvKJOJA7AKgPdRSNRN7gC7IarrIDws65ZySVXHXOzC4KvUVoCs0wVzKaB3lGkpFPxIHcAUB9qKNoJPIGX5DV8Mx0hvA7JXVKenHa9nMkHYikRQAAAAAAAACASMw0h/BfSzpsZnsLL5IOB9cBAAAAAAAAADwx04Bwp5k9M31jsG1lJC0CAAAAAAAAAERipgHhM8tcNy/EdgAAAAAAAAAAIjbTgHC/c+790zc65/5A0hPRNAkAAAAAAAAAEIWZFpX7L5K+4pz7Tzo1ANwraa6k34ywXQAAAAAAAACAkJUdEDazIUlvc869XdKaYPM3zOyRyFsGAAAAAAAAAAjVTGcIS5LM7NuSvh1xWwAAAAAAAAAAEZppDmEAAAAAAAAAQEowIAwAAAAAAAAATYIBYQAAAAAAAABoEhXNIQzEIZczDYyMa2g0q862Fq1sb1Um4+JuFjxFnpAG5BiNQM4AAGFiv5J8vEfwBVkNDwPCSKRczrR95wFt2bZD2eM5tczJ6I6Na9XXs5TOjqqRJ6QBOUYjkDMAQJjYryQf7xF8QVbDFemUEc65AefcM865Hc65/mDb/3TO/cQ597Rz7ivOuTOD7Sudc68Gt93hnPu7gsd5U/A4u51zW51zLth+lnPuIefcruDfxVE+HzTOwMj4ZCeXpOzxnLZs26GBkfGYWwYfkSekATlGI5AzAECY2K8kH+8RfEFWw9WIOYTfbmZrzaw3+PkhSWvM7CJJP5P0pwW3fT647Voz+0DB9k9Jer+kVcGlL9j+YUkPm9kqSQ8HPyMFhkazk508L3s8p4Nj2ZhaBJ+RJ6QBOUYjkDMAQJjYryQf7xF8QVbD1fBF5czsQTM7Efz4uKTl5W7vnOuS1GZmj5uZSbpH0rXB1ddIujv4/90F2+G5zrYWtcyZGs+WORktWdgSU4vgM/KENCDHaARyBgAIE/uV5OM9gi/IariiHhA2SQ86555wzm0qcv1/lvTNgp/Pc8496Zz7V+fc+mDbMkn7Cm6zL9gmSZ1mNhj8/4CkzhDbjhitbG/VHRvXTnb2/NwwK9tbY24ZfESekAbkGI1AzgAAYWK/kny8R/AFWQ2XmzjpNqIHd26Zme13zi3RxFQRN5rZd4Pr/m9JvZLeaWbmnDtD0gIzG3HOvUnS/ZJ6JP2SpI+b2a8E91sv6WYzu9o594qZnVnw+142s9PmEQ4GozdJ0ooVK960d+/eyJ5ztVghsbT8a3NwLKslCxP52oTemCRnNUxx5N6DPEWpKbOaxvraBDluyqzOpNFZboKchYGswhdktU5pPJ5otAr3K2Q1RidO5LRz8LAGD2fVtahFPV2LNHt2w79Q7guyGiOyWpWyWY10QHjKL3LuzyUdMbO/cs79vqQ/lHSFmR0tcfvvSPpjSfslfdvMVgfb3yPpl83sD51zPw3+PxhMLfEdM3tDuXb09vZaf39/WE+rLqyQ6L1I36QkZTVM5D4WTZdVcuatpsvqTMhyYpFV+IKs1oEa3FBkNSbkvGpkNSZktWplX5TIhtGdc63OuYX5/0u6UtKzzrk+SX8i6TcKB4Odcx3OuVnB/7s1sXjcnmBKiFHn3DrnnJN0naSvBnf7mqTrg/9fX7DdC6yQiGZE7tEI5AxpQZYBID7UYDQDcg5fkNVwRXledaek7znnnpL0b5K+YWbbJX1C0kJJDznndjjn/i64/eWSnnbO7ZD0ZUkfMLNDwXV/JOkzknZLel6n5h3+uKRfdc7tkvQrwc/eYIVENCNyj0YgZ0gLsgwA8aEGoxmQc/iCrIZrdlQPbGZ7JF1cZPv5JW5/n6T7SlzXL2lNke0jkq6or6Xxya+QWBhoVkhE2pF7NAI5Q1qQZaDxlp2zQr/Y92Loj/u65edo/4svhP64iA41GM2AnMMXZDVckQ0IY2b5FRKnz3/CConFsaBDOtSae95/VKOWnJExJBE1E2i8X+x7Ue/++++H/rj3/uHbQn9MRIvPazNjf+O/le2t+sR7L9HT+w4rZ9IsJ124fBE5R+KQ1XAxIByjTMapr2epVm9ez0reM2Dy8PSoJfe8/6hWtTkjY0gqaiYAxIfPa+Wxv0mPYydMd313z5T3EUgishqeKOcQRgUyGafujgVa1322ujsWsOMsgcnD06Xa3PP+oxbV5IyMIcmomQAQHz6vlcb+Jh14H+ELshouBoThBSYPb268/4gaGUOakGcAQCOwv0kH3kf4gqyGiwFheCE/eXghJg9vHrz/iBoZQ5qQZwBAI7C/SQfeR/iCrIaLAWF4Ib+gQ77zs6BDc+H9R9TIGNKEPAMAGoH9TTrwPsIXZDVcLCrXQKzAWjsWdIhfnPnl/UehKLJIxpAUYeSbPANoZnzmahz2N+mQyThdeUGn7t20ToOHs+pa1KKerkW8j0gcshouBoQbhBVY65df0KG7Y0HcTWk6Scgv7z+kaLNIxhC3MPNNngE0oyQcszYb9jf+y+VMDz43RL9B4pHVcDFlRIOwGiJ8Rn6RFGQRaUa+AaA+1FGgevQb+IKshosB4QZhNUT4jPwiKcgi0ox8A0B9qKNA9eg38AVZDRcDwg3CaojwGflFUpBFpBn5BoD6UEeB6tFv4AuyGi4GhBuE1RDhM/KLpCCLSDPyDQD1oY4C1aPfwBdkNVwsKtcgrMAKn5FfJAVZRJqRbwCoD3UUqB79Br4gq+FiQLgCuZxpYGRcQ6NZdbbVHjhWYIVPiuWe/CIJaqmlYdVxIAzl8sixAlC5Zees0C/2vRh3M5AwSayjHIfAF2ZxtwCoDFmtHwPCM8jlTNt3HphcyTB/Snpfz1J24kgtco80Ic9IEvIIhOcX+17Uu//++6E/7r1/+LbQHxPNi7qPpCOj8AVZDRdzCM9gYGR8MmzSxAqGW7bt0MDIeMwtA6JD7pEm5BlJQh4BoLlQ95F0ZBS+IKvhYkB4BkOj2cmw5WWP53RwLBtTi4DokXukCXlGkpBHAGgu1H0kHRmFL8hquBgQnkFnW8vkCoZ5LXMyWrKwJaYWAdEj90gT8owkIY8A0Fyo+0g6MgpfkNVwMSA8g5Xtrbpj49rJ0OXnKFnZ3hpzy4DokHukCXlGkpBHAGgu1H0kHRmFL8hquCJdVM45NyBpTNJJSSfMrNc5d5akeyWtlDQgaaOZveycc5LulHSVpKOSft/MfhQ8zvWSbgke9jYzuzvY/iZJn5c0T9IDkm4yC3etwUzGqa9nqVZvXq+DY1ktWciqsEg/co80Ic9IEvIIAM2Fuo+kI6PwBVkNV6QDwoG3m9lLBT9/WNLDZvZx59yHg59vlvQOSauCy1skfUrSW4IB5I9I6pVkkp5wzn3NzF4ObvN+ST/QxIBwn6Rvhv0EMhmn7o4F6u5YEPZDA4lF7pEm5BlJQh4BoLlQ95F0ZBS+IKvhiWPKiGsk3R38/25J1xZsv8cmPC7pTOdcl6Rfk/SQmR0KBoEfktQXXNdmZo8HZwXfU/BYAAAAAAAAAIBpoh4QNkkPOueecM5tCrZ1mtlg8P8DkjqD/y+T9GLBffcF28pt31dk+2mcc5ucc/3Ouf7h4eF6ng8QKbIKX5BV+IKswhdkFb4gq/AFWYUvyCriEPWA8GVmdqkmpoP4oHPu8sIrgzN7Q53ztxgzu8vMes2st6Oj47TrcznTnuEjeuz5l7Rn+IhyucibBBRFVuGLmbJaChlGo1FX4YtK6+qyc1bIORf6Zdk5Kxr4bOGzWo8BMIH9TuOQ1cqRy3iR1cqR1fBEOoewme0P/j3onPuKpDdLGnLOdZnZYDDtw8Hg5vslnVNw9+XBtv2Sfnna9u8E25cXuX1VcjnT9p0HtGXbDmWP5yZXKezrWcrE1EgUsgrfkWEkDZmEj36x70W9+++/H/rj3vuHbwv9MQFMxX4HSUQu4QuyGq7IzhB2zrU65xbm/y/pSknPSvqapOuDm10v6avB/78m6To3YZ2kw8HUEt+SdKVzbrFzbnHwON8Krht1zq1zzjlJ1xU8VsUGRsYnwyRJ2eM5bdm2QwMj4zU+cyAaZBW+I8NIGjIJAGgk9jtIInIJX5DVcEU5ZUSnpO85556S9G+SvmFm2yV9XNKvOud2SfqV4GdJekDSHkm7JX1a0h9JkpkdkvRRST8MLrcG2xTc5jPBfZ6X9M1qGzk0mp0MU172eE4Hx7LVPhQQKbIK35FhJA2ZBAA0EvsdJBG5hC/IargimzLCzPZIurjI9hFJVxTZbpI+WOKxPifpc0W290taU087O9ta1DInMyVULXMyWrKwpZ6HBUJHVuE7MoykIZMAgEZiv4MkIpfwBVkNV9SLyiXeyvZW3bFxrVrmTLwU+TlIVra3xtwyYCqyCt+RYSQNmQQKZGazWB0QMfY7SCJyCV+Q1XBFuqicDzIZp76epVq9eb0OjmW1ZGGLVra3MiE1EoeswndkGElDJoECuRMsVgdEjP0OkohcwhdkNVxNPyAsTYSqu2OBujsWxN0UoCyyCt+RYSQNmQQANBL7HSQRuYQvyGp4GBAOSS5nGhgZ19BoVp1tLZOnrE/fxl8u4JPCXHctatHJnHRwjDxjZoXZmT93to6dPKn21jPIDVKh2D4/n+ty1wFAM0hbHUzb8wGKOXEip52DhzV4OKuuRfPU09Wm2bObfoZRJBBZDQ8DwiHI5Uzbdx7Qlm07lD2eU8ucjD7x3kt07IRN2XbHxrXq61nKAQS8UJjrxfPn6rq3nqs7H95FnjGjYjVx84ZVurf/Bd3cdwG5gdeK5TtfDyWVvI7Mo2kFcxOjOZSrkT7WwbQ9H6CYEydyuv+p/brl/mcnc37btWt07cXLGGhDopDVcDEgHIKBkfHJgwRJyh7P6el9h3XXd/dM2bZl2w6t3ryeU9vhhcJcv/PS5ZODwRJ5RnnFauLWR3bphsu6yQ28Vyzf+VxLKnkdmUfTimhuYon5iZOoXI30sQ6m7fkAxewcPDw5wCZN5PyW+5/VqiULdPE5i2NuHXAKWQ0XQ+ghGBrNTgYyL2c6bVv2eE4Hx7KNbBpQs8JcO0eeUbliNTF7PDeZI3IDn5XK98GxbNnrAKAZpK0Opu35AMUMHi6e8wOHyTmShayGizOEazR9fsyWOZkpwZzldNq2ljkZLVnYEkdzgap1trVMyXAteWbOteY0PTvSRF7MoqmD5AyNVCrf+VwXu27enFl67PmXyCeA1JupRvqmnufD8Ql80bVoXtGcL13kZ79FepHVcHGGcA3yc0ldtfVRvefTP9DmL/1It127Ri1zJl7OljkZXbh8ke7YuHbKtjs2rp1cbA5IupXtrZMZvu+JfbrpilVV5Xl6P7lq66PavvOAcjlr1FNATAqzI2lyDuF/eXp/6HWQnKHRiuU7n+ti19127Rpt/tKT5BNAUyhXI31U6/Ph+AQ+uaBzoW69Zup4xq3XrNEFnW0xtwyYiqyGizOEi5jpr7nT55LaO/Kq/uaRXbp30zq9evyklixsmTxIWL15vQ6OZSe38Vdh+CKTcerrWTqZ4aVtLbryjUs1fGRqnkv1F+Zca16F2Zn4FsUsHT+ZU9+apafVwXrPniFnaLTptXH6/v3KCzp176Z1Gjyc1dkLztB/+z87tHfkVUnkE2h6ES2w97rl52j/iy+E/ri1mKlG+mD63YOXrwAAjIFJREFUscmVF3TqgSqfD8cn8Mm+w69q2w/36i/fdbFePXZC8+bO1j3f36PecxeTVyQKWQ0XA8LTVLKSbLG5pPaOvKpXj5/Uuu6zp2zv7lhAMOGtTMadluHXLzn1/3L9pdyca/SJ9CuWnenCWLmbnCEOpfKdy5kefG5oMtObrzh/cjA4j3wCTSyiBfaStrheJccASVXu2KSa58PxCXwyNJpV/97D6t/75GnbySuShKyGiykjpin119yBkfHJ2+Tnkirk89xYQK3K9Rf6CWZSSb2dCTlDkkzPdC6YN7sQ+QSA5Arj2ETi+AR+ya+JVKhlTkbz586KqUVAcWQ1XAwIT1PJSrJpmxsLqFW5/kI/wUzCWLmbnCFJpmf6vif2afOG6uZfBwDEJ4xjE4njE/jl2MmTpx2vbN6wSsdP5ma4J9BYZDVcTBkxTSUryaZhbiwgDOX6C/0EMwljJXJyhiSZnunBw1nd2//CaWsMkE8ASKYwjk0kjk/gl/bWM3Rv/wu64bJuOSeZSff2v6C+NUvjbhowBVkNFwPC0+T/mjt93qjpf831eW4sICwz9Rf6CcqptN7OhJwhKYpl+ua+C3ThsjMZBAAAD4R1bCJxfAJ/rGxv1c19F4SSeyBKZDVcDAhPw19zgcrRX1AP8oO0IdMA4DfqOJoRuYcvyGq4GBAugr/mApWjv6Ae5AdpQ6YBwG/UcTQjcg9fkNXwsKgcAAAAAAAAADQJBoQBAAAAAAAAoEk4M4u7DQ3lnBuWtLfE1WdLeqmBzamXb+2V/Gtzufa+ZGZ9Uf3iEln15fXzoZ0+tFEKp51xZLUavrwX1eA51SaurPr8ftH2eLSY2ZqoHjyEujoTn1/7YtL0fMJ+Lkk/BqhWEt/rpLUpae2RKmtTnFlN4msWF16LCUkbB8jj/TmF1+KUUq9F2aw23YBwOc65fjPrjbsdlfKtvZJ/bU5ae5PWnlJ8aKcPbZT8aWc90vgceU5+8fm50fZ4+Nx2yf/2T5em55Om5xKFJL4+SWtT0tojJbNNhZLevkbitZiQ1Nchqe2KA6/FKbW+FkwZAQAAAAAAAABNggFhAAAAAAAAAGgSDAhPdVfcDaiSb+2V/Gtz0tqbtPaU4kM7fWij5E8765HG58hz8ovPz422x8Pntkv+t3+6ND2fND2XKCTx9Ulam5LWHimZbSqU9PY1Eq/FhKS+DkltVxx4LU6p6bVgDmEAAAAAAAAAaBKcIQwAAAAAAAAATYIBYQAAAAAAAABoEgwIAwAAAAAAAECTaMoBYefc55xzB51zz1Zw28udcz9yzp1wzr1r2nXXO+d2BZfro2sxAAAAAAAAANSvKQeEJX1eUl+Ft31B0u9L+mLhRufcWZI+Iuktkt4s6SPOucXhNREAAAAAAAAAwtWUA8Jm9l1Jhwq3Oede75zb7px7wjn3qHNudXDbATN7WlJu2sP8mqSHzOyQmb0s6SFVPsgMAAAAAAAAAA03O+4GJMhdkj5gZrucc2+R9LeSNpS5/TJJLxb8vC/YBgAAAAAAAACJxICwJOfcAklvk/R/nHP5zWfE1yIAAAAAAAAACB8DwhMykl4xs7VV3Ge/pF8u+Hm5pO+E1yQAAAAAAAAACFdTziE8nZmNSvq5c+63JclNuHiGu31L0pXOucXBYnJXBtsAAAAAAAAAIJGackDYOfdPkh6T9Abn3D7n3A2S/pOkG5xzT0naKema4Lb/zjm3T9JvS/p759xOSTKzQ5I+KumHweXWYBsAAAAAAAAAJJIzs7jbAAAAAAAAAABogKY8QxgAAAAAAAAAmlHTDQj39fWZJC5cwrhEiqxyCfESKbLKJcRLpMgqlxAvkSKrXEK8RIqscgnxEimyyiXES6TIKpcQL2U13YDwSy+9FHcTgIqQVfiCrMIXZBW+IKvwBVmFL8gqfEFW0ShNNyAMAAAAAAAAAM2KAWEAAAAAAAAAaBKz424AUEouZxoYGdfQaFadbS1a2d6qTMbF3Sx4ijwhDcgxGoGcISxkCQD8QL2GL8hqeBgQRiLlcqbtOw9oy7Ydyh7PqWVORndsXKu+nqV0dlSNPCENyDEagZwhLGQJAPxAvYYvyGq4vJ4ywjn3BufcjoLLqHPuv8TdLtRvYGR8spNLUvZ4Tlu27dDAyHjMLYOPyBPSgByjEcgZwkKWAMAP1Gv4gqyGy+sBYTP7qZmtNbO1kt4k6aikr8TbKoRhaDQ72cnzssdzOjiWjalF8Bl5QhqQYzQCOUNYyBIA+IF6DV+Q1XB5PSA8zRWSnjezvXE3BPXrbGtRy5yp8WyZk9GShS0xtQg+I09IA3KMRiBnCAtZAgA/UK/hC7IarjQNCP+OpH8qdoVzbpNzrt851z88PNzgZqEWK9tbdcfGtZOdPT83zMr21phbFi2yGo1mzVOUyGrjkePakNXqkLP4pC2rZCm90pZVpBdZrQz1On5ktTJkNVzOzOJuQ92cc3Ml/UJSj5kNlbttb2+v9ff3N6ZhqEt+9ciDY1ktWZjI1SMjbQxZDZcHeYoSWU2JJsgxWU2AJshZGMhqBchSIpBV+IKsxoh6XRWyGiOyWpWyL8zsRrUiYu+Q9KOZBoPhl0zGqbtjgbo7FsTdFKQAeUIakGM0AjlDWMgSAPiBeg1fkNXwpGXKiPeoxHQRAAAAAAAAAIAJ3g8IO+daJf2qpH+Ouy0AAAAAAAAAkGTeTxlhZuOS2uNuB6KXnytmaDSrzjbmimk2vP+IGhlDmpBnRIVsAUD6UNvhC7IaHu8HhNEccjnT9p0HtGXbDmWP5yZXk+zrWUrnbwK8/4gaGUOakGdEhWwBQPpQ2+ELshou76eMQHMYGBmf7PSSlD2e05ZtOzQwMh5zy9AIvP+IGhlDmpBnRIVsAUD6UNvhC7IaLgaE4YWh0exkp8/LHs/p4Fg2phahkXj/ETUyhjQhz4gK2QKA9KG2wxdkNVwMCMMLnW0tapkzNa4tczJasrAlphahkXj/ETUyhjQhz4gK2QKA9KG2wxdkNVwMCMMLK9tbdcfGtZOdPz9XzMr21phbhkbg/UfUyBjShDwjKmQLANKH2g5fkNVwsahcE/NpdcZMxqmvZ6lWb16vg2NZLVmY7PYiXGl+/33qh2mW5oxFhewml095Jkd+8SlbeWQMAMrLZJyuvKBT925ap8HDWXUtalFP1yJqJRKHrIaLAeEm5ePqjJmMU3fHAnV3LIi7KYhBGt9/H/thmqUxY1Ehu8nnQ57JkZ98yFYeGQOAmeVypgefG6JWIvHIariYMqJJsTojED/6IXxFdhEGcoSokTEAmBm1Er4gq+FiQLhJsTojED/6IXxFdhEGcoSokTEAmBm1Er4gq+FiyogmlV+dsbAzsTrjKcw3hyjl8/Xq8ZO66Yrzta1/nwYPT+zE6IdImmL1kH0IwhBljtiPQ4r/eJccAvBBZ1uLzm2fp6svWiYXlKivP7Wf4zokDlkNFwPCTSq/OuP0uVdYnZH55hCtYvm66YpVuuexvXr56DH6IRKlVD288oJO9iGoW1THIuzHkRfn8S45BOCLFYvn68YNq3TL/c9O1qvbrl2jFYvnx900YAqyGi4GhJuUj6tEN0qpeWlWb17vxQIqSLZi+brz4V26+31vVsfCM+iHSJRS9fCBzevZh6BuUR2LsB9HXpzHu+QQgC9eePno5ACbNFGvbrn/WV26YjH1ColCVsPFgHAT82mV6EYqNy8NrxXqVSpfJiNfSJyZ6iH7ENQrimMR9uMoFNfxLjkE4AvqFXxBVsPFonLANPn55goxNybCQr7gE/IKH5FbJAE5BOAL6hV8QVbDxYAwME1+vrl8oWFuTISJfMEn5BU+IrdIAnIIwBfUK/iCrIaLKSOAaZhfGVEiX/AJeYWPyC2SgBwC8AX1Cr4gq+FiQBgogvmVESXyBZ+QV/iI3CIJyCEAX1Cv4AuyGh6mjAAAAAAAAACAJsGAMAAAAAAAAAA0CQaEAQAAAAAAAKBJMCAMAAAAAAAAAE2CAWEAAAAAAAAAaBIMCAMAAAAAAABAk2BAGAAAAAAAAACaBAPCAAAAAAAAANAkGBAGAAAAAAAAgCbBgDAAAAAAAAAANInZcTcA0cjlTAMj4xoazaqzrUUr21uVybi4mwWkDn0NqAx9BbUgN0Bp9A8AYaGewBdkNTwMCKdQLmfavvOAtmzboezxnFrmZHTHxrXq61lKRwFCRF8DKkNfQS3IDVAa/QNAWKgn8AVZDRdTRqTQwMj4ZAeRpOzxnLZs26GBkfGqHyuXM+0ZPqLHnn9Je4aPKJezsJsLeKWwTzyz/7Bu3/5cKH0NaKRG1/Yw90vwSz1ZIzfwXZS1lv4BICwDI+O6fftzuuGybn1ow/n6g/Xdun37c9QTJA5ZDZf3Zwg7586U9BlJaySZpP9sZo/F2qiYDY1mJw8O87LHczo4llV3x4KKH4e/vgBTFesTmzes0hce36vBw1lJtfU1oJHiqO1h7Zfgl3qzRm7gs6hrLf0DQFhGxl/Tu3tXaOsju6Z8xjk0/hr1BIlCVsOVhjOE75S03cxWS7pY0nMxtyd2nW0tapkz9a1tmZPRkoUtZe83/SyGn7/EmQdoLjOdyVPsbJytj+zSOy9dPnmbSvoaUKkozi6L46yyWvdLSLZaamY1WSM3aBQfay39A0BY5s7KTA6wSac+48yZlYbhIqQJWQ2X16+ac26RpMslfVaSzOyYmb0Sa6MSYGV7q+7YuHbyIDF/RsLK9taS98mfxXDV1kf1nk//QFdtfVTPDY6WPPMASJtifWD7zgNTPhSWOhsnv/+ppK8Blaokk7Uod1ZZVGrZLyHZ6qmZlWaN3KARfK219A8AYRl/7WTRenX02MmYWgQUR1bD5fuUEedJGpb0D865iyU9IekmM5vyp3fn3CZJmyRpxYoVDW9ko2UyTn09S7V683odHMtqycKZV14sdhbDroNjapmTmdLhOPMgWs2W1SQpdSbP6s3rJ79+kj8bZ3qfuGL1Er3t9e0V9bW0IKvRqySTtSiV4yhrey37pbCQ1WjUUzMrzVqcuYkDWY2Hr7WWugrMjKxWpvWM2UXr1fy5s2JsVXMhq5Uhq+Hy+gxhTQxoXyrpU2Z2iaRxSR+efiMzu8vMes2st6Ojo9FtjEUm49TdsUDrus9Wd8eCGQ8Oi53FsK1/n/7iNy/kzIMGasasJkUlZ/KUOhvnwmVnVtzX0oKsRi+qs8viOqus2v1SWMhqNOqpmdVkLa7cxIGsxsPnWktdBcojq5U5dvKkNm9YNaVebd6wSsdP5ma4J8JCVitDVsPl+xnC+yTtM7MfBD9/WUUGhDGzYmcxvHz0mC5dcaYeaJIzc9DcKjmTp9nOVkO8ojq7jBwjDNRMpAW1FkCza289Q/f2v6AbLuuWc5KZdG//C+pbszTupgFTkNVweX2GsJkdkPSic+4NwaYrJP04xiZ5q9RZDCvOam2aM3PQ3Co9k6eZzlZDvKI8u4wco17UTKQFtRZAs1vZ3qqb+y7QZ7+3R594ZLc++709urnvAr4ZjMQhq+Hy/QxhSbpR0j865+ZK2iPpfTG3x0ucxYBmRx9A0pBJJBn5RFqQZQDNjjoIX5DVcHk/IGxmOyT1xt2ONMifxVDPAhqAz+gDSBoyiSQjn0gLsgyg2VEH4QuyGh7vB4SBauVypoGRcQ2NZtXZxl+UMBX5QJqQZyQV2YSPyC2AtKK+wRdkNTwMCKOp5HKm7TsPaMu2Hcoez03OE9fXs5QiAvKBVCHPSCqyCR+RWwBpRX2DL8hquLxeVK5Z5HKmPcNH9NjzL2nP8BHlchZ3k7w1MDI+WTwkKXs8py3bdmhgZDzmlqERZupL5ANJV83+gDwjKvUel5BNNFoYx9LkFkBaUd/gC7IaLs4QTjj+AhKuodHsZPHIyx7P6eBYljloUq6SvkQ+kGTV7g/IM6IQxnEJ2UQjhXUsTW4BpFWp+jY0Sn1DspDVcHGGcMIV+wvI7duf0zP7X+GMYVV/xkdnW4ta5kyNfcucjJYsbImymZhBI86Cr+SvieQDYYgqz5X+RTz/+zPOkWcUVU9Gqz0zo9jvotYiTI369k+p3HYsILcA/DZ/7uyi9W3+3FkxtQgojqyGizOEE276X0C6FrXo3b0r9O67Hvf6jOHpE4GvWDxfL7x8tKqJwWs542Nle6vu2Lj2tPusbG+N4mmiAlGfBZ/P2s+GxvQH67t13xP7NHg4K+n0M3tWLJ6v265do1vuf3ayLbddu0YrFs+v6HcwsT2qyXO1uank7LTC3794/lzddMUq3fnwrsm23P5bF82YZ6RbvTU3n8OuRS1656XL5YK7HBp/bcqZGbmc6ecvjeu5wVHtOjimbf379PLRY7pj41pdeUEn+2JULV8zR8Zf09xZGR09dlJdi1r048Gxhnz7p9gx5E1XrNLPR47ovLPZ7wPwl3OmW3+jR3/2tZ2T9e3W3+gRZQ1JQ1bDxYBwwuXPRsgfyL7z0uXa+siu085yWL15vTenyE//MHpu+zzduGHVlEG4Sj6cljrjo9xrkck49fUs1erN63VwLKslCxm8i1st72Olig18bN6wSl94fK8GD2dPOyPthZeP6m8e2aUbLuuWc5KZ9DeP7NKlKxaXbAvTuqBQpXmuJTfT9wfS6WdVFv7+wcNZffOZQf31xrV67sCoTuakOx76qebMypDPJlZvze1sa9G57fP07t4Vk8cjLXMyWrVkgS7NmTIZV7b2btm2Qw9sXs++GFXJZ+r27c9Nyd7mK87XXd/dUzbPldTOSmQyTm/sWqhNl3crZxPHCPc8tlcvHz2mBzw6DgeA6U6cNH3yO7unfAb65Hd26683ro27acAUZDVciZkywk34XefcnwU/r3DOvTnudsUtfzZC/rT4WRmVPMvBF9M/jF590bLJwWCp8q/ylTvjo5xMxqm7Y4HWdZ+t7o4FfACNWa3vYyWKDXxsfWSX3nnp8qJnpA2NZrV35FV98tu79YlHduuT396tvSOvlm0LE9ujUKV5riU30/cHpTJc+PvX/9IS/ddtO7T14VN5Jp/Nrd6au7K9VR+95sLT/jh9831PT+aqXO3N/y72xahGPlNXX7RsSvZyNvNxcSW1s1KDh7Pa+vCpY4TBw1nvjsMBYLrhsdeKfgZ6aexY3E0DpiCr4UrSGcJ/KyknaYOkWyWNSbpP0r+Ls1Fxm35G67w5s6ecCSFNHNgubWvRnuEjkX9lPYyvxk//MOpc6YP5cmdbhHXGB+IV5ftYauDjomVtemDz+tPyW0tbSv2Onw2NSVLRPsIUE+lVaYZq+QpzJd9w6FrUos1XnK/8FJpzZ2Vqqq/FkNt0qLfmZjJOc2a5srkqlW/nTv9d5AqVyGeq2DHjTHmu59th0/PZtWjiDPmrL1o2OV3K15/az7EnAK/NnzuraC1tmZuY8wcBSWQ1bEl61d5iZh+UlJUkM3tZ0tx4m5QMhWfRXLhs0WlnOXzivZfox4Njumrro3rPp3+gq7Y+qu07D4S+MFf+63r1/p5Si3JM/3mmg+swz/hAfKJ8H0tlbVXnwqJnpNXSllK/45n9o0X7SFj9CMlUaYZqXVSr3FmVuZzpx4Njuuu7e/SJR3brM4/u0arOBaEs3kVu0yOMmjtTfpcsLH5969xZU34XuUKlCjNXmK37ntinm65YNWOeazkjvVg+dw8f0Y0bVumz3ztVZ2/csIq52QF47czWuafV0puuWKXF8xmOQbKQ1XA5s2QcdDvnfiDpbZJ+aGaXOuc6JD1oZpeE+Xt6e3utv78/zIdsuPzZCvmzHMykX/+bR0/7K0nY85ntGT6iq7bW/3vCmkM4/1iFr0WDzyyK9BelIauViup9rGWe1mrbUsk8xYV9JKx+VCWy2kCVZCiKuaeLZevc9nna8qtv0M33PV3X72lgbslqA9Rbc2fK78BLR/TNZw9MWdDwpitWaf2qs/XGrkWTvyumehgWstpApeYQzp8YcV77Ag0fCfcYolg+p89ZLHmRWbIKX5DVmDw3+Ip+cuCIfv7SuHImZZx03tmtWr10gS7oOjPu5iURWY0JWa1a2awmacqIrZK+ImmJc+5jkt4l6ZZ4m5RM+bMc8geejz3/UmhfCS4nrFWai311b8Xi+bp0xeKqP5xOfy3gp6jex1q+JlptWwp/x8+GxvTM/tHJwWDp9D4SVj9CclWSoSgWuCyWrb0jr2rZmS16oM7fQ27Tpd6aO1N+Bw9ndc9je6cs+HHPY3t1yYozp2SPXKFSk5lbulCHxl/TvZvW6eixk1OmGXn9knAzUyyf5eYsJrMAfLV35FX9w/d+rj+4/PV69dgJzZs7W5/57vP64NvPZ5ANiUJWw5WYAWEz+0fn3BOSrtDEKPa1ZvZczM3yQqPm0g3z9xT7MMrALqLQiD8a5H+HJP2Xe3eU7SPMfY28sLNZKltntZ5R9+8ht5iuXH4721r08tFj+uS3d09uK5YXcoVqNPokgGL5nOVmnrMYAHzTtWiefnbwiDb/05OT21rmZLR0EbUNyUJWw5WkOYQlaUjSo5K+L2mec+7SmNvjhUbNpZvmOXtzOdOe4SN67PmXtGf4CPMXoiYrFs/XXb/Xq81XnK8PbThf57bPO62PpLkfIV71ZqtcHSS3qEaleQkzV+zHEbZi+bxw+elreZTLLLkE4IOerjb9z3ddNPkZ5qYrztf/fNdF6ulaFHfTgCnIargSc4awc+6jkn5f0vOS8kdLJmlDXG3yRRRfPY7z9zRaFHN5ovnkcqYHnxuakqPbf+siXXlB55QcpbUfIX71ZGumOkhuUY1K8xJWrtiPIwql8imposySSwC+yGScMi4zOUd6y5yM/tdvr6VWIXHIargSMyAsaaOk15vZsUb/4vziKkOj2SlzkfmkUV+jS+OcvQMj45MH69LEXHBbtu3Q6gQuEJKGrKZVsRzdfN/TunDZotNylMZ+VCkyHK1as1VJHUxrbslkNCrNSxi58mk/3mjkuz6l8llJZsklAF8MjIzrv/2fqfXqv/2fHbqgi3qFZCGr4UrSgPCzks6UdLCRv5S/3sOXRW3IarL5kqM4keHkatb8ksl0aNb8zoR8x4tcAvBFqXo1NEq9QrKQ1XAlaQ7h/yHpSefct5xzX8tfov6lpf56PzAyPnkb5v9Kt/yiIYWSuEBIJVkNE7mvji85ilOjM1yIPJfXrPmNK5PkMVzNmt+ZVJpv8hgNcgnAF/Pnzi5ar+bPnRVTi4DiyGq4kjQgfLek2yV9XNL/KrhEqtxf76VTZ1dctfVRvefTP9BVWx/V9p0HOFhOEV8WS5opq2Ei99XzJUdxamSGC5HnmTVrfuPIJHkMX7PmdyaV5Js8RodcAvBFznL6yNU9U+rVR67ukRn7AiQLWQ1XkqaMOGpmWxv9S/N/vS88YC786z3zf6WfL4slzZTVMJH76vmSozg1MsOFyPPMmjW/cWSSPIavWfM7k0ryTR6jQy4B+CLjnP7uu7t1w2Xdck4yk/7uu7u19XcuibtpwBRkNVxJGhB+1Dn3PyR9TdJr+Y1m9qMof2n+r/fT51fL//We+b+agw+LJc2U1TCR+9r4kKM4NTLDhchzZZoxv3FkkjxGoxnzO5NK8k0eo0UuAfjg6LGT2jvyqj757d2nbQeShKyGK0kDwvkh/XUF20zShih/6Ux/vS91dsXSthbtGT7Cqs1omEaeaRLWWXOsbo5CUWV4ppzFdWYykq8RdXV6PrsWkUfUp9J9ayX5pj4CADrbWnRu+zxdfdEyuWAX8fWn9quzjX0BkoWshisxA8Jm9va4fne5v94XO7viE++9RD8eHGPV5iowMBiORp1pEsZZc6xuPoHsTxV2hivJWVxnJicReTxdlHW1VD4/8d5L9KEvPtn0eSyHrBZX7b51pnxTHytDHgGk2YrF8/XHV75Buw4eUc6kWU764yvfoBWL58fdNGAKshquxAwIO+f+rNh2M7u10W0pVOzsCjPp1//mUeZbqxADg/4J46w55iUk+41QSc6Yx3ECeWy8Uvn8xo3r9UCT57Ecslpa2PtW6uPMyCOAtNv3ylHte/lV3fXdPZN17qYrVmnfK0e18uzm+NwGP5DVcGXibkCB8YLLSUnvkLQyzgbl5c+uWNd9tro7FujgWONXJfdZqQ8vAyPjMbcM5UzPfbUfeipZ3TztyH70Ks1ZvXlOA/LYeKXyOXwk2/R5LIeslhbFvpX6WB55BJB2Q6Ov6c6Hd02pc3c+vEtDo6/NcE+gschquBIzIGxm/6vg8jFJvyypO+ZmFZWfb60Q862VxsBgc6KfkP1GIGeVI4+NRz5rQ1ZLI1ONRx4BpN34sRNF69zRYydiahFQHFkNV2IGhIuYL2l53I0oJj/fWv6APMz51nI5057hI3rs+Ze0Z/iIcjmr+zHjxoeX5lRvP0lDXyD70YuyHlfDh7ySx8ZLSj7LSWJ2yWppPmSqERqZW/IIIO3OPau1aJ1bcVZz7VuQfGQ1XEmaQ/gZSfmjuVmSOiTFOn9wKVHNt5bWOcpYsKQ51dNP0tIXyH70kjD/pS95JY+Nl4R8lpPU7JLV0pKeqUZodG7JI4C0O/es+brt2jW65f5nJ+vcbdeu0blnsVAXkoWshsuZxX8miCQ5584t+PGEpCEzC/28797eXuvv7w/7YUOxZ/iIrtr66JRT4FvmZPSAZ4twFVuJWZqYgy1lH14ifQJJzmrU0tIXJOnEiZx2Dh7W4OGsuha1qKdrkWbPbviXM8hqhHzKa74+1/JHmul1PaIaTlYbKMnZrTWrlTxmSDkmqzGJI7cz5bGBNbIWZBW+IKsx2TN8RH/y5R267m3devXYCc2fO1t3f3+P/vJda2M/HkgoshoTslq1slmN/Qxh59xZwX/Hpl3V5pyTmR2a4f4DwX1PSjphZr3ht7Ixys1R5ku4y5210d2xwJvngXiloS9IE/3hweeGEnf2HcLlU17zi0dV066knkWK+iU5u7VktRxynB5x5LZcHskWAN+NjL+mDauX6k++/NRkHdu8YZUOjb8W+/EAUIishisJcwg/Iak/+Hf6pdI/i7zdzNb6PBgspWOOMlZiRhjS0Bck+kOzSEteSyHH6ZX27BYix+mRtNySLQC+mzsro62P7JpSx7Y+sktzZiVhuAg4hayGK/ZXzczOM7Pu4N/pl+6429dIaVgohJWYEYY09AWJ/tAs0pLXUshxeqU9u4XIcXokLbdkC4Dvjh47WbSOHT12MqYWAcWR1XDFPmVEIefcb0i6PPjxO2b2LxXczSQ96JwzSX9vZndF1sCIpWGhkPxZG9PndUvj2UaIThr6gkR/aBZpyWsp5Di90p7dQuQ4PZKWW7IFwHel6lhnG3UMyUJWwxX7GcJ5zrmPS7pJ0o+Dy03Oub+o4K6Xmdmlkt4h6YPOucun38A5t8k51++c6x8eHg613WHLz1G2rvtsdXcs8OJDWS5n2jN8RI89/5IyTok6a8M3PmU1aj72Bal5+gNZncrXvE5XmN89w0eUy1nizsarFlktz7fsFstoJXzIMVmtXJJy60O2wkZW4QuyWplmrGNJQ1YrQ1bD5cwqO5COmnPuaUlrzSwX/DxL0pNmdlEVj/Hnko6Y2V+Vug0rNoar2EIan3jvJTqvfYGGj8R/1kbEWF0UUyS4P5BVzKjcwkjSxDyZDTgbj6yipHoX78rlLMwck1VImsjVIz8d0tP7DitnUsZJFy1fpA1v6EzK8S9ZhS/Iakw8qGNJQ1ZjQlarVvZFSdSUEZLOlHQo+P+imW7snGuVlDGzseD/V0q6NbrmlZb/kDE0mlVnW+UfMmq9X1IUW0jjQ198Ug9sXq913WfH3DrUK6p8+p77UugPp4vzvU5rzqJSamGk1ZvXq7tjweQFjc8WWZ4wU0Znkj+rNE05TlI2ktSWRhoYGdeHvvjkaV9ffaDCXAJA3Khj8AVZDVfsA8LOuU9K+idJfyHpR86572hiFPtySR+e4e6dkr7inJMmnssXzWx7dK0trtYzVuo90yUJyi2kQYf0W1T5TEPuS6E/TBXne53mnEWF/Fam0dkiy6eQ0amSlI0ktaXRyCUA3x04XLyODY1Sx5AsZDVcSZhD+GeS/qekj0t6WNLzkr4s6a1mdm+5O5rZHjO7OLj0mNnHom/u6UqdsTIwMh7J/ZIkP6l3IRbSSIeo8pmG3JdCf5gqzvc6zTmLCvmtTKOzRZZPIaNTJSkbSWpLo5FLAL47Y3amaB2bMysJw0XAKWQ1XLG/amZ2p5m9VdJ/0MTg8Ds1MUC8yTm3KtbGVajcmQFR3C9JmNQ7vaLKZxpyXwr9Yao43+s05ywq5Lcyjc4WWT6FjE6VpGwkqS2NRi4B+O5w9pg2b1g1pY5t3rBKY9ljMbcMmIqshiv2KSPyzGyvpNsl3e6cu0TS5yR9RNKsRrel2jnQ8mcGTJ/HZKYzA2q9X5JkMk59PUu1evP6Riw2VJNmndOuXpXms1H9pZFqzYwP/aGRKnmvo+qfPuSslLhqFvmtzEzZCvv98znLpVBjazP9dVuyMDnZSHJOo66pzZ5LAP5rb23RIz/Z/f9v787j7Kir/P+/T+9JJ91ZyEZCCEgHJCFGjbg7DgEMioRxWMcFZ3BgfqOCojPi6LCJ39EZRWF0VMZhxB13ghs7OjNuBIRARAgGAtk7CXSSTjqd7j6/P27dTvXtulv3vV23ul7Px+M++t66tZz61KlPVZ+urtK/nvUi7T/Qp4nNDbr5V+v16mMWxR0aMAS5Wlk1UxA2swZJp0k6T9JySfdJumqs4xjJPdCyVwbkTlPsyoCRTldraukhLbkn/fOnTtQdj21L5T3tRquU/BzL/aXS8v2CONr7INbS/hC3Ytu6mvecrJU8K1fc9+Ekf4srlFvV2H5JzmX62MqJarfP/dWLayY3ajVPo9rtk3+5RG9aPEcNDZX7R8m05iWA8eHYGZN07suO1D9+7+HBvvJjKxfr2BmT4w4NGIJcrSxz93gDMDtF0vmS3ijpd5K+LelWd6/KTceWLVvmq1evzvv9+s69euMN/1P2Uwuzv/iUe2XASKfDcFEn/Te+fZku+trqaj2FsqobqliujoVi+TnW+0ulFCpIPL2ze0TrVONiy9VC23qk+VOquPNsJP60fa/e9O/D2+Qn732tXjAzsflXjkT0q/lyq1o5nbRcTkkfO6a5mi+3fn7pazXgqoncqMU8zdduN759mV5zzGGxxzdGEtGvAiJXY7Pm2ed0zo2/GdZXfueiV2jJEVNjjKxmkasxIVfLVjBXa+EK4Q9L+qakD7j7c3EHM9InBY/0ygCuKKicqAearN6wiyc/j0Kx/Bzr/aVS8j385rhLXsvTwius0LaudlvHnWcjsWFXd2SbPLOrOy0F4UTIl1vVyumk5TJ9bOXla7etu3v0iqMPq4m2q8U8zdduqzfs0rypE2oqVgCIy+au6L5yS9cBLTkipqCACORqZdXCQ+VOcvcv10IxWOJJwUkWddI/4GJ7VlFS95dCBYmkrlMS0dbDtTY1RLbJxKZa+PstiiGnM+hjK492G5l87dY/oFQ88A4AStE2Ifr8c1LLmD/OCSiIXK2s2AvCtYYnBSdX1En/bQ9v0if/cgnbs0qSur8U+sU6qeuURLT1cLPamnXp8qFPzr10eYdmtTXHHBlKQU5n0MdWHu02Mgumtw47D7zkpA79eM0miukAEJjTNiHy/PPw9gkxRwYMRa5WFpcc5eBJwckV9UCTD614oU594SydMLed7VkFSd1fCj38JqnrlES09XDzp7WqY9YkXfS6ozXgUp1JHbMmaf40ij5JQE5n0MdWHu02MnV1pjctnqOpE5u0esMu9Q9It6x+Rh9a8UKK6QAQOHJ69PnnkfSTqDHkamXF/lC5scYNuse3MX6gCTeTT7BafPhNFZGrCZKy3MxFro4TKchjcjVBUpCPhZCrSApyNUYp7yfLRa7GiFwtS80/VA6omFp8oAlqE7mCWkVuYjwgj1FLyEcAKIx+EklBrlYO9xAGAAAAAAAAgJSgIAwAAAAAAAAAKUFBGAAAAAAAAABSgoIwAAAAAAAAAKQEBWEAAAAAAAAASImGuAPA2BgYcD29s1vbdvdoVluLFkxvVV2dxR0WgFFi30YSkKdIEvIV1UJuAahV9E9ICnK1cigIp8DAgOvna7fqsu88pJ6DA2pprNN15yzVikWz2XGABGPfRhKQp0gS8hXVQm4BqFX0T0gKcrWyuGVECjy9s3twh5GknoMDuuw7D+npnd0xRwZgNNi3kQTkKZKEfEW1kFsAahX9E5KCXK0sCsJjaGDAtb5zr379px1a37lXAwM+JsvdtrtncIfJ6jk4oO17esZk+Rgf4spf5JfWfZtcTJa05ulIkd/xIl+HIh8rh9wCUKvon5AU5GplccuIMRLnpe2z2lrU0lg3ZMdpaazTzMktVV0uxg/+NaM2pXHfJheTJ415OlLkd/zI10PIx8oitwDUqpmTo/unGZPon1BbyNXK4grhMRLnpe0LprfqunOWqqUxs7mzJ/QLprdWfdkYH/jXjNqUxn2bXEyeNObpSJHf8SNfDyEfK4vcQjFzj5gvM6vIa+4R8+NeHSRIfZ106fKOIf3Tpcs7VE+1CDWGXK0srhAeI4UubT96xqSqLruuzrRi0Wwdd8lrtX1Pj2ZO5kmMKE+c+Yv80rhvk4vJk8Y8HSnyO37k6yHkY2WRWyhm88Znde6XflWRed1y8asqMh+kw5auHn311xt04WuOlpnkLn311xv04vlTtOAw+nvUDnK1sigIj5G4/02srs509IxJnMBjROLOX+SXtn2bXEymtOXpSJHftYF8zSAfK4/cAlCLZrW16Ll9vfr8vU8ODqO/Ry0iVyuLC6vHCP8mhiQjf1EryEWMZ+Q3agn5CADpQH+PpCBXK4srhMcI/yaGJCN/USvIRYxn5DdqCfkIAOlAf4+kIFcri4LwGOLfxJBk5C9qBbmI8Yz8Ri0hHwEgHejvkRTkauVwywgAAAAAAAAASAkKwgAAAAAAAACQEhSEAQAAAAAAACAlKAgDAAAAAFCmuUfMl5lV5AUAwFgaFw+VM7N6SaslbXL30+OOBwAAAAAwvm3e+KzO/dKvKjKvWy5+VUXmAwBAKcbLFcKXSnos7iAAAAAAAAAAoJYlviBsZvMkvUnSl+OOBQAAAAAAAABqWeILwpI+K+kfJQ3EHAcAAAAAAAAA1LREF4TN7HRJ2939gSLjXWRmq81sdWdn5xhFB5SPXEVSkKtICnIVSUGuIimSnqs8CC49kp6rSA9yFXFI+kPlXi3pDDN7o6QWSW1m9nV3f1t4JHe/UdKNkrRs2TIf+zCB0pCrSApyFUlBriIpyFUkRdJzlQfBpUfScxXpQa4iDom+QtjdP+zu89x9gaTzJN2TWwwGAAAAAAAAAGQkuiAMAAAAAAAAAChd0m8ZMcjd75N0X8xhAAAAAAAAAEDN4gphAAAAAAAAAEgJCsIAAAAAAAAAkBIUhAEAAAAAAAAgJSgIAwAAAAAAAEBKUBAGAAAAAADDzD1ivsysIq+5R8yPe3UAAIGGuAMAAAAAAAC1Z/PGZ3Xul35VkXndcvGrKjIfAMDocYUwAAAAAAAAAKQEBWEAAAAAAAAASAkKwgAAAAAAAACQEhSEAQAAAAAAACAlKAgDAAAAAAAAQEpQEAYAAAAAAACAlKAgDAAAAAAAAAAp0RB3AOPZwIDr6Z3d2ra7R7PaWrRgeqvq6izusIARIZ9RDvIFaUXuYyyRbwCASuB4gqQgVyuHgnCVDAy4fr52qy77zkPqOTiglsY6XXfOUq1YNJtkReKQzygH+YK0Ivcxlsg3pMncI+Zr88Zn4w4jOeoaZEY/gNJwPEFSkKuVRUG4Sp7e2T2YpJLUc3BAl33nIR13yWt19IxJMUcHlId8RjnIF6QVuY+xRL4hTTZvfFbnfulXFZnXLRe/qiLzqWkDfbQXSsbxBElBrlYW9xCukm27ewaTNKvn4IC27+mJKSJg5MhnlIN8QVqR+xhL5BsAoBI4niApyNXKoiBcJbPaWtTSOLR5WxrrNHNyS0wRASNHPqMc5AvSitzHWCLfAACVwPEESUGuVhYF4SpZML1V152zdDBZs/c2WTC9NebIgPKRzygH+YK0Ivcxlsg3AEAlcDxBUpCrlcU9hKukrs60YtFsHXfJa7V9T49mTubph0gu8hnlIF+QVuQ+xhL5hlrHg+CAZOB4gqQgVyuLgnAV1dWZjp4xiZtbY1wgn1EO8gVpRe5jLJFvqGU8CA5IDo4nSApytXK4ZQQAAAAAAAAApAQFYQAAAAAAAABICXP3uGMYU2bWKWlDnq8Pk7RjDMMZraTFKyUv5kLx7nD3FdVacJ5cTUr7JSHOJMQoVSbOOHK1HEnZFuVgnUYmrlxN8vYi9ni0uPvias28Av1qMUlu+yjjaX0qvS61fg5Qrlrc1rUWU63FI5UWU5y5WottFhfaIqPW6gBZbJ9DaItD8rVFwVxNXUG4EDNb7e7L4o6jVEmLV0pezLUWb63Fk08S4kxCjFJy4hyN8biOrFOyJHndiD0eSY5dSn78ucbT+oyndamGWmyfWoup1uKRajOmsFqPbyzRFhm12g61GlccaItDRtoW3DICAAAAAAAAAFKCgjAAAAAAAAAApAQF4aFujDuAMiUtXil5MddavLUWTz5JiDMJMUrJiXM0xuM6sk7JkuR1I/Z4JDl2Kfnx5xpP6zOe1qUaarF9ai2mWotHqs2Ywmo9vrFEW2TUajvUalxxoC0OGVFbcA9hAAAAAAAAAEgJrhAGAAAAAAAAgJSgIAwAAAAAAAAAKUFBGAAAAAAAAABSgoIwAAAAAAAAAKQEBWEAAAAAAAAASAkKwgAAAAAAAACQEhSEAQAAAAAAACAlKAgDAAAAAAAAQEpQEAYAAAAAAACAlKAgDAAAAAAAAAApQUEYAAAAAAAAAFKCgjAAAAAAAAAApAQFYQAAAAAAAABICQrCAAAAAAAAAJASqSsIr1ixwiXx4lWJV1WRq7wq+KoqcpVXBV9VRa7yquCrqshVXhV8VRW5yquCr6oiV3lV8FVV5CqvCr4KSl1BeMeOHXGHAJSEXEVSkKtICnIVSUGuIinIVSQFuYqkIFcxVlJXEAYAAAAAAACAtKIgDAAAAAAAAAApQUEYAAAAAAAAAFKCgjAAAAAAAAAApAQFYQAAAAAAAABIiYa4AwAAAAAAAIjD3CPma/PGZ+MOAzXk8HlHaNOzz8QdBlBVFIQBAAAAAEAqbd74rM790q/iDgM15JaLXxV3CEDVccsIAAAAAAAAAEgJCsIAAAAAAAAAkBIUhAEAAAAAAAAgJSgIAwAAAAAAAEBKUBAGAAAAAAAAgJSgIAwAAAAAAAAAKUFBGAAAAAAAAABSgoIwAAAAAAAAAKQEBWEAAAAAAAAASInYC8JmtsLMHjezJ83s8ojvm83sluD735rZgpzv55vZXjP74JgFDQAAAAAAAAAJFGtB2MzqJX1e0mmSjpd0vpkdnzPahZKec/djJH1G0idzvr9O0s+qHSsAAAAAAAAAJF3cVwifKOlJd1/v7r2Svi1pZc44KyXdHLz/nqTlZmaSZGZnSnpK0tqxCRcAAAAAAAAAkivugvBcSc+GPm8MhkWO4+59krokTTezSZI+JOnqYgsxs4vMbLWZre7s7KxI4EA1kKtICnIVSUGuIinIVSQFuYqkIFeRFOQq4hB3QXg0rpL0GXffW2xEd7/R3Ze5+7IZM2ZUPzJghMhVJAW5iqQgV5EU5CqSglxFUpCrSApyFXFoiHn5myQdEfo8LxgWNc5GM2uQ1C5pp6SXSzrLzP5V0hRJA2bW4+6fq3rUAAAAAAAAAJBAcReE75fUYWZHKVP4PU/SX+WMs0rSBZJ+LeksSfe4u0t6bXYEM7tK0l6KwQAAAAAAAACQX6wFYXfvM7P3SLpdUr2km9x9rZldI2m1u6+S9F+SvmZmT0rapUzRGAAAAAAAAABQprivEJa7/1TST3OGXRF63yPp7CLzuKoqwQEAAAAAAADAOJLkh8oBAAAAAAAAAMpAQRgAAAAAAAAAUoKCMAAAAAAAAACkBAVhAAAAAAAAAEgJCsIAAAAAAAAAkBIUhAEAAAAAAAAgJSgIAwAAAAAAAEBKUBAGAAAAAAAAgJSgIAwAAAAAAAAAKUFBGAAAAAAAAABSgoIwAAAAAAAAAKQEBWEAAAAAAAAASAkKwgAAAAAAAACQEhSEAQAAAAAAACAlKAgDAAAAAAAAQEpQEAYAAAAAAACAlKAgDAAAAAAAAAApQUEYAAAAAAAAAFKCgjAAAAAAAAAApETsBWEzW2Fmj5vZk2Z2ecT3zWZ2S/D9b81sQTD8FDN7wMweCX6eNObBAwAAAAAAAECCxFoQNrN6SZ+XdJqk4yWdb2bH54x2oaTn3P0YSZ+R9Mlg+A5Jb3b3EyRdIOlrYxM1AAAAAAAAACRT3FcInyjpSXdf7+69kr4taWXOOCsl3Ry8/56k5WZm7v57d98cDF8raYKZNY9J1AAAAAAAAACQQHEXhOdKejb0eWMwLHIcd++T1CVpes44fynpQXc/ELUQM7vIzFab2erOzs6KBA5UA7mKpCBXkRTkKpKCXEVSkKtICnIVSUGuIg5xF4RHzcwWKXMbiYvzjePuN7r7MndfNmPGjLELDigTuYqkIFeRFOQqkoJcRVKQq0gKchVJQa4iDnEXhDdJOiL0eV4wLHIcM2uQ1C5pZ/B5nqQfSnqHu/+p6tECAAAAAAAAQILFXRC+X1KHmR1lZk2SzpO0KmecVco8NE6SzpJ0j7u7mU2R9BNJl7v7/41VwAAAAAAAAACQVLEWhIN7Ar9H0u2SHpP0HXdfa2bXmNkZwWj/JWm6mT0p6TJJlwfD3yPpGElXmNlDwWvmGK8CAAAAAAAAACRGQ9wBuPtPJf00Z9gVofc9ks6OmO5aSddWPUAAAAAAAAAAGCdKvkLYzFrNrC54v9DMzjCzxuqFBgAAAAAAAACopHJuGfFLSS1mNlfSHZLeLukr1QgKAAAAAAAAAFB55RSEzd33SXqLpP9w97MlLapOWAAAAAAAAACASiurIGxmr5T0Vkk/CYbVVz4kAAAAAAAAAEA1lFMQfp+kD0v6obuvNbOjJd1blagAAAAAAAAAABXXUOqI7v4LSb8IfV4v6ZJqBAUAAAAAAAAAqLyiBWEzu02S5/ve3c+oaEQAAAAAAAAAgKoo5QrhTwU/3yJptqSvB5/Pl7StGkEBAAAAAAAAACqvaEE4uFWEzOzT7r4s9NVtZra6apEBAAAAAAAAACqqnIfKtQYPkpMkmdlRklorHxIAAAAAAAAAoBpKfqicpPdLus/M1ksySUdKurgqUQEAAAAAAAAAKq7kgrC7/9zMOiQdFwz6o7sfqE5YAAAAAAAAAIBKK+cKYUl6qaQFwXQvMjO5+1crHhUAAAAAAAAAoOJKLgib2dckvUDSQ5L6g8EuiYIwAAAAAAAAACRAOVcIL5N0vLt7tYIBAAAAAAAAAFRPXRnjPippdrUCAQAAAAAAAABUVzlXCB8m6Q9m9jtJgw+Tc/czKh4VAAAAAAAAAKDiyikIX1WtIAAAAAAAAAAA1VdyQdjdf2FmR0rqcPe7zGyipPrqhQYAAAAAAAAAqKSSC8Jm9reSLpI0TdILJM2V9EVJy0cTgJmtkHS9MsXlL7v7J3K+b5b0VUkvlbRT0rnu/nTw3YclXSipX9Il7n77SGIYGHA9vbNb23b3aFZbi+ZPnahnntuX9/OC6a2SVHCaWhuH+EY/Tl2djSS9Kio3V6sZ18CA65ld3dq2+4C6e/t09GGt6tp3UFt292hO+wQtmtOmhoa6gjHl+67YPlfJbZJd1s7uA2qqq9Oufb2a2NSg2e3N6uuXtu8ZuswNO7u1dXePdu8/qMkTGjSnbYKOLLBO86dO1Mbn92nb7gPq7e/X5OZG7dh7QM2N9Zo6sVHHTJ+kxzv3aEvXoXaTpLVbugaHTZnYoM3Pj2ybjmVOlCMc18SmBvX292t6a3NJ+36x+EvJn9w8mzm5RfV10pau/MsZTVuGp53T3qL+gaG5FTWffMvr6xvImx/z2ifosW27h+RTQ0PdkHk+taNbG3Z1qzXI84N9rmee26fWpgbNnNwss0w7hLdLNv/D085qa9b8aaHhO7vV0lSn5vp6TZ/UpHlTSt92uXFl511ruTrSHAxPk7v9XjhrsjZ27S/YvxXrNwuNP5IYi+0bxZaXPT5s33NAXfsPqq2lcdg27e3t15rNXdq6u0czJzdrwPs1obFJi+a0qa7ODh1fDvRpysRGPb+/V9NbWyKPLYX6kNEcV8rdN+M25HhWX6d9vf06fEqLnu8efmzOnabQupR7HJei27FSuVvS+hc5noeXkd0nN3f1aFJzg6a1NurYmaW1U26b9/YPqKmuTp2h4/xxs4Yf17PbIbwfzGlr0aLZbdq8p6diuVXruRpXXCM5JoenfWpHtzZ37VNzfb26e/s0b+pEHejr1/Y9PWpraVJv34Bmtw/P8dy+asOufYPHvfDxN9vvdu49tC9nYxsYcK3d0qWd3Qc0vbVZew/0aU9Pn6a1NmliY70G3NUdGj93X83maveBfrU2Dz3Oj2QblHIuNdp+BgDK8fz+Hj2xNXMeOautWQtnt2rKhJa4w0qkcm4Z8W5JJ0r6rSS5+zozmzmahZtZvaTPSzpF0kZJ95vZKnf/Q2i0CyU95+7HmNl5kj4p6VwzO17SeZIWSTpc0l1mttDd+8uJYWDA9fO1W3XZdx5Sz8EBHTl9gt57Uoc++qNHIz+3NNbpc3/1YvX2ed5pam0c4hv9ONeds1QrFs2O9cQlN1erGdfAgOuex7dp3ba9uv7udVo4c5LOf/mRuvq2tYPLvvbMxTrjhMN11+PbI2OSFBnvqS+cpTse21a0vZsaTO/55u9HtU2ybfbJnz+mc5fN1w33rBuc39/92TFD1ue6c5aqtblOj2/dq+vufGJw+KXLO9Qxa5JOOnZW5Dr921lLtKWrR9/47YYhy2hprNM/vOFYre/s1j9+f82Q8Xv7XR/54SODw6588yJ967cb9MT2vWVt07HMiXJExXXJSR26ZfUzeu9JHfr3e9Zpw879I9quUfO+9szFg/PMl2fZbfnVX2/Qc/t6hy1nNG0ZnnbqxCa945VH6vq71xWcT77lnXzsTK16ZPOQNsnmR1fPQb37zzt0xa2PDln3M180d7CAlns8+/vXH6MrV60d0gatTfX6wi/W67l9vYPb5Z9PP14HDro+8N2h7XX84ZO1t2dg2PDWpnpNbW3Sp+54fEi7R7VX1LqG96tay9WR5GB2moEB148e3jRk+12zcrE+f+/Q/Az3b8X6zdxj1GhjjFpGeN8otrzs8WF9Z3fevrKvb0A/WrN5SK5efcYi3f3YU3rzi+appbFeT27fO2Q/ef/JC3X17/6g957UEXlsueSkDt3zx60678Qjh/UZIzmulLtv1kq/Gj6e5Ts25+sTotal3FzJlx9Rfe5Icrec9S90PM8uo69vYNg+eenyDq3v7NZpi+YUbKfsOmWXecvqZ4Yd5y9d3qHOvT3aseeg/jmnb37T8bN129qtQ/aDa85YrLse26w7/rBj1LlV67kaV1wjOSbnTpubZy2NdbrslIVqrq/Tv/z89wVzPF9flXv8/afTjtP+gwP6zF2H+tFPn71UAz6gT93xuN71mqP1+NZD/eSR0yfo3a8/RlesGp7rkvLGnT3Of2jFC8veBvmO3+Fzqah9v5LnWAAQ9vz+Ht3xaKeuWDX02Hrq4hkUhUegrvgogw64e2/2g5k1SPJRLv9ESU+6+/pg3t+WtDJnnJWSbg7ef0/ScjOzYPi33f2Auz8l6clgfmV5emf34MFJkk5fMnfw4B31uefggNZs7Co4Ta2NQ3yjH+ey7zykp3d2l5RT1ZKbq9WM6+md3VqzsWvwJPRdr3vB4C9b2WV/9EePas3mrrwx5Yt37ZbS2nvNxq5Rb5NsDKcvmTt4cpydX+76XPadh7Rnf/9ggSM7/Pq712nNxq6867Rue6aAnLuMnoMD+rfbH9eTnXuHjZ8tBmeHXX3bWr3rdS8oe5uOZU6UIyquG+5ZN7gdT18yV9LItmvUvMPzzJdn2W35lpfMi1zOaNoyPO1bXjJvcL8pNJ98y1uzuWtYm2Tz4/QlcwcLC+F1X7ulK3Kepy+ZO1gMDrfBju7ewXbIbpc1G7sGi77hcffs748cvqO7V+u27x3W7lHtFbWu4f0qTiPZ7oWmWbtl+Pa74tbh+Rnu34r1m7nHqNHGmG97ZHOi2PKyx4dCfeWazV3DcvXKVWv11lccpXXb9+qRTV3D9pPP3PXEYJ8QdWy54Z51eserjo7sM0ZyXCl336yVXA0fa/Idm/P1CeX2feXkY1SfO5LcLWf9pfzH8+wyovbJ6+9ep3Xb9xZtp+w6ZZcZdZy//u51qre6wWJweDs8snX3sP3gilWP6q2vOGrU7VEo7lrJ1bjiGskxOXfaqG193Z1PaOe+3qI5nq+vyj3+7ujuHSwGZ8f5wHcfGjy2du49MCT205fMHSwG565LobizuTuSbVDseJFv36/kORYAhD2xtXuwGCwdOrY+sZX+ZCTKKQj/wsz+SdIEMztF0ncl3TbK5c+V9Gzo88ZgWOQ47t4nqUvS9BKnlSSZ2UVmttrMVnd2dg75btvunsFkyoyrgp8lacCTNQ7xjX6cnoMD2r6nR9VWTq5WM65tu3uGtMv+A32Ry95aIKZ88W7pKrzPZccbCP25aaTbJBtDKTnXc3BA3XnWc8CVd52y7VTKeoTHzx1vf29fyeuVu36586rVXM22kVl2HuVv10LzDn/OzbPc8XKXM5q2DE9b6jrlW16+fWp/b1/eeW/t6omcZ6GcDLeDWf68LLRPhOeTbz0LrWt2v6q2SverhaYplnfZz7n9QqF+M9+2GWmMxfahYsvLPT7krtf2PT158/j5fQcHc6dQH1FoP6jUcSV3vbJqvV8Nr1veY3OePiH7fal9Xzn5GJX7I8ndfMo9nmeXkW+fHHAVbafstOFjV9R4z3UfjBy+bfeBvPtBVKzlqvVcjSOu3OWXe56RL8+y05V8Tlfg2Fmsr82OU87vJ8Xizg4vdxsUO14UOt+q1DnWaBXKVaCWkKulyXds3bb7QEwRJVs5BeHLJXVKekTSxZJ+Kumj1Qiq0tz9Rndf5u7LZsyYMeS7WW0tamkc2gzFPtdb8sYhvtHHN3Ny9f8FYSS5Wo24ZrW1DGmXic0NkcueXSCmfPHOaZ9QUnvn/gfZSNY9HEMpy2xtiV7POlPedQq3UynrkS/fJjQ1lLxeUesXnlet5qr7oZ/h4bnjFYq/0LzDn/PlWXa83OWMpi1zpy1lPnn3jzzDw/mR+93s9paC88z9XGca0g7u+fOy0D4Rnk++9SwUV3a/qrZK96uFpimWd9nPUf1bKX1MJWIstg8VW17u8SF3vWZObsmbx1MmNqre8i8j20fkm35iU3Q+jua4Uuq+WUu5WvTYXKRPKLXvKycf57RXJnfzKfd4nl1GvtyoMxVtp/A6FVr21NbGyOGz2prz7gdRsZYrCbk61nFFLb+cWIrlWanndPn2zfBxs1A/Wuj7qHUpFne2by13GxQ7XhTqfyt1jjVahXIVqCXkamnyHVtntTXHFFGylVwQdvcBd/9Pdz/b3c8K3o/2lhGbJB0R+jwvGBY5TnCbinZlHi5XyrRFLZjequvOWTqYVLc9vEnXnrk47+eWxjqdMK+94DS1Ng7xjX6c685ZOvjgiLjk5mo141owvVUnzGvXpcs71NJYp//85Z905ZsXDVn2tWcu1pLD2/PGlC/eRXPaSmrvJfPaR71NsjHc9vAmXXJSx5D55a7Pdecs1eSWel12ysIhwy9d3qEl89rzrtMxMyfpslMWDltGS2PmHsLHzJg0bPyP/8UJQ4Zd+eZF+vIv/1T2Nh3LnChHVFyXnNShH6/JbMcfr8l01SPZrlHzDs8zX55lt+UPHtwYuZzRtGV42u8/sHFwvyk0n3zLO+Hw9mFtks2P2x7epGtWLh627ovmtEfO87aHN+nqMxYNa4PDWpsG2yG7XU6Y165Pnz28vSa31EcOP6y1SR0zJw1r96j2ilrX8H4Vp5Fs90LTLJrTNmz7XbNyeH6G+7di/WbuMWq0MebbHtmcKLa87PGhUF95wuHtw3L16jMW6Ru/eUrHzJykxXPbh+0n7z954WAfcULEseWSkzp086/WR/YZIzmulLtv1kquho81+Y7N+fqEcvu+cvJx0Zzhw0eSu+Wsv5T/eJ5dRtQ+eenyDnXMnFS0nbLrlF1m1HH+0uUd6vcBfSyibz5hdtuw/eCaMxbrG795atTtUSjuWsnVuOIayTE5d9qobX3ZKQs1fWJT0RzP11flHn+ntzbp/ScP7Uc/ffZSdcycpNse3qTDJjUPif22hzfpmjOic71Q3Nnj/Ei2QbHjRb7zrUqeYwFA2MLZrbrmjOHH1oWz6U9GworVdM3sERW4V7C7LxnxwjMF3ickLVemmHu/pL9y97Whcd4t6QR3/7vgoXJvcfdzzGyRpG8qc9/gwyXdLamj2EPlli1b5qtXrx4yLPvU0+17Mk9PzT6ZOt/n8BNlkzIO8Y1+nIiHHlT1KQil5Go1n9CbfYr8tt0HtK+3T0cd1qqufQe1dXePZre3aNGc9iFPgo+KKd93xfa5UWyTyPV4eme3dnUfUGPEU8k79w5d5oad3dq6u0d79veptaVeh7dP0JEF1mn+1Ina+Pw+bdt9QAf7+zWpuVE7Qk8fP2b6JD3euUdbuw61m5S5r+HWrh7NbmvRlNbGwadOl7tNS8yJ2HI189Tteh3sH9C04Knbxfb9Uh7iVkpuhMebMSnzZOytu/MvZzT7V3ja2W2ZJ5qHcyvfw2uiltfXN5A3P+a1T9Bj23YPyaeGhroh83xqR7ee2dU9mOcH+1zPPrdPE3Oech7eLtn8D087q61Z86cNHd7UUKeWhnpNn9SkeVNK33a5cWXnXUu5OpocDE8zZPu1t+iFs9q0sWt/wf6tWL9ZaPyRxFhs3yi2vOzxoXPPAT2//6DaWhqHbdPe3n6t2dwVzLdZ7v1qaWzUojntqquzweNL94E+tU9s1O79vZrW2jzs2FKsDxnNcaXcfTNHbLm6q/uAGuvrtK+3X4dPadHz3cOPzeWsS7nHcSm6HSuVu/mUczwPLyO7T27p6lFrc4OmTWzUsbPaSmqn3Dbv7R9QY13dkOP8cbPaJGnIfp/dDtn9YNvuHs1qa9Hi2W3avKenYudxtZ6rY3G+GmUkx+TwtE/t6NaWrn1qqq9Xd2+f5k2dqAN9/erc06PJLU062D+gWW1Dczyqr9qwa9/gcS97/N26+1C/u2PvoX05O7+BAdfaLV3a1X1A01qbtfdAn/b09Glaa5MmNtZrwF3dofFz99Vw/5B7nB/pwwuLnUuNtp8JGfNcHVywmc790q+quXgkzC0Xv0oFamWx5SoyD5Z7YmvmPHJWW7MWzm7lgXL5FczVUgrCRwZv3x38/Frw822S3N0vH1V0Zm+U9FlJ9ZJucvePm9k1kla7+yozawmW+WJJuySd5+7rg2k/IulvJPVJep+7/6zY8ti5UEEcCJAU5CqSglxFUpCrSApyFUlBQRg1g4IwxomCudpQbGp33yBJZnaKu7849NWHzOxBZe4tPGLu/lNl7kccHnZF6H2PpLPzTPtxSR8fzfIBAAAAAAAAIC1KvoewJDOzV4c+vKrM6QEAAAAAAAAAMSp6hXDIhZJuMrN2ZS47fk6Z2zUAAAAAAAAAABKg5IKwuz8g6UVBQVju3lW1qAAAAAAAAAAAFVe0IGxmb3P3r5vZZTnDJUnufl2VYgMAAAAAAAAAVFApVwi3Bj8nVzMQAAAAAAAAAEB1FS0Iu/uXgrf/4e6dVY4HAAAAAAAAAFAldWWM+39mdoeZXWhmU6sWEQAAAAAAAACgKkouCLv7QkkflbRI0gNm9mMze1vVIgMAAAAAAAAAVFQ5VwjL3X/n7pdJOlHSLkk3VyUqAAAAAAAAAEDFlVwQNrM2M7vAzH4m6VeStihTGAYAAAAAAAAAJEDRh8qFPCzpR5KucfdfVyccAAAAAAAAAEC1lFMQPtrdvWqRAAAAAAAAAACqqmhB2Mw+6+7vk7TKzIYVhN39jGoEBgAAAAAAAACorFKuEP5a8PNT1QwEAAAAAAAAAFBdRQvC7v5A8PMXZjYjeN9Z7cAAAAAAAAAAAJVVV8pIZnaVme2Q9LikJ8ys08yuqG5oAAAAAAAAAIBKKloQNrPLJL1a0svcfZq7T5X0ckmvNrP3VztAAAAAAAAAAEBllHKF8Nslne/uT2UHuPt6SW+T9I5qBQYAAAAAAAAAqKxSCsKN7r4jd2BwH+HGyocEAAAAAAAAAKiGUgrCvSP8riAzm2Zmd5rZuuDn1DzjXRCMs87MLgiGTTSzn5jZH81srZl9YqRxAAAAAAAAAEBalFIQfpGZ7Y547ZF0wiiWfbmku929Q9LdwechzGyapCuVuWfxiZKuDBWOP+Xux0l6sTL3Mz5tFLEAAAAAAAAAwLhXtCDs7vXu3hbxmuzuo7llxEpJNwfvb5Z0ZsQ4b5B0p7vvcvfnJN0paYW773P3e4P4eiU9KGneKGIBAAAAAAAAgHGvlCuEq2WWu28J3m+VNCtinLmSng193hgMG2RmUyS9WZmrjCOZ2UVmttrMVnd2do4qaKCayFUkBbmKpCBXkRTkKpKCXEVSkKtICnIVcahqQdjM7jKzRyNeK8PjubtL8hHMv0HStyTd4O7r843n7je6+zJ3XzZjxoyy1wMYK+QqkoJcRVKQq0gKchVJQa4iKchVJAW5ijg0VHPm7n5yvu/MbJuZzXH3LWY2R9L2iNE2SXp96PM8SfeFPt8oaZ27f3b00QIAAAAAAADA+BbnLSNWSbogeH+BpFsjxrld0qlmNjV4mNypwTCZ2bWS2iW9r/qhAgAAAAAAAEDyxVkQ/oSkU8xsnaSTg88ys2Vm9mVJcvddkj4m6f7gdY277zKzeZI+Iul4SQ+a2UNm9q44VgIAAAAAAAAAkqKqt4woxN13SloeMXy1pHeFPt8k6aaccTZKsmrHCAAAAAAAAADjSZxXCAMAAAAAAAAAxhAFYQAAAAAAAABICQrCAAAAAAAAAJASFIQBAAAAAAAAICUoCAMAAAAAAABASlAQBgAAAAAAAICUoCAMAAAAAAAAAClBQRgAAAAAAAAAUoKCMAAAAAAAAACkBAVhAAAAAAAAAEgJCsIAAAAAAAAAkBIUhAEAAAAAAAAgJSgIAwAAAAAAAEBKUBAGAAAAAAAAgJSgIAwAAAAAAAAAKUFBGAAAAAAAAABSgoIwAAAAAAAAAKQEBWEAAAAAAAAASAkKwgAAAAAAAACQErEWhM1smpndaWbrgp9T84x3QTDOOjO7IOL7VWb2aPUjBgAAAAAAAIDkivsK4csl3e3uHZLuDj4PYWbTJF0p6eWSTpR0ZbhwbGZvkbR3bMIFAAAAAAAAgOSKuyC8UtLNwfubJZ0ZMc4bJN3p7rvc/TlJd0paIUlmNknSZZKurX6oAAAAAAAAAJBscReEZ7n7luD9VkmzIsaZK+nZ0OeNwTBJ+pikT0vaV2ghZnaRma02s9WdnZ2jDBmoHnIVSUGuIinIVSQFuYqkIFeRFOQqkoJcRRyqXhA2s7vM7NGI18rweO7ukryM+S6V9AJ3/2Gxcd39Rndf5u7LZsyYUfY6AGOFXEVSkKtICnIVSUGuIinIVSQFuYqkIFcRh4ZqL8DdT873nZltM7M57r7FzOZI2h4x2iZJrw99nifpPkmvlLTMzJ5WZj1mmtl97v56AQAAAAAAAACGifuWEaskXRC8v0DSrRHj3C7pVDObGjxM7lRJt7v7F9z9cHdfIOk1kp6gGAwAAAAAAAAA+cVdEP6EpFPMbJ2kk4PPMrNlZvZlSXL3XcrcK/j+4HVNMAwAAAAAAAAAUIaq3zKiEHffKWl5xPDVkt4V+nyTpJsKzOdpSYurECIAAAAAAAAAjBtxXyEMAAAAAAAAABgjFIQBAAAAAAAAICUoCAMAAAAAAABASlAQBgAAAAAAAICUoCAMAAAAAAAAAClBQRgAAAAAAAAAUoKCMAAAAAAAAACkBAVhAAAAAAAAAEgJCsIAAAAAAAAAkBIUhAEAAAAAAAAgJSgIAwAAAAAAAEBKUBAGAAAAAAAAgJSgIAwAAAAAAAAAKUFBGAAAAAAAAABSgoIwAAAAAAAAAKSEuXvcMYwpM+uUtCHP14dJ2jGG4YxW0uKVkhdzoXh3uPuKai04T64mpf2SEGcSYpQqE2ccuVqOpGyLcrBOIxNXriZ5exF7PFrcfXG1Zl6BfrWYJLd9lPG0PpVel1o/ByhXLW7rWoup1uKRSospzlytxTaLC22RUWt1gCy2zyG0xSH52qJgrqauIFyIma1292Vxx1GqpMUrJS/mWou31uLJJwlxJiFGKTlxjsZ4XEfWKVmSvG7EHo8kxy4lP/5c42l9xtO6VEMttk+txVRr8Ui1GVNYrcc3lmiLjFpth1qNKw60xSEjbQtuGQEAAAAAAAAAKUFBGAAAAAAAAABSgoLwUDfGHUCZkhavlLyYay3eWosnnyTEmYQYpeTEORrjcR1Zp2RJ8roRezySHLuU/Phzjaf1GU/rUg212D61FlOtxSPVZkxhtR7fWKItMmq1HWo1rjjQFoeMqC24hzAAAAAAAAAApARXCAMAAAAAAABASlAQBgAAAAAAAICUoCAMAAAAAAAAAClBQRgAAAAAAAAAUoKCMAAAAAAAAACkBAVhAAAAAAAAAEgJCsIAAAAAAAAAkBIUhAEAAAAAAAAgJSgIAwAAAAAAAEBKUBAGAAAAAAAAgJSgIAwAAAAAAAAAKUFBGAAAAAAAAABSgoIwAAAAAAAAAKQEBWEAAAAAAAAASInUFYRXrFjhknjxqsSrqshVXhV8VRW5yquCr6oiV3lV8FVV5CqvCr6qilzlVcFXVZGrvCr4qipylVcFXwWlriC8Y8eOuEMASkKuIinIVSQFuYqkIFeRFOQqkoJcRVKQqxgrqSsIAwAAAAAAAEBaURAGAAAAAAAAgJSgIAwAAAAAAAAAKUFBGAAAAAAAAABSgoIwAAAAAAAAAKREQ9wBAAAAAAAAAMhv7hHztXnjs3GHgRpz+LwjtOnZZ8qejoIwAAAAAAAAUMM2b3xW537pV3GHgRpzy8WvGtF03DICAAAAAAAAAFKCgjAAAAAAAAAApAQFYQAAAAAAAABICQrCAAAAAAAAAJASFIQBAAAAAAAAICUoCAMAAAAAAABASlAQBgAAAAAAAICUoCAMAAAAAAAAACkRe0HYzFaY2eNm9qSZXR7xfbOZ3RJ8/1szW5Dz/Xwz22tmHxyzoAEAAAAAAAAggWItCJtZvaTPSzpN0vGSzjez43NGu1DSc+5+jKTPSPpkzvfXSfpZtWMFAAAAAAAAgKSL+wrhEyU96e7r3b1X0rclrcwZZ6Wkm4P335O03MxMkszsTElPSVo7NuECAAAAAAAAQHLFXRCeK+nZ0OeNwbDIcdy9T1KXpOlmNknShyRdPQZxAgAAAAAAAEDixV0QHo2rJH3G3fcWG9HMLjKz1Wa2urOzs/qRASNEriIpyFUkBbmKpCBXkRTkKpKCXEVSkKuIQ9wF4U2Sjgh9nhcMixzHzBoktUvaKenlkv7VzJ6W9D5J/2Rm74laiLvf6O7L3H3ZjBkzKroCQCWRq0gKchVJQa4iKchVJAW5iqQgV5EU5Cri0BDz8u+X1GFmRylT+D1P0l/ljLNK0gWSfi3pLEn3uLtLem12BDO7StJed//cWAQNAAAAAAAAAEkUa0HY3fuCq3pvl1Qv6SZ3X2tm10ha7e6rJP2XpK+Z2ZOSdilTNAYAAAAAAAAAlCnuK4Tl7j+V9NOcYVeE3vdIOrvIPK6qSnAAAAAAAAAAMI7EfQ9hAAAAAAAAAMAYoSAMAAAAAAAAAClBQRgAAAAAAAAAUoKCMAAAAAAAAACkBAVhAAAAAAAAAEgJCsIAAAAAAAAAkBIUhAEAAAAAAAAgJSgIAwAAAAAAAEBKUBAGAAAAAAAAgJSgIAwAAAAAAAAAKUFBGAAAAAAAAABSgoIwAAAAAAAAAKQEBWEAAAAAAAAASAkKwgAAAAAAAACQEhSEAQAAAAAAACAlKAgDAAAAAAAAQEpQEAYAAAAAAACAlKAgDAAAAAAAAAApQUEYAAAAAAAAAFIi9oKwma0ws8fN7Ekzuzzi+2YzuyX4/rdmtiAYfoqZPWBmjwQ/Txrz4AEAAAAAAAAgQWItCJtZvaTPSzpN0vGSzjez43NGu1DSc+5+jKTPSPpkMHyHpDe7+wmSLpD0tbGJGgAAAAAAAACSKe4rhE+U9KS7r3f3XknflrQyZ5yVkm4O3n9P0nIzM3f/vbtvDoavlTTBzJrHJGoAAAAAAAAASKC4C8JzJT0b+rwxGBY5jrv3SeqSND1nnL+U9KC7H6hSnAAAAAAAAACQeCUVhM2s1czqgvcLzewMM2usbmilMbNFytxG4uIC41xkZqvNbHVnZ+fYBQeUiVxFUpCrSApyFUlBriIpyFUkBbmKpCBXEYdSrxD+paQWM5sr6Q5Jb5f0lQosf5OkI0Kf5wXDIscxswZJ7ZJ2Bp/nSfqhpHe4+5/yLcTdb3T3Ze6+bMaMGRUIG6gOchVJQa4iKchVJAW5iqQgV5EU5CqSglxFHEotCJu775P0Fkn/4e5nS1pUgeXfL6nDzI4ysyZJ50lalTPOKmUeGidJZ0m6x93dzKZI+omky939/yoQCwAAAAAAAACMayUXhM3slZLeqkwRVpLqR7vw4J7A75F0u6THJH3H3dea2TVmdkYw2n9Jmm5mT0q6TNLlwfD3SDpG0hVm9lDwmjnamAAAAAAAAABgvGoocbxLJX1Y0g+Dgu3Rku6tRADu/lNJP80ZdkXofY+ksyOmu1bStZWIAQAAAAAAAADSoNSC8Cx3z16xK3dfb2b/U6WYAAAAAAAAAABVUOotIz5c4jAAAAAAAAAAQI0qeIWwmZ0m6Y2S5prZDaGv2iT1VTMwAAAAAAAAAEBlFbtlxGZJqyWdIemB0PA9kt5fraAAAAAAAAAAAJVXsCDs7g9LetjMvuHuXBEMAAAAAAAAAAlW7JYR33H3cyT93sw893t3X1K1yAAAAAAAAAAAFVXslhGXBj9Pr3YgAAAAAAAAAIDqKnbLiC3Bzw1jEw4AAAAAAAAAoFqK3TJij6TwrSIs+GyS3N3bqhgbAAAAAAAAAKCCil0hPHmsAgEAAAAAAAAAVFexewgPMrOXSHqNMlcI/6+7/75qUQEAAAAAAAAAKq6ulJHM7ApJN0uaLukwSV8xs49WMzAAAAAAAAAAQGWVeoXwWyW9yN17JMnMPiHpIUnXVikuAAAAAAAAAECFlXSFsKTNklpCn5slbap8OAAAAAAAAACAain1CuEuSWvN7E5l7iF8iqTfmdkNkuTul1QpPgAAAAAAAABAhZRaEP5h8Mq6r/KhAAAAAAAAAACqqaSCsLvfLElm1ihpsaRN7r69moEBAAAAAAAAACqr4D2EzeyLZrYoeN8u6WFJX5X0ezM7fwziAwAAAAAAAABUSLGHyr3W3dcG7/9a0hPufoKkl0r6x6pGBgAAAAAAAACoqGIF4d7Q+1Mk/UiS3H1rpQIwsxVm9riZPWlml0d832xmtwTf/9bMFoS++3Aw/HEze0OlYgIAAAAAAACA8ajYPYSfN7PTJW2S9GpJF0qSmTVImjDahZtZvaTPK1Ns3ijpfjNb5e5/CI12oaTn3P0YMztP0iclnWtmx0s6T9IiSYdLusvMFrp7f7lxDAy4nt7ZrW27ezSrrUXzp07UM8/ty/t5wfRWSSo4Ta2NQ3yjH6euzspNrYrLzdVqxjUw4HpmV7e27T6g7t4+HX1Yq7r2HdSW3T2a0z5Bi+a0qaGhrmBM+b4rts9Vcptkl7Wz+4Ca6uq0a1+vJjY1aHZ7s/r6pe17hi5zw85ubd3do937D2ryhAbNaZugIwus0/ypE7Xx+X3atvuAevv7Nbm5UTv2HlBzY72mTmzUMdMn6fHOPdrSdajdJGntlq7BYVMmNmjz8yPbpmOZE+UIxzWxqUG9/f2a3tpc0r5fLP5S8ic3z2ZOblF9nbSlK/9yRtOW4WnntLeof2BobkXNJ9/y+voG8ubHvPYJemzb7iH51NBQN2SeT+3o1oZd3WoN8vxgn+uZ5/aptalBMyc3yyzTDuHtks3/8LSz2po1f1po+M5utTTVqbm+XtMnNWnelNK3XW5c2XnXWq6ONAfD0+RuvxfOmqyNXfsL9m/F+s1C448kxmL7RrHlZY8P2/ccUNf+g2praRy2TXt7+7Vmc5e27u7RzMnNGvB+TWhs0qI5baqrs0PHlwN9mjKxUc/v79X01pbIY0uhPmQ0x5Vy9824DTme1ddpX2+/Dp/Soue7hx+bc6cptC7lHsel6HasVO6WtP5FjufhZWT3yc1dPZrU3KBprY06dmZp7ZTb5r39A2qqq1Nn6Dh/3Kzhx/XsdgjvB3PaWrRodps27+mpWG7Veq7GFddIjsnhaZ/a0a3NXfvUXF+v7t4+zZs6UQf6+rV9T4/aWprU2zeg2e3Dczy3r9qwa9/gcS98/M32u517D+3L2dgGBlxrt3RpZ/cBTW9t1t4DfdrT06dprU2a2FivAXd1h8bP3Vezudp9oF+tzUOP8yPZBqWcS422n0FteH5/j57Ymjk2z2pr1sLZrZoyoSXusABUUbGC8MWSbpA0W9L7QlcGL5f0kwos/0RJT7r7ekkys29LWikpXBBeKemq4P33JH3OzCwY/m13PyDpKTN7Mpjfr8sJYGDA9fO1W3XZdx5Sz8EBHTl9gt57Uoc++qNHIz+3NNbpc3/1YvX2ed5pam0c4hv9ONeds1QrFs2O9cQlN1erGdfAgOuex7dp3ba9uv7udVo4c5LOf/mRuvq2tYPLvvbMxTrjhMN11+PbI2OSFBnvqS+cpTse21a0vZsaTO/55u9HtU2ybfbJnz+mc5fN1w33rBuc39/92TFD1ue6c5aqtblOj2/dq+vufGJw+KXLO9Qxa5JOOnZW5Dr921lLtKWrR9/47YYhy2hprNM/vOFYre/s1j9+f82Q8Xv7XR/54SODw6588yJ967cb9MT2vWVt07HMiXJExXXJSR26ZfUzeu9JHfr3e9Zpw879I9quUfO+9szFg/PMl2fZbfnVX2/Qc/t6hy1nNG0ZnnbqxCa945VH6vq71xWcT77lnXzsTK16ZPOQNsnmR1fPQb37zzt0xa2PDln3M180d7CAlns8+/vXH6MrV60d0gatTfX6wi/W67l9vYPb5Z9PP14HDro+8N2h7XX84ZO1t2dg2PDWpnpNbW3Sp+54fEi7R7VX1LqG96tay9WR5GB2moEB148e3jRk+12zcrE+f+/Q/Az3b8X6zdxj1GhjjFpGeN8otrzs8WF9Z3fevrKvb0A/WrN5SK5efcYi3f3YU3rzi+appbFeT27fO2Q/ef/JC3X17/6g957UEXlsueSkDt3zx60678Qjh/UZIzmulLtv1kq/Gj6e5Ts25+sTotal3FzJlx9Rfe5Icrec9S90PM8uo69vYNg+eenyDq3v7NZpi+YUbKfsOmWXecvqZ4Yd5y9d3qHOvT3aseeg/jmnb37T8bN129qtQ/aDa85YrLse26w7/rBj1LlV67kaV1wjOSbnTpubZy2NdbrslIVqrq/Tv/z89wVzPF9flXv8/afTjtP+gwP6zF2H+tFPn71UAz6gT93xuN71mqP1+NZD/eSR0yfo3a8/RlesGp7rkvLGnT3Of2jFC8veBvmO3+Fzqah9v5LnWBgbz+/v0R2PduqKVUP7q1MXz6AoDIxjBW8Z4e5PuPsKd1/q7l8JDb/d3T9QgeXPlfRs6PPGYFjkOO7eJ6lL0vQSpy3q6Z3dgwcnSTp9ydzBg3fU556DA1qzsavgNLU2DvGNfpzLvvOQnt7ZXVJOVUturlYzrqd3dmvNxq7Bk9B3ve4Fg79sZZf90R89qjWbu/LGlC/etVtKa+81G7tGvU2yMZy+ZO7gyXF2frnrc9l3HtKe/f2DBY7s8OvvXqc1G7vyrtO67ZkCcu4yeg4O6N9uf1xPdu4dNn62GJwddvVta/Wu172g7G06ljlRjqi4brhn3eB2PH1JpqseyXaNmnd4nvnyLLst3/KSeZHLGU1bhqd9y0vmDe43heaTb3lrNncNa5Nsfpy+ZO5gYSG87mu3dEXO8/QlcweLweE22NHdO9gO2e2yZmPXYNE3PO6e/f2Rw3d092rd9r3D2j2qvaLWNbxfxWkk273QNGu3DN9+V9w6PD/D/VuxfjP3GDXaGPNtj2xOFFte9vhQqK9cs7lrWK5euWqt3vqKo7Ru+149sqlr2H7ymbueGOwToo4tN9yzTu941dGRfcZIjivl7pu1kqvhY02+Y3O+PqHcvq+cfIzqc0eSu+Wsv5T/eJ5dRtQ+ef3d67Ru+96i7ZRdp+wyo47z19+9TvVWN1gMDm+HR7buHrYfXLHqUb31FUeNuj0KxV0ruRpXXCM5JudOG7Wtr7vzCe3c11s0x/P1VbnH3x3dvYPF4Ow4H/juQ4PH1s69B4bEfvqSuYPF4Nx1KRR3NndHsg2KHS/y7fuVPMfC2Hhia/dgMVg61F89sZVtBIxnxe4hPC6Y2UVmttrMVnd2dg75btvunsGOLzOuCn6WpAFP1jjEN/pxeg4OaPueHlVbOblazbi27e4Z0i77D/RFLntrgZjyxbulq/A+lx1vwFV0nGLrno2hlJzrOTig7jzrOeDKu07ZdiplPcLj5463v7ev5PXKXb/cedVqrmbbyCw7j/K3a6F5hz/n5lnueLnLGU1bhqctdZ3yLS/fPrW/ty/vvLd29UTOs1BOhtvBLH9eFtonwvPJt56F1jW7X1VbpfvVQtMUy7vs59x+oVC/mW/bjDTGYvtQseXlHh9y12v7np68efz8voODuVOojyi0H1TquJK7Xlm13q+G1y3vsTlPn5D9vtS+r5x8jMr9keRuPuUez7PLyLdPDriKtlN22vCxK2q857oPRg7ftvtA3v0gKtZy1XquxhFX7vLLPc/Il2fZ6Uo+pytw7CzW12bHKef3k2JxZ4eXuw2KHS8KnW9V6hxrtArlKg7J119t230gpojSh1xFHOIuCG+SdETo87xgWOQ4wb2L2yXtLHFaSZK73+juy9x92YwZM4Z8N6utRS2NQ5uh2Od6S944xDf6+GZOrv6/y4wkV6sR16y2liHtMrG5IXLZswvElC/eOe0TSmrv3P8gG8m6h2MoZZmtLdHrWWfKu07hdiplPfLl24SmhpLXK2r9wvOq1Vx1P/QzPDx3vELxF5p3+HO+PMuOl7uc0bRl7rSlzCfv/pFneDg/cr+b3d5ScJ65n+tMQ9rBPX9eFtonwvPJt56F4sruV9VW6X610DTF8i77Oap/K6WPqUSMxfahYsvLPT7krtfMyS1583jKxEbVW/5lZPuIfNNPbIrOx9EcV0rdN2spV4sem4v0CaX2feXk45z2yuRuPuUez7PLyJcbdaai7RRep0LLntraGDl8Vltz3v0gKtZyJSFXxzquqOWXE0uxPCv1nC7fvhk+bhbqRwt9H7UuxeLO9q3lboNix4tC/W+lzrFGq1Cu4pB8/dWstuaYIkofchVxKKkgbGbDegIzm1aB5d8vqcPMjjKzJmUeErcqZ5xVki4I3p8l6R5392D4eWbWbGZHSeqQ9LtyA1gwvVXXnbN0sAO87eFNuvbMxXk/tzTW6YR57QWnqbVxiG/041x3ztLBB0fEJTdXqxnXgumtOmFeuy5d3qGWxjr95y//pCvfvGjIsq89c7GWHN6eN6Z88S6a01ZSey+Z1z7qbZKN4baHN+mSkzqGzC93fa47Z6kmt9TrslMWDhl+6fIOLZnXnnedjpk5SZedsnDYMloaM/cQPmbGpGHjf/wvThgy7Mo3L9KXf/mnsrfpWOZEOaLiuuSkDv14TWY7/nhN5m93I9muUfMOzzNfnmW35Q8e3Bi5nNG0ZXja7z+wcXC/KTSffMs74fD2YW2SzY/bHt6ka1YuHrbui+a0R87ztoc36eozFg1rg8NamwbbIbtdTpjXrk+fPby9JrfURw4/rLVJHTMnDWv3qPaKWtfwfhWnkWz3QtMsmtM2bPtds3J4fob7t2L9Zu4xarQx5tse2Zwotrzs8aFQX3nC4e3DcvXqMxbpG795SsfMnKTFc9uH7SfvP3nhYB9xQsSx5ZKTOnTzr9ZH9hkjOa6Uu2/WSq6GjzX5js35+oRy+75y8nHRnOHDR5K75ay/lP94nl1G1D556fIOdcycVLSdsuuUXWbUcf7S5R3q9wF9LKJvPmF227D94JozFusbv3lq1O1RKO5aydW44hrJMTl32qhtfdkpCzV9YlPRHM/XV+Uef6e3Nun9Jw/tRz999lJ1zJyk2x7epMMmNQ+J/baHN+maM6JzvVDc2eP8SLZBseNFvvOtSp5jYWwsnN2qa84Y3l8tnM02AsYzc/fiI5n9RNKZ7n4w+DxH0o/d/aWjDsDsjZI+K6le0k3u/nEzu0bSandfZWYtkr4m6cWSdkk6L/QQuo9I+htJfco89O5nxZa3bNkyX7169ZBh2aeebt+TeXpq9snU+T6HnyiblHGIb/TjRDz0oKpPQSglV6v5hN7sU+S37T6gfb19OuqwVnXtO6itu3s0u71Fi+a0D3kSfFRM+b4rts+NYptErsfTO7u1q/uAGiOeSt65d+gyN+zs1tbdPdqzv0+tLfU6vH2CjiywTvOnTtTG5/dp2+4DOtjfr0nNjdoRevr4MdMn6fHOPdradajdpMx9Dbd29Wh2W4umtDYOPnW63G1aYk7ElquZp27X62D/gKYFT90utu+X8hC3UnIjPN6MSZknY2/dnX85o9m/wtPObss80TycW/keXhO1vL6+gbz5Ma99gh7btntIPjU01A2Z51M7uvXMru7BPD/Y53r2uX2amPOU8/B2yeZ/eNpZbc2aP23o8KaGOrU01Gv6pCbNm1L6tsuNKzvvWsrV0eRgeJoh26+9RS+c1aaNXfsL9m/F+s1C448kxmL7RrHlZY8PnXsO6Pn9B9XW0jhsm/b29mvN5q5gvs1y71dLY6MWzWlXXZ0NHl+6D/SpfWKjdu/v1bTW5mHHlmJ9yGiOK+Xumzliy9Vd3QfUWF+nfb39OnxKi57vHn5sLmddyj2OS9HtWKnczaec43l4Gdl9cktXj1qbGzRtYqOOndVWUjvltnlv/4Aa6+qGHOePm9UmSUP2++x2yO4H23b3aFZbixbPbtPmPT0VO4+r9Vwdi/PVKCM5JoenfWpHt7Z07VNTfb26e/s0b+pEHejrV+eeHk1uadLB/gHNahua41F91YZd+waPe9nj79bdh/rdHXsP7cvZ+Q0MuNZu6dKu7gOa1tqsvQf6tKenT9NamzSxsV4D7uoOjZ+7r4b7h9zj/EgfXljsXGq0/UzImOcqDnl+f4+e2Jo5Ns9qa9bC2a08UC6/2HLVzHTul35VzcUjgW65+FXKU9stmKulFoT/VtIblblC9whlrs79oLvfUX6o8eJAgAripAVJQa4iKchVJAW5iqQgV5EU5CqSgoIwaspIC8INpczc3f8zuKXDjyQtkHSxu5OFAAAAAAAAAJAgBQvCZnZZ+KOk+ZIekvQKM3uFu19XxdgAAAAAAAAAABVU7ArhyTmff5BnOAAAAAAAAACgxhUsCLv71WMVCAAAAAAAAACguuqKjyKZ2Z1mNiX0eaqZ3V61qAAAAAAAAAAAFVdSQVjSDHd/PvvB3Z+TNLMqEQEAAAAAAAAAqqLUgnC/mc3PfjCzIyV5dUICAAAAAAAAAFRDsYfKZX1E0v+a2S8kmaTXSrqoalEBAAAAAAAAACqupIKwu//czF4i6RXBoPe5+47qhQUAAAAAAAAAqLRSrxCWpFdJel3o848rHAsAAAAAAAAAoIpKuoewmX1C0qWS/hC8LjWz/1fNwAAAAAAAAAAAlVXqFcJvlLTU3QckycxulvR7Sf9UrcAAAAAAAAAAAJVV0hXCgSmh9+0VjgMAAAAAAAAAUGWlXiH8L5J+b2b3SjJl7iX84apFBQAAAAAAAACouJIKwu7+LTO7T9LLgkEfcvetVYsKAAAAAAAAAFBxpT5U7m533+Luq4LXVjO7u9rBAQAAAAAAAAAqp+AVwmbWImmipMPMbKoyt4uQpDZJc6scGwAAAAAAAACggordMuJiSe+TdLikB3SoILxb0ueqFxYAAAAAAAAAoNIKFoTd/XpJ15vZe93938coJgAAAAAAAABAFRS8h7CZvczMZmeLwWb2DjO71cxuMLNpo1mwmU0zszvNbF3wc2qe8S4IxllnZhcEwyaa2U/M7I9mttbMPjGaWAAAAAAAAAAgDYo9VO5LknolycxeJ+kTkr4qqUvSjaNc9uWS7nb3Dkl3B5+HCIrOV0p6uaQTJV0ZKhx/yt2Pk/RiSa82s9NGGQ8AAAAAAAAAjGvFCsL17r4reH+upBvd/fvu/s+SjhnlsldKujl4f7OkMyPGeYOkO919l7s/J+lOSSvcfZ+73ytJ7t4r6UFJ80YZDwAAAAAAAACMa0ULwmaWvc/wckn3hL4r9kC6Yma5+5bg/VZJsyLGmSvp2dDnjcGwQWY2RdKblbnKGAAAAAAAAACQR7Gi7rck/cLMdkjaL+l/JMnMjlHmthEFmdldkmZHfPWR8Ad3dzPzkiIeOv+GIMYb3H19gfEuknSRJM2fP7/cxQBjhlxFUpCrSApyFUlBriIpyFUkBbmKpCBXEYeCVwi7+8clfUDSVyS9xt2zRds6Se8tNnN3P9ndF0e8bpW0zczmSFLwc3vELDZJOiL0eV4wLOtGSevc/bNF4rjR3Ze5+7IZM2YUCxuIDbmKpCBXkRTkKpKCXEVSkKtICnIVSUGuIg7Fbhkhd/+Nu//Q3btDw55w9wdHuexVki4I3l8g6daIcW6XdKqZTQ0eJndqMExmdq2kdknvG2UcAAAAAAAAAJAKRQvCVfQJSaeY2TpJJwefZWbLzOzLkhQ80O5jku4PXte4+y4zm6fMbSeOl/SgmT1kZu+KYyUAAAAAAAAAIClG+2C4EXP3nco8qC53+GpJ7wp9vknSTTnjbJRk1Y4RAAAAAAAAAMaTOK8QBgAAAAAAAACMIQrCAAAAAAAAAJASFIQBAAAAAAAAICUoCAMAAAAAAABASlAQBgAAAAAAAICUoCAMAAAAAAAAAClBQRgAAAAAAAAAUoKCMAAAAAAAAACkBAVhAAAAAAAAAEgJCsIAAAAAAAAAkBIUhAEAAAAAAAAgJSgIAwAAAAAAAEBKUBAGAAAAAAAAgJSgIAwAAAAAAAAAKUFBGAAAAAAAAABSgoIwAAAAAAAAAKQEBWEAAAAAAAAASAkKwgAAAAAAAACQEhSEAQAAAAAAACAlYi0Im9k0M7vTzNYFP6fmGe+CYJx1ZnZBxPerzOzR6kcMAAAAAAAAAMkV9xXCl0u62907JN0dfB7CzKZJulLSyyWdKOnKcOHYzN4iae/YhAsAAAAAAAAAyRV3QXilpJuD9zdLOjNinDdIutPdd7n7c5LulLRCksxskqTLJF1b/VABAAAAAAAAINniLgjPcvctwfutkmZFjDNX0rOhzxuDYZL0MUmflrSvahECAAAAAAAAwDhR9YKwmd1lZo9GvFaGx3N3l+RlzHeppBe4+w9LGPciM1ttZqs7OzvLXgdgrJCrSApyFUlBriIpyFUkBbmKpCBXkRTkKuJQ9YKwu5/s7osjXrdK2mZmcyQp+Lk9YhabJB0R+jwvGPZKScvM7GlJ/ytpoZndlyeGG919mbsvmzFjRuVWDqgwchVJQa4iKchVJAW5iqQgV5EU5CqSglxFHOK+ZcQqSRcE7y+QdGvEOLdLOtXMpgYPkztV0u3u/gV3P9zdF0h6jaQn3P31YxAzAAAAAAAAACRS3AXhT0g6xczWSTo5+CwzW2ZmX5Ykd9+lzL2C7w9e1wTDAAAAAAAAAABlaIhz4e6+U9LyiOGrJb0r9PkmSTcVmM/TkhZXIUQAAAAAAAAAGDfivkIYAAAAAAAAADBGKAgDAAAAAAAAQEpQEAYAAAAAAACAlKAgDAAAAAAAAAApQUEYAAAAAAAAAFKCgjAAAAAAAAAApAQFYQAAAAAAAABICQrCAAAAAAAAAJASFIQBAAAAAAAAICUoCAMAAAAAAABASlAQBgAAAAAAAICUoCAMAAAAAAAAAClBQRgAAAAAAAAAUoKCMAAAAAAAAACkBAVhAAAAAAAAAEgJCsIAAAAAAAAAkBLm7nHHMKbMrFPShjxfHyZpxxiGM1pJi1dKXsyF4t3h7iuqteA8uZqU9ktCnEmIUapMnHHkajmSsi3KwTqNTFy5muTtRezxaHH3xdWaeQX61WKS3PZRxtP6VHpdav0coFy1uK1rLaZai0cqLaY4c7UW2ywutEVGrdUBstg+h9AWh+Rri4K5mrqCcCFmttrdl8UdR6mSFq+UvJhrLd5aiyefJMSZhBil5MQ5GuNxHVmnZEnyuhF7PJIcu5T8+HONp/UZT+tSDbXYPrUWU63FI9VmTGG1Ht9Yoi0yarUdajWuONAWh4y0LbhlBAAAAAAAAACkBAVhAAAAAAAAAEgJCsJD3Rh3AGVKWrxS8mKutXhrLZ58khBnEmKUkhPnaIzHdWSdkiXJ60bs8Uhy7FLy4881ntZnPK1LNdRi+9RaTLUWj1SbMYXVenxjibbIqNV2qNW44kBbHDKituAewgAAAAAAAACQElwhDAAAAAAAAAApQUFYkpmtMLPHzexJM7s87niimNlNZrbdzB4NDZtmZnea2brg59Q4YwwzsyPM7F4z+4OZrTWzS4PhtRxzi5n9zsweDmK+Ohh+lJn9NsiPW8ysqULLqzez35vZj4PPXzGzp8zsoeC1NBhuZnZDsPw1ZvaS0DwuCNpynZldEBr+UjN7JJjmBjOzEcb4dDCfh8xsdTAschvGFWeeGK8ys02htnxjaPwPB8t73MzeEBoe2Q9Uavub2RQz+56Z/dHMHjOzV9ZaW45WEvKlQutUc/lV5jqN21y0BPSrBWJP7P6T5P0k6ftDkvOmjPVJRC7lWZ9E51etsZw+Pm5R+Rq3qJyLOZ5jQ/vuQ2a228zeF2dMQVwl/U5qZv2h2FeNdZzVkq+PDH3fHPSRTwZ95oIYwhwTJbTFO82sM5QH7xrj+MhVclVSlXLV3VP9klQv6U+SjpbUJOlhScfHHVdEnK+T9BJJj4aG/auky4P3l0v6ZNxxhmKbI+klwfvJkp6QdHyNx2ySJgXvGyX9VtIrJH1H0nnB8C9K+v8qtLzLJH1T0o+Dz1+RdFbEeG+U9LMgvldI+m0wfJqk9cHPqcH7qcF3vwvGtWDa00YY49OSDssZFrkN44ozT4xXSfpgxLjHB/t4s6Sjgn2/vlA/UKntL+lmSe8K3jdJmlJrbVmBnK75fBmv+UUuDq5bzfer43H/SfJ+kvT9Icl5M95yaTzmV629lNPHx/2Kyte4X1E5F3dModjqJW2VdGQNxFLS76SS9sYda5W2Q8H6h6S/l/TF4P15km6JO+4Y2+Kdkj4XY4zkKrlatVzlCmHpRElPuvt6d++V9G1JK2OOaRh3/6WkXTmDVypz0Ffw88yxjKkQd9/i7g8G7/dIekzSXNV2zO7ue4OPjcHLJZ0k6XvB8IrEbGbzJL1J0pdLGH2lpK8G8f1G0hQzmyPpDZLudPdd7v6cpDslrQi+a3P333imZ/hqJWLOiSdqG9ZanPli/7a7H3D3pyQ9qUwfENkPBFfajHr7m1m7Mn/U+S9Jcvded39eyW7LUqVhHbNiya9yjOdcTHi/WijORG+XCDWzn4zj/SHp8ZeqZnIpyjjOr1iU2cenUoGcqxXLJf3J3TfEHYhq+HfSMVBK/SPcPt+TtHyc/gdCEmpB5Cq5KlUpVykIZ4qUz4Y+bwyGJcEsd98SvN8qaVacweQTXLb/YmWuuK3pmIN/RXtI0nZlTrj/JOl5d+8LRqlUfnxW0j9KGsgZ/vHg3wQ/Y2bNwbB8OVpo+MaI4SPhku4wswfM7KJgWL5tGFecUTFK0nuCtrwp9K815cY4XZXZ/kdJ6pT038G/On7ZzFpVe205WknIl3IlIb/KMZ5z8bNKRr+aT5L3n6TuJ+Nhf0hy3kRJai5FGQ/5VUs+q+g+Pk758jUu+XKuVpwn6VtxBxEo9XfSFjNbbWa/MbMzxya0qiul/jE4TtBndinTh443pdaC/jI4Bn3PzI4Ym9AGkauHkKuHVCRXKQiPE8GVAR53HLnMbJKk70t6n7vvDn9XizG7e7+7L5U0T5m/whxX6WWY2emStrv7AzlffThY3suU+bfAD1V62SPwGnd/iaTTJL3bzF4X/rJGtmFUjF+Q9AJJSyVtkfTp+MKTJDUoc8uXL7j7iyV1K/MvP4NqpC1HKwn5Uq4k5Fc5xmUuJqxfzSfJ+09S95PxsD8kOW+iJDWXooyH/KoJBfr4uBXc/2JQNOfiYpn7dZ8h6btjuMy7zOzRiNeQq+qK7IdHuvsySX8l6bNm9oJqx42ac5ukBe6+RJkLxm4uMn7ZyFVUSNm5SkFY2iQpXDmfFwxLgm3Bv4sp+Lk95niGMLNGZYrB33D3HwSDazrmrODfq+6V9Epl/mWvIfiqEvnxaklnmNnTylzqf5KZfd0zt9lwdz8g6b+VKUhL+XO00PB5EcPL5u6bgp/bJf0wiCnfNowlzqgY3X1bUNwfkPSfGnlb7lRltv9GSRvd/bfB5+8pc8JeU205WknIl3IlJL/KMV5zMTH9aj5J3n8SvJ8kfn9Ict5ESXAuRUl8ftWQyD4+3pDy7n9xypdzteA0SQ+6+7axWqC7n+zuiyNet6rE30lD23i9pPuU+a/XpCul/jE4TtBntivTh443RdvC3XcG55FS5pY1L610EORqXuTqIVXJVQrC0v2SOizz1OEmZf6VJSlPZVwl6YLg/QWSbo0xliHMzJS5f9Vj7n5d6KtajnmGmU0J3k+QdIoy9z6+V9JZwWijjtndP+zu89x9gTL5do+7vy3U0Zsy9wZ6NJhklaR3WMYrJHV55t9Gbpd0qplNDf598lRJtwff7TazVwTzesdIYjazVjObnH0fzP9R5d+GYx5nvhizbRn4Cw1ty/Ms8zTSoyR1KPNAlsh+IPgr7Ki3v7tvlfSsmR0bDFou6Q+qobYcrSTkS6XWqdbyqxzjNReT0q/mk+T9J8n7SdL3hyTnTTnrk4RcipL0/Kol+fr4OGMqsP/FpkDO1YLzVTu3i5BK+J002Oeag/eHKfOHiVppz9Eopf4Rbp+zlNnnxuN/MxRti5xj0BnK1AfGErlKrkrVylWvgSfmxf1S5qm+Tyhzv9iPxB1Pnhi/pcy/yR1U5q+/Fypzb5S7Ja2TdJekaXHHGYr3Ncr8O8MaSQ8FrzfWeMxLJP0+iPlRSVcEw49W5heMJ5X5N6fmCi7z9QqelCzpHkmPBMv+uqRJwXCT9PkgPx+RtCw0/d8EcT0p6a9Dw5cF8/mTpM9JshHEdrQyT698WNLa7L6RbxvGEWeBGL8WxLBGmY5yTmiajwTLe1yhp3Hn6wcqtf2V+VfX1UFMP1LmSeE105YVyOWaz5cKrlPN5Re5OGT9Xq8a7VfH4/6T9P0kyftDkvNmPObSeMuvWn0p1MfHHEdkvsb9isq5GoipVZkr9trjjiUUU779cJmkLwfvXxXsiw8HPy+MO+4Krv+wPlLSNZLOCN63BH3kk0GfeXTcMcfYFv8S7OMPK/NHxePGOD5ylVytWq5aMCEAAAAAAAAAYJzjlhEAAAAAAAAAkBIUhAEAAAAAAAAgJSgIAwAAAAAAAEBKUBAGAAAAAAAAgJSgIAwAAAAAAPIys5vMbLuZPVrCuK8zswfNrM/Mzsr57gIzWxe8LqhexACAQigIp4SZ9ZvZQ2a21sweNrMPmBnbHzXHzOaZ2a3BSeKfzOx6M2uKOy4gipntzfn8TjP7XPD+78zsHUWmHxwfGAu5OQvUCjObbWbfDo79D5jZT81sYSnFJ6AazOxeM3tDzrD3mdkX8oz/tJkdNjbRxeIrklaUOO4zkt4p6ZvhgWY2TdKVkl4u6URJV5rZ1MqFOP4V+r3ezJaZ2Q1Fpo88PzWzBZXqb83s9Wb240rMC8lhZh8J8nJNkKMvD4a/z8wmjnCeV5nZB4uMc6yZ3Rcs8zEzu7GE+e4Nfh5uZt8L3i81szeOJM6kaog7AIyZ/e6+VJLMbKYyB+c2ZQ7IQE0wM5P0A0lfcPeVZlYv6UZJH5f0D7EGB5TJ3b8YdwwAkATB8f+Hkm529/OCYS+SNCvWwJB235J0nqTbQ8POk/SP8YQTL3f/pZktCA8zsxdI+rykGZL2Sfpbd/+juz8dfD+QM5s3SLrT3XcF39+pTJH5W9WNflzJ+3u9u6+WtLrQxJyfohrM7JWSTpf0Enc/EPxxLHtR1/skfV2ZPqIabpD0GXe/NYjlhFIndPfNkrL/xbBU0jJJP610gLWKK0RTyN23S7pI0nssY4GZ/U/wbz0PmtmrJMnMvmpmZ2anM7NvmNlKM1tkZr8L/gKzxsw6YloVjD8nSepx9/+WJHfvl/R+SX9jZn8fXDl8X3D18OAfM8zsbaGc/FJQSJaZ7TWzjwd/Pf+NmfGLJcZM+C/aZvay0F/L/y3nCozDzeznQV7/a0zhIsWCKyJ+E+ToD81sqpnNNLMHgu9fZGZuZvODz38a6ZUeQB5/LulguFDh7g9Lejb72cxazOy/zewRM/u9mf15MDzyvDTfuQFQhu9JepMF/6kWFEMPlzQ3yMNHzeyTuRPlXmlpZh80s6uC9/eZ2WfMbHVwJdvLzOwHwTnAtaFpkpK/N0p6r7u/VNIHJf1HkfHnKrRfS9oYDMMIRPxe/3oz+7GZ1VnmivUp2XGDHJuVc3760uD3pIclvTs0bn1wvnp/0K9eHAx/fZDD3zOzPwb1AQu+WxEMe1DSW0Lz+rMgjx8K+u7JY9I4GGtzJO1w9wOS5O473H2zmV2iTL95r5ndK0lmdn5UHxrk0INBTt6duwAz+1sz+5mZTYhY9sbsB3d/JBj/nfnqB6F5LgjiaJJ0jaRzg1w9Nw25S0E4pdx9vaR6STMlbZd0iru/RNK5yvyFRZL+S5l/9ZGZtUt6laSfSPo7SdcHf5lcptDOB4zSIkkPhAe4+25l/u2sQZl/LftLSUsknW2Zf4t6oTJ5++ogJ/slvTWYvFXSb9z9RZJ+Kelvx2IlkCoTQicKDylzIhHlvyVdHMrRsKXK5PAJypyEHFGlWIF8virpQ+6+RNIjylxltF1Si5m1SXqtMlccvdbMjpS03d2rdZUH0mmxco7/Ed4tyd39BEnnS7rZzFoUcV5a5NwAKElwFevvJJ0WDDpP0l2SPqnMRQxLJb3MQhfQlKjX3ZdJ+qKkW5XJ7cWS3mlm05OSv2Y2SZnfD78bnAN9SZnCDMZQzu/12WEDyuTWX0iSZf51f4O7b8uZ/L+VKei/KGf4hZK63P1lkl4m6W/N7Kjguxcrc8Xn8ZKOlvTqoC/+T0lvlvRSSbND8/qgpHcHufxaSftHs76oWXdIOsLMnjCz/zCzP5Mkd79B0mZJf+7uf25mhyuiDzWzGcrk0F8G+Xh2eOZm9h5lrkA+091zc+gzku4JisXvD/8hRBH1g6jg3b1X0hWSbnH3pe5+i1KQuxSEIUmNkv7TzB6R9F1lOne5+y8kdQQ75/mSvu/ufZJ+LemfzOxDko6M2CGBarnT3XcGOfcDSa+RtFyZE4/7g5PR5cqcnEhSr6Ts/asekLRgTKNFGuwPThqWBicLV+SOEJyUTHb3XweDvpkzyt3u3uXuPZL+IOnIagYMhAV/8J0SHPMl6WZJrwve/0rSq4PP/y/4+VpJ/zPWcQLKHPO/Lknu/kdJGyQtVPR5aaFzA6Ac2dtGKPi5QdJ97t4Z/F70DR3qM0u1Kvj5iKS17r4luKpuvaQjlJz8rZP0fPg8yN1fWGSaTcqsY9a8YBgq7xZl/rAgZXL3lvCXwfnpFHf/ZTDoa6GvT5X0jiD/fitpuqTsfwX/zt03BkXnh5T5/eo4SU+5+zp3dwV9deD/JF0XXCk6JdhvMM64+15l+q2LJHVKusXM3hkx6ssU3Ye+QtIv3f2pYH67QtO8Q5k/zJ2VvQI5Z9n/LemFytSyXi/pN2bWHHwdVT8o1bjPXQrCKWVmRyvz1+btyvxL/jZJL1LmyorwA7y+Kultkv5a0k2S5O7flHSGMn8h+amZnTR2kWOc+4MyB5JBwdVp8yX1SfKc8V2SKXPPweyJ6LHuflXw/cHgpETK5Dv3TUctCp/YkKeoJb9UpgB8pDJXGr1ImRNpCsKotLXKOf6XKs95aaFzA6Act0pabmYvkTRRmQJYMX0a+nt2S8732eP+gIaeAwwocw6QiPwN/ovvKTM7W8rcC9wy9/4u5HZJp1rm1kRTlSk83l5kGhSQ83t92K8lHRNc3HWmMsWwkmerzJXD2Rw8yt3vCL4r67zV3T8h6V2SJkj6PzM7row4kCDu3u/u97n7lZLeo8yVuZXwiDJ/eJhXYNmb3f0md1+pTB+8OPtV7qilLjQNuUtBOIWCg8IXJX0uKJa1S9oS/JXv7cr8y0nWV5T5lxC5+x+C6Y+WtD64/P9WZS6/ByrhbkkTLXjyrWXul/ZpZfJwn6RTzGxacN+gM5X5q93dks6yzEMVFHzPFZaoGe7+vKQ9wb/rSYeuNAJi5+5dkp4zs9cGg94uKXu18P8o80fhdcE5wi5Jb5T0v2MeKMa7eyQ1m9lF2QFmtkRDryT8HwX/Nm9mC5X5Y/Hjec5LOTdARQRXvd2rzIUx31LmFhJ/ZmaHBeep5+tQn5m1TdLM4PYPzcr8m3M5ajJ/zexbyhQZjzWzjWZ2oTL75IWWuQftWkkrg3FfZmYblfm37y+Z2Vpp8Kq/j0m6P3hdk3MlIMoQ8Xv9oODzDyVdJ+kxd9+Z8/3zkp43s+wVk+Hbktwu6f8zs8ZgOQvNrLVAKH+UtMAyDxmUMvtFNsYXuPsj7v5JZbb5uCuqQTKzY23os6WWKvMfFZK0R1L2/rv5+tDfSHpd9tYkZjYtNK/fS7pY0qrglhO5y14RytXZylzRnv3Pg6j6QT7hOFORu1yFlB4Tgn/5aFTmLyZfU+bgIGVu/v/9oAj3c0nd2YncfZuZPSbpR6F5nSPp7WZ2UNJWZf6NFBg1d3cz+wtJ/2Fm/6zMH61+KumflDlY/E7S95X56+DXPfMkXZnZRyXdYWZ1kg4qcy+2DRGLAOJyoTK35hlQ5qSnK+Z4kF4Tg1/Ss66TdIGkL1rmQXHrlfmvILn702ZmylwpLGUKwfPc/bmxDBjjX+j4/9ng1g89kp5WcFFC4D8kfSG4xVmfpHd65knmw85L3X0X5waooG8pU1g7z923mNnlyhSJTdJPPHiyfZa7HzSza5Q5b92kTLGsZO7+h1rMX3c/P89XKyLGvV95ruZz95sU/OcpRqTQ7/W5blGmkPXOPN//taSbzMyVuQds1peVuSLzweA8oFOZYlokd+8J/qD3EzPbp8wf8LKFtfdZ5iGgA8r80eBnhVcPCTVJ0r8HtyLpk/SkMrePkDIPn/y5mW0O7iMc2YcGOfSDoN/bLumU7Mzd/X8t8zDEn5jZKe6+I7TsUyVdb2Y9wed/cPetmdSNrh/kca+ky4P9618kvWa8567l/CEJGCL45fARSS8JriICYhHcg2iZu78n7liAcpnZpOAqIwUnQXPc/dKYwwIAAACAcYf6QXHcMgJ5mdnJkh6T9O8UgwFgVN5kZg+Z2aPK3JP12rgDAgAAAACkE1cIAwAAAAAAAEBKcIUwAAAAAAAAAKQEBWEAAAAAAAAASAkKwgAAAAAAAACQEhSEAQAAAAAAACAlKAgDAAAAAAAAQEpQEAYAAAAAAACAlPj/AXP1GhLV5zBAAAAAAElFTkSuQmCC\n",
      "text/plain": [
       "<Figure size 1440x1440 with 72 Axes>"
      ]
     },
     "metadata": {
      "needs_background": "light"
     },
     "output_type": "display_data"
    }
   ],
   "source": [
    "sns.pairplot(bitcoin_30)\n",
    "plt.show()"
   ]
  },
  {
   "cell_type": "code",
   "execution_count": 151,
   "metadata": {},
   "outputs": [
    {
     "data": {
      "text/plain": [
       "<Figure size 720x576 with 0 Axes>"
      ]
     },
     "metadata": {},
     "output_type": "display_data"
    },
    {
     "data": {
      "image/png": "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\n",
      "text/plain": [
       "<Figure size 432x432 with 3 Axes>"
      ]
     },
     "metadata": {
      "needs_background": "light"
     },
     "output_type": "display_data"
    }
   ],
   "source": [
    "plt.figure(figsize=(10,8))\n",
    "sns.jointplot(x=bitcoin_30[\"Days\"].values, y=bitcoin_30[\"Open\"].values)\n",
    "plt.ylabel(\"Days In March\")\n",
    "plt.xlabel(\"Open Stock Price\")\n",
    "plt.show()"
   ]
  },
  {
   "cell_type": "code",
   "execution_count": 152,
   "metadata": {},
   "outputs": [],
   "source": [
    "X = bitcoin_30[\"Days\"]\n",
    "Y = bitcoin_30[\"Open\"]"
   ]
  },
  {
   "cell_type": "code",
   "execution_count": 153,
   "metadata": {},
   "outputs": [],
   "source": [
    "from sklearn.model_selection import train_test_split\n",
    "\n",
    "X_train, X_test, y_train, y_test = train_test_split(X,Y, test_size=0.2)"
   ]
  },
  {
   "cell_type": "code",
   "execution_count": 154,
   "metadata": {
    "scrolled": true
   },
   "outputs": [
    {
     "data": {
      "text/plain": [
       "array([[58309.9140625 ],\n",
       "       [52272.96875   ],\n",
       "       [48527.03125   ],\n",
       "       [55137.56640625],\n",
       "       [45159.50390625],\n",
       "       [54511.66015625],\n",
       "       [58893.078125  ],\n",
       "       [56825.828125  ],\n",
       "       [49612.10546875],\n",
       "       [57750.1328125 ],\n",
       "       [51683.01171875],\n",
       "       [57850.44140625],\n",
       "       [58930.27734375],\n",
       "       [54824.01171875],\n",
       "       [52726.74609375],\n",
       "       [61221.1328125 ],\n",
       "       [58332.26171875],\n",
       "       [51174.1171875 ],\n",
       "       [48415.81640625],\n",
       "       [55840.78515625],\n",
       "       [57517.890625  ],\n",
       "       [55974.94140625],\n",
       "       [57343.37109375],\n",
       "       [48899.23046875]])"
      ]
     },
     "execution_count": 154,
     "metadata": {},
     "output_type": "execute_result"
    }
   ],
   "source": [
    "y_train.values.reshape(-1,1)"
   ]
  },
  {
   "cell_type": "code",
   "execution_count": 155,
   "metadata": {},
   "outputs": [
    {
     "data": {
      "text/plain": [
       "LinearRegression()"
      ]
     },
     "execution_count": 155,
     "metadata": {},
     "output_type": "execute_result"
    }
   ],
   "source": [
    "from sklearn.linear_model import LinearRegression\n",
    "\n",
    "reg = LinearRegression()\n",
    "\n",
    "reg.fit(X_train.values.reshape(-1,1), y_train.values.reshape(-1,1))"
   ]
  },
  {
   "cell_type": "code",
   "execution_count": 156,
   "metadata": {},
   "outputs": [],
   "source": [
    "score = reg.score(X_test.values.reshape(-1,1), y_test.values.reshape(-1,1))"
   ]
  },
  {
   "cell_type": "code",
   "execution_count": 157,
   "metadata": {},
   "outputs": [
    {
     "name": "stdout",
     "output_type": "stream",
     "text": [
      "0.10634496313801733\n"
     ]
    }
   ],
   "source": [
    "\n",
    "print(score)"
   ]
  },
  {
   "cell_type": "code",
   "execution_count": 158,
   "metadata": {},
   "outputs": [
    {
     "ename": "ValueError",
     "evalue": "x and y must have same first dimension, but have shapes (20000, 1) and (30, 1)",
     "output_type": "error",
     "traceback": [
      "\u001b[0;31m---------------------------------------------------------------------------\u001b[0m",
      "\u001b[0;31mValueError\u001b[0m                                Traceback (most recent call last)",
      "\u001b[0;32m<ipython-input-158-3c7e3de60e02>\u001b[0m in \u001b[0;36m<module>\u001b[0;34m\u001b[0m\n\u001b[1;32m      1\u001b[0m \u001b[0mx_line\u001b[0m \u001b[0;34m=\u001b[0m \u001b[0mnp\u001b[0m\u001b[0;34m.\u001b[0m\u001b[0marange\u001b[0m\u001b[0;34m(\u001b[0m\u001b[0;36m0\u001b[0m\u001b[0;34m,\u001b[0m\u001b[0;36m30\u001b[0m\u001b[0;34m)\u001b[0m\u001b[0;34m.\u001b[0m\u001b[0mreshape\u001b[0m\u001b[0;34m(\u001b[0m\u001b[0;34m-\u001b[0m\u001b[0;36m1\u001b[0m\u001b[0;34m,\u001b[0m\u001b[0;36m1\u001b[0m\u001b[0;34m)\u001b[0m\u001b[0;34m\u001b[0m\u001b[0;34m\u001b[0m\u001b[0m\n\u001b[1;32m      2\u001b[0m \u001b[0msns\u001b[0m\u001b[0;34m.\u001b[0m\u001b[0mregplot\u001b[0m\u001b[0;34m(\u001b[0m\u001b[0mx\u001b[0m\u001b[0;34m=\u001b[0m\u001b[0;34m'Days'\u001b[0m\u001b[0;34m,\u001b[0m \u001b[0my\u001b[0m\u001b[0;34m=\u001b[0m\u001b[0;34m'Open'\u001b[0m\u001b[0;34m,\u001b[0m \u001b[0mdata\u001b[0m\u001b[0;34m=\u001b[0m\u001b[0mbitcoin_30\u001b[0m\u001b[0;34m,\u001b[0m \u001b[0mfit_reg\u001b[0m\u001b[0;34m=\u001b[0m\u001b[0;32mTrue\u001b[0m\u001b[0;34m)\u001b[0m\u001b[0;34m\u001b[0m\u001b[0;34m\u001b[0m\u001b[0m\n\u001b[0;32m----> 3\u001b[0;31m \u001b[0mplt\u001b[0m\u001b[0;34m.\u001b[0m\u001b[0mplot\u001b[0m\u001b[0;34m(\u001b[0m\u001b[0my_line\u001b[0m\u001b[0;34m,\u001b[0m \u001b[0mreg\u001b[0m\u001b[0;34m.\u001b[0m\u001b[0mpredict\u001b[0m\u001b[0;34m(\u001b[0m\u001b[0mx_line\u001b[0m\u001b[0;34m)\u001b[0m\u001b[0;34m)\u001b[0m\u001b[0;34m\u001b[0m\u001b[0;34m\u001b[0m\u001b[0m\n\u001b[0m\u001b[1;32m      4\u001b[0m \u001b[0mplt\u001b[0m\u001b[0;34m.\u001b[0m\u001b[0mshow\u001b[0m\u001b[0;34m(\u001b[0m\u001b[0;34m)\u001b[0m\u001b[0;34m\u001b[0m\u001b[0;34m\u001b[0m\u001b[0m\n",
      "\u001b[0;32m/usr/local/lib/python3.8/site-packages/matplotlib/pyplot.py\u001b[0m in \u001b[0;36mplot\u001b[0;34m(scalex, scaley, data, *args, **kwargs)\u001b[0m\n\u001b[1;32m   2838\u001b[0m \u001b[0;34m@\u001b[0m\u001b[0m_copy_docstring_and_deprecators\u001b[0m\u001b[0;34m(\u001b[0m\u001b[0mAxes\u001b[0m\u001b[0;34m.\u001b[0m\u001b[0mplot\u001b[0m\u001b[0;34m)\u001b[0m\u001b[0;34m\u001b[0m\u001b[0;34m\u001b[0m\u001b[0m\n\u001b[1;32m   2839\u001b[0m \u001b[0;32mdef\u001b[0m \u001b[0mplot\u001b[0m\u001b[0;34m(\u001b[0m\u001b[0;34m*\u001b[0m\u001b[0margs\u001b[0m\u001b[0;34m,\u001b[0m \u001b[0mscalex\u001b[0m\u001b[0;34m=\u001b[0m\u001b[0;32mTrue\u001b[0m\u001b[0;34m,\u001b[0m \u001b[0mscaley\u001b[0m\u001b[0;34m=\u001b[0m\u001b[0;32mTrue\u001b[0m\u001b[0;34m,\u001b[0m \u001b[0mdata\u001b[0m\u001b[0;34m=\u001b[0m\u001b[0;32mNone\u001b[0m\u001b[0;34m,\u001b[0m \u001b[0;34m**\u001b[0m\u001b[0mkwargs\u001b[0m\u001b[0;34m)\u001b[0m\u001b[0;34m:\u001b[0m\u001b[0;34m\u001b[0m\u001b[0;34m\u001b[0m\u001b[0m\n\u001b[0;32m-> 2840\u001b[0;31m     return gca().plot(\n\u001b[0m\u001b[1;32m   2841\u001b[0m         \u001b[0;34m*\u001b[0m\u001b[0margs\u001b[0m\u001b[0;34m,\u001b[0m \u001b[0mscalex\u001b[0m\u001b[0;34m=\u001b[0m\u001b[0mscalex\u001b[0m\u001b[0;34m,\u001b[0m \u001b[0mscaley\u001b[0m\u001b[0;34m=\u001b[0m\u001b[0mscaley\u001b[0m\u001b[0;34m,\u001b[0m\u001b[0;34m\u001b[0m\u001b[0;34m\u001b[0m\u001b[0m\n\u001b[1;32m   2842\u001b[0m         **({\"data\": data} if data is not None else {}), **kwargs)\n",
      "\u001b[0;32m/usr/local/lib/python3.8/site-packages/matplotlib/axes/_axes.py\u001b[0m in \u001b[0;36mplot\u001b[0;34m(self, scalex, scaley, data, *args, **kwargs)\u001b[0m\n\u001b[1;32m   1741\u001b[0m         \"\"\"\n\u001b[1;32m   1742\u001b[0m         \u001b[0mkwargs\u001b[0m \u001b[0;34m=\u001b[0m \u001b[0mcbook\u001b[0m\u001b[0;34m.\u001b[0m\u001b[0mnormalize_kwargs\u001b[0m\u001b[0;34m(\u001b[0m\u001b[0mkwargs\u001b[0m\u001b[0;34m,\u001b[0m \u001b[0mmlines\u001b[0m\u001b[0;34m.\u001b[0m\u001b[0mLine2D\u001b[0m\u001b[0;34m)\u001b[0m\u001b[0;34m\u001b[0m\u001b[0;34m\u001b[0m\u001b[0m\n\u001b[0;32m-> 1743\u001b[0;31m         \u001b[0mlines\u001b[0m \u001b[0;34m=\u001b[0m \u001b[0;34m[\u001b[0m\u001b[0;34m*\u001b[0m\u001b[0mself\u001b[0m\u001b[0;34m.\u001b[0m\u001b[0m_get_lines\u001b[0m\u001b[0;34m(\u001b[0m\u001b[0;34m*\u001b[0m\u001b[0margs\u001b[0m\u001b[0;34m,\u001b[0m \u001b[0mdata\u001b[0m\u001b[0;34m=\u001b[0m\u001b[0mdata\u001b[0m\u001b[0;34m,\u001b[0m \u001b[0;34m**\u001b[0m\u001b[0mkwargs\u001b[0m\u001b[0;34m)\u001b[0m\u001b[0;34m]\u001b[0m\u001b[0;34m\u001b[0m\u001b[0;34m\u001b[0m\u001b[0m\n\u001b[0m\u001b[1;32m   1744\u001b[0m         \u001b[0;32mfor\u001b[0m \u001b[0mline\u001b[0m \u001b[0;32min\u001b[0m \u001b[0mlines\u001b[0m\u001b[0;34m:\u001b[0m\u001b[0;34m\u001b[0m\u001b[0;34m\u001b[0m\u001b[0m\n\u001b[1;32m   1745\u001b[0m             \u001b[0mself\u001b[0m\u001b[0;34m.\u001b[0m\u001b[0madd_line\u001b[0m\u001b[0;34m(\u001b[0m\u001b[0mline\u001b[0m\u001b[0;34m)\u001b[0m\u001b[0;34m\u001b[0m\u001b[0;34m\u001b[0m\u001b[0m\n",
      "\u001b[0;32m/usr/local/lib/python3.8/site-packages/matplotlib/axes/_base.py\u001b[0m in \u001b[0;36m__call__\u001b[0;34m(self, data, *args, **kwargs)\u001b[0m\n\u001b[1;32m    271\u001b[0m                 \u001b[0mthis\u001b[0m \u001b[0;34m+=\u001b[0m \u001b[0margs\u001b[0m\u001b[0;34m[\u001b[0m\u001b[0;36m0\u001b[0m\u001b[0;34m]\u001b[0m\u001b[0;34m,\u001b[0m\u001b[0;34m\u001b[0m\u001b[0;34m\u001b[0m\u001b[0m\n\u001b[1;32m    272\u001b[0m                 \u001b[0margs\u001b[0m \u001b[0;34m=\u001b[0m \u001b[0margs\u001b[0m\u001b[0;34m[\u001b[0m\u001b[0;36m1\u001b[0m\u001b[0;34m:\u001b[0m\u001b[0;34m]\u001b[0m\u001b[0;34m\u001b[0m\u001b[0;34m\u001b[0m\u001b[0m\n\u001b[0;32m--> 273\u001b[0;31m             \u001b[0;32myield\u001b[0m \u001b[0;32mfrom\u001b[0m \u001b[0mself\u001b[0m\u001b[0;34m.\u001b[0m\u001b[0m_plot_args\u001b[0m\u001b[0;34m(\u001b[0m\u001b[0mthis\u001b[0m\u001b[0;34m,\u001b[0m \u001b[0mkwargs\u001b[0m\u001b[0;34m)\u001b[0m\u001b[0;34m\u001b[0m\u001b[0;34m\u001b[0m\u001b[0m\n\u001b[0m\u001b[1;32m    274\u001b[0m \u001b[0;34m\u001b[0m\u001b[0m\n\u001b[1;32m    275\u001b[0m     \u001b[0;32mdef\u001b[0m \u001b[0mget_next_color\u001b[0m\u001b[0;34m(\u001b[0m\u001b[0mself\u001b[0m\u001b[0;34m)\u001b[0m\u001b[0;34m:\u001b[0m\u001b[0;34m\u001b[0m\u001b[0;34m\u001b[0m\u001b[0m\n",
      "\u001b[0;32m/usr/local/lib/python3.8/site-packages/matplotlib/axes/_base.py\u001b[0m in \u001b[0;36m_plot_args\u001b[0;34m(self, tup, kwargs)\u001b[0m\n\u001b[1;32m    397\u001b[0m \u001b[0;34m\u001b[0m\u001b[0m\n\u001b[1;32m    398\u001b[0m         \u001b[0;32mif\u001b[0m \u001b[0mx\u001b[0m\u001b[0;34m.\u001b[0m\u001b[0mshape\u001b[0m\u001b[0;34m[\u001b[0m\u001b[0;36m0\u001b[0m\u001b[0;34m]\u001b[0m \u001b[0;34m!=\u001b[0m \u001b[0my\u001b[0m\u001b[0;34m.\u001b[0m\u001b[0mshape\u001b[0m\u001b[0;34m[\u001b[0m\u001b[0;36m0\u001b[0m\u001b[0;34m]\u001b[0m\u001b[0;34m:\u001b[0m\u001b[0;34m\u001b[0m\u001b[0;34m\u001b[0m\u001b[0m\n\u001b[0;32m--> 399\u001b[0;31m             raise ValueError(f\"x and y must have same first dimension, but \"\n\u001b[0m\u001b[1;32m    400\u001b[0m                              f\"have shapes {x.shape} and {y.shape}\")\n\u001b[1;32m    401\u001b[0m         \u001b[0;32mif\u001b[0m \u001b[0mx\u001b[0m\u001b[0;34m.\u001b[0m\u001b[0mndim\u001b[0m \u001b[0;34m>\u001b[0m \u001b[0;36m2\u001b[0m \u001b[0;32mor\u001b[0m \u001b[0my\u001b[0m\u001b[0;34m.\u001b[0m\u001b[0mndim\u001b[0m \u001b[0;34m>\u001b[0m \u001b[0;36m2\u001b[0m\u001b[0;34m:\u001b[0m\u001b[0;34m\u001b[0m\u001b[0;34m\u001b[0m\u001b[0m\n",
      "\u001b[0;31mValueError\u001b[0m: x and y must have same first dimension, but have shapes (20000, 1) and (30, 1)"
     ]
    },
    {
     "data": {
      "image/png": "iVBORw0KGgoAAAANSUhEUgAAAZcAAAEKCAYAAADenhiQAAAAOXRFWHRTb2Z0d2FyZQBNYXRwbG90bGliIHZlcnNpb24zLjMuMywgaHR0cHM6Ly9tYXRwbG90bGliLm9yZy/Il7ecAAAACXBIWXMAAAsTAAALEwEAmpwYAAA3o0lEQVR4nO3de3xcV5Xg+9+qh562bD1sx7FsbMkGDwFCJ/KbG0xoQsj0xJnPMHT6FfMYnGmgOzD3foB09w2MgR6Y7tt06KGDPRBI5pI2DJDBn55AcBNy0x3HzxACjg2WFSeSYkexJFuSpVK91v3j7FJKimSVpDqqU1Xr+/n4o9Kuc0rnuCQt7b3XXltUFWOMMSafQoW+AGOMMaXHgosxxpi8s+BijDEm7yy4GGOMyTsLLsYYY/LOgosxxpi88zW4iMhiEfmeiJwSkZMiskVE/sp9/qyIPCwii7OOv1tE2kXk1yLy7qz2m11bu4h8Oqt9jYgcdu3fEZEKP+/HGGNMbvzuudwL/FhV1wPXAieBA8CbVPUtwG+AuwFE5I3A7cA1wM3A34tIWETCwFeB9wBvBH7PHQvwJeDLqroW6Ac+5PP9GGOMyYFvwUVEFgE3AN8AUNW4ql5U1Z+oatIddghodo93APtUdVRVnwfagY3uX7uqdqhqHNgH7BARAW4EvufOfwC4za/7McYYk7uIj6+9BngF+KaIXAscB+5S1ctZx3wQ+I57vAIv2GR0uTaAzgntm4BG4GJWoMo+fkpNTU26evXqmd2JMcaUuePHj19Q1SW5Hu9ncIkA1wF/oqqHReRe4NPA/w0gIn8OJIFv+3gNuK+1C9gFsGrVKo4dO+b3lzTGmJIiIi/M5Hg/51y6gC5VPew+/x5esEFE3g/8DvAH+mpxs25gZdb5za5tqvZeYLGIRCa0v4aq7lXVNlVtW7Ik58BrjDFmlnwLLqp6HugUkTe4pncCz4nIzcAngVtVdTjrlP3A7SJSKSJrgHXAEeAosM5lhlXgTfrvd0HpZ8B73fk7gR/6dT/GGGNy5+ewGMCfAN92QaED+ABesKgEDnhz8hxS1f+oqidE5LvAc3jDZR9V1RSAiHwMeBQIA/er6gn3+p8C9onI54Gf45IHjDHGFJaUW8n9trY2tTkXY4yZGRE5rqptuR5vK/SNMcbknd/DYsaUjMdP9bDniQ46+4dZWV/DnTe0sH390kJfljGBZD0XY3Lw+Kke7tl/gp7BGIuro/QMxrhn/wkeP9VT6EszJpAsuBiTgz1PdBANCzUVEUS8j9GwsOeJjkJfmjGBZMHFmBx09g9THQ2Pa6uOhunqH57iDGPKmwUXY3Kwsr6GkURqXNtIIkVzfU2BrsiYYLPgYkwO7ryhhURKGY4nUfU+JlLKnTe0FPrSjAkkCy7G5GD7+qXsvvUali6s4tJIgqULq9h96zWWLWZKXiKVJjah154LS0U2Jkfb1y+1YGLKgqpyOZ5iMJZgJJ6ivmbm+zBacDHGGANAMpVmIJZkMJYglZ5b9RYLLsYYU+aG40kGRpIMx5PTH5wjCy7GGFOGUmllKJZkIJYgkUrn/fUtuBhjTBmJJVIMxBJcHk3hZ+FiCy7GGFPi0mllKJ5kYCRBPJn/XspkLLgYY0yJiifTDMQSDMWSpOd5exULLsYYU0IyacQDI4lZrU/JF18XUYrIYhH5noicEpGTIrJFRBpE5ICInHYf692xIiJfEZF2EXlWRK7Lep2d7vjTIrIzq/16EfmlO+cr4ra2NMaYcpNMpem7HKezb4SegVhBAwv4v0L/XuDHqroeuBY4CXwa+KmqrgN+6j4HeA+wzv3bBdwHICINwGeATcBG4DOZgOSO+XDWeTf7fD/GGBMoI/EULw/EeLFvmIvDcZLp+ZlTmY5vwUVEFgE34Pa1V9W4ql4EdgAPuMMeAG5zj3cAD6rnELBYRJYD7wYOqGqfqvYDB4Cb3XN1qnpIvZSHB7NeyxhjSlYqrVwaTtDZN8y5SyNcHs3f+pR88XPOZQ3wCvBNEbkWOA7cBSxT1XPumPPAMvd4BdCZdX6Xa7tSe9ck7a8hIrvwekOsWrVq9ndkjDEFNF9pxPng57BYBLgOuE9Vfwu4zKtDYAC4Hofv/0OquldV21S1bcmSJX5/OWOMyRtVZSCWoKt/mJcujjAUSwY+sIC/waUL6FLVw+7z7+EFm5fdkBbuY2af2G5gZdb5za7tSu3Nk7QbY0zRiyfT9A6N8kLvMBcGR+dtfUq++BZcVPU80Ckib3BN7wSeA/YDmYyvncAP3eP9wB0ua2wzcMkNnz0K3CQi9W4i/ybgUffcgIhsdllid2S9ljHGFB1V5fJoknOXRujqH+bSSGLe16fki9/rXP4E+LaIVAAdwAfwAtp3ReRDwAvA+9yxjwC3AO3AsDsWVe0Tkc8BR91xu1W1zz3+CPAtoBr4kftnjDFFJZlKMxhLMhhLBibba66kGMbu8qmtrU2PHTtW6MswxhhG4t4E/XA82BP09TUVNCyoPK6qbbmeYyv0jfHB46d62PNEB539w6ysr+HOG1psozEDeHW+Bn2sRhwUFlyMybPHT/Vwz/4TRMPC4uooPYMx7tl/gt1gAaaMjSZTDIwkGRotjmyvufJ7hb4xZWfPEx1Ew0JNRQQR72M0LOx5oqPQl2bmmaoyGEvQfXGE7v4RBmOJsggsYD0XY/Kus3+YxdXRcW3V0TBd/cMFuiIz3xKpNAMjCYZGk3PeLrhYWXAxJs9W1tfQMxijpuLVH6+RRIrm+poCXpWZD5dHvbmUkXhhi0bm05GOPr73dBfRJavfPJPzLLgYk2d33tDCPftPMBxPUh0NM5JIkUgpd97QMq/XYUkF8yOV9oa+BkZKJ40440hHH/c+dprKSAg0PaMCZjbnYkyebV+/lN23XsPShVVcGkmwdGEVu2+9Zl5/sWeSCnoGY+OSCh4/1TP9ySYnsUSKHleNuO9ycKoR59O+o51EQkJ1NDzjc63nYowPtq9fWtBeQnZSAUBNRYTheJI9T3RY72UO0mllcNTbLriU04gzzg2MUFc1uzBhwcWYEmRJBfmVSSO+PDr/2wUX0vK6anovj1JbMfN9GG1YzJgStLK+hpEJOxFaUsHMqCpDo0leykojLqfAMppI8daVi+i9HOd0z+UZn289F2NKUFCSCopRYqzOV6Ls0oj7h+Mc6ujj4JkLHD/bTyy7ErOEZhQvLLgYU4K2r1/Kbry5l67+YZotW2xaw/EkAyNJhuPB29XRL6pKZ98IT565wMEzvTz30sC4DbZCAm9asYh3rl/Kx7909pczeW0LLsaUKD+TCmaS5hzklOhMGvFgLFkWE/Tg3fOJly7xZHsvT3X00tU/Mu756miYDWvq2drSyKaWRhZVR6mvqeDjM/w6FlyMMTMyk9ppQa2zVkzbBefDcDzJsbP9HDzTy6GOXgZi43tnTQsq2NraxNbWRt66cjEVkblPx1twMcbMyEzSnIOUEp1OK0NxL4242HZ1nI1XBkd5qqOXg2d6+fmL/SRS44Po2iUL2NLawLa1TaxbugBvz8X88TW4iMhZYBBIAUlVbRORtwJfA6qAJPARVT3idpO8F2/DsGHg/ar6tHudncBfuJf9vKo+4Nqv59XNwh4B7tJy+DPEmAKaSZpzEFKiyyWNWFXpeOUyB894AeXXLw+Oez4SEq5duZitrY1sbW1kWV2Vr9czHz2Xd6jqhazP/yvwn1X1RyJyi/t8O/AeYJ37twm4D9gkIg3AZ4A2QIHjIrJfVfvdMR8GDuMFl5ux3SiN8dVMaqcVqs5aKu2lEQ/GSruXkkil+UXnxbGA0jM4Ou75BZURNrc0sLW1kbbVDSyonL/BqkIMiylQ5x4vAl5yj3cAD7qexyERWSwiy/ECz4HM1sYicgC4WUQeB+pU9ZBrfxC4DQsuxvhqJmnO850SPRxPMhRLcjngOzvOxWAswZHn+3iyvZejZ/u4PKFI5vJFVWxpbWRbayNvXrGISLgwyxn9Di4K/EREFNijqnuBjwOPishf4y3i3OqOXQF0Zp3b5dqu1N41SbspY0HOTAq6XP/vZpLmPB8p0fFkmqFRL6iUYn0vgJcujvBURy9PtvfybNdFspffCPCvli9kS2sjW1ubWN1Yk/f5k9nwO7i8TVW7RWQpcEBETgHvBT6hqt8XkfcB3wB+28+LEJFdwC6AVatW+fmlTAEFNTOpGMz0/24mac5+pERnJucHY0lGE6VT3j4jrcqvzw+ODXc9f2H8CvmKSIjrV9WztbWRLa2NNNRW5PzaRzr62He0k3MDIyyvq+b2DSvZ2NKQ71vwN7ioarf72CMiDwMbgZ3AXe6Q/wl83T3uBlZmnd7s2rrxhsay2x937c2THD/ZdewF9gK0tbWVZl/ZBCozqdgUy//dSDzF4GhpphCPJlI8/eJFnjxzgafO9NI/nBj3fH1NlM0t3mT89a+rp2oWlYozJfQjIaGuKkLv5VHufew0d7Eu7wHGt+AiIrVASFUH3eObgN14cyxvxwsQNwKn3Sn7gY+JyD68Cf1LqnpORB4F/lJE6t1xNwF3q2qfiAyIyGa8Cf07gL/z635M8AUhM6lYBfn/Lp1WBmPeJlylttBxrNxK+wWOvdDP6ITkg9c11rClpZFtaxtZf1Ud4dDchrsmltDPzIPtO9pZPMEFWAY87Mb+IsBDqvpjERkC7hWRCBDDDVfhZXvdArTjpSJ/AMAFkc8BR91xuzOT+8BHeDUV+UfYZH5Zsx0gZy8o/3fZ8z4rFlfzB5tW8ZbmxSWTQqyqvNg3PDbcNVW5lW1uuCvf//+TldCvioY4PzAyxRmz51twUdUO4NpJ2v8FuH6SdgU+OsVr3Q/cP0n7MeBNc75YUxKsWOPsBeH/LjPvEw5BbUWYly6O8F9+dIq7bsz/kM18SqWVX710iYNXKreyup6ta5vYtKaBRRN6kPmUKaGfvflXLJHmqrrqvH8tW6FvSsZsMpMsu8xT6EKX6bTy1cfbASUaCqPq75CN34bjSY66ciuHJym3smRBpbeYcW0j1zbnp9xKLm7fsJJ7HzvNSCJFVTRELJEmmVZu37By+pNnyIKLKSkzyUyy7LLxCrF7ZiKV5tJIgqFYkhf7hudtyMYPrwyOuuGuCzzTeXHScitb13rrT9b6UG4lFxtbGriLdew72sn5gRGuKtZsMWOCrFgypEpRLJFiYCTB0Oirf9HP55BNPqgqZ165zJPtXrn60z1D457PlFvZ5sqtLPW53EquNrY0zEtP0IKLKVtBzpAqRam0MhRLMjg6eUmW+Ryyma3cy600sWF1PbXzWG4laMr3zk3ZC0qGVClTVS7HUwzFkowkrrw2ZT6HbGZiMJbg8PN9HGzv5cjZPoYnKbeyba23Ov5NV9cVrNxK0FhwMWUrCBlSpWo0mWIw5lUinslWwfM1ZDOdly6OjPVOJpZbAa/cyrbWJra0Ngam3ErQWHAxZavQGVKzEeTsNlWvEvFAEZZkyaXcynWrFo8FlJmUWylXFlxMWStEhtRsBTW7LZlKMxDzytvPpJdSaKOJFMdf9NKFpyq3sqXFW8w423Ir5cyCizFFIkjZbem0cjme5PJoiuF4cvoTAqLvcpzDHb08eaaX45OVW2mocenCTaxfvpCQDXcRDYeIhGf+/2DBxZgiUejstnRaGU6kuDyaZLhI9kvJLrfyZHsvJ8+9ttzKm1cscrszNrGiPphpz/MhGg5REQkRDYeIhoWKSIiKcGjW80kWXIwpEoXKbht2pe2LJaCk0sqvui+NzZ90X5yk3Mqaera1NrHR53IrQSQiY8GjMhKm0gWR0ByLYk5kwcWYIjGf2W2ZyfmLw8VRiThTbuXJ9gscfr6PwYCUWym0SChEVTS7R+L1SuYju82CizFFYj6y22KJFEOjM08hLoRpy60sXTBWXXhdgcqtzLdoOERVNEx1RZiqSKiga24suBhTRPKd3ZZOK7FkipF4iuF4KtC9FFWlvWdobLhrsnIrv7Vqsbc7Y0twyq34KRIKUVURojoapjoaDtQCTgsuxpSZTKbX0GiSWCId6HmUeDLNL7oucrDdCyivDI0vt7KwKsKmNQ1sbW1kw+qGki+3EnYbfVW6YBLk4b3SfieMMYA3yT0cTzIST3E54BPzAyOu3MqZXo5OUm7l6sVVY4sZ37xi0Zx3ZwyyzKR7VdT7GORgMpGvwUVEzgKDQApIqmqba/8TvI3BUsD/VtVPuva7gQ+59j9V1Udd+83AvUAY+LqqftG1rwH2AY3AceCPVDXu5z0ZUyziyTTD8SSX46nAr5jvduVWnjpzgWe7Lo0rtyLAv1pe5w13lXC5lXBIxrK3qqLex3xncM2n+ei5vENVL2Q+EZF3ADuAa1V1VESWuvY3ArcD1wBXA/8kIq93p30VeBfQBRwVkf2q+hzwJeDLqrpPRL6GF5jum4d7MvMoyCVPgmY0mWJ4NMXleHLSysNBkVbl1LlBnjzjlat/oXf8Wp3KSIjrX1c/tkK+1MqthCSTChwa651M7JXM5Ps+iD8jhRgW+2Pgi6o6CqCqPa59B7DPtT8vIu3ARvdcu9s2GRHZB+wQkZPAjcDvu2MeAD6LBZeSEtSSJ/k0118MsayFjUGekI8lUhx/oZ+nznjb/U5absVNxpdauZWxNSXREFU5DG/N5Ps+qD8jfgcXBX4iIgrsUdW9wOuB/0NEvgDEgP9LVY8CK4BDWed2uTaAzgntm/CGwi6qanKS402JCFLJEz/M9hdDpocyNJoMdEDpuxznUIc3GT9ZuZXVjTVjq+NLpdxKSGQsiMx2eGsm3/dB/RnxO7i8TVW73dDXARE55b5mA7AZ2AB8V0R8rXEuIruAXQCrVq3y80uZPCt0yRO/5fqLIZbw0oVjyRSjiTTpgE7IZ8qtPOmyuyYrt/KW5kVsaW1ia0tj0ZdbkdcMb3k9lLmayfd9UH9GfA0uqtrtPvaIyMN4w1xdwA/US1c5IiJpoAnoBrK3nGt2bUzR3gssFpGI671kHz/xOvYCewHa2tqC+VNpJlXqG3pd6RfDSDzF4GiCkXgq0Asapyu3UlMRZuPqBra0NrJpTQN1RVpuJTNPMnGuxA8z+b4P6s+Ib8FFRGqBkKoOusc3AbuBIeAdwM/chH0FcAHYDzwkIn+DN6G/DjiClyyyzmWGdeNN+v++qqqI/Ax4L17G2E7gh37djymMUt/Qa+IvhkzZlaYFlZy7NDLN2YWTKbdy8Ewvhzt6GZhQbmXpwkq2tHjlVt66cjHRAC3uy1VmtXsh0oBn8n0f1J8RP3suy4CHXcpgBHhIVX8sIhXA/SLyKyAO7HS9mBMi8l3gOSAJfFRVUwAi8jHgUbxU5PtV9YT7Gp8C9onI54GfA9/w8X5MARTjhl4z8aG3reaz+58jmYpTGfF+MSTTyu+2BWff+IyegRhPufmTycqtrFu6gG1rvQn5tUVYbiUkQnWFVzqlpsCr3WfyfR/UnxEJ8mIqP7S1temxY8cKfRmmTGXKrQzHvTmURCrNkY6+wO0bD+PLrTx5ppf2CeVWomHht1YuZoubkF+ysLJAVzo7IkJlxJVOqfAm3ostIM4nETmeWauYC1uhb4yP0mllNJn2JuQTKUaTry23EpR94yGr3IrbnbFncKpyK01sWF1fVOVWMhWCK10GlwUTfxXPd4YxRSKW8HomwwFfyJiRS7mVra3e7oxvKqJyK9FwyEsJdnW4inHep5hZcDFmjuLJNLFkilgiRSyeJpkOfkDJlFs52H6BX3ZPXW5l69pGXtdQHOVWKqNemXlvEj4cyCAYxJX0frHgYswsjMS9BYzD8eDvewJeuZWT5wbG0oUnK7fS9rp6trQ2srmlOMqthEPeBHxNRYSaaDjwdbiCupLeLxZcjJlGMpUmnkoTT6bH5k+KIaDkVG7FpQtftyr45VbCIfF6JZEwVRX+rTHxS1BX0vvFgosxjqo3+Z5IpUmklNFkingyXRSBJKPvcpynXO/k+Iv9r5nzyZRb2ba2iTdcFexyKyJCVdTL5soMdRWzoK6k94sFF1MQQRh7Hk2miCXSjLqSKkGu0TUVVeWFvmG3mdYFTp4bnLTcyla3/8mKxcEutxINh6hxa02qo+GimOvJVVBX0vvFgouZd4Uae06nlZHEq2tMimHifTKptPLL7kscdOXqX7oYG/d8TUWYDasb2LbWK7eysCq45VYyCxeromFqKvzL6ArCHzNBXUnvFwsuZt7N59hzLJEaSw2ebI1Jsbg8mim3coHDz/cxOFm5ldZGtrU2cm2Ay61khrpqopGxNGG/BWUiPagr6f1iwcXMOz/HnhOp9FjPJJZIBbZ6cC5eHoiNzZ8803mRZHrycitbW5toXVIb2CGkiqxV8IUY6grSRPr29UtLNphMZMHFzLt8jj2rKrFEmhG3YVYxzptkqCqnXbmVg+29tL8yebmVrWub2NLSGNhyK5FQiKoKF1B8rNGV61BXuU2kB4UFFzPvZjv2rKpjKcHewkXvY7EOdYG3APOZzotu/ckFLgzFxz1fVxVhU4s33NW2un5cQA6SqmiY2ooI1RXzUz14JkNd5TaRHhTB/E41JW26sed0WkmmlWQ6TSKpjKa8lOBESos6kGRcGiu3coGjz/czkhhfbmXF4uqx1fFvujqY5VYy5egzQ13zfY0zGeoqt4n0oLDgYgpi+/qlvP0NS0iklITrjZy/FCOeLI7yKTPV3T/CwTMXePJML7+aotyKN3/SyKoAllsJUjl6mNlQV7lNpAeFBRfju3jSW+GeWemeTKn3rwSDSEYqrZw6PzA2f/JC3+TlVra2NrK5tZH6muCVW6l0cybVbsOsIAW8mQ51ldNEelBYcDF5k057cyKjbi4kMz9SCkNZuciUWzl4ppdDk5Rbaait8MqttDZy3arFVAZsxXl2VldVJNi1umyoK/h8DS4ichYYBFJAMnujGRH5P4G/Bpao6gXx/iy6F7gFGAber6pPu2N3An/hTv28qj7g2q8HvgVUA48Ad2m5/CYrsOzgER8rmVK6PZGpTFduZU1TrTd/0toYuHIrkVBobKirEPMmc2FDXcE3Hz2Xd6jqhewGEVkJ3AS8mNX8HmCd+7cJuA/YJCINwGeANkCB4yKyX1X73TEfBg7jBZebgR/5ezvlJVNvK55KM5oov97IRKrK2d5hnjrTy5Ou3Eo2r9zK4rGAcnXAyq1EwyFqKyPUVBR/rS4b6gq2Qg2LfRn4JPDDrLYdwIOu53FIRBaLyHJgO3BAVfsAROQAcLOIPA7Uqeoh1/4gcBsWXGYtuweSqQBcjr2RiVJp5dmui2Pl6s9dGl9upbYizMY1DWxtbWTD6gbqqoNTbqVqrOijV0W4mHonprjlFFxEZAleD2F19jmq+sFpTlXgJyKiwB5V3SsiO4BuVf3FhAnCFUBn1uddru1K7V2TtE92/buAXQCrVq2a5pJLXyqtY8NZpZbmmy9euRVvd8apyq1keidBKrcSDYfGhrmqi2CPE1O6cu25/BD4Z+Cf8OZPcvU2Ve0WkaXAARE5BfwZ3pDYvFHVvcBegLa2trL4DaqqY2m+yZSSSHsfSzXVNx9eHoiN9U5+MUm5ldcvW8A2V104KOVWRITqaJiaStvK1wRLrsGlRlU/NdMXV9Vu97FHRB4G3g6sATK9lmbgaRHZCHQDK7NOb3Zt3XhDY9ntj7v25kmOLyuZDK3MXEgi5S08tAAyvWIttyIi1FaEqaksjh0YTXnKNbj8o4jcoqqP5PrCIlILhFR10D2+CditqkuzjjkLtLlssf3Ax0RkH96E/iVVPScijwJ/KSL17rSbgLtVtU9EBkRkM96E/h3A3+V6fcUqe7/2Yt2DpJCyy608daaXV4ZGxz1fVxVhc0sjW1ob2RCwcivVFWEWVEaorYhYQDGBl+tPzl3An4lIHIjjLSpWVa27wjnLgIddDyUCPKSqP77C8Y/gpSG346UifwDvi/SJyOeAo+643ZnJfeAjvJqK/CNKYDJf1St9ksqUQHG7ImZKoViPZObGyq20X+Do2eIqt1IVDbOgygsoQbouY6Yj5TaJ29bWpseOHSv0ZQCvTqxnttO17Kz86erPpAtPXm7lmqvr3P4nTaxsqA7E/ElGZTTMgooItZWFL7NiTIaIHM9eqzidXLPFBPgDYI2qfs6tU1muqkdmeZ1lZ+KiQ5tYz69UWjl5bmBsuGtiuZWqSIjrV9eztbWJzS0NgSu3kqkqXFNpk/KmNOQ6LPb3QBq4EfgcMAR8Fdjg03UVrexFh2O9kWS6qDetCqqRRIqnpym3srW1kS0twSu3EhIZ2yu+xoa8TAnKNbhsUtXrROTnAKraLyLB+tOvABJZGVo2rDU/eodGearDK1f/9IsXX1NupaWpli0BLbdSEQlRU+Gtjq+MBKsQpDH5lmtwSYhIGG9RZGZRZVn8Fs1eL5IJIvGULTqcL5lyKwfPXODJ9l5OnX9tuZVrVy4eKwgZtHIrNtxlylWuweUrwMPAMhH5AvBeXi0kWRIyuxwmUkrC9UBGk2mSaQsi8y2ZSvNs96Wx+ZMrlVvZuKaBhVXBKbcCXspwbaVleJnyllNwUdVvi8hx4J2u6TZVPenfZfkrlki5noiOG9oyhTM0muTo86+WWxkafW25FS+7K1jlVjKqol5AWVBpAcUYmFnhyhogMzQWrLGHGRhNpnnp4kihL8MA5wdiXrn69gs803WJ1IRyK29YtpAtrQ1sa22iJSDlVrJlAkpthaUMGzNRrqnI9wD/Hvg+3jKBb4rI/1TVz/t5caa0jJVbaffqd01WbuW6VfVscRleQSm3kiEiVEVD1ERtDUqpe/xUD3ue6KCzf5iVtlfMrOTac/kD4FpVjQGIyBeBZwALLuaK4sk0P+/sH5s/uTAUH/d8XVWETS3ecNeG1Q1UVwQnXRjG739iGV7l4fFTPdyz/wTRsLC4OkrPYIx79p9gN1iAmYFcg8tLQBWQmVmtpAyLRJrcXBpOcPh5r3cyWbmV5vrqsXL11wSs3ApAOCTUVERYWBUp+g21zMzteaKDaFjG6srVVEQYjifZ80SHBZcZyDW4XAJOuI26AH4bOCIiXwFQ1T/14+JM8ejqHx4rVz9VuRWvflcTqxpqCnadUymlHRrN3HT2D7N4woZv1dEwXf3DU5xhJpNrcHkU+CneZH4S+JlvV2SKQna5lYNnenlxinIr21y5lcUBK7cCrwaU2sowlRELKMazsr6GnsHYuIrYI4kUzfXB+6MoyK4YXEQkAvwl8EHgBbw/QlcB3wT+TFUTVzjdlJiRRIrjZ18tt3JxZPzbv7AqQkU4RCqdZlVDLf/mzVezsaWhQFc7ucxeKAurooGb3zHBcOcNLdyz/wTD8STV0TAjiRSJlHLnDS2FvrSiMl3P5a+AhXgFKwcBRKQO+Gv33Md9vTpTcNOWW1lSy9bWRhZVRfn+011EwyGqolH6h+Pc+9hp7mJdIAKMla43udq+fim78eZeuvqHabZssVmZLrj8DvB6zVqirqoDIvLHwCksuJQcVeX5C5fHhrsmllsJh4Rrmxd5BSFbG1m+yFvy9J++8wtv/3Y3X5H5i2/f0c6CBJextOEKW4diZm77+qUWTOZouuCiOkntE1VNici0NVHcTpODQApIqmqbiPwV8G/wNh07A3xAVS+64+8GPuSO/1NVfdS13wzci7eI8+uq+kXXvgbYBzQCx4E/UtXxua5mWslUml92X+LJacutNLFxTf2k5VbODYxQVzX+26kqGuL8wPwtWM1kedVUePvJ226NxhTOdMHlORG5Q1UfzG4UkT/E67nk4h2qeiHr8wN42xQnReRLwN3Ap0TkjcDtwDXA1cA/icjr3TlfBd4FdAFHRWS/qj4HfAn4sqruE5Gv4QWm+3K8rrI2XbmVZXWVbG1tYmtrI29pXjRtuZXlddX0Xh4d67kAxBJprqrzt5hDZdQLJJblZUywTBdcPgr8QEQ+iNczAGjDK//yb2fzBVX1J1mfHsIrggmwA9inqqPA8yLSDmx0z7WrageAiOwDdojISbz9ZX7fHfMA8FksuExp2nIrVy0cW3/S0jSzciu3b1jJvY+dZiSRoioaIpbwin7evmFlvm+DqmiYhVUR2wfFmAC7YnBR1W5gk4jciNejAHhEVX+a4+sr8BM3hLZHVfdOeP6DwHfc4xV4wSajy7UBdE5o34Q3FHZRVZOTHG+AtCqnXx7i4JkLHDzTy5lXLo97PlNuJTN/0rRg9uVWNrY0cBfr2He0k/MDI1xVV83tG1bmbb4lEgpRW+lleVVEbP7EmKDLtSryY8Bjs3j9t6lqt4gsBQ6IyClVfQJARP4cb83Mt2fxujMiIruAXQBXN+f/L+kgGSu30t7LwY5eeicpt7LFBZMNr8tvuZWNLQ15nbwPiYxVGra0YWOKy0yqIs+Y6/mgqj0i8jDeMNcTIvJ+vEy0d2YlDHQD2b/5m3m1xMxk7b3AYhGJuN5L9vETr2MvsBfgzW+9ruQ2Z7k0nODQWLmVPmKJ8enCK125lS0BLbcyUbVbh1JbEbZaXibwrMjl5HwLLiJSC4RUddA9vgnY7TK/Pgm8XVWzl3XvBx4Skb/Bm9BfBxzBW7i5zmWGdeNN+v++qqqI/AxvzmYfsBP4oV/3EzSdfa+WWznx0vhyKyHxyq1scRPyQSy3MlE0HGJBpVfPy9KGTbGwIpdT87Pnsgx42P3lGQEeUtUfu4n6SrxhMoBDqvofVfWEiHwXeA5vuOyjqpoCEJGP4ZWgCQP3q+oJ9zU+BewTkc8DPwe+4eP9FFR2uZUn2y/Q2T8+xbcqEqJtdQPb1jayaU0wy61MJCLePEqlrZY3xcmKXE7Nt+DisruunaR97RXO+QLwhUnaHwEemeJrbJzYXipGEimOne3n4JkLHOro49KEciuNtRVjw13XraovmonuzGr5BRURW4tiipoVuZyar3MuZua8civecNfxF/pJpMZPEWXKrWxtbeT1yxYSKpI5iUgo5AWUykjRBEFjpmNFLqdmwaXAci23ssUFlEy5lWIQCYWoqQyzoNL2RTGlyYpcTs2CSwEkU2me7b40tt3v+YEJ5VYqw2xa4231u2lNAwuqCvc2HenoY9/RTs4NjLA8h7Urti+KKSdW5HJqFlzmydBokiNj5VZ6uTw6fnfGZXWVbGttYkuO5Vbmw5GOPu597DSRkFBXFaH38uiklY4zmV61NuRlypAVuZycBRcfnb8Uc8NdF/jFVOVWWhrZunbm5Vbmw76jnURCMmml423rmmyjLWPMlCy45FFald+8PMhTZ3p58kwvHT6WW5kPr6l0LF6F5FeGYqwsgrUzxpjCseAyR/Fkmqdf7PcKQk5SbmVRdZTNLV65+rbX1RfVeo7lddX0DY96BSJFEPEyYVY11Bb60owxAWfBZRZyLbeytbWJN15dF/hyKxNl9kX547e38PlHTpJIpYlYJowxZgYsuOTo1XIrFzjx0kDRl1uZSESoqfDShmtcTa93v3k5ldGwZcIYY2bMgssUUmnluZcGxsrVT1Zu5frV9WxrbWJzS3GUW5lMZdQLKAsqJ98bxTJhjDGzYcEly7TlVhZUsKXFW8w4m3IrM10z4hdbLW+M8VvZB5cLQ6McmqbcyjY3f7Ju2YJZl1vJdc2In2orI9RVWZFIY4z/yjK4nHllaKzcyq+nKLeS2T/+qkVVefmaV1oz4mdwCYmwsCpCXXU0EAszjTHloeyCy/OvXObDDx4f15Ypt7KttZENaxpYUJn//5bXrBkBqqIhzg+MTHHG3FREQiysirKw0ioPG2PmX9kFl0TaSxvOlFvZuraRt6xY5PsGVcvrqum9PDrWcwGIJdJcVZffQpQLKr1eitX1MsYUUtkFl8YFFXz9jutZM8/lVm7fsJJ7HzvNSCJFVTRELJEmmVZu37By+pOnYUNfxpig8fU3kYicFZFfisgzInLMtTWIyAEROe0+1rt2EZGviEi7iDwrItdlvc5Od/xpEdmZ1X69e/12d+600aKxtpKWJQvmvY7XxpYG7rpxHY21lQzGkjTWVnLXjXObzK+IhGhaWMmqhhoaF1RaYDHGBMZ89FzeoaoXsj7/NPBTVf2iiHzaff4p4D3AOvdvE3AfsElEGoDPAG2AAsdFZL+q9rtjPgwcxtup8mbgR/NwT7OysaVhzpP3kVCI2sowtbZHijEmwArxp+4O4AH3+AHgtqz2B9VzCFgsIsuBdwMHVLXPBZQDwM3uuTpVPaSqCjyY9VolJRoOsbimgqsXV7Oq0eulWGAxxgSZ3z0XBX4iIgrsUdW9wDJVPeeePw8sc49XAJ1Z53a5tiu1d03S/hoisgvYBXB189znOOZDZqGjlbQ3xhQjv4PL21S1W0SWAgdE5FT2k6qqLvD4ygW1vQBvfut1vn+92RLx1sEsrPI23jLGmGLl628wVe12H3tE5GFgI/CyiCxX1XNuaKvHHd4NZHcrml1bN7B9Qvvjrr15kuPnbL7LtFREQiysjLKgavL6XsYYU2x8m3MRkVoRWZh5DNwE/ArYD2QyvnYCP3SP9wN3uKyxzcAlN3z2KHCTiNS7zLKbgEfdcwMistllid2R9VqzlinT0nt5dFyZliMdfXN96XEy8ygr6qtprq9hUU3UAosxpmT42XNZBjzsUn4jwEOq+mMROQp8V0Q+BLwAvM8d/whwC9AODAMfAFDVPhH5HHDUHbdbVTO/6T8CfAuoxssSm3OmmJ9lWkIi1FZGWFhlmV7GmNLmW3BR1Q7g2knae4F3TtKuwEeneK37gfsnaT8GvGnOF5vFjzItFZEQddVRFlRYKRZjTHmwWeMJ8lWmRUSorQxTV2WlWIwx5ceWdE9w+4aVJNPKSCKF4n2cSZmWymiYpoWVvK6hhqULqyywGGPKkvVcJtjY0sBdrGPf0U7OD4xwVQ7ZYpm5lLrqiK1JMcYYLLhMKtcyLdGwN5diZe2NMWY8Cy6z4KURR1lYFS30pRhjTCBZcJmB6gpvgj6Iq+cfP9XDnic66OwfZmV9DXfe0ML29UvnfKwxxsyGTehPIyRCXXWU5voali+qDmxguWf/CXoGYyyujtIzGOOe/Sd4/FTPnI41xpjZsuAyhWg4ROMCb6+UpgWVVESC+1+154kOomGhpiKCiPcxGhb2PNExp2ONMWa2gvdneAGJCLUVYRZWRamuKJ6sr87+YRZXj5//qY6G6eofntOxxhgzWxZcCGbhyJnMi6ysr6FnMEZNxatv50giRXN9zZyONcaY2QruWI/PouEQ9TUVNNfXBK5w5EznRe68oYVEShmOJ1H1PiZSyp03tMzpWGOMma2y67mERFi+qDpvw15+ZF5lz4sA1FREGI4n2fNEx6SvvX39Una787r6h2m+wnXM5FhjjJmtsgsu0bDkNbDcs/8E0bCM62Hshjn9sp7NvMj29Utz/pozOdYYY2ajbIfF8sGvzKuV9TWMJFLj2mxexBhTTCy4zEFn//C46smQn8wrmxcxxhQ734OLiIRF5Oci8o/u83eKyNMi8oyI/IuIrHXtlSLyHRFpF5HDIrI66zXudu2/FpF3Z7Xf7NraReTTft/LRH71MLavX8ruW69h6cIqLo0kWLqwit23XmNDWcaYojEfcy53ASeBOvf5fcAOVT0pIh8B/gJ4P/AhoF9V14rI7cCXgN8VkTcCtwPXAFcD/yQir3ev9VXgXUAXcFRE9qvqc/NwT4DXw7hn/wmG48mxHSvz1cOweRFjTDHzteciIs3Avwa+ntWsvBpoFgEvucc7gAfc4+8B7xRvj+QdwD5VHVXV5/G2Qd7o/rWraoeqxoF97th5Yz0MY4yZnN89l78FPgkszGr7D8AjIjICDACbXfsKoBNAVZMicglodO2Hss7vcm1kjs9q35Tn65+W9TCMMea1fOu5iMjvAD2qenzCU58AblHVZuCbwN/4dQ1Z17JLRI6JyLFXXnnF7y9njDFlz89hsW3ArSJyFm/I6kYR+d/Atap62B3zHWCre9wNrAQQkQjekFlvdrvT7Nqman8NVd2rqm2q2rZkyZI83Joxxpgr8S24qOrdqtqsqqvxJuQfw5sTWZQ1If8uvMl+gP3ATvf4vcBjqqqu/XaXTbYGWAccAY4C60RkjYhUuK+x36/7McYYk7t5XaHv5lI+DHxfRNJAP/BB9/Q3gP8hIu1AH16wQFVPiMh3geeAJPBRVU0BiMjHgEeBMHC/qp6Yz/sxxhgzOfE6B+Wjra1Njx07VujLMMaYoiIix1W1LdfjbYW+McaYvLPgYowxJu8suBhjjMk7Cy7GGGPyzoKLMcaYvLPgYowxJu8suBhjjMk7Cy7GGGPyzoKLMcaYvLPgYowxJu8suBhjjMk7Cy7GGGPyzoKLMcaYvLPgYowxJu8suBhjjMk7Cy7GGGPyzvfgIiJhEfm5iPyj+1xE5Asi8hsROSkif5rV/hURaReRZ0XkuqzX2Ckip92/nVnt14vIL905XxER8ft+jDHGTG8+tjm+CzgJ1LnP3w+sBNaralpElrr29wDr3L9NwH3AJhFpAD4DtAEKHBeR/ara7475MHAYeAS4GfjRPNyTMcaYK/C15yIizcC/Br6e1fzHwG5VTQOoao9r3wE8qJ5DwGIRWQ68Gzigqn0uoBwAbnbP1anqIfX2an4QuM3P+zHGGJMbv4fF/hb4JJDOamsFfldEjonIj0RknWtfAXRmHdfl2q7U3jVJuzHGmALzLbiIyO8APap6fMJTlUBMVduA/w7c79c1ZF3LLhfMjr3yyit+fzljjCl7fvZctgG3ishZYB9wo4j8v3g9jB+4Yx4G3uIed+PNxWQ0u7YrtTdP0v4aqrpXVdtUtW3JkiVzuSdjjDE58C24qOrdqtqsqquB24HHVPUPgf8FvMMd9nbgN+7xfuAOlzW2GbikqueAR4GbRKReROqBm4BH3XMDIrLZZYndAfzQr/sxxhiTu/nIFpvoi8C3ReQTwBDwH1z7I8AtQDswDHwAQFX7RORzwFF33G5V7XOPPwJ8C6jGyxKzTDFjjAkA8RKtykdbW5seO3as0JdhjDFFRUSOu7nynNgKfWOMMXlnwcUYY0zelV1wOXV+kN/be4jHT/VMf7AxxphZKbvgEgkJPYMx7tl/wgKMMcb4pOyCC0BNRYRoWNjzREehL8UYY0pSWQYXgOpomK7+4UJfhjHGlKSyDS4jiRTN9TWFvgxjjClJZRlchuNJEinlzhtaCn0pxhhTkgqxQr+gUmll6cIq7ryhhe3rl05/gjHGmBkru+DyhqsW8g+7Nhf6MowxpqSV5bCYMcYYf1lwMcYYk3cWXIwxxuSdBRdjjDF5Z8HFGGNM3pXdfi4iMgj8utDX4aMm4EKhL8InpXxvYPdX7Er9/t6gqgtzPbjsUpGBX89kw5tiIyLHSvX+SvnewO6v2JXD/c3keBsWM8YYk3cWXIwxxuRdOQaXvYW+AJ+V8v2V8r2B3V+xs/vLUnYT+sYYY/xXjj0XY4wxPiub4CIiN4vIr0WkXUQ+XejryTcROSsivxSRZ2aa1RFEInK/iPSIyK+y2hpE5ICInHYf6wt5jXMxxf19VkS63Xv4jIjcUshrnC0RWSkiPxOR50TkhIjc5dpL4v27wv2VyvtXJSJHROQX7v7+s2tfIyKH3e/Q74hIxRVfpxyGxUQkDPwGeBfQBRwFfk9VnyvoheWRiJwF2lS1JPLsReQGYAh4UFXf5Nr+K9Cnql90fyDUq+qnCnmdszXF/X0WGFLVvy7ktc2ViCwHlqvq0yKyEDgO3Aa8nxJ4/65wf++jNN4/AWpVdUhEosC/AHcB/wn4garuE5GvAb9Q1fumep1y6blsBNpVtUNV48A+YEeBr8lcgao+AfRNaN4BPOAeP4D3A12Upri/kqCq51T1afd4EDgJrKBE3r8r3F9JUM+Q+zTq/ilwI/A91z7t+1cuwWUF0Jn1eRcl9M3gKPATETkuIrsKfTE+Waaq59zj88CyQl6MTz4mIs+6YbOiHDbKJiKrgd8CDlOC79+E+4MSef9EJCwizwA9wAHgDHBRVZPukGl/h5ZLcCkHb1PV64D3AB91wy4lS73x3FIb070PaAXeCpwD/p+CXs0cicgC4PvAx1V1IPu5Unj/Jrm/knn/VDWlqm8FmvFGftbP9DXKJbh0AyuzPm92bSVDVbvdxx7gYbxviFLzshvvzox79xT4evJKVV92P9Rp4L9TxO+hG6v/PvBtVf2Bay6Z92+y+yul9y9DVS8CPwO2AItFJFMybNrfoeUSXI4C61y2QwVwO7C/wNeUNyJS6yYWEZFa4CbgV1c+qyjtB3a6xzuBHxbwWvIu84vX+bcU6XvoJoS/AZxU1b/Jeqok3r+p7q+E3r8lIrLYPa7GS4Q6iRdk3usOm/b9K4tsMQCXFvi3QBi4X1W/UNgryh8RacHrrYBXjPShYr8/EfkHYDtepdmXgc8A/wv4LrAKeAF4n6oW5aT4FPe3HW9IRYGzwJ1ZcxRFQ0TeBvwz8Esg7Zr/DG9eoujfvyvc3+9RGu/fW/Am7MN4HZDvqupu93tmH9AA/Bz4Q1UdnfJ1yiW4GGOMmT/lMixmjDFmHllwMcYYk3cWXIwxxuSdBRdjjDF5Z8HFGGNM3kWmP8QYM1siksJLWY0CSeBB4MtuoZ0xJcuCizH+GnFlNBCRpcBDQB3euhZjSpYNixkzT1xpnl14xQ1FRFaLyD+LyNPu31YAEXlQRG7LnCci3xaRHSJyjdtn4xlXHHFdgW7FmGnZIkpjfCQiQ6q6YELbReANwCCQVtWYCxT/oKptIvJ24BOqepuILAKeAdYBXwYOqeq3XRmjsKqOzOf9GJMrGxYzpnCiwH8TkbcCKeD1AKr6/4nI34vIEuDfAd9X1aSIPAX8uYg0423adLpQF27MdGxYzJh55OozpfAqAn8Cr67YtUAbkL1t7IPAHwIfAO4HUNWHgFuBEeAREblx/q7cmJmxnosx88T1RL4G/DdVVTfk1aWqaRHZiVcoMONbwBHgfGY7bheYOlT1KyKyCngL8Ni83oQxObLgYoy/qt2OfplU5P8BZMq0/z3wfRG5A/gxcDlzkqq+LCIn8SpBZ7wP+CMRSeDt5PiXvl+9MbNkE/rGBJCI1OCtj7lOVS8V+nqMmSmbczEmYETkt/E2Z/o7CyymWFnPxRhjTN5Zz8UYY0zeWXAxxhiTdxZcjDHG5J0FF2OMMXlnwcUYY0zeWXAxxhiTd/8/RsTaZyXVdx8AAAAASUVORK5CYII=\n",
      "text/plain": [
       "<Figure size 432x288 with 1 Axes>"
      ]
     },
     "metadata": {
      "needs_background": "light"
     },
     "output_type": "display_data"
    }
   ],
   "source": [
    "x_line = np.arange(0,30).reshape(-1,1)\n",
    "sns.regplot(x='Days', y='Open', data=bitcoin_30, fit_reg=True)\n",
    "plt.plot(y_line, reg.predict(x_line))\n",
    "plt.show()"
   ]
  },
  {
   "cell_type": "code",
   "execution_count": 159,
   "metadata": {},
   "outputs": [
    {
     "name": "stdout",
     "output_type": "stream",
     "text": [
      "[ 1.01433536 -0.46181077]\n"
     ]
    }
   ],
   "source": [
    "x = bitcoin_30[\"Days\"]\n",
    "y = bitcoin_30[\"Open\"]\n",
    "intercept = np.polyfit(x,y,1)\n",
    "\n",
    "print(slope_intercept)"
   ]
  },
  {
   "cell_type": "code",
=======
>>>>>>> 9bcb85082bee3521929bbc33123fdb6b165afb33
   "execution_count": null,
   "metadata": {},
   "outputs": [],
   "source": []
  }
 ],
 "metadata": {
  "kernelspec": {
   "display_name": "Python 3",
   "language": "python",
   "name": "python3"
  },
  "language_info": {
   "codemirror_mode": {
    "name": "ipython",
    "version": 3
   },
   "file_extension": ".py",
   "mimetype": "text/x-python",
   "name": "python",
   "nbconvert_exporter": "python",
   "pygments_lexer": "ipython3",
<<<<<<< HEAD
   "version": "3.8.8"
=======
   "version": "3.9.0"
>>>>>>> 9bcb85082bee3521929bbc33123fdb6b165afb33
  }
 },
 "nbformat": 4,
 "nbformat_minor": 5
}
