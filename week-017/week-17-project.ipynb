{
 "cells": [
  {
   "cell_type": "markdown",
   "metadata": {},
   "source": [
    "<div style=\"background: #000;\n",
    "            color: #FFF;\n",
    "            margin: 0px;\n",
    "            padding: 10px 0px 20px 0px;\n",
    "            text-align: center; \n",
    "                \">\n",
    "    <h1 >Week 17 Project</h1>\n",
    "</div>\n"
   ]
  },
  {
   "cell_type": "markdown",
   "metadata": {},
   "source": [
    "Complete the following parts:\n",
    "\n",
    "### Part 1 \n",
    "In the 20×20 grid below, four numbers along a diagonal line have been marked in red.\n",
    "\n",
    "<p class=\"monospace center\">\n",
    "08 02 22 97 38 15 00 40 00 75 04 05 07 78 52 12 50 77 91 08<br />\n",
    "49 49 99 40 17 81 18 57 60 87 17 40 98 43 69 48 04 56 62 00<br />\n",
    "81 49 31 73 55 79 14 29 93 71 40 67 53 88 30 03 49 13 36 65<br />\n",
    "52 70 95 23 04 60 11 42 69 24 68 56 01 32 56 71 37 02 36 91<br />\n",
    "22 31 16 71 51 67 63 89 41 92 36 54 22 40 40 28 66 33 13 80<br />\n",
    "24 47 32 60 99 03 45 02 44 75 33 53 78 36 84 20 35 17 12 50<br />\n",
    "32 98 81 28 64 23 67 10 <span style=\"color:red;\"><b>26</b></span> 38 40 67 59 54 70 66 18 38 64 70<br />\n",
    "67 26 20 68 02 62 12 20 95 <span  style=\"color:red;\"><b>63</b></span> 94 39 63 08 40 91 66 49 94 21<br />\n",
    "24 55 58 05 66 73 99 26 97 17 <span  style=\"color:red;\"><b>78</b></span> 78 96 83 14 88 34 89 63 72<br />\n",
    "21 36 23 09 75 00 76 44 20 45 35 <span  style=\"color:red;\"><b>14</b></span> 00 61 33 97 34 31 33 95<br />\n",
    "78 17 53 28 22 75 31 67 15 94 03 80 04 62 16 14 09 53 56 92<br />\n",
    "16 39 05 42 96 35 31 47 55 58 88 24 00 17 54 24 36 29 85 57<br />\n",
    "86 56 00 48 35 71 89 07 05 44 44 37 44 60 21 58 51 54 17 58<br />\n",
    "19 80 81 68 05 94 47 69 28 73 92 13 86 52 17 77 04 89 55 40<br />\n",
    "04 52 08 83 97 35 99 16 07 97 57 32 16 26 26 79 33 27 98 66<br />\n",
    "88 36 68 87 57 62 20 72 03 46 33 67 46 55 12 32 63 93 53 69<br />\n",
    "04 42 16 73 38 25 39 11 24 94 72 18 08 46 29 32 40 62 76 36<br />\n",
    "20 69 36 41 72 30 23 88 34 62 99 69 82 67 59 85 74 04 36 16<br />\n",
    "20 73 35 29 78 31 90 01 74 31 49 71 48 86 81 16 23 57 05 54<br />\n",
    "01 70 54 71 83 51 54 69 16 92 33 48 61 43 52 01 89 19 67 48<br /></p>\n",
    "<p>The product of these numbers is 26 × 63 × 78 × 14 = 1788696.</p>\n",
    "<p>What is the greatest product of four adjacent numbers in the same direction (up, down, left, right, or diagonally) in the 20×20 grid?</p>\n",
    "\n",
    "Use numpy or pandas as needed."
   ]
  },
  {
<<<<<<< HEAD
   "cell_type": "raw",
   "metadata": {},
   "source": [
    "Take this data, find an operation and find greatest product\n",
    "Go through every combination and get product of all combinations, you're gonna try to find the max\n",
    "four numbers left, right, up, down, doing that for all the nums\n",
    "don't have to write a function for it or loop, does not have \n",
    "use jupyter number as a scrap book\n",
    "ways in numpy that are not loops\n",
    "take advantage of 00, zeros\n",
    "answer will not help without showing the work\n",
    "one way, reshape of small grid of 4 by 4\n",
    "\n",
    "can do any python code, basically use as a scrap notebook, don't have to have that repeatable,\n",
    "just looking for the product\n",
    "exercise in using numpy\n",
    "\n",
    "one of the first project Euler questions, its asking for the greatest product\n",
    "bunch of zeros in it \n",
    "taking that array in numpy, canceling 0s and all nums affected by zero\n",
    "\n",
    "trouble converting the grid to an array, \n",
    "\n",
    "WHat would give high product? Biggest nums\n",
    "nums closer to 100, how -> \n",
    "\n",
    "hint -> iterate through then split it \n",
    "\n",
    "Beginning of the end of clean data sets"
   ]
  },
  {
   "cell_type": "code",
   "execution_count": 1,
   "metadata": {},
   "outputs": [
    {
     "name": "stdout",
     "output_type": "stream",
     "text": [
      "\n",
      "08 02 22 97 38 15 00 40 00 75 04 05 07 78 52 12 50 77 91 08\n",
      "49 49 99 40 17 81 18 57 60 87 17 40 98 43 69 48 04 56 62 00\n",
      "81 49 31 73 55 79 14 29 93 71 40 67 53 88 30 03 49 13 36 65\n",
      "52 70 95 23 04 60 11 42 69 24 68 56 01 32 56 71 37 02 36 91\n",
      "22 31 16 71 51 67 63 89 41 92 36 54 22 40 40 28 66 33 13 80\n",
      "24 47 32 60 99 03 45 02 44 75 33 53 78 36 84 20 35 17 12 50\n",
      "32 98 81 28 64 23 67 10 26 38 40 67 59 54 70 66 18 38 64 70\n",
      "67 26 20 68 02 62 12 20 95 63 94 39 63 08 40 91 66 49 94 21\n",
      "24 55 58 05 66 73 99 26 97 17 78 78 96 83 14 88 34 89 63 72\n",
      "21 36 23 09 75 00 76 44 20 45 35 14 00 61 33 97 34 31 33 95\n",
      "78 17 53 28 22 75 31 67 15 94 03 80 04 62 16 14 09 53 56 92\n",
      "16 39 05 42 96 35 31 47 55 58 88 24 00 17 54 24 36 29 85 57\n",
      "86 56 00 48 35 71 89 07 05 44 44 37 44 60 21 58 51 54 17 58\n",
      "19 80 81 68 05 94 47 69 28 73 92 13 86 52 17 77 04 89 55 40\n",
      "04 52 08 83 97 35 99 16 07 97 57 32 16 26 26 79 33 27 98 66\n",
      "88 36 68 87 57 62 20 72 03 46 33 67 46 55 12 32 63 93 53 69\n",
      "04 42 16 73 38 25 39 11 24 94 72 18 08 46 29 32 40 62 76 36\n",
      "20 69 36 41 72 30 23 88 34 62 99 69 82 67 59 85 74 04 36 16\n",
      "20 73 35 29 78 31 90 01 74 31 49 71 48 86 81 16 23 57 05 54\n",
      "01 70 54 71 83 51 54 69 16 92 33 48 61 43 52 01 89 19 67 48\n",
      "\n"
     ]
    }
   ],
=======
   "cell_type": "code",
   "execution_count": 83,
   "metadata": {},
   "outputs": [],
>>>>>>> 9bcb85082bee3521929bbc33123fdb6b165afb33
   "source": [
    "import numpy as np\n",
    "import pandas as pd\n",
    "\n",
    "grid = \\\n",
    "\"\"\"\n",
    "08 02 22 97 38 15 00 40 00 75 04 05 07 78 52 12 50 77 91 08\n",
    "49 49 99 40 17 81 18 57 60 87 17 40 98 43 69 48 04 56 62 00\n",
    "81 49 31 73 55 79 14 29 93 71 40 67 53 88 30 03 49 13 36 65\n",
    "52 70 95 23 04 60 11 42 69 24 68 56 01 32 56 71 37 02 36 91\n",
    "22 31 16 71 51 67 63 89 41 92 36 54 22 40 40 28 66 33 13 80\n",
    "24 47 32 60 99 03 45 02 44 75 33 53 78 36 84 20 35 17 12 50\n",
    "32 98 81 28 64 23 67 10 26 38 40 67 59 54 70 66 18 38 64 70\n",
    "67 26 20 68 02 62 12 20 95 63 94 39 63 08 40 91 66 49 94 21\n",
    "24 55 58 05 66 73 99 26 97 17 78 78 96 83 14 88 34 89 63 72\n",
    "21 36 23 09 75 00 76 44 20 45 35 14 00 61 33 97 34 31 33 95\n",
    "78 17 53 28 22 75 31 67 15 94 03 80 04 62 16 14 09 53 56 92\n",
    "16 39 05 42 96 35 31 47 55 58 88 24 00 17 54 24 36 29 85 57\n",
    "86 56 00 48 35 71 89 07 05 44 44 37 44 60 21 58 51 54 17 58\n",
    "19 80 81 68 05 94 47 69 28 73 92 13 86 52 17 77 04 89 55 40\n",
    "04 52 08 83 97 35 99 16 07 97 57 32 16 26 26 79 33 27 98 66\n",
    "88 36 68 87 57 62 20 72 03 46 33 67 46 55 12 32 63 93 53 69\n",
    "04 42 16 73 38 25 39 11 24 94 72 18 08 46 29 32 40 62 76 36\n",
    "20 69 36 41 72 30 23 88 34 62 99 69 82 67 59 85 74 04 36 16\n",
    "20 73 35 29 78 31 90 01 74 31 49 71 48 86 81 16 23 57 05 54\n",
    "01 70 54 71 83 51 54 69 16 92 33 48 61 43 52 01 89 19 67 48\n",
<<<<<<< HEAD
    "\"\"\"\n",
    "print(grid)"
   ]
  },
  {
   "cell_type": "code",
   "execution_count": 2,
   "metadata": {},
   "outputs": [
    {
     "data": {
      "text/plain": [
       "array([[ 8,  2, 22, 97, 38, 15,  0, 40,  0, 75,  4,  5,  7, 78, 52, 12,\n",
       "        50, 77, 91,  8],\n",
       "       [49, 49, 99, 40, 17, 81, 18, 57, 60, 87, 17, 40, 98, 43, 69, 48,\n",
       "         4, 56, 62,  0],\n",
       "       [81, 49, 31, 73, 55, 79, 14, 29, 93, 71, 40, 67, 53, 88, 30,  3,\n",
       "        49, 13, 36, 65],\n",
       "       [52, 70, 95, 23,  4, 60, 11, 42, 69, 24, 68, 56,  1, 32, 56, 71,\n",
       "        37,  2, 36, 91],\n",
       "       [22, 31, 16, 71, 51, 67, 63, 89, 41, 92, 36, 54, 22, 40, 40, 28,\n",
       "        66, 33, 13, 80],\n",
       "       [24, 47, 32, 60, 99,  3, 45,  2, 44, 75, 33, 53, 78, 36, 84, 20,\n",
       "        35, 17, 12, 50],\n",
       "       [32, 98, 81, 28, 64, 23, 67, 10, 26, 38, 40, 67, 59, 54, 70, 66,\n",
       "        18, 38, 64, 70],\n",
       "       [67, 26, 20, 68,  2, 62, 12, 20, 95, 63, 94, 39, 63,  8, 40, 91,\n",
       "        66, 49, 94, 21],\n",
       "       [24, 55, 58,  5, 66, 73, 99, 26, 97, 17, 78, 78, 96, 83, 14, 88,\n",
       "        34, 89, 63, 72],\n",
       "       [21, 36, 23,  9, 75,  0, 76, 44, 20, 45, 35, 14,  0, 61, 33, 97,\n",
       "        34, 31, 33, 95],\n",
       "       [78, 17, 53, 28, 22, 75, 31, 67, 15, 94,  3, 80,  4, 62, 16, 14,\n",
       "         9, 53, 56, 92],\n",
       "       [16, 39,  5, 42, 96, 35, 31, 47, 55, 58, 88, 24,  0, 17, 54, 24,\n",
       "        36, 29, 85, 57],\n",
       "       [86, 56,  0, 48, 35, 71, 89,  7,  5, 44, 44, 37, 44, 60, 21, 58,\n",
       "        51, 54, 17, 58],\n",
       "       [19, 80, 81, 68,  5, 94, 47, 69, 28, 73, 92, 13, 86, 52, 17, 77,\n",
       "         4, 89, 55, 40],\n",
       "       [ 4, 52,  8, 83, 97, 35, 99, 16,  7, 97, 57, 32, 16, 26, 26, 79,\n",
       "        33, 27, 98, 66],\n",
       "       [88, 36, 68, 87, 57, 62, 20, 72,  3, 46, 33, 67, 46, 55, 12, 32,\n",
       "        63, 93, 53, 69],\n",
       "       [ 4, 42, 16, 73, 38, 25, 39, 11, 24, 94, 72, 18,  8, 46, 29, 32,\n",
       "        40, 62, 76, 36],\n",
       "       [20, 69, 36, 41, 72, 30, 23, 88, 34, 62, 99, 69, 82, 67, 59, 85,\n",
       "        74,  4, 36, 16],\n",
       "       [20, 73, 35, 29, 78, 31, 90,  1, 74, 31, 49, 71, 48, 86, 81, 16,\n",
       "        23, 57,  5, 54],\n",
       "       [ 1, 70, 54, 71, 83, 51, 54, 69, 16, 92, 33, 48, 61, 43, 52,  1,\n",
       "        89, 19, 67, 48]])"
      ]
     },
     "execution_count": 2,
     "metadata": {},
     "output_type": "execute_result"
    }
   ],
   "source": [
    "grid = [int(i) for i in grid.split()]\n",
    "df = np.array(grid).reshape(20,20)\n",
    "df"
   ]
  },
  {
   "cell_type": "code",
   "execution_count": null,
   "metadata": {},
   "outputs": [],
   "source": []
  },
  {
   "cell_type": "code",
   "execution_count": 3,
   "metadata": {},
   "outputs": [
    {
     "ename": "SyntaxError",
     "evalue": "invalid syntax (<ipython-input-3-1e814b9f310e>, line 20)",
     "output_type": "error",
     "traceback": [
      "\u001b[0;36m  File \u001b[0;32m\"<ipython-input-3-1e814b9f310e>\"\u001b[0;36m, line \u001b[0;32m20\u001b[0m\n\u001b[0;31m    produts.append(df[i]*df[i+19]*df[i+]*df[i+60])\u001b[0m\n\u001b[0m                                       ^\u001b[0m\n\u001b[0;31mSyntaxError\u001b[0m\u001b[0;31m:\u001b[0m invalid syntax\n"
     ]
    }
   ],
   "source": [
    "# grid = [int(i) for i in grid.split()]\n",
    "products = []\n",
    "\n",
    "for i in range(400):\n",
    "    if i%20 < 17:\n",
    "       \n",
    "        \n",
    "        print([i])\n",
    "        print([i+1])\n",
    "        print([i+2])\n",
    "        print([i+3])\n",
    "        produts.append(df[i]*df[i+1]*df[i+2]*df[i+3])\n",
    "        print(df[i])\n",
    "        print(df[i+1])\n",
    "        print(df[i+2])\n",
    "        print(df[i+3])\n",
    "        print(produts)\n",
    "        \n",
    "    if i < 340:\n",
    "        produts.append(df[i]*df[i+19]*df[i+]*df[i+60])\n",
    "        print(df[i])\n",
    "        print(df[i+19])\n",
    "        print(df[i+39])\n",
    "        print(df[i+59])\n",
    "        \n",
    "    if i%20 < 17 and i < 340:\n",
    "        produts.append(df[i]*df[i+21]*df[i+42]*df[i+63])\n",
    "    if i%20 > 3 and i < 340:\n",
    "        produts.append(df[i]*df[i+19]*df[i+38]*df[i+57])\n",
    "print(max(produts))\n",
    "\n"
   ]
  },
  {
   "cell_type": "code",
   "execution_count": 4,
   "metadata": {},
   "outputs": [
    {
     "name": "stdout",
     "output_type": "stream",
     "text": [
      "[[ 8  2 22 97 38 15  0 40  0 75  4  5  7 78 52 12 50 77 91  8]\n",
      " [49 49 99 40 17 81 18 57 60 87 17 40 98 43 69 48  4 56 62  0]\n",
      " [81 49 31 73 55 79 14 29 93 71 40 67 53 88 30  3 49 13 36 65]\n",
      " [52 70 95 23  4 60 11 42 69 24 68 56  1 32 56 71 37  2 36 91]\n",
      " [22 31 16 71 51 67 63 89 41 92 36 54 22 40 40 28 66 33 13 80]\n",
      " [24 47 32 60 99  3 45  2 44 75 33 53 78 36 84 20 35 17 12 50]\n",
      " [32 98 81 28 64 23 67 10 26 38 40 67 59 54 70 66 18 38 64 70]\n",
      " [67 26 20 68  2 62 12 20 95 63 94 39 63  8 40 91 66 49 94 21]\n",
      " [24 55 58  5 66 73 99 26 97 17 78 78 96 83 14 88 34 89 63 72]\n",
      " [21 36 23  9 75  0 76 44 20 45 35 14  0 61 33 97 34 31 33 95]\n",
      " [78 17 53 28 22 75 31 67 15 94  3 80  4 62 16 14  9 53 56 92]\n",
      " [16 39  5 42 96 35 31 47 55 58 88 24  0 17 54 24 36 29 85 57]\n",
      " [86 56  0 48 35 71 89  7  5 44 44 37 44 60 21 58 51 54 17 58]\n",
      " [19 80 81 68  5 94 47 69 28 73 92 13 86 52 17 77  4 89 55 40]\n",
      " [ 4 52  8 83 97 35 99 16  7 97 57 32 16 26 26 79 33 27 98 66]\n",
      " [88 36 68 87 57 62 20 72  3 46 33 67 46 55 12 32 63 93 53 69]\n",
      " [ 4 42 16 73 38 25 39 11 24 94 72 18  8 46 29 32 40 62 76 36]\n",
      " [20 69 36 41 72 30 23 88 34 62 99 69 82 67 59 85 74  4 36 16]\n",
      " [20 73 35 29 78 31 90  1 74 31 49 71 48 86 81 16 23 57  5 54]\n",
      " [ 1 70 54 71 83 51 54 69 16 92 33 48 61 43 52  1 89 19 67 48]]\n"
     ]
    }
   ],
   "source": [
    "print(df)"
   ]
  },
  {
   "cell_type": "code",
   "execution_count": 7,
   "metadata": {},
   "outputs": [
    {
     "data": {
      "text/plain": [
       "(20, 20)"
      ]
     },
     "execution_count": 7,
     "metadata": {},
     "output_type": "execute_result"
    }
   ],
   "source": [
    "df.shape"
   ]
  },
  {
   "cell_type": "code",
   "execution_count": 8,
   "metadata": {},
   "outputs": [
    {
     "name": "stdout",
     "output_type": "stream",
     "text": [
      "[ 8  2 22 97 38 15  0 40  0 75  4  5  7 78 52 12 50 77 91  8]\n",
      "[49 49 99 40 17 81 18 57 60 87 17 40 98 43 69 48  4 56 62  0]\n",
      "[81 49 31 73 55 79 14 29 93 71 40 67 53 88 30  3 49 13 36 65]\n",
      "[52 70 95 23  4 60 11 42 69 24 68 56  1 32 56 71 37  2 36 91]\n",
      "[22 31 16 71 51 67 63 89 41 92 36 54 22 40 40 28 66 33 13 80]\n",
      "[24 47 32 60 99  3 45  2 44 75 33 53 78 36 84 20 35 17 12 50]\n",
      "[32 98 81 28 64 23 67 10 26 38 40 67 59 54 70 66 18 38 64 70]\n",
      "[67 26 20 68  2 62 12 20 95 63 94 39 63  8 40 91 66 49 94 21]\n",
      "[24 55 58  5 66 73 99 26 97 17 78 78 96 83 14 88 34 89 63 72]\n",
      "[21 36 23  9 75  0 76 44 20 45 35 14  0 61 33 97 34 31 33 95]\n",
      "[78 17 53 28 22 75 31 67 15 94  3 80  4 62 16 14  9 53 56 92]\n",
      "[16 39  5 42 96 35 31 47 55 58 88 24  0 17 54 24 36 29 85 57]\n",
      "[86 56  0 48 35 71 89  7  5 44 44 37 44 60 21 58 51 54 17 58]\n",
      "[19 80 81 68  5 94 47 69 28 73 92 13 86 52 17 77  4 89 55 40]\n",
      "[ 4 52  8 83 97 35 99 16  7 97 57 32 16 26 26 79 33 27 98 66]\n",
      "[88 36 68 87 57 62 20 72  3 46 33 67 46 55 12 32 63 93 53 69]\n",
      "[ 4 42 16 73 38 25 39 11 24 94 72 18  8 46 29 32 40 62 76 36]\n",
      "[20 69 36 41 72 30 23 88 34 62 99 69 82 67 59 85 74  4 36 16]\n",
      "[20 73 35 29 78 31 90  1 74 31 49 71 48 86 81 16 23 57  5 54]\n",
      "[ 1 70 54 71 83 51 54 69 16 92 33 48 61 43 52  1 89 19 67 48]\n",
      "48477312\n"
     ]
    }
   ],
   "source": [
    "# find max in the row\n",
    "\n",
    "max_row = 0\n",
    "for i in df:\n",
    "    print(i)\n",
    "    for k in range(1,18):\n",
    "        temp = np.multiply.reduce(i[k:k+4])\n",
    "        if temp > max_row:\n",
    "            max_row = temp\n",
    "print(max_row)"
   ]
  },
  {
   "cell_type": "code",
   "execution_count": 9,
   "metadata": {},
   "outputs": [
    {
     "name": "stdout",
     "output_type": "stream",
     "text": [
      "[ 1 70 54 71 83 51 54 69 16 92 33 48 61 43 52  1 89 19 67 48]\n",
      "[ 8 49 81 52 22 24 32 67 24 21 78 16 86 19  4 88  4 20 20  1]\n",
      "[ 2 49 49 70 31 47 98 26 55 36 17 39 56 80 52 36 42 69 73 70]\n",
      "[22 99 31 95 16 32 81 20 58 23 53  5  0 81  8 68 16 36 35 54]\n",
      "[97 40 73 23 71 60 28 68  5  9 28 42 48 68 83 87 73 41 29 71]\n",
      "[38 17 55  4 51 99 64  2 66 75 22 96 35  5 97 57 38 72 78 83]\n",
      "[15 81 79 60 67  3 23 62 73  0 75 35 71 94 35 62 25 30 31 51]\n",
      "[ 0 18 14 11 63 45 67 12 99 76 31 31 89 47 99 20 39 23 90 54]\n",
      "[40 57 29 42 89  2 10 20 26 44 67 47  7 69 16 72 11 88  1 69]\n",
      "[ 0 60 93 69 41 44 26 95 97 20 15 55  5 28  7  3 24 34 74 16]\n",
      "[75 87 71 24 92 75 38 63 17 45 94 58 44 73 97 46 94 62 31 92]\n",
      "[ 4 17 40 68 36 33 40 94 78 35  3 88 44 92 57 33 72 99 49 33]\n",
      "[ 5 40 67 56 54 53 67 39 78 14 80 24 37 13 32 67 18 69 71 48]\n",
      "[ 7 98 53  1 22 78 59 63 96  0  4  0 44 86 16 46  8 82 48 61]\n",
      "[78 43 88 32 40 36 54  8 83 61 62 17 60 52 26 55 46 67 86 43]\n",
      "[52 69 30 56 40 84 70 40 14 33 16 54 21 17 26 12 29 59 81 52]\n",
      "[12 48  3 71 28 20 66 91 88 97 14 24 58 77 79 32 32 85 16  1]\n",
      "[50  4 49 37 66 35 18 66 34 34  9 36 51  4 33 63 40 74 23 89]\n",
      "[77 56 13  2 33 17 38 49 89 31 53 29 54 89 27 93 62  4 57 19]\n",
      "[91 62 36 36 13 12 64 94 63 33 56 85 17 55 98 53 76 36  5 67]\n",
      "51267216\n"
     ]
    }
   ],
   "source": [
    "# find max in col\n",
    "\n",
    "max_col = 0\n",
    "for j in range(20):\n",
    "    print(i)\n",
    "    i = df[::,j]\n",
    "    for k in range(1,18):\n",
    "        temp1 = np.multiply.reduce(i[k:k+4])\n",
    "        if temp1 > max_row:\n",
    "            max_row = temp1\n",
    "print(max_row)\n"
   ]
  },
  {
   "cell_type": "code",
   "execution_count": 13,
   "metadata": {},
   "outputs": [
    {
     "name": "stdout",
     "output_type": "stream",
     "text": [
      "70600674\n"
     ]
    }
   ],
   "source": [
    "# left diagonal\n",
    "\n",
    "max_left_diagonal = 0\n",
    "for x in range(0,17):\n",
    "    #print(x)\n",
    "    for y in range(3,20):\n",
    "        #print(y)\n",
    "        temp2 = df[x,y]*df[x+1,y-1]*df[x+2,y-2]*df[x+3,y-3]\n",
    "        #print(df[x,y])\n",
    "        #print(df[x+1,y-1])\n",
    "        #print(df[x+2,y-2])\n",
    "        #print(df[x+3,y-3])\n",
    "        #print(temp2)\n",
    "        if temp2 > max_left_diagonal:\n",
    "            max_left_diagonal = temp2\n",
    "print(max_left_diagonal)"
   ]
  },
  {
   "cell_type": "code",
   "execution_count": 14,
   "metadata": {},
   "outputs": [
    {
     "name": "stdout",
     "output_type": "stream",
     "text": [
      "40304286\n"
     ]
    }
   ],
   "source": [
    "# right diagonal\n",
    "\n",
    "max_right_diagonal = 0\n",
    "for x in range(0,17):\n",
    "    for y in range(0,17):\n",
    "        temp3 = df[x,y]*df[x+1,y+1]*df[x+2,y+2]*df[x+3,y+3]\n",
    "        #print(df[x,y])\n",
    "        #print(df[x+1,y+1])\n",
    "        #print(df[x+2,y+2])\n",
    "        #print(df[x+3,y+3])\n",
    "        #print(temp3)\n",
    "        if temp3 > max_right_diagonal:\n",
    "            max_right_diagonal = temp3\n",
    "print(max_right_diagonal)"
   ]
  },
  {
   "cell_type": "code",
   "execution_count": 15,
   "metadata": {},
   "outputs": [
    {
     "name": "stdout",
     "output_type": "stream",
     "text": [
      "The greatest product of four adjacent numbers in the same directionin the 20×20 grid is 70600674\n"
     ]
    }
   ],
   "source": [
    "print(f\"The greatest product of four adjacent numbers in the same directionin the 20×20 grid is {max_left_diagonal}\")"
=======
    "\"\"\""
>>>>>>> 9bcb85082bee3521929bbc33123fdb6b165afb33
   ]
  },
  {
   "cell_type": "markdown",
   "metadata": {},
   "source": [
    "## Part 2\n",
    "\n",
    "For this part we will use the dataset `covid_19_data.csv` located in the `../datasets` folder.\n",
    "\n"
   ]
  },
  {
<<<<<<< HEAD
   "cell_type": "markdown",
   "metadata": {},
   "source": [
    "Whats wrong with this dataset?\n",
    "\n",
    "Missing values\n",
    "\n",
    "problem if organizing by state, \n",
    "endswith('CA')\n"
   ]
  },
  {
   "cell_type": "code",
   "execution_count": null,
   "metadata": {},
   "outputs": [],
   "source": []
  },
  {
=======
>>>>>>> 9bcb85082bee3521929bbc33123fdb6b165afb33
   "cell_type": "code",
   "execution_count": null,
   "metadata": {},
   "outputs": [],
<<<<<<< HEAD
   "source": []
  },
  {
   "cell_type": "code",
   "execution_count": 67,
   "metadata": {},
   "outputs": [
    {
     "data": {
      "text/html": [
       "<div>\n",
       "<style scoped>\n",
       "    .dataframe tbody tr th:only-of-type {\n",
       "        vertical-align: middle;\n",
       "    }\n",
       "\n",
       "    .dataframe tbody tr th {\n",
       "        vertical-align: top;\n",
       "    }\n",
       "\n",
       "    .dataframe thead th {\n",
       "        text-align: right;\n",
       "    }\n",
       "</style>\n",
       "<table border=\"1\" class=\"dataframe\">\n",
       "  <thead>\n",
       "    <tr style=\"text-align: right;\">\n",
       "      <th></th>\n",
       "      <th>SNo</th>\n",
       "      <th>ObservationDate</th>\n",
       "      <th>Province/State</th>\n",
       "      <th>Country/Region</th>\n",
       "      <th>Last Update</th>\n",
       "      <th>Confirmed</th>\n",
       "      <th>Deaths</th>\n",
       "      <th>Recovered</th>\n",
       "    </tr>\n",
       "  </thead>\n",
       "  <tbody>\n",
       "    <tr>\n",
       "      <th>0</th>\n",
       "      <td>1</td>\n",
       "      <td>01/22/2020</td>\n",
       "      <td>Anhui</td>\n",
       "      <td>Mainland China</td>\n",
       "      <td>1/22/2020 17:00</td>\n",
       "      <td>1.0</td>\n",
       "      <td>0.0</td>\n",
       "      <td>0.0</td>\n",
       "    </tr>\n",
       "    <tr>\n",
       "      <th>1</th>\n",
       "      <td>2</td>\n",
       "      <td>01/22/2020</td>\n",
       "      <td>Beijing</td>\n",
       "      <td>Mainland China</td>\n",
       "      <td>1/22/2020 17:00</td>\n",
       "      <td>14.0</td>\n",
       "      <td>0.0</td>\n",
       "      <td>0.0</td>\n",
       "    </tr>\n",
       "    <tr>\n",
       "      <th>2</th>\n",
       "      <td>3</td>\n",
       "      <td>01/22/2020</td>\n",
       "      <td>Chongqing</td>\n",
       "      <td>Mainland China</td>\n",
       "      <td>1/22/2020 17:00</td>\n",
       "      <td>6.0</td>\n",
       "      <td>0.0</td>\n",
       "      <td>0.0</td>\n",
       "    </tr>\n",
       "    <tr>\n",
       "      <th>3</th>\n",
       "      <td>4</td>\n",
       "      <td>01/22/2020</td>\n",
       "      <td>Fujian</td>\n",
       "      <td>Mainland China</td>\n",
       "      <td>1/22/2020 17:00</td>\n",
       "      <td>1.0</td>\n",
       "      <td>0.0</td>\n",
       "      <td>0.0</td>\n",
       "    </tr>\n",
       "    <tr>\n",
       "      <th>4</th>\n",
       "      <td>5</td>\n",
       "      <td>01/22/2020</td>\n",
       "      <td>Gansu</td>\n",
       "      <td>Mainland China</td>\n",
       "      <td>1/22/2020 17:00</td>\n",
       "      <td>0.0</td>\n",
       "      <td>0.0</td>\n",
       "      <td>0.0</td>\n",
       "    </tr>\n",
       "  </tbody>\n",
       "</table>\n",
       "</div>"
      ],
      "text/plain": [
       "   SNo ObservationDate Province/State  Country/Region      Last Update  \\\n",
       "0    1      01/22/2020          Anhui  Mainland China  1/22/2020 17:00   \n",
       "1    2      01/22/2020        Beijing  Mainland China  1/22/2020 17:00   \n",
       "2    3      01/22/2020      Chongqing  Mainland China  1/22/2020 17:00   \n",
       "3    4      01/22/2020         Fujian  Mainland China  1/22/2020 17:00   \n",
       "4    5      01/22/2020          Gansu  Mainland China  1/22/2020 17:00   \n",
       "\n",
       "   Confirmed  Deaths  Recovered  \n",
       "0        1.0     0.0        0.0  \n",
       "1       14.0     0.0        0.0  \n",
       "2        6.0     0.0        0.0  \n",
       "3        1.0     0.0        0.0  \n",
       "4        0.0     0.0        0.0  "
      ]
     },
     "execution_count": 67,
     "metadata": {},
     "output_type": "execute_result"
    }
   ],
=======
>>>>>>> 9bcb85082bee3521929bbc33123fdb6b165afb33
   "source": [
    "df = pd.read_csv('../datasets/covid_19_data.csv')\n",
    "df.head()"
   ]
  },
  {
   "cell_type": "markdown",
   "metadata": {},
   "source": [
    "**1. What is the shape of this dataframe?**"
   ]
  },
  {
   "cell_type": "code",
<<<<<<< HEAD
   "execution_count": 68,
   "metadata": {},
   "outputs": [
    {
     "data": {
      "text/plain": [
       "(4247, 8)"
      ]
     },
     "execution_count": 68,
     "metadata": {},
     "output_type": "execute_result"
    }
   ],
   "source": [
    "df.shape"
   ]
=======
   "execution_count": null,
   "metadata": {},
   "outputs": [],
   "source": []
>>>>>>> 9bcb85082bee3521929bbc33123fdb6b165afb33
  },
  {
   "cell_type": "markdown",
   "metadata": {},
   "source": [
    "**2. How many missing values are there? How do we find this out? Which column is problematic?**"
   ]
  },
  {
   "cell_type": "code",
<<<<<<< HEAD
   "execution_count": 69,
   "metadata": {},
   "outputs": [
    {
     "name": "stdout",
     "output_type": "stream",
     "text": [
      "<class 'pandas.core.frame.DataFrame'>\n",
      "RangeIndex: 4247 entries, 0 to 4246\n",
      "Data columns (total 8 columns):\n",
      " #   Column           Non-Null Count  Dtype  \n",
      "---  ------           --------------  -----  \n",
      " 0   SNo              4247 non-null   int64  \n",
      " 1   ObservationDate  4247 non-null   object \n",
      " 2   Province/State   2749 non-null   object \n",
      " 3   Country/Region   4247 non-null   object \n",
      " 4   Last Update      4247 non-null   object \n",
      " 5   Confirmed        4247 non-null   float64\n",
      " 6   Deaths           4247 non-null   float64\n",
      " 7   Recovered        4247 non-null   float64\n",
      "dtypes: float64(3), int64(1), object(4)\n",
      "memory usage: 265.6+ KB\n"
     ]
    }
   ],
   "source": [
    "# enter your code here\n",
    "\n",
    "df.info()"
   ]
  },
  {
   "cell_type": "code",
   "execution_count": 70,
   "metadata": {},
   "outputs": [
    {
     "name": "stdout",
     "output_type": "stream",
     "text": [
      "Province/State is problematic with 1498 missing values\n"
     ]
    }
   ],
   "source": [
    "\n",
    "#print(df.columns[2])\n",
    "\n",
    "print(f\"{df.columns[2]} is problematic with {df.isnull().sum()[2]} missing values\")"
=======
   "execution_count": 206,
   "metadata": {},
   "outputs": [],
   "source": [
    "# enter your code here\n"
>>>>>>> 9bcb85082bee3521929bbc33123fdb6b165afb33
   ]
  },
  {
   "cell_type": "markdown",
   "metadata": {},
   "source": [
    "**3. In your own words, what could we do about the missing values? Should we remove rows with the missing values? Are they useful?**"
   ]
  },
  {
<<<<<<< HEAD
   "cell_type": "markdown",
   "metadata": {},
   "source": [
    "# write your answer here:\n",
    "\n",
    "Better to replace the missing values with Null or unknown. Probably best not to remove the column as we can still have 2749 values that we can use or perform some calculations on."
   ]
  },
  {
   "cell_type": "code",
   "execution_count": 71,
   "metadata": {},
   "outputs": [],
   "source": [
    "df.fillna(\"unknown\", inplace=True)"
   ]
  },
  {
   "cell_type": "code",
   "execution_count": 72,
   "metadata": {},
   "outputs": [
    {
     "name": "stdout",
     "output_type": "stream",
     "text": [
      "<class 'pandas.core.frame.DataFrame'>\n",
      "RangeIndex: 4247 entries, 0 to 4246\n",
      "Data columns (total 8 columns):\n",
      " #   Column           Non-Null Count  Dtype  \n",
      "---  ------           --------------  -----  \n",
      " 0   SNo              4247 non-null   int64  \n",
      " 1   ObservationDate  4247 non-null   object \n",
      " 2   Province/State   4247 non-null   object \n",
      " 3   Country/Region   4247 non-null   object \n",
      " 4   Last Update      4247 non-null   object \n",
      " 5   Confirmed        4247 non-null   float64\n",
      " 6   Deaths           4247 non-null   float64\n",
      " 7   Recovered        4247 non-null   float64\n",
      "dtypes: float64(3), int64(1), object(4)\n",
      "memory usage: 265.6+ KB\n"
     ]
    }
   ],
   "source": [
    "df.info()"
   ]
  },
  {
   "cell_type": "code",
   "execution_count": 73,
   "metadata": {},
   "outputs": [
    {
     "data": {
      "text/html": [
       "<div>\n",
       "<style scoped>\n",
       "    .dataframe tbody tr th:only-of-type {\n",
       "        vertical-align: middle;\n",
       "    }\n",
       "\n",
       "    .dataframe tbody tr th {\n",
       "        vertical-align: top;\n",
       "    }\n",
       "\n",
       "    .dataframe thead th {\n",
       "        text-align: right;\n",
       "    }\n",
       "</style>\n",
       "<table border=\"1\" class=\"dataframe\">\n",
       "  <thead>\n",
       "    <tr style=\"text-align: right;\">\n",
       "      <th></th>\n",
       "      <th>SNo</th>\n",
       "      <th>ObservationDate</th>\n",
       "      <th>Province/State</th>\n",
       "      <th>Country/Region</th>\n",
       "      <th>Last Update</th>\n",
       "      <th>Confirmed</th>\n",
       "      <th>Deaths</th>\n",
       "      <th>Recovered</th>\n",
       "    </tr>\n",
       "  </thead>\n",
       "  <tbody>\n",
       "    <tr>\n",
       "      <th>0</th>\n",
       "      <td>1</td>\n",
       "      <td>01/22/2020</td>\n",
       "      <td>Anhui</td>\n",
       "      <td>Mainland China</td>\n",
       "      <td>1/22/2020 17:00</td>\n",
       "      <td>1.0</td>\n",
       "      <td>0.0</td>\n",
       "      <td>0.0</td>\n",
       "    </tr>\n",
       "    <tr>\n",
       "      <th>1</th>\n",
       "      <td>2</td>\n",
       "      <td>01/22/2020</td>\n",
       "      <td>Beijing</td>\n",
       "      <td>Mainland China</td>\n",
       "      <td>1/22/2020 17:00</td>\n",
       "      <td>14.0</td>\n",
       "      <td>0.0</td>\n",
       "      <td>0.0</td>\n",
       "    </tr>\n",
       "    <tr>\n",
       "      <th>2</th>\n",
       "      <td>3</td>\n",
       "      <td>01/22/2020</td>\n",
       "      <td>Chongqing</td>\n",
       "      <td>Mainland China</td>\n",
       "      <td>1/22/2020 17:00</td>\n",
       "      <td>6.0</td>\n",
       "      <td>0.0</td>\n",
       "      <td>0.0</td>\n",
       "    </tr>\n",
       "    <tr>\n",
       "      <th>3</th>\n",
       "      <td>4</td>\n",
       "      <td>01/22/2020</td>\n",
       "      <td>Fujian</td>\n",
       "      <td>Mainland China</td>\n",
       "      <td>1/22/2020 17:00</td>\n",
       "      <td>1.0</td>\n",
       "      <td>0.0</td>\n",
       "      <td>0.0</td>\n",
       "    </tr>\n",
       "    <tr>\n",
       "      <th>4</th>\n",
       "      <td>5</td>\n",
       "      <td>01/22/2020</td>\n",
       "      <td>Gansu</td>\n",
       "      <td>Mainland China</td>\n",
       "      <td>1/22/2020 17:00</td>\n",
       "      <td>0.0</td>\n",
       "      <td>0.0</td>\n",
       "      <td>0.0</td>\n",
       "    </tr>\n",
       "    <tr>\n",
       "      <th>...</th>\n",
       "      <td>...</td>\n",
       "      <td>...</td>\n",
       "      <td>...</td>\n",
       "      <td>...</td>\n",
       "      <td>...</td>\n",
       "      <td>...</td>\n",
       "      <td>...</td>\n",
       "      <td>...</td>\n",
       "    </tr>\n",
       "    <tr>\n",
       "      <th>4242</th>\n",
       "      <td>4243</td>\n",
       "      <td>03/08/2020</td>\n",
       "      <td>Northern Territory</td>\n",
       "      <td>Australia</td>\n",
       "      <td>2020-03-06T04:33:03</td>\n",
       "      <td>0.0</td>\n",
       "      <td>0.0</td>\n",
       "      <td>0.0</td>\n",
       "    </tr>\n",
       "    <tr>\n",
       "      <th>4243</th>\n",
       "      <td>4244</td>\n",
       "      <td>03/08/2020</td>\n",
       "      <td>Lackland, TX (From Diamond Princess)</td>\n",
       "      <td>US</td>\n",
       "      <td>2020-02-24T23:33:02</td>\n",
       "      <td>0.0</td>\n",
       "      <td>0.0</td>\n",
       "      <td>0.0</td>\n",
       "    </tr>\n",
       "    <tr>\n",
       "      <th>4244</th>\n",
       "      <td>4245</td>\n",
       "      <td>03/08/2020</td>\n",
       "      <td>Montgomery County, TX</td>\n",
       "      <td>US</td>\n",
       "      <td>2020-03-07T19:53:02</td>\n",
       "      <td>0.0</td>\n",
       "      <td>0.0</td>\n",
       "      <td>0.0</td>\n",
       "    </tr>\n",
       "    <tr>\n",
       "      <th>4245</th>\n",
       "      <td>4246</td>\n",
       "      <td>03/08/2020</td>\n",
       "      <td>Omaha, NE (From Diamond Princess)</td>\n",
       "      <td>US</td>\n",
       "      <td>2020-02-24T23:33:02</td>\n",
       "      <td>0.0</td>\n",
       "      <td>0.0</td>\n",
       "      <td>0.0</td>\n",
       "    </tr>\n",
       "    <tr>\n",
       "      <th>4246</th>\n",
       "      <td>4247</td>\n",
       "      <td>03/08/2020</td>\n",
       "      <td>Travis, CA (From Diamond Princess)</td>\n",
       "      <td>US</td>\n",
       "      <td>2020-02-24T23:33:02</td>\n",
       "      <td>0.0</td>\n",
       "      <td>0.0</td>\n",
       "      <td>0.0</td>\n",
       "    </tr>\n",
       "  </tbody>\n",
       "</table>\n",
       "<p>4247 rows × 8 columns</p>\n",
       "</div>"
      ],
      "text/plain": [
       "       SNo ObservationDate                        Province/State  \\\n",
       "0        1      01/22/2020                                 Anhui   \n",
       "1        2      01/22/2020                               Beijing   \n",
       "2        3      01/22/2020                             Chongqing   \n",
       "3        4      01/22/2020                                Fujian   \n",
       "4        5      01/22/2020                                 Gansu   \n",
       "...    ...             ...                                   ...   \n",
       "4242  4243      03/08/2020                    Northern Territory   \n",
       "4243  4244      03/08/2020  Lackland, TX (From Diamond Princess)   \n",
       "4244  4245      03/08/2020                 Montgomery County, TX   \n",
       "4245  4246      03/08/2020     Omaha, NE (From Diamond Princess)   \n",
       "4246  4247      03/08/2020    Travis, CA (From Diamond Princess)   \n",
       "\n",
       "      Country/Region          Last Update  Confirmed  Deaths  Recovered  \n",
       "0     Mainland China      1/22/2020 17:00        1.0     0.0        0.0  \n",
       "1     Mainland China      1/22/2020 17:00       14.0     0.0        0.0  \n",
       "2     Mainland China      1/22/2020 17:00        6.0     0.0        0.0  \n",
       "3     Mainland China      1/22/2020 17:00        1.0     0.0        0.0  \n",
       "4     Mainland China      1/22/2020 17:00        0.0     0.0        0.0  \n",
       "...              ...                  ...        ...     ...        ...  \n",
       "4242       Australia  2020-03-06T04:33:03        0.0     0.0        0.0  \n",
       "4243              US  2020-02-24T23:33:02        0.0     0.0        0.0  \n",
       "4244              US  2020-03-07T19:53:02        0.0     0.0        0.0  \n",
       "4245              US  2020-02-24T23:33:02        0.0     0.0        0.0  \n",
       "4246              US  2020-02-24T23:33:02        0.0     0.0        0.0  \n",
       "\n",
       "[4247 rows x 8 columns]"
      ]
     },
     "execution_count": 73,
     "metadata": {},
     "output_type": "execute_result"
    }
   ],
   "source": [
    "df"
=======
   "cell_type": "raw",
   "metadata": {},
   "source": [
    "# write your answer here:\n"
>>>>>>> 9bcb85082bee3521929bbc33123fdb6b165afb33
   ]
  },
  {
   "cell_type": "markdown",
   "metadata": {},
   "source": [
    "**4. Where was the first observation of more than 100+ covid cases?**"
   ]
  },
  {
   "cell_type": "code",
<<<<<<< HEAD
   "execution_count": 74,
   "metadata": {},
   "outputs": [
    {
     "name": "stdout",
     "output_type": "stream",
     "text": [
      "SNo                             14\n",
      "ObservationDate         01/22/2020\n",
      "Province/State               Hubei\n",
      "Country/Region      Mainland China\n",
      "Last Update        1/22/2020 17:00\n",
      "Confirmed                      444\n",
      "Deaths                          17\n",
      "Recovered                       28\n",
      "Name: 13, dtype: object\n",
      "First observation of more than 100+ cases in Hubei, China\n"
     ]
    }
   ],
   "source": [
    "print(df[(df[\"Confirmed\"] > 100)].iloc[0])\n",
    "\n",
    "print(f\"First observation of more than 100+ cases in Hubei, China\")"
   ]
=======
   "execution_count": null,
   "metadata": {},
   "outputs": [],
   "source": []
>>>>>>> 9bcb85082bee3521929bbc33123fdb6b165afb33
  },
  {
   "cell_type": "markdown",
   "metadata": {},
   "source": [
    "**5. What was the date of the first confirmed covid case in the United States?**"
   ]
  },
  {
   "cell_type": "code",
<<<<<<< HEAD
   "execution_count": 75,
   "metadata": {},
   "outputs": [
    {
     "data": {
      "text/plain": [
       "SNo                             32\n",
       "ObservationDate         01/22/2020\n",
       "Province/State          Washington\n",
       "Country/Region                  US\n",
       "Last Update        1/22/2020 17:00\n",
       "Confirmed                        1\n",
       "Deaths                           0\n",
       "Recovered                        0\n",
       "Name: 31, dtype: object"
      ]
     },
     "execution_count": 75,
     "metadata": {},
     "output_type": "execute_result"
    }
   ],
   "source": [
    "df[df[\"Country/Region\"] == 'US'].iloc[0]\n",
    "# First date of confirmed US case is 01/22/2020"
   ]
=======
   "execution_count": null,
   "metadata": {},
   "outputs": [],
   "source": []
>>>>>>> 9bcb85082bee3521929bbc33123fdb6b165afb33
  },
  {
   "cell_type": "markdown",
   "metadata": {},
   "source": [
    "**6. What caused the most amount of confirmed cases in U.S. during this period?**"
   ]
  },
  {
   "cell_type": "code",
<<<<<<< HEAD
   "execution_count": 76,
   "metadata": {},
   "outputs": [
    {
     "data": {
      "text/plain": [
       "Province/State\n",
       "Unassigned Location (From Diamond Princess)    603.0\n",
       "Name: Confirmed, dtype: float64"
      ]
     },
     "execution_count": 76,
     "metadata": {},
     "output_type": "execute_result"
    }
   ],
   "source": [
    "# start by trying to find all rows related to US, then group them in some way, specifically in the data an incident mentioned\n",
    "# if you look at the US, try to organize the rows of the US\n",
    "\n",
    "df.loc[(df['Country/Region'] == 'US')].groupby(\"Province/State\")[\"Confirmed\"].sum().sort_values(ascending=False).iloc[:1]\n",
    "\n",
    "# Diamond Princess"
   ]
=======
   "execution_count": null,
   "metadata": {},
   "outputs": [],
   "source": []
>>>>>>> 9bcb85082bee3521929bbc33123fdb6b165afb33
  },
  {
   "cell_type": "markdown",
   "metadata": {},
   "source": [
    "**7. How many deaths occurred in the top 5 deadliest countries in the period of our data set?**"
   ]
  },
  {
   "cell_type": "code",
<<<<<<< HEAD
   "execution_count": 83,
   "metadata": {},
   "outputs": [
    {
     "name": "stdout",
     "output_type": "stream",
     "text": [
      "There were 73999 deaths in the top 5 deadliest countries during our dataset period.\n"
     ]
    }
   ],
   "source": [
    "df.groupby(\"Country/Region\")[\"Deaths\"].sum().sort_values(ascending=False)[:5]\n",
    "\n",
    "x = int(df.groupby(\"Country/Region\")[\"Deaths\"].sum().sort_values(ascending=False)[:5].sum())\n",
    "\n",
    "print(f\"There were {x} deaths in the top 5 deadliest countries during our dataset period.\")"
   ]
=======
   "execution_count": null,
   "metadata": {},
   "outputs": [],
   "source": []
>>>>>>> 9bcb85082bee3521929bbc33123fdb6b165afb33
  },
  {
   "cell_type": "markdown",
   "metadata": {},
   "source": [
    "**8. Which country had the highest number of confirmed cases but zero deaths during this period?**"
   ]
  },
  {
   "cell_type": "code",
<<<<<<< HEAD
   "execution_count": 94,
   "metadata": {},
   "outputs": [
    {
     "data": {
      "text/plain": [
       "<bound method NDFrame.head of                 Confirmed   Deaths\n",
       "Country/Region                    \n",
       "Mainland China  2312052.0  71199.0\n",
       "Italy             35041.0   1318.0\n",
       "Iran              30003.0   1030.0\n",
       "South Korea       58078.0    362.0\n",
       "US                 2660.0     90.0\n",
       "...                   ...      ...\n",
       "Germany            4316.0      0.0\n",
       "Georgia              41.0      0.0\n",
       "French Guiana        10.0      0.0\n",
       "Finland             126.0      0.0\n",
       "Vietnam             560.0      0.0\n",
       "\n",
       "[111 rows x 2 columns]>"
      ]
     },
     "execution_count": 94,
     "metadata": {},
     "output_type": "execute_result"
    }
   ],
   "source": [
    "df.groupby(\"Country/Region\")[[\"Confirmed\",\"Deaths\"]].sum().sort_values(\"Deaths\",ascending=False).head\n",
    "\n",
    "# Appears Germany had most cases without confirmed death during this period."
   ]
=======
   "execution_count": null,
   "metadata": {},
   "outputs": [],
   "source": []
>>>>>>> 9bcb85082bee3521929bbc33123fdb6b165afb33
  },
  {
   "cell_type": "markdown",
   "metadata": {},
   "source": [
    "**9. Which country had the highest percent of deaths compared to its cases during this period?**"
   ]
  },
  {
   "cell_type": "code",
<<<<<<< HEAD
   "execution_count": 124,
   "metadata": {},
   "outputs": [
    {
     "data": {
      "text/html": [
       "<div>\n",
       "<style scoped>\n",
       "    .dataframe tbody tr th:only-of-type {\n",
       "        vertical-align: middle;\n",
       "    }\n",
       "\n",
       "    .dataframe tbody tr th {\n",
       "        vertical-align: top;\n",
       "    }\n",
       "\n",
       "    .dataframe thead th {\n",
       "        text-align: right;\n",
       "    }\n",
       "</style>\n",
       "<table border=\"1\" class=\"dataframe\">\n",
       "  <thead>\n",
       "    <tr style=\"text-align: right;\">\n",
       "      <th></th>\n",
       "      <th>Confirmed</th>\n",
       "      <th>Deaths</th>\n",
       "      <th>Death/Cases</th>\n",
       "    </tr>\n",
       "    <tr>\n",
       "      <th>Country/Region</th>\n",
       "      <th></th>\n",
       "      <th></th>\n",
       "      <th></th>\n",
       "    </tr>\n",
       "  </thead>\n",
       "  <tbody>\n",
       "    <tr>\n",
       "      <th>Philippines</th>\n",
       "      <td>118.0</td>\n",
       "      <td>36.0</td>\n",
       "      <td>30.508475</td>\n",
       "    </tr>\n",
       "    <tr>\n",
       "      <th>Iraq</th>\n",
       "      <td>335.0</td>\n",
       "      <td>17.0</td>\n",
       "      <td>5.074627</td>\n",
       "    </tr>\n",
       "    <tr>\n",
       "      <th>San Marino</th>\n",
       "      <td>139.0</td>\n",
       "      <td>6.0</td>\n",
       "      <td>4.316547</td>\n",
       "    </tr>\n",
       "    <tr>\n",
       "      <th>Argentina</th>\n",
       "      <td>25.0</td>\n",
       "      <td>1.0</td>\n",
       "      <td>4.000000</td>\n",
       "    </tr>\n",
       "    <tr>\n",
       "      <th>Italy</th>\n",
       "      <td>35041.0</td>\n",
       "      <td>1318.0</td>\n",
       "      <td>3.761308</td>\n",
       "    </tr>\n",
       "    <tr>\n",
       "      <th>...</th>\n",
       "      <td>...</td>\n",
       "      <td>...</td>\n",
       "      <td>...</td>\n",
       "    </tr>\n",
       "    <tr>\n",
       "      <th>Lithuania</th>\n",
       "      <td>10.0</td>\n",
       "      <td>0.0</td>\n",
       "      <td>0.000000</td>\n",
       "    </tr>\n",
       "    <tr>\n",
       "      <th>French Guiana</th>\n",
       "      <td>10.0</td>\n",
       "      <td>0.0</td>\n",
       "      <td>0.000000</td>\n",
       "    </tr>\n",
       "    <tr>\n",
       "      <th>Nigeria</th>\n",
       "      <td>10.0</td>\n",
       "      <td>0.0</td>\n",
       "      <td>0.000000</td>\n",
       "    </tr>\n",
       "    <tr>\n",
       "      <th>Bosnia and Herzegovina</th>\n",
       "      <td>10.0</td>\n",
       "      <td>0.0</td>\n",
       "      <td>0.000000</td>\n",
       "    </tr>\n",
       "    <tr>\n",
       "      <th>Cambodia</th>\n",
       "      <td>43.0</td>\n",
       "      <td>0.0</td>\n",
       "      <td>0.000000</td>\n",
       "    </tr>\n",
       "  </tbody>\n",
       "</table>\n",
       "<p>111 rows × 3 columns</p>\n",
       "</div>"
      ],
      "text/plain": [
       "                        Confirmed  Deaths  Death/Cases\n",
       "Country/Region                                        \n",
       "Philippines                 118.0    36.0    30.508475\n",
       "Iraq                        335.0    17.0     5.074627\n",
       "San Marino                  139.0     6.0     4.316547\n",
       "Argentina                    25.0     1.0     4.000000\n",
       "Italy                     35041.0  1318.0     3.761308\n",
       "...                           ...     ...          ...\n",
       "Lithuania                    10.0     0.0     0.000000\n",
       "French Guiana                10.0     0.0     0.000000\n",
       "Nigeria                      10.0     0.0     0.000000\n",
       "Bosnia and Herzegovina       10.0     0.0     0.000000\n",
       "Cambodia                     43.0     0.0     0.000000\n",
       "\n",
       "[111 rows x 3 columns]"
      ]
     },
     "execution_count": 124,
     "metadata": {},
     "output_type": "execute_result"
    }
   ],
   "source": [
    "df_ = df.groupby(\"Country/Region\")[[\"Confirmed\",\"Deaths\"]].sum().sort_values(\"Confirmed\",ascending=False)\n",
    "df_[\"Death/Cases\"] = (df_[\"Deaths\"] / df_[\"Confirmed\"]) *100\n",
    "df_.sort_values(\"Death/Cases\").iloc[::-1]\n",
    "\n",
    "# Philippines highest percent of deaths to cases"
   ]
=======
   "execution_count": null,
   "metadata": {},
   "outputs": [],
   "source": []
>>>>>>> 9bcb85082bee3521929bbc33123fdb6b165afb33
  },
  {
   "cell_type": "markdown",
   "metadata": {},
   "source": [
    "**10. What was the total number of confirmed cases by day?**"
   ]
  },
  {
   "cell_type": "code",
<<<<<<< HEAD
   "execution_count": 125,
   "metadata": {},
   "outputs": [
    {
     "data": {
      "text/html": [
       "<div>\n",
       "<style scoped>\n",
       "    .dataframe tbody tr th:only-of-type {\n",
       "        vertical-align: middle;\n",
       "    }\n",
       "\n",
       "    .dataframe tbody tr th {\n",
       "        vertical-align: top;\n",
       "    }\n",
       "\n",
       "    .dataframe thead th {\n",
       "        text-align: right;\n",
       "    }\n",
       "</style>\n",
       "<table border=\"1\" class=\"dataframe\">\n",
       "  <thead>\n",
       "    <tr style=\"text-align: right;\">\n",
       "      <th></th>\n",
       "      <th>Confirmed</th>\n",
       "    </tr>\n",
       "    <tr>\n",
       "      <th>ObservationDate</th>\n",
       "      <th></th>\n",
       "    </tr>\n",
       "  </thead>\n",
       "  <tbody>\n",
       "    <tr>\n",
       "      <th>01/22/2020</th>\n",
       "      <td>555.0</td>\n",
       "    </tr>\n",
       "    <tr>\n",
       "      <th>01/23/2020</th>\n",
       "      <td>653.0</td>\n",
       "    </tr>\n",
       "    <tr>\n",
       "      <th>01/24/2020</th>\n",
       "      <td>941.0</td>\n",
       "    </tr>\n",
       "    <tr>\n",
       "      <th>01/25/2020</th>\n",
       "      <td>1438.0</td>\n",
       "    </tr>\n",
       "    <tr>\n",
       "      <th>01/26/2020</th>\n",
       "      <td>2118.0</td>\n",
       "    </tr>\n",
       "    <tr>\n",
       "      <th>01/27/2020</th>\n",
       "      <td>2927.0</td>\n",
       "    </tr>\n",
       "    <tr>\n",
       "      <th>01/28/2020</th>\n",
       "      <td>5578.0</td>\n",
       "    </tr>\n",
       "    <tr>\n",
       "      <th>01/29/2020</th>\n",
       "      <td>6165.0</td>\n",
       "    </tr>\n",
       "    <tr>\n",
       "      <th>01/30/2020</th>\n",
       "      <td>8235.0</td>\n",
       "    </tr>\n",
       "    <tr>\n",
       "      <th>01/31/2020</th>\n",
       "      <td>9925.0</td>\n",
       "    </tr>\n",
       "    <tr>\n",
       "      <th>02/01/2020</th>\n",
       "      <td>12038.0</td>\n",
       "    </tr>\n",
       "    <tr>\n",
       "      <th>02/02/2020</th>\n",
       "      <td>16787.0</td>\n",
       "    </tr>\n",
       "    <tr>\n",
       "      <th>02/03/2020</th>\n",
       "      <td>19881.0</td>\n",
       "    </tr>\n",
       "    <tr>\n",
       "      <th>02/04/2020</th>\n",
       "      <td>23892.0</td>\n",
       "    </tr>\n",
       "    <tr>\n",
       "      <th>02/05/2020</th>\n",
       "      <td>27636.0</td>\n",
       "    </tr>\n",
       "    <tr>\n",
       "      <th>02/06/2020</th>\n",
       "      <td>30818.0</td>\n",
       "    </tr>\n",
       "    <tr>\n",
       "      <th>02/07/2020</th>\n",
       "      <td>34392.0</td>\n",
       "    </tr>\n",
       "    <tr>\n",
       "      <th>02/08/2020</th>\n",
       "      <td>37121.0</td>\n",
       "    </tr>\n",
       "    <tr>\n",
       "      <th>02/09/2020</th>\n",
       "      <td>40151.0</td>\n",
       "    </tr>\n",
       "    <tr>\n",
       "      <th>02/10/2020</th>\n",
       "      <td>42763.0</td>\n",
       "    </tr>\n",
       "    <tr>\n",
       "      <th>02/11/2020</th>\n",
       "      <td>44803.0</td>\n",
       "    </tr>\n",
       "    <tr>\n",
       "      <th>02/12/2020</th>\n",
       "      <td>45222.0</td>\n",
       "    </tr>\n",
       "    <tr>\n",
       "      <th>02/13/2020</th>\n",
       "      <td>60370.0</td>\n",
       "    </tr>\n",
       "    <tr>\n",
       "      <th>02/14/2020</th>\n",
       "      <td>66887.0</td>\n",
       "    </tr>\n",
       "    <tr>\n",
       "      <th>02/15/2020</th>\n",
       "      <td>69032.0</td>\n",
       "    </tr>\n",
       "    <tr>\n",
       "      <th>02/16/2020</th>\n",
       "      <td>71226.0</td>\n",
       "    </tr>\n",
       "    <tr>\n",
       "      <th>02/17/2020</th>\n",
       "      <td>73260.0</td>\n",
       "    </tr>\n",
       "    <tr>\n",
       "      <th>02/18/2020</th>\n",
       "      <td>75138.0</td>\n",
       "    </tr>\n",
       "    <tr>\n",
       "      <th>02/19/2020</th>\n",
       "      <td>75641.0</td>\n",
       "    </tr>\n",
       "    <tr>\n",
       "      <th>02/20/2020</th>\n",
       "      <td>76199.0</td>\n",
       "    </tr>\n",
       "    <tr>\n",
       "      <th>02/21/2020</th>\n",
       "      <td>76843.0</td>\n",
       "    </tr>\n",
       "    <tr>\n",
       "      <th>02/22/2020</th>\n",
       "      <td>78599.0</td>\n",
       "    </tr>\n",
       "    <tr>\n",
       "      <th>02/23/2020</th>\n",
       "      <td>78985.0</td>\n",
       "    </tr>\n",
       "    <tr>\n",
       "      <th>02/24/2020</th>\n",
       "      <td>79570.0</td>\n",
       "    </tr>\n",
       "    <tr>\n",
       "      <th>02/25/2020</th>\n",
       "      <td>80415.0</td>\n",
       "    </tr>\n",
       "    <tr>\n",
       "      <th>02/26/2020</th>\n",
       "      <td>81397.0</td>\n",
       "    </tr>\n",
       "    <tr>\n",
       "      <th>02/27/2020</th>\n",
       "      <td>82756.0</td>\n",
       "    </tr>\n",
       "    <tr>\n",
       "      <th>02/28/2020</th>\n",
       "      <td>84124.0</td>\n",
       "    </tr>\n",
       "    <tr>\n",
       "      <th>02/29/2020</th>\n",
       "      <td>86013.0</td>\n",
       "    </tr>\n",
       "    <tr>\n",
       "      <th>03/01/2020</th>\n",
       "      <td>88371.0</td>\n",
       "    </tr>\n",
       "    <tr>\n",
       "      <th>03/02/2020</th>\n",
       "      <td>90309.0</td>\n",
       "    </tr>\n",
       "    <tr>\n",
       "      <th>03/03/2020</th>\n",
       "      <td>92844.0</td>\n",
       "    </tr>\n",
       "    <tr>\n",
       "      <th>03/04/2020</th>\n",
       "      <td>95124.0</td>\n",
       "    </tr>\n",
       "    <tr>\n",
       "      <th>03/05/2020</th>\n",
       "      <td>97886.0</td>\n",
       "    </tr>\n",
       "    <tr>\n",
       "      <th>03/06/2020</th>\n",
       "      <td>101800.0</td>\n",
       "    </tr>\n",
       "    <tr>\n",
       "      <th>03/07/2020</th>\n",
       "      <td>105836.0</td>\n",
       "    </tr>\n",
       "    <tr>\n",
       "      <th>03/08/2020</th>\n",
       "      <td>109835.0</td>\n",
       "    </tr>\n",
       "  </tbody>\n",
       "</table>\n",
       "</div>"
      ],
      "text/plain": [
       "                 Confirmed\n",
       "ObservationDate           \n",
       "01/22/2020           555.0\n",
       "01/23/2020           653.0\n",
       "01/24/2020           941.0\n",
       "01/25/2020          1438.0\n",
       "01/26/2020          2118.0\n",
       "01/27/2020          2927.0\n",
       "01/28/2020          5578.0\n",
       "01/29/2020          6165.0\n",
       "01/30/2020          8235.0\n",
       "01/31/2020          9925.0\n",
       "02/01/2020         12038.0\n",
       "02/02/2020         16787.0\n",
       "02/03/2020         19881.0\n",
       "02/04/2020         23892.0\n",
       "02/05/2020         27636.0\n",
       "02/06/2020         30818.0\n",
       "02/07/2020         34392.0\n",
       "02/08/2020         37121.0\n",
       "02/09/2020         40151.0\n",
       "02/10/2020         42763.0\n",
       "02/11/2020         44803.0\n",
       "02/12/2020         45222.0\n",
       "02/13/2020         60370.0\n",
       "02/14/2020         66887.0\n",
       "02/15/2020         69032.0\n",
       "02/16/2020         71226.0\n",
       "02/17/2020         73260.0\n",
       "02/18/2020         75138.0\n",
       "02/19/2020         75641.0\n",
       "02/20/2020         76199.0\n",
       "02/21/2020         76843.0\n",
       "02/22/2020         78599.0\n",
       "02/23/2020         78985.0\n",
       "02/24/2020         79570.0\n",
       "02/25/2020         80415.0\n",
       "02/26/2020         81397.0\n",
       "02/27/2020         82756.0\n",
       "02/28/2020         84124.0\n",
       "02/29/2020         86013.0\n",
       "03/01/2020         88371.0\n",
       "03/02/2020         90309.0\n",
       "03/03/2020         92844.0\n",
       "03/04/2020         95124.0\n",
       "03/05/2020         97886.0\n",
       "03/06/2020        101800.0\n",
       "03/07/2020        105836.0\n",
       "03/08/2020        109835.0"
      ]
     },
     "execution_count": 125,
     "metadata": {},
     "output_type": "execute_result"
    }
   ],
   "source": [
    "df.groupby(\"ObservationDate\")[[\"Confirmed\"]].sum().sort_values(\"ObservationDate\",ascending=True)"
   ]
=======
   "execution_count": null,
   "metadata": {},
   "outputs": [],
   "source": []
>>>>>>> 9bcb85082bee3521929bbc33123fdb6b165afb33
  },
  {
   "cell_type": "markdown",
   "metadata": {},
   "source": [
    "**11. Can you plot a chart from this dataset?**"
   ]
  },
  {
   "cell_type": "code",
<<<<<<< HEAD
   "execution_count": 126,
   "metadata": {},
   "outputs": [],
   "source": [
    "\n",
    "import matplotlib.pyplot as plt\n",
    "import seaborn as sns"
   ]
  },
  {
   "cell_type": "code",
   "execution_count": 128,
   "metadata": {},
   "outputs": [
    {
     "data": {
      "text/html": [
       "<div>\n",
       "<style scoped>\n",
       "    .dataframe tbody tr th:only-of-type {\n",
       "        vertical-align: middle;\n",
       "    }\n",
       "\n",
       "    .dataframe tbody tr th {\n",
       "        vertical-align: top;\n",
       "    }\n",
       "\n",
       "    .dataframe thead th {\n",
       "        text-align: right;\n",
       "    }\n",
       "</style>\n",
       "<table border=\"1\" class=\"dataframe\">\n",
       "  <thead>\n",
       "    <tr style=\"text-align: right;\">\n",
       "      <th></th>\n",
       "      <th>Confirmed</th>\n",
       "      <th>Deaths</th>\n",
       "      <th>Death/Cases</th>\n",
       "    </tr>\n",
       "    <tr>\n",
       "      <th>Country/Region</th>\n",
       "      <th></th>\n",
       "      <th></th>\n",
       "      <th></th>\n",
       "    </tr>\n",
       "  </thead>\n",
       "  <tbody>\n",
       "    <tr>\n",
       "      <th>Mainland China</th>\n",
       "      <td>2312052.0</td>\n",
       "      <td>71199.0</td>\n",
       "      <td>3.079472</td>\n",
       "    </tr>\n",
       "    <tr>\n",
       "      <th>South Korea</th>\n",
       "      <td>58078.0</td>\n",
       "      <td>362.0</td>\n",
       "      <td>0.623300</td>\n",
       "    </tr>\n",
       "    <tr>\n",
       "      <th>Italy</th>\n",
       "      <td>35041.0</td>\n",
       "      <td>1318.0</td>\n",
       "      <td>3.761308</td>\n",
       "    </tr>\n",
       "    <tr>\n",
       "      <th>Iran</th>\n",
       "      <td>30003.0</td>\n",
       "      <td>1030.0</td>\n",
       "      <td>3.432990</td>\n",
       "    </tr>\n",
       "    <tr>\n",
       "      <th>Others</th>\n",
       "      <td>15692.0</td>\n",
       "      <td>83.0</td>\n",
       "      <td>0.528932</td>\n",
       "    </tr>\n",
       "    <tr>\n",
       "      <th>...</th>\n",
       "      <td>...</td>\n",
       "      <td>...</td>\n",
       "      <td>...</td>\n",
       "    </tr>\n",
       "    <tr>\n",
       "      <th>Paraguay</th>\n",
       "      <td>1.0</td>\n",
       "      <td>0.0</td>\n",
       "      <td>0.000000</td>\n",
       "    </tr>\n",
       "    <tr>\n",
       "      <th>Ivory Coast</th>\n",
       "      <td>1.0</td>\n",
       "      <td>0.0</td>\n",
       "      <td>0.000000</td>\n",
       "    </tr>\n",
       "    <tr>\n",
       "      <th>Moldova</th>\n",
       "      <td>1.0</td>\n",
       "      <td>0.0</td>\n",
       "      <td>0.000000</td>\n",
       "    </tr>\n",
       "    <tr>\n",
       "      <th>North Ireland</th>\n",
       "      <td>1.0</td>\n",
       "      <td>0.0</td>\n",
       "      <td>0.000000</td>\n",
       "    </tr>\n",
       "    <tr>\n",
       "      <th>Azerbaijan</th>\n",
       "      <td>1.0</td>\n",
       "      <td>0.0</td>\n",
       "      <td>0.000000</td>\n",
       "    </tr>\n",
       "  </tbody>\n",
       "</table>\n",
       "<p>111 rows × 3 columns</p>\n",
       "</div>"
      ],
      "text/plain": [
       "                Confirmed   Deaths  Death/Cases\n",
       "Country/Region                                 \n",
       "Mainland China  2312052.0  71199.0     3.079472\n",
       "South Korea       58078.0    362.0     0.623300\n",
       "Italy             35041.0   1318.0     3.761308\n",
       "Iran              30003.0   1030.0     3.432990\n",
       "Others            15692.0     83.0     0.528932\n",
       "...                   ...      ...          ...\n",
       "Paraguay              1.0      0.0     0.000000\n",
       "Ivory Coast           1.0      0.0     0.000000\n",
       "Moldova               1.0      0.0     0.000000\n",
       "North Ireland         1.0      0.0     0.000000\n",
       " Azerbaijan           1.0      0.0     0.000000\n",
       "\n",
       "[111 rows x 3 columns]"
      ]
     },
     "execution_count": 128,
     "metadata": {},
     "output_type": "execute_result"
    }
   ],
   "source": [
    "df_"
   ]
  },
  {
   "cell_type": "code",
   "execution_count": 130,
   "metadata": {},
   "outputs": [
    {
     "data": {
      "text/plain": [
       "<AxesSubplot:>"
      ]
     },
     "execution_count": 130,
     "metadata": {},
     "output_type": "execute_result"
    },
    {
     "data": {
      "image/png": "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\n",
      "text/plain": [
       "<Figure size 432x288 with 1 Axes>"
      ]
     },
     "metadata": {
      "needs_background": "light"
     },
     "output_type": "display_data"
    }
   ],
   "source": [
    "df_[[\"Confirmed\", \"Deaths\", \"Death/Cases\"]].boxplot()"
   ]
  },
  {
   "cell_type": "code",
=======
>>>>>>> 9bcb85082bee3521929bbc33123fdb6b165afb33
   "execution_count": null,
   "metadata": {},
   "outputs": [],
   "source": []
  }
 ],
 "metadata": {
  "kernelspec": {
   "display_name": "Python 3",
   "language": "python",
   "name": "python3"
  },
  "language_info": {
   "codemirror_mode": {
    "name": "ipython",
    "version": 3
   },
   "file_extension": ".py",
   "mimetype": "text/x-python",
   "name": "python",
   "nbconvert_exporter": "python",
   "pygments_lexer": "ipython3",
<<<<<<< HEAD
   "version": "3.8.8"
=======
   "version": "3.9.1"
>>>>>>> 9bcb85082bee3521929bbc33123fdb6b165afb33
  }
 },
 "nbformat": 4,
 "nbformat_minor": 4
}
