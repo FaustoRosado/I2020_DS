{
 "cells": [
  {
   "cell_type": "markdown",
   "metadata": {},
   "source": [
    "<div style=\"background: #000;\n",
    "            color: #FFF;\n",
    "            margin: 0px;\n",
    "            padding: 10px 0px 20px 0px;\n",
    "            text-align: center; \n",
    "                \">\n",
    "    <h1 >Week 17 Homework</h1>\n",
    "</div>"
   ]
  },
  {
   "cell_type": "markdown",
   "metadata": {},
   "source": [
    "## Exercise 1:\n",
    "    \n",
    "Given a positive integer, check whether it has alternating bits: namely, if two adjacent bits will always have different values.\n",
    "\n",
    " "
   ]
  },
  {
   "cell_type": "markdown",
   "metadata": {},
   "source": [
    "**Example 1:**\n",
    "\n",
    "Input: n = 5  \n",
    "Output: true  \n",
    "Explanation: The binary representation of 5 is: 101  \n",
    "\n",
    "**Example 2:**\n",
    "\n",
    "Input: n = 7  \n",
    "Output: false  \n",
    "Explanation: The binary representation of 7 is: 111.  \n",
    "\n",
    "**Example 3:**\n",
    "\n",
    "Input: n = 11  \n",
    "Output: false  \n",
    "Explanation: The binary representation of 11 is: 1011.  \n",
    "\n",
    "**Example 4:**\n",
    "\n",
    "Input: n = 10  \n",
    "Output: true  \n",
    "Explanation: The binary representation of 10 is: 1010.  \n",
    "\n",
    "**Example 5:**\n",
    "\n",
    "Input: n = 3  \n",
    "Output: false  \n"
   ]
  },
  {
   "cell_type": "code",
   "execution_count": null,
   "metadata": {},
   "outputs": [],
   "source": [
    "a = 60 \n",
    "c = a >> 1\n",
    "d = a << 1\n",
    "print(c)\n",
    "print(a)"
   ]
  },
  {
   "cell_type": "raw",
   "metadata": {},
   "source": [
    "101\n",
    "1010 ## 10\n",
    "1011\n",
    "\n",
    "10101 >>1\n",
    "01010\n",
    "\n",
    "11111"
   ]
  },
  {
   "cell_type": "code",
   "execution_count": null,
   "metadata": {},
   "outputs": [],
   "source": [
    "n=5 ## 101\n",
    "num = n^(n>>1)\n",
    "print(num)\n",
    "print(bin(num))"
   ]
  },
  {
   "cell_type": "markdown",
   "metadata": {},
   "source": [
    "num & (num+1)\n",
    "1000\n",
    "0111"
   ]
  },
  {
   "cell_type": "code",
   "execution_count": null,
   "metadata": {},
   "outputs": [],
   "source": [
    "# def ex1(n):\n",
    "#     first = n%2\n",
    "#     n >>=1 \n",
    "#     while(n>0):\n",
    "#         nxt = n%2 \n",
    "#         if nxt == first:\n",
    "#             return False\n",
    "#         else:\n",
    "#             return True\n",
    "\n",
    "# print(ex1(5))\n",
    "# print(ex1(7))\n",
    "# print(ex1(11))\n",
    "# print(ex1(10))\n",
    "# print(ex1(3))\n",
    "# print(ex1(129))\n",
    "        \n",
    "# try:\n",
    "#     assert(ex1(5) == True)\n",
    "#     assert(ex1(7) == False)\n",
    "#     assert(ex1(11) == False)\n",
    "#     assert(ex1(10) == True)\n",
    "#     assert(ex1(3) == False)\n",
    "\n",
    "   \n",
    "#     print(\"solution is correct\")\n",
    "# except AssertionError:\n",
    "#     print(\"solution is incorrect\")"
   ]
  },
  {
   "cell_type": "code",
   "execution_count": 8,
   "metadata": {},
   "outputs": [
    {
     "name": "stdout",
     "output_type": "stream",
     "text": [
      "True\n",
      "False\n",
      "False\n",
      "True\n",
      "False\n",
      "False\n"
     ]
    }
   ],
   "source": [
    "def ex1(n):\n",
    "    n = n ^ (n >> 1)\n",
    "    return True if (n+1) & n == 0 else False\n",
    "\n",
    "print(ex1(5))\n",
    "print(ex1(7))\n",
    "print(ex1(11))\n",
    "print(ex1(10))\n",
    "print(ex1(3))\n",
    "print(ex1(129))\n",
    "assert(ex1(21))"
   ]
  },
  {
   "cell_type": "code",
   "execution_count": 9,
   "metadata": {},
   "outputs": [
    {
     "name": "stdout",
     "output_type": "stream",
     "text": [
      "solution is correct\n"
     ]
    }
   ],
   "source": [
    "def ex1(n):\n",
    "    if not n:\n",
    "        return True\n",
    "    n = n^(n>>1) ## 1111\n",
    "    return not n & (n+1)\n",
    "   \n",
    "        \n",
    "\n",
    "# print(ex1(5))\n",
    "# print(ex1(7))\n",
    "# print(ex1(11))\n",
    "# print(ex1(10))\n",
    "# print(ex1(3))\n",
    "# print(ex1(129))\n",
    "\n",
    "try:\n",
    "    assert(ex1(5) == True)\n",
    "    assert(ex1(7) == False)\n",
    "    assert(ex1(11) == False)\n",
    "    assert(ex1(10) == True)\n",
    "    assert(ex1(3) == False)\n",
    "    assert(ex1(129) == False)\n",
    "    assert(ex1(21) == True)\n",
    "    \n",
    "\n",
    "   \n",
    "    print(\"solution is correct\")\n",
    "except AssertionError:\n",
    "    print(\"solution is incorrect\")"
   ]
  },
  {
   "cell_type": "markdown",
   "metadata": {},
   "source": [
    "## Exercise 2\n",
    "\n",
    "The $k$-digit number $N$ is an **Armstrong number** if and only if the $k$-th power of each digit sums to $N$.\n",
    "\n",
    "Given a positive integer $N$, return true if and only if it is an Armstrong number.\n",
    "\n",
    " \n",
    "\n",
    "**Example 1:**\n",
    "\n",
    "Input: 153  \n",
    "Output: `True`  \n",
    "Explanation:  \n",
    "153 is a 3-digit number, and $153 = 1^3 + 5^3 + 3^3$.\n",
    "\n",
    "Example 2:\n",
    "\n",
    "Input: 123  \n",
    "Output: `False`  \n",
    "Explanation: \n",
    "123 is a 3-digit number, and $123$ is not $1^3 + 2^3 + 3^3 = 36$.\n",
    "\n",
    " \n",
    "\n",
    "Note:  \n",
    "$1 <= N <= 10^8$\n"
   ]
  },
  {
   "cell_type": "code",
   "execution_count": null,
   "metadata": {},
   "outputs": [],
   "source": [
    "def ex2(n):\n",
    "    pass\n",
    "\n",
    "try:\n",
    "    assert(ex2(153) == True)\n",
    "    assert(ex2(123) == False)\n",
    "    assert(ex2(1) == True)\n",
    "    print(\"solution is correct\")\n",
    "except AssertionError:\n",
    "    print(\"solution is incorrect\")"
   ]
  },
  {
   "cell_type": "markdown",
   "metadata": {},
   "source": [
    "## Exercise 3\n",
    "\n",
    "Given a stream of integers and a window size, calculate the moving average of all integers in the sliding window.\n",
    "\n",
    "Implement the `MovingAverage` class:\n",
    "* `MovingAverage(size)` Initializes the object with the size of the window size.\n",
    "* `next(val)` Returns the moving average of the last size values of the stream.\n",
    "\n",
    "**Example 1:** \n",
    "movingAverage = MovingAverage(3);  \n",
    "movingAverage.next(1); // return 1.0 = 1 / 1  \n",
    "movingAverage.next(10); // return 5.5 = (1 + 10) / 2  \n",
    "movingAverage.next(3); // return 4.66667 = (1 + 10 + 3) / 3  \n",
    "movingAverage.next(5); // return 6.0 = (10 + 3 + 5) / 3  \n",
    " "
   ]
  },
  {
   "cell_type": "code",
   "execution_count": null,
   "metadata": {},
   "outputs": [],
   "source": [
    "class MovingAverage(object):\n",
    "\n",
    "    def __init__(self, size):\n",
    "        \"\"\"\n",
    "        Initialize your data structure here.\n",
    "        :type size: int\n",
    "        \"\"\"\n",
    "        pass\n",
    "        \n",
    "\n",
    "    def next(self, val):\n",
    "        \"\"\"\n",
    "        :type val: int\n",
    "        :rtype: float\n",
    "        \"\"\"\n",
    "        pass\n",
    "\n",
    "try:\n",
    "    moving_average = MovingAverage(3)\n",
    "    assert(moving_average.next(1) == 1.0)\n",
    "    assert(moving_average.next(10) == 5.5)\n",
    "    assert(moving_average.next(3) == 4.666666666666667)\n",
    "    assert(moving_average.next(5) == 6.0)\n",
    "    moving_average = MovingAverage(5)\n",
    "    assert(moving_average.next(4) == 4.0)\n",
    "    assert(moving_average.next(1) == 2.5)\n",
    "    assert(moving_average.next(10) == 5.0)\n",
    "    assert(moving_average.next(5) == 5.0)\n",
    "    print(\"solution is correct\")\n",
    "except AssertionError:\n",
    "    print(\"solution is incorrect\")\n"
   ]
  },
  {
   "cell_type": "code",
   "execution_count": null,
   "metadata": {},
   "outputs": [],
   "source": []
  }
 ],
 "metadata": {
  "kernelspec": {
   "display_name": "Python 3",
   "language": "python",
   "name": "python3"
  },
  "language_info": {
   "codemirror_mode": {
    "name": "ipython",
    "version": 3
   },
   "file_extension": ".py",
   "mimetype": "text/x-python",
   "name": "python",
   "nbconvert_exporter": "python",
   "pygments_lexer": "ipython3",
   "version": "3.8.7"
  }
 },
 "nbformat": 4,
 "nbformat_minor": 4
}
