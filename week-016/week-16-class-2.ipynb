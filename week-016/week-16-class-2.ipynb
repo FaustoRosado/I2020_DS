{
 "cells": [
  {
   "cell_type": "markdown",
   "metadata": {},
   "source": [
    "<div style=\"background: #000;\n",
    "            color: #FFF;\n",
    "            margin: 0px;\n",
    "                padding: 10px 0px 20px 0px;\n",
    "            text-align: center; \n",
    "                \">\n",
    "    <span style=\"margin-left: -15px;\"><img src=\"https://tkhv2-static.s3.amazonaws.com/static-final/assets/img/sec_logo2sec.png\"></img></span>\n",
    "    <h2 style=\"margin: 0; padding: 0;\">Data Science Fellowship</h2>\n",
    "    <h1 style=\"padding: 0px 0px 0px 0px;\">Week 16 - Class 2 - 01/20!</h1>\n",
    "</div>"
   ]
  },
  {
   "cell_type": "markdown",
   "metadata": {},
   "source": [
    "## Objectives for this week:\n",
    "* Introduction to Data Science\n",
    "* Introduction to Statistical Analysis\n",
    "* Statistical Libraries in Python\n",
    "\n",
    "## Todays Agenda\n",
    "* Probability\n",
    "* Intro to linear algebra\n",
    "* Intro to data visualizations"
   ]
  },
  {
   "cell_type": "markdown",
   "metadata": {},
   "source": [
    "<a href=\"#\" id=\"hw\"></a>\n",
    "<div style=\"background: #000;\n",
    "            color: #FFF;\n",
    "            margin: 0px;\n",
    "                padding: 10px 0px 20px 0px;\n",
    "            text-align: center; \n",
    "                \">\n",
    "    <h1 style=\"padding: 0px 0px 0px 0px;\">Homework Presentations</h1>\n",
    "</div>"
   ]
  },
  {
   "cell_type": "markdown",
   "metadata": {},
   "source": [
    "### Exercise 2: \n",
    "(Due Jan 20th)\n",
    "\n",
    "Given integer array `nums`, return the third maximum number in this array. If the third maximum does not exist, return the maximum number.\n",
    "\n",
    "`Example 1:`  \n",
    "__Input__: nums = [3,2,1]  \n",
    "__Output__: 1  \n",
    "__Explanation__: The third maximum is 1.  \n",
    "\n",
    "`Example 2:`  \n",
    "__Input__: nums = [1,2]  \n",
    "__Output__: 2  \n",
    "__Explanation__: The third maximum does not exist, so the maximum (2) is returned instead.  \n",
    "\n",
    "`Example 3:`  \n",
    "__Input__: nums = [2,2,3,1]  \n",
    "__Output__: 1  \n",
    "__Explanation__: Note that the third maximum here means the third maximum distinct number.\n",
    "Both numbers with value 2 are both considered as second maximum.  \n",
    " \n",
    " "
   ]
  },
  {
   "cell_type": "code",
   "execution_count": null,
   "metadata": {},
   "outputs": [],
   "source": [
    "def ex2(nums):\n",
    "    nums = sorted(set(nums))\n",
    "    if len(nums) < 3: return nums[-1]\n",
    "    else: return nums[-3]\n",
    "\n",
    "print(ex2([3,2,1]))\n",
    "print(ex2([1,2]))\n",
    "print(ex2([2,2,3,1]))"
   ]
  },
  {
   "cell_type": "code",
   "execution_count": null,
   "metadata": {},
   "outputs": [],
   "source": [
    "try:\n",
    "    assert(ex2([3,2,1]) == 1)\n",
    "    assert(ex2([1,2]) == 2)\n",
    "    assert(ex2([2,2,3,1]) == 1)\n",
    "    print(\"solution is correct\")\n",
    "except AssertionError:\n",
    "    print(\"solution is incorrect\")"
   ]
  },
  {
   "cell_type": "markdown",
   "metadata": {},
   "source": [
    "<a href=\"#\" id=\"hw\"></a>\n",
    "<div style=\"background: #000;\n",
    "            color: #FFF;\n",
    "            margin-bottom: 10px;\n",
    "            padding: 10px 0px 20px 0px;\n",
    "            text-align: center; \n",
    "                \">\n",
    "    <h1 style=\"padding: 0px 0px 0px 0px;\">Probability</h1>\n",
    "</div>\n"
   ]
  },
  {
   "cell_type": "code",
   "execution_count": 1,
   "metadata": {},
   "outputs": [],
   "source": [
    "from fractions import Fraction\n",
    "\n",
    "def P(event, space): \n",
    "    \"The probability of an event, given a sample space of equiprobable outcomes.\"\n",
    "    return Fraction(len(event & space), \n",
    "                    len(space))\n",
    "\n",
    "D    = {1, 2, 3, 4, 5, 6}"
   ]
  },
  {
   "cell_type": "code",
   "execution_count": 21,
   "metadata": {},
   "outputs": [
    {
     "data": {
      "text/plain": [
       "Fraction(1, 2)"
      ]
     },
     "execution_count": 21,
     "metadata": {},
     "output_type": "execute_result"
    }
   ],
   "source": [
    "from fractions import Fraction\n",
    "\n",
    "def P(event, space): \n",
    "    \"The probability of an event, given a sample space of equiprobable outcomes.\"\n",
    "    return Fraction(len(event & space), \n",
    "                    len(space))\n",
    "\n",
    "D    = {1, 2, 3, 4, 5, 6}\n",
    "E= {1,2,3}\n",
    "P(E,D)"
   ]
  },
  {
   "cell_type": "markdown",
   "metadata": {
    "button": false,
    "new_sheet": false,
    "run_control": {
     "read_only": false
    }
   },
   "source": [
    "\n",
    "\n",
    "# Urn Problems\n",
    "\n",
    "Around 1700, Jacob Bernoulli wrote about removing colored balls from an urn in his landmark treatise *[Ars Conjectandi](https://en.wikipedia.org/wiki/Ars_Conjectandi)*, and ever since then, explanations of probability have relied on [urn problems](https://www.google.com/webhp?sourceid=chrome-instant&ion=1&espv=2&ie=UTF-8#q=probability%20ball%20urn). (You'd think the urns would be empty by now.) \n",
    "\n",
    "![Jacob Bernoulli](http://www2.stetson.edu/~efriedma/periodictable/jpg/Bernoulli-Jacob.jpg)\n",
    "<center><a href=\"https://en.wikipedia.org/wiki/Jacob_Bernoulli\">Jacob Bernoulli</a><br>1700</center>\n",
    "\n",
    "For example, here is a three-part problem [adapted](http://mathforum.org/library/drmath/view/69151.html)  from mathforum.org:\n",
    "\n",
    "> An urn contains 23 balls: 8 white, 6 blue, and 9 red.  We select six balls at random (each possible selection is equally likely). What is the probability of each of these possible outcomes:\n",
    "\n",
    "> 1. all balls are red\n",
    "2. 3 are blue, 2 are white, and 1 is red\n",
    "3. exactly 4 balls are white\n",
    "\n",
    "So, an outcome is a set of 6 balls, and the sample space is the set of all possible 6 ball combinations. We'll solve each of the 3 parts using our `P` function, and also using basic arithmetic; that is, *counting*. Counting is a bit tricky because:\n",
    "- We have multiple balls of the same color. \n",
    "- An outcome is a *set* of balls, where order doesn't matter, not a *sequence*, where order matters.\n",
    "\n",
    "To account for the first issue, I'll have 8 different white balls labelled `'W1'` through `'W8'`, rather than having eight balls all labelled `'W'`.  That makes it clear that selecting `'W1'` is different from selecting `'W2'`.\n",
    "\n",
    "The second issue is handled automatically by the `P` function, but if I want to do calculations by hand, I will sometimes first count the number of *permutations* of balls, then get the number of *combinations* by dividing the number of permutations by *c*!, where *c* is the number of balls in a combination. For example, if I want to choose 2 white balls from the 8 available, there are 8 ways to choose a first white ball and 7 ways to choose a second, and therefore 8 &times; 7 = 56 permutations of two white balls. But there are only 56 / 2 = 28 combinations, because `(W1, W2)` is the same combination as `(W2, W1)`.\n",
    "\n",
    "We'll start by defining the contents of the urn:"
   ]
  },
  {
   "cell_type": "code",
   "execution_count": 2,
   "metadata": {
    "button": false,
    "collapsed": false,
    "jupyter": {
     "outputs_hidden": false
    },
    "new_sheet": false,
    "run_control": {
     "read_only": false
    }
   },
   "outputs": [],
   "source": [
    "def cross(A, B):\n",
    "    \"The set of ways of concatenating one item from collection A with one from B.\"\n",
    "    return {a + b \n",
    "            for a in A for b in B}"
   ]
  },
  {
   "cell_type": "code",
   "execution_count": 3,
   "metadata": {},
   "outputs": [
    {
     "data": {
      "text/plain": [
       "{'W1', 'W2', 'W3', 'W4'}"
      ]
     },
     "execution_count": 3,
     "metadata": {},
     "output_type": "execute_result"
    }
   ],
   "source": [
    "cross('W', '1234')"
   ]
  },
  {
   "cell_type": "code",
   "execution_count": 4,
   "metadata": {
    "button": false,
    "collapsed": false,
    "jupyter": {
     "outputs_hidden": false
    },
    "new_sheet": false,
    "run_control": {
     "read_only": false
    }
   },
   "outputs": [
    {
     "data": {
      "text/plain": [
       "{'B1',\n",
       " 'B2',\n",
       " 'B3',\n",
       " 'B4',\n",
       " 'B5',\n",
       " 'B6',\n",
       " 'R1',\n",
       " 'R2',\n",
       " 'R3',\n",
       " 'R4',\n",
       " 'R5',\n",
       " 'R6',\n",
       " 'R7',\n",
       " 'R8',\n",
       " 'R9',\n",
       " 'W1',\n",
       " 'W2',\n",
       " 'W3',\n",
       " 'W4',\n",
       " 'W5',\n",
       " 'W6',\n",
       " 'W7',\n",
       " 'W8'}"
      ]
     },
     "execution_count": 4,
     "metadata": {},
     "output_type": "execute_result"
    }
   ],
   "source": [
    "urn = cross('W', '12345678') | cross('B', '123456') | cross('R', '123456789') \n",
    "\n",
    "urn"
   ]
  },
  {
   "cell_type": "code",
   "execution_count": 5,
   "metadata": {
    "button": false,
    "collapsed": false,
    "jupyter": {
     "outputs_hidden": false
    },
    "new_sheet": false,
    "run_control": {
     "read_only": false
    }
   },
   "outputs": [
    {
     "data": {
      "text/plain": [
       "23"
      ]
     },
     "execution_count": 5,
     "metadata": {},
     "output_type": "execute_result"
    }
   ],
   "source": [
    "len(urn)"
   ]
  },
  {
   "cell_type": "markdown",
   "metadata": {
    "button": false,
    "new_sheet": false,
    "run_control": {
     "read_only": false
    }
   },
   "source": [
    "Now we can define the sample space, `U6`, as the set of all 6-ball combinations.  We use `itertools.combinations` to generate the combinations, and then join each combination into a string:"
   ]
  },
  {
   "cell_type": "code",
   "execution_count": 6,
   "metadata": {
    "button": false,
    "collapsed": false,
    "jupyter": {
     "outputs_hidden": false
    },
    "new_sheet": false,
    "run_control": {
     "read_only": false
    }
   },
   "outputs": [
    {
     "data": {
      "text/plain": [
       "100947"
      ]
     },
     "execution_count": 6,
     "metadata": {},
     "output_type": "execute_result"
    }
   ],
   "source": [
    "import itertools\n",
    "\n",
    "def combos(items, n):\n",
    "    \"All combinations of n items; each combo as a concatenated str.\"\n",
    "    return {' '.join(combo) \n",
    "            for combo in itertools.combinations(items, n)}\n",
    "\n",
    "U6 = combos(urn, 6)\n",
    "\n",
    "len(U6)"
   ]
  },
  {
   "cell_type": "markdown",
   "metadata": {
    "button": false,
    "new_sheet": false,
    "run_control": {
     "read_only": false
    }
   },
   "source": [
    "I don't want to print all 100,947 members of the sample space; let's just peek at a random sample of them:"
   ]
  },
  {
   "cell_type": "code",
   "execution_count": 7,
   "metadata": {
    "button": false,
    "collapsed": false,
    "jupyter": {
     "outputs_hidden": false
    },
    "new_sheet": false,
    "run_control": {
     "read_only": false
    }
   },
   "outputs": [
    {
     "data": {
      "text/plain": [
       "['R9 B5 W2 R5 R4 W5',\n",
       " 'R9 R1 W7 B1 R5 R4',\n",
       " 'W8 B5 R3 W1 R4 W4',\n",
       " 'R9 R3 W2 W4 B3 B6',\n",
       " 'B4 W1 B2 W4 B6 R2',\n",
       " 'R9 B4 W6 R3 R4 R6',\n",
       " 'B5 W6 R1 W7 R4 W5',\n",
       " 'B5 R3 R8 R4 W5 R2',\n",
       " 'R9 W7 R8 W3 B3 R7',\n",
       " 'B4 R3 R1 W1 B2 B3']"
      ]
     },
     "execution_count": 7,
     "metadata": {},
     "output_type": "execute_result"
    }
   ],
   "source": [
    "import random\n",
    "\n",
    "random.sample(U6, 10)"
   ]
  },
  {
   "cell_type": "markdown",
   "metadata": {
    "button": false,
    "new_sheet": false,
    "run_control": {
     "read_only": false
    }
   },
   "source": [
    "Is 100,947 really the right number of ways of choosing 6 out of 23 items, or  \"23 choose 6\", as  mathematicians [call it](https://en.wikipedia.org/wiki/Combination)?  Well, we can choose any of 23 for the first item, any of 22 for the second, and so on down to 18 for the sixth. But we don't care about the ordering of the six items, so we divide the product by 6! (the number of permutations of 6 things) giving us:\n",
    "\n",
    "$$23 ~\\mbox{choose}~ 6 = \\frac{23 \\cdot 22 \\cdot 21 \\cdot 20 \\cdot 19 \\cdot 18}{6!} = 100947$$\n",
    "\n",
    "Note that $23 \\cdot 22 \\cdot 21 \\cdot 20 \\cdot 19 \\cdot 18 = 23! \\;/\\; 17!$, so, generalizing, we can write:\n",
    "\n",
    "$$n ~\\mbox{choose}~ c = \\frac{n!}{(n - c)! \\cdot c!}$$\n",
    "\n",
    "And we can translate that to code and verify that 23 choose 6 is 100,947:"
   ]
  },
  {
   "cell_type": "raw",
   "metadata": {},
   "source": [
    "N = 23\n",
    "C = 6\n",
    "N-C 17\n",
    "\n",
    "23 * 22 * 21 * 20 *19 *18 *\n",
    "---\n",
    " 6!"
   ]
  },
  {
   "cell_type": "raw",
   "metadata": {},
   "source": [
    "23 balls\n",
    "\n",
    "23 * 22 * 21 * 20 * 19 * 18\n",
    "-------\n",
    "only interested in 6 \n",
    "\n",
    "why do we divide by the 6!\n",
    "\n",
    "combinations not permutations, ORDERING DOES NOT MATTER"
   ]
  },
  {
   "cell_type": "code",
   "execution_count": null,
   "metadata": {},
   "outputs": [],
   "source": [
    "23! * 22! * 21! * 20! * 19! * 18!\n",
    "---------------------------\n",
    "6!"
   ]
  },
  {
   "cell_type": "code",
   "execution_count": 10,
   "metadata": {
    "button": false,
    "new_sheet": false,
    "run_control": {
     "read_only": false
    }
   },
   "outputs": [],
   "source": [
    "from math import factorial\n",
    "\n",
    "def choose(n, c):\n",
    "    \"Number of ways to choose c items from a list of n items.\"\n",
    "    return factorial(n) // (factorial(n - c) * factorial(c))"
   ]
  },
  {
   "cell_type": "code",
   "execution_count": 11,
   "metadata": {
    "button": false,
    "collapsed": false,
    "jupyter": {
     "outputs_hidden": false
    },
    "new_sheet": false,
    "run_control": {
     "read_only": false
    }
   },
   "outputs": [
    {
     "data": {
      "text/plain": [
       "100947"
      ]
     },
     "execution_count": 11,
     "metadata": {},
     "output_type": "execute_result"
    }
   ],
   "source": [
    "choose(23, 6)"
   ]
  },
  {
   "cell_type": "markdown",
   "metadata": {
    "button": false,
    "new_sheet": false,
    "run_control": {
     "read_only": false
    }
   },
   "source": [
    "Now we're ready to answer the 4 problems: \n",
    "\n",
    "### Urn Problem 1: what's the probability of selecting 6 red balls? "
   ]
  },
  {
   "cell_type": "code",
   "execution_count": 23,
   "metadata": {},
   "outputs": [
    {
     "data": {
      "text/plain": [
       "{'R1 R5 R4 R7 R6 R2',\n",
       " 'R1 R8 R4 R7 R6 R2',\n",
       " 'R1 R8 R5 R4 R6 R2',\n",
       " 'R1 R8 R5 R4 R7 R2',\n",
       " 'R1 R8 R5 R4 R7 R6',\n",
       " 'R1 R8 R5 R7 R6 R2',\n",
       " 'R3 R1 R4 R7 R6 R2',\n",
       " 'R3 R1 R5 R4 R6 R2',\n",
       " 'R3 R1 R5 R4 R7 R2',\n",
       " 'R3 R1 R5 R4 R7 R6',\n",
       " 'R3 R1 R5 R7 R6 R2',\n",
       " 'R3 R1 R8 R4 R6 R2',\n",
       " 'R3 R1 R8 R4 R7 R2',\n",
       " 'R3 R1 R8 R4 R7 R6',\n",
       " 'R3 R1 R8 R5 R4 R2',\n",
       " 'R3 R1 R8 R5 R4 R6',\n",
       " 'R3 R1 R8 R5 R4 R7',\n",
       " 'R3 R1 R8 R5 R6 R2',\n",
       " 'R3 R1 R8 R5 R7 R2',\n",
       " 'R3 R1 R8 R5 R7 R6',\n",
       " 'R3 R1 R8 R7 R6 R2',\n",
       " 'R3 R5 R4 R7 R6 R2',\n",
       " 'R3 R8 R4 R7 R6 R2',\n",
       " 'R3 R8 R5 R4 R6 R2',\n",
       " 'R3 R8 R5 R4 R7 R2',\n",
       " 'R3 R8 R5 R4 R7 R6',\n",
       " 'R3 R8 R5 R7 R6 R2',\n",
       " 'R8 R5 R4 R7 R6 R2',\n",
       " 'R9 R1 R4 R7 R6 R2',\n",
       " 'R9 R1 R5 R4 R6 R2',\n",
       " 'R9 R1 R5 R4 R7 R2',\n",
       " 'R9 R1 R5 R4 R7 R6',\n",
       " 'R9 R1 R5 R7 R6 R2',\n",
       " 'R9 R1 R8 R4 R6 R2',\n",
       " 'R9 R1 R8 R4 R7 R2',\n",
       " 'R9 R1 R8 R4 R7 R6',\n",
       " 'R9 R1 R8 R5 R4 R2',\n",
       " 'R9 R1 R8 R5 R4 R6',\n",
       " 'R9 R1 R8 R5 R4 R7',\n",
       " 'R9 R1 R8 R5 R6 R2',\n",
       " 'R9 R1 R8 R5 R7 R2',\n",
       " 'R9 R1 R8 R5 R7 R6',\n",
       " 'R9 R1 R8 R7 R6 R2',\n",
       " 'R9 R3 R1 R4 R6 R2',\n",
       " 'R9 R3 R1 R4 R7 R2',\n",
       " 'R9 R3 R1 R4 R7 R6',\n",
       " 'R9 R3 R1 R5 R4 R2',\n",
       " 'R9 R3 R1 R5 R4 R6',\n",
       " 'R9 R3 R1 R5 R4 R7',\n",
       " 'R9 R3 R1 R5 R6 R2',\n",
       " 'R9 R3 R1 R5 R7 R2',\n",
       " 'R9 R3 R1 R5 R7 R6',\n",
       " 'R9 R3 R1 R7 R6 R2',\n",
       " 'R9 R3 R1 R8 R4 R2',\n",
       " 'R9 R3 R1 R8 R4 R6',\n",
       " 'R9 R3 R1 R8 R4 R7',\n",
       " 'R9 R3 R1 R8 R5 R2',\n",
       " 'R9 R3 R1 R8 R5 R4',\n",
       " 'R9 R3 R1 R8 R5 R6',\n",
       " 'R9 R3 R1 R8 R5 R7',\n",
       " 'R9 R3 R1 R8 R6 R2',\n",
       " 'R9 R3 R1 R8 R7 R2',\n",
       " 'R9 R3 R1 R8 R7 R6',\n",
       " 'R9 R3 R4 R7 R6 R2',\n",
       " 'R9 R3 R5 R4 R6 R2',\n",
       " 'R9 R3 R5 R4 R7 R2',\n",
       " 'R9 R3 R5 R4 R7 R6',\n",
       " 'R9 R3 R5 R7 R6 R2',\n",
       " 'R9 R3 R8 R4 R6 R2',\n",
       " 'R9 R3 R8 R4 R7 R2',\n",
       " 'R9 R3 R8 R4 R7 R6',\n",
       " 'R9 R3 R8 R5 R4 R2',\n",
       " 'R9 R3 R8 R5 R4 R6',\n",
       " 'R9 R3 R8 R5 R4 R7',\n",
       " 'R9 R3 R8 R5 R6 R2',\n",
       " 'R9 R3 R8 R5 R7 R2',\n",
       " 'R9 R3 R8 R5 R7 R6',\n",
       " 'R9 R3 R8 R7 R6 R2',\n",
       " 'R9 R5 R4 R7 R6 R2',\n",
       " 'R9 R8 R4 R7 R6 R2',\n",
       " 'R9 R8 R5 R4 R6 R2',\n",
       " 'R9 R8 R5 R4 R7 R2',\n",
       " 'R9 R8 R5 R4 R7 R6',\n",
       " 'R9 R8 R5 R7 R6 R2'}"
      ]
     },
     "execution_count": 23,
     "metadata": {},
     "output_type": "execute_result"
    }
   ],
   "source": [
    "red6 = {s for s in U6 if s.count('R') == 6}\n",
    "\n",
    "red6"
   ]
  },
  {
   "cell_type": "code",
   "execution_count": 24,
   "metadata": {},
   "outputs": [
    {
     "data": {
      "text/plain": [
       "84"
      ]
     },
     "execution_count": 24,
     "metadata": {},
     "output_type": "execute_result"
    }
   ],
   "source": [
    "# Pythonic way \n",
    "\n",
    "red6 = {s for s in U6 if s.count('R') == 6}\n",
    "\n",
    "len(red6)"
   ]
  },
  {
   "cell_type": "code",
   "execution_count": 25,
   "metadata": {
    "button": false,
    "collapsed": false,
    "jupyter": {
     "outputs_hidden": false
    },
    "new_sheet": false,
    "run_control": {
     "read_only": false
    }
   },
   "outputs": [
    {
     "data": {
      "text/plain": [
       "Fraction(4, 4807)"
      ]
     },
     "execution_count": 25,
     "metadata": {},
     "output_type": "execute_result"
    }
   ],
   "source": [
    "#taking total sample space \n",
    "\n",
    "red6 = {s for s in U6 if s.count('R') == 6}\n",
    "\n",
    "P(red6, U6)"
   ]
  },
  {
   "cell_type": "code",
   "execution_count": 26,
   "metadata": {},
   "outputs": [
    {
     "data": {
      "text/plain": [
       "0.0008321198252548367"
      ]
     },
     "execution_count": 26,
     "metadata": {},
     "output_type": "execute_result"
    }
   ],
   "source": [
    "4/4807"
   ]
  },
  {
   "cell_type": "code",
   "execution_count": 27,
   "metadata": {},
   "outputs": [
    {
     "data": {
      "text/plain": [
       "0.08321198252548366"
      ]
     },
     "execution_count": 27,
     "metadata": {},
     "output_type": "execute_result"
    }
   ],
   "source": [
    "#percent\n",
    "4/4807 * 100"
   ]
  },
  {
   "cell_type": "markdown",
   "metadata": {
    "button": false,
    "new_sheet": false,
    "run_control": {
     "read_only": false
    }
   },
   "source": [
    "Let's investigate a bit more. How many ways of getting 6 red balls are there?"
   ]
  },
  {
   "cell_type": "code",
   "execution_count": 14,
   "metadata": {
    "button": false,
    "collapsed": false,
    "jupyter": {
     "outputs_hidden": false
    },
    "new_sheet": false,
    "run_control": {
     "read_only": false
    }
   },
   "outputs": [
    {
     "data": {
      "text/plain": [
       "84"
      ]
     },
     "execution_count": 14,
     "metadata": {},
     "output_type": "execute_result"
    }
   ],
   "source": [
    "len(red6)"
   ]
  },
  {
   "cell_type": "markdown",
   "metadata": {
    "button": false,
    "new_sheet": false,
    "run_control": {
     "read_only": false
    }
   },
   "source": [
    "Why are there 84 ways?  Because there are 9 red balls in the urn, and we are asking how many ways we can choose 6 of them:"
   ]
  },
  {
   "cell_type": "code",
   "execution_count": 28,
   "metadata": {
    "button": false,
    "collapsed": false,
    "jupyter": {
     "outputs_hidden": false
    },
    "new_sheet": false,
    "run_control": {
     "read_only": false
    }
   },
   "outputs": [
    {
     "data": {
      "text/plain": [
       "84"
      ]
     },
     "execution_count": 28,
     "metadata": {},
     "output_type": "execute_result"
    }
   ],
   "source": [
    "# 9 choose 6\n",
    "\n",
    "choose(9, 6)"
   ]
  },
  {
   "cell_type": "markdown",
   "metadata": {
    "button": false,
    "new_sheet": false,
    "run_control": {
     "read_only": false
    }
   },
   "source": [
    "So the probabilty of 6 red balls is then just 9 choose 6 divided by the size of the sample space:"
   ]
  },
  {
   "cell_type": "code",
   "execution_count": 29,
   "metadata": {
    "button": false,
    "collapsed": false,
    "jupyter": {
     "outputs_hidden": false
    },
    "new_sheet": false,
    "run_control": {
     "read_only": false
    }
   },
   "outputs": [
    {
     "data": {
      "text/plain": [
       "True"
      ]
     },
     "execution_count": 29,
     "metadata": {},
     "output_type": "execute_result"
    }
   ],
   "source": [
    "# True prob, 2 different, latter is formulaic\n",
    "\n",
    "P(red6, U6) == Fraction(choose(9, 6), \n",
    "                        len(U6))"
   ]
  },
  {
   "cell_type": "markdown",
   "metadata": {
    "button": false,
    "new_sheet": false,
    "run_control": {
     "read_only": false
    }
   },
   "source": [
    "### Urn Problem 2: what is the probability of 3 blue, 2 white, and 1 red?"
   ]
  },
  {
   "cell_type": "code",
   "execution_count": 30,
   "metadata": {},
   "outputs": [
    {
     "data": {
      "text/plain": [
       "100947"
      ]
     },
     "execution_count": 30,
     "metadata": {},
     "output_type": "execute_result"
    }
   ],
   "source": [
    "len(U6)"
   ]
  },
  {
   "cell_type": "code",
   "execution_count": 31,
   "metadata": {
    "scrolled": true
   },
   "outputs": [
    {
     "data": {
      "text/plain": [
       "{'B5 W7 R8 R5 R7 R2',\n",
       " 'R8 W3 W4 R6 W5 R2',\n",
       " 'W8 W6 W2 B1 R4 R7',\n",
       " 'W6 R3 W3 R5 B6 R2',\n",
       " 'R3 W7 R8 W1 B2 W5',\n",
       " 'R9 B4 R3 R1 R5 B2',\n",
       " 'B4 W8 W2 W3 W1 B6',\n",
       " 'B5 W1 W4 R6 W5 B6',\n",
       " 'R9 B4 B5 W6 R5 B2',\n",
       " 'W8 W6 W4 R7 B6 R2',\n",
       " 'R3 R1 B1 W3 W1 B2',\n",
       " 'R9 W8 R1 W7 B3 W5',\n",
       " 'B4 B5 R8 B1 W1 B3',\n",
       " 'B5 W7 B1 W3 W4 R2',\n",
       " 'R9 W7 W2 B1 R4 W5',\n",
       " 'B4 R3 R1 R4 B2 B3',\n",
       " 'W6 R1 R5 B3 R7 R2',\n",
       " 'B4 B1 R4 B2 W4 W5',\n",
       " 'W6 R1 W7 W3 R4 R2',\n",
       " 'W2 R4 B3 R7 W5 B6',\n",
       " 'B5 R1 W2 W4 R6 R2',\n",
       " 'W7 W2 B1 W1 R5 R7',\n",
       " 'B5 W7 B1 W4 B3 R2',\n",
       " 'W8 B5 B1 R5 R6 W5',\n",
       " 'B5 R4 B2 W4 B3 R2',\n",
       " 'W8 R1 W2 R5 B2 R7',\n",
       " 'W8 B1 W3 R5 W5 B6',\n",
       " 'R1 R8 W3 W1 W5 R2',\n",
       " 'B4 W8 W6 R3 R1 B6',\n",
       " 'B4 R8 W3 W4 R7 R2',\n",
       " 'B4 W6 W1 B2 B3 R2',\n",
       " 'R9 B1 R4 W4 R6 R2',\n",
       " 'B5 W3 R4 W4 B6 R2',\n",
       " 'W8 W2 R5 B2 B3 W5',\n",
       " 'R3 B1 W1 W4 R7 R2',\n",
       " 'B4 R1 R8 R6 W5 R2',\n",
       " 'W8 B1 W1 R7 W5 B6',\n",
       " 'W2 R8 R4 W4 R6 B6',\n",
       " 'B5 W3 R7 R6 B6 R2',\n",
       " 'R9 W8 R3 R4 W5 B6',\n",
       " 'W8 B5 R3 W7 R8 R5',\n",
       " 'W8 R3 R1 W1 B3 R6',\n",
       " 'W8 R1 W2 W4 B3 B6',\n",
       " 'R1 W1 R4 B2 W4 R7',\n",
       " 'R9 B4 W2 W1 R7 R2',\n",
       " 'W8 R8 W4 B3 R6 B6',\n",
       " 'B4 W6 B1 R5 B3 W5',\n",
       " 'B4 W8 W3 R4 B3 R6',\n",
       " 'W6 B1 W1 B3 B6 R2',\n",
       " 'W6 W7 W3 B2 W4 B6',\n",
       " 'R9 B4 R8 B1 W3 W4',\n",
       " 'W8 B5 R8 B1 R4 R7',\n",
       " 'B4 W6 W2 B1 R7 W5',\n",
       " 'R9 R3 B1 R4 W4 R6',\n",
       " 'R9 R3 R1 W2 W4 R7',\n",
       " 'W8 R8 R4 R7 R6 W5',\n",
       " 'W7 B1 W1 R5 R4 B6',\n",
       " 'W6 B1 R4 B2 W5 B6',\n",
       " 'R1 W7 W2 R7 R6 W5',\n",
       " 'R9 W6 W7 W2 R8 B3',\n",
       " 'W8 R3 R8 W1 B3 B6',\n",
       " 'B4 W7 W3 W1 R4 R7',\n",
       " 'W6 R3 W4 R6 B6 R2',\n",
       " 'R9 W8 B5 B1 W1 R4',\n",
       " 'R9 R3 W7 R4 B3 R7',\n",
       " 'R3 R1 B1 W3 R4 B2',\n",
       " 'B5 R3 W7 B1 W3 W4',\n",
       " 'B4 R3 W7 B1 B3 R2',\n",
       " 'R9 B5 W7 W2 R8 R4',\n",
       " 'W7 W2 W3 W1 B2 B6',\n",
       " 'W7 W2 W3 B2 R7 W5',\n",
       " 'R9 R3 W3 R6 W5 B6',\n",
       " 'R9 B4 B5 R3 B1 B3',\n",
       " 'W8 R8 R5 W4 B3 W5',\n",
       " 'W8 W7 W3 W1 W4 B3',\n",
       " 'B4 W2 R8 B1 W3 W1',\n",
       " 'W7 W2 R8 W4 B3 B6',\n",
       " 'R9 R3 R8 W3 R5 R6',\n",
       " 'W7 B1 W1 B3 R7 B6',\n",
       " 'R9 R3 R8 B1 W3 R6',\n",
       " 'B4 B5 W3 W4 B3 R2',\n",
       " 'B5 R3 R1 B1 W4 R2',\n",
       " 'R9 B4 W8 W7 B3 R2',\n",
       " 'R9 W6 R8 W1 B3 R2',\n",
       " 'W8 W7 R8 B2 R7 W5',\n",
       " 'W6 W2 R4 B2 W4 B3',\n",
       " 'B4 R1 W7 W2 W3 R2',\n",
       " 'B5 W6 W7 R4 R7 R2',\n",
       " 'W8 W2 R8 B2 W4 B6',\n",
       " 'R1 B1 W1 R4 R7 R2',\n",
       " 'R9 W6 W7 B3 B6 R2',\n",
       " 'R9 W7 R8 B3 R6 W5',\n",
       " 'W6 W2 W1 R4 R6 B6',\n",
       " 'R9 W8 W6 R8 B3 B6',\n",
       " 'R9 B4 W6 R3 R5 R7',\n",
       " 'W6 R1 W3 W4 R7 R2',\n",
       " 'B4 R3 W4 R7 R6 W5',\n",
       " 'R3 W7 W2 W1 R7 R6',\n",
       " 'B4 R1 W2 B1 W4 R7',\n",
       " 'B4 W8 B1 B2 B3 R6',\n",
       " 'B5 W6 W2 B1 R4 W5',\n",
       " 'B5 R3 W2 W4 R6 B6',\n",
       " 'W7 W3 R4 B2 R7 R6',\n",
       " 'W2 W1 B2 W4 W5 B6',\n",
       " 'B4 R1 W7 R5 B6 R2',\n",
       " 'R9 R1 W2 B1 W4 R7',\n",
       " 'R9 R8 B2 B3 R7 R6',\n",
       " 'R1 R8 B2 W4 R6 B6',\n",
       " 'B4 W8 R1 W2 W3 B2',\n",
       " 'B4 W8 R1 B3 R7 W5',\n",
       " 'R9 R3 R8 W1 B2 R7',\n",
       " 'B4 W6 R4 B2 R6 B6',\n",
       " 'B5 R1 W3 R4 B3 W5',\n",
       " 'R9 R1 W2 B2 B6 R2',\n",
       " 'W8 W6 W2 W3 R5 R6',\n",
       " 'R9 W6 R3 W3 W5 B6',\n",
       " 'B4 B1 W1 R4 R7 R2',\n",
       " 'R3 R5 B2 W4 W5 R2',\n",
       " 'B5 R1 W2 R8 B1 W3',\n",
       " 'R9 W8 R1 R5 R7 B6',\n",
       " 'W6 W7 R4 B2 W4 R7',\n",
       " 'R9 B4 R8 W1 R4 W5',\n",
       " 'W8 R8 B1 W4 R7 B6',\n",
       " 'R1 W2 R8 B2 W5 R2',\n",
       " 'W8 R8 B1 R5 B3 R6',\n",
       " 'B5 W6 R1 W4 R7 W5',\n",
       " 'B5 R3 R1 B2 R7 R6',\n",
       " 'B4 B5 R1 W2 W1 R7',\n",
       " 'R9 R3 R8 R5 B2 B6',\n",
       " 'B4 B5 R1 W1 R7 R6',\n",
       " 'B4 W7 R8 B1 B3 R2',\n",
       " 'W8 B1 B2 W4 B3 R7',\n",
       " 'R3 W2 B1 R5 B2 W4',\n",
       " 'W8 B5 W6 R3 W7 R2',\n",
       " 'B4 B5 W6 W1 R5 R7',\n",
       " 'B5 R3 R5 R4 B2 R2',\n",
       " 'W3 W1 B3 R6 B6 R2',\n",
       " 'R9 B4 W6 W2 R6 B6',\n",
       " 'R1 W2 B1 R4 W4 B6',\n",
       " 'R9 W1 R5 B2 B3 B6',\n",
       " 'B5 R3 R5 R4 W5 R2',\n",
       " 'R3 W2 W1 B2 W4 R6',\n",
       " 'B4 W6 W1 B3 R7 B6',\n",
       " 'W6 W2 R4 B3 R7 B6',\n",
       " 'R1 W7 W2 B3 R6 R2',\n",
       " 'B5 W6 W2 B1 B2 R6',\n",
       " 'W8 B5 W2 R6 B6 R2',\n",
       " 'B4 W8 R3 B1 R6 R2',\n",
       " 'R9 R3 W7 B2 W4 W5',\n",
       " 'B1 W1 R5 B3 R6 B6',\n",
       " 'R9 W8 W6 W7 R5 R4',\n",
       " 'W8 R1 W2 B1 B2 W5',\n",
       " 'B5 W6 R4 W4 B3 R2',\n",
       " 'B4 W2 W1 B2 R7 W5',\n",
       " 'R9 B4 R3 R6 W5 B6',\n",
       " 'W8 W6 R1 W1 R7 R2',\n",
       " 'R9 R3 W2 B3 W5 B6',\n",
       " 'B4 R5 R4 B2 W4 B3',\n",
       " 'B4 W6 R1 W7 B3 R7',\n",
       " 'W8 B5 R8 B1 R4 B2',\n",
       " 'B4 R3 W3 R6 B6 R2',\n",
       " 'W6 R3 W7 B1 B6 R2',\n",
       " 'R9 B4 R3 W2 W1 W5',\n",
       " 'W8 W6 W1 B2 R6 B6',\n",
       " 'R9 W8 B1 W3 R4 B3',\n",
       " 'W6 W2 W1 B2 R6 W5',\n",
       " 'B4 W8 R3 W2 W1 B2',\n",
       " 'B4 R3 B1 W3 W5 B6',\n",
       " 'R9 B5 R3 R5 B6 R2',\n",
       " 'R9 B4 W6 R1 B2 R6',\n",
       " 'B4 W7 W2 W1 R5 R2',\n",
       " 'R9 B4 W8 W7 R4 B6',\n",
       " 'W8 W6 W1 R6 B6 R2',\n",
       " 'R9 B4 R3 R5 W5 R2',\n",
       " 'B4 W8 R3 W2 W3 B2',\n",
       " 'W8 W7 W2 R7 W5 B6',\n",
       " 'R3 R1 W2 B1 W1 W5',\n",
       " 'W2 R8 B1 W3 B3 B6',\n",
       " 'W8 R1 W3 W1 B3 R6',\n",
       " 'B4 B5 R8 W1 W5 B6',\n",
       " 'W7 R5 R4 B3 R7 R2',\n",
       " 'R9 R3 W2 R5 B2 B6',\n",
       " 'B4 R8 W4 B3 B6 R2',\n",
       " 'W7 R8 B1 R4 R7 R6',\n",
       " 'B5 W2 W3 B2 B3 B6',\n",
       " 'B4 R3 W7 R5 B6 R2',\n",
       " 'W8 W6 B1 R7 B6 R2',\n",
       " 'W2 B1 B2 B3 R7 R6',\n",
       " 'W8 B5 R3 R8 W3 W4',\n",
       " 'B5 W2 R5 R7 W5 R2',\n",
       " 'R9 R1 W7 W2 R8 W5',\n",
       " 'B5 R1 W1 R7 R6 W5',\n",
       " 'B4 W2 R5 R4 W4 B6',\n",
       " 'B4 R1 B1 W1 W4 W5',\n",
       " 'B4 W2 R8 W1 R5 R7',\n",
       " 'R9 W2 W1 R5 R6 R2',\n",
       " 'R3 W7 R4 B3 B6 R2',\n",
       " 'R1 R8 W1 R4 B3 R6',\n",
       " 'B5 R3 R1 W4 W5 R2',\n",
       " 'R9 W6 R8 W3 R7 B6',\n",
       " 'B4 B5 R3 R1 B2 R2',\n",
       " 'B4 W6 W2 W3 R5 R7',\n",
       " 'B5 R3 R1 W1 B2 W4',\n",
       " 'R9 W8 R1 B1 R4 R7',\n",
       " 'B4 B1 W1 W4 B3 R2',\n",
       " 'R3 R1 W7 R8 B3 R6',\n",
       " 'W3 W1 B2 W4 B6 R2',\n",
       " 'W8 B5 R1 W7 B2 B3',\n",
       " 'R9 R3 R1 B1 R4 R7',\n",
       " 'W6 R1 B1 R5 B3 W5',\n",
       " 'W2 B3 R7 W5 B6 R2',\n",
       " 'W7 W2 R8 R5 B3 R2',\n",
       " 'W7 W1 R4 W4 B3 W5',\n",
       " 'B4 R1 W1 R5 B3 W5',\n",
       " 'B5 R3 W3 W1 R6 R2',\n",
       " 'R9 R1 B1 W3 B6 R2',\n",
       " 'R9 W8 R1 W7 W3 W4',\n",
       " 'R9 R3 R1 W2 R5 W5',\n",
       " 'R9 R1 W2 W3 W4 R2',\n",
       " 'R9 B5 R1 R5 R7 R6',\n",
       " 'R9 B5 R3 W2 B1 R6',\n",
       " 'W1 B2 W4 R6 B6 R2',\n",
       " 'R9 W7 W2 B1 B3 W5',\n",
       " 'R3 W2 R5 B2 W4 R7',\n",
       " 'B4 W6 R8 W1 R7 R6',\n",
       " 'W8 B5 W7 B3 R7 B6',\n",
       " 'B4 W8 B5 W6 R6 B6',\n",
       " 'B4 B5 W7 R5 W4 R6',\n",
       " 'B4 R1 B1 B3 R6 B6',\n",
       " 'R1 R8 R5 R4 R7 W5',\n",
       " 'B5 W2 R8 R4 W4 R7',\n",
       " 'B4 W8 R3 B3 R7 R6',\n",
       " 'W6 W2 R8 R5 B6 R2',\n",
       " 'R9 B5 R4 R6 B6 R2',\n",
       " 'R9 W8 R1 B1 R5 B6',\n",
       " 'B4 W2 B2 R7 B6 R2',\n",
       " 'R1 R8 W3 R5 B6 R2',\n",
       " 'W8 B5 R1 R4 B3 R6',\n",
       " 'W8 R3 W3 W1 W5 R2',\n",
       " 'W8 W7 W2 B1 W1 R7',\n",
       " 'R9 B4 B5 B1 W3 B6',\n",
       " 'W2 B1 R4 W4 B3 B6',\n",
       " 'R9 R3 R1 W2 R4 R6',\n",
       " 'B5 W2 W3 B3 W5 B6',\n",
       " 'W6 R3 R1 W7 B1 W4',\n",
       " 'B5 W7 W3 R4 R7 R6',\n",
       " 'R9 B5 W2 W3 W1 R6',\n",
       " 'W8 W6 W3 W1 R7 R2',\n",
       " 'R3 B1 R5 B2 R6 B6',\n",
       " 'W8 B5 R3 W7 B1 W4',\n",
       " 'R8 B1 W3 R5 B2 W4',\n",
       " 'R9 R3 B1 R5 B3 B6',\n",
       " 'B4 W6 W1 B2 W5 R2',\n",
       " 'W8 W7 R8 W3 W1 R5',\n",
       " 'R9 B4 W2 R5 B2 B6',\n",
       " 'B4 W8 R1 W7 W2 R4',\n",
       " 'B4 W8 B5 R3 W3 W4',\n",
       " 'B4 W7 R5 B2 W5 B6',\n",
       " 'R9 W7 W4 B3 B6 R2',\n",
       " 'R9 R3 W2 W1 R4 R6',\n",
       " 'B5 W1 R5 B2 R7 W5',\n",
       " 'R1 R8 W3 R4 B6 R2',\n",
       " 'W7 B1 W4 R7 R6 W5',\n",
       " 'B4 R1 B1 W4 B3 B6',\n",
       " 'W6 R8 B1 W3 W1 W5',\n",
       " 'W6 R3 W2 W1 B3 B6',\n",
       " 'W8 R3 W7 R4 W4 R6',\n",
       " 'R3 R1 W7 B1 R5 B6',\n",
       " 'R1 R8 B1 R5 R7 B6',\n",
       " 'R9 W1 B2 B3 R6 B6',\n",
       " 'R9 W8 B5 R1 W3 R4',\n",
       " 'R9 B4 B5 W7 B3 R7',\n",
       " 'R3 W7 B1 W3 R5 B6',\n",
       " 'R3 W2 R5 R6 B6 R2',\n",
       " 'W6 R3 W7 B1 W1 R2',\n",
       " 'W6 R1 W7 W3 R6 W5',\n",
       " 'R9 B4 B5 R3 R4 R7',\n",
       " 'B5 W3 W4 R7 R6 R2',\n",
       " 'R9 R3 R8 B1 W3 R5',\n",
       " 'W8 B1 R5 B2 B3 R2',\n",
       " 'W8 W2 R8 W3 R7 R2',\n",
       " 'R3 R8 R5 R4 R7 R2',\n",
       " 'W8 R3 W7 B2 W4 R7',\n",
       " 'R1 R8 R4 B3 R7 R6',\n",
       " 'B5 W6 B1 B2 R7 W5',\n",
       " 'R9 R3 W2 B1 W3 W5',\n",
       " 'B5 R3 W2 W1 R5 B2',\n",
       " 'B5 B1 R4 B2 B3 R2',\n",
       " 'R9 B4 W2 B2 B6 R2',\n",
       " 'B5 W7 B1 W3 B2 W5',\n",
       " 'W2 W1 B2 W4 W5 R2',\n",
       " 'R9 W3 R4 B2 R6 B6',\n",
       " 'B4 B5 R1 W2 B1 W3',\n",
       " 'W8 B5 W7 W1 B2 B3',\n",
       " 'W7 W3 W1 R5 B2 B6',\n",
       " 'B5 W6 R3 W7 B2 B6',\n",
       " 'R9 B4 R8 B3 R6 B6',\n",
       " 'B5 R3 W2 W4 B6 R2',\n",
       " 'W8 W6 R8 R5 B2 R7',\n",
       " 'B4 B5 R1 W2 R4 B3',\n",
       " 'W8 B5 W7 B1 W1 R4',\n",
       " 'R9 W6 W3 W4 B3 B6',\n",
       " 'R9 W8 W6 R8 W5 R2',\n",
       " 'R9 W2 B1 W3 W4 R7',\n",
       " 'R9 R3 R4 W4 R7 R6',\n",
       " 'B4 B5 R3 R1 B1 R2',\n",
       " 'B4 W6 W2 W3 B2 W4',\n",
       " 'W8 R8 W1 R4 B6 R2',\n",
       " 'R9 R5 R7 W5 B6 R2',\n",
       " 'B5 W6 R8 W3 B3 R2',\n",
       " 'B4 B5 W7 R5 B2 W5',\n",
       " 'W8 W6 R1 R4 R6 R2',\n",
       " 'B4 B5 W7 R8 W5 B6',\n",
       " 'R3 R1 W2 R5 B3 R2',\n",
       " 'B5 W6 R3 W7 W3 B6',\n",
       " 'R9 W6 R1 R8 R6 W5',\n",
       " 'R9 W8 R3 W7 W2 W4',\n",
       " 'B5 W7 W2 R8 W1 R7',\n",
       " 'R9 W8 W6 R1 W7 R5',\n",
       " 'B4 B5 R1 R8 B1 R6',\n",
       " 'R9 W8 R1 R8 R4 W4',\n",
       " 'B4 R1 W7 W1 R4 B3',\n",
       " 'B5 B1 W3 B2 W4 B3',\n",
       " 'R3 W2 R4 W4 R6 R2',\n",
       " 'R1 W2 W3 B3 R7 B6',\n",
       " 'R1 W7 B1 R4 W4 B3',\n",
       " 'W8 W3 R5 R4 R6 B6',\n",
       " 'B4 B5 W6 R8 R4 R2',\n",
       " 'W6 R8 W1 B2 B3 R2',\n",
       " 'R3 R1 W2 B2 W4 B6',\n",
       " 'R9 B1 R4 B3 W5 B6',\n",
       " 'B4 W8 B5 B1 R5 R4',\n",
       " 'W6 W2 B1 W4 R6 W5',\n",
       " 'R9 B4 R1 B3 R6 R2',\n",
       " 'B4 W6 R4 B3 R6 R2',\n",
       " 'W6 R3 R1 R8 B1 R6',\n",
       " 'W6 W7 W4 R7 R6 B6',\n",
       " 'W6 R3 B1 W1 R5 B3',\n",
       " 'W8 W6 R3 W2 W1 R5',\n",
       " 'R1 W7 W2 B1 R6 W5',\n",
       " 'R9 R1 W7 R8 B1 R2',\n",
       " 'W7 R8 R5 B3 R7 R2',\n",
       " 'W6 R3 R1 W2 W3 R2',\n",
       " 'W6 R3 W2 B1 W1 R5',\n",
       " 'W6 B1 W1 R5 R7 R2',\n",
       " 'R9 W1 R4 B3 R7 W5',\n",
       " 'W8 B3 R7 R6 W5 B6',\n",
       " 'R9 W8 W6 R3 R1 R6',\n",
       " 'R9 W7 B1 R5 R7 R2',\n",
       " 'B4 W6 R5 R4 W5 R2',\n",
       " 'B5 R3 R8 W3 R7 R2',\n",
       " 'B4 W6 W7 W3 R5 B3',\n",
       " 'R9 W8 W6 R3 R8 R5',\n",
       " 'R3 W7 W2 B1 W3 B6',\n",
       " 'R1 R8 B2 W4 R7 W5',\n",
       " 'R3 W2 B2 W4 R6 W5',\n",
       " 'R9 W8 B5 W7 B1 B6',\n",
       " 'R3 R1 W2 R6 B6 R2',\n",
       " 'B4 R3 R1 W3 R4 W4',\n",
       " 'R1 W7 B1 W3 R5 W4',\n",
       " 'B4 R8 B1 R7 W5 R2',\n",
       " 'W2 R8 W3 R6 W5 R2',\n",
       " 'R9 W8 R1 B1 W1 B2',\n",
       " 'R9 B4 W7 W3 W1 R6',\n",
       " 'B4 R3 W7 W3 B2 W5',\n",
       " 'W8 W2 R4 W4 B3 R2',\n",
       " 'W7 W2 B1 W3 B2 R2',\n",
       " 'W8 W7 W1 W4 R7 W5',\n",
       " 'R9 B4 W6 R1 B2 B6',\n",
       " 'W6 R1 R8 B2 B3 R2',\n",
       " 'R9 R1 R4 W4 B3 R2',\n",
       " 'W8 W2 R8 B2 W4 B3',\n",
       " 'R1 R8 B1 R5 R4 W5',\n",
       " 'R9 B5 W3 R4 B3 W5',\n",
       " 'R9 B5 W6 R1 W4 B3',\n",
       " 'W6 R1 R5 R7 W5 B6',\n",
       " 'W8 R1 W7 R8 B2 B3',\n",
       " 'R9 B4 B5 B1 R4 W4',\n",
       " 'R9 R3 B1 B2 W4 B6',\n",
       " 'B4 B5 R8 W1 B2 R2',\n",
       " 'R1 W7 W2 W3 W1 R6',\n",
       " 'R8 B2 W4 B3 B6 R2',\n",
       " 'B5 W6 W4 R7 R6 B6',\n",
       " 'R1 W7 R4 B3 W5 R2',\n",
       " 'B5 R3 B1 W4 W5 B6',\n",
       " 'R9 B4 W8 B5 R8 R4',\n",
       " 'B5 R8 B1 W3 W5 R2',\n",
       " 'B4 W8 W2 B1 W3 W4',\n",
       " 'R8 B1 W1 W4 R7 W5',\n",
       " 'B4 W1 R5 R4 R7 W5',\n",
       " 'W6 W7 R5 R4 B2 B3',\n",
       " 'B4 R1 W7 W2 W3 R7',\n",
       " 'B5 W6 R3 W7 W3 R7',\n",
       " 'W8 B5 W2 W1 W4 W5',\n",
       " 'W6 W2 W1 R5 B2 R2',\n",
       " 'W6 W2 R8 B3 R6 B6',\n",
       " 'W8 W7 R8 B1 R5 B2',\n",
       " 'R9 W8 B3 R6 W5 R2',\n",
       " 'B4 B5 W3 R5 B3 R6',\n",
       " 'R3 R8 B1 R5 R4 W4',\n",
       " 'W3 R5 W4 R7 R6 W5',\n",
       " 'B4 R1 B1 W1 W4 R7',\n",
       " 'B5 W6 R1 B1 W3 R5',\n",
       " 'R9 R3 W2 R5 W4 R7',\n",
       " 'B5 R3 R8 W3 R7 W5',\n",
       " 'R9 W8 W2 R8 W3 W5',\n",
       " 'R9 R1 R8 B3 R7 R2',\n",
       " 'B4 R8 R5 W4 B6 R2',\n",
       " 'B5 W6 R1 B1 R4 B2',\n",
       " 'R9 B4 W6 R3 B3 R2',\n",
       " 'W8 R3 R1 W7 W2 B3',\n",
       " 'W7 W2 R8 W3 W1 W4',\n",
       " 'R9 R1 W7 W2 W1 R7',\n",
       " 'R9 B4 W2 W1 R4 R6',\n",
       " 'B4 W8 R1 B1 W1 B2',\n",
       " 'W7 R8 W3 W1 R5 B2',\n",
       " 'R9 W8 W6 W1 R5 B6',\n",
       " 'B4 R1 R8 R7 R6 B6',\n",
       " 'R9 B4 B5 W7 W2 R7',\n",
       " 'R9 W8 R1 W2 W4 R2',\n",
       " 'B4 R3 R8 R5 B2 R2',\n",
       " 'W8 W2 W1 R5 W4 R6',\n",
       " 'W8 B5 B1 R5 R7 B6',\n",
       " 'R3 R1 W2 W4 R7 B6',\n",
       " 'R9 B5 R3 R1 W7 R5',\n",
       " 'R9 W8 B5 R8 W3 B3',\n",
       " 'W8 B5 W2 W5 B6 R2',\n",
       " 'W6 R3 R8 W4 B3 R7',\n",
       " 'R9 B4 W6 B1 W1 R6',\n",
       " 'W8 B5 W3 W4 W5 R2',\n",
       " 'R3 W7 W2 R8 R5 R7',\n",
       " 'R9 R1 R8 R7 B6 R2',\n",
       " 'B4 R1 W7 W4 B3 W5',\n",
       " 'R9 B5 W6 W7 W2 R7',\n",
       " 'W6 R4 B3 W5 B6 R2',\n",
       " 'R3 R5 R4 R6 B6 R2',\n",
       " 'R9 B5 W3 R5 R6 B6',\n",
       " 'R3 W7 R5 R7 R6 W5',\n",
       " 'R9 W8 W6 W4 R6 R2',\n",
       " 'B4 W8 R8 W3 W1 B6',\n",
       " 'B5 W6 R5 R4 B6 R2',\n",
       " 'W7 W3 W1 R7 B6 R2',\n",
       " 'R9 W8 R1 W2 R8 B3',\n",
       " 'B4 W8 R1 B1 W1 R7',\n",
       " 'W8 W6 W7 R5 W4 R2',\n",
       " 'W8 R1 W7 W2 R5 R7',\n",
       " 'B4 W7 R8 R4 W4 R7',\n",
       " 'R9 B4 W8 B5 W1 B3',\n",
       " 'R9 B4 W8 R1 W2 R4',\n",
       " 'B5 W6 R1 R8 B1 B6',\n",
       " 'B5 W6 W2 R8 W1 R4',\n",
       " 'R9 W8 W6 W7 W2 W5',\n",
       " 'R9 R3 R8 R4 B2 B6',\n",
       " 'R3 R8 B1 R5 R7 B6',\n",
       " 'R1 W2 R5 B3 R7 B6',\n",
       " 'W8 B5 W3 R5 W5 R2',\n",
       " 'W8 R3 B1 R5 R6 R2',\n",
       " 'W6 R3 W7 R8 W4 B3',\n",
       " 'B5 W2 R8 B1 W1 R5',\n",
       " 'W8 B5 R8 W4 R7 B6',\n",
       " 'R9 B5 R5 R4 B3 R6',\n",
       " 'R9 B5 R3 R1 W3 R6',\n",
       " 'B5 R1 B1 W4 W5 B6',\n",
       " 'R9 W3 B2 B3 R7 B6',\n",
       " 'W8 B5 W6 R3 R7 B6',\n",
       " 'W8 R3 R1 W3 R4 B3',\n",
       " 'B5 R8 B1 W1 W5 B6',\n",
       " 'W2 R8 B1 W3 R4 W5',\n",
       " 'W8 B5 W6 W7 W2 B6',\n",
       " 'R1 R8 R4 W4 R7 R6',\n",
       " 'R3 B1 W1 R4 W5 B6',\n",
       " 'W7 R8 B2 B3 R7 R2',\n",
       " 'R9 W8 B5 W3 B2 W4',\n",
       " 'B5 W6 R3 R1 W3 R2',\n",
       " 'B4 B5 R1 W3 R4 B3',\n",
       " 'W6 R1 W1 R5 B3 W5',\n",
       " 'B5 R1 W3 R7 R6 B6',\n",
       " 'B5 B1 W4 W5 B6 R2',\n",
       " 'B4 R8 R4 B2 W5 B6',\n",
       " 'W2 B1 R4 B2 B3 R7',\n",
       " 'W8 W7 R8 R5 W5 R2',\n",
       " 'R3 R1 W2 W3 B3 R7',\n",
       " 'R9 R8 W3 R5 B6 R2',\n",
       " 'R9 R1 W7 B1 R5 W5',\n",
       " 'B5 R1 W3 W1 R5 W4',\n",
       " 'W6 W7 W2 W1 R4 W4',\n",
       " 'R9 W6 R1 W1 B2 B3',\n",
       " 'R3 R5 R6 W5 B6 R2',\n",
       " 'W2 R8 W3 W1 R4 R2',\n",
       " 'R1 R8 R4 B3 R6 B6',\n",
       " 'R9 W8 R1 W1 R5 R2',\n",
       " 'B5 R1 W2 R4 W4 B6',\n",
       " 'R3 R1 W2 W4 B3 R7',\n",
       " 'W7 R8 B2 R7 B6 R2',\n",
       " 'W6 R3 R1 B3 R7 B6',\n",
       " 'R9 R1 W2 R4 B3 R6',\n",
       " 'B4 W6 W7 B1 B6 R2',\n",
       " 'R9 W6 R3 W2 W1 R7',\n",
       " 'B4 W8 R8 W1 W4 R2',\n",
       " 'W8 W3 W1 R6 W5 R2',\n",
       " 'R9 B5 W6 R8 W1 B2',\n",
       " 'B4 W8 B5 W7 W2 R7',\n",
       " 'W8 W6 R3 W3 W4 R2',\n",
       " 'R9 B4 W6 R8 R4 B2',\n",
       " 'R8 W3 R4 W4 B3 R6',\n",
       " 'B5 W2 W1 W4 R6 B6',\n",
       " 'R1 W7 R4 W4 R6 W5',\n",
       " 'B4 B5 W2 B1 W3 W4',\n",
       " 'B4 B5 B1 W3 R6 R2',\n",
       " 'R1 W7 R8 R4 R6 W5',\n",
       " 'W6 B1 W3 R5 B2 B3',\n",
       " 'W6 R3 R1 W1 R5 B6',\n",
       " 'B4 W8 W6 B1 W5 B6',\n",
       " 'B5 R5 R4 B2 R6 R2',\n",
       " 'W6 W7 W2 R5 W4 R6',\n",
       " 'R8 R5 B2 W4 R7 W5',\n",
       " 'R9 W8 B5 R1 R8 W5',\n",
       " 'R9 R3 W1 B3 R6 R2',\n",
       " 'W8 R3 R8 B1 W3 B2',\n",
       " 'B5 W6 R5 B2 R6 W5',\n",
       " 'W2 W3 W1 R4 B2 B6',\n",
       " 'W6 W2 W3 W1 B3 R7',\n",
       " 'R9 W6 R3 B3 R6 B6',\n",
       " 'W8 R8 W3 R4 B6 R2',\n",
       " 'B4 B1 W3 B3 R7 R2',\n",
       " 'R3 R1 B1 W1 B6 R2',\n",
       " 'B5 R1 W2 R8 W4 B3',\n",
       " 'B4 W8 W6 R3 R1 R5',\n",
       " 'R9 R3 W2 B3 R7 R2',\n",
       " 'R9 B4 W6 B1 W4 W5',\n",
       " 'R1 R8 B1 B2 B3 R7',\n",
       " 'B5 R8 W3 W4 B3 R6',\n",
       " 'R9 R1 W7 W3 R5 R2',\n",
       " 'W8 W6 B1 W4 B3 R2',\n",
       " 'W8 R3 R8 B1 W1 B2',\n",
       " 'W8 B5 R3 W7 W3 B6',\n",
       " 'B5 W7 W2 W4 R7 R2',\n",
       " 'R9 W8 B5 R8 W4 B3',\n",
       " 'R9 R1 R8 W1 B2 R6',\n",
       " 'W7 R8 R5 W4 R7 R6',\n",
       " 'B4 W8 R8 B2 W5 B6',\n",
       " 'R9 W8 B5 R3 W3 B6',\n",
       " 'B4 W2 W3 R4 R6 R2',\n",
       " 'B4 W6 R4 W4 W5 R2',\n",
       " 'R3 W7 W2 W3 B3 R7',\n",
       " 'R3 R8 W3 R5 R7 B6',\n",
       " 'R9 W6 R1 W3 B3 R6',\n",
       " 'R9 W6 R1 R5 R4 B3',\n",
       " 'B5 R1 W7 R8 R4 W5',\n",
       " 'W6 R3 W2 B2 W4 R6',\n",
       " 'W6 B1 W3 W4 R7 R6',\n",
       " 'R9 R3 B1 B2 B3 R6',\n",
       " 'W6 R3 B1 B2 B3 R6',\n",
       " 'B1 W1 B2 B3 B6 R2',\n",
       " 'R3 R1 W2 W3 B2 R7',\n",
       " 'R9 W7 W3 R7 B6 R2',\n",
       " 'B4 W6 R8 R5 R4 B3',\n",
       " 'R3 W7 W2 R5 B2 R2',\n",
       " 'B5 R1 R8 W3 B3 R2',\n",
       " 'R9 W6 R3 W7 R8 R4',\n",
       " 'B5 W2 B1 W1 W4 B3',\n",
       " 'R9 R3 W3 B2 R6 R2',\n",
       " 'B4 W6 R5 R4 B2 B6',\n",
       " 'B4 R1 W7 R8 R4 W5',\n",
       " 'R1 W7 W3 R4 W4 B3',\n",
       " 'R3 R8 B1 W1 R6 R2',\n",
       " 'B5 R3 R1 W7 W2 R5',\n",
       " 'R3 W1 R4 B2 B3 R6',\n",
       " 'R1 W7 W3 R5 B3 R6',\n",
       " 'B4 R3 R1 W7 R5 R7',\n",
       " 'B4 R8 R4 B3 R7 W5',\n",
       " 'R9 R4 W4 B3 R7 W5',\n",
       " 'W8 W6 W7 W3 R6 R2',\n",
       " 'R3 W7 W1 R5 R4 R7',\n",
       " 'W2 R8 R5 B2 R6 W5',\n",
       " 'W8 B5 R3 B2 B3 B6',\n",
       " 'W6 W7 B1 B2 B3 B6',\n",
       " 'R9 B1 R5 B3 W5 B6',\n",
       " 'R3 R1 W7 W1 R5 W5',\n",
       " 'R9 B1 R7 R6 W5 B6',\n",
       " 'B5 W3 W1 R5 B2 W4',\n",
       " 'R9 B5 B1 R7 R6 W5',\n",
       " 'W8 W7 R4 B3 R6 B6',\n",
       " 'B5 W7 W3 B2 B6 R2',\n",
       " 'W8 W6 R1 W2 R6 B6',\n",
       " 'R9 R3 W3 R5 B3 R7',\n",
       " 'W6 R3 W7 R8 R6 W5',\n",
       " 'R3 R1 W4 R7 R6 R2',\n",
       " 'W8 B5 R1 R4 B2 W5',\n",
       " 'R3 W3 R4 B3 B6 R2',\n",
       " 'W7 W3 R5 B2 B3 R6',\n",
       " 'W6 R3 W7 W1 R4 R6',\n",
       " 'R9 B4 R1 W7 W2 R7',\n",
       " 'B4 W2 W1 R5 B3 R7',\n",
       " 'B4 W8 W6 W1 W5 R2',\n",
       " 'R9 B1 R4 W4 R7 B6',\n",
       " 'R9 R3 W3 B3 R6 W5',\n",
       " 'W8 R1 B1 B2 R7 R2',\n",
       " 'R9 B5 W3 W1 R6 B6',\n",
       " 'R9 W8 R1 W1 W4 R6',\n",
       " 'W6 R1 R8 B1 W1 B3',\n",
       " 'R9 B5 R1 W3 R5 R4',\n",
       " 'B4 R3 R1 R8 W3 W5',\n",
       " 'R9 R1 B1 R5 R4 R6',\n",
       " 'R9 R8 W3 R7 W5 R2',\n",
       " 'W8 W6 R8 W1 R7 B6',\n",
       " 'W8 R3 W7 R8 W1 B2',\n",
       " 'R9 R3 W4 B3 R7 B6',\n",
       " 'R9 R1 R8 W3 W5 B6',\n",
       " 'B5 W6 W7 W1 R5 R2',\n",
       " 'R9 W7 R8 W3 R4 B6',\n",
       " 'B4 R1 W1 R4 B3 R2',\n",
       " 'R9 B5 W3 W1 B3 R6',\n",
       " 'B5 W6 R3 W2 R6 R2',\n",
       " 'R9 W8 B5 W7 B1 R4',\n",
       " 'B4 W3 R4 B2 B3 B6',\n",
       " 'R9 W8 B5 R4 B2 W5',\n",
       " 'R9 R3 W2 R5 B2 W4',\n",
       " 'W2 R5 R4 W4 B3 B6',\n",
       " 'B4 W2 R8 R5 R4 W5',\n",
       " 'W8 R8 W4 B3 B6 R2',\n",
       " 'W6 W7 W2 W3 R5 R2',\n",
       " 'W6 W2 W3 B2 B3 R7',\n",
       " 'W7 R8 W3 R4 W4 B6',\n",
       " 'B4 W6 R8 W3 W1 R7',\n",
       " 'R9 B4 R3 W2 R8 W1',\n",
       " 'R9 W8 R3 W3 B3 R6',\n",
       " 'R1 W2 R8 R4 R7 R6',\n",
       " 'R1 R8 W3 B2 W4 B6',\n",
       " 'W8 W6 R3 W1 R5 W4',\n",
       " 'R9 B4 R3 R1 W3 B6',\n",
       " 'R9 W8 W6 W2 R8 B1',\n",
       " 'R9 R8 W3 W1 R4 B3',\n",
       " 'W8 W6 R3 B1 W3 W5',\n",
       " 'B5 W6 R1 W1 W4 R6',\n",
       " 'R9 W7 W3 R7 R6 B6',\n",
       " 'B5 R8 W1 B3 R6 W5',\n",
       " 'B4 W6 W7 W2 B3 R2',\n",
       " 'B5 W6 B1 R4 B3 R7',\n",
       " 'W6 R3 W7 W1 R4 W5',\n",
       " 'R9 B4 W8 R3 R1 B2',\n",
       " 'B5 W7 W2 W3 R5 B6',\n",
       " 'W7 W2 W1 R4 B3 B6',\n",
       " 'R9 B4 B5 W7 R7 R6',\n",
       " 'B1 W3 R4 W4 B3 R2',\n",
       " 'W6 R1 W2 R4 R7 B6',\n",
       " 'R9 W1 B3 R7 W5 B6',\n",
       " 'W6 R1 W2 R4 R7 W5',\n",
       " 'R3 W2 W4 R7 R6 W5',\n",
       " 'W8 B5 R3 W7 B1 W5',\n",
       " 'R9 R1 B3 R7 W5 B6',\n",
       " 'R9 W2 W1 R4 B3 R6',\n",
       " 'R9 R1 R5 R6 W5 B6',\n",
       " 'B4 W2 R4 B2 B3 R7',\n",
       " 'R9 W7 R8 W1 B2 B3',\n",
       " 'R9 W7 R8 R4 W4 B6',\n",
       " 'W6 W7 W2 R8 R4 B6',\n",
       " 'B4 W8 W7 R5 R4 W4',\n",
       " 'R3 B1 W1 R4 W4 R2',\n",
       " 'B4 R1 W2 R8 R4 R7',\n",
       " 'R9 B4 W8 R3 B2 R6',\n",
       " 'R9 W2 R4 R7 W5 B6',\n",
       " 'B4 W8 R1 B1 W4 W5',\n",
       " 'R9 W8 B5 R1 B1 R6',\n",
       " 'W8 R8 R4 B3 W5 R2',\n",
       " 'R3 R1 W3 W1 B3 R7',\n",
       " 'W8 B5 W6 R1 W4 R2',\n",
       " 'W8 B5 R5 R4 W4 B6',\n",
       " 'B5 R1 B1 W1 B3 R6',\n",
       " 'R9 W6 R3 R1 R8 W5',\n",
       " 'R3 W3 W1 R5 R7 R2',\n",
       " 'W8 W7 B1 W1 R4 R6',\n",
       " 'B4 R3 W3 R5 B2 W4',\n",
       " 'W8 W6 W7 W2 W1 B3',\n",
       " 'W3 W4 B3 R7 W5 R2',\n",
       " 'R9 R3 W7 R8 W1 R2',\n",
       " 'B4 B5 R5 W4 B3 R2',\n",
       " 'W8 W7 R8 R7 B6 R2',\n",
       " 'R9 B4 B5 W6 B2 R7',\n",
       " 'R5 R4 B2 W4 B3 B6',\n",
       " 'W8 W6 R1 B1 R5 W4',\n",
       " 'R3 R1 W7 B1 W1 R5',\n",
       " 'B4 R3 W7 B3 B6 R2',\n",
       " 'R3 W3 W1 R5 W4 R2',\n",
       " 'B5 W7 W1 R5 B6 R2',\n",
       " 'W6 R3 B1 W1 B2 B3',\n",
       " 'W7 W2 R8 B1 W1 W4',\n",
       " 'B5 W6 R8 R5 B3 R6',\n",
       " 'B4 B5 W3 R5 R4 B3',\n",
       " 'R8 W1 R5 B3 B6 R2',\n",
       " 'W7 B1 W3 R4 B2 R2',\n",
       " 'R9 W6 W7 R5 R4 W4',\n",
       " 'W8 W6 R3 R1 R8 W3',\n",
       " 'B5 W6 W2 W3 W1 W5',\n",
       " 'R9 R1 W7 R8 B1 R4',\n",
       " 'W8 R3 R8 R5 B2 B6',\n",
       " 'W6 R3 B1 W3 R5 R7',\n",
       " 'R9 W2 W3 W1 W5 R2',\n",
       " 'B5 B1 W1 R6 B6 R2',\n",
       " 'W8 R1 W7 R5 W4 R6',\n",
       " 'B4 W8 B5 W1 R4 R2',\n",
       " 'B5 W6 W2 R5 B3 R2',\n",
       " 'R9 W7 W2 R8 W5 R2',\n",
       " 'R8 W1 B2 B3 R7 W5',\n",
       " 'R9 W8 W7 R8 W3 B2',\n",
       " 'R9 R1 W3 W1 W4 R6',\n",
       " 'B4 R3 R8 W4 R6 B6',\n",
       " 'R9 B5 R1 W1 R4 B3',\n",
       " 'R9 B5 W3 W1 R7 B6',\n",
       " 'W8 W6 W7 W3 R4 R2',\n",
       " 'B5 R3 R5 R4 B3 R7',\n",
       " 'B4 W7 W2 B1 R7 R6',\n",
       " 'W8 B5 R1 R5 W4 B6',\n",
       " 'W8 W6 R3 R5 R4 B6',\n",
       " 'W6 R3 W3 B3 R7 B6',\n",
       " 'R8 W1 R5 W4 B3 R6',\n",
       " 'W7 W2 R8 W3 W1 B2',\n",
       " 'R9 W2 R8 W1 R5 R4',\n",
       " 'R9 W6 R3 W2 R5 B6',\n",
       " 'W8 R3 W3 B2 W4 R7',\n",
       " 'B4 W3 R4 W4 B6 R2',\n",
       " 'R3 B1 W1 R5 B2 W5',\n",
       " 'R1 W7 R8 R4 B6 R2',\n",
       " 'R3 W2 B1 B2 R6 B6',\n",
       " 'R9 B4 W7 W2 R8 W4',\n",
       " 'W8 W6 W2 W1 R5 R6',\n",
       " 'W7 R8 B1 B3 R6 R2',\n",
       " 'R9 B4 B1 W1 B2 R6',\n",
       " 'R9 W6 R1 W3 R4 B2',\n",
       " 'W8 W2 R8 R5 R6 W5',\n",
       " 'R9 B5 R1 W1 R4 R7',\n",
       " 'B4 W7 W2 R6 W5 R2',\n",
       " 'R9 B4 W8 W1 R4 W5',\n",
       " 'W6 R5 R4 B2 B3 R6',\n",
       " 'B4 R3 R1 W1 B2 B3',\n",
       " 'R8 B1 W3 R4 W5 R2',\n",
       " 'B4 B5 R3 W1 W4 R2',\n",
       " 'B5 B1 W3 W1 B3 W5',\n",
       " 'B4 W8 R1 B3 R7 B6',\n",
       " 'B4 R3 W7 R4 B3 B6',\n",
       " 'R9 W8 R1 W7 W4 B3',\n",
       " 'B5 W2 W3 R5 B2 R2',\n",
       " 'B5 W6 W2 W1 B2 B6',\n",
       " 'B4 W8 R3 W7 R4 W5',\n",
       " 'W8 R3 R8 R5 R4 R6',\n",
       " 'B4 B1 W4 B3 B6 R2',\n",
       " 'R9 W6 W7 R7 R6 R2',\n",
       " 'R9 W8 W1 B2 R7 W5',\n",
       " 'B4 R1 W7 W1 B2 B3',\n",
       " 'R1 W2 B1 W3 R7 B6',\n",
       " 'W8 R3 R1 R8 W4 R6',\n",
       " 'R1 R8 R5 B2 R6 R2',\n",
       " 'W6 R1 W7 R8 W3 R4',\n",
       " 'W8 B5 W6 W7 R4 W5',\n",
       " 'B4 W6 R3 W4 R6 B6',\n",
       " 'W6 W7 B1 W1 W4 B3',\n",
       " 'B4 W8 W7 W1 B2 R6',\n",
       " 'B4 W7 B2 W4 R6 R2',\n",
       " 'W7 W2 R8 B1 B2 R2',\n",
       " 'W6 R3 W2 W3 R7 R2',\n",
       " 'R3 W2 W3 B2 R6 W5',\n",
       " 'R8 W1 R4 B2 W4 R7',\n",
       " 'R3 W7 R4 W4 R7 B6',\n",
       " 'B1 W3 B2 W4 B6 R2',\n",
       " 'R9 R1 W3 R4 B2 W4',\n",
       " 'R1 R5 R4 W5 B6 R2',\n",
       " 'B4 W8 W7 R8 W3 R2',\n",
       " 'B4 B5 R8 R4 B3 B6',\n",
       " 'W6 W2 B1 B2 W4 B3',\n",
       " 'R1 W7 W2 R8 B1 R2',\n",
       " 'W7 W3 R4 B3 W5 R2',\n",
       " 'B5 W3 R5 W4 B3 B6',\n",
       " 'R1 W2 R8 R7 W5 R2',\n",
       " 'W2 R8 W1 R4 W4 B3',\n",
       " 'W8 R1 W3 W1 R5 B6',\n",
       " 'R9 B5 B1 R5 R4 R2',\n",
       " 'R9 W4 B3 R7 R6 W5',\n",
       " 'R9 B5 W7 W1 R7 B6',\n",
       " 'W6 W2 W1 W4 B3 R6',\n",
       " 'R9 W6 W7 W2 B3 R6',\n",
       " 'B4 R3 W7 W2 W1 B6',\n",
       " 'R9 B4 B5 W6 R4 R6',\n",
       " 'W8 B5 B2 W4 R7 W5',\n",
       " 'R1 W7 R8 B1 B2 R6',\n",
       " 'R1 W7 B1 W5 B6 R2',\n",
       " 'B4 B5 R3 W7 W4 W5',\n",
       " 'B4 W6 R8 W3 W4 R2',\n",
       " 'B4 B5 W6 W7 W1 R6',\n",
       " 'R8 W3 W1 R4 W4 R2',\n",
       " 'B4 W8 R1 W2 R5 R2',\n",
       " 'R9 B4 R1 B1 R5 R4',\n",
       " 'B4 R3 R1 W2 R8 R7',\n",
       " 'B4 W6 R3 W2 W3 B3',\n",
       " 'W8 R3 B1 R4 W4 W5',\n",
       " 'B5 W6 R3 B1 W5 R2',\n",
       " 'B5 W6 W7 B1 W4 W5',\n",
       " 'W8 R8 B1 W1 R4 B6',\n",
       " 'B4 R1 R8 W1 R5 R6',\n",
       " 'B4 R1 B1 W3 R5 R7',\n",
       " 'W8 W2 W3 B2 R6 B6',\n",
       " 'R1 W3 W4 R7 R6 B6',\n",
       " 'B5 R3 R1 R5 R4 W4',\n",
       " 'B4 W8 B5 W1 W5 B6',\n",
       " 'B5 W7 W2 W3 W1 B6',\n",
       " 'B4 W8 B5 R1 W1 R4',\n",
       " 'R1 W2 R8 R5 R7 R6',\n",
       " 'W8 B5 R4 B3 R7 B6',\n",
       " 'W8 W7 R8 B2 W5 R2',\n",
       " 'R9 R1 R8 W1 B2 W5',\n",
       " 'W8 W2 W1 R7 B6 R2',\n",
       " 'R9 W8 R3 R5 R7 R2',\n",
       " 'B4 B5 R1 W3 W4 W5',\n",
       " 'B4 R1 R5 R4 B3 R6',\n",
       " 'W8 W6 R3 W7 W5 B6',\n",
       " 'R9 W6 W3 W4 B3 R6',\n",
       " 'W2 R8 B2 R7 B6 R2',\n",
       " 'B4 W7 R8 R5 B3 R6',\n",
       " 'B4 R3 R5 R4 B3 B6',\n",
       " 'R3 W7 R5 R4 R7 B6',\n",
       " 'R9 B4 R8 B1 B2 B6',\n",
       " 'R9 R8 W1 R5 B2 W4',\n",
       " 'B5 W6 W7 W3 R7 W5',\n",
       " 'R9 W8 W6 W3 B3 R2',\n",
       " 'W6 R3 W2 R8 R5 W4',\n",
       " 'R9 W8 W7 B1 B3 R7',\n",
       " 'B4 W6 W1 R6 W5 B6',\n",
       " 'B5 W3 W1 R4 W5 R2',\n",
       " 'R8 B1 W1 R4 W4 W5',\n",
       " 'W8 R3 B1 W3 B2 W4',\n",
       " 'W8 B5 B1 B2 B3 R2',\n",
       " 'R9 B4 R8 B1 R4 R7',\n",
       " 'R3 R8 B1 W3 R4 B6',\n",
       " 'R3 B1 R5 R7 R6 B6',\n",
       " 'B4 W7 R8 B1 B2 R6',\n",
       " 'W6 B1 W1 R6 W5 B6',\n",
       " 'R9 B5 R5 R7 B6 R2',\n",
       " 'W6 B1 R4 W4 R6 W5',\n",
       " 'R3 W2 B1 R4 B2 B6',\n",
       " 'B5 W6 R3 W1 R4 R2',\n",
       " 'R9 W8 B1 B2 B3 R7',\n",
       " 'W6 W7 W3 R4 R7 R2',\n",
       " 'W8 W2 R8 R5 R4 R6',\n",
       " 'B5 W3 W4 R7 W5 R2',\n",
       " 'W6 R3 W2 R5 B3 R7',\n",
       " 'W6 W2 W1 R5 B3 W5',\n",
       " 'W2 R8 R5 R4 B2 R2',\n",
       " 'R9 R3 W7 W1 R5 R7',\n",
       " 'B4 B5 R1 B1 R5 B2',\n",
       " 'B4 B5 W6 W7 B3 R6',\n",
       " 'W8 R3 B1 W1 B2 B6',\n",
       " 'W6 W3 W1 R6 B6 R2',\n",
       " 'R3 R1 W2 W1 B2 W4',\n",
       " 'B1 W1 B2 W4 R7 R6',\n",
       " 'B4 W2 R8 B2 W4 R2',\n",
       " 'R9 B4 R3 W3 W4 R7',\n",
       " 'W8 R3 W7 R7 R6 B6',\n",
       " 'W8 R3 R8 W1 R7 R2',\n",
       " 'B5 W6 W2 W3 B2 R2',\n",
       " 'B5 R1 W7 W2 R4 W4',\n",
       " 'R1 W2 R8 W1 R5 B2',\n",
       " 'R9 W7 B1 W1 B6 R2',\n",
       " 'B5 R1 W7 W1 R4 R6',\n",
       " 'R3 R8 B1 W3 R4 R6',\n",
       " 'R3 W3 W1 R6 W5 R2',\n",
       " 'W7 R8 B2 R7 R6 B6',\n",
       " 'R9 B1 R5 R4 B3 B6',\n",
       " 'B4 W6 R1 R8 R6 R2',\n",
       " 'R3 W1 R5 W4 W5 B6',\n",
       " 'R9 W8 R3 R1 W4 W5',\n",
       " 'W6 W2 W3 W1 R5 R7',\n",
       " 'R9 B5 B1 W3 W1 B2',\n",
       " 'R9 R3 W2 R8 R6 R2',\n",
       " 'B4 W8 R8 W4 B3 B6',\n",
       " 'B5 W4 B3 R7 R6 R2',\n",
       " 'R9 W6 W7 B1 B3 W5',\n",
       " 'W8 R1 R8 R5 R6 W5',\n",
       " 'B4 W7 B1 R4 W4 B3',\n",
       " 'B4 R1 R8 B3 R7 B6',\n",
       " 'R3 B2 W4 B3 R7 B6',\n",
       " 'R1 W7 R5 R4 W5 R2',\n",
       " 'R9 W6 W3 R4 W4 B3',\n",
       " 'R9 B4 R1 W2 R5 R4',\n",
       " 'R3 R8 B1 W1 W5 R2',\n",
       " 'R9 R3 W3 R4 R7 W5',\n",
       " 'B5 R1 W4 R7 W5 B6',\n",
       " 'R9 W8 B5 R1 R8 B3',\n",
       " 'W8 B5 W6 W2 R8 R7',\n",
       " 'W8 R3 W2 B2 W4 R2',\n",
       " 'W8 R3 R1 B3 W5 B6',\n",
       " 'W8 B5 R8 B3 R6 R2',\n",
       " 'B5 R3 R1 R8 B2 R6',\n",
       " 'W8 R3 W2 R8 R6 R2',\n",
       " 'B4 W6 W7 W1 W4 B3',\n",
       " 'W6 W7 R4 W4 R6 W5',\n",
       " 'B4 B5 R3 R1 B2 R6',\n",
       " 'R1 B2 W4 R6 W5 B6',\n",
       " 'W8 B5 R1 W3 R6 R2',\n",
       " 'R3 R8 B1 W3 R4 R7',\n",
       " 'R9 B4 R1 B3 R6 B6',\n",
       " 'R9 R3 B1 W1 W4 R2',\n",
       " 'B4 W8 R3 W2 R8 W1',\n",
       " 'B4 W8 W2 W3 B2 R7',\n",
       " 'R1 R8 R5 R4 W5 R2',\n",
       " 'B4 B5 R1 W7 B1 W3',\n",
       " 'B4 W3 R4 B3 W5 R2',\n",
       " 'R9 W6 B1 R5 B2 W4',\n",
       " 'R9 B5 R1 W4 W5 R2',\n",
       " 'B4 W1 R4 B3 R6 B6',\n",
       " 'W6 R3 R1 W7 W3 R4',\n",
       " 'B4 W8 W6 R1 W2 R8',\n",
       " 'B5 R1 W7 W2 B1 W1',\n",
       " 'W7 R5 B3 R7 B6 R2',\n",
       " 'B4 R1 W3 R7 W5 B6',\n",
       " 'B4 R3 W2 W1 B2 R2',\n",
       " 'B5 W6 W7 W3 R4 W4',\n",
       " 'B4 W8 R3 R5 R7 W5',\n",
       " 'W2 W1 R5 B2 W4 R7',\n",
       " 'B4 W1 R4 R7 R6 B6',\n",
       " 'W8 W6 R8 W1 B2 B6',\n",
       " 'B4 W8 R3 B3 W5 B6',\n",
       " 'R3 R1 W7 W3 B6 R2',\n",
       " 'B5 B1 B2 W5 B6 R2',\n",
       " 'B4 B5 W3 R5 B3 R2',\n",
       " 'B4 W6 R3 W3 R7 W5',\n",
       " 'B4 W6 W7 B1 R5 B2',\n",
       " 'R9 B5 R1 R4 R6 R2',\n",
       " 'R8 B1 B2 R7 R6 W5',\n",
       " 'B4 W6 R1 B1 R4 R6',\n",
       " 'R9 W6 W7 W2 R8 W4',\n",
       " 'R9 R1 W3 W4 B3 R2',\n",
       " 'W8 R3 R1 W7 R8 R2',\n",
       " 'B4 W8 R1 W2 B1 R6',\n",
       " 'W8 B5 W2 W1 B3 R2',\n",
       " 'R1 R8 B1 R4 R7 R6',\n",
       " 'B4 W8 W3 W1 B2 B6',\n",
       " 'R9 B4 R1 B1 W1 B2',\n",
       " 'R1 W3 B2 R7 B6 R2',\n",
       " 'B4 W7 W1 B3 R7 W5',\n",
       " 'B4 W8 B1 W1 B2 B3',\n",
       " 'R3 W2 R5 B2 R6 W5',\n",
       " 'R9 B4 B5 R8 W3 W1',\n",
       " 'R3 R1 W2 R8 B1 W1',\n",
       " 'R9 B4 B5 R8 B6 R2',\n",
       " 'R9 R1 W1 R4 W4 B6',\n",
       " 'W7 B1 W3 W1 R4 B3',\n",
       " 'R9 B5 W6 W2 W3 R2',\n",
       " 'R9 B4 B5 R8 R4 R2',\n",
       " 'B1 B2 W4 B3 W5 R2',\n",
       " 'R9 R1 R8 B1 R4 R6',\n",
       " 'B4 B5 W7 B1 W4 R7',\n",
       " 'R9 W8 W6 R8 R5 B6',\n",
       " 'B4 W8 R4 B2 R6 R2',\n",
       " 'B4 B5 R3 R8 B1 R6',\n",
       " 'R9 W8 B5 R1 W7 W2',\n",
       " 'B4 B5 R1 W3 B2 B3',\n",
       " 'B4 W6 W2 W3 R4 R6',\n",
       " 'B5 W6 R1 W7 W4 B3',\n",
       " 'B5 W6 R8 B1 R5 R2',\n",
       " 'B5 W6 B1 W3 B3 W5',\n",
       " 'B5 R3 W7 R8 W4 B3',\n",
       " 'B5 R3 B1 R4 R7 R2',\n",
       " 'R3 W7 R4 B3 R6 W5',\n",
       " 'B4 W6 R1 B1 R7 R6',\n",
       " 'R3 R8 B1 R4 B3 R2',\n",
       " 'R9 W8 R1 W2 R5 B2',\n",
       " 'B4 R8 W1 R4 W4 W5',\n",
       " 'W8 B5 B1 W4 B3 W5',\n",
       " 'R9 W8 R1 W3 R5 R2',\n",
       " 'B5 W7 B2 W4 W5 R2',\n",
       " 'B5 R8 B1 W1 R7 R6',\n",
       " 'W8 W6 W7 R8 B3 B6',\n",
       " 'B5 R1 W7 R5 B3 B6',\n",
       " 'B5 W2 R8 B1 R5 B3',\n",
       " 'W8 W6 W3 W1 R4 B2',\n",
       " 'W8 R3 B1 W3 W4 W5',\n",
       " 'W7 W1 R5 B2 W4 B3',\n",
       " 'W6 R3 W3 R4 W4 B3',\n",
       " 'B4 W6 R3 R1 R8 B6',\n",
       " 'W2 W1 R4 R6 W5 B6',\n",
       " 'W6 R1 R8 R4 B3 R7',\n",
       " 'B1 R5 B3 R7 W5 B6',\n",
       " 'B4 B2 W4 B3 R7 R2',\n",
       " 'W8 R8 W3 R7 R6 W5',\n",
       " 'R9 B5 R8 W1 R7 B6',\n",
       " 'R9 R1 R8 W3 R5 W4',\n",
       " 'W8 R1 W2 B1 B3 R7',\n",
       " 'R9 B4 W1 R4 B2 B3',\n",
       " 'B4 W8 R3 R8 B3 R7',\n",
       " 'R9 W3 R4 B3 R7 B6',\n",
       " 'B5 W6 W7 R5 R7 R6',\n",
       " 'R9 W6 R3 R1 B2 W5',\n",
       " 'R1 B1 B2 R7 W5 B6',\n",
       " 'W7 B1 W3 W1 B2 R6',\n",
       " 'B4 W2 R5 B3 R7 W5',\n",
       " 'R9 W7 W2 B1 W3 B6',\n",
       " 'W6 W2 W3 W1 R4 W5',\n",
       " 'R8 W1 B2 B3 W5 B6',\n",
       " 'R3 R1 W7 R4 W4 B6',\n",
       " 'R9 B4 W2 W3 W1 R4',\n",
       " 'W6 R1 W7 B2 W5 R2',\n",
       " ...}"
      ]
     },
     "execution_count": 31,
     "metadata": {},
     "output_type": "execute_result"
    }
   ],
   "source": [
    "U6"
   ]
  },
  {
   "cell_type": "code",
   "execution_count": 17,
   "metadata": {
    "button": false,
    "collapsed": false,
    "jupyter": {
     "outputs_hidden": false
    },
    "new_sheet": false,
    "run_control": {
     "read_only": false
    }
   },
   "outputs": [
    {
     "data": {
      "text/plain": [
       "Fraction(240, 4807)"
      ]
     },
     "execution_count": 17,
     "metadata": {},
     "output_type": "execute_result"
    }
   ],
   "source": [
    "b3w2r1 = {s for s in U6 if\n",
    "          s.count('B') == 3 and s.count('W') == 2 and s.count('R') == 1}\n",
    "\n",
    "P(b3w2r1, U6)"
   ]
  },
  {
   "cell_type": "code",
   "execution_count": 33,
   "metadata": {},
   "outputs": [
    {
     "data": {
      "text/plain": [
       "5040"
      ]
     },
     "execution_count": 33,
     "metadata": {},
     "output_type": "execute_result"
    }
   ],
   "source": [
    "b3w2r1 = {s for s in U6 if\n",
    "          s.count('B') == 3 and s.count('W') == 2 and s.count('R') == 1}\n",
    "\n",
    "len(b3w2r1)"
   ]
  },
  {
   "cell_type": "code",
   "execution_count": 18,
   "metadata": {},
   "outputs": [
    {
     "data": {
      "text/plain": [
       "0.0499271895152902"
      ]
     },
     "execution_count": 18,
     "metadata": {},
     "output_type": "execute_result"
    }
   ],
   "source": [
    "240/4807"
   ]
  },
  {
   "cell_type": "markdown",
   "metadata": {
    "button": false,
    "new_sheet": false,
    "run_control": {
     "read_only": false
    }
   },
   "source": [
    "We can get the same answer by counting how many ways we can choose 3 out of 6 blues, 2 out of 8 whites, and 1 out of 9 reds, and dividing by the number of possible selections:"
   ]
  },
  {
   "cell_type": "code",
   "execution_count": 34,
   "metadata": {
    "button": false,
    "collapsed": false,
    "jupyter": {
     "outputs_hidden": false
    },
    "new_sheet": false,
    "run_control": {
     "read_only": false
    }
   },
   "outputs": [
    {
     "data": {
      "text/plain": [
       "True"
      ]
     },
     "execution_count": 34,
     "metadata": {},
     "output_type": "execute_result"
    }
   ],
   "source": [
    "# Use choose() \n",
    "\n",
    "P(b3w2r1, U6) == Fraction(choose(6, 3) * choose(8, 2) * choose(9, 1), \n",
    "                          len(U6))"
   ]
  },
  {
   "cell_type": "code",
   "execution_count": null,
   "metadata": {},
   "outputs": [],
   "source": [
    "If we had 23 balls, how many ways\n",
    "\n",
    "23 * 22 "
   ]
  },
  {
   "cell_type": "markdown",
   "metadata": {
    "button": false,
    "new_sheet": false,
    "run_control": {
     "read_only": false
    }
   },
   "source": [
    "Here we don't need to divide by any factorials, because `choose` has already accounted for that. \n",
    "\n",
    "We can get the same answer by figuring: \"there are 6 ways to pick the first blue, 5 ways to pick the second blue, and 4 ways to pick the third; then 8 ways to pick the first white and 7 to pick the second; then 9 ways to pick a red. But the order `'B1, B2, B3'` should count as the same as `'B2, B3, B1'` and all the other orderings; so divide by 3! to account for the permutations of blues, by 2! to account for the permutations of whites, and by 100947 to get a probability:"
   ]
  },
  {
   "cell_type": "code",
   "execution_count": 20,
   "metadata": {
    "button": false,
    "collapsed": false,
    "jupyter": {
     "outputs_hidden": false
    },
    "new_sheet": false,
    "run_control": {
     "read_only": false
    }
   },
   "outputs": [
    {
     "data": {
      "text/plain": [
       "True"
      ]
     },
     "execution_count": 20,
     "metadata": {},
     "output_type": "execute_result"
    }
   ],
   "source": [
    " P(b3w2r1, U6) == Fraction((6 * 5 * 4) * (8 * 7) * 9, \n",
    "                           factorial(3) * factorial(2) * len(U6))  # take away the duplicate, order does not matter in combinations"
   ]
  },
  {
   "cell_type": "code",
   "execution_count": null,
   "metadata": {},
   "outputs": [],
   "source": []
  },
  {
   "cell_type": "markdown",
   "metadata": {
    "button": false,
    "new_sheet": false,
    "run_control": {
     "read_only": false
    }
   },
   "source": [
    "### Urn Problem 3: What is the probability of exactly 4 white balls?\n",
    "\n",
    "We can interpret this as choosing 4 out of the 8 white balls, and 2 out of the 15 non-white balls. Then we can solve it the same three ways:"
   ]
  },
  {
   "cell_type": "raw",
   "metadata": {},
   "source": [
    "How many different ways to choose 4 whites"
   ]
  },
  {
   "cell_type": "code",
   "execution_count": null,
   "metadata": {},
   "outputs": [],
   "source": []
  },
  {
   "cell_type": "code",
   "execution_count": 35,
   "metadata": {
    "button": false,
    "collapsed": false,
    "jupyter": {
     "outputs_hidden": false
    },
    "new_sheet": false,
    "run_control": {
     "read_only": false
    }
   },
   "outputs": [
    {
     "data": {
      "text/plain": [
       "Fraction(350, 4807)"
      ]
     },
     "execution_count": 35,
     "metadata": {},
     "output_type": "execute_result"
    }
   ],
   "source": [
    "w4 = {s for s in U6 if\n",
    "      s.count('W') == 4}\n",
    "\n",
    "P(w4, U6)"
   ]
  },
  {
   "cell_type": "code",
   "execution_count": 38,
   "metadata": {},
   "outputs": [
    {
     "data": {
      "text/plain": [
       "0.07281048470979821"
      ]
     },
     "execution_count": 38,
     "metadata": {},
     "output_type": "execute_result"
    }
   ],
   "source": [
    "350/4807"
   ]
  },
  {
   "cell_type": "code",
   "execution_count": 39,
   "metadata": {},
   "outputs": [
    {
     "data": {
      "text/plain": [
       "7350"
      ]
     },
     "execution_count": 39,
     "metadata": {},
     "output_type": "execute_result"
    }
   ],
   "source": [
    "len(w4)"
   ]
  },
  {
   "cell_type": "code",
   "execution_count": 36,
   "metadata": {
    "button": false,
    "collapsed": false,
    "jupyter": {
     "outputs_hidden": false
    },
    "new_sheet": false,
    "run_control": {
     "read_only": false
    }
   },
   "outputs": [
    {
     "data": {
      "text/plain": [
       "True"
      ]
     },
     "execution_count": 36,
     "metadata": {},
     "output_type": "execute_result"
    }
   ],
   "source": [
    "# what happens the probability increases since other 2 balls dont matter\n",
    "\n",
    "P(w4, U6) == Fraction(choose(8, 4) * choose(15, 2),\n",
    "                      len(U6))"
   ]
  },
  {
   "cell_type": "code",
   "execution_count": 37,
   "metadata": {
    "button": false,
    "collapsed": false,
    "jupyter": {
     "outputs_hidden": false
    },
    "new_sheet": false,
    "run_control": {
     "read_only": false
    }
   },
   "outputs": [
    {
     "data": {
      "text/plain": [
       "True"
      ]
     },
     "execution_count": 37,
     "metadata": {},
     "output_type": "execute_result"
    }
   ],
   "source": [
    "P(w4, U6) == Fraction((8 * 7 * 6 * 5) * (15 * 14),   # 4 white balls order does not matter, thats why over 4! and 2! \n",
    "                      factorial(4) * factorial(2) * len(U6))"
   ]
  },
  {
   "cell_type": "markdown",
   "metadata": {
    "button": false,
    "new_sheet": false,
    "run_control": {
     "read_only": false
    }
   },
   "source": [
    "# Revised Version of `P`, with more general events\n",
    "\n",
    "To calculate the probability of an even die roll, I originally said\n",
    "\n",
    "    even = {2, 4, 6}\n",
    "    \n",
    "But that's inelegant&mdash;I had to explicitly enumerate all the even numbers from one to six. If I ever wanted to deal with a twelve or twenty-sided die, I would have to go back and change  `even`.  I would prefer to define `even` once and for all like this:"
   ]
  },
  {
   "cell_type": "code",
   "execution_count": 40,
   "metadata": {
    "button": false,
    "new_sheet": false,
    "run_control": {
     "read_only": false
    }
   },
   "outputs": [],
   "source": [
    "def even(n): return n % 2 == 0"
   ]
  },
  {
   "cell_type": "markdown",
   "metadata": {
    "button": false,
    "new_sheet": false,
    "run_control": {
     "read_only": false
    }
   },
   "source": [
    "Now in order to make `P(even, D)` work, I'll have to modify `P` to accept an event as either\n",
    "a *set* of outcomes (as before), or a *predicate* over outcomes&mdash;a function that returns true for an outcome that is in the event:"
   ]
  },
  {
   "cell_type": "code",
   "execution_count": 41,
   "metadata": {
    "button": false,
    "new_sheet": false,
    "run_control": {
     "read_only": false
    }
   },
   "outputs": [],
   "source": [
    "# altered\n",
    "\n",
    "def P(event, space): \n",
    "    \"\"\"The probability of an event, given a sample space of equiprobable outcomes.\n",
    "    event can be either a set of outcomes, or a predicate (true for outcomes in the event).\"\"\"\n",
    "    if is_predicate(event):\n",
    "        event = such_that(event, space)\n",
    "    return Fraction(len(event & space), len(space))\n",
    "\n",
    "is_predicate = callable\n",
    "\n",
    "# probabilistic use of the word really\n",
    "def such_that(predicate, collection): # predicate is like a function\n",
    "    \"The subset of elements in the collection for which the predicate is true.\"\n",
    "    return {e for e in collection if predicate(e)}"
   ]
  },
  {
   "cell_type": "markdown",
   "metadata": {
    "button": false,
    "new_sheet": false,
    "run_control": {
     "read_only": false
    }
   },
   "source": [
    "Here we see how `such_that`, the new `even` predicate, and the new `P` work:"
   ]
  },
  {
   "cell_type": "code",
   "execution_count": 42,
   "metadata": {
    "button": false,
    "collapsed": false,
    "jupyter": {
     "outputs_hidden": false
    },
    "new_sheet": false,
    "run_control": {
     "read_only": false
    }
   },
   "outputs": [
    {
     "data": {
      "text/plain": [
       "{2, 4, 6}"
      ]
     },
     "execution_count": 42,
     "metadata": {},
     "output_type": "execute_result"
    }
   ],
   "source": [
    "such_that(even, D)"
   ]
  },
  {
   "cell_type": "code",
   "execution_count": 43,
   "metadata": {
    "button": false,
    "collapsed": false,
    "jupyter": {
     "outputs_hidden": false
    },
    "new_sheet": false,
    "run_control": {
     "read_only": false
    }
   },
   "outputs": [
    {
     "data": {
      "text/plain": [
       "Fraction(1, 2)"
      ]
     },
     "execution_count": 43,
     "metadata": {},
     "output_type": "execute_result"
    }
   ],
   "source": [
    "P(even, D)"
   ]
  },
  {
   "cell_type": "code",
   "execution_count": 44,
   "metadata": {
    "button": false,
    "collapsed": false,
    "jupyter": {
     "outputs_hidden": false
    },
    "new_sheet": false,
    "run_control": {
     "read_only": false
    }
   },
   "outputs": [
    {
     "data": {
      "text/plain": [
       "{2, 4, 6, 8, 10, 12}"
      ]
     },
     "execution_count": 44,
     "metadata": {},
     "output_type": "execute_result"
    }
   ],
   "source": [
    "D12 = {1, 2, 3, 4, 5, 6, 7, 8, 9, 10, 11, 12}\n",
    "\n",
    "such_that(even, D12)"
   ]
  },
  {
   "cell_type": "code",
   "execution_count": 45,
   "metadata": {
    "button": false,
    "collapsed": false,
    "jupyter": {
     "outputs_hidden": false
    },
    "new_sheet": false,
    "run_control": {
     "read_only": false
    }
   },
   "outputs": [
    {
     "data": {
      "text/plain": [
       "Fraction(1, 2)"
      ]
     },
     "execution_count": 45,
     "metadata": {},
     "output_type": "execute_result"
    }
   ],
   "source": [
    "P(even, D12)"
   ]
  },
  {
   "cell_type": "markdown",
   "metadata": {
    "button": false,
    "new_sheet": false,
    "run_control": {
     "read_only": false
    }
   },
   "source": [
    "Note: `such_that` is just like the built-in function `filter`, except `such_that` returns a set.\n",
    "\n",
    "We can now define more interesting events using predicates; for example we can determine the probability that the sum of a three-dice roll is prime (using a definition of `is_prime` that is efficient enough for small `n`):"
   ]
  },
  {
   "cell_type": "code",
   "execution_count": null,
   "metadata": {},
   "outputs": [],
   "source": []
  },
  {
   "cell_type": "code",
   "execution_count": 52,
   "metadata": {
    "button": false,
    "collapsed": false,
    "jupyter": {
     "outputs_hidden": false
    },
    "new_sheet": false,
    "run_control": {
     "read_only": false
    }
   },
   "outputs": [
    {
     "data": {
      "text/plain": [
       "Fraction(73, 216)"
      ]
     },
     "execution_count": 52,
     "metadata": {},
     "output_type": "execute_result"
    }
   ],
   "source": [
    "D3 = {(d1, d2, d3) for d1 in D for d2 in D for d3 in D}   # saying the saem thing as 6 sided die, returm tuple of different \n",
    "\n",
    "def prime_sum(outcome): return is_prime(sum(outcome))   # for each collection in D3, sum it and check if it is prime\n",
    "\n",
    "def is_prime(n): return n > 1 and not any(n % i == 0 for i in range(2, n)) # n > 1, no negative nums, checking for prime numbers\n",
    "\n",
    "# what is n % i == 0 for i in range(2, n**0.5), generator is going thru each i in that range, retunring a float dont want to cast, more effiecint \n",
    "# Outputting 1 val at a time and then comparing them\n",
    "\n",
    "# what is any built in method, take iterable and return True if any is True\n",
    "\n",
    "\n",
    "# prob for prime_sum if rolling 3 die\n",
    "P(prime_sum, D3)\n",
    "\n",
    "# return that set over set as a Fraction, total outcome space, 216, 73 of them if sum get a 3 or prime number, 73 outcomes like that, that lead to prime number sum"
   ]
  },
  {
   "cell_type": "code",
   "execution_count": 54,
   "metadata": {
    "scrolled": true
   },
   "outputs": [
    {
     "data": {
      "text/plain": [
       "{(1, 1, 1),\n",
       " (1, 1, 2),\n",
       " (1, 1, 3),\n",
       " (1, 1, 4),\n",
       " (1, 1, 5),\n",
       " (1, 1, 6),\n",
       " (1, 2, 1),\n",
       " (1, 2, 2),\n",
       " (1, 2, 3),\n",
       " (1, 2, 4),\n",
       " (1, 2, 5),\n",
       " (1, 2, 6),\n",
       " (1, 3, 1),\n",
       " (1, 3, 2),\n",
       " (1, 3, 3),\n",
       " (1, 3, 4),\n",
       " (1, 3, 5),\n",
       " (1, 3, 6),\n",
       " (1, 4, 1),\n",
       " (1, 4, 2),\n",
       " (1, 4, 3),\n",
       " (1, 4, 4),\n",
       " (1, 4, 5),\n",
       " (1, 4, 6),\n",
       " (1, 5, 1),\n",
       " (1, 5, 2),\n",
       " (1, 5, 3),\n",
       " (1, 5, 4),\n",
       " (1, 5, 5),\n",
       " (1, 5, 6),\n",
       " (1, 6, 1),\n",
       " (1, 6, 2),\n",
       " (1, 6, 3),\n",
       " (1, 6, 4),\n",
       " (1, 6, 5),\n",
       " (1, 6, 6),\n",
       " (2, 1, 1),\n",
       " (2, 1, 2),\n",
       " (2, 1, 3),\n",
       " (2, 1, 4),\n",
       " (2, 1, 5),\n",
       " (2, 1, 6),\n",
       " (2, 2, 1),\n",
       " (2, 2, 2),\n",
       " (2, 2, 3),\n",
       " (2, 2, 4),\n",
       " (2, 2, 5),\n",
       " (2, 2, 6),\n",
       " (2, 3, 1),\n",
       " (2, 3, 2),\n",
       " (2, 3, 3),\n",
       " (2, 3, 4),\n",
       " (2, 3, 5),\n",
       " (2, 3, 6),\n",
       " (2, 4, 1),\n",
       " (2, 4, 2),\n",
       " (2, 4, 3),\n",
       " (2, 4, 4),\n",
       " (2, 4, 5),\n",
       " (2, 4, 6),\n",
       " (2, 5, 1),\n",
       " (2, 5, 2),\n",
       " (2, 5, 3),\n",
       " (2, 5, 4),\n",
       " (2, 5, 5),\n",
       " (2, 5, 6),\n",
       " (2, 6, 1),\n",
       " (2, 6, 2),\n",
       " (2, 6, 3),\n",
       " (2, 6, 4),\n",
       " (2, 6, 5),\n",
       " (2, 6, 6),\n",
       " (3, 1, 1),\n",
       " (3, 1, 2),\n",
       " (3, 1, 3),\n",
       " (3, 1, 4),\n",
       " (3, 1, 5),\n",
       " (3, 1, 6),\n",
       " (3, 2, 1),\n",
       " (3, 2, 2),\n",
       " (3, 2, 3),\n",
       " (3, 2, 4),\n",
       " (3, 2, 5),\n",
       " (3, 2, 6),\n",
       " (3, 3, 1),\n",
       " (3, 3, 2),\n",
       " (3, 3, 3),\n",
       " (3, 3, 4),\n",
       " (3, 3, 5),\n",
       " (3, 3, 6),\n",
       " (3, 4, 1),\n",
       " (3, 4, 2),\n",
       " (3, 4, 3),\n",
       " (3, 4, 4),\n",
       " (3, 4, 5),\n",
       " (3, 4, 6),\n",
       " (3, 5, 1),\n",
       " (3, 5, 2),\n",
       " (3, 5, 3),\n",
       " (3, 5, 4),\n",
       " (3, 5, 5),\n",
       " (3, 5, 6),\n",
       " (3, 6, 1),\n",
       " (3, 6, 2),\n",
       " (3, 6, 3),\n",
       " (3, 6, 4),\n",
       " (3, 6, 5),\n",
       " (3, 6, 6),\n",
       " (4, 1, 1),\n",
       " (4, 1, 2),\n",
       " (4, 1, 3),\n",
       " (4, 1, 4),\n",
       " (4, 1, 5),\n",
       " (4, 1, 6),\n",
       " (4, 2, 1),\n",
       " (4, 2, 2),\n",
       " (4, 2, 3),\n",
       " (4, 2, 4),\n",
       " (4, 2, 5),\n",
       " (4, 2, 6),\n",
       " (4, 3, 1),\n",
       " (4, 3, 2),\n",
       " (4, 3, 3),\n",
       " (4, 3, 4),\n",
       " (4, 3, 5),\n",
       " (4, 3, 6),\n",
       " (4, 4, 1),\n",
       " (4, 4, 2),\n",
       " (4, 4, 3),\n",
       " (4, 4, 4),\n",
       " (4, 4, 5),\n",
       " (4, 4, 6),\n",
       " (4, 5, 1),\n",
       " (4, 5, 2),\n",
       " (4, 5, 3),\n",
       " (4, 5, 4),\n",
       " (4, 5, 5),\n",
       " (4, 5, 6),\n",
       " (4, 6, 1),\n",
       " (4, 6, 2),\n",
       " (4, 6, 3),\n",
       " (4, 6, 4),\n",
       " (4, 6, 5),\n",
       " (4, 6, 6),\n",
       " (5, 1, 1),\n",
       " (5, 1, 2),\n",
       " (5, 1, 3),\n",
       " (5, 1, 4),\n",
       " (5, 1, 5),\n",
       " (5, 1, 6),\n",
       " (5, 2, 1),\n",
       " (5, 2, 2),\n",
       " (5, 2, 3),\n",
       " (5, 2, 4),\n",
       " (5, 2, 5),\n",
       " (5, 2, 6),\n",
       " (5, 3, 1),\n",
       " (5, 3, 2),\n",
       " (5, 3, 3),\n",
       " (5, 3, 4),\n",
       " (5, 3, 5),\n",
       " (5, 3, 6),\n",
       " (5, 4, 1),\n",
       " (5, 4, 2),\n",
       " (5, 4, 3),\n",
       " (5, 4, 4),\n",
       " (5, 4, 5),\n",
       " (5, 4, 6),\n",
       " (5, 5, 1),\n",
       " (5, 5, 2),\n",
       " (5, 5, 3),\n",
       " (5, 5, 4),\n",
       " (5, 5, 5),\n",
       " (5, 5, 6),\n",
       " (5, 6, 1),\n",
       " (5, 6, 2),\n",
       " (5, 6, 3),\n",
       " (5, 6, 4),\n",
       " (5, 6, 5),\n",
       " (5, 6, 6),\n",
       " (6, 1, 1),\n",
       " (6, 1, 2),\n",
       " (6, 1, 3),\n",
       " (6, 1, 4),\n",
       " (6, 1, 5),\n",
       " (6, 1, 6),\n",
       " (6, 2, 1),\n",
       " (6, 2, 2),\n",
       " (6, 2, 3),\n",
       " (6, 2, 4),\n",
       " (6, 2, 5),\n",
       " (6, 2, 6),\n",
       " (6, 3, 1),\n",
       " (6, 3, 2),\n",
       " (6, 3, 3),\n",
       " (6, 3, 4),\n",
       " (6, 3, 5),\n",
       " (6, 3, 6),\n",
       " (6, 4, 1),\n",
       " (6, 4, 2),\n",
       " (6, 4, 3),\n",
       " (6, 4, 4),\n",
       " (6, 4, 5),\n",
       " (6, 4, 6),\n",
       " (6, 5, 1),\n",
       " (6, 5, 2),\n",
       " (6, 5, 3),\n",
       " (6, 5, 4),\n",
       " (6, 5, 5),\n",
       " (6, 5, 6),\n",
       " (6, 6, 1),\n",
       " (6, 6, 2),\n",
       " (6, 6, 3),\n",
       " (6, 6, 4),\n",
       " (6, 6, 5),\n",
       " (6, 6, 6)}"
      ]
     },
     "execution_count": 54,
     "metadata": {},
     "output_type": "execute_result"
    }
   ],
   "source": [
    "D3 = {(d1, d2, d3) for d1 in D for d2 in D for d3 in D}\n",
    "\n",
    "D3"
   ]
  },
  {
   "cell_type": "code",
   "execution_count": 55,
   "metadata": {},
   "outputs": [
    {
     "data": {
      "text/plain": [
       "216"
      ]
     },
     "execution_count": 55,
     "metadata": {},
     "output_type": "execute_result"
    }
   ],
   "source": [
    "D3 = {(d1, d2, d3) for d1 in D for d2 in D for d3 in D}\n",
    "\n",
    "len(D3)"
   ]
  },
  {
   "cell_type": "code",
   "execution_count": null,
   "metadata": {},
   "outputs": [],
   "source": [
    "D3 = {(d1, d2, d3) for d1 in D for d2 in D for d3 in D}\n",
    "\n",
    "D3"
   ]
  },
  {
   "cell_type": "code",
   "execution_count": 46,
   "metadata": {},
   "outputs": [
    {
     "data": {
      "text/plain": [
       "False"
      ]
     },
     "execution_count": 46,
     "metadata": {},
     "output_type": "execute_result"
    }
   ],
   "source": [
    "any([False, False, False, False])"
   ]
  },
  {
   "cell_type": "code",
   "execution_count": 47,
   "metadata": {},
   "outputs": [
    {
     "data": {
      "text/plain": [
       "True"
      ]
     },
     "execution_count": 47,
     "metadata": {},
     "output_type": "execute_result"
    }
   ],
   "source": [
    "any([False, True, False, False])"
   ]
  },
  {
   "cell_type": "code",
   "execution_count": 48,
   "metadata": {},
   "outputs": [
    {
     "data": {
      "text/plain": [
       "True"
      ]
     },
     "execution_count": 48,
     "metadata": {},
     "output_type": "execute_result"
    }
   ],
   "source": [
    "any([True, True, True, True])"
   ]
  },
  {
   "cell_type": "code",
   "execution_count": 51,
   "metadata": {},
   "outputs": [
    {
     "data": {
      "text/plain": [
       "True"
      ]
     },
     "execution_count": 51,
     "metadata": {},
     "output_type": "execute_result"
    }
   ],
   "source": [
    "all([True, True, True, True])"
   ]
  },
  {
   "cell_type": "code",
   "execution_count": 50,
   "metadata": {},
   "outputs": [
    {
     "data": {
      "text/plain": [
       "False"
      ]
     },
     "execution_count": 50,
     "metadata": {},
     "output_type": "execute_result"
    }
   ],
   "source": [
    "all([False, True, False, False])"
   ]
  },
  {
   "cell_type": "code",
   "execution_count": 49,
   "metadata": {},
   "outputs": [
    {
     "data": {
      "text/plain": [
       "False"
      ]
     },
     "execution_count": 49,
     "metadata": {},
     "output_type": "execute_result"
    }
   ],
   "source": [
    "all([False, False, False, False])"
   ]
  },
  {
   "cell_type": "code",
   "execution_count": null,
   "metadata": {},
   "outputs": [],
   "source": [
    "73/216."
   ]
  },
  {
   "cell_type": "code",
   "execution_count": 53,
   "metadata": {},
   "outputs": [
    {
     "data": {
      "text/plain": [
       "5.291502622129181"
      ]
     },
     "execution_count": 53,
     "metadata": {},
     "output_type": "execute_result"
    }
   ],
   "source": [
    "28**0.5\n",
    "2 ,3, 4 , 5.29  # won't have to check the 7\n",
    "#check factors, don't have to check other side"
   ]
  },
  {
   "cell_type": "markdown",
   "metadata": {
    "button": false,
    "new_sheet": false,
    "run_control": {
     "read_only": false
    }
   },
   "source": [
    "# Card Problems\n",
    "\n",
    "Consider dealing a hand of five playing cards. We can define `deck` as a set of 52 cards, and `Hands` as the sample space of all combinations of 5 cards:"
   ]
  },
  {
   "cell_type": "code",
   "execution_count": 56,
   "metadata": {
    "button": false,
    "collapsed": false,
    "jupyter": {
     "outputs_hidden": false
    },
    "new_sheet": false,
    "run_control": {
     "read_only": false
    }
   },
   "outputs": [
    {
     "data": {
      "text/plain": [
       "52"
      ]
     },
     "execution_count": 56,
     "metadata": {},
     "output_type": "execute_result"
    }
   ],
   "source": [
    "suits = 'SHDC'\n",
    "ranks = 'A23456789TJQK'\n",
    "deck  = cross(ranks, suits)     # cross methods\n",
    "len(deck)"
   ]
  },
  {
   "cell_type": "code",
   "execution_count": 57,
   "metadata": {},
   "outputs": [
    {
     "data": {
      "text/plain": [
       "52"
      ]
     },
     "execution_count": 57,
     "metadata": {},
     "output_type": "execute_result"
    }
   ],
   "source": [
    "len(deck)"
   ]
  },
  {
   "cell_type": "code",
   "execution_count": 58,
   "metadata": {},
   "outputs": [
    {
     "data": {
      "text/plain": [
       "{'2C',\n",
       " '2D',\n",
       " '2H',\n",
       " '2S',\n",
       " '3C',\n",
       " '3D',\n",
       " '3H',\n",
       " '3S',\n",
       " '4C',\n",
       " '4D',\n",
       " '4H',\n",
       " '4S',\n",
       " '5C',\n",
       " '5D',\n",
       " '5H',\n",
       " '5S',\n",
       " '6C',\n",
       " '6D',\n",
       " '6H',\n",
       " '6S',\n",
       " '7C',\n",
       " '7D',\n",
       " '7H',\n",
       " '7S',\n",
       " '8C',\n",
       " '8D',\n",
       " '8H',\n",
       " '8S',\n",
       " '9C',\n",
       " '9D',\n",
       " '9H',\n",
       " '9S',\n",
       " 'AC',\n",
       " 'AD',\n",
       " 'AH',\n",
       " 'AS',\n",
       " 'JC',\n",
       " 'JD',\n",
       " 'JH',\n",
       " 'JS',\n",
       " 'KC',\n",
       " 'KD',\n",
       " 'KH',\n",
       " 'KS',\n",
       " 'QC',\n",
       " 'QD',\n",
       " 'QH',\n",
       " 'QS',\n",
       " 'TC',\n",
       " 'TD',\n",
       " 'TH',\n",
       " 'TS'}"
      ]
     },
     "execution_count": 58,
     "metadata": {},
     "output_type": "execute_result"
    }
   ],
   "source": [
    "deck"
   ]
  },
  {
   "cell_type": "code",
   "execution_count": 60,
   "metadata": {
    "scrolled": true
   },
   "outputs": [
    {
     "data": {
      "text/plain": [
       "{'8D 6C AC 8H 7H',\n",
       " '8C 4C 2C QC 3H',\n",
       " 'AH 9S 6C 4C 6S',\n",
       " '5S TC 7C TS 3S',\n",
       " '6D QS 4C 8H QC',\n",
       " '5S 8C 2D 3S 3H',\n",
       " '8C 3S 4S TH AD',\n",
       " '7C TS 6S QD 6H',\n",
       " 'JH 8S 2H 7D JS',\n",
       " 'KS AS QH 9C 3C',\n",
       " 'KS 6D QC 3S TH',\n",
       " 'JD KD 6S QD 2S',\n",
       " '9H QS 3D TS 6S',\n",
       " 'AH 2H TC 4S KH',\n",
       " 'AH 5S 2H 5D 3C',\n",
       " '9S 4H 6C 5D 7D',\n",
       " '4H 7S 9D 6C 3S',\n",
       " 'QH TD 5D QD 3H',\n",
       " '6D TC QS 7D AD',\n",
       " 'AS 5C JC 2C 3S',\n",
       " '2D TD 3D KD KH',\n",
       " 'KS 9C 6C 6S 7H',\n",
       " '9H JD TC JC 6S',\n",
       " 'JH 5S JC TS 3C',\n",
       " '8S 7S QS KH 6H',\n",
       " '2H 2D TD 7C TS',\n",
       " '4D 2C 2S 7D 6H',\n",
       " 'QH 2C 3C 7H JS',\n",
       " 'JH 8D JD 6S JS',\n",
       " 'AH 8S JD 3D 3C',\n",
       " '2D 8H 4D TS 7D',\n",
       " '5S 8S 6S 2S 3H',\n",
       " '9S JH QS 7C 5H',\n",
       " 'AH 8D TC 3C KH',\n",
       " '9S 7S 7C 3S 7D',\n",
       " 'AH 5S TC JC 2S',\n",
       " '9H 5C 4C 5D JS',\n",
       " '4H 9C JD 6C 4D',\n",
       " '8C 8D QS 5D 4D',\n",
       " 'AH KC 3C 7H 6H',\n",
       " 'JH 4H KS 6S 6H',\n",
       " 'KC 9H JD QS JC',\n",
       " '8D 9C TC QS 4S',\n",
       " '8C 9C 3H 4S JS',\n",
       " '5S QS 2D QD KH',\n",
       " 'JH 9C 4C 7C 6H',\n",
       " '8S 8C 6D KD 7D',\n",
       " '5D 6S 3S 7H 5H',\n",
       " 'KC 5S 4H 9H 9C',\n",
       " '5S KS 9D 6S 2S',\n",
       " '9D 9C 3C 7H AD',\n",
       " '4C 7C AC 4D QD',\n",
       " 'AH 9S 6C JC 3D',\n",
       " 'JH 8H QC 3H 4S',\n",
       " 'KS 2H 8H QD KH',\n",
       " '8S 9H 6D 5C TH',\n",
       " '9C 6C 8H 3S TH',\n",
       " 'JH 9H 3D KH AD',\n",
       " '5S KS TC 2S AD',\n",
       " 'KS AS 5D 6S 2S',\n",
       " '4H 6D 2C KD QC',\n",
       " '9H QC QD 2S 5H',\n",
       " '8S JD JC 7H KH',\n",
       " '5S QH 4D TS 7H',\n",
       " '9H 8D 2C AD 5H',\n",
       " '9S 8S 8C QS 7H',\n",
       " 'AH 9C JD QD AD',\n",
       " 'TD 5D KD 2S 7D',\n",
       " '9H 6C AC 3H KH',\n",
       " 'QS 2D TS KH TH',\n",
       " '9S 4H JC 4D 2S',\n",
       " 'KC 5S 2D 8H 4D',\n",
       " 'KC 8C JD QS TD',\n",
       " 'JD TC 8H QD 3H',\n",
       " '5S 8S JD 2C 2S',\n",
       " '9S 8S 5D 3C KH',\n",
       " 'JH 5S 9H QH KD',\n",
       " '8C 2D TS 3S TH',\n",
       " '5C 4C 5D TS QD',\n",
       " '6D QS 8H 4D 2S',\n",
       " '2H 9C 8H 3C 5H',\n",
       " '9D 2H 7H JS TH',\n",
       " '5S 6C 6S QC 7D',\n",
       " 'TC TD KD 2S 4S',\n",
       " 'KS 2D AC 2S 3H',\n",
       " 'KC 4H AS 4D JS',\n",
       " '8S 8C 8D AS 2H',\n",
       " 'KS 4C 2D 3D QD',\n",
       " 'JD 5C 2D 7H 6H',\n",
       " '4H 5D 8H 4S TH',\n",
       " '9H KS 2D QD 3H',\n",
       " '9S JH 5C 3S 4S',\n",
       " '8S KS 7S 5D KH',\n",
       " 'QH JD 5C 3D 2S',\n",
       " '5S 9H 9C KD TH',\n",
       " 'AH QH 5D KD KH',\n",
       " '4H 9C 5C TD QC',\n",
       " '8S JC 2C JS AD',\n",
       " '9H JC TD 8H 2C',\n",
       " '7S 5C 3C 3H 7D',\n",
       " 'KC 5C 4D KD 3H',\n",
       " '9C 2C TS 3S 7H',\n",
       " '9D 2C 3D KD 5H',\n",
       " 'JH 4H KS QH 4S',\n",
       " 'AH 9S JH AC 3C',\n",
       " 'JH AS 9D 6C TS',\n",
       " '4C 8H TS AD 6H',\n",
       " '8C 9H 8D AS 3S',\n",
       " 'JH KS 8D JD QD',\n",
       " '5S 4H 8S AC KH',\n",
       " 'KC 5S 8C JC 2S',\n",
       " 'QH JD 5D 8H 3D',\n",
       " 'AH 8D 2D TH 5H',\n",
       " '8D AS 9D 6C QC',\n",
       " '5S QH TC 2C 3S',\n",
       " '9D 9C 4C 4D AD',\n",
       " '9S 5C KH AD 5H',\n",
       " '9S 8C QH TC 4D',\n",
       " 'AH KC 6D 4C 3C',\n",
       " 'AH 4C KD TS JS',\n",
       " 'AS JC 7C KH 6H',\n",
       " '8C 8D 4D 3C 2S',\n",
       " 'JH AC KD 4S KH',\n",
       " 'AH 5S 6C 7C QC',\n",
       " '8S 7S 3C 7H 5H',\n",
       " '6D 2H 4C JC KD',\n",
       " '9D 2H TD 5D 3S',\n",
       " '7S 7C TS QC 7D',\n",
       " 'JD 3C QD 7H 7D',\n",
       " '8D 5D 8H 3D TH',\n",
       " '9S TC 5D 8H 6H',\n",
       " '9D JD 4D 3D 6H',\n",
       " 'TD 5D 4D 2C TH',\n",
       " 'JH 8C 8H 4D KH',\n",
       " 'KS 9C TC 8H 5H',\n",
       " '9S TC 2C 7H KH',\n",
       " '7S TD 3D JS 5H',\n",
       " '9S 6D 4D 3C 2S',\n",
       " '4H 9H 7S QH TC',\n",
       " '7S 6C TD 5D 3C',\n",
       " 'JH 4H 5C 2C 5H',\n",
       " 'KC 4H 6D 5D AD',\n",
       " '9H 4C 2D QD 7H',\n",
       " 'JH 5S JC TS 7H',\n",
       " '9S TC 2D JC 6H',\n",
       " 'JH 8S 7S QH 3H',\n",
       " 'JH 2D JC 5D TS',\n",
       " 'KC 8S 9D AC 8H',\n",
       " '8D 2H 4C 2D 3H',\n",
       " '8C 6D 9C 5C QD',\n",
       " 'JH 8D 7S 6D KD',\n",
       " 'JH KC 8D AS 4S',\n",
       " 'AH 4D 2S KH 6H',\n",
       " 'KC 9D JD 7H AD',\n",
       " '8S KS QS QC 4S',\n",
       " 'JH KC JC KD 6H',\n",
       " 'KS KD 6S KH 5H',\n",
       " 'AH JD 3S JS 6H',\n",
       " 'AH 6D TD AC 8H',\n",
       " '9D 2H TS 3C 4S',\n",
       " '7S QS 4D 6S 7H',\n",
       " '4H 8S AS 9D 2S',\n",
       " '4H 9C QS TD AC',\n",
       " '8H 3C 3S 7H 7D',\n",
       " 'QH 5C 3C 3S KH',\n",
       " 'KC 4C QC 3S AD',\n",
       " '4D 2C 2S 3H 6H',\n",
       " 'JH 4H AC 3D AD',\n",
       " 'JH 8C 4D TS 2S',\n",
       " '5S 9C QS 2C 3H',\n",
       " '8C TC 7C TS TH',\n",
       " '4C TS QD JS 6H',\n",
       " '5S 2H JC AD 5H',\n",
       " 'AS 9C 8H 3C 7D',\n",
       " '5S 6D 2C 3S 7D',\n",
       " '7S QH 3C 2S 7D',\n",
       " '7S KD 3S 3H 7H',\n",
       " '9S JD 4D QC JS',\n",
       " 'KC 8C KS 7D 6H',\n",
       " 'AH 7C 5D KD JS',\n",
       " '9S 4H 8D JD 6S',\n",
       " 'KC 7S QH TC 3D',\n",
       " '5S 9D AC TS QD',\n",
       " 'JD 2C TS QD JS',\n",
       " 'TC TD 7C AC QC',\n",
       " '8S 9H 6D 8H AD',\n",
       " '9H 6C TD 3D QD',\n",
       " '5S 9D QH TC AD',\n",
       " 'QS TS 2S 3S TH',\n",
       " '9S QH QS AD 6H',\n",
       " 'QS JC 4D 3D KD',\n",
       " 'JH 6C 3D KD 7D',\n",
       " '8S 2H QC QD AD',\n",
       " '9S JH 4H 9H 5C',\n",
       " 'KC AS JC 2S 7D',\n",
       " 'AS 9C TC 7C TH',\n",
       " '8S KS 9C QS JS',\n",
       " '8H 4D 2C 3D 6S',\n",
       " 'AC QD JS KH 5H',\n",
       " '4H 9C AC 2S JS',\n",
       " 'AH 4H 2C 2S 6H',\n",
       " '9S 8C JC 4S KH',\n",
       " 'KC TD 2S AD 5H',\n",
       " 'KS 5D 8H 4S 5H',\n",
       " 'AS 9C 6C 8H 6S',\n",
       " '8S 6C JC QD 6H',\n",
       " 'AS 6C 4C 2D 3C',\n",
       " 'AH 8S 8C 8D KD',\n",
       " '9S JD TD TS 6S',\n",
       " 'KC QH 2H TS QD',\n",
       " 'JH 4H 9C 2C KD',\n",
       " 'AH 5S 9D 6C 3S',\n",
       " '5S 9H 4C 5D TS',\n",
       " '4H KS 5C 2S 6H',\n",
       " '8C 7S 5C 2D 8H',\n",
       " '6D QH 9C 7H 6H',\n",
       " '4H 6D QH TC KD',\n",
       " '9S 9C TC QS AD',\n",
       " '8D QS AC QC 5H',\n",
       " 'KC 2H TD KD JS',\n",
       " 'KC 5C 2D TD 3C',\n",
       " 'JD 5D 3D QD 3H',\n",
       " 'KC 6D 2D 5D 4S',\n",
       " 'QH 5C 2D 5D TS',\n",
       " 'AH JH 5C 4D 5H',\n",
       " 'KS 6C 2D QD 5H',\n",
       " 'AS 6D 5C QD AD',\n",
       " 'AH 8C TD QD 6H',\n",
       " 'AH 7C QC 3S 7D',\n",
       " '7S 2H QS 2C TH',\n",
       " '9H QH 7C AC AD',\n",
       " 'AS TC AC 5D 5H',\n",
       " '9C JD 7C 2S AD',\n",
       " '5S 7S 2H 3D AD',\n",
       " '9S KS 8D 7S 6C',\n",
       " 'JH 2H QS AC 5D',\n",
       " '7S 5D QD KH 6H',\n",
       " '9S JD 7C 3S 6H',\n",
       " '2H AC 8H 2C 3C',\n",
       " 'AH KC 9D 2H 6H',\n",
       " '5S QD 3S 3H 7D',\n",
       " '9H 2H 8H 3C 3S',\n",
       " '4H QH 2D 7C 3H',\n",
       " '8D AS TD 2S 3H',\n",
       " 'AH AS 5C TD 2S',\n",
       " 'KC 2H JD QS AC',\n",
       " '8D TD 5D 3D 6S',\n",
       " 'QS 4D QD 7D JS',\n",
       " '8S 8D TC QC JS',\n",
       " '4H 8S 5C TS 6H',\n",
       " 'JH 9H AS 6S 5H',\n",
       " '5C 3C 2S TH AD',\n",
       " '8D 2C 7H KH AD',\n",
       " '4H 7S 5C TS JS',\n",
       " '7S 2H TD 2C 6S',\n",
       " '5S 6C 2D TD TH',\n",
       " '4H 2D 7C AC 3S',\n",
       " 'JD TS 6S TH AD',\n",
       " '7S 9D QS 4D QC',\n",
       " '9S 4H 8S 3D 2S',\n",
       " '6C 8H 2C KD TH',\n",
       " 'JH KC 5S AC 4D',\n",
       " 'AH KS 2H 6C 8H',\n",
       " '5S 4H 6C TS KH',\n",
       " '9S KS 7S JD 3H',\n",
       " '7S 6C 5C 4C 5D',\n",
       " 'KC 8D QH KD 3C',\n",
       " 'QS JC 4D 2C KD',\n",
       " 'JH 4H 9D 2C TH',\n",
       " '4C 2S 7D TH 5H',\n",
       " '5S 9D 2D AD 5H',\n",
       " 'QH 2H 2D 2C 6S',\n",
       " '9S 4C 3C KH 6H',\n",
       " 'AH 8C 9D JC 2C',\n",
       " '9S QH JD 4C 5H',\n",
       " '8C QH 6S QD 7H',\n",
       " '8D AS QS 5C 6H',\n",
       " '7S QH 4C QD KH',\n",
       " '9S 8S JC KD TH',\n",
       " '8C 7S 2H 4D QD',\n",
       " 'JH QH 4D 3H AD',\n",
       " 'QH JD 4D JS TH',\n",
       " 'KC QH QS AC KD',\n",
       " '9H TS QC 3H 4S',\n",
       " '8C TC 4C QC KH',\n",
       " '9H 6D QH KD 6S',\n",
       " '5D 6S 7D JS TH',\n",
       " '6D 6C 4D TH 5H',\n",
       " 'JH JC TD 3C 7D',\n",
       " '8H 4D QC 7D JS',\n",
       " '8D 9D 2H 3C AD',\n",
       " '2H 5D 4D 7D AD',\n",
       " '9H KS 5D 3H 7D',\n",
       " 'AH 9H QC 3S JS',\n",
       " '9S AS QC QD JS',\n",
       " '9S JH 3D KD JS',\n",
       " '9S 6D 6C QD AD',\n",
       " '5S AS JC KH 6H',\n",
       " 'AS 5C 7C 4S KH',\n",
       " 'KC 4H AC 6S AD',\n",
       " '5C 5D 3S 4S 6H',\n",
       " '8S 5C AC 4D KD',\n",
       " '4H TC 2D 8H 3H',\n",
       " '4C AC TS 3S 7H',\n",
       " '5S TD QD 3S TH',\n",
       " 'AH KS JD TS JS',\n",
       " '5S AS 6D 6C TD',\n",
       " '8C AS 7S TS 4S',\n",
       " 'AH 9S 7S 3D 2S',\n",
       " '9C 7C 5D 2C 3S',\n",
       " '9S 5S 6C 2C 3D',\n",
       " '9S 7S JC 8H 6H',\n",
       " '8C 5C 5D 4D KD',\n",
       " '8C 9H 7S AC 4D',\n",
       " '9S AS QH 6C 6S',\n",
       " '9S 8C 6D 9D JD',\n",
       " 'KC 9C 5C AC KH',\n",
       " 'TC JC 5D 2C TH',\n",
       " '9S KC 7S 7C 2S',\n",
       " '9S JD TC QS 3D',\n",
       " 'AS 7S AC 6S 3C',\n",
       " 'JH KS 8D 6D AD',\n",
       " '8C KS JD 2C TH',\n",
       " 'KC 9H 9C QS 8H',\n",
       " '4H 9C KD JS TH',\n",
       " '8C 7S 9D 3H 7H',\n",
       " 'KS 9C 4C 2C 3H',\n",
       " '7S JD 7C 8H 2S',\n",
       " '4H 4C QD 3S 3H',\n",
       " 'JH 8D 2H TD 2C',\n",
       " '5S AS 2H 9C 3H',\n",
       " '8C KS TC 4S TH',\n",
       " '8C 7S TD 7C TS',\n",
       " 'JH 4H 9D 5C 7D',\n",
       " '2H 4C JC 3C JS',\n",
       " '7S JD 4C TD 2S',\n",
       " '9S 8S 8C 8H KD',\n",
       " 'AS 4C TD 4S 5H',\n",
       " '2H 9C 3C 3H 7D',\n",
       " 'KC 5C 6S 7H AD',\n",
       " '9H QS 5D 4D 3S',\n",
       " 'JH 2D 5D TS 7D',\n",
       " '9D QH QS QC JS',\n",
       " '9H 6C 7C QC TH',\n",
       " '4H 6D 9D QC AD',\n",
       " '9S 8D 6C TD 3D',\n",
       " 'AS QH JD 3H 4S',\n",
       " '9H AS KD QC 3S',\n",
       " '2C QD 7D 5H 6H',\n",
       " 'KC 8S QS 3S 7H',\n",
       " 'AH JD QS 7C 2C',\n",
       " 'TD 7C QD 3S 5H',\n",
       " '4H 6D 7C JS 6H',\n",
       " '7S 5C KD 6S TH',\n",
       " '9S 8C 2H QD 7D',\n",
       " 'AS 6C 2S 7D TH',\n",
       " '5S 8D 8H 6S 7H',\n",
       " '9H 8D QH TD KH',\n",
       " '7S 4C 5D 2S JS',\n",
       " 'JH 8C 4D 7H 6H',\n",
       " 'JH AS QH 7D KH',\n",
       " '8C 9H QS 4D TS',\n",
       " 'QS 4D 3C QD 3S',\n",
       " '9S JH QD JS 5H',\n",
       " '9C QC QD 3H 7H',\n",
       " 'AH QH AC 3C 3H',\n",
       " '5S 8S 2H TC 2D',\n",
       " 'TC 4C 3D 2S 6H',\n",
       " 'JH 8C 8D QS 7H',\n",
       " '9S 8S 8C 9C KD',\n",
       " '4H 9H 2H 8H 7D',\n",
       " '4C TD 5D 2S 7D',\n",
       " '9S 7S 9C 2D 7H',\n",
       " '5S 9H 2H TD 7D',\n",
       " 'TC QS 8H QC JS',\n",
       " 'JH 5S QH 4C AC',\n",
       " 'AH 9H 7S 4C TS',\n",
       " '6C QS 5D 8H 3D',\n",
       " 'AH TC 4C AC 6H',\n",
       " '4H 9H 4C 7C QC',\n",
       " '8C 6D QD 2S 7H',\n",
       " 'AH 8D QH 4D KH',\n",
       " '9S TC 5C 4D 2S',\n",
       " 'AS 9C 7C 3D 7D',\n",
       " 'JD 2C 3S 7D TH',\n",
       " '8C 2H 3D QC KH',\n",
       " 'JH KS QD 3S 5H',\n",
       " 'JH 9D 8H 6S 3H',\n",
       " '6C JC QC KH 5H',\n",
       " 'QH TC AC AD 6H',\n",
       " '5S 9H 4D 3D 3H',\n",
       " '4H 7S 8H 6S 6H',\n",
       " '4C QC QD 3H AD',\n",
       " '4H TC 7C 5D QC',\n",
       " '7S 5C 7C 6S 6H',\n",
       " 'KC 4H KS 9C AD',\n",
       " 'AH 7S 2H TC TD',\n",
       " 'JH 8S KD 3C 2S',\n",
       " '8S 8C 3S JS TH',\n",
       " 'KC TC JC JS 5H',\n",
       " 'AS JC 4D 3H AD',\n",
       " 'KC 8C 6C 2C 6S',\n",
       " 'AS 6C JC AC 7H',\n",
       " '9S 9C JD 4C 6S',\n",
       " '5C AC 2C 3H TH',\n",
       " '9C TC 7C AC 7H',\n",
       " '9S 8H 2C 5H 6H',\n",
       " '9S 8D 4C QC TH',\n",
       " '4H 6C 3C JS 5H',\n",
       " 'KS 2H 7D JS 5H',\n",
       " 'AH 5S 8C QD 2S',\n",
       " '8C 8D TD 6S TH',\n",
       " '4H 9C JD QC TH',\n",
       " '9S 6D JC AC 6S',\n",
       " '8D QS AC TH 6H',\n",
       " '8C TD 3C AD 6H',\n",
       " '4C 3D QD 3H 5H',\n",
       " 'JH 6D 9D 6S TH',\n",
       " '9S 5S 6C 2D TD',\n",
       " 'AH 9C 2D AC 6S',\n",
       " 'JH TC 8H QC 2S',\n",
       " '8S 2H QD KH TH',\n",
       " '9H 9D 3D 3S 5H',\n",
       " '9S 8C JD 6C 8H',\n",
       " 'JH 8S 9H KD 5H',\n",
       " '9S JH 3H 4S JS',\n",
       " '8C JD KD 3S 5H',\n",
       " '9S 4D QC QD 3S',\n",
       " 'JH 9D JD 6S QC',\n",
       " '5S 8C 9D 9C 8H',\n",
       " 'KS 8D 9C 5C TH',\n",
       " 'QH QC 3C 3S TH',\n",
       " '9H 5C QC 2S 7D',\n",
       " 'AH 9D JD JC QD',\n",
       " '9S JH KC 6D 6H',\n",
       " '4C 8H 4D 2C 5H',\n",
       " '4D QC 3S TH 6H',\n",
       " 'KS 2H JC TS 6H',\n",
       " '2D JC 6S 3S KH',\n",
       " '8D 9D JC KD TH',\n",
       " 'KC JC AD 5H 6H',\n",
       " 'AH KC 6C 3S 7H',\n",
       " 'KC 8H 3S 3H 6H',\n",
       " '9C 4C 7C 4D QC',\n",
       " '7S 5D QD 7H JS',\n",
       " '8S 8D 2H AC 5H',\n",
       " '9S 6D 5C 3C 4S',\n",
       " '9D 2D 3D QD 3S',\n",
       " '8S QS 2D TD 6H',\n",
       " 'KS 9C JD 2S 7H',\n",
       " '8S 6C 6S 2S AD',\n",
       " 'AH 2C KD QC KH',\n",
       " '7S 8H 3D 2S 4S',\n",
       " '6C 6S QD 3S AD',\n",
       " 'JH 7C 4D 2C 3H',\n",
       " 'KC 8S 2S 3S 4S',\n",
       " '5S 9H 4C JC TS',\n",
       " 'KC KS 2H QD JS',\n",
       " '5S QS 2D 2S 3S',\n",
       " 'JH KC AS 3D 3H',\n",
       " '9S JD 2C KD TS',\n",
       " '8D 9D QD 3H 7H',\n",
       " '2D TD QC 7H AD',\n",
       " 'AH KS QH TC 6S',\n",
       " '5S TC 2D 7C QD',\n",
       " '4H JD 7C 6S 3C',\n",
       " 'AH JD TC 3C 7D',\n",
       " 'TC 2C 4S 7H 5H',\n",
       " 'JH 5S KS 7S TS',\n",
       " 'JD AC QD KH 5H',\n",
       " '4H 8S 9D AC 7D',\n",
       " '4H AS 4C 3H KH',\n",
       " '9S JH 8C QC 4S',\n",
       " 'AS JC AC 4S 7D',\n",
       " '8S 8D 9D 2H JC',\n",
       " '2C 3D QC 4S 5H',\n",
       " 'AS 7S 6D 9C 3D',\n",
       " '9H 7S 9D TC TS',\n",
       " '3D 3C JS KH 6H',\n",
       " '8D AS AC 2S JS',\n",
       " 'AS QH 2H 2D 3D',\n",
       " '9C QS TD 7C 3C',\n",
       " '4H KS JC 5D 4D',\n",
       " 'AS 5C 4C 6S 3S',\n",
       " 'QS JC KD 3H 4S',\n",
       " '5S 6D AC 3S KH',\n",
       " 'AH 8D 5D 7D KH',\n",
       " 'KC 9D QH TD 3D',\n",
       " 'AH JH 5S AS AC',\n",
       " '4H 7S 2H 3H 6H',\n",
       " '8D 2H 9C KH 5H',\n",
       " 'AH 8D 9D 9C JS',\n",
       " '8C 7S 6C 7C 3S',\n",
       " 'KS 7S 6D 9D TS',\n",
       " 'JD QS AC QD 4S',\n",
       " '9S 8C 9H QD 3H',\n",
       " 'KS JD 6S 3S KH',\n",
       " '8C JD QS JC 4S',\n",
       " 'KC 8S 7H 7D KH',\n",
       " '8D QH 9C 5C AC',\n",
       " 'KC 5S AS 7C 5H',\n",
       " '9H 7S JD 8H 4D',\n",
       " '6D 5C TD 3D TH',\n",
       " 'AS 7S 6C 2C 5H',\n",
       " '9D 6C QD JS 6H',\n",
       " 'JD JC 3D TS QD',\n",
       " 'KC 8D 7S 2H KH',\n",
       " '8C 8H KD 3C 5H',\n",
       " 'AS 2C QC 3H 5H',\n",
       " '9D TC 5C 4C 7C',\n",
       " 'JH QS AC 4D 3H',\n",
       " 'JD 7C TS 6S AD',\n",
       " 'QH 2H 9C 8H JS',\n",
       " '5C 8H TS 7D TH',\n",
       " '8C QH 7C 2C 2S',\n",
       " '5S 2H 6C JC KH',\n",
       " 'KS 6D 8H 3D 7D',\n",
       " '8D 9C JD 5C JC',\n",
       " 'JD AC 4D TS 5H',\n",
       " 'KC AS 2H 7C 3H',\n",
       " '9C 5C KD QD 7H',\n",
       " 'JH JD 6C TS 3H',\n",
       " '8D TD 3D 6S 3S',\n",
       " '5C 7C 5D QD 7H',\n",
       " '5S 9H 5D 4D QD',\n",
       " '8C 2H 6C KH 5H',\n",
       " '2D 3D 3H 7D TH',\n",
       " '9S 4H JD 7H AD',\n",
       " '8C QS AC 3H KH',\n",
       " '8D 4C 3D 6S 7H',\n",
       " 'KS QH 4C 2S 5H',\n",
       " 'KC 6D QS AC 3C',\n",
       " 'AH 4H 7S 8H 3H',\n",
       " 'KC TD 5D JS 5H',\n",
       " '4H QS 4D 4S AD',\n",
       " '8C 9H 3S 7D 5H',\n",
       " 'KC 6C 6S 3S 3H',\n",
       " '8C TC 4C QD 4S',\n",
       " '8S AS JD 2C 4S',\n",
       " 'AH 6D JC 4D TS',\n",
       " 'AH 9H 8H TS 3C',\n",
       " 'QS 4D QD 2S 4S',\n",
       " '5S 7S QS 7H JS',\n",
       " '9S JH KC 8C QS',\n",
       " '7S 2H QD 2S JS',\n",
       " 'AH 7C AC 3S 7D',\n",
       " '7S 4C 2C 3H 4S',\n",
       " 'AH 7S 9D 3S 6H',\n",
       " '9D 4C AC 7H KH',\n",
       " '4H 8S 9H 4C 7D',\n",
       " '9H QH 7C 8H JS',\n",
       " 'KC 2S 3S 7H KH',\n",
       " 'JH 5S 6D 9C TH',\n",
       " 'JH 6C QC 3S 3H',\n",
       " '9H 9D JD JC 6H',\n",
       " 'AH 9S 5S 9H 3C',\n",
       " 'JH 8C QD JS AD',\n",
       " 'JH 6D 5C TS QD',\n",
       " '4H JD 6C KD 3S',\n",
       " '8S 5C AC 6S 5H',\n",
       " '8C 9D 9C 8H 2C',\n",
       " '9H 5C 2D JC 6H',\n",
       " '8D TS QC 3S 6H',\n",
       " 'AH 7S 3D 3S AD',\n",
       " 'KS AC 3D AD 6H',\n",
       " 'JH KC 7S TS KH',\n",
       " 'KS AS JD 6S JS',\n",
       " 'QS 4C JC TD 4D',\n",
       " 'AH 2D 2C QD 2S',\n",
       " 'JH 8C 7C TS 6S',\n",
       " 'AH 8H 3D 2S 3H',\n",
       " '8D 5C KD 3C 3S',\n",
       " 'JD TC 5D 3D TH',\n",
       " 'JH KC KS QC 3S',\n",
       " 'JH 4H 2D KD 7H',\n",
       " '8S KS 8D AC 7H',\n",
       " '7S 9D QH 3D 3S',\n",
       " '9D JD TS TH AD',\n",
       " 'AS 4C QC JS TH',\n",
       " 'AH 8D AC 4D 6S',\n",
       " '4C 3C 7D JS 5H',\n",
       " '2D JC 7C 3H 7H',\n",
       " '4C 7C AC KH 5H',\n",
       " 'KC 2D JS KH AD',\n",
       " 'KC 8C 7S 2D AC',\n",
       " 'KC 9D AC 3S 6H',\n",
       " '9S AS 9D TC 4S',\n",
       " '8S 9H TC 7H TH',\n",
       " 'KS 2H JC 6S KH',\n",
       " '8C TC 5C 3D QD',\n",
       " '6C JC KD 3H 7H',\n",
       " 'AH 8H 3C 4S TH',\n",
       " '6D 9D 9C TD AC',\n",
       " 'AH 9H AS 7H 6H',\n",
       " '5S 9H 8D AS 2C',\n",
       " '9C 6C 4D 6S TH',\n",
       " '5C 8H TS 4S KH',\n",
       " 'QS 6S 3S TH 5H',\n",
       " '4H 6C 4D KD JS',\n",
       " '6C TD 8H TH 6H',\n",
       " 'KC 9D 3C 4S 6H',\n",
       " 'KC AS QS 6S JS',\n",
       " '9D 4C 2D 4D 5H',\n",
       " 'JC TD 8H QC 4S',\n",
       " 'JH 7S 6C 3H TH',\n",
       " 'JH JD 6C JS AD',\n",
       " '9S JH AS 7S 9D',\n",
       " '7S 9D 5D 3H KH',\n",
       " '7S QS QD 7H KH',\n",
       " 'AH 4H 4C 2C 5H',\n",
       " '8D 7S JC 8H 6S',\n",
       " 'JH 8D 9C 6C TD',\n",
       " '8D JC 4D 3D QC',\n",
       " '8S 8C 5D 6S 3H',\n",
       " '9S 5S 7S KD 4S',\n",
       " '9S 9D 5D 2C 5H',\n",
       " 'JH JD 2D 7C AD',\n",
       " 'KC JD JC 8H TS',\n",
       " '7S 6D TC 3H 7H',\n",
       " '9C 5D 2C JS KH',\n",
       " '9H QS AC KD JS',\n",
       " '7C 8H 4D 3H 7H',\n",
       " '8S 7S 8H QC 6H',\n",
       " 'QS 3C 7H JS TH',\n",
       " 'KC 5S 9H 2H 6H',\n",
       " '4H 9C QC 3H 7H',\n",
       " '5S TS QC QD 7H',\n",
       " '8D QS TD 5D 8H',\n",
       " '9S 8S 3S 4S 5H',\n",
       " 'KC QH 5C 5D 6S',\n",
       " '9S TD QD JS 6H',\n",
       " '9D 3C 7H 7D 5H',\n",
       " '9H 7S QH JD 4S',\n",
       " 'AS 6D 4C 7C 7D',\n",
       " '5C 4C AC 4D 6H',\n",
       " 'TD 7H 7D JS TH',\n",
       " '5D 8H 6S 3S 4S',\n",
       " '4H 2H 2D 7C 6S',\n",
       " 'KC 7S 9C JD 4D',\n",
       " '4H 8D 4C 8H 3C',\n",
       " '7S QS 4S 7D AD',\n",
       " '6D 5C 8H 4D 3C',\n",
       " 'KC KS TC 5D AD',\n",
       " 'AH 9D 6C 5D 2S',\n",
       " '7S 6D 2H 6S 3C',\n",
       " '9S 5S 7C 8H 7H',\n",
       " '8C KS 5D 4D 6S',\n",
       " '9D 3D KD JS 5H',\n",
       " 'KC 9D 4C 2D TS',\n",
       " '4H 6D JD 6C QD',\n",
       " 'AH JH 3H 4S 5H',\n",
       " 'QH 6C 2D JC 6H',\n",
       " 'QH 7C 5D 2S 3H',\n",
       " '9S JC AC KD 6H',\n",
       " '2H 9C 5D 8H 3D',\n",
       " 'QS TD QC QD 3H',\n",
       " 'KC 5S 6C 7C 6H',\n",
       " 'KC 8S 8C 3C 3H',\n",
       " '4H AS 2D 7H AD',\n",
       " '9H 4D 3C 2S KH',\n",
       " '8C 9D 7C 2C 4S',\n",
       " '8D QH 4C 8H 3H',\n",
       " '2D 7C 5D 3D 2S',\n",
       " '8C KS AS 2S 3H',\n",
       " 'QH JD AC 2C QC',\n",
       " '9C 8H TS QD AD',\n",
       " '2H 5D QC 3C AD',\n",
       " 'KC 6C TC 6S 2S',\n",
       " '5S 8C 3S JS 5H',\n",
       " 'AS JD 8H 3S 6H',\n",
       " '6D 6C QS 3S 5H',\n",
       " 'KS AS TC 6S 4S',\n",
       " 'JH 8S JC TD 3D',\n",
       " '6C KD 2S 3S 7H',\n",
       " '9S KS 5D 4D 4S',\n",
       " '9C TD 7C 6S JS',\n",
       " 'JH 8C 4C QC 3C',\n",
       " 'KC AS 7S 3C 4S',\n",
       " '8C QS 3D 3H AD',\n",
       " 'AH 4H TC 8H 3H',\n",
       " '8C TC 5C 2D 8H',\n",
       " 'KC 4H 8D QH 7D',\n",
       " '9H 6C KD 3H 4S',\n",
       " '8C 6D 2D 5H 6H',\n",
       " 'KC 8C 9H 7C 2S',\n",
       " '8D 9D 4C 3S 5H',\n",
       " 'KC 5S JD 6C 2D',\n",
       " '6D 2H 4D 6S 7H',\n",
       " '4H 8C 4C JC 3D',\n",
       " '8C AS 9D TD KH',\n",
       " 'AS 6D QC 2S 7D',\n",
       " '4H TD 7C 2C 6S',\n",
       " 'JH 9H TC KD KH',\n",
       " '9H 6D KH AD 5H',\n",
       " '9H 9C 2C 3C JS',\n",
       " 'JH 2H TS KH 6H',\n",
       " '2H TD 8H TS QD',\n",
       " '8S 6D 8H 4D QD',\n",
       " '7S 6C 8H 3D QC',\n",
       " 'AH 8C 9D 6C TD',\n",
       " '6D 9D TD KD AD',\n",
       " 'JH 8C 2H QD 6H',\n",
       " 'QH 6C AC 4D 5H',\n",
       " '8S 9H TD 2C 6S',\n",
       " '8S 9H TC 4D 3H',\n",
       " '2H 9C QS 4C 7C',\n",
       " 'JH 2H 7C 6S QC',\n",
       " 'JD AC KD QD 7D',\n",
       " '8C 9C TD 2S AD',\n",
       " '6D QS 5C 7C 3C',\n",
       " '5S AS JC 6S 7D',\n",
       " '8C KS 4C JC QD',\n",
       " 'AH JH 6D AC 5D',\n",
       " 'AS QH JC AC QC',\n",
       " 'JH TC 4D 7D TH',\n",
       " '5S 8S QC KH 5H',\n",
       " 'QH 2H 5D KD 5H',\n",
       " '9C 2D QC 3S 6H',\n",
       " '9C 4C 7C QC 7D',\n",
       " 'JH TC 4C KD 3C',\n",
       " 'JH 4H 9H 2H TC',\n",
       " '8C KS TD 2C QC',\n",
       " '8C 8D JC 3D 3H',\n",
       " '9S KC 6C TD JS',\n",
       " '4H 8C 2D 3D 6S',\n",
       " 'AS 7C QC 3C QD',\n",
       " 'AH 5S 9D KH AD',\n",
       " '5S 2H 5C 8H 3C',\n",
       " 'AH AS JC KD KH',\n",
       " '9H 5C JC KD 3H',\n",
       " '9C 6C 8H 7H KH',\n",
       " '6C JC 2S 3S KH',\n",
       " '9S JH 8C 9H JS',\n",
       " '9S AC 2S 7D 6H',\n",
       " 'JD TC 8H TS 7D',\n",
       " '9D 6C 3D 6S 6H',\n",
       " '2D AC 3D JS TH',\n",
       " 'QH 6C 2D 3D 3S',\n",
       " 'KC 6D KD TH 5H',\n",
       " '4C AC 4D 3D 7H',\n",
       " '9S 4H 8D 8H KH',\n",
       " '8C 6D 6C QS 5C',\n",
       " '5S AS 3H 4S 5H',\n",
       " 'QS 4C TS 6S 5H',\n",
       " 'JH 9D 9C AC 4S',\n",
       " 'KC 8D QH TC QC',\n",
       " 'KC 5S 4H 2H 3D',\n",
       " 'AH 6S QC 7H JS',\n",
       " '8S JC TD 3C 7D',\n",
       " '9S 8C QS 4C 5D',\n",
       " '8S 6D 9C 2D 8H',\n",
       " '4H 2D JC 7H KH',\n",
       " 'KC JD 3H TH AD',\n",
       " 'KS 5C 8H 3D 7H',\n",
       " 'KC 9H 9C KD TS',\n",
       " '9S 5C JC 5D KH',\n",
       " '5S QS 7H JS 5H',\n",
       " '6D 6C 4D 2S AD',\n",
       " '2H 2D JC TD JS',\n",
       " 'KC 5S 4H 4D 6H',\n",
       " '9S TC 3D 7D KH',\n",
       " '9H KS 9D 2H 6S',\n",
       " 'KC 4H 9H 6C QC',\n",
       " '4C 3D TS 4S KH',\n",
       " '9S 6C QS AC 3D',\n",
       " 'JC AC 2S 3S 3H',\n",
       " '9H 2D 7C 4S 5H',\n",
       " 'QS AC 5D JS AD',\n",
       " '9S 9D TC 5D KH',\n",
       " '4H 8D AS JS KH',\n",
       " '8S 6D QS 3D AD',\n",
       " '8C 8D 7C 3C JS',\n",
       " 'QS 2D 4D QD TH',\n",
       " '4H 8S 3C QD JS',\n",
       " '9S 4H 7S 8H 3S',\n",
       " '8D 2H 9C 5D 3H',\n",
       " 'JD TC 2S 3S AD',\n",
       " 'AH 6D TC 5D 6H',\n",
       " '7S 6D 4S 7D 6H',\n",
       " 'AH 8C 8D JC 4S',\n",
       " '5S 3C 2S 7H 6H',\n",
       " 'KC TC 5C 2D 6H',\n",
       " '9S QH KD QD 7H',\n",
       " 'KC 6D QS 2C AD',\n",
       " '9D 5C 5D 3D 5H',\n",
       " '8D 5C TD TH AD',\n",
       " '9S 4H 8C 6D 4D',\n",
       " '5S 6D QH 5C 2D',\n",
       " 'QH 4C JC 2S 5H',\n",
       " '8C AC 5D 4D KH',\n",
       " '5D 4D 6S 4S 6H',\n",
       " '8H 3C 3S 7H TH',\n",
       " '9S 9D 3H 4S KH',\n",
       " 'AH 9C 2D 3D 3S',\n",
       " 'JH 7S 2H 4S AD',\n",
       " 'JH KC 4H JC 4S',\n",
       " 'AH JD JC AC TS',\n",
       " '8C 3D KD 3S KH',\n",
       " 'KS AC 2S 3H 7H',\n",
       " 'QH 7C 8H JS AD',\n",
       " '4H TD 5D 4D 3D',\n",
       " 'JH 5S 3C 7H TH',\n",
       " '4H AS 2H AC 4D',\n",
       " '7S 2H 8H KD 6H',\n",
       " 'AH 2D TD 2S 5H',\n",
       " 'AS 2H 9C 7C JS',\n",
       " '5C 2C TS 3C 3H',\n",
       " '8C TS QD 3H KH',\n",
       " '8S QS TS 2S TH',\n",
       " 'KC JD 7D TH 6H',\n",
       " '5S 7S 5C 2D JC',\n",
       " 'AH 9D 2C 3C 6H',\n",
       " 'JH KC 8C 3S 3H',\n",
       " '9H 7C 2C TS 5H',\n",
       " '9S QH 5C 2C 3D',\n",
       " 'KC 9H 3C KH AD',\n",
       " '5S QS 5D 4D JS',\n",
       " '5S QS 4S JS TH',\n",
       " '2H 2D KD 6S 3S',\n",
       " '9S 4H 9D 4C 7H',\n",
       " '2H KD 4S 7D KH',\n",
       " 'JD TC QS 2D JC',\n",
       " 'AS 2H TD 8H 5H',\n",
       " '2H JC 3H 7H 6H',\n",
       " '4H JC 7C 7D KH',\n",
       " '9D TC AC 3D QD',\n",
       " '9H 6D QC 3H 4S',\n",
       " 'JH JD TC 2D AC',\n",
       " 'JD 4D 3S 7D 5H',\n",
       " 'JH 9C QS 3C 7H',\n",
       " '8S QS 7C TS TH',\n",
       " '9D 2H JD 7D TH',\n",
       " '2H 4C 7C KD 7D',\n",
       " 'AH 8C 2C 3D KD',\n",
       " '8S 7S QS KD 3S',\n",
       " '5S 8C 2S JS TH',\n",
       " '9H AC 5D TS AD',\n",
       " '9D QH TC 3D 6S',\n",
       " '9C JD 6C 3D 6S',\n",
       " 'JH 5S 5C 2C KD',\n",
       " 'JH AS QH 2H JC',\n",
       " '7S 2H 5D 8H AD',\n",
       " '4H TC QS TD 8H',\n",
       " '2H JD TS QC 3C',\n",
       " 'AH 5D JS AD 5H',\n",
       " '2H AC 8H QD 6H',\n",
       " 'TC 7C AC 2C AD',\n",
       " '8C AS 9D 7C 3H',\n",
       " '4H QH 3D 4S 7D',\n",
       " '9S 4H 5C KD JS',\n",
       " '6D 4C AC 8H TS',\n",
       " '5S 8S KS TC 8H',\n",
       " '8S 8D KD TS 3H',\n",
       " '8D AS TC QC 4S',\n",
       " '9S 2H 3D KD TH',\n",
       " 'KC 6D QS 3D QC',\n",
       " 'TC 2C KD TS QC',\n",
       " 'QH TD 6S QD 7D',\n",
       " '8S QH 2D 5D 6S',\n",
       " '9S 7S 2D 4D 4S',\n",
       " '8C AC 5D 3S 7D',\n",
       " '8S 9H 9D 7H AD',\n",
       " 'AH JC AC 3H JS',\n",
       " '6C AC 5D 6S JS',\n",
       " 'AS QS JC 3C 5H',\n",
       " 'AH 5S 4H QS 6H',\n",
       " '9S JD 3S 3H 7H',\n",
       " 'AH 9H 2H 4C AD',\n",
       " 'AH AS 2C QD AD',\n",
       " '7S 9D JD 8H 4S',\n",
       " 'AH 8S TS 2S 4S',\n",
       " '4C 2D TD 8H 6H',\n",
       " '7C 2C TS 4S AD',\n",
       " 'KS TD AC 3D 6H',\n",
       " 'KC QS 5D 4D KD',\n",
       " 'KS TD AC 8H 6H',\n",
       " 'JH 8D 6D QS 5C',\n",
       " '8C 8D QS 5C 8H',\n",
       " '2H 9C AC 3S 4S',\n",
       " '9S 4H 9C 3S 4S',\n",
       " 'AS 6D TC 5D 6H',\n",
       " 'JD 6C 2D 2C TH',\n",
       " '9S 2H 9C TC QC',\n",
       " '6D 2H 4C 8H 3C',\n",
       " '8D 7S JD 2C 3S',\n",
       " '2H 9C 5C 5D 8H',\n",
       " 'AH 9S 9H 9D TD',\n",
       " '9H 8D 6C 4C TH',\n",
       " '5S 6D 9C 6C 8H',\n",
       " 'QH 9C 5D 4D KH',\n",
       " 'AH 7C QD KH 5H',\n",
       " 'KC 9H QC 4S 5H',\n",
       " 'KS TC QD JS AD',\n",
       " 'JD 2D 8H 3S TH',\n",
       " 'KC QH QS 3H 4S',\n",
       " 'KC KS TC AC TH',\n",
       " 'KC 5C AC 5D 8H',\n",
       " '5S 9C 4C AC JS',\n",
       " '9D QS JC 5D QC',\n",
       " 'KC 8D 2C JS KH',\n",
       " 'AH 7S 8H 7H KH',\n",
       " '5C 7C 6S 7D AD',\n",
       " 'KC 5S 3D 3S 7D',\n",
       " 'QH 2H 7C 5D TH',\n",
       " '9S JH 3D 2S 7H',\n",
       " '9S 9D 4C 2D QC',\n",
       " '4H 6C 7C 2C 3S',\n",
       " '8C TC 4D QD 3H',\n",
       " '9C QS 5D 8H 3C',\n",
       " 'KC 2H TC 4D 6H',\n",
       " 'QS TD 2S 7D 6H',\n",
       " '4H 9H 2D 7C JS',\n",
       " 'KS 8D QC TH 6H',\n",
       " '7S 3D QC QD 7D',\n",
       " 'KC 8S 2C 3C 7H',\n",
       " 'KC JC 7D AD 6H',\n",
       " 'AS 9C JD KH TH',\n",
       " '6C TC 2D JC 2C',\n",
       " '4C 8H 4D 6S 3S',\n",
       " '8C 6D 2H 5C 7C',\n",
       " '9S JC AC TS 6H',\n",
       " 'KC AC 4S 7H TH',\n",
       " 'JH 8D 5D 4D 6H',\n",
       " 'KC 5S 2H JD TC',\n",
       " '9S 7S 6C QD 7D',\n",
       " '5S 6D TC 7C 6H',\n",
       " '4H 8C 2C 3D 6H',\n",
       " 'JH 6D 6C 5C 6S',\n",
       " 'JH 4H 3D TS 5H',\n",
       " '8C 2D KD QC 7H',\n",
       " '8S 8C 6C QC 3C',\n",
       " 'KS 6D QS AC JS',\n",
       " 'KC 8D JC KD 6H',\n",
       " '6D 5D 4D 7D AD',\n",
       " '8S 8C JD 3D 4S',\n",
       " '7S 6D 6C 8H 7H',\n",
       " 'KC 5S AC QC 3H',\n",
       " 'QS 5C 2C TH AD',\n",
       " '9H JD 3S 5H 6H',\n",
       " 'JH TD 2C 3D 3S',\n",
       " '9D JC AC 8H AD',\n",
       " '9C 7C 8H 3C JS',\n",
       " '9S TS QD 3S JS',\n",
       " 'KC 8H 3S 4S JS',\n",
       " '4H QS KD QC KH',\n",
       " '4H 8D QS 7C 2S',\n",
       " 'AH 6D KD 4S 5H',\n",
       " '9S AS 2H 4C 5H',\n",
       " 'JH 8S QH TD 4D',\n",
       " 'KC 6C JC 5D 2C',\n",
       " '7S AC 2C TS 6S',\n",
       " '4C TD 8H TS 4S',\n",
       " 'AH AS 6D KD 3H',\n",
       " '5S QH QC TH 6H',\n",
       " '2H JD TC TS 2S',\n",
       " 'JH 7C 3D 2S 4S',\n",
       " '9S 8C 8D 7S 5C',\n",
       " '8S QH JD 3D KD',\n",
       " '4H 7S JC 4D 7H',\n",
       " '4H 5D TS 2S 6H',\n",
       " '5S TC TD KD 5H',\n",
       " '7S 6C JC 4S KH',\n",
       " '8S TD 2C KD 7H',\n",
       " 'AH AS 2H 5C TS',\n",
       " 'JH KC 8S KS 6C',\n",
       " '9C TC 5D 3C KH',\n",
       " '4H 8D 7S TC KD',\n",
       " '6D 2D TD 7H 6H',\n",
       " '9D 5C 7C 3C 6H',\n",
       " '5S QS 5C 7C QD',\n",
       " 'AH KS 6C TD AD',\n",
       " 'KC 5S TC 8H QC',\n",
       " '8C TC TD 4D 3H',\n",
       " '8D 7S QC 2S 3S',\n",
       " '5C 3D 2S AD 6H',\n",
       " '9S KC 9D 2H 6S',\n",
       " '7S 7C TS 4S 7H',\n",
       " '8D QH QS 7D KH',\n",
       " '7S 5C 3D 3S 7H',\n",
       " '9H 8D 7S 3H JS',\n",
       " '6C QC 2S 7H 7D',\n",
       " '9S JC TD 2C KH',\n",
       " '9H 7C 3S AD 5H',\n",
       " '4H TC TS 4S 5H',\n",
       " '7S 9D 2H 2D TH',\n",
       " 'AS TC 2C 2S 3H',\n",
       " '6C 2C QC 3H JS',\n",
       " 'KC QH 9C TC 6S',\n",
       " 'KC QS JC 4D 2S',\n",
       " 'JH 6D 9C 4C AD',\n",
       " '6D 2H 5D 3S TH',\n",
       " '9D 8H KD TS 7H',\n",
       " '9D KD QC 4S 7H',\n",
       " 'AS 5C 3C 3H 7D',\n",
       " '9S 8D JD 7C 2S',\n",
       " 'JH 2D 8H 4D 6H',\n",
       " '9S 8C AS QD 3H',\n",
       " '8C 5C 2D 3H 7H',\n",
       " 'JD JC 3C 3H 4S',\n",
       " 'JH 4H JC 3D 7H',\n",
       " ...}"
      ]
     },
     "execution_count": 60,
     "metadata": {},
     "output_type": "execute_result"
    }
   ],
   "source": [
    "import random\n",
    "\n",
    "Hands "
   ]
  },
  {
   "cell_type": "code",
   "execution_count": 61,
   "metadata": {
    "button": false,
    "collapsed": false,
    "jupyter": {
     "outputs_hidden": false
    },
    "new_sheet": false,
    "run_control": {
     "read_only": false
    }
   },
   "outputs": [
    {
     "data": {
      "text/plain": [
       "['QH 4S AD 5H 6H',\n",
       " '6D KD 3S 3H KH',\n",
       " 'AH 2H 6C QD TH',\n",
       " 'KS 4C 3D 7D 6H',\n",
       " '5C JC 8H 3D 3S']"
      ]
     },
     "execution_count": 61,
     "metadata": {},
     "output_type": "execute_result"
    }
   ],
   "source": [
    "Hands = combos(deck, 5)\n",
    "\n",
    "assert len(Hands) == choose(52, 5)\n",
    "\n",
    "random.sample(Hands, 5)"
   ]
  },
  {
   "cell_type": "markdown",
   "metadata": {
    "button": false,
    "new_sheet": false,
    "run_control": {
     "read_only": false
    }
   },
   "source": [
    "Now we can answer questions like the probability of being dealt a flush (5 cards of the same suit):"
   ]
  },
  {
   "cell_type": "raw",
   "metadata": {},
   "source": [
    "AS KS QS JS 3S"
   ]
  },
  {
   "cell_type": "code",
   "execution_count": 62,
   "metadata": {
    "button": false,
    "collapsed": false,
    "jupyter": {
     "outputs_hidden": false
    },
    "new_sheet": false,
    "run_control": {
     "read_only": false
    }
   },
   "outputs": [
    {
     "data": {
      "text/plain": [
       "Fraction(33, 16660)"
      ]
     },
     "execution_count": 62,
     "metadata": {},
     "output_type": "execute_result"
    }
   ],
   "source": [
    "def flush(hand):\n",
    "    return any(hand.count(suit) == 5 for suit in suits)\n",
    "\n",
    "P(flush, Hands)  #pass methods to the probability function,go thru all Hands and check for flushb"
   ]
  },
  {
   "cell_type": "code",
   "execution_count": 63,
   "metadata": {},
   "outputs": [
    {
     "data": {
      "text/plain": [
       "0.0019807923169267707"
      ]
     },
     "execution_count": 63,
     "metadata": {},
     "output_type": "execute_result"
    }
   ],
   "source": [
    "33/16660"
   ]
  },
  {
   "cell_type": "markdown",
   "metadata": {
    "button": false,
    "new_sheet": false,
    "run_control": {
     "read_only": false
    }
   },
   "source": [
    "Or the probability of four of a kind:"
   ]
  },
  {
   "cell_type": "code",
   "execution_count": 64,
   "metadata": {
    "button": false,
    "collapsed": false,
    "jupyter": {
     "outputs_hidden": false
    },
    "new_sheet": false,
    "run_control": {
     "read_only": false
    }
   },
   "outputs": [
    {
     "data": {
      "text/plain": [
       "Fraction(1, 4165)"
      ]
     },
     "execution_count": 64,
     "metadata": {},
     "output_type": "execute_result"
    }
   ],
   "source": [
    "def four_kind(hand):\n",
    "    return any(hand.count(rank) == 4 for rank in ranks)\n",
    "\n",
    "P(four_kind, Hands)  # total number of four_kind from all possible Hands"
   ]
  },
  {
   "cell_type": "code",
   "execution_count": null,
   "metadata": {},
   "outputs": [],
   "source": [
    "#royal flush\n",
    "\n",
    "def four_kind(hand):\n",
    "    return any(hand.count(rank) == 4 for rank in ranks)\n",
    "\n",
    "# def royal_flush(hand):\n",
    "#     return f and flush(hand)\n",
    "#     return flush(hand) and '2H 7D KC 5S 9D'\n",
    "# check if a flush, check the ranks \n",
    "\n",
    "P(four_kind, Hands)  # total number of four_kind from all possible Hands"
   ]
  },
  {
   "cell_type": "code",
   "execution_count": null,
   "metadata": {},
   "outputs": [],
   "source": []
  },
  {
   "cell_type": "code",
   "execution_count": 65,
   "metadata": {},
   "outputs": [
    {
     "data": {
      "text/plain": [
       "0.024009603841536616"
      ]
     },
     "execution_count": 65,
     "metadata": {},
     "output_type": "execute_result"
    }
   ],
   "source": [
    "1/4165 *100"
   ]
  },
  {
   "cell_type": "code",
   "execution_count": 66,
   "metadata": {},
   "outputs": [
    {
     "data": {
      "text/plain": [
       "1.5390771693292702e-06"
      ]
     },
     "execution_count": 66,
     "metadata": {},
     "output_type": "execute_result"
    }
   ],
   "source": [
    "4/len(Hands)"
   ]
  },
  {
   "cell_type": "code",
   "execution_count": 67,
   "metadata": {},
   "outputs": [
    {
     "data": {
      "text/plain": [
       "0.000153907716932927"
      ]
     },
     "execution_count": 67,
     "metadata": {},
     "output_type": "execute_result"
    }
   ],
   "source": [
    "4/len(Hands) * 100"
   ]
  },
  {
   "cell_type": "markdown",
   "metadata": {},
   "source": [
    "# Fermat and Pascal: Gambling, Triangles, and the Birth of Probability\n",
    "\n",
    "<table>\n",
    "<tr><td><img src=\"https://upload.wikimedia.org/wikipedia/commons/thumb/9/98/Pierre_de_Fermat2.png/140px-Pierre_de_Fermat2.png\"><center><a href=\"https://en.wikipedia.org/wiki/Pierre_de_Fermat\">Pierre de Fermat</a><br>1654\n",
    "<td><img src=\"https://www.umass.edu/wsp/images/pascal.jpg\"><center><a href=\"https://en.wikipedia.org/wiki/Blaise_Pascal\">Blaise Pascal]</a><br>1654\n",
    "</table>\n",
    "\n",
    "Consider a gambling game consisting of tossing a coin. Player H wins the game if 10 heads come up, and T wins if 10 tails come up. If the game is interrupted when H has 8 heads and T has 7 tails, how should the pot of money (which happens to be 100 Francs) be split?\n",
    "In 1654, Blaise Pascal and Pierre de Fermat corresponded on this problem, with Fermat [writing](http://mathforum.org/isaac/problems/prob1.html):\n",
    "\n",
    ">Dearest Blaise,\n",
    "\n",
    ">As to the problem of how to divide the 100 Francs, I think I have found a solution that you will find to be fair. Seeing as I needed only two points to win the game, and you needed 3, I think we can establish that after four more tosses of the coin, the game would have been over. For, in those four tosses, if you did not get the necessary 3 points for your victory, this would imply that I had in fact gained the necessary 2 points for my victory. In a similar manner, if I had not achieved the necessary 2 points for my victory, this would imply that you had in fact achieved at least 3 points and had therefore won the game. Thus, I believe the following list of possible endings to the game is exhaustive. I have denoted 'heads' by an 'h', and tails by a 't.' I have starred the outcomes that indicate a win for myself.\n",
    "\n",
    "    h h h h *       h h h t *       h h t h *       h h t t *\n",
    "    h t h h *       h t h t *       h t t h *       h t t t\n",
    "    t h h h *       t h h t *       t h t h *       t h t t\n",
    "    t t h h *       t t h t         t t t h         t t t t\n",
    "\n",
    ">I think you will agree that all of these outcomes are equally likely. Thus I believe that we should divide the stakes by the ration 11:5 in my favor, that is, I should receive (11/16)*100 = 68.75 Francs, while you should receive 31.25 Francs.\n",
    "\n",
    ">I hope all is well in Paris,\n",
    "\n",
    ">Your friend and colleague,\n",
    "\n",
    ">Pierre\n",
    "\n",
    "Pascal agreed with this solution, and [replied](http://mathforum.org/isaac/problems/prob2.html) with a generalization that made use of his previous invention, Pascal's Triangle. There's even [a book](https://smile.amazon.com/Unfinished-Game-Pascal-Fermat-Seventeenth-Century/dp/0465018963?sa-no-redirect=1) about it.\n",
    "\n",
    "We can solve the problem with the tools we have:"
   ]
  },
  {
   "cell_type": "code",
   "execution_count": 68,
   "metadata": {},
   "outputs": [],
   "source": [
    "def win_unfinished_game(Hneeds, Tneeds):\n",
    "    \"The probability that H will win the unfinished game, given the number of points needed by H and T to win.\"\n",
    "    def Hwins(outcome): return outcome.count('h') >= Hneeds\n",
    "    return P(Hwins, continuations(Hneeds, Tneeds))\n",
    "\n",
    "def continuations(Hneeds, Tneeds):\n",
    "    \"All continuations of a game where H needs `Hneeds` points to win and T needs `Tneeds`.\"\n",
    "    rounds = ['ht' for _ in range(Hneeds + Tneeds - 1)]\n",
    "    return set(itertools.product(*rounds))"
   ]
  },
  {
   "cell_type": "code",
   "execution_count": 69,
   "metadata": {
    "collapsed": false,
    "jupyter": {
     "outputs_hidden": false
    }
   },
   "outputs": [
    {
     "data": {
      "text/plain": [
       "{('h', 'h', 'h', 'h'),\n",
       " ('h', 'h', 'h', 't'),\n",
       " ('h', 'h', 't', 'h'),\n",
       " ('h', 'h', 't', 't'),\n",
       " ('h', 't', 'h', 'h'),\n",
       " ('h', 't', 'h', 't'),\n",
       " ('h', 't', 't', 'h'),\n",
       " ('h', 't', 't', 't'),\n",
       " ('t', 'h', 'h', 'h'),\n",
       " ('t', 'h', 'h', 't'),\n",
       " ('t', 'h', 't', 'h'),\n",
       " ('t', 'h', 't', 't'),\n",
       " ('t', 't', 'h', 'h'),\n",
       " ('t', 't', 'h', 't'),\n",
       " ('t', 't', 't', 'h'),\n",
       " ('t', 't', 't', 't')}"
      ]
     },
     "execution_count": 69,
     "metadata": {},
     "output_type": "execute_result"
    }
   ],
   "source": [
    "continuations(2, 3)"
   ]
  },
  {
   "cell_type": "code",
   "execution_count": 70,
   "metadata": {},
   "outputs": [
    {
     "data": {
      "text/plain": [
       "16"
      ]
     },
     "execution_count": 70,
     "metadata": {},
     "output_type": "execute_result"
    }
   ],
   "source": [
    "len(continuations(2, 3))"
   ]
  },
  {
   "cell_type": "code",
   "execution_count": 71,
   "metadata": {
    "collapsed": false,
    "jupyter": {
     "outputs_hidden": false
    }
   },
   "outputs": [
    {
     "data": {
      "text/plain": [
       "Fraction(11, 16)"
      ]
     },
     "execution_count": 71,
     "metadata": {},
     "output_type": "execute_result"
    }
   ],
   "source": [
    "win_unfinished_game(2, 3)"
   ]
  },
  {
   "cell_type": "markdown",
   "metadata": {},
   "source": [
    "Our answer agrees with Pascal and Fermat; we're in good company!"
   ]
  },
  {
   "cell_type": "markdown",
   "metadata": {
    "button": false,
    "new_sheet": false,
    "run_control": {
     "read_only": false
    }
   },
   "source": [
    "# Non-Equiprobable Outcomes: Probability Distributions\n",
    "\n",
    "So far, we have made the assumption that every outcome in a sample space is equally likely. In real life, we often get outcomes that are not equiprobable. For example, the probability of a child being a girl is not exactly 1/2, and the probability is slightly different for a second child. An [article](http://people.kzoo.edu/barth/math105/moreboys.pdf) gives the following counts for two-child families in Denmark, where `GB` means a family where the first child is a girl and the second a boy:\n",
    "\n",
    "    GG: 121801    GB: 126840\n",
    "    BG: 127123    BB: 135138\n",
    "    \n",
    "We will introduce three more definitions:\n",
    "\n",
    "* [Frequency](https://en.wikipedia.org/wiki/Frequency_%28statistics%29): a number describing how often an outcome occurs. Can be a count like 121801, or a ratio like 0.515.\n",
    "\n",
    "* [Distribution](http://mathworld.wolfram.com/StatisticalDistribution.html): A mapping from outcome to frequency for each outcome in a sample space. \n",
    "\n",
    "* [Probability Distribution](https://en.wikipedia.org/wiki/Probability_distribution): A distribution that has been *normalized* so that the sum of the frequencies is 1.\n",
    "\n",
    "We define `ProbDist` to take the same kinds of arguments that `dict` does: either a mapping or an iterable of `(key, val)` pairs, and/or optional keyword arguments. "
   ]
  },
  {
   "cell_type": "code",
   "execution_count": 72,
   "metadata": {
    "button": false,
    "collapsed": false,
    "jupyter": {
     "outputs_hidden": false
    },
    "new_sheet": false,
    "run_control": {
     "read_only": false
    }
   },
   "outputs": [],
   "source": [
    "class ProbDist(dict):\n",
    "    \"A Probability Distribution; an {outcome: probability} mapping.\"\n",
    "    def __init__(self, mapping=(), **kwargs):\n",
    "        self.update(mapping, **kwargs)\n",
    "        # Make probabilities sum to 1.0; assert no negative probabilities\n",
    "        total = sum(self.values())\n",
    "        for outcome in self:\n",
    "            self[outcome] = self[outcome] / total\n",
    "            assert self[outcome] >= 0"
   ]
  },
  {
   "cell_type": "markdown",
   "metadata": {
    "button": false,
    "new_sheet": false,
    "run_control": {
     "read_only": false
    }
   },
   "source": [
    "We also need to modify the functions `P` and `such_that` to accept either a sample space  or a probability distribution as the second argument."
   ]
  },
  {
   "cell_type": "code",
   "execution_count": 73,
   "metadata": {
    "button": false,
    "new_sheet": false,
    "run_control": {
     "read_only": false
    }
   },
   "outputs": [],
   "source": [
    "def P(event, space): \n",
    "    \"\"\"The probability of an event, given a sample space of equiprobable outcomes. \n",
    "    event: a collection of outcomes, or a predicate that is true of outcomes in the event. \n",
    "    space: a set of outcomes or a probability distribution of {outcome: frequency} pairs.\"\"\"\n",
    "    if is_predicate(event):\n",
    "        event = such_that(event, space)\n",
    "    if isinstance(space, ProbDist):\n",
    "        return sum(space[o] for o in space if o in event)\n",
    "    else:\n",
    "        return Fraction(len(event & space), len(space))\n",
    "    \n",
    "def such_that(predicate, space): \n",
    "    \"\"\"The outcomes in the sample pace for which the predicate is true.\n",
    "    If space is a set, return a subset {outcome,...};\n",
    "    if space is a ProbDist, return a ProbDist {outcome: frequency,...};\n",
    "    in both cases only with outcomes where predicate(element) is true.\"\"\"\n",
    "    if isinstance(space, ProbDist):\n",
    "        return ProbDist({o:space[o] for o in space if predicate(o)})\n",
    "    else:\n",
    "        return {o for o in space if predicate(o)}"
   ]
  },
  {
   "cell_type": "markdown",
   "metadata": {
    "button": false,
    "new_sheet": false,
    "run_control": {
     "read_only": false
    }
   },
   "source": [
    "Here is the probability distribution for Danish two-child families:"
   ]
  },
  {
   "cell_type": "code",
   "execution_count": 74,
   "metadata": {
    "button": false,
    "collapsed": false,
    "jupyter": {
     "outputs_hidden": false
    },
    "new_sheet": false,
    "run_control": {
     "read_only": false
    }
   },
   "outputs": [
    {
     "data": {
      "text/plain": [
       "{'GG': 0.23840384261560926,\n",
       " 'GB': 0.24826679089140383,\n",
       " 'BG': 0.24882071317004043,\n",
       " 'BB': 0.2645086533229465}"
      ]
     },
     "execution_count": 74,
     "metadata": {},
     "output_type": "execute_result"
    }
   ],
   "source": [
    "DK = ProbDist(GG=121801, GB=126840,\n",
    "              BG=127123, BB=135138)\n",
    "DK"
   ]
  },
  {
   "cell_type": "markdown",
   "metadata": {
    "button": false,
    "new_sheet": false,
    "run_control": {
     "read_only": false
    }
   },
   "source": [
    "And here are some predicates that will allow us to answer some questions:"
   ]
  },
  {
   "cell_type": "code",
   "execution_count": 76,
   "metadata": {
    "button": false,
    "new_sheet": false,
    "run_control": {
     "read_only": false
    }
   },
   "outputs": [],
   "source": [
    "def first_girl(outcome):  return outcome[0] == 'G'\n",
    "def first_boy(outcome):   return outcome[0] == 'B'\n",
    "def second_girl(outcome): return outcome[1] == 'G'\n",
    "def second_boy(outcome):  return outcome[1] == 'B'\n",
    "def two_girls(outcome):   return outcome    == 'GG'"
   ]
  },
  {
   "cell_type": "code",
   "execution_count": 77,
   "metadata": {
    "button": false,
    "collapsed": false,
    "jupyter": {
     "outputs_hidden": false
    },
    "new_sheet": false,
    "run_control": {
     "read_only": false
    }
   },
   "outputs": [
    {
     "data": {
      "text/plain": [
       "0.4866706335070131"
      ]
     },
     "execution_count": 77,
     "metadata": {},
     "output_type": "execute_result"
    }
   ],
   "source": [
    "P(first_girl, DK)"
   ]
  },
  {
   "cell_type": "code",
   "execution_count": 78,
   "metadata": {
    "button": false,
    "collapsed": false,
    "jupyter": {
     "outputs_hidden": false
    },
    "new_sheet": false,
    "run_control": {
     "read_only": false
    }
   },
   "outputs": [
    {
     "data": {
      "text/plain": [
       "0.4872245557856497"
      ]
     },
     "execution_count": 78,
     "metadata": {},
     "output_type": "execute_result"
    }
   ],
   "source": [
    "P(second_girl, DK)"
   ]
  },
  {
   "cell_type": "markdown",
   "metadata": {
    "button": false,
    "new_sheet": false,
    "run_control": {
     "read_only": false
    }
   },
   "source": [
    "The above says that the probability of a girl is somewhere between 48% and 49%, but that it is slightly different between the first or second child."
   ]
  },
  {
   "cell_type": "code",
   "execution_count": 79,
   "metadata": {
    "button": false,
    "collapsed": false,
    "jupyter": {
     "outputs_hidden": false
    },
    "new_sheet": false,
    "run_control": {
     "read_only": false
    }
   },
   "outputs": [
    {
     "data": {
      "text/plain": [
       "(0.4898669165584115, 0.48471942072973107)"
      ]
     },
     "execution_count": 79,
     "metadata": {},
     "output_type": "execute_result"
    }
   ],
   "source": [
    "P(second_girl, such_that(first_girl, DK)), P(second_girl, such_that(first_boy, DK))"
   ]
  },
  {
   "cell_type": "code",
   "execution_count": 80,
   "metadata": {
    "button": false,
    "collapsed": false,
    "jupyter": {
     "outputs_hidden": false
    },
    "new_sheet": false,
    "run_control": {
     "read_only": false
    }
   },
   "outputs": [
    {
     "data": {
      "text/plain": [
       "(0.5101330834415885, 0.5152805792702689)"
      ]
     },
     "execution_count": 80,
     "metadata": {},
     "output_type": "execute_result"
    }
   ],
   "source": [
    "P(second_boy, such_that(first_girl, DK)), P(second_boy, such_that(first_boy, DK))"
   ]
  },
  {
   "cell_type": "markdown",
   "metadata": {
    "button": false,
    "new_sheet": false,
    "run_control": {
     "read_only": false
    }
   },
   "source": [
    "The above says that the sex of the second child is more likely to be the same as the first child, by about 1/2 a percentage point."
   ]
  },
  {
   "cell_type": "markdown",
   "metadata": {
    "button": false,
    "new_sheet": false,
    "run_control": {
     "read_only": false
    }
   },
   "source": [
    "# More Urn Problems: M&Ms and Bayes\n",
    "\n",
    "Here's another urn problem (or \"bag\" problem) [from](http://allendowney.blogspot.com/2011/10/my-favorite-bayess-theorem-problems.html) prolific Python/Probability author [Allen Downey ](http://allendowney.blogspot.com/):\n",
    "\n",
    "> The blue M&M was introduced in 1995.  Before then, the color mix in a bag of plain M&Ms was (30% Brown, 20% Yellow, 20% Red, 10% Green, 10% Orange, 10% Tan).  Afterward it was (24% Blue , 20% Green, 16% Orange, 14% Yellow, 13% Red, 13% Brown). \n",
    "A friend of mine has two bags of M&Ms, and he tells me that one is from 1994 and one from 1996.  He won't tell me which is which, but he gives me one M&M from each bag.  One is yellow and one is green.  What is the probability that the yellow M&M came from the 1994 bag?\n",
    "\n",
    "To solve this problem, we'll first represent probability distributions for each bag: `bag94` and `bag96`:"
   ]
  },
  {
   "cell_type": "code",
   "execution_count": null,
   "metadata": {
    "button": false,
    "collapsed": false,
    "jupyter": {
     "outputs_hidden": false
    },
    "new_sheet": false,
    "run_control": {
     "read_only": false
    }
   },
   "outputs": [],
   "source": [
    "bag94 = ProbDist(brown=30, yellow=20, red=20, green=10, orange=10, tan=10)\n",
    "bag96 = ProbDist(blue=24, green=20, orange=16, yellow=14, red=13, brown=13)"
   ]
  },
  {
   "cell_type": "markdown",
   "metadata": {
    "button": false,
    "new_sheet": false,
    "run_control": {
     "read_only": false
    }
   },
   "source": [
    "Next, define `MM` as the joint distribution&mdash;the sample space for picking one M&M from each bag. The outcome `'yellow green'` means that a yellow M&M was selected from the 1994 bag and a green one from the 1996 bag."
   ]
  },
  {
   "cell_type": "code",
   "execution_count": null,
   "metadata": {
    "button": false,
    "collapsed": false,
    "jupyter": {
     "outputs_hidden": false
    },
    "new_sheet": false,
    "run_control": {
     "read_only": false
    }
   },
   "outputs": [],
   "source": [
    "def joint(A, B, sep=''):\n",
    "    \"\"\"The joint distribution of two independent probability distributions. \n",
    "    Result is all entries of the form {a+sep+b: P(a)*P(b)}\"\"\"\n",
    "    return ProbDist({a + sep + b: A[a] * B[b]\n",
    "                    for a in A\n",
    "                    for b in B})\n",
    "\n",
    "MM = joint(bag94, bag96, ' ')\n",
    "MM"
   ]
  },
  {
   "cell_type": "markdown",
   "metadata": {
    "button": false,
    "new_sheet": false,
    "run_control": {
     "read_only": false
    }
   },
   "source": [
    "First we'll look at the \"One is yellow and one is green\" part:"
   ]
  },
  {
   "cell_type": "code",
   "execution_count": null,
   "metadata": {
    "button": false,
    "collapsed": false,
    "jupyter": {
     "outputs_hidden": false
    },
    "new_sheet": false,
    "run_control": {
     "read_only": false
    }
   },
   "outputs": [],
   "source": [
    "def yellow_and_green(outcome): return 'yellow' in outcome and 'green' in outcome\n",
    "\n",
    "such_that(yellow_and_green, MM)"
   ]
  },
  {
   "cell_type": "markdown",
   "metadata": {
    "button": false,
    "new_sheet": false,
    "run_control": {
     "read_only": false
    }
   },
   "source": [
    "Now we can answer the question: given that we got a yellow and a green (but don't know which comes from which bag), what is the probability that the yellow came from the 1994 bag?"
   ]
  },
  {
   "cell_type": "code",
   "execution_count": null,
   "metadata": {
    "button": false,
    "collapsed": false,
    "jupyter": {
     "outputs_hidden": false
    },
    "new_sheet": false,
    "run_control": {
     "read_only": false
    }
   },
   "outputs": [],
   "source": [
    "def yellow94(outcome): return outcome.startswith('yellow')\n",
    "\n",
    "P(yellow94, such_that(yellow_and_green, MM))"
   ]
  },
  {
   "cell_type": "markdown",
   "metadata": {
    "button": false,
    "new_sheet": false,
    "run_control": {
     "read_only": false
    }
   },
   "source": [
    "So there is a 74% chance that the yellow comes from the 1994 bag.\n",
    "\n",
    "Answering this question was straightforward: just like all the other probability problems, we simply create a sample space, and use `P` to pick out the probability of the event in question, given what we know about the outcome.\n",
    "But in a sense it is curious that we were able to solve this problem with the same methodology as the others: this problem comes from a section titled **My favorite Bayes's Theorem Problems**, so one would expect that we'd need to invoke Bayes Theorem to solve it.  The computation above shows that that is not necessary. \n",
    "\n",
    "![Bayes](http://img1.ph.126.net/xKZAzeOv_mI8a4Lwq7PHmw==/2547911489202312541.jpg)\n",
    "<center><a href=\"https://en.wikipedia.org/wiki/Thomas_Bayes\">Rev. Thomas Bayes</a><br>1701-1761\n",
    "</center>\n",
    "\n",
    "Of course, we *could* solve it using Bayes Theorem. Why is Bayes Theorem recommended? Because we are asked about the probability of an event given the evidence, which is not immediately available; however the probability of the evidence given the event is.  \n",
    "\n",
    "Before we see the colors of the M&Ms, there are two hypotheses, `A` and `B`, both with equal probability:\n",
    "\n",
    "    A: first M&M from 94 bag, second from 96 bag\n",
    "    B: first M&M from 96 bag, second from 94 bag\n",
    "    P(A) = P(B) = 0.5\n",
    "    \n",
    "Then we get some evidence:\n",
    "    \n",
    "    E: first M&M yellow, second green\n",
    "    \n",
    "We want to know the probability of hypothesis `A`, given the evidence:\n",
    "    \n",
    "    P(A | E)\n",
    "    \n",
    "That's not easy to calculate (except by enumerating the sample space). But Bayes Theorem says:\n",
    "    \n",
    "    P(A | E) = P(E | A) * P(A) / P(E)\n",
    "    \n",
    "The quantities on the right-hand-side are easier to calculate:\n",
    "    \n",
    "    P(E | A) = 0.20 * 0.20 = 0.04\n",
    "    P(E | B) = 0.10 * 0.14 = 0.014\n",
    "    P(A)     = 0.5\n",
    "    P(B)     = 0.5\n",
    "    P(E)     = P(E | A) * P(A) + P(E | B) * P(B) \n",
    "             = 0.04     * 0.5  + 0.014    * 0.5   =   0.027\n",
    "    \n",
    "And we can get a final answer:\n",
    "    \n",
    "    P(A | E) = P(E | A) * P(A) / P(E) \n",
    "             = 0.04     * 0.5  / 0.027 \n",
    "             = 0.7407407407\n",
    "             \n",
    "You have a choice: Bayes Theorem allows you to do less calculation at the cost of more algebra; that is a great trade-off if you are working with pencil and paper. Enumerating the state space allows you to do less algebra at the cost of more calculation; often a good trade-off if you have a computer. But regardless of the approach you use, it is important to understand Bayes theorem and how it works.\n",
    "\n",
    "There is one important question that Allen Downey does not address: *would you  eat twenty-year-old M&Ms*?\n",
    "&#128552;"
   ]
  },
  {
   "cell_type": "markdown",
   "metadata": {},
   "source": [
    "# Newton's Answer to a Problem by Pepys\n",
    "\n",
    "<table>\n",
    "<tr><td><img src=\"http://scienceworld.wolfram.com/biography/pics/Newton.jpg\"><center><a href=\"https://en.wikipedia.org/wiki/Isaac_Newton\">Isaac Newton</a><br>1693</center>\n",
    "<td><img src=\"https://upload.wikimedia.org/wikipedia/commons/thumb/f/f8/Samuel_Pepys_portrait.jpg/148px-Samuel_Pepys_portrait.jpg\"><center><a href=\"https://en.wikipedia.org/wiki/Samuel_Pepys\">Samuel Pepys</a><br>1693</center>\n",
    "</table>\n",
    "\n",
    "[This paper](http://fermatslibrary.com/s/isaac-newton-as-a-probabilist) explains how  Samuel Pepys wrote to Isaac Newton in 1693 to pose the problem:\n",
    "\n",
    "> Which of the following three propositions has the greatest chance of success? \n",
    "  1. Six fair dice are tossed independently and at least one “6” appears. \n",
    "  2. Twelve fair dice are tossed independently and at least two “6”s appear. \n",
    "  3. Eighteen fair dice are tossed independently and at least three “6”s appear.\n",
    "  \n",
    "Newton was able to answer the question correctly (although his reasoning was not quite right); let's see how we can do. Since we're only interested in whether a die comes up as \"6\" or not, we can define a single die and the joint distribution over *n* dice as follows:"
   ]
  },
  {
   "cell_type": "code",
   "execution_count": null,
   "metadata": {
    "collapsed": false,
    "jupyter": {
     "outputs_hidden": false
    }
   },
   "outputs": [],
   "source": [
    "die = ProbDist({'6':1/6, '-':5/6})\n",
    "\n",
    "print(die)"
   ]
  },
  {
   "cell_type": "code",
   "execution_count": null,
   "metadata": {
    "collapsed": false,
    "jupyter": {
     "outputs_hidden": false
    }
   },
   "outputs": [],
   "source": [
    "def dice(n, die):\n",
    "    \"Joint probability from tossing n dice.\"\n",
    "    if n == 1:\n",
    "        return die\n",
    "    else:\n",
    "        return joint(die, dice(n - 1, die))"
   ]
  },
  {
   "cell_type": "code",
   "execution_count": null,
   "metadata": {
    "collapsed": false,
    "jupyter": {
     "outputs_hidden": false
    }
   },
   "outputs": [],
   "source": [
    "dice(3, die)"
   ]
  },
  {
   "cell_type": "markdown",
   "metadata": {},
   "source": [
    "Now we are ready to determine which proposition is more likely to have the required number of sixes:"
   ]
  },
  {
   "cell_type": "code",
   "execution_count": null,
   "metadata": {},
   "outputs": [],
   "source": [
    "def at_least(k, result): return lambda s: s.count(result) >= k"
   ]
  },
  {
   "cell_type": "code",
   "execution_count": null,
   "metadata": {
    "collapsed": false,
    "jupyter": {
     "outputs_hidden": false
    }
   },
   "outputs": [],
   "source": [
    "P(at_least(1, '6'), dice(6, die))"
   ]
  },
  {
   "cell_type": "code",
   "execution_count": null,
   "metadata": {
    "collapsed": false,
    "jupyter": {
     "outputs_hidden": false
    }
   },
   "outputs": [],
   "source": [
    "P(at_least(2, '6'), dice(12, die))"
   ]
  },
  {
   "cell_type": "code",
   "execution_count": null,
   "metadata": {
    "collapsed": false,
    "jupyter": {
     "outputs_hidden": false
    }
   },
   "outputs": [],
   "source": [
    "P(at_least(4, '6'), dice(18, die))"
   ]
  },
  {
   "cell_type": "markdown",
   "metadata": {},
   "source": [
    "We reach the same conclusion Newton did, that the best chance is rolling six dice."
   ]
  },
  {
   "cell_type": "markdown",
   "metadata": {
    "button": false,
    "new_sheet": false,
    "run_control": {
     "read_only": false
    }
   },
   "source": [
    "<hr>\n",
    "\n",
    "# Simulation\n",
    "\n",
    "Sometimes it is inconvenient to explicitly define a sample space. Perhaps the sample space is infinite, or perhaps it is just very large and complicated, and we feel more confident in writing a program to *simulate* one pass through all the complications, rather than try to *enumerate* the complete sample space. *Random sampling* from the simulation\n",
    "can give an accurate estimate of the probability.\n",
    "\n",
    "# Simulating Monopoly\n",
    "\n",
    "![](http://buckwolf.org/a.abcnews.com/images/Entertainment/ho_hop_go_050111_t.jpg)<center>[Mr. Monopoly](https://en.wikipedia.org/wiki/Rich_Uncle_Pennybags)<br>1940&mdash;\n",
    "\n",
    "Consider [problem 84](https://projecteuler.net/problem=84) from the excellent [Project Euler](https://projecteuler.net), which asks for the probability that a player in the game Monopoly ends a roll on each of the squares on the board.  To answer this we need to take into account die rolls, chance and community chest cards, and going to jail (from the \"go to jail\" space, from a card, or from rolling doubles three times in a row). We do not need to take into account anything about buying or selling properties or exchanging money or winning or losing the game, because these don't change a player's location. We will assume that a player in jail will always pay to get out of jail immediately. \n",
    "\n",
    "A game of Monopoly can go on forever, so the sample space is infinite. But even if we limit the sample space to say, 1000 rolls, there are $21^{1000}$ such sequences of rolls (and even more possibilities when we consider drawing cards). So it is infeasible to explicitly represent the sample space.\n",
    "\n",
    "But it is fairly straightforward to implement a simulation and run it for, say, 400,000 rolls (so the average square will be landed on 10,000 times).  Here is the code for a simulation:"
   ]
  },
  {
   "cell_type": "code",
   "execution_count": null,
   "metadata": {
    "button": false,
    "collapsed": false,
    "jupyter": {
     "outputs_hidden": false
    },
    "new_sheet": false,
    "run_control": {
     "read_only": false
    }
   },
   "outputs": [],
   "source": [
    "from collections import Counter, deque\n",
    "import random\n",
    "\n",
    "# The board: a list of the names of the 40 squares\n",
    "# As specified by https://projecteuler.net/problem=84\n",
    "board = \"\"\"GO   A1 CC1 A2  T1 R1 B1  CH1 B2 B3\n",
    "           JAIL C1 U1  C2  C3 R2 D1  CC2 D2 D3 \n",
    "           FP   E1 CH2 E2  E3 R3 F1  F2  U2 F3 \n",
    "           G2J  G1 G2  CC3 G3 R4 CH3 H1  T2 H2\"\"\".split()\n",
    "\n",
    "def monopoly(steps):\n",
    "    \"\"\"Simulate given number of steps of Monopoly game, \n",
    "    yielding the number of the current square after each step.\"\"\"\n",
    "    goto(0) # start at GO\n",
    "    CC_deck = Deck('GO JAIL' + 14 * ' ?')\n",
    "    CH_deck = Deck('GO JAIL C1 E3 H2 R1 R R U -3' + 6 * ' ?')\n",
    "    doubles = 0\n",
    "    jail = board.index('JAIL')\n",
    "    for _ in range(steps):\n",
    "        d1, d2 = random.randint(1, 6), random.randint(1, 6)\n",
    "        goto(here + d1 + d2)\n",
    "        doubles = (doubles + 1) if (d1 == d2) else 0\n",
    "        if doubles == 3 or board[here] == 'G2J':  \n",
    "            goto(jail)\n",
    "        elif board[here].startswith('CC'):\n",
    "            do_card(CC_deck)\n",
    "        elif board[here].startswith('CH'):\n",
    "            do_card(CH_deck)\n",
    "        yield here         \n",
    "\n",
    "def goto(square):\n",
    "    \"Update the global variable 'here' to be square.\"\n",
    "    global here\n",
    "    here = square % len(board)\n",
    "                   \n",
    "def Deck(names):\n",
    "    \"Make a shuffled deck of cards, given a space-delimited string.\"\n",
    "    cards = names.split()\n",
    "    random.shuffle(cards)\n",
    "    return deque(cards)         \n",
    "\n",
    "def do_card(deck):\n",
    "    \"Take the top card from deck and do what it says.\"\n",
    "    global here\n",
    "    card = deck[0]             # The top card\n",
    "    deck.rotate(-1)            # Move top card to bottom of deck\n",
    "    if card == 'R' or card == 'U': \n",
    "        while not board[here].startswith(card):\n",
    "            goto(here + 1)     # Advance to next railroad or utility\n",
    "    elif card == '-3':\n",
    "        goto(here - 3)         # Go back 3 spaces\n",
    "    elif card != '?':\n",
    "        goto(board.index(card))# Go to destination named on card"
   ]
  },
  {
   "cell_type": "markdown",
   "metadata": {
    "button": false,
    "new_sheet": false,
    "run_control": {
     "read_only": false
    }
   },
   "source": [
    "And the results:"
   ]
  },
  {
   "cell_type": "code",
   "execution_count": null,
   "metadata": {
    "button": false,
    "collapsed": false,
    "jupyter": {
     "outputs_hidden": false
    },
    "new_sheet": false,
    "run_control": {
     "read_only": false
    }
   },
   "outputs": [],
   "source": [
    "results = list(monopoly(400000))"
   ]
  },
  {
   "cell_type": "markdown",
   "metadata": {
    "button": false,
    "new_sheet": false,
    "run_control": {
     "read_only": false
    }
   },
   "source": [
    "I'll show a histogram of the squares, with a dotted red line at the average:"
   ]
  },
  {
   "cell_type": "code",
   "execution_count": null,
   "metadata": {
    "button": false,
    "collapsed": false,
    "jupyter": {
     "outputs_hidden": false
    },
    "new_sheet": false,
    "run_control": {
     "read_only": false
    }
   },
   "outputs": [],
   "source": [
    "%matplotlib inline \n",
    "import matplotlib.pyplot as plt\n",
    "\n",
    "plt.hist(results, bins=40)\n",
    "avg = len(results) / 40\n",
    "plt.plot([0, 39], [avg, avg], 'r--');"
   ]
  },
  {
   "cell_type": "markdown",
   "metadata": {
    "button": false,
    "new_sheet": false,
    "run_control": {
     "read_only": false
    }
   },
   "source": [
    "Another way to see the results:"
   ]
  },
  {
   "cell_type": "code",
   "execution_count": null,
   "metadata": {
    "button": false,
    "collapsed": false,
    "jupyter": {
     "outputs_hidden": false
    },
    "new_sheet": false,
    "run_control": {
     "read_only": false
    }
   },
   "outputs": [],
   "source": [
    "ProbDist(Counter(board[i] for i in results))"
   ]
  },
  {
   "cell_type": "markdown",
   "metadata": {
    "button": false,
    "new_sheet": false,
    "run_control": {
     "read_only": false
    }
   },
   "source": [
    "There is one square far above average: `JAIL`, at a little over 6%. There are four squares far below average: the three chance squares, `CH1`, `CH2`, and `CH3`, at around 1% (because 10 of the 16 chance cards send the player away from the square), and the \"Go to Jail\" square, square number 30 on the plot, which has a frequency of 0 because you can't end a turn there. The other squares are around 2% to 3% each, which you would expect, because 100% / 40 = 2.5%."
   ]
  },
  {
   "cell_type": "markdown",
   "metadata": {},
   "source": [
    "# The Central Limit Theorem / Strength in Numbers Theorem\n",
    "\n",
    "So far, we have talked of an *outcome* as being a single state of the world. But it can be useful to break that state of the world down into components. We call these components **random variables**. For example, when we consider an experiment in which we roll two dice and observe their sum, we could model the situation with two random variables, one for each die. (Our representation of outcomes has been doing that implicitly all along, when we concatenate two parts of a string, but the concept of a random variable makes it official.)\n",
    "\n",
    "The **Central Limit Theorem** states that if you have a collection of random variables and sum them up, then the larger the collection, the closer the sum will be to a *normal distribution* (also called a *Gaussian distribution* or a *bell-shaped curve*). The theorem applies in all but a few pathological cases. \n",
    "\n",
    "As an example, let's take 5 random variables representing the per-game scores of 5 basketball players, and then sum them together to form the team score. Each random variable/player is represented as a function; calling the function returns a single sample from the distribution:\n"
   ]
  },
  {
   "cell_type": "code",
   "execution_count": null,
   "metadata": {
    "collapsed": false,
    "jupyter": {
     "outputs_hidden": false
    }
   },
   "outputs": [],
   "source": [
    "from random import gauss, triangular, choice, vonmisesvariate, uniform\n",
    "\n",
    "def SC(): return posint(gauss(15.1, 3) + 3 * triangular(1, 4, 13)) # 30.1\n",
    "def KT(): return posint(gauss(10.2, 3) + 3 * triangular(1, 3.5, 9)) # 22.1\n",
    "def DG(): return posint(vonmisesvariate(30, 2) * 3.08) # 14.0\n",
    "def HB(): return posint(gauss(6.7, 1.5) if choice((True, False)) else gauss(16.7, 2.5)) # 11.7\n",
    "def OT(): return posint(triangular(5, 17, 25) + uniform(0, 30) + gauss(6, 3)) # 37.0\n",
    "\n",
    "def posint(x): \"Positive integer\"; return max(0, int(round(x)))"
   ]
  },
  {
   "cell_type": "markdown",
   "metadata": {},
   "source": [
    "And here is a function to sample a random variable *k* times, show a histogram of the results, and return the mean:"
   ]
  },
  {
   "cell_type": "code",
   "execution_count": null,
   "metadata": {},
   "outputs": [],
   "source": [
    "from statistics import mean\n",
    "\n",
    "def repeated_hist(rv, bins=10, k=100000):\n",
    "    \"Repeat rv() k times and make a histogram of the results.\"\n",
    "    samples = [rv() for _ in range(k)]\n",
    "    plt.hist(samples, bins=bins)\n",
    "    return mean(samples)"
   ]
  },
  {
   "cell_type": "markdown",
   "metadata": {},
   "source": [
    "The two top-scoring players have scoring distributions that are slightly skewed from normal:"
   ]
  },
  {
   "cell_type": "code",
   "execution_count": null,
   "metadata": {
    "collapsed": false,
    "jupyter": {
     "outputs_hidden": false
    }
   },
   "outputs": [],
   "source": [
    "repeated_hist(SC, bins=range(60))"
   ]
  },
  {
   "cell_type": "code",
   "execution_count": null,
   "metadata": {
    "collapsed": false,
    "jupyter": {
     "outputs_hidden": false
    }
   },
   "outputs": [],
   "source": [
    "repeated_hist(KT, bins=range(60))"
   ]
  },
  {
   "cell_type": "markdown",
   "metadata": {},
   "source": [
    "The next two players have bi-modal distributions; some games they score a lot, some games not:"
   ]
  },
  {
   "cell_type": "code",
   "execution_count": null,
   "metadata": {
    "collapsed": false,
    "jupyter": {
     "outputs_hidden": false
    }
   },
   "outputs": [],
   "source": [
    "repeated_hist(DG, bins=range(60))"
   ]
  },
  {
   "cell_type": "code",
   "execution_count": null,
   "metadata": {
    "collapsed": false,
    "jupyter": {
     "outputs_hidden": false
    }
   },
   "outputs": [],
   "source": [
    "repeated_hist(HB, bins=range(60))"
   ]
  },
  {
   "cell_type": "markdown",
   "metadata": {},
   "source": [
    "The fifth \"player\" (actually the sum of all the other players on the team) looks like this:"
   ]
  },
  {
   "cell_type": "code",
   "execution_count": null,
   "metadata": {
    "collapsed": false,
    "jupyter": {
     "outputs_hidden": false
    }
   },
   "outputs": [],
   "source": [
    "repeated_hist(OT, bins=range(60))"
   ]
  },
  {
   "cell_type": "markdown",
   "metadata": {},
   "source": [
    "Now we define the team score to be the sum of the five players, and look at the distribution:"
   ]
  },
  {
   "cell_type": "code",
   "execution_count": null,
   "metadata": {
    "collapsed": false,
    "jupyter": {
     "outputs_hidden": false
    }
   },
   "outputs": [],
   "source": [
    "def GSW(): return SC() + KT() + DG() + HB() + OT()\n",
    "\n",
    "repeated_hist(GSW, bins=range(70, 160, 2))"
   ]
  },
  {
   "cell_type": "markdown",
   "metadata": {},
   "source": [
    "Sure enough, this looks very much like a normal distribution. The Central Limit Theorem appears to hold in this case. But I have to say \"Central Limit\" is not a very evocative name, so I propose we re-name this as the **Strength in Numbers Theorem**, to indicate the fact that if you have a lot of numbers, you tend to get the expected result."
   ]
  },
  {
   "cell_type": "markdown",
   "metadata": {
    "button": false,
    "new_sheet": false,
    "run_control": {
     "read_only": false
    }
   },
   "source": [
    "# Conclusion\n",
    "\n",
    "We've had an interesting tour and met some giants of the field: Laplace, Bernoulli, Fermat, Pascal, Bayes, Newton, ... even Mr. Monopoly and The Count.\n",
    "\n",
    "![The Count](http://img2.oncoloring.com/count-dracula-number-thir_518b77b54ba6c-p.gif)\n",
    "<center><a href=\"https://en.wikipedia.org/wiki/Count_von_Count\">The Count</a><br>1972&mdash;</center>\n",
    "\n",
    "The conclusion is: be explicit about what the problem says, and then methodical about defining the sample space, and finally be careful in counting the number of outcomes in the numerator and denominator. Easy as 1-2-3. "
   ]
  },
  {
   "cell_type": "markdown",
   "metadata": {},
   "source": [
    "# Let's review some of these concepts:\n",
    "\n",
    "\n",
    "- **[Experiment](https://en.wikipedia.org/wiki/Experiment_(probability_theory%29):**\n",
    "  An occurrence with an uncertain outcome that we can observe.\n",
    "  <br>*For example, rolling a die.*\n",
    "- **[Outcome](https://en.wikipedia.org/wiki/Outcome_(probability%29):**\n",
    "  The result of an experiment; one particular state of the world. What Laplace calls a \"case.\"\n",
    "  <br>*For example:* `4`.\n",
    "- **[Sample Space](https://en.wikipedia.org/wiki/Sample_space):**\n",
    "  The set of all possible outcomes for the experiment. \n",
    "  <br>*For example,* `{1, 2, 3, 4, 5, 6}`.\n",
    "- **[Event](https://en.wikipedia.org/wiki/Event_(probability_theory%29):**\n",
    "  A subset of possible outcomes that together have some property we are interested in.\n",
    "  <br>*For example, the event \"even die roll\" is the set of outcomes* `{2, 4, 6}`. \n",
    "- **[Probability](https://en.wikipedia.org/wiki/Probability_theory):**\n",
    "  As Laplace said, the probability of an event with respect to a sample space is the number of favorable cases (outcomes from the sample space that are in the event) divided by the total number of cases in the sample space. (This assumes that all outcomes in the sample space are equally likely.) Since it is a ratio, probability will always be a number between 0 (representing an impossible event) and 1 (representing a certain event).\n",
    "<br>*For example, the probability of an even die roll is 3/6 = 1/2.*\n",
    "\n",
    "- **[Combinations](https://en.wikipedia.org/wiki/Combination):**  a combination is a selection of items from a collection, such that the order of selection does not matter\n",
    "$$ choose(n,k) = {n \\choose k} = \\frac{n!}{(k!)(n-k!)} $$\n",
    "\n",
    "- **[Permutations](https://en.wikipedia.org/wiki/Permutation):** a permutation of a set is, loosely speaking, an arrangement of its members into a sequence or linear order, or if the set is already ordered, a rearrangement of its elements. The permutations of set `{1,2,3}` are `[(1,2,3),(1,3,2),(2,1,3),(2,3,1),(3,1,2),(3,2,1)]` or `3!`.\n",
    "\n",
    "### Some notes on set theory in probability:\n",
    "Given two sets $A$ and $B$:\n",
    "\n",
    "The intersection of the two sets are the outcomes that are in both A and B. It is written:\n",
    "$$ A \\cup B$$\n",
    "\n",
    "The union of the two sets are the outcomes that are in A or B. It is written\n",
    "$$ A \\cap B $$\n",
    "$$$$"
   ]
  },
  {
   "cell_type": "markdown",
   "metadata": {},
   "source": [
    "### Plotting mathematical functions"
   ]
  },
  {
   "cell_type": "code",
   "execution_count": 81,
   "metadata": {},
   "outputs": [
    {
     "name": "stdout",
     "output_type": "stream",
     "text": [
      "Requirement already satisfied: matplotlib in /usr/local/lib/python3.8/site-packages (3.3.3)\n",
      "Requirement already satisfied: python-dateutil>=2.1 in /usr/local/lib/python3.8/site-packages (from matplotlib) (2.8.1)\n",
      "Requirement already satisfied: numpy>=1.15 in /usr/local/lib/python3.8/site-packages (from matplotlib) (1.19.4)\n",
      "Requirement already satisfied: pillow>=6.2.0 in /usr/local/lib/python3.8/site-packages (from matplotlib) (8.1.0)\n",
      "Requirement already satisfied: cycler>=0.10 in /usr/local/lib/python3.8/site-packages (from matplotlib) (0.10.0)\n",
      "Requirement already satisfied: pyparsing!=2.0.4,!=2.1.2,!=2.1.6,>=2.0.3 in /usr/local/lib/python3.8/site-packages (from matplotlib) (2.4.7)\n",
      "Requirement already satisfied: kiwisolver>=1.0.1 in /usr/local/lib/python3.8/site-packages (from matplotlib) (1.3.1)\n",
      "Requirement already satisfied: six in /usr/local/lib/python3.8/site-packages (from cycler>=0.10->matplotlib) (1.15.0)\n",
      "Collecting seaborn\n",
      "  Downloading seaborn-0.11.1-py3-none-any.whl (285 kB)\n",
      "\u001b[K     |████████████████████████████████| 285 kB 4.7 MB/s eta 0:00:01\n",
      "\u001b[?25hRequirement already satisfied: pandas>=0.23 in /usr/local/lib/python3.8/site-packages (from seaborn) (1.1.4)\n",
      "Requirement already satisfied: scipy>=1.0 in /usr/local/lib/python3.8/site-packages (from seaborn) (1.6.0)\n",
      "Requirement already satisfied: pytz>=2017.2 in /usr/local/lib/python3.8/site-packages (from pandas>=0.23->seaborn) (2020.4)\n",
      "Installing collected packages: seaborn\n",
      "Successfully installed seaborn-0.11.1\n"
     ]
    }
   ],
   "source": [
    "!pip install seaborn matplotlib"
   ]
  },
  {
   "cell_type": "code",
   "execution_count": null,
   "metadata": {},
   "outputs": [],
   "source": [
    "!conda install seaborn matplotlib"
   ]
  },
  {
   "cell_type": "code",
   "execution_count": 82,
   "metadata": {},
   "outputs": [],
   "source": [
    "# want the images in the jupyter notebook\n",
    "\n",
    "%matplotlib inline\n",
    "import matplotlib.pyplot as plt"
   ]
  },
  {
   "cell_type": "code",
   "execution_count": 83,
   "metadata": {},
   "outputs": [],
   "source": [
    "import seaborn as sns"
   ]
  },
  {
   "cell_type": "code",
   "execution_count": 84,
   "metadata": {},
   "outputs": [],
   "source": [
    "import pandas as pd\n",
    "import numpy as np"
   ]
  },
  {
   "cell_type": "code",
   "execution_count": 86,
   "metadata": {},
   "outputs": [
    {
     "data": {
      "image/png": "[encoded data removed]",
      "text/plain": [
       "<Figure size 360x360 with 1 Axes>"
      ]
     },
     "metadata": {
      "needs_background": "light"
     },
     "output_type": "display_data"
    }
   ],
   "source": [
    "df = pd.DataFrame(dict(x=np.arange(500), y=np.arange(500) - 100))   # remember broadcasted\n",
    "g = sns.relplot(x=\"x\", y=\"y\", kind=\"line\", data=df)"
   ]
  },
  {
   "cell_type": "code",
   "execution_count": 85,
   "metadata": {},
   "outputs": [
    {
     "data": {
      "text/html": [
       "<div>\n",
       "<style scoped>\n",
       "    .dataframe tbody tr th:only-of-type {\n",
       "        vertical-align: middle;\n",
       "    }\n",
       "\n",
       "    .dataframe tbody tr th {\n",
       "        vertical-align: top;\n",
       "    }\n",
       "\n",
       "    .dataframe thead th {\n",
       "        text-align: right;\n",
       "    }\n",
       "</style>\n",
       "<table border=\"1\" class=\"dataframe\">\n",
       "  <thead>\n",
       "    <tr style=\"text-align: right;\">\n",
       "      <th></th>\n",
       "      <th>x</th>\n",
       "      <th>y</th>\n",
       "    </tr>\n",
       "  </thead>\n",
       "  <tbody>\n",
       "    <tr>\n",
       "      <th>0</th>\n",
       "      <td>0</td>\n",
       "      <td>-100</td>\n",
       "    </tr>\n",
       "    <tr>\n",
       "      <th>1</th>\n",
       "      <td>1</td>\n",
       "      <td>-99</td>\n",
       "    </tr>\n",
       "    <tr>\n",
       "      <th>2</th>\n",
       "      <td>2</td>\n",
       "      <td>-98</td>\n",
       "    </tr>\n",
       "    <tr>\n",
       "      <th>3</th>\n",
       "      <td>3</td>\n",
       "      <td>-97</td>\n",
       "    </tr>\n",
       "    <tr>\n",
       "      <th>4</th>\n",
       "      <td>4</td>\n",
       "      <td>-96</td>\n",
       "    </tr>\n",
       "    <tr>\n",
       "      <th>...</th>\n",
       "      <td>...</td>\n",
       "      <td>...</td>\n",
       "    </tr>\n",
       "    <tr>\n",
       "      <th>495</th>\n",
       "      <td>495</td>\n",
       "      <td>395</td>\n",
       "    </tr>\n",
       "    <tr>\n",
       "      <th>496</th>\n",
       "      <td>496</td>\n",
       "      <td>396</td>\n",
       "    </tr>\n",
       "    <tr>\n",
       "      <th>497</th>\n",
       "      <td>497</td>\n",
       "      <td>397</td>\n",
       "    </tr>\n",
       "    <tr>\n",
       "      <th>498</th>\n",
       "      <td>498</td>\n",
       "      <td>398</td>\n",
       "    </tr>\n",
       "    <tr>\n",
       "      <th>499</th>\n",
       "      <td>499</td>\n",
       "      <td>399</td>\n",
       "    </tr>\n",
       "  </tbody>\n",
       "</table>\n",
       "<p>500 rows × 2 columns</p>\n",
       "</div>"
      ],
      "text/plain": [
       "       x    y\n",
       "0      0 -100\n",
       "1      1  -99\n",
       "2      2  -98\n",
       "3      3  -97\n",
       "4      4  -96\n",
       "..   ...  ...\n",
       "495  495  395\n",
       "496  496  396\n",
       "497  497  397\n",
       "498  498  398\n",
       "499  499  399\n",
       "\n",
       "[500 rows x 2 columns]"
      ]
     },
     "execution_count": 85,
     "metadata": {},
     "output_type": "execute_result"
    }
   ],
   "source": [
    "df = pd.DataFrame(dict(x=np.arange(500), y=np.arange(500) - 100))\n",
    "df"
   ]
  },
  {
   "cell_type": "code",
   "execution_count": null,
   "metadata": {},
   "outputs": [],
   "source": []
  },
  {
   "cell_type": "code",
   "execution_count": 87,
   "metadata": {},
   "outputs": [
    {
     "data": {
      "text/plain": [
       "[<matplotlib.lines.Line2D at 0x13be11df0>]"
      ]
     },
     "execution_count": 87,
     "metadata": {},
     "output_type": "execute_result"
    },
    {
     "data": {
      "image/png": "[encoded data removed]",
      "text/plain": [
       "<Figure size 432x288 with 1 Axes>"
      ]
     },
     "metadata": {
      "needs_background": "light"
     },
     "output_type": "display_data"
    }
   ],
   "source": [
    "x = np.arange(500)\n",
    "y = np.arange(500) - 100   # broadcasted to each value\n",
    "\n",
    "plt.plot(x,y)\n"
   ]
  },
  {
   "cell_type": "markdown",
   "metadata": {},
   "source": [
    "### What is the equation for these lines?\n",
    "\n",
    "$$ y = x - 100 $$\n",
    "\n",
    "### What is the x-intercept?\n",
    "\n",
    "To find the x-intercept, set $y=0$\n",
    "\n",
    "$$ 0 = x - 100 $$\n",
    "$$ 100 = x $$\n",
    "\n",
    "### What is the y-intercept?\n",
    "\n",
    "To find the y-intercept, set $x=0$\n",
    "\n",
    "$$ y = 0 - 100 $$\n",
    "$$ y = -100 $$"
   ]
  },
  {
   "cell_type": "markdown",
   "metadata": {},
   "source": [
    "## Let's slightly change the charts. (and adjust our code)."
   ]
  },
  {
   "cell_type": "code",
   "execution_count": 88,
   "metadata": {},
   "outputs": [],
   "source": [
    "x = 4 * np.arange(100)\n",
    "y = np.arange(100) - 100"
   ]
  },
  {
   "cell_type": "code",
   "execution_count": 89,
   "metadata": {},
   "outputs": [],
   "source": [
    "df = pd.DataFrame({'x':x,'y':y})"
   ]
  },
  {
   "cell_type": "code",
   "execution_count": 90,
   "metadata": {},
   "outputs": [
    {
     "data": {
      "image/png": "[encoded data removed]",
      "text/plain": [
       "<Figure size 360x360 with 1 Axes>"
      ]
     },
     "metadata": {
      "needs_background": "light"
     },
     "output_type": "display_data"
    }
   ],
   "source": [
    "g = sns.relplot(x=\"x\", y=\"y\", kind=\"line\", data=df)"
   ]
  },
  {
   "cell_type": "code",
   "execution_count": 91,
   "metadata": {},
   "outputs": [
    {
     "data": {
      "text/plain": [
       "[<matplotlib.lines.Line2D at 0x13bedb580>]"
      ]
     },
     "execution_count": 91,
     "metadata": {},
     "output_type": "execute_result"
    },
    {
     "data": {
      "image/png": "[encoded data removed]",
      "text/plain": [
       "<Figure size 432x288 with 1 Axes>"
      ]
     },
     "metadata": {
      "needs_background": "light"
     },
     "output_type": "display_data"
    }
   ],
   "source": [
    "plt.plot(x,y)"
   ]
  },
  {
   "attachments": {
    "b68b8f7e-6800-4a1b-a9db-caf283b3a3a5.png": {
     "image/png": "[encoded data removed]"
    }
   },
   "cell_type": "markdown",
   "metadata": {},
   "source": [
    "### What is the equation for these lines?\n",
    "\n",
    "$$ y = 4x - 100 $$\n",
    "\n",
    "### What is the x-intercept?\n",
    "\n",
    "To find the x-intercept, set $y=0$\n",
    "\n",
    "$$ 0 = 4x - 100 $$\n",
    "$$ 100 = 4x $$\n",
    "$$ 25 = x $$ \n",
    "\n",
    "### What is the y-intercept?\n",
    "\n",
    "To find the y-intercept, set $x=0$\n",
    "\n",
    "$$ y = 4*0 - 100 $$\n",
    "$$ y = -100 $$\n",
    "\n",
    "### What is the slope?\n",
    "Let's take two points on the line.\n",
    "$$ (x,y) $$\n",
    "$$ (0, -100) $$\n",
    "$$ (25, 0) $$\n",
    "\n",
    "The equation for slope is:\n",
    "$$ \\frac{\\Delta{y}}{\\Delta{x}} $$\n",
    "\n",
    "$$ \\frac{y_2 - y_1}{x_2-x_1}$$\n",
    "So our slope can be calculated by:\n",
    "$$ \\frac{-100-0}{0-25}$$\n",
    "\n",
    "$$ \\frac{-100}{-25}$$\n",
    "\n",
    "$$ 4$$ \n",
    "\n",
    "### What is the (in)dependent variable?\n",
    "![image.png](attachment:b68b8f7e-6800-4a1b-a9db-caf283b3a3a5.png)\n",
    "\n",
    "In the context of Statistical learning, there are two types of data:\n",
    "* Independent variables: Data that can be controlled directly.\n",
    "* Dependent variables: Data that cannot be controlled directly.\n",
    "\n",
    "The data that can’t be controlled i.e. dependent variables need to predicted or estimated.\n",
    "\n",
    "The equation for a line is:\n",
    "$$ y= mx + c $$\n",
    "\n",
    "\n",
    "**y** is the dependent variable which needs to be predicted or estimated  \n",
    "**x** is the independent variable which is usually our inputs  \n",
    "**m** is the slope  \n",
    "**c** is the y-intercept\n",
    "\n",
    "For linear regressions, we use the following equation:\n",
    "$$ Y = \\beta_0 + \\beta_1X+\\epsilon$$\n",
    "$$ Y = \\beta_1X + \\beta_0+\\epsilon$$\n",
    "$$ y = mx + c$$\n",
    "\n",
    "$\\beta_0$ and $\\beta_1$ are two unknown constants that represent the intercept and slope. They are parameters.\n",
    "$\\epsilon$ is the error.\n"
   ]
  },
  {
   "cell_type": "code",
   "execution_count": 92,
   "metadata": {},
   "outputs": [
    {
     "data": {
      "text/html": [
       "<div>\n",
       "<style scoped>\n",
       "    .dataframe tbody tr th:only-of-type {\n",
       "        vertical-align: middle;\n",
       "    }\n",
       "\n",
       "    .dataframe tbody tr th {\n",
       "        vertical-align: top;\n",
       "    }\n",
       "\n",
       "    .dataframe thead th {\n",
       "        text-align: right;\n",
       "    }\n",
       "</style>\n",
       "<table border=\"1\" class=\"dataframe\">\n",
       "  <thead>\n",
       "    <tr style=\"text-align: right;\">\n",
       "      <th></th>\n",
       "      <th>gender</th>\n",
       "      <th>race/ethnicity</th>\n",
       "      <th>parental level of education</th>\n",
       "      <th>lunch</th>\n",
       "      <th>test preparation course</th>\n",
       "      <th>math score</th>\n",
       "      <th>reading score</th>\n",
       "      <th>writing score</th>\n",
       "    </tr>\n",
       "  </thead>\n",
       "  <tbody>\n",
       "    <tr>\n",
       "      <th>0</th>\n",
       "      <td>female</td>\n",
       "      <td>group B</td>\n",
       "      <td>bachelor's degree</td>\n",
       "      <td>standard</td>\n",
       "      <td>none</td>\n",
       "      <td>72</td>\n",
       "      <td>72</td>\n",
       "      <td>74</td>\n",
       "    </tr>\n",
       "    <tr>\n",
       "      <th>1</th>\n",
       "      <td>female</td>\n",
       "      <td>group C</td>\n",
       "      <td>some college</td>\n",
       "      <td>standard</td>\n",
       "      <td>completed</td>\n",
       "      <td>69</td>\n",
       "      <td>90</td>\n",
       "      <td>88</td>\n",
       "    </tr>\n",
       "    <tr>\n",
       "      <th>2</th>\n",
       "      <td>female</td>\n",
       "      <td>group B</td>\n",
       "      <td>master's degree</td>\n",
       "      <td>standard</td>\n",
       "      <td>none</td>\n",
       "      <td>90</td>\n",
       "      <td>95</td>\n",
       "      <td>93</td>\n",
       "    </tr>\n",
       "    <tr>\n",
       "      <th>3</th>\n",
       "      <td>male</td>\n",
       "      <td>group A</td>\n",
       "      <td>associate's degree</td>\n",
       "      <td>free/reduced</td>\n",
       "      <td>none</td>\n",
       "      <td>47</td>\n",
       "      <td>57</td>\n",
       "      <td>44</td>\n",
       "    </tr>\n",
       "    <tr>\n",
       "      <th>4</th>\n",
       "      <td>male</td>\n",
       "      <td>group C</td>\n",
       "      <td>some college</td>\n",
       "      <td>standard</td>\n",
       "      <td>none</td>\n",
       "      <td>76</td>\n",
       "      <td>78</td>\n",
       "      <td>75</td>\n",
       "    </tr>\n",
       "    <tr>\n",
       "      <th>...</th>\n",
       "      <td>...</td>\n",
       "      <td>...</td>\n",
       "      <td>...</td>\n",
       "      <td>...</td>\n",
       "      <td>...</td>\n",
       "      <td>...</td>\n",
       "      <td>...</td>\n",
       "      <td>...</td>\n",
       "    </tr>\n",
       "    <tr>\n",
       "      <th>995</th>\n",
       "      <td>female</td>\n",
       "      <td>group E</td>\n",
       "      <td>master's degree</td>\n",
       "      <td>standard</td>\n",
       "      <td>completed</td>\n",
       "      <td>88</td>\n",
       "      <td>99</td>\n",
       "      <td>95</td>\n",
       "    </tr>\n",
       "    <tr>\n",
       "      <th>996</th>\n",
       "      <td>male</td>\n",
       "      <td>group C</td>\n",
       "      <td>high school</td>\n",
       "      <td>free/reduced</td>\n",
       "      <td>none</td>\n",
       "      <td>62</td>\n",
       "      <td>55</td>\n",
       "      <td>55</td>\n",
       "    </tr>\n",
       "    <tr>\n",
       "      <th>997</th>\n",
       "      <td>female</td>\n",
       "      <td>group C</td>\n",
       "      <td>high school</td>\n",
       "      <td>free/reduced</td>\n",
       "      <td>completed</td>\n",
       "      <td>59</td>\n",
       "      <td>71</td>\n",
       "      <td>65</td>\n",
       "    </tr>\n",
       "    <tr>\n",
       "      <th>998</th>\n",
       "      <td>female</td>\n",
       "      <td>group D</td>\n",
       "      <td>some college</td>\n",
       "      <td>standard</td>\n",
       "      <td>completed</td>\n",
       "      <td>68</td>\n",
       "      <td>78</td>\n",
       "      <td>77</td>\n",
       "    </tr>\n",
       "    <tr>\n",
       "      <th>999</th>\n",
       "      <td>female</td>\n",
       "      <td>group D</td>\n",
       "      <td>some college</td>\n",
       "      <td>free/reduced</td>\n",
       "      <td>none</td>\n",
       "      <td>77</td>\n",
       "      <td>86</td>\n",
       "      <td>86</td>\n",
       "    </tr>\n",
       "  </tbody>\n",
       "</table>\n",
       "<p>1000 rows × 8 columns</p>\n",
       "</div>"
      ],
      "text/plain": [
       "     gender race/ethnicity parental level of education         lunch  \\\n",
       "0    female        group B           bachelor's degree      standard   \n",
       "1    female        group C                some college      standard   \n",
       "2    female        group B             master's degree      standard   \n",
       "3      male        group A          associate's degree  free/reduced   \n",
       "4      male        group C                some college      standard   \n",
       "..      ...            ...                         ...           ...   \n",
       "995  female        group E             master's degree      standard   \n",
       "996    male        group C                 high school  free/reduced   \n",
       "997  female        group C                 high school  free/reduced   \n",
       "998  female        group D                some college      standard   \n",
       "999  female        group D                some college  free/reduced   \n",
       "\n",
       "    test preparation course  math score  reading score  writing score  \n",
       "0                      none          72             72             74  \n",
       "1                 completed          69             90             88  \n",
       "2                      none          90             95             93  \n",
       "3                      none          47             57             44  \n",
       "4                      none          76             78             75  \n",
       "..                      ...         ...            ...            ...  \n",
       "995               completed          88             99             95  \n",
       "996                    none          62             55             55  \n",
       "997               completed          59             71             65  \n",
       "998               completed          68             78             77  \n",
       "999                    none          77             86             86  \n",
       "\n",
       "[1000 rows x 8 columns]"
      ]
     },
     "execution_count": 92,
     "metadata": {},
     "output_type": "execute_result"
    }
   ],
   "source": [
    "df = pd.read_csv('../datasets/grades.csv')\n",
    "df"
   ]
  },
  {
   "cell_type": "markdown",
   "metadata": {},
   "source": [
    "## Some chart types\n",
    "\n",
    "### Histograms and Density Plots\n",
    "\n",
    "A histogram is a graphical display of data using bars of different heights. In a histogram, each bar groups numbers into ranges. Taller bars show that more data falls in that range. A histogram displays the shape and spread of continuous sample data."
   ]
  },
  {
   "cell_type": "code",
   "execution_count": 93,
   "metadata": {},
   "outputs": [
    {
     "data": {
      "image/png": "[encoded data removed]",
      "text/plain": [
       "<Figure size 432x288 with 1 Axes>"
      ]
     },
     "metadata": {
      "needs_background": "light"
     },
     "output_type": "display_data"
    }
   ],
   "source": [
    "# matplotlib\n",
    "for col in ['math score', 'reading score', 'writing score']:\n",
    "    plt.hist(df[col], alpha=0.4)"
   ]
  },
  {
   "cell_type": "code",
   "execution_count": 94,
   "metadata": {},
   "outputs": [
    {
     "name": "stderr",
     "output_type": "stream",
     "text": [
      "/usr/local/lib/python3.8/site-packages/seaborn/distributions.py:2557: FutureWarning: `distplot` is a deprecated function and will be removed in a future version. Please adapt your code to use either `displot` (a figure-level function with similar flexibility) or `histplot` (an axes-level function for histograms).\n",
      "  warnings.warn(msg, FutureWarning)\n",
      "/usr/local/lib/python3.8/site-packages/seaborn/distributions.py:2557: FutureWarning: `distplot` is a deprecated function and will be removed in a future version. Please adapt your code to use either `displot` (a figure-level function with similar flexibility) or `histplot` (an axes-level function for histograms).\n",
      "  warnings.warn(msg, FutureWarning)\n",
      "/usr/local/lib/python3.8/site-packages/seaborn/distributions.py:2557: FutureWarning: `distplot` is a deprecated function and will be removed in a future version. Please adapt your code to use either `displot` (a figure-level function with similar flexibility) or `histplot` (an axes-level function for histograms).\n",
      "  warnings.warn(msg, FutureWarning)\n"
     ]
    },
    {
     "data": {
      "image/png": "[encoded data removed]",
      "text/plain": [
       "<Figure size 432x288 with 1 Axes>"
      ]
     },
     "metadata": {
      "needs_background": "light"
     },
     "output_type": "display_data"
    }
   ],
   "source": [
    "# seaborn\n",
    "for col in ['math score', 'reading score', 'writing score']:#, lunch \ttest preparation course \tmath score \treading score \twriting score'\n",
    "    sns.distplot(df[col])"
   ]
  },
  {
   "cell_type": "code",
   "execution_count": 95,
   "metadata": {},
   "outputs": [
    {
     "data": {
      "text/plain": [
       "<AxesSubplot:xlabel='math score', ylabel='Density'>"
      ]
     },
     "execution_count": 95,
     "metadata": {},
     "output_type": "execute_result"
    },
    {
     "data": {
      "image/png": "[encoded data removed]",
      "text/plain": [
       "<Figure size 432x288 with 1 Axes>"
      ]
     },
     "metadata": {
      "needs_background": "light"
     },
     "output_type": "display_data"
    }
   ],
   "source": [
    "sns.kdeplot(df['math score'])\n",
    "sns.kdeplot(df['writing score'])\n",
    "sns.kdeplot(df['reading score'])"
   ]
  },
  {
   "cell_type": "code",
   "execution_count": 96,
   "metadata": {},
   "outputs": [
    {
     "data": {
      "text/plain": [
       "<AxesSubplot:ylabel='Density'>"
      ]
     },
     "execution_count": 96,
     "metadata": {},
     "output_type": "execute_result"
    },
    {
     "data": {
      "image/png": "[encoded data removed]",
      "text/plain": [
       "<Figure size 432x288 with 1 Axes>"
      ]
     },
     "metadata": {
      "needs_background": "light"
     },
     "output_type": "display_data"
    }
   ],
   "source": [
    "# kernel density estimator\n",
    "\n",
    "df[['math score', 'reading score', 'writing score']].plot(kind='kde')"
   ]
  },
  {
   "cell_type": "markdown",
   "metadata": {},
   "source": [
    "### Box Plots\n",
    "\n",
    "In descriptive statistics, a box plot or boxplot is a method for graphically depicting groups of numerical data through their quartiles. Box plots may also have lines extending from the boxes (whiskers) indicating variability outside the upper and lower quartiles"
   ]
  },
  {
   "cell_type": "code",
   "execution_count": 97,
   "metadata": {},
   "outputs": [
    {
     "data": {
      "text/plain": [
       "<AxesSubplot:>"
      ]
     },
     "execution_count": 97,
     "metadata": {},
     "output_type": "execute_result"
    },
    {
     "data": {
      "image/png": "[encoded data removed]",
      "text/plain": [
       "<Figure size 432x288 with 1 Axes>"
      ]
     },
     "metadata": {
      "needs_background": "light"
     },
     "output_type": "display_data"
    }
   ],
   "source": [
    "# using pandas available one\n",
    "\n",
    "df[['math score','reading score', 'writing score']].boxplot()"
   ]
  },
  {
   "cell_type": "code",
   "execution_count": 98,
   "metadata": {},
   "outputs": [
    {
     "data": {
      "text/plain": [
       "0      False\n",
       "1      False\n",
       "2      False\n",
       "3      False\n",
       "4      False\n",
       "       ...  \n",
       "995    False\n",
       "996    False\n",
       "997    False\n",
       "998    False\n",
       "999    False\n",
       "Name: math score, Length: 1000, dtype: bool"
      ]
     },
     "execution_count": 98,
     "metadata": {},
     "output_type": "execute_result"
    }
   ],
   "source": [
    "df['math score'] < 20"
   ]
  },
  {
   "cell_type": "code",
   "execution_count": 99,
   "metadata": {},
   "outputs": [
    {
     "data": {
      "text/html": [
       "<div>\n",
       "<style scoped>\n",
       "    .dataframe tbody tr th:only-of-type {\n",
       "        vertical-align: middle;\n",
       "    }\n",
       "\n",
       "    .dataframe tbody tr th {\n",
       "        vertical-align: top;\n",
       "    }\n",
       "\n",
       "    .dataframe thead th {\n",
       "        text-align: right;\n",
       "    }\n",
       "</style>\n",
       "<table border=\"1\" class=\"dataframe\">\n",
       "  <thead>\n",
       "    <tr style=\"text-align: right;\">\n",
       "      <th></th>\n",
       "      <th>gender</th>\n",
       "      <th>race/ethnicity</th>\n",
       "      <th>parental level of education</th>\n",
       "      <th>lunch</th>\n",
       "      <th>test preparation course</th>\n",
       "      <th>math score</th>\n",
       "      <th>reading score</th>\n",
       "      <th>writing score</th>\n",
       "    </tr>\n",
       "  </thead>\n",
       "  <tbody>\n",
       "    <tr>\n",
       "      <th>17</th>\n",
       "      <td>female</td>\n",
       "      <td>group B</td>\n",
       "      <td>some high school</td>\n",
       "      <td>free/reduced</td>\n",
       "      <td>none</td>\n",
       "      <td>18</td>\n",
       "      <td>32</td>\n",
       "      <td>28</td>\n",
       "    </tr>\n",
       "    <tr>\n",
       "      <th>59</th>\n",
       "      <td>female</td>\n",
       "      <td>group C</td>\n",
       "      <td>some high school</td>\n",
       "      <td>free/reduced</td>\n",
       "      <td>none</td>\n",
       "      <td>0</td>\n",
       "      <td>17</td>\n",
       "      <td>10</td>\n",
       "    </tr>\n",
       "    <tr>\n",
       "      <th>787</th>\n",
       "      <td>female</td>\n",
       "      <td>group B</td>\n",
       "      <td>some college</td>\n",
       "      <td>standard</td>\n",
       "      <td>none</td>\n",
       "      <td>19</td>\n",
       "      <td>38</td>\n",
       "      <td>32</td>\n",
       "    </tr>\n",
       "    <tr>\n",
       "      <th>980</th>\n",
       "      <td>female</td>\n",
       "      <td>group B</td>\n",
       "      <td>high school</td>\n",
       "      <td>free/reduced</td>\n",
       "      <td>none</td>\n",
       "      <td>8</td>\n",
       "      <td>24</td>\n",
       "      <td>23</td>\n",
       "    </tr>\n",
       "  </tbody>\n",
       "</table>\n",
       "</div>"
      ],
      "text/plain": [
       "     gender race/ethnicity parental level of education         lunch  \\\n",
       "17   female        group B            some high school  free/reduced   \n",
       "59   female        group C            some high school  free/reduced   \n",
       "787  female        group B                some college      standard   \n",
       "980  female        group B                 high school  free/reduced   \n",
       "\n",
       "    test preparation course  math score  reading score  writing score  \n",
       "17                     none          18             32             28  \n",
       "59                     none           0             17             10  \n",
       "787                    none          19             38             32  \n",
       "980                    none           8             24             23  "
      ]
     },
     "execution_count": 99,
     "metadata": {},
     "output_type": "execute_result"
    }
   ],
   "source": [
    "df[df['math score'] < 20]"
   ]
  },
  {
   "cell_type": "markdown",
   "metadata": {},
   "source": [
    "### Scatter Plots\n",
    "\n",
    "A scatter plot (aka scatter chart, scatter graph) uses dots to represent values for two different numeric variables. The position of each dot on the horizontal and vertical axis indicates values for an individual data point. Scatter plots are used to observe relationships between variables."
   ]
  },
  {
   "cell_type": "code",
   "execution_count": 100,
   "metadata": {},
   "outputs": [
    {
     "data": {
      "text/plain": [
       "<AxesSubplot:xlabel='reading score', ylabel='math score'>"
      ]
     },
     "execution_count": 100,
     "metadata": {},
     "output_type": "execute_result"
    },
    {
     "data": {
      "image/png": "[encoded data removed]",
      "text/plain": [
       "<Figure size 432x288 with 1 Axes>"
      ]
     },
     "metadata": {
      "needs_background": "light"
     },
     "output_type": "display_data"
    }
   ],
   "source": [
    "df.plot(x='reading score', y='math score',kind='scatter')"
   ]
  },
  {
   "cell_type": "markdown",
   "metadata": {},
   "source": [
    "<a href=\"#\" id=\"hw\"></a>\n",
    "<div style=\"background: #000;\n",
    "            color: #FFF;\n",
    "            margin-bottom: 10px;\n",
    "            padding: 10px 0px 20px 0px;\n",
    "            text-align: center; \n",
    "                \">\n",
    "    <h1 style=\"padding: 0px 0px 0px 0px;\">Futher Reading</h1>\n",
    "</div>\n",
    "\n",
    "https://seaborn.pydata.org/tutorial.html  \n",
    "https://pandas.pydata.org/pandas-docs/stable/user_guide/visualization.html  \n",
    "https://cs.brown.edu/courses/cs022/static/files/documents/sets.pdf   \n",
    "https://seeing-theory.brown.edu/basic-probability/index.html     \n",
    "https://seeing-theory.brown.edu/doc/basic-probability.pdf     \n",
    "\n",
    "[Probability Cheatsheet](https://github.com/georgearun/Data-Science--Cheat-Sheet/blob/master/Probability%20and%20Statistics/probability_cheatsheet.pdf)"
   ]
  },
  {
   "cell_type": "code",
   "execution_count": null,
   "metadata": {},
   "outputs": [],
   "source": []
  },
  {
   "cell_type": "code",
   "execution_count": null,
   "metadata": {},
   "outputs": [],
   "source": []
  }
 ],
 "metadata": {
  "kernelspec": {
   "display_name": "Python 3",
   "language": "python",
   "name": "python3"
  },
  "language_info": {
   "codemirror_mode": {
    "name": "ipython",
    "version": 3
   },
   "file_extension": ".py",
   "mimetype": "text/x-python",
   "name": "python",
   "nbconvert_exporter": "python",
   "pygments_lexer": "ipython3",
   "version": "3.8.8"
  }
 },
 "nbformat": 4,
 "nbformat_minor": 4
}
