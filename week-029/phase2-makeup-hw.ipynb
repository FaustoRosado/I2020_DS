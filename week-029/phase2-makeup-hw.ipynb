{
 "cells": [
  {
   "cell_type": "markdown",
   "metadata": {},
   "source": [
    "### Makeup Homework"
   ]
  },
  {
   "cell_type": "markdown",
   "metadata": {},
   "source": [
    "```Problem 1 Leetcode 134```"
   ]
  },
  {
   "cell_type": "markdown",
   "metadata": {},
   "source": [
    "There are n gas stations along a circular route, where the amount of gas at the ith station is gas[i].\n",
    "\n",
    "You have a car with an unlimited gas tank and it costs cost[i] of gas to travel from the ith station to its next (i + 1)th station. \n",
    "You begin the journey with an empty tank at one of the gas stations.\n",
    "\n",
    "Given two integer arrays gas and cost, return the starting gas station's index if you can travel around the circuit once in the clockwise \n",
    "direction, otherwise return -1. If there exists a solution, \n",
    "it is guaranteed to be unique\n",
    "\n",
    "Example 1\n",
    "\n",
    "Input: gas = [1,2,3,4,5], cost = [3,4,5,1,2] Output: 3 Explanation: Start at station 3 (index 3) and fill up with 4 unit of gas. Your tank = 0 + 4 = 4 \n",
    "            Travel to station 4. Your tank = 4 - 1 + 5 = 8 Travel to station 0. Your tank = 8 - 2 + 1 = 7 Travel to station 1. Your tank = 7 - 3 + 2 = 6 \n",
    "            Travel to station 2. Your tank = 6 - 4 + 3 = 5 Travel to station 3. The cost is 5. Your gas is just enough to travel back to station 3. Therefore, \n",
    "            return 3 as the starting index.\n",
    "\n",
    "Example 2\n",
    "\n",
    "Input: gas = [2,3,4], cost = [3,4,3]\n",
    "Output: -1\n",
    "Explanation:\n",
    "You can't start at station 0 or 1, as there is not enough gas to travel to the next station.\n",
    "Let's start at station 2 and fill up with 4 unit of gas. Your tank = 0 + 4 = 4\n",
    "Travel to station 0. Your tank = 4 - 3 + 2 = 3\n",
    "Travel to station 1. Your tank = 3 - 3 + 3 = 3\n",
    "You cannot travel back to station 2, as it requires 4 unit of gas but you only have 3.\n",
    "Therefore, you can't travel around the circuit once no matter where you start.\n",
    "\n",
    "Constraints\n",
    "\n",
    "gas.length == n\n",
    "cost.length == n\n",
    "1 <= n <= 104\n",
    "0 <= gas[i], cost[i] <= 104"
   ]
  },
  {
   "cell_type": "code",
   "execution_count": null,
   "metadata": {},
   "outputs": [],
   "source": [
    "class Solution:\n",
    "    def canCompleteCircuit(self, gas: List[int], cost: List[int]) -> int:\n",
    "        pass"
   ]
  },
  {
   "cell_type": "markdown",
   "metadata": {},
   "source": [
    "Two arrays of int. First one is cost and other one is gas.\n",
    "\n",
    "You are in a car and and you need to travel to “n” places where n is the length of the above two arrays.\n",
    "\n",
    "Question says that, you can start from a point lets say 3, so that means to reach the next point you need gas greater than the cost at 3.\n",
    "\n",
    "For example:\n",
    "\n",
    "Lets say the gas array is : {1,2,3,4,5}\n",
    "\n",
    "And the cost arrays is :{3,4,5,1,2}\n",
    "\n",
    "3rd term from gas is : 4 \n",
    "cost is 1 i same index\n",
    "\n",
    "to go for the 5th position your gas should be greater than cost, in this case, its 4 > 1. But this will be the next point\n",
    "\n",
    " left with 3 gas as : 4–1=3.\n",
    "Next point have 3 units of gas.\n",
    "\n",
    "Question seems to be asking from which point should we start, to traverse all the points.\n",
    "\n",
    "Simpler example:\n",
    "\n",
    "gas = {1,2}\n",
    "\n",
    "cost={2,1}\n",
    "\n",
    "Start from the first element, index 0. Gas in our car after 1st travel= gas[0]-cost[0] = 1–2=-1, negative num means we can not using 0 index\n",
    "\n",
    "Second element, index 1: gas in the car after 1st travel then = gas[1]-cost[1]=2–1=1, left with 1 unit of gas, after that go to the 0 index \n",
    "so = 1+gas[0]-cost[0]=1+1–2=0, which means we complete starting from 1 index."
   ]
  },
  {
   "cell_type": "code",
   "execution_count": 2,
   "metadata": {},
   "outputs": [
    {
     "name": "stdout",
     "output_type": "stream",
     "text": [
      "solution is correct\n"
     ]
    }
   ],
   "source": [
    "class Solution:\n",
    "    def canCompleteCircuit(self, gas, cost):\n",
    "        tank = 0 \n",
    "        total = 0\n",
    "        # track of start position\n",
    "        start = -1\n",
    "        for i in range(len(gas)):\n",
    "            total += gas[i] - cost[i]\n",
    "            tank  += gas[i] - cost[i]\n",
    "            if tank < 0:\n",
    "                # no gas in tank, reset\n",
    "                tank = 0 \n",
    "                start = -1\n",
    "            elif start == -1:\n",
    "                # update start position\n",
    "                start = i\n",
    "\n",
    "        # can complete circuit if theres at least as much gas as cost\n",
    "        return start if total >= 0 else -1\n",
    "    \n",
    "try:\n",
    "    assert Solution().canCompleteCircuit([1,2,3,4,5], [3,4,5,1,2]) == 3\n",
    "    assert Solution().canCompleteCircuit([2,3,4], [3,4,3]) == -1\n",
    "    print(\"solution is correct\")\n",
    "except AssertionError:\n",
    "    print(\"solution is incorrect\")\n",
    "    "
   ]
  },
  {
   "cell_type": "code",
   "execution_count": null,
   "metadata": {},
   "outputs": [],
   "source": []
  },
  {
   "cell_type": "code",
   "execution_count": null,
   "metadata": {},
   "outputs": [],
   "source": []
  },
  {
   "cell_type": "code",
   "execution_count": null,
   "metadata": {},
   "outputs": [],
   "source": []
  },
  {
   "cell_type": "code",
   "execution_count": null,
   "metadata": {},
   "outputs": [],
   "source": []
  },
  {
   "cell_type": "code",
   "execution_count": null,
   "metadata": {},
   "outputs": [],
   "source": []
  },
  {
   "cell_type": "code",
   "execution_count": null,
   "metadata": {},
   "outputs": [],
   "source": []
  },
  {
   "cell_type": "code",
   "execution_count": null,
   "metadata": {},
   "outputs": [],
   "source": []
  },
  {
   "cell_type": "markdown",
   "metadata": {},
   "source": [
    "```Leetcode 1295 Find Numbers with Even numbers of digits```"
   ]
  },
  {
   "cell_type": "code",
   "execution_count": 9,
   "metadata": {},
   "outputs": [
    {
     "name": "stdout",
     "output_type": "stream",
     "text": [
      "solution is correct\n"
     ]
    }
   ],
   "source": [
    "'''\n",
    "Given an array nums of integers, return how many of them contain an even number of digits.\n",
    " \n",
    "Example 1:\n",
    "Input: nums = [12,345,2,6,7896]\n",
    "Output: 2\n",
    "Explanation: \n",
    "12 contains 2 digits (even number of digits). \n",
    "345 contains 3 digits (odd number of digits). \n",
    "2 contains 1 digit (odd number of digits). \n",
    "6 contains 1 digit (odd number of digits). \n",
    "7896 contains 4 digits (even number of digits). \n",
    "Therefore only 12 and 7896 contain an even number of digits.\n",
    "Example 2:\n",
    "Input: nums = [555,901,482,1771]\n",
    "Output: 1 \n",
    "Explanation: \n",
    "Only 1771 contains an even number of digits.\n",
    "'''\n",
    "\n",
    "from typing import List\n",
    "class Solution:\n",
    "    def findNumbers(self, nums: List[int]) -> int:\n",
    "        \n",
    "        return len([num for num in nums if len(str(num))%2 == 0])\n",
    "    \n",
    "    \n",
    "try:\n",
    "    assert Solution().findNumbers([12,345,2,6,7896])== 2\n",
    "    assert Solution().findNumbers([555,901,482,1771])== 1\n",
    "    \n",
    "    print(\"solution is correct\")\n",
    "except AssertionError:\n",
    "    print(\"solution is incorrect\")    \n"
   ]
  },
  {
   "cell_type": "code",
   "execution_count": null,
   "metadata": {},
   "outputs": [],
   "source": []
  },
  {
   "cell_type": "code",
   "execution_count": null,
   "metadata": {},
   "outputs": [],
   "source": []
  },
  {
   "cell_type": "code",
   "execution_count": null,
   "metadata": {},
   "outputs": [],
   "source": []
  },
  {
   "cell_type": "markdown",
   "metadata": {},
   "source": [
    "```Leetcode 442 Find Duplicates in an Array```\n"
   ]
  },
  {
   "cell_type": "code",
   "execution_count": 23,
   "metadata": {},
   "outputs": [
    {
     "name": "stdout",
     "output_type": "stream",
     "text": [
      "solution is correct\n"
     ]
    }
   ],
   "source": [
    "'''\n",
    "Given an array of integers, 1 ≤ a[i] ≤ n (n = size of array), some elements appear twice and others appear once.\n",
    "Find all the elements that appear twice in this array.\n",
    "Could you do it without extra space and in O(n) runtime?\n",
    "Example:\n",
    "Input:\n",
    "[4,3,2,7,8,2,3,1]\n",
    "Output:\n",
    "[2,3]\n",
    "'''\n",
    "\n",
    "class Solution:\n",
    "    def findDuplicates(self, nums: List[int]) -> List[int]:\n",
    "        if not nums:\n",
    "            return []\n",
    "        \n",
    "        result = []\n",
    "        for _, num in enumerate(nums):\n",
    "            index = abs(num)-1\n",
    "            if nums[index] < 0:\n",
    "                result.append(index+1)\n",
    "            nums[index]*=-1\n",
    "        return result\n",
    "    \n",
    "try:\n",
    "    assert Solution().findDuplicates([4,3,2,7,8,2,3,1])== [2,3]\n",
    "    \n",
    "    \n",
    "    print(\"solution is correct\")\n",
    "except AssertionError:\n",
    "    print(\"solution is incorrect\")    \n",
    "    \n",
    "    "
   ]
  },
  {
   "cell_type": "code",
   "execution_count": null,
   "metadata": {},
   "outputs": [],
   "source": []
  },
  {
   "cell_type": "code",
   "execution_count": null,
   "metadata": {},
   "outputs": [],
   "source": []
  },
  {
   "cell_type": "code",
   "execution_count": null,
   "metadata": {},
   "outputs": [],
   "source": []
  },
  {
   "cell_type": "markdown",
   "metadata": {},
   "source": [
    "```Leetcode 387. First Unique Character in a String```"
   ]
  },
  {
   "cell_type": "markdown",
   "metadata": {},
   "source": [
    "Given a string s, return the first non-repeating character in it and return its index. If it does not exist, return -1.\n",
    "\n",
    " \n",
    "\n",
    "Example 1:\n",
    "\n",
    "Input: s = \"leetcode\"\n",
    "Output: 0\n",
    "Example 2:\n",
    "\n",
    "Input: s = \"loveleetcode\"\n",
    "Output: 2\n",
    "Example 3:\n",
    "\n",
    "Input: s = \"aabb\"\n",
    "Output: -1\n",
    " \n",
    "\n",
    "Constraints:\n",
    "\n",
    "1 <= s.length <= 105\n",
    "s consists of only lowercase English letters.\n"
   ]
  },
  {
   "cell_type": "code",
   "execution_count": 30,
   "metadata": {},
   "outputs": [
    {
     "name": "stdout",
     "output_type": "stream",
     "text": [
      "solution is correct\n"
     ]
    }
   ],
   "source": [
    "class Solution:\n",
    "    def firstUniqChar(self, s: str) -> int:\n",
    "        \n",
    "        letters='abcdefghijklmnopqrstuvwxyz'\n",
    "        \n",
    "        index=[s.index(l) for l in letters if s.count(l) == 1]\n",
    "        \n",
    "        if len(index) > 0: \n",
    "            return min(index) \n",
    "        else:\n",
    "            return -1\n",
    "\n",
    "try:\n",
    "    assert Solution().firstUniqChar(\"leetcode\")== 0\n",
    "    assert Solution().firstUniqChar(\"loveleetcode\")== 2\n",
    "    assert Solution().firstUniqChar(\"aabb\")== -1\n",
    "    \n",
    "    print(\"solution is correct\")\n",
    "except AssertionError:\n",
    "    print(\"solution is incorrect\")    \n",
    "    "
   ]
  },
  {
   "cell_type": "code",
   "execution_count": null,
   "metadata": {},
   "outputs": [],
   "source": []
  },
  {
   "cell_type": "code",
   "execution_count": null,
   "metadata": {},
   "outputs": [],
   "source": []
  },
  {
   "cell_type": "markdown",
   "metadata": {},
   "source": [
    "```Leetcode 1089: Duplicating Zeros```"
   ]
  },
  {
   "cell_type": "markdown",
   "metadata": {},
   "source": [
    "Given a fixed length array arr of integers, duplicate each occurrence of zero, shifting the remaining elements to the right.\n",
    "\n",
    "Note that elements beyond the length of the original array are not written.\n",
    "\n",
    "Do the above modifications to the input array in place, do not return anything from your function.\n",
    "\n",
    " \n",
    "\n",
    "Example 1:\n",
    "\n",
    "Input: [1,0,2,3,0,4,5,0]\n",
    "Output: null\n",
    "Explanation: After calling your function, the input array is modified to: [1,0,0,2,3,0,0,4]\n",
    "Example 2:\n",
    "\n",
    "Input: [1,2,3]\n",
    "Output: null\n",
    "Explanation: After calling your function, the input array is modified to: [1,2,3]\n",
    " \n",
    "\n",
    "Note:\n",
    "\n",
    "1 <= arr.length <= 10000\n",
    "0 <= arr[i] <= 9"
   ]
  },
  {
   "cell_type": "code",
   "execution_count": 40,
   "metadata": {},
   "outputs": [
    {
     "name": "stdout",
     "output_type": "stream",
     "text": [
      "solution is correct\n"
     ]
    }
   ],
   "source": [
    "from typing import List\n",
    "class Solution:\n",
    "    def duplicateZeros(self, arr: List[int]) -> None:\n",
    "        \"\"\"\n",
    "        Do not return anything, modify arr in-place instead.\n",
    "        \"\"\"\n",
    "        copy = arr[:]\n",
    "        index = 0\n",
    "        n = len(copy)\n",
    "        for elem in copy:\n",
    "            arr[index] = elem\n",
    "            index += 1\n",
    "            if index >= n:\n",
    "                break\n",
    "            if elem == 0:\n",
    "                arr[index] = elem\n",
    "                index += 1\n",
    "                if index >= n:\n",
    "                    break\n",
    "                    \n",
    "try:\n",
    "    assert Solution().duplicateZeros([1,0,2,3,0,4,5,0])== None\n",
    "    assert Solution().duplicateZeros([1,2,3])== None\n",
    "    \n",
    "    print(\"solution is correct\")\n",
    "except AssertionError:\n",
    "    print(\"solution is incorrect\")   "
   ]
  },
  {
   "cell_type": "code",
   "execution_count": null,
   "metadata": {},
   "outputs": [],
   "source": []
  }
 ],
 "metadata": {
  "kernelspec": {
   "display_name": "Python 3",
   "language": "python",
   "name": "python3"
  },
  "language_info": {
   "codemirror_mode": {
    "name": "ipython",
    "version": 3
   },
   "file_extension": ".py",
   "mimetype": "text/x-python",
   "name": "python",
   "nbconvert_exporter": "python",
   "pygments_lexer": "ipython3",
   "version": "3.9.4"
  }
 },
 "nbformat": 4,
 "nbformat_minor": 4
}
