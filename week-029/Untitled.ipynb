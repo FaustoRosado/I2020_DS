{
 "cells": [
  {
   "cell_type": "markdown",
   "metadata": {},
   "source": [
    "### Makeup Homework"
   ]
  },
  {
   "cell_type": "markdown",
   "metadata": {},
   "source": [
    "```Problem 1 Leetcode 134```"
   ]
  },
  {
   "cell_type": "markdown",
   "metadata": {},
   "source": [
    "There are n gas stations along a circular route, where the amount of gas at the ith station is gas[i].\n",
    "\n",
    "You have a car with an unlimited gas tank and it costs cost[i] of gas to travel from the ith station to its next (i + 1)th station. \n",
    "You begin the journey with an empty tank at one of the gas stations.\n",
    "\n",
    "Given two integer arrays gas and cost, return the starting gas station's index if you can travel around the circuit once in the clockwise \n",
    "direction, otherwise return -1. If there exists a solution, \n",
    "it is guaranteed to be unique\n",
    "\n",
    "Example 1\n",
    "\n",
    "Input: gas = [1,2,3,4,5], cost = [3,4,5,1,2] Output: 3 Explanation: Start at station 3 (index 3) and fill up with 4 unit of gas. Your tank = 0 + 4 = 4 \n",
    "            Travel to station 4. Your tank = 4 - 1 + 5 = 8 Travel to station 0. Your tank = 8 - 2 + 1 = 7 Travel to station 1. Your tank = 7 - 3 + 2 = 6 \n",
    "            Travel to station 2. Your tank = 6 - 4 + 3 = 5 Travel to station 3. The cost is 5. Your gas is just enough to travel back to station 3. Therefore, \n",
    "            return 3 as the starting index.\n",
    "\n",
    "Example 2\n",
    "\n",
    "Input: gas = [2,3,4], cost = [3,4,3]\n",
    "Output: -1\n",
    "Explanation:\n",
    "You can't start at station 0 or 1, as there is not enough gas to travel to the next station.\n",
    "Let's start at station 2 and fill up with 4 unit of gas. Your tank = 0 + 4 = 4\n",
    "Travel to station 0. Your tank = 4 - 3 + 2 = 3\n",
    "Travel to station 1. Your tank = 3 - 3 + 3 = 3\n",
    "You cannot travel back to station 2, as it requires 4 unit of gas but you only have 3.\n",
    "Therefore, you can't travel around the circuit once no matter where you start.\n",
    "\n",
    "Constraints\n",
    "\n",
    "gas.length == n\n",
    "cost.length == n\n",
    "1 <= n <= 104\n",
    "0 <= gas[i], cost[i] <= 104"
   ]
  },
  {
   "cell_type": "code",
   "execution_count": null,
   "metadata": {},
   "outputs": [],
   "source": [
    "class Solution:\n",
    "    def canCompleteCircuit(self, gas: List[int], cost: List[int]) -> int:\n",
    "        pass"
   ]
  },
  {
   "cell_type": "markdown",
   "metadata": {},
   "source": [
    "Two arrays of int. First one is cost and other one is gas.\n",
    "\n",
    "You are in a car and and you need to travel to “n” places where n is the length of the above two arrays.\n",
    "\n",
    "Question says that, you can start from a point lets say 3, so that means to reach the next point you need gas greater than the cost at 3.\n",
    "\n",
    "For example:\n",
    "\n",
    "Lets say the gas array is : {1,2,3,4,5}\n",
    "\n",
    "And the cost arrays is :{3,4,5,1,2}\n",
    "\n",
    "3rd term from gas is : 4 \n",
    "cost is 1 i same index\n",
    "\n",
    "to go for the 5th position your gas should be greater than cost, in this case, its 4 > 1. But this will be the next point\n",
    "\n",
    " left with 3 gas as : 4–1=3.\n",
    "Next point have 3 units of gas.\n",
    "\n",
    "Question seems to be asking from which point should we start, to traverse all the points.\n",
    "\n",
    "Simpler example:\n",
    "\n",
    "gas = {1,2}\n",
    "\n",
    "cost={2,1}\n",
    "\n",
    "Start from the first element, index 0. Gas in our car after 1st travel= gas[0]-cost[0] = 1–2=-1, negative num means we can not using 0 index\n",
    "\n",
    "Second element, index 1: gas in the car after 1st travel then = gas[1]-cost[1]=2–1=1, left with 1 unit of gas, after that go to the 0 index \n",
    "so = 1+gas[0]-cost[0]=1+1–2=0, which means we complete starting from 1 index."
   ]
  },
  {
   "cell_type": "code",
   "execution_count": 2,
   "metadata": {},
   "outputs": [
    {
     "name": "stdout",
     "output_type": "stream",
     "text": [
      "solution is correct\n"
     ]
    }
   ],
   "source": [
    "class Solution:\n",
    "    def canCompleteCircuit(self, gas, cost):\n",
    "        tank = 0 \n",
    "        total = 0\n",
    "        # track of start position\n",
    "        start = -1\n",
    "        for i in range(len(gas)):\n",
    "            total += gas[i] - cost[i]\n",
    "            tank  += gas[i] - cost[i]\n",
    "            if tank < 0:\n",
    "                # no gas in tank, reset\n",
    "                tank = 0 \n",
    "                start = -1\n",
    "            elif start == -1:\n",
    "                # update start position\n",
    "                start = i\n",
    "\n",
    "        # can complete circuit if theres at least as much gas as cost\n",
    "        return start if total >= 0 else -1\n",
    "    \n",
    "try:\n",
    "    assert Solution().canCompleteCircuit([1,2,3,4,5], [3,4,5,1,2]) == 3\n",
    "    assert Solution().canCompleteCircuit([2,3,4], [3,4,3]) == -1\n",
    "    print(\"solution is correct\")\n",
    "except AssertionError:\n",
    "    print(\"solution is incorrect\")\n",
    "    "
   ]
  },
  {
   "cell_type": "code",
   "execution_count": null,
   "metadata": {},
   "outputs": [],
   "source": []
  },
  {
   "cell_type": "markdown",
   "metadata": {},
   "source": [
    "```Leetcode 133 Clone Graph```"
   ]
  },
  {
   "cell_type": "markdown",
   "metadata": {},
   "source": [
    "Example 1:\n",
    "\n",
    "\n",
    "Input: adjList = [[2,4],[1,3],[2,4],[1,3]]\n",
    "Output: [[2,4],[1,3],[2,4],[1,3]]\n",
    "Explanation: There are 4 nodes in the graph.\n",
    "1st node (val = 1)'s neighbors are 2nd node (val = 2) and 4th node (val = 4).\n",
    "2nd node (val = 2)'s neighbors are 1st node (val = 1) and 3rd node (val = 3).\n",
    "3rd node (val = 3)'s neighbors are 2nd node (val = 2) and 4th node (val = 4).\n",
    "4th node (val = 4)'s neighbors are 1st node (val = 1) and 3rd node (val = 3)."
   ]
  },
  {
   "cell_type": "markdown",
   "metadata": {},
   "source": [
    "Example 2:\n",
    "\n",
    "\n",
    "Input: adjList = [[]]\n",
    "Output: [[]]\n",
    "Explanation: Note that the input contains one empty list. The graph consists of only one node with val = 1 and it does not have any neighbors."
   ]
  },
  {
   "cell_type": "code",
   "execution_count": null,
   "metadata": {},
   "outputs": [],
   "source": [
    "Example 3:\n",
    "\n",
    "Input: adjList = []\n",
    "Output: []\n",
    "Explanation: This an empty graph, it does not have any nodes."
   ]
  },
  {
   "cell_type": "code",
   "execution_count": null,
   "metadata": {},
   "outputs": [],
   "source": [
    "Example 4:\n",
    "\n",
    "\n",
    "Input: adjList = [[2],[1]]\n",
    "Output: [[2],[1]]\n",
    " \n",
    "\n",
    "Constraints:\n",
    "\n",
    "1 <= Node.val <= 100\n",
    "Node.val is unique for each node.\n",
    "Number of Nodes will not exceed 100.\n",
    "There is no repeated edges and no self-loops in the graph.\n",
    "The Graph is connected and all nodes can be visited starting from the given node.\n"
   ]
  },
  {
   "cell_type": "code",
   "execution_count": 26,
   "metadata": {},
   "outputs": [
    {
     "ename": "AttributeError",
     "evalue": "'list' object has no attribute 'val'",
     "output_type": "error",
     "traceback": [
      "\u001b[0;31m-------------------------------------------------------------------\u001b[0m",
      "\u001b[0;31mAttributeError\u001b[0m                    Traceback (most recent call last)",
      "\u001b[0;32m<ipython-input-26-20ca73e18f97>\u001b[0m in \u001b[0;36m<module>\u001b[0;34m\u001b[0m\n\u001b[1;32m     26\u001b[0m \u001b[0;34m\u001b[0m\u001b[0m\n\u001b[1;32m     27\u001b[0m \u001b[0;32mtry\u001b[0m\u001b[0;34m:\u001b[0m\u001b[0;34m\u001b[0m\u001b[0;34m\u001b[0m\u001b[0m\n\u001b[0;32m---> 28\u001b[0;31m     \u001b[0;32massert\u001b[0m \u001b[0mSolution\u001b[0m\u001b[0;34m(\u001b[0m\u001b[0;34m)\u001b[0m\u001b[0;34m.\u001b[0m\u001b[0mcloneGraph\u001b[0m\u001b[0;34m(\u001b[0m\u001b[0;34m[\u001b[0m\u001b[0;34m[\u001b[0m\u001b[0;36m2\u001b[0m\u001b[0;34m,\u001b[0m\u001b[0;36m4\u001b[0m\u001b[0;34m]\u001b[0m\u001b[0;34m,\u001b[0m\u001b[0;34m[\u001b[0m\u001b[0;36m1\u001b[0m\u001b[0;34m,\u001b[0m\u001b[0;36m3\u001b[0m\u001b[0;34m]\u001b[0m\u001b[0;34m,\u001b[0m\u001b[0;34m[\u001b[0m\u001b[0;36m2\u001b[0m\u001b[0;34m,\u001b[0m\u001b[0;36m4\u001b[0m\u001b[0;34m]\u001b[0m\u001b[0;34m,\u001b[0m\u001b[0;34m[\u001b[0m\u001b[0;36m1\u001b[0m\u001b[0;34m,\u001b[0m\u001b[0;36m3\u001b[0m\u001b[0;34m]\u001b[0m\u001b[0;34m]\u001b[0m\u001b[0;34m)\u001b[0m \u001b[0;34m==\u001b[0m \u001b[0;34m[\u001b[0m\u001b[0;34m[\u001b[0m\u001b[0;36m2\u001b[0m\u001b[0;34m,\u001b[0m\u001b[0;36m4\u001b[0m\u001b[0;34m]\u001b[0m\u001b[0;34m,\u001b[0m\u001b[0;34m[\u001b[0m\u001b[0;36m1\u001b[0m\u001b[0;34m,\u001b[0m\u001b[0;36m3\u001b[0m\u001b[0;34m]\u001b[0m\u001b[0;34m,\u001b[0m\u001b[0;34m[\u001b[0m\u001b[0;36m2\u001b[0m\u001b[0;34m,\u001b[0m\u001b[0;36m4\u001b[0m\u001b[0;34m]\u001b[0m\u001b[0;34m,\u001b[0m\u001b[0;34m[\u001b[0m\u001b[0;36m1\u001b[0m\u001b[0;34m,\u001b[0m\u001b[0;36m3\u001b[0m\u001b[0;34m]\u001b[0m\u001b[0;34m]\u001b[0m\u001b[0;34m\u001b[0m\u001b[0;34m\u001b[0m\u001b[0m\n\u001b[0m\u001b[1;32m     29\u001b[0m     \u001b[0;32massert\u001b[0m \u001b[0mSolution\u001b[0m\u001b[0;34m(\u001b[0m\u001b[0;34m)\u001b[0m\u001b[0;34m.\u001b[0m\u001b[0mcloneGraph\u001b[0m\u001b[0;34m(\u001b[0m\u001b[0;34m[\u001b[0m\u001b[0;34m[\u001b[0m\u001b[0;34m]\u001b[0m\u001b[0;34m]\u001b[0m\u001b[0;34m)\u001b[0m \u001b[0;34m==\u001b[0m \u001b[0;34m[\u001b[0m\u001b[0;34m[\u001b[0m\u001b[0;34m]\u001b[0m\u001b[0;34m]\u001b[0m\u001b[0;34m\u001b[0m\u001b[0;34m\u001b[0m\u001b[0m\n\u001b[1;32m     30\u001b[0m     \u001b[0;32massert\u001b[0m \u001b[0mSolution\u001b[0m\u001b[0;34m(\u001b[0m\u001b[0;34m)\u001b[0m\u001b[0;34m.\u001b[0m\u001b[0mcloneGraph\u001b[0m\u001b[0;34m(\u001b[0m\u001b[0;34m[\u001b[0m\u001b[0;34m]\u001b[0m\u001b[0;34m)\u001b[0m \u001b[0;34m==\u001b[0m \u001b[0;34m[\u001b[0m\u001b[0;34m]\u001b[0m\u001b[0;34m\u001b[0m\u001b[0;34m\u001b[0m\u001b[0m\n",
      "\u001b[0;32m<ipython-input-26-20ca73e18f97>\u001b[0m in \u001b[0;36mcloneGraph\u001b[0;34m(self, node)\u001b[0m\n\u001b[1;32m     12\u001b[0m             \u001b[0;32mreturn\u001b[0m\u001b[0;34m\u001b[0m\u001b[0;34m\u001b[0m\u001b[0m\n\u001b[1;32m     13\u001b[0m \u001b[0;34m\u001b[0m\u001b[0m\n\u001b[0;32m---> 14\u001b[0;31m         \u001b[0md\u001b[0m \u001b[0;34m=\u001b[0m \u001b[0;34m{\u001b[0m\u001b[0mnode\u001b[0m\u001b[0;34m:\u001b[0m \u001b[0mNode\u001b[0m\u001b[0;34m(\u001b[0m\u001b[0mnode\u001b[0m\u001b[0;34m.\u001b[0m\u001b[0mval\u001b[0m\u001b[0;34m)\u001b[0m\u001b[0;34m}\u001b[0m\u001b[0;34m\u001b[0m\u001b[0;34m\u001b[0m\u001b[0m\n\u001b[0m\u001b[1;32m     15\u001b[0m \u001b[0;34m\u001b[0m\u001b[0m\n\u001b[1;32m     16\u001b[0m         \u001b[0mq\u001b[0m \u001b[0;34m=\u001b[0m \u001b[0mdeque\u001b[0m\u001b[0;34m(\u001b[0m\u001b[0;34m[\u001b[0m\u001b[0mnode\u001b[0m\u001b[0;34m]\u001b[0m\u001b[0;34m)\u001b[0m\u001b[0;34m\u001b[0m\u001b[0;34m\u001b[0m\u001b[0m\n",
      "\u001b[0;31mAttributeError\u001b[0m: 'list' object has no attribute 'val'"
     ]
    }
   ],
   "source": [
    "from collections import deque\n",
    "# Definition for a Node.\n",
    "class Node:\n",
    "    def __init__(self, val = 0, neighbors = None):\n",
    "        self.val = val\n",
    "        self.neighbors = neighbors if neighbors is not None else []\n",
    "\n",
    "\n",
    "class Solution:\n",
    "    def cloneGraph(self, node):\n",
    "        if not node: \n",
    "            return\n",
    "        \n",
    "        d = {node: Node(node.val)}\n",
    "        \n",
    "        q = deque([node])\n",
    "        while q:\n",
    "            current_node = stack.popleft()\n",
    "            for neighbor in current_node.neighbors:\n",
    "                if neighbor not in d:\n",
    "                    d[neighbor] = Node(neighbor.val)\n",
    "                    q.append(neighbor)\n",
    "                d[neighbor].neighbors.append(d[current_node])\n",
    "        \n",
    "        return d[node] # returning the value of the original node that is copy of that original node\n",
    "    \n",
    "try:\n",
    "    assert Solution().cloneGraph([[2,4],[1,3],[2,4],[1,3]]) == [[2,4],[1,3],[2,4],[1,3]]\n",
    "    assert Solution().cloneGraph([[]]) == [[]]\n",
    "    assert Solution().cloneGraph([]) == []\n",
    "    assert Solution().cloneGraph([[2],[1]]) == [[2],[1]]\n",
    "    print(\"solution is correct\")\n",
    "except AssertionError:\n",
    "    print(\"solution is incorrect\")"
   ]
  },
  {
   "cell_type": "markdown",
   "metadata": {},
   "source": [
    "   1       \n",
    "  / \\\n",
    " 2   4\n",
    "  \\ /\n",
    "   3 \n",
    "   \n",
    "d = {          \n",
    "   original: return copy\n",
    "    \n",
    "        (1): Node(1) connects to 2\n",
    "        (2): Node(2) connects to 3\n",
    "        (3): Node(3) connects to 4\n",
    "        (4): Node(4) connects back to 1, connecting the cloned graph\n",
    "     \n",
    "}\n",
    "\n",
    "return d[node]"
   ]
  },
  {
   "cell_type": "code",
   "execution_count": null,
   "metadata": {},
   "outputs": [],
   "source": []
  },
  {
   "cell_type": "markdown",
   "metadata": {},
   "source": [
    "```Leetcode 35: Insert Search Position```\n",
    "   [https://leetcode.com/problems/search-insert-position/]"
   ]
  },
  {
   "cell_type": "code",
   "execution_count": null,
   "metadata": {},
   "outputs": [],
   "source": [
    "Given a sorted array of distinct integers and a target value, return the index if the target is found. \n",
    "If not, return the index where it would be if it were inserted in order."
   ]
  },
  {
   "cell_type": "code",
   "execution_count": null,
   "metadata": {},
   "outputs": [],
   "source": [
    "Example 1:\n",
    "\n",
    "Input: nums = [1,3,5,6], target = 5\n",
    "Output: 2\n",
    "\n",
    "Example 2:\n",
    "\n",
    "Input: nums = [1,3,5,6], target = 2\n",
    "Output: 1\n",
    "\n",
    "Example 3:\n",
    "\n",
    "Input: nums = [1,3,5,6], target = 7\n",
    "Output: 4\n",
    "\n",
    "Example 4:\n",
    "\n",
    "Input: nums = [1,3,5,6], target = 0\n",
    "Output: 0\n",
    "\n",
    "Example 5:\n",
    "\n",
    "Input: nums = [1], target = 0\n",
    "Output: 0\n",
    "\n",
    " \n",
    "\n",
    "Constraints:\n",
    "\n",
    "    1 <= nums.length <= 104\n",
    "    -104 <= nums[i] <= 104\n",
    "    nums contains distinct values sorted in ascending order.\n",
    "    -104 <= target <= 104\n"
   ]
  },
  {
   "cell_type": "code",
   "execution_count": 25,
   "metadata": {},
   "outputs": [
    {
     "name": "stdout",
     "output_type": "stream",
     "text": [
      "solution is correct\n"
     ]
    }
   ],
   "source": [
    "class Solution:\n",
    "    def searchInsert(self, nums, target: int) -> int:\n",
    "        i = 0\n",
    "        for j in range(len(nums)):\n",
    "            if target > nums[j]:\n",
    "                \n",
    "                i = i + 1\n",
    "        return i\n",
    "\n",
    "#print(Solution().searchInsert([1,3,5,6], 7))\n",
    "\n",
    "\n",
    "try:\n",
    "    assert Solution().searchInsert([1,3,5,6], 5) == 2\n",
    "    assert Solution().searchInsert([1,3,5,6], 2) == 1\n",
    "    assert Solution().searchInsert([1,3,5,6], 7) == 4\n",
    "    assert Solution().searchInsert([1,3,5,6], 0) == 0\n",
    "    assert Solution().searchInsert([1], 0) == 0\n",
    "    print(\"solution is correct\")\n",
    "except AssertionError:\n",
    "    print(\"solution is incorrect\")"
   ]
  },
  {
   "cell_type": "code",
   "execution_count": null,
   "metadata": {},
   "outputs": [],
   "source": []
  },
  {
   "cell_type": "code",
   "execution_count": null,
   "metadata": {},
   "outputs": [],
   "source": []
  },
  {
   "cell_type": "code",
   "execution_count": null,
   "metadata": {},
   "outputs": [],
   "source": []
  },
  {
   "cell_type": "code",
   "execution_count": null,
   "metadata": {},
   "outputs": [],
   "source": [
    "\n",
    "    Here we make use of a set inorder to deal with the duplicates.\n",
    "    For each of the email in email array, we split it into localPart and domainPart.\n",
    "    Now if we see a + in localPart, we donot consider the letters after the + sign.\n",
    "    Now we remove '.' and combine it with the domainPart along with @\n",
    "    And add each of the above into the set and if any duplicates arises, it will not be further added as we are using a set.\n",
    "    Return the lenght of the set to give us the result.\n",
    "\n"
   ]
  },
  {
   "cell_type": "code",
   "execution_count": 27,
   "metadata": {},
   "outputs": [
    {
     "ename": "SyntaxError",
     "evalue": "invalid syntax (<ipython-input-27-aebecf48e4fe>, line 1)",
     "output_type": "error",
     "traceback": [
      "\u001b[0;36m  File \u001b[0;32m\"<ipython-input-27-aebecf48e4fe>\"\u001b[0;36m, line \u001b[0;32m1\u001b[0m\n\u001b[0;31m    ```Leetcode 929. Unique Email Addresses```\u001b[0m\n\u001b[0m    ^\u001b[0m\n\u001b[0;31mSyntaxError\u001b[0m\u001b[0;31m:\u001b[0m invalid syntax\n"
     ]
    }
   ],
   "source": [
    "```Leetcode 929. Unique Email Addresses```"
   ]
  },
  {
   "cell_type": "code",
   "execution_count": null,
   "metadata": {},
   "outputs": [],
   "source": [
    "Every valid email consists of a local name and a domain name, separated by the '@' sign. Besides lowercase letters, the email may contain one or more '.' or '+'.\n",
    "\n",
    "    For example, in \"alice@leetcode.com\", \"alice\" is the local name, and \"leetcode.com\" is the domain name.\n",
    "\n",
    "If you add periods '.' between some characters in the local name part of an email address, mail sent there will be forwarded to the same address without dots in the local name. Note that this rule does not apply to domain names.\n",
    "\n",
    "    For example, \"alice.z@leetcode.com\" and \"alicez@leetcode.com\" forward to the same email address.\n",
    "\n",
    "If you add a plus '+' in the local name, everything after the first plus sign will be ignored. This allows certain emails to be filtered. Note that this rule does not apply to domain names.\n",
    "\n",
    "    For example, \"m.y+name@email.com\" will be forwarded to \"my@email.com\".\n",
    "\n",
    "It is possible to use both of these rules at the same time.\n",
    "\n",
    "Given an array of strings emails where we send one email to each email[i], return the number of different addresses that actually receive mails."
   ]
  },
  {
   "cell_type": "code",
   "execution_count": null,
   "metadata": {},
   "outputs": [],
   "source": []
  },
  {
   "cell_type": "code",
   "execution_count": null,
   "metadata": {},
   "outputs": [],
   "source": []
  },
  {
   "cell_type": "code",
   "execution_count": null,
   "metadata": {},
   "outputs": [],
   "source": [
    "Example 1:\n",
    "\n",
    "Input: emails = [\"test.email+alex@leetcode.com\",\"test.e.mail+bob.cathy@leetcode.com\",\"testemail+david@lee.tcode.com\"]\n",
    "Output: 2\n",
    "Explanation: \"testemail@leetcode.com\" and \"testemail@lee.tcode.com\" actually receive mails.\n",
    "\n",
    "Example 2:\n",
    "\n",
    "Input: emails = [\"a@leetcode.com\",\"b@leetcode.com\",\"c@leetcode.com\"]\n",
    "Output: 3\n",
    "\n",
    " \n",
    "\n",
    "Constraints:\n",
    "\n",
    "    1 <= emails.length <= 100\n",
    "    1 <= emails[i].length <= 100\n",
    "    email[i] consist of lowercase English letters, '+', '.' and '@'.\n",
    "    Each emails[i] contains exactly one '@' character.\n",
    "    All local and domain names are non-empty.\n",
    "    Local names do not start with a '+' character.\n"
   ]
  },
  {
   "cell_type": "code",
   "execution_count": null,
   "metadata": {},
   "outputs": [],
   "source": [
    "class Solution:\n",
    "    def numUniqueEmails(self, emails: List[str]) -> int:\n",
    "        visited = set()\n",
    "        for email in emails:\n",
    "            localPart, domainName = email.split('@')\n",
    "            if '+' in localPart:\n",
    "                localPart = localPart[:localPart.index('+')]\n",
    "            visited.add(localPart.replace('.', '') + '@' + domainName)\n",
    "                \n",
    "        return len(visited)\n",
    "\n"
   ]
  }
 ],
 "metadata": {
  "kernelspec": {
   "display_name": "Python 3",
   "language": "python",
   "name": "python3"
  },
  "language_info": {
   "codemirror_mode": {
    "name": "ipython",
    "version": 3
   },
   "file_extension": ".py",
   "mimetype": "text/x-python",
   "name": "python",
   "nbconvert_exporter": "python",
   "pygments_lexer": "ipython3",
   "version": "3.9.2"
  }
 },
 "nbformat": 4,
 "nbformat_minor": 4
}
