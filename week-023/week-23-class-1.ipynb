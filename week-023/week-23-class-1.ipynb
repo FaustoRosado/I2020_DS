{
 "cells": [
  {
   "cell_type": "markdown",
<<<<<<< HEAD
=======
   "id": "designing-manufacturer",
>>>>>>> 9bcb85082bee3521929bbc33123fdb6b165afb33
   "metadata": {},
   "source": [
    "<div style=\"background: #000;\n",
    "            color: #FFF;\n",
    "            margin: 0px;\n",
    "            padding: 10px 0px 20px 0px;\n",
    "            text-align: center; \n",
    "                \">\n",
    "    <h1 >Week 23 Class 3 03/01</h1>\n",
    "</div>\n",
    "\n",
    "## Objectives for this week:\n",
    "* Continuing Machine Learning\n",
    "\n",
    "## Todays Agenda\n",
    "* Clustering Example\n",
    "* Review numpy and pandas\n",
    "* Some helpful videos\n"
   ]
  },
  {
   "cell_type": "markdown",
<<<<<<< HEAD
=======
   "id": "realistic-syracuse",
>>>>>>> 9bcb85082bee3521929bbc33123fdb6b165afb33
   "metadata": {},
   "source": [
    "<div style=\"background: #000;\n",
    "            color: #FFF;\n",
    "            margin: 0px;\n",
    "            padding: 10px 0px 20px 0px;\n",
    "            text-align: center; \n",
    "                \">\n",
    "    <h1>Review Day</h1>\n",
    "</div>"
   ]
  },
  {
   "cell_type": "code",
<<<<<<< HEAD
   "execution_count": 84,
=======
   "execution_count": null,
   "id": "prescription-chance",
>>>>>>> 9bcb85082bee3521929bbc33123fdb6b165afb33
   "metadata": {},
   "outputs": [],
   "source": [
    "import numpy as np\n",
    "import pandas as pd\n",
    "import seaborn as sns\n",
    "import matplotlib.pyplot as plt"
   ]
  },
  {
   "cell_type": "markdown",
<<<<<<< HEAD
=======
   "id": "irish-printing",
>>>>>>> 9bcb85082bee3521929bbc33123fdb6b165afb33
   "metadata": {},
   "source": [
    "# Numpy"
   ]
  },
  {
   "cell_type": "markdown",
<<<<<<< HEAD
=======
   "id": "wicked-london",
>>>>>>> 9bcb85082bee3521929bbc33123fdb6b165afb33
   "metadata": {},
   "source": [
    "### creating numpy arrays"
   ]
  },
  {
   "cell_type": "code",
<<<<<<< HEAD
   "execution_count": 85,
   "metadata": {},
   "outputs": [
    {
     "data": {
      "text/plain": [
       "array([1, 2, 3, 4, 5])"
      ]
     },
     "execution_count": 85,
     "metadata": {},
     "output_type": "execute_result"
    }
   ],
=======
   "execution_count": null,
   "id": "digital-resolution",
   "metadata": {},
   "outputs": [],
>>>>>>> 9bcb85082bee3521929bbc33123fdb6b165afb33
   "source": [
    "one_dimensional_array = np.array([1,2,3,4,5])\n",
    "one_dimensional_array"
   ]
  },
  {
   "cell_type": "code",
<<<<<<< HEAD
   "execution_count": 86,
   "metadata": {},
   "outputs": [
    {
     "data": {
      "text/plain": [
       "(5,)"
      ]
     },
     "execution_count": 86,
     "metadata": {},
     "output_type": "execute_result"
    }
   ],
   "source": [
    "# returns a tuple, one dimension. looks like one row, no col, more like a vector, JUST 5\n",
    "\n",
    "one_dimensional_array.shape"
   ]
  },
  {
   "cell_type": "code",
   "execution_count": 87,
   "metadata": {},
   "outputs": [
    {
     "data": {
      "text/plain": [
       "array([[1],\n",
       "       [2],\n",
       "       [3],\n",
       "       [4],\n",
       "       [5]])"
      ]
     },
     "execution_count": 87,
     "metadata": {},
     "output_type": "execute_result"
    }
   ],
   "source": [
    "one_dimensional_array.reshape(-1,1)   # SET UP LIKE A MATRIX, 5 rows and one col, restrictions on reshaping, no elements has to stay the same"
   ]
  },
  {
   "cell_type": "code",
   "execution_count": 88,
   "metadata": {},
   "outputs": [
    {
     "data": {
      "text/plain": [
       "(5, 1)"
      ]
     },
     "execution_count": 88,
     "metadata": {},
     "output_type": "execute_result"
    }
   ],
   "source": [
    "one_dimensional_array.reshape(-1,1).shape"
   ]
  },
  {
   "cell_type": "code",
   "execution_count": 89,
   "metadata": {},
   "outputs": [
    {
     "data": {
      "text/plain": [
       "array([1, 2, 3, 4, 5])"
      ]
     },
     "execution_count": 89,
     "metadata": {},
     "output_type": "execute_result"
    }
   ],
   "source": [
    "one_dimensional_array.reshape(-1,1).ravel()"
   ]
  },
  {
   "cell_type": "code",
   "execution_count": 90,
   "metadata": {},
   "outputs": [
    {
     "data": {
      "text/plain": [
       "(5,)"
      ]
     },
     "execution_count": 90,
     "metadata": {},
     "output_type": "execute_result"
    }
   ],
   "source": [
    "one_dimensional_array.shape"
   ]
  },
  {
   "cell_type": "code",
   "execution_count": 91,
   "metadata": {},
   "outputs": [],
   "source": [
    "# <1,2,3,4,5>"
=======
   "execution_count": null,
   "id": "varying-liver",
   "metadata": {},
   "outputs": [],
   "source": [
    "one_dimensional_array.shape"
>>>>>>> 9bcb85082bee3521929bbc33123fdb6b165afb33
   ]
  },
  {
   "cell_type": "code",
   "execution_count": null,
<<<<<<< HEAD
   "metadata": {},
   "outputs": [],
   "source": []
  },
  {
   "cell_type": "code",
   "execution_count": 92,
   "metadata": {},
   "outputs": [],
   "source": [
    "# Vector, similar to a list, one row with elements, differnt than matrix has rows and cols"
   ]
  },
  {
   "cell_type": "code",
   "execution_count": 93,
   "metadata": {},
   "outputs": [
    {
     "data": {
      "text/plain": [
       "array([[1, 2],\n",
       "       [3, 4],\n",
       "       [5, 6]])"
      ]
     },
     "execution_count": 93,
     "metadata": {},
     "output_type": "execute_result"
    }
   ],
   "source": [
=======
   "id": "controlling-fleece",
   "metadata": {},
   "outputs": [],
   "source": [
>>>>>>> 9bcb85082bee3521929bbc33123fdb6b165afb33
    "array = [[1,2],[3,4,],[5,6]]\n",
    "#array = ((1,2),(3,4,),(5,6))\n",
    "#array = {1:2, 3:4, 5:6}\n",
    "\n",
<<<<<<< HEAD
    "two_dimensional_array = np.array(list(array))\n",
    "two_dimensional_array"
   ]
  },
  {
   "cell_type": "code",
   "execution_count": 94,
   "metadata": {},
   "outputs": [
    {
     "data": {
      "text/plain": [
       "array([[1, 2],\n",
       "       [3, 4],\n",
       "       [5, 6]])"
      ]
     },
     "execution_count": 94,
     "metadata": {},
     "output_type": "execute_result"
    }
   ],
   "source": [
    "two_dimensional_array"
   ]
  },
  {
   "cell_type": "code",
   "execution_count": 95,
   "metadata": {},
   "outputs": [
    {
     "data": {
      "text/plain": [
       "array([[1, 2, 3, 4, 5, 6]])"
      ]
     },
     "execution_count": 95,
     "metadata": {},
     "output_type": "execute_result"
    }
   ],
   "source": [
    "two_dimensional_array.reshape(1,6)  # looks like double-listed, LIST OF LISTS"
   ]
  },
  {
   "cell_type": "code",
   "execution_count": 96,
   "metadata": {},
   "outputs": [
    {
     "data": {
      "text/plain": [
       "array([[1],\n",
       "       [2],\n",
       "       [3],\n",
       "       [4],\n",
       "       [5],\n",
       "       [6]])"
      ]
     },
     "execution_count": 96,
     "metadata": {},
     "output_type": "execute_result"
    }
   ],
   "source": [
    "two_dimensional_array.reshape(6,1)"
   ]
  },
  {
   "cell_type": "code",
   "execution_count": 97,
   "metadata": {},
   "outputs": [
    {
     "data": {
      "text/plain": [
       "array([[1, 2, 3],\n",
       "       [4, 5, 6]])"
      ]
     },
     "execution_count": 97,
     "metadata": {},
     "output_type": "execute_result"
    }
   ],
   "source": [
    "two_dimensional_array.reshape(2,3)"
   ]
  },
  {
   "cell_type": "code",
   "execution_count": 98,
   "metadata": {},
   "outputs": [
    {
     "data": {
      "text/plain": [
       "array([[1, 2, 3],\n",
       "       [4, 5, 6]])"
      ]
     },
     "execution_count": 98,
     "metadata": {},
     "output_type": "execute_result"
    }
   ],
   "source": [
    "two_dimensional_array.reshape(2,3)"
   ]
  },
  {
   "cell_type": "code",
   "execution_count": 99,
   "metadata": {},
   "outputs": [
    {
     "data": {
      "text/plain": [
       "array([1, 2, 3, 4, 5, 6])"
      ]
     },
     "execution_count": 99,
     "metadata": {},
     "output_type": "execute_result"
    }
   ],
   "source": [
    "two_dimensional_array.reshape(1,6).ravel() # single list"
   ]
  },
  {
   "cell_type": "code",
   "execution_count": 100,
   "metadata": {},
   "outputs": [
    {
     "data": {
      "text/plain": [
       "(6,)"
      ]
     },
     "execution_count": 100,
     "metadata": {},
     "output_type": "execute_result"
    }
   ],
   "source": [
    "two_dimensional_array.reshape(1,6).ravel().shape"
   ]
  },
  {
   "cell_type": "code",
   "execution_count": 101,
   "metadata": {},
   "outputs": [
    {
     "data": {
      "text/plain": [
       "(2, 3)"
      ]
     },
     "execution_count": 101,
     "metadata": {},
     "output_type": "execute_result"
    }
   ],
   "source": [
    "two_dimensional_array.reshape(2,3).shape"
   ]
  },
  {
   "cell_type": "code",
   "execution_count": 102,
   "metadata": {},
   "outputs": [],
   "source": [
    "# multiplication of np.array, logisitc regression, muluple regression, mul vals of x, because we were passing in mul vals\n",
    "# logistic regression on proj, using more than one col from x without reshaping expecting 2 D array, had to reshape when had 1D array\n",
    "# like sq footage in real estate data"
   ]
  },
  {
   "cell_type": "code",
   "execution_count": 103,
   "metadata": {},
   "outputs": [],
   "source": [
    "# array = [[1,2],[3,4,],[5,6]]\n",
    "#array = ((1,2),(3,4,),(5,6))\n",
    "#array = {1:2, 3:4, 5:6}\n",
    "\n",
    "# two_dimensional_array = np.array(list(array_dict.items()))\n",
    "# two_dimensional_array"
   ]
  },
  {
   "cell_type": "code",
   "execution_count": 104,
   "metadata": {},
   "outputs": [
    {
     "data": {
      "text/plain": [
       "array([[1, 2],\n",
       "       [3, 4],\n",
       "       [5, 6]])"
      ]
     },
     "execution_count": 104,
     "metadata": {},
     "output_type": "execute_result"
    }
   ],
   "source": [
    "array = [[1,2],[3,4,],[5,6]]\n",
    "#array = ((1,2),(3,4,),(5,6))\n",
    "#array = {1:2, 3:4, 5:6}\n",
    "\n",
    "two_dimensional_array = np.array(array)\n",
=======
    "two_dimensional_array = np.array(list(array_dict.items()))\n",
>>>>>>> 9bcb85082bee3521929bbc33123fdb6b165afb33
    "two_dimensional_array"
   ]
  },
  {
   "cell_type": "code",
   "execution_count": null,
<<<<<<< HEAD
   "metadata": {},
   "outputs": [],
   "source": []
  },
  {
   "cell_type": "code",
   "execution_count": 105,
   "metadata": {},
   "outputs": [
    {
     "data": {
      "text/plain": [
       "array([[[1, 2],\n",
       "        [3, 4]],\n",
       "\n",
       "       [[3, 4],\n",
       "        [5, 6]]])"
      ]
     },
     "execution_count": 105,
     "metadata": {},
     "output_type": "execute_result"
    }
   ],
=======
   "id": "danish-bryan",
   "metadata": {},
   "outputs": [],
>>>>>>> 9bcb85082bee3521929bbc33123fdb6b165afb33
   "source": [
    "array = [[[1,2],[3,4]],[[3,4,],[5,6]]]\n",
    "\n",
    "three_dimensional_array = np.array(array)\n",
    "three_dimensional_array"
   ]
  },
  {
   "cell_type": "code",
<<<<<<< HEAD
   "execution_count": 106,
   "metadata": {},
   "outputs": [
    {
     "data": {
      "text/plain": [
       "(2, 2, 2)"
      ]
     },
     "execution_count": 106,
     "metadata": {},
     "output_type": "execute_result"
    }
   ],
   "source": [
    "three_dimensional_array.shape"
   ]
  },
  {
   "cell_type": "code",
   "execution_count": 107,
   "metadata": {},
   "outputs": [
    {
     "data": {
      "text/plain": [
       "array([[1, 2],\n",
       "       [3, 4],\n",
       "       [5, 6]])"
      ]
     },
     "execution_count": 107,
     "metadata": {},
     "output_type": "execute_result"
    }
   ],
   "source": [
    "two_dimensional_array"
   ]
  },
  {
   "cell_type": "code",
   "execution_count": 108,
   "metadata": {},
   "outputs": [
    {
     "data": {
      "text/plain": [
       "(3, 2)"
      ]
     },
     "execution_count": 108,
     "metadata": {},
     "output_type": "execute_result"
    }
   ],
   "source": [
    "two_dimensional_array.shape"
   ]
  },
  {
   "cell_type": "code",
   "execution_count": 109,
   "metadata": {},
   "outputs": [
    {
     "data": {
      "text/plain": [
       "<function ndarray.reshape>"
      ]
     },
     "execution_count": 109,
     "metadata": {},
     "output_type": "execute_result"
    }
   ],
   "source": [
    "np.eye(4).reshape"
   ]
  },
  {
   "cell_type": "code",
   "execution_count": 110,
   "metadata": {},
   "outputs": [],
   "source": [
    "# Resize, reshape -> has to be same amt of ele started with\n",
    "# resize "
=======
   "execution_count": null,
   "id": "descending-wrong",
   "metadata": {},
   "outputs": [],
   "source": [
    "three_dimensional_array.shape"
>>>>>>> 9bcb85082bee3521929bbc33123fdb6b165afb33
   ]
  },
  {
   "cell_type": "code",
   "execution_count": null,
<<<<<<< HEAD
   "metadata": {},
   "outputs": [],
   "source": []
  },
  {
   "cell_type": "code",
   "execution_count": null,
   "metadata": {},
   "outputs": [],
   "source": []
=======
   "id": "professional-script",
   "metadata": {},
   "outputs": [],
   "source": [
    "two_dimensional_array"
   ]
>>>>>>> 9bcb85082bee3521929bbc33123fdb6b165afb33
  },
  {
   "cell_type": "code",
   "execution_count": null,
<<<<<<< HEAD
   "metadata": {},
   "outputs": [],
   "source": []
  },
  {
   "cell_type": "markdown",
=======
   "id": "mathematical-blackjack",
   "metadata": {},
   "outputs": [],
   "source": [
    "two_dimensional_array.shape"
   ]
  },
  {
   "cell_type": "markdown",
   "id": "classified-context",
>>>>>>> 9bcb85082bee3521929bbc33123fdb6b165afb33
   "metadata": {},
   "source": [
    "# Placeholders"
   ]
  },
  {
   "cell_type": "markdown",
<<<<<<< HEAD
=======
   "id": "little-portuguese",
>>>>>>> 9bcb85082bee3521929bbc33123fdb6b165afb33
   "metadata": {},
   "source": [
    "`np.zeros` takes a shape and returns a np array of that shape filled with zeros"
   ]
  },
  {
   "cell_type": "code",
<<<<<<< HEAD
   "execution_count": 111,
   "metadata": {},
   "outputs": [
    {
     "data": {
      "text/plain": [
       "array([[0., 0., 0., 0., 0., 0.],\n",
       "       [0., 0., 0., 0., 0., 0.],\n",
       "       [0., 0., 0., 0., 0., 0.]])"
      ]
     },
     "execution_count": 111,
     "metadata": {},
     "output_type": "execute_result"
    }
   ],
   "source": [
    "np.zeros((3,6)) # passing in a tuple, 3 rows and 6 cols"
=======
   "execution_count": null,
   "id": "exposed-myanmar",
   "metadata": {},
   "outputs": [],
   "source": [
    "np.zeros((3,6))"
>>>>>>> 9bcb85082bee3521929bbc33123fdb6b165afb33
   ]
  },
  {
   "cell_type": "markdown",
<<<<<<< HEAD
=======
   "id": "existing-tablet",
>>>>>>> 9bcb85082bee3521929bbc33123fdb6b165afb33
   "metadata": {},
   "source": [
    "`np.ones` takes a shape and returns a `np.array` of that shape filled with ones"
   ]
  },
  {
   "cell_type": "code",
<<<<<<< HEAD
   "execution_count": 112,
   "metadata": {},
   "outputs": [
    {
     "data": {
      "text/plain": [
       "array([[[1., 1., 1., 1., 1.],\n",
       "        [1., 1., 1., 1., 1.],\n",
       "        [1., 1., 1., 1., 1.],\n",
       "        [1., 1., 1., 1., 1.]],\n",
       "\n",
       "       [[1., 1., 1., 1., 1.],\n",
       "        [1., 1., 1., 1., 1.],\n",
       "        [1., 1., 1., 1., 1.],\n",
       "        [1., 1., 1., 1., 1.]],\n",
       "\n",
       "       [[1., 1., 1., 1., 1.],\n",
       "        [1., 1., 1., 1., 1.],\n",
       "        [1., 1., 1., 1., 1.],\n",
       "        [1., 1., 1., 1., 1.]]])"
      ]
     },
     "execution_count": 112,
     "metadata": {},
     "output_type": "execute_result"
    }
   ],
   "source": [
    "np.ones((3,4,5)) # passing 3 tuple, 3 rows, 4 cols, 5 depth -> 60 elements (# of lists, # of rows in the lists, # of columns of lists)"
=======
   "execution_count": null,
   "id": "charitable-attention",
   "metadata": {},
   "outputs": [],
   "source": [
    "np.ones((3,4,5))"
>>>>>>> 9bcb85082bee3521929bbc33123fdb6b165afb33
   ]
  },
  {
   "cell_type": "markdown",
<<<<<<< HEAD
=======
   "id": "controlling-reservoir",
>>>>>>> 9bcb85082bee3521929bbc33123fdb6b165afb33
   "metadata": {},
   "source": [
    "`np.arange` takes python slice format as argument (`start, stop, skip`) and returns a `np.array` of that range and skip.\n",
    "\n",
    "note: stop is still exclusive as always"
   ]
  },
  {
   "cell_type": "code",
<<<<<<< HEAD
   "execution_count": 113,
   "metadata": {},
   "outputs": [
    {
     "data": {
      "text/plain": [
       "array([10, 15, 20])"
      ]
     },
     "execution_count": 113,
     "metadata": {},
     "output_type": "execute_result"
    }
   ],
   "source": [
    "np.arange(10,25,5)"
   ]
  },
  {
   "cell_type": "code",
   "execution_count": 114,
   "metadata": {},
   "outputs": [
    {
     "name": "stdout",
     "output_type": "stream",
     "text": [
      "Help on built-in function arange in module numpy:\n",
      "\n",
      "arange(...)\n",
      "    arange([start,] stop[, step,], dtype=None)\n",
      "    \n",
      "    Return evenly spaced values within a given interval.\n",
      "    \n",
      "    Values are generated within the half-open interval ``[start, stop)``\n",
      "    (in other words, the interval including `start` but excluding `stop`).\n",
      "    For integer arguments the function is equivalent to the Python built-in\n",
      "    `range` function, but returns an ndarray rather than a list.\n",
      "    \n",
      "    When using a non-integer step, such as 0.1, the results will often not\n",
      "    be consistent.  It is better to use `numpy.linspace` for these cases.\n",
      "    \n",
      "    Parameters\n",
      "    ----------\n",
      "    start : number, optional\n",
      "        Start of interval.  The interval includes this value.  The default\n",
      "        start value is 0.\n",
      "    stop : number\n",
      "        End of interval.  The interval does not include this value, except\n",
      "        in some cases where `step` is not an integer and floating point\n",
      "        round-off affects the length of `out`.\n",
      "    step : number, optional\n",
      "        Spacing between values.  For any output `out`, this is the distance\n",
      "        between two adjacent values, ``out[i+1] - out[i]``.  The default\n",
      "        step size is 1.  If `step` is specified as a position argument,\n",
      "        `start` must also be given.\n",
      "    dtype : dtype\n",
      "        The type of the output array.  If `dtype` is not given, infer the data\n",
      "        type from the other input arguments.\n",
      "    \n",
      "    Returns\n",
      "    -------\n",
      "    arange : ndarray\n",
      "        Array of evenly spaced values.\n",
      "    \n",
      "        For floating point arguments, the length of the result is\n",
      "        ``ceil((stop - start)/step)``.  Because of floating point overflow,\n",
      "        this rule may result in the last element of `out` being greater\n",
      "        than `stop`.\n",
      "    \n",
      "    See Also\n",
      "    --------\n",
      "    numpy.linspace : Evenly spaced numbers with careful handling of endpoints.\n",
      "    numpy.ogrid: Arrays of evenly spaced numbers in N-dimensions.\n",
      "    numpy.mgrid: Grid-shaped arrays of evenly spaced numbers in N-dimensions.\n",
      "    \n",
      "    Examples\n",
      "    --------\n",
      "    >>> np.arange(3)\n",
      "    array([0, 1, 2])\n",
      "    >>> np.arange(3.0)\n",
      "    array([ 0.,  1.,  2.])\n",
      "    >>> np.arange(3,7)\n",
      "    array([3, 4, 5, 6])\n",
      "    >>> np.arange(3,7,2)\n",
      "    array([3, 5])\n",
      "\n"
     ]
    }
   ],
   "source": [
    "help(np.arange)"
   ]
  },
  {
   "cell_type": "code",
   "execution_count": 115,
   "metadata": {},
   "outputs": [
    {
     "data": {
      "text/plain": [
       "array([[0, 1, 2, 3, 4],\n",
       "       [5, 6, 7, 8, 9]])"
      ]
     },
     "execution_count": 115,
     "metadata": {},
     "output_type": "execute_result"
    }
   ],
   "source": [
    "np.arange(0,10).reshape(2,5) # as long as same nums of elements"
   ]
  },
  {
   "cell_type": "code",
   "execution_count": 116,
   "metadata": {},
   "outputs": [
    {
     "data": {
      "text/plain": [
       "array([[[ 0,  1,  2],\n",
       "        [ 3,  4,  5]],\n",
       "\n",
       "       [[ 6,  7,  8],\n",
       "        [ 9, 10, 11]]])"
      ]
     },
     "execution_count": 116,
     "metadata": {},
     "output_type": "execute_result"
    }
   ],
   "source": [
    "np.arange(0,12).reshape(2,2,3)"
   ]
  },
  {
   "cell_type": "code",
   "execution_count": 117,
   "metadata": {},
   "outputs": [
    {
     "data": {
      "text/plain": [
       "(2, 2, 3)"
      ]
     },
     "execution_count": 117,
     "metadata": {},
     "output_type": "execute_result"
    }
   ],
   "source": [
    "np.arange(0,12).reshape(2,2,3).shape"
=======
   "execution_count": null,
   "id": "considerable-snapshot",
   "metadata": {},
   "outputs": [],
   "source": [
    "np.arange(10,25,5)"
>>>>>>> 9bcb85082bee3521929bbc33123fdb6b165afb33
   ]
  },
  {
   "cell_type": "markdown",
<<<<<<< HEAD
   "metadata": {},
   "source": [
    "`np.linspace` almost takes python slice format as argument as well and returns the range from `start` to `stop` (inclusive) but instead of `skip`, the third argument is the number of evenly spaced elements you need"
   ]
  },
  {
   "cell_type": "code",
   "execution_count": 118,
   "metadata": {},
   "outputs": [
    {
     "data": {
      "text/plain": [
       "array([ 0.,  1.,  2.,  3.,  4.,  5.,  6.,  7.,  8.,  9., 10.])"
      ]
     },
     "execution_count": 118,
     "metadata": {},
     "output_type": "execute_result"
    }
   ],
   "source": [
    "np.linspace(0,10,11) # evenly divide into "
=======
   "id": "educational-alexander",
   "metadata": {},
   "source": [
    "`np.linspace` almost takes python slice format as argument as well and returns the range from `start` to `stop` (exclusive) but instead of `skip`, the third argument is the number of evenly spaced elements you need"
>>>>>>> 9bcb85082bee3521929bbc33123fdb6b165afb33
   ]
  },
  {
   "cell_type": "code",
<<<<<<< HEAD
   "execution_count": 119,
   "metadata": {},
   "outputs": [
    {
     "data": {
      "text/plain": [
       "array([ 0.        ,  0.47619048,  0.95238095,  1.42857143,  1.9047619 ,\n",
       "        2.38095238,  2.85714286,  3.33333333,  3.80952381,  4.28571429,\n",
       "        4.76190476,  5.23809524,  5.71428571,  6.19047619,  6.66666667,\n",
       "        7.14285714,  7.61904762,  8.0952381 ,  8.57142857,  9.04761905,\n",
       "        9.52380952, 10.        ])"
      ]
     },
     "execution_count": 119,
     "metadata": {},
     "output_type": "execute_result"
    }
   ],
   "source": [
    "np.linspace(0,10,22) # evenly spaced, seeing in matplotlib to create axes, evenly created ticks will use linspace()"
=======
   "execution_count": null,
   "id": "senior-syndication",
   "metadata": {},
   "outputs": [],
   "source": [
    "np.linspace(0,10,11)"
>>>>>>> 9bcb85082bee3521929bbc33123fdb6b165afb33
   ]
  },
  {
   "cell_type": "markdown",
<<<<<<< HEAD
=======
   "id": "commercial-drain",
>>>>>>> 9bcb85082bee3521929bbc33123fdb6b165afb33
   "metadata": {},
   "source": [
    "`np.eye` takes an `int n` as argument and returns a $ n * n $ identity matrix"
   ]
  },
  {
   "cell_type": "code",
<<<<<<< HEAD
   "execution_count": 120,
   "metadata": {},
   "outputs": [
    {
     "data": {
      "text/plain": [
       "array([ 0.        ,  0.1010101 ,  0.2020202 ,  0.3030303 ,  0.4040404 ,\n",
       "        0.50505051,  0.60606061,  0.70707071,  0.80808081,  0.90909091,\n",
       "        1.01010101,  1.11111111,  1.21212121,  1.31313131,  1.41414141,\n",
       "        1.51515152,  1.61616162,  1.71717172,  1.81818182,  1.91919192,\n",
       "        2.02020202,  2.12121212,  2.22222222,  2.32323232,  2.42424242,\n",
       "        2.52525253,  2.62626263,  2.72727273,  2.82828283,  2.92929293,\n",
       "        3.03030303,  3.13131313,  3.23232323,  3.33333333,  3.43434343,\n",
       "        3.53535354,  3.63636364,  3.73737374,  3.83838384,  3.93939394,\n",
       "        4.04040404,  4.14141414,  4.24242424,  4.34343434,  4.44444444,\n",
       "        4.54545455,  4.64646465,  4.74747475,  4.84848485,  4.94949495,\n",
       "        5.05050505,  5.15151515,  5.25252525,  5.35353535,  5.45454545,\n",
       "        5.55555556,  5.65656566,  5.75757576,  5.85858586,  5.95959596,\n",
       "        6.06060606,  6.16161616,  6.26262626,  6.36363636,  6.46464646,\n",
       "        6.56565657,  6.66666667,  6.76767677,  6.86868687,  6.96969697,\n",
       "        7.07070707,  7.17171717,  7.27272727,  7.37373737,  7.47474747,\n",
       "        7.57575758,  7.67676768,  7.77777778,  7.87878788,  7.97979798,\n",
       "        8.08080808,  8.18181818,  8.28282828,  8.38383838,  8.48484848,\n",
       "        8.58585859,  8.68686869,  8.78787879,  8.88888889,  8.98989899,\n",
       "        9.09090909,  9.19191919,  9.29292929,  9.39393939,  9.49494949,\n",
       "        9.5959596 ,  9.6969697 ,  9.7979798 ,  9.8989899 , 10.        ])"
      ]
     },
     "execution_count": 120,
     "metadata": {},
     "output_type": "execute_result"
    }
   ],
   "source": [
    "np.linspace(0,10,100)"
   ]
  },
  {
   "cell_type": "code",
   "execution_count": 121,
   "metadata": {},
   "outputs": [
    {
     "data": {
      "text/plain": [
       "array([ 0.        ,  0.01001001,  0.02002002,  0.03003003,  0.04004004,\n",
       "        0.05005005,  0.06006006,  0.07007007,  0.08008008,  0.09009009,\n",
       "        0.1001001 ,  0.11011011,  0.12012012,  0.13013013,  0.14014014,\n",
       "        0.15015015,  0.16016016,  0.17017017,  0.18018018,  0.19019019,\n",
       "        0.2002002 ,  0.21021021,  0.22022022,  0.23023023,  0.24024024,\n",
       "        0.25025025,  0.26026026,  0.27027027,  0.28028028,  0.29029029,\n",
       "        0.3003003 ,  0.31031031,  0.32032032,  0.33033033,  0.34034034,\n",
       "        0.35035035,  0.36036036,  0.37037037,  0.38038038,  0.39039039,\n",
       "        0.4004004 ,  0.41041041,  0.42042042,  0.43043043,  0.44044044,\n",
       "        0.45045045,  0.46046046,  0.47047047,  0.48048048,  0.49049049,\n",
       "        0.5005005 ,  0.51051051,  0.52052052,  0.53053053,  0.54054054,\n",
       "        0.55055055,  0.56056056,  0.57057057,  0.58058058,  0.59059059,\n",
       "        0.6006006 ,  0.61061061,  0.62062062,  0.63063063,  0.64064064,\n",
       "        0.65065065,  0.66066066,  0.67067067,  0.68068068,  0.69069069,\n",
       "        0.7007007 ,  0.71071071,  0.72072072,  0.73073073,  0.74074074,\n",
       "        0.75075075,  0.76076076,  0.77077077,  0.78078078,  0.79079079,\n",
       "        0.8008008 ,  0.81081081,  0.82082082,  0.83083083,  0.84084084,\n",
       "        0.85085085,  0.86086086,  0.87087087,  0.88088088,  0.89089089,\n",
       "        0.9009009 ,  0.91091091,  0.92092092,  0.93093093,  0.94094094,\n",
       "        0.95095095,  0.96096096,  0.97097097,  0.98098098,  0.99099099,\n",
       "        1.001001  ,  1.01101101,  1.02102102,  1.03103103,  1.04104104,\n",
       "        1.05105105,  1.06106106,  1.07107107,  1.08108108,  1.09109109,\n",
       "        1.1011011 ,  1.11111111,  1.12112112,  1.13113113,  1.14114114,\n",
       "        1.15115115,  1.16116116,  1.17117117,  1.18118118,  1.19119119,\n",
       "        1.2012012 ,  1.21121121,  1.22122122,  1.23123123,  1.24124124,\n",
       "        1.25125125,  1.26126126,  1.27127127,  1.28128128,  1.29129129,\n",
       "        1.3013013 ,  1.31131131,  1.32132132,  1.33133133,  1.34134134,\n",
       "        1.35135135,  1.36136136,  1.37137137,  1.38138138,  1.39139139,\n",
       "        1.4014014 ,  1.41141141,  1.42142142,  1.43143143,  1.44144144,\n",
       "        1.45145145,  1.46146146,  1.47147147,  1.48148148,  1.49149149,\n",
       "        1.5015015 ,  1.51151151,  1.52152152,  1.53153153,  1.54154154,\n",
       "        1.55155155,  1.56156156,  1.57157157,  1.58158158,  1.59159159,\n",
       "        1.6016016 ,  1.61161161,  1.62162162,  1.63163163,  1.64164164,\n",
       "        1.65165165,  1.66166166,  1.67167167,  1.68168168,  1.69169169,\n",
       "        1.7017017 ,  1.71171171,  1.72172172,  1.73173173,  1.74174174,\n",
       "        1.75175175,  1.76176176,  1.77177177,  1.78178178,  1.79179179,\n",
       "        1.8018018 ,  1.81181181,  1.82182182,  1.83183183,  1.84184184,\n",
       "        1.85185185,  1.86186186,  1.87187187,  1.88188188,  1.89189189,\n",
       "        1.9019019 ,  1.91191191,  1.92192192,  1.93193193,  1.94194194,\n",
       "        1.95195195,  1.96196196,  1.97197197,  1.98198198,  1.99199199,\n",
       "        2.002002  ,  2.01201201,  2.02202202,  2.03203203,  2.04204204,\n",
       "        2.05205205,  2.06206206,  2.07207207,  2.08208208,  2.09209209,\n",
       "        2.1021021 ,  2.11211211,  2.12212212,  2.13213213,  2.14214214,\n",
       "        2.15215215,  2.16216216,  2.17217217,  2.18218218,  2.19219219,\n",
       "        2.2022022 ,  2.21221221,  2.22222222,  2.23223223,  2.24224224,\n",
       "        2.25225225,  2.26226226,  2.27227227,  2.28228228,  2.29229229,\n",
       "        2.3023023 ,  2.31231231,  2.32232232,  2.33233233,  2.34234234,\n",
       "        2.35235235,  2.36236236,  2.37237237,  2.38238238,  2.39239239,\n",
       "        2.4024024 ,  2.41241241,  2.42242242,  2.43243243,  2.44244244,\n",
       "        2.45245245,  2.46246246,  2.47247247,  2.48248248,  2.49249249,\n",
       "        2.5025025 ,  2.51251251,  2.52252252,  2.53253253,  2.54254254,\n",
       "        2.55255255,  2.56256256,  2.57257257,  2.58258258,  2.59259259,\n",
       "        2.6026026 ,  2.61261261,  2.62262262,  2.63263263,  2.64264264,\n",
       "        2.65265265,  2.66266266,  2.67267267,  2.68268268,  2.69269269,\n",
       "        2.7027027 ,  2.71271271,  2.72272272,  2.73273273,  2.74274274,\n",
       "        2.75275275,  2.76276276,  2.77277277,  2.78278278,  2.79279279,\n",
       "        2.8028028 ,  2.81281281,  2.82282282,  2.83283283,  2.84284284,\n",
       "        2.85285285,  2.86286286,  2.87287287,  2.88288288,  2.89289289,\n",
       "        2.9029029 ,  2.91291291,  2.92292292,  2.93293293,  2.94294294,\n",
       "        2.95295295,  2.96296296,  2.97297297,  2.98298298,  2.99299299,\n",
       "        3.003003  ,  3.01301301,  3.02302302,  3.03303303,  3.04304304,\n",
       "        3.05305305,  3.06306306,  3.07307307,  3.08308308,  3.09309309,\n",
       "        3.1031031 ,  3.11311311,  3.12312312,  3.13313313,  3.14314314,\n",
       "        3.15315315,  3.16316316,  3.17317317,  3.18318318,  3.19319319,\n",
       "        3.2032032 ,  3.21321321,  3.22322322,  3.23323323,  3.24324324,\n",
       "        3.25325325,  3.26326326,  3.27327327,  3.28328328,  3.29329329,\n",
       "        3.3033033 ,  3.31331331,  3.32332332,  3.33333333,  3.34334334,\n",
       "        3.35335335,  3.36336336,  3.37337337,  3.38338338,  3.39339339,\n",
       "        3.4034034 ,  3.41341341,  3.42342342,  3.43343343,  3.44344344,\n",
       "        3.45345345,  3.46346346,  3.47347347,  3.48348348,  3.49349349,\n",
       "        3.5035035 ,  3.51351351,  3.52352352,  3.53353353,  3.54354354,\n",
       "        3.55355355,  3.56356356,  3.57357357,  3.58358358,  3.59359359,\n",
       "        3.6036036 ,  3.61361361,  3.62362362,  3.63363363,  3.64364364,\n",
       "        3.65365365,  3.66366366,  3.67367367,  3.68368368,  3.69369369,\n",
       "        3.7037037 ,  3.71371371,  3.72372372,  3.73373373,  3.74374374,\n",
       "        3.75375375,  3.76376376,  3.77377377,  3.78378378,  3.79379379,\n",
       "        3.8038038 ,  3.81381381,  3.82382382,  3.83383383,  3.84384384,\n",
       "        3.85385385,  3.86386386,  3.87387387,  3.88388388,  3.89389389,\n",
       "        3.9039039 ,  3.91391391,  3.92392392,  3.93393393,  3.94394394,\n",
       "        3.95395395,  3.96396396,  3.97397397,  3.98398398,  3.99399399,\n",
       "        4.004004  ,  4.01401401,  4.02402402,  4.03403403,  4.04404404,\n",
       "        4.05405405,  4.06406406,  4.07407407,  4.08408408,  4.09409409,\n",
       "        4.1041041 ,  4.11411411,  4.12412412,  4.13413413,  4.14414414,\n",
       "        4.15415415,  4.16416416,  4.17417417,  4.18418418,  4.19419419,\n",
       "        4.2042042 ,  4.21421421,  4.22422422,  4.23423423,  4.24424424,\n",
       "        4.25425425,  4.26426426,  4.27427427,  4.28428428,  4.29429429,\n",
       "        4.3043043 ,  4.31431431,  4.32432432,  4.33433433,  4.34434434,\n",
       "        4.35435435,  4.36436436,  4.37437437,  4.38438438,  4.39439439,\n",
       "        4.4044044 ,  4.41441441,  4.42442442,  4.43443443,  4.44444444,\n",
       "        4.45445445,  4.46446446,  4.47447447,  4.48448448,  4.49449449,\n",
       "        4.5045045 ,  4.51451451,  4.52452452,  4.53453453,  4.54454454,\n",
       "        4.55455455,  4.56456456,  4.57457457,  4.58458458,  4.59459459,\n",
       "        4.6046046 ,  4.61461461,  4.62462462,  4.63463463,  4.64464464,\n",
       "        4.65465465,  4.66466466,  4.67467467,  4.68468468,  4.69469469,\n",
       "        4.7047047 ,  4.71471471,  4.72472472,  4.73473473,  4.74474474,\n",
       "        4.75475475,  4.76476476,  4.77477477,  4.78478478,  4.79479479,\n",
       "        4.8048048 ,  4.81481481,  4.82482482,  4.83483483,  4.84484484,\n",
       "        4.85485485,  4.86486486,  4.87487487,  4.88488488,  4.89489489,\n",
       "        4.9049049 ,  4.91491491,  4.92492492,  4.93493493,  4.94494494,\n",
       "        4.95495495,  4.96496496,  4.97497497,  4.98498498,  4.99499499,\n",
       "        5.00500501,  5.01501502,  5.02502503,  5.03503504,  5.04504505,\n",
       "        5.05505506,  5.06506507,  5.07507508,  5.08508509,  5.0950951 ,\n",
       "        5.10510511,  5.11511512,  5.12512513,  5.13513514,  5.14514515,\n",
       "        5.15515516,  5.16516517,  5.17517518,  5.18518519,  5.1951952 ,\n",
       "        5.20520521,  5.21521522,  5.22522523,  5.23523524,  5.24524525,\n",
       "        5.25525526,  5.26526527,  5.27527528,  5.28528529,  5.2952953 ,\n",
       "        5.30530531,  5.31531532,  5.32532533,  5.33533534,  5.34534535,\n",
       "        5.35535536,  5.36536537,  5.37537538,  5.38538539,  5.3953954 ,\n",
       "        5.40540541,  5.41541542,  5.42542543,  5.43543544,  5.44544545,\n",
       "        5.45545546,  5.46546547,  5.47547548,  5.48548549,  5.4954955 ,\n",
       "        5.50550551,  5.51551552,  5.52552553,  5.53553554,  5.54554555,\n",
       "        5.55555556,  5.56556557,  5.57557558,  5.58558559,  5.5955956 ,\n",
       "        5.60560561,  5.61561562,  5.62562563,  5.63563564,  5.64564565,\n",
       "        5.65565566,  5.66566567,  5.67567568,  5.68568569,  5.6956957 ,\n",
       "        5.70570571,  5.71571572,  5.72572573,  5.73573574,  5.74574575,\n",
       "        5.75575576,  5.76576577,  5.77577578,  5.78578579,  5.7957958 ,\n",
       "        5.80580581,  5.81581582,  5.82582583,  5.83583584,  5.84584585,\n",
       "        5.85585586,  5.86586587,  5.87587588,  5.88588589,  5.8958959 ,\n",
       "        5.90590591,  5.91591592,  5.92592593,  5.93593594,  5.94594595,\n",
       "        5.95595596,  5.96596597,  5.97597598,  5.98598599,  5.995996  ,\n",
       "        6.00600601,  6.01601602,  6.02602603,  6.03603604,  6.04604605,\n",
       "        6.05605606,  6.06606607,  6.07607608,  6.08608609,  6.0960961 ,\n",
       "        6.10610611,  6.11611612,  6.12612613,  6.13613614,  6.14614615,\n",
       "        6.15615616,  6.16616617,  6.17617618,  6.18618619,  6.1961962 ,\n",
       "        6.20620621,  6.21621622,  6.22622623,  6.23623624,  6.24624625,\n",
       "        6.25625626,  6.26626627,  6.27627628,  6.28628629,  6.2962963 ,\n",
       "        6.30630631,  6.31631632,  6.32632633,  6.33633634,  6.34634635,\n",
       "        6.35635636,  6.36636637,  6.37637638,  6.38638639,  6.3963964 ,\n",
       "        6.40640641,  6.41641642,  6.42642643,  6.43643644,  6.44644645,\n",
       "        6.45645646,  6.46646647,  6.47647648,  6.48648649,  6.4964965 ,\n",
       "        6.50650651,  6.51651652,  6.52652653,  6.53653654,  6.54654655,\n",
       "        6.55655656,  6.56656657,  6.57657658,  6.58658659,  6.5965966 ,\n",
       "        6.60660661,  6.61661662,  6.62662663,  6.63663664,  6.64664665,\n",
       "        6.65665666,  6.66666667,  6.67667668,  6.68668669,  6.6966967 ,\n",
       "        6.70670671,  6.71671672,  6.72672673,  6.73673674,  6.74674675,\n",
       "        6.75675676,  6.76676677,  6.77677678,  6.78678679,  6.7967968 ,\n",
       "        6.80680681,  6.81681682,  6.82682683,  6.83683684,  6.84684685,\n",
       "        6.85685686,  6.86686687,  6.87687688,  6.88688689,  6.8968969 ,\n",
       "        6.90690691,  6.91691692,  6.92692693,  6.93693694,  6.94694695,\n",
       "        6.95695696,  6.96696697,  6.97697698,  6.98698699,  6.996997  ,\n",
       "        7.00700701,  7.01701702,  7.02702703,  7.03703704,  7.04704705,\n",
       "        7.05705706,  7.06706707,  7.07707708,  7.08708709,  7.0970971 ,\n",
       "        7.10710711,  7.11711712,  7.12712713,  7.13713714,  7.14714715,\n",
       "        7.15715716,  7.16716717,  7.17717718,  7.18718719,  7.1971972 ,\n",
       "        7.20720721,  7.21721722,  7.22722723,  7.23723724,  7.24724725,\n",
       "        7.25725726,  7.26726727,  7.27727728,  7.28728729,  7.2972973 ,\n",
       "        7.30730731,  7.31731732,  7.32732733,  7.33733734,  7.34734735,\n",
       "        7.35735736,  7.36736737,  7.37737738,  7.38738739,  7.3973974 ,\n",
       "        7.40740741,  7.41741742,  7.42742743,  7.43743744,  7.44744745,\n",
       "        7.45745746,  7.46746747,  7.47747748,  7.48748749,  7.4974975 ,\n",
       "        7.50750751,  7.51751752,  7.52752753,  7.53753754,  7.54754755,\n",
       "        7.55755756,  7.56756757,  7.57757758,  7.58758759,  7.5975976 ,\n",
       "        7.60760761,  7.61761762,  7.62762763,  7.63763764,  7.64764765,\n",
       "        7.65765766,  7.66766767,  7.67767768,  7.68768769,  7.6976977 ,\n",
       "        7.70770771,  7.71771772,  7.72772773,  7.73773774,  7.74774775,\n",
       "        7.75775776,  7.76776777,  7.77777778,  7.78778779,  7.7977978 ,\n",
       "        7.80780781,  7.81781782,  7.82782783,  7.83783784,  7.84784785,\n",
       "        7.85785786,  7.86786787,  7.87787788,  7.88788789,  7.8978979 ,\n",
       "        7.90790791,  7.91791792,  7.92792793,  7.93793794,  7.94794795,\n",
       "        7.95795796,  7.96796797,  7.97797798,  7.98798799,  7.997998  ,\n",
       "        8.00800801,  8.01801802,  8.02802803,  8.03803804,  8.04804805,\n",
       "        8.05805806,  8.06806807,  8.07807808,  8.08808809,  8.0980981 ,\n",
       "        8.10810811,  8.11811812,  8.12812813,  8.13813814,  8.14814815,\n",
       "        8.15815816,  8.16816817,  8.17817818,  8.18818819,  8.1981982 ,\n",
       "        8.20820821,  8.21821822,  8.22822823,  8.23823824,  8.24824825,\n",
       "        8.25825826,  8.26826827,  8.27827828,  8.28828829,  8.2982983 ,\n",
       "        8.30830831,  8.31831832,  8.32832833,  8.33833834,  8.34834835,\n",
       "        8.35835836,  8.36836837,  8.37837838,  8.38838839,  8.3983984 ,\n",
       "        8.40840841,  8.41841842,  8.42842843,  8.43843844,  8.44844845,\n",
       "        8.45845846,  8.46846847,  8.47847848,  8.48848849,  8.4984985 ,\n",
       "        8.50850851,  8.51851852,  8.52852853,  8.53853854,  8.54854855,\n",
       "        8.55855856,  8.56856857,  8.57857858,  8.58858859,  8.5985986 ,\n",
       "        8.60860861,  8.61861862,  8.62862863,  8.63863864,  8.64864865,\n",
       "        8.65865866,  8.66866867,  8.67867868,  8.68868869,  8.6986987 ,\n",
       "        8.70870871,  8.71871872,  8.72872873,  8.73873874,  8.74874875,\n",
       "        8.75875876,  8.76876877,  8.77877878,  8.78878879,  8.7987988 ,\n",
       "        8.80880881,  8.81881882,  8.82882883,  8.83883884,  8.84884885,\n",
       "        8.85885886,  8.86886887,  8.87887888,  8.88888889,  8.8988989 ,\n",
       "        8.90890891,  8.91891892,  8.92892893,  8.93893894,  8.94894895,\n",
       "        8.95895896,  8.96896897,  8.97897898,  8.98898899,  8.998999  ,\n",
       "        9.00900901,  9.01901902,  9.02902903,  9.03903904,  9.04904905,\n",
       "        9.05905906,  9.06906907,  9.07907908,  9.08908909,  9.0990991 ,\n",
       "        9.10910911,  9.11911912,  9.12912913,  9.13913914,  9.14914915,\n",
       "        9.15915916,  9.16916917,  9.17917918,  9.18918919,  9.1991992 ,\n",
       "        9.20920921,  9.21921922,  9.22922923,  9.23923924,  9.24924925,\n",
       "        9.25925926,  9.26926927,  9.27927928,  9.28928929,  9.2992993 ,\n",
       "        9.30930931,  9.31931932,  9.32932933,  9.33933934,  9.34934935,\n",
       "        9.35935936,  9.36936937,  9.37937938,  9.38938939,  9.3993994 ,\n",
       "        9.40940941,  9.41941942,  9.42942943,  9.43943944,  9.44944945,\n",
       "        9.45945946,  9.46946947,  9.47947948,  9.48948949,  9.4994995 ,\n",
       "        9.50950951,  9.51951952,  9.52952953,  9.53953954,  9.54954955,\n",
       "        9.55955956,  9.56956957,  9.57957958,  9.58958959,  9.5995996 ,\n",
       "        9.60960961,  9.61961962,  9.62962963,  9.63963964,  9.64964965,\n",
       "        9.65965966,  9.66966967,  9.67967968,  9.68968969,  9.6996997 ,\n",
       "        9.70970971,  9.71971972,  9.72972973,  9.73973974,  9.74974975,\n",
       "        9.75975976,  9.76976977,  9.77977978,  9.78978979,  9.7997998 ,\n",
       "        9.80980981,  9.81981982,  9.82982983,  9.83983984,  9.84984985,\n",
       "        9.85985986,  9.86986987,  9.87987988,  9.88988989,  9.8998999 ,\n",
       "        9.90990991,  9.91991992,  9.92992993,  9.93993994,  9.94994995,\n",
       "        9.95995996,  9.96996997,  9.97997998,  9.98998999, 10.        ])"
      ]
     },
     "execution_count": 121,
     "metadata": {},
     "output_type": "execute_result"
    }
   ],
   "source": [
    "np.linspace(0,10,1000)"
   ]
  },
  {
   "cell_type": "code",
   "execution_count": null,
   "metadata": {},
   "outputs": [],
   "source": []
  },
  {
   "cell_type": "code",
   "execution_count": 122,
   "metadata": {},
   "outputs": [
    {
     "data": {
      "text/plain": [
       "array([[1., 0., 0., 0., 0., 0., 0., 0., 0., 0.],\n",
       "       [0., 1., 0., 0., 0., 0., 0., 0., 0., 0.],\n",
       "       [0., 0., 1., 0., 0., 0., 0., 0., 0., 0.],\n",
       "       [0., 0., 0., 1., 0., 0., 0., 0., 0., 0.],\n",
       "       [0., 0., 0., 0., 1., 0., 0., 0., 0., 0.],\n",
       "       [0., 0., 0., 0., 0., 1., 0., 0., 0., 0.],\n",
       "       [0., 0., 0., 0., 0., 0., 1., 0., 0., 0.],\n",
       "       [0., 0., 0., 0., 0., 0., 0., 1., 0., 0.],\n",
       "       [0., 0., 0., 0., 0., 0., 0., 0., 1., 0.],\n",
       "       [0., 0., 0., 0., 0., 0., 0., 0., 0., 1.]])"
      ]
     },
     "execution_count": 122,
     "metadata": {},
     "output_type": "execute_result"
    }
   ],
=======
   "execution_count": null,
   "id": "terminal-settle",
   "metadata": {},
   "outputs": [],
>>>>>>> 9bcb85082bee3521929bbc33123fdb6b165afb33
   "source": [
    "np.eye(10)"
   ]
  },
  {
<<<<<<< HEAD
   "cell_type": "code",
   "execution_count": null,
   "metadata": {},
   "outputs": [],
   "source": []
  },
  {
   "cell_type": "markdown",
=======
   "cell_type": "markdown",
   "id": "stock-telescope",
>>>>>>> 9bcb85082bee3521929bbc33123fdb6b165afb33
   "metadata": {},
   "source": [
    "# Inspecting your numpy array"
   ]
  },
  {
   "cell_type": "code",
<<<<<<< HEAD
   "execution_count": 123,
   "metadata": {},
   "outputs": [
    {
     "data": {
      "text/plain": [
       "array([ 0.,  1.,  2.,  3.,  4.,  5.,  6.,  7.,  8.,  9., 10.])"
      ]
     },
     "execution_count": 123,
     "metadata": {},
     "output_type": "execute_result"
    }
   ],
=======
   "execution_count": null,
   "id": "green-valley",
   "metadata": {},
   "outputs": [],
>>>>>>> 9bcb85082bee3521929bbc33123fdb6b165afb33
   "source": [
    "a = np.linspace(0,10,11)\n",
    "a"
   ]
  },
  {
   "cell_type": "code",
<<<<<<< HEAD
   "execution_count": 124,
   "metadata": {},
   "outputs": [
    {
     "data": {
      "text/plain": [
       "(11,)"
      ]
     },
     "execution_count": 124,
     "metadata": {},
     "output_type": "execute_result"
    }
   ],
=======
   "execution_count": null,
   "id": "spiritual-california",
   "metadata": {},
   "outputs": [],
>>>>>>> 9bcb85082bee3521929bbc33123fdb6b165afb33
   "source": [
    "a.shape"
   ]
  },
  {
   "cell_type": "code",
<<<<<<< HEAD
   "execution_count": 125,
   "metadata": {},
   "outputs": [
    {
     "data": {
      "text/plain": [
       "11"
      ]
     },
     "execution_count": 125,
     "metadata": {},
     "output_type": "execute_result"
    }
   ],
=======
   "execution_count": null,
   "id": "happy-brake",
   "metadata": {},
   "outputs": [],
>>>>>>> 9bcb85082bee3521929bbc33123fdb6b165afb33
   "source": [
    "len(a)"
   ]
  },
  {
   "cell_type": "code",
<<<<<<< HEAD
   "execution_count": 126,
   "metadata": {},
   "outputs": [
    {
     "data": {
      "text/plain": [
       "1"
      ]
     },
     "execution_count": 126,
     "metadata": {},
     "output_type": "execute_result"
    }
   ],
=======
   "execution_count": null,
   "id": "neutral-template",
   "metadata": {},
   "outputs": [],
>>>>>>> 9bcb85082bee3521929bbc33123fdb6b165afb33
   "source": [
    "a.ndim"
   ]
  },
  {
   "cell_type": "code",
<<<<<<< HEAD
   "execution_count": 127,
   "metadata": {},
   "outputs": [
    {
     "data": {
      "text/plain": [
       "11"
      ]
     },
     "execution_count": 127,
     "metadata": {},
     "output_type": "execute_result"
    }
   ],
=======
   "execution_count": null,
   "id": "public-wallace",
   "metadata": {},
   "outputs": [],
>>>>>>> 9bcb85082bee3521929bbc33123fdb6b165afb33
   "source": [
    "a.size"
   ]
  },
  {
   "cell_type": "code",
<<<<<<< HEAD
   "execution_count": 128,
   "metadata": {},
   "outputs": [
    {
     "data": {
      "text/plain": [
       "dtype('float64')"
      ]
     },
     "execution_count": 128,
     "metadata": {},
     "output_type": "execute_result"
    }
   ],
=======
   "execution_count": null,
   "id": "radio-twelve",
   "metadata": {},
   "outputs": [],
>>>>>>> 9bcb85082bee3521929bbc33123fdb6b165afb33
   "source": [
    "a.dtype"
   ]
  },
  {
   "cell_type": "code",
<<<<<<< HEAD
   "execution_count": 129,
   "metadata": {},
   "outputs": [
    {
     "data": {
      "text/plain": [
       "array([ 0,  1,  2,  3,  4,  5,  6,  7,  8,  9, 10])"
      ]
     },
     "execution_count": 129,
     "metadata": {},
     "output_type": "execute_result"
    }
   ],
=======
   "execution_count": null,
   "id": "christian-isolation",
   "metadata": {},
   "outputs": [],
>>>>>>> 9bcb85082bee3521929bbc33123fdb6b165afb33
   "source": [
    "a.astype(int)"
   ]
  },
  {
   "cell_type": "markdown",
<<<<<<< HEAD
=======
   "id": "exceptional-chamber",
>>>>>>> 9bcb85082bee3521929bbc33123fdb6b165afb33
   "metadata": {},
   "source": [
    "# Broadcasting\n",
    "\n",
    "Instead of looping through a `np.array`, we can simply perform arithmetic operations and each element will be affected"
   ]
  },
  {
   "cell_type": "code",
<<<<<<< HEAD
   "execution_count": 130,
   "metadata": {},
   "outputs": [],
   "source": [
    "# doesnt mutate original array, as a copy, returns numpy array"
   ]
  },
  {
   "cell_type": "code",
   "execution_count": 131,
   "metadata": {},
   "outputs": [
    {
     "data": {
      "text/plain": [
       "array([ 0.,  1.,  2.,  3.,  4.,  5.,  6.,  7.,  8.,  9., 10.])"
      ]
     },
     "execution_count": 131,
     "metadata": {},
     "output_type": "execute_result"
    }
   ],
   "source": [
=======
   "execution_count": null,
   "id": "unlimited-honor",
   "metadata": {},
   "outputs": [],
   "source": [
>>>>>>> 9bcb85082bee3521929bbc33123fdb6b165afb33
    "a"
   ]
  },
  {
   "cell_type": "code",
<<<<<<< HEAD
   "execution_count": 132,
   "metadata": {},
   "outputs": [
    {
     "data": {
      "text/plain": [
       "array([  0.,   1.,   4.,   9.,  16.,  25.,  36.,  49.,  64.,  81., 100.])"
      ]
     },
     "execution_count": 132,
     "metadata": {},
     "output_type": "execute_result"
    }
   ],
=======
   "execution_count": null,
   "id": "scenic-pattern",
   "metadata": {},
   "outputs": [],
>>>>>>> 9bcb85082bee3521929bbc33123fdb6b165afb33
   "source": [
    "a ** 2"
   ]
  },
  {
   "cell_type": "code",
<<<<<<< HEAD
   "execution_count": 133,
   "metadata": {},
   "outputs": [
    {
     "data": {
      "text/plain": [
       "array([ 5.,  6.,  7.,  8.,  9., 10., 11., 12., 13., 14., 15.])"
      ]
     },
     "execution_count": 133,
     "metadata": {},
     "output_type": "execute_result"
    }
   ],
=======
   "execution_count": null,
   "id": "numeric-mechanism",
   "metadata": {},
   "outputs": [],
>>>>>>> 9bcb85082bee3521929bbc33123fdb6b165afb33
   "source": [
    "a + 5"
   ]
  },
  {
   "cell_type": "code",
<<<<<<< HEAD
   "execution_count": 134,
   "metadata": {},
   "outputs": [
    {
     "data": {
      "text/plain": [
       "array([0. , 0.1, 0.2, 0.3, 0.4, 0.5, 0.6, 0.7, 0.8, 0.9, 1. ])"
      ]
     },
     "execution_count": 134,
     "metadata": {},
     "output_type": "execute_result"
    }
   ],
=======
   "execution_count": null,
   "id": "suburban-mistress",
   "metadata": {},
   "outputs": [],
>>>>>>> 9bcb85082bee3521929bbc33123fdb6b165afb33
   "source": [
    "a / 10"
   ]
  },
  {
   "cell_type": "code",
<<<<<<< HEAD
   "execution_count": 135,
   "metadata": {},
   "outputs": [
    {
     "data": {
      "text/plain": [
       "array([   0.,  100.,  200.,  300.,  400.,  500.,  600.,  700.,  800.,\n",
       "        900., 1000.])"
      ]
     },
     "execution_count": 135,
     "metadata": {},
     "output_type": "execute_result"
    }
   ],
=======
   "execution_count": null,
   "id": "ethical-formula",
   "metadata": {},
   "outputs": [],
>>>>>>> 9bcb85082bee3521929bbc33123fdb6b165afb33
   "source": [
    "a * 100"
   ]
  },
  {
   "cell_type": "markdown",
<<<<<<< HEAD
=======
   "id": "acknowledged-buying",
>>>>>>> 9bcb85082bee3521929bbc33123fdb6b165afb33
   "metadata": {},
   "source": [
    "### Special math functions\n",
    "\n",
    "These aren't broadcasted. Same indexed elements are computed together."
   ]
  },
  {
   "cell_type": "code",
<<<<<<< HEAD
   "execution_count": 136,
   "metadata": {},
   "outputs": [
    {
     "data": {
      "text/plain": [
       "array([ 0.,  1.,  2.,  3.,  4.,  5.,  6.,  7.,  8.,  9., 10.])"
      ]
     },
     "execution_count": 136,
     "metadata": {},
     "output_type": "execute_result"
    }
   ],
=======
   "execution_count": null,
   "id": "organic-spank",
   "metadata": {},
   "outputs": [],
>>>>>>> 9bcb85082bee3521929bbc33123fdb6b165afb33
   "source": [
    "a"
   ]
  },
  {
   "cell_type": "code",
<<<<<<< HEAD
   "execution_count": 137,
   "metadata": {},
   "outputs": [
    {
     "data": {
      "text/plain": [
       "array([ 5,  6,  7,  8,  9, 10, 11, 12, 13, 14, 15])"
      ]
     },
     "execution_count": 137,
     "metadata": {},
     "output_type": "execute_result"
    }
   ],
=======
   "execution_count": null,
   "id": "whole-safety",
   "metadata": {},
   "outputs": [],
>>>>>>> 9bcb85082bee3521929bbc33123fdb6b165afb33
   "source": [
    "b = np.arange(5,16,1)\n",
    "b"
   ]
  },
  {
   "cell_type": "code",
<<<<<<< HEAD
   "execution_count": 138,
   "metadata": {},
   "outputs": [
    {
     "data": {
      "text/plain": [
       "array([ 5.,  7.,  9., 11., 13., 15., 17., 19., 21., 23., 25.])"
      ]
     },
     "execution_count": 138,
     "metadata": {},
     "output_type": "execute_result"
    }
   ],
=======
   "execution_count": null,
   "id": "facial-finnish",
   "metadata": {},
   "outputs": [],
>>>>>>> 9bcb85082bee3521929bbc33123fdb6b165afb33
   "source": [
    "np.add(a,b)"
   ]
  },
  {
   "cell_type": "code",
<<<<<<< HEAD
   "execution_count": 139,
   "metadata": {},
   "outputs": [
    {
     "data": {
      "text/plain": [
       "array([-5., -5., -5., -5., -5., -5., -5., -5., -5., -5., -5.])"
      ]
     },
     "execution_count": 139,
     "metadata": {},
     "output_type": "execute_result"
    }
   ],
   "source": [
    "np.subtract(a,b)"
   ]
  },
  {
   "cell_type": "code",
   "execution_count": 140,
   "metadata": {},
   "outputs": [
    {
     "data": {
      "text/plain": [
       "array([-4., -3., -2., -1.,  0.,  1.,  2.,  3.,  4.,  5.,  6.])"
      ]
     },
     "execution_count": 140,
     "metadata": {},
     "output_type": "execute_result"
    }
   ],
   "source": [
    "# with scalar\n",
    "np.subtract(a,4)"
=======
   "execution_count": null,
   "id": "apparent-fraction",
   "metadata": {},
   "outputs": [],
   "source": [
    "np.subtract(a,b)"
>>>>>>> 9bcb85082bee3521929bbc33123fdb6b165afb33
   ]
  },
  {
   "cell_type": "code",
<<<<<<< HEAD
   "execution_count": 141,
   "metadata": {},
   "outputs": [
    {
     "data": {
      "text/plain": [
       "array([-4., -3., -2., -1.,  0.,  1.,  2.,  3.,  4.,  5.,  6.])"
      ]
     },
     "execution_count": 141,
     "metadata": {},
     "output_type": "execute_result"
    }
   ],
   "source": [
    "a -4"
   ]
  },
  {
   "cell_type": "code",
   "execution_count": 142,
   "metadata": {},
   "outputs": [
    {
     "data": {
      "text/plain": [
       "array([0.        , 0.16666667, 0.28571429, 0.375     , 0.44444444,\n",
       "       0.5       , 0.54545455, 0.58333333, 0.61538462, 0.64285714,\n",
       "       0.66666667])"
      ]
     },
     "execution_count": 142,
     "metadata": {},
     "output_type": "execute_result"
    }
   ],
=======
   "execution_count": null,
   "id": "similar-evidence",
   "metadata": {},
   "outputs": [],
>>>>>>> 9bcb85082bee3521929bbc33123fdb6b165afb33
   "source": [
    "np.divide(a,b)"
   ]
  },
  {
   "cell_type": "code",
<<<<<<< HEAD
   "execution_count": 143,
   "metadata": {},
   "outputs": [
    {
     "name": "stderr",
     "output_type": "stream",
     "text": [
      "<ipython-input-143-ed7dea1dc76b>:1: RuntimeWarning: divide by zero encountered in true_divide\n",
      "  np.divide(b,a)\n"
     ]
    },
    {
     "data": {
      "text/plain": [
       "array([       inf, 6.        , 3.5       , 2.66666667, 2.25      ,\n",
       "       2.        , 1.83333333, 1.71428571, 1.625     , 1.55555556,\n",
       "       1.5       ])"
      ]
     },
     "execution_count": 143,
     "metadata": {},
     "output_type": "execute_result"
    }
   ],
   "source": [
    "np.divide(b,a)"
   ]
  },
  {
   "cell_type": "code",
   "execution_count": 144,
   "metadata": {},
   "outputs": [
    {
     "data": {
      "text/plain": [
       "array([  0.,   6.,  14.,  24.,  36.,  50.,  66.,  84., 104., 126., 150.])"
      ]
     },
     "execution_count": 144,
     "metadata": {},
     "output_type": "execute_result"
    }
   ],
=======
   "execution_count": null,
   "id": "assumed-invention",
   "metadata": {},
   "outputs": [],
>>>>>>> 9bcb85082bee3521929bbc33123fdb6b165afb33
   "source": [
    "np.multiply(a,b)"
   ]
  },
  {
   "cell_type": "code",
<<<<<<< HEAD
   "execution_count": 145,
   "metadata": {},
   "outputs": [
    {
     "data": {
      "text/plain": [
       "array([1.00000000e+00, 2.71828183e+00, 7.38905610e+00, 2.00855369e+01,\n",
       "       5.45981500e+01, 1.48413159e+02, 4.03428793e+02, 1.09663316e+03,\n",
       "       2.98095799e+03, 8.10308393e+03, 2.20264658e+04])"
      ]
     },
     "execution_count": 145,
     "metadata": {},
     "output_type": "execute_result"
    }
   ],
=======
   "execution_count": null,
   "id": "efficient-estonia",
   "metadata": {},
   "outputs": [],
>>>>>>> 9bcb85082bee3521929bbc33123fdb6b165afb33
   "source": [
    "np.exp(a)"
   ]
  },
  {
   "cell_type": "code",
<<<<<<< HEAD
   "execution_count": 146,
   "metadata": {},
   "outputs": [
    {
     "data": {
      "text/plain": [
       "array([0.        , 1.        , 1.41421356, 1.73205081, 2.        ,\n",
       "       2.23606798, 2.44948974, 2.64575131, 2.82842712, 3.        ,\n",
       "       3.16227766])"
      ]
     },
     "execution_count": 146,
     "metadata": {},
     "output_type": "execute_result"
    }
   ],
=======
   "execution_count": null,
   "id": "atmospheric-literature",
   "metadata": {},
   "outputs": [],
>>>>>>> 9bcb85082bee3521929bbc33123fdb6b165afb33
   "source": [
    "np.sqrt(a)"
   ]
  },
  {
   "cell_type": "code",
<<<<<<< HEAD
   "execution_count": 147,
   "metadata": {},
   "outputs": [
    {
     "data": {
      "text/plain": [
       "array([ 0.        ,  0.84147098,  0.90929743,  0.14112001, -0.7568025 ,\n",
       "       -0.95892427, -0.2794155 ,  0.6569866 ,  0.98935825,  0.41211849,\n",
       "       -0.54402111])"
      ]
     },
     "execution_count": 147,
     "metadata": {},
     "output_type": "execute_result"
    }
   ],
=======
   "execution_count": null,
   "id": "assisted-forwarding",
   "metadata": {},
   "outputs": [],
>>>>>>> 9bcb85082bee3521929bbc33123fdb6b165afb33
   "source": [
    "np.sin(a)"
   ]
  },
  {
   "cell_type": "code",
<<<<<<< HEAD
   "execution_count": 148,
   "metadata": {},
   "outputs": [
    {
     "data": {
      "text/plain": [
       "array([ 0.28366219,  0.96017029,  0.75390225, -0.14550003, -0.91113026,\n",
       "       -0.83907153,  0.0044257 ,  0.84385396,  0.90744678,  0.13673722,\n",
       "       -0.75968791])"
      ]
     },
     "execution_count": 148,
     "metadata": {},
     "output_type": "execute_result"
    }
   ],
=======
   "execution_count": null,
   "id": "remarkable-planning",
   "metadata": {},
   "outputs": [],
>>>>>>> 9bcb85082bee3521929bbc33123fdb6b165afb33
   "source": [
    "np.cos(b)"
   ]
  },
  {
   "cell_type": "code",
<<<<<<< HEAD
   "execution_count": 149,
   "metadata": {},
   "outputs": [
    {
     "data": {
      "text/plain": [
       "array([1.60943791, 1.79175947, 1.94591015, 2.07944154, 2.19722458,\n",
       "       2.30258509, 2.39789527, 2.48490665, 2.56494936, 2.63905733,\n",
       "       2.7080502 ])"
      ]
     },
     "execution_count": 149,
     "metadata": {},
     "output_type": "execute_result"
    }
   ],
   "source": [
    "np.log(b) # logarithmic of the vals"
=======
   "execution_count": null,
   "id": "breeding-gibraltar",
   "metadata": {},
   "outputs": [],
   "source": [
    "np.log(b)"
>>>>>>> 9bcb85082bee3521929bbc33123fdb6b165afb33
   ]
  },
  {
   "cell_type": "code",
<<<<<<< HEAD
   "execution_count": 150,
   "metadata": {},
   "outputs": [
    {
     "data": {
      "text/plain": [
       "(array([[1, 2],\n",
       "        [3, 4]]), array([[1., 0.],\n",
       "        [0., 1.]]))"
      ]
     },
     "execution_count": 150,
     "metadata": {},
     "output_type": "execute_result"
    }
   ],
=======
   "execution_count": null,
   "id": "promotional-currency",
   "metadata": {},
   "outputs": [],
>>>>>>> 9bcb85082bee3521929bbc33123fdb6b165afb33
   "source": [
    "a = np.array([[1,2],[3,4]])\n",
    "b = np.eye(2)\n",
    "a, b"
   ]
  },
  {
   "cell_type": "code",
<<<<<<< HEAD
   "execution_count": 151,
   "metadata": {},
   "outputs": [
    {
     "data": {
      "text/plain": [
       "array([[1., 2.],\n",
       "       [3., 4.]])"
      ]
     },
     "execution_count": 151,
     "metadata": {},
     "output_type": "execute_result"
    }
   ],
=======
   "execution_count": null,
   "id": "marked-stephen",
   "metadata": {},
   "outputs": [],
>>>>>>> 9bcb85082bee3521929bbc33123fdb6b165afb33
   "source": [
    "a.dot(b)"
   ]
  },
  {
   "cell_type": "markdown",
<<<<<<< HEAD
=======
   "id": "printable-better",
>>>>>>> 9bcb85082bee3521929bbc33123fdb6b165afb33
   "metadata": {},
   "source": [
    "# Comparison"
   ]
  },
  {
   "cell_type": "code",
<<<<<<< HEAD
   "execution_count": 152,
   "metadata": {},
   "outputs": [
    {
     "data": {
      "text/plain": [
       "(array([[1, 2],\n",
       "        [3, 4]]), array([[1., 0.],\n",
       "        [0., 1.]]))"
      ]
     },
     "execution_count": 152,
     "metadata": {},
     "output_type": "execute_result"
    }
   ],
=======
   "execution_count": null,
   "id": "resistant-complaint",
   "metadata": {},
   "outputs": [],
>>>>>>> 9bcb85082bee3521929bbc33123fdb6b165afb33
   "source": [
    "a = np.array([[1,2],[3,4]])\n",
    "b = np.eye(2)\n",
    "a,b"
   ]
  },
  {
   "cell_type": "code",
<<<<<<< HEAD
   "execution_count": 153,
   "metadata": {},
   "outputs": [
    {
     "data": {
      "text/plain": [
       "array([[ True, False],\n",
       "       [False, False]])"
      ]
     },
     "execution_count": 153,
     "metadata": {},
     "output_type": "execute_result"
    }
   ],
=======
   "execution_count": null,
   "id": "worthy-companion",
   "metadata": {},
   "outputs": [],
>>>>>>> 9bcb85082bee3521929bbc33123fdb6b165afb33
   "source": [
    "a == b"
   ]
  },
  {
   "cell_type": "code",
<<<<<<< HEAD
   "execution_count": 154,
   "metadata": {},
   "outputs": [
    {
     "data": {
      "text/plain": [
       "array([1])"
      ]
     },
     "execution_count": 154,
     "metadata": {},
     "output_type": "execute_result"
    }
   ],
   "source": [
    "a[a == b]"
   ]
  },
  {
   "cell_type": "code",
   "execution_count": 155,
   "metadata": {},
   "outputs": [
    {
     "data": {
      "text/plain": [
       "array([[ True, False],\n",
       "       [False, False]])"
      ]
     },
     "execution_count": 155,
     "metadata": {},
     "output_type": "execute_result"
    }
   ],
=======
   "execution_count": null,
   "id": "prerequisite-tracy",
   "metadata": {},
   "outputs": [],
>>>>>>> 9bcb85082bee3521929bbc33123fdb6b165afb33
   "source": [
    "a < 2"
   ]
  },
  {
   "cell_type": "code",
<<<<<<< HEAD
   "execution_count": 156,
   "metadata": {},
   "outputs": [
    {
     "data": {
      "text/plain": [
       "array([1])"
      ]
     },
     "execution_count": 156,
     "metadata": {},
     "output_type": "execute_result"
    }
   ],
   "source": [
    "a[a < 2]"
   ]
  },
  {
   "cell_type": "code",
   "execution_count": 157,
   "metadata": {},
   "outputs": [
    {
     "data": {
      "text/plain": [
       "False"
      ]
     },
     "execution_count": 157,
     "metadata": {},
     "output_type": "execute_result"
    }
   ],
   "source": [
    "np.array_equal(a,b)    # give back yes or no if they are equal"
=======
   "execution_count": null,
   "id": "coastal-breeding",
   "metadata": {},
   "outputs": [],
   "source": [
    "np.array_equal(a,b)"
>>>>>>> 9bcb85082bee3521929bbc33123fdb6b165afb33
   ]
  },
  {
   "cell_type": "markdown",
<<<<<<< HEAD
=======
   "id": "executed-black",
>>>>>>> 9bcb85082bee3521929bbc33123fdb6b165afb33
   "metadata": {},
   "source": [
    "# Aggregate Functions"
   ]
  },
  {
   "cell_type": "code",
<<<<<<< HEAD
   "execution_count": 158,
   "metadata": {},
   "outputs": [
    {
     "data": {
      "text/plain": [
       "array([[1, 2],\n",
       "       [3, 4]])"
      ]
     },
     "execution_count": 158,
     "metadata": {},
     "output_type": "execute_result"
    }
   ],
=======
   "execution_count": null,
   "id": "senior-history",
   "metadata": {},
   "outputs": [],
>>>>>>> 9bcb85082bee3521929bbc33123fdb6b165afb33
   "source": [
    "a = np.array([[1,2],[3,4]])\n",
    "a"
   ]
  },
  {
   "cell_type": "code",
<<<<<<< HEAD
   "execution_count": 159,
   "metadata": {},
   "outputs": [
    {
     "data": {
      "text/plain": [
       "10"
      ]
     },
     "execution_count": 159,
     "metadata": {},
     "output_type": "execute_result"
    }
   ],
=======
   "execution_count": null,
   "id": "antique-assault",
   "metadata": {},
   "outputs": [],
>>>>>>> 9bcb85082bee3521929bbc33123fdb6b165afb33
   "source": [
    "a.sum()"
   ]
  },
  {
   "cell_type": "code",
<<<<<<< HEAD
   "execution_count": 160,
   "metadata": {},
   "outputs": [
    {
     "data": {
      "text/plain": [
       "1"
      ]
     },
     "execution_count": 160,
     "metadata": {},
     "output_type": "execute_result"
    }
   ],
   "source": [
    "a.min()  # of the entire array "
=======
   "execution_count": null,
   "id": "dynamic-republic",
   "metadata": {},
   "outputs": [],
   "source": [
    "a.min()"
>>>>>>> 9bcb85082bee3521929bbc33123fdb6b165afb33
   ]
  },
  {
   "cell_type": "code",
<<<<<<< HEAD
   "execution_count": 161,
   "metadata": {},
   "outputs": [
    {
     "data": {
      "text/plain": [
       "array([1, 2])"
      ]
     },
     "execution_count": 161,
     "metadata": {},
     "output_type": "execute_result"
    }
   ],
   "source": [
    "a.min(axis=0)"
=======
   "execution_count": null,
   "id": "unexpected-artwork",
   "metadata": {},
   "outputs": [],
   "source": [
    "a.max(axis=0)"
>>>>>>> 9bcb85082bee3521929bbc33123fdb6b165afb33
   ]
  },
  {
   "cell_type": "code",
<<<<<<< HEAD
   "execution_count": 162,
   "metadata": {},
   "outputs": [
    {
     "data": {
      "text/plain": [
       "array([3, 4])"
      ]
     },
     "execution_count": 162,
     "metadata": {},
     "output_type": "execute_result"
    }
   ],
   "source": [
    "a.max(axis=0)  # notice axis keyword, for each col"
   ]
  },
  {
   "cell_type": "code",
   "execution_count": 163,
   "metadata": {},
   "outputs": [
    {
     "data": {
      "text/plain": [
       "array([2, 4])"
      ]
     },
     "execution_count": 163,
     "metadata": {},
     "output_type": "execute_result"
    }
   ],
=======
   "execution_count": null,
   "id": "amazing-holmes",
   "metadata": {},
   "outputs": [],
>>>>>>> 9bcb85082bee3521929bbc33123fdb6b165afb33
   "source": [
    "a.max(axis=1)"
   ]
  },
  {
   "cell_type": "code",
<<<<<<< HEAD
   "execution_count": 164,
   "metadata": {},
   "outputs": [
    {
     "data": {
      "text/plain": [
       "array([[1, 2],\n",
       "       [4, 6]])"
      ]
     },
     "execution_count": 164,
     "metadata": {},
     "output_type": "execute_result"
    }
   ],
   "source": [
    "a.cumsum(axis=0) # by col"
=======
   "execution_count": null,
   "id": "purple-unknown",
   "metadata": {},
   "outputs": [],
   "source": [
    "a.cumsum(axis=0)"
>>>>>>> 9bcb85082bee3521929bbc33123fdb6b165afb33
   ]
  },
  {
   "cell_type": "code",
<<<<<<< HEAD
   "execution_count": 165,
   "metadata": {},
   "outputs": [
    {
     "data": {
      "text/plain": [
       "array([[1, 3],\n",
       "       [3, 7]])"
      ]
     },
     "execution_count": 165,
     "metadata": {},
     "output_type": "execute_result"
    }
   ],
   "source": [
    "a.cumsum(axis=1) # by row"
=======
   "execution_count": null,
   "id": "characteristic-silly",
   "metadata": {},
   "outputs": [],
   "source": [
    "a.cumsum(axis=1)"
>>>>>>> 9bcb85082bee3521929bbc33123fdb6b165afb33
   ]
  },
  {
   "cell_type": "code",
<<<<<<< HEAD
   "execution_count": 166,
   "metadata": {},
   "outputs": [
    {
     "data": {
      "text/plain": [
       "array([ 1,  3,  6, 10])"
      ]
     },
     "execution_count": 166,
     "metadata": {},
     "output_type": "execute_result"
    }
   ],
   "source": [
    "a.cumsum()"
   ]
  },
  {
   "cell_type": "code",
   "execution_count": 167,
   "metadata": {},
   "outputs": [
    {
     "data": {
      "text/plain": [
       "2.5"
      ]
     },
     "execution_count": 167,
     "metadata": {},
     "output_type": "execute_result"
    }
   ],
=======
   "execution_count": null,
   "id": "public-creek",
   "metadata": {},
   "outputs": [],
>>>>>>> 9bcb85082bee3521929bbc33123fdb6b165afb33
   "source": [
    "a.mean()"
   ]
  },
  {
   "cell_type": "code",
<<<<<<< HEAD
   "execution_count": 168,
   "metadata": {},
   "outputs": [
    {
     "data": {
      "text/plain": [
       "1.118033988749895"
      ]
     },
     "execution_count": 168,
     "metadata": {},
     "output_type": "execute_result"
    }
   ],
=======
   "execution_count": null,
   "id": "lucky-classics",
   "metadata": {},
   "outputs": [],
>>>>>>> 9bcb85082bee3521929bbc33123fdb6b165afb33
   "source": [
    "np.std(a)"
   ]
  },
  {
   "cell_type": "code",
<<<<<<< HEAD
   "execution_count": 169,
   "metadata": {},
   "outputs": [
    {
     "data": {
      "text/plain": [
       "array([[1, 2],\n",
       "       [3, 4]])"
      ]
     },
     "execution_count": 169,
     "metadata": {},
     "output_type": "execute_result"
    }
   ],
=======
   "execution_count": null,
   "id": "dying-conditions",
   "metadata": {},
   "outputs": [],
>>>>>>> 9bcb85082bee3521929bbc33123fdb6b165afb33
   "source": [
    "a.sort()\n",
    "a"
   ]
  },
  {
   "cell_type": "code",
<<<<<<< HEAD
   "execution_count": 170,
   "metadata": {},
   "outputs": [
    {
     "data": {
      "text/plain": [
       "array([[0, 1, 3],\n",
       "       [1, 2, 3]])"
      ]
     },
     "execution_count": 170,
     "metadata": {},
     "output_type": "execute_result"
    }
   ],
   "source": [
    "a = np.array([[1,0,3],[3,1,2]])\n",
    "a.sort(axis=1)\n",
=======
   "execution_count": null,
   "id": "driven-wonder",
   "metadata": {},
   "outputs": [],
   "source": [
    "a = np.array([[1,0,3],[3,1,2]])\n",
    "a.sort(axis=0)\n",
>>>>>>> 9bcb85082bee3521929bbc33123fdb6b165afb33
    "a"
   ]
  },
  {
   "cell_type": "code",
<<<<<<< HEAD
   "execution_count": 171,
   "metadata": {},
   "outputs": [
    {
     "data": {
      "text/plain": [
       "array([[0, 1, 3],\n",
       "       [1, 2, 3]])"
      ]
     },
     "execution_count": 171,
     "metadata": {},
     "output_type": "execute_result"
    }
   ],
=======
   "execution_count": null,
   "id": "seventh-syndication",
   "metadata": {},
   "outputs": [],
>>>>>>> 9bcb85082bee3521929bbc33123fdb6b165afb33
   "source": [
    "a.sort(axis=1)\n",
    "a"
   ]
  },
  {
   "cell_type": "markdown",
<<<<<<< HEAD
=======
   "id": "perceived-spirit",
>>>>>>> 9bcb85082bee3521929bbc33123fdb6b165afb33
   "metadata": {},
   "source": [
    "### Slicing/Indexing"
   ]
  },
  {
   "cell_type": "code",
<<<<<<< HEAD
   "execution_count": 172,
   "metadata": {},
   "outputs": [
    {
     "data": {
      "text/plain": [
       "array([[1, 0, 3],\n",
       "       [3, 1, 2]])"
      ]
     },
     "execution_count": 172,
     "metadata": {},
     "output_type": "execute_result"
    }
   ],
=======
   "execution_count": null,
   "id": "interesting-heavy",
   "metadata": {},
   "outputs": [],
>>>>>>> 9bcb85082bee3521929bbc33123fdb6b165afb33
   "source": [
    "a = np.array([[1,0,3],[3,1,2]])\n",
    "a"
   ]
  },
  {
   "cell_type": "code",
<<<<<<< HEAD
   "execution_count": 173,
   "metadata": {},
   "outputs": [
    {
     "data": {
      "text/plain": [
       "array([3, 1, 2])"
      ]
     },
     "execution_count": 173,
     "metadata": {},
     "output_type": "execute_result"
    }
   ],
=======
   "execution_count": null,
   "id": "little-ozone",
   "metadata": {},
   "outputs": [],
>>>>>>> 9bcb85082bee3521929bbc33123fdb6b165afb33
   "source": [
    "a[1]"
   ]
  },
  {
   "cell_type": "code",
<<<<<<< HEAD
   "execution_count": 174,
   "metadata": {},
   "outputs": [
    {
     "data": {
      "text/plain": [
       "2"
      ]
     },
     "execution_count": 174,
     "metadata": {},
     "output_type": "execute_result"
    }
   ],
=======
   "execution_count": null,
   "id": "burning-encoding",
   "metadata": {},
   "outputs": [],
>>>>>>> 9bcb85082bee3521929bbc33123fdb6b165afb33
   "source": [
    "a[1][2]"
   ]
  },
  {
   "cell_type": "code",
<<<<<<< HEAD
   "execution_count": 175,
   "metadata": {},
   "outputs": [
    {
     "data": {
      "text/plain": [
       "2"
      ]
     },
     "execution_count": 175,
     "metadata": {},
     "output_type": "execute_result"
    }
   ],
   "source": [
    "a[1,2] # same"
=======
   "execution_count": null,
   "id": "australian-fiber",
   "metadata": {},
   "outputs": [],
   "source": [
    "a[1,2]"
>>>>>>> 9bcb85082bee3521929bbc33123fdb6b165afb33
   ]
  },
  {
   "cell_type": "code",
<<<<<<< HEAD
   "execution_count": 176,
   "metadata": {},
   "outputs": [
    {
     "data": {
      "text/plain": [
       "array([1, 0, 1, 2])"
      ]
     },
     "execution_count": 176,
     "metadata": {},
     "output_type": "execute_result"
    }
   ],
=======
   "execution_count": null,
   "id": "conventional-violence",
   "metadata": {},
   "outputs": [],
>>>>>>> 9bcb85082bee3521929bbc33123fdb6b165afb33
   "source": [
    "a[a<3]"
   ]
  },
  {
   "cell_type": "code",
<<<<<<< HEAD
   "execution_count": 177,
   "metadata": {},
   "outputs": [
    {
     "data": {
      "text/plain": [
       "array([1, 2])"
      ]
     },
     "execution_count": 177,
     "metadata": {},
     "output_type": "execute_result"
    }
   ],
=======
   "execution_count": null,
   "id": "textile-strap",
   "metadata": {},
   "outputs": [],
>>>>>>> 9bcb85082bee3521929bbc33123fdb6b165afb33
   "source": [
    "a[1,1:]"
   ]
  },
  {
   "cell_type": "code",
<<<<<<< HEAD
   "execution_count": 178,
   "metadata": {},
   "outputs": [
    {
     "data": {
      "text/plain": [
       "array([[1, 3],\n",
       "       [3, 2]])"
      ]
     },
     "execution_count": 178,
     "metadata": {},
     "output_type": "execute_result"
    }
   ],
   "source": [
    "a[:,0::2]"
   ]
  },
  {
   "cell_type": "code",
   "execution_count": 179,
   "metadata": {},
   "outputs": [
    {
     "data": {
      "text/plain": [
       "array([[3, 1, 2],\n",
       "       [1, 0, 3]])"
      ]
     },
     "execution_count": 179,
     "metadata": {},
     "output_type": "execute_result"
    }
   ],
   "source": [
    "a[::-1] # rows backwards"
=======
   "execution_count": null,
   "id": "smoking-friday",
   "metadata": {},
   "outputs": [],
   "source": [
    "a[:,0::2]"
>>>>>>> 9bcb85082bee3521929bbc33123fdb6b165afb33
   ]
  },
  {
   "cell_type": "code",
<<<<<<< HEAD
   "execution_count": 180,
   "metadata": {},
   "outputs": [
    {
     "data": {
      "text/plain": [
       "array([[2, 1, 3],\n",
       "       [3, 0, 1]])"
      ]
     },
     "execution_count": 180,
     "metadata": {},
     "output_type": "execute_result"
    }
   ],
   "source": [
    "a[::-1, ::-1]"
   ]
  },
  {
   "cell_type": "code",
   "execution_count": 181,
   "metadata": {},
   "outputs": [
    {
     "data": {
      "text/plain": [
       "array([[1, 0, 3],\n",
       "       [3, 1, 2]])"
      ]
     },
     "execution_count": 181,
     "metadata": {},
     "output_type": "execute_result"
    }
   ],
   "source": [
    "a"
=======
   "execution_count": null,
   "id": "durable-bridges",
   "metadata": {},
   "outputs": [],
   "source": [
    "a[::-1]"
>>>>>>> 9bcb85082bee3521929bbc33123fdb6b165afb33
   ]
  },
  {
   "cell_type": "markdown",
<<<<<<< HEAD
=======
   "id": "fundamental-subscription",
>>>>>>> 9bcb85082bee3521929bbc33123fdb6b165afb33
   "metadata": {},
   "source": [
    "### Reshaping"
   ]
  },
  {
   "cell_type": "code",
<<<<<<< HEAD
   "execution_count": 182,
   "metadata": {},
   "outputs": [
    {
     "data": {
      "text/plain": [
       "array([[1, 3],\n",
       "       [0, 1],\n",
       "       [3, 2]])"
      ]
     },
     "execution_count": 182,
     "metadata": {},
     "output_type": "execute_result"
    }
   ],
   "source": [
    "a.T # rows to cols and flipping it"
   ]
  },
  {
   "cell_type": "code",
   "execution_count": 183,
   "metadata": {},
   "outputs": [
    {
     "data": {
      "text/plain": [
       "array([1, 0, 3, 3, 1, 2])"
      ]
     },
     "execution_count": 183,
     "metadata": {},
     "output_type": "execute_result"
    }
   ],
   "source": [
    "a.ravel()  # "
   ]
  },
  {
   "cell_type": "code",
   "execution_count": 184,
   "metadata": {},
   "outputs": [
    {
     "data": {
      "text/plain": [
       "array([[1, 0],\n",
       "       [3, 3],\n",
       "       [1, 2]])"
      ]
     },
     "execution_count": 184,
     "metadata": {},
     "output_type": "execute_result"
    }
   ],
   "source": [
    "a.reshape(3,2) # TRANSPOSE AND RESHAPE ARE NOT THE SAME"
   ]
  },
  {
   "cell_type": "code",
   "execution_count": 185,
   "metadata": {},
   "outputs": [
    {
     "data": {
      "text/plain": [
       "array([1, 0, 3, 3, 1, 2, 4, 5, 6])"
      ]
     },
     "execution_count": 185,
     "metadata": {},
     "output_type": "execute_result"
    }
   ],
   "source": [
    "b = np.array([4,5,6])\n",
    "c = np.append(a,b)\n",
    "c"
   ]
  },
  {
   "cell_type": "code",
   "execution_count": 2,
   "metadata": {},
   "outputs": [],
   "source": [
    "import numpy as np"
=======
   "execution_count": null,
   "id": "sharp-jewelry",
   "metadata": {},
   "outputs": [],
   "source": [
    "a.T"
>>>>>>> 9bcb85082bee3521929bbc33123fdb6b165afb33
   ]
  },
  {
   "cell_type": "code",
<<<<<<< HEAD
   "execution_count": 3,
   "metadata": {},
   "outputs": [],
   "source": [
    "np.zeros(10).resize(2,10)"
=======
   "execution_count": null,
   "id": "light-rolling",
   "metadata": {},
   "outputs": [],
   "source": [
    "a.ravel()"
>>>>>>> 9bcb85082bee3521929bbc33123fdb6b165afb33
   ]
  },
  {
   "cell_type": "code",
   "execution_count": null,
<<<<<<< HEAD
   "metadata": {},
   "outputs": [],
   "source": []
  },
  {
   "cell_type": "code",
   "execution_count": 4,
   "metadata": {},
   "outputs": [],
   "source": [
    "np.zeros(10).resize(2,10)"
=======
   "id": "material-concord",
   "metadata": {},
   "outputs": [],
   "source": [
    "a.reshape(3,2)"
>>>>>>> 9bcb85082bee3521929bbc33123fdb6b165afb33
   ]
  },
  {
   "cell_type": "code",
<<<<<<< HEAD
   "execution_count": 5,
   "metadata": {},
   "outputs": [
    {
     "data": {
      "text/plain": [
       "array([[1., 0., 0., 0., 0., 1., 0., 0., 0., 0.],\n",
       "       [1., 0., 0., 0., 0., 1., 1., 0., 0., 0.]])"
      ]
     },
     "execution_count": 5,
     "metadata": {},
     "output_type": "execute_result"
    }
   ],
   "source": [
    "np.resize(np.eye(4), (2,10)) # first 16, then loops back over again"
   ]
  },
  {
   "cell_type": "code",
   "execution_count": 189,
   "metadata": {},
   "outputs": [
    {
     "data": {
      "text/plain": [
       "array([[0., 0., 0., 0., 0., 0., 0., 0., 0., 0.],\n",
       "       [0., 0., 0., 0., 0., 0., 0., 0., 0., 0.]])"
      ]
     },
     "execution_count": 189,
     "metadata": {},
     "output_type": "execute_result"
    }
   ],
   "source": [
    "np.resize(np.zeros(4), (2,10))"
   ]
  },
  {
   "cell_type": "code",
   "execution_count": 190,
   "metadata": {},
   "outputs": [
    {
     "data": {
      "text/plain": [
       "array([[1., 0., 0., 0.],\n",
       "       [0., 1., 0., 0.],\n",
       "       [0., 0., 1., 0.],\n",
       "       [0., 0., 0., 1.]])"
      ]
     },
     "execution_count": 190,
     "metadata": {},
     "output_type": "execute_result"
    }
   ],
   "source": [
    "np.eye(4)"
   ]
  },
  {
   "cell_type": "code",
   "execution_count": 191,
   "metadata": {},
   "outputs": [
    {
     "name": "stdout",
     "output_type": "stream",
     "text": [
      "Help on function resize in module numpy:\n",
      "\n",
      "resize(a, new_shape)\n",
      "    Return a new array with the specified shape.\n",
      "    \n",
      "    If the new array is larger than the original array, then the new\n",
      "    array is filled with repeated copies of `a`.  Note that this behavior\n",
      "    is different from a.resize(new_shape) which fills with zeros instead\n",
      "    of repeated copies of `a`.\n",
      "    \n",
      "    Parameters\n",
      "    ----------\n",
      "    a : array_like\n",
      "        Array to be resized.\n",
      "    \n",
      "    new_shape : int or tuple of int\n",
      "        Shape of resized array.\n",
      "    \n",
      "    Returns\n",
      "    -------\n",
      "    reshaped_array : ndarray\n",
      "        The new array is formed from the data in the old array, repeated\n",
      "        if necessary to fill out the required number of elements.  The\n",
      "        data are repeated in the order that they are stored in memory.\n",
      "    \n",
      "    See Also\n",
      "    --------\n",
      "    ndarray.resize : resize an array in-place.\n",
      "    \n",
      "    Notes\n",
      "    -----\n",
      "    Warning: This functionality does **not** consider axes separately,\n",
      "    i.e. it does not apply interpolation/extrapolation.\n",
      "    It fills the return array with the required number of elements, taken\n",
      "    from `a` as they are laid out in memory, disregarding strides and axes.\n",
      "    (This is in case the new shape is smaller. For larger, see above.)\n",
      "    This functionality is therefore not suitable to resize images,\n",
      "    or data where each axis represents a separate and distinct entity.\n",
      "    \n",
      "    Examples\n",
      "    --------\n",
      "    >>> a=np.array([[0,1],[2,3]])\n",
      "    >>> np.resize(a,(2,3))\n",
      "    array([[0, 1, 2],\n",
      "           [3, 0, 1]])\n",
      "    >>> np.resize(a,(1,4))\n",
      "    array([[0, 1, 2, 3]])\n",
      "    >>> np.resize(a,(2,4))\n",
      "    array([[0, 1, 2, 3],\n",
      "           [0, 1, 2, 3]])\n",
      "\n"
     ]
    }
   ],
   "source": [
    "help(np.resize)"
=======
   "execution_count": null,
   "id": "different-merchant",
   "metadata": {},
   "outputs": [],
   "source": [
    "b = np.array([4,5,6])\n",
    "c = np.append(a,b)\n",
    "c"
>>>>>>> 9bcb85082bee3521929bbc33123fdb6b165afb33
   ]
  },
  {
   "cell_type": "code",
   "execution_count": null,
<<<<<<< HEAD
   "metadata": {},
   "outputs": [],
   "source": []
  },
  {
   "cell_type": "markdown",
=======
   "id": "adapted-independence",
   "metadata": {},
   "outputs": [],
   "source": [
    "np.zeros(10).resize(2,10)"
   ]
  },
  {
   "cell_type": "markdown",
   "id": "preliminary-conditions",
>>>>>>> 9bcb85082bee3521929bbc33123fdb6b165afb33
   "metadata": {},
   "source": [
    "# Pandas"
   ]
  },
  {
   "cell_type": "markdown",
<<<<<<< HEAD
=======
   "id": "broadband-economics",
>>>>>>> 9bcb85082bee3521929bbc33123fdb6b165afb33
   "metadata": {},
   "source": [
    "### Series\n",
    "\n",
    "A one-dimensional labeled array capable of holding any data type"
   ]
  },
  {
   "cell_type": "code",
<<<<<<< HEAD
   "execution_count": 192,
   "metadata": {},
   "outputs": [
    {
     "data": {
      "text/plain": [
       "a    3\n",
       "b   -5\n",
       "c    7\n",
       "d    4\n",
       "dtype: int64"
      ]
     },
     "execution_count": 192,
     "metadata": {},
     "output_type": "execute_result"
    }
   ],
   "source": [
    "# not passing a datatype, passing index, rows dont have numbering but have index\n",
    "# not whole dataframe, think of dataframe as a column\n",
    "\n",
=======
   "execution_count": null,
   "id": "turned-irish",
   "metadata": {},
   "outputs": [],
   "source": [
>>>>>>> 9bcb85082bee3521929bbc33123fdb6b165afb33
    "s = pd.Series([3, -5, 7, 4],  index=['a',  'b',  'c',  'd'])\n",
    "s"
   ]
  },
  {
   "cell_type": "markdown",
<<<<<<< HEAD
=======
   "id": "hybrid-authority",
>>>>>>> 9bcb85082bee3521929bbc33123fdb6b165afb33
   "metadata": {},
   "source": [
    "A two-dimensional labeled data structure with columns of potentially different types"
   ]
  },
  {
   "cell_type": "code",
<<<<<<< HEAD
   "execution_count": 194,
   "metadata": {},
   "outputs": [
    {
     "data": {
      "text/html": [
       "<div>\n",
       "<style scoped>\n",
       "    .dataframe tbody tr th:only-of-type {\n",
       "        vertical-align: middle;\n",
       "    }\n",
       "\n",
       "    .dataframe tbody tr th {\n",
       "        vertical-align: top;\n",
       "    }\n",
       "\n",
       "    .dataframe thead th {\n",
       "        text-align: right;\n",
       "    }\n",
       "</style>\n",
       "<table border=\"1\" class=\"dataframe\">\n",
       "  <thead>\n",
       "    <tr style=\"text-align: right;\">\n",
       "      <th></th>\n",
       "      <th>Country</th>\n",
       "      <th>Capital</th>\n",
       "      <th>Population</th>\n",
       "    </tr>\n",
       "  </thead>\n",
       "  <tbody>\n",
       "    <tr>\n",
       "      <th>0</th>\n",
       "      <td>Belgium</td>\n",
       "      <td>Brussels</td>\n",
       "      <td>11190846</td>\n",
       "    </tr>\n",
       "    <tr>\n",
       "      <th>1</th>\n",
       "      <td>India</td>\n",
       "      <td>New Delhi</td>\n",
       "      <td>1303171035</td>\n",
       "    </tr>\n",
       "    <tr>\n",
       "      <th>2</th>\n",
       "      <td>Brazil</td>\n",
       "      <td>Brasilia</td>\n",
       "      <td>207847528</td>\n",
       "    </tr>\n",
       "  </tbody>\n",
       "</table>\n",
       "</div>"
      ],
      "text/plain": [
       "   Country    Capital  Population\n",
       "0  Belgium   Brussels    11190846\n",
       "1    India  New Delhi  1303171035\n",
       "2   Brazil   Brasilia   207847528"
      ]
     },
     "execution_count": 194,
     "metadata": {},
     "output_type": "execute_result"
    }
   ],
   "source": [
    "# numpy array of the rows and cols\n",
    "\n",
=======
   "execution_count": null,
   "id": "enhanced-departure",
   "metadata": {},
   "outputs": [],
   "source": [
>>>>>>> 9bcb85082bee3521929bbc33123fdb6b165afb33
    "data = {'Country': ['Belgium',  'India',  'Brazil'],\n",
    "        'Capital': ['Brussels',  'New Delhi',  'Brasilia'],\n",
    "        'Population': [11190846, 1303171035, 207847528]\n",
    "}\n",
    "df = pd.DataFrame(data,columns=['Country',  'Capital',  'Population'])\n",
    "df"
   ]
  },
  {
   "cell_type": "markdown",
<<<<<<< HEAD
=======
   "id": "psychological-midnight",
>>>>>>> 9bcb85082bee3521929bbc33123fdb6b165afb33
   "metadata": {},
   "source": [
    "Please note that the first column 1,2,3 is the index and Country,Capital,Population are the Columns."
   ]
  },
  {
   "cell_type": "markdown",
<<<<<<< HEAD
=======
   "id": "potential-blocking",
>>>>>>> 9bcb85082bee3521929bbc33123fdb6b165afb33
   "metadata": {},
   "source": [
    "Asking For Help"
   ]
  },
  {
   "cell_type": "code",
<<<<<<< HEAD
   "execution_count": 82,
   "metadata": {
    "scrolled": true
   },
   "outputs": [
    {
     "name": "stdout",
     "output_type": "stream",
     "text": [
      "Help on property:\n",
      "\n",
      "    Access a group of rows and columns by label(s) or a boolean array.\n",
      "    \n",
      "    ``.loc[]`` is primarily label based, but may also be used with a\n",
      "    boolean array.\n",
      "    \n",
      "    Allowed inputs are:\n",
      "    \n",
      "    - A single label, e.g. ``5`` or ``'a'``, (note that ``5`` is\n",
      "      interpreted as a *label* of the index, and **never** as an\n",
      "      integer position along the index).\n",
      "    - A list or array of labels, e.g. ``['a', 'b', 'c']``.\n",
      "    - A slice object with labels, e.g. ``'a':'f'``.\n",
      "    \n",
      "      .. warning:: Note that contrary to usual python slices, **both** the\n",
      "          start and the stop are included\n",
      "    \n",
      "    - A boolean array of the same length as the axis being sliced,\n",
      "      e.g. ``[True, False, True]``.\n",
      "    - A ``callable`` function with one argument (the calling Series or\n",
      "      DataFrame) and that returns valid output for indexing (one of the above)\n",
      "    \n",
      "    See more at :ref:`Selection by Label <indexing.label>`\n",
      "    \n",
      "    Raises\n",
      "    ------\n",
      "    KeyError\n",
      "        If any items are not found.\n",
      "    \n",
      "    See Also\n",
      "    --------\n",
      "    DataFrame.at : Access a single value for a row/column label pair.\n",
      "    DataFrame.iloc : Access group of rows and columns by integer position(s).\n",
      "    DataFrame.xs : Returns a cross-section (row(s) or column(s)) from the\n",
      "        Series/DataFrame.\n",
      "    Series.loc : Access group of values using labels.\n",
      "    \n",
      "    Examples\n",
      "    --------\n",
      "    **Getting values**\n",
      "    \n",
      "    >>> df = pd.DataFrame([[1, 2], [4, 5], [7, 8]],\n",
      "    ...      index=['cobra', 'viper', 'sidewinder'],\n",
      "    ...      columns=['max_speed', 'shield'])\n",
      "    >>> df\n",
      "                max_speed  shield\n",
      "    cobra               1       2\n",
      "    viper               4       5\n",
      "    sidewinder          7       8\n",
      "    \n",
      "    Single label. Note this returns the row as a Series.\n",
      "    \n",
      "    >>> df.loc['viper']\n",
      "    max_speed    4\n",
      "    shield       5\n",
      "    Name: viper, dtype: int64\n",
      "    \n",
      "    List of labels. Note using ``[[]]`` returns a DataFrame.\n",
      "    \n",
      "    >>> df.loc[['viper', 'sidewinder']]\n",
      "                max_speed  shield\n",
      "    viper               4       5\n",
      "    sidewinder          7       8\n",
      "    \n",
      "    Single label for row and column\n",
      "    \n",
      "    >>> df.loc['cobra', 'shield']\n",
      "    2\n",
      "    \n",
      "    Slice with labels for row and single label for column. As mentioned\n",
      "    above, note that both the start and stop of the slice are included.\n",
      "    \n",
      "    >>> df.loc['cobra':'viper', 'max_speed']\n",
      "    cobra    1\n",
      "    viper    4\n",
      "    Name: max_speed, dtype: int64\n",
      "    \n",
      "    Boolean list with the same length as the row axis\n",
      "    \n",
      "    >>> df.loc[[False, False, True]]\n",
      "                max_speed  shield\n",
      "    sidewinder          7       8\n",
      "    \n",
      "    Conditional that returns a boolean Series\n",
      "    \n",
      "    >>> df.loc[df['shield'] > 6]\n",
      "                max_speed  shield\n",
      "    sidewinder          7       8\n",
      "    \n",
      "    Conditional that returns a boolean Series with column labels specified\n",
      "    \n",
      "    >>> df.loc[df['shield'] > 6, ['max_speed']]\n",
      "                max_speed\n",
      "    sidewinder          7\n",
      "    \n",
      "    Callable that returns a boolean Series\n",
      "    \n",
      "    >>> df.loc[lambda df: df['shield'] == 8]\n",
      "                max_speed  shield\n",
      "    sidewinder          7       8\n",
      "    \n",
      "    **Setting values**\n",
      "    \n",
      "    Set value for all items matching the list of labels\n",
      "    \n",
      "    >>> df.loc[['viper', 'sidewinder'], ['shield']] = 50\n",
      "    >>> df\n",
      "                max_speed  shield\n",
      "    cobra               1       2\n",
      "    viper               4      50\n",
      "    sidewinder          7      50\n",
      "    \n",
      "    Set value for an entire row\n",
      "    \n",
      "    >>> df.loc['cobra'] = 10\n",
      "    >>> df\n",
      "                max_speed  shield\n",
      "    cobra              10      10\n",
      "    viper               4      50\n",
      "    sidewinder          7      50\n",
      "    \n",
      "    Set value for an entire column\n",
      "    \n",
      "    >>> df.loc[:, 'max_speed'] = 30\n",
      "    >>> df\n",
      "                max_speed  shield\n",
      "    cobra              30      10\n",
      "    viper              30      50\n",
      "    sidewinder         30      50\n",
      "    \n",
      "    Set value for rows matching callable condition\n",
      "    \n",
      "    >>> df.loc[df['shield'] > 35] = 0\n",
      "    >>> df\n",
      "                max_speed  shield\n",
      "    cobra              30      10\n",
      "    viper               0       0\n",
      "    sidewinder          0       0\n",
      "    \n",
      "    **Getting values on a DataFrame with an index that has integer labels**\n",
      "    \n",
      "    Another example using integers for the index\n",
      "    \n",
      "    >>> df = pd.DataFrame([[1, 2], [4, 5], [7, 8]],\n",
      "    ...      index=[7, 8, 9], columns=['max_speed', 'shield'])\n",
      "    >>> df\n",
      "       max_speed  shield\n",
      "    7          1       2\n",
      "    8          4       5\n",
      "    9          7       8\n",
      "    \n",
      "    Slice with integer labels for rows. As mentioned above, note that both\n",
      "    the start and stop of the slice are included.\n",
      "    \n",
      "    >>> df.loc[7:9]\n",
      "       max_speed  shield\n",
      "    7          1       2\n",
      "    8          4       5\n",
      "    9          7       8\n",
      "    \n",
      "    **Getting values with a MultiIndex**\n",
      "    \n",
      "    A number of examples using a DataFrame with a MultiIndex\n",
      "    \n",
      "    >>> tuples = [\n",
      "    ...    ('cobra', 'mark i'), ('cobra', 'mark ii'),\n",
      "    ...    ('sidewinder', 'mark i'), ('sidewinder', 'mark ii'),\n",
      "    ...    ('viper', 'mark ii'), ('viper', 'mark iii')\n",
      "    ... ]\n",
      "    >>> index = pd.MultiIndex.from_tuples(tuples)\n",
      "    >>> values = [[12, 2], [0, 4], [10, 20],\n",
      "    ...         [1, 4], [7, 1], [16, 36]]\n",
      "    >>> df = pd.DataFrame(values, columns=['max_speed', 'shield'], index=index)\n",
      "    >>> df\n",
      "                         max_speed  shield\n",
      "    cobra      mark i           12       2\n",
      "               mark ii           0       4\n",
      "    sidewinder mark i           10      20\n",
      "               mark ii           1       4\n",
      "    viper      mark ii           7       1\n",
      "               mark iii         16      36\n",
      "    \n",
      "    Single label. Note this returns a DataFrame with a single index.\n",
      "    \n",
      "    >>> df.loc['cobra']\n",
      "             max_speed  shield\n",
      "    mark i          12       2\n",
      "    mark ii          0       4\n",
      "    \n",
      "    Single index tuple. Note this returns a Series.\n",
      "    \n",
      "    >>> df.loc[('cobra', 'mark ii')]\n",
      "    max_speed    0\n",
      "    shield       4\n",
      "    Name: (cobra, mark ii), dtype: int64\n",
      "    \n",
      "    Single label for row and column. Similar to passing in a tuple, this\n",
      "    returns a Series.\n",
      "    \n",
      "    >>> df.loc['cobra', 'mark i']\n",
      "    max_speed    12\n",
      "    shield        2\n",
      "    Name: (cobra, mark i), dtype: int64\n",
      "    \n",
      "    Single tuple. Note using ``[[]]`` returns a DataFrame.\n",
      "    \n",
      "    >>> df.loc[[('cobra', 'mark ii')]]\n",
      "                   max_speed  shield\n",
      "    cobra mark ii          0       4\n",
      "    \n",
      "    Single tuple for the index with a single label for the column\n",
      "    \n",
      "    >>> df.loc[('cobra', 'mark i'), 'shield']\n",
      "    2\n",
      "    \n",
      "    Slice from index tuple to single label\n",
      "    \n",
      "    >>> df.loc[('cobra', 'mark i'):'viper']\n",
      "                         max_speed  shield\n",
      "    cobra      mark i           12       2\n",
      "               mark ii           0       4\n",
      "    sidewinder mark i           10      20\n",
      "               mark ii           1       4\n",
      "    viper      mark ii           7       1\n",
      "               mark iii         16      36\n",
      "    \n",
      "    Slice from index tuple to index tuple\n",
      "    \n",
      "    >>> df.loc[('cobra', 'mark i'):('viper', 'mark ii')]\n",
      "                        max_speed  shield\n",
      "    cobra      mark i          12       2\n",
      "               mark ii          0       4\n",
      "    sidewinder mark i          10      20\n",
      "               mark ii          1       4\n",
      "    viper      mark ii          7       1\n",
      "\n"
     ]
    }
   ],
=======
   "execution_count": null,
   "id": "unable-milwaukee",
   "metadata": {},
   "outputs": [],
>>>>>>> 9bcb85082bee3521929bbc33123fdb6b165afb33
   "source": [
    "help(pd.Series.loc)"
   ]
  },
  {
   "cell_type": "markdown",
<<<<<<< HEAD
=======
   "id": "minimal-conspiracy",
>>>>>>> 9bcb85082bee3521929bbc33123fdb6b165afb33
   "metadata": {},
   "source": [
    "### I/O\n",
    "Read and Write to CSV"
   ]
  },
  {
   "cell_type": "code",
<<<<<<< HEAD
   "execution_count": 195,
   "metadata": {},
   "outputs": [],
   "source": [
    "#pd.read_csv('file.csv', header=None, nrows=5)\n",
=======
   "execution_count": null,
   "id": "geological-history",
   "metadata": {},
   "outputs": [],
   "source": [
    "pd.read_csv('file.csv', header=None, nrows=5)\n",
>>>>>>> 9bcb85082bee3521929bbc33123fdb6b165afb33
    "df.to_csv('file.csv')"
   ]
  },
  {
   "cell_type": "code",
<<<<<<< HEAD
   "execution_count": 196,
   "metadata": {},
   "outputs": [
    {
     "ename": "FileNotFoundError",
     "evalue": "[Errno 2] No such file or directory: 'file.xls'",
     "output_type": "error",
     "traceback": [
      "\u001b[0;31m---------------------------------------------------------------------------\u001b[0m",
      "\u001b[0;31mFileNotFoundError\u001b[0m                         Traceback (most recent call last)",
      "\u001b[0;32m<ipython-input-196-22a84ccfa2d1>\u001b[0m in \u001b[0;36m<module>\u001b[0;34m\u001b[0m\n\u001b[0;32m----> 1\u001b[0;31m \u001b[0mxlsx\u001b[0m \u001b[0;34m=\u001b[0m \u001b[0mpd\u001b[0m\u001b[0;34m.\u001b[0m\u001b[0mExcelFile\u001b[0m\u001b[0;34m(\u001b[0m\u001b[0;34m'file.xls'\u001b[0m\u001b[0;34m)\u001b[0m\u001b[0;34m\u001b[0m\u001b[0;34m\u001b[0m\u001b[0m\n\u001b[0m\u001b[1;32m      2\u001b[0m \u001b[0mdf\u001b[0m \u001b[0;34m=\u001b[0m \u001b[0mpd\u001b[0m\u001b[0;34m.\u001b[0m\u001b[0mread_excel\u001b[0m\u001b[0;34m(\u001b[0m\u001b[0mxlsx\u001b[0m\u001b[0;34m,\u001b[0m  \u001b[0;34m'Sheet1'\u001b[0m\u001b[0;34m)\u001b[0m\u001b[0;34m\u001b[0m\u001b[0;34m\u001b[0m\u001b[0m\n",
      "\u001b[0;32m/usr/local/lib/python3.8/site-packages/pandas/io/excel/_base.py\u001b[0m in \u001b[0;36m__init__\u001b[0;34m(self, path_or_buffer, engine)\u001b[0m\n\u001b[1;32m    865\u001b[0m         \u001b[0mself\u001b[0m\u001b[0;34m.\u001b[0m\u001b[0m_io\u001b[0m \u001b[0;34m=\u001b[0m \u001b[0mstringify_path\u001b[0m\u001b[0;34m(\u001b[0m\u001b[0mpath_or_buffer\u001b[0m\u001b[0;34m)\u001b[0m\u001b[0;34m\u001b[0m\u001b[0;34m\u001b[0m\u001b[0m\n\u001b[1;32m    866\u001b[0m \u001b[0;34m\u001b[0m\u001b[0m\n\u001b[0;32m--> 867\u001b[0;31m         \u001b[0mself\u001b[0m\u001b[0;34m.\u001b[0m\u001b[0m_reader\u001b[0m \u001b[0;34m=\u001b[0m \u001b[0mself\u001b[0m\u001b[0;34m.\u001b[0m\u001b[0m_engines\u001b[0m\u001b[0;34m[\u001b[0m\u001b[0mengine\u001b[0m\u001b[0;34m]\u001b[0m\u001b[0;34m(\u001b[0m\u001b[0mself\u001b[0m\u001b[0;34m.\u001b[0m\u001b[0m_io\u001b[0m\u001b[0;34m)\u001b[0m\u001b[0;34m\u001b[0m\u001b[0;34m\u001b[0m\u001b[0m\n\u001b[0m\u001b[1;32m    868\u001b[0m \u001b[0;34m\u001b[0m\u001b[0m\n\u001b[1;32m    869\u001b[0m     \u001b[0;32mdef\u001b[0m \u001b[0m__fspath__\u001b[0m\u001b[0;34m(\u001b[0m\u001b[0mself\u001b[0m\u001b[0;34m)\u001b[0m\u001b[0;34m:\u001b[0m\u001b[0;34m\u001b[0m\u001b[0;34m\u001b[0m\u001b[0m\n",
      "\u001b[0;32m/usr/local/lib/python3.8/site-packages/pandas/io/excel/_xlrd.py\u001b[0m in \u001b[0;36m__init__\u001b[0;34m(self, filepath_or_buffer)\u001b[0m\n\u001b[1;32m     20\u001b[0m         \u001b[0merr_msg\u001b[0m \u001b[0;34m=\u001b[0m \u001b[0;34m\"Install xlrd >= 1.0.0 for Excel support\"\u001b[0m\u001b[0;34m\u001b[0m\u001b[0;34m\u001b[0m\u001b[0m\n\u001b[1;32m     21\u001b[0m         \u001b[0mimport_optional_dependency\u001b[0m\u001b[0;34m(\u001b[0m\u001b[0;34m\"xlrd\"\u001b[0m\u001b[0;34m,\u001b[0m \u001b[0mextra\u001b[0m\u001b[0;34m=\u001b[0m\u001b[0merr_msg\u001b[0m\u001b[0;34m)\u001b[0m\u001b[0;34m\u001b[0m\u001b[0;34m\u001b[0m\u001b[0m\n\u001b[0;32m---> 22\u001b[0;31m         \u001b[0msuper\u001b[0m\u001b[0;34m(\u001b[0m\u001b[0;34m)\u001b[0m\u001b[0;34m.\u001b[0m\u001b[0m__init__\u001b[0m\u001b[0;34m(\u001b[0m\u001b[0mfilepath_or_buffer\u001b[0m\u001b[0;34m)\u001b[0m\u001b[0;34m\u001b[0m\u001b[0;34m\u001b[0m\u001b[0m\n\u001b[0m\u001b[1;32m     23\u001b[0m \u001b[0;34m\u001b[0m\u001b[0m\n\u001b[1;32m     24\u001b[0m     \u001b[0;34m@\u001b[0m\u001b[0mproperty\u001b[0m\u001b[0;34m\u001b[0m\u001b[0;34m\u001b[0m\u001b[0m\n",
      "\u001b[0;32m/usr/local/lib/python3.8/site-packages/pandas/io/excel/_base.py\u001b[0m in \u001b[0;36m__init__\u001b[0;34m(self, filepath_or_buffer)\u001b[0m\n\u001b[1;32m    351\u001b[0m             \u001b[0mself\u001b[0m\u001b[0;34m.\u001b[0m\u001b[0mbook\u001b[0m \u001b[0;34m=\u001b[0m \u001b[0mself\u001b[0m\u001b[0;34m.\u001b[0m\u001b[0mload_workbook\u001b[0m\u001b[0;34m(\u001b[0m\u001b[0mfilepath_or_buffer\u001b[0m\u001b[0;34m)\u001b[0m\u001b[0;34m\u001b[0m\u001b[0;34m\u001b[0m\u001b[0m\n\u001b[1;32m    352\u001b[0m         \u001b[0;32melif\u001b[0m \u001b[0misinstance\u001b[0m\u001b[0;34m(\u001b[0m\u001b[0mfilepath_or_buffer\u001b[0m\u001b[0;34m,\u001b[0m \u001b[0mstr\u001b[0m\u001b[0;34m)\u001b[0m\u001b[0;34m:\u001b[0m\u001b[0;34m\u001b[0m\u001b[0;34m\u001b[0m\u001b[0m\n\u001b[0;32m--> 353\u001b[0;31m             \u001b[0mself\u001b[0m\u001b[0;34m.\u001b[0m\u001b[0mbook\u001b[0m \u001b[0;34m=\u001b[0m \u001b[0mself\u001b[0m\u001b[0;34m.\u001b[0m\u001b[0mload_workbook\u001b[0m\u001b[0;34m(\u001b[0m\u001b[0mfilepath_or_buffer\u001b[0m\u001b[0;34m)\u001b[0m\u001b[0;34m\u001b[0m\u001b[0;34m\u001b[0m\u001b[0m\n\u001b[0m\u001b[1;32m    354\u001b[0m         \u001b[0;32melif\u001b[0m \u001b[0misinstance\u001b[0m\u001b[0;34m(\u001b[0m\u001b[0mfilepath_or_buffer\u001b[0m\u001b[0;34m,\u001b[0m \u001b[0mbytes\u001b[0m\u001b[0;34m)\u001b[0m\u001b[0;34m:\u001b[0m\u001b[0;34m\u001b[0m\u001b[0;34m\u001b[0m\u001b[0m\n\u001b[1;32m    355\u001b[0m             \u001b[0mself\u001b[0m\u001b[0;34m.\u001b[0m\u001b[0mbook\u001b[0m \u001b[0;34m=\u001b[0m \u001b[0mself\u001b[0m\u001b[0;34m.\u001b[0m\u001b[0mload_workbook\u001b[0m\u001b[0;34m(\u001b[0m\u001b[0mBytesIO\u001b[0m\u001b[0;34m(\u001b[0m\u001b[0mfilepath_or_buffer\u001b[0m\u001b[0;34m)\u001b[0m\u001b[0;34m)\u001b[0m\u001b[0;34m\u001b[0m\u001b[0;34m\u001b[0m\u001b[0m\n",
      "\u001b[0;32m/usr/local/lib/python3.8/site-packages/pandas/io/excel/_xlrd.py\u001b[0m in \u001b[0;36mload_workbook\u001b[0;34m(self, filepath_or_buffer)\u001b[0m\n\u001b[1;32m     35\u001b[0m             \u001b[0;32mreturn\u001b[0m \u001b[0mopen_workbook\u001b[0m\u001b[0;34m(\u001b[0m\u001b[0mfile_contents\u001b[0m\u001b[0;34m=\u001b[0m\u001b[0mdata\u001b[0m\u001b[0;34m)\u001b[0m\u001b[0;34m\u001b[0m\u001b[0;34m\u001b[0m\u001b[0m\n\u001b[1;32m     36\u001b[0m         \u001b[0;32melse\u001b[0m\u001b[0;34m:\u001b[0m\u001b[0;34m\u001b[0m\u001b[0;34m\u001b[0m\u001b[0m\n\u001b[0;32m---> 37\u001b[0;31m             \u001b[0;32mreturn\u001b[0m \u001b[0mopen_workbook\u001b[0m\u001b[0;34m(\u001b[0m\u001b[0mfilepath_or_buffer\u001b[0m\u001b[0;34m)\u001b[0m\u001b[0;34m\u001b[0m\u001b[0;34m\u001b[0m\u001b[0m\n\u001b[0m\u001b[1;32m     38\u001b[0m \u001b[0;34m\u001b[0m\u001b[0m\n\u001b[1;32m     39\u001b[0m     \u001b[0;34m@\u001b[0m\u001b[0mproperty\u001b[0m\u001b[0;34m\u001b[0m\u001b[0;34m\u001b[0m\u001b[0m\n",
      "\u001b[0;32m/usr/local/lib/python3.8/site-packages/xlrd/__init__.py\u001b[0m in \u001b[0;36mopen_workbook\u001b[0;34m(filename, logfile, verbosity, use_mmap, file_contents, encoding_override, formatting_info, on_demand, ragged_rows, ignore_workbook_corruption)\u001b[0m\n\u001b[1;32m    164\u001b[0m     \"\"\"\n\u001b[1;32m    165\u001b[0m \u001b[0;34m\u001b[0m\u001b[0m\n\u001b[0;32m--> 166\u001b[0;31m     \u001b[0mfile_format\u001b[0m \u001b[0;34m=\u001b[0m \u001b[0minspect_format\u001b[0m\u001b[0;34m(\u001b[0m\u001b[0mfilename\u001b[0m\u001b[0;34m,\u001b[0m \u001b[0mfile_contents\u001b[0m\u001b[0;34m)\u001b[0m\u001b[0;34m\u001b[0m\u001b[0;34m\u001b[0m\u001b[0m\n\u001b[0m\u001b[1;32m    167\u001b[0m     \u001b[0;31m# We have to let unknown file formats pass through here, as some ancient\u001b[0m\u001b[0;34m\u001b[0m\u001b[0;34m\u001b[0m\u001b[0;34m\u001b[0m\u001b[0m\n\u001b[1;32m    168\u001b[0m     \u001b[0;31m# files that xlrd can parse don't start with the expected signature.\u001b[0m\u001b[0;34m\u001b[0m\u001b[0;34m\u001b[0m\u001b[0;34m\u001b[0m\u001b[0m\n",
      "\u001b[0;32m/usr/local/lib/python3.8/site-packages/xlrd/__init__.py\u001b[0m in \u001b[0;36minspect_format\u001b[0;34m(path, content)\u001b[0m\n\u001b[1;32m     58\u001b[0m     \u001b[0;32melse\u001b[0m\u001b[0;34m:\u001b[0m\u001b[0;34m\u001b[0m\u001b[0;34m\u001b[0m\u001b[0m\n\u001b[1;32m     59\u001b[0m         \u001b[0mpath\u001b[0m \u001b[0;34m=\u001b[0m \u001b[0mos\u001b[0m\u001b[0;34m.\u001b[0m\u001b[0mpath\u001b[0m\u001b[0;34m.\u001b[0m\u001b[0mexpanduser\u001b[0m\u001b[0;34m(\u001b[0m\u001b[0mpath\u001b[0m\u001b[0;34m)\u001b[0m\u001b[0;34m\u001b[0m\u001b[0;34m\u001b[0m\u001b[0m\n\u001b[0;32m---> 60\u001b[0;31m         \u001b[0;32mwith\u001b[0m \u001b[0mopen\u001b[0m\u001b[0;34m(\u001b[0m\u001b[0mpath\u001b[0m\u001b[0;34m,\u001b[0m \u001b[0;34m\"rb\"\u001b[0m\u001b[0;34m)\u001b[0m \u001b[0;32mas\u001b[0m \u001b[0mf\u001b[0m\u001b[0;34m:\u001b[0m\u001b[0;34m\u001b[0m\u001b[0;34m\u001b[0m\u001b[0m\n\u001b[0m\u001b[1;32m     61\u001b[0m             \u001b[0mpeek\u001b[0m \u001b[0;34m=\u001b[0m \u001b[0mf\u001b[0m\u001b[0;34m.\u001b[0m\u001b[0mread\u001b[0m\u001b[0;34m(\u001b[0m\u001b[0mPEEK_SIZE\u001b[0m\u001b[0;34m)\u001b[0m\u001b[0;34m\u001b[0m\u001b[0;34m\u001b[0m\u001b[0m\n\u001b[1;32m     62\u001b[0m \u001b[0;34m\u001b[0m\u001b[0m\n",
      "\u001b[0;31mFileNotFoundError\u001b[0m: [Errno 2] No such file or directory: 'file.xls'"
     ]
    }
   ],
   "source": [
    "# will not work unless create an excel file\n",
    "\n",
=======
   "execution_count": null,
   "id": "based-potter",
   "metadata": {},
   "outputs": [],
   "source": [
>>>>>>> 9bcb85082bee3521929bbc33123fdb6b165afb33
    "xlsx = pd.ExcelFile('file.xls')\n",
    "df = pd.read_excel(xlsx,  'Sheet1')"
   ]
  },
  {
   "cell_type": "markdown",
<<<<<<< HEAD
=======
   "id": "anonymous-recorder",
>>>>>>> 9bcb85082bee3521929bbc33123fdb6b165afb33
   "metadata": {},
   "source": [
    "Read and Write to Excel"
   ]
  },
  {
   "cell_type": "code",
<<<<<<< HEAD
   "execution_count": 197,
   "metadata": {},
   "outputs": [
    {
     "ename": "FileNotFoundError",
     "evalue": "[Errno 2] No such file or directory: 'file.xlsx'",
     "output_type": "error",
     "traceback": [
      "\u001b[0;31m---------------------------------------------------------------------------\u001b[0m",
      "\u001b[0;31mFileNotFoundError\u001b[0m                         Traceback (most recent call last)",
      "\u001b[0;32m<ipython-input-197-3b1ea6529f97>\u001b[0m in \u001b[0;36m<module>\u001b[0;34m\u001b[0m\n\u001b[0;32m----> 1\u001b[0;31m \u001b[0mpd\u001b[0m\u001b[0;34m.\u001b[0m\u001b[0mread_excel\u001b[0m\u001b[0;34m(\u001b[0m\u001b[0;34m'file.xlsx'\u001b[0m\u001b[0;34m)\u001b[0m\u001b[0;34m\u001b[0m\u001b[0;34m\u001b[0m\u001b[0m\n\u001b[0m\u001b[1;32m      2\u001b[0m \u001b[0mdf\u001b[0m\u001b[0;34m.\u001b[0m\u001b[0mto_excel\u001b[0m\u001b[0;34m(\u001b[0m\u001b[0;34m'file.xlsx'\u001b[0m\u001b[0;34m,\u001b[0m  \u001b[0msheet_name\u001b[0m\u001b[0;34m=\u001b[0m\u001b[0;34m'Sheet1'\u001b[0m\u001b[0;34m)\u001b[0m\u001b[0;34m\u001b[0m\u001b[0;34m\u001b[0m\u001b[0m\n",
      "\u001b[0;32m/usr/local/lib/python3.8/site-packages/pandas/util/_decorators.py\u001b[0m in \u001b[0;36mwrapper\u001b[0;34m(*args, **kwargs)\u001b[0m\n\u001b[1;32m    294\u001b[0m                 )\n\u001b[1;32m    295\u001b[0m                 \u001b[0mwarnings\u001b[0m\u001b[0;34m.\u001b[0m\u001b[0mwarn\u001b[0m\u001b[0;34m(\u001b[0m\u001b[0mmsg\u001b[0m\u001b[0;34m,\u001b[0m \u001b[0mFutureWarning\u001b[0m\u001b[0;34m,\u001b[0m \u001b[0mstacklevel\u001b[0m\u001b[0;34m=\u001b[0m\u001b[0mstacklevel\u001b[0m\u001b[0;34m)\u001b[0m\u001b[0;34m\u001b[0m\u001b[0;34m\u001b[0m\u001b[0m\n\u001b[0;32m--> 296\u001b[0;31m             \u001b[0;32mreturn\u001b[0m \u001b[0mfunc\u001b[0m\u001b[0;34m(\u001b[0m\u001b[0;34m*\u001b[0m\u001b[0margs\u001b[0m\u001b[0;34m,\u001b[0m \u001b[0;34m**\u001b[0m\u001b[0mkwargs\u001b[0m\u001b[0;34m)\u001b[0m\u001b[0;34m\u001b[0m\u001b[0;34m\u001b[0m\u001b[0m\n\u001b[0m\u001b[1;32m    297\u001b[0m \u001b[0;34m\u001b[0m\u001b[0m\n\u001b[1;32m    298\u001b[0m         \u001b[0;32mreturn\u001b[0m \u001b[0mwrapper\u001b[0m\u001b[0;34m\u001b[0m\u001b[0;34m\u001b[0m\u001b[0m\n",
      "\u001b[0;32m/usr/local/lib/python3.8/site-packages/pandas/io/excel/_base.py\u001b[0m in \u001b[0;36mread_excel\u001b[0;34m(io, sheet_name, header, names, index_col, usecols, squeeze, dtype, engine, converters, true_values, false_values, skiprows, nrows, na_values, keep_default_na, na_filter, verbose, parse_dates, date_parser, thousands, comment, skipfooter, convert_float, mangle_dupe_cols)\u001b[0m\n\u001b[1;32m    302\u001b[0m \u001b[0;34m\u001b[0m\u001b[0m\n\u001b[1;32m    303\u001b[0m     \u001b[0;32mif\u001b[0m \u001b[0;32mnot\u001b[0m \u001b[0misinstance\u001b[0m\u001b[0;34m(\u001b[0m\u001b[0mio\u001b[0m\u001b[0;34m,\u001b[0m \u001b[0mExcelFile\u001b[0m\u001b[0;34m)\u001b[0m\u001b[0;34m:\u001b[0m\u001b[0;34m\u001b[0m\u001b[0;34m\u001b[0m\u001b[0m\n\u001b[0;32m--> 304\u001b[0;31m         \u001b[0mio\u001b[0m \u001b[0;34m=\u001b[0m \u001b[0mExcelFile\u001b[0m\u001b[0;34m(\u001b[0m\u001b[0mio\u001b[0m\u001b[0;34m,\u001b[0m \u001b[0mengine\u001b[0m\u001b[0;34m=\u001b[0m\u001b[0mengine\u001b[0m\u001b[0;34m)\u001b[0m\u001b[0;34m\u001b[0m\u001b[0;34m\u001b[0m\u001b[0m\n\u001b[0m\u001b[1;32m    305\u001b[0m     \u001b[0;32melif\u001b[0m \u001b[0mengine\u001b[0m \u001b[0;32mand\u001b[0m \u001b[0mengine\u001b[0m \u001b[0;34m!=\u001b[0m \u001b[0mio\u001b[0m\u001b[0;34m.\u001b[0m\u001b[0mengine\u001b[0m\u001b[0;34m:\u001b[0m\u001b[0;34m\u001b[0m\u001b[0;34m\u001b[0m\u001b[0m\n\u001b[1;32m    306\u001b[0m         raise ValueError(\n",
      "\u001b[0;32m/usr/local/lib/python3.8/site-packages/pandas/io/excel/_base.py\u001b[0m in \u001b[0;36m__init__\u001b[0;34m(self, path_or_buffer, engine)\u001b[0m\n\u001b[1;32m    865\u001b[0m         \u001b[0mself\u001b[0m\u001b[0;34m.\u001b[0m\u001b[0m_io\u001b[0m \u001b[0;34m=\u001b[0m \u001b[0mstringify_path\u001b[0m\u001b[0;34m(\u001b[0m\u001b[0mpath_or_buffer\u001b[0m\u001b[0;34m)\u001b[0m\u001b[0;34m\u001b[0m\u001b[0;34m\u001b[0m\u001b[0m\n\u001b[1;32m    866\u001b[0m \u001b[0;34m\u001b[0m\u001b[0m\n\u001b[0;32m--> 867\u001b[0;31m         \u001b[0mself\u001b[0m\u001b[0;34m.\u001b[0m\u001b[0m_reader\u001b[0m \u001b[0;34m=\u001b[0m \u001b[0mself\u001b[0m\u001b[0;34m.\u001b[0m\u001b[0m_engines\u001b[0m\u001b[0;34m[\u001b[0m\u001b[0mengine\u001b[0m\u001b[0;34m]\u001b[0m\u001b[0;34m(\u001b[0m\u001b[0mself\u001b[0m\u001b[0;34m.\u001b[0m\u001b[0m_io\u001b[0m\u001b[0;34m)\u001b[0m\u001b[0;34m\u001b[0m\u001b[0;34m\u001b[0m\u001b[0m\n\u001b[0m\u001b[1;32m    868\u001b[0m \u001b[0;34m\u001b[0m\u001b[0m\n\u001b[1;32m    869\u001b[0m     \u001b[0;32mdef\u001b[0m \u001b[0m__fspath__\u001b[0m\u001b[0;34m(\u001b[0m\u001b[0mself\u001b[0m\u001b[0;34m)\u001b[0m\u001b[0;34m:\u001b[0m\u001b[0;34m\u001b[0m\u001b[0;34m\u001b[0m\u001b[0m\n",
      "\u001b[0;32m/usr/local/lib/python3.8/site-packages/pandas/io/excel/_xlrd.py\u001b[0m in \u001b[0;36m__init__\u001b[0;34m(self, filepath_or_buffer)\u001b[0m\n\u001b[1;32m     20\u001b[0m         \u001b[0merr_msg\u001b[0m \u001b[0;34m=\u001b[0m \u001b[0;34m\"Install xlrd >= 1.0.0 for Excel support\"\u001b[0m\u001b[0;34m\u001b[0m\u001b[0;34m\u001b[0m\u001b[0m\n\u001b[1;32m     21\u001b[0m         \u001b[0mimport_optional_dependency\u001b[0m\u001b[0;34m(\u001b[0m\u001b[0;34m\"xlrd\"\u001b[0m\u001b[0;34m,\u001b[0m \u001b[0mextra\u001b[0m\u001b[0;34m=\u001b[0m\u001b[0merr_msg\u001b[0m\u001b[0;34m)\u001b[0m\u001b[0;34m\u001b[0m\u001b[0;34m\u001b[0m\u001b[0m\n\u001b[0;32m---> 22\u001b[0;31m         \u001b[0msuper\u001b[0m\u001b[0;34m(\u001b[0m\u001b[0;34m)\u001b[0m\u001b[0;34m.\u001b[0m\u001b[0m__init__\u001b[0m\u001b[0;34m(\u001b[0m\u001b[0mfilepath_or_buffer\u001b[0m\u001b[0;34m)\u001b[0m\u001b[0;34m\u001b[0m\u001b[0;34m\u001b[0m\u001b[0m\n\u001b[0m\u001b[1;32m     23\u001b[0m \u001b[0;34m\u001b[0m\u001b[0m\n\u001b[1;32m     24\u001b[0m     \u001b[0;34m@\u001b[0m\u001b[0mproperty\u001b[0m\u001b[0;34m\u001b[0m\u001b[0;34m\u001b[0m\u001b[0m\n",
      "\u001b[0;32m/usr/local/lib/python3.8/site-packages/pandas/io/excel/_base.py\u001b[0m in \u001b[0;36m__init__\u001b[0;34m(self, filepath_or_buffer)\u001b[0m\n\u001b[1;32m    351\u001b[0m             \u001b[0mself\u001b[0m\u001b[0;34m.\u001b[0m\u001b[0mbook\u001b[0m \u001b[0;34m=\u001b[0m \u001b[0mself\u001b[0m\u001b[0;34m.\u001b[0m\u001b[0mload_workbook\u001b[0m\u001b[0;34m(\u001b[0m\u001b[0mfilepath_or_buffer\u001b[0m\u001b[0;34m)\u001b[0m\u001b[0;34m\u001b[0m\u001b[0;34m\u001b[0m\u001b[0m\n\u001b[1;32m    352\u001b[0m         \u001b[0;32melif\u001b[0m \u001b[0misinstance\u001b[0m\u001b[0;34m(\u001b[0m\u001b[0mfilepath_or_buffer\u001b[0m\u001b[0;34m,\u001b[0m \u001b[0mstr\u001b[0m\u001b[0;34m)\u001b[0m\u001b[0;34m:\u001b[0m\u001b[0;34m\u001b[0m\u001b[0;34m\u001b[0m\u001b[0m\n\u001b[0;32m--> 353\u001b[0;31m             \u001b[0mself\u001b[0m\u001b[0;34m.\u001b[0m\u001b[0mbook\u001b[0m \u001b[0;34m=\u001b[0m \u001b[0mself\u001b[0m\u001b[0;34m.\u001b[0m\u001b[0mload_workbook\u001b[0m\u001b[0;34m(\u001b[0m\u001b[0mfilepath_or_buffer\u001b[0m\u001b[0;34m)\u001b[0m\u001b[0;34m\u001b[0m\u001b[0;34m\u001b[0m\u001b[0m\n\u001b[0m\u001b[1;32m    354\u001b[0m         \u001b[0;32melif\u001b[0m \u001b[0misinstance\u001b[0m\u001b[0;34m(\u001b[0m\u001b[0mfilepath_or_buffer\u001b[0m\u001b[0;34m,\u001b[0m \u001b[0mbytes\u001b[0m\u001b[0;34m)\u001b[0m\u001b[0;34m:\u001b[0m\u001b[0;34m\u001b[0m\u001b[0;34m\u001b[0m\u001b[0m\n\u001b[1;32m    355\u001b[0m             \u001b[0mself\u001b[0m\u001b[0;34m.\u001b[0m\u001b[0mbook\u001b[0m \u001b[0;34m=\u001b[0m \u001b[0mself\u001b[0m\u001b[0;34m.\u001b[0m\u001b[0mload_workbook\u001b[0m\u001b[0;34m(\u001b[0m\u001b[0mBytesIO\u001b[0m\u001b[0;34m(\u001b[0m\u001b[0mfilepath_or_buffer\u001b[0m\u001b[0;34m)\u001b[0m\u001b[0;34m)\u001b[0m\u001b[0;34m\u001b[0m\u001b[0;34m\u001b[0m\u001b[0m\n",
      "\u001b[0;32m/usr/local/lib/python3.8/site-packages/pandas/io/excel/_xlrd.py\u001b[0m in \u001b[0;36mload_workbook\u001b[0;34m(self, filepath_or_buffer)\u001b[0m\n\u001b[1;32m     35\u001b[0m             \u001b[0;32mreturn\u001b[0m \u001b[0mopen_workbook\u001b[0m\u001b[0;34m(\u001b[0m\u001b[0mfile_contents\u001b[0m\u001b[0;34m=\u001b[0m\u001b[0mdata\u001b[0m\u001b[0;34m)\u001b[0m\u001b[0;34m\u001b[0m\u001b[0;34m\u001b[0m\u001b[0m\n\u001b[1;32m     36\u001b[0m         \u001b[0;32melse\u001b[0m\u001b[0;34m:\u001b[0m\u001b[0;34m\u001b[0m\u001b[0;34m\u001b[0m\u001b[0m\n\u001b[0;32m---> 37\u001b[0;31m             \u001b[0;32mreturn\u001b[0m \u001b[0mopen_workbook\u001b[0m\u001b[0;34m(\u001b[0m\u001b[0mfilepath_or_buffer\u001b[0m\u001b[0;34m)\u001b[0m\u001b[0;34m\u001b[0m\u001b[0;34m\u001b[0m\u001b[0m\n\u001b[0m\u001b[1;32m     38\u001b[0m \u001b[0;34m\u001b[0m\u001b[0m\n\u001b[1;32m     39\u001b[0m     \u001b[0;34m@\u001b[0m\u001b[0mproperty\u001b[0m\u001b[0;34m\u001b[0m\u001b[0;34m\u001b[0m\u001b[0m\n",
      "\u001b[0;32m/usr/local/lib/python3.8/site-packages/xlrd/__init__.py\u001b[0m in \u001b[0;36mopen_workbook\u001b[0;34m(filename, logfile, verbosity, use_mmap, file_contents, encoding_override, formatting_info, on_demand, ragged_rows, ignore_workbook_corruption)\u001b[0m\n\u001b[1;32m    164\u001b[0m     \"\"\"\n\u001b[1;32m    165\u001b[0m \u001b[0;34m\u001b[0m\u001b[0m\n\u001b[0;32m--> 166\u001b[0;31m     \u001b[0mfile_format\u001b[0m \u001b[0;34m=\u001b[0m \u001b[0minspect_format\u001b[0m\u001b[0;34m(\u001b[0m\u001b[0mfilename\u001b[0m\u001b[0;34m,\u001b[0m \u001b[0mfile_contents\u001b[0m\u001b[0;34m)\u001b[0m\u001b[0;34m\u001b[0m\u001b[0;34m\u001b[0m\u001b[0m\n\u001b[0m\u001b[1;32m    167\u001b[0m     \u001b[0;31m# We have to let unknown file formats pass through here, as some ancient\u001b[0m\u001b[0;34m\u001b[0m\u001b[0;34m\u001b[0m\u001b[0;34m\u001b[0m\u001b[0m\n\u001b[1;32m    168\u001b[0m     \u001b[0;31m# files that xlrd can parse don't start with the expected signature.\u001b[0m\u001b[0;34m\u001b[0m\u001b[0;34m\u001b[0m\u001b[0;34m\u001b[0m\u001b[0m\n",
      "\u001b[0;32m/usr/local/lib/python3.8/site-packages/xlrd/__init__.py\u001b[0m in \u001b[0;36minspect_format\u001b[0;34m(path, content)\u001b[0m\n\u001b[1;32m     58\u001b[0m     \u001b[0;32melse\u001b[0m\u001b[0;34m:\u001b[0m\u001b[0;34m\u001b[0m\u001b[0;34m\u001b[0m\u001b[0m\n\u001b[1;32m     59\u001b[0m         \u001b[0mpath\u001b[0m \u001b[0;34m=\u001b[0m \u001b[0mos\u001b[0m\u001b[0;34m.\u001b[0m\u001b[0mpath\u001b[0m\u001b[0;34m.\u001b[0m\u001b[0mexpanduser\u001b[0m\u001b[0;34m(\u001b[0m\u001b[0mpath\u001b[0m\u001b[0;34m)\u001b[0m\u001b[0;34m\u001b[0m\u001b[0;34m\u001b[0m\u001b[0m\n\u001b[0;32m---> 60\u001b[0;31m         \u001b[0;32mwith\u001b[0m \u001b[0mopen\u001b[0m\u001b[0;34m(\u001b[0m\u001b[0mpath\u001b[0m\u001b[0;34m,\u001b[0m \u001b[0;34m\"rb\"\u001b[0m\u001b[0;34m)\u001b[0m \u001b[0;32mas\u001b[0m \u001b[0mf\u001b[0m\u001b[0;34m:\u001b[0m\u001b[0;34m\u001b[0m\u001b[0;34m\u001b[0m\u001b[0m\n\u001b[0m\u001b[1;32m     61\u001b[0m             \u001b[0mpeek\u001b[0m \u001b[0;34m=\u001b[0m \u001b[0mf\u001b[0m\u001b[0;34m.\u001b[0m\u001b[0mread\u001b[0m\u001b[0;34m(\u001b[0m\u001b[0mPEEK_SIZE\u001b[0m\u001b[0;34m)\u001b[0m\u001b[0;34m\u001b[0m\u001b[0;34m\u001b[0m\u001b[0m\n\u001b[1;32m     62\u001b[0m \u001b[0;34m\u001b[0m\u001b[0m\n",
      "\u001b[0;31mFileNotFoundError\u001b[0m: [Errno 2] No such file or directory: 'file.xlsx'"
     ]
    }
   ],
=======
   "execution_count": null,
   "id": "disabled-visit",
   "metadata": {},
   "outputs": [],
>>>>>>> 9bcb85082bee3521929bbc33123fdb6b165afb33
   "source": [
    "pd.read_excel('file.xlsx')\n",
    "df.to_excel('file.xlsx',  sheet_name='Sheet1')"
   ]
  },
  {
   "cell_type": "markdown",
<<<<<<< HEAD
=======
   "id": "entire-orleans",
>>>>>>> 9bcb85082bee3521929bbc33123fdb6b165afb33
   "metadata": {},
   "source": [
    "Read and Write to SQL Query or Database Table"
   ]
  },
  {
   "cell_type": "markdown",
<<<<<<< HEAD
=======
   "id": "quarterly-mattress",
>>>>>>> 9bcb85082bee3521929bbc33123fdb6b165afb33
   "metadata": {},
   "source": [
    "(read_sql()is a convenience wrapper around read_sql_table() and read_sql_query())"
   ]
  },
  {
   "cell_type": "code",
<<<<<<< HEAD
   "execution_count": 198,
=======
   "execution_count": null,
   "id": "polished-broadcasting",
>>>>>>> 9bcb85082bee3521929bbc33123fdb6b165afb33
   "metadata": {},
   "outputs": [],
   "source": [
    "import sqlite3\n",
    "\n",
    "conn = sqlite3.connect('../week-022/students.db')"
   ]
  },
  {
   "cell_type": "code",
<<<<<<< HEAD
   "execution_count": 200,
   "metadata": {},
   "outputs": [
    {
     "data": {
      "text/html": [
       "<div>\n",
       "<style scoped>\n",
       "    .dataframe tbody tr th:only-of-type {\n",
       "        vertical-align: middle;\n",
       "    }\n",
       "\n",
       "    .dataframe tbody tr th {\n",
       "        vertical-align: top;\n",
       "    }\n",
       "\n",
       "    .dataframe thead th {\n",
       "        text-align: right;\n",
       "    }\n",
       "</style>\n",
       "<table border=\"1\" class=\"dataframe\">\n",
       "  <thead>\n",
       "    <tr style=\"text-align: right;\">\n",
       "      <th></th>\n",
       "      <th>id</th>\n",
       "      <th>name</th>\n",
       "      <th>grade</th>\n",
       "    </tr>\n",
       "  </thead>\n",
       "  <tbody>\n",
       "    <tr>\n",
       "      <th>0</th>\n",
       "      <td>1</td>\n",
       "      <td>R</td>\n",
       "      <td>100</td>\n",
       "    </tr>\n",
       "    <tr>\n",
       "      <th>1</th>\n",
       "      <td>2</td>\n",
       "      <td>E</td>\n",
       "      <td>95</td>\n",
       "    </tr>\n",
       "    <tr>\n",
       "      <th>2</th>\n",
       "      <td>3</td>\n",
       "      <td>C</td>\n",
       "      <td>97</td>\n",
       "    </tr>\n",
       "    <tr>\n",
       "      <th>3</th>\n",
       "      <td>4</td>\n",
       "      <td>B</td>\n",
       "      <td>100</td>\n",
       "    </tr>\n",
       "    <tr>\n",
       "      <th>4</th>\n",
       "      <td>5</td>\n",
       "      <td>A</td>\n",
       "      <td>90</td>\n",
       "    </tr>\n",
       "    <tr>\n",
       "      <th>5</th>\n",
       "      <td>6</td>\n",
       "      <td>D</td>\n",
       "      <td>30</td>\n",
       "    </tr>\n",
       "    <tr>\n",
       "      <th>6</th>\n",
       "      <td>7</td>\n",
       "      <td>Z</td>\n",
       "      <td>60</td>\n",
       "    </tr>\n",
       "    <tr>\n",
       "      <th>7</th>\n",
       "      <td>8</td>\n",
       "      <td>Q</td>\n",
       "      <td>20</td>\n",
       "    </tr>\n",
       "    <tr>\n",
       "      <th>8</th>\n",
       "      <td>9</td>\n",
       "      <td>I</td>\n",
       "      <td>70</td>\n",
       "    </tr>\n",
       "  </tbody>\n",
       "</table>\n",
       "</div>"
      ],
      "text/plain": [
       "   id name  grade\n",
       "0   1    R    100\n",
       "1   2    E     95\n",
       "2   3    C     97\n",
       "3   4    B    100\n",
       "4   5    A     90\n",
       "5   6    D     30\n",
       "6   7    Z     60\n",
       "7   8    Q     20\n",
       "8   9    I     70"
      ]
     },
     "execution_count": 200,
     "metadata": {},
     "output_type": "execute_result"
    }
   ],
=======
   "execution_count": null,
   "id": "suffering-honey",
   "metadata": {},
   "outputs": [],
>>>>>>> 9bcb85082bee3521929bbc33123fdb6b165afb33
   "source": [
    "from sqlalchemy import create_engine\n",
    "engine = create_engine('sqlite:///../week-022/students.db')\n",
    "pd.read_sql('SELECT * FROM student;', engine)\n",
    "pd.read_sql_query('SELECT * FROM student;', engine)"
   ]
  },
  {
   "cell_type": "code",
   "execution_count": null,
<<<<<<< HEAD
=======
   "id": "focal-compatibility",
>>>>>>> 9bcb85082bee3521929bbc33123fdb6b165afb33
   "metadata": {},
   "outputs": [],
   "source": [
    "df.to_sql('new_table', engine)"
   ]
  },
  {
   "cell_type": "markdown",
<<<<<<< HEAD
=======
   "id": "iraqi-range",
>>>>>>> 9bcb85082bee3521929bbc33123fdb6b165afb33
   "metadata": {},
   "source": [
    "### Selection\n",
    "\n",
    "Getting\n",
    "\n",
    "Get one element"
   ]
  },
  {
   "cell_type": "code",
<<<<<<< HEAD
   "execution_count": 201,
   "metadata": {},
   "outputs": [
    {
     "data": {
      "text/plain": [
       "a    3\n",
       "b   -5\n",
       "c    7\n",
       "d    4\n",
       "dtype: int64"
      ]
     },
     "execution_count": 201,
     "metadata": {},
     "output_type": "execute_result"
    }
   ],
=======
   "execution_count": null,
   "id": "complimentary-matthew",
   "metadata": {},
   "outputs": [],
>>>>>>> 9bcb85082bee3521929bbc33123fdb6b165afb33
   "source": [
    "s = pd.Series([3, -5, 7, 4],  index=['a',  'b',  'c',  'd'])\n",
    "s"
   ]
  },
  {
   "cell_type": "code",
<<<<<<< HEAD
   "execution_count": 202,
   "metadata": {},
   "outputs": [
    {
     "data": {
      "text/plain": [
       "-5"
      ]
     },
     "execution_count": 202,
     "metadata": {},
     "output_type": "execute_result"
    }
   ],
=======
   "execution_count": null,
   "id": "planned-anxiety",
   "metadata": {},
   "outputs": [],
>>>>>>> 9bcb85082bee3521929bbc33123fdb6b165afb33
   "source": [
    "s['b']"
   ]
  },
  {
   "cell_type": "markdown",
<<<<<<< HEAD
=======
   "id": "proprietary-short",
>>>>>>> 9bcb85082bee3521929bbc33123fdb6b165afb33
   "metadata": {},
   "source": [
    "Get subset of a DataFrame"
   ]
  },
  {
   "cell_type": "code",
<<<<<<< HEAD
   "execution_count": 203,
   "metadata": {},
   "outputs": [
    {
     "ename": "FileNotFoundError",
     "evalue": "[Errno 2] No such file or directory: 'file.xls'",
     "output_type": "error",
     "traceback": [
      "\u001b[0;31m---------------------------------------------------------------------------\u001b[0m",
      "\u001b[0;31mFileNotFoundError\u001b[0m                         Traceback (most recent call last)",
      "\u001b[0;32m<ipython-input-203-63acb663fe85>\u001b[0m in \u001b[0;36m<module>\u001b[0;34m\u001b[0m\n\u001b[0;32m----> 1\u001b[0;31m \u001b[0mxlsx\u001b[0m \u001b[0;34m=\u001b[0m \u001b[0mpd\u001b[0m\u001b[0;34m.\u001b[0m\u001b[0mExcelFile\u001b[0m\u001b[0;34m(\u001b[0m\u001b[0;34m'file.xls'\u001b[0m\u001b[0;34m)\u001b[0m\u001b[0;34m\u001b[0m\u001b[0;34m\u001b[0m\u001b[0m\n\u001b[0m\u001b[1;32m      2\u001b[0m \u001b[0mdf\u001b[0m \u001b[0;34m=\u001b[0m \u001b[0mpd\u001b[0m\u001b[0;34m.\u001b[0m\u001b[0mread_excel\u001b[0m\u001b[0;34m(\u001b[0m\u001b[0mxlsx\u001b[0m\u001b[0;34m,\u001b[0m  \u001b[0;34m'Sheet1'\u001b[0m\u001b[0;34m)\u001b[0m\u001b[0;34m\u001b[0m\u001b[0;34m\u001b[0m\u001b[0m\n\u001b[1;32m      3\u001b[0m \u001b[0mdf\u001b[0m\u001b[0;34m[\u001b[0m\u001b[0;36m0\u001b[0m\u001b[0;34m:\u001b[0m\u001b[0;34m]\u001b[0m\u001b[0;34m\u001b[0m\u001b[0;34m\u001b[0m\u001b[0m\n",
      "\u001b[0;32m/usr/local/lib/python3.8/site-packages/pandas/io/excel/_base.py\u001b[0m in \u001b[0;36m__init__\u001b[0;34m(self, path_or_buffer, engine)\u001b[0m\n\u001b[1;32m    865\u001b[0m         \u001b[0mself\u001b[0m\u001b[0;34m.\u001b[0m\u001b[0m_io\u001b[0m \u001b[0;34m=\u001b[0m \u001b[0mstringify_path\u001b[0m\u001b[0;34m(\u001b[0m\u001b[0mpath_or_buffer\u001b[0m\u001b[0;34m)\u001b[0m\u001b[0;34m\u001b[0m\u001b[0;34m\u001b[0m\u001b[0m\n\u001b[1;32m    866\u001b[0m \u001b[0;34m\u001b[0m\u001b[0m\n\u001b[0;32m--> 867\u001b[0;31m         \u001b[0mself\u001b[0m\u001b[0;34m.\u001b[0m\u001b[0m_reader\u001b[0m \u001b[0;34m=\u001b[0m \u001b[0mself\u001b[0m\u001b[0;34m.\u001b[0m\u001b[0m_engines\u001b[0m\u001b[0;34m[\u001b[0m\u001b[0mengine\u001b[0m\u001b[0;34m]\u001b[0m\u001b[0;34m(\u001b[0m\u001b[0mself\u001b[0m\u001b[0;34m.\u001b[0m\u001b[0m_io\u001b[0m\u001b[0;34m)\u001b[0m\u001b[0;34m\u001b[0m\u001b[0;34m\u001b[0m\u001b[0m\n\u001b[0m\u001b[1;32m    868\u001b[0m \u001b[0;34m\u001b[0m\u001b[0m\n\u001b[1;32m    869\u001b[0m     \u001b[0;32mdef\u001b[0m \u001b[0m__fspath__\u001b[0m\u001b[0;34m(\u001b[0m\u001b[0mself\u001b[0m\u001b[0;34m)\u001b[0m\u001b[0;34m:\u001b[0m\u001b[0;34m\u001b[0m\u001b[0;34m\u001b[0m\u001b[0m\n",
      "\u001b[0;32m/usr/local/lib/python3.8/site-packages/pandas/io/excel/_xlrd.py\u001b[0m in \u001b[0;36m__init__\u001b[0;34m(self, filepath_or_buffer)\u001b[0m\n\u001b[1;32m     20\u001b[0m         \u001b[0merr_msg\u001b[0m \u001b[0;34m=\u001b[0m \u001b[0;34m\"Install xlrd >= 1.0.0 for Excel support\"\u001b[0m\u001b[0;34m\u001b[0m\u001b[0;34m\u001b[0m\u001b[0m\n\u001b[1;32m     21\u001b[0m         \u001b[0mimport_optional_dependency\u001b[0m\u001b[0;34m(\u001b[0m\u001b[0;34m\"xlrd\"\u001b[0m\u001b[0;34m,\u001b[0m \u001b[0mextra\u001b[0m\u001b[0;34m=\u001b[0m\u001b[0merr_msg\u001b[0m\u001b[0;34m)\u001b[0m\u001b[0;34m\u001b[0m\u001b[0;34m\u001b[0m\u001b[0m\n\u001b[0;32m---> 22\u001b[0;31m         \u001b[0msuper\u001b[0m\u001b[0;34m(\u001b[0m\u001b[0;34m)\u001b[0m\u001b[0;34m.\u001b[0m\u001b[0m__init__\u001b[0m\u001b[0;34m(\u001b[0m\u001b[0mfilepath_or_buffer\u001b[0m\u001b[0;34m)\u001b[0m\u001b[0;34m\u001b[0m\u001b[0;34m\u001b[0m\u001b[0m\n\u001b[0m\u001b[1;32m     23\u001b[0m \u001b[0;34m\u001b[0m\u001b[0m\n\u001b[1;32m     24\u001b[0m     \u001b[0;34m@\u001b[0m\u001b[0mproperty\u001b[0m\u001b[0;34m\u001b[0m\u001b[0;34m\u001b[0m\u001b[0m\n",
      "\u001b[0;32m/usr/local/lib/python3.8/site-packages/pandas/io/excel/_base.py\u001b[0m in \u001b[0;36m__init__\u001b[0;34m(self, filepath_or_buffer)\u001b[0m\n\u001b[1;32m    351\u001b[0m             \u001b[0mself\u001b[0m\u001b[0;34m.\u001b[0m\u001b[0mbook\u001b[0m \u001b[0;34m=\u001b[0m \u001b[0mself\u001b[0m\u001b[0;34m.\u001b[0m\u001b[0mload_workbook\u001b[0m\u001b[0;34m(\u001b[0m\u001b[0mfilepath_or_buffer\u001b[0m\u001b[0;34m)\u001b[0m\u001b[0;34m\u001b[0m\u001b[0;34m\u001b[0m\u001b[0m\n\u001b[1;32m    352\u001b[0m         \u001b[0;32melif\u001b[0m \u001b[0misinstance\u001b[0m\u001b[0;34m(\u001b[0m\u001b[0mfilepath_or_buffer\u001b[0m\u001b[0;34m,\u001b[0m \u001b[0mstr\u001b[0m\u001b[0;34m)\u001b[0m\u001b[0;34m:\u001b[0m\u001b[0;34m\u001b[0m\u001b[0;34m\u001b[0m\u001b[0m\n\u001b[0;32m--> 353\u001b[0;31m             \u001b[0mself\u001b[0m\u001b[0;34m.\u001b[0m\u001b[0mbook\u001b[0m \u001b[0;34m=\u001b[0m \u001b[0mself\u001b[0m\u001b[0;34m.\u001b[0m\u001b[0mload_workbook\u001b[0m\u001b[0;34m(\u001b[0m\u001b[0mfilepath_or_buffer\u001b[0m\u001b[0;34m)\u001b[0m\u001b[0;34m\u001b[0m\u001b[0;34m\u001b[0m\u001b[0m\n\u001b[0m\u001b[1;32m    354\u001b[0m         \u001b[0;32melif\u001b[0m \u001b[0misinstance\u001b[0m\u001b[0;34m(\u001b[0m\u001b[0mfilepath_or_buffer\u001b[0m\u001b[0;34m,\u001b[0m \u001b[0mbytes\u001b[0m\u001b[0;34m)\u001b[0m\u001b[0;34m:\u001b[0m\u001b[0;34m\u001b[0m\u001b[0;34m\u001b[0m\u001b[0m\n\u001b[1;32m    355\u001b[0m             \u001b[0mself\u001b[0m\u001b[0;34m.\u001b[0m\u001b[0mbook\u001b[0m \u001b[0;34m=\u001b[0m \u001b[0mself\u001b[0m\u001b[0;34m.\u001b[0m\u001b[0mload_workbook\u001b[0m\u001b[0;34m(\u001b[0m\u001b[0mBytesIO\u001b[0m\u001b[0;34m(\u001b[0m\u001b[0mfilepath_or_buffer\u001b[0m\u001b[0;34m)\u001b[0m\u001b[0;34m)\u001b[0m\u001b[0;34m\u001b[0m\u001b[0;34m\u001b[0m\u001b[0m\n",
      "\u001b[0;32m/usr/local/lib/python3.8/site-packages/pandas/io/excel/_xlrd.py\u001b[0m in \u001b[0;36mload_workbook\u001b[0;34m(self, filepath_or_buffer)\u001b[0m\n\u001b[1;32m     35\u001b[0m             \u001b[0;32mreturn\u001b[0m \u001b[0mopen_workbook\u001b[0m\u001b[0;34m(\u001b[0m\u001b[0mfile_contents\u001b[0m\u001b[0;34m=\u001b[0m\u001b[0mdata\u001b[0m\u001b[0;34m)\u001b[0m\u001b[0;34m\u001b[0m\u001b[0;34m\u001b[0m\u001b[0m\n\u001b[1;32m     36\u001b[0m         \u001b[0;32melse\u001b[0m\u001b[0;34m:\u001b[0m\u001b[0;34m\u001b[0m\u001b[0;34m\u001b[0m\u001b[0m\n\u001b[0;32m---> 37\u001b[0;31m             \u001b[0;32mreturn\u001b[0m \u001b[0mopen_workbook\u001b[0m\u001b[0;34m(\u001b[0m\u001b[0mfilepath_or_buffer\u001b[0m\u001b[0;34m)\u001b[0m\u001b[0;34m\u001b[0m\u001b[0;34m\u001b[0m\u001b[0m\n\u001b[0m\u001b[1;32m     38\u001b[0m \u001b[0;34m\u001b[0m\u001b[0m\n\u001b[1;32m     39\u001b[0m     \u001b[0;34m@\u001b[0m\u001b[0mproperty\u001b[0m\u001b[0;34m\u001b[0m\u001b[0;34m\u001b[0m\u001b[0m\n",
      "\u001b[0;32m/usr/local/lib/python3.8/site-packages/xlrd/__init__.py\u001b[0m in \u001b[0;36mopen_workbook\u001b[0;34m(filename, logfile, verbosity, use_mmap, file_contents, encoding_override, formatting_info, on_demand, ragged_rows, ignore_workbook_corruption)\u001b[0m\n\u001b[1;32m    164\u001b[0m     \"\"\"\n\u001b[1;32m    165\u001b[0m \u001b[0;34m\u001b[0m\u001b[0m\n\u001b[0;32m--> 166\u001b[0;31m     \u001b[0mfile_format\u001b[0m \u001b[0;34m=\u001b[0m \u001b[0minspect_format\u001b[0m\u001b[0;34m(\u001b[0m\u001b[0mfilename\u001b[0m\u001b[0;34m,\u001b[0m \u001b[0mfile_contents\u001b[0m\u001b[0;34m)\u001b[0m\u001b[0;34m\u001b[0m\u001b[0;34m\u001b[0m\u001b[0m\n\u001b[0m\u001b[1;32m    167\u001b[0m     \u001b[0;31m# We have to let unknown file formats pass through here, as some ancient\u001b[0m\u001b[0;34m\u001b[0m\u001b[0;34m\u001b[0m\u001b[0;34m\u001b[0m\u001b[0m\n\u001b[1;32m    168\u001b[0m     \u001b[0;31m# files that xlrd can parse don't start with the expected signature.\u001b[0m\u001b[0;34m\u001b[0m\u001b[0;34m\u001b[0m\u001b[0;34m\u001b[0m\u001b[0m\n",
      "\u001b[0;32m/usr/local/lib/python3.8/site-packages/xlrd/__init__.py\u001b[0m in \u001b[0;36minspect_format\u001b[0;34m(path, content)\u001b[0m\n\u001b[1;32m     58\u001b[0m     \u001b[0;32melse\u001b[0m\u001b[0;34m:\u001b[0m\u001b[0;34m\u001b[0m\u001b[0;34m\u001b[0m\u001b[0m\n\u001b[1;32m     59\u001b[0m         \u001b[0mpath\u001b[0m \u001b[0;34m=\u001b[0m \u001b[0mos\u001b[0m\u001b[0;34m.\u001b[0m\u001b[0mpath\u001b[0m\u001b[0;34m.\u001b[0m\u001b[0mexpanduser\u001b[0m\u001b[0;34m(\u001b[0m\u001b[0mpath\u001b[0m\u001b[0;34m)\u001b[0m\u001b[0;34m\u001b[0m\u001b[0;34m\u001b[0m\u001b[0m\n\u001b[0;32m---> 60\u001b[0;31m         \u001b[0;32mwith\u001b[0m \u001b[0mopen\u001b[0m\u001b[0;34m(\u001b[0m\u001b[0mpath\u001b[0m\u001b[0;34m,\u001b[0m \u001b[0;34m\"rb\"\u001b[0m\u001b[0;34m)\u001b[0m \u001b[0;32mas\u001b[0m \u001b[0mf\u001b[0m\u001b[0;34m:\u001b[0m\u001b[0;34m\u001b[0m\u001b[0;34m\u001b[0m\u001b[0m\n\u001b[0m\u001b[1;32m     61\u001b[0m             \u001b[0mpeek\u001b[0m \u001b[0;34m=\u001b[0m \u001b[0mf\u001b[0m\u001b[0;34m.\u001b[0m\u001b[0mread\u001b[0m\u001b[0;34m(\u001b[0m\u001b[0mPEEK_SIZE\u001b[0m\u001b[0;34m)\u001b[0m\u001b[0;34m\u001b[0m\u001b[0;34m\u001b[0m\u001b[0m\n\u001b[1;32m     62\u001b[0m \u001b[0;34m\u001b[0m\u001b[0m\n",
      "\u001b[0;31mFileNotFoundError\u001b[0m: [Errno 2] No such file or directory: 'file.xls'"
     ]
    }
   ],
=======
   "execution_count": null,
   "id": "confirmed-discharge",
   "metadata": {},
   "outputs": [],
>>>>>>> 9bcb85082bee3521929bbc33123fdb6b165afb33
   "source": [
    "xlsx = pd.ExcelFile('file.xls')\n",
    "df = pd.read_excel(xlsx,  'Sheet1')\n",
    "df[0:]"
   ]
  },
  {
   "cell_type": "code",
   "execution_count": null,
<<<<<<< HEAD
=======
   "id": "naval-slovak",
>>>>>>> 9bcb85082bee3521929bbc33123fdb6b165afb33
   "metadata": {},
   "outputs": [],
   "source": [
    "df.iloc[0:,1:]"
   ]
  },
  {
   "cell_type": "markdown",
<<<<<<< HEAD
=======
   "id": "active-mirror",
>>>>>>> 9bcb85082bee3521929bbc33123fdb6b165afb33
   "metadata": {},
   "source": [
    "### Selecting, Boolean Indexing and Setting\n",
    "By Position"
   ]
  },
  {
   "cell_type": "markdown",
<<<<<<< HEAD
=======
   "id": "welcome-guard",
>>>>>>> 9bcb85082bee3521929bbc33123fdb6b165afb33
   "metadata": {},
   "source": [
    "Select single value by row and and column"
   ]
  },
  {
   "cell_type": "code",
<<<<<<< HEAD
   "execution_count": 205,
   "metadata": {},
   "outputs": [
    {
     "data": {
      "text/html": [
       "<div>\n",
       "<style scoped>\n",
       "    .dataframe tbody tr th:only-of-type {\n",
       "        vertical-align: middle;\n",
       "    }\n",
       "\n",
       "    .dataframe tbody tr th {\n",
       "        vertical-align: top;\n",
       "    }\n",
       "\n",
       "    .dataframe thead th {\n",
       "        text-align: right;\n",
       "    }\n",
       "</style>\n",
       "<table border=\"1\" class=\"dataframe\">\n",
       "  <thead>\n",
       "    <tr style=\"text-align: right;\">\n",
       "      <th></th>\n",
       "      <th>Country</th>\n",
       "      <th>Capital</th>\n",
       "      <th>Population</th>\n",
       "    </tr>\n",
       "  </thead>\n",
       "  <tbody>\n",
       "    <tr>\n",
       "      <th>0</th>\n",
       "      <td>Belgium</td>\n",
       "      <td>Brussels</td>\n",
       "      <td>11190846</td>\n",
       "    </tr>\n",
       "    <tr>\n",
       "      <th>1</th>\n",
       "      <td>India</td>\n",
       "      <td>New Delhi</td>\n",
       "      <td>1303171035</td>\n",
       "    </tr>\n",
       "    <tr>\n",
       "      <th>2</th>\n",
       "      <td>Brazil</td>\n",
       "      <td>Brasilia</td>\n",
       "      <td>207847528</td>\n",
       "    </tr>\n",
       "  </tbody>\n",
       "</table>\n",
       "</div>"
      ],
      "text/plain": [
       "   Country    Capital  Population\n",
       "0  Belgium   Brussels    11190846\n",
       "1    India  New Delhi  1303171035\n",
       "2   Brazil   Brasilia   207847528"
      ]
     },
     "execution_count": 205,
     "metadata": {},
     "output_type": "execute_result"
    }
   ],
=======
   "execution_count": null,
   "id": "adolescent-malpractice",
   "metadata": {},
   "outputs": [],
>>>>>>> 9bcb85082bee3521929bbc33123fdb6b165afb33
   "source": [
    "data = {'Country': ['Belgium',  'India',  'Brazil'],\n",
    "        'Capital': ['Brussels',  'New Delhi',  'Brasilia'],\n",
    "        'Population': [11190846, 1303171035, 207847528]\n",
    "}\n",
    "df = pd.DataFrame(data,columns=['Country',  'Capital',  'Population'])\n",
<<<<<<< HEAD
    "df"
   ]
  },
  {
   "cell_type": "code",
   "execution_count": 206,
   "metadata": {},
   "outputs": [
    {
     "data": {
      "text/html": [
       "<div>\n",
       "<style scoped>\n",
       "    .dataframe tbody tr th:only-of-type {\n",
       "        vertical-align: middle;\n",
       "    }\n",
       "\n",
       "    .dataframe tbody tr th {\n",
       "        vertical-align: top;\n",
       "    }\n",
       "\n",
       "    .dataframe thead th {\n",
       "        text-align: right;\n",
       "    }\n",
       "</style>\n",
       "<table border=\"1\" class=\"dataframe\">\n",
       "  <thead>\n",
       "    <tr style=\"text-align: right;\">\n",
       "      <th></th>\n",
       "      <th>Country</th>\n",
       "    </tr>\n",
       "  </thead>\n",
       "  <tbody>\n",
       "    <tr>\n",
       "      <th>0</th>\n",
       "      <td>Belgium</td>\n",
       "    </tr>\n",
       "  </tbody>\n",
       "</table>\n",
       "</div>"
      ],
      "text/plain": [
       "   Country\n",
       "0  Belgium"
      ]
     },
     "execution_count": 206,
     "metadata": {},
     "output_type": "execute_result"
    }
   ],
   "source": [
=======
>>>>>>> 9bcb85082bee3521929bbc33123fdb6b165afb33
    "df.iloc[[0], [0]]"
   ]
  },
  {
<<<<<<< HEAD
   "cell_type": "code",
   "execution_count": null,
   "metadata": {},
   "outputs": [],
   "source": [
    "# df['Country'].fillna(\"no country\", inplace=True)"
   ]
  },
  {
   "cell_type": "code",
   "execution_count": 211,
   "metadata": {},
   "outputs": [
    {
     "name": "stdout",
     "output_type": "stream",
     "text": [
      "Help on method fillna in module pandas.core.series:\n",
      "\n",
      "fillna(value=None, method=None, axis=None, inplace=False, limit=None, downcast=None) -> Union[ForwardRef('Series'), NoneType] method of pandas.core.series.Series instance\n",
      "    Fill NA/NaN values using the specified method.\n",
      "    \n",
      "    Parameters\n",
      "    ----------\n",
      "    value : scalar, dict, Series, or DataFrame\n",
      "        Value to use to fill holes (e.g. 0), alternately a\n",
      "        dict/Series/DataFrame of values specifying which value to use for\n",
      "        each index (for a Series) or column (for a DataFrame).  Values not\n",
      "        in the dict/Series/DataFrame will not be filled. This value cannot\n",
      "        be a list.\n",
      "    method : {'backfill', 'bfill', 'pad', 'ffill', None}, default None\n",
      "        Method to use for filling holes in reindexed Series\n",
      "        pad / ffill: propagate last valid observation forward to next valid\n",
      "        backfill / bfill: use next valid observation to fill gap.\n",
      "    axis : {0 or 'index'}\n",
      "        Axis along which to fill missing values.\n",
      "    inplace : bool, default False\n",
      "        If True, fill in-place. Note: this will modify any\n",
      "        other views on this object (e.g., a no-copy slice for a column in a\n",
      "        DataFrame).\n",
      "    limit : int, default None\n",
      "        If method is specified, this is the maximum number of consecutive\n",
      "        NaN values to forward/backward fill. In other words, if there is\n",
      "        a gap with more than this number of consecutive NaNs, it will only\n",
      "        be partially filled. If method is not specified, this is the\n",
      "        maximum number of entries along the entire axis where NaNs will be\n",
      "        filled. Must be greater than 0 if not None.\n",
      "    downcast : dict, default is None\n",
      "        A dict of item->dtype of what to downcast if possible,\n",
      "        or the string 'infer' which will try to downcast to an appropriate\n",
      "        equal type (e.g. float64 to int64 if possible).\n",
      "    \n",
      "    Returns\n",
      "    -------\n",
      "    Series or None\n",
      "        Object with missing values filled or None if ``inplace=True``.\n",
      "    \n",
      "    See Also\n",
      "    --------\n",
      "    interpolate : Fill NaN values using interpolation.\n",
      "    reindex : Conform object to new index.\n",
      "    asfreq : Convert TimeSeries to specified frequency.\n",
      "    \n",
      "    Examples\n",
      "    --------\n",
      "    >>> df = pd.DataFrame([[np.nan, 2, np.nan, 0],\n",
      "    ...                    [3, 4, np.nan, 1],\n",
      "    ...                    [np.nan, np.nan, np.nan, 5],\n",
      "    ...                    [np.nan, 3, np.nan, 4]],\n",
      "    ...                   columns=list('ABCD'))\n",
      "    >>> df\n",
      "         A    B   C  D\n",
      "    0  NaN  2.0 NaN  0\n",
      "    1  3.0  4.0 NaN  1\n",
      "    2  NaN  NaN NaN  5\n",
      "    3  NaN  3.0 NaN  4\n",
      "    \n",
      "    Replace all NaN elements with 0s.\n",
      "    \n",
      "    >>> df.fillna(0)\n",
      "        A   B   C   D\n",
      "    0   0.0 2.0 0.0 0\n",
      "    1   3.0 4.0 0.0 1\n",
      "    2   0.0 0.0 0.0 5\n",
      "    3   0.0 3.0 0.0 4\n",
      "    \n",
      "    We can also propagate non-null values forward or backward.\n",
      "    \n",
      "    >>> df.fillna(method='ffill')\n",
      "        A   B   C   D\n",
      "    0   NaN 2.0 NaN 0\n",
      "    1   3.0 4.0 NaN 1\n",
      "    2   3.0 4.0 NaN 5\n",
      "    3   3.0 3.0 NaN 4\n",
      "    \n",
      "    Replace all NaN elements in column 'A', 'B', 'C', and 'D', with 0, 1,\n",
      "    2, and 3 respectively.\n",
      "    \n",
      "    >>> values = {'A': 0, 'B': 1, 'C': 2, 'D': 3}\n",
      "    >>> df.fillna(value=values)\n",
      "        A   B   C   D\n",
      "    0   0.0 2.0 2.0 0\n",
      "    1   3.0 4.0 2.0 1\n",
      "    2   0.0 1.0 2.0 5\n",
      "    3   0.0 3.0 2.0 4\n",
      "    \n",
      "    Only replace the first NaN element.\n",
      "    \n",
      "    >>> df.fillna(value=values, limit=1)\n",
      "        A   B   C   D\n",
      "    0   0.0 2.0 2.0 0\n",
      "    1   3.0 4.0 NaN 1\n",
      "    2   NaN 1.0 NaN 5\n",
      "    3   NaN 3.0 NaN 4\n",
      "\n"
     ]
    }
   ],
   "source": [
    "#df[]\n",
    "help(df['Country'].fillna)"
   ]
  },
  {
   "cell_type": "markdown",
=======
   "cell_type": "markdown",
   "id": "dimensional-polls",
>>>>>>> 9bcb85082bee3521929bbc33123fdb6b165afb33
   "metadata": {},
   "source": [
    "Getting a specific index"
   ]
  },
  {
   "cell_type": "code",
<<<<<<< HEAD
   "execution_count": 212,
   "metadata": {},
   "outputs": [
    {
     "data": {
      "text/plain": [
       "'Belgium'"
      ]
     },
     "execution_count": 212,
     "metadata": {},
     "output_type": "execute_result"
    }
   ],
   "source": [
    "df.iat[0, 0]"
   ]
  },
  {
   "cell_type": "code",
   "execution_count": 213,
   "metadata": {},
   "outputs": [
    {
     "data": {
      "text/plain": [
       "'Brussels'"
      ]
     },
     "execution_count": 213,
     "metadata": {},
     "output_type": "execute_result"
    }
   ],
   "source": [
    "df.iat[0, 1]"
=======
   "execution_count": null,
   "id": "excited-isolation",
   "metadata": {},
   "outputs": [],
   "source": [
    "df.iat[0, 0]"
>>>>>>> 9bcb85082bee3521929bbc33123fdb6b165afb33
   ]
  },
  {
   "cell_type": "markdown",
<<<<<<< HEAD
=======
   "id": "appropriate-sheep",
>>>>>>> 9bcb85082bee3521929bbc33123fdb6b165afb33
   "metadata": {},
   "source": [
    "By Label\n",
    "\n",
    "Select single value by row and column labels"
   ]
  },
  {
   "cell_type": "code",
<<<<<<< HEAD
   "execution_count": 214,
   "metadata": {},
   "outputs": [
    {
     "data": {
      "text/html": [
       "<div>\n",
       "<style scoped>\n",
       "    .dataframe tbody tr th:only-of-type {\n",
       "        vertical-align: middle;\n",
       "    }\n",
       "\n",
       "    .dataframe tbody tr th {\n",
       "        vertical-align: top;\n",
       "    }\n",
       "\n",
       "    .dataframe thead th {\n",
       "        text-align: right;\n",
       "    }\n",
       "</style>\n",
       "<table border=\"1\" class=\"dataframe\">\n",
       "  <thead>\n",
       "    <tr style=\"text-align: right;\">\n",
       "      <th></th>\n",
       "      <th>Country</th>\n",
       "    </tr>\n",
       "  </thead>\n",
       "  <tbody>\n",
       "    <tr>\n",
       "      <th>0</th>\n",
       "      <td>Belgium</td>\n",
       "    </tr>\n",
       "  </tbody>\n",
       "</table>\n",
       "</div>"
      ],
      "text/plain": [
       "   Country\n",
       "0  Belgium"
      ]
     },
     "execution_count": 214,
     "metadata": {},
     "output_type": "execute_result"
    }
   ],
=======
   "execution_count": null,
   "id": "isolated-receiver",
   "metadata": {},
   "outputs": [],
>>>>>>> 9bcb85082bee3521929bbc33123fdb6b165afb33
   "source": [
    "df.loc[[0],  ['Country']]"
   ]
  },
  {
   "cell_type": "code",
<<<<<<< HEAD
   "execution_count": 215,
   "metadata": {},
   "outputs": [
    {
     "data": {
      "text/plain": [
       "'Belgium'"
      ]
     },
     "execution_count": 215,
     "metadata": {},
     "output_type": "execute_result"
    }
   ],
=======
   "execution_count": null,
   "id": "freelance-estimate",
   "metadata": {},
   "outputs": [],
>>>>>>> 9bcb85082bee3521929bbc33123fdb6b165afb33
   "source": [
    "df.at[0,  'Country']"
   ]
  },
  {
   "cell_type": "code",
<<<<<<< HEAD
   "execution_count": 216,
   "metadata": {},
   "outputs": [
    {
     "data": {
      "text/plain": [
       "Country            India\n",
       "Capital        New Delhi\n",
       "Population    1303171035\n",
       "Name: 1, dtype: object"
      ]
     },
     "execution_count": 216,
     "metadata": {},
     "output_type": "execute_result"
    }
   ],
=======
   "execution_count": null,
   "id": "forced-shape",
   "metadata": {},
   "outputs": [],
>>>>>>> 9bcb85082bee3521929bbc33123fdb6b165afb33
   "source": [
    "df.loc[1, :]"
   ]
  },
  {
   "cell_type": "code",
<<<<<<< HEAD
   "execution_count": 217,
   "metadata": {},
   "outputs": [
    {
     "data": {
      "text/html": [
       "<div>\n",
       "<style scoped>\n",
       "    .dataframe tbody tr th:only-of-type {\n",
       "        vertical-align: middle;\n",
       "    }\n",
       "\n",
       "    .dataframe tbody tr th {\n",
       "        vertical-align: top;\n",
       "    }\n",
       "\n",
       "    .dataframe thead th {\n",
       "        text-align: right;\n",
       "    }\n",
       "</style>\n",
       "<table border=\"1\" class=\"dataframe\">\n",
       "  <thead>\n",
       "    <tr style=\"text-align: right;\">\n",
       "      <th></th>\n",
       "      <th>Capital</th>\n",
       "    </tr>\n",
       "  </thead>\n",
       "  <tbody>\n",
       "    <tr>\n",
       "      <th>0</th>\n",
       "      <td>Brussels</td>\n",
       "    </tr>\n",
       "    <tr>\n",
       "      <th>1</th>\n",
       "      <td>New Delhi</td>\n",
       "    </tr>\n",
       "    <tr>\n",
       "      <th>2</th>\n",
       "      <td>Brasilia</td>\n",
       "    </tr>\n",
       "  </tbody>\n",
       "</table>\n",
       "</div>"
      ],
      "text/plain": [
       "     Capital\n",
       "0   Brussels\n",
       "1  New Delhi\n",
       "2   Brasilia"
      ]
     },
     "execution_count": 217,
     "metadata": {},
     "output_type": "execute_result"
    }
   ],
   "source": [
    "df.loc[:, ['Capital']]"
   ]
  },
  {
   "cell_type": "code",
   "execution_count": 219,
   "metadata": {},
   "outputs": [
    {
     "data": {
      "text/html": [
       "<div>\n",
       "<style scoped>\n",
       "    .dataframe tbody tr th:only-of-type {\n",
       "        vertical-align: middle;\n",
       "    }\n",
       "\n",
       "    .dataframe tbody tr th {\n",
       "        vertical-align: top;\n",
       "    }\n",
       "\n",
       "    .dataframe thead th {\n",
       "        text-align: right;\n",
       "    }\n",
       "</style>\n",
       "<table border=\"1\" class=\"dataframe\">\n",
       "  <thead>\n",
       "    <tr style=\"text-align: right;\">\n",
       "      <th></th>\n",
       "      <th>Capital</th>\n",
       "    </tr>\n",
       "  </thead>\n",
       "  <tbody>\n",
       "    <tr>\n",
       "      <th>0</th>\n",
       "      <td>Brussels</td>\n",
       "    </tr>\n",
       "    <tr>\n",
       "      <th>1</th>\n",
       "      <td>New Delhi</td>\n",
       "    </tr>\n",
       "    <tr>\n",
       "      <th>2</th>\n",
       "      <td>Brasilia</td>\n",
       "    </tr>\n",
       "  </tbody>\n",
       "</table>\n",
       "</div>"
      ],
      "text/plain": [
       "     Capital\n",
       "0   Brussels\n",
       "1  New Delhi\n",
       "2   Brasilia"
      ]
     },
     "execution_count": 219,
     "metadata": {},
     "output_type": "execute_result"
    }
   ],
=======
   "execution_count": null,
   "id": "nonprofit-system",
   "metadata": {},
   "outputs": [],
>>>>>>> 9bcb85082bee3521929bbc33123fdb6b165afb33
   "source": [
    "df.loc[:, ['Capital']]"
   ]
  },
  {
<<<<<<< HEAD
   "cell_type": "code",
   "execution_count": 222,
   "metadata": {},
   "outputs": [
    {
     "data": {
      "text/html": [
       "<div>\n",
       "<style scoped>\n",
       "    .dataframe tbody tr th:only-of-type {\n",
       "        vertical-align: middle;\n",
       "    }\n",
       "\n",
       "    .dataframe tbody tr th {\n",
       "        vertical-align: top;\n",
       "    }\n",
       "\n",
       "    .dataframe thead th {\n",
       "        text-align: right;\n",
       "    }\n",
       "</style>\n",
       "<table border=\"1\" class=\"dataframe\">\n",
       "  <thead>\n",
       "    <tr style=\"text-align: right;\">\n",
       "      <th></th>\n",
       "      <th>Capital</th>\n",
       "      <th>Country</th>\n",
       "    </tr>\n",
       "  </thead>\n",
       "  <tbody>\n",
       "    <tr>\n",
       "      <th>0</th>\n",
       "      <td>Brussels</td>\n",
       "      <td>Belgium</td>\n",
       "    </tr>\n",
       "    <tr>\n",
       "      <th>1</th>\n",
       "      <td>New Delhi</td>\n",
       "      <td>India</td>\n",
       "    </tr>\n",
       "    <tr>\n",
       "      <th>2</th>\n",
       "      <td>Brasilia</td>\n",
       "      <td>Brazil</td>\n",
       "    </tr>\n",
       "  </tbody>\n",
       "</table>\n",
       "</div>"
      ],
      "text/plain": [
       "     Capital  Country\n",
       "0   Brussels  Belgium\n",
       "1  New Delhi    India\n",
       "2   Brasilia   Brazil"
      ]
     },
     "execution_count": 222,
     "metadata": {},
     "output_type": "execute_result"
    }
   ],
   "source": [
    "df.loc[:, ['Capital', 'Country']]"
   ]
  },
  {
   "cell_type": "markdown",
=======
   "cell_type": "markdown",
   "id": "interested-morrison",
>>>>>>> 9bcb85082bee3521929bbc33123fdb6b165afb33
   "metadata": {},
   "source": [
    "Select rows and columns"
   ]
  },
  {
   "cell_type": "code",
<<<<<<< HEAD
   "execution_count": 221,
   "metadata": {},
   "outputs": [
    {
     "data": {
      "text/plain": [
       "'New Delhi'"
      ]
     },
     "execution_count": 221,
     "metadata": {},
     "output_type": "execute_result"
    }
   ],
   "source": [
    "df.loc[1, 'Capital']"
   ]
  },
  {
   "cell_type": "code",
   "execution_count": null,
   "metadata": {},
   "outputs": [],
   "source": [
    "# iloc and iat expecting index, by letters or index\n",
    "\n",
    "# python is glue language, with python, if works, then use c python to optimize, prototype and set up very qickly\n",
    "# then offload to c, c++ for optimization\n",
    "# similar for bots, set up in python, prototype and then use golang for concurrence, easier to get python to work"
=======
   "execution_count": null,
   "id": "missing-method",
   "metadata": {},
   "outputs": [],
   "source": [
    "df.loc[1, 'Capital']"
>>>>>>> 9bcb85082bee3521929bbc33123fdb6b165afb33
   ]
  },
  {
   "cell_type": "markdown",
<<<<<<< HEAD
=======
   "id": "martial-concrete",
>>>>>>> 9bcb85082bee3521929bbc33123fdb6b165afb33
   "metadata": {},
   "source": [
    "### Boolean Indexing\n",
    "\n",
    "Series s where value is not >1"
   ]
  },
  {
   "cell_type": "code",
<<<<<<< HEAD
   "execution_count": 226,
   "metadata": {},
   "outputs": [
    {
     "data": {
      "text/plain": [
       "b   -5\n",
       "dtype: int64"
      ]
     },
     "execution_count": 226,
     "metadata": {},
     "output_type": "execute_result"
    }
   ],
=======
   "execution_count": null,
   "id": "municipal-double",
   "metadata": {},
   "outputs": [],
>>>>>>> 9bcb85082bee3521929bbc33123fdb6b165afb33
   "source": [
    "s = pd.Series([3, -5, 7, 4],  index=['a',  'b',  'c',  'd'])\n",
    "s[~(s > 1)]"
   ]
  },
  {
   "cell_type": "markdown",
<<<<<<< HEAD
=======
   "id": "fitted-instrumentation",
>>>>>>> 9bcb85082bee3521929bbc33123fdb6b165afb33
   "metadata": {},
   "source": [
    "s where value is `s <-1` or `s>2`"
   ]
  },
  {
   "cell_type": "code",
<<<<<<< HEAD
   "execution_count": 224,
   "metadata": {},
   "outputs": [
    {
     "data": {
      "text/plain": [
       "a    3\n",
       "b   -5\n",
       "c    7\n",
       "d    4\n",
       "dtype: int64"
      ]
     },
     "execution_count": 224,
     "metadata": {},
     "output_type": "execute_result"
    }
   ],
   "source": [
    "s[(s < -1) | (s > 2)] # have to use logical operator and use ()"
=======
   "execution_count": null,
   "id": "oriented-adoption",
   "metadata": {},
   "outputs": [],
   "source": [
    "s[(s < -1) | (s > 2)]"
>>>>>>> 9bcb85082bee3521929bbc33123fdb6b165afb33
   ]
  },
  {
   "cell_type": "markdown",
<<<<<<< HEAD
=======
   "id": "assured-hierarchy",
>>>>>>> 9bcb85082bee3521929bbc33123fdb6b165afb33
   "metadata": {},
   "source": [
    "Use filter to adjust DataFrame"
   ]
  },
  {
   "cell_type": "code",
<<<<<<< HEAD
   "execution_count": 227,
   "metadata": {},
   "outputs": [
    {
     "data": {
      "text/plain": [
       "0    False\n",
       "1     True\n",
       "2    False\n",
       "Name: Population, dtype: bool"
      ]
     },
     "execution_count": 227,
     "metadata": {},
     "output_type": "execute_result"
    }
   ],
   "source": [
    "df['Population']>1200000000"
   ]
  },
  {
   "cell_type": "code",
   "execution_count": 228,
   "metadata": {},
   "outputs": [
    {
     "data": {
      "text/html": [
       "<div>\n",
       "<style scoped>\n",
       "    .dataframe tbody tr th:only-of-type {\n",
       "        vertical-align: middle;\n",
       "    }\n",
       "\n",
       "    .dataframe tbody tr th {\n",
       "        vertical-align: top;\n",
       "    }\n",
       "\n",
       "    .dataframe thead th {\n",
       "        text-align: right;\n",
       "    }\n",
       "</style>\n",
       "<table border=\"1\" class=\"dataframe\">\n",
       "  <thead>\n",
       "    <tr style=\"text-align: right;\">\n",
       "      <th></th>\n",
       "      <th>Country</th>\n",
       "      <th>Capital</th>\n",
       "      <th>Population</th>\n",
       "    </tr>\n",
       "  </thead>\n",
       "  <tbody>\n",
       "    <tr>\n",
       "      <th>1</th>\n",
       "      <td>India</td>\n",
       "      <td>New Delhi</td>\n",
       "      <td>1303171035</td>\n",
       "    </tr>\n",
       "  </tbody>\n",
       "</table>\n",
       "</div>"
      ],
      "text/plain": [
       "  Country    Capital  Population\n",
       "1   India  New Delhi  1303171035"
      ]
     },
     "execution_count": 228,
     "metadata": {},
     "output_type": "execute_result"
    }
   ],
=======
   "execution_count": null,
   "id": "apparent-transition",
   "metadata": {},
   "outputs": [],
>>>>>>> 9bcb85082bee3521929bbc33123fdb6b165afb33
   "source": [
    "df[df['Population']>1200000000]"
   ]
  },
  {
   "cell_type": "markdown",
<<<<<<< HEAD
=======
   "id": "combined-rabbit",
>>>>>>> 9bcb85082bee3521929bbc33123fdb6b165afb33
   "metadata": {},
   "source": [
    "### Setting\n",
    "\n",
    "Set index a of Series s to 6"
   ]
  },
  {
   "cell_type": "code",
<<<<<<< HEAD
   "execution_count": 229,
   "metadata": {},
   "outputs": [
    {
     "data": {
      "text/plain": [
       "a    6\n",
       "b   -5\n",
       "c    7\n",
       "d    4\n",
       "dtype: int64"
      ]
     },
     "execution_count": 229,
     "metadata": {},
     "output_type": "execute_result"
    }
   ],
=======
   "execution_count": null,
   "id": "attended-messaging",
   "metadata": {},
   "outputs": [],
>>>>>>> 9bcb85082bee3521929bbc33123fdb6b165afb33
   "source": [
    "s['a'] = 6\n",
    "s"
   ]
  },
  {
   "cell_type": "markdown",
<<<<<<< HEAD
=======
   "id": "sacred-uncle",
>>>>>>> 9bcb85082bee3521929bbc33123fdb6b165afb33
   "metadata": {},
   "source": [
    "### Dropping\n",
    "\n",
    "Drop values from rows (axis=0)"
   ]
  },
  {
   "cell_type": "code",
<<<<<<< HEAD
   "execution_count": 230,
   "metadata": {},
   "outputs": [
    {
     "data": {
      "text/plain": [
       "b   -5\n",
       "d    4\n",
       "dtype: int64"
      ]
     },
     "execution_count": 230,
     "metadata": {},
     "output_type": "execute_result"
    }
   ],
=======
   "execution_count": null,
   "id": "alive-honduras",
   "metadata": {},
   "outputs": [],
>>>>>>> 9bcb85082bee3521929bbc33123fdb6b165afb33
   "source": [
    "s.drop(['a',  'c'])"
   ]
  },
  {
   "cell_type": "markdown",
<<<<<<< HEAD
=======
   "id": "accepting-hebrew",
>>>>>>> 9bcb85082bee3521929bbc33123fdb6b165afb33
   "metadata": {},
   "source": [
    "Drop values from columns(axis=1)"
   ]
  },
  {
   "cell_type": "code",
<<<<<<< HEAD
   "execution_count": 231,
   "metadata": {},
   "outputs": [
    {
     "data": {
      "text/html": [
       "<div>\n",
       "<style scoped>\n",
       "    .dataframe tbody tr th:only-of-type {\n",
       "        vertical-align: middle;\n",
       "    }\n",
       "\n",
       "    .dataframe tbody tr th {\n",
       "        vertical-align: top;\n",
       "    }\n",
       "\n",
       "    .dataframe thead th {\n",
       "        text-align: right;\n",
       "    }\n",
       "</style>\n",
       "<table border=\"1\" class=\"dataframe\">\n",
       "  <thead>\n",
       "    <tr style=\"text-align: right;\">\n",
       "      <th></th>\n",
       "      <th>Capital</th>\n",
       "      <th>Population</th>\n",
       "    </tr>\n",
       "  </thead>\n",
       "  <tbody>\n",
       "    <tr>\n",
       "      <th>0</th>\n",
       "      <td>Brussels</td>\n",
       "      <td>11190846</td>\n",
       "    </tr>\n",
       "    <tr>\n",
       "      <th>1</th>\n",
       "      <td>New Delhi</td>\n",
       "      <td>1303171035</td>\n",
       "    </tr>\n",
       "    <tr>\n",
       "      <th>2</th>\n",
       "      <td>Brasilia</td>\n",
       "      <td>207847528</td>\n",
       "    </tr>\n",
       "  </tbody>\n",
       "</table>\n",
       "</div>"
      ],
      "text/plain": [
       "     Capital  Population\n",
       "0   Brussels    11190846\n",
       "1  New Delhi  1303171035\n",
       "2   Brasilia   207847528"
      ]
     },
     "execution_count": 231,
     "metadata": {},
     "output_type": "execute_result"
    }
   ],
=======
   "execution_count": null,
   "id": "infrared-canyon",
   "metadata": {},
   "outputs": [],
>>>>>>> 9bcb85082bee3521929bbc33123fdb6b165afb33
   "source": [
    "df.drop('Country', axis=1) "
   ]
  },
  {
   "cell_type": "markdown",
<<<<<<< HEAD
=======
   "id": "affecting-attachment",
>>>>>>> 9bcb85082bee3521929bbc33123fdb6b165afb33
   "metadata": {},
   "source": [
    "### Sort and Rank\n",
    "\n",
    "Sort by labels along an axis"
   ]
  },
  {
   "cell_type": "code",
<<<<<<< HEAD
   "execution_count": 232,
   "metadata": {},
   "outputs": [
    {
     "data": {
      "text/html": [
       "<div>\n",
       "<style scoped>\n",
       "    .dataframe tbody tr th:only-of-type {\n",
       "        vertical-align: middle;\n",
       "    }\n",
       "\n",
       "    .dataframe tbody tr th {\n",
       "        vertical-align: top;\n",
       "    }\n",
       "\n",
       "    .dataframe thead th {\n",
       "        text-align: right;\n",
       "    }\n",
       "</style>\n",
       "<table border=\"1\" class=\"dataframe\">\n",
       "  <thead>\n",
       "    <tr style=\"text-align: right;\">\n",
       "      <th></th>\n",
       "      <th>Country</th>\n",
       "      <th>Capital</th>\n",
       "      <th>Population</th>\n",
       "    </tr>\n",
       "  </thead>\n",
       "  <tbody>\n",
       "    <tr>\n",
       "      <th>0</th>\n",
       "      <td>Belgium</td>\n",
       "      <td>Brussels</td>\n",
       "      <td>11190846</td>\n",
       "    </tr>\n",
       "    <tr>\n",
       "      <th>1</th>\n",
       "      <td>India</td>\n",
       "      <td>New Delhi</td>\n",
       "      <td>1303171035</td>\n",
       "    </tr>\n",
       "    <tr>\n",
       "      <th>2</th>\n",
       "      <td>Brazil</td>\n",
       "      <td>Brasilia</td>\n",
       "      <td>207847528</td>\n",
       "    </tr>\n",
       "  </tbody>\n",
       "</table>\n",
       "</div>"
      ],
      "text/plain": [
       "   Country    Capital  Population\n",
       "0  Belgium   Brussels    11190846\n",
       "1    India  New Delhi  1303171035\n",
       "2   Brazil   Brasilia   207847528"
      ]
     },
     "execution_count": 232,
     "metadata": {},
     "output_type": "execute_result"
    }
   ],
=======
   "execution_count": null,
   "id": "solved-venue",
   "metadata": {},
   "outputs": [],
>>>>>>> 9bcb85082bee3521929bbc33123fdb6b165afb33
   "source": [
    "df.sort_index()"
   ]
  },
  {
   "cell_type": "markdown",
<<<<<<< HEAD
=======
   "id": "fifteen-cyprus",
>>>>>>> 9bcb85082bee3521929bbc33123fdb6b165afb33
   "metadata": {},
   "source": [
    "Sort by the values along an axis"
   ]
  },
  {
   "cell_type": "code",
<<<<<<< HEAD
   "execution_count": 233,
   "metadata": {},
   "outputs": [
    {
     "data": {
      "text/html": [
       "<div>\n",
       "<style scoped>\n",
       "    .dataframe tbody tr th:only-of-type {\n",
       "        vertical-align: middle;\n",
       "    }\n",
       "\n",
       "    .dataframe tbody tr th {\n",
       "        vertical-align: top;\n",
       "    }\n",
       "\n",
       "    .dataframe thead th {\n",
       "        text-align: right;\n",
       "    }\n",
       "</style>\n",
       "<table border=\"1\" class=\"dataframe\">\n",
       "  <thead>\n",
       "    <tr style=\"text-align: right;\">\n",
       "      <th></th>\n",
       "      <th>Country</th>\n",
       "      <th>Capital</th>\n",
       "      <th>Population</th>\n",
       "    </tr>\n",
       "  </thead>\n",
       "  <tbody>\n",
       "    <tr>\n",
       "      <th>0</th>\n",
       "      <td>Belgium</td>\n",
       "      <td>Brussels</td>\n",
       "      <td>11190846</td>\n",
       "    </tr>\n",
       "    <tr>\n",
       "      <th>2</th>\n",
       "      <td>Brazil</td>\n",
       "      <td>Brasilia</td>\n",
       "      <td>207847528</td>\n",
       "    </tr>\n",
       "    <tr>\n",
       "      <th>1</th>\n",
       "      <td>India</td>\n",
       "      <td>New Delhi</td>\n",
       "      <td>1303171035</td>\n",
       "    </tr>\n",
       "  </tbody>\n",
       "</table>\n",
       "</div>"
      ],
      "text/plain": [
       "   Country    Capital  Population\n",
       "0  Belgium   Brussels    11190846\n",
       "2   Brazil   Brasilia   207847528\n",
       "1    India  New Delhi  1303171035"
      ]
     },
     "execution_count": 233,
     "metadata": {},
     "output_type": "execute_result"
    }
   ],
   "source": [
    "df.sort_values(by='Country') # sorting by entire df, "
   ]
  },
  {
   "cell_type": "code",
   "execution_count": 234,
   "metadata": {},
   "outputs": [
    {
     "data": {
      "text/html": [
       "<div>\n",
       "<style scoped>\n",
       "    .dataframe tbody tr th:only-of-type {\n",
       "        vertical-align: middle;\n",
       "    }\n",
       "\n",
       "    .dataframe tbody tr th {\n",
       "        vertical-align: top;\n",
       "    }\n",
       "\n",
       "    .dataframe thead th {\n",
       "        text-align: right;\n",
       "    }\n",
       "</style>\n",
       "<table border=\"1\" class=\"dataframe\">\n",
       "  <thead>\n",
       "    <tr style=\"text-align: right;\">\n",
       "      <th></th>\n",
       "      <th>Country</th>\n",
       "      <th>Capital</th>\n",
       "      <th>Population</th>\n",
       "    </tr>\n",
       "  </thead>\n",
       "  <tbody>\n",
       "    <tr>\n",
       "      <th>1</th>\n",
       "      <td>India</td>\n",
       "      <td>New Delhi</td>\n",
       "      <td>1303171035</td>\n",
       "    </tr>\n",
       "    <tr>\n",
       "      <th>2</th>\n",
       "      <td>Brazil</td>\n",
       "      <td>Brasilia</td>\n",
       "      <td>207847528</td>\n",
       "    </tr>\n",
       "    <tr>\n",
       "      <th>0</th>\n",
       "      <td>Belgium</td>\n",
       "      <td>Brussels</td>\n",
       "      <td>11190846</td>\n",
       "    </tr>\n",
       "  </tbody>\n",
       "</table>\n",
       "</div>"
      ],
      "text/plain": [
       "   Country    Capital  Population\n",
       "1    India  New Delhi  1303171035\n",
       "2   Brazil   Brasilia   207847528\n",
       "0  Belgium   Brussels    11190846"
      ]
     },
     "execution_count": 234,
     "metadata": {},
     "output_type": "execute_result"
    }
   ],
   "source": [
    "df.sort_values(by='Country', ascending=False)"
=======
   "execution_count": null,
   "id": "casual-testament",
   "metadata": {},
   "outputs": [],
   "source": [
    "df.sort_values(by='Country') "
>>>>>>> 9bcb85082bee3521929bbc33123fdb6b165afb33
   ]
  },
  {
   "cell_type": "markdown",
<<<<<<< HEAD
=======
   "id": "surgical-motel",
>>>>>>> 9bcb85082bee3521929bbc33123fdb6b165afb33
   "metadata": {},
   "source": [
    "### Assign ranks to entries"
   ]
  },
  {
   "cell_type": "code",
<<<<<<< HEAD
   "execution_count": 235,
   "metadata": {},
   "outputs": [
    {
     "data": {
      "text/html": [
       "<div>\n",
       "<style scoped>\n",
       "    .dataframe tbody tr th:only-of-type {\n",
       "        vertical-align: middle;\n",
       "    }\n",
       "\n",
       "    .dataframe tbody tr th {\n",
       "        vertical-align: top;\n",
       "    }\n",
       "\n",
       "    .dataframe thead th {\n",
       "        text-align: right;\n",
       "    }\n",
       "</style>\n",
       "<table border=\"1\" class=\"dataframe\">\n",
       "  <thead>\n",
       "    <tr style=\"text-align: right;\">\n",
       "      <th></th>\n",
       "      <th>Country</th>\n",
       "      <th>Capital</th>\n",
       "      <th>Population</th>\n",
       "    </tr>\n",
       "  </thead>\n",
       "  <tbody>\n",
       "    <tr>\n",
       "      <th>0</th>\n",
       "      <td>1.0</td>\n",
       "      <td>2.0</td>\n",
       "      <td>1.0</td>\n",
       "    </tr>\n",
       "    <tr>\n",
       "      <th>1</th>\n",
       "      <td>3.0</td>\n",
       "      <td>3.0</td>\n",
       "      <td>3.0</td>\n",
       "    </tr>\n",
       "    <tr>\n",
       "      <th>2</th>\n",
       "      <td>2.0</td>\n",
       "      <td>1.0</td>\n",
       "      <td>2.0</td>\n",
       "    </tr>\n",
       "  </tbody>\n",
       "</table>\n",
       "</div>"
      ],
      "text/plain": [
       "   Country  Capital  Population\n",
       "0      1.0      2.0         1.0\n",
       "1      3.0      3.0         3.0\n",
       "2      2.0      1.0         2.0"
      ]
     },
     "execution_count": 235,
     "metadata": {},
     "output_type": "execute_result"
    }
   ],
   "source": [
    "df.rank()"
   ]
  },
  {
   "cell_type": "code",
   "execution_count": 236,
   "metadata": {},
   "outputs": [
    {
     "data": {
      "text/plain": [
       "0    1.0\n",
       "1    3.0\n",
       "2    2.0\n",
       "Name: Population, dtype: float64"
      ]
     },
     "execution_count": 236,
     "metadata": {},
     "output_type": "execute_result"
    }
   ],
   "source": [
    "df['Population'].rank() # for numeric value, but how does it know for categorical val"
=======
   "execution_count": null,
   "id": "defined-sunday",
   "metadata": {},
   "outputs": [],
   "source": [
    "df.rank()"
>>>>>>> 9bcb85082bee3521929bbc33123fdb6b165afb33
   ]
  },
  {
   "cell_type": "markdown",
<<<<<<< HEAD
=======
   "id": "assigned-classic",
>>>>>>> 9bcb85082bee3521929bbc33123fdb6b165afb33
   "metadata": {},
   "source": [
    "### Retrieving Series/DataFrame Information\n",
    "\n",
    "Basic Information\n",
    "\n",
    "(rows, columns)"
   ]
  },
  {
   "cell_type": "code",
<<<<<<< HEAD
   "execution_count": 237,
   "metadata": {},
   "outputs": [
    {
     "data": {
      "text/plain": [
       "(3, 3)"
      ]
     },
     "execution_count": 237,
     "metadata": {},
     "output_type": "execute_result"
    }
   ],
   "source": [
    "df.shape"
   ]
  },
  {
   "cell_type": "code",
   "execution_count": 238,
   "metadata": {},
   "outputs": [
    {
     "data": {
      "text/plain": [
       "(3,)"
      ]
     },
     "execution_count": 238,
     "metadata": {},
     "output_type": "execute_result"
    }
   ],
   "source": [
    "df['Country'].shape # how many ele in that series"
=======
   "execution_count": null,
   "id": "affecting-tonight",
   "metadata": {},
   "outputs": [],
   "source": [
    "df.shape"
>>>>>>> 9bcb85082bee3521929bbc33123fdb6b165afb33
   ]
  },
  {
   "cell_type": "markdown",
<<<<<<< HEAD
=======
   "id": "hispanic-volume",
>>>>>>> 9bcb85082bee3521929bbc33123fdb6b165afb33
   "metadata": {},
   "source": [
    "Describe index"
   ]
  },
  {
   "cell_type": "code",
<<<<<<< HEAD
   "execution_count": 239,
   "metadata": {},
   "outputs": [
    {
     "data": {
      "text/plain": [
       "RangeIndex(start=0, stop=3, step=1)"
      ]
     },
     "execution_count": 239,
     "metadata": {},
     "output_type": "execute_result"
    }
   ],
   "source": [
    "df.index"
   ]
  },
  {
   "cell_type": "code",
   "execution_count": 241,
   "metadata": {},
   "outputs": [
    {
     "data": {
      "text/plain": [
       "3"
      ]
     },
     "execution_count": 241,
     "metadata": {},
     "output_type": "execute_result"
    }
   ],
   "source": [
    "len(df.index)"
   ]
  },
  {
   "cell_type": "code",
   "execution_count": 242,
   "metadata": {},
   "outputs": [
    {
     "name": "stdout",
     "output_type": "stream",
     "text": [
      "0\n",
      "1\n",
      "2\n"
     ]
    }
   ],
   "source": [
    "for i in df.index:\n",
    "    print(i)"
=======
   "execution_count": null,
   "id": "suffering-census",
   "metadata": {},
   "outputs": [],
   "source": [
    "df.index"
>>>>>>> 9bcb85082bee3521929bbc33123fdb6b165afb33
   ]
  },
  {
   "cell_type": "markdown",
<<<<<<< HEAD
=======
   "id": "great-candy",
>>>>>>> 9bcb85082bee3521929bbc33123fdb6b165afb33
   "metadata": {},
   "source": [
    "Describe DataFrame columns"
   ]
  },
  {
   "cell_type": "code",
<<<<<<< HEAD
   "execution_count": 240,
   "metadata": {},
   "outputs": [
    {
     "data": {
      "text/plain": [
       "Index(['Country', 'Capital', 'Population'], dtype='object')"
      ]
     },
     "execution_count": 240,
     "metadata": {},
     "output_type": "execute_result"
    }
   ],
=======
   "execution_count": null,
   "id": "beautiful-agent",
   "metadata": {},
   "outputs": [],
>>>>>>> 9bcb85082bee3521929bbc33123fdb6b165afb33
   "source": [
    "df.columns"
   ]
  },
  {
   "cell_type": "markdown",
<<<<<<< HEAD
=======
   "id": "apparent-armstrong",
>>>>>>> 9bcb85082bee3521929bbc33123fdb6b165afb33
   "metadata": {},
   "source": [
    "Info on DataFrame"
   ]
  },
  {
   "cell_type": "code",
<<<<<<< HEAD
   "execution_count": 243,
   "metadata": {},
   "outputs": [
    {
     "name": "stdout",
     "output_type": "stream",
     "text": [
      "<class 'pandas.core.frame.DataFrame'>\n",
      "RangeIndex: 3 entries, 0 to 2\n",
      "Data columns (total 3 columns):\n",
      " #   Column      Non-Null Count  Dtype \n",
      "---  ------      --------------  ----- \n",
      " 0   Country     3 non-null      object\n",
      " 1   Capital     3 non-null      object\n",
      " 2   Population  3 non-null      int64 \n",
      "dtypes: int64(1), object(2)\n",
      "memory usage: 200.0+ bytes\n"
     ]
    }
   ],
=======
   "execution_count": null,
   "id": "female-rehabilitation",
   "metadata": {},
   "outputs": [],
>>>>>>> 9bcb85082bee3521929bbc33123fdb6b165afb33
   "source": [
    "df.info()"
   ]
  },
  {
   "cell_type": "code",
<<<<<<< HEAD
   "execution_count": 244,
   "metadata": {},
   "outputs": [
    {
     "ename": "SyntaxError",
     "evalue": "invalid syntax (<ipython-input-244-16b1b86ad608>, line 1)",
     "output_type": "error",
     "traceback": [
      "\u001b[0;36m  File \u001b[0;32m\"<ipython-input-244-16b1b86ad608>\"\u001b[0;36m, line \u001b[0;32m1\u001b[0m\n\u001b[0;31m    Number of non-NA values\u001b[0m\n\u001b[0m           ^\u001b[0m\n\u001b[0;31mSyntaxError\u001b[0m\u001b[0;31m:\u001b[0m invalid syntax\n"
     ]
    }
   ],
=======
   "execution_count": null,
   "id": "backed-feature",
   "metadata": {},
   "outputs": [],
>>>>>>> 9bcb85082bee3521929bbc33123fdb6b165afb33
   "source": [
    "Number of non-NA values"
   ]
  },
  {
   "cell_type": "code",
<<<<<<< HEAD
   "execution_count": 245,
   "metadata": {},
   "outputs": [
    {
     "data": {
      "text/plain": [
       "Country       3\n",
       "Capital       3\n",
       "Population    3\n",
       "dtype: int64"
      ]
     },
     "execution_count": 245,
     "metadata": {},
     "output_type": "execute_result"
    }
   ],
=======
   "execution_count": null,
   "id": "hollow-announcement",
   "metadata": {},
   "outputs": [],
>>>>>>> 9bcb85082bee3521929bbc33123fdb6b165afb33
   "source": [
    "df.count()"
   ]
  },
  {
   "cell_type": "code",
<<<<<<< HEAD
   "execution_count": 246,
   "metadata": {},
   "outputs": [
    {
     "data": {
      "text/plain": [
       "Country       3\n",
       "Capital       3\n",
       "Population    3\n",
       "dtype: int64"
      ]
     },
     "execution_count": 246,
     "metadata": {},
     "output_type": "execute_result"
    }
   ],
=======
   "execution_count": null,
   "id": "phantom-chest",
   "metadata": {},
   "outputs": [],
>>>>>>> 9bcb85082bee3521929bbc33123fdb6b165afb33
   "source": [
    "df.notna().sum()"
   ]
  },
  {
   "cell_type": "markdown",
<<<<<<< HEAD
=======
   "id": "bizarre-shaft",
>>>>>>> 9bcb85082bee3521929bbc33123fdb6b165afb33
   "metadata": {},
   "source": [
    "### Summary"
   ]
  },
  {
   "cell_type": "markdown",
<<<<<<< HEAD
=======
   "id": "studied-poker",
>>>>>>> 9bcb85082bee3521929bbc33123fdb6b165afb33
   "metadata": {},
   "source": [
    "Sum of values"
   ]
  },
  {
   "cell_type": "code",
<<<<<<< HEAD
   "execution_count": 247,
   "metadata": {},
   "outputs": [
    {
     "data": {
      "text/plain": [
       "Country              BelgiumIndiaBrazil\n",
       "Capital       BrusselsNew DelhiBrasilia\n",
       "Population                   1522209409\n",
       "dtype: object"
      ]
     },
     "execution_count": 247,
     "metadata": {},
     "output_type": "execute_result"
    }
   ],
   "source": [
    "df.sum() # sum nominal data, salso summing "
   ]
  },
  {
   "cell_type": "code",
   "execution_count": 248,
   "metadata": {},
   "outputs": [
    {
     "data": {
      "text/plain": [
       "1522209409"
      ]
     },
     "execution_count": 248,
     "metadata": {},
     "output_type": "execute_result"
    }
   ],
   "source": [
    "df['Population'].sum()"
=======
   "execution_count": null,
   "id": "covered-folder",
   "metadata": {},
   "outputs": [],
   "source": [
    "df.sum()"
>>>>>>> 9bcb85082bee3521929bbc33123fdb6b165afb33
   ]
  },
  {
   "cell_type": "markdown",
<<<<<<< HEAD
=======
   "id": "ultimate-mandate",
>>>>>>> 9bcb85082bee3521929bbc33123fdb6b165afb33
   "metadata": {},
   "source": [
    "Cumulative sum of values"
   ]
  },
  {
   "cell_type": "code",
<<<<<<< HEAD
   "execution_count": 249,
   "metadata": {},
   "outputs": [
    {
     "data": {
      "text/html": [
       "<div>\n",
       "<style scoped>\n",
       "    .dataframe tbody tr th:only-of-type {\n",
       "        vertical-align: middle;\n",
       "    }\n",
       "\n",
       "    .dataframe tbody tr th {\n",
       "        vertical-align: top;\n",
       "    }\n",
       "\n",
       "    .dataframe thead th {\n",
       "        text-align: right;\n",
       "    }\n",
       "</style>\n",
       "<table border=\"1\" class=\"dataframe\">\n",
       "  <thead>\n",
       "    <tr style=\"text-align: right;\">\n",
       "      <th></th>\n",
       "      <th>Country</th>\n",
       "      <th>Capital</th>\n",
       "      <th>Population</th>\n",
       "    </tr>\n",
       "  </thead>\n",
       "  <tbody>\n",
       "    <tr>\n",
       "      <th>0</th>\n",
       "      <td>Belgium</td>\n",
       "      <td>Brussels</td>\n",
       "      <td>11190846</td>\n",
       "    </tr>\n",
       "    <tr>\n",
       "      <th>1</th>\n",
       "      <td>BelgiumIndia</td>\n",
       "      <td>BrusselsNew Delhi</td>\n",
       "      <td>1314361881</td>\n",
       "    </tr>\n",
       "    <tr>\n",
       "      <th>2</th>\n",
       "      <td>BelgiumIndiaBrazil</td>\n",
       "      <td>BrusselsNew DelhiBrasilia</td>\n",
       "      <td>1522209409</td>\n",
       "    </tr>\n",
       "  </tbody>\n",
       "</table>\n",
       "</div>"
      ],
      "text/plain": [
       "              Country                    Capital  Population\n",
       "0             Belgium                   Brussels    11190846\n",
       "1        BelgiumIndia          BrusselsNew Delhi  1314361881\n",
       "2  BelgiumIndiaBrazil  BrusselsNew DelhiBrasilia  1522209409"
      ]
     },
     "execution_count": 249,
     "metadata": {},
     "output_type": "execute_result"
    }
   ],
=======
   "execution_count": null,
   "id": "aggregate-holiday",
   "metadata": {},
   "outputs": [],
>>>>>>> 9bcb85082bee3521929bbc33123fdb6b165afb33
   "source": [
    "df.cumsum()"
   ]
  },
  {
   "cell_type": "markdown",
<<<<<<< HEAD
=======
   "id": "posted-budapest",
>>>>>>> 9bcb85082bee3521929bbc33123fdb6b165afb33
   "metadata": {},
   "source": [
    "Minimum/maximum values"
   ]
  },
  {
   "cell_type": "code",
<<<<<<< HEAD
   "execution_count": 250,
   "metadata": {},
   "outputs": [
    {
     "data": {
      "text/plain": [
       "Country        Belgium\n",
       "Capital       Brasilia\n",
       "Population    11190846\n",
       "dtype: object"
      ]
     },
     "execution_count": 250,
     "metadata": {},
     "output_type": "execute_result"
    }
   ],
=======
   "execution_count": null,
   "id": "endless-banana",
   "metadata": {},
   "outputs": [],
>>>>>>> 9bcb85082bee3521929bbc33123fdb6b165afb33
   "source": [
    "df.min()"
   ]
  },
  {
   "cell_type": "code",
<<<<<<< HEAD
   "execution_count": 251,
   "metadata": {},
   "outputs": [
    {
     "data": {
      "text/plain": [
       "Country            India\n",
       "Capital        New Delhi\n",
       "Population    1303171035\n",
       "dtype: object"
      ]
     },
     "execution_count": 251,
     "metadata": {},
     "output_type": "execute_result"
    }
   ],
=======
   "execution_count": null,
   "id": "clean-kingston",
   "metadata": {},
   "outputs": [],
>>>>>>> 9bcb85082bee3521929bbc33123fdb6b165afb33
   "source": [
    "df.max()"
   ]
  },
  {
   "cell_type": "markdown",
<<<<<<< HEAD
=======
   "id": "unlikely-settle",
>>>>>>> 9bcb85082bee3521929bbc33123fdb6b165afb33
   "metadata": {},
   "source": [
    "Minimum/Maximum index value"
   ]
  },
  {
   "cell_type": "code",
<<<<<<< HEAD
   "execution_count": 252,
   "metadata": {},
   "outputs": [
    {
     "data": {
      "text/plain": [
       "a    3\n",
       "b   -5\n",
       "c    7\n",
       "d    4\n",
       "dtype: int64"
      ]
     },
     "execution_count": 252,
     "metadata": {},
     "output_type": "execute_result"
    }
   ],
=======
   "execution_count": null,
   "id": "necessary-smoke",
   "metadata": {},
   "outputs": [],
>>>>>>> 9bcb85082bee3521929bbc33123fdb6b165afb33
   "source": [
    "s = pd.Series([3, -5, 7, 4],  index=['a',  'b',  'c',  'd'])\n",
    "s"
   ]
  },
  {
   "cell_type": "code",
<<<<<<< HEAD
   "execution_count": 253,
   "metadata": {},
   "outputs": [
    {
     "data": {
      "text/plain": [
       "'b'"
      ]
     },
     "execution_count": 253,
     "metadata": {},
     "output_type": "execute_result"
    }
   ],
=======
   "execution_count": null,
   "id": "pacific-pharmacology",
   "metadata": {},
   "outputs": [],
>>>>>>> 9bcb85082bee3521929bbc33123fdb6b165afb33
   "source": [
    "s.idxmin()"
   ]
  },
  {
   "cell_type": "code",
<<<<<<< HEAD
   "execution_count": 254,
   "metadata": {},
   "outputs": [
    {
     "data": {
      "text/plain": [
       "'c'"
      ]
     },
     "execution_count": 254,
     "metadata": {},
     "output_type": "execute_result"
    }
   ],
=======
   "execution_count": null,
   "id": "resident-refund",
   "metadata": {},
   "outputs": [],
>>>>>>> 9bcb85082bee3521929bbc33123fdb6b165afb33
   "source": [
    "s.idxmax() "
   ]
  },
  {
   "cell_type": "markdown",
<<<<<<< HEAD
=======
   "id": "bearing-sleeve",
>>>>>>> 9bcb85082bee3521929bbc33123fdb6b165afb33
   "metadata": {},
   "source": [
    "Summary statistics"
   ]
  },
  {
   "cell_type": "code",
<<<<<<< HEAD
   "execution_count": 260,
   "metadata": {},
   "outputs": [
    {
     "data": {
      "text/plain": [
       "<AxesSubplot:>"
      ]
     },
     "execution_count": 260,
     "metadata": {},
     "output_type": "execute_result"
    },
    {
     "data": {
      "image/png": "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\n",
      "text/plain": [
       "<Figure size 432x288 with 1 Axes>"
      ]
     },
     "metadata": {
      "needs_background": "light"
     },
     "output_type": "display_data"
    }
   ],
=======
   "execution_count": null,
   "id": "hairy-excuse",
   "metadata": {},
   "outputs": [],
>>>>>>> 9bcb85082bee3521929bbc33123fdb6b165afb33
   "source": [
    "data = {'Country': ['Belgium',  'India',  'Brazil'],\n",
    "        'Capital': ['Brussels',  'New Delhi',  'Brasilia'],\n",
    "        'Population': [11190846, 1303171035, 207847528]\n",
    "}\n",
    "df = pd.DataFrame(data,columns=['Country',  'Capital',  'Population'])\n",
<<<<<<< HEAD
    "df.boxplot()"
   ]
  },
  {
   "cell_type": "code",
   "execution_count": 261,
   "metadata": {},
   "outputs": [
    {
     "data": {
      "text/html": [
       "<div>\n",
       "<style scoped>\n",
       "    .dataframe tbody tr th:only-of-type {\n",
       "        vertical-align: middle;\n",
       "    }\n",
       "\n",
       "    .dataframe tbody tr th {\n",
       "        vertical-align: top;\n",
       "    }\n",
       "\n",
       "    .dataframe thead th {\n",
       "        text-align: right;\n",
       "    }\n",
       "</style>\n",
       "<table border=\"1\" class=\"dataframe\">\n",
       "  <thead>\n",
       "    <tr style=\"text-align: right;\">\n",
       "      <th></th>\n",
       "      <th>Population</th>\n",
       "    </tr>\n",
       "  </thead>\n",
       "  <tbody>\n",
       "    <tr>\n",
       "      <th>count</th>\n",
       "      <td>3.000000e+00</td>\n",
       "    </tr>\n",
       "    <tr>\n",
       "      <th>mean</th>\n",
       "      <td>5.074031e+08</td>\n",
       "    </tr>\n",
       "    <tr>\n",
       "      <th>std</th>\n",
       "      <td>6.961346e+08</td>\n",
       "    </tr>\n",
       "    <tr>\n",
       "      <th>min</th>\n",
       "      <td>1.119085e+07</td>\n",
       "    </tr>\n",
       "    <tr>\n",
       "      <th>25%</th>\n",
       "      <td>1.095192e+08</td>\n",
       "    </tr>\n",
       "    <tr>\n",
       "      <th>50%</th>\n",
       "      <td>2.078475e+08</td>\n",
       "    </tr>\n",
       "    <tr>\n",
       "      <th>75%</th>\n",
       "      <td>7.555093e+08</td>\n",
       "    </tr>\n",
       "    <tr>\n",
       "      <th>max</th>\n",
       "      <td>1.303171e+09</td>\n",
       "    </tr>\n",
       "  </tbody>\n",
       "</table>\n",
       "</div>"
      ],
      "text/plain": [
       "         Population\n",
       "count  3.000000e+00\n",
       "mean   5.074031e+08\n",
       "std    6.961346e+08\n",
       "min    1.119085e+07\n",
       "25%    1.095192e+08\n",
       "50%    2.078475e+08\n",
       "75%    7.555093e+08\n",
       "max    1.303171e+09"
      ]
     },
     "execution_count": 261,
     "metadata": {},
     "output_type": "execute_result"
    }
   ],
   "source": [
=======
>>>>>>> 9bcb85082bee3521929bbc33123fdb6b165afb33
    "df.describe()"
   ]
  },
  {
   "cell_type": "markdown",
<<<<<<< HEAD
=======
   "id": "continuous-heather",
>>>>>>> 9bcb85082bee3521929bbc33123fdb6b165afb33
   "metadata": {},
   "source": [
    "Mean of values"
   ]
  },
  {
   "cell_type": "code",
<<<<<<< HEAD
   "execution_count": 256,
   "metadata": {},
   "outputs": [
    {
     "data": {
      "text/plain": [
       "Population    5.074031e+08\n",
       "dtype: float64"
      ]
     },
     "execution_count": 256,
     "metadata": {},
     "output_type": "execute_result"
    }
   ],
=======
   "execution_count": null,
   "id": "talented-jacob",
   "metadata": {},
   "outputs": [],
>>>>>>> 9bcb85082bee3521929bbc33123fdb6b165afb33
   "source": [
    "df.mean()"
   ]
  },
  {
   "cell_type": "markdown",
<<<<<<< HEAD
=======
   "id": "digital-aggregate",
>>>>>>> 9bcb85082bee3521929bbc33123fdb6b165afb33
   "metadata": {},
   "source": [
    "Median of values"
   ]
  },
  {
   "cell_type": "code",
<<<<<<< HEAD
   "execution_count": 257,
   "metadata": {},
   "outputs": [
    {
     "data": {
      "text/plain": [
       "Population    207847528.0\n",
       "dtype: float64"
      ]
     },
     "execution_count": 257,
     "metadata": {},
     "output_type": "execute_result"
    }
   ],
=======
   "execution_count": null,
   "id": "moved-shift",
   "metadata": {},
   "outputs": [],
>>>>>>> 9bcb85082bee3521929bbc33123fdb6b165afb33
   "source": [
    "df.median()"
   ]
  },
  {
   "cell_type": "code",
<<<<<<< HEAD
   "execution_count": 262,
   "metadata": {},
   "outputs": [
    {
     "data": {
      "text/plain": [
       "0      11190846\n",
       "1     207847528\n",
       "2    1303171035\n",
       "dtype: int64"
      ]
     },
     "execution_count": 262,
     "metadata": {},
     "output_type": "execute_result"
    }
   ],
   "source": [
    "\n",
=======
   "execution_count": null,
   "id": "mechanical-modification",
   "metadata": {},
   "outputs": [],
   "source": [
    "df = pd.DataFrame([[]])\n",
>>>>>>> 9bcb85082bee3521929bbc33123fdb6b165afb33
    "df['Population'].mode()"
   ]
  },
  {
   "cell_type": "markdown",
<<<<<<< HEAD
=======
   "id": "cooperative-white",
>>>>>>> 9bcb85082bee3521929bbc33123fdb6b165afb33
   "metadata": {},
   "source": [
    "Applying Functions"
   ]
  },
  {
   "cell_type": "code",
<<<<<<< HEAD
   "execution_count": 263,
=======
   "execution_count": null,
   "id": "chemical-anatomy",
>>>>>>> 9bcb85082bee3521929bbc33123fdb6b165afb33
   "metadata": {},
   "outputs": [],
   "source": [
    "f = lambda x: x*2"
   ]
  },
  {
   "cell_type": "code",
<<<<<<< HEAD
   "execution_count": 264,
   "metadata": {},
   "outputs": [
    {
     "data": {
      "text/html": [
       "<div>\n",
       "<style scoped>\n",
       "    .dataframe tbody tr th:only-of-type {\n",
       "        vertical-align: middle;\n",
       "    }\n",
       "\n",
       "    .dataframe tbody tr th {\n",
       "        vertical-align: top;\n",
       "    }\n",
       "\n",
       "    .dataframe thead th {\n",
       "        text-align: right;\n",
       "    }\n",
       "</style>\n",
       "<table border=\"1\" class=\"dataframe\">\n",
       "  <thead>\n",
       "    <tr style=\"text-align: right;\">\n",
       "      <th></th>\n",
       "      <th>b</th>\n",
       "      <th>d</th>\n",
       "      <th>e</th>\n",
       "    </tr>\n",
       "  </thead>\n",
       "  <tbody>\n",
       "    <tr>\n",
       "      <th>Utah</th>\n",
       "      <td>1.470845</td>\n",
       "      <td>-0.358329</td>\n",
       "      <td>0.088701</td>\n",
       "    </tr>\n",
       "    <tr>\n",
       "      <th>Ohio</th>\n",
       "      <td>-0.347620</td>\n",
       "      <td>-0.691709</td>\n",
       "      <td>-1.101877</td>\n",
       "    </tr>\n",
       "    <tr>\n",
       "      <th>Texas</th>\n",
       "      <td>2.164125</td>\n",
       "      <td>0.594081</td>\n",
       "      <td>1.213797</td>\n",
       "    </tr>\n",
       "    <tr>\n",
       "      <th>Oregon</th>\n",
       "      <td>-0.328046</td>\n",
       "      <td>-0.482802</td>\n",
       "      <td>-0.190105</td>\n",
       "    </tr>\n",
       "  </tbody>\n",
       "</table>\n",
       "</div>"
      ],
      "text/plain": [
       "               b         d         e\n",
       "Utah    1.470845 -0.358329  0.088701\n",
       "Ohio   -0.347620 -0.691709 -1.101877\n",
       "Texas   2.164125  0.594081  1.213797\n",
       "Oregon -0.328046 -0.482802 -0.190105"
      ]
     },
     "execution_count": 264,
     "metadata": {},
     "output_type": "execute_result"
    }
   ],
=======
   "execution_count": null,
   "id": "computational-fifteen",
   "metadata": {},
   "outputs": [],
>>>>>>> 9bcb85082bee3521929bbc33123fdb6b165afb33
   "source": [
    "frame = pd.DataFrame(np.random.randn(4, 3), columns=list('bde'), index=['Utah', 'Ohio', 'Texas', 'Oregon'])\n",
    "frame"
   ]
  },
  {
   "cell_type": "markdown",
<<<<<<< HEAD
=======
   "id": "environmental-tobago",
>>>>>>> 9bcb85082bee3521929bbc33123fdb6b165afb33
   "metadata": {},
   "source": [
    "Apply function\n",
    "\n",
    "`apply` works row/column-wise"
   ]
  },
  {
   "cell_type": "code",
<<<<<<< HEAD
   "execution_count": 265,
   "metadata": {},
   "outputs": [
    {
     "data": {
      "text/html": [
       "<div>\n",
       "<style scoped>\n",
       "    .dataframe tbody tr th:only-of-type {\n",
       "        vertical-align: middle;\n",
       "    }\n",
       "\n",
       "    .dataframe tbody tr th {\n",
       "        vertical-align: top;\n",
       "    }\n",
       "\n",
       "    .dataframe thead th {\n",
       "        text-align: right;\n",
       "    }\n",
       "</style>\n",
       "<table border=\"1\" class=\"dataframe\">\n",
       "  <thead>\n",
       "    <tr style=\"text-align: right;\">\n",
       "      <th></th>\n",
       "      <th>b</th>\n",
       "      <th>d</th>\n",
       "      <th>e</th>\n",
       "    </tr>\n",
       "  </thead>\n",
       "  <tbody>\n",
       "    <tr>\n",
       "      <th>Utah</th>\n",
       "      <td>2.941690</td>\n",
       "      <td>-0.716659</td>\n",
       "      <td>0.177403</td>\n",
       "    </tr>\n",
       "    <tr>\n",
       "      <th>Ohio</th>\n",
       "      <td>-0.695241</td>\n",
       "      <td>-1.383418</td>\n",
       "      <td>-2.203754</td>\n",
       "    </tr>\n",
       "    <tr>\n",
       "      <th>Texas</th>\n",
       "      <td>4.328250</td>\n",
       "      <td>1.188162</td>\n",
       "      <td>2.427594</td>\n",
       "    </tr>\n",
       "    <tr>\n",
       "      <th>Oregon</th>\n",
       "      <td>-0.656092</td>\n",
       "      <td>-0.965603</td>\n",
       "      <td>-0.380210</td>\n",
       "    </tr>\n",
       "  </tbody>\n",
       "</table>\n",
       "</div>"
      ],
      "text/plain": [
       "               b         d         e\n",
       "Utah    2.941690 -0.716659  0.177403\n",
       "Ohio   -0.695241 -1.383418 -2.203754\n",
       "Texas   4.328250  1.188162  2.427594\n",
       "Oregon -0.656092 -0.965603 -0.380210"
      ]
     },
     "execution_count": 265,
     "metadata": {},
     "output_type": "execute_result"
    }
   ],
   "source": [
    "frame.apply(f)"
   ]
  },
  {
   "cell_type": "code",
   "execution_count": 266,
   "metadata": {},
   "outputs": [
    {
     "data": {
      "text/plain": [
       "Utah      0.177403\n",
       "Ohio     -2.203754\n",
       "Texas     2.427594\n",
       "Oregon   -0.380210\n",
       "Name: e, dtype: float64"
      ]
     },
     "execution_count": 266,
     "metadata": {},
     "output_type": "execute_result"
    }
   ],
   "source": [
    "frame['e'].apply(f)"
=======
   "execution_count": null,
   "id": "administrative-optimum",
   "metadata": {},
   "outputs": [],
   "source": [
    "frame.apply(f)"
>>>>>>> 9bcb85082bee3521929bbc33123fdb6b165afb33
   ]
  },
  {
   "cell_type": "markdown",
<<<<<<< HEAD
=======
   "id": "serial-north",
>>>>>>> 9bcb85082bee3521929bbc33123fdb6b165afb33
   "metadata": {},
   "source": [
    "`applymap` works element-wise"
   ]
  },
  {
   "cell_type": "code",
   "execution_count": null,
<<<<<<< HEAD
   "metadata": {},
   "outputs": [],
   "source": [
    "frame.applymap(f) # for each entry in the dataframe"
=======
   "id": "civilian-premiere",
   "metadata": {},
   "outputs": [],
   "source": [
    "frame.applymap(f)"
>>>>>>> 9bcb85082bee3521929bbc33123fdb6b165afb33
   ]
  },
  {
   "cell_type": "markdown",
<<<<<<< HEAD
=======
   "id": "ready-howard",
>>>>>>> 9bcb85082bee3521929bbc33123fdb6b165afb33
   "metadata": {},
   "source": [
    "`map` works element-wise on a `Series`"
   ]
  },
  {
   "cell_type": "code",
<<<<<<< HEAD
   "execution_count": 267,
   "metadata": {},
   "outputs": [
    {
     "data": {
      "text/plain": [
       "Utah      2.941690\n",
       "Ohio     -0.695241\n",
       "Texas     4.328250\n",
       "Oregon   -0.656092\n",
       "Name: b, dtype: float64"
      ]
     },
     "execution_count": 267,
     "metadata": {},
     "output_type": "execute_result"
    }
   ],
=======
   "execution_count": null,
   "id": "mounted-newcastle",
   "metadata": {},
   "outputs": [],
>>>>>>> 9bcb85082bee3521929bbc33123fdb6b165afb33
   "source": [
    "frame['b'].map(f)"
   ]
  },
  {
   "cell_type": "markdown",
<<<<<<< HEAD
=======
   "id": "random-chassis",
>>>>>>> 9bcb85082bee3521929bbc33123fdb6b165afb33
   "metadata": {},
   "source": [
    "### Internal Data Alignment\n",
    "\n",
    "NA values are introduced in the indices that don't overlap:"
   ]
  },
  {
   "cell_type": "code",
<<<<<<< HEAD
   "execution_count": 268,
   "metadata": {},
   "outputs": [
    {
     "data": {
      "text/plain": [
       "a    10.0\n",
       "b     NaN\n",
       "c     5.0\n",
       "d     7.0\n",
       "dtype: float64"
      ]
     },
     "execution_count": 268,
     "metadata": {},
     "output_type": "execute_result"
    }
   ],
=======
   "execution_count": null,
   "id": "bridal-schedule",
   "metadata": {},
   "outputs": [],
>>>>>>> 9bcb85082bee3521929bbc33123fdb6b165afb33
   "source": [
    "s = pd.Series([3, -5, 7, 4],  index=['a',  'b',  'c',  'd'])\n",
    "s3 = pd.Series([7, -2, 3],  index=['a',  'c',  'd'])\n",
    "s + s3"
   ]
  },
  {
   "cell_type": "markdown",
<<<<<<< HEAD
=======
   "id": "activated-terrace",
>>>>>>> 9bcb85082bee3521929bbc33123fdb6b165afb33
   "metadata": {},
   "source": [
    "### Arithmetic Operations with Fill Methods\n",
    "\n",
    "You can also do the internal data alignment yourself with the help of the fill methods:"
   ]
  },
  {
   "cell_type": "code",
<<<<<<< HEAD
   "execution_count": 269,
   "metadata": {},
   "outputs": [
    {
     "data": {
      "text/plain": [
       "a    10.0\n",
       "b    -5.0\n",
       "c     5.0\n",
       "d     7.0\n",
       "dtype: float64"
      ]
     },
     "execution_count": 269,
     "metadata": {},
     "output_type": "execute_result"
    }
   ],
=======
   "execution_count": null,
   "id": "wired-desert",
   "metadata": {},
   "outputs": [],
>>>>>>> 9bcb85082bee3521929bbc33123fdb6b165afb33
   "source": [
    "s.add(s3, fill_value=0)"
   ]
  },
  {
   "cell_type": "code",
<<<<<<< HEAD
   "execution_count": 270,
   "metadata": {},
   "outputs": [
    {
     "data": {
      "text/plain": [
       "a   -4.0\n",
       "b   -7.0\n",
       "c    9.0\n",
       "d    1.0\n",
       "dtype: float64"
      ]
     },
     "execution_count": 270,
     "metadata": {},
     "output_type": "execute_result"
    }
   ],
   "source": [
    "s.sub(s3, fill_value=2) # add missing val"
=======
   "execution_count": null,
   "id": "behind-fever",
   "metadata": {},
   "outputs": [],
   "source": [
    "s.sub(s3, fill_value=2)"
>>>>>>> 9bcb85082bee3521929bbc33123fdb6b165afb33
   ]
  },
  {
   "cell_type": "code",
<<<<<<< HEAD
   "execution_count": 271,
   "metadata": {},
   "outputs": [
    {
     "data": {
      "text/plain": [
       "a    0.428571\n",
       "b   -1.250000\n",
       "c   -3.500000\n",
       "d    1.333333\n",
       "dtype: float64"
      ]
     },
     "execution_count": 271,
     "metadata": {},
     "output_type": "execute_result"
    }
   ],
=======
   "execution_count": null,
   "id": "illegal-conclusion",
   "metadata": {},
   "outputs": [],
>>>>>>> 9bcb85082bee3521929bbc33123fdb6b165afb33
   "source": [
    "s.div(s3, fill_value=4)"
   ]
  },
  {
   "cell_type": "code",
<<<<<<< HEAD
   "execution_count": 272,
   "metadata": {},
   "outputs": [
    {
     "data": {
      "text/plain": [
       "a    21.0\n",
       "b   -15.0\n",
       "c   -14.0\n",
       "d    12.0\n",
       "dtype: float64"
      ]
     },
     "execution_count": 272,
     "metadata": {},
     "output_type": "execute_result"
    }
   ],
=======
   "execution_count": null,
   "id": "indie-scholar",
   "metadata": {},
   "outputs": [],
>>>>>>> 9bcb85082bee3521929bbc33123fdb6b165afb33
   "source": [
    "s.mul(s3, fill_value=3)"
   ]
  },
  {
   "cell_type": "markdown",
<<<<<<< HEAD
=======
   "id": "imposed-maple",
>>>>>>> 9bcb85082bee3521929bbc33123fdb6b165afb33
   "metadata": {},
   "source": [
    "# Resources:\n",
    "\n",
    "https://www.kaggle.com/lavanyashukla01/pandas-numpy-python-cheatsheet\n",
    "\n"
   ]
  },
  {
   "cell_type": "markdown",
<<<<<<< HEAD
=======
   "id": "needed-buffalo",
>>>>>>> 9bcb85082bee3521929bbc33123fdb6b165afb33
   "metadata": {},
   "source": [
    "<div style=\"background: #000;\n",
    "            color: #FFF;\n",
    "            margin: 0px;\n",
    "            padding: 10px 0px 20px 0px;\n",
    "            text-align: center; \n",
    "                \">\n",
    "    <h1>Clustering Example</h1>\n",
    "</div>\n",
    "\n",
    "https://www.youtube.com/watch?v=4b5d3muPQmA\n",
    "\n",
    "This is the \"Iris\" dataset. Originally published at [UCI Machine Learning Repository: Iris Data Set](https://archive.ics.uci.edu/ml/datasets/Iris), this small dataset from 1936 is often used for testing out machine learning algorithms and visualizations (for example, [Scatter Plot](http://bl.ocks.org/curran/9e04ccfebeb84bcdc76c)). Each row of the table represents an iris flower, including its species and dimensions of its botanical parts, sepal and petal, in centimeters."
   ]
  },
  {
   "cell_type": "code",
<<<<<<< HEAD
   "execution_count": 274,
   "metadata": {},
   "outputs": [
    {
     "name": "stderr",
     "output_type": "stream",
     "text": [
      "<ipython-input-274-df7131347208>:86: UserWarning: Matplotlib is currently using module://ipykernel.pylab.backend_inline, which is a non-GUI backend, so cannot show the figure.\n",
      "  fig.show()\n"
     ]
    },
    {
     "data": {
      "image/png": "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\n",
      "text/plain": [
       "<Figure size 288x216 with 1 Axes>"
      ]
     },
     "metadata": {
      "needs_background": "light"
     },
     "output_type": "display_data"
    },
    {
     "data": {
      "image/png": "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\n",
      "text/plain": [
       "<Figure size 288x216 with 1 Axes>"
      ]
     },
     "metadata": {
      "needs_background": "light"
     },
     "output_type": "display_data"
    },
    {
     "data": {
      "image/png": "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\n",
      "text/plain": [
       "<Figure size 288x216 with 1 Axes>"
      ]
     },
     "metadata": {
      "needs_background": "light"
     },
     "output_type": "display_data"
    },
    {
     "data": {
      "image/png": "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\n",
      "text/plain": [
       "<Figure size 288x216 with 1 Axes>"
      ]
     },
     "metadata": {
      "needs_background": "light"
     },
     "output_type": "display_data"
    }
   ],
=======
   "execution_count": null,
   "id": "lyric-breeding",
   "metadata": {},
   "outputs": [],
>>>>>>> 9bcb85082bee3521929bbc33123fdb6b165afb33
   "source": [
    "# Code source: Gaël Varoquaux\n",
    "# Modified for documentation by Jaques Grobler\n",
    "# License: BSD 3 clause\n",
    "\n",
    "import numpy as np\n",
    "import matplotlib.pyplot as plt\n",
    "# Though the following import is not directly being used, it is required\n",
    "# for 3D projection to work\n",
    "from mpl_toolkits.mplot3d import Axes3D\n",
    "\n",
    "# import KMeans from cluster module\n",
    "from sklearn.cluster import KMeans\n",
    "\n",
    "# import datasets included in sklearn\n",
    "from sklearn import datasets\n",
    "\n",
    "# this seeds our PRNG so our random numbers\n",
    "# aren't random\n",
<<<<<<< HEAD
    "# to make results deterministic\n",
    "\n",
    "np.random.seed(5)  # -> will get random vals based on each other, but will get the same random nums, start in same part of the cycle\n",
=======
    "np.random.seed(5)\n",
>>>>>>> 9bcb85082bee3521929bbc33123fdb6b165afb33
    "\n",
    "# loads the Iris dataset\n",
    "iris = datasets.load_iris()\n",
    "X = iris.data\n",
    "y = iris.target\n",
    "\n",
    "# we're going to run 3 different versions of our KMeans\n",
    "# one with 8 clusters\n",
    "# one with 3 clusters\n",
    "# one with 1 to 3 clusters initialized randomly and \n",
    "# meant to try a few different numbers and pick the best\n",
    "estimators = [('k_means_iris_8', KMeans(n_clusters=8)),\n",
    "              ('k_means_iris_3', KMeans(n_clusters=3)),\n",
    "              ('k_means_iris_bad_init', KMeans(n_clusters=3, n_init=1,\n",
    "                                               init='random'))]\n",
    "\n",
    "# Now we set up a chart for our results\n",
    "# we'll make 3 for each run of our KMeans algorithm\n",
    "fignum = 1\n",
    "titles = ['8 clusters', '3 clusters', '3 clusters, bad initialization']\n",
    "for name, est in estimators:\n",
    "    fig = plt.figure(fignum, figsize=(4, 3))\n",
    "    ax = Axes3D(fig, rect=[0, 0, .95, 1], elev=48, azim=134)\n",
    "    est.fit(X)\n",
    "    labels = est.labels_\n",
    "\n",
    "    ax.scatter(X[:, 3], X[:, 0], X[:, 2],\n",
    "               c=labels.astype(float), edgecolor='k')\n",
    "\n",
    "    ax.w_xaxis.set_ticklabels([])\n",
    "    ax.w_yaxis.set_ticklabels([])\n",
    "    ax.w_zaxis.set_ticklabels([])\n",
    "    ax.set_xlabel('Petal width')\n",
    "    ax.set_ylabel('Sepal length')\n",
    "    ax.set_zlabel('Petal length')\n",
    "    ax.set_title(titles[fignum - 1])\n",
    "    ax.dist = 12\n",
    "    fignum = fignum + 1\n",
    "\n",
    "# Plot the real clustering\n",
    "fig = plt.figure(fignum, figsize=(4, 3))\n",
    "ax = Axes3D(fig, rect=[0, 0, .95, 1], elev=48, azim=134)\n",
    "\n",
    "for name, label in [('Setosa', 0),\n",
    "                    ('Versicolour', 1),\n",
    "                    ('Virginica', 2)]:\n",
    "    ax.text3D(X[y == label, 3].mean(),\n",
    "              X[y == label, 0].mean(),\n",
    "              X[y == label, 2].mean() + 2, name,\n",
    "              horizontalalignment='center',\n",
    "              bbox=dict(alpha=.2, edgecolor='w', facecolor='w'))\n",
    "# Reorder the labels to have colors matching the cluster results\n",
    "y = np.choose(y, [1, 2, 0]).astype(float)\n",
    "ax.scatter(X[:, 3], X[:, 0], X[:, 2], c=y, edgecolor='k')\n",
    "\n",
    "ax.w_xaxis.set_ticklabels([])\n",
    "ax.w_yaxis.set_ticklabels([])\n",
    "ax.w_zaxis.set_ticklabels([])\n",
    "ax.set_xlabel('Petal width')\n",
    "ax.set_ylabel('Sepal length')\n",
    "ax.set_zlabel('Petal length')\n",
    "ax.set_title('Ground Truth')\n",
    "ax.dist = 12\n",
    "\n",
    "fig.show()"
   ]
  },
  {
   "cell_type": "markdown",
<<<<<<< HEAD
=======
   "id": "welsh-pittsburgh",
>>>>>>> 9bcb85082bee3521929bbc33123fdb6b165afb33
   "metadata": {},
   "source": [
    "<div style=\"background: #000;\n",
    "            color: #FFF;\n",
    "            margin: 0px;\n",
    "            padding: 10px 0px 20px 0px;\n",
    "            text-align: center; \n",
    "                \">\n",
    "    <h1>Videos</h1>\n",
    "</div>"
   ]
  },
  {
   "cell_type": "markdown",
<<<<<<< HEAD
=======
   "id": "proper-adaptation",
>>>>>>> 9bcb85082bee3521929bbc33123fdb6b165afb33
   "metadata": {},
   "source": [
    "Logistic Regression:  \n",
    "https://www.youtube.com/watch?v=yIYKR4sgzI8\n",
    "\n",
    "KMeans Clustering\n",
    "https://www.youtube.com/watch?v=4b5d3muPQmA\n",
    "\n",
    "Cross-Validation:  \n",
    "https://www.youtube.com/watch?v=fSytzGwwBVw\n",
    "\n",
    "The Confusion Matrix:  \n",
    "https://www.youtube.com/watch?v=Kdsp6soqA7o"
   ]
  },
  {
   "cell_type": "code",
   "execution_count": null,
<<<<<<< HEAD
=======
   "id": "distinct-suite",
>>>>>>> 9bcb85082bee3521929bbc33123fdb6b165afb33
   "metadata": {},
   "outputs": [],
   "source": []
  }
 ],
 "metadata": {
  "kernelspec": {
   "display_name": "Python 3",
   "language": "python",
   "name": "python3"
  },
  "language_info": {
   "codemirror_mode": {
    "name": "ipython",
    "version": 3
   },
   "file_extension": ".py",
   "mimetype": "text/x-python",
   "name": "python",
   "nbconvert_exporter": "python",
   "pygments_lexer": "ipython3",
<<<<<<< HEAD
   "version": "3.8.8"
=======
   "version": "3.9.1"
>>>>>>> 9bcb85082bee3521929bbc33123fdb6b165afb33
  }
 },
 "nbformat": 4,
 "nbformat_minor": 5
}
