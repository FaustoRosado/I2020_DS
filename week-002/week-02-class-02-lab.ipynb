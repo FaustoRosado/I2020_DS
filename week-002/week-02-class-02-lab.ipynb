{
 "cells": [
  {
   "cell_type": "markdown",
   "metadata": {},
   "source": [
    "<div style=\"background: #000;\n",
    "            color: #FFF;\n",
    "            margin: 0px;\n",
    "                padding: 10px 0px 20px 0px;\n",
    "            text-align: center; \n",
    "                \">\n",
    "    <h1>Week 2 Class 2 Lab</h1>\n",
    "</div>"
   ]
  },
  {
   "cell_type": "markdown",
   "metadata": {},
   "source": [
    "# Question 1\n",
    "\n",
    "In your own words, explain the difference between lists and tuples. Explain a situation where it may be useful to use tuples instead of lists.\n",
    "\n",
    "With python lists, the data in it can be changed and other values added to it. With a tuple the data can not be changed and no other values can be added. \n",
    "\n",
    "It might be useful to use a tuple in code base so that the code won't changed fixed data, pass it around without worrying about the data in it changing. Lists contain ordered values and have many methods that can be run on the elements, tuples are essentially write-protected data. Lists are good when data needs to be indexed, changed or sliced over, they can extend or shrink when they are used."
   ]
  },
  {
   "cell_type": "markdown",
   "metadata": {},
   "source": [
    "# Exercise 1\n",
    "\n",
    "Create a tuple with four values (ints or strings) or  in it. Unpack the tuple into four variables. Create a list with those four values. Turn the list into a string. Add that to the end of a separate string (create whatever you'd like). Now make a tuple  from  that string and output one element from it.\n",
    "\n",
    "Follow each step as described. Show all your work in python statements. "
   ]
  },
  {
   "cell_type": "code",
   "execution_count": 1,
   "metadata": {},
   "outputs": [
    {
     "data": {
      "text/plain": [
       "('s', 't', 'r', 'i', 'n', 'g')"
      ]
     },
     "execution_count": 1,
     "metadata": {},
     "output_type": "execute_result"
    }
   ],
   "source": [
    "tuple(\"string\")\n",
    "\n",
    "#data = (0,1,2,3)\n",
    "#a,b,c,d = data\n",
    "#print(a)\n",
    "#print(b)\n",
    "#print(c)\n",
    "#print(d)\n",
    "\n",
    "#list = [a,b,c,d]\n",
    "#print(list)\n",
    "#string = [str(x) for x in list]\n",
    "#print(string)\n",
    "#second_str = \"\"\n"
   ]
  },
  {
   "cell_type": "code",
   "execution_count": 2,
   "metadata": {},
   "outputs": [
    {
     "name": "stdout",
     "output_type": "stream",
     "text": [
      "('0', '1', '2', '3')\n"
     ]
    }
   ],
   "source": [
    "# create the tuple\n",
    "tup1 = ('0','1','2','3')\n",
    "print(tup1)"
   ]
  },
  {
   "cell_type": "code",
   "execution_count": 3,
   "metadata": {},
   "outputs": [
    {
     "name": "stdout",
     "output_type": "stream",
     "text": [
      "0 1 2 3\n"
     ]
    }
   ],
   "source": [
    "# Unpack tuple into four variables\n",
    "a,b,c,d = tup1\n",
    "print(a,b,c,d)\n"
   ]
  },
  {
   "cell_type": "code",
   "execution_count": 4,
   "metadata": {},
   "outputs": [],
   "source": [
    "# Create a list with those for vals"
   ]
  },
  {
   "cell_type": "code",
   "execution_count": 5,
   "metadata": {
    "scrolled": true
   },
   "outputs": [
    {
     "name": "stdout",
     "output_type": "stream",
     "text": [
      "['0', '1', '2', '3']\n"
     ]
    }
   ],
   "source": [
    "l = [a,b,c,d]\n",
    "print(l)"
   ]
  },
  {
   "cell_type": "code",
   "execution_count": 6,
   "metadata": {},
   "outputs": [
    {
     "name": "stdout",
     "output_type": "stream",
     "text": [
      "0123\n"
     ]
    }
   ],
   "source": [
    "# List --> string\n",
    "s = ''.join(l)\n",
    "print(s)"
   ]
  },
  {
   "cell_type": "code",
   "execution_count": 7,
   "metadata": {},
   "outputs": [
    {
     "name": "stdout",
     "output_type": "stream",
     "text": [
      "python0123\n"
     ]
    }
   ],
   "source": [
    "# Add string to end of a new string\n",
    "#print(s)\n",
    "t = 'python'\n",
    "u = ''.join([t,s])\n",
    "print(u)\n"
   ]
  },
  {
   "cell_type": "code",
   "execution_count": 8,
   "metadata": {},
   "outputs": [
    {
     "name": "stdout",
     "output_type": "stream",
     "text": [
      "('p', 'y', 't', 'h', 'o', 'n', '0', '1', '2', '3')\n",
      "3\n"
     ]
    }
   ],
   "source": [
    "# Make a tuple from concatenated string and print an element\n",
    "tup2 = tuple(u)\n",
    "print(tup2)\n",
    "print(tup2[-1])"
   ]
  },
  {
   "cell_type": "markdown",
   "metadata": {},
   "source": [
    "# Exercise 2\n",
    "\n",
    "Given the following list. Use list indexing and operations to normalize the data so all values are floats.\n",
    "\n",
    "Convert alphabetical characters to their ordinal value."
   ]
  },
  {
   "cell_type": "code",
   "execution_count": 21,
   "metadata": {},
   "outputs": [
    {
     "name": "stdout",
     "output_type": "stream",
     "text": [
      "97\n",
      "97.0\n",
      "(23.0, 95.0, 4.0, 718.0, 9.0, 35.0, 97, 40.0)\n",
      "(23.0, 95.0, 4.0, 718.0, 9.0, 35.0, 97.0, 40.0)\n"
     ]
    }
   ],
   "source": [
    "a = ['23', 95, '4', 0x2ce, 9, '35', 'a', 40.0,]\n",
    "print(ord(a[6]))\n",
    "print(float(ord(a[6])))\n",
    "\n",
    "b = float(a[0]), float(a[1]), float(a[2]), float(a[3]), float(a[4]), float(a[5]), ord(a[6]), a[7]\n",
    "print(b)\n",
    "\n",
    "c = float(a[0]), float(a[1]), float(a[2]), float(a[3]), float(a[4]), float(a[5]), float(ord(a[6])), a[7]\n",
    "print(c)\n"
   ]
  },
  {
   "cell_type": "markdown",
   "metadata": {},
   "source": [
    "# Exercise 3\n",
    "\n",
    "We would like to use a list as a queue. A queue in computer science is a structure that operates using FIFO (first in first out). As entries come in, they're added/inserted to the back of the queue. When the code processing the entries is ready for a new entry, it pulls/removes from the front of the queue. Similar to how lines at a supermarket work.\n",
    "\n",
    "Create an empty list to represent our queue. What list operation would allow us to add new entries at the back of the queue. What list operation would remove the first entry on the list? Write python code that creates an empty 'queue', add entries to the queue, and pulls from the front of the queue. \n",
    "\n",
    "Show these steps in a series of python statements. (No need to create a function or do anything we haven't covered in depth.)"
   ]
  },
  {
   "cell_type": "code",
   "execution_count": 55,
   "metadata": {},
   "outputs": [],
   "source": [
    "q = []      # empty queue"
   ]
  },
  {
   "cell_type": "code",
   "execution_count": 56,
   "metadata": {},
   "outputs": [
    {
     "name": "stdout",
     "output_type": "stream",
     "text": [
      "[5, 6, 7, 8, 9]\n"
     ]
    }
   ],
   "source": [
    "q.append(5) # add elements to the queue\n",
    "q.append(6)\n",
    "q.append(7)\n",
    "q.append(8)\n",
    "q.append(9)\n",
    "print(q)"
   ]
  },
  {
   "cell_type": "code",
   "execution_count": 57,
   "metadata": {},
   "outputs": [
    {
     "data": {
      "text/plain": [
       "5"
      ]
     },
     "execution_count": 57,
     "metadata": {},
     "output_type": "execute_result"
    }
   ],
   "source": [
    "q.pop(0)    # pop the first element of the queue"
   ]
  }
 ],
 "metadata": {
  "kernelspec": {
   "display_name": "Python 3",
   "language": "python",
   "name": "python3"
  },
  "language_info": {
   "codemirror_mode": {
    "name": "ipython",
    "version": 3
   },
   "file_extension": ".py",
   "mimetype": "text/x-python",
   "name": "python",
   "nbconvert_exporter": "python",
   "pygments_lexer": "ipython3",
   "version": "3.8.5"
  }
 },
 "nbformat": 4,
 "nbformat_minor": 4
}
