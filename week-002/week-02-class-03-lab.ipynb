{
 "cells": [
  {
   "cell_type": "markdown",
   "metadata": {},
   "source": [
    "<div style=\"background: #000;\n",
    "            color: #FFF;\n",
    "            margin: 0px;\n",
    "                padding: 10px 0px 20px 0px;\n",
    "            text-align: center; \n",
    "                \">\n",
    "    <h1>Week 2 Class 3 Lab</h1>\n",
    "</div>"
   ]
  },
  {
   "cell_type": "markdown",
   "metadata": {},
   "source": [
    "# Question 1\n",
    "\n",
    "When might you use a dictionary? Why? Explain in your own words\n",
    "\n",
    "Dictionaries are unordered pairs, and used to create a map of unique keys to values. One would use a dictionary if you wanted to access specific values by the key. So instead of looping over a list for a value, can access that specific data by referencing it directly. The keys are unique, once we add the key-val pair, value can change but not the key."
   ]
  },
  {
   "cell_type": "markdown",
   "metadata": {},
   "source": [
    "# Question 2\n",
    "\n",
    "When might you use a set? Why? Explain in your own words.\n",
    "\n",
    "Sets in python are unordered, immutable and have no duplicates. Unlike a list, a benefit is that we can check if a specific element is in the set. The order of the elements change frequently. It is relatively quick to check for unique values, one would create a set to not have duplicate values: to see if a val exists without care for order, basic membership."
   ]
  },
  {
   "cell_type": "markdown",
   "metadata": {},
   "source": [
    "# Exercise 1 \n",
    "\n",
    "Create a dictionary and populate it with keys from 0 to 9 and a default value of \"None\". Then set the values of all keys divisible by 2 to be the value times itself. "
   ]
  },
  {
   "cell_type": "code",
   "execution_count": 95,
   "metadata": {},
   "outputs": [],
   "source": [
    "dictionary = {}"
   ]
  },
  {
   "cell_type": "code",
   "execution_count": 96,
   "metadata": {},
   "outputs": [
    {
     "name": "stdout",
     "output_type": "stream",
     "text": [
      "{0: None}\n",
      "{0: None, 1: None}\n",
      "{0: None, 1: None, 2: None}\n",
      "{0: None, 1: None, 2: None, 3: None}\n",
      "{0: None, 1: None, 2: None, 3: None, 4: None}\n",
      "{0: None, 1: None, 2: None, 3: None, 4: None, 5: None}\n",
      "{0: None, 1: None, 2: None, 3: None, 4: None, 5: None, 6: None}\n",
      "{0: None, 1: None, 2: None, 3: None, 4: None, 5: None, 6: None, 7: None}\n",
      "{0: None, 1: None, 2: None, 3: None, 4: None, 5: None, 6: None, 7: None, 8: None}\n",
      "{0: None, 1: None, 2: None, 3: None, 4: None, 5: None, 6: None, 7: None, 8: None, 9: None}\n"
     ]
    }
   ],
   "source": [
    "for i in range(10):                 \n",
    "    dictionary.setdefault(i, None)      # 2nd argument makes the default value None\n",
    "    print(dictionary)"
   ]
  },
  {
   "cell_type": "code",
   "execution_count": 97,
   "metadata": {},
   "outputs": [
    {
     "name": "stdout",
     "output_type": "stream",
     "text": [
      "{0: 0, 1: None, 2: 2, 3: None, 4: 4, 5: None, 6: 6, 7: None, 8: 8, 9: None}\n"
     ]
    }
   ],
   "source": [
    "for i in range(10):\n",
    "    \n",
    "    if i % 2 == 0:\n",
    "    #if i % 2 != 0:    \n",
    "    #if not i % 2:\n",
    "       dictionary[i] = i\n",
    "print(dictionary)\n",
    "    \n",
    "       \n"
   ]
  },
  {
   "cell_type": "markdown",
   "metadata": {},
   "source": [
    "# Exercise 2\n",
    "\n",
    "Given a list of words and utilizing set methods print the words that can be typed using letters of alphabet on only one row's of the (American) keyboard. You may use one character in the keyboard more than once. \n",
    "\n",
    " "
   ]
  },
  {
   "cell_type": "code",
   "execution_count": 98,
   "metadata": {},
   "outputs": [
    {
     "name": "stdout",
     "output_type": "stream",
     "text": [
      "type\n",
      "router\n",
      "top\n",
      "rower\n"
     ]
    }
   ],
   "source": [
    "words = ['type', 'router', 'pine', 'dash', 'top', 'rower', 'freedom']\n",
    "querty= set('qwertyuiop')\n",
    "asdf = set('asdfghjkl')\n",
    "zxcv = set('zxcvbnm')\n",
    "\n",
    "for i in words:\n",
    "    new_set = set(i)\n",
    "    \n",
    "    if new_set.issubset(querty):\n",
    "        print(i)\n",
    "        \n",
    "    #if new_set.issubset(asdf):\n",
    "        #print(i)\n",
    "      \n",
    "    #if new_set.issubset(zxcv):\n",
    "        #print(i)"
   ]
  },
  {
   "cell_type": "markdown",
   "metadata": {},
   "source": [
    "# Exercise 3\n",
    "\n",
    "Given a list of students, find the students who favorite colors are the same utitlizng set methods. Print the name of the students who share similar tastes in colors. "
   ]
  },
  {
   "cell_type": "code",
   "execution_count": 62,
   "metadata": {},
   "outputs": [],
   "source": [
    "students = [{\"name\":\"Rob\",\"student_id\": 115, \"favorite_colors\":{\"red\",\"green\"}},{\"name\":\"Clara\",\"student_id\": 15, \"favorite_colors\":{\"blue\",\"red\",\"green\"}}, {\"name\":\"Sally\",\"student_id\": 21, \"favorite_colors\":{\"black\"}}, {\"name\":\"Jim\",\"student_id\": 33, \"favorite_colors\":{\"blue\",\"green\"}}]\n"
   ]
  },
  {
   "cell_type": "code",
   "execution_count": 63,
   "metadata": {},
   "outputs": [
    {
     "name": "stdout",
     "output_type": "stream",
     "text": [
      "{'name': 'Rob', 'student_id': 115, 'favorite_colors': {'red', 'green'}}\n",
      "{'name': 'Clara', 'student_id': 15, 'favorite_colors': {'green', 'red', 'blue'}}\n",
      "{'name': 'Sally', 'student_id': 21, 'favorite_colors': {'black'}}\n",
      "{'name': 'Jim', 'student_id': 33, 'favorite_colors': {'green', 'blue'}}\n"
     ]
    }
   ],
   "source": [
    "for s in students:\n",
    "    print(s)"
   ]
  },
  {
   "cell_type": "code",
   "execution_count": 82,
   "metadata": {},
   "outputs": [
    {
     "name": "stdout",
     "output_type": "stream",
     "text": [
      "{'blue': []}\n",
      "{'blue': ['Clara', 'Jim', 'Clara', 'Jim', 'Clara', 'Jim']}\n",
      "{'blue': ['Clara', 'Jim', 'Clara', 'Jim', 'Clara', 'Jim', 'Clara']}\n",
      "{'blue': ['Clara', 'Jim', 'Clara', 'Jim', 'Clara', 'Jim', 'Clara']}\n",
      "{'blue': ['Clara', 'Jim', 'Clara', 'Jim', 'Clara', 'Jim', 'Clara', 'Jim']}\n",
      "{'red': ['Rob has these colors in common', 'Clara has these colors in common']}\n",
      "{'green': ['Rob has these colors in common', 'Clara has these colors in common', 'Jim has these colors in common']}\n",
      "{'black': ['Sally has these colors in common']}\n",
      "{'blue': ['Clara has these colors in common', 'Jim has these colors in common']}\n"
     ]
    }
   ],
   "source": [
    "for c in student_colors:\n",
    "    dictionary = {c: []}\n",
    "print(dictionary)\n",
    "\n",
    "for s in students:\n",
    "        if c in s['favorite_colors']:\n",
    "            dict_colors[c].append(s['name'])\n",
    "        print(dict_colors)\n",
    "\n",
    "student_colors = set()\n",
    "\n",
    "for s in students:\n",
    "    student_colors = student_colors.union(s['favorite_colors'])\n",
    "    \n",
    "for c in student_colors:\n",
    "    dictionary = {c: []}\n",
    "    \n",
    "    for s in students:\n",
    "        if c in s['favorite_colors']:\n",
    "            dictionary[c].append(s['name'] + ' has these colors in common')\n",
    "    print(dictionary)\n",
    "    \n",
    "#print(student_colors)"
   ]
  }
 ],
 "metadata": {
  "kernelspec": {
   "display_name": "Python 3",
   "language": "python",
   "name": "python3"
  },
  "language_info": {
   "codemirror_mode": {
    "name": "ipython",
    "version": 3
   },
   "file_extension": ".py",
   "mimetype": "text/x-python",
   "name": "python",
   "nbconvert_exporter": "python",
   "pygments_lexer": "ipython3",
   "version": "3.8.5"
  }
 },
 "nbformat": 4,
 "nbformat_minor": 4
}
