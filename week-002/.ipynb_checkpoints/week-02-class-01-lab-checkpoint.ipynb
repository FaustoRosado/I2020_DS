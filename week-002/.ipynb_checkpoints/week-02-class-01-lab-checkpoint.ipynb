{
 "cells": [
  {
   "cell_type": "markdown",
   "metadata": {},
   "source": [
    "<div style=\"background: #000;\n",
    "            color: #FFF;\n",
    "            margin: 0px;\n",
    "                padding: 10px 0px 20px 0px;\n",
    "            text-align: center; \n",
    "                \">\n",
    "    <h1>Week 02 Class 01 Lab</h1>\n",
    "</div>"
   ]
  },
  {
   "cell_type": "markdown",
   "metadata": {},
   "source": [
    "###### Question 1\n",
    "\n",
    "In your own words, explain what data structures are. Then name one python data type and explain what sort of problem might require it. "
   ]
  },
  {
   "cell_type": "markdown",
   "metadata": {},
   "source": [
    "# Exercise 1\n",
    "\n",
    "Using the list below, answer the following questions."
   ]
  },
  {
   "cell_type": "code",
   "execution_count": 1,
   "metadata": {},
   "outputs": [
    {
     "name": "stdout",
     "output_type": "stream",
     "text": [
      "[[1, 2, 3], [4, 5, 6], [7, 8, 9]]\n",
      "[[10, 11, 12], [13, 14, 15], [16, 17, 18]]\n",
      "[[19, 20, 21], [22, 23, 24], [25, 26, 27]]\n"
     ]
    }
   ],
   "source": [
    "l = [[[1,2,3], [4,5,6],[7,8,9]],[[10,11,12], [13,14,15],[16,17,18]],[[19,20,21], [22,23,24],[25,26,27]]]\n",
    "for i in l:\n",
    "    print(i) "
   ]
  },
  {
   "cell_type": "markdown",
   "metadata": {},
   "source": [
    "a. What index gives you the number 15? "
   ]
  },
  {
   "cell_type": "code",
   "execution_count": 2,
   "metadata": {},
   "outputs": [
    {
     "data": {
      "text/plain": [
       "15"
      ]
     },
     "execution_count": 2,
     "metadata": {},
     "output_type": "execute_result"
    }
   ],
   "source": [
    "l[1][1][2]"
   ]
  },
  {
   "cell_type": "markdown",
   "metadata": {},
   "source": [
    " b. Use `del` to delete all numbers divisible by 2, 3, 4 and 5. Print the list.  "
   ]
  },
  {
   "cell_type": "code",
   "execution_count": 3,
   "metadata": {},
   "outputs": [
    {
     "name": "stdout",
     "output_type": "stream",
     "text": [
      "[[1, 3], [4, 5, 6], [7, 8, 9]]\n",
      "[[10, 11, 12], [13, 14, 15], [16, 17, 18]]\n",
      "[[19, 20, 21], [22, 23, 24], [25, 26, 27]]\n"
     ]
    }
   ],
   "source": [
    "del l[0][0][1]\n",
    "#for i in l:\n",
    "    #print(i) \n"
   ]
  },
  {
   "cell_type": "code",
   "execution_count": 4,
   "metadata": {},
   "outputs": [
    {
     "name": "stdout",
     "output_type": "stream",
     "text": [
      "[[1], [4, 5, 6], [7, 8, 9]]\n",
      "[[10, 11, 12], [13, 14, 15], [16, 17, 18]]\n",
      "[[19, 20, 21], [22, 23, 24], [25, 26, 27]]\n"
     ]
    }
   ],
   "source": [
    "del l[0][0][1]\n",
    "#for i in l:\n",
    "    #print(i) "
   ]
  },
  {
   "cell_type": "code",
   "execution_count": 5,
   "metadata": {},
   "outputs": [
    {
     "name": "stdout",
     "output_type": "stream",
     "text": [
      "[[1], [5, 6], [7, 8, 9]]\n",
      "[[10, 11, 12], [13, 14, 15], [16, 17, 18]]\n",
      "[[19, 20, 21], [22, 23, 24], [25, 26, 27]]\n"
     ]
    }
   ],
   "source": [
    "del l[0][1][0]\n",
    "#for i in l:\n",
    "    #print(i) "
   ]
  },
  {
   "cell_type": "code",
   "execution_count": 6,
   "metadata": {},
   "outputs": [
    {
     "name": "stdout",
     "output_type": "stream",
     "text": [
      "[[1], [6], [7, 8, 9]]\n",
      "[[10, 11, 12], [13, 14, 15], [16, 17, 18]]\n",
      "[[19, 20, 21], [22, 23, 24], [25, 26, 27]]\n"
     ]
    }
   ],
   "source": [
    "del l[0][1][0]\n",
    "#for i in l:\n",
    "    #print(i) "
   ]
  },
  {
   "cell_type": "code",
   "execution_count": 7,
   "metadata": {},
   "outputs": [
    {
     "name": "stdout",
     "output_type": "stream",
     "text": [
      "[[1], [], [7, 8, 9]]\n",
      "[[10, 11, 12], [13, 14, 15], [16, 17, 18]]\n",
      "[[19, 20, 21], [22, 23, 24], [25, 26, 27]]\n"
     ]
    }
   ],
   "source": [
    "del l[0][1][0]\n",
    "#for i in l:\n",
    "    #print(i) "
   ]
  },
  {
   "cell_type": "code",
   "execution_count": 8,
   "metadata": {},
   "outputs": [
    {
     "name": "stdout",
     "output_type": "stream",
     "text": [
      "[[1], [], [7, 9]]\n",
      "[[10, 11, 12], [13, 14, 15], [16, 17, 18]]\n",
      "[[19, 20, 21], [22, 23, 24], [25, 26, 27]]\n"
     ]
    }
   ],
   "source": [
    "del l[0][2][1]\n",
    "#for i in l:\n",
    "    #print(i) "
   ]
  },
  {
   "cell_type": "code",
   "execution_count": 9,
   "metadata": {},
   "outputs": [
    {
     "name": "stdout",
     "output_type": "stream",
     "text": [
      "[[1], [], [7]]\n",
      "[[10, 11, 12], [13, 14, 15], [16, 17, 18]]\n",
      "[[19, 20, 21], [22, 23, 24], [25, 26, 27]]\n"
     ]
    }
   ],
   "source": [
    "del l[0][2][1]\n",
    "#for i in l:\n",
    "    #print(i) "
   ]
  },
  {
   "cell_type": "code",
   "execution_count": 10,
   "metadata": {},
   "outputs": [
    {
     "name": "stdout",
     "output_type": "stream",
     "text": [
      "[[1], [], [7]]\n",
      "[[11, 12], [13, 14, 15], [16, 17, 18]]\n",
      "[[19, 20, 21], [22, 23, 24], [25, 26, 27]]\n"
     ]
    }
   ],
   "source": [
    "del l[1][0][0]\n",
    "#for i in l:\n",
    "    #print(i) "
   ]
  },
  {
   "cell_type": "code",
   "execution_count": 11,
   "metadata": {},
   "outputs": [
    {
     "name": "stdout",
     "output_type": "stream",
     "text": [
      "[[1], [], [7]]\n",
      "[[11], [13, 14, 15], [16, 17, 18]]\n",
      "[[19, 20, 21], [22, 23, 24], [25, 26, 27]]\n"
     ]
    }
   ],
   "source": [
    "del l[1][0][1]\n",
    "#for i in l:\n",
    "    #print(i) "
   ]
  },
  {
   "cell_type": "code",
   "execution_count": 12,
   "metadata": {},
   "outputs": [
    {
     "name": "stdout",
     "output_type": "stream",
     "text": [
      "[[1], [], [7]]\n",
      "[[11], [13, 15], [16, 17, 18]]\n",
      "[[19, 20, 21], [22, 23, 24], [25, 26, 27]]\n"
     ]
    }
   ],
   "source": [
    "del l[1][1][1]\n",
    "#for i in l:\n",
    "    #print(i) "
   ]
  },
  {
   "cell_type": "code",
   "execution_count": 13,
   "metadata": {},
   "outputs": [
    {
     "name": "stdout",
     "output_type": "stream",
     "text": [
      "[[1], [], [7]]\n",
      "[[11], [13], [16, 17, 18]]\n",
      "[[19, 20, 21], [22, 23, 24], [25, 26, 27]]\n"
     ]
    }
   ],
   "source": [
    "del l[1][1][1]\n",
    "#for i in l:\n",
    "    #print(i) "
   ]
  },
  {
   "cell_type": "code",
   "execution_count": 14,
   "metadata": {},
   "outputs": [
    {
     "name": "stdout",
     "output_type": "stream",
     "text": [
      "[[1], [], [7]]\n",
      "[[11], [13], [17, 18]]\n",
      "[[19, 20, 21], [22, 23, 24], [25, 26, 27]]\n"
     ]
    }
   ],
   "source": [
    "del l[1][2][0]\n",
    "#for i in l:\n",
    "    #print(i) "
   ]
  },
  {
   "cell_type": "code",
   "execution_count": 15,
   "metadata": {},
   "outputs": [
    {
     "name": "stdout",
     "output_type": "stream",
     "text": [
      "[[1], [], [7]]\n",
      "[[11], [13], [17]]\n",
      "[[19, 20, 21], [22, 23, 24], [25, 26, 27]]\n"
     ]
    }
   ],
   "source": [
    "del l[1][2][1]\n",
    "#for i in l:\n",
    "    #print(i) "
   ]
  },
  {
   "cell_type": "markdown",
   "metadata": {},
   "source": [
    "c. Create a new 1 x 7 list with the numbers remaining from `l`.\n",
    "Declare new list"
   ]
  },
  {
   "cell_type": "code",
   "execution_count": 16,
   "metadata": {},
   "outputs": [
    {
     "name": "stdout",
     "output_type": "stream",
     "text": [
      "[[1], [], [7]]\n",
      "[[11], [13], [17]]\n",
      "[[19, 21], [22, 23, 24], [25, 26, 27]]\n"
     ]
    }
   ],
   "source": [
    "del l[2][0][1]\n",
    "#for i in l:\n",
    "    #print(i) "
   ]
  },
  {
   "cell_type": "code",
   "execution_count": 17,
   "metadata": {},
   "outputs": [
    {
     "name": "stdout",
     "output_type": "stream",
     "text": [
      "[[1], [], [7]]\n",
      "[[11], [13], [17]]\n",
      "[[19], [22, 23, 24], [25, 26, 27]]\n"
     ]
    }
   ],
   "source": [
    "del l[2][0][1]\n",
    "#for i in l:\n",
    "    #print(i) "
   ]
  },
  {
   "cell_type": "code",
   "execution_count": 18,
   "metadata": {},
   "outputs": [
    {
     "name": "stdout",
     "output_type": "stream",
     "text": [
      "[[1], [], [7]]\n",
      "[[11], [13], [17]]\n",
      "[[19], [23, 24], [25, 26, 27]]\n"
     ]
    }
   ],
   "source": [
    "del l[2][1][0]\n",
    "#for i in l:\n",
    "    #print(i) "
   ]
  },
  {
   "cell_type": "code",
   "execution_count": 19,
   "metadata": {},
   "outputs": [
    {
     "name": "stdout",
     "output_type": "stream",
     "text": [
      "[[1], [], [7]]\n",
      "[[11], [13], [17]]\n",
      "[[19], [23], [25, 26, 27]]\n"
     ]
    }
   ],
   "source": [
    "del l[2][1][1]\n",
    "#for i in l:\n",
    "    #print(i) "
   ]
  },
  {
   "cell_type": "code",
   "execution_count": 20,
   "metadata": {},
   "outputs": [
    {
     "name": "stdout",
     "output_type": "stream",
     "text": [
      "[[1], [], [7]]\n",
      "[[11], [13], [17]]\n",
      "[[19], [23], [26, 27]]\n"
     ]
    }
   ],
   "source": [
    "del l[2][2][0]\n",
    "#for i in l:\n",
    "    #print(i) "
   ]
  },
  {
   "cell_type": "code",
   "execution_count": 21,
   "metadata": {},
   "outputs": [
    {
     "name": "stdout",
     "output_type": "stream",
     "text": [
      "[[1], [], [7]]\n",
      "[[11], [13], [17]]\n",
      "[[19], [23], [27]]\n"
     ]
    }
   ],
   "source": [
    "del l[2][2][0]\n",
    "#for i in l:\n",
    "    #print(i) "
   ]
  },
  {
   "cell_type": "code",
   "execution_count": 22,
   "metadata": {
    "scrolled": true
   },
   "outputs": [
    {
     "name": "stdout",
     "output_type": "stream",
     "text": [
      "[[1], [], [7]]\n",
      "[[11], [13], [17]]\n",
      "[[19], [23], []]\n"
     ]
    }
   ],
   "source": [
    "del l[2][2][0]\n",
    "#for i in l:\n",
    "    #print(i) "
   ]
  },
  {
   "cell_type": "code",
   "execution_count": 25,
   "metadata": {
    "scrolled": true
   },
   "outputs": [
    {
     "name": "stdout",
     "output_type": "stream",
     "text": [
      "[[[1], [], [7]], [[11], [13], [17]], [[19], [23], []]]\n"
     ]
    }
   ],
   "source": [
    "print(l)"
   ]
  },
  {
   "cell_type": "code",
   "execution_count": 27,
   "metadata": {},
   "outputs": [
    {
     "name": "stdout",
     "output_type": "stream",
     "text": [
      "[[1], [7], [11], [13], [17], [19], [23]]\n"
     ]
    }
   ],
   "source": [
    "lis = [ [1], [7], [11], [13], [17], [19], [23] ]\n",
    "print(lis)"
   ]
  },
  {
   "cell_type": "markdown",
   "metadata": {},
   "source": [
    "# Exercise 2\n",
    "\n",
    "Using only the following string, use string methods/slices/indexing to produce the following quote from the late Justice Ruth Bader Ginsberg:\n",
    "\n",
    "\"Real change, enduring change, happens one step at a time.\"\n",
    "\n",
    "hint: try splitting the string up."
   ]
  },
  {
   "cell_type": "code",
   "execution_count": 31,
   "metadata": {},
   "outputs": [],
   "source": [
    "string = 'stepataenduringrealdemocracyblmchange,progresschangefreedomonetimehappens,equalityjustice'"
   ]
  },
  {
   "cell_type": "code",
   "execution_count": 75,
   "metadata": {},
   "outputs": [
    {
     "name": "stdout",
     "output_type": "stream",
     "text": [
      "Real change, enduring change, happens one step at a time\n"
     ]
    }
   ],
   "source": [
    "\n",
    "spl = string.split(',')\n",
    "#print(cut)\n",
    "#first_phrase = ' '.join([cut[0][15:19]])\n",
    "first = ' '.join([spl[0][15:19].capitalize()])\n",
    "second =  ' '.join([spl[0][-6:]])\n",
    "third = ' '.join([spl[0][7:15]])\n",
    "fourth = ' '.join([spl[1][8:14]])\n",
    "fifth = ' '.join([spl[1][-7:]]) \n",
    "sixth = ' '.join([spl[1][21:24]])\n",
    "seventh = ' '.join([spl[0][0:4]])\n",
    "eighth = ' '.join([spl[0][4:6]])\n",
    "ninth = ' '.join([spl[0][6:7]])\n",
    "tenth = ' '.join([spl[1][24:28]])\n",
    "\n",
    "first_phrase = first + \" \" + second\n",
    "second_phrase = third + \" \"+ fourth \n",
    "third_phrase = fifth + \" \" + sixth + \" \" + seventh + \" \" + eighth + \" \" + ninth + \" \" + tenth\n",
    "\n",
    "rbg_quote = first_phrase + \", \" + second_phrase + \", \" + third_phrase\n",
    "print(rbg_quote)\n"
   ]
  },
  {
   "cell_type": "markdown",
   "metadata": {},
   "source": [
    "# Exercise 3\n",
    "\n",
    "Given the following matrix, find the determinant:\n",
    "$$\n",
    "\\begin{equation*}\n",
    "A = \n",
    "\\begin{vmatrix}\n",
    "1 & 2 & 3 \\\\\n",
    "4 & 5 & 6 \\\\\n",
    "7 & 8 & 9\n",
    "\\end{vmatrix}\n",
    "\\end{equation*}\n",
    "$$\n",
    "The determinant of a matrix is calculated as follows:\n",
    "$$\n",
    "\\begin{equation*}\n",
    "A = \n",
    "\\begin{vmatrix}\n",
    "a & b & c \\\\\n",
    "d & e & f \\\\\n",
    "g & h & i\n",
    "\\end{vmatrix}\n",
    "= a \n",
    "\\begin{vmatrix}\n",
    "e & f \\\\\n",
    "h & i \\\\\n",
    "\\end{vmatrix}\n",
    "- b\n",
    "\\begin{vmatrix}\n",
    "d & f \\\\\n",
    "g & i \\\\\n",
    "\\end{vmatrix}\n",
    "+ c\n",
    "\\begin{vmatrix}\n",
    "d & e \\\\\n",
    "g & h \\\\\n",
    "\\end{vmatrix}\n",
    "\\end{equation*}\n",
    "$$\n",
    "\n",
    "$$ \n",
    "= aei + bfg + cdh - ceg - bdi -afh\n",
    "$$\n",
    "\n",
    "Create a 3 x 3 matrix using a list. Then use list indexing to access the elements to perform your calculation. Do not use numbers not stored in your matrix to perform your calcuation"
   ]
  },
  {
   "cell_type": "code",
   "execution_count": null,
   "metadata": {},
   "outputs": [],
   "source": [
    "m = [[1,2,3],[4,5,6,],[7,8,9]]\n",
    "\n",
    "a = m[0][0]\n",
    "b = m[0][1]\n",
    "c = m[0][2]\n",
    "d = m[1][0]\n",
    "e = m[1][1]\n",
    "f = m[1][2]\n",
    "g = m[2][0]\n",
    "h = m[2][1]\n",
    "i = m[2][2]\n",
    "\n",
    "calculation = a*e*i + b*f*g + c*d*h - c*e*g - b*d*i - a*f*h\n",
    "print(calculation)\n",
    "\n"
   ]
  },
  {
   "cell_type": "markdown",
   "metadata": {},
   "source": [
    "# Bonus \n"
   ]
  },
  {
   "cell_type": "code",
   "execution_count": null,
   "metadata": {},
   "outputs": [],
   "source": []
  }
 ],
 "metadata": {
  "kernelspec": {
   "display_name": "Python 3",
   "language": "python",
   "name": "python3"
  },
  "language_info": {
   "codemirror_mode": {
    "name": "ipython",
    "version": 3
   },
   "file_extension": ".py",
   "mimetype": "text/x-python",
   "name": "python",
   "nbconvert_exporter": "python",
   "pygments_lexer": "ipython3",
   "version": "3.8.5"
  }
 },
 "nbformat": 4,
 "nbformat_minor": 4
}
